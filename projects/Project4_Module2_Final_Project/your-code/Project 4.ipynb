{
 "cells": [
  {
   "cell_type": "markdown",
   "metadata": {},
   "source": [
    "# Project 4: Big Five Personality Traits - General Population & Celebrities [Twitter]"
   ]
  },
  {
   "cell_type": "markdown",
   "metadata": {},
   "source": [
    "Ironhack: Data Part-Time: Zuzanna Orlowska "
   ]
  },
  {
   "cell_type": "markdown",
   "metadata": {},
   "source": [
    "# Notebook outline:"
   ]
  },
  {
   "cell_type": "markdown",
   "metadata": {},
   "source": [
    " <p> 1. Big Five Personality Traits - explanation </p>\n",
    " <p> 2. Hypotheses </p>\n",
    " <p> 3. Retrieving data </p>\n",
    " <p> 4. Exploring data </p>\n",
    " <p> 5. Trait-by-trait visualizations </p>\n",
    " <p> 6. Within-correlation Matrixes </p>\n",
    " <p> 7. Between-datasets correlations </p>\n",
    " <p> 8. Results </p>"
   ]
  },
  {
   "cell_type": "markdown",
   "metadata": {},
   "source": [
    "# Big Five Personality Traits: Explanation"
   ]
  },
  {
   "cell_type": "markdown",
   "metadata": {},
   "source": [
    "![alt text](../data/'bigfive.png', \"Bigfive\")"
   ]
  },
  {
   "cell_type": "markdown",
   "metadata": {},
   "source": [
    "<p>\"...The Big Five personality traits, also known as the five-factor model (FFM) and the OCEAN model, is a suggested taxonomy, or grouping, for personality traits, developed from the 1980s onwards. </p>\n",
    "\n",
    "<p>\"When factor analysis (a statistical technique) is applied to personality survey data, some words used to describe aspects of personality are often applied to the same person. </p>\n",
    "For example, someone described as conscientious is more likely to be described as \"always prepared\" rather than \"messy\".\"\n",
    "\n",
    "<p>\"This theory uses descriptors of common language and suggests five broad dimensions commonly used to describe the human personality and psyche.\"</p>\n",
    "\n",
    "<p>\"The theory identifies five factors:</p>\n",
    "\n",
    "<p>* openness to experience (inventive/curious vs. consistent/cautious)</p>\n",
    "<p>* conscientiousness (efficient/organized vs. easy-going/careless)</p>\n",
    "<p>* extroversion (outgoing/energetic vs. solitary/reserved)</p>\n",
    "<p>* agreeableness (friendly/compassionate vs. challenging/detached)</p>\n",
    "<p>* neuroticism (sensitive/nervous vs. secure/confident)\"</p>\n",
    "<p> Source: Wikipedia :) </p>"
   ]
  },
  {
   "cell_type": "markdown",
   "metadata": {},
   "source": [
    "# Big Five Personality Traits: Questions "
   ]
  },
  {
   "cell_type": "markdown",
   "metadata": {},
   "source": [
    "<p>EXT1    P   I am the life of the party.</p>\n",
    "<p>EXT2    N   I don't talk a lot.</p>\n",
    "<p>EXT3    P   I feel comfortable around people.</p>\n",
    "<p>EXT4    N   I keep in the background.</p>\n",
    "<p>EXT5    P   I start conversations.</p>\n",
    "<p>EXT6    N   I have little to say.</p>\n",
    "<p>EXT7    P   I talk to a lot of different people at parties.</p>\n",
    "<p>EXT8    N   I don't like to draw attention to myself.</p>\n",
    "<p>EXT9    P   I don't mind being the center of attention.</p>\n",
    "<p>EXT10   N   I am quiet around strangers.</p>\n",
    "<p>EST1    P   I get stressed out easily.</p>\n",
    "<p>EST2    N   I am relaxed most of the time.</p>\n",
    "<p>EST3    P   I worry about things.</p>\n",
    "<p>EST4    N   I seldom feel blue.</p>\n",
    "<p>EST5    P   I am easily disturbed.</p>\n",
    "<p>EST6    P   I get upset easily.</p>\n",
    "<p>EST7    P   I change my mood a lot.</p>\n",
    "<p>EST8    P   I have frequent mood swings.</p>\n",
    "<p>EST9    P   I get irritated easily.</p>\n",
    "<p>EST10   P   I often feel blue.</p>\n",
    "<p>AGR1    N   I feel little concern for others.</p>\n",
    "<p>AGR2    P   I am interested in people.</p>\n",
    "<p>AGR3    N   I insult people.</p>\n",
    "<p>AGR4    P   I sympathize with others' feelings.</p>\n",
    "<p>AGR5    N   I am not interested in other people's problems.</p>\n",
    "<p>AGR6    P   I have a soft heart.</p>\n",
    "<p>AGR7    N   I am not really interested in others.</p>\n",
    "<p>AGR8    P   I take time out for others.</p>\n",
    "<p>AGR9    P   I feel others' emotions.</p>\n",
    "<p>AGR10   P   I make people feel at ease.</p>\n",
    "<p>CSN1    P   I am always prepared.</p>\n",
    "<p>CSN2    N   I leave my belongings around.</p>\n",
    "<p>CSN3    P   I pay attention to details.</p>\n",
    "<p>CSN4    N   I make a mess of things.</p>\n",
    "<p>CSN5    P   I get chores done right away.</p>\n",
    "<p>CSN6    N   I often forget to put things back in their proper place.</p>\n",
    "<p>CSN7    P   I like order.</p>\n",
    "<p>CSN8    N   I shirk my duties.</p>\n",
    "<p>CSN9    P   I follow a schedule.</p>\n",
    "<p>CSN10   P   I am exacting in my work.</p>\n",
    "<p>OPN1    P   I have a rich vocabulary.</p>\n",
    "<p>OPN2    N   I have difficulty understanding abstract ideas.</p>\n",
    "<p>OPN3    P   I have a vivid imagination.</p>\n",
    "<p>OPN4    N   I am not interested in abstract ideas.</p>\n",
    "<p>OPN5    P   I have excellent ideas.</p>\n",
    "<p>OPN6    N   I do not have a good imagination.</p>\n",
    "<p>OPN7    P   I am quick to understand things.</p>\n",
    "<p>OPN8    P   I use difficult words.</p>\n",
    "<p>OPN9    P   I spend time reflecting on things.</p>\n",
    "<p>OPN10   P   I am full of ideas.</p>"
   ]
  },
  {
   "cell_type": "markdown",
   "metadata": {},
   "source": [
    "# Hypotheses:"
   ]
  },
  {
   "cell_type": "markdown",
   "metadata": {},
   "source": [
    "<p>H0 = There is no difference between big 5 testing scores in general population vs celebrities</p>\n",
    "<p>H1 = There is a significant difference between big 5 testing scores in general population vs celebrities</p>"
   ]
  },
  {
   "cell_type": "markdown",
   "metadata": {},
   "source": [
    "# Data sources "
   ]
  },
  {
   "cell_type": "markdown",
   "metadata": {},
   "source": [
    " <p> The General dataset: https://www.kaggle.com/tunguz/big-five-personality-test</p>\n",
    " <p>The Celebrities Twitter dataset: https://www.kaggle.com/kevincaicedo/personality-traits-of-twitter-users-celebrities</p>"
   ]
  },
  {
   "cell_type": "markdown",
   "metadata": {},
   "source": [
    "# Renaming datasets "
   ]
  },
  {
   "cell_type": "markdown",
   "metadata": {},
   "source": [
    "The files from the above links were renamed as:\n",
    " <p> * 'datageneral'</p>\n",
    " <p> * 'datatwitter' </p>\n",
    " <p> respectfully. </p>"
   ]
  },
  {
   "cell_type": "markdown",
   "metadata": {},
   "source": [
    "# Retrieving Data:"
   ]
  },
  {
   "cell_type": "code",
   "execution_count": null,
   "metadata": {},
   "outputs": [],
   "source": [
    "#Import libraries\n",
    "import pandas as pd\n",
    "import numpy as np\n",
    "from scipy.stats import ttest_rel\n",
    "from scipy.stats import ttest_1samp\n",
    "from scipy.stats import ttest_ind\n",
    "import os\n",
    "import seaborn as sns; sns.set()\n",
    "import matplotlib.pyplot as plt\n",
    "import geopandas as gpd\n",
    "import pycountry\n",
    "from scipy import stats\n",
    "import statsmodels.api as sm"
   ]
  },
  {
   "cell_type": "markdown",
   "metadata": {},
   "source": [
    "# RD: General Population"
   ]
  },
  {
   "cell_type": "code",
   "execution_count": null,
   "metadata": {},
   "outputs": [],
   "source": [
    "#General population Big 5 results \n",
    "general = pd.read_csv('../data/datageneral.csv', sep='\\t')"
   ]
  },
  {
   "cell_type": "code",
   "execution_count": null,
   "metadata": {},
   "outputs": [],
   "source": [
    "#Exploring data - general \n",
    "general.head()"
   ]
  },
  {
   "cell_type": "code",
   "execution_count": null,
   "metadata": {},
   "outputs": [],
   "source": [
    "#Cleaning - general \n",
    "#5 categories : op; co; ex; ag; ne\n",
    "#1 = disagree; 3 = neutral; 5 = agree\n",
    "start_rows = len(general)\n",
    "general = general.replace(0, np.nan).dropna(axis=0).reset_index(drop=True)\n",
    "remove_rows = start_rows - len(general)\n",
    "print('Removed', remove_rows ,'rows that had incomplete pieces of data.')\n",
    "print('This was', (remove_rows/start_rows * 100),'of the total data.')\n",
    "print('Number of countries:', len(set(general.country.values)))"
   ]
  },
  {
   "cell_type": "markdown",
   "metadata": {},
   "source": [
    "# RD: Celebrities"
   ]
  },
  {
   "cell_type": "code",
   "execution_count": null,
   "metadata": {},
   "outputs": [],
   "source": [
    "#Celebrities Big 5 results \n",
    "celebrities = pd.read_csv('../data/datatwitter.csv')"
   ]
  },
  {
   "cell_type": "code",
   "execution_count": null,
   "metadata": {},
   "outputs": [],
   "source": [
    "#Cleaning - celebrities\n",
    "start_rows2 = len(general)\n",
    "celebrities = celebrities.replace(0, np.nan).dropna(axis=0).reset_index(drop=True)\n",
    "remove_rows2 = start_rows2 - len(general)\n",
    "print('Removed', remove_rows2 ,'rows that had incomplete pieces of data.')\n",
    "print('This was', (remove_rows2/start_rows2 * 100),'% of the total data.')"
   ]
  },
  {
   "cell_type": "code",
   "execution_count": null,
   "metadata": {},
   "outputs": [],
   "source": [
    "#Renaming columns to match - celebrities \n",
    "celebrities.rename({'op': 'OPN_CEL', 'ex': 'EXT_CEL', 'ne':'NEU_CEL', 'ag':'AGR_CEL', 'co': 'CSN_CEL'}, axis=1, inplace=True)\n",
    "celebrities.head()"
   ]
  },
  {
   "cell_type": "markdown",
   "metadata": {},
   "source": [
    "# Exploring data"
   ]
  },
  {
   "cell_type": "markdown",
   "metadata": {},
   "source": [
    "# Exploring data: General Population "
   ]
  },
  {
   "cell_type": "code",
   "execution_count": null,
   "metadata": {},
   "outputs": [],
   "source": [
    "#Exploring data - general; NAAN\n",
    "#general.info()"
   ]
  },
  {
   "cell_type": "code",
   "execution_count": null,
   "metadata": {},
   "outputs": [],
   "source": [
    "#Countries\n",
    "country_dict = {i.alpha_2: i.alpha_3 for i in pycountry.countries}\n",
    "countries = pd.DataFrame(general.country.value_counts()).T\\\n",
    "              .drop('NONE', axis=1)\\\n",
    "              .rename(columns=country_dict, index={'country': 'count'})\n",
    "countries_rank = countries.T.rename_axis('iso_a3').reset_index()\n",
    "countries_rank['rank'] = countries_rank['count'].rank()\n",
    "countries_rank.T"
   ]
  },
  {
   "cell_type": "code",
   "execution_count": null,
   "metadata": {},
   "outputs": [],
   "source": [
    "#Plotting Countries present in the General Population dataset\n",
    "sns.set_style(\"white\")\n",
    "\n",
    "file = gpd.datasets.get_path('naturalearth_lowres')\n",
    "world = gpd.read_file(file)\n",
    "world = pd.merge(world, right=countries_rank, how='left', on='iso_a3').fillna(0)\n",
    "fig, ax = plt.subplots(figsize=(20,10))\n",
    "ax.set_xticks([])\n",
    "ax.set_yticks([])\n",
    "ax.set_title('Countries who completed the assessment (by rank)', size=16)\n",
    "world.drop(159).plot(column='rank', cmap='Blues', linewidth=0.8, ax=ax, edgecolor='0.2'); sns.set()\n",
    "plt.box(on=None)"
   ]
  },
  {
   "cell_type": "code",
   "execution_count": null,
   "metadata": {},
   "outputs": [],
   "source": [
    "#Former research - Getting to true values via subtracting the Negative points from the Positive \n",
    "pos_questions = [ # positive questions adding to the trait.\n",
    "    'EXT1','EXT3','EXT5','EXT7','EXT9',                       # 5 Extroversion\n",
    "    'EST1','EST3','EST5','EST6','EST7','EST8','EST9','EST10', # 8 Neuroticism\n",
    "    'AGR2','AGR4','AGR6','AGR8','AGR9','AGR10',               # 6 Agreeableness\n",
    "    'CSN1','CSN3','CSN5','CSN7','CSN9','CSN10',               # 6 Conscientiousness\n",
    "    'OPN1','OPN3','OPN5','OPN7','OPN8','OPN9','OPN10',        # 7 Openness\n",
    "]\n",
    "neg_questions = [ # negative (negating) questions subtracting from the trait.\n",
    "    'EXT2','EXT4','EXT6','EXT8','EXT10', # 5 Extroversion\n",
    "    'EST2','EST4',                       # 2 Neuroticism\n",
    "    'AGR1','AGR3','AGR5','AGR7',         # 4 Agreeableness\n",
    "    'CSN2','CSN4','CSN6','CSN8',         # 4 Conscientiousness\n",
    "    'OPN2','OPN4','OPN6',                # 3 Openness\n",
    "]\n",
    "\n",
    "general[pos_questions] = general[pos_questions].replace({1:-2, 2:-1, 3:0, 4:1, 5:2})\n",
    "general[neg_questions] = general[neg_questions].replace({1:2, 2:1, 3:0, 4:-1, 5:-2})\n",
    "cols = pos_questions + neg_questions\n",
    "general = general[sorted(cols)]\n",
    "general.head()"
   ]
  },
  {
   "cell_type": "code",
   "execution_count": null,
   "metadata": {},
   "outputs": [],
   "source": [
    "traits = ['EXT', 'EST', 'AGR', 'CSN', 'OPN']\n",
    "#trait_labels = ['Extroversion', 'Neuroticism', 'Agreeableness', 'Conscientiousness', 'Openness']\n",
    "for trait in traits:\n",
    "    trait_cols = sorted([col for col in general.columns if trait in col and '_E' not in col])\n",
    "    general[trait] = general[trait_cols].sum(axis=1)\n",
    "general[traits].head(10)"
   ]
  },
  {
   "cell_type": "code",
   "execution_count": null,
   "metadata": {},
   "outputs": [],
   "source": [
    "#Renaming columns to match - general \n",
    "#trait_labels = ['Extroversion', 'Neuroticism', 'Agreeableness', 'Conscientiousness', 'Openness']\n",
    "generaltrait = pd.DataFrame(general[traits])\n",
    "generaltrait.rename({'EXT': 'EXT_GEN', 'EST': 'NEU_GEN', 'AGR': 'AGR_GEN', 'CSN': 'CSN_GEN', 'OPN':'OPN_GEN'}, axis=1, inplace=True)\n",
    "generaltrait.head()"
   ]
  },
  {
   "cell_type": "code",
   "execution_count": null,
   "metadata": {},
   "outputs": [],
   "source": [
    "generaltrait.mean(axis = 0)"
   ]
  },
  {
   "cell_type": "code",
   "execution_count": null,
   "metadata": {},
   "outputs": [],
   "source": [
    "generaltrait.std(axis = 0)"
   ]
  },
  {
   "cell_type": "markdown",
   "metadata": {},
   "source": [
    "# Exploring data: Celebrities "
   ]
  },
  {
   "cell_type": "code",
   "execution_count": null,
   "metadata": {},
   "outputs": [],
   "source": [
    "#Explore\n",
    "#celebrities.info()"
   ]
  },
  {
   "cell_type": "code",
   "execution_count": null,
   "metadata": {},
   "outputs": [],
   "source": [
    "celebrities.mean(axis = 0)"
   ]
  },
  {
   "cell_type": "code",
   "execution_count": null,
   "metadata": {},
   "outputs": [],
   "source": [
    "celebrities.std(axis = 0)"
   ]
  },
  {
   "cell_type": "markdown",
   "metadata": {},
   "source": [
    "# Trait-by-Trait Visualization "
   ]
  },
  {
   "cell_type": "markdown",
   "metadata": {},
   "source": [
    "# TbT: Extroversion "
   ]
  },
  {
   "cell_type": "code",
   "execution_count": null,
   "metadata": {},
   "outputs": [],
   "source": [
    "sns.distplot(generaltrait['EXT_GEN'])"
   ]
  },
  {
   "cell_type": "code",
   "execution_count": null,
   "metadata": {},
   "outputs": [],
   "source": [
    "sns.distplot(celebrities['EXT_CEL'])"
   ]
  },
  {
   "cell_type": "markdown",
   "metadata": {},
   "source": [
    "# TbT:  Neuroticism "
   ]
  },
  {
   "cell_type": "code",
   "execution_count": null,
   "metadata": {},
   "outputs": [],
   "source": [
    "sns.distplot(generaltrait['NEU_GEN'])"
   ]
  },
  {
   "cell_type": "code",
   "execution_count": null,
   "metadata": {},
   "outputs": [],
   "source": [
    "sns.distplot(celebrities['NEU_CEL'])"
   ]
  },
  {
   "cell_type": "markdown",
   "metadata": {},
   "source": [
    "# TbT: Agreableness "
   ]
  },
  {
   "cell_type": "code",
   "execution_count": null,
   "metadata": {},
   "outputs": [],
   "source": [
    "sns.distplot(generaltrait['AGR_GEN'])"
   ]
  },
  {
   "cell_type": "code",
   "execution_count": null,
   "metadata": {},
   "outputs": [],
   "source": [
    "sns.distplot(celebrities['AGR_CEL'])"
   ]
  },
  {
   "cell_type": "markdown",
   "metadata": {},
   "source": [
    "# Tbt: Conscientiousness"
   ]
  },
  {
   "cell_type": "code",
   "execution_count": null,
   "metadata": {},
   "outputs": [],
   "source": [
    "sns.distplot(generaltrait['CSN_GEN'])"
   ]
  },
  {
   "cell_type": "code",
   "execution_count": null,
   "metadata": {},
   "outputs": [],
   "source": [
    "sns.distplot(celebrities['CSN_CEL'])"
   ]
  },
  {
   "cell_type": "markdown",
   "metadata": {},
   "source": [
    "# TbT: Openness "
   ]
  },
  {
   "cell_type": "code",
   "execution_count": null,
   "metadata": {},
   "outputs": [],
   "source": [
    "sns.distplot(generaltrait['OPN_GEN'])"
   ]
  },
  {
   "cell_type": "code",
   "execution_count": null,
   "metadata": {},
   "outputs": [],
   "source": [
    "sns.distplot(celebrities['OPN_CEL'])"
   ]
  },
  {
   "cell_type": "markdown",
   "metadata": {},
   "source": [
    "# Within-Correlation Matrices "
   ]
  },
  {
   "cell_type": "markdown",
   "metadata": {},
   "source": [
    "# General"
   ]
  },
  {
   "cell_type": "code",
   "execution_count": null,
   "metadata": {},
   "outputs": [],
   "source": [
    "# your code here\n",
    "sns.set(style=\"white\")\n",
    "# Compute the correlation matrix\n",
    "corr = generaltrait.corr()\n",
    "\n",
    "# Generate a mask for the upper triangle\n",
    "mask = np.triu(np.ones_like(corr, dtype=np.bool))\n",
    "\n",
    "# Set up the matplotlib figure\n",
    "f, ax = plt.subplots(figsize=(11, 9))\n",
    "\n",
    "# Generate a custom diverging colormap\n",
    "cmap = sns.diverging_palette(220, 10, as_cmap=True)\n",
    "\n",
    "# Draw the heatmap with the mask and correct aspect ratio\n",
    "sns.heatmap(corr, mask=mask, cmap=cmap, vmax=.3, center=0,\n",
    "            square=True, linewidths=.5, cbar_kws={\"shrink\": .5}, annot = True)"
   ]
  },
  {
   "cell_type": "markdown",
   "metadata": {},
   "source": [
    "# Celebrities"
   ]
  },
  {
   "cell_type": "code",
   "execution_count": null,
   "metadata": {},
   "outputs": [],
   "source": [
    "#Correlation Vizualization - celebrities - Matrix \n",
    "# your code here\n",
    "sns.set(style=\"white\")\n",
    "# Compute the correlation matrix\n",
    "corr = celebrities.corr()\n",
    "\n",
    "# Generate a mask for the upper triangle\n",
    "mask = np.triu(np.ones_like(corr, dtype=np.bool))\n",
    "\n",
    "# Set up the matplotlib figure\n",
    "f, ax = plt.subplots(figsize=(11, 9))\n",
    "\n",
    "# Generate a custom diverging colormap\n",
    "cmap = sns.diverging_palette(220, 10, as_cmap=True)\n",
    "\n",
    "# Draw the heatmap with the mask and correct aspect ratio\n",
    "sns.heatmap(corr, mask=mask, cmap=cmap, vmax=.3, center=0,\n",
    "            square=True, linewidths=.5, cbar_kws={\"shrink\": .5}, annot = True)\n",
    "#should drop the unnecc cols "
   ]
  },
  {
   "cell_type": "markdown",
   "metadata": {},
   "source": [
    "# Between-datasets Correlations"
   ]
  },
  {
   "cell_type": "markdown",
   "metadata": {},
   "source": [
    "# Trait-by-Trait"
   ]
  },
  {
   "cell_type": "markdown",
   "metadata": {},
   "source": [
    "Trait-by-Trait correlations are built with Pearson's correlation. \n",
    "Here, a high p-value would suggest a high correlation. "
   ]
  },
  {
   "cell_type": "code",
   "execution_count": null,
   "metadata": {},
   "outputs": [],
   "source": [
    "#Extroversion \n",
    "EXT1= generaltrait[\"EXT_GEN\"]\n",
    "EXT2= celebrities[\"EXT_CEL\"]\n",
    "EXTcorrelation = EXT1.corr(EXT2)\n",
    "print('EXT Correlation:', EXTcorrelation)"
   ]
  },
  {
   "cell_type": "code",
   "execution_count": null,
   "metadata": {},
   "outputs": [],
   "source": [
    "#Openess \n",
    "OPN1= generaltrait[\"OPN_GEN\"]\n",
    "OPN2= celebrities[\"OPN_CEL\"]\n",
    "OPNcorrelation = OPN1.corr(OPN2)\n",
    "print('OPN Correlation:', OPNcorrelation)"
   ]
  },
  {
   "cell_type": "code",
   "execution_count": null,
   "metadata": {},
   "outputs": [],
   "source": [
    "#Agreeableness \n",
    "AGR1= generaltrait[\"AGR_GEN\"]\n",
    "AGR2= celebrities[\"AGR_CEL\"]\n",
    "AGRcorrelation = AGR1.corr(AGR2)\n",
    "print('AGR Correlation:', AGRcorrelation)"
   ]
  },
  {
   "cell_type": "code",
   "execution_count": null,
   "metadata": {},
   "outputs": [],
   "source": [
    "#Conscientiousness \n",
    "CSN1= generaltrait[\"CSN_GEN\"]\n",
    "CSN2= celebrities[\"CSN_CEL\"]\n",
    "CSNcorrelation = CSN1.corr(CSN2)\n",
    "print('CSN Correlation:', CSNcorrelation)"
   ]
  },
  {
   "cell_type": "code",
   "execution_count": null,
   "metadata": {},
   "outputs": [],
   "source": [
    "#Neuroticism \n",
    "NEU1= generaltrait[\"NEU_GEN\"]\n",
    "NEU2= celebrities[\"NEU_CEL\"]\n",
    "NEUcorrelation = NEU1.corr(NEU2)\n",
    "print('NEU Correlation:', NEUcorrelation)"
   ]
  },
  {
   "cell_type": "markdown",
   "metadata": {},
   "source": [
    "# Mann-Whitney U test "
   ]
  },
  {
   "cell_type": "markdown",
   "metadata": {},
   "source": [
    "Correlation testing - test choice \n",
    "<p>Type of values: Ordinal [testing scale 1 - 3- 5]</p>\n",
    "<p>Purpose: Examining differences between populations</p>\n",
    "<p>Measuring: Independent values </p>\n",
    "<p>Using: Mann-Whitney U test</p>\n",
    "<p>Difference between MW & t-test: T-test is parametric; WMW is for non-parametric.</p>\n",
    "<p>Here, a low p-value suggests a correlation. </p>"
   ]
  },
  {
   "cell_type": "code",
   "execution_count": null,
   "metadata": {},
   "outputs": [],
   "source": [
    "from scipy.stats import mannwhitneyu\n",
    "\n",
    "EXTMWT = mannwhitneyu(generaltrait[\"EXT_GEN\"], celebrities[\"EXT_CEL\"])\n",
    "print ('Extroversion MW:', EXTMWT)\n",
    "OPNMWT = mannwhitneyu(generaltrait[\"OPN_GEN\"], celebrities[\"OPN_CEL\"])\n",
    "print ('Openess MW:', OPNMWT)\n",
    "AGRMWT = mannwhitneyu(generaltrait[\"AGR_GEN\"], celebrities[\"AGR_CEL\"])\n",
    "print ('Agreeableness MW:', AGRMWT)\n",
    "CSNMWT = mannwhitneyu(generaltrait[\"CSN_GEN\"], celebrities[\"CSN_CEL\"])\n",
    "print ('Conscentiousness MW:', CSNMWT)\n",
    "NEUMWT = mannwhitneyu(generaltrait[\"NEU_GEN\"], celebrities[\"NEU_CEL\"])\n",
    "print ('Neuroticism MW:', NEUMWT )"
   ]
  },
  {
   "cell_type": "markdown",
   "metadata": {},
   "source": [
    "# Predictions using OLS"
   ]
  },
  {
   "cell_type": "markdown",
   "metadata": {},
   "source": [
    "There is a negative correlation between Extroversion [-0.51] and Agreeableness [-0.66] with the Openness Trait in the Celebrities dataset. I am using a linear reg. OLS model to see if we can predict Openness successfully based on the data. "
   ]
  },
  {
   "cell_type": "code",
   "execution_count": null,
   "metadata": {},
   "outputs": [],
   "source": [
    "X = celebrities[['AGR_CEL', 'EXT_CEL']]\n",
    "Y = celebrities['OPN_CEL'] \n",
    "model= sm.OLS(Y,X).fit()\n",
    "predictions=model.predict(X)\n",
    "pd.DataFrame({'observed':Y, 'predicted':predictions})"
   ]
  },
  {
   "cell_type": "markdown",
   "metadata": {},
   "source": [
    "Doing the same for Conscientiousness Trait and Agreeableness and Extroversion [both at -0.41]. Attempting OLS prediction here. "
   ]
  },
  {
   "cell_type": "code",
   "execution_count": null,
   "metadata": {},
   "outputs": [],
   "source": [
    "X = celebrities[['AGR_CEL', 'EXT_CEL']]\n",
    "Y = celebrities['CSN_CEL'] \n",
    "model= sm.OLS(Y,X).fit()\n",
    "predictions=model.predict(X)\n",
    "pd.DataFrame({'observed':Y, 'predicted':predictions})"
   ]
  },
  {
   "cell_type": "markdown",
   "metadata": {},
   "source": [
    "For the General dataset, the largest correlation is between Extroversion and Agreeableness [0.3]; but the OLS model returns an error. The above predictions are not perfect, but they illustrate how the data can be predicted in the future. "
   ]
  },
  {
   "cell_type": "markdown",
   "metadata": {},
   "source": [
    "# Results "
   ]
  },
  {
   "cell_type": "markdown",
   "metadata": {},
   "source": [
    "# Hypotheses :"
   ]
  },
  {
   "cell_type": "markdown",
   "metadata": {},
   "source": [
    "Reminding hypotheses: \n",
    "<p>H0 = There is no difference between big 5 testing scores in general population vs celebrities</p>\n",
    "<p>H1 = There is a significant difference between big 5 testing scores in general population vs celebrities</p>"
   ]
  },
  {
   "cell_type": "markdown",
   "metadata": {},
   "source": [
    "<p>Results: \n",
    "    <p>The p-values are quite high in the WMW tests, and low in Pearson's. </p>\n",
    "    <p>That shows that there is no predictive relationship between the variables. </p>\n",
    "    <p>Therefore - the values are not significantly different from one another.</p>\n",
    "    <p>H0 is accepted. </p>"
   ]
  },
  {
   "cell_type": "markdown",
   "metadata": {},
   "source": [
    "# General Results:"
   ]
  },
  {
   "cell_type": "markdown",
   "metadata": {},
   "source": [
    "# General Dataset "
   ]
  },
  {
   "cell_type": "markdown",
   "metadata": {},
   "source": [
    "Inter-correlations"
   ]
  },
  {
   "cell_type": "markdown",
   "metadata": {},
   "source": [
    "<p>Extraversion is positively correlated with Agreeableness (0.3)</p>\n",
    "<p>Agreeableness is slightly positively correlated with Conscientiousness (0.14) and Openness (0.11)</p>\n",
    "<p> Conscientiousness and Neuroticism are negatively correlated (-0.23)</p>\n",
    "<p>Extraversion is negatively correlated with Neuroticism (-0.22)</p>"
   ]
  },
  {
   "cell_type": "markdown",
   "metadata": {},
   "source": [
    "# Celebrities Dataset"
   ]
  },
  {
   "cell_type": "markdown",
   "metadata": {},
   "source": [
    "Inter-correlations"
   ]
  },
  {
   "cell_type": "markdown",
   "metadata": {},
   "source": [
    "<p> Openness is negatively correlated with Agreeableness (-0.66), Extroversion (-0.51) and Neuroticism (-0.24)</p>\n",
    "<p> Conscientiousness  is negatively correlated with Agreeableness and Extroversion (-0.43)</p>\n",
    "<p> Wordcount is negatively correlated with Agreeableness (-0.38). and Extroversion (-0.29) </p>\n",
    "<p> Wordcount is positively correlated with Conscientiousness (0.35) and Openness (0.27) </p>"
   ]
  },
  {
   "cell_type": "markdown",
   "metadata": {},
   "source": [
    "# Trait-by-Trait Correlations "
   ]
  },
  {
   "cell_type": "markdown",
   "metadata": {},
   "source": [
    "<p> Extroversion </p>\n",
    "<p> </p>\n",
    "<p> Both the General population and the Celebrities dataset show a mostly normal distribution, but the Celebrities dataset is strongly centered between the values of 30 and 45. The general dataset is almost perfectly normally distributed, with values ranging from -20 to 20.   </p>\n",
    "<p> Neuroticism </p>\n",
    "<p> </p>\n",
    "<p>  The General dataset is normally distributed, ranging between -20 and 20. The Celebrities dataset is normally distributed between 0 and 15 points, but also has a lagging tail at 20 to 25 points. </p>\n",
    "<p> Agreableness </p>\n",
    "<p> </p>\n",
    "<p> The General dataset is skewed to the right, with most data falling between 0 and 20 points. The Celebrities dataset is skewed to the left, with most data falling between 15 and 30 points.  </p>\n",
    "<p> Openness  </p>\n",
    "<p> </p>\n",
    "<p> The General dataset is skewed to the right, being mostly normally distributed between 0 and 20 points (sharp end), and with a tail from -20 to 0 points.  Quite visibly, most data in the Celebrities dataset fall between 30 and 55 points, with a strong peak at 40 points. There is some data that falls in the 60 - 70 points range.</p>\n",
    "<p> Conscientiousness</p>\n",
    "<p> </p>\n",
    "<p> The General dataset is normally distributed, ranging between -20 and 20. The Celebrities dataset is normally distributed between 0 and 40, but with a tail between 40 and 50. It has a strong peak at 25 points. </p>"
   ]
  },
  {
   "cell_type": "code",
   "execution_count": null,
   "metadata": {},
   "outputs": [],
   "source": []
  }
 ],
 "metadata": {
  "kernelspec": {
   "display_name": "Python 3",
   "language": "python",
   "name": "python3"
  },
  "language_info": {
   "codemirror_mode": {
    "name": "ipython",
    "version": 3
   },
   "file_extension": ".py",
   "mimetype": "text/x-python",
   "name": "python",
   "nbconvert_exporter": "python",
   "pygments_lexer": "ipython3",
   "version": "3.7.7"
  }
 },
 "nbformat": 4,
 "nbformat_minor": 4
}
