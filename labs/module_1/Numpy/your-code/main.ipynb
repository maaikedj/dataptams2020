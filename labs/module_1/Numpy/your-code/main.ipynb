{
 "cells": [
  {
   "cell_type": "markdown",
   "metadata": {},
   "source": [
    "# Intrduction to NumPy\n",
    "\n",
    "\n",
    "#### 1. Import NumPy under the name np."
   ]
  },
  {
   "cell_type": "code",
   "execution_count": 1,
   "metadata": {},
   "outputs": [],
   "source": [
    "# your code here\n",
    "import numpy as np"
   ]
  },
  {
   "cell_type": "markdown",
   "metadata": {},
   "source": [
    "#### 2. Print your NumPy version."
   ]
  },
  {
   "cell_type": "code",
   "execution_count": 3,
   "metadata": {},
   "outputs": [
    {
     "data": {
      "text/plain": [
       "'1.18.1'"
      ]
     },
     "execution_count": 3,
     "metadata": {},
     "output_type": "execute_result"
    }
   ],
   "source": [
    "# your code here\n",
    "np.version.version"
   ]
  },
  {
   "cell_type": "markdown",
   "metadata": {},
   "source": [
    "#### 3. Generate a 2x3x5 3-dimensional array with random values. Assign the array to variable *a*.\n",
    "**Challenge**: there are at least three easy ways that use numpy to generate random arrays. How many ways can you find?"
   ]
  },
  {
   "cell_type": "code",
   "execution_count": 6,
   "metadata": {},
   "outputs": [
    {
     "name": "stdout",
     "output_type": "stream",
     "text": [
      "[[[0.89493274 0.19103379 0.15873073 0.94055466 0.67861742]\n",
      "  [0.24743413 0.22628309 0.41619915 0.13595582 0.89178697]\n",
      "  [0.72451045 0.6022443  0.46769166 0.0900906  0.51655288]]\n",
      "\n",
      " [[0.20207892 0.62071056 0.65449417 0.43210077 0.30417176]\n",
      "  [0.02977667 0.80117477 0.30913612 0.86548501 0.6220768 ]\n",
      "  [0.4898783  0.26674006 0.57789156 0.07363315 0.13014953]]]\n"
     ]
    }
   ],
   "source": [
    "# Method 1\n",
    "a = np.random.random((2,3,5))\n",
    "print(a)"
   ]
  },
  {
   "cell_type": "code",
   "execution_count": 12,
   "metadata": {},
   "outputs": [
    {
     "name": "stdout",
     "output_type": "stream",
     "text": [
      "[[[ 0  1  2  3  4]\n",
      "  [ 5  6  7  8  9]\n",
      "  [10 11 12 13 14]]\n",
      "\n",
      " [[15 16 17 18 19]\n",
      "  [20 21 22 23 24]\n",
      "  [25 26 27 28 29]]]\n"
     ]
    }
   ],
   "source": [
    "# Method 2\n",
    "a = np.arange(30).reshape(2,3,5)\n",
    "print(a)"
   ]
  },
  {
   "cell_type": "code",
   "execution_count": 15,
   "metadata": {},
   "outputs": [
    {
     "name": "stdout",
     "output_type": "stream",
     "text": [
      "[[[0.00e+000 4.94e-324 9.88e-324 1.48e-323 1.98e-323]\n",
      "  [2.47e-323 2.96e-323 3.46e-323 3.95e-323 4.45e-323]\n",
      "  [4.94e-323 5.43e-323 5.93e-323 6.42e-323 6.92e-323]]\n",
      "\n",
      " [[7.41e-323 7.91e-323 8.40e-323 8.89e-323 9.39e-323]\n",
      "  [9.88e-323 1.04e-322 1.09e-322 1.14e-322 1.19e-322]\n",
      "  [1.24e-322 1.28e-322 1.33e-322 1.38e-322 1.43e-322]]]\n"
     ]
    }
   ],
   "source": [
    "# Method 3\n",
    "a = np.empty((2,3,5))\n",
    "print(a)"
   ]
  },
  {
   "cell_type": "markdown",
   "metadata": {},
   "source": [
    "#### 4. Print *a*.\n"
   ]
  },
  {
   "cell_type": "code",
   "execution_count": 16,
   "metadata": {},
   "outputs": [
    {
     "name": "stdout",
     "output_type": "stream",
     "text": [
      "[[[0.06675083 0.75389386 0.47046435 0.11736118 0.69168738]\n",
      "  [0.39806391 0.17722    0.41561356 0.66307519 0.5126453 ]\n",
      "  [0.81204573 0.58363554 0.58052098 0.39155931 0.48538394]]\n",
      "\n",
      " [[0.47717809 0.10120235 0.01337163 0.81447359 0.79772864]\n",
      "  [0.8100521  0.44160023 0.87364738 0.1635281  0.80628966]\n",
      "  [0.57341772 0.64479065 0.37302195 0.95187275 0.09680689]]]\n"
     ]
    }
   ],
   "source": [
    "# your code here\n",
    "a = np.random.random((2,3,5))\n",
    "print(a)"
   ]
  },
  {
   "cell_type": "markdown",
   "metadata": {},
   "source": [
    "#### 5. Create a 5x2x3 3-dimensional array with all values equaling 1. Assign the array to variable *b*."
   ]
  },
  {
   "cell_type": "code",
   "execution_count": 18,
   "metadata": {},
   "outputs": [],
   "source": [
    "# your code here\n",
    "b = np.ones((5,2,3))"
   ]
  },
  {
   "cell_type": "markdown",
   "metadata": {},
   "source": [
    "#### 6. Print *b*.\n"
   ]
  },
  {
   "cell_type": "code",
   "execution_count": 19,
   "metadata": {},
   "outputs": [
    {
     "name": "stdout",
     "output_type": "stream",
     "text": [
      "[[[1. 1. 1.]\n",
      "  [1. 1. 1.]]\n",
      "\n",
      " [[1. 1. 1.]\n",
      "  [1. 1. 1.]]\n",
      "\n",
      " [[1. 1. 1.]\n",
      "  [1. 1. 1.]]\n",
      "\n",
      " [[1. 1. 1.]\n",
      "  [1. 1. 1.]]\n",
      "\n",
      " [[1. 1. 1.]\n",
      "  [1. 1. 1.]]]\n"
     ]
    }
   ],
   "source": [
    "# your code here\n",
    "print(b)"
   ]
  },
  {
   "cell_type": "markdown",
   "metadata": {},
   "source": [
    "#### 7. Do *a* and *b* have the same size? How do you prove that in Python code?"
   ]
  },
  {
   "cell_type": "code",
   "execution_count": 23,
   "metadata": {},
   "outputs": [
    {
     "name": "stdout",
     "output_type": "stream",
     "text": [
      "yeah\n"
     ]
    }
   ],
   "source": [
    "# your code here\n",
    "if a.size == b.size:\n",
    "    print('yeah')\n",
    "else:\n",
    "    print('nope')"
   ]
  },
  {
   "cell_type": "markdown",
   "metadata": {},
   "source": [
    "#### 8. Are you able to add *a* and *b*? Why or why not?\n"
   ]
  },
  {
   "cell_type": "code",
   "execution_count": 27,
   "metadata": {},
   "outputs": [
    {
     "ename": "ValueError",
     "evalue": "operands could not be broadcast together with shapes (2,3,5) (5,2,3) ",
     "output_type": "error",
     "traceback": [
      "\u001b[0;31m---------------------------------------------------------------------------\u001b[0m",
      "\u001b[0;31mValueError\u001b[0m                                Traceback (most recent call last)",
      "\u001b[0;32m<ipython-input-27-35fd01c5f27f>\u001b[0m in \u001b[0;36m<module>\u001b[0;34m\u001b[0m\n\u001b[1;32m      1\u001b[0m \u001b[0;31m# your answer here\u001b[0m\u001b[0;34m\u001b[0m\u001b[0;34m\u001b[0m\u001b[0;34m\u001b[0m\u001b[0m\n\u001b[1;32m      2\u001b[0m \u001b[0;31m#as long they are\u001b[0m\u001b[0;34m\u001b[0m\u001b[0;34m\u001b[0m\u001b[0;34m\u001b[0m\u001b[0m\n\u001b[0;32m----> 3\u001b[0;31m \u001b[0mnp\u001b[0m\u001b[0;34m.\u001b[0m\u001b[0madd\u001b[0m\u001b[0;34m(\u001b[0m\u001b[0ma\u001b[0m\u001b[0;34m,\u001b[0m\u001b[0mb\u001b[0m\u001b[0;34m)\u001b[0m\u001b[0;34m\u001b[0m\u001b[0;34m\u001b[0m\u001b[0m\n\u001b[0m",
      "\u001b[0;31mValueError\u001b[0m: operands could not be broadcast together with shapes (2,3,5) (5,2,3) "
     ]
    }
   ],
   "source": [
    "# your answer here\n",
    "#its not possible as they dont have the same shape, in order to sum they need to have some conditions\n",
    "np.add(a,b)"
   ]
  },
  {
   "cell_type": "markdown",
   "metadata": {},
   "source": [
    "#### 9. Transpose *b* so that it has the same structure of *a* (i.e. become a 2x3x5 array). Assign the transposed array to variable *c*."
   ]
  },
  {
   "cell_type": "code",
   "execution_count": 30,
   "metadata": {},
   "outputs": [],
   "source": [
    "# your code here\n",
    "c = b.reshape(2,3,5)"
   ]
  },
  {
   "cell_type": "markdown",
   "metadata": {},
   "source": [
    "#### 10. Try to add *a* and *c*. Now it should work. Assign the sum to variable *d*. But why does it work now?"
   ]
  },
  {
   "cell_type": "code",
   "execution_count": 32,
   "metadata": {},
   "outputs": [],
   "source": [
    "# your code/answer here\n",
    "#they have the same shape now so the sum can work\n",
    "d = np.add(a,c)"
   ]
  },
  {
   "cell_type": "markdown",
   "metadata": {},
   "source": [
    "#### 11. Print *a* and *d*. Notice the difference and relation of the two array in terms of the values? Explain."
   ]
  },
  {
   "cell_type": "code",
   "execution_count": 33,
   "metadata": {},
   "outputs": [
    {
     "name": "stdout",
     "output_type": "stream",
     "text": [
      "[[[0.06675083 0.75389386 0.47046435 0.11736118 0.69168738]\n",
      "  [0.39806391 0.17722    0.41561356 0.66307519 0.5126453 ]\n",
      "  [0.81204573 0.58363554 0.58052098 0.39155931 0.48538394]]\n",
      "\n",
      " [[0.47717809 0.10120235 0.01337163 0.81447359 0.79772864]\n",
      "  [0.8100521  0.44160023 0.87364738 0.1635281  0.80628966]\n",
      "  [0.57341772 0.64479065 0.37302195 0.95187275 0.09680689]]]\n",
      "[[[1.06675083 1.75389386 1.47046435 1.11736118 1.69168738]\n",
      "  [1.39806391 1.17722    1.41561356 1.66307519 1.5126453 ]\n",
      "  [1.81204573 1.58363554 1.58052098 1.39155931 1.48538394]]\n",
      "\n",
      " [[1.47717809 1.10120235 1.01337163 1.81447359 1.79772864]\n",
      "  [1.8100521  1.44160023 1.87364738 1.1635281  1.80628966]\n",
      "  [1.57341772 1.64479065 1.37302195 1.95187275 1.09680689]]]\n"
     ]
    }
   ],
   "source": [
    "# your code/answer here\n",
    "print(a)\n",
    "print(d)\n",
    "# d has the same values as a + 1 because c is a reshaped version of, which was a matrix of only 1 values"
   ]
  },
  {
   "cell_type": "markdown",
   "metadata": {},
   "source": [
    "#### 12. Multiply *a* and *c*. Assign the result to *e*."
   ]
  },
  {
   "cell_type": "code",
   "execution_count": 34,
   "metadata": {},
   "outputs": [],
   "source": [
    "# your code here\n",
    "e = np.multiply(a,c)"
   ]
  },
  {
   "cell_type": "markdown",
   "metadata": {},
   "source": [
    "#### 13. Does *e* equal to *a*? Why or why not?\n"
   ]
  },
  {
   "cell_type": "code",
   "execution_count": 35,
   "metadata": {},
   "outputs": [
    {
     "name": "stdout",
     "output_type": "stream",
     "text": [
      "[[[0.06675083 0.75389386 0.47046435 0.11736118 0.69168738]\n",
      "  [0.39806391 0.17722    0.41561356 0.66307519 0.5126453 ]\n",
      "  [0.81204573 0.58363554 0.58052098 0.39155931 0.48538394]]\n",
      "\n",
      " [[0.47717809 0.10120235 0.01337163 0.81447359 0.79772864]\n",
      "  [0.8100521  0.44160023 0.87364738 0.1635281  0.80628966]\n",
      "  [0.57341772 0.64479065 0.37302195 0.95187275 0.09680689]]]\n"
     ]
    }
   ],
   "source": [
    "# your code/answer here\n",
    "# it is equal since multiplication by 1 produces the same result\n",
    "print(a)"
   ]
  },
  {
   "cell_type": "markdown",
   "metadata": {},
   "source": [
    "#### 14. Identify the max, min, and mean values in *d*. Assign those values to variables *d_max*, *d_min* and *d_mean*."
   ]
  },
  {
   "cell_type": "code",
   "execution_count": 47,
   "metadata": {},
   "outputs": [],
   "source": [
    "# your code here\n",
    "d_max = np.amax(d)\n",
    "d_min = np.amin(d)\n",
    "d_mean = np.mean(d)"
   ]
  },
  {
   "cell_type": "markdown",
   "metadata": {},
   "source": [
    "#### 15. Now we want to label the values in *d*. First create an empty array *f* with the same shape (i.e. 2x3x5) as *d* using `np.empty`.\n"
   ]
  },
  {
   "cell_type": "code",
   "execution_count": 91,
   "metadata": {},
   "outputs": [
    {
     "data": {
      "text/plain": [
       "array([[[-2.68156159e+154, -2.68156159e+154,  8.89318163e-323,\n",
       "          0.00000000e+000,  0.00000000e+000],\n",
       "        [ 0.00000000e+000,  0.00000000e+000,  0.00000000e+000,\n",
       "          0.00000000e+000,  0.00000000e+000],\n",
       "        [ 0.00000000e+000,  0.00000000e+000,  0.00000000e+000,\n",
       "          0.00000000e+000,  0.00000000e+000]],\n",
       "\n",
       "       [[ 7.68724739e+170, -2.68156159e+154, -2.68156159e+154,\n",
       "          8.37174974e-144,  6.64573734e-066],\n",
       "        [ 9.77381441e+165,  1.82586529e+184,  5.24341212e+174,\n",
       "          5.28555805e+180,  4.96924456e-091],\n",
       "        [ 6.42765986e-067,  1.30473617e-076,  4.29600106e-096,\n",
       "          9.08366791e+223,  5.81186265e+294]]])"
      ]
     },
     "execution_count": 91,
     "metadata": {},
     "output_type": "execute_result"
    }
   ],
   "source": [
    "# your code here\n",
    "f = np.empty((2,3,5))\n",
    "f"
   ]
  },
  {
   "cell_type": "markdown",
   "metadata": {},
   "source": [
    "#### 16. Populate the values in *f*. \n",
    "\n",
    "For each value in *d*, if it's larger than *d_min* but smaller than *d_mean*, assign 25 to the corresponding value in *f*. If a value in *d* is larger than *d_mean* but smaller than *d_max*, assign 75 to the corresponding value in *f*. If a value equals to *d_mean*, assign 50 to the corresponding value in *f*. Assign 0 to the corresponding value(s) in *f* for *d_min* in *d*. Assign 100 to the corresponding value(s) in *f* for *d_max* in *d*. In the end, f should have only the following values: 0, 25, 50, 75, and 100.\n",
    "\n",
    "**Note**: you don't have to use Numpy in this question."
   ]
  },
  {
   "cell_type": "code",
   "execution_count": 92,
   "metadata": {},
   "outputs": [],
   "source": [
    "# your code here\n",
    "i = 0\n",
    "while i < len(d):\n",
    "    j = 0\n",
    "    while j < len(d[i]):\n",
    "        k = 0\n",
    "        while k < len(d[i][j]):\n",
    "            if d[i][j][k] > d_min and d[i][j][k] < d_mean:\n",
    "                f[i][j][k] = 25\n",
    "            if d[i][j][k] > d_mean and d[i][j][k] < d_max:\n",
    "                f[i][j][k] = 75\n",
    "            if d[i][j][k] == d_mean:\n",
    "                f[i][j][k] = 50\n",
    "            if d[i][j][k] == d_min:\n",
    "                f[i][j][k] = 0\n",
    "            if d[i][j][k] == d_max:\n",
    "                f[i][j][k] = 100\n",
    "            k +=1\n",
    "        j += 1\n",
    "    i += 1"
   ]
  },
  {
   "cell_type": "markdown",
   "metadata": {},
   "source": [
    "#### 17. Print *d* and *f*. Do you have your expected *f*?\n",
    "For instance, if your *d* is:\n",
    "```python\n",
    "[[[1.85836099, 1.67064465, 1.62576044, 1.40243961, 1.88454931],\n",
    "[1.75354326, 1.69403643, 1.36729252, 1.61415071, 1.12104981],\n",
    "[1.72201435, 1.1862918 , 1.87078449, 1.7726778 , 1.88180042]],\n",
    "[[1.44747908, 1.31673383, 1.02000951, 1.52218947, 1.97066381],\n",
    "[1.79129243, 1.74983003, 1.96028037, 1.85166831, 1.65450881],\n",
    "[1.18068344, 1.9587381 , 1.00656599, 1.93402165, 1.73514584]]]\n",
    "```\n",
    "Your *f* should be:\n",
    "```python\n",
    "[[[ 75.,  75.,  75.,  25.,  75.],\n",
    "[ 75.,  75.,  25.,  25.,  25.],\n",
    "[ 75.,  25.,  75.,  75.,  75.]],\n",
    "[[ 25.,  25.,  25.,  25., 100.],\n",
    "[ 75.,  75.,  75.,  75.,  75.],\n",
    "[ 25.,  75.,   0.,  75.,  75.]]]\n",
    "```"
   ]
  },
  {
   "cell_type": "code",
   "execution_count": 93,
   "metadata": {},
   "outputs": [
    {
     "name": "stdout",
     "output_type": "stream",
     "text": [
      "[[[1.06675083 1.75389386 1.47046435 1.11736118 1.69168738]\n",
      "  [1.39806391 1.17722    1.41561356 1.66307519 1.5126453 ]\n",
      "  [1.81204573 1.58363554 1.58052098 1.39155931 1.48538394]]\n",
      "\n",
      " [[1.47717809 1.10120235 1.01337163 1.81447359 1.79772864]\n",
      "  [1.8100521  1.44160023 1.87364738 1.1635281  1.80628966]\n",
      "  [1.57341772 1.64479065 1.37302195 1.95187275 1.09680689]]]\n",
      "[[[ 25.  75.  25.  25.  75.]\n",
      "  [ 25.  25.  25.  75.  75.]\n",
      "  [ 75.  75.  75.  25.  25.]]\n",
      "\n",
      " [[ 25.  25.   0.  75.  75.]\n",
      "  [ 75.  25.  75.  25.  75.]\n",
      "  [ 75.  75.  25. 100.  25.]]]\n"
     ]
    }
   ],
   "source": [
    "# your code here\n",
    "print(d)\n",
    "print(f)"
   ]
  },
  {
   "cell_type": "markdown",
   "metadata": {},
   "source": [
    "#### 18. Bonus question: instead of using numbers (i.e. 0, 25, 50, 75, and 100), use string values  (\"A\", \"B\", \"C\", \"D\", and \"E\") to label the array elements. For the example above, the expected result is:\n",
    "\n",
    "```python\n",
    "[[[ 'D',  'D',  'D',  'B',  'D'],\n",
    "[ 'D',  'D',  'B',  'B',  'B'],\n",
    "[ 'D',  'B',  'D',  'D',  'D']],\n",
    "[[ 'B',  'B',  'B',  'B',  'E'],\n",
    "[ 'D',  'D',  'D',  'D',  'D'],\n",
    "[ 'B',  'D',   'A',  'D', 'D']]]\n",
    "```\n",
    "**Note**: you don't have to use Numpy in this question."
   ]
  },
  {
   "cell_type": "code",
   "execution_count": 94,
   "metadata": {},
   "outputs": [
    {
     "data": {
      "text/plain": [
       "array([[['b', 'd', 'b', 'b', 'd'],\n",
       "        ['b', 'b', 'b', 'd', 'd'],\n",
       "        ['d', 'd', 'd', 'b', 'b']],\n",
       "\n",
       "       [['b', 'b', 'a', 'd', 'd'],\n",
       "        ['d', 'b', 'd', 'b', 'd'],\n",
       "        ['d', 'd', 'b', 'e', 'b']]], dtype=object)"
      ]
     },
     "execution_count": 94,
     "metadata": {},
     "output_type": "execute_result"
    }
   ],
   "source": [
    "# your code here\n",
    "f = np.array(f, dtype = 'object')\n",
    "f[f == 0] = 'a'\n",
    "f[f == 25] = 'b'\n",
    "f[f == 50] = 'c'\n",
    "f[f == 75] = 'd'\n",
    "f[f == 100] = 'e'\n",
    "f"
   ]
  },
  {
   "cell_type": "code",
   "execution_count": null,
   "metadata": {},
   "outputs": [],
   "source": []
  }
 ],
 "metadata": {
  "kernelspec": {
   "display_name": "Python 3",
   "language": "python",
   "name": "python3"
  },
  "language_info": {
   "codemirror_mode": {
    "name": "ipython",
    "version": 3
   },
   "file_extension": ".py",
   "mimetype": "text/x-python",
   "name": "python",
   "nbconvert_exporter": "python",
   "pygments_lexer": "ipython3",
   "version": "3.7.5"
  }
 },
 "nbformat": 4,
 "nbformat_minor": 2
}
