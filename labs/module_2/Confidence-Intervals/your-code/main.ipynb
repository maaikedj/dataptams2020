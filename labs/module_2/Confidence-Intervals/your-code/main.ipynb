{
 "cells": [
  {
   "cell_type": "markdown",
   "metadata": {
    "Collapsed": "false"
   },
   "source": [
    "# Confidence Intervals"
   ]
  },
  {
   "cell_type": "code",
   "execution_count": null,
   "metadata": {
    "Collapsed": "false"
   },
   "outputs": [],
   "source": [
    "# Libraries\n",
    "import numpy as np\n",
    "import seaborn as sns\n",
    "from scipy import stats\n",
    "import pandas as pd"
   ]
  },
  {
   "cell_type": "markdown",
   "metadata": {
    "Collapsed": "false"
   },
   "source": [
    "## Challenge 1\n",
    "We want to estimate the average size of the men of a country with a confidence level of 80%. Assuming that the standard deviation of the sizes in the population is 4, get the confidence interval with a sample of men selected randomly, whose heights are:\n",
    "\n",
    "````\n",
    "heights = [167, 167, 168, 168, 168, 169, 171, 172, 173, 175, 175, 175, 177, 182, 195]\n",
    "````\n",
    "\n",
    "**Hint**: function `stats.norm.interval` from `scipy` can help you get through this exercise. "
   ]
  },
  {
   "cell_type": "code",
   "execution_count": null,
   "metadata": {
    "Collapsed": "false"
   },
   "outputs": [],
   "source": [
    "# your code here\n",
    "\n",
    "sample_heights = [167, 167, 168, 168, 168, 169, 171, 172, 173, 175, 175, 175, 177, 182, 195]\n",
    "stdev = 4\n",
    "z = stats.norm.interval(0.80)[1]\n",
    "n = len(sample_heights)\n",
    "\n",
    "mean = np.mean(sample_heights)\n",
    "error_margin = stdev/ np.sqrt(n)\n",
    "\n",
    "conf_int = [mean - (z * error_margin) , mean + (z * error_margin)]\n",
    "conf_int\n",
    "#Paolo:yes"
   ]
  },
  {
   "cell_type": "markdown",
   "metadata": {
    "Collapsed": "false"
   },
   "source": [
    "## Challenge 2 \n",
    "In a sample of 105 shops selected randomly from an area, we note that 27 of them have had losses in this month. Get an interval for the proportion of businesses in the area with losses to a confidence level of 80% and a confidence level of 90%.\n",
    "\n",
    "**Hint**: function `stats.norm.interval` from `scipy` can help you get through this exercise. "
   ]
  },
  {
   "cell_type": "code",
   "execution_count": null,
   "metadata": {
    "Collapsed": "false"
   },
   "outputs": [],
   "source": [
    "# Maaike: I'm a bit confused by this challenge. Isn't this a binomial distribution?\n",
    "# So how can we apply the 'stats.norm.interval' method here, which requires a normal distribution? \n",
    "# I'm using the stats.binom.interval method here instead\n",
    "\n",
    "# 80% confidence level:\n",
    "\n",
    "#Paolo: yes that is right the initial distribution is binomial, and you correctly calculate\n",
    "# the variance using the formula for binomial distribution (typo in formula though check below)\n",
    "# but thanks to the Central Limit Theorem, we know that the target distribution \n",
    "# of the sample proportion  is approximately normally distributed and we can use this fact to\n",
    "#calculate the parameters for the target distribution\n",
    "\n",
    "mean = 27\n",
    "p = 27 / 105\n",
    "n = 105\n",
    "\n",
    "b = stats.binom.interval(0.8, n, p)[1]\n",
    "\n",
    "# variance of proportion = p(1-p)/n\n",
    "#Paolo: be careful variance of proportion for binomial is np(1-p)\n",
    "std_sample = np.sqrt((p*(1-p))/n)\n",
    "error_marg = std_sample / np.sqrt(n)\n",
    "conf_int80 = [mean - (b * error_marg) , mean + (b * error_marg)]\n",
    "conf_int80"
   ]
  },
  {
   "cell_type": "code",
   "execution_count": null,
   "metadata": {
    "Collapsed": "false"
   },
   "outputs": [],
   "source": [
    "#Paolo: we can use CLT (central limit theorem) \n",
    "# check it for 80% conf interval, same for 90%\n",
    "total_shops = 105;\n",
    "loss_shops = 27;\n",
    "score_80 = stats.norm.interval(0.80)[1];\n",
    "# Parameters\n",
    "prop = loss_shops / total_shops;\n",
    "prop_se = math.sqrt((prop * (1 - prop)) / total_shops);\n",
    "conf_int80 = [prop - (score_80 * prop_se), prop + (score_80 * prop_se)]\n",
    "conf_int80"
   ]
  },
  {
   "cell_type": "code",
   "execution_count": null,
   "metadata": {
    "Collapsed": "false"
   },
   "outputs": [],
   "source": [
    "# 90% confidence level:\n",
    "b = stats.binom.interval(0.9, n, p)[1]\n",
    "conf_int90 = [mean - (b * error_marg) , mean + (b * error_marg)]\n",
    "conf_int90\n",
    "#Paolo: same comment as for 80%"
   ]
  },
  {
   "cell_type": "markdown",
   "metadata": {
    "Collapsed": "false"
   },
   "source": [
    "## Challenge 3 - More practice\n",
    "For the same example in challenge 1, calculate a confidence interval for the variance at 90% level.\n",
    "\n",
    "**Hint**: function `stats.chi2.interval` from `scipy` can help you get through this exercise. "
   ]
  },
  {
   "cell_type": "code",
   "execution_count": null,
   "metadata": {
    "Collapsed": "false"
   },
   "outputs": [],
   "source": [
    "# your code here\n",
    "\n",
    "sample_heights = [167, 167, 168, 168, 168, 169, 171, 172, 173, 175, 175, 175, 177, 182, 195]\n",
    "n = len(sample_heights)\n",
    "mean = np.mean(sample_heights)\n",
    "\n",
    "df = n - 1\n",
    "var_sample = abs(np.sum((sample_heights - mean)**2) / (1-n))\n",
    "chi_right = stats.chi2.interval(0.90, df)[0]\n",
    "chi_left = stats.chi2.interval(0.90, df)[1]\n",
    "\n",
    "conf_int = [df * var_sample/ chi_left , df * var_sample / chi_right]\n",
    "conf_int\n",
    "#Paolo:yes"
   ]
  },
  {
   "cell_type": "markdown",
   "metadata": {
    "Collapsed": "false"
   },
   "source": [
    "## Challenge 4 - More practice\n",
    "The sulfuric acid content of 7 similar containers is 9.8, 10.2, 10.4, 9.8, 10.0, 10.2 and 9.6 liters. Calculate a 95% confidence interval for the average content of all containers assuming an approximately normal distribution.\n",
    "\n",
    "```\n",
    "acid = [9.8, 10.2, 10.4, 9.8, 10.0, 10.2, 9.6]\n",
    "```\n",
    "\n",
    "**Hint**: function `stats.t.interval` from `scipy` can help you get through this exercise. "
   ]
  },
  {
   "cell_type": "code",
   "execution_count": null,
   "metadata": {
    "Collapsed": "false"
   },
   "outputs": [],
   "source": [
    "# your code here\n",
    "\n",
    "acid = [9.8, 10.2, 10.4, 9.8, 10.0, 10.2, 9.6]\n",
    "df = len(acid) - 1\n",
    "t = stats.t.interval(0.95, df)[1]\n",
    "\n",
    "mean = np.mean(acid)\n",
    "std = np.sqrt(abs(np.sum((acid - mean)**2) / (1-len(acid))))\n",
    "error_margin = std / np.sqrt(len(acid))\n",
    "\n",
    "conf_int = [mean - (t * error_margin) , mean + (t * error_margin)]\n",
    "conf_int\n",
    "#Paolo:yes"
   ]
  },
  {
   "cell_type": "markdown",
   "metadata": {
    "Collapsed": "false"
   },
   "source": [
    "## Bonus Challenge\n",
    "The error level or sampling error for the first challenge is given by the following expression:\n",
    "$$Error = z_{\\frac{\\alpha}{2}}\\frac{\\sigma}{\\sqrt n}$$\n",
    "Where z represents the value for N(0,1)\n",
    "\n",
    "\n",
    "Suppose that with the previous data of challenge 1, and with a confidence level of\n",
    "99% (that is, almost certainly) we want to estimate the average population size, so that the error level committed is not greater than half a centimeter.\n",
    "\n",
    "#### 1.- Determine what size the selected sample of men should be."
   ]
  },
  {
   "cell_type": "code",
   "execution_count": null,
   "metadata": {
    "Collapsed": "false"
   },
   "outputs": [],
   "source": [
    "# your code here"
   ]
  },
  {
   "cell_type": "markdown",
   "metadata": {
    "Collapsed": "false"
   },
   "source": [
    "#### 2.- For the second challenge, we have the following error:\n",
    "$$ Error = z_{\\frac{\\alpha}{2}}\\sqrt{\\frac{p\\times q}{n}} $$\n",
    "#### Determine the sample size required to not exceed an error of 1% with a confidence of 80%."
   ]
  },
  {
   "cell_type": "code",
   "execution_count": null,
   "metadata": {
    "Collapsed": "false"
   },
   "outputs": [],
   "source": [
    "# your code here"
   ]
  },
  {
   "cell_type": "markdown",
   "metadata": {
    "Collapsed": "false"
   },
   "source": [
    "## Bonus Challenge\n",
    "\n",
    "Let's consider the following problem:\n",
    "\n",
    "Build a confidence interval of 94% for the real difference between the durations of two brands of spotlights, if a sample of 40 spotlights taken randomly from the first mark gave an average duration of 418 hours, and a sample of 50 bulbs of another brand gave a duration average of 402 hours. The standard deviations of the two\n",
    "populations are 26 hours and 22 hours, respectively.\n",
    "\n",
    "Sometimes, we will be interested in the difference of two different groups of random variables. We can also build a confidence interval for that! We have some different cases regarding the variance but for this specific case (the variance are different and known), we have that:\n",
    "\n",
    "$$\\overline{X} - \\overline{Y}  \\sim N(\\mu_{X} - \\mu_{Y} , \\sqrt{\\frac{\\sigma_{X}^2}{n_X}+\\frac{\\sigma_{Y}^2}{n_Y}})$$\n",
    "\n",
    "Solve the problem with this information."
   ]
  },
  {
   "cell_type": "code",
   "execution_count": null,
   "metadata": {
    "Collapsed": "false"
   },
   "outputs": [],
   "source": [
    "# your code here"
   ]
  }
 ],
 "metadata": {
  "kernelspec": {
   "display_name": "Python 3",
   "language": "python",
   "name": "python3"
  },
  "language_info": {
   "codemirror_mode": {
    "name": "ipython",
    "version": 3
   },
   "file_extension": ".py",
   "mimetype": "text/x-python",
   "name": "python",
   "nbconvert_exporter": "python",
   "pygments_lexer": "ipython3",
   "version": "3.7.6"
  }
 },
 "nbformat": 4,
 "nbformat_minor": 4
}
