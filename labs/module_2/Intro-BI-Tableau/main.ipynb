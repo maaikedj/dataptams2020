{
 "cells": [
  {
   "cell_type": "markdown",
   "metadata": {
    "Collapsed": "false"
   },
   "source": [
    "# Tableau Lab "
   ]
  },
  {
   "cell_type": "markdown",
   "metadata": {
    "Collapsed": "false"
   },
   "source": [
    "https://public.tableau.com/profile/zuzanna8739#!/vizhome/TableauLab_15887084449790/AvgTransfersbyYQ"
   ]
  },
  {
   "cell_type": "code",
   "execution_count": null,
   "metadata": {
    "Collapsed": "false"
   },
   "outputs": [],
   "source": [
    "#I had a problem with the AvgSales column. \n",
    "#I used this equation: WINDOW_AVG(sum([Sales Total])), but something must have gone wrong. \n",
    "#Tried changing data type, but it wouldn't allow me to... \n",
    "#I would be very grateful for feedback/help on this :) Thank you!"
   ]
  },
  {
   "cell_type": "markdown",
   "metadata": {
    "Collapsed": "false"
   },
   "source": [
    "Zuzanna, I think since there are several differences between your tables and the solutions, the best thing is to check yourself the tables and the solution workbook [here](https://drive.google.com/drive/folders/1KQDuwNOEefrNck-Bqu8CVKWGLGlxfSlr?usp=sharing)<br>\n",
    "I like that you name the sheets according to their content!"
   ]
  }
 ],
 "metadata": {
  "kernelspec": {
   "display_name": "Python 3",
   "language": "python",
   "name": "python3"
  },
  "language_info": {
   "codemirror_mode": {
    "name": "ipython",
    "version": 3
   },
   "file_extension": ".py",
   "mimetype": "text/x-python",
   "name": "python",
   "nbconvert_exporter": "python",
   "pygments_lexer": "ipython3",
   "version": "3.7.6"
  }
 },
 "nbformat": 4,
 "nbformat_minor": 4
}
