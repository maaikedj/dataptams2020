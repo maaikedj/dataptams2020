{
 "cells": [
  {
   "cell_type": "code",
   "execution_count": null,
   "metadata": {
    "Collapsed": "false",
    "colab": {
     "base_uri": "https://localhost:8080/",
     "height": 34
    },
    "colab_type": "code",
    "executionInfo": {
     "elapsed": 500,
     "status": "ok",
     "timestamp": 1585074716501,
     "user": {
      "displayName": "Louk Smalbil",
      "photoUrl": "https://lh3.googleusercontent.com/a-/AOh14GiByqcfGW98Bn42uapsD4oj4auyrLV9xURPKHUj=s64",
      "userId": "10422991521784029462"
     },
     "user_tz": -60
    },
    "id": "6DqM2os3h4Gz",
    "outputId": "e25f7b6e-2491-4eee-d67a-faaf104ab1e6"
   },
   "outputs": [],
   "source": [
    "import numpy as np\n",
    "name_list = ['Andrea', 'Sreelatha', 'Sara', 'Eva', 'Maaike', 'Victor', 'Zuzanna']\n",
    "np.random.choice(name_list)"
   ]
  },
  {
   "cell_type": "markdown",
   "metadata": {
    "Collapsed": "false",
    "colab_type": "text",
    "id": "v5KG7k5acKXp"
   },
   "source": [
    "# Discrete Probability Distributions"
   ]
  },
  {
   "cell_type": "markdown",
   "metadata": {
    "Collapsed": "false",
    "colab_type": "text",
    "id": "sXa-DdB4cN9D"
   },
   "source": [
    "## Introduction\n",
    "\n",
    "In this lesson we will focus on discrete probability distributions. First let's have a look at the basics."
   ]
  },
  {
   "cell_type": "markdown",
   "metadata": {
    "Collapsed": "false",
    "colab_type": "text",
    "id": "rXEyugKtcXdl"
   },
   "source": [
    "### Random Variables\n",
    "Consider an experiment where we are rolling a die twice."
   ]
  },
  {
   "cell_type": "markdown",
   "metadata": {
    "Collapsed": "false",
    "colab_type": "text",
    "id": "HxoL53nno-w8"
   },
   "source": [
    "\n",
    "\n",
    "> $S = \\{ (1,1), (1,2), (1,3), (1,4), (1,5), (1,6), (2,1), (2,2), (2,3), .......... \\}$\n",
    "\n"
   ]
  },
  {
   "cell_type": "markdown",
   "metadata": {
    "Collapsed": "false",
    "colab_type": "text",
    "id": "WsIwTZlccaDm"
   },
   "source": [
    "This can be represented by a random variable X as:"
   ]
  },
  {
   "cell_type": "markdown",
   "metadata": {
    "Collapsed": "false",
    "colab_type": "text",
    "id": "fk1X4pebhnVE"
   },
   "source": [
    "\n",
    "\n",
    "> X = {Sum of numbers on the die when rolled twice}\n",
    "\n"
   ]
  },
  {
   "cell_type": "markdown",
   "metadata": {
    "Collapsed": "false",
    "colab_type": "text",
    "id": "3SmEhpAXcrnM"
   },
   "source": [
    "\n",
    "\n",
    "*   P{X = 2} = P{(1, 1)} = 1/36\n",
    "*   P{X = 3} = P{(1, 2), (2, 1)} =2/36\n",
    "*   P{X = 4} = P{(1, 3), (2, 2), (3, 1)} = 3/36\n",
    "*   P{X = 5} = P{(1, 4), (2, 3), (3, 2), (4, 1)} = 4/36\n",
    "*   P{X = 6} = P{(1, 5), (2, 4), (3, 3), (4, 2), (5, 1)} = 5/36\n",
    "*   P{X = 7} = P{(1, 6), (2, 5), (3, 4), (4, 3), (5, 2), (6, 1)} = 6/36\n",
    "*   P{X = 8} = P{(2, 6), (3, 5), (4, 4), (5, 3), (6, 2)} = 5/36\n",
    "*   P{X = 9} = P{(3, 6), (4, 5), (5, 4), (6, 3)} = 4/36\n",
    "*   P{X = 10} = P{(4, 6), (5, 5), (6, 4)} = 3/36\n",
    "*   P{X = 11} = P{(5, 6), (6, 5)} = 2/36\n",
    "*   P{X = 12} = P{(6, 6)} = 1/36\n",
    "\n"
   ]
  },
  {
   "cell_type": "markdown",
   "metadata": {
    "Collapsed": "false",
    "colab_type": "text",
    "id": "9QNczp0ud9qN"
   },
   "source": [
    "The sum of all the probabilities added together is 1:\n",
    "\n",
    "\n",
    "\n",
    "> $\\sum_{x_{i}} P(X=x_{i}) = 1$\n",
    "\n"
   ]
  },
  {
   "cell_type": "markdown",
   "metadata": {
    "Collapsed": "false",
    "colab_type": "text",
    "id": "JruVcVAmgr4o"
   },
   "source": [
    "### Parameters\n",
    "\n",
    "Parameters are an important concept in statistics. Before we move on to some examples, consider these two 'text-book' definitions:\n",
    "\n",
    "    \"[A] set of facts which describes and puts limits on how something should happen or be done.\"\n",
    "*Cambridge Dictionary*\n",
    "\n",
    "    \"[A]n arbitrary constant whose value characterizes a member of a system (such as a family of curves)\"\n",
    "*Merriam Webster Dictionary*\n"
   ]
  },
  {
   "cell_type": "markdown",
   "metadata": {
    "Collapsed": "false",
    "colab_type": "text",
    "id": "nA2V--yNitXh"
   },
   "source": [
    "To visualise the concept of a parameter, let us look at a familiar example: the Gaussian. A Gaussian or normal distribution has two parameters, $\\mu$ and $\\sigma$. $\\mu$ is the mean and $\\sigma$ the standard deviation. (note that the variance is usually denoted as $\\sigma^{2}$). Let us plot a couple of Gaussians, each with a different mean and standard deviation. "
   ]
  },
  {
   "cell_type": "code",
   "execution_count": null,
   "metadata": {
    "Collapsed": "false",
    "colab": {
     "base_uri": "https://localhost:8080/",
     "height": 282
    },
    "colab_type": "code",
    "executionInfo": {
     "elapsed": 743,
     "status": "ok",
     "timestamp": 1585072337382,
     "user": {
      "displayName": "Louk Smalbil",
      "photoUrl": "https://lh3.googleusercontent.com/a-/AOh14GiByqcfGW98Bn42uapsD4oj4auyrLV9xURPKHUj=s64",
      "userId": "10422991521784029462"
     },
     "user_tz": -60
    },
    "id": "nZpSlLQliVrK",
    "outputId": "9d1fd3a4-a0de-498d-b91f-2afd0b54ef49"
   },
   "outputs": [],
   "source": [
    "import numpy as np\n",
    "import seaborn as sns\n",
    "\n",
    "gaussian = np.random.normal(loc=1, scale=0.5, size=10000)\n",
    "sns.distplot(gaussian)"
   ]
  },
  {
   "cell_type": "code",
   "execution_count": null,
   "metadata": {
    "Collapsed": "false",
    "colab": {
     "base_uri": "https://localhost:8080/",
     "height": 282
    },
    "colab_type": "code",
    "executionInfo": {
     "elapsed": 775,
     "status": "ok",
     "timestamp": 1585072332926,
     "user": {
      "displayName": "Louk Smalbil",
      "photoUrl": "https://lh3.googleusercontent.com/a-/AOh14GiByqcfGW98Bn42uapsD4oj4auyrLV9xURPKHUj=s64",
      "userId": "10422991521784029462"
     },
     "user_tz": -60
    },
    "id": "jTjnw2tDilgl",
    "outputId": "8e85e68c-6895-44d1-ca5f-b23373766886"
   },
   "outputs": [],
   "source": [
    "gaussian = np.random.normal(loc=152, scale=23, size=10000)\n",
    "sns.distplot(gaussian)"
   ]
  },
  {
   "cell_type": "code",
   "execution_count": null,
   "metadata": {
    "Collapsed": "false",
    "colab": {
     "base_uri": "https://localhost:8080/",
     "height": 282
    },
    "colab_type": "code",
    "executionInfo": {
     "elapsed": 686,
     "status": "ok",
     "timestamp": 1585072355435,
     "user": {
      "displayName": "Louk Smalbil",
      "photoUrl": "https://lh3.googleusercontent.com/a-/AOh14GiByqcfGW98Bn42uapsD4oj4auyrLV9xURPKHUj=s64",
      "userId": "10422991521784029462"
     },
     "user_tz": -60
    },
    "id": "kkulMHcNinUu",
    "outputId": "bda74ebd-713c-41b7-960a-de8a51a8d29d"
   },
   "outputs": [],
   "source": [
    "gaussian = np.random.normal(loc=1, scale=300, size=10000)\n",
    "sns.distplot(gaussian)"
   ]
  },
  {
   "cell_type": "markdown",
   "metadata": {
    "Collapsed": "false",
    "colab_type": "text",
    "id": "QDzXN48KiMGQ"
   },
   "source": [
    "As can be seen, even though the 'sizes' differ, their general shapes are the same due to the parameters. "
   ]
  },
  {
   "cell_type": "markdown",
   "metadata": {
    "Collapsed": "false",
    "colab_type": "text",
    "id": "Qd_0VLVJlZ_f"
   },
   "source": [
    "### Probability Mass Function \n",
    "\n",
    "The probability mass function (PMF) is a function for a discrete random variable that provides the distribution of that discrete random variable. As such, it is simply the **frequency distribution** of a random variable. We say that,\n",
    "\n",
    "$$p_{X}(x_{i}) = P(X = x_{i})$$\n",
    "\n",
    "Whereas until now we've mostly looked at the probabilities of one single data point, the PMF describes the entire event space. \n"
   ]
  },
  {
   "cell_type": "code",
   "execution_count": null,
   "metadata": {
    "Collapsed": "false",
    "colab": {},
    "colab_type": "code",
    "id": "DW82XHvYm2Dm"
   },
   "outputs": [],
   "source": [
    "pmf = np.array([8,8,8,8,8,6,6,6,1,1])"
   ]
  },
  {
   "cell_type": "code",
   "execution_count": null,
   "metadata": {
    "Collapsed": "false",
    "colab": {},
    "colab_type": "code",
    "id": "cBB5D78NRcqn"
   },
   "outputs": [],
   "source": [
    "import matplotlib.pyplot as plt"
   ]
  },
  {
   "cell_type": "code",
   "execution_count": null,
   "metadata": {
    "Collapsed": "false",
    "colab": {
     "base_uri": "https://localhost:8080/",
     "height": 265
    },
    "colab_type": "code",
    "executionInfo": {
     "elapsed": 556,
     "status": "ok",
     "timestamp": 1585072574593,
     "user": {
      "displayName": "Louk Smalbil",
      "photoUrl": "https://lh3.googleusercontent.com/a-/AOh14GiByqcfGW98Bn42uapsD4oj4auyrLV9xURPKHUj=s64",
      "userId": "10422991521784029462"
     },
     "user_tz": -60
    },
    "id": "65XD8IEynEQO",
    "outputId": "9e92e2f2-c5e1-40ab-e730-0ca5ef8662fb"
   },
   "outputs": [],
   "source": [
    "plt.hist(pmf)\n",
    "plt.show()"
   ]
  },
  {
   "cell_type": "markdown",
   "metadata": {
    "Collapsed": "false",
    "colab_type": "text",
    "id": "A5wSnmn2eZQf"
   },
   "source": [
    "## Discrete Random Variables\n"
   ]
  },
  {
   "cell_type": "markdown",
   "metadata": {
    "Collapsed": "false",
    "colab_type": "text",
    "id": "XCa4ogTGeg5j"
   },
   "source": [
    "### Bernoulli Random Variables\n",
    "\n",
    "\n",
    "\n",
    "\n",
    "When in an experiment, the outcome can be classified as either a “success” or as a “failure”. Therefore the random variable X equal 1 if the outcome is a success and a 0 if it is a failure."
   ]
  },
  {
   "cell_type": "markdown",
   "metadata": {
    "Collapsed": "false",
    "colab_type": "text",
    "id": "FClxtR50enYt"
   },
   "source": [
    "$Parameter: p$\n",
    "\n",
    "$P(X = 1) = p$  where $p$ is the probability of success\n",
    "\n",
    "$P(X = 0) = 1 − p$"
   ]
  },
  {
   "cell_type": "markdown",
   "metadata": {
    "Collapsed": "false",
    "colab_type": "text",
    "id": "Ku_VGJAYhsW-"
   },
   "source": [
    "The following example uses Python Scipy to plot the distribution of Bernoulli's random variable. Note that the Bernoulli number sequence is dynamically generated with the probabilistic distribution of P(X = 1) = 0.8 and P(X = 0) = 0.2. That's why the distribution is approximately 0.2/0.8 instead of exactly 0.2/0.8.\n",
    "\n",
    "Also note that if we sample from a distribution, we denote this as \n",
    "\n",
    "$$x_{i} \\sim Ber(p).$$\n",
    "\n",
    "In the example provided below, we sample from a random Bernoulli variable with a success probability of 0.8. Hence,\n",
    "\n",
    "$$x_{i} \\sim Ber(0.8)$$"
   ]
  },
  {
   "cell_type": "code",
   "execution_count": null,
   "metadata": {
    "Collapsed": "false",
    "colab": {},
    "colab_type": "code",
    "id": "vZ0rdLtaeXa7"
   },
   "outputs": [],
   "source": [
    "import matplotlib.pyplot as plt\n",
    "from scipy.stats import bernoulli"
   ]
  },
  {
   "cell_type": "code",
   "execution_count": null,
   "metadata": {
    "Collapsed": "false",
    "colab": {
     "base_uri": "https://localhost:8080/",
     "height": 265
    },
    "colab_type": "code",
    "executionInfo": {
     "elapsed": 1066,
     "status": "ok",
     "timestamp": 1585073144903,
     "user": {
      "displayName": "Louk Smalbil",
      "photoUrl": "https://lh3.googleusercontent.com/a-/AOh14GiByqcfGW98Bn42uapsD4oj4auyrLV9xURPKHUj=s64",
      "userId": "10422991521784029462"
     },
     "user_tz": -60
    },
    "id": "4gmAivM3Feiw",
    "outputId": "d6c13c46-74f8-4943-c180-2b45399b9c11"
   },
   "outputs": [],
   "source": [
    "# 1-p = 0.6\n",
    "p = 0.4\n",
    "X = bernoulli.rvs(p, size=100)\n",
    "plt.hist(X)\n",
    "plt.show()"
   ]
  },
  {
   "cell_type": "markdown",
   "metadata": {
    "Collapsed": "false",
    "colab_type": "text",
    "id": "3PQd2efkh-_3"
   },
   "source": [
    "### Binomial Random Variable\n",
    "\n",
    "In the previous example we had only experiment where we checked if the event was a success or failure. Consider a similar setup but here you are conducting ‘n’ such independent experiments and recording the results of every experiment.\n",
    "\n",
    "$ parameters: (n, p)$\n",
    "\n",
    "$ N:$ Number of trials/experiments\n",
    "\n",
    "$ P:$ probability of success\n",
    "\n",
    "The probability mass function of a binomial random variable having parameters (n, p) is given by\n",
    "\n",
    "$$(X = k) = \\binom{n}{k} p^{{k}} (1-p)^{n-k},$$\n",
    "\n",
    "\n",
    "where $$\\binom{n}{k} = \\frac{n!}{(n-k)! k!}.$$\n",
    "\n",
    "Here, $i$ denotes the success of the trials and $n$ the number of trials carried out. "
   ]
  },
  {
   "cell_type": "markdown",
   "metadata": {
    "Collapsed": "false",
    "colab_type": "text",
    "id": "jk_1lpTN5f9Q"
   },
   "source": [
    "#### Example 1\n",
    "\n",
    "\n",
    "\n",
    "> \"An online retailer offers next-day shipping for an extra fee. The retailer says that 95 percent of customers who pay for next-day shipping actually receive the item the next day, and those who don't are issued a refund. Suppose we take a sample of 20 next-day orders, and let X represent the number of these orders that arrive the next day. Assume that the arrival statuses of orders are independent.\" ([Retrieved from Khan Academy\n",
    "](https://www.khanacademy.org/math/ap-statistics/random-variables-ap/binomial-random-variable/e/binomial-probability))\n",
    "\n",
    "\n",
    "Thus, we are interested in:\n",
    "\n",
    "$$P(X=19).$$ \n",
    "\n",
    "We have that $n = 20$ since there are 20 trials in total and 19 successes, denoted as $k = 19$.\n",
    "\n",
    "We can plug this in into our formula and obtain\n",
    "\n",
    "$$P(X = 19) = \\binom{20}{19} p^{19} (1-p)^{20-19}.$$\n",
    "\n",
    "Furthermore, since the assumed probability of success is $0.95$, we know that $p = 0.95$ and $1 - p = 1 - 0.95 = 0.05$. Substituting that in our formula, we obtain:\n",
    "\n",
    "$$P(X = 19) = \\binom{20}{19} 0.95^{19} 0.05^{20-19}.$$ \n",
    "\n",
    "Simplifying this equation, we obtain:\n",
    "\n",
    "$$P(X = 19) = \\binom{20}{19} 0.95^{19} 0.05.$$ \n",
    "\n",
    "We can then look at the first term, $\\binom{20}{19}$, which can be rewritten as:\n",
    "\n",
    "$$\\binom{20}{19} = \\frac{20!}{(20-19)! * 19!} = \\frac{20 * 19 * 18... * 1}{(1) * (19 * 18... * 1)} = \\frac{20}{1}.$$\n",
    "\n",
    "Then, we have that:\n",
    "\n",
    "$$P(X = 19) = \\frac{20}{1} * 0.95^{19} * 0.05. = 20 * 0.377\n",
    " * 0.05 \\approx 0.377.$$ \n"
   ]
  },
  {
   "cell_type": "code",
   "execution_count": null,
   "metadata": {
    "Collapsed": "false",
    "colab": {},
    "colab_type": "code",
    "id": "TIJE6BsGEzX5"
   },
   "outputs": [],
   "source": [
    "%matplotlib inline\n",
    "from scipy import stats\n",
    "from scipy.stats import binom"
   ]
  },
  {
   "cell_type": "code",
   "execution_count": null,
   "metadata": {
    "Collapsed": "false",
    "colab": {
     "base_uri": "https://localhost:8080/",
     "height": 282
    },
    "colab_type": "code",
    "executionInfo": {
     "elapsed": 520,
     "status": "ok",
     "timestamp": 1585073701998,
     "user": {
      "displayName": "Louk Smalbil",
      "photoUrl": "https://lh3.googleusercontent.com/a-/AOh14GiByqcfGW98Bn42uapsD4oj4auyrLV9xURPKHUj=s64",
      "userId": "10422991521784029462"
     },
     "user_tz": -60
    },
    "id": "Wi_mwarQExuF",
    "outputId": "03b17369-f48c-431a-cdd2-977ac86cd728"
   },
   "outputs": [],
   "source": [
    "n=20\n",
    "p=0.95\n",
    "binomial = binom(n,p)\n",
    "\n",
    "x = np.arange(0,30)\n",
    "fig, ax = plt.subplots(1, 1)\n",
    "ax.plot(x, binom.pmf(x, n, p), 'bo')\n",
    "ax.vlines(x, 0, binom.pmf(x, n, p), colors='b', lw=5, alpha=0.5)"
   ]
  },
  {
   "cell_type": "code",
   "execution_count": null,
   "metadata": {
    "Collapsed": "false",
    "colab": {
     "base_uri": "https://localhost:8080/",
     "height": 68
    },
    "colab_type": "code",
    "executionInfo": {
     "elapsed": 899,
     "status": "ok",
     "timestamp": 1585073724183,
     "user": {
      "displayName": "Louk Smalbil",
      "photoUrl": "https://lh3.googleusercontent.com/a-/AOh14GiByqcfGW98Bn42uapsD4oj4auyrLV9xURPKHUj=s64",
      "userId": "10422991521784029462"
     },
     "user_tz": -60
    },
    "id": "DNkuhP1ZE9Wk",
    "outputId": "a8859891-6141-427c-eec5-a75b96c76363"
   },
   "outputs": [],
   "source": [
    "print(binomial.mean())\n",
    "print(binomial.var())\n",
    "print(binomial.std())"
   ]
  },
  {
   "cell_type": "code",
   "execution_count": null,
   "metadata": {
    "Collapsed": "false",
    "colab": {
     "base_uri": "https://localhost:8080/",
     "height": 34
    },
    "colab_type": "code",
    "executionInfo": {
     "elapsed": 618,
     "status": "ok",
     "timestamp": 1585074399696,
     "user": {
      "displayName": "Louk Smalbil",
      "photoUrl": "https://lh3.googleusercontent.com/a-/AOh14GiByqcfGW98Bn42uapsD4oj4auyrLV9xURPKHUj=s64",
      "userId": "10422991521784029462"
     },
     "user_tz": -60
    },
    "id": "hXTR44KeU0pt",
    "outputId": "2f5f3c7e-99cb-4552-b1e1-e0356006efdb"
   },
   "outputs": [],
   "source": [
    "# Print the probability of X=19\n",
    "print(binomial.pmf(19))"
   ]
  },
  {
   "cell_type": "code",
   "execution_count": null,
   "metadata": {
    "Collapsed": "false",
    "colab": {
     "base_uri": "https://localhost:8080/",
     "height": 136
    },
    "colab_type": "code",
    "executionInfo": {
     "elapsed": 490,
     "status": "ok",
     "timestamp": 1585074392716,
     "user": {
      "displayName": "Louk Smalbil",
      "photoUrl": "https://lh3.googleusercontent.com/a-/AOh14GiByqcfGW98Bn42uapsD4oj4auyrLV9xURPKHUj=s64",
      "userId": "10422991521784029462"
     },
     "user_tz": -60
    },
    "id": "Qr5T_oCFXulg",
    "outputId": "d6667a6c-1958-4f22-f44d-b48153f0fd4e"
   },
   "outputs": [],
   "source": [
    "# Sample data points from the distribution\n",
    "sample = binomial.rvs(10000)\n",
    "np.array(np.unique(sample, return_counts=True)).T"
   ]
  },
  {
   "cell_type": "markdown",
   "metadata": {
    "Collapsed": "false",
    "colab_type": "text",
    "id": "bO9Uq7ex6Vg2"
   },
   "source": [
    "#### Example 2\n",
    "\n",
    "Have seen how to use a coin flip. This process can be modeled as Bernoulli random variable. However, it may also be modeled using a Binomial. \n",
    "\n",
    "For instance, we can describe the probability of a coin landing on its head as followis.  \n",
    "\n",
    "$$P(\"Heads\") = \\frac{1}{2}.$$\n",
    "\n",
    "Now, we can determine the probability that a coin lands on its head using the Binomial formula and actually proof that this is the case (assuming we have a fair coin). Suppose that we conduct 1 trial. Then, the probability that a coin will land on its head is 0.5. Hence, $p=0.5$. \n",
    "\n",
    "Thus, \n",
    "\n",
    "$$P(X = \"Heads\") = \\binom{1}{1} 0.5^{1} (1-0.5)^{1-1}.$$\n",
    "\n",
    "This gives us, \n",
    "\n",
    "$$P(X = \"Heads\") = 1 * 0.5^{1} (1-0.5)^{1-1}.$$\n",
    "\n",
    "Since $$(1-0.5)^{1-1} = (1-0.5)^{0} = 1$$ we have,\n",
    "\n",
    "$$P(X = \"Heads\") = 0.5.$$"
   ]
  },
  {
   "cell_type": "code",
   "execution_count": null,
   "metadata": {
    "Collapsed": "false",
    "colab": {
     "base_uri": "https://localhost:8080/",
     "height": 282
    },
    "colab_type": "code",
    "executionInfo": {
     "elapsed": 635,
     "status": "ok",
     "timestamp": 1585080854492,
     "user": {
      "displayName": "Louk Smalbil",
      "photoUrl": "https://lh3.googleusercontent.com/a-/AOh14GiByqcfGW98Bn42uapsD4oj4auyrLV9xURPKHUj=s64",
      "userId": "10422991521784029462"
     },
     "user_tz": -60
    },
    "id": "2Kfd2BRCFRm5",
    "outputId": "670f0710-1197-44a5-d6ff-7f56aa291edd"
   },
   "outputs": [],
   "source": [
    "n=1\n",
    "p=0.5\n",
    "binomial = binom(n,p)\n",
    "\n",
    "x = np.arange(0,30)\n",
    "fig, ax = plt.subplots(1, 1)\n",
    "ax.plot(x, binom.pmf(x, n, p), 'bo')\n",
    "ax.vlines(x, 0, binom.pmf(x, n, p), colors='b', lw=5, alpha=0.5)"
   ]
  },
  {
   "cell_type": "code",
   "execution_count": null,
   "metadata": {
    "Collapsed": "false",
    "colab": {
     "base_uri": "https://localhost:8080/",
     "height": 34
    },
    "colab_type": "code",
    "executionInfo": {
     "elapsed": 510,
     "status": "ok",
     "timestamp": 1585080858586,
     "user": {
      "displayName": "Louk Smalbil",
      "photoUrl": "https://lh3.googleusercontent.com/a-/AOh14GiByqcfGW98Bn42uapsD4oj4auyrLV9xURPKHUj=s64",
      "userId": "10422991521784029462"
     },
     "user_tz": -60
    },
    "id": "OSd6aF1RLitP",
    "outputId": "26d30b5e-c1c3-4755-b028-84c476e09598"
   },
   "outputs": [],
   "source": [
    "print(binomial.pmf(1))"
   ]
  },
  {
   "cell_type": "markdown",
   "metadata": {
    "Collapsed": "false",
    "colab_type": "text",
    "id": "oNxHs5fQHeMc"
   },
   "source": [
    "#### Example 3\n",
    "\n",
    "We can compute the probability of a coin landing on its head 3 times in a row as \n",
    "\n",
    "$$P(\"HHH\") = \\frac{1}{2} * \\frac{1}{2} * \\frac{1}{2} = \\left ( \\frac{1}{2} \\right )^{3} = \\frac{1}{8} = 0.125$$\n",
    "\n",
    "Again, we assume that we have a fair coin and that therefore $p=0.5$. Let us again assume that we only do one trial. Then, the probability of the coin landing on its head 3 times in a row will be:\n",
    "\n",
    "$$P(X = \"HHH\") = \\binom{3}{3} 0.5^{3} (1-0.5)^{3-3}.$$\n",
    "\n",
    "This gives us, \n",
    "\n",
    "$$P(X = \"HHH\") = 1 * 0.5^{3} (1-0.5)^{3-3}.$$\n",
    "\n",
    "Since $$(1-0.5)^{1-1} = (1-0.5)^{0} = 1$$ we have,\n",
    "\n",
    "$$P(X = \"HHH\") = 0.5^{3} = 0.125.$$\n",
    "\n"
   ]
  },
  {
   "cell_type": "code",
   "execution_count": null,
   "metadata": {
    "Collapsed": "false",
    "colab": {
     "base_uri": "https://localhost:8080/",
     "height": 282
    },
    "colab_type": "code",
    "executionInfo": {
     "elapsed": 545,
     "status": "ok",
     "timestamp": 1585080938827,
     "user": {
      "displayName": "Louk Smalbil",
      "photoUrl": "https://lh3.googleusercontent.com/a-/AOh14GiByqcfGW98Bn42uapsD4oj4auyrLV9xURPKHUj=s64",
      "userId": "10422991521784029462"
     },
     "user_tz": -60
    },
    "id": "ngX2ladoLYhK",
    "outputId": "d586d051-d815-4d0b-85c4-f46dfcc08325"
   },
   "outputs": [],
   "source": [
    "n=3\n",
    "p=0.5\n",
    "binomial = binom(n,p)\n",
    "\n",
    "x = np.arange(0,30)\n",
    "fig, ax = plt.subplots(1, 1)\n",
    "ax.plot(x, binom.pmf(x, n, p), 'bo')\n",
    "ax.vlines(x, 0, binom.pmf(x, n, p), colors='b', lw=5, alpha=0.5)"
   ]
  },
  {
   "cell_type": "code",
   "execution_count": null,
   "metadata": {
    "Collapsed": "false",
    "colab": {
     "base_uri": "https://localhost:8080/",
     "height": 34
    },
    "colab_type": "code",
    "executionInfo": {
     "elapsed": 571,
     "status": "ok",
     "timestamp": 1585080945649,
     "user": {
      "displayName": "Louk Smalbil",
      "photoUrl": "https://lh3.googleusercontent.com/a-/AOh14GiByqcfGW98Bn42uapsD4oj4auyrLV9xURPKHUj=s64",
      "userId": "10422991521784029462"
     },
     "user_tz": -60
    },
    "id": "mU6ErwZ-LpJC",
    "outputId": "221b2b56-29a9-4d63-9653-ca55c539fba1"
   },
   "outputs": [],
   "source": [
    "print(binomial.pmf(3))"
   ]
  },
  {
   "cell_type": "markdown",
   "metadata": {
    "Collapsed": "false",
    "colab_type": "text",
    "id": "33-hk26mMD00"
   },
   "source": [
    "#### Example 4 (Extension of Example 3)\n",
    "\n",
    "We can compute the probability of a coin landing on its head 3 times in a row as given that we perform $n$ number of trials. In example 3, we assumed that we did 3 trials. Here, however, let us assume we conduct 20 trials. Then out of the 20 trials, 3 out of 20 should have \"HHH\":\n",
    "\n",
    "$$P(X = \"HHH\") = \\binom{20}{3} 0.5^{3} (1-0.5)^{20-3}.$$\n",
    "\n",
    "This gives us, \n",
    "\n",
    "$$P(X = \"HHH\") = 1140 * 0.5^{3} * (1-0.5)^{17}.$$\n",
    "\n",
    "Thus, we have\n",
    "\n",
    "$$P(X = \"HHH\") = 1140 * 0.125 * 0.00690541387.$$\n",
    "\n",
    "This gives us,\n",
    "\n",
    "$$P(X = \"HHH\") = 1140 * 0.125 * 0.00690541387 = 0.00108718872.$$\n",
    "\n",
    "As such, the probability that the coin lands on its head 3 times in a row when we draw 100 samples is about 0.0011. \n"
   ]
  },
  {
   "cell_type": "code",
   "execution_count": null,
   "metadata": {
    "Collapsed": "false",
    "colab": {
     "base_uri": "https://localhost:8080/",
     "height": 282
    },
    "colab_type": "code",
    "executionInfo": {
     "elapsed": 467,
     "status": "ok",
     "timestamp": 1585082014108,
     "user": {
      "displayName": "Louk Smalbil",
      "photoUrl": "https://lh3.googleusercontent.com/a-/AOh14GiByqcfGW98Bn42uapsD4oj4auyrLV9xURPKHUj=s64",
      "userId": "10422991521784029462"
     },
     "user_tz": -60
    },
    "id": "65mIDSYrL_zL",
    "outputId": "7deed4b2-a3ca-4215-8bdf-1f2aa32490d1"
   },
   "outputs": [],
   "source": [
    "n=20\n",
    "p=0.5\n",
    "binomial = binom(n,p)\n",
    "\n",
    "x = np.arange(0,100)\n",
    "fig, ax = plt.subplots(1, 1)\n",
    "ax.plot(x, binom.pmf(x, n, p), 'bo')\n",
    "ax.vlines(x, 0, binom.pmf(x, n, p), colors='b', lw=5, alpha=0.5)"
   ]
  },
  {
   "cell_type": "code",
   "execution_count": null,
   "metadata": {
    "Collapsed": "false",
    "colab": {
     "base_uri": "https://localhost:8080/",
     "height": 34
    },
    "colab_type": "code",
    "executionInfo": {
     "elapsed": 475,
     "status": "ok",
     "timestamp": 1585082020999,
     "user": {
      "displayName": "Louk Smalbil",
      "photoUrl": "https://lh3.googleusercontent.com/a-/AOh14GiByqcfGW98Bn42uapsD4oj4auyrLV9xURPKHUj=s64",
      "userId": "10422991521784029462"
     },
     "user_tz": -60
    },
    "id": "d70UfyY6Pd9Y",
    "outputId": "7c5d6dcc-965b-411c-da9c-b7c3dd8d19a6"
   },
   "outputs": [],
   "source": [
    "print(binomial.pmf(3))"
   ]
  },
  {
   "cell_type": "markdown",
   "metadata": {
    "Collapsed": "false",
    "colab_type": "text",
    "id": "XZVRFqOenrVB"
   },
   "source": [
    "### Poisson Random Variable\n",
    "\n",
    "This is usually used as a counting variable (count number of occurrences of an event within a time frame). For this reason Poisson processes are also known as counting processes.\n",
    "\n",
    "It is defined as:\n",
    "\n",
    "$$P(X = k) = e^{-\\lambda} \\frac{\\lambda^{k}}{k !}.$$\n",
    "\n",
    "$Parameter: λ$  (rate of the process)\n",
    "\n",
    "\n",
    "\n"
   ]
  },
  {
   "cell_type": "markdown",
   "metadata": {
    "Collapsed": "false",
    "colab_type": "text",
    "id": "dTAsHCVSZcOG"
   },
   "source": [
    "![](https://miro.medium.com/max/6384/1*4EbJuTFOvvh6mXVDcE8D3Q.png)"
   ]
  },
  {
   "cell_type": "markdown",
   "metadata": {
    "Collapsed": "false",
    "colab_type": "text",
    "id": "vV8xm2cyZaBX"
   },
   "source": [
    "\n",
    "Let’s take a look at the example: Imagine that the number of accidents occurring on a highway each day is a Poisson random variable with parameter λ = 3, what is the probability that one accident occurs today. λ can be understood as the expected number of events in the interval.\n",
    "\n",
    "This is the same as saying P(X=1)."
   ]
  },
  {
   "cell_type": "markdown",
   "metadata": {
    "Collapsed": "false",
    "colab_type": "text",
    "id": "WwDpduXuZXsg"
   },
   "source": []
  },
  {
   "cell_type": "markdown",
   "metadata": {
    "Collapsed": "false",
    "colab_type": "text",
    "id": "GggjQj-6KRPI"
   },
   "source": [
    "Then, we can denote the probability of not any accidents occuring as follows:\n",
    "\n",
    "$$P(X=1) = e^{-3} \\frac{3^{1}}{1!}.$$\n",
    "\n",
    "This gives us,\n",
    "\n",
    "$$P(X=1) = 2.71828^{-3} * \\frac{3}{1}.$$\n",
    "\n",
    "When we write this out, we get\n",
    "\n",
    "$$0.04978706836 * 3 \\approx 0.149.$$\n"
   ]
  },
  {
   "cell_type": "code",
   "execution_count": null,
   "metadata": {
    "Collapsed": "false",
    "colab": {},
    "colab_type": "code",
    "id": "ryQUxUukLrUF"
   },
   "outputs": [],
   "source": [
    "%matplotlib inline \n",
    "from scipy import stats\n",
    "from scipy.stats import poisson"
   ]
  },
  {
   "cell_type": "code",
   "execution_count": null,
   "metadata": {
    "Collapsed": "false",
    "colab": {
     "base_uri": "https://localhost:8080/",
     "height": 34
    },
    "colab_type": "code",
    "executionInfo": {
     "elapsed": 497,
     "status": "ok",
     "timestamp": 1585074799386,
     "user": {
      "displayName": "Louk Smalbil",
      "photoUrl": "https://lh3.googleusercontent.com/a-/AOh14GiByqcfGW98Bn42uapsD4oj4auyrLV9xURPKHUj=s64",
      "userId": "10422991521784029462"
     },
     "user_tz": -60
    },
    "id": "57Jc4kgVlM2h",
    "outputId": "cac369c1-db4e-40bd-8b8f-ce8e7ec5dfc9"
   },
   "outputs": [],
   "source": [
    "param = 3\n",
    "po = stats.poisson(param)\n",
    "# Draw random samples\n",
    "print(po.rvs(10))"
   ]
  },
  {
   "cell_type": "code",
   "execution_count": null,
   "metadata": {
    "Collapsed": "false",
    "colab": {
     "base_uri": "https://localhost:8080/",
     "height": 282
    },
    "colab_type": "code",
    "executionInfo": {
     "elapsed": 571,
     "status": "ok",
     "timestamp": 1585074800610,
     "user": {
      "displayName": "Louk Smalbil",
      "photoUrl": "https://lh3.googleusercontent.com/a-/AOh14GiByqcfGW98Bn42uapsD4oj4auyrLV9xURPKHUj=s64",
      "userId": "10422991521784029462"
     },
     "user_tz": -60
    },
    "id": "oPgW-9FML5we",
    "outputId": "c994a357-75d7-4af2-a215-bb8458e91bee"
   },
   "outputs": [],
   "source": [
    "x = np.arange(0,20)\n",
    "fig, ax = plt.subplots(1, 1)\n",
    "ax.plot(x, poisson.pmf(x, param), 'bo', ms=1, label='poisson pmf')\n",
    "#Plot axis vertical lines\n",
    "ax.vlines(x, 0, poisson.pmf(x, param), colors='b', lw=5, alpha=0.5)"
   ]
  },
  {
   "cell_type": "code",
   "execution_count": null,
   "metadata": {
    "Collapsed": "false",
    "colab": {
     "base_uri": "https://localhost:8080/",
     "height": 34
    },
    "colab_type": "code",
    "executionInfo": {
     "elapsed": 642,
     "status": "ok",
     "timestamp": 1585074804940,
     "user": {
      "displayName": "Louk Smalbil",
      "photoUrl": "https://lh3.googleusercontent.com/a-/AOh14GiByqcfGW98Bn42uapsD4oj4auyrLV9xURPKHUj=s64",
      "userId": "10422991521784029462"
     },
     "user_tz": -60
    },
    "id": "LQVvJw6aLBqJ",
    "outputId": "37f97b2b-bc18-4a55-8adc-84c91180e146"
   },
   "outputs": [],
   "source": [
    "print(po.pmf(1))"
   ]
  },
  {
   "cell_type": "markdown",
   "metadata": {
    "Collapsed": "false",
    "colab_type": "text",
    "id": "nWf_6Gd0o5BI"
   },
   "source": [
    "## Summary \n",
    "\n",
    "In this lesson we learnt about discrete random variables, discrete probability distributions,  and how they are characterized by their parameters and PMF (probability mass function). We also talked about some important distributions including Bernoulli's, binomial, and Poisson distribution along with its application in python using SciPy library. "
   ]
  },
  {
   "cell_type": "code",
   "execution_count": null,
   "metadata": {
    "Collapsed": "false",
    "colab": {},
    "colab_type": "code",
    "id": "wf3Kv9z9os3v"
   },
   "outputs": [],
   "source": []
  }
 ],
 "metadata": {
  "colab": {
   "authorship_tag": "ABX9TyOHPmESlCexRfxp8uW7UaKU",
   "collapsed_sections": [],
   "name": "Discrete_Probability_Distributions.ipynb",
   "provenance": []
  },
  "kernelspec": {
   "display_name": "Python 3",
   "language": "python",
   "name": "python3"
  },
  "language_info": {
   "codemirror_mode": {
    "name": "ipython",
    "version": 3
   },
   "file_extension": ".py",
   "mimetype": "text/x-python",
   "name": "python",
   "nbconvert_exporter": "python",
   "pygments_lexer": "ipython3",
   "version": "3.7.4"
  }
 },
 "nbformat": 4,
 "nbformat_minor": 4
}
