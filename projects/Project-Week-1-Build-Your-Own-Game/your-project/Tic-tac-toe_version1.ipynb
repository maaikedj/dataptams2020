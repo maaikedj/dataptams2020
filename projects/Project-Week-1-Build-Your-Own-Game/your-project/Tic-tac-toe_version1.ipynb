{
 "cells": [
  {
   "cell_type": "markdown",
   "metadata": {},
   "source": [
    "# Tic-tac-toe\n",
    "\n",
    "## version 1: basic two player game\n",
    "\n",
    "I started with a simple version of Tic Tac Toe where two players play against each other. "
   ]
  },
  {
   "cell_type": "markdown",
   "metadata": {},
   "source": [
    "First, import the necessary packages"
   ]
  },
  {
   "cell_type": "code",
   "execution_count": null,
   "metadata": {},
   "outputs": [],
   "source": [
    "#I use the time.sleep function to add delays in printing during the game\n",
    "\n",
    "import time"
   ]
  },
  {
   "cell_type": "markdown",
   "metadata": {},
   "source": [
    "We start with defining the 'board' as a dataframe with which we will keep score"
   ]
  },
  {
   "cell_type": "code",
   "execution_count": null,
   "metadata": {},
   "outputs": [],
   "source": [
    "#Define the board\n",
    "\n",
    "board = [' ', ' ', ' ', ' ', ' ', ' ', ' ', ' ', ' ', ' ']"
   ]
  },
  {
   "cell_type": "markdown",
   "metadata": {},
   "source": [
    "Then we define functions for different parts of the game"
   ]
  },
  {
   "cell_type": "code",
   "execution_count": null,
   "metadata": {},
   "outputs": [],
   "source": [
    "#Function for printing the game header:\n",
    "\n",
    "def print_header():\n",
    "    print('\\n')\n",
    "    print('=======================')\n",
    "    print('WELCOME TO TIC TAC TOE!')\n",
    "    print('=======================')\n",
    "    time.sleep(1.5)\n",
    "    print('\\nThis is a two-player game\\n')\n",
    "    time.sleep(1.5)"
   ]
  },
  {
   "cell_type": "code",
   "execution_count": null,
   "metadata": {},
   "outputs": [],
   "source": [
    "#Function for giving instructions:\n",
    "\n",
    "def instructions():\n",
    "    print('Player 1 plays \\'X\\' and Player 2 plays \\'O\\'.\\n')\n",
    "    time.sleep(1.5)\n",
    "    print('Please take turns in choosing your position on the board from 1-9:\\n')\n",
    "    print(' 1 | 2 | 3 ')\n",
    "    print('---|---|---')\n",
    "    print(' 4 | 5 | 6 ')\n",
    "    print('---|---|---')\n",
    "    print(' 7 | 8 | 9 ')\n",
    "    time.sleep(1.5)\n",
    "    print('\\nLet\\'s play! :-)')\n",
    "    time.sleep(1.5)"
   ]
  },
  {
   "cell_type": "code",
   "execution_count": null,
   "metadata": {},
   "outputs": [],
   "source": [
    "#Function for printing the board:\n",
    "\n",
    "def print_board():\n",
    "    print('\\n')\n",
    "    print(' ' + board[1] + ' | ' + board[2] + ' | ' + board[3] + ' ')\n",
    "    print('---|---|---')\n",
    "    print(' ' + board[4] + ' | ' + board[5] + ' | ' + board[6] + ' ')\n",
    "    print('---|---|---')\n",
    "    print(' ' + board[7] + ' | ' + board[8] + ' | ' + board[9] + ' ')\n",
    "    print('\\n')"
   ]
  },
  {
   "cell_type": "code",
   "execution_count": null,
   "metadata": {},
   "outputs": [],
   "source": [
    "#Function for player 1 move:\n",
    "\n",
    "def player1_move():\n",
    "    move_p1 = input('Player 1, what is your move?\\n')\n",
    "    move_p1 = int(move_p1)\n",
    "    while board[move_p1] != ' ':\n",
    "        move_p1 = input('That space is not empty. Player 1, please choose a different position\\n')\n",
    "        move_p1 = int(move_p1)\n",
    "    board[move_p1] = 'X'"
   ]
  },
  {
   "cell_type": "code",
   "execution_count": null,
   "metadata": {},
   "outputs": [],
   "source": [
    "#Function for player 2 move:\n",
    "\n",
    "def player2_move():\n",
    "    move_p2 = input('Player 2, what is your move?\\n')\n",
    "    move_p2 = int(move_p2)\n",
    "    while board[move_p2] != ' ':\n",
    "        move_p2 = input('That space is not empty. Player 2, please choose a different position\\n')\n",
    "        move_p2 = int(move_p2)\n",
    "    board[move_p2] = 'O'"
   ]
  },
  {
   "cell_type": "code",
   "execution_count": null,
   "metadata": {},
   "outputs": [],
   "source": [
    "#Function that checks whether player 1 has won:\n",
    "\n",
    "def player1_wins():\n",
    "    if (board[1] == 'X' and board[2] == 'X' and board[3] == 'X') or \\\n",
    "        (board[4] == 'X' and board[5] == 'X' and board[6] == 'X') or \\\n",
    "        (board[7] == 'X' and board[8] == 'X' and board[9] == 'X') or \\\n",
    "        (board[1] == 'X' and board[4] == 'X' and board[7] == 'X') or \\\n",
    "        (board[2] == 'X' and board[5] == 'X' and board[8] == 'X') or \\\n",
    "        (board[3] == 'X' and board[6] == 'X' and board[9] == 'X') or \\\n",
    "        (board[1] == 'X' and board[5] == 'X' and board[9] == 'X') or \\\n",
    "        (board[3] == 'X' and board[5] == 'X' and board[7] == 'X'):\n",
    "        return True\n",
    "    else:\n",
    "        return False"
   ]
  },
  {
   "cell_type": "code",
   "execution_count": null,
   "metadata": {},
   "outputs": [],
   "source": [
    "#Function that checks whether player 2 has won:\n",
    "\n",
    "def player2_wins():\n",
    "    if (board[1] == 'O' and board[2] == 'O' and board[3] == 'O') or \\\n",
    "        (board[4] == 'O' and board[5] == 'O' and board[6] == 'O') or \\\n",
    "        (board[7] == 'O' and board[8] == 'O' and board[9] == 'O') or \\\n",
    "        (board[1] == 'O' and board[4] == 'O' and board[7] == 'O') or \\\n",
    "        (board[2] == 'O' and board[5] == 'O' and board[8] == 'O') or \\\n",
    "        (board[3] == 'O' and board[6] == 'O' and board[9] == 'O') or \\\n",
    "        (board[1] == 'O' and board[5] == 'O' and board[9] == 'O') or \\\n",
    "        (board[3] == 'O' and board[5] == 'O' and board[7] == 'O'):\n",
    "        return True\n",
    "    else:\n",
    "        return False"
   ]
  },
  {
   "cell_type": "code",
   "execution_count": null,
   "metadata": {},
   "outputs": [],
   "source": [
    "#Function that checks whether board is full:    \n",
    "\n",
    "def full_board():\n",
    "    if ' ' in board[1:]:\n",
    "        return False\n",
    "    else:\n",
    "        return True"
   ]
  },
  {
   "cell_type": "markdown",
   "metadata": {},
   "source": [
    "And finally, a function that puts it all together "
   ]
  },
  {
   "cell_type": "code",
   "execution_count": null,
   "metadata": {},
   "outputs": [],
   "source": [
    "#Function for executing the game:\n",
    "\n",
    "def play_game():\n",
    "    print_header()\n",
    "    instructions()\n",
    "    \n",
    "    while True:\n",
    "        print_board()\n",
    "        player1_move()\n",
    "    \n",
    "        if player1_wins():\n",
    "            print_board()\n",
    "            time.sleep(1.5)\n",
    "            print('Player 1 is the winner!\\n')\n",
    "            break\n",
    "    \n",
    "        if full_board():\n",
    "            print_board()\n",
    "            time.sleep(1.5)\n",
    "            print('It\\'s a tie! Nobody lost!\\n')\n",
    "            break\n",
    "    \n",
    "        print_board()\n",
    "        player2_move()\n",
    "    \n",
    "        if player2_wins():\n",
    "            print_board()\n",
    "            time.sleep(1.5)\n",
    "            print('Player 2 is the winner!\\n')\n",
    "            break\n",
    "    \n",
    "        if full_board():\n",
    "            print_board()\n",
    "            time.sleep(1.5)\n",
    "            print('It\\'s a tie! Nobody lost!\\n')\n",
    "            break"
   ]
  },
  {
   "cell_type": "code",
   "execution_count": null,
   "metadata": {},
   "outputs": [],
   "source": [
    "play_game()"
   ]
  },
  {
   "cell_type": "code",
   "execution_count": null,
   "metadata": {},
   "outputs": [],
   "source": []
  }
 ],
 "metadata": {
  "kernelspec": {
   "display_name": "Python 3",
   "language": "python",
   "name": "python3"
  },
  "language_info": {
   "codemirror_mode": {
    "name": "ipython",
    "version": 3
   },
   "file_extension": ".py",
   "mimetype": "text/x-python",
   "name": "python",
   "nbconvert_exporter": "python",
   "pygments_lexer": "ipython3",
   "version": "3.7.1"
  }
 },
 "nbformat": 4,
 "nbformat_minor": 2
}
