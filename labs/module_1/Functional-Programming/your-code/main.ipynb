{
 "cells": [
  {
   "cell_type": "markdown",
   "metadata": {},
   "source": [
    "# Before your start:\n",
    "- Read the README.md file\n",
    "- Comment as much as you can and use the resources in the README.md file\n",
    "- Happy learning!"
   ]
  },
  {
   "cell_type": "code",
   "execution_count": null,
   "metadata": {},
   "outputs": [],
   "source": [
    "import numpy as np\n",
    "import pandas as pd"
   ]
  },
  {
   "cell_type": "markdown",
   "metadata": {},
   "source": [
    "# Challenge 1 - Create a function"
   ]
  },
  {
   "cell_type": "markdown",
   "metadata": {},
   "source": [
    "Given a dictionary name-phone number and a country code create a function that adds the country code to the number. <br>\n",
    "For example if <code>phone_numbers</code> is given  by <br>\n",
    "<code>phone_numbers = {'Tom': '0313911913', 'John' : '0313911913', 'Annie': '0313911913', 'Judy':'3818891310'}</code>\n",
    "the output of the function should be \n",
    "<code>phone_numbers_countrycode = {'Tom': '+0310313911913', 'John' :'+0310313911913', 'Annie': '+0310313911913', 'Judy':'+0313818891310'}</code>. In this example the country code is +031.<br>\n",
    "The function should accept two arguments, a dictionary name-phonenumber and a countrycode.\n",
    "Once you have defined the function run it on <br> <code> {'Anna': '0313911913', 'Erica' : '0313911913', 'Alberto': '0313911913', 'Judy':'3818891310'}</code>, use country code +039 and check that it works correctly."
   ]
  },
  {
   "cell_type": "code",
   "execution_count": null,
   "metadata": {},
   "outputs": [],
   "source": [
    "numbers = {'Anna': '0313911913', 'Erica' : '0313911913', 'Alberto': '0313911913', 'Judy':'3818891310'}\n",
    "\n",
    "def replacecode(name_phonenumber, countrycode):\n",
    "    result = {}\n",
    "    for name, number in name_phonenumber.items(): \n",
    "        number = countrycode + number\n",
    "        result[name]= number\n",
    "    return result\n",
    "\n",
    "print(replacecode(numbers, \"+039\"))\n",
    "# Feedback Paolo: great one!\n",
    "\n",
    "\n",
    "\n"
   ]
  },
  {
   "cell_type": "markdown",
   "metadata": {},
   "source": [
    "# Challenge 2 - Applying Functions to DataFrames\n",
    "\n",
    "In this challenge, we will look at how to transform cells or entire columns at once.\n",
    "\n",
    "First, let's load a dataset. We will download the famous Iris classification dataset in the cell below."
   ]
  },
  {
   "cell_type": "code",
   "execution_count": null,
   "metadata": {},
   "outputs": [],
   "source": [
    "columns = ['sepal_length', 'sepal_width', 'petal_length','petal_width','iris_type']\n",
    "iris = pd.read_csv(\"https://archive.ics.uci.edu/ml/machine-learning-databases/iris/iris.data\", names=columns)"
   ]
  },
  {
   "cell_type": "markdown",
   "metadata": {},
   "source": [
    "Let's look at the dataset using the `head` function."
   ]
  },
  {
   "cell_type": "code",
   "execution_count": null,
   "metadata": {},
   "outputs": [],
   "source": [
    "# Your code here\n",
    "\n",
    "iris.head()\n",
    "\n",
    "# Feedback Paolo:ok!\n",
    "\n"
   ]
  },
  {
   "cell_type": "markdown",
   "metadata": {},
   "source": [
    "Let's start off by using built-in functions. Try to apply the numpy mean function and describe what happens in the comments of the code."
   ]
  },
  {
   "cell_type": "code",
   "execution_count": null,
   "metadata": {},
   "outputs": [],
   "source": [
    "# To get mean of each column, we should convert column to list and use the numpy mean function\n",
    "\n",
    "\n",
    "print(\"Sepal_Lenth Mean:\", np.mean(iris[\"sepal_length\"].tolist()))\n",
    "print(\"Sepal_Width Mean:\",np.mean(iris[\"sepal_width\"].tolist()))\n",
    "print(\"Petal_Length Mean:\",np.mean(iris[\"petal_length\"].tolist()))\n",
    "print(\"Petal_Width Mean:\",np.mean(iris[\"petal_width\"].tolist()))\n",
    "#Feedback Paolo: yes this works! you could also apply the function np.mean directly\n",
    "# to the dataframe np.mean(iris)\n",
    "np.mean(iris)"
   ]
  },
  {
   "cell_type": "code",
   "execution_count": null,
   "metadata": {},
   "outputs": [],
   "source": [
    "np.mean(iris,axis=0)\n",
    "#FB Paolo: yes!"
   ]
  },
  {
   "cell_type": "markdown",
   "metadata": {},
   "source": [
    "Next, we'll apply the standard deviation function in numpy (`np.std`). Describe what happened in the comments."
   ]
  },
  {
   "cell_type": "code",
   "execution_count": null,
   "metadata": {},
   "outputs": [],
   "source": [
    "# To get the standard deviation of each column, we should convert column to list and use the np.std function\n",
    "\n",
    "\n",
    "print(\"Sepal_Lenth Standard Deviation:\", np.std(iris[\"sepal_length\"].tolist()))\n",
    "print(\"Sepal_Width Standard Deviation:\",np.std(iris[\"sepal_width\"].tolist()))\n",
    "print(\"Petal_Length Standard Deviation:\",np.std(iris[\"petal_length\"].tolist()))\n",
    "print(\"Petal_Width Standard Deviation:\",np.std(iris[\"petal_width\"].tolist()))\n",
    "#Feedback Paolo: yes this works! you could also apply the function np.std directly\n",
    "# to the dataframe np.std(iris)\n",
    "np.std(iris)"
   ]
  },
  {
   "cell_type": "markdown",
   "metadata": {},
   "source": [
    "The measurements are in centimeters. Let's convert them all to inches. First, we will create a dataframe that contains only the numeric columns. Assign this new dataframe to `iris_numeric`."
   ]
  },
  {
   "cell_type": "code",
   "execution_count": null,
   "metadata": {},
   "outputs": [],
   "source": [
    "# Your code here:\n",
    "# Feedback Paolo:ok!\n",
    "\n",
    "iris_numeric = iris._get_numeric_data()\n",
    "print(iris_numeric)\n",
    "\n",
    "\n"
   ]
  },
  {
   "cell_type": "markdown",
   "metadata": {},
   "source": [
    "Next, we will write a function that converts centimeters to inches in the cell below. Recall that 1cm = 0.393701in."
   ]
  },
  {
   "cell_type": "code",
   "execution_count": null,
   "metadata": {},
   "outputs": [],
   "source": [
    "def cm_to_in(x):\n",
    "    # This function takes in a numeric value in centimeters and converts it to inches\n",
    "    # Input: numeric value\n",
    "    # Output: float\n",
    "    \n",
    "    # Sample Input: 1.0\n",
    "    # Sample Output: 0.393701\n",
    "    \n",
    "    # Your code here:\n",
    "    \n",
    "    return x * 0.393701\n",
    "# Feedback Paolo:ok!\n",
    "\n",
    "    "
   ]
  },
  {
   "cell_type": "markdown",
   "metadata": {},
   "source": [
    "Now convert all columns in `iris_numeric` to inches in the cell below. We like to think of functional transformations as immutable. Therefore, save the transformed data in a dataframe called `iris_inch`."
   ]
  },
  {
   "cell_type": "code",
   "execution_count": null,
   "metadata": {},
   "outputs": [],
   "source": [
    "# Your code here:\n",
    "# Feedback Paolo:ok!\n",
    "iris_inch = iris_numeric.apply(cm_to_in)\n",
    "print(iris_inch)\n"
   ]
  },
  {
   "cell_type": "markdown",
   "metadata": {},
   "source": [
    "We have just found that the original measurements were off by a constant. Define the global constant `error` and set it to 2. Write a function that uses the global constant and adds it to each cell in the dataframe. Apply this function to `iris_numeric` and save the result in `iris_constant`."
   ]
  },
  {
   "cell_type": "code",
   "execution_count": null,
   "metadata": {},
   "outputs": [],
   "source": [
    "# Define constant below:\n",
    "\n",
    "error = 2\n",
    "\n",
    "def add_constant(x):\n",
    "    # This function adds a global constant to our input.\n",
    "    # Input: numeric value\n",
    "    # Output: numeric value\n",
    "    \n",
    "    # Your code here:\n",
    "    \n",
    "    return x + error\n",
    "\n",
    "iris_constant = iris_numeric.apply(add_constant)\n",
    "print(iris_constant)\n",
    "\n",
    "# Feedback Paolo:great!\n",
    "    \n",
    "    "
   ]
  },
  {
   "cell_type": "markdown",
   "metadata": {},
   "source": [
    "# Bonus Challenge - Applying Functions to Columns\n",
    "\n",
    "Read more about applying functions to either rows or columns [here](https://pandas.pydata.org/pandas-docs/stable/generated/pandas.DataFrame.apply.html) and write a function that computes the maximum value for each row of `iris_numeric`"
   ]
  },
  {
   "cell_type": "code",
   "execution_count": null,
   "metadata": {},
   "outputs": [],
   "source": [
    "# Your code here:\n",
    "\n",
    "# axis : {0 or ‘index’, 1 or ‘columns’}, default 0\n",
    "# Axis along which the function is applied:\n",
    "\n",
    "# 0 or ‘index’: apply function to each column.\n",
    "# 1 or ‘columns’: apply function to each row.\n",
    "\n",
    "\n",
    "print(iris_numeric.max(axis = 1))\n",
    "# Feedback Paolo: great!"
   ]
  },
  {
   "cell_type": "markdown",
   "metadata": {},
   "source": [
    "Compute the combined lengths for each row and the combined widths for each row using a function. Assign these values to new columns `total_length` and `total_width`."
   ]
  },
  {
   "cell_type": "code",
   "execution_count": null,
   "metadata": {},
   "outputs": [],
   "source": [
    "# Your code here:\n",
    "\n",
    "\n",
    "# total_length = sepal_length + petal_length\n",
    "\n",
    "# total_width = sepal_width + petal_width\n",
    "\n",
    "\n",
    "# for a new column named total length:\n",
    "iris_numeric[\"total_length\"] = iris_numeric[\"sepal_length\"] + iris_numeric[\"petal_length\"]\n",
    "\n",
    "# for a new column named total width:\n",
    "iris_numeric[\"total_width\"] = iris_numeric[\"sepal_width\"] + iris_numeric[\"petal_width\"]\n",
    "\n",
    "print(iris_numeric)\n",
    "# Feedback Paolo:yes, this works you could have used a function also."
   ]
  },
  {
   "cell_type": "code",
   "execution_count": null,
   "metadata": {},
   "outputs": [],
   "source": []
  }
 ],
 "metadata": {
  "kernelspec": {
   "display_name": "Python 3",
   "language": "python",
   "name": "python3"
  },
  "language_info": {
   "codemirror_mode": {
    "name": "ipython",
    "version": 3
   },
   "file_extension": ".py",
   "mimetype": "text/x-python",
   "name": "python",
   "nbconvert_exporter": "python",
   "pygments_lexer": "ipython3",
   "version": "3.7.4"
  }
 },
 "nbformat": 4,
 "nbformat_minor": 4
}
