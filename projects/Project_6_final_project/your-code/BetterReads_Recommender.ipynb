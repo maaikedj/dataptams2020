{
 "cells": [
  {
   "cell_type": "code",
   "execution_count": null,
   "metadata": {},
   "outputs": [],
   "source": [
    "import pandas as pd\n",
    "import numpy as np\n",
    "\n",
    "import matplotlib.pyplot as plt\n",
    "import seaborn as sns\n",
    "%matplotlib inline"
   ]
  },
  {
   "cell_type": "code",
   "execution_count": null,
   "metadata": {},
   "outputs": [],
   "source": [
    "df = pd.read_csv('goodreads.csv')\n",
    "df.head()"
   ]
  },
  {
   "cell_type": "code",
   "execution_count": null,
   "metadata": {},
   "outputs": [],
   "source": [
    "# types are correct\n",
    "print(df.dtypes)\n",
    "\n",
    "# we have a total of 33,699 lines of data\n",
    "print(df.shape)\n",
    "\n",
    "# 1,182 different users\n",
    "print(len(df['userid'].unique()))\n",
    "\n",
    "# 20,346 different books\n",
    "print(len(df['book'].unique()))"
   ]
  },
  {
   "cell_type": "code",
   "execution_count": null,
   "metadata": {},
   "outputs": [],
   "source": [
    "df['rating'].value_counts(sort=False).plot.bar()"
   ]
  },
  {
   "cell_type": "code",
   "execution_count": null,
   "metadata": {},
   "outputs": [],
   "source": [
    "# only keeping books with scores of 4 or 5\n",
    "high_rated = df.loc[df.rating > 3]\n",
    "\n",
    "# Now we have a total of 21,212 lines of data\n",
    "print(high_rated.shape)\n",
    "\n",
    "# 838 different users\n",
    "print(len(high_rated['userid'].unique()))\n",
    "\n",
    "# with a mean of 25 books per user\n",
    "print(high_rated['userid'].value_counts().mean())\n",
    "\n",
    "# and a total of 13,200 different books\n",
    "print(len(high_rated['book'].unique()))"
   ]
  },
  {
   "cell_type": "code",
   "execution_count": null,
   "metadata": {},
   "outputs": [],
   "source": [
    "# quick check to see what are our highest rated books\n",
    "mean_rating = high_rated.pivot_table(index=['book'],values=['rating'],aggfunc=(len,np.mean)).reset_index()\n",
    "mean_rating.columns = ['_'.join(col).strip() for col in mean_rating.columns.values]\n",
    "\n",
    "# most books have been rated few times, to see the most popular books we will drop everything will less than 10 ratings\n",
    "mean_rating['rating_len'].value_counts()\n",
    "mean_rating = mean_rating.loc[mean_rating.rating_len > 10]\n",
    "mean_rating['rating_len'].value_counts()\n",
    "\n",
    "# below the 5 highest rates books in our data set\n",
    "mean_rating.sort_values(by='rating_mean', ascending=False)[0:5]"
   ]
  },
  {
   "cell_type": "code",
   "execution_count": null,
   "metadata": {},
   "outputs": [],
   "source": [
    "# and our most rated book\n",
    "mean_rating.sort_values(by='rating_len', ascending=False)[0:5]\n",
    "\n",
    "#... and this top 5 is exactly why we have to build a recommender system"
   ]
  },
  {
   "cell_type": "code",
   "execution_count": null,
   "metadata": {},
   "outputs": [],
   "source": [
    "# first we create a matrix of all books vs all users, if they have not read / rated it, the rating will be nan\n",
    "high_rated_pivot = high_rated.pivot_table(index='book', columns='userid').rating.reset_index()\n",
    "\n",
    "#searching my own book to check that the correct rating is reflecting\n",
    "high_rated_pivot.loc[high_rated_pivot.book == 'Normal People'][42889636]\n",
    "# I indeed rated Normal People with 4 stars\n",
    "\n",
    "high_rated_pivot\n"
   ]
  },
  {
   "cell_type": "code",
   "execution_count": null,
   "metadata": {},
   "outputs": [],
   "source": [
    "#total books read per user\n",
    "books_loved = pd.DataFrame(high_rated.groupby('userid')['rating'].count())\n",
    "books_loved.rename(columns={'rating': 'total_loved_books'},inplace=True)\n",
    "books_loved.sort_values('total_loved_books', ascending=False).head()"
   ]
  },
  {
   "cell_type": "code",
   "execution_count": null,
   "metadata": {},
   "outputs": [],
   "source": [
    "# Now I want to check which users are highly correlated, to find book recommendations\n",
    "corr = high_rated_pivot.corr()"
   ]
  },
  {
   "cell_type": "code",
   "execution_count": null,
   "metadata": {},
   "outputs": [],
   "source": [
    "#selecting only one user, to find similar users\n",
    "my_user = 42889636\n",
    "similar_to_mine = corr[my_user]\n",
    "similar_to_minedf = pd.DataFrame(similar_to_mine)\n",
    "similar_to_minedf.rename(columns={my_user: 'pearson_corr'},inplace=True)\n",
    "similar_to_minedf.dropna(inplace=True)\n",
    "\n",
    "#adding information of how many books other users have loved\n",
    "similar_to_minedf = similar_to_minedf.join(books_loved['total_loved_books'])\n",
    "\n",
    "#other users need to at least have loved half the books I have loved to be able to recommend\n",
    "parameter = books_loved.reset_index()\n",
    "parameter = parameter.loc[parameter['userid'] == my_user]['total_loved_books'] / 2\n",
    "parameter\n",
    "\n",
    "top = similar_to_minedf[similar_to_minedf['total_loved_books'] >= int(parameter)].drop(my_user).sort_values('pearson_corr', ascending=False).head(20)\n",
    "top.reset_index(inplace=True)\n",
    "top\n"
   ]
  },
  {
   "cell_type": "code",
   "execution_count": null,
   "metadata": {},
   "outputs": [],
   "source": [
    "top_id = list(top['userid'])\n",
    "\n",
    "#adding my user to identify the books I've already read\n",
    "top_id.append(my_user)\n",
    "top_id"
   ]
  },
  {
   "cell_type": "code",
   "execution_count": null,
   "metadata": {},
   "outputs": [],
   "source": [
    "#high_rated_pivot#[top_ten_id].dropna(how='all')\n",
    "\n",
    "# now we create a new matrix will all the books that have been read by the highest corr users\n",
    "top_books = high_rated.pivot_table(index='userid', columns='book').rating.reset_index()\n",
    "top_books = top_books[top_books['userid'].isin(top_id)].dropna(how='all',axis=1)\n",
    "\n",
    "# but we drop all books that the user has already read\n",
    "read_books = top_books[(top_books['userid'] == my_user)].dropna(axis=1).columns[1:]\n",
    "read_books = list(df[(df['userid'] == my_user)]['book'])\n",
    "for i in read_books:\n",
    "    if i in top_books.columns:\n",
    "        top_books.drop(i,1,inplace=True)\n",
    "\n",
    "# top_books"
   ]
  },
  {
   "cell_type": "code",
   "execution_count": null,
   "metadata": {},
   "outputs": [],
   "source": [
    "# recommendation given\n",
    "recommendation = top_books.fillna(0).astype(bool).sum(axis=0).sort_values(ascending=False).head(20)\n",
    "recommendation.reset_index()[1:]"
   ]
  },
  {
   "cell_type": "code",
   "execution_count": null,
   "metadata": {},
   "outputs": [],
   "source": []
  }
 ],
 "metadata": {
  "kernelspec": {
   "display_name": "Python 3",
   "language": "python",
   "name": "python3"
  },
  "language_info": {
   "codemirror_mode": {
    "name": "ipython",
    "version": 3
   },
   "file_extension": ".py",
   "mimetype": "text/x-python",
   "name": "python",
   "nbconvert_exporter": "python",
   "pygments_lexer": "ipython3",
   "version": "3.8.1"
  }
 },
 "nbformat": 4,
 "nbformat_minor": 4
}
