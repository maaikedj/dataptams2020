{
 "cells": [
  {
   "cell_type": "markdown",
   "metadata": {
    "Collapsed": "false"
   },
   "source": [
    "# Lab | Matplotlib & Seaborn"
   ]
  },
  {
   "cell_type": "markdown",
   "metadata": {
    "Collapsed": "false"
   },
   "source": [
    "#### Import all the libraries that are necessary."
   ]
  },
  {
   "cell_type": "code",
   "execution_count": null,
   "metadata": {
    "Collapsed": "false"
   },
   "outputs": [],
   "source": [
    "import pandas as pd\n",
    "import numpy as np\n",
    "\n",
    "%matplotlib inline\n",
    "\n",
    "import matplotlib.pyplot as plt\n",
    "import seaborn as sns"
   ]
  },
  {
   "cell_type": "markdown",
   "metadata": {
    "Collapsed": "false"
   },
   "source": [
    "# Challenge 1"
   ]
  },
  {
   "cell_type": "markdown",
   "metadata": {
    "Collapsed": "false"
   },
   "source": [
    "#### Data"
   ]
  },
  {
   "cell_type": "code",
   "execution_count": null,
   "metadata": {
    "Collapsed": "false"
   },
   "outputs": [],
   "source": [
    "x = np.arange(0,100)\n",
    "y = x*2\n",
    "z = x**2"
   ]
  },
  {
   "cell_type": "markdown",
   "metadata": {
    "Collapsed": "false"
   },
   "source": [
    "#### Plot (x,y) and (x,z) on the axes.\n",
    "There are 2 ways of doing this. Do in both ways.\n",
    "Hint: Check out the nrows, ncols, and index arguments of subplots.\n",
    "\n",
    "Also, play around with the linewidth and style. Use the ones you're most happy with."
   ]
  },
  {
   "cell_type": "code",
   "execution_count": null,
   "metadata": {
    "Collapsed": "false"
   },
   "outputs": [],
   "source": [
    "# OPTION 1\n",
    "# Create a figure of a fixed size\n",
    "plt.subplots(figsize=(10,5))\n",
    "\n",
    "# First plot\n",
    "plt.plot(x,y, color='purple', linewidth=3)\n",
    "\n",
    "# Second plot\n",
    "plt.plot(x,z, color='green', linewidth=3)\n",
    "\n",
    "# Show the plot\n",
    "plt.show()"
   ]
  },
  {
   "cell_type": "markdown",
   "metadata": {
    "Collapsed": "false"
   },
   "source": [
    "#### Use plt.subplots(nrows=1, ncols=2) to create the plot below"
   ]
  },
  {
   "cell_type": "code",
   "execution_count": null,
   "metadata": {
    "Collapsed": "false"
   },
   "outputs": [],
   "source": [
    "# OPTION 2\n",
    "\n",
    "# Create a figure of a fixed size and axes\n",
    "fig, [ax1, ax2] = plt.subplots(1,2, figsize = (10,4))\n",
    "\n",
    "# Plots\n",
    "ax1.plot(x,y)\n",
    "ax2.plot(x,z)\n",
    "\n",
    "# Show the plot\n",
    "plt.show()"
   ]
  },
  {
   "cell_type": "markdown",
   "metadata": {
    "Collapsed": "false"
   },
   "source": [
    "#### Augmenting your previous code, resize your previous plot.\n",
    "Hint: Add the figsize argument in plt.subplots()"
   ]
  },
  {
   "cell_type": "code",
   "execution_count": null,
   "metadata": {
    "Collapsed": "false"
   },
   "outputs": [],
   "source": [
    "# ENHANCED VERSION to see more matplotlib features\n",
    "\n",
    "# Variables\n",
    "fs = 16 # fontsize\n",
    "fw = 700 # fontweight\n",
    "lw = 10 # lineweight\n",
    "y_rot = 10 # ylabel rotation\n",
    "\n",
    "# Create a figure of a fixed size and axes\n",
    "fig, [ax1, ax2] = plt.subplots(1,2, figsize = (12,4))\n",
    "\n",
    "\n",
    "# First plot adding a title and x and y labels\n",
    "ax1.plot(x,y, lw=lw)\n",
    "ax1.set_title('PLOT_1', fontweight=fw, fontsize=fs)   \n",
    "ax1.set_xlabel('x label')     \n",
    "ax1.set_ylabel('y label', rotation=y_rot) \n",
    "\n",
    "# Second plot adding a title and x and y labels\n",
    "ax2.plot(x,z,lw=lw)\n",
    "ax2.set_title('PLOT_2', fontweight=fw, fontsize=fs)   \n",
    "ax2.set_xlabel('x label')     \n",
    "ax2.set_ylabel('y label', rotation=y_rot) \n",
    "\n",
    "# Show the plot\n",
    "plt.show()"
   ]
  },
  {
   "cell_type": "markdown",
   "metadata": {
    "Collapsed": "false"
   },
   "source": [
    "#### Plot both y=x^2 and y=exp(x) in the same plot using normal and logarithmic scale.\n",
    "Hint: Use set_xscale and set_yscale"
   ]
  },
  {
   "cell_type": "code",
   "execution_count": null,
   "metadata": {
    "Collapsed": "false"
   },
   "outputs": [],
   "source": [
    "# Create a figure of a fixed size and axes\n",
    "plt.subplots(figsize = (6,4))\n",
    "plt.yscale('log')\n",
    "plt.xscale('log')\n",
    "\n",
    "# Normal plot\n",
    "plt.plot(x,x**2)\n",
    "\n",
    "# Logarithmic scale\n",
    "plt.plot(x,np.exp(x))\n",
    "\n",
    "# Show the plot\n",
    "plt.show()\n",
    "#Paolo: here the idea was to plot both functions on logscale\n",
    "# and on normal scale, check cell below"
   ]
  },
  {
   "cell_type": "code",
   "execution_count": null,
   "metadata": {
    "Collapsed": "false"
   },
   "outputs": [],
   "source": [
    "#Paolo: alternative to  previous excercise \n",
    "f, ax = plt.subplots(1, 2, figsize=(10,4))\n",
    "\n",
    "# Normal plot\n",
    "ax[0].plot(x, x**2, 'r', x, np.exp(x), 'g')\n",
    "ax[0].set_title(\"Normal scale\")\n",
    "\n",
    "# Logarithmic scale\n",
    "ax[1].plot(x, x**2, 'r', x, np.exp(x), 'g')\n",
    "ax[1].set_yscale(\"log\")\n",
    "ax[1].set_title(\"Logarithmic scale (y)\")\n",
    "\n",
    "# Show plot\n",
    "plt.show()"
   ]
  },
  {
   "cell_type": "code",
   "execution_count": null,
   "metadata": {
    "Collapsed": "false"
   },
   "outputs": [],
   "source": [
    "# ALTERNATIVE WITH LEGEND\n",
    "#Paolo: ok but same comment as above plus you miss the legend, check\n",
    "# cell below\n",
    "# Create a figure of a fixed size and axes\n",
    "fig, [ax1, ax2] = plt.subplots(1,2, figsize = (12,4))\n",
    "\n",
    "# Normal plot\n",
    "ax1.plot(x,x**2)\n",
    "ax1.set_title('normal_scale')   \n",
    "\n",
    "# Logarithmic scale\n",
    "ax2.plot(x,np.exp(x))\n",
    "ax2.set_xscale('log')\n",
    "ax2.set_yscale('log')\n",
    "ax2.set_title('logarithmic_scale')   \n",
    "\n",
    "# Show plot\n",
    "plt.show()\n"
   ]
  },
  {
   "cell_type": "code",
   "execution_count": null,
   "metadata": {
    "Collapsed": "false"
   },
   "outputs": [],
   "source": [
    "# Paolo ALTERNATIVE WITH LEGEND\n",
    "# Create a figure of a fixed size and axes\n",
    "f, ax = plt.subplots(1, 2, figsize=(10,4))\n",
    "\n",
    "# Normal plot\n",
    "ax[0].plot(x, x**2, 'r', label = 'x**2')\n",
    "ax[0].plot(x, np.exp(x), 'g', label = 'exp(x)')\n",
    "ax[0].set_title(\"Normal scale\")\n",
    "ax[0].legend()\n",
    "\n",
    "# Logarithmic scale\n",
    "ax[1].plot(x, x**2, 'r', label = 'x**2')\n",
    "ax[1].plot(x, np.exp(x), 'g', label = 'exp(x)')\n",
    "ax[1].set_yscale(\"log\")\n",
    "ax[1].set_title(\"Logarithmic scale (y)\")\n",
    "ax[1].legend()\n",
    "\n",
    "# Show plot\n",
    "plt.show()"
   ]
  },
  {
   "cell_type": "markdown",
   "metadata": {
    "Collapsed": "false"
   },
   "source": [
    "# Challenge 2"
   ]
  },
  {
   "cell_type": "markdown",
   "metadata": {
    "Collapsed": "false"
   },
   "source": [
    "Import the Fitbit2.csv file and name your dataset fitbit. Download the data from [here](https://drive.google.com/file/d/17TW-w-izKuR7bLoa0Mnyp9YN9zEQNXq-/view?usp=sharing) and place it in the data folder."
   ]
  },
  {
   "cell_type": "code",
   "execution_count": null,
   "metadata": {
    "Collapsed": "false"
   },
   "outputs": [],
   "source": [
    "# Read the data\n",
    "data = pd.read_csv('data/Fitbit2.csv')\n",
    "data.head()"
   ]
  },
  {
   "cell_type": "markdown",
   "metadata": {
    "Collapsed": "false"
   },
   "source": [
    "#### From the Fitbit data, we want to visually understand:\n",
    "\n",
    "How the average number of steps change by month. Use the appropriate visualization to show the median steps by month.\n",
    "Is Fitbitter more active on weekend or workdays?\n",
    "All plots must be in the same jupyter notebook cell.\n",
    "\n",
    "Hints:\n",
    "\n",
    "- Use Months_encoded and Week_or Weekend columns.\n",
    "- Use matplolib.pyplot object oriented API.\n",
    "- Set your size figure to 12,4\n",
    "- Explore plt.sca\n",
    "- Explore plt.xticks\n",
    "- Save your figures"
   ]
  },
  {
   "cell_type": "code",
   "execution_count": null,
   "metadata": {
    "Collapsed": "false"
   },
   "outputs": [],
   "source": [
    "# MEDIAN STEPS BY MONTH_ENCODED\n",
    "\n",
    "# Find the median steps for each month\n",
    "per_month = data.groupby('Months_encoded')['Steps'].median().reset_index()\n",
    "\n",
    "# Create a figure of a fixed size and axes\n",
    "fig, ax = plt.subplots(1,2, figsize = (12,4))\n",
    "\n",
    "# Set the current axes instance to ax[0] - Now plt methods will affect ax[0]\n",
    "# Plot the weekday steps in the current axes\n",
    "ax[0].plot(per_month['Months_encoded'],per_month['Steps'])\n",
    "\n",
    "# Add labels, title, etc\n",
    "ax[0].set_title('Steps Per Month')   \n",
    "ax[0].set_xlabel('Months')     \n",
    "ax[0].set_ylabel('Median_Steps') \n",
    "\n",
    "# Save the figure\n",
    "plt.savefig('Steps_Per_Month.png')\n",
    "\n",
    "# MEDIAN STEPS BY WORK_OR_WEEKEND\n",
    "# Set the current axes instance to ax[1] - Now plt methods will affect ax[1]\n",
    "# Find the median steps for workdays and weekdays\n",
    "per_week = data.groupby('Work_or_Weekend')['Steps'].median().reset_index()\n",
    "\n",
    "# Plot the workday and weekend steps in the current axes\n",
    "ax[1].bar(per_week['Work_or_Weekend'],per_week['Steps'],color='green')\n",
    "\n",
    "# Add labels, title, etc\n",
    "ax[1].set_title('Steps Per Week or Weekend')   \n",
    "ax[1].set_xlabel('Weekend=0_Weekday=1')     \n",
    "ax[1].set_ylabel('Median_Steps')\n",
    "#ax[1].set_yticks([4000,6000,])\n",
    "ax[1].set_xticks([0,1])\n",
    "\n",
    "# Save the figure\n",
    "plt.savefig('Steps_Per_Week.png')\n",
    "\n",
    "plt.show()\n",
    "\n",
    "#this works as well:\n",
    "# ax = sns.boxplot(x=\"Months_encoded\", y=\"Steps\", hue='Work_or_Weekend', data=data)\n",
    "# ax = ax.set_xticklabels(ax.get_xticklabels(),rotation=90)\n"
   ]
  },
  {
   "cell_type": "markdown",
   "metadata": {
    "Collapsed": "false"
   },
   "source": [
    "#### Write a loop to plot 3 scatter plots of the following features:\n",
    "\n",
    "Minutes Lightly Active vs Steps\n",
    "Minutes Very Active vs Steps\n",
    "Minutes Sedentary vs Steps"
   ]
  },
  {
   "cell_type": "code",
   "execution_count": null,
   "metadata": {
    "Collapsed": "false"
   },
   "outputs": [],
   "source": [
    "# ALTERNATIVE 1\n",
    "# Create a df with the columns we are interested in \n",
    "active_min = data[['Minutes Lightly Active','Minutes Very Active','Minutes Sedentary','Steps']]\n",
    "active_min.head()\n",
    "\n",
    "# Create a figure of a fixed size and axes\n",
    "fig, axs = plt.subplots(1,3, figsize = (20,4))\n",
    "\n",
    "# Iterate to draw each scatter plot\n",
    "x=0\n",
    "for ax in axs:\n",
    "    ax = ax.scatter(active_min['Steps'],active_min.iloc[:,x])\n",
    "    axs[x].set_title(active_min.columns[x])   \n",
    "    axs[x].set_xlabel('Steps')   \n",
    "    axs[x].set_ylabel('Minutes')   \n",
    "    x+=1\n",
    "\n",
    "plt.show()\n"
   ]
  },
  {
   "cell_type": "code",
   "execution_count": null,
   "metadata": {
    "Collapsed": "false"
   },
   "outputs": [],
   "source": [
    "# ALTERNATIVE 2\n",
    "# Create a df with the columns we are interested in \n",
    "active_df = data[['Minutes Lightly Active','Minutes Very Active','Minutes Sedentary','Steps']]\n",
    "active_df.head()\n",
    "\n",
    "# Create a figure of a fixed size and axes\n",
    "fig, axs = plt.subplots(1,3, figsize = (20,4))\n",
    "\n",
    "# Iterate to draw each scatter plot\n",
    "axs[0].scatter(active_min['Steps'],active_min.iloc[:,0])\n",
    "axs[0].set_title(active_min.columns[0])   \n",
    "axs[0].set_xlabel('Steps')   \n",
    "axs[0].set_ylabel('Minutes')   \n",
    "\n",
    "axs[1].scatter(active_min['Steps'],active_min.iloc[:,1])\n",
    "axs[1].set_title(active_min.columns[1])   \n",
    "axs[1].set_xlabel('Steps')   \n",
    "axs[1].set_ylabel('Minutes')   \n",
    "\n",
    "axs[2].scatter(active_min['Steps'],active_min.iloc[:,2])\n",
    "axs[2].set_title(active_min.columns[2])   \n",
    "axs[2].set_xlabel('Steps')   \n",
    "axs[2].set_ylabel('Minutes')   \n",
    "\n",
    "plt.show()\n",
    "\n",
    "#Paolo: great!  you could have used a for loop, usually the word 'iterate' is a hint to use a for loop, in this case it saves you many lines of code\n",
    "#check cell below for alternative"
   ]
  },
  {
   "cell_type": "code",
   "execution_count": null,
   "metadata": {
    "Collapsed": "false"
   },
   "outputs": [],
   "source": [
    "active_df = data[['Minutes Lightly Active','Minutes Very Active','Minutes Sedentary','Steps']]\n",
    "active_df.head()\n",
    "\n",
    "# Create a figure of a fixed size and axes\n",
    "fig, axs = plt.subplots(1,3, figsize = (20,4))\n",
    "for i in range (3):\n",
    "    axs[i].scatter(active_min['Steps'],active_min.iloc[:,i])\n",
    "    axs[i].set_title(active_min.columns[i])   \n",
    "    axs[i].set_xlabel('Steps')   \n",
    "    axs[i].set_ylabel('Minutes') "
   ]
  },
  {
   "cell_type": "markdown",
   "metadata": {
    "Collapsed": "false"
   },
   "source": [
    "# Challenge 3"
   ]
  },
  {
   "cell_type": "markdown",
   "metadata": {
    "Collapsed": "false"
   },
   "source": [
    "#### Open the titanic file. Name your dataset titanic."
   ]
  },
  {
   "cell_type": "markdown",
   "metadata": {
    "Collapsed": "false"
   },
   "source": [
    "Download the dataset from [here](https://drive.google.com/file/d/1jkkOcWm9aEF8gb0r2SsarF5Qdoaaw1do/view?usp=sharing) and place it in the data folder"
   ]
  },
  {
   "cell_type": "code",
   "execution_count": null,
   "metadata": {
    "Collapsed": "false"
   },
   "outputs": [],
   "source": [
    "# Read the data\n",
    "titanic = pd.read_csv('data/titanic.csv')\n",
    "titanic.head()"
   ]
  },
  {
   "cell_type": "markdown",
   "metadata": {
    "Collapsed": "false"
   },
   "source": [
    "#### Explore the titanic dataset using Pandas dtypes."
   ]
  },
  {
   "cell_type": "code",
   "execution_count": null,
   "metadata": {
    "Collapsed": "false"
   },
   "outputs": [],
   "source": [
    "titanic.dtypes"
   ]
  },
  {
   "cell_type": "markdown",
   "metadata": {
    "Collapsed": "false"
   },
   "source": [
    "#### What are your numerical variables? What are your categorical variables?\n",
    "Hint: Use Pandas select_dtypes"
   ]
  },
  {
   "cell_type": "code",
   "execution_count": null,
   "metadata": {
    "Collapsed": "false"
   },
   "outputs": [],
   "source": [
    "# Numerical variables\n",
    "titanic.select_dtypes(include=['int','float']).head()"
   ]
  },
  {
   "cell_type": "code",
   "execution_count": null,
   "metadata": {
    "Collapsed": "false"
   },
   "outputs": [],
   "source": [
    "# Categorical variables\n",
    "titanic.select_dtypes(include=['object']).head()"
   ]
  },
  {
   "cell_type": "markdown",
   "metadata": {
    "Collapsed": "false"
   },
   "source": [
    "#### Set the plot style to classic and the figure size to (12,6).\n",
    "Hint: To set the style you can use matplotlib.pyplot functions or seaborn "
   ]
  },
  {
   "cell_type": "code",
   "execution_count": null,
   "metadata": {
    "Collapsed": "false"
   },
   "outputs": [],
   "source": [
    "# Plot style change\n",
    "plt.style.use('classic')\n",
    "\n",
    "# Figure size change\n",
    "figsize = (12,6)\n",
    "plt.rcParams[\"figure.figsize\"] = figsize\n"
   ]
  },
  {
   "cell_type": "markdown",
   "metadata": {
    "Collapsed": "false"
   },
   "source": [
    "#### Use the right visulalization to show the distribution of the column Age."
   ]
  },
  {
   "cell_type": "code",
   "execution_count": null,
   "metadata": {
    "Collapsed": "false"
   },
   "outputs": [],
   "source": [
    "# Pandas plots are based on matplotlib\n",
    "\n",
    "# Plot the histogram of column Age\n",
    "plt.hist(titanic['Age'])\n",
    "\n",
    "# Set titles, labels, etc\n",
    "plt.title(\"Age on Titanic\")\n",
    "plt.xlabel('Age')   \n",
    "plt.ylabel('People on Titanic')  \n",
    "\n",
    "# Show the plot\n",
    "plt.show()"
   ]
  },
  {
   "cell_type": "markdown",
   "metadata": {
    "Collapsed": "false"
   },
   "source": [
    "#### Use subplots and plot the distribution of the Age variable with bins equal to 10, 20 and 50."
   ]
  },
  {
   "cell_type": "code",
   "execution_count": null,
   "metadata": {
    "Collapsed": "false"
   },
   "outputs": [],
   "source": [
    "# Variables\n",
    "# Create a figure of a fixed size and axes\n",
    "# Plot the histogram using a different number of bins\n",
    "#Paolo: here the idea was to create 3 different plots each with different\n",
    "# number of bins, check cell below\n",
    "titanic['Age'].hist(bins=[0, 10, 30, 80])\n",
    "plt.title(\"Age on Titanic\")\n",
    "plt.xlabel('Age')   \n",
    "plt.ylabel('People on Titanic')  \n",
    "plt.show()"
   ]
  },
  {
   "cell_type": "code",
   "execution_count": null,
   "metadata": {
    "Collapsed": "false"
   },
   "outputs": [],
   "source": [
    "bin = [10, 20, 50]\n",
    "for i in range(3):\n",
    "    titanic['Age'].hist(bins=bin[i])\n",
    "    plt.title(\"Age on Titanic\")\n",
    "    plt.xlabel('Age')   \n",
    "    plt.ylabel('People on Titanic')  \n",
    "    plt.show()"
   ]
  },
  {
   "cell_type": "markdown",
   "metadata": {
    "Collapsed": "false"
   },
   "source": [
    "#### How does the bin size affect your plot? Comment."
   ]
  },
  {
   "cell_type": "markdown",
   "metadata": {
    "Collapsed": "false"
   },
   "source": [
    "~~~~\n",
    "Using a low number of bins (wider bins) reduces noise on the distribution estimation while using a \n",
    "high number of bins (narrower bins) gives greater precision to the distribution estimation (and more noise). \n",
    "~~~~"
   ]
  },
  {
   "cell_type": "markdown",
   "metadata": {
    "Collapsed": "false"
   },
   "source": [
    "#### Use seaborn to show the distribution of the column Age."
   ]
  },
  {
   "cell_type": "code",
   "execution_count": null,
   "metadata": {
    "Collapsed": "false"
   },
   "outputs": [],
   "source": [
    "# Seaborn is a Python library based on matplotlib\n",
    "\n",
    "# Plot of the age histogram using seaborn\n",
    "sns.distplot(titanic['Age'])\n",
    "\n",
    "# Show the plot\n",
    "plt.show()\n"
   ]
  },
  {
   "cell_type": "markdown",
   "metadata": {
    "Collapsed": "false"
   },
   "source": [
    "#### Use the right plot to visualize the column Gender. There are 2 ways of doing it. Do it both ways.\n",
    "Hint: Use matplotlib and seaborn"
   ]
  },
  {
   "cell_type": "code",
   "execution_count": null,
   "metadata": {
    "Collapsed": "false"
   },
   "outputs": [],
   "source": [
    "# OPTION 1 - Matplotlib\n",
    "\n",
    "# Bar plot of the gender\n",
    "titanic['Gender'].value_counts().plot.bar()\n",
    "\n",
    "# Add labels to the plot and change xticks rotation\n",
    "plt.title(\"Gender on Titanic\")\n",
    "plt.xlabel('Gender')   \n",
    "plt.ylabel('Value Count')  \n",
    "plt.xticks(rotation=0)   \n",
    "\n",
    "# Show the plot\n",
    "plt.show()\n"
   ]
  },
  {
   "cell_type": "code",
   "execution_count": null,
   "metadata": {
    "Collapsed": "false"
   },
   "outputs": [],
   "source": [
    "# OPTION 2 - Seaborn\n",
    "\n",
    "# Seaborn Countplot\n",
    "sns.countplot(titanic['Gender'])\n",
    "\n",
    "\n",
    "# Show the plot\n",
    "plt.show()\n"
   ]
  },
  {
   "cell_type": "markdown",
   "metadata": {
    "Collapsed": "false"
   },
   "source": [
    "#### Use the right plot to visualize the column Pclass."
   ]
  },
  {
   "cell_type": "code",
   "execution_count": null,
   "metadata": {
    "Collapsed": "false"
   },
   "outputs": [],
   "source": [
    "# Bar plot of Pclass\n",
    "titanic['Pclass'].value_counts().plot.bar()\n",
    "\n",
    "# Add labels to the plot and change xticks rotation\n",
    "plt.title(\"Passenger Class on Titanic\")\n",
    "plt.xlabel('Passenger Class')   \n",
    "plt.ylabel('Value Count')  \n",
    "plt.xticks(rotation=0) \n",
    "\n",
    "# Show the plot\n",
    "plt.show()"
   ]
  },
  {
   "cell_type": "markdown",
   "metadata": {
    "Collapsed": "false"
   },
   "source": [
    "#### We would like to have in one single plot the summary statistics of the feature Age. What kind of plot would you use?"
   ]
  },
  {
   "cell_type": "code",
   "execution_count": null,
   "metadata": {
    "Collapsed": "false"
   },
   "outputs": [],
   "source": [
    "# Box plot\n",
    "titanic.boxplot(column=\"Age\")\n",
    "\n",
    "# Show the plot\n",
    "plt.show()"
   ]
  },
  {
   "cell_type": "markdown",
   "metadata": {
    "Collapsed": "false"
   },
   "source": [
    "#### What does the last plot tells you about the feature Age? Comment."
   ]
  },
  {
   "cell_type": "markdown",
   "metadata": {
    "Collapsed": "false"
   },
   "source": [
    "~~~~\n",
    "The statistics that you can get from the boxplot are the minimum, first quartile, median, \n",
    "third quartile, and maximum.\n",
    "\n",
    "The red line shows us the median of Age. \n",
    "The blue box shows us the interquartile range (from Q1 to Q3).\n",
    "It also shows us the outliers, which are out of the maximum and minimum range (Q1 - 1.5*IQR, Q3 + 1.5*IQR).\n",
    "~~~~"
   ]
  },
  {
   "cell_type": "markdown",
   "metadata": {
    "Collapsed": "false"
   },
   "source": [
    "#### Now in addition to the summary statistics, we want to have in the SAME plot the distribution of Age. What kind of plot would you use?"
   ]
  },
  {
   "cell_type": "code",
   "execution_count": null,
   "metadata": {
    "Collapsed": "false"
   },
   "outputs": [],
   "source": [
    "# Set figure size\n",
    "figsize = (8,4)\n",
    "plt.rcParams[\"figure.figsize\"] = figsize\n",
    "\n",
    "# Violin plot\n",
    "sns.violinplot(\"Age\", data=titanic)\n",
    "\n",
    "# Show the plot\n",
    "plt.show()"
   ]
  },
  {
   "cell_type": "markdown",
   "metadata": {
    "Collapsed": "false"
   },
   "source": [
    "#### What additional information the last plot provides you about the feature Age? Comment."
   ]
  },
  {
   "cell_type": "markdown",
   "metadata": {
    "Collapsed": "false"
   },
   "source": [
    "~~~~\n",
    "This plot is a combination of a boxplot and a density plot. The violin plot features a kernel density estimation \n",
    "of the underlying distribution of the data.\n",
    "\n",
    "The black central part of the plot is the same as a boxplot and the white dot is the median.\n",
    "The blue part is the distribution of the data.\n",
    "~~~~"
   ]
  },
  {
   "cell_type": "markdown",
   "metadata": {
    "Collapsed": "false"
   },
   "source": [
    "#### We suspect that there is a linear relationship between Fare and Age. Use the right plot to show the relationship between these 2 features. There are 2 ways, please do it both ways.\n",
    "Hint: One of the ways involves using Seaborn."
   ]
  },
  {
   "cell_type": "code",
   "execution_count": null,
   "metadata": {
    "Collapsed": "false"
   },
   "outputs": [],
   "source": [
    "# OPTION 1\n",
    "\n",
    "# Scatter plot\n",
    "sns.scatterplot(x=\"Age\", y=\"Fare\", data=titanic)\n",
    "\n",
    "# Add labels\n",
    "\n",
    "\n",
    "# Show the plot\n",
    "plt.show()"
   ]
  },
  {
   "cell_type": "code",
   "execution_count": null,
   "metadata": {
    "Collapsed": "false"
   },
   "outputs": [],
   "source": [
    "# OPTION 2\n",
    "\n",
    "# Joinplot\n",
    "sns.jointplot(x=\"Age\", y=\"Fare\", data=titanic)\n",
    "\n",
    "# Show the plot\n",
    "plt.show()"
   ]
  },
  {
   "cell_type": "markdown",
   "metadata": {
    "Collapsed": "false"
   },
   "source": [
    "#### Using Seaborn plot the correlation matrix."
   ]
  },
  {
   "cell_type": "code",
   "execution_count": null,
   "metadata": {
    "Collapsed": "false"
   },
   "outputs": [],
   "source": [
    "# Set figure size\n",
    "\n",
    "\n",
    "# Correlation matrix\n",
    "corr = titanic.corr()\n",
    "sns.heatmap(corr)\n",
    "\n",
    "# Add title\n",
    "plt.title(\"Titanic Correlation Heatmap\")\n",
    "\n",
    "\n",
    "# Show plot\n",
    "plt.show()"
   ]
  },
  {
   "cell_type": "markdown",
   "metadata": {
    "Collapsed": "false"
   },
   "source": [
    "#### What are the most correlated features? Comment."
   ]
  },
  {
   "cell_type": "markdown",
   "metadata": {
    "Collapsed": "false"
   },
   "source": [
    "~~~~~\n",
    "The most correlated features are Parch and SibSp.\n",
    "~~~~~"
   ]
  },
  {
   "cell_type": "markdown",
   "metadata": {
    "Collapsed": "false"
   },
   "source": [
    "#### Use the right plot to display the summary statistics of the Age in function of the Pclass."
   ]
  },
  {
   "cell_type": "code",
   "execution_count": null,
   "metadata": {
    "Collapsed": "false"
   },
   "outputs": [],
   "source": [
    "# Boxplot\n",
    "figsize = (12,4)\n",
    "plt.rcParams[\"figure.figsize\"] = figsize\n",
    "\n",
    "sns.boxplot(x=\"Pclass\", y='Age', data=titanic)\n",
    "\n",
    "# Show the plot\n",
    "plt.show()"
   ]
  },
  {
   "cell_type": "markdown",
   "metadata": {
    "Collapsed": "false"
   },
   "source": [
    "#### Use the seaborn to plot the distribution of the Age based on the Gender.\n",
    "Hint: Use Facetgrid"
   ]
  },
  {
   "cell_type": "code",
   "execution_count": null,
   "metadata": {
    "Collapsed": "false"
   },
   "outputs": [],
   "source": [
    "# Create a grid with FacetGrid\n",
    "g = sns.FacetGrid(titanic, col=\"Gender\")\n",
    "\n",
    "# # Draw a plot on each facet\n",
    "g.map(plt.hist, \"Age\")\n",
    "\n",
    "# # Show the plot\n",
    "plt.show()\n"
   ]
  },
  {
   "cell_type": "code",
   "execution_count": null,
   "metadata": {
    "Collapsed": "false"
   },
   "outputs": [],
   "source": []
  }
 ],
 "metadata": {
  "anaconda-cloud": {},
  "kernelspec": {
   "display_name": "Python 3",
   "language": "python",
   "name": "python3"
  },
  "language_info": {
   "codemirror_mode": {
    "name": "ipython",
    "version": 3
   },
   "file_extension": ".py",
   "mimetype": "text/x-python",
   "name": "python",
   "nbconvert_exporter": "python",
   "pygments_lexer": "ipython3",
   "version": "3.7.6"
  }
 },
 "nbformat": 4,
 "nbformat_minor": 4
}
