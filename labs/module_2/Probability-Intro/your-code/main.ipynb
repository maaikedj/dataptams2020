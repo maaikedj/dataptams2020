{
 "cells": [
  {
   "cell_type": "markdown",
   "metadata": {
    "Collapsed": "false"
   },
   "source": [
    "### Introduction To Probability\n",
    "## Challenge 1\n",
    "\n",
    "A and B are events of a probability space with $(\\omega, \\sigma, P)$ such that $P(A) = 0.3$, $P(B) = 0.6$ and $P(A \\cap B) = 0.1$\n",
    "\n",
    "Which of the following statements are false?\n",
    "* $P(A \\cup B) = 0.6$\n",
    "* $P(A \\cap B^{C}) = 0.2$\n",
    "* $P(A \\cap (B \\cup B^{C})) = 0.4$\n",
    "* $P(A^{C} \\cap B^{C}) = 0.3$\n",
    "* $P((A \\cap B)^{C}) = 0.9$"
   ]
  },
  {
   "cell_type": "code",
   "execution_count": null,
   "metadata": {
    "Collapsed": "false"
   },
   "outputs": [],
   "source": [
    "\"\"\"\n",
    "your solution here\n",
    "\"\"\"\n",
    "#Paolo: the general suggestion is to use Venn diagramme to visualize the probabilities\n",
    "# formulas: \n",
    "#     P(A ∩ B) = P(A)P(B)  \n",
    "#     P(A U B) = P(A) + P(B)\n",
    "#Paolo: These formulas are true only for indipendent events but here the events are dependent\n",
    "# because P(A ∩B)=0.1\n",
    "\n",
    "# 1. P(A U B) = 0.6 ---> False\n",
    "#    P(A U B) = P(A) + P(B) = 0.3 + 0.6 = 0.9  \n",
    "#Paolo: It is FALSE but your answer numerically is not correct\n",
    "# In general P(A U B) = P(A) + P(B)-P(A ∩ B)=0.3+0.6-0.1=0.8\n",
    "   \n",
    "\n",
    "# 2. 𝑃(𝐴∩𝐵c)=0.2 ---> False\n",
    "# P(Bc) = 1 - P(B) = 1 - 0.6 = 0.4\n",
    "# 𝑃(𝐴∩𝐵c) = P(A)P(B) = 0.3 * 0.4 = 0.12\n",
    "#Paolo: it is TRUE:𝑃(𝐴∩𝐵c)=P(A)-P(A∩B)=0.3-0.1=0.2\n",
    "\n",
    "\n",
    "\n",
    "\n",
    "# 3. 𝑃(𝐴∩(𝐵∪𝐵c))=0.4 --> False\n",
    "# 𝐵∪𝐵c = P(B) - (1-P(B)) = 0.6 - 0.4 = 0.2\n",
    "# P(𝐴∩(𝐵∪𝐵c)) = 0.3 * 0.2 = 0.06\n",
    "#Paolo: it is FALSE but numerically your answer is not correct\n",
    "#Paolo: P(𝐴∩(𝐵∪𝐵c))=P(A)=0.3\n",
    "\n",
    "\n",
    "# 4. 𝑃(𝐴𝐶∩𝐵c)=0.3 --> True\n",
    "# 𝐴c = 1 - P(A) = 1-0.3 = 0.7\n",
    "# P(Bc) = 1 - P(B) = 1 - 0.6 = 0.4\n",
    "# 𝑃(𝐴𝐶∩𝐵c) = 0.7 * 0.4 = 0.28\n",
    "#Paolo: it is FALSE 𝑃(𝐴𝐶∩𝐵c) =1-P(A U B)=0.2\n",
    "\n",
    "\n",
    "# 5. 𝑃((𝐴∩𝐵)𝐶)=0.9 --> True\n",
    "# 𝑃((𝐴∩𝐵)𝐶) = 1 - P(𝐴∩𝐵) = 1 - 0.18 = 0.82\n",
    "#Paolo: it is TRUE but numerically your answer is not correct\n",
    "#P(𝐴∩𝐵)=0.1 not 0.18 (this is given in the data of the problem)\n",
    "       \n"
   ]
  },
  {
   "cell_type": "markdown",
   "metadata": {
    "Collapsed": "false"
   },
   "source": [
    "## Challenge 2\n",
    "There is a box with 10 white balls, 12 red balls and 8 black balls. Calculate the probability of:\n",
    "* Taking a white ball out.\n",
    "* Taking a white ball out after taking a black ball out.\n",
    "* Taking a red ball out after taking a black and a red ball out.\n",
    "* Taking a red ball out after taking a black and a red ball out with reposition.\n",
    "\n",
    "**Hint**: Reposition means putting back the ball into the box after taking it out."
   ]
  },
  {
   "cell_type": "code",
   "execution_count": null,
   "metadata": {
    "Collapsed": "false"
   },
   "outputs": [],
   "source": [
    "\"\"\"\n",
    "your solution here\n",
    "\"\"\"\n",
    "# W = 10 balls\n",
    "# R = 12 balls\n",
    "# B = 8 balls\n",
    "# TOTAL BALLS = 30\n",
    "\n",
    "# 1. Probabiity of taking a white ball out: 10/30\n",
    "#Paolo:yes\n",
    "    \n",
    "# 2. Probabiity of taking a white ball out after taking a black ball out: 8/30 * 10/29 = 0.26*0.34 = 0.08\n",
    "#Paolo:yes   \n",
    "    \n",
    "# 3. Probabiity of taking a red ball out after taking a black and a red ball out: (8/30*12/29) * 12/28 = 0.047\n",
    "#Paolo: almost:(8/30*12/29) * 11/28\n",
    "    \n",
    "# 4. Probabiity of taking a red ball out after taking a black and a red ball out with reposition: (8/30*12/30) * 12/30 = 0.042\n",
    "#Paolo: yes"
   ]
  },
  {
   "cell_type": "markdown",
   "metadata": {
    "Collapsed": "false"
   },
   "source": [
    "## Challenge 3\n",
    "\n",
    "You are planning to go on a picnic today but the morning is cloudy. You hate rain so you don't know whether to go out or stay home! To help you make a decision, you gather the following data about rainy days:\n",
    "\n",
    "* 50% of all rainy days start off cloudy!\n",
    "* Cloudy mornings are common. About 40% of days start cloudy. \n",
    "* This month is usually dry so only 3 of 30 days (10%) tend to be rainy. \n",
    "\n",
    "What is the chance of rain during the day?"
   ]
  },
  {
   "cell_type": "code",
   "execution_count": null,
   "metadata": {
    "Collapsed": "false"
   },
   "outputs": [],
   "source": [
    "\"\"\"\n",
    "your solution here\n",
    "\"\"\"\n",
    "\n",
    "# (0.5 * 0.4) * 0.1 = 0.02\n",
    "\n",
    "# There is only 2% chance that it will rain during the day\n",
    "#Paolo: here you should apply Bayes rule so the prob that it rains (P(A)) given that it is cloudy (P(B))\n",
    "# So you have to calculate, see below"
   ]
  },
  {
   "cell_type": "markdown",
   "metadata": {
    "Collapsed": "false"
   },
   "source": [
    "### Bayes rule\n",
    "$P(A|B) = P(B|A) · P(A) / P(B) = 0.5 · 0.1 / 0.4 = 0.125$ "
   ]
  },
  {
   "cell_type": "markdown",
   "metadata": {
    "Collapsed": "false"
   },
   "source": [
    "## Challenge 4\n",
    "\n",
    "One thousand people were asked through a telephone survey whether they thought more street lighting is needed at night or not.\n",
    "\n",
    "Out of the 480 men that answered the survey, 324 said yes and 156 said no. On the other hand, out of the 520 women that answered, 351 said yes and 169 said no. \n",
    "\n",
    "We wonder if men and women have a different opinions about the street lighting matter. Is gender relevant or irrelevant to the question?\n",
    "\n",
    "Consider the following events:\n",
    "- The answer is yes, so the person that answered thinks that more street lighting is needed.\n",
    "- The person who answered is a man.\n",
    "\n",
    "We want to know if these events are independent, that is, if the fact of wanting more light depends on whether one is male or female. Are these events independent or not?\n",
    "\n",
    "**Hint**: To clearly compare the answers by gender, it is best to place the data in a table."
   ]
  },
  {
   "cell_type": "code",
   "execution_count": null,
   "metadata": {
    "Collapsed": "false"
   },
   "outputs": [],
   "source": [
    "# your code here"
   ]
  },
  {
   "cell_type": "code",
   "execution_count": null,
   "metadata": {
    "Collapsed": "false"
   },
   "outputs": [],
   "source": [
    "\"\"\"\n",
    "your solution here\n",
    "\"\"\"\n",
    "# Gender is relevant in the question as the proportion of men and women is not the same.\n",
    "# These events are independent. \n",
    "#Paolo: it is true that the event are independent but why gender is relevant? \n",
    "# Try placing the data in a table and check"
   ]
  },
  {
   "cell_type": "code",
   "execution_count": null,
   "metadata": {
    "Collapsed": "false"
   },
   "outputs": [],
   "source": []
  }
 ],
 "metadata": {
  "kernelspec": {
   "display_name": "Python 3",
   "language": "python",
   "name": "python3"
  },
  "language_info": {
   "codemirror_mode": {
    "name": "ipython",
    "version": 3
   },
   "file_extension": ".py",
   "mimetype": "text/x-python",
   "name": "python",
   "nbconvert_exporter": "python",
   "pygments_lexer": "ipython3",
   "version": "3.7.6"
  }
 },
 "nbformat": 4,
 "nbformat_minor": 4
}
