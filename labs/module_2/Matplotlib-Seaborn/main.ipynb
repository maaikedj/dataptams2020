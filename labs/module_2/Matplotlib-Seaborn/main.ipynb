{
 "cells": [
  {
   "cell_type": "markdown",
   "metadata": {
    "Collapsed": "false"
   },
   "source": [
    "# Lab | Matplotlib & Seaborn"
   ]
  },
  {
   "cell_type": "markdown",
   "metadata": {
    "Collapsed": "false"
   },
   "source": [
    "#### Import all the libraries that are necessary."
   ]
  },
  {
   "cell_type": "code",
   "execution_count": null,
   "metadata": {
    "Collapsed": "false"
   },
   "outputs": [],
   "source": [
    "import matplotlib.pyplot as plt\n",
    "import seaborn as sns\n",
    "import pandas as pd\n",
    "import numpy as np"
   ]
  },
  {
   "cell_type": "markdown",
   "metadata": {
    "Collapsed": "false"
   },
   "source": [
    "# Challenge 1"
   ]
  },
  {
   "cell_type": "markdown",
   "metadata": {
    "Collapsed": "false"
   },
   "source": [
    "#### Data"
   ]
  },
  {
   "cell_type": "code",
   "execution_count": null,
   "metadata": {
    "Collapsed": "false"
   },
   "outputs": [],
   "source": [
    "x = np.arange(0,100)\n",
    "y = x*2\n",
    "z = x**2"
   ]
  },
  {
   "cell_type": "markdown",
   "metadata": {
    "Collapsed": "false"
   },
   "source": [
    "#### Plot (x,y) and (x,z) on the axes.\n",
    "There are 2 ways of doing this. Do in both ways.\n",
    "Hint: Check out the nrows, ncols, and index arguments of subplots.\n",
    "\n",
    "Also, play around with the linewidth and style. Use the ones you're most happy with."
   ]
  },
  {
   "cell_type": "code",
   "execution_count": null,
   "metadata": {
    "Collapsed": "false"
   },
   "outputs": [],
   "source": [
    "# OPTION 1\n",
    "# Create a figure of a fixed size\n",
    "plt.subplots(figsize=(5,5))\n",
    "\n",
    "# First plot\n",
    "plt.plot(x, y, label='x-y linear')\n",
    "\n",
    "# Second plot\n",
    "plt.plot(x, z, label='x-z quadratic')\n",
    "\n",
    "# Show the plot\n",
    "plt.title(\"Linear vs Quadratic\")\n",
    "plt.legend()\n",
    "plt.show()\n"
   ]
  },
  {
   "cell_type": "markdown",
   "metadata": {
    "Collapsed": "false"
   },
   "source": [
    "#### Use plt.subplots(nrows=1, ncols=2) to create the plot below"
   ]
  },
  {
   "cell_type": "code",
   "execution_count": null,
   "metadata": {
    "Collapsed": "false"
   },
   "outputs": [],
   "source": [
    "# OPTION 2\n",
    "\n",
    "# Create a figure of a fixed size and axes\n",
    "fig, [plot_a, plot_b] = plt.subplots(1,2, figsize=(10,5))\n",
    "# Plots\n",
    "plot_a.plot(x, y)\n",
    "plot_a.set_title('LINEAR PLOT')   \n",
    "plot_a.set_xlabel('x')     \n",
    "plot_a.set_ylabel('y')\n",
    "\n",
    "plot_b.plot(x, z)\n",
    "plot_b.set_title('QUADRATIC PLOT')   \n",
    "plot_b.set_xlabel('x')     \n",
    "plot_b.set_ylabel('z')\n",
    "# Show the plot\n",
    "plt.show()"
   ]
  },
  {
   "cell_type": "markdown",
   "metadata": {
    "Collapsed": "false"
   },
   "source": [
    "#### Augmenting your previous code, resize your previous plot.\n",
    "Hint: Add the figsize argument in plt.subplots()"
   ]
  },
  {
   "cell_type": "code",
   "execution_count": null,
   "metadata": {
    "Collapsed": "false"
   },
   "outputs": [],
   "source": [
    "# ENHANCED VERSION to see more matplotlib features\n",
    "\n",
    "# Variables\n",
    "fs = 16 # fontsize\n",
    "fw = 700 # fontweight\n",
    "lw = 3 # lineweight\n",
    "y_rot = 0 # ylabel rotation\n",
    "\n",
    "# Create a figure of a fixed size and axes\n",
    "fig, [plot_a, plot_b] = plt.subplots(1,2, figsize=(10,5))\n",
    "\n",
    "# First plot adding a title and x and y labels\n",
    "plot_a.plot(x, y, linewidth = lw)\n",
    "plot_a.set_title('LINEAR PLOT', fontweight = fw)   \n",
    "plot_a.set_xlabel('x', fontsize = fs)     \n",
    "plot_a.set_ylabel('y')\n",
    "\n",
    "# Second plot adding a title and x and y labels\n",
    "plot_b.plot(x, z)\n",
    "plot_b.set_title('QUADRATIC PLOT')   \n",
    "plot_b.set_xlabel('x')     \n",
    "plot_b.set_ylabel('z')\n",
    "\n",
    "# Show the plot\n",
    "plt.show()"
   ]
  },
  {
   "cell_type": "markdown",
   "metadata": {
    "Collapsed": "false"
   },
   "source": [
    "#### Plot both y=x^2 and y=exp(x) in the same plot using normal and logarithmic scale.\n",
    "Hint: Use set_xscale and set_yscale"
   ]
  },
  {
   "cell_type": "code",
   "execution_count": null,
   "metadata": {
    "Collapsed": "false"
   },
   "outputs": [],
   "source": [
    "# Create a figure of a fixed size and axes\n",
    "fig = plt.figure(figsize=(5, 5))\n",
    "\n",
    "# Normal plot\n",
    "plot_a = fig.add_subplot()\n",
    "plot_a.plot(x, x**2)\n",
    "\n",
    "# Logarithmic scale\n",
    "plot_b = fig.add_subplot()\n",
    "plot_b.plot(x, np.exp(x))\n",
    "plot_b.set_yscale('log')\n",
    "\n",
    "# Show plot\n",
    "plt.show()"
   ]
  },
  {
   "cell_type": "code",
   "execution_count": null,
   "metadata": {
    "Collapsed": "false"
   },
   "outputs": [],
   "source": [
    "# ALTERNATIVE WITH LEGEND\n",
    "\n",
    "# Create a figure of a fixed size and axes\n",
    "fig = plt.figure(figsize=(5, 5))\n",
    "\n",
    "# Normal plot\n",
    "plot_a = fig.add_subplot()\n",
    "plot_a.plot(x, x**2)\n",
    "\n",
    "# Logarithmic scale\n",
    "plot_b = fig.add_subplot()\n",
    "plot_b.plot(x, np.exp(x))\n",
    "plot_b.set_yscale('log')\n",
    "\n",
    "# Show plot\n",
    "plt.legend()\n",
    "plt.show()"
   ]
  },
  {
   "cell_type": "markdown",
   "metadata": {
    "Collapsed": "false"
   },
   "source": [
    "# Challenge 2"
   ]
  },
  {
   "cell_type": "markdown",
   "metadata": {
    "Collapsed": "false"
   },
   "source": [
    "Import the Fitbit2.csv file and name your dataset fitbit. Download the data from [here](https://drive.google.com/file/d/17TW-w-izKuR7bLoa0Mnyp9YN9zEQNXq-/view?usp=sharing) and place it in the data folder."
   ]
  },
  {
   "cell_type": "code",
   "execution_count": null,
   "metadata": {
    "Collapsed": "false"
   },
   "outputs": [],
   "source": [
    "# Read the data\n",
    "fitbit = pd.read_csv('data/Fitbit2.csv')"
   ]
  },
  {
   "cell_type": "markdown",
   "metadata": {
    "Collapsed": "false"
   },
   "source": [
    "#### From the Fitbit data, we want to visually understand:\n",
    "\n",
    "How the average number of steps change by month. Use the appropriate visualization to show the median steps by month.\n",
    "Is Fitbitter more active on weekend or workdays?\n",
    "All plots must be in the same jupyter notebook cell.\n",
    "\n",
    "Hints:\n",
    "\n",
    "- Use Months_encoded and Week_or Weekend columns.\n",
    "- Use matplolib.pyplot object oriented API.\n",
    "- Set your size figure to 12,4\n",
    "- Explore plt.sca\n",
    "- Explore plt.xticks\n",
    "- Save your figures"
   ]
  },
  {
   "cell_type": "code",
   "execution_count": null,
   "metadata": {
    "Collapsed": "false"
   },
   "outputs": [],
   "source": [
    "# MEDIAN STEPS BY MONTH_ENCODED\n",
    "# Find the median steps for each month\n",
    "describe_steps = fitbit.groupby('Months_encoded')['Steps'].describe()[['mean', '50%']]\n",
    "# describe_steps.index\n",
    "# Create a figure of a fixed size and axes\n",
    "fig, [plot_a, plot_b] = plt.subplots(1,2, figsize=(12,4))\n",
    "# Set the current axes instance to ax[0] - Now plt methods will affect ax[0]\n",
    "plt.sca(plot_a)\n",
    "# Plot the month steps in the current axes\n",
    "plot_a.plot(describe_steps['mean'])\n",
    "# Add labels, title, etc\n",
    "plot_a.set_title('Steps X Month')   \n",
    "plot_a.set_xlabel('Months')     \n",
    "plot_a.set_ylabel('Steps')\n",
    "# plt.xticks(fitbit['Months_encoded'])\n",
    "plot_a = plt.xticks(fitbit['Months_encoded'])\n",
    "# Save the figure\n",
    "\n",
    "# MEDIAN STEPS BY WORK_OR_WEEKEND\n",
    "# Set the current axes instance to ax[1] - Now plt methods will affect ax[1]\n",
    "plt.sca(plot_b)\n",
    "\n",
    "# Find the median steps for workdays and weekdays\n",
    "describe_wow = fitbit.groupby('Work_or_Weekend')['Steps'].describe()[['mean', '50%']]\n",
    "\n",
    "# Plot the workday and weekend steps in the current axes\n",
    "plot_b.plot(describe_wow['mean'])\n",
    "\n",
    "# Add labels, title, etc\n",
    "plot_b.set_title('Steps X Workday/Weekend')   \n",
    "plot_b.set_xlabel('Workday/Weekend')     \n",
    "plot_b.set_ylabel('Steps')\n",
    "# plt.xticks(fitbit['Work_or_Weekend'])\n",
    "plot_b = plt.xticks(fitbit['Work_or_Weekend'])\n",
    "# Save the figure\n",
    "fig.savefig('temp.png')"
   ]
  },
  {
   "cell_type": "markdown",
   "metadata": {
    "Collapsed": "false"
   },
   "source": [
    "#### Write a loop to plot 3 scatter plots of the following features:\n",
    "\n",
    "Minutes Lightly Active vs Steps\n",
    "Minutes Very Active vs Steps\n",
    "Minutes Sedentary vs Steps"
   ]
  },
  {
   "cell_type": "code",
   "execution_count": null,
   "metadata": {
    "Collapsed": "false"
   },
   "outputs": [],
   "source": [
    "# ALTERNATIVE 1\n",
    "cols = ['Minutes Lightly Active', 'Minutes Very Active', 'Minutes Sedentary']\n",
    "# Create a df with the columns we are interested in \n",
    "fit_min = fitbit[['Minutes Lightly Active', 'Minutes Very Active', 'Minutes Sedentary', 'Steps']]\n",
    "\n",
    "# Create a figure of a fixed size and axes\n",
    "plt.subplots(figsize=(5,5))\n",
    "\n",
    "# Iterate to draw each scatter plot\n",
    "for col in cols:\n",
    "    plt.plot(fit_min[col], fit_min['Steps'], 'o', label=f'Steps-{col}')\n",
    "plt.legend()"
   ]
  },
  {
   "cell_type": "code",
   "execution_count": null,
   "metadata": {
    "Collapsed": "false"
   },
   "outputs": [],
   "source": [
    "# ALTERNATIVE 2\n",
    "# Create a df with the columns we are interested in \n",
    "\n",
    "\n",
    "# Create a figure of a fixed size and axes\n",
    "\n",
    "\n",
    "# Iterate to draw each scatter plot\n"
   ]
  },
  {
   "cell_type": "markdown",
   "metadata": {
    "Collapsed": "false"
   },
   "source": [
    "# Challenge 3"
   ]
  },
  {
   "cell_type": "markdown",
   "metadata": {
    "Collapsed": "false"
   },
   "source": [
    "#### Open the titanic file. Name your dataset titanic."
   ]
  },
  {
   "cell_type": "markdown",
   "metadata": {
    "Collapsed": "false"
   },
   "source": [
    "Download the dataset from [here](https://drive.google.com/file/d/1jkkOcWm9aEF8gb0r2SsarF5Qdoaaw1do/view?usp=sharing) and place it in the data folder"
   ]
  },
  {
   "cell_type": "code",
   "execution_count": null,
   "metadata": {
    "Collapsed": "false"
   },
   "outputs": [],
   "source": [
    "# Read the data\n",
    "titanic = pd.read_csv('data/titanic.csv')"
   ]
  },
  {
   "cell_type": "markdown",
   "metadata": {
    "Collapsed": "false"
   },
   "source": [
    "#### Explore the titanic dataset using Pandas dtypes."
   ]
  },
  {
   "cell_type": "code",
   "execution_count": null,
   "metadata": {
    "Collapsed": "false"
   },
   "outputs": [],
   "source": [
    "titanic.dtypes"
   ]
  },
  {
   "cell_type": "markdown",
   "metadata": {
    "Collapsed": "false"
   },
   "source": [
    "#### What are your numerical variables? What are your categorical variables?\n",
    "Hint: Use Pandas select_dtypes"
   ]
  },
  {
   "cell_type": "code",
   "execution_count": null,
   "metadata": {
    "Collapsed": "false"
   },
   "outputs": [],
   "source": [
    "# Numerical variables\n",
    "titanic.select_dtypes(np.number)"
   ]
  },
  {
   "cell_type": "code",
   "execution_count": null,
   "metadata": {
    "Collapsed": "false"
   },
   "outputs": [],
   "source": [
    "# Categorical variables\n",
    "titanic.select_dtypes(exclude=np.number)"
   ]
  },
  {
   "cell_type": "markdown",
   "metadata": {
    "Collapsed": "false"
   },
   "source": [
    "#### Set the plot style to classic and the figure size to (12,6).\n",
    "Hint: To set the style you can use matplotlib.pyplot functions or seaborn "
   ]
  },
  {
   "cell_type": "code",
   "execution_count": null,
   "metadata": {
    "Collapsed": "false"
   },
   "outputs": [],
   "source": [
    "# Plot style change\n",
    "plt.style.use('classic')\n",
    "\n",
    "# Figure size change\n",
    "plt.subplots(figsize=(12,6))"
   ]
  },
  {
   "cell_type": "markdown",
   "metadata": {
    "Collapsed": "false"
   },
   "source": [
    "#### Use the right visulalization to show the distribution of the column Age."
   ]
  },
  {
   "cell_type": "code",
   "execution_count": null,
   "metadata": {
    "Collapsed": "false"
   },
   "outputs": [],
   "source": [
    "# Pandas plots are based on matplotlib\n",
    "# Plot the histogram of column Age\n",
    "plt.hist(titanic['Age'])\n",
    "\n",
    "\n",
    "# Set titles, labels, etc\n",
    "plt.title('Age')\n",
    "plt.xlabel('Age')\n",
    "plt.ylabel('Frequency')\n",
    "\n",
    "# Show the plot\n",
    "plt.show()"
   ]
  },
  {
   "cell_type": "markdown",
   "metadata": {
    "Collapsed": "false"
   },
   "source": [
    "#### Use subplots and plot the distribution of the Age variable with bins equal to 10, 20 and 50."
   ]
  },
  {
   "cell_type": "code",
   "execution_count": null,
   "metadata": {
    "Collapsed": "false"
   },
   "outputs": [],
   "source": [
    "# Variables\n",
    "# Create a figure of a fixed size and axes\n",
    "fig, [plot_a, plot_b,plot_c] = plt.subplots(1,3, figsize=(16,4))\n",
    "\n",
    "\n",
    "# Plot the histogram using a different number of bins\n",
    "# plot_1 = plot_a\n",
    "plot_a.hist(titanic['Age'], bins=10)\n",
    "plot_b.hist(titanic['Age'], bins=20)\n",
    "plot_c.hist(titanic['Age'], bins=50)\n",
    "plt.show()"
   ]
  },
  {
   "cell_type": "markdown",
   "metadata": {
    "Collapsed": "false"
   },
   "source": [
    "#### How does the bin size affect your plot? Comment."
   ]
  },
  {
   "cell_type": "markdown",
   "metadata": {
    "Collapsed": "false"
   },
   "source": [
    "~~~~\n",
    "Using a low number of bins (wider bins) reduces noise on the distribution estimation while using a \n",
    "high number of bins (narrower bins) gives greater precision to the distribution estimation (and more noise). \n",
    "~~~~"
   ]
  },
  {
   "cell_type": "markdown",
   "metadata": {
    "Collapsed": "false"
   },
   "source": [
    "#### Use seaborn to show the distribution of the column Age."
   ]
  },
  {
   "cell_type": "code",
   "execution_count": null,
   "metadata": {
    "Collapsed": "false"
   },
   "outputs": [],
   "source": [
    "# Seaborn is a Python library based on matplotlib\n",
    "\n",
    "# Plot of the age histogram using seaborn\n",
    "sns.distplot(titanic['Age'])\n",
    "# Show the plot\n"
   ]
  },
  {
   "cell_type": "markdown",
   "metadata": {
    "Collapsed": "false"
   },
   "source": [
    "#### Use the right plot to visualize the column Gender. There are 2 ways of doing it. Do it both ways.\n",
    "Hint: Use matplotlib and seaborn"
   ]
  },
  {
   "cell_type": "code",
   "execution_count": null,
   "metadata": {
    "Collapsed": "false"
   },
   "outputs": [],
   "source": [
    "# OPTION 1 - Matplotlib\n",
    "\n",
    "# Bar plot of the gender\n",
    "plt.subplots(figsize=(5,5))\n",
    "plt.hist(titanic['Age'])\n",
    "# Add labels to the plot and change xticks rotation\n",
    "plt.xticks(rotation=90)\n",
    "plt.title('Age Distribution')\n",
    "\n",
    "# Show the plot\n",
    "plt.show()"
   ]
  },
  {
   "cell_type": "code",
   "execution_count": null,
   "metadata": {
    "Collapsed": "false"
   },
   "outputs": [],
   "source": [
    "# OPTION 2 - Seaborn\n",
    "\n",
    "# Seaborn Countplot\n",
    "sns.countplot(titanic['Age'])\n",
    "# Show the plot\n"
   ]
  },
  {
   "cell_type": "markdown",
   "metadata": {
    "Collapsed": "false"
   },
   "source": [
    "#### Use the right plot to visualize the column Pclass."
   ]
  },
  {
   "cell_type": "code",
   "execution_count": null,
   "metadata": {
    "Collapsed": "false"
   },
   "outputs": [],
   "source": [
    "# Bar plot of Pclass\n",
    "plt.subplots(figsize=(5,5))\n",
    "plt.hist(titanic['Pclass'])\n",
    "# Add labels to the plot and change xticks rotation\n",
    "plt.xticks([1,2,3],rotation=90)\n",
    "plt.title('Pclass')\n",
    "\n",
    "# Show the plot\n",
    "plt.show()"
   ]
  },
  {
   "cell_type": "markdown",
   "metadata": {
    "Collapsed": "false"
   },
   "source": [
    "#### We would like to have in one single plot the summary statistics of the feature Age. What kind of plot would you use?"
   ]
  },
  {
   "cell_type": "code",
   "execution_count": null,
   "metadata": {
    "Collapsed": "false"
   },
   "outputs": [],
   "source": [
    "# Box plot\n",
    "\n",
    "titanic['Age'].describe()\n",
    "# Show the plot\n",
    "sns.boxplot(data=titanic['Age'])"
   ]
  },
  {
   "cell_type": "markdown",
   "metadata": {
    "Collapsed": "false"
   },
   "source": [
    "#### What does the last plot tells you about the feature Age? Comment."
   ]
  },
  {
   "cell_type": "markdown",
   "metadata": {
    "Collapsed": "false"
   },
   "source": [
    "~~~~\n",
    "The statistics that you can get from the boxplot are the minimum, first quartile, median, \n",
    "third quartile, and maximum.\n",
    "\n",
    "The red line shows us the median of Age. \n",
    "The blue box shows us the interquartile range (from Q1 to Q3).\n",
    "It also shows us the outliers, which are out of the maximum and minimum range (Q1 - 1.5*IQR, Q3 + 1.5*IQR).\n",
    "~~~~"
   ]
  },
  {
   "cell_type": "markdown",
   "metadata": {
    "Collapsed": "false"
   },
   "source": [
    "#### Now in addition to the summary statistics, we want to have in the SAME plot the distribution of Age. What kind of plot would you use?"
   ]
  },
  {
   "cell_type": "code",
   "execution_count": null,
   "metadata": {
    "Collapsed": "false"
   },
   "outputs": [],
   "source": [
    "# Set figure size\n",
    "plt.subplots(figsize=(5,5))\n",
    "\n",
    "# Violin plot\n",
    "sns.violinplot(\"Age\", data=titanic)\n",
    "\n",
    "# Show the plot\n"
   ]
  },
  {
   "cell_type": "markdown",
   "metadata": {
    "Collapsed": "false"
   },
   "source": [
    "#### What additional information the last plot provides you about the feature Age? Comment."
   ]
  },
  {
   "cell_type": "markdown",
   "metadata": {
    "Collapsed": "false"
   },
   "source": [
    "~~~~\n",
    "This plot is a combination of a boxplot and a density plot. The violin plot features a kernel density estimation \n",
    "of the underlying distribution of the data.\n",
    "\n",
    "The black central part of the plot is the same as a boxplot and the white dot is the median.\n",
    "The blue part is the distribution of the data.\n",
    "~~~~"
   ]
  },
  {
   "cell_type": "markdown",
   "metadata": {
    "Collapsed": "false"
   },
   "source": [
    "#### We suspect that there is a linear relationship between Fare and Age. Use the right plot to show the relationship between these 2 features. There are 2 ways, please do it both ways.\n",
    "Hint: One of the ways involves using Seaborn."
   ]
  },
  {
   "cell_type": "code",
   "execution_count": null,
   "metadata": {
    "Collapsed": "false"
   },
   "outputs": [],
   "source": [
    "# OPTION 1\n",
    "\n",
    "# Scatter plot\n",
    "plt.scatter(titanic['Age'], titanic['Fare'])\n",
    "plt.title('Scatter plot Fare/Age')\n",
    "\n",
    "\n",
    "# Add labels\n",
    "plt.xlabel('Age')\n",
    "plt.ylabel('Fare')\n",
    "\n",
    "# Show the plot\n",
    "plt.show()"
   ]
  },
  {
   "cell_type": "code",
   "execution_count": null,
   "metadata": {
    "Collapsed": "false"
   },
   "outputs": [],
   "source": [
    "# OPTION 2\n",
    "\n",
    "# Joinplot\n",
    "sns.jointplot(x=\"Age\", y=\"Fare\", data=titanic)\n",
    "\n",
    "# Show the plot\n",
    "# titanic.head()"
   ]
  },
  {
   "cell_type": "markdown",
   "metadata": {
    "Collapsed": "false"
   },
   "source": [
    "#### Using Seaborn plot the correlation matrix."
   ]
  },
  {
   "cell_type": "code",
   "execution_count": null,
   "metadata": {
    "Collapsed": "false"
   },
   "outputs": [],
   "source": [
    "# Set figure size\n",
    "plt.figure(figsize=(5,5))\n",
    "\n",
    "# Correlation matrix\n",
    "sns.heatmap(titanic.corr())\n",
    "\n",
    "# Add title\n",
    "\n",
    "\n",
    "# Show plot\n"
   ]
  },
  {
   "cell_type": "markdown",
   "metadata": {
    "Collapsed": "false"
   },
   "source": [
    "#### What are the most correlated features? Comment."
   ]
  },
  {
   "cell_type": "markdown",
   "metadata": {
    "Collapsed": "false"
   },
   "source": [
    "~~~~~\n",
    "The most correlated features are Parch and SibSp.\n",
    "~~~~~"
   ]
  },
  {
   "cell_type": "markdown",
   "metadata": {
    "Collapsed": "false"
   },
   "source": [
    "#### Use the right plot to display the summary statistics of the Age in function of the Pclass."
   ]
  },
  {
   "cell_type": "code",
   "execution_count": null,
   "metadata": {
    "Collapsed": "false"
   },
   "outputs": [],
   "source": [
    "# Boxplot\n",
    "sns.boxplot(x = \"Pclass\", y=\"Age\", data=titanic)\n",
    "\n",
    "# Show the plot\n",
    "plt.show()"
   ]
  },
  {
   "cell_type": "markdown",
   "metadata": {
    "Collapsed": "false"
   },
   "source": [
    "#### Use the seaborn to plot the distribution of the Age based on the Gender.\n",
    "Hint: Use Facetgrid"
   ]
  },
  {
   "cell_type": "code",
   "execution_count": null,
   "metadata": {
    "Collapsed": "false"
   },
   "outputs": [],
   "source": [
    "# Create a grid with FacetGrid\n",
    "\n",
    "g = sns.FacetGrid(titanic)\n",
    "# Draw a plot on each facet\n",
    "g.map(plt.scatter,\"Age\",\"Gender\");\n",
    "\n",
    "# Show the plot\n",
    "plt.show()"
   ]
  },
  {
   "cell_type": "code",
   "execution_count": null,
   "metadata": {},
   "outputs": [],
   "source": [
    "months"
   ]
  },
  {
   "cell_type": "code",
   "execution_count": null,
   "metadata": {},
   "outputs": [],
   "source": []
  }
 ],
 "metadata": {
  "anaconda-cloud": {},
  "kernelspec": {
   "display_name": "Python 3",
   "language": "python",
   "name": "python3"
  },
  "language_info": {
   "codemirror_mode": {
    "name": "ipython",
    "version": 3
   },
   "file_extension": ".py",
   "mimetype": "text/x-python",
   "name": "python",
   "nbconvert_exporter": "python",
   "pygments_lexer": "ipython3",
   "version": "3.7.6"
  }
 },
 "nbformat": 4,
 "nbformat_minor": 4
}
