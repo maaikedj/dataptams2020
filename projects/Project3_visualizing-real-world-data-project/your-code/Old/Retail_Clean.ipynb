{
 "cells": [
  {
   "cell_type": "code",
   "execution_count": null,
   "metadata": {},
   "outputs": [],
   "source": [
    "import pandas as pd\n",
    "import sys\n",
    "# print(sys.path)\n",
    "# Adding a path so that it finds the package for numpy\n",
    "sys.path.append('/usr/local/lib/python3.7/site-packages')\n",
    "import numpy as np\n",
    "import matplotlib.pyplot as plt\n",
    "from random import randint\n",
    "from collections import Counter\n",
    "import seaborn as sns\n",
    "from matplotlib.colors import ListedColormap\n",
    "from matplotlib import cm\n",
    "\n",
    "import chart_studio.plotly as py\n",
    "import cufflinks as cf\n",
    "import pandas as pd\n",
    "%matplotlib inline\n",
    "from ipywidgets import interact\n",
    "from ipywidgets import interact, interactive, fixed, interact_manual\n",
    "import ipywidgets as widgets\n",
    "\n",
    "cf.go_offline()\n",
    "\n",
    "from bokeh.io import output_file, show\n",
    "from bokeh.models import CheckboxGroup"
   ]
  },
  {
   "cell_type": "code",
   "execution_count": null,
   "metadata": {},
   "outputs": [],
   "source": [
    "'The 2002–2004 SARS outbreak was an epidemic involving severe acute respiratory syndrome (SARS) caused by SARS-CoV' \n",
    "'The outbreak was first identified in Foshan, Guangdong, China, in November 2002.'\n",
    "'Over 8,000 people from 29 different countries and territories were infected, and at least 774 died worldwide.'\n",
    "'The World Health Organization declared severe acute respiratory syndrome contained on 5 July 2003'\n",
    "'However several SARS cases were reported until May 2004.'\n",
    "'Hong Kong had 1755 cases and 299 deaths (17% fatality rate)'\n",
    "'Hong Konng has today around 1000 cases of COVID 19 and 4 deaths'"
   ]
  },
  {
   "cell_type": "code",
   "execution_count": null,
   "metadata": {},
   "outputs": [],
   "source": [
    "'What was the impact of SARS on Retail and Horeca Sales?'\n",
    "'What categories suffered the most?'\n",
    "'How fast did the recovery took place?'\n",
    "\"What categories recovered first?\""
   ]
  },
  {
   "cell_type": "code",
   "execution_count": null,
   "metadata": {},
   "outputs": [],
   "source": [
    "'First set of data includes Retail Sales by Category by month since 2001'\n",
    "retail = pd.read_excel('../data/Retail Clean.xlsx')\n",
    "ret = retail.describe()\n",
    "ret.transpose()"
   ]
  },
  {
   "cell_type": "code",
   "execution_count": null,
   "metadata": {},
   "outputs": [],
   "source": [
    "'Check that all year rows are clean and included'\n",
    "retail['Year'].unique()"
   ]
  },
  {
   "cell_type": "code",
   "execution_count": null,
   "metadata": {},
   "outputs": [],
   "source": [
    "' Create a function that eliminate 2001 and 2020 as they have partial data only. I will re-use it for the other dataframes'\n",
    "\n",
    "def clean_year(df):\n",
    "    return df[df['Year'].isin(['2002','2003','2004','2005','2006','2007','2008','2009','2010','2011','2012','2013','2014','2015','2016','2017','2018','2019'])]"
   ]
  },
  {
   "cell_type": "code",
   "execution_count": null,
   "metadata": {},
   "outputs": [],
   "source": [
    "retail = clean_year(retail)"
   ]
  },
  {
   "cell_type": "code",
   "execution_count": null,
   "metadata": {},
   "outputs": [],
   "source": [
    "'Create a date column by concatenating Year and Month. Date will be used for the plotting'\n",
    "retail['Date'] = pd.to_datetime(retail['Month'].astype(str) + '/' + retail['Year'].astype(str))\n",
    "retail.head()"
   ]
  },
  {
   "cell_type": "code",
   "execution_count": null,
   "metadata": {},
   "outputs": [],
   "source": [
    "'Start by looking at the trend by entire year so to eliminate the impact of seasonality in the month by month'\n",
    "\n",
    "def plot_bar(df, title, col_name):\n",
    "    plt.rcParams['figure.figsize'] = [18.0, 6.0]\n",
    "    sum_year = df[[col_name,'Year']].groupby(['Year']).agg(\"sum\")\n",
    "    sum_year.plot.bar()\n",
    "    plt.title(title)\n",
    "    return plt.show()"
   ]
  },
  {
   "cell_type": "code",
   "execution_count": null,
   "metadata": {},
   "outputs": [],
   "source": [
    "plot_bar(retail,\"HK Retail Sales - HK $\",\"All retail outlets\")"
   ]
  },
  {
   "cell_type": "code",
   "execution_count": null,
   "metadata": {},
   "outputs": [],
   "source": [
    "'As expected, sales declined in 2003 vs 2002 and bounced back already in 2004.'"
   ]
  },
  {
   "cell_type": "code",
   "execution_count": null,
   "metadata": {},
   "outputs": [],
   "source": [
    "'Now let''s go deeper and focus on the 2002 to 2005 period for a closer look'\n",
    "\n",
    "retail_02_to_05 = retail[retail['Year'].isin(['2002','2003','2004','2005'])]"
   ]
  },
  {
   "cell_type": "code",
   "execution_count": null,
   "metadata": {},
   "outputs": [],
   "source": [
    "'Look at the trend by month in the 2002 to 2005 range'\n",
    "\n",
    "def plot_line(df, col_name, title):\n",
    "    \n",
    "    chart = sns.lineplot(df.Date, df[col_name])\n",
    "    chart.set(xticks=df.Date.values)\n",
    "\n",
    "    plt.xticks(\n",
    "        rotation=45, \n",
    "        horizontalalignment='right',\n",
    "        fontweight='light',\n",
    "        fontsize='x-large'  \n",
    "    )\n",
    "\n",
    "    plt.title(title)\n",
    "    return plt.show()\n"
   ]
  },
  {
   "cell_type": "code",
   "execution_count": null,
   "metadata": {},
   "outputs": [],
   "source": [
    "plot_line(retail_02_to_05, 'All retail outlets', \"Sales of Retail Outlets in Hong Kong ('000 HK$) - 2002-2005\")"
   ]
  },
  {
   "cell_type": "code",
   "execution_count": null,
   "metadata": {},
   "outputs": [],
   "source": [
    "'The fall in Retail sales takes place in M2 and continues to M4. A slow recover in Q3-Q4 and then a jum in M12 and M1 2004'"
   ]
  },
  {
   "cell_type": "code",
   "execution_count": null,
   "metadata": {},
   "outputs": [],
   "source": [
    "'To get a better view of the impact, let''s look at the sales indexes of 2003 vs 2002'"
   ]
  },
  {
   "cell_type": "code",
   "execution_count": null,
   "metadata": {},
   "outputs": [],
   "source": [
    "df = retail\n",
    "    \n",
    "df_2002 = df[df['Year'].isin(['2002'])]\n",
    "df_2003 = df[df['Year'].isin(['2003'])]\n",
    "    \n",
    "Month = ['Jan', 'Feb', 'Mar', 'Apr', 'May', 'Jun', 'Jul', 'Aug', 'Sep', 'Oct', 'Nov', 'Dec']\n",
    "Flat = [100, 100, 100, 100, 100, 100, 100, 100, 100, 100, 100, 100]\n",
    "    \n",
    "data = {'Month': Month, 'Flat': Flat}\n",
    "indf = pd.DataFrame (data)\n",
    "\n",
    "col_names = [name for name in df.columns]\n",
    "col_names.remove('Year')\n",
    "col_names.remove('Month')\n",
    "col_names.remove('Date')\n",
    "\n",
    "for col_name in col_names:\n",
    "        \n",
    "    index_03vs02 = [int(tre/due*100) for tre,due in zip(df_2003[col_name],df_2002[col_name])]\n",
    "    indf[col_name] = index_03vs02\n"
   ]
  },
  {
   "cell_type": "code",
   "execution_count": null,
   "metadata": {},
   "outputs": [],
   "source": [
    "'Let us also calculate the speed of recovery as # of months it took for the category to go back to 100'"
   ]
  },
  {
   "cell_type": "code",
   "execution_count": null,
   "metadata": {},
   "outputs": [],
   "source": [
    "speed = {}\n",
    "\n",
    "indf_feb = indf.iloc[1:]\n",
    "\n",
    "for col_name in col_names:\n",
    "    counter = 0\n",
    "    for index in indf_feb[col_name]:\n",
    "        counter+=1\n",
    "        if index > 100:\n",
    "            break\n",
    "        \n",
    "    speed.update({col_name: counter}) "
   ]
  },
  {
   "cell_type": "code",
   "execution_count": null,
   "metadata": {},
   "outputs": [],
   "source": [
    "'And plot the two information'"
   ]
  },
  {
   "cell_type": "code",
   "execution_count": null,
   "metadata": {},
   "outputs": [],
   "source": [
    "@interact\n",
    "def Selection(Selection=col_names):\n",
    "       \n",
    "    fig, ax = plt.subplots()\n",
    "    \n",
    "    ax.plot(indf['Month'],indf[Selection], label=Selection, color=\"blue\")\n",
    "    ax.plot(indf['Month'],indf[\"Flat\"], label='Flat', color=\"black\", linewidth=0.5)\n",
    "\n",
    "    ax.text('Dec', 100, speed[Selection], fontsize=30, color=\"blue\")\n",
    "    ax.legend(loc=4) # upper left corner\n",
    "    ax.set_xlabel('Month', fontsize=18)\n",
    "    ax.set_ylabel(Selection, fontsize=14)\n",
    "    ax.set_title(\"2003 Sales vs 2002 same month & speed of recovery in # of months\");\n",
    "\n",
    "    return plt.show()\n"
   ]
  },
  {
   "cell_type": "code",
   "execution_count": null,
   "metadata": {},
   "outputs": [],
   "source": [
    "'Total Retail sales recoevered in 7 months'\n",
    "'Fresh fruits & vegetables were slow with 11 months'\n",
    "'Supermarkets & Medicines the fastest with 2'\n"
   ]
  },
  {
   "cell_type": "code",
   "execution_count": null,
   "metadata": {},
   "outputs": [],
   "source": [
    "'What categories were most impacted?'"
   ]
  },
  {
   "cell_type": "code",
   "execution_count": null,
   "metadata": {},
   "outputs": [],
   "source": [
    "'Focus on the 2002 and 2003 years to make a comparison'\n",
    "\n",
    "retail_02_and_03 = retail[retail['Year'].isin(['2002','2003'])]\n",
    "retail_02_and_03_not_all = retail_02_and_03.drop(columns=['All retail outlets'])\n",
    "sum_year__02_and_03_not_all = retail_02_and_03_not_all[['Fish, livestock and poultry, fresh or frozen',\n",
    "                                     'Fruits and vegetables, fresh',\n",
    "                                     'Bread, pastry, confectionery and biscuits',\n",
    "                                     'Other food, not elsewhere classified',\n",
    "                                     'Alcoholic drinks and tobacco',\n",
    "                                     'Supermarkets',\n",
    "                                     'Fuels',\n",
    "                                     'Wearing apparel',\n",
    "                                     'Footwear, allied products and other clothing accessories',\n",
    "                                     'Motor vehicles and parts',\n",
    "                                     'Furniture and fixtures',\n",
    "                                     'Electrical goods and other consumer durable goods, not elsewhere classified',\n",
    "                                     'Department stores',\n",
    "                                     'Jewellery, watches and clocks, and valuable gifts',\n",
    "                                     'Books, newspapers, stationery and gifts',\n",
    "                                     'Chinese drugs and herbs',\n",
    "                                     'Optical shops',\n",
    "                                     'Medicines and cosmetics',\n",
    "                                     'Other consumer goods, not elsewhere classified','Year']].groupby(['Year']).agg(\"sum\")"
   ]
  },
  {
   "cell_type": "code",
   "execution_count": null,
   "metadata": {},
   "outputs": [],
   "source": [
    "fig, ax = plt.subplots(figsize = (24,12))\n",
    "\n",
    "size = 0.3\n",
    "\n",
    "cmap = plt.get_cmap(\"tab20c\")\n",
    "outer_colors = sns.color_palette(\"GnBu\", 20)\n",
    "inner_colors = sns.color_palette(\"GnBu\", 20)\n",
    "\n",
    "ax.pie(sum_year__02_and_03_not_all.iloc[1], \n",
    "       radius=1,\n",
    "       labels=sum_year__02_and_03_not_all.columns, \n",
    "       wedgeprops=dict(width=size, edgecolor='w'),\n",
    "       colors=outer_colors,\n",
    "       autopct='%1.1f%%',\n",
    "       pctdistance=0.9)\n",
    "\n",
    "ax.pie(sum_year__02_and_03_not_all.iloc[0], \n",
    "       radius=1-size, \n",
    "       colors=inner_colors,\n",
    "       wedgeprops=dict(width=size, edgecolor='w'),\n",
    "       autopct='%1.1f%%',\n",
    "       pctdistance=0.9)\n",
    "\n",
    "ax.set(aspect=\"equal\", title='2003 (outer circle) vs 2002 (inner circle) Retail Sales by Category')\n",
    "plt.show()"
   ]
  },
  {
   "cell_type": "code",
   "execution_count": null,
   "metadata": {},
   "outputs": [],
   "source": [
    "'Focus on the 2003 and 2004 years to make a comparison'\n",
    "\n",
    "retail_03_and_04 = retail[retail['Year'].isin(['2003','2004'])]\n",
    "retail_03_and_04_not_all = retail_03_and_04.drop(columns=['All retail outlets'])\n",
    "sum_year__03_and_04_not_all = retail_03_and_04_not_all[['Fish, livestock and poultry, fresh or frozen',\n",
    "                                     'Fruits and vegetables, fresh',\n",
    "                                     'Bread, pastry, confectionery and biscuits',\n",
    "                                     'Other food, not elsewhere classified',\n",
    "                                     'Alcoholic drinks and tobacco',\n",
    "                                     'Supermarkets',\n",
    "                                     'Fuels',\n",
    "                                     'Wearing apparel',\n",
    "                                     'Footwear, allied products and other clothing accessories',\n",
    "                                     'Motor vehicles and parts',\n",
    "                                     'Furniture and fixtures',\n",
    "                                     'Electrical goods and other consumer durable goods, not elsewhere classified',\n",
    "                                     'Department stores',\n",
    "                                     'Jewellery, watches and clocks, and valuable gifts',\n",
    "                                     'Books, newspapers, stationery and gifts',\n",
    "                                     'Chinese drugs and herbs',\n",
    "                                     'Optical shops',\n",
    "                                     'Medicines and cosmetics',\n",
    "                                     'Other consumer goods, not elsewhere classified','Year']].groupby(['Year']).agg(\"sum\")"
   ]
  },
  {
   "cell_type": "code",
   "execution_count": null,
   "metadata": {},
   "outputs": [],
   "source": [
    "fig, ax = plt.subplots(figsize = (24,12))\n",
    "\n",
    "size = 0.3\n",
    "\n",
    "cmap = plt.get_cmap(\"tab20c\")\n",
    "outer_colors = sns.color_palette(\"GnBu\", 20)\n",
    "inner_colors = sns.color_palette(\"GnBu\", 20)\n",
    "\n",
    "ax.pie(sum_year__03_and_04_not_all.iloc[1], \n",
    "       radius=1,\n",
    "       labels=sum_year__03_and_04_not_all.columns, \n",
    "       wedgeprops=dict(width=size, edgecolor='w'),\n",
    "       colors=outer_colors,\n",
    "       autopct='%1.1f%%',\n",
    "       pctdistance=0.9)\n",
    "\n",
    "ax.pie(sum_year__03_and_04_not_all.iloc[0], \n",
    "       radius=1-size, \n",
    "       colors=inner_colors,\n",
    "       wedgeprops=dict(width=size, edgecolor='w'),\n",
    "       autopct='%1.1f%%',\n",
    "       pctdistance=0.9)\n",
    "\n",
    "ax.set(aspect=\"equal\", title='2004 (outer circle) vs 2002 (inner circle) Retail Sales by Category')\n",
    "plt.show()"
   ]
  },
  {
   "cell_type": "code",
   "execution_count": null,
   "metadata": {},
   "outputs": [],
   "source": [
    "horeca = pd.read_excel('../data/Restaurant Clean.xlsx')\n",
    "horeca.head()"
   ]
  },
  {
   "cell_type": "code",
   "execution_count": null,
   "metadata": {},
   "outputs": [],
   "source": [
    "horeca = clean_year(horeca)\n",
    "plot_bar(horeca, \"HK Retail Sales - HK $\",'Total Horeca Receipts')"
   ]
  },
  {
   "cell_type": "code",
   "execution_count": null,
   "metadata": {},
   "outputs": [],
   "source": [
    "'Focus on the 2002 to 2005 period for a closer look'\n",
    "'Create a date column by concatenating Year and Month'\n",
    "\n",
    "horeca['Date'] = horeca['Year'].astype(str) + 'Q' + horeca['Quarter'].astype(str)\n",
    "horeca_02_to_05 = horeca[horeca['Year'].isin(['2002','2003','2004','2005'])]"
   ]
  },
  {
   "cell_type": "code",
   "execution_count": null,
   "metadata": {},
   "outputs": [],
   "source": [
    "plot_line(horeca_02_to_05, 'Total Horeca Receipts', \"Sales of Restaurants in Hong Kong ('000 # Receipts) - 2002-2005\")"
   ]
  },
  {
   "cell_type": "code",
   "execution_count": null,
   "metadata": {},
   "outputs": [],
   "source": [
    "def plot_indexation_quarter(df, col_name, yaxis_label, title):\n",
    "\n",
    "    df_2002 = df[df['Year'].isin(['2002'])]\n",
    "    df_2003 = df[df['Year'].isin(['2003'])]\n",
    "    df_2004 = df[df['Year'].isin(['2004'])]\n",
    "\n",
    "    index_03vs02 = [int(tre/due*100) for tre,due in zip(df_2003[col_name],df_2002[col_name])]\n",
    "    index_04vs02 = [int(quattro/due*100) for quattro,due in zip(df_2004[col_name],df_2002[col_name])]\n",
    "\n",
    "    Quarter = ['Q1', 'Q2', 'Q3', 'Q4']\n",
    "    Flat = [100, 100, 100, 100]\n",
    "    data = {'Quarter': Quarter, 'Flat': Flat, '03 vs 02': index_03vs02, '04 vs 02': index_04vs02}\n",
    "    df = pd.DataFrame (data)\n",
    "\n",
    "    fig, ax = plt.subplots()\n",
    "\n",
    "    ax.plot(df['Quarter'],df[\"03 vs 02\"], label='03 vs 02', color=\"red\")\n",
    "    ax.plot(df['Quarter'],df[\"04 vs 02\"], label='04 vs 02', color=\"green\")\n",
    "    ax.plot(df['Quarter'],df[\"Flat\"], label='Flat', color=\"black\", linewidth=0.25)\n",
    "\n",
    "\n",
    "    ax.legend(loc=4) # upper left corner\n",
    "    ax.set_xlabel('Quarter', fontsize=18)\n",
    "    ax.set_ylabel(yaxis_label, fontsize=14)\n",
    "    ax.set_title(title);\n",
    "\n",
    "    return plt.show()"
   ]
  },
  {
   "cell_type": "code",
   "execution_count": null,
   "metadata": {},
   "outputs": [],
   "source": [
    "plot_indexation_quarter(horeca, 'Total Horeca Receipts', 'Index Month over Month 2002', 'Restaurant Sales Index Month over Month 2002')"
   ]
  },
  {
   "cell_type": "code",
   "execution_count": null,
   "metadata": {},
   "outputs": [],
   "source": [
    "'Focus on the 2002 and 2003 years to make a comparison'\n",
    "\n",
    "horeca_02_and_03 = horeca[horeca['Year'].isin(['2002','2003'])]\n",
    "horeca_02_and_03_not_all = horeca_02_and_03.drop(columns=['Total Horeca Receipts'])\n",
    "sum_year__02_and_03_not_all = horeca_02_and_03_not_all[['Chinese restaurants',\n",
    "                                                 'Non-Chinese restaurants',\n",
    "                                                 'Fast food shops',\n",
    "                                                 'Bars',\n",
    "                                                 'Miscellaneous eating and drinking places','Year']].groupby(['Year']).agg(\"sum\")\n"
   ]
  },
  {
   "cell_type": "code",
   "execution_count": null,
   "metadata": {},
   "outputs": [],
   "source": [
    "fig, ax = plt.subplots(figsize = (24,12))\n",
    "\n",
    "size = 0.3\n",
    "\n",
    "cmap = plt.get_cmap(\"tab20c\")\n",
    "outer_colors = sns.color_palette(\"GnBu\", 5)\n",
    "inner_colors = sns.color_palette(\"GnBu\", 5)\n",
    "\n",
    "ax.pie(sum_year__02_and_03_not_all.iloc[1], \n",
    "       radius=1,\n",
    "       labels=sum_year__02_and_03_not_all.columns, \n",
    "       wedgeprops=dict(width=size, edgecolor='w'),\n",
    "       colors=outer_colors,\n",
    "       autopct='%1.1f%%',\n",
    "       pctdistance=0.9)\n",
    "\n",
    "ax.pie(sum_year__02_and_03_not_all.iloc[0], \n",
    "       radius=1-size, \n",
    "       colors=inner_colors,\n",
    "       wedgeprops=dict(width=size, edgecolor='w'),\n",
    "       autopct='%1.1f%%',\n",
    "       pctdistance=0.9)\n",
    "\n",
    "ax.set(aspect=\"equal\", title='2003 (outer circle) vs 2002 (inner circle) Retail Sales by Category')\n",
    "plt.show()"
   ]
  },
  {
   "cell_type": "code",
   "execution_count": null,
   "metadata": {},
   "outputs": [],
   "source": [
    "'Focus on the 2003 and 2004 years to make a comparison'\n",
    "\n",
    "horeca_03_and_04 = horeca[horeca['Year'].isin(['2003','2004'])]\n",
    "horeca_03_and_04_not_all = horeca_03_and_04.drop(columns=['Total Horeca Receipts'])\n",
    "sum_year__03_and_04_not_all = horeca_03_and_04_not_all[['Chinese restaurants',\n",
    "                                                 'Non-Chinese restaurants',\n",
    "                                                 'Fast food shops',\n",
    "                                                 'Bars',\n",
    "                                                 'Miscellaneous eating and drinking places','Year']].groupby(['Year']).agg(\"sum\")\n"
   ]
  },
  {
   "cell_type": "code",
   "execution_count": null,
   "metadata": {},
   "outputs": [],
   "source": [
    "fig, ax = plt.subplots(figsize = (24,12))\n",
    "\n",
    "size = 0.3\n",
    "\n",
    "cmap = plt.get_cmap(\"tab20c\")\n",
    "outer_colors = sns.color_palette(\"GnBu\", 5)\n",
    "inner_colors = sns.color_palette(\"GnBu\", 5)\n",
    "\n",
    "ax.pie(sum_year__03_and_04_not_all.iloc[1], \n",
    "       radius=1,\n",
    "       labels=sum_year__03_and_04_not_all.columns, \n",
    "       wedgeprops=dict(width=size, edgecolor='w'),\n",
    "       colors=outer_colors,\n",
    "       autopct='%1.1f%%',\n",
    "       pctdistance=0.9)\n",
    "\n",
    "ax.pie(sum_year__03_and_04_not_all.iloc[0], \n",
    "       radius=1-size, \n",
    "       colors=inner_colors,\n",
    "       wedgeprops=dict(width=size, edgecolor='w'),\n",
    "       autopct='%1.1f%%',\n",
    "       pctdistance=0.9)\n",
    "\n",
    "ax.set(aspect=\"equal\", title='2004 (outer circle) vs 2002 (inner circle) Retail Sales by Category')\n",
    "plt.show()"
   ]
  },
  {
   "cell_type": "code",
   "execution_count": null,
   "metadata": {},
   "outputs": [],
   "source": [
    "house_sales = pd.read_excel('../data/HK House Prices Clean.xlsx')\n",
    "house_sales.head()"
   ]
  },
  {
   "cell_type": "code",
   "execution_count": null,
   "metadata": {},
   "outputs": [],
   "source": [
    "house_sales = clean_year(house_sales)\n",
    "plot_bar(house_sales, \"HK House Price for Sales\",'Average All Prices')"
   ]
  },
  {
   "cell_type": "code",
   "execution_count": null,
   "metadata": {},
   "outputs": [],
   "source": [
    "'Focus on the 2002 to 2005 period for a closer look'\n",
    "'Create a date column by concatenating Year and Month'\n",
    "\n",
    "house_sales['Date'] = house_sales['Year'].astype(str) + 'Q' + house_sales['Quarter'].astype(str)\n",
    "house_sales_02_to_05 = house_sales[house_sales['Year'].isin(['2002','2003','2004','2005'])]"
   ]
  },
  {
   "cell_type": "code",
   "execution_count": null,
   "metadata": {},
   "outputs": [],
   "source": [
    "plot_line(house_sales_02_to_05, 'Average All Prices', \"Sales of House in Hong Kong (# Sales) - 2002-2005\")"
   ]
  },
  {
   "cell_type": "code",
   "execution_count": null,
   "metadata": {},
   "outputs": [],
   "source": [
    "house_rent = pd.read_excel('../data/HK Rent Prices Clean.xlsx')\n",
    "house_rent.head()"
   ]
  },
  {
   "cell_type": "code",
   "execution_count": null,
   "metadata": {},
   "outputs": [],
   "source": [
    "house_rent = clean_year(house_rent)\n",
    "plot_bar(house_rent, \"HK House Price for Rent\",'Average Rent Prices')"
   ]
  },
  {
   "cell_type": "code",
   "execution_count": null,
   "metadata": {},
   "outputs": [],
   "source": [
    "'Focus on the 2002 to 2005 period for a closer look'\n",
    "'Create a date column by concatenating Year and Month'\n",
    "\n",
    "house_rent['Date'] = house_rent['Year'].astype(str) + 'Q' + house_rent['Quarter'].astype(str)\n",
    "house_rent_02_to_05 = house_rent[house_rent['Year'].isin(['2002','2003','2004','2005'])]"
   ]
  },
  {
   "cell_type": "code",
   "execution_count": null,
   "metadata": {},
   "outputs": [],
   "source": [
    "plot_line(house_rent_02_to_05, 'Average Rent Prices', \"Rent Price of House in Hong Kong - 2002-2005\")"
   ]
  },
  {
   "cell_type": "code",
   "execution_count": null,
   "metadata": {},
   "outputs": [],
   "source": [
    "'Let us look at all info together in one dataframe'"
   ]
  },
  {
   "cell_type": "code",
   "execution_count": null,
   "metadata": {},
   "outputs": [],
   "source": [
    "'Upload Retail Sales by Quarter'\n",
    "retail_quarter = pd.read_excel('../data/Retail Clean Quarter.xlsx')\n",
    "retail_quarter.head()"
   ]
  },
  {
   "cell_type": "code",
   "execution_count": null,
   "metadata": {},
   "outputs": [],
   "source": [
    "retail_quarter['Date'] = retail_quarter['Year'].astype(str) + 'Q' + retail_quarter['Quarter'].astype(str)\n",
    "retail_02_to_19 = retail_quarter[retail_quarter['Year'].isin(['2002','2003','2004','2005','2006','2007','2008','2009','2010','2011','2012','2013','2014','2015','2016','2017','2018','2019'])]"
   ]
  },
  {
   "cell_type": "code",
   "execution_count": null,
   "metadata": {},
   "outputs": [],
   "source": [
    "horeca_02_to_19 = horeca[horeca['Year'].isin(['2002','2003','2004','2005','2006','2007','2008','2009','2010','2011','2012','2013','2014','2015','2016','2017','2018','2019'])]"
   ]
  },
  {
   "cell_type": "code",
   "execution_count": null,
   "metadata": {},
   "outputs": [],
   "source": [
    "house_sales_02_to_19 = house_sales[house_sales['Year'].isin(['2002','2003','2004','2005','2006','2007','2008','2009','2010','2011','2012','2013','2014','2015','2016','2017','2018','2019'])]"
   ]
  },
  {
   "cell_type": "code",
   "execution_count": null,
   "metadata": {},
   "outputs": [],
   "source": [
    "house_rent_02_to_19 = house_rent[house_rent['Year'].isin(['2002','2003','2004','2005','2006','2007','2008','2009','2010','2011','2012','2013','2014','2015','2016','2017','2018','2019'])]"
   ]
  },
  {
   "cell_type": "code",
   "execution_count": null,
   "metadata": {},
   "outputs": [],
   "source": [
    "mainframe = retail_02_to_19.merge(horeca_02_to_19, on='Date',suffixes=('', '_y'))\n",
    "mainframe=mainframe.drop(columns=['Year_y'])\n",
    "mainframe=mainframe.drop(columns=['Quarter_y'])"
   ]
  },
  {
   "cell_type": "code",
   "execution_count": null,
   "metadata": {},
   "outputs": [],
   "source": [
    "mainframe = mainframe.merge(house_sales_02_to_19, on='Date',suffixes=('', '_y'))\n",
    "mainframe=mainframe.drop(columns=['Year_y'])\n",
    "mainframe=mainframe.drop(columns=['Quarter_y'])"
   ]
  },
  {
   "cell_type": "code",
   "execution_count": null,
   "metadata": {},
   "outputs": [],
   "source": [
    "mainframe = mainframe.merge(house_rent_02_to_19, on='Date',suffixes=('', '_rent'))\n",
    "mainframe=mainframe.drop(columns=['Year_rent'])\n",
    "mainframe=mainframe.drop(columns=['Quarter_rent'])"
   ]
  },
  {
   "cell_type": "code",
   "execution_count": null,
   "metadata": {},
   "outputs": [],
   "source": [
    "def indexing(df, quarter_start, quarter_end):\n",
    "    \n",
    "    df['range'] = df['Date'].between(quarter_start, quarter_end, inclusive = True)\n",
    "    lmt_df = df[(df['range']==True)]\n",
    "    data = {'Quarter': lmt_df['Date']}\n",
    "    \n",
    "    index_frame = pd.DataFrame(data)\n",
    "    col_names = [col for col in lmt_df.columns]\n",
    "    col_names.remove('Year')\n",
    "    col_names.remove('Quarter')\n",
    "    col_names.remove('Date')\n",
    "    col_names\n",
    "\n",
    "    for elem in col_names:\n",
    "        index_frame[elem] = [int(num/lmt_df[elem].iloc[0]*100) for num in lmt_df[elem]]\n",
    "\n",
    "    return index_frame"
   ]
  },
  {
   "cell_type": "code",
   "execution_count": null,
   "metadata": {},
   "outputs": [],
   "source": [
    "index_frame = indexing(mainframe, '2002Q2', '2010Q4')"
   ]
  },
  {
   "cell_type": "code",
   "execution_count": null,
   "metadata": {},
   "outputs": [],
   "source": [
    "sel_cat = [name for name in index_frame.columns]\n",
    "sel_cat.remove('Quarter')"
   ]
  },
  {
   "cell_type": "code",
   "execution_count": null,
   "metadata": {},
   "outputs": [],
   "source": [
    "@interact\n",
    "def Selection(Selection1=sel_cat, Selection2=sel_cat, Selection3=sel_cat, Selection4=sel_cat):\n",
    "    \n",
    "    fig, ax = plt.subplots(figsize=(20, 10))\n",
    "    ax.plot(index_frame['Quarter'],index_frame[Selection1], label=Selection1,color=\"green\")\n",
    "    ax.plot(index_frame['Quarter'],index_frame[Selection2], label=Selection2,color=\"blue\")\n",
    "    ax.plot(index_frame['Quarter'],index_frame[Selection3], label=Selection3,color=\"black\")\n",
    "    ax.plot(index_frame['Quarter'],index_frame[Selection4], label=Selection4,color=\"red\")\n",
    "    \n",
    "    plt.xticks(\n",
    "        rotation=45, \n",
    "        horizontalalignment='right',\n",
    "        fontweight='light',\n",
    "        fontsize='small'  \n",
    "    )\n",
    "    ax.legend(loc=2)\n",
    "    ax.set_xlabel('Quarter', fontsize=18)\n",
    "    ax.set_ylabel(\"Index vs Jan 2002\", fontsize=14)"
   ]
  },
  {
   "cell_type": "code",
   "execution_count": null,
   "metadata": {},
   "outputs": [],
   "source": [
    "@interact\n",
    "def Selection(Selection1=sel_cat, Selection2=sel_cat):\n",
    "    \n",
    "    cmap = sns.cubehelix_palette(dark=.3, light=.8, as_cmap=True)\n",
    "    sizes=[100,200,300,400]\n",
    "    fig, ax = plt.subplots(figsize=(20, 10))\n",
    "    sns.scatterplot(data=mainframe, x=Selection1,y=Selection2, hue = 'Year', size = 'Quarter', palette=\"Set2\", sizes=sizes) \n",
    "    "
   ]
  },
  {
   "cell_type": "code",
   "execution_count": null,
   "metadata": {},
   "outputs": [],
   "source": []
  }
 ],
 "metadata": {
  "kernelspec": {
   "display_name": "Python 3",
   "language": "python",
   "name": "python3"
  },
  "language_info": {
   "codemirror_mode": {
    "name": "ipython",
    "version": 3
   },
   "file_extension": ".py",
   "mimetype": "text/x-python",
   "name": "python",
   "nbconvert_exporter": "python",
   "pygments_lexer": "ipython3",
   "version": "3.7.6"
  }
 },
 "nbformat": 4,
 "nbformat_minor": 4
}
