{
 "cells": [
  {
   "cell_type": "code",
   "execution_count": null,
   "metadata": {},
   "outputs": [],
   "source": [
    "import pandas as pd\n",
    "import numpy as np\n",
    "\n",
    "import plotly.express as px\n",
    "import plotly.graph_objects as go\n",
    "\n",
    "from sqlalchemy import create_engine"
   ]
  },
  {
   "cell_type": "code",
   "execution_count": null,
   "metadata": {},
   "outputs": [],
   "source": [
    "engine = create_engine(\"mysql+pymysql://{user}:{pw}@{host}/{db}\"\n",
    "                       .format(user=\"XXX\",\n",
    "                               pw=\"XXX\",\n",
    "                               host=\"XXX\",\n",
    "                               db=\"XXX\"))\n"
   ]
  },
  {
   "cell_type": "code",
   "execution_count": null,
   "metadata": {},
   "outputs": [],
   "source": [
    "ratings = pd.read_sql_query('SELECT * FROM rating', engine)\n",
    "books = pd.read_sql_query('SELECT * FROM book', engine)\n",
    "book_tags = pd.read_sql_query('SELECT * FROM books_tags', engine)\n",
    "tags = pd.read_sql_query('SELECT * FROM tag', engine)"
   ]
  },
  {
   "cell_type": "code",
   "execution_count": null,
   "metadata": {},
   "outputs": [],
   "source": [
    "tags_count = pd.merge(tags, book_tags.groupby('tag_id').agg('count').reset_index()[['tag_id', 'count']], left_on='id',right_on='tag_id', how='left').sort_values('count', ascending=False)"
   ]
  },
  {
   "cell_type": "code",
   "execution_count": null,
   "metadata": {},
   "outputs": [],
   "source": [
    "annotations = []\n",
    "\n",
    "fig = go.Figure()\n",
    "fig.add_trace(\n",
    "    go.Histogram(\n",
    "        x=ratings['rating'],\n",
    "        name='bla',\n",
    "        marker_color='indianred',\n",
    "        opacity=0.75,\n",
    "    )\n",
    ")\n",
    "\n",
    "# Title Part\n",
    "annotations.append(\n",
    "    dict(\n",
    "        xref='paper', \n",
    "        yref='paper', \n",
    "        x=0.0, \n",
    "        y=1.05,\n",
    "        xanchor='left', \n",
    "        yanchor='bottom',\n",
    "        text=f'Total ratings',\n",
    "        font=dict(\n",
    "            family='Arial',\n",
    "            size=30,\n",
    "            color='rgb(37,37,37)'\n",
    "         ),\n",
    "         showarrow=False\n",
    "    )\n",
    ")\n",
    "\n",
    "#Source Part\n",
    "annotations.append(\n",
    "    dict(\n",
    "        xref='paper', \n",
    "        yref='paper', \n",
    "        x=0.5, \n",
    "        y=-0.1,\n",
    "        xanchor='center', \n",
    "        yanchor='top',\n",
    "        text=f'Total: {len(ratings)}',\n",
    "        font=dict(\n",
    "            family='Arial',\n",
    "            size=16\n",
    "        ),\n",
    "        showarrow=False\n",
    "    )\n",
    ")\n",
    "fig.update_layout(\n",
    "    bargap=0.1,\n",
    "    plot_bgcolor='white',\n",
    "    annotations = annotations,\n",
    ")\n",
    "fig.show()"
   ]
  },
  {
   "cell_type": "markdown",
   "metadata": {},
   "source": [
    "We can see that values tend to group on the higher ratings, giving us a negatively skewed distribution"
   ]
  },
  {
   "cell_type": "code",
   "execution_count": null,
   "metadata": {},
   "outputs": [],
   "source": [
    "annotations = []\n",
    "\n",
    "fig = go.Figure()\n",
    "fig.add_trace(\n",
    "    go.Bar(\n",
    "        x=tags_count['name'][:100],\n",
    "        y=tags_count['count'][:100],\n",
    "        name='Primary Product',\n",
    "        marker_color='indianred'\n",
    "    )\n",
    ")\n",
    "\n",
    "# Title Part\n",
    "annotations.append(\n",
    "    dict(\n",
    "        xref='paper', \n",
    "        yref='paper', \n",
    "        x=0.0, \n",
    "        y=1.05,\n",
    "        xanchor='left', \n",
    "        yanchor='bottom',\n",
    "        text=f'Total ratings',\n",
    "        font=dict(\n",
    "            family='Arial',\n",
    "            size=30,\n",
    "            color='rgb(37,37,37)'\n",
    "         ),\n",
    "         showarrow=False\n",
    "    )\n",
    ")\n",
    "\n",
    "#Bottom Part\n",
    "annotations.append(\n",
    "    dict(\n",
    "        xref='paper', \n",
    "        yref='paper', \n",
    "        x=0.5, \n",
    "        y=-0.18,\n",
    "        xanchor='center', \n",
    "        yanchor='top',\n",
    "        text=f'Count: Kaggle {int(sum(tags_count[\"count\"][:100]))}',\n",
    "        font=dict(\n",
    "            family='Arial',\n",
    "            size=16\n",
    "        ),\n",
    "        showarrow=False\n",
    "    )\n",
    ")\n",
    "fig.update_layout(\n",
    "    bargap=0.1,\n",
    "    plot_bgcolor='white',\n",
    "    xaxis=dict(\n",
    "        tickangle=45,\n",
    "        range=(0,30)\n",
    "    ),\n",
    "    annotations = annotations,\n",
    ")\n",
    "fig.show()\n",
    "tags_count[['count']].sum()"
   ]
  },
  {
   "cell_type": "markdown",
   "metadata": {},
   "source": [
    "Almost 50% of all tags (427K out of 999K) assgined are in 100 tags. Also many of those tags are useless (owned, e-book, read-in-2016, etc) or they ressemble each other, so for future iterations of the the project it would be interesting to reduce these tags to a more useful quantity."
   ]
  },
  {
   "cell_type": "code",
   "execution_count": null,
   "metadata": {},
   "outputs": [],
   "source": []
  }
 ],
 "metadata": {
  "kernelspec": {
   "display_name": "Python 3",
   "language": "python",
   "name": "python3"
  },
  "language_info": {
   "codemirror_mode": {
    "name": "ipython",
    "version": 3
   },
   "file_extension": ".py",
   "mimetype": "text/x-python",
   "name": "python",
   "nbconvert_exporter": "python",
   "pygments_lexer": "ipython3",
   "version": "3.7.2"
  }
 },
 "nbformat": 4,
 "nbformat_minor": 4
}
