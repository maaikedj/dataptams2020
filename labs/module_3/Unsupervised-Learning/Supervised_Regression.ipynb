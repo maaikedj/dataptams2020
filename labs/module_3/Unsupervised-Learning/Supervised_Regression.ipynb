{
 "cells": [
  {
   "cell_type": "markdown",
   "metadata": {
    "colab_type": "text",
    "id": "W9H-H31Kci2o"
   },
   "source": [
    "# Supervised Learning: Regression\n",
    "\n",
    "N.B. The data set used in these examples have been optimised and cleaned for supervised classification algorithms. Therefore, this notebook only serves as an example to indicate how to implement a regression algorithm."
   ]
  },
  {
   "cell_type": "code",
   "execution_count": null,
   "metadata": {
    "colab": {},
    "colab_type": "code",
    "id": "2lb2PyBQJG0k"
   },
   "outputs": [],
   "source": [
    "import warnings\n",
    "warnings.filterwarnings('ignore')"
   ]
  },
  {
   "cell_type": "code",
   "execution_count": null,
   "metadata": {
    "colab": {},
    "colab_type": "code",
    "id": "ixQYcWXRceap"
   },
   "outputs": [],
   "source": [
    "import pandas as pd\n",
    "import numpy as np\n",
    "import seaborn as sns\n",
    "import matplotlib.pyplot as plt\n"
   ]
  },
  {
   "cell_type": "code",
   "execution_count": null,
   "metadata": {
    "colab": {},
    "colab_type": "code",
    "id": "OMEv8W0ucn5b"
   },
   "outputs": [],
   "source": [
    "data = pd.read_csv('https://raw.githubusercontent.com/loukjsmalbil/datasets_ws/master/titanic_preprocessed.csv')\n",
    "data = data.drop(columns=['male'])"
   ]
  },
  {
   "cell_type": "code",
   "execution_count": null,
   "metadata": {
    "colab": {
     "base_uri": "https://localhost:8080/",
     "height": 204
    },
    "colab_type": "code",
    "executionInfo": {
     "elapsed": 1066,
     "status": "ok",
     "timestamp": 1589620116433,
     "user": {
      "displayName": "Louk Smalbil",
      "photoUrl": "https://lh3.googleusercontent.com/a-/AOh14GiByqcfGW98Bn42uapsD4oj4auyrLV9xURPKHUj=s64",
      "userId": "10422991521784029462"
     },
     "user_tz": -120
    },
    "id": "_mZ5NSfMcrAX",
    "outputId": "f1ee6b94-2acd-4f58-fc39-8dc5b419f6ee"
   },
   "outputs": [],
   "source": [
    "data.head()"
   ]
  },
  {
   "cell_type": "markdown",
   "metadata": {
    "colab_type": "text",
    "id": "EINwY5m74_EX"
   },
   "source": [
    "# Linear Regression"
   ]
  },
  {
   "cell_type": "markdown",
   "metadata": {
    "colab_type": "text",
    "id": "sQwCzF6XcutU"
   },
   "source": [
    "## Data Processing (LR)\n"
   ]
  },
  {
   "cell_type": "code",
   "execution_count": null,
   "metadata": {
    "colab": {},
    "colab_type": "code",
    "id": "c7Iai5nCcr6I"
   },
   "outputs": [],
   "source": [
    "from sklearn.model_selection import train_test_split"
   ]
  },
  {
   "cell_type": "code",
   "execution_count": null,
   "metadata": {
    "colab": {},
    "colab_type": "code",
    "id": "wJ578agScyjs"
   },
   "outputs": [],
   "source": [
    "y = data['fare'] "
   ]
  },
  {
   "cell_type": "code",
   "execution_count": null,
   "metadata": {
    "colab": {},
    "colab_type": "code",
    "id": "pDiq_EHFcz4O"
   },
   "outputs": [],
   "source": [
    "X = data.drop('fare', axis=1)  "
   ]
  },
  {
   "cell_type": "code",
   "execution_count": null,
   "metadata": {
    "colab": {
     "base_uri": "https://localhost:8080/",
     "height": 419
    },
    "colab_type": "code",
    "executionInfo": {
     "elapsed": 582,
     "status": "ok",
     "timestamp": 1589618864911,
     "user": {
      "displayName": "Louk Smalbil",
      "photoUrl": "https://lh3.googleusercontent.com/a-/AOh14GiByqcfGW98Bn42uapsD4oj4auyrLV9xURPKHUj=s64",
      "userId": "10422991521784029462"
     },
     "user_tz": -120
    },
    "id": "3z-VPOzIqut9",
    "outputId": "d90b1699-54a0-4187-9849-3741b1141123"
   },
   "outputs": [],
   "source": [
    "X"
   ]
  },
  {
   "cell_type": "code",
   "execution_count": null,
   "metadata": {
    "colab": {},
    "colab_type": "code",
    "id": "JiXnIL17sERi"
   },
   "outputs": [],
   "source": [
    "# Y (fare) = B0 + BSurvived + BPclass + BAge +"
   ]
  },
  {
   "cell_type": "code",
   "execution_count": null,
   "metadata": {
    "colab": {},
    "colab_type": "code",
    "id": "sGqym5eNc3JW"
   },
   "outputs": [],
   "source": [
    "X_train, X_test, y_train, y_test = train_test_split(X, y, test_size=0.20)"
   ]
  },
  {
   "cell_type": "markdown",
   "metadata": {
    "colab_type": "text",
    "id": "6JSmXzBdc-kF"
   },
   "source": [
    "## Train the Model (LR)"
   ]
  },
  {
   "cell_type": "code",
   "execution_count": null,
   "metadata": {
    "colab": {},
    "colab_type": "code",
    "id": "JuvyxhlBc5w1"
   },
   "outputs": [],
   "source": [
    "from sklearn.linear_model import LinearRegression "
   ]
  },
  {
   "cell_type": "code",
   "execution_count": null,
   "metadata": {
    "colab": {},
    "colab_type": "code",
    "id": "7O3QDDSRc8vp"
   },
   "outputs": [],
   "source": [
    "model = LinearRegression()"
   ]
  },
  {
   "cell_type": "code",
   "execution_count": null,
   "metadata": {
    "colab": {
     "base_uri": "https://localhost:8080/",
     "height": 34
    },
    "colab_type": "code",
    "executionInfo": {
     "elapsed": 519,
     "status": "ok",
     "timestamp": 1589618881221,
     "user": {
      "displayName": "Louk Smalbil",
      "photoUrl": "https://lh3.googleusercontent.com/a-/AOh14GiByqcfGW98Bn42uapsD4oj4auyrLV9xURPKHUj=s64",
      "userId": "10422991521784029462"
     },
     "user_tz": -120
    },
    "id": "KEb6llaldAGF",
    "outputId": "0a77e78c-5e5a-49c8-eef3-ce247edebeec"
   },
   "outputs": [],
   "source": [
    "model.fit(X_train, y_train)"
   ]
  },
  {
   "cell_type": "markdown",
   "metadata": {
    "colab_type": "text",
    "id": "PQz3ApDidDsw"
   },
   "source": [
    "## Test the Model"
   ]
  },
  {
   "cell_type": "code",
   "execution_count": null,
   "metadata": {
    "colab": {},
    "colab_type": "code",
    "id": "1E7Rgbo4dHxC"
   },
   "outputs": [],
   "source": [
    "y_pred = model.predict(X_test)"
   ]
  },
  {
   "cell_type": "code",
   "execution_count": null,
   "metadata": {
    "colab": {
     "base_uri": "https://localhost:8080/",
     "height": 419
    },
    "colab_type": "code",
    "executionInfo": {
     "elapsed": 482,
     "status": "ok",
     "timestamp": 1589618886520,
     "user": {
      "displayName": "Louk Smalbil",
      "photoUrl": "https://lh3.googleusercontent.com/a-/AOh14GiByqcfGW98Bn42uapsD4oj4auyrLV9xURPKHUj=s64",
      "userId": "10422991521784029462"
     },
     "user_tz": -120
    },
    "id": "9JGxNQRMJO4G",
    "outputId": "ac30c5d6-b981-4f96-ebad-67af916cbe7f"
   },
   "outputs": [],
   "source": [
    "pd.DataFrame({'test':y_test, 'predicted':y_pred})"
   ]
  },
  {
   "cell_type": "code",
   "execution_count": null,
   "metadata": {
    "colab": {},
    "colab_type": "code",
    "id": "-1QTnYWc6_Jf"
   },
   "outputs": [],
   "source": [
    "df = pd.DataFrame({'test':y_test, 'predicted':y_pred})\n",
    "df = df.reset_index(drop=True)\n",
    "df = df.reset_index()\n",
    "data = pd.melt(df, id_vars=['index'], value_vars=['test', 'predicted'])"
   ]
  },
  {
   "cell_type": "code",
   "execution_count": null,
   "metadata": {
    "colab": {
     "base_uri": "https://localhost:8080/",
     "height": 351
    },
    "colab_type": "code",
    "executionInfo": {
     "elapsed": 927,
     "status": "ok",
     "timestamp": 1589618961627,
     "user": {
      "displayName": "Louk Smalbil",
      "photoUrl": "https://lh3.googleusercontent.com/a-/AOh14GiByqcfGW98Bn42uapsD4oj4auyrLV9xURPKHUj=s64",
      "userId": "10422991521784029462"
     },
     "user_tz": -120
    },
    "id": "eO3xF0mD7CJ-",
    "outputId": "087277e7-ee24-414c-bd9d-e0575ff19b69"
   },
   "outputs": [],
   "source": [
    "plt.figure(figsize=(20,5))\n",
    "sns.lineplot(x=\"index\", y=\"value\", hue=\"variable\", data=data)"
   ]
  },
  {
   "cell_type": "code",
   "execution_count": null,
   "metadata": {
    "colab": {
     "base_uri": "https://localhost:8080/",
     "height": 351
    },
    "colab_type": "code",
    "executionInfo": {
     "elapsed": 3925,
     "status": "ok",
     "timestamp": 1589619020688,
     "user": {
      "displayName": "Louk Smalbil",
      "photoUrl": "https://lh3.googleusercontent.com/a-/AOh14GiByqcfGW98Bn42uapsD4oj4auyrLV9xURPKHUj=s64",
      "userId": "10422991521784029462"
     },
     "user_tz": -120
    },
    "id": "wJ0_Xa2a7jfS",
    "outputId": "4bdcf925-17de-4a49-abff-66243bf0ddd5"
   },
   "outputs": [],
   "source": [
    "plt.figure(figsize=(20,5))\n",
    "sns.barplot(x=\"index\", y=\"value\", hue=\"variable\", data=data)"
   ]
  },
  {
   "cell_type": "markdown",
   "metadata": {
    "colab_type": "text",
    "id": "0jcOv7akegpJ"
   },
   "source": [
    "# Decision Trees"
   ]
  },
  {
   "cell_type": "markdown",
   "metadata": {
    "colab_type": "text",
    "id": "djMLzReFdbwl"
   },
   "source": [
    "## Data Processing (DT)\n"
   ]
  },
  {
   "cell_type": "code",
   "execution_count": null,
   "metadata": {
    "colab": {},
    "colab_type": "code",
    "id": "tybnLLaLqWEA"
   },
   "outputs": [],
   "source": [
    "data = pd.read_csv('https://raw.githubusercontent.com/loukjsmalbil/datasets_ws/master/titanic_preprocessed.csv')\n",
    "data = data.drop(columns=['male'])"
   ]
  },
  {
   "cell_type": "code",
   "execution_count": null,
   "metadata": {
    "colab": {},
    "colab_type": "code",
    "id": "aOClsleFd6OC"
   },
   "outputs": [],
   "source": [
    "y = data['fare'] \n",
    "X = data.drop('fare', axis=1)  \n",
    "X_train, X_test, y_train, y_test = train_test_split(X, y, test_size=0.20)"
   ]
  },
  {
   "cell_type": "markdown",
   "metadata": {
    "colab_type": "text",
    "id": "s5ylw_T6dqqu"
   },
   "source": [
    "## Train the Model (DT)"
   ]
  },
  {
   "cell_type": "code",
   "execution_count": null,
   "metadata": {
    "colab": {},
    "colab_type": "code",
    "id": "693dOaZkez7o"
   },
   "outputs": [],
   "source": [
    "from sklearn.tree import DecisionTreeRegressor"
   ]
  },
  {
   "cell_type": "code",
   "execution_count": null,
   "metadata": {
    "colab": {
     "base_uri": "https://localhost:8080/",
     "height": 119
    },
    "colab_type": "code",
    "executionInfo": {
     "elapsed": 677,
     "status": "ok",
     "timestamp": 1589621876772,
     "user": {
      "displayName": "Louk Smalbil",
      "photoUrl": "https://lh3.googleusercontent.com/a-/AOh14GiByqcfGW98Bn42uapsD4oj4auyrLV9xURPKHUj=s64",
      "userId": "10422991521784029462"
     },
     "user_tz": -120
    },
    "id": "Dl5MiAC_eAT3",
    "outputId": "66bedc95-6f5a-48fe-fca1-555e321b9d6c"
   },
   "outputs": [],
   "source": [
    "model = DecisionTreeRegressor()\n",
    "model.fit(X_train, y_train)"
   ]
  },
  {
   "cell_type": "markdown",
   "metadata": {
    "colab_type": "text",
    "id": "UF9VGERIdzo8"
   },
   "source": [
    "## Test the Model (DT)"
   ]
  },
  {
   "cell_type": "code",
   "execution_count": null,
   "metadata": {
    "colab": {},
    "colab_type": "code",
    "id": "Ovu4A4YCeD3S"
   },
   "outputs": [],
   "source": [
    "y_pred = model.predict(X_test)"
   ]
  },
  {
   "cell_type": "code",
   "execution_count": null,
   "metadata": {
    "colab": {
     "base_uri": "https://localhost:8080/",
     "height": 419
    },
    "colab_type": "code",
    "executionInfo": {
     "elapsed": 481,
     "status": "ok",
     "timestamp": 1589621910820,
     "user": {
      "displayName": "Louk Smalbil",
      "photoUrl": "https://lh3.googleusercontent.com/a-/AOh14GiByqcfGW98Bn42uapsD4oj4auyrLV9xURPKHUj=s64",
      "userId": "10422991521784029462"
     },
     "user_tz": -120
    },
    "id": "YwjS5UlAJ1Tw",
    "outputId": "fdfc6199-c9f1-4f1b-93dc-79a733437286"
   },
   "outputs": [],
   "source": [
    "pd.DataFrame({'test':y_test, 'predicted':y_pred})"
   ]
  },
  {
   "cell_type": "code",
   "execution_count": null,
   "metadata": {
    "colab": {},
    "colab_type": "code",
    "id": "JqJ1rZes4Gg1"
   },
   "outputs": [],
   "source": [
    "df = pd.DataFrame({'test':y_test, 'predicted':y_pred})\n",
    "df = df.reset_index(drop=True)\n",
    "df = df.reset_index()\n",
    "data = pd.melt(df, id_vars=['index'], value_vars=['test', 'predicted'])"
   ]
  },
  {
   "cell_type": "code",
   "execution_count": null,
   "metadata": {
    "colab": {},
    "colab_type": "code",
    "id": "VE1rGhz0575b"
   },
   "outputs": [],
   "source": [
    "plt.figure(figsize=(20,5))\n",
    "sns.lineplot(x=\"index\", y=\"value\", hue=\"variable\", data=data)"
   ]
  },
  {
   "cell_type": "code",
   "execution_count": null,
   "metadata": {
    "colab": {},
    "colab_type": "code",
    "id": "sEn4m-W96MYm"
   },
   "outputs": [],
   "source": []
  }
 ],
 "metadata": {
  "colab": {
   "authorship_tag": "ABX9TyNdUB4K7hfuxQDGs3QWNnaw",
   "collapsed_sections": [
    "EINwY5m74_EX",
    "djMLzReFdbwl",
    "s5ylw_T6dqqu",
    "UF9VGERIdzo8"
   ],
   "name": "Supervised_Regression.ipynb",
   "provenance": []
  },
  "kernelspec": {
   "display_name": "Python 3",
   "language": "python",
   "name": "python3"
  },
  "language_info": {
   "codemirror_mode": {
    "name": "ipython",
    "version": 3
   },
   "file_extension": ".py",
   "mimetype": "text/x-python",
   "name": "python",
   "nbconvert_exporter": "python",
   "pygments_lexer": "ipython3",
   "version": "3.7.6"
  }
 },
 "nbformat": 4,
 "nbformat_minor": 1
}
