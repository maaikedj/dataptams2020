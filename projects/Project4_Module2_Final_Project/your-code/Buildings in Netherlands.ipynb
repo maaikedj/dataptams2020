{
 "cells": [
  {
   "cell_type": "markdown",
   "metadata": {
    "Collapsed": "false"
   },
   "source": [
    "# CONSTRUCTION COSTS IN THE NETHERLANDS\n",
    "\n",
    "## Study of the costs of different types of buildings in the Netherlands between years 2015 and 2019. \n",
    "\n",
    "## It includes an analysis of construction stage related costs for different types of buildings, and the regions of the NL that has the higest construction assocaited costs that people spent.\n",
    "\n",
    "Data Source: https://opendata.cbs.nl/"
   ]
  },
  {
   "cell_type": "code",
   "execution_count": null,
   "metadata": {
    "Collapsed": "false"
   },
   "outputs": [],
   "source": [
    "# Importing all necessary libraries\n",
    "import pandas as pd\n",
    "import numpy as np\n",
    "import seaborn as sns\n",
    "\n",
    "from scipy import stats\n",
    "from scipy.stats import ttest_1samp\n",
    "\n",
    "from scipy.stats import t\n",
    "import matplotlib.pyplot as plt\n",
    "\n",
    "\n",
    "import chart_studio.plotly as py\n",
    "import cufflinks as cf\n",
    "\n",
    "%matplotlib inline\n",
    "\n",
    "cf.go_offline()"
   ]
  },
  {
   "cell_type": "markdown",
   "metadata": {
    "Collapsed": "false"
   },
   "source": [
    "## Total costs of all buildings in NL from 2015 - 2019"
   ]
  },
  {
   "cell_type": "code",
   "execution_count": null,
   "metadata": {
    "Collapsed": "false"
   },
   "outputs": [],
   "source": [
    "bldg_start = pd.read_excel('../data/costs/costs_buildings started.xlsx')\n",
    "bldg_start.set_index(\"Periods\", inplace = True) \n",
    "\n",
    "import plotly.express as px\n",
    "fig = px.scatter(bldg_start, x=bldg_start.index, y=bldg_start['Total buildings_mln euro'])\n",
    "fig.show()"
   ]
  },
  {
   "cell_type": "markdown",
   "metadata": {
    "Collapsed": "false"
   },
   "source": [
    "#### From the past 5 years, 2018 had the highest peak in new buildings construction costs. About 5500 million euros were spent in NL on construction."
   ]
  },
  {
   "cell_type": "markdown",
   "metadata": {
    "Collapsed": "false"
   },
   "source": [
    "### From years 2015 through 2019 I would like to see the costs associated with the different types of buildings for the following 3 stages, where:\n",
    "\n",
    "1. Construction started \n",
    "2. Construction still in progress\n",
    "3. Construction completed\n"
   ]
  },
  {
   "cell_type": "markdown",
   "metadata": {
    "Collapsed": "false"
   },
   "source": [
    "###  First, I would like see which type of buildings had the highest costs under the category where construction was started between years 2015 and 2019."
   ]
  },
  {
   "cell_type": "code",
   "execution_count": null,
   "metadata": {
    "Collapsed": "false"
   },
   "outputs": [],
   "source": [
    "building_started_costs = pd.read_excel('../data/costs/costs_buildings started.xlsx')\n",
    "\n",
    "# Dropping Total building cost column\n",
    "building_started_costs.drop(['Total buildings_mln euro'], axis = 1, inplace = True)\n",
    "\n",
    "# Making first column into index\n",
    "building_started_costs.set_index(\"Periods\", inplace = True) \n",
    "\n",
    "\n",
    "building_started_costs.head()"
   ]
  },
  {
   "cell_type": "code",
   "execution_count": null,
   "metadata": {
    "Collapsed": "false"
   },
   "outputs": [],
   "source": [
    "plt.rcParams['figure.figsize'] = [18,8]\n",
    "building_started_costs.head(50).plot.bar()"
   ]
  },
  {
   "cell_type": "markdown",
   "metadata": {
    "Collapsed": "false"
   },
   "source": [
    "From the above visualization we can conclude that the \"Dwellings\" cost is the highest among all the different types of buildings. "
   ]
  },
  {
   "cell_type": "markdown",
   "metadata": {
    "Collapsed": "false"
   },
   "source": [
    "### I would like see which type of buildings that are under construction between years 2015 and 2019 has the highest cost."
   ]
  },
  {
   "cell_type": "code",
   "execution_count": null,
   "metadata": {
    "Collapsed": "false"
   },
   "outputs": [],
   "source": [
    "building_underconstruction_costs = pd.read_excel('../data/costs/costs_buildings_under construction.xlsx')\n",
    "\n",
    "# Dropping Total building cost column\n",
    "building_underconstruction_costs.drop(['Total buildings'], axis = 1, inplace = True)\n",
    "\n",
    "# Making first column into index\n",
    "building_underconstruction_costs.set_index(\"Periods\", inplace = True) \n",
    "\n",
    "plt.rcParams['figure.figsize'] = [16,8]\n",
    "building_underconstruction_costs.head(50).plot.bar()"
   ]
  },
  {
   "cell_type": "markdown",
   "metadata": {
    "Collapsed": "false"
   },
   "source": [
    "From the above visualization we can conclude that the \"Dwellings\" cost is still the highest among all the different types of buildings. "
   ]
  },
  {
   "cell_type": "markdown",
   "metadata": {
    "Collapsed": "false"
   },
   "source": [
    "### I would like see which type of buildings that completed construction between years 2015 and 2019 has the highest cost."
   ]
  },
  {
   "cell_type": "code",
   "execution_count": null,
   "metadata": {
    "Collapsed": "false"
   },
   "outputs": [],
   "source": [
    "building_completed_costs = pd.read_excel('../data/costs/costs_buildings_completed.xlsx')\n",
    "\n",
    "# Dropping Total building cost column\n",
    "building_completed_costs.drop(['Total buildings_mln euro'], axis = 1, inplace = True)\n",
    "\n",
    "# Making first column into index\n",
    "building_completed_costs.set_index(\"Periods\", inplace = True) \n",
    "\n",
    "plt.rcParams['figure.figsize'] = [16,8]\n",
    "building_completed_costs.head(50).plot.bar()"
   ]
  },
  {
   "cell_type": "markdown",
   "metadata": {
    "Collapsed": "false"
   },
   "source": [
    "From the above 3 plots we can see that the building category \"Dwellings\" are always under the higest costs realted to buildings that are in different stages of construction.\n",
    "\n",
    "The second highest is for the category \"Other buildings\",  the third highest is \"Combined company halls\" and the fourth is \"Halls and warehouses\". \n",
    "\n",
    "It is interesting to see that they are consistent no matter what stage of construction (started, completed and in-progress) they are in. \n",
    "\n",
    "#### So, we can conclude that \"Dwellings\" or Housing cost is the highest spent construction cost in the NL."
   ]
  },
  {
   "cell_type": "code",
   "execution_count": null,
   "metadata": {
    "Collapsed": "false"
   },
   "outputs": [],
   "source": [
    "#Paolo: to highlight text in markdown you may consider using **text** instead of ###Text\n",
    "#Paolo: ###Text are for new sections usually. See cell below for example of  text highlight"
   ]
  },
  {
   "cell_type": "markdown",
   "metadata": {
    "Collapsed": "false"
   },
   "source": [
    "Paolo: example **text**"
   ]
  },
  {
   "cell_type": "markdown",
   "metadata": {
    "Collapsed": "false"
   },
   "source": [
    "# Analysis of Costs in the different regions of the NL (North, South, East and West) for Housing and Education sectors."
   ]
  },
  {
   "cell_type": "markdown",
   "metadata": {
    "Collapsed": "false"
   },
   "source": [
    "### Total \"Dwelling\" Costs for all the regions of Netherlands"
   ]
  },
  {
   "cell_type": "code",
   "execution_count": null,
   "metadata": {
    "Collapsed": "false"
   },
   "outputs": [],
   "source": [
    "noord_housing = pd.read_excel('../data/regions/noord_nederland_housing_costs.xlsx')\n",
    "noord_housing.rename(columns = {'Orders received by contractors_mln euro':'Noord'}, inplace = True)\n",
    "\n",
    "oost_housing = pd.read_excel('../data/regions/oost_nederland_housing_costs.xlsx')\n",
    "oost_housing.rename(columns = {'Orders received by contractors_mln euro':'Oost'}, inplace = True)\n",
    "\n",
    "west_housing = pd.read_excel('../data/regions/west_nederland_housing_costs.xlsx')\n",
    "west_housing.rename(columns = {'Orders received by contractors_mln euro':'West'}, inplace = True)\n",
    "\n",
    "\n",
    "zuid_housing = pd.read_excel('../data/regions/zuid_nederland_housing_costs.xlsx')\n",
    "zuid_housing.rename(columns = {'Orders received by contractors_mln euro':'Zuid'}, inplace = True)\n",
    "\n",
    "\n",
    "# Orders received by contractors_mln euro for all the regions\n",
    "\n",
    "combined = pd.concat([noord_housing['Noord'],oost_housing['Oost'],west_housing['West'],zuid_housing['Zuid']], axis=1)\n",
    "                                  \n",
    "combined_orders_cost = combined.set_index(noord_housing[\"Periods\"])                                 \n",
    "combined_orders_cost.head()"
   ]
  },
  {
   "cell_type": "markdown",
   "metadata": {
    "Collapsed": "false"
   },
   "source": [
    "### Total \"Education\" Costs for all the regions of Netherlands"
   ]
  },
  {
   "cell_type": "code",
   "execution_count": null,
   "metadata": {
    "Collapsed": "false"
   },
   "outputs": [],
   "source": [
    "noord_education = pd.read_excel('../data/regions/noord_nederland_education_costs.xlsx')\n",
    "noord_education.rename(columns = {'Orders received by contractors_mln euro':'Noord'}, inplace = True)\n",
    "\n",
    "oost_education = pd.read_excel('../data/regions/oost_nederland_education_costs.xlsx')\n",
    "oost_education.rename(columns = {'Orders received by contractors_mln euro':'Oost'}, inplace = True)\n",
    "\n",
    "west_education = pd.read_excel('../data/regions/west_nederland_education_costs.xlsx')\n",
    "west_education.rename(columns = {'Orders received by contractors_mln euro':'West'}, inplace = True)\n",
    "\n",
    "\n",
    "zuid_education = pd.read_excel('../data/regions/zuid_nederland_education_costs.xlsx')\n",
    "zuid_education.rename(columns = {'Orders received by contractors_mln euro':'Zuid'}, inplace = True)\n",
    "\n",
    "\n",
    "# Orders received by contractors_mln euro for all the regions\n",
    "\n",
    "combined = pd.concat([noord_education['Noord'],oost_education['Oost'],west_education['West'],zuid_education['Zuid']], axis=1)\n",
    "                                  \n",
    "combined_education_cost = combined.set_index(noord_education[\"Periods\"])                                 \n",
    "combined_education_cost.head()"
   ]
  },
  {
   "cell_type": "markdown",
   "metadata": {
    "Collapsed": "false"
   },
   "source": [
    "## I would like to see which region in NL spent the highest in \"Dwellings\". \n",
    "\n",
    "For that I would like to use Sankey diagram to visualize."
   ]
  },
  {
   "cell_type": "code",
   "execution_count": null,
   "metadata": {
    "Collapsed": "false"
   },
   "outputs": [],
   "source": [
    "import plotly.graph_objects as go\n",
    "label = [\"Noord NL\", \"Oost NL\", \"West NL\", \"Zuid NL\"]  #total nodes involved in the graph\n",
    "\n",
    "#creating a sankey diagram using plotly\n",
    "fig = go.Figure(data=[go.Sankey(       \n",
    "    node = dict(            #editing properties of the node\n",
    "      thickness = 20,\n",
    "      line = dict(color = \"black\"),\n",
    "      label = [\"Noord NL\", \"Oost NL\", \"West NL\", \"Zuid NL\"] , #total nodes\n",
    "    ),\n",
    "    #editing properties of the connecting link\n",
    "    link = dict(               \n",
    "      source = [0,1,2,3],  #source nodes\n",
    "      target = [4, 4, 4, 4],   #target node\n",
    "      value = combined_orders_cost[[\"Noord\", \"Oost\", \"West\", \"Zuid\"]].sum(),  #value of the links\n",
    "      color = '#eee0e5'\n",
    "  ))])\n",
    "\n",
    "#setting figure title and font style\n",
    "fig.update_layout(title_text=\"Total consturction costs of Dwellings in the 4 regions on NL from 2015 through Q3 2017\", font=dict(size = 12, color = 'maroon'),paper_bgcolor='white')\n",
    "fig.show()\n",
    "#Paolo: I like this plot!"
   ]
  },
  {
   "cell_type": "markdown",
   "metadata": {
    "Collapsed": "false"
   },
   "source": [
    "#### From the above visualization, we see that there is a lot of money spent on the construction of \"Dwellings\" in the west of NL. The second highest is Oost of NL, third is Zuid and the least amount of money was spent on \"Dwellings\" in the Noord."
   ]
  },
  {
   "cell_type": "markdown",
   "metadata": {
    "Collapsed": "false"
   },
   "source": [
    "## I would like to see which region in NL spent the highest in \"Educational Buildings\". \n",
    "\n",
    "For that I would like to use Sankey diagram to visualize."
   ]
  },
  {
   "cell_type": "code",
   "execution_count": null,
   "metadata": {
    "Collapsed": "false"
   },
   "outputs": [],
   "source": [
    "import plotly.graph_objects as go\n",
    "label = [\"Noord NL\", \"Oost NL\", \"West NL\", \"Zuid NL\"]  #total nodes involved in the graph\n",
    "\n",
    "#creating a sankey diagram using plotly\n",
    "fig = go.Figure(data=[go.Sankey(       \n",
    "    node = dict(            #editing properties of the node\n",
    "      thickness = 20,\n",
    "      line = dict(color = \"black\"),\n",
    "      label = [\"Noord NL\", \"Oost NL\", \"West NL\", \"Zuid NL\"] , #total nodes\n",
    "    ),\n",
    "    #editing properties of the connecting link\n",
    "    link = dict(               \n",
    "      source = [0,1,2,3],  #source nodes\n",
    "      target = [4, 4, 4, 4],   #target node\n",
    "      value = combined_education_cost[[\"Noord\", \"Oost\", \"West\", \"Zuid\"]].sum(),  #value of the links\n",
    "      color = '#eee0e5'\n",
    "  ))])\n",
    "\n",
    "#setting figure title and font style\n",
    "fig.update_layout(title_text=\"Total consturction costs of Educational Buildings in the 4 regions in NL from 2015 through Q3 2017\", font=dict(size = 12, color = 'maroon'),paper_bgcolor='white')\n",
    "fig.show()\n",
    "#Paolo: I like this plot!"
   ]
  },
  {
   "cell_type": "markdown",
   "metadata": {
    "Collapsed": "false"
   },
   "source": [
    "#### From the above visualization, we see that there is a lot of money spent on the construction of \"Educational Buildings\" in the west of NL. The second higheest is Noord of NL, third is Zuid and the least amount of money was spent on \"Educational Buildings\" in the Oost."
   ]
  },
  {
   "cell_type": "markdown",
   "metadata": {
    "Collapsed": "false"
   },
   "source": [
    "###  Funnel Chart Visualization\n",
    "\n",
    "Here we will visualize the costs of \"Dwellings\" different regions of NL "
   ]
  },
  {
   "cell_type": "code",
   "execution_count": null,
   "metadata": {
    "Collapsed": "false"
   },
   "outputs": [],
   "source": [
    "from plotly import graph_objects as go\n",
    "\n",
    "#plotting the chart\n",
    "fig = go.Figure()\n",
    "\n",
    "#adding one funnel category\n",
    "fig.add_trace(go.Funnel(\n",
    "    name = 'Noord', #category of chart\n",
    "    y = combined_orders_cost.index, #y-axis represents different stages in a process\n",
    "    x = combined_orders_cost['Noord'], #x-axis represent values at each stage\n",
    "    textposition = \"auto\", #position of text at each stage. Other options are inside, outside and none\n",
    "    textinfo = \"value+percent previous\" #display value of each stage and percentage calculated from the previous stage\n",
    "    ))\n",
    "\n",
    "#adding second funnel category\n",
    "fig.add_trace(go.Funnel(\n",
    "    name = 'Oost',\n",
    "    y = combined_orders_cost.index,\n",
    "    x= combined_orders_cost['Oost'],\n",
    "    marker = {\"color\": \"deepskyblue\"}, #color of these marker\n",
    "    textposition = \"auto\",\n",
    "    textinfo = \"value+percent previous\"))\n",
    "\n",
    "fig.update_layout(title = \"Interview process of a company at different locations \", #set the title\n",
    "                  yaxis_title=\"Stages\" #set y axis\n",
    "                 ) \n",
    "\n",
    "\n",
    "#adding third funnel category\n",
    "fig.add_trace(go.Funnel(\n",
    "    name = 'West', \n",
    "    y = combined_orders_cost.index, \n",
    "    x = combined_orders_cost['West'], \n",
    "    textposition = \"auto\", \n",
    "    textinfo = \"value+percent previous\" \n",
    "    ))\n",
    "\n",
    "#adding fourth funnel category\n",
    "fig.add_trace(go.Funnel(\n",
    "    name = 'Zuid',\n",
    "    y = combined_orders_cost.index,\n",
    "    x=combined_orders_cost['Zuid'],\n",
    "    marker = {\"color\": \"pink\"}, #color of these marker\n",
    "    textposition = \"auto\",\n",
    "    textinfo = \"value+percent previous\"))\n",
    "\n",
    "fig.update_layout(title = \"Construction costs in different regions of NL \", #set the title\n",
    "                  yaxis_title=\"2015 through 2019\" #set y axis\n",
    "                 ) \n",
    "\n",
    "#to show the figure\n",
    "fig.show()\n",
    "#Paolo: good idea but this plot is not very readable (the numbers)"
   ]
  },
  {
   "cell_type": "markdown",
   "metadata": {
    "Collapsed": "false"
   },
   "source": [
    "#### From the above plot we see that there is no money spent on the construction of \"Dwelling\" from years 2017 4th quarter upto 2019 last quarter."
   ]
  },
  {
   "cell_type": "markdown",
   "metadata": {
    "Collapsed": "false"
   },
   "source": [
    "### Comparing the money spent on Dwelling and Educational Buildings using a Funnel Chart.\n",
    "For the convenience of creating a funnel chart, the 20 quarters from years 2015 through 2017  are divided into 4 sections ot 5 quarters each. That is, 'First 5 quarters', 'Second 5 Quarters', 'Third 5 quarters' and 'Fourth 5 quarters'."
   ]
  },
  {
   "cell_type": "code",
   "execution_count": null,
   "metadata": {
    "Collapsed": "false"
   },
   "outputs": [],
   "source": [
    "from plotly import graph_objects as go\n",
    "\n",
    "#plotting the chart\n",
    "fig = go.Figure()\n",
    "\n",
    "#adding one funnel category\n",
    "fig.add_trace(go.Funnel(\n",
    "    name = 'Housing', #category of chart\n",
    "    y = ['First 3 quarters', 'Second 3 Quarters', 'Third 3 quarters', 'Fourth 3 quarters'], #y-axis represents different stages in a process\n",
    "    x = combined_orders_cost.sum(), #x-axis represent values at each stage\n",
    "    textposition = \"auto\", #position of text at each stage. Other options are inside, outside and none\n",
    "    textinfo = \"value+percent previous\" #display value of each stage and percentage calculated from the previous stage\n",
    "    ))\n",
    "\n",
    "#adding second funnel category\n",
    "fig.add_trace(go.Funnel(\n",
    "    name = 'Education',\n",
    "    y = ['First 3 quarters', 'Second 3 Quarters', 'Third 3 quarters', 'Fourth 3 quarters'],\n",
    "    x= combined_education_cost.sum(),\n",
    "    marker = {\"color\": \"deepskyblue\"}, #color of these marker\n",
    "    textposition = \"auto\",\n",
    "    textinfo = \"value+percent previous\"))\n",
    "\n",
    "fig.update_layout(title = \"Construction costs spent on Dwellings vs Educational Buildings \", #set the title\n",
    "                  yaxis_title=\"Year 2015-2017 divided into 4 sections\" #set y axis\n",
    "                 ) \n",
    "\n",
    "\n",
    "#to show the figure\n",
    "fig.show()"
   ]
  },
  {
   "cell_type": "markdown",
   "metadata": {
    "Collapsed": "false"
   },
   "source": [
    "#### From the above visualization we see that a significantly higher amount of money is spent on \"Dwellings\" than on \"Education\" buildings construction."
   ]
  },
  {
   "cell_type": "markdown",
   "metadata": {
    "Collapsed": "false"
   },
   "source": [
    "# NUMBER OF DWELLINGS AND EDUCATIONAL BUILDINGS BUILT IN NOORD AND ZUID NEDERLAND"
   ]
  },
  {
   "cell_type": "markdown",
   "metadata": {
    "Collapsed": "false"
   },
   "source": [
    "### Number of Noord Nederland \"Dwellings\" based on construction stage from 2015 through 2019"
   ]
  },
  {
   "cell_type": "code",
   "execution_count": null,
   "metadata": {
    "Collapsed": "false"
   },
   "outputs": [],
   "source": [
    "noord_housing = pd.read_excel('../data/regions/noord_nederland_housing_costs.xlsx')\n",
    "\n",
    "# Making first column into index\n",
    "noord_housing.set_index(\"Periods\", inplace = True) \n",
    "\n",
    "plt.rcParams['figure.figsize'] = [16,8]\n",
    "noord_housing.head(50).plot.bar()"
   ]
  },
  {
   "cell_type": "markdown",
   "metadata": {
    "Collapsed": "false"
   },
   "source": [
    "\"Dwellings\" under construction are quite high and also also increasing in Noord Netherlands"
   ]
  },
  {
   "cell_type": "markdown",
   "metadata": {
    "Collapsed": "false"
   },
   "source": [
    "### Number of Noord Nederland Education Buildings based on construction stage from 2015 through 2019"
   ]
  },
  {
   "cell_type": "code",
   "execution_count": null,
   "metadata": {
    "Collapsed": "false"
   },
   "outputs": [],
   "source": [
    "noord_education = pd.read_excel('../data/regions/noord_nederland_education_costs.xlsx')\n",
    "\n",
    "# Making first column into index\n",
    "noord_education.set_index(\"Periods\", inplace = True) \n",
    "\n",
    "plt.rcParams['figure.figsize'] = [16,8]\n",
    "noord_education.head(50).plot.bar()"
   ]
  },
  {
   "cell_type": "markdown",
   "metadata": {
    "Collapsed": "false"
   },
   "source": [
    "On the contrary the \"Education\" buildings under construction are quite low and there are no new education buildings under construction from year 2018."
   ]
  },
  {
   "cell_type": "markdown",
   "metadata": {
    "Collapsed": "false"
   },
   "source": [
    "### Number of Zuid Nederland \"Dwellings\" based on construction stage from 2015 through 2019"
   ]
  },
  {
   "cell_type": "code",
   "execution_count": null,
   "metadata": {
    "Collapsed": "false"
   },
   "outputs": [],
   "source": [
    "zuid_housing = pd.read_excel('../data/regions/zuid_nederland_housing_costs.xlsx')\n",
    "\n",
    "# Making first column into index\n",
    "zuid_housing.set_index(\"Periods\", inplace = True) \n",
    "\n",
    "plt.rcParams['figure.figsize'] = [16,8]\n",
    "zuid_housing.head(50).plot.bar()"
   ]
  },
  {
   "cell_type": "markdown",
   "metadata": {
    "Collapsed": "false"
   },
   "source": [
    "### Number of Zuid Nederland Education Buildings based on construction stage from 2015 through 2019"
   ]
  },
  {
   "cell_type": "code",
   "execution_count": null,
   "metadata": {
    "Collapsed": "false"
   },
   "outputs": [],
   "source": [
    "zuid_education = pd.read_excel('../data/regions/zuid_nederland_education_costs.xlsx')\n",
    "\n",
    "# Making first column into index\n",
    "# zuid_education.set_index(\"Quarters\", inplace = True) \n",
    "\n",
    "plt.rcParams['figure.figsize'] = [16,8]\n",
    "zuid_education.head(50).plot.bar()"
   ]
  },
  {
   "cell_type": "markdown",
   "metadata": {
    "Collapsed": "false"
   },
   "source": [
    "# Confidence Interval"
   ]
  },
  {
   "cell_type": "markdown",
   "metadata": {
    "Collapsed": "false"
   },
   "source": [
    "### I would like to calculate the mean of the \"Orders received by contractors in million euros\" between years 2015 and 2019 for Noord Nederland.\n",
    "\n",
    "### But we only have data from years 2015 through 2017. So we can use  this data as sample data and estimate the mean of the population."
   ]
  },
  {
   "cell_type": "code",
   "execution_count": null,
   "metadata": {
    "Collapsed": "false"
   },
   "outputs": [],
   "source": [
    "# The standard deviation of the population is not known. \n",
    "# So, I will use the standard deviation of the sample.\n",
    "\n",
    "# We do not know the standard deviation of the orders, so we will need to use the t-score.\n",
    "noord_housing = pd.read_excel('../data/regions/noord_nederland_housing_costs.xlsx')\n",
    "\n",
    "sample_orders = noord_housing['Orders received by contractors_mln euro']\n",
    "\n",
    "#population_stdev is unknown\n",
    "\n",
    "degree_freedom = len(noord_housing['Orders received by contractors_mln euro']) - 1    # len(noord_housing['Orders received by contractors_mln euro']) = 20\n",
    "t = stats.t.interval(0.95, degree_freedom)[1]\n",
    "\n",
    "# Terms\n",
    "mean = np.mean(sample_orders)\n",
    "std_sample = np.sqrt(abs(np.sum((sample_orders - mean)**2) / (1-len(sample_orders))))\n",
    "marg_of_error = std_sample / np.sqrt(len(sample_orders))\n",
    "\n",
    "con_int = [mean - (t * marg_of_error) , mean + (t * marg_of_error)]\n",
    "print('With 95% confidence, the true mean lies in the inverval:', con_int)\n",
    "#Paolo: I think there is a problem with hypot test here.\n",
    "# Your sample is not random but contains all data from 2015-2017 and no data after. So the problem\n",
    "# is that the sample is not truly representative for the population because you are not sampling\n",
    "# after 2017 ( you have no data). I think your result is biased by this effect.\n",
    "#Paolo: I would try to work here with linear regression and/or time series instead"
   ]
  },
  {
   "cell_type": "markdown",
   "metadata": {
    "Collapsed": "false"
   },
   "source": [
    "### From the above calculation we undersatnd that the mean cost of the \"Orders received by contractors_mln euro\" between years 2015 and 2019 for Noord Nederland is between 41 and 113 million euros."
   ]
  },
  {
   "cell_type": "markdown",
   "metadata": {
    "Collapsed": "false"
   },
   "source": [
    "# Hypothesis Testing"
   ]
  },
  {
   "cell_type": "markdown",
   "metadata": {
    "Collapsed": "false"
   },
   "source": [
    "### I would like to do a 1 tailed t-test to test if the mean value of  the Orders received by contractors for \"Education\" buildings is less than the the Orders received by contractors for \"Dwellings\"  in Noord Nederland from years 2015-2017. \n",
    "\n"
   ]
  },
  {
   "cell_type": "code",
   "execution_count": null,
   "metadata": {
    "Collapsed": "false"
   },
   "outputs": [],
   "source": [
    "# Calculate the mean of Orders received by contractors for \"Dwellings\" \n",
    "noord_housing['Orders received by contractors_mln euro'].mean()"
   ]
  },
  {
   "cell_type": "code",
   "execution_count": null,
   "metadata": {
    "Collapsed": "false"
   },
   "outputs": [],
   "source": [
    "# Ho: the average cost of all orders recieved for education buildings is >= 77.4 million euros\n",
    "# Ha: the average cost of all orders recieved for education buildings is < 77.4 million euros\n",
    "\n",
    "# Variables\n",
    "alpha = 0.05\n",
    "conf_level = 1 - alpha       # 0.95   \n",
    "\n",
    "sample_building_completed_costs = building_completed_costs['Dwellings']\n",
    "\n",
    "st, p = ttest_1samp(sample_building_completed_costs, 77.4)\n",
    "\n",
    "print('Statistic: ', st)\n",
    "print('\\np-value: ', p)\n",
    "\n",
    "print('\\nNull hypothesis rejected') if p <= alpha else print('\\nNull hypothesis can\\'t be rejected')\n",
    "#Paolo: where is the part relative to education costs here? I cannot see it. \n",
    "#Paolo: if I look at the code it looks like you are always comparing \"Dwellings\" here?\n",
    "#Paolo: I have doubts if  an hypothesis test makes sense here. In general you do the hypothesis\n",
    "# test to infer something about the population from a limited random sample you have. In this\n",
    "# case you have already the populations (you are using all data from 2015-2017), or I am missing something?\n",
    "#(Paolo: In any case for one tailed test here(ttest_1samp() gives two-tailed p-value ) you have\n",
    "# to divide p/2 and request p/2<alpha)"
   ]
  },
  {
   "cell_type": "markdown",
   "metadata": {
    "Collapsed": "false"
   },
   "source": [
    "#### We clearly see that the null hypothesis is rejected. This means that the mean value of  the Orders received by contractors for \"Education\" buildings is less than the the Orders received by contractors for \"Dwellings\"  in Noord Nederland from years 2015-2017"
   ]
  },
  {
   "cell_type": "markdown",
   "metadata": {
    "Collapsed": "false"
   },
   "source": [
    "# Regression Analysis\n",
    "\n",
    "#### I would like to assume that the \"Dwelling\" orders received by contractors and the number of \"Dwelling\" where the construction started are correlated. I would like to check if there is linear or a non linear regression between the variables."
   ]
  },
  {
   "cell_type": "code",
   "execution_count": null,
   "metadata": {
    "Collapsed": "false"
   },
   "outputs": [],
   "source": [
    "# \"Dwelling\" costs for all the four regions of NL can be calculated by combining the values of all the 4 regions.\n",
    "\n",
    "noord_housing = pd.read_excel('../data/regions/noord_nederland_housing_costs.xlsx')\n",
    "oost_housing = pd.read_excel('../data/regions/oost_nederland_housing_costs.xlsx')\n",
    "west_housing = pd.read_excel('../data/regions/west_nederland_housing_costs.xlsx')\n",
    "zuid_housing = pd.read_excel('../data/regions/zuid_nederland_housing_costs.xlsx')\n",
    "\n",
    "# Orders received by contractors_mln euro for all the regions\n",
    "\n",
    "reg_combined = noord_housing + oost_housing + west_housing + zuid_housing       \n",
    "\n",
    "# Checking the correlation between \"Orders received by contractors_mln euros\" and \"Building projects started\"\n",
    "\n",
    "reg_combined[[\"Orders received by contractors_mln euro\", \"Building projects started\"]].corr()"
   ]
  },
  {
   "cell_type": "markdown",
   "metadata": {
    "Collapsed": "false"
   },
   "source": [
    "#### There is a negative correaltion between the two chosen variables.\n",
    "\n",
    "#### Negative correlation is a relationship between two variables in which one variable increases as the other decreases, and vice versa. "
   ]
  },
  {
   "cell_type": "markdown",
   "metadata": {
    "Collapsed": "false"
   },
   "source": [
    "### Building a regression model for the data from two varaibles \"Orders received by contractors_mln euros\" and \"Building projects started\""
   ]
  },
  {
   "cell_type": "code",
   "execution_count": null,
   "metadata": {
    "Collapsed": "false"
   },
   "outputs": [],
   "source": [
    "sns.regplot(x=\"Orders received by contractors_mln euro\", y=\"Building projects started\", data=reg_combined)"
   ]
  },
  {
   "cell_type": "code",
   "execution_count": null,
   "metadata": {
    "Collapsed": "false"
   },
   "outputs": [],
   "source": [
    "# I am using linear regression as there is a negative correlation between the data we want to analyze\n",
    "# In regression analysis, the dependent variable is denoted \"Y\" and the independent variables are denoted by \"X\".\n",
    "# Linear regression is also known as ordinary least squares (OLS) and linear least squares\n",
    "\n",
    "from scipy import stats\n",
    "import statsmodels.api as sm\n",
    "\n",
    "# Adding a Constant\n",
    "X = reg_combined['Orders received by contractors_mln euro']\n",
    "Y = reg_combined['Building projects started']\n",
    "\n",
    "x = sm.add_constant(X)\n",
    "\n",
    " \n",
    "results = sm.OLS(Y,x).fit()\n",
    " \n",
    "results.summary()\n",
    "#Paolo: interesting plot, like Maaike was suggesting during the presentation there are\n",
    "# a lot of data points in correspondence of zero_orders: What does it mean, does it make\n",
    "# sense, would it make sense to remove those points? If you remove those points I can see\n",
    "# a different trend in the plot."
   ]
  },
  {
   "cell_type": "markdown",
   "metadata": {
    "Collapsed": "false"
   },
   "source": [
    "\n",
    "\n",
    "\n",
    "#### From the above summary table, we see that the p-value is more than 0.05. It is 0.07 and we can say that the variables are not statistiacally significant.\n",
    "\n",
    "#### The F-statistics is also high. It is 3.711 and we can say that the overall model is not significant.\n",
    "\n",
    "#### R-SQUARED:\n",
    "The R-squared value is a widely-used measure that describes how powerful a regression is. \n",
    "The R-squared measures how much of the total variability is explained by our model.\n",
    "Here the R-squared value is 0.171. R-squared of 1 would mean our model explains the entire variability of the data.\n",
    "What we usually observe are values ranging from 0.2 to 0.9. The value we got here doesnt fall under that category and we can conclude that the regression is not strong.\n",
    "\n",
    "\n",
    "\n"
   ]
  },
  {
   "cell_type": "markdown",
   "metadata": {
    "Collapsed": "false"
   },
   "source": [
    "### Therefore there is no correlation between Housing orders received by contractors, and the number of Housing projects where the construction started \n"
   ]
  },
  {
   "cell_type": "markdown",
   "metadata": {
    "Collapsed": "false"
   },
   "source": [
    "### Plotting the regression model on the scatter plot."
   ]
  },
  {
   "cell_type": "code",
   "execution_count": null,
   "metadata": {
    "Collapsed": "false"
   },
   "outputs": [],
   "source": [
    "import matplotlib.pyplot as plt\n",
    "\n",
    "plt.scatter(X,Y)\n",
    " \n",
    "# From the above summary table, the coefficient = -0.2060 which is \"Orders received by contractors_mln euro\", \n",
    "# and incercept is the constant is 2295.4756    \n",
    "\n",
    "yhat = -0.2428*X + 2295.4756\n",
    "\n",
    " \n",
    "fig = plt.plot(X,yhat, lw=4, c='pink', label = 'regression line')\n",
    " \n",
    "plt.xlabel('Orders received by contractors_mln euro', fontsize = 20)\n",
    " \n",
    "plt.ylabel('Building projects started', fontsize = 20)\n",
    " \n",
    "plt.show()"
   ]
  },
  {
   "cell_type": "markdown",
   "metadata": {
    "Collapsed": "false"
   },
   "source": [
    "#### From the above scatter plot, it is clear that the \"Orders received by contractors_mln euro\" is not a good predictor of \"Building projects started\". \n",
    "\n",
    "#### The pink line in the plot above is the regression line – the predicted variables based on the data."
   ]
  },
  {
   "cell_type": "markdown",
   "metadata": {
    "Collapsed": "false"
   },
   "source": [
    "# CONCLUSIONS"
   ]
  },
  {
   "cell_type": "markdown",
   "metadata": {
    "Collapsed": "false"
   },
   "source": [
    "\n",
    "##### General:\n",
    "From the past 5 years, 2018 had the highest peak in new buildings construction costs. It includes buildings such as Dwellings, Offices, Combined company halls, Halls and warehouses, Agricultural sheds and stables, Shops, Schools, and Other Buildings. About 5500 million euros were spent in NL on construction.  \n",
    "\n",
    "##### Conclusion 1:\n",
    "\"Dwellings\" are always under the higest costs realted to buildings that are in different stages of construction.\n",
    "\n",
    "The second highest is for the category \"Other buildings\",  the third highest is \"Combined company halls\" and the fourth is \"Halls and warehouses\". \n",
    "\n",
    "It is interesting to see that they are consistent no matter what stage of construction (started, completed and in-progress) they are in. \n",
    "\n",
    "\n",
    "##### Conclusion 2:\n",
    "\n",
    "A lot of money spent on the construction of \"Dwellings\" in the west of NL. The second higheest is Oost of NL, third is Zuid and the least amount of money was spent on \"Dwellings\" in the Noord.\n",
    "\n",
    "\n",
    "A lot of money spent on the construction of \"Educational Buildings\" in the west of NL. The second higheest is Noord of NL, third is Zuid and the least amount of money was spent on \"Educational Buildings\" in the Oost.\n",
    "\n",
    "\n",
    "A significantly higher amount of money is spent on \"Dwellings\" than on \"Education\" buildings.\n",
    "\n",
    "\n",
    "##### Conclusion 3:\n",
    "\n",
    "We see that on an average that we have between 400 and 800 “Dwelling” under construction in each quarter of the year in the Noord and Zuid Nederland.\n",
    "\n",
    "There are no “Educational” buildings under construction in each quarter of the year in the Noord and Zuid Nederland.\n",
    "\n",
    "\n"
   ]
  },
  {
   "cell_type": "markdown",
   "metadata": {
    "Collapsed": "false"
   },
   "source": [
    "## Research Questions:\n",
    "\n",
    "Q1: What is the mean of the \"Orders received by contractors in million euros\" between years 2015 and 2019 for Noord Nederland?\n",
    "\n",
    "Q2: Is the mean value of  the Orders received by contractors for \"Education\" buildings less than the Orders received by contractors for “Housing\"  in Noord Nederland from years 2015-2017?\n",
    "\n",
    "Q3: Are the “Housing\" orders received by contractors and the number of “Housing\" projects where the construction started correlated?\n",
    "\n",
    "\n",
    "\n",
    "## Overall Analysis:\n",
    "\n",
    "\n",
    "The mean cost of all the \"Dwellings\" of all the completed buildings in NL is between 10.412,27 million euros and 13.036,02 million euros and the mean cost of \"Education\" builings is lower than 10.412. This was proved by the 1 tail t-test.\n",
    "\n",
    "The \"Orders received by contractors_mln euro\" is not a good predictor of \"Building projects started\". So, we cant conclude that just because the contractors had a lot of orders they started constructing a lot of new buildings.\n"
   ]
  },
  {
   "cell_type": "markdown",
   "metadata": {
    "Collapsed": "false"
   },
   "source": [
    "### Feedback Paolo\n",
    "- Good structured sections, the goal is clear\n",
    "- Some plots miss the label on y. Having clear x and y labels helps the reader to immediately understand the quantities that are plotted.\n",
    "- For the first plot in section 1.3 you may consider a bar_plot instead of scatter_plot\n",
    "- When you show regions you could experiment with maps in geopandas\n",
    "- I like the plots in section 2.1 and 2.2, they give a good visual \n",
    "- Check my comments in the notebook especially about hypothesis test and linear regression plot"
   ]
  }
 ],
 "metadata": {
  "hide_input": false,
  "kernelspec": {
   "display_name": "Python 3",
   "language": "python",
   "name": "python3"
  },
  "language_info": {
   "codemirror_mode": {
    "name": "ipython",
    "version": 3
   },
   "file_extension": ".py",
   "mimetype": "text/x-python",
   "name": "python",
   "nbconvert_exporter": "python",
   "pygments_lexer": "ipython3",
   "version": "3.7.6"
  },
  "latex_envs": {
   "LaTeX_envs_menu_present": true,
   "autoclose": false,
   "autocomplete": true,
   "bibliofile": "biblio.bib",
   "cite_by": "apalike",
   "current_citInitial": 1,
   "eqLabelWithNumbers": true,
   "eqNumInitial": 1,
   "hotkeys": {
    "equation": "Ctrl-E",
    "itemize": "Ctrl-I"
   },
   "labels_anchors": false,
   "latex_user_defs": false,
   "report_style_numbering": false,
   "user_envs_cfg": false
  },
  "toc": {
   "base_numbering": 1,
   "nav_menu": {},
   "number_sections": true,
   "sideBar": true,
   "skip_h1_title": false,
   "title_cell": "Table of Contents",
   "title_sidebar": "Contents",
   "toc_cell": false,
   "toc_position": {},
   "toc_section_display": true,
   "toc_window_display": false
  }
 },
 "nbformat": 4,
 "nbformat_minor": 4
}
