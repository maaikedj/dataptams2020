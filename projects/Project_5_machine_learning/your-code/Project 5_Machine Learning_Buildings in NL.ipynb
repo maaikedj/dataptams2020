{
 "cells": [
  {
   "cell_type": "markdown",
   "metadata": {
    "Collapsed": "false"
   },
   "source": [
    "# PROJECT 5: Machine Learning\n",
    "\n",
    "# CONSTRUCTION COSTS IN THE NETHERLANDS\n",
    "\n",
    "## Study of the costs of different types of buildings in the Netherlands between years 2015 and 2019. \n",
    "\n",
    "## It includes an analysis of construction stage related costs for different types of buildings, and the regions of the NL that has the higest construction assocaited costs that people spent.\n",
    "\n",
    "Data Source: https://opendata.cbs.nl/"
   ]
  },
  {
   "cell_type": "code",
   "execution_count": null,
   "metadata": {
    "Collapsed": "false"
   },
   "outputs": [],
   "source": [
    "# Importing all necessary libraries\n",
    "import pandas as pd\n",
    "import numpy as np\n",
    "import seaborn as sns\n",
    "\n",
    "from scipy import stats\n",
    "from scipy.stats import ttest_1samp\n",
    "\n",
    "import chart_studio.plotly as py\n",
    "import cufflinks as cf\n",
    "\n",
    "%matplotlib inline\n",
    "import seaborn as sns\n",
    "import matplotlib.pyplot as plt\n",
    "\n",
    "\n",
    "from scipy import stats\n",
    "import statsmodels.api as sm\n",
    "\n",
    "cf.go_offline()"
   ]
  },
  {
   "cell_type": "markdown",
   "metadata": {
    "Collapsed": "false"
   },
   "source": [
    "## Total costs of all buildings in NL from 2015 - 2019"
   ]
  },
  {
   "cell_type": "code",
   "execution_count": null,
   "metadata": {
    "Collapsed": "false"
   },
   "outputs": [],
   "source": [
    "bldg_start = pd.read_excel('../data/costs/costs_buildings started.xlsx')\n",
    "bldg_start.set_index(\"Periods\", inplace = True) \n",
    "\n",
    "import plotly.express as px\n",
    "fig = px.scatter(bldg_start, x=bldg_start.index, y=bldg_start['Total buildings_mln euro'])\n",
    "fig.show()"
   ]
  },
  {
   "cell_type": "markdown",
   "metadata": {
    "Collapsed": "false"
   },
   "source": [
    "#### From the past 5 years, 2018 had the highest peak in new buildings construction costs. About 5500 million euros were spent in NL on construction."
   ]
  },
  {
   "cell_type": "markdown",
   "metadata": {
    "Collapsed": "false"
   },
   "source": [
    "# Analysis of Costs in the different regions of the NL (North, South, East and West) for Housing and Education sectors."
   ]
  },
  {
   "cell_type": "markdown",
   "metadata": {
    "Collapsed": "false"
   },
   "source": [
    "### Total \"Dwelling\" Costs for all the regions of Netherlands"
   ]
  },
  {
   "cell_type": "code",
   "execution_count": null,
   "metadata": {
    "Collapsed": "false"
   },
   "outputs": [],
   "source": [
    "noord_housing = pd.read_excel('../data/regions/noord_nederland_housing_costs.xlsx')\n",
    "noord_housing.rename(columns = {'Orders received by contractors_mln euro':'Noord'}, inplace = True)\n",
    "\n",
    "oost_housing = pd.read_excel('../data/regions/oost_nederland_housing_costs.xlsx')\n",
    "oost_housing.rename(columns = {'Orders received by contractors_mln euro':'Oost'}, inplace = True)\n",
    "\n",
    "west_housing = pd.read_excel('../data/regions/west_nederland_housing_costs.xlsx')\n",
    "west_housing.rename(columns = {'Orders received by contractors_mln euro':'West'}, inplace = True)\n",
    "\n",
    "\n",
    "zuid_housing = pd.read_excel('../data/regions/zuid_nederland_housing_costs.xlsx')\n",
    "zuid_housing.rename(columns = {'Orders received by contractors_mln euro':'Zuid'}, inplace = True)\n",
    "\n",
    "\n",
    "# Orders received by contractors_mln euro for all the regions\n",
    "\n",
    "combined = pd.concat([noord_housing['Noord'],oost_housing['Oost'],west_housing['West'],zuid_housing['Zuid']], axis=1)\n",
    "                                  \n",
    "combined_orders_cost = combined.set_index(noord_housing[\"Periods\"])                                 \n",
    "combined_orders_cost.head()"
   ]
  },
  {
   "cell_type": "markdown",
   "metadata": {
    "Collapsed": "false"
   },
   "source": [
    "### Total \"Education\" Costs for all the regions of Netherlands"
   ]
  },
  {
   "cell_type": "code",
   "execution_count": null,
   "metadata": {
    "Collapsed": "false"
   },
   "outputs": [],
   "source": [
    "noord_education = pd.read_excel('../data/regions/noord_nederland_education_costs.xlsx')\n",
    "noord_education.rename(columns = {'Orders received by contractors_mln euro':'Noord'}, inplace = True)\n",
    "\n",
    "oost_education = pd.read_excel('../data/regions/oost_nederland_education_costs.xlsx')\n",
    "oost_education.rename(columns = {'Orders received by contractors_mln euro':'Oost'}, inplace = True)\n",
    "\n",
    "west_education = pd.read_excel('../data/regions/west_nederland_education_costs.xlsx')\n",
    "west_education.rename(columns = {'Orders received by contractors_mln euro':'West'}, inplace = True)\n",
    "\n",
    "\n",
    "zuid_education = pd.read_excel('../data/regions/zuid_nederland_education_costs.xlsx')\n",
    "zuid_education.rename(columns = {'Orders received by contractors_mln euro':'Zuid'}, inplace = True)\n",
    "\n",
    "\n",
    "# Orders received by contractors_mln euro for all the regions\n",
    "\n",
    "combined = pd.concat([noord_education['Noord'],oost_education['Oost'],west_education['West'],zuid_education['Zuid']], axis=1)\n",
    "                                  \n",
    "combined_education_cost = combined.set_index(noord_education[\"Periods\"])                                 \n",
    "combined_education_cost.head(50)"
   ]
  },
  {
   "cell_type": "markdown",
   "metadata": {
    "Collapsed": "false"
   },
   "source": [
    "# Regression Analysis\n",
    "\n",
    "#### I would like to assume that the \"Dwelling\" orders received by contractors and the number of \"Dwelling\" where the construction started are correlated. I would like to check if there is linear or a non linear regression between the variables."
   ]
  },
  {
   "cell_type": "code",
   "execution_count": null,
   "metadata": {
    "Collapsed": "false"
   },
   "outputs": [],
   "source": [
    "# \"Dwelling\" costs for all the four regions of NL can be calculated by combining the values of all the 4 regions.\n",
    "\n",
    "noord_housing = pd.read_excel('../data/regions/noord_nederland_housing_costs.xlsx')\n",
    "oost_housing = pd.read_excel('../data/regions/oost_nederland_housing_costs.xlsx')\n",
    "west_housing = pd.read_excel('../data/regions/west_nederland_housing_costs.xlsx')\n",
    "zuid_housing = pd.read_excel('../data/regions/zuid_nederland_housing_costs.xlsx')\n",
    "\n"
   ]
  },
  {
   "cell_type": "markdown",
   "metadata": {},
   "source": [
    "### There are multiple columns in the dataframe that provided the million of euros spent and the number of buildings constructed that are in different stages.\n",
    "\n",
    "So, I would like to see how they are all correlated."
   ]
  },
  {
   "cell_type": "code",
   "execution_count": null,
   "metadata": {},
   "outputs": [],
   "source": [
    "corr = noord_housing.corr()\n",
    "\n",
    "# Heatmap\n",
    "\n",
    "plt.figure(figsize=(20,15))\n",
    "\n",
    "sns.heatmap(corr, annot=True)"
   ]
  },
  {
   "cell_type": "markdown",
   "metadata": {},
   "source": [
    "There is a positive correlation between \"Production of building projects\" and \"Building projects under construction\". This makes complete sense.\n",
    "\n",
    "There is also a positive correlation between \"Building projects started\" and \"Remaining production of buildings\". I think this correlation says that there is a continuous demand for buildings and the construction is a continuing. Since no information is provided on what each column means in the dataset its hard to definitely say what it means.\n",
    "\n",
    "The correlation that I find interesting is that there is a strong positive correaltion between \"Orders received by contractors_mln euro\" and \"Building projects not yet started\". This probably says that there is a backlog in the construction activities."
   ]
  },
  {
   "cell_type": "markdown",
   "metadata": {
    "Collapsed": "false"
   },
   "source": [
    "#### There is a positive correaltion between the two chosen variables.\n"
   ]
  },
  {
   "cell_type": "code",
   "execution_count": null,
   "metadata": {},
   "outputs": [],
   "source": [
    "noord_housing.isna().sum()"
   ]
  },
  {
   "cell_type": "code",
   "execution_count": null,
   "metadata": {},
   "outputs": [],
   "source": [
    "# Orders received by contractors_mln euro for all the regions\n",
    "\n",
    "reg_combined = noord_housing + oost_housing + west_housing + zuid_housing       \n",
    "\n",
    "# Checking the correlation between \"Orders received by contractors_mln euros\" and \"Building projects started\"\n",
    "\n",
    "reg_combined[[\"Orders received by contractors_mln euro\", \"Building projects started\"]].corr()"
   ]
  },
  {
   "cell_type": "markdown",
   "metadata": {
    "Collapsed": "false"
   },
   "source": [
    "### Building a regression model for the data from two varaibles \"Orders received by contractors_mln euros\" and \"Building projects started\""
   ]
  },
  {
   "cell_type": "code",
   "execution_count": null,
   "metadata": {
    "Collapsed": "false"
   },
   "outputs": [],
   "source": [
    "sns.regplot(x=\"Orders received by contractors_mln euro\", y=\"Building projects started\", data=reg_combined)"
   ]
  },
  {
   "cell_type": "code",
   "execution_count": null,
   "metadata": {
    "Collapsed": "false"
   },
   "outputs": [],
   "source": [
    "# I am using linear regression as there is a negative correlation between the data we want to analyze\n",
    "# In regression analysis, the dependent variable is denoted \"Y\" and the independent variables are denoted by \"X\".\n",
    "# Linear regression is also known as ordinary least squares (OLS) and linear least squares\n",
    "\n",
    "from scipy import stats\n",
    "import statsmodels.api as sm\n",
    "\n",
    "# Adding a Constant\n",
    "X = reg_combined['Orders received by contractors_mln euro']\n",
    "Y = reg_combined['Building projects started']\n",
    "\n",
    "x = sm.add_constant(X)\n",
    "\n",
    " \n",
    "results = sm.OLS(Y,x).fit()\n",
    " \n",
    "results.summary()\n"
   ]
  },
  {
   "cell_type": "markdown",
   "metadata": {
    "Collapsed": "false"
   },
   "source": [
    "\n",
    "\n",
    "\n",
    "#### From the above summary table, we see that the p-value is 0.007 and we can say that the variables are statistiacally significant.\n",
    "\n",
    "\n",
    "#### R-SQUARED:\n",
    "The R-squared value is a widely-used measure that describes how powerful a regression is. \n",
    "The R-squared measures how much of the total variability is explained by our model.\n",
    "Here the R-squared value is 0.567. R-squared of 1 would mean our model explains the entire variability of the data.\n",
    "What we usually observe are values ranging from 0.2 to 0.9. The value we got here fall under that category and we can conclude that the regression is strong.\n",
    "\n",
    "\n",
    "\n"
   ]
  },
  {
   "cell_type": "markdown",
   "metadata": {
    "Collapsed": "false"
   },
   "source": [
    "### Therefore there is a strong correlation between Housing orders received by contractors, and the number of Housing projects where the construction started \n"
   ]
  },
  {
   "cell_type": "markdown",
   "metadata": {
    "Collapsed": "false"
   },
   "source": [
    "### Plotting the regression model on the scatter plot."
   ]
  },
  {
   "cell_type": "code",
   "execution_count": null,
   "metadata": {
    "Collapsed": "false"
   },
   "outputs": [],
   "source": [
    "import matplotlib.pyplot as plt\n",
    "\n",
    "plt.scatter(X,Y)\n",
    " \n",
    "# From the above summary table, the coefficient = 0.8371 which is \"Orders received by contractors_mln euro\", \n",
    "# and incercept is the constant is 256.4860    \n",
    "\n",
    "yhat = 0.8371*X + 256.4860\n",
    "\n",
    " \n",
    "fig = plt.plot(X,yhat, lw=4, c='pink', label = 'regression line')\n",
    " \n",
    "plt.xlabel('Orders received by contractors_mln euro', fontsize = 20)\n",
    " \n",
    "plt.ylabel('Building projects started', fontsize = 20)\n",
    " \n",
    "plt.show()"
   ]
  },
  {
   "cell_type": "markdown",
   "metadata": {
    "Collapsed": "false"
   },
   "source": [
    "#### From the above scatter plot, it is clear that the \"Orders received by contractors_mln euro\" is a good predictor of \"Building projects started\". \n",
    "\n",
    "#### The pink line in the plot above is the regression line – the predicted variables based on the data."
   ]
  },
  {
   "cell_type": "markdown",
   "metadata": {},
   "source": [
    "# Total Building Costs for all types of buildings"
   ]
  },
  {
   "cell_type": "code",
   "execution_count": null,
   "metadata": {},
   "outputs": [],
   "source": [
    "total_cost = pd.read_excel('../data/Total Building Costs.xlsx')\n",
    "total_cost.set_index(\"Periods\", inplace = True) \n",
    "total_cost.head()"
   ]
  },
  {
   "cell_type": "code",
   "execution_count": null,
   "metadata": {},
   "outputs": [],
   "source": [
    "total_cost.isna().sum()"
   ]
  },
  {
   "cell_type": "code",
   "execution_count": null,
   "metadata": {},
   "outputs": [],
   "source": [
    "total_cost.dtypes"
   ]
  },
  {
   "cell_type": "markdown",
   "metadata": {},
   "source": [
    "# Performing Supervised Learning on the building dataframe\n",
    "\n",
    "# Modeling, Prediction, and Evaluation"
   ]
  },
  {
   "cell_type": "markdown",
   "metadata": {},
   "source": [
    "We'll start off this section by splitting the data to train and test. **Name your 4 variables `X_train`, `X_test`, `y_train`, and `y_test`. Select 80% of the data for training and 20% for testing.**"
   ]
  },
  {
   "cell_type": "code",
   "execution_count": null,
   "metadata": {},
   "outputs": [],
   "source": [
    "\n",
    "from sklearn.model_selection import train_test_split\n",
    "\n",
    "y = total_cost['Building projects started']\n",
    "X = total_cost.drop('Building projects started', axis=1)\n",
    "\n",
    "X_train, X_test, y_train, y_test = train_test_split(X, y, test_size=0.20)"
   ]
  },
  {
   "cell_type": "markdown",
   "metadata": {},
   "source": [
    "## Here I will evaluate the model and also try two different models to compare my results\n",
    "\n",
    "## I will use Linear Regression and K-nearest Neighbours\n",
    "\n",
    "### 1. Linear Regression"
   ]
  },
  {
   "cell_type": "markdown",
   "metadata": {},
   "source": [
    "\n",
    "\n",
    "The first model we will use in this lab is **Linear Regression**. "
   ]
  },
  {
   "cell_type": "code",
   "execution_count": null,
   "metadata": {},
   "outputs": [],
   "source": [
    "\n",
    "# TRAIN THE  MODEL \n",
    "\n",
    "\n",
    "from sklearn.linear_model import LinearRegression \n",
    "model = LinearRegression()"
   ]
  },
  {
   "cell_type": "markdown",
   "metadata": {},
   "source": [
    "Next, fit the model to my training data. "
   ]
  },
  {
   "cell_type": "code",
   "execution_count": null,
   "metadata": {},
   "outputs": [],
   "source": [
    "model.fit(X_train, y_train)"
   ]
  },
  {
   "cell_type": "markdown",
   "metadata": {},
   "source": [
    "### Evaluate the model\n",
    "\n",
    "Compute the predicted *y* based on `X_train` and call it `y_pred`. Then calcualte the r squared score between `y_pred` and `y_train` which indicates how well the estimated regression model fits the training data."
   ]
  },
  {
   "cell_type": "code",
   "execution_count": null,
   "metadata": {},
   "outputs": [],
   "source": [
    "# TEST THE  MODEL \n",
    "\n",
    "y_pred = model.predict(X_train)\n",
    "pd.DataFrame({'test':y_train, 'predicted':y_pred})"
   ]
  },
  {
   "cell_type": "code",
   "execution_count": null,
   "metadata": {},
   "outputs": [],
   "source": [
    "from sklearn.metrics import r2_score\n",
    "\n",
    "r2_score(y_train, y_pred)"
   ]
  },
  {
   "cell_type": "markdown",
   "metadata": {},
   "source": [
    "#### Our next step is to evaluate the model using the test data. \n",
    "\n",
    "We would like to ensure that our model is not overfitting the data. This means that our model was made to fit too closely to the training data by being overly complex. If a model is overfitted, it is not generalizable to data outside the training data. In that case, we need to reduce the complexity of the model by removing certain features (variables).\n",
    "\n",
    "In the cell below, use the model to generate the predicted values for the test data and assign them to `y_test_pred`. Compute the r squared score of the predicted `y_test_pred` and the oberserved `y_test` data."
   ]
  },
  {
   "cell_type": "code",
   "execution_count": null,
   "metadata": {},
   "outputs": [],
   "source": [
    "y_test_pred = model.predict(X_test)\n",
    "pd.DataFrame({'test':y_test, 'predicted':y_test_pred})"
   ]
  },
  {
   "cell_type": "code",
   "execution_count": null,
   "metadata": {},
   "outputs": [],
   "source": [
    "from sklearn.metrics import r2_score\n",
    "\n",
    "r2_score(y_test, y_test_pred)"
   ]
  },
  {
   "cell_type": "markdown",
   "metadata": {},
   "source": [
    "**The r squared score for the training data is 0.2578 and the test data is -1.01402.**\n",
    "\n",
    "**The r2 score for the test data is a negative value which shows that model can be arbitrarily worse.**"
   ]
  },
  {
   "cell_type": "markdown",
   "metadata": {},
   "source": [
    "### 2. K-Nearest Neighbors"
   ]
  },
  {
   "cell_type": "markdown",
   "metadata": {},
   "source": [
    "### Our second algorithm is K-Nearest Neighbors. \n",
    "\n",
    "We will fit a model using the training data and then test the performance of the model using the testing data. We will start by loading `KNeighborsClassifier` from scikit-learn and then initialize and fit the model. We'll start off with a model where k=3."
   ]
  },
  {
   "cell_type": "code",
   "execution_count": null,
   "metadata": {},
   "outputs": [],
   "source": [
    "# TRAIN THE MODEL \n",
    "\n",
    "from sklearn.neighbors import KNeighborsClassifier\n",
    "\n",
    "model = KNeighborsClassifier(n_neighbors=4)\n",
    "model.fit(X_train, y_train)"
   ]
  },
  {
   "cell_type": "markdown",
   "metadata": {},
   "source": [
    "To test your model, compute the predicted values for the testing sample and print the confusion matrix as well as the accuracy score."
   ]
  },
  {
   "cell_type": "markdown",
   "metadata": {},
   "source": [
    "**Accuracy Score**\n",
    "\n",
    "The accuracy_score function computes the accuracy, either the fraction (default) or the count (normalize=False) of correct predictions.\n",
    "\n",
    "In multilabel classification, the function returns the subset accuracy. If the entire set of predicted labels for a sample strictly match with the true set of labels, then the subset accuracy is 1.0; otherwise it is 0.0.\n",
    "\n",
    "Reference: https://scikit-learn.org/stable/modules/model_evaluation.html"
   ]
  },
  {
   "cell_type": "code",
   "execution_count": null,
   "metadata": {},
   "outputs": [],
   "source": [
    "# TEST THE MODEL\n",
    "\n",
    "y_pred = model.predict(X_test)\n",
    "pd.DataFrame({'test':y_test, 'predicted':y_test_pred})"
   ]
  },
  {
   "cell_type": "code",
   "execution_count": null,
   "metadata": {},
   "outputs": [],
   "source": [
    "accuracy_score(y_test, y_pred)"
   ]
  },
  {
   "cell_type": "markdown",
   "metadata": {},
   "source": [
    "**Confusion matrix**"
   ]
  },
  {
   "cell_type": "code",
   "execution_count": null,
   "metadata": {},
   "outputs": [],
   "source": [
    "confusion_matrix(y_test, y_pred)"
   ]
  },
  {
   "cell_type": "markdown",
   "metadata": {},
   "source": [
    "# Unsupervised Learning\n"
   ]
  },
  {
   "cell_type": "markdown",
   "metadata": {},
   "source": [
    "# Data Clustering with K-Means\n",
    "\n",
    "Now let's cluster the data with K-Means first. Initiate the K-Means model, then fit your scaled data. In the data returned from the `.fit` method, there is an attribute called `labels_` which is the cluster number assigned to each data record. What you can do is to assign these labels back to `total_cost` in a new column called `total_cost['labels']`. Then you'll see the cluster results of the original data."
   ]
  },
  {
   "cell_type": "code",
   "execution_count": null,
   "metadata": {},
   "outputs": [],
   "source": [
    "# Your code here:\n",
    "# Reference: https://scikit-learn.org/stable/modules/generated/sklearn.cluster.KMeans.html\n",
    "\n",
    "# n_clusters: The number of clusters to form as well as the number of centroids to generate.\n",
    "# By default n_clusters=8\n",
    "\n",
    "from sklearn.cluster import KMeans\n",
    "\n",
    "total_cost_kmeans = KMeans().fit(total_cost)\n",
    "total_cost_kmeans.labels_"
   ]
  },
  {
   "cell_type": "code",
   "execution_count": null,
   "metadata": {},
   "outputs": [],
   "source": [
    "total_cost['labels'] = total_cost_kmeans.labels_\n",
    "\n",
    "total_cost"
   ]
  },
  {
   "cell_type": "markdown",
   "metadata": {},
   "source": [
    "Count the values in `labels`."
   ]
  },
  {
   "cell_type": "code",
   "execution_count": null,
   "metadata": {},
   "outputs": [],
   "source": [
    "# Your code here:\n",
    "\n",
    "total_cost['labels'].value_counts() "
   ]
  },
  {
   "cell_type": "code",
   "execution_count": null,
   "metadata": {},
   "outputs": [],
   "source": [
    "# K-Means Labels Scatter Plot\n",
    "plt.scatter(x=total_cost['Orders received by contractors'], y=total_cost['Building projects started'], c=total_cost[\"labels\"])\n",
    "plt.title('Distribution of K-Means Labels with 8 clusters')\n",
    "plt.xlabel('Orders received by contractors')\n",
    "plt.ylabel('Building projects started')\n",
    "plt.show()\n",
    "\n",
    "\n"
   ]
  },
  {
   "cell_type": "markdown",
   "metadata": {},
   "source": [
    "### I would like to reduce the number of clusters to 2 to see the change from the default 8 clusters in the above"
   ]
  },
  {
   "cell_type": "code",
   "execution_count": null,
   "metadata": {},
   "outputs": [],
   "source": [
    "# Your code here\n",
    "\n",
    "from sklearn.cluster import KMeans\n",
    "\n",
    "# KMeans for n_clusters=2\n",
    "total_cost_kmeans = KMeans(n_clusters=2).fit(total_cost)\n",
    "total_cost['labels'] = total_cost_kmeans.labels_\n",
    "\n",
    "plt.scatter(x=total_cost['Orders received by contractors'], y=total_cost['Building projects started'], c=total_cost[\"labels\"])\n",
    "plt.title('Distribution of K-Means Labels with 2 clusters')\n",
    "plt.xlabel('Orders received by contractors')\n",
    "plt.ylabel('Building projects started')\n",
    "plt.show()"
   ]
  },
  {
   "cell_type": "code",
   "execution_count": null,
   "metadata": {},
   "outputs": [],
   "source": [
    "# By reducing the number of clusters I can clearly see the difference."
   ]
  },
  {
   "cell_type": "markdown",
   "metadata": {
    "Collapsed": "false"
   },
   "source": [
    "# CONCLUSIONS"
   ]
  },
  {
   "cell_type": "markdown",
   "metadata": {
    "Collapsed": "false"
   },
   "source": [
    "## Research Questions:\n",
    "\n",
    "Q1: Are the “Housing\" orders received by contractors and the number of “Housing\" projects where the construction started correlated?\n",
    "\n",
    "\n",
    "\n",
    "## Overall Analysis:\n",
    "\n",
    "Yes, the \"Orders received by contractors_mln euro\" is  a good predictor of \"Building projects started\". \n"
   ]
  },
  {
   "cell_type": "code",
   "execution_count": null,
   "metadata": {},
   "outputs": [],
   "source": []
  }
 ],
 "metadata": {
  "hide_input": false,
  "kernelspec": {
   "display_name": "Python 3",
   "language": "python",
   "name": "python3"
  },
  "language_info": {
   "codemirror_mode": {
    "name": "ipython",
    "version": 3
   },
   "file_extension": ".py",
   "mimetype": "text/x-python",
   "name": "python",
   "nbconvert_exporter": "python",
   "pygments_lexer": "ipython3",
   "version": "3.7.4"
  },
  "latex_envs": {
   "LaTeX_envs_menu_present": true,
   "autoclose": false,
   "autocomplete": true,
   "bibliofile": "biblio.bib",
   "cite_by": "apalike",
   "current_citInitial": 1,
   "eqLabelWithNumbers": true,
   "eqNumInitial": 1,
   "hotkeys": {
    "equation": "Ctrl-E",
    "itemize": "Ctrl-I"
   },
   "labels_anchors": false,
   "latex_user_defs": false,
   "report_style_numbering": false,
   "user_envs_cfg": false
  },
  "toc": {
   "base_numbering": 1,
   "nav_menu": {},
   "number_sections": true,
   "sideBar": true,
   "skip_h1_title": false,
   "title_cell": "Table of Contents",
   "title_sidebar": "Contents",
   "toc_cell": false,
   "toc_position": {},
   "toc_section_display": true,
   "toc_window_display": false
  }
 },
 "nbformat": 4,
 "nbformat_minor": 4
}
