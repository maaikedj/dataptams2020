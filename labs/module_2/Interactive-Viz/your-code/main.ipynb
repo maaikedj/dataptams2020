{
 "cells": [
  {
   "cell_type": "markdown",
   "metadata": {
    "Collapsed": "false"
   },
   "source": [
    "# Interactive Visualization Lab\n",
    "\n",
    "Complete the following set of exercises to solidify your knowledge of interactive visualization using Plotly, Cufflinks, and IPyWidgets."
   ]
  },
  {
   "cell_type": "code",
   "execution_count": null,
   "metadata": {
    "Collapsed": "false"
   },
   "outputs": [],
   "source": [
    "import pandas as pd\n",
    "import chart_studio.plotly as py\n",
    "import cufflinks as cf\n",
    "from ipywidgets import interact\n",
    "\n",
    "cf.go_offline()"
   ]
  },
  {
   "cell_type": "markdown",
   "metadata": {
    "Collapsed": "false"
   },
   "source": [
    "Please download the Online_retail dataset dataset from [here](https://drive.google.com/file/d/1jD7eQYnfcvbm1ksDbD12U22JtbKItU7E/view?usp=sharing), place it in the data folder.<br>\n",
    "Load the data:"
   ]
  },
  {
   "cell_type": "code",
   "execution_count": null,
   "metadata": {
    "Collapsed": "false"
   },
   "outputs": [],
   "source": [
    "data = pd.read_excel('../data/Online_Retail.xlsx')\n",
    "data\n"
   ]
  },
  {
   "cell_type": "markdown",
   "metadata": {
    "Collapsed": "false"
   },
   "source": [
    "## 1. Create an interactive bar chart showing total quantity and revenue by country (excluding United Kingdom) for the month of April 2011."
   ]
  },
  {
   "cell_type": "code",
   "execution_count": null,
   "metadata": {},
   "outputs": [],
   "source": [
    "quantity_revenue=data[['Quantity','Revenue', 'Country', 'InvoiceDate']]\n",
    "quantity_revenue=quantity_revenue[quantity_revenue.Country != 'United Kingdom']\n",
    "quantity_revenue=quantity_revenue[quantity_revenue.InvoiceDate >= '2011-04-01']\n",
    "quantity_revenue=quantity_revenue[quantity_revenue.InvoiceDate <= '2011-04-30']\n",
    "quantity_revenue.groupby('Country', as_index=False).agg({'Quantity':'sum','Revenue':'sum'})\n",
    "quantity_revenue.iplot(kind='bar',x='Country',color='purple',title='Total Quantity and Revenue by country for April 2011, excl. UK')\n",
    "                       "
   ]
  },
  {
   "cell_type": "markdown",
   "metadata": {
    "Collapsed": "false"
   },
   "source": [
    "## 2. Create an interactive line chart showing quantity and revenue sold to France between January 1st and May 31st 2011."
   ]
  },
  {
   "cell_type": "code",
   "execution_count": null,
   "metadata": {
    "Collapsed": "false"
   },
   "outputs": [],
   "source": [
    "quantity_revenue_france=data[['Quantity','Revenue', 'Country', 'InvoiceDate']]\n",
    "quantity_revenue_france=quantity_revenue_france.loc[quantity_revenue_france.Country == 'France']\n",
    "quantity_revenue_france=quantity_revenue_france[['Quantity','Revenue','InvoiceDate']]\n",
    "quantity_revenue_france=quantity_revenue_france[quantity_revenue_france.InvoiceDate >= '2011-01-01']\n",
    "quantity_revenue_france=quantity_revenue_france[quantity_revenue_france.InvoiceDate <= '2011-05-31']\n",
    "quantity_revenue_france.groupby('InvoiceDate', as_index=True).agg({'Quantity':'sum','Revenue':'sum'})\n",
    "quantity_revenue_france\n"
   ]
  },
  {
   "cell_type": "code",
   "execution_count": null,
   "metadata": {},
   "outputs": [],
   "source": [
    "quantity_revenue_france.iplot(kind='line',x='InvoiceDate',title='Total Quantity and Revenue for France between January 1st 2011 and May 31 2011')"
   ]
  },
  {
   "cell_type": "markdown",
   "metadata": {
    "Collapsed": "false"
   },
   "source": [
    "## 3. Create an interactive scatter plot showing the relationship between average quantity (x-axis) and average unit price (y-axis) for the product PARTY BUNTING with the plot points color-coded by country (categories)."
   ]
  },
  {
   "cell_type": "code",
   "execution_count": null,
   "metadata": {
    "Collapsed": "false"
   },
   "outputs": [],
   "source": [
    "party_bunting=data[['Quantity','UnitPrice','Description','Country']]\n",
    "party_bunting=party_bunting.loc[party_bunting.Description == 'PARTY BUNTING']\n",
    "party_bunting=party_bunting[['Quantity','UnitPrice','Country']]\n",
    "party_bunting=party_bunting.groupby('Country',as_index=False).agg({'Quantity':'mean','UnitPrice':'mean'})\n",
    "party_bunting.iplot(x='Quantity',y='UnitPrice',categories='Country',xTitle='Average Quantity',yTitle='Average Unit Price', title='Average Quantity & Unit Price for PARTY BUNTING per country')"
   ]
  },
  {
   "cell_type": "markdown",
   "metadata": {
    "Collapsed": "false"
   },
   "source": [
    "## 4. Create a set of interactive histograms showing the distributions of quantity per invoice for the following countries: EIRE, Germany, France, and Netherlands."
   ]
  },
  {
   "cell_type": "code",
   "execution_count": null,
   "metadata": {
    "Collapsed": "false"
   },
   "outputs": [],
   "source": [
    "quantity_per_invoice=data[['Quantity', 'InvoiceNo', 'Country']]\n",
    "quantity_per_invoice=quantity_per_invoice[quantity_per_invoice['Country'].isin(['EIRE','Germany','France','Netherlands'])]\n",
    "quantity_per_invoice=quantity_per_invoice.pivot_table(values='Quantity',columns='Country',index='InvoiceNo',aggfunc='mean')\n",
    "quantity_per_invoice.iplot(kind='hist',subplots=True, xTitle='Number of Invoices',yTitle='Quantity', title='Distribution of Quantity per Invoice')\n"
   ]
  },
  {
   "cell_type": "markdown",
   "metadata": {
    "Collapsed": "false"
   },
   "source": [
    "## 5. Create an interactive side-by-side bar chart showing the revenue by country listed below (bars) for each of the products listed below."
   ]
  },
  {
   "cell_type": "code",
   "execution_count": null,
   "metadata": {
    "Collapsed": "false"
   },
   "outputs": [],
   "source": [
    "product_list = ['JUMBO BAG RED RETROSPOT', \n",
    "                'CREAM HANGING HEART T-LIGHT HOLDER',\n",
    "                'REGENCY CAKESTAND 3 TIER']\n",
    "\n",
    "country_list = ['EIRE', 'Germany', 'France', 'Netherlands']"
   ]
  },
  {
   "cell_type": "code",
   "execution_count": null,
   "metadata": {
    "Collapsed": "false"
   },
   "outputs": [],
   "source": [
    "revenue=data[['Revenue','Country','Description']]\n",
    "revenue=revenue[revenue['Country'].isin(['EIRE','Germany','France','Netherlands'])]\n",
    "revenue=revenue[revenue['Description'].isin(['JUMBO BAG RED RETROSPOT', \n",
    "                'CREAM HANGING HEART T-LIGHT HOLDER',\n",
    "                'REGENCY CAKESTAND 3 TIER'])]\n",
    "revenue=revenue.pivot_table(values='Revenue',columns='Country',index='Description', aggfunc='sum')\n",
    "revenue.iplot(kind='bar',xTitle='Product', yTitle='Revenue', title='Revenue by country per product')"
   ]
  },
  {
   "cell_type": "markdown",
   "metadata": {
    "Collapsed": "false"
   },
   "source": [
    "## 6. Create an interactive line chart showing quantity sold by day for the United Kingdom. Add drop-down boxes for Year and Month that allow you to filter the date range that appears in the chart."
   ]
  },
  {
   "cell_type": "code",
   "execution_count": null,
   "metadata": {
    "Collapsed": "false"
   },
   "outputs": [],
   "source": [
    "data['Year'] = pd.DatetimeIndex(data['InvoiceDate']).year\n",
    "data['Month'] = pd.DatetimeIndex(data['InvoiceDate']).month\n",
    "data['Day'] = pd.DatetimeIndex(data['InvoiceDate']).day\n",
    "uk = data[data['Country']=='United Kingdom']\n",
    "uk"
   ]
  },
  {
   "cell_type": "code",
   "execution_count": null,
   "metadata": {
    "Collapsed": "false"
   },
   "outputs": [],
   "source": [
    "@interact(Selection=['Year', 'Month'])\n",
    "\n",
    "def linechart(Selection):\n",
    "    data = uk.pivot_table(values='Quantity', columns=Selection,\n",
    "                            index='Day', aggfunc='mean').reset_index()\n",
    "\n",
    "    data.iplot(kind='line', x='Day', xTitle='Day', \n",
    "               yTitle='Quantity', title='Average quantity sold per day in UK ' + Selection.title())"
   ]
  },
  {
   "cell_type": "markdown",
   "metadata": {
    "Collapsed": "false"
   },
   "source": [
    "# Bonus challenges"
   ]
  },
  {
   "cell_type": "markdown",
   "metadata": {
    "Collapsed": "false"
   },
   "source": [
    "## 7. Create an interactive scatter plot that plots number of invoices (x-axis) vs. number of customers (y-axis) and the plot points represent individual products. Add two sliders that control the x and y axis ranges."
   ]
  },
  {
   "cell_type": "code",
   "execution_count": null,
   "metadata": {
    "Collapsed": "false"
   },
   "outputs": [],
   "source": [
    "agg_func = {'InvoiceNo':'nunique',\n",
    "            'Quantity':'sum',\n",
    "            'UnitPrice':'mean',\n",
    "            'Revenue':'sum',\n",
    "            'CustomerID':'nunique'}\n",
    "\n",
    "products = uk.groupby('Description').agg(agg_func)"
   ]
  },
  {
   "cell_type": "code",
   "execution_count": null,
   "metadata": {
    "Collapsed": "false"
   },
   "outputs": [],
   "source": []
  },
  {
   "cell_type": "markdown",
   "metadata": {
    "Collapsed": "false"
   },
   "source": [
    "## 8. Creat an interactive bar chart that shows revenue by product description. Add a text field widget that filters the results to show the product that contain the text entered in their description."
   ]
  },
  {
   "cell_type": "code",
   "execution_count": null,
   "metadata": {
    "Collapsed": "false"
   },
   "outputs": [],
   "source": []
  }
 ],
 "metadata": {
  "kernelspec": {
   "display_name": "Python 3",
   "language": "python",
   "name": "python3"
  },
  "language_info": {
   "codemirror_mode": {
    "name": "ipython",
    "version": 3
   },
   "file_extension": ".py",
   "mimetype": "text/x-python",
   "name": "python",
   "nbconvert_exporter": "python",
   "pygments_lexer": "ipython3",
   "version": "3.7.4"
  }
 },
 "nbformat": 4,
 "nbformat_minor": 4
}
