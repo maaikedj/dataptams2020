{
 "cells": [
  {
   "cell_type": "code",
   "execution_count": null,
   "metadata": {},
   "outputs": [],
   "source": [
    "#below are the functions for the game\n",
    "from random import randint \n",
    "\n",
    "#create a 5 by 5 board\n",
    "board = [[\"O\"]*5 for i in range(5)]\n",
    "\n",
    "#print it pretty\n",
    "def print_board(board):\n",
    "    for row in board:\n",
    "        print (\"  \".join(row))\n",
    "\n",
    "#with randint function get a ship location in the board (normal indexing)\n",
    "def ship_placing(board):\n",
    "    ship_row = randint(1,len(board))\n",
    "    ship_column = randint(1,len(board[0]))\n",
    "    return ship_row,ship_column\n",
    "\n",
    "#ask user for coordinates to shoot and check if the shot falls in the board, keep asking if it doesn't\n",
    "#normal indexing\n",
    "def turn():\n",
    "    while True:\n",
    "        shot_row = int(input(\"choose row for shot:\"))\n",
    "        if shot_row <= len(board) and shot_row > 0:\n",
    "            break\n",
    "        else:\n",
    "            print(\"you're shot is out of range, try again\")\n",
    "    while True:\n",
    "        shot_column = int(input(\"choose column for shot:\"))\n",
    "        if shot_column <= len(board[0]) and shot_column > 0:\n",
    "            break\n",
    "        else:\n",
    "            print(\"you're shot is out of range, try again\")\n",
    "    return shot_row,shot_column\n",
    "\n",
    "#check if the shot matches the ship's location\n",
    "def shoot(the_ship,the_shot,board):\n",
    "    if the_ship[0] == the_shot[0] and the_ship[1] == the_shot[1]:\n",
    "        print(\"you sunk the ship!\")\n",
    "        return False\n",
    "    else:\n",
    "        print(\"you missed\")\n",
    "        return True"
   ]
  },
  {
   "cell_type": "code",
   "execution_count": null,
   "metadata": {},
   "outputs": [],
   "source": [
    "#HERE IS THE GAME FUNCTION\n",
    "def game():\n",
    "    print('lets play battleship!')\n",
    "\n",
    "    #get the ship's position\n",
    "    the_ship = ship_placing(board)\n",
    "    print('the ship is in row %d, column %d' % (the_ship[0],the_ship[1]))\n",
    "\n",
    "    print_board(board)\n",
    "        \n",
    "    #establish ship status to keep playing until sunk\n",
    "    ship_sts = True\n",
    "    \n",
    "    while ship_sts == True:\n",
    "        #get the player's shot\n",
    "        the_shot = turn()\n",
    "\n",
    "        #check the shot against the ship's position\n",
    "        ship_sts = shoot(the_ship,the_shot,board)\n",
    "\n",
    "        #update the board where the shot was made\n",
    "        # index 0 for ship and shot is a row - rows are the nested lists in board\n",
    "        # index 1 for ship and shot is a column - columns are the elements in the list in board\n",
    "        board[the_shot[0]-1][the_shot[1]-1] = 'X'\n",
    "        print_board(board)\n"
   ]
  },
  {
   "cell_type": "code",
   "execution_count": null,
   "metadata": {},
   "outputs": [],
   "source": [
    "game()"
   ]
  }
 ],
 "metadata": {
  "kernelspec": {
   "display_name": "Python 3",
   "language": "python",
   "name": "python3"
  },
  "language_info": {
   "codemirror_mode": {
    "name": "ipython",
    "version": 3
   },
   "file_extension": ".py",
   "mimetype": "text/x-python",
   "name": "python",
   "nbconvert_exporter": "python",
   "pygments_lexer": "ipython3",
   "version": "3.8.1"
  }
 },
 "nbformat": 4,
 "nbformat_minor": 4
}
