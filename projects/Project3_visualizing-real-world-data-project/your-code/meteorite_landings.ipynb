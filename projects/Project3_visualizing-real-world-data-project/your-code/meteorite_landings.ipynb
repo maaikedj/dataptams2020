{
 "cells": [
  {
   "cell_type": "markdown",
   "metadata": {},
   "source": [
    "# Meteorite landings on Earth\n",
    "\n",
    "### Maaike de Jong\n",
    "\n",
    "In this notebook I analyse and visualize the NASA Meteorite Landings dataset, which can be found here. \n",
    "A short background and description of the dataset can be found in the readme file. \n",
    "\n",
    "The Meteoritical Society collects data on meteorites that have fallen to Earth from outer space. This dataset includes the location, mass, composition, and fall year for over 45,000 meteorites that have struck our planet.\n",
    "\n",
    "Notes on missing or incorrect data points:\n",
    "* a few entries here contain date information that was incorrectly parsed into the NASA database. As a spot check: any date that is before 860 CE or after 2016 are incorrect; these should actually be BCE years. There may be other errors and we are looking for a way to identify them.\n",
    "\n",
    "* a few entries have latitude and longitude of 0N/0E (off the western coast of Africa, where it would be quite difficult to recover meteorites). Many of these were actually discovered in Antarctica, but exact coordinates were not given. 0N/0E locations should probably be treated as NA."
   ]
  },
  {
   "cell_type": "code",
   "execution_count": null,
   "metadata": {},
   "outputs": [],
   "source": [
    "# import packages\n",
    "import numpy as np\n",
    "import pandas as pd\n",
    "%matplotlib inline\n",
    "import matplotlib.pyplot as plt\n",
    "import seaborn as sns"
   ]
  },
  {
   "cell_type": "code",
   "execution_count": null,
   "metadata": {},
   "outputs": [],
   "source": [
    "# import dataset\n",
    "df = pd.read_csv('../data/meteorite-landings.csv')\n",
    "df.head()"
   ]
  },
  {
   "cell_type": "code",
   "execution_count": null,
   "metadata": {},
   "outputs": [],
   "source": [
    "# inspect data types\n",
    "#df.dtypes\n",
    "df.info()\n",
    "# transform year into date time?"
   ]
  },
  {
   "cell_type": "code",
   "execution_count": null,
   "metadata": {},
   "outputs": [],
   "source": [
    "# Check missing values\n",
    "percent_missing = df.isnull().sum() * 100 / len(df)\n",
    "missing_value_df = pd.DataFrame({'column_name': df.columns,\n",
    "                                 'percent_missing': percent_missing})\n",
    "missing_value_df"
   ]
  },
  {
   "cell_type": "code",
   "execution_count": null,
   "metadata": {},
   "outputs": [],
   "source": [
    "# convert year from float to integer\n",
    "df['year'] = df['year'].fillna(0).astype(int)\n",
    "df.info() "
   ]
  },
  {
   "cell_type": "code",
   "execution_count": null,
   "metadata": {},
   "outputs": [],
   "source": [
    "# inspect data with describe\n",
    "df.describe()"
   ]
  },
  {
   "cell_type": "code",
   "execution_count": null,
   "metadata": {},
   "outputs": [],
   "source": [
    "# clean data\n",
    "# filter out data with year < 860 and > 2016 \n",
    "df2 = df.loc[(df['year'] >= 860) & (df['year'] <= 2016)]"
   ]
  },
  {
   "cell_type": "code",
   "execution_count": null,
   "metadata": {},
   "outputs": [],
   "source": [
    "# clean data\n",
    "# filter out data with 0,0 coordinates\n",
    "df3 = df2.loc[(df2['reclat'] != 0) & (df2['reclong'] != 0)]"
   ]
  },
  {
   "cell_type": "code",
   "execution_count": null,
   "metadata": {},
   "outputs": [],
   "source": [
    "df3.info()"
   ]
  },
  {
   "cell_type": "code",
   "execution_count": null,
   "metadata": {},
   "outputs": [],
   "source": [
    "# inspecting properties and distribution of variables\n",
    "\n",
    "# types of recclass\n",
    "meteor_types = pd.DataFrame(df3['recclass'].value_counts())\n",
    "meteor_types.info()\n",
    "\n",
    "# There are 441 distinct meteorite types in the data. If I want to plot different types I'll have to make a selection"
   ]
  },
  {
   "cell_type": "code",
   "execution_count": null,
   "metadata": {},
   "outputs": [],
   "source": [
    "# inspecting properties and distribution of variables\n",
    "\n",
    "# distribution of mass\n",
    "\n",
    "#df3.plot.hist(y = 'mass')\n",
    "sns.boxplot(x = 'mass', data = df3)\n",
    "\n",
    "# the distribution is difficult to visualize because of outliers with a lot of mass\n",
    "# if I want to do anything with mass I have to make groupings or convert the data"
   ]
  },
  {
   "cell_type": "code",
   "execution_count": null,
   "metadata": {},
   "outputs": [],
   "source": [
    "sns.violinplot(x = 'mass', data = df3)"
   ]
  },
  {
   "cell_type": "code",
   "execution_count": null,
   "metadata": {},
   "outputs": [],
   "source": [
    "# inspecting properties and distribution of variables\n",
    "\n",
    "# column 'fall'\n",
    "\n",
    "df3['fall'].value_counts()\n",
    "\n",
    "# There are many more 'found' meteorites than 'fell' meteorites"
   ]
  },
  {
   "cell_type": "code",
   "execution_count": null,
   "metadata": {},
   "outputs": [],
   "source": [
    "# inspecting properties and distribution of variables\n",
    "\n",
    "# column 'year'\n",
    "\n",
    "sns.boxplot(x = 'year', data = df3)"
   ]
  },
  {
   "cell_type": "code",
   "execution_count": null,
   "metadata": {},
   "outputs": [],
   "source": [
    "sns.violinplot(x = 'year', data = df3)\n",
    "\n",
    "# the vast majority of observations are between 1900 and 2016, which is to be expected"
   ]
  },
  {
   "cell_type": "code",
   "execution_count": null,
   "metadata": {},
   "outputs": [],
   "source": [
    "# Next steps:\n",
    "# 1. plot the points on a world map\n",
    "# 2. plot the points on a world map with different colours for differnt types (make a selection of types)\n",
    "# 3. Visualise the number of found meteorites per country. Need to find country for each coordinate. Figure out how to do this. \n",
    "# 4. Create maps for several different countries/ hotspots, e.g. : Netherlands, Morocco, Namibia\n",
    "\n",
    "# Other ideas:\n",
    "# 5. Visualise by type\n",
    "# 6. Interactive map\n"
   ]
  },
  {
   "cell_type": "code",
   "execution_count": null,
   "metadata": {},
   "outputs": [],
   "source": [
    "# import geospatial packages\n",
    "\n",
    "import geopandas as gpd"
   ]
  },
  {
   "cell_type": "code",
   "execution_count": null,
   "metadata": {},
   "outputs": [],
   "source": [
    "# create geodataframe, with geometry column from long, lat columns\n",
    "\n",
    "gdf = gpd.GeoDataFrame(df3, geometry = gpd.points_from_xy(df3['reclong'], df3['reclat']))\n",
    "gdf.head()"
   ]
  },
  {
   "cell_type": "code",
   "execution_count": null,
   "metadata": {},
   "outputs": [],
   "source": [
    "#check whether the geometry column is the right datatype\n",
    "\n",
    "type(gdf.geometry)"
   ]
  },
  {
   "cell_type": "code",
   "execution_count": null,
   "metadata": {},
   "outputs": [],
   "source": [
    "# import world map geodataframe\n",
    "\n",
    "world = gpd.read_file(gpd.datasets.get_path('naturalearth_lowres'))\n",
    "world.head()"
   ]
  },
  {
   "cell_type": "code",
   "execution_count": null,
   "metadata": {},
   "outputs": [],
   "source": [
    "# plot world map with country borders\n",
    "\n",
    "plt.rcParams['figure.figsize'] = [16,8]\n",
    "world.plot(facecolor = 'silver', edgecolor = 'grey');"
   ]
  },
  {
   "cell_type": "code",
   "execution_count": null,
   "metadata": {},
   "outputs": [],
   "source": [
    "# Plot layer of meteorites\n",
    "\n",
    "gdf.plot(marker='*', color='green', markersize=5);"
   ]
  },
  {
   "cell_type": "code",
   "execution_count": null,
   "metadata": {},
   "outputs": [],
   "source": [
    "# There's a weird point that must be a mistake. longitude is larger than 300\n",
    "# find entry in df \n",
    "\n",
    "gdf.loc[(df3['reclong'] > 300)]"
   ]
  },
  {
   "cell_type": "code",
   "execution_count": null,
   "metadata": {},
   "outputs": [],
   "source": [
    "# remove entry\n",
    "\n",
    "gdf = gdf.drop([22946], axis=0)"
   ]
  },
  {
   "cell_type": "code",
   "execution_count": null,
   "metadata": {},
   "outputs": [],
   "source": [
    "# Plot meteorites again to check whether the point is gone\n",
    "\n",
    "gdf.plot(marker='*', color='green', markersize=5);"
   ]
  },
  {
   "cell_type": "code",
   "execution_count": null,
   "metadata": {},
   "outputs": [],
   "source": [
    "# Before combining maps, ensure they share a common CRS (so they will align)\n",
    "\n",
    "# first assign a crs to the gdf (a common one is WGS84 latitude-longitude coordinate system)\n",
    "\n",
    "gdf.crs = \"EPSG:4326\"\n",
    "\n",
    "# then, align crs to world crs\n",
    "\n",
    "gdf = gdf.to_crs(world.crs)"
   ]
  },
  {
   "cell_type": "code",
   "execution_count": null,
   "metadata": {},
   "outputs": [],
   "source": [
    "base = world.plot(color='silver', edgecolor='grey')\n",
    "gdf.plot(ax=base, marker='o', color='blue', markersize=2);"
   ]
  },
  {
   "cell_type": "code",
   "execution_count": null,
   "metadata": {},
   "outputs": [],
   "source": [
    "# spatial join meteorite gdf and world gdf to assign countries to meteorite coordinates\n",
    "# make sure to include all countries even if no meteorite data\n"
   ]
  },
  {
   "cell_type": "code",
   "execution_count": null,
   "metadata": {},
   "outputs": [],
   "source": [
    "# aggregate meteorites per country\n"
   ]
  },
  {
   "cell_type": "code",
   "execution_count": null,
   "metadata": {},
   "outputs": [],
   "source": [
    "# make map with number of meteorites per country indicated with colours\n",
    "# see: https://geopandas.org/mapping.html"
   ]
  },
  {
   "cell_type": "code",
   "execution_count": null,
   "metadata": {},
   "outputs": [],
   "source": [
    "# make maps for several countries"
   ]
  }
 ],
 "metadata": {
  "kernelspec": {
   "display_name": "Python 3",
   "language": "python",
   "name": "python3"
  },
  "language_info": {
   "codemirror_mode": {
    "name": "ipython",
    "version": 3
   },
   "file_extension": ".py",
   "mimetype": "text/x-python",
   "name": "python",
   "nbconvert_exporter": "python",
   "pygments_lexer": "ipython3",
   "version": "3.7.1"
  }
 },
 "nbformat": 4,
 "nbformat_minor": 4
}
