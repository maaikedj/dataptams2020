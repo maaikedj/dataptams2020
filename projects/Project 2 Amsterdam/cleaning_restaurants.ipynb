{
 "cells": [
  {
   "cell_type": "code",
   "execution_count": null,
   "metadata": {},
   "outputs": [],
   "source": [
    "#code below to clean the data set!"
   ]
  },
  {
   "cell_type": "code",
   "execution_count": null,
   "metadata": {},
   "outputs": [],
   "source": [
    "import numpy as np\n",
    "import pandas as pd"
   ]
  },
  {
   "cell_type": "code",
   "execution_count": null,
   "metadata": {},
   "outputs": [],
   "source": [
    "Restaurants = pd.read_excel('Restaurant.xlsx')\n",
    "\n",
    "Restaurants.head()"
   ]
  },
  {
   "cell_type": "code",
   "execution_count": null,
   "metadata": {},
   "outputs": [],
   "source": [
    "#new column with name and address info together to identify duplicates\n",
    "#Making all the names lower case\n",
    "def lower(x):\n",
    "    return x.lower()\n",
    "\n",
    "Restaurants['Duplicates'] = Restaurants['name'] + Restaurants['address'].fillna('')\n",
    "\n",
    "Restaurants['Duplicates'] = Restaurants['Duplicates'].apply(lower)\n"
   ]
  },
  {
   "cell_type": "code",
   "execution_count": null,
   "metadata": {},
   "outputs": [],
   "source": [
    "#Identifying the duplicates below (8 rows, will have to drop 4)\n",
    "duplicates = Restaurants[Restaurants.duplicated(['Duplicates'], keep=False)]\n",
    "\n",
    "duplicates.sort_values(by=[\"Duplicates\"])"
   ]
  },
  {
   "cell_type": "code",
   "execution_count": null,
   "metadata": {},
   "outputs": [],
   "source": [
    "#I'm choosing to drop indexes 1910 1880 1017 505 as their counterparts have more information\n",
    "Restaurants = Restaurants.drop(Restaurants.index[[1910,1880,1017,505]])\n",
    "\n",
    "#And drop the column \"Duplicates\" as its no longer needed\n",
    "Restaurants = Restaurants.drop(\"Duplicates\",1)\n"
   ]
  },
  {
   "cell_type": "code",
   "execution_count": null,
   "metadata": {},
   "outputs": [],
   "source": [
    "#Need to reset the index as we have 4 lines missing now\n",
    "Restaurants = Restaurants.reset_index()\n",
    "Restaurants.head()\n"
   ]
  },
  {
   "cell_type": "code",
   "execution_count": null,
   "metadata": {},
   "outputs": [],
   "source": [
    "#droping old index column\n",
    "Restaurants = Restaurants.drop(columns=[\"index\"])\n",
    "\n",
    "#checking its working:\n",
    "#Restaurants"
   ]
  },
  {
   "cell_type": "code",
   "execution_count": null,
   "metadata": {},
   "outputs": [],
   "source": [
    "#Creating new column for Post Code, splitting address by commas\n",
    "Restaurants[['a','b','c','d','e']] = Restaurants.address.str.split(\",\",expand=True)\n",
    "\n",
    "#dropping un-needed columns\n",
    "Restaurants = Restaurants.drop(columns=['a','c','d','e'])\n",
    "\n",
    "Restaurants.tail(500)"
   ]
  },
  {
   "cell_type": "code",
   "execution_count": null,
   "metadata": {},
   "outputs": [],
   "source": [
    "#removing additional data so we only have the 4 digit post code\n",
    "Restaurants['PostCode'] = Restaurants.b.str.split(\" \",expand=True)[1]\n",
    "\n",
    "#dropping un-needed columns\n",
    "Restaurants = Restaurants.drop(columns=['b'])\n",
    "\n",
    "Restaurants"
   ]
  },
  {
   "cell_type": "code",
   "execution_count": null,
   "metadata": {},
   "outputs": [],
   "source": []
  }
 ],
 "metadata": {
  "kernelspec": {
   "display_name": "Python 3",
   "language": "python",
   "name": "python3"
  },
  "language_info": {
   "codemirror_mode": {
    "name": "ipython",
    "version": 3
   },
   "file_extension": ".py",
   "mimetype": "text/x-python",
   "name": "python",
   "nbconvert_exporter": "python",
   "pygments_lexer": "ipython3",
   "version": "3.8.1"
  }
 },
 "nbformat": 4,
 "nbformat_minor": 4
}
