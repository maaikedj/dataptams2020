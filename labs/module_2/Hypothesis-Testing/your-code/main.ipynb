{
 "cells": [
  {
   "cell_type": "markdown",
   "metadata": {
    "Collapsed": "false"
   },
   "source": [
    "# Before your start:\n",
    "- Read the README.md file\n",
    "- Comment as much as you can and use the resources (README.md file)\n",
    "- Happy learning!"
   ]
  },
  {
   "cell_type": "code",
   "execution_count": null,
   "metadata": {
    "Collapsed": "false"
   },
   "outputs": [],
   "source": [
    "# import numpy and pandas\n",
    "import numpy as np\n",
    "import pandas as pd\n",
    "from scipy import stats\n",
    "from scipy.stats import t, sem\n",
    "from scipy.stats import ttest_1samp"
   ]
  },
  {
   "cell_type": "markdown",
   "metadata": {
    "Collapsed": "false"
   },
   "source": [
    "# Challenge 1 - Exploring the Data\n",
    "\n",
    "In this challenge, we will examine all salaries of employees of the City of Chicago. We will start by loading the dataset and examining its contents. Load the data from [here](https://drive.google.com/file/d/1AmdvTSj5Fl86i4uHiOnZPFg8S8mAIreA/view?usp=sharing) and place it in the data folder"
   ]
  },
  {
   "cell_type": "code",
   "execution_count": null,
   "metadata": {
    "Collapsed": "false"
   },
   "outputs": [],
   "source": [
    "# Your code here:\n",
    "df = pd.read_csv('../data/Current_Employee_Names__Salaries__and_Position_Titles.csv')"
   ]
  },
  {
   "cell_type": "markdown",
   "metadata": {
    "Collapsed": "false"
   },
   "source": [
    "Examine the `salaries` dataset using the `head` function below."
   ]
  },
  {
   "cell_type": "code",
   "execution_count": null,
   "metadata": {
    "Collapsed": "false"
   },
   "outputs": [],
   "source": [
    "# Your code here:\n",
    "df.head()"
   ]
  },
  {
   "cell_type": "markdown",
   "metadata": {
    "Collapsed": "false"
   },
   "source": [
    "We see from looking at the `head` function that there is quite a bit of missing data. Let's examine how much missing data is in each column. Produce this output in the cell below"
   ]
  },
  {
   "cell_type": "code",
   "execution_count": null,
   "metadata": {
    "Collapsed": "false"
   },
   "outputs": [],
   "source": [
    "# Your code here:\n",
    "# there is indeed a lot of missing data:\n",
    "null_cols = df.isna().sum()\n",
    "null_cols[null_cols > 0]\n"
   ]
  },
  {
   "cell_type": "markdown",
   "metadata": {
    "Collapsed": "false"
   },
   "source": [
    "Let's also look at the count of hourly vs. salaried employees. Write the code in the cell below"
   ]
  },
  {
   "cell_type": "code",
   "execution_count": null,
   "metadata": {
    "Collapsed": "false"
   },
   "outputs": [],
   "source": [
    "# Your code here:\n",
    "df['Salary or Hourly'].value_counts()\n"
   ]
  },
  {
   "cell_type": "markdown",
   "metadata": {
    "Collapsed": "false"
   },
   "source": [
    "What this information indicates is that the table contains information about two types of employees - salaried and hourly. Some columns apply only to one type of employee while other columns only apply to another kind. This is why there are so many missing values. Therefore, we will not do anything to handle the missing values."
   ]
  },
  {
   "cell_type": "markdown",
   "metadata": {
    "Collapsed": "false"
   },
   "source": [
    "There are different departments in the city. List all departments and the count of employees in each department."
   ]
  },
  {
   "cell_type": "code",
   "execution_count": null,
   "metadata": {
    "Collapsed": "false"
   },
   "outputs": [],
   "source": [
    "# Your code here:\n",
    "df.groupby('Department')[['Name']].agg('count')"
   ]
  },
  {
   "cell_type": "markdown",
   "metadata": {
    "Collapsed": "false"
   },
   "source": [
    "# Challenge 2 - Hypothesis Tests\n",
    "\n",
    "In this section of the lab, we will test whether the hourly wage of all hourly workers is significantly different from $30/hr. Import the correct one sample test function from scipy and perform the hypothesis test for a 95% two sided confidence interval."
   ]
  },
  {
   "cell_type": "code",
   "execution_count": null,
   "metadata": {
    "Collapsed": "false"
   },
   "outputs": [],
   "source": [
    "# Your code here:\n",
    "# H0: the average wage of hourly employees is around $30/hr\n",
    "hourly = df[df['Salary or Hourly'].isin(['Hourly'])]['Hourly Rate']\n",
    "\n",
    "# checking the mean is 32.7\n",
    "hourly.mean()\n",
    "\n",
    "#95 confidence level, so alpha 0.05\n",
    "alpha = 0.05\n",
    "conf_level = 1 - alpha\n",
    "\n",
    "deg_freedom = len(hourly) - 1\n",
    "mean = np.mean(hourly)\n",
    "sm = sem(hourly)   #standard error mean   \n",
    "\n",
    "# Confidence interval\n",
    "t.interval(conf_level, df=deg_freedom, loc=mean, scale=sm)\n",
    "\n",
    "# with 95% confidence we can say that the hourly wage of the workers is between:\n",
    "# 32.52345834488425 and 33.05365708767623\n",
    "\n",
    "st, p = ttest_1samp(hourly, 30)\n",
    "print('Statistic:', st)\n",
    "print('The p-value is:', p)\n",
    "print('\\np is <= alpha, thus null hypothesis is rejected') if p <= alpha else print('\\np is > than alpha, thus null hypothesis can\\'t be rejected')\n",
    "\n",
    "# because the P value is so small, there is a very small probability that the true mean is 30, thus we \n",
    "# conclude that the wage differs significantly from 30, and the hyphothesis is rejected"
   ]
  },
  {
   "cell_type": "markdown",
   "metadata": {
    "Collapsed": "false"
   },
   "source": [
    "We are also curious about salaries in the police force. The chief of police in Chicago claimed in a press briefing that salaries this year are higher than last year's mean of $86000/year a year for all salaried employees. Test this one sided hypothesis using a 95% confidence interval.\n",
    "\n",
    "Hint: A one tailed test has a p-value that is half of the two tailed p-value. If our hypothesis is greater than, then to reject, the test statistic must also be positive."
   ]
  },
  {
   "cell_type": "code",
   "execution_count": null,
   "metadata": {},
   "outputs": [],
   "source": [
    "# Ho: the average year is >= 86000\n",
    "# Ha: the average year is < 86000\n",
    "\n",
    "# Your code here:\n",
    "police = df[df['Department'].isin(['POLICE'])]\n",
    "police = police[police['Salary or Hourly'].isin(['Salary'])]['Annual Salary']\n",
    "\n",
    "#95 confidence level, so alpha 0.05\n",
    "alpha = 0.05\n",
    "\n",
    "st, p = ttest_1samp(police, 86000)\n",
    "print('Statistic:', st)\n",
    "print('The p-value is:', p/2)\n",
    "\n",
    "print('\\np is <= alpha, thus null hypothesis is rejected') if p/2 <= alpha and st > 0 else print('Null hypothesis can\\'t be rejected')\n",
    "\n",
    "#current mean of 86'486.4\n",
    "#police.mean()\n",
    "#prob standard deviation is too high? of 1'8272\n",
    "#police.std()\n",
    "\n",
    "# because the P value is so small, there is a very small probability that the true mean is 86000, thus we \n",
    "# conclude that the wage differs significantly from 86000\n",
    "# but as the statistic is positive, we know that the wage we chose is too small, so the true mean for\n",
    "# this has to be higher than 86000, so here I have no idea why the hypothesis is rejected\n",
    "# title says that: \"to reject, the test statistic must also be positive\" but I think its the other way around:\n",
    "\n",
    "print('\\np is <= alpha, thus null hypothesis is rejected') if p/2 <= alpha and st < 0 else print('Null hypothesis can\\'t be rejected')\n"
   ]
  },
  {
   "cell_type": "code",
   "execution_count": null,
   "metadata": {},
   "outputs": [],
   "source": [
    "#checking interval\n",
    "deg_freedom = len(police) - 1\n",
    "mean = 86200\n",
    "sm = sem(police)   #standard error mean   \n",
    "\n",
    "# Confidence interval\n",
    "t.interval(conf_level, df=deg_freedom, loc=mean, scale=sm)\n",
    "\n",
    "#dont understand if 86000 is in the confidence interval 86000 is still incorrect?"
   ]
  },
  {
   "cell_type": "markdown",
   "metadata": {
    "Collapsed": "false"
   },
   "source": [
    "Using the `crosstab` function, find the department that has the most hourly workers. "
   ]
  },
  {
   "cell_type": "code",
   "execution_count": null,
   "metadata": {
    "Collapsed": "false"
   },
   "outputs": [],
   "source": [
    "# Your code here:\n",
    "crosshourly = df.rename(columns={'Salary or Hourly': 'Salary_or_Hourly'})\n",
    "pd.crosstab(crosshourly.Department,crosshourly.Salary_or_Hourly)['Hourly'].sort_values(ascending=False) \n",
    "# STREETS & SAN has the most hourly workers"
   ]
  },
  {
   "cell_type": "markdown",
   "metadata": {
    "Collapsed": "false"
   },
   "source": [
    "The workers from the department with the most hourly workers have complained that their hourly wage is less than $35/hour. Using a one sample t-test, test this one-sided hypothesis at the 95% confidence level."
   ]
  },
  {
   "cell_type": "code",
   "execution_count": null,
   "metadata": {
    "Collapsed": "false"
   },
   "outputs": [],
   "source": [
    "# Your code here:\n",
    "# Ho: hourly wage is >= 35/hour\n",
    "# Ha: hourly wage is < 35/hour\n",
    "# the equal should be in hypothesys 0, as I read\n",
    "# so we need to reject hypothesys 0 to agree with the workers\n",
    "\n",
    "# selecting relevant data\n",
    "streets = df[df['Department'].isin(['STREETS & SAN'])]\n",
    "streets = streets[streets['Salary or Hourly'].isin(['Hourly'])]['Hourly Rate']\n",
    "streets\n",
    "\n",
    "#current mean of 33.72\n",
    "streets.mean()\n",
    "\n",
    "#95 confidence level, so alpha 0.05\n",
    "alpha = 0.05\n",
    "\n",
    "st, p = ttest_1samp(streets, 35)\n",
    "print('Statistic:', st)\n",
    "print('The p-value is:', p/2)\n",
    "\n",
    "print('\\nNull hypothesis rejected') if p/2 <= alpha and st < 0 else print('Null hypothesis can\\'t be rejected')\n",
    "\n",
    "# p value is very small, thus 35 is very far from real mean\n",
    "# statistic is negative, which means the real mean is lower, which means the workers are right\n",
    "# the real mean is lower than 35"
   ]
  },
  {
   "cell_type": "markdown",
   "metadata": {
    "Collapsed": "false"
   },
   "source": [
    "# Challenge 3: To practice - Constructing Confidence Intervals\n",
    "\n",
    "While testing our hypothesis is a great way to gather empirical evidence for accepting or rejecting the hypothesis, another way to gather evidence is by creating a confidence interval. A confidence interval gives us information about the true mean of the population. So for a 95% confidence interval, we are 95% sure that the mean of the population is within the confidence interval. \n",
    ").\n",
    "\n",
    "To read more about confidence intervals, click [here](https://en.wikipedia.org/wiki/Confidence_interval).\n",
    "\n",
    "\n",
    "In the cell below, we will construct a 95% confidence interval for the mean hourly wage of all hourly workers. \n",
    "\n",
    "The confidence interval is computed in SciPy using the `t.interval` function. You can read more about this function [here](https://docs.scipy.org/doc/scipy-0.14.0/reference/generated/scipy.stats.t.html).\n",
    "\n",
    "To compute the confidence interval of the hourly wage, use the 0.95 for the confidence level, number of rows - 1 for degrees of freedom, the mean of the sample for the location parameter and the standard error for the scale. The standard error can be computed using [this](https://docs.scipy.org/doc/scipy/reference/generated/scipy.stats.sem.html) function in SciPy."
   ]
  },
  {
   "cell_type": "code",
   "execution_count": null,
   "metadata": {
    "Collapsed": "false"
   },
   "outputs": [],
   "source": [
    "# Your code here:\n",
    "hourly = df[df['Salary or Hourly'].isin(['Hourly'])]['Hourly Rate']\n",
    "\n",
    "#95 confidence level, so alpha 0.05\n",
    "alpha = 0.05\n",
    "conf_level = 1 - alpha\n",
    "\n",
    "deg_freedom = len(hourly) - 1\n",
    "mean = np.mean(hourly)\n",
    "sm = sem(hourly)   #standard error mean   \n",
    "\n",
    "# Confidence interval\n",
    "t.interval(conf_level, df=deg_freedom, loc=mean, scale=sm)\n",
    "\n",
    "# with 95% confidence we can say that the hourly wage of the workers is between:\n",
    "# 32.52345834488425 and 33.05365708767623\n"
   ]
  },
  {
   "cell_type": "markdown",
   "metadata": {
    "Collapsed": "false"
   },
   "source": [
    "Now construct the 95% confidence interval for all salaried employeed in the police in the cell below."
   ]
  },
  {
   "cell_type": "code",
   "execution_count": null,
   "metadata": {
    "Collapsed": "false"
   },
   "outputs": [],
   "source": [
    "# Your code here:\n",
    "salary = df[df['Salary or Hourly'].isin(['Salary'])]['Annual Salary']\n",
    "\n",
    "#95 confidence level, so alpha 0.05\n",
    "alpha = 0.05\n",
    "conf_level = 1 - alpha\n",
    "\n",
    "deg_freedom = len(salary) - 1\n",
    "mean = np.mean(salary)\n",
    "sm = sem(salary)   #standard error mean   \n",
    "\n",
    "# Confidence interval\n",
    "t.interval(conf_level, df=deg_freedom, loc=mean, scale=sm)\n",
    "\n",
    "# with 95% confidence we can say that the annual salary is between:\n",
    "# 86526.99656774187 and 87047.00301256099\n"
   ]
  },
  {
   "cell_type": "markdown",
   "metadata": {
    "Collapsed": "false"
   },
   "source": [
    "# Bonus Challenge - Hypothesis Tests of Proportions\n",
    "\n",
    "Another type of one sample test is a hypothesis test of proportions. In this test, we examine whether the proportion of a group in our sample is significantly different than a fraction. \n",
    "\n",
    "You can read more about one sample proportion tests [here](http://sphweb.bumc.bu.edu/otlt/MPH-Modules/BS/SAS/SAS6-CategoricalData/SAS6-CategoricalData2.html).\n",
    "\n",
    "In the cell below, use the `proportions_ztest` function from `statsmodels` to perform a hypothesis test that will determine whether the number of hourly workers in the City of Chicago is significantly different from 25% at the 95% confidence level."
   ]
  },
  {
   "cell_type": "code",
   "execution_count": null,
   "metadata": {
    "Collapsed": "false"
   },
   "outputs": [],
   "source": [
    "# Your code here:\n",
    "\n"
   ]
  }
 ],
 "metadata": {
  "kernelspec": {
   "display_name": "Python 3",
   "language": "python",
   "name": "python3"
  },
  "language_info": {
   "codemirror_mode": {
    "name": "ipython",
    "version": 3
   },
   "file_extension": ".py",
   "mimetype": "text/x-python",
   "name": "python",
   "nbconvert_exporter": "python",
   "pygments_lexer": "ipython3",
   "version": "3.8.1"
  }
 },
 "nbformat": 4,
 "nbformat_minor": 4
}
