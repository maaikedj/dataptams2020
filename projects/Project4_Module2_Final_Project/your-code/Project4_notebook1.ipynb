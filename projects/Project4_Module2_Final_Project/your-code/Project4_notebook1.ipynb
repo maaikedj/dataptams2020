{
 "cells": [
  {
   "cell_type": "markdown",
   "metadata": {
    "Collapsed": "false"
   },
   "source": [
    "# Project 4: Global wildlife trade\n",
    "\n",
    "Maaike de Jong\n",
    "Ironhack Data Analytics Part-time\n",
    "02 May 2020\n",
    "\n",
    "## 1. Introduction\n",
    "\n",
    "In this project I investigate the international wildlife trade, with a focus on the trade in mammals. The wildlife trade - such as trade in ivory, or pets - is the number one cause of animal extinction, together with habitat destruction caused by land development. A recent study estimates that at least 1/5th of all vertebrate species is being traded (see this [article](https://www.bbc.com/news/science-environment-49904668)). \n",
    "\n",
    "Wildlife trade has many negative effects, with the most important ones being:\n",
    "* Decline and extinction of populations\n",
    "* Introduction of invasive species\n",
    "* Spread of new diseases to humans \n",
    "\n",
    "With this project I focus on the trade in endangered mammals as listed by CITES, the Convention on International Trade in Endangered Species of Wild Fauna and Flora. In particular, I analyse trade in live mammals taken from the wild. \n",
    "\n",
    "### Project Questions\n",
    "The main research questions I will try to answer in this project are:\n",
    "* Which wild mammal groups and species are traded the most (in terms of live animals taken from the wild)?\n",
    "* What are the main purposes for trade of these animals?\n",
    "* How has the trade changed over the past two decades (2000-2018)? \n",
    "\n",
    "<a name=\"requirements\"></a>\n",
    "\n",
    "### Data  \n",
    "I'm using the [CITES trade database](https://trade.cites.org/) as source for my data. This database contains more than 20 million records of trade and is openly accessible. On the website of the database a selection of data can be made for download. Documentation from CITES on how to use the data can be found [here](https://trade.cites.org/cites_trade_guidelines/en-CITES_Trade_Database_Guide.pdf). \n",
    "I selected my data with the following parameters: \n",
    "* Year range: 2000-2019\n",
    "* Source: W - Wild\n",
    "* Exporting countries: All countries\n",
    "* Importing countries: All countries\n",
    "* Purpose: All purposes\n",
    "* Trade Terms: Liv - Live\n",
    "* Taxon: Mammalia\n",
    "\n",
    "The resulting dataset used in this jupyter notebook can be found [here](https://drive.google.com/drive/folders/1wujpJSR6rC7AMeIm_jfcjtQV3lwDohu9). \n",
    "\n",
    "### Links\n",
    "[Github repository](https://github.com/paoloironhack/dataptams2020/tree/maaike/projects/Project4_Module2_Final_Project)  \n",
    "[Presentation slides](https://drive.google.com/drive/folders/1wujpJSR6rC7AMeIm_jfcjtQV3lwDohu9)  \n",
    "[Trello board](https://trello.com/b/qdD9iGnD/project-4)  "
   ]
  },
  {
   "cell_type": "markdown",
   "metadata": {
    "Collapsed": "false"
   },
   "source": [
    "## 2. Importing packages"
   ]
  },
  {
   "cell_type": "code",
   "execution_count": null,
   "metadata": {
    "Collapsed": "false"
   },
   "outputs": [],
   "source": [
    "import numpy as np\n",
    "import pandas as pd\n",
    "import seaborn as sns\n",
    "import matplotlib.pyplot as plt"
   ]
  },
  {
   "cell_type": "markdown",
   "metadata": {
    "Collapsed": "false"
   },
   "source": [
    "## 3. Inspecting and cleaning the data"
   ]
  },
  {
   "cell_type": "code",
   "execution_count": null,
   "metadata": {
    "Collapsed": "false"
   },
   "outputs": [],
   "source": [
    "# importing the data\n",
    "\n",
    "df = pd.read_csv('../data/mammals_wild_live_00_19.csv')\n",
    "df.head()"
   ]
  },
  {
   "cell_type": "code",
   "execution_count": null,
   "metadata": {
    "Collapsed": "false"
   },
   "outputs": [],
   "source": [
    "# Inspect dataframe attributes\n",
    "\n",
    "df.info()"
   ]
  },
  {
   "cell_type": "code",
   "execution_count": null,
   "metadata": {
    "Collapsed": "false"
   },
   "outputs": [],
   "source": [
    "# Inspect missing data\n",
    "\n",
    "df.isnull().sum()"
   ]
  },
  {
   "cell_type": "code",
   "execution_count": null,
   "metadata": {
    "Collapsed": "false"
   },
   "outputs": [],
   "source": [
    "# inspect column 'Year'\n",
    "\n",
    "df['Year'].value_counts()"
   ]
  },
  {
   "cell_type": "code",
   "execution_count": null,
   "metadata": {
    "Collapsed": "false"
   },
   "outputs": [],
   "source": [
    "# exclude 2019 because there are few records, data for this year is not complete\n",
    "\n",
    "df1 = df[df['Year'] != 2019]"
   ]
  },
  {
   "cell_type": "code",
   "execution_count": null,
   "metadata": {
    "Collapsed": "false"
   },
   "outputs": [],
   "source": [
    "# inspect column 'App.', this is info on which Appendix the species are listed\n",
    "\n",
    "df1['App.'].value_counts()"
   ]
  },
  {
   "cell_type": "code",
   "execution_count": null,
   "metadata": {
    "Collapsed": "false"
   },
   "outputs": [],
   "source": [
    "# inspect column 'Order'\n",
    "\n",
    "df1['Order'].value_counts()"
   ]
  },
  {
   "cell_type": "code",
   "execution_count": null,
   "metadata": {
    "Collapsed": "false"
   },
   "outputs": [],
   "source": [
    "# inspect column 'Term', this should be all live\n",
    "\n",
    "df1['Term'].value_counts()"
   ]
  },
  {
   "cell_type": "code",
   "execution_count": null,
   "metadata": {
    "Collapsed": "false"
   },
   "outputs": [],
   "source": [
    "# inspect column 'Purpose'\n",
    "\n",
    "df1['Purpose'].value_counts()\n",
    "\n",
    "# These letters are codes for the purpose of the traded animals"
   ]
  },
  {
   "cell_type": "code",
   "execution_count": null,
   "metadata": {
    "Collapsed": "false"
   },
   "outputs": [],
   "source": [
    "# inspect column 'Purpose'\n",
    "\n",
    "df1['Source'].value_counts()\n",
    "\n",
    "# 'W' means wild, 'U' means source unknown. So I'm removing the records with an unknown source"
   ]
  },
  {
   "cell_type": "code",
   "execution_count": null,
   "metadata": {
    "Collapsed": "false"
   },
   "outputs": [],
   "source": [
    "df2 = df1[df1['Source'] == 'W']"
   ]
  },
  {
   "cell_type": "code",
   "execution_count": null,
   "metadata": {
    "Collapsed": "false"
   },
   "outputs": [],
   "source": [
    "df2.head()"
   ]
  },
  {
   "cell_type": "code",
   "execution_count": null,
   "metadata": {
    "Collapsed": "false"
   },
   "outputs": [],
   "source": [
    "# add a column with English names of the Order\n",
    "\n",
    "df2.loc[df['Order'] == 'Primates','Animal order'] = 'Primates'\n",
    "df2.loc[df['Order'] == 'Carnivora','Animal order'] = 'Carnivores'\n",
    "df2.loc[df['Order'] == 'Cetacea','Animal order'] = 'Whales and Dolphins'\n",
    "df2.loc[df['Order'] == 'Proboscidea','Animal order'] = 'Elephants'\n",
    "df2.loc[df['Order'] == 'Artiodactyla','Animal order'] = 'Even-toed Ungulates'\n",
    "df2.loc[df['Order'] == 'Perissodactyla','Animal order'] = 'Odd-toed Ungulates'\n",
    "df2.loc[df['Order'] == 'Chiroptera','Animal order'] = 'Bats'\n",
    "df2.loc[df['Order'] == 'Pilosa','Animal order'] = 'Sloths and Anteaters'\n",
    "df2.loc[df['Order'] == 'Pholidota','Animal order'] = 'Pangolins'\n",
    "df2.loc[df['Order'] == 'Sirenia','Animal order'] = 'Sea-cows'\n",
    "df2.loc[df['Order'] == 'Scandentia','Animal order'] = 'Treeshrews'\n",
    "df2.loc[df['Order'] == 'Diprotodontia','Animal order'] = 'Marsupials'\n",
    "df2.loc[df['Order'] == 'Cingulata','Animal order'] = 'Armadillos'\n",
    "\n",
    "df2['Animal order'].value_counts()"
   ]
  },
  {
   "cell_type": "code",
   "execution_count": null,
   "metadata": {
    "Collapsed": "false"
   },
   "outputs": [],
   "source": [
    "# Create new column with Purpose descriptions based on 1 letter codes in 'Purpose' column (see CITES documentation)\n",
    "# first rename original purpose column\n",
    "\n",
    "df2.rename(columns={'Purpose': 'Purpose_code'}, inplace = True)\n",
    "df2.head()"
   ]
  },
  {
   "cell_type": "code",
   "execution_count": null,
   "metadata": {
    "Collapsed": "false"
   },
   "outputs": [],
   "source": [
    "# then, create new column 'Purpose'\n",
    "df2['Purpose'] = df2['Purpose_code']\n",
    "df2 = df2.replace({'Purpose': {'B': 'Captive breeding', 'E': 'Educational', 'G': 'Botanical Garden', 'H': 'Hunting trophy', 'L': 'Forensic', 'M': 'Medical', 'N': 'Reintroduction', 'P': 'Personal', 'Q': 'Circus', 'S': 'Scientific', 'T': 'Commercial', 'Z': 'Zoo'}})\n"
   ]
  },
  {
   "cell_type": "code",
   "execution_count": null,
   "metadata": {
    "Collapsed": "false"
   },
   "outputs": [],
   "source": [
    "df2['Purpose'].value_counts()"
   ]
  },
  {
   "cell_type": "code",
   "execution_count": null,
   "metadata": {
    "Collapsed": "false"
   },
   "outputs": [],
   "source": [
    "df2.head()"
   ]
  },
  {
   "cell_type": "code",
   "execution_count": null,
   "metadata": {
    "Collapsed": "false"
   },
   "outputs": [],
   "source": [
    "# create single column with quantities of traded animals\n",
    "\n",
    "df2['Quantity'] = ''"
   ]
  },
  {
   "cell_type": "code",
   "execution_count": null,
   "metadata": {
    "Collapsed": "false"
   },
   "outputs": [],
   "source": [
    "df2.head()"
   ]
  },
  {
   "cell_type": "code",
   "execution_count": null,
   "metadata": {
    "Collapsed": "false"
   },
   "outputs": [],
   "source": [
    "# create single column with quantities of traded animals.\n",
    "# in case both imported and exported numbers are reported, take imported numbers\n",
    "\n",
    "df2.loc[df2['Importer reported quantity'] != 'NaN', 'Quantity'] = df2['Importer reported quantity']\n",
    "df2['Quantity'].fillna(0, inplace=True)\n",
    "df2.loc[df2['Quantity'] == 0, 'Quantity'] = df2['Exporter reported quantity']\n",
    "\n",
    "df2.head(10)"
   ]
  },
  {
   "cell_type": "markdown",
   "metadata": {
    "Collapsed": "false"
   },
   "source": [
    "## 4. Data analysis and visualization"
   ]
  },
  {
   "cell_type": "markdown",
   "metadata": {
    "Collapsed": "false"
   },
   "source": [
    "### 4.1. Mammals in general: trade over time and trading purposes\n",
    "\n",
    "I start with an overview of all mammals grouped together. First plotting the total number of mammals traded over time."
   ]
  },
  {
   "cell_type": "code",
   "execution_count": null,
   "metadata": {
    "Collapsed": "false"
   },
   "outputs": [],
   "source": [
    "# First, create df for total number of traded mammals per year\n",
    "trades_year = df2.groupby('Year').agg({'Quantity': 'sum'}).reset_index()\n",
    "trades_year.head()"
   ]
  },
  {
   "cell_type": "code",
   "execution_count": null,
   "metadata": {
    "Collapsed": "false"
   },
   "outputs": [],
   "source": [
    "# Plot this in a line area chart\n",
    "\n",
    "sns.set()\n",
    "sns.set_style('white')\n",
    "\n",
    "f, ax = plt.subplots(figsize=(20, 12))\n",
    "sns.set_color_codes('pastel')\n",
    "\n",
    "plt.fill_between(trades_year['Year'], trades_year['Quantity'], color=\"g\", alpha=0.4)\n",
    "plt.plot(trades_year['Year'], trades_year['Quantity'], color=\"green\", alpha=0.6)\n",
    "\n",
    "ax.set_xticks(range(2000, 2020, 2))\n",
    "\n",
    "ax.tick_params(axis='both', which='major', labelsize=26) \n",
    "ax.tick_params(axis='both', which='minor', labelsize=26)\n",
    "\n",
    "plt.xlabel('Year', fontsize=30)\n",
    "plt.ylabel('Number of traded animals', fontsize=30)\n",
    "plt.suptitle('Traded live wild mammals 2000-2020', fontsize=36)\n",
    "\n",
    "sns.despine()\n",
    "\n",
    "plt.show()"
   ]
  },
  {
   "cell_type": "markdown",
   "metadata": {
    "Collapsed": "false"
   },
   "source": [
    "This figure shows that overall trade in wild live mammals is lower in the current decade compared to the previous one. Next, I'll look at the distribution of trading purpose for all the mammals."
   ]
  },
  {
   "cell_type": "code",
   "execution_count": null,
   "metadata": {
    "Collapsed": "false"
   },
   "outputs": [],
   "source": [
    "# create dataframe with overall purpose counts and percentages\n",
    "\n",
    "df_purpose = df2.groupby('Purpose', as_index = False).agg({'Quantity': 'sum'}).sort_values(by = 'Quantity', ascending = False).reset_index(drop = True)\n",
    "df_purpose"
   ]
  },
  {
   "cell_type": "code",
   "execution_count": null,
   "metadata": {
    "Collapsed": "false"
   },
   "outputs": [],
   "source": [
    "# visualise overall purpose with bar chart\n",
    "\n",
    "sns.set()\n",
    "sns.set_style('white')\n",
    "\n",
    "f, ax = plt.subplots(figsize=(20, 12))\n",
    "\n",
    "sns.set_color_codes('pastel')\n",
    "sns.barplot(x='Purpose', y= 'Quantity', data= df_purpose,\n",
    "            label= 'Purpose', color=\"g\")\n",
    "\n",
    "ax.set_xticklabels(df_purpose['Purpose'], rotation=40, ha='right')\n",
    "\n",
    "ax.tick_params(axis='both', which='major', labelsize=26) \n",
    "ax.tick_params(axis='both', which='minor', labelsize=26)\n",
    "\n",
    "plt.xlabel('Purpose', fontsize=30)\n",
    "plt.ylabel('Number of traded animals', fontsize=30)\n",
    "plt.suptitle('Total live wild animals per trading purpose', fontsize=36)\n",
    "\n",
    "sns.despine()"
   ]
  },
  {
   "cell_type": "markdown",
   "metadata": {
    "Collapsed": "false"
   },
   "source": [
    "This figure shows that Commercial trades are by far the most common for this group of animals. After commercial, scientific, medical, captive breeding, and zoo are also important purposes.\n",
    "\n",
    "Next, let's look at the different main mammal groups (at the Order level) that are being traded."
   ]
  },
  {
   "cell_type": "code",
   "execution_count": null,
   "metadata": {
    "Collapsed": "false"
   },
   "outputs": [],
   "source": [
    "# create dataframe with total number of traded animals per animal group (order)\n",
    "\n",
    "order_trades2 = df2.groupby('Animal order', as_index = False).agg({'Quantity': 'sum'}).sort_values(by = 'Quantity', ascending = False).reset_index(drop = True)\n",
    "order_trades2.head()"
   ]
  },
  {
   "cell_type": "code",
   "execution_count": null,
   "metadata": {
    "Collapsed": "false"
   },
   "outputs": [],
   "source": [
    "sns.set()\n",
    "sns.set_style('white')\n",
    "\n",
    "f, ax = plt.subplots(figsize=(20, 12))\n",
    "\n",
    "sns.set_color_codes('pastel')\n",
    "sns.barplot(x='Animal order', y= 'Quantity', data= order_trades2,\n",
    "            label= 'Mammal group', color=\"g\")\n",
    "\n",
    "ax.set_xticklabels(order_trades2['Animal order'], rotation=40, ha='right')#, fontsize = 14)\n",
    "\n",
    "ax.tick_params(axis='both', which='major', labelsize=26) \n",
    "ax.tick_params(axis='both', which='minor', labelsize=26)\n",
    "\n",
    "plt.xlabel('Mammal order', fontsize=30)\n",
    "plt.ylabel('Number of traded animals', fontsize=30)\n",
    "plt.suptitle('Total traded live wild animals per mammal order', fontsize=36)\n",
    "\n",
    "sns.despine()\n"
   ]
  },
  {
   "cell_type": "markdown",
   "metadata": {
    "Collapsed": "false"
   },
   "source": [
    "By far, the most traded group are the Primates. To further investigate trade in the main mammal groups, I'll plot them over time. "
   ]
  },
  {
   "cell_type": "code",
   "execution_count": null,
   "metadata": {
    "Collapsed": "false"
   },
   "outputs": [],
   "source": [
    "# create dataframe with total number of shipped animals per year per animal group (order)\n",
    "\n",
    "year_order_trades = df2.groupby(['Year', 'Animal order'], as_index = False).agg({'Quantity': 'sum'})\n",
    "year_order_trades.head()"
   ]
  },
  {
   "cell_type": "code",
   "execution_count": null,
   "metadata": {
    "Collapsed": "false"
   },
   "outputs": [],
   "source": [
    "#plot total number of shipped animals per year per animal group (order)\n",
    "\n",
    "f, ax = plt.subplots(figsize=(20, 12))\n",
    "\n",
    "sns.lineplot(x = 'Year', y = 'Quantity', hue = 'Animal order', data = year_order_trades, linewidth=2.5)\n",
    "\n",
    "ax.tick_params(axis='both', which='major', labelsize=26) \n",
    "ax.tick_params(axis='both', which='minor', labelsize=26)\n",
    "ax.set_xticks(range(2000, 2020, 2))\n",
    "\n",
    "ax.legend(loc=\"upper right\", frameon=True, fontsize = 20)\n",
    "\n",
    "plt.xlabel('Year', fontsize=30)\n",
    "plt.ylabel('Number of traded animals', fontsize=30)\n",
    "plt.suptitle('Total traded live wild animals per mammal order 2000-2018', fontsize=36)\n",
    "\n",
    "sns.despine()\n"
   ]
  },
  {
   "cell_type": "markdown",
   "metadata": {
    "Collapsed": "false"
   },
   "source": [
    "This shows again that the Primates are the most important traded mammal order and that their trade has declined considerably compared to the previous decade. In the next section I'll look into Primates in more detail. "
   ]
  },
  {
   "cell_type": "markdown",
   "metadata": {
    "Collapsed": "false"
   },
   "source": [
    "### 4.2. Primates"
   ]
  },
  {
   "cell_type": "code",
   "execution_count": null,
   "metadata": {
    "Collapsed": "false"
   },
   "outputs": [],
   "source": [
    "# create dataframe with numbers just for primates and years\n",
    "df_primates = df2[df2['Animal order'] == 'Primates']\n",
    "year_primates = df_primates.groupby('Year', as_index = False).agg({'Quantity': 'sum'})\n",
    "year_primates.head()"
   ]
  },
  {
   "cell_type": "code",
   "execution_count": null,
   "metadata": {
    "Collapsed": "false"
   },
   "outputs": [],
   "source": [
    "# Create area line chart for primates over time\n",
    "f, ax = plt.subplots(figsize=(20, 12))\n",
    "sns.set_color_codes('pastel')\n",
    "\n",
    "plt.fill_between(year_primates['Year'], year_primates['Quantity'], color=\"skyblue\", alpha=0.4)\n",
    "plt.plot(year_primates['Year'], year_primates['Quantity'], color=\"darkcyan\", alpha=0.6)\n",
    "\n",
    "ax.set_xticks(range(2000, 2020, 2))\n",
    "\n",
    "ax.tick_params(axis='both', which='major', labelsize=26) \n",
    "ax.tick_params(axis='both', which='minor', labelsize=26)\n",
    "\n",
    "plt.xlabel('Year', fontsize=30)\n",
    "plt.ylabel('Number of traded primates', fontsize=30)\n",
    "plt.suptitle('Traded live wild primates per year', fontsize=36)\n",
    "\n",
    "sns.despine()\n",
    "\n",
    "plt.show()\n"
   ]
  },
  {
   "cell_type": "markdown",
   "metadata": {
    "Collapsed": "false"
   },
   "source": [
    "The primate trade over time has more or less the same shape as the total mammal trade over time as the primates represent such a large proportion of the data.\n",
    "Next, I look into the different Primate families in more detail. "
   ]
  },
  {
   "cell_type": "code",
   "execution_count": null,
   "metadata": {
    "Collapsed": "false"
   },
   "outputs": [],
   "source": [
    "# look into the different kinds of primates and their trade over time\n",
    "# make a dataframe and line chart with the different kinds\n",
    "\n",
    "# First, inspect how many traded primate families there are\n",
    "primate_family_counts = df_primates.groupby(['Family'], as_index = False).agg({'Quantity': 'sum'}).sort_values(by = 'Quantity', ascending = False)\n",
    "\n",
    "# Add column with percentages of total\n",
    "primate_family_counts['Percentage'] = (primate_family_counts['Quantity'] / primate_family_counts['Quantity'].sum()) *100\n",
    "primate_family_counts.head()\n"
   ]
  },
  {
   "cell_type": "code",
   "execution_count": null,
   "metadata": {
    "Collapsed": "false"
   },
   "outputs": [],
   "source": [
    "# visualise the overall numbers of traded primates per family in a bar chart\n",
    "\n",
    "sns.set()\n",
    "sns.set_style('white')\n",
    "\n",
    "f, ax = plt.subplots(figsize=(20, 12))\n",
    "\n",
    "sns.set_color_codes('pastel')\n",
    "sns.barplot(x='Family', y= 'Quantity', data= primate_family_counts,\n",
    "            label= 'Family', color=\"skyblue\", alpha=0.6)\n",
    "\n",
    "ax.set_xticklabels(primate_family_counts['Family'], rotation=40, ha='right')\n",
    "\n",
    "ax.tick_params(axis='both', which='major', labelsize=26) \n",
    "ax.tick_params(axis='both', which='minor', labelsize=26)\n",
    "\n",
    "plt.xlabel('Primate Family', fontsize=32)\n",
    "plt.ylabel('Number of traded animals', fontsize=32)\n",
    "plt.suptitle('Total traded live wild primates per family', fontsize=36)\n",
    "\n",
    "sns.despine()"
   ]
  },
  {
   "cell_type": "markdown",
   "metadata": {
    "Collapsed": "false"
   },
   "source": [
    "From this figure it becomes clear that the Old-World Monkeys (Cercopithecidae) and the New-World Monkeys (Cebidae) are the biggest group, they make up nearly 98% of the traded livec wild primates. What are the most traded species in these families?"
   ]
  },
  {
   "cell_type": "code",
   "execution_count": null,
   "metadata": {
    "Collapsed": "false"
   },
   "outputs": [],
   "source": [
    "# df for cercopithecidae\n",
    "cerco = df2[df2['Family'] == 'Cercopithecidae']\n",
    "\n",
    "cerco_taxon_counts = cerco.groupby(['Taxon'], as_index = False).agg({'Quantity': 'sum'}).sort_values(by = 'Quantity', ascending = False).reset_index(drop = True)\n",
    "\n",
    "# Add column with percentages of total\n",
    "cerco_taxon_counts['Percentage'] = (cerco_taxon_counts['Quantity'] / cerco_taxon_counts['Quantity'].sum()) *100\n",
    "cerco_taxon_counts.head()"
   ]
  },
  {
   "cell_type": "markdown",
   "metadata": {
    "Collapsed": "false"
   },
   "source": [
    "The crab-eating maqaque (Macaca fascicularis) is the most traded primate in this family (60%). According to google many of these monkeys are traded for commercial research and end up in labs as testing animals. Second is the Grivet monkey (23%). \n",
    "\n",
    "Next, I'm looking at how the trading purpose changes over time for the primates."
   ]
  },
  {
   "cell_type": "code",
   "execution_count": null,
   "metadata": {
    "Collapsed": "false"
   },
   "outputs": [],
   "source": [
    "# create dataframe with total number of shipped animals per year per purpose\n",
    "\n",
    "primates_year_purpose = df_primates.groupby(['Year', 'Purpose'], as_index = False).agg({'Quantity': 'sum'})\n",
    "primates_year_purpose.head()"
   ]
  },
  {
   "cell_type": "code",
   "execution_count": null,
   "metadata": {
    "Collapsed": "false"
   },
   "outputs": [],
   "source": [
    "#plot total number of shipped primates per year per purpose\n",
    "\n",
    "f, ax = plt.subplots(figsize=(20, 12))\n",
    "\n",
    "sns.lineplot(x = 'Year', y = 'Quantity', hue = 'Purpose', data = primates_year_purpose, linewidth=2.5)\n",
    "\n",
    "ax.tick_params(axis='both', which='major', labelsize=26) \n",
    "ax.tick_params(axis='both', which='minor', labelsize=26)\n",
    "ax.set_xticks(range(2000, 2020, 2))\n",
    "\n",
    "ax.legend(loc=\"upper right\", frameon=True, fontsize = 20)\n",
    "\n",
    "plt.xlabel('Year', fontsize=32)\n",
    "plt.ylabel('Number of traded animals', fontsize=32)\n",
    "plt.suptitle('Total traded live wild primates per purpose', fontsize=36)\n",
    "\n",
    "sns.despine()\n"
   ]
  },
  {
   "cell_type": "markdown",
   "metadata": {
    "Collapsed": "false"
   },
   "source": [
    "This figure shows that commercial trade of primates is the main purpose, and its decline compared to the previous decade seems to be the main cause of the general decline in Primate (and mammal) trade. Also the trade for the purpose of scientific research was considerably higher in the past decade, as was the medical purpose. Captive breeding had a short peak in 2004, probably due to a specific large breeding programme."
   ]
  },
  {
   "cell_type": "markdown",
   "metadata": {
    "Collapsed": "false"
   },
   "source": [
    "### 4.3. Other mammal groups\n",
    "\n",
    "Apart from the primates, which other mammal groups are traded often? I'm creating a facet grid plot to visually compare the trade in different groups over time."
   ]
  },
  {
   "cell_type": "code",
   "execution_count": null,
   "metadata": {
    "Collapsed": "false"
   },
   "outputs": [],
   "source": [
    "# Create overview for different mammal groups over time\n",
    "\n",
    "# create dataframe with total number of shipped animals per year per animal group (order)\n",
    "order_year_trades = df2.groupby(['Animal order', 'Year'], as_index = False).agg({'Quantity': 'sum'})\n",
    "\n",
    "# and one without the Primates\n",
    "order_year_trades_noPrimates = order_year_trades[order_year_trades['Animal order'] != 'Primates']\n",
    "order_year_trades_noPrimates['Animal order'].value_counts()\n"
   ]
  },
  {
   "cell_type": "code",
   "execution_count": null,
   "metadata": {
    "Collapsed": "false"
   },
   "outputs": [],
   "source": [
    "# visualizing the Order data over time without the primates with a facetgrid in seaborn\n",
    "\n",
    "g = sns.FacetGrid(order_year_trades_noPrimates, col='Animal order', hue='Animal order', col_wrap=4, )\n",
    "\n",
    "g = g.map(plt.plot, 'Year', 'Quantity')\n",
    "\n",
    "g = g.map(plt.fill_between, 'Year', 'Quantity', alpha=0.2).set_titles(\"{col_name} Animal order\")\n",
    "\n",
    "g = g.set_titles(\"{col_name}\")\n",
    "\n",
    "plt.subplots_adjust(top=0.92)\n",
    "g = g.fig.suptitle('Traded number of wild animals per mammal group 2000-2018')\n",
    " \n",
    "plt.show()\n"
   ]
  },
  {
   "cell_type": "markdown",
   "metadata": {
    "Collapsed": "false"
   },
   "source": [
    "After the Primates, the most traded mammal groups are the Carnivores and the Even-toed Ungulates. It looks like the trade in Carnivores in going up in recent years. What is happening there in terms of species and purpose? Let's zoom in. "
   ]
  },
  {
   "cell_type": "markdown",
   "metadata": {
    "Collapsed": "false"
   },
   "source": [
    "### 4.4. Carnivores\n",
    "\n",
    "First, I'll plot the trade over time for the carnivores in general."
   ]
  },
  {
   "cell_type": "code",
   "execution_count": null,
   "metadata": {
    "Collapsed": "false"
   },
   "outputs": [],
   "source": [
    "# create dataframe with numbers just for carnivores and years\n",
    "df_carnivores = df2[df2['Animal order'] == 'Carnivores']\n",
    "year_carnivores = df_carnivores.groupby('Year', as_index = False).agg({'Quantity': 'sum'})\n",
    "year_carnivores.head()"
   ]
  },
  {
   "cell_type": "code",
   "execution_count": null,
   "metadata": {
    "Collapsed": "false"
   },
   "outputs": [],
   "source": [
    "# Create area line chart for carnivores over time\n",
    "f, ax = plt.subplots(figsize=(20, 12))\n",
    "sns.set_color_codes('pastel')\n",
    "\n",
    "plt.fill_between(year_carnivores['Year'], year_carnivores['Quantity'], color=\"lightsalmon\", alpha=0.2)\n",
    "plt.plot(year_carnivores['Year'], year_carnivores['Quantity'], color=\"lightsalmon\", alpha=0.8)\n",
    "\n",
    "ax.set_xticks(range(2000, 2020, 2))\n",
    "\n",
    "ax.tick_params(axis='both', which='major', labelsize=26) \n",
    "ax.tick_params(axis='both', which='minor', labelsize=26)\n",
    "\n",
    "plt.xlabel('Year', fontsize=32)\n",
    "plt.ylabel('Number of traded carnivores', fontsize=32)\n",
    "plt.suptitle('Traded live wild carnivores per year', fontsize=36)\n",
    "\n",
    "sns.despine()\n",
    "\n",
    "plt.show()\n"
   ]
  },
  {
   "cell_type": "markdown",
   "metadata": {
    "Collapsed": "false"
   },
   "source": [
    "Next, I'll look into the different families of carnivores and how they compare in trade numbers. "
   ]
  },
  {
   "cell_type": "code",
   "execution_count": null,
   "metadata": {
    "Collapsed": "false"
   },
   "outputs": [],
   "source": [
    "# make a dataframe and line chart with the different kinds\n",
    "\n",
    "# First, inspect how many traded carnivore families there are\n",
    "carnivore_family_counts = df_carnivores.groupby(['Family'], as_index = False).agg({'Quantity': 'sum'}).sort_values(by = 'Quantity', ascending = False).reset_index(drop = True)\n",
    "\n",
    "# Add column with percentages of total\n",
    "carnivore_family_counts['Percentage'] = (carnivore_family_counts['Quantity'] / carnivore_family_counts['Quantity'].sum()) *100\n",
    "carnivore_family_counts\n",
    "\n",
    "# There are several Families that are traded a lot. How do their trade patterns look over time?\n"
   ]
  },
  {
   "cell_type": "code",
   "execution_count": null,
   "metadata": {
    "Collapsed": "false"
   },
   "outputs": [],
   "source": [
    "# visualise the overall numbers of traded carnivores per family in a bar chart\n",
    "\n",
    "sns.set()\n",
    "sns.set_style('white')\n",
    "\n",
    "f, ax = plt.subplots(figsize=(20, 12))\n",
    "\n",
    "sns.set_color_codes('pastel')\n",
    "sns.barplot(x='Family', y= 'Quantity', data= carnivore_family_counts,\n",
    "            label= 'Family', color=\"lightsalmon\", alpha=0.6)\n",
    "\n",
    "ax.set_xticklabels(carnivore_family_counts['Family'], rotation=40, ha='right')\n",
    "\n",
    "ax.tick_params(axis='both', which='major', labelsize=26) \n",
    "ax.tick_params(axis='both', which='minor', labelsize=26)\n",
    "\n",
    "plt.xlabel('Carnivore Family', fontsize=32)\n",
    "plt.ylabel('Number of traded animals', fontsize=32)\n",
    "plt.suptitle('Total live wild carnivores per family', fontsize=36)\n",
    "\n",
    "sns.despine()"
   ]
  },
  {
   "cell_type": "markdown",
   "metadata": {
    "Collapsed": "false"
   },
   "source": [
    "This figure shows that the Canids (wild dogs, wolves etc) are traded most, but the Otariidae (seals), the Felidae (cats) and the Procyonidae (Raccoons, Coatis etc) are also traded a lot. \n",
    "\n",
    "Next, I visualise the trade of the different carnivore families over time, again with a facetgrid for easy visual comparison"
   ]
  },
  {
   "cell_type": "code",
   "execution_count": null,
   "metadata": {
    "Collapsed": "false"
   },
   "outputs": [],
   "source": [
    "# Create df for different families of Carnivores over time\n",
    "\n",
    "year_carnivores_family = df_carnivores.groupby(['Year', 'Family'], as_index = False).agg({'Quantity': 'sum'})\n",
    "year_carnivores_family.head()"
   ]
  },
  {
   "cell_type": "code",
   "execution_count": null,
   "metadata": {
    "Collapsed": "false"
   },
   "outputs": [],
   "source": [
    "# #plot total number of shipped carnivores per year per family in a seaborn facetgrid\n",
    "\n",
    "g = sns.FacetGrid(year_carnivores_family, col='Family', hue='Family', col_wrap=4, )\n",
    "\n",
    "g = g.map(plt.plot, 'Year', 'Quantity')\n",
    "\n",
    "g = g.map(plt.fill_between, 'Year', 'Quantity', alpha=0.2).set_titles(\"{col_name} Family\")\n",
    "\n",
    "g = g.set_titles(\"{col_name}\")\n",
    "\n",
    "plt.subplots_adjust(top=0.92)\n",
    "g = g.fig.suptitle('Traded number of live wild carnivores per family 2000-2018')\n",
    " \n",
    "plt.show()"
   ]
  },
  {
   "cell_type": "markdown",
   "metadata": {
    "Collapsed": "false"
   },
   "source": [
    "This shows that for the Canids and for the Seals the numbers are going up in recent years. Which species of these groups are traded most? "
   ]
  },
  {
   "cell_type": "code",
   "execution_count": null,
   "metadata": {
    "Collapsed": "false"
   },
   "outputs": [],
   "source": [
    "# create df for the Canidae\n",
    "\n",
    "canidae = df2[df2['Family'] == 'Canidae']\n",
    "\n",
    "canidae_taxon_counts = canidae.groupby(['Taxon'], as_index = False).agg({'Quantity': 'sum'}).sort_values(by = 'Quantity', ascending = False).reset_index(drop = True)\n",
    "\n",
    "# Add column with percentages of total\n",
    "canidae_taxon_counts['Percentage'] = (canidae_taxon_counts['Quantity'] / canidae_taxon_counts['Quantity'].sum()) *100\n",
    "canidae_taxon_counts.head()"
   ]
  },
  {
   "cell_type": "code",
   "execution_count": null,
   "metadata": {
    "Collapsed": "false"
   },
   "outputs": [],
   "source": [
    "# Same for the Otariidae\n",
    "\n",
    "otariidae = df2[df2['Family'] == 'Otariidae']\n",
    "\n",
    "otariidae_taxon_counts = otariidae.groupby(['Taxon'], as_index = False).agg({'Quantity': 'sum'}).sort_values(by = 'Quantity', ascending = False).reset_index(drop = True)\n",
    "\n",
    "# Add column with percentages of total\n",
    "otariidae_taxon_counts['Percentage'] = (otariidae_taxon_counts['Quantity'] / otariidae_taxon_counts['Quantity'].sum()) *100\n",
    "otariidae_taxon_counts.head()\n"
   ]
  },
  {
   "cell_type": "code",
   "execution_count": null,
   "metadata": {
    "Collapsed": "false"
   },
   "outputs": [],
   "source": [
    "# Also let's look at Felidae\n",
    "\n",
    "felidae = df2[df2['Family'] == 'Felidae']\n",
    "\n",
    "felidae_taxon_counts = felidae.groupby(['Taxon'], as_index = False).agg({'Quantity': 'sum'}).sort_values(by = 'Quantity', ascending = False).reset_index(drop = True)\n",
    "\n",
    "# Add column with percentages of total\n",
    "felidae_taxon_counts['Percentage'] = (felidae_taxon_counts['Quantity'] / felidae_taxon_counts['Quantity'].sum()) *100\n",
    "felidae_taxon_counts.head()"
   ]
  },
  {
   "cell_type": "markdown",
   "metadata": {
    "Collapsed": "false"
   },
   "source": [
    "Canidae: The fennec fox is by far the most traded canid (87%), followed by the pampas fox and the wolf. Fennec foxes are popular as pets and are also used for their fur in North Africa.\n",
    "\n",
    "For the Otariidea, the top two species account for more than 99% of the trade, these are both species of fur seal. \n",
    "\n",
    "For the cats, servals are the most traded with 24%, followed by Canada Lynx (17%) and Lion (16%)\n",
    "\n",
    "Next, I'll look at how the trading purpose of the carnivores looks over time."
   ]
  },
  {
   "cell_type": "code",
   "execution_count": null,
   "metadata": {
    "Collapsed": "false"
   },
   "outputs": [],
   "source": [
    "# create dataframe with total number of shipped animals per year per purpose\n",
    "\n",
    "carnivores_year_purpose = df_carnivores.groupby(['Year', 'Purpose'], as_index = False).agg({'Quantity': 'sum'})\n",
    "carnivores_year_purpose.head()"
   ]
  },
  {
   "cell_type": "code",
   "execution_count": null,
   "metadata": {
    "Collapsed": "false"
   },
   "outputs": [],
   "source": [
    "#plot total number of shipped carnivores per year per purpose\n",
    "\n",
    "f, ax = plt.subplots(figsize=(20, 12))\n",
    "\n",
    "sns.lineplot(x = 'Year', y = 'Quantity', hue = 'Purpose', data = carnivores_year_purpose, linewidth=2.5)\n",
    "\n",
    "ax.tick_params(axis='both', which='major', labelsize=26) \n",
    "ax.tick_params(axis='both', which='minor', labelsize=26)\n",
    "ax.set_xticks(range(2000, 2020, 2))\n",
    "\n",
    "ax.legend(loc=\"upper left\", frameon=True, fontsize = 20)\n",
    "\n",
    "plt.xlabel('Year', fontsize=32)\n",
    "plt.ylabel('Number of traded animals', fontsize=32)\n",
    "plt.suptitle('Total traded live wild carnivores per purpose', fontsize=36)\n",
    "\n",
    "sns.despine()\n"
   ]
  },
  {
   "cell_type": "markdown",
   "metadata": {
    "Collapsed": "false"
   },
   "source": [
    "The increase in trade in the Canidea in recents year is clearly due to a spike in commercial trade. "
   ]
  },
  {
   "cell_type": "markdown",
   "metadata": {
    "Collapsed": "false"
   },
   "source": [
    "### 5. Conclusions and next steps\n",
    "\n",
    "The main conclusions of this project, in answer to the research questions, are:\n",
    "* Primates are the most traded group, followed by the carnivores\n",
    "* The most common trade purpose is commercial, including for animal testing, pet trade, and fur\n",
    "* Overall trade is down from last decade but some groups are going up in recent years\n",
    "\n",
    "As a next step I'd like to visualize trade between countries with maps, and identify the biggest importers and exporters"
   ]
  },
  {
   "cell_type": "markdown",
   "metadata": {
    "Collapsed": "false"
   },
   "source": [
    "## Feedback Paolo"
   ]
  },
  {
   "cell_type": "markdown",
   "metadata": {
    "Collapsed": "false"
   },
   "source": [
    "Maaike, great notebook with clear intro, comments and conclusions. The notebook runs, the data are easily retrievable. I like the visualizations, they are minimalistic but very powerful. I can follow the story by just looking at the plots.\n",
    "The only suggestion I have is that sometimes I see a problem of different scales, so that when you plot multiple lines on the same plot the difference of values makes some trends different to see as they are flattened. You could try to experiment with two different scales for y, one on the left side and the other one on the right side of the plot."
   ]
  }
 ],
 "metadata": {
  "kernelspec": {
   "display_name": "Python 3",
   "language": "python",
   "name": "python3"
  },
  "language_info": {
   "codemirror_mode": {
    "name": "ipython",
    "version": 3
   },
   "file_extension": ".py",
   "mimetype": "text/x-python",
   "name": "python",
   "nbconvert_exporter": "python",
   "pygments_lexer": "ipython3",
   "version": "3.7.6"
  }
 },
 "nbformat": 4,
 "nbformat_minor": 4
}
