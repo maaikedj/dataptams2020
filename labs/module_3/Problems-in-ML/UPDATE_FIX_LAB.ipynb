{
 "cells": [
  {
   "cell_type": "markdown",
   "metadata": {
    "Collapsed": "false"
   },
   "source": [
    "# Here are some fixes for the lab problems in ML"
   ]
  },
  {
   "cell_type": "markdown",
   "metadata": {
    "Collapsed": "false"
   },
   "source": [
    "## In lab overfittig"
   ]
  },
  {
   "cell_type": "markdown",
   "metadata": {
    "Collapsed": "false"
   },
   "source": [
    "- The broken image (RBFSVM.png)  can be found  [here](https://drive.google.com/file/d/1t3lNiG2A0YV5GsP_wtdnsgJOEc-fgBS5/view?usp=sharing)"
   ]
  },
  {
   "cell_type": "markdown",
   "metadata": {
    "Collapsed": "false"
   },
   "source": [
    "- In the cell under the part that says ***Instantiate a list of three SVM classifiers with three different gamma parameters, (.001, 1, and 20)*** you can use the code below. The variables `names` and `classifiers` will be used for plotting"
   ]
  },
  {
   "cell_type": "code",
   "execution_count": null,
   "metadata": {
    "Collapsed": "false"
   },
   "outputs": [],
   "source": [
    "# Importing the required libraries for Suport Vector Classifiers \n",
    "from sklearn.svm import SVC\n",
    "\n",
    "# Creating three instances of SVC with different gamma parameters. \n",
    "clf_001 = SVC(gamma=0.001)\n",
    "clf_1 = SVC(gamma=1)\n",
    "clf_20 = SVC(gamma=20)\n",
    "\n",
    "# Creating a list of three SPVCs\n",
    "classifiers = [clf_001, clf_1, clf_20]\n",
    "\n",
    "# Creating a list of names for each SPC (Required for the cell below)\n",
    "names = ['SPM_001', 'SPM_1', 'SPM_20']"
   ]
  }
 ],
 "metadata": {
  "kernelspec": {
   "display_name": "Python 3",
   "language": "python",
   "name": "python3"
  },
  "language_info": {
   "codemirror_mode": {
    "name": "ipython",
    "version": 3
   },
   "file_extension": ".py",
   "mimetype": "text/x-python",
   "name": "python",
   "nbconvert_exporter": "python",
   "pygments_lexer": "ipython3",
   "version": "3.7.6"
  }
 },
 "nbformat": 4,
 "nbformat_minor": 4
}
