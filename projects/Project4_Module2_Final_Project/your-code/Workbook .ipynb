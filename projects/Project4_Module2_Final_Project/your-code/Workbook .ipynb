{
 "cells": [
  {
   "cell_type": "markdown",
   "metadata": {
    "Collapsed": "false"
   },
   "source": [
    "# Workbook - data processing "
   ]
  },
  {
   "cell_type": "markdown",
   "metadata": {
    "Collapsed": "false"
   },
   "source": [
    " Retrieving Data"
   ]
  },
  {
   "cell_type": "markdown",
   "metadata": {
    "Collapsed": "false"
   },
   "source": [
    "H0 = There is no difference between big 5 testing scores in general population vs celebrities"
   ]
  },
  {
   "cell_type": "markdown",
   "metadata": {
    "Collapsed": "false"
   },
   "source": [
    "H1 = There is a significant difference between big 5 testing scores in general population vs celebrities"
   ]
  },
  {
   "cell_type": "markdown",
   "metadata": {
    "Collapsed": "false"
   },
   "source": [
    "EXT1    P   I am the life of the party.\n",
    "EXT2    N   I don't talk a lot.\n",
    "EXT3    P   I feel comfortable around people.\n",
    "EXT4    N   I keep in the background.\n",
    "EXT5    P   I start conversations.\n",
    "EXT6    N   I have little to say.\n",
    "EXT7    P   I talk to a lot of different people at parties.\n",
    "EXT8    N   I don't like to draw attention to myself.\n",
    "EXT9    P   I don't mind being the center of attention.\n",
    "EXT10   N   I am quiet around strangers.\n",
    "EST1    P   I get stressed out easily.\n",
    "EST2    N   I am relaxed most of the time.\n",
    "EST3    P   I worry about things.\n",
    "EST4    N   I seldom feel blue.\n",
    "EST5    P   I am easily disturbed.\n",
    "EST6    P   I get upset easily.\n",
    "EST7    P   I change my mood a lot.\n",
    "EST8    P   I have frequent mood swings.\n",
    "EST9    P   I get irritated easily.\n",
    "EST10   P   I often feel blue.\n",
    "AGR1    N   I feel little concern for others.\n",
    "AGR2    P   I am interested in people.\n",
    "AGR3    N   I insult people.\n",
    "AGR4    P   I sympathize with others' feelings.\n",
    "AGR5    N   I am not interested in other people's problems.\n",
    "AGR6    P   I have a soft heart.\n",
    "AGR7    N   I am not really interested in others.\n",
    "AGR8    P   I take time out for others.\n",
    "AGR9    P   I feel others' emotions.\n",
    "AGR10   P   I make people feel at ease.\n",
    "CSN1    P   I am always prepared.\n",
    "CSN2    N   I leave my belongings around.\n",
    "CSN3    P   I pay attention to details.\n",
    "CSN4    N   I make a mess of things.\n",
    "CSN5    P   I get chores done right away.\n",
    "CSN6    N   I often forget to put things back in their proper place.\n",
    "CSN7    P   I like order.\n",
    "CSN8    N   I shirk my duties.\n",
    "CSN9    P   I follow a schedule.\n",
    "CSN10   P   I am exacting in my work.\n",
    "OPN1    P   I have a rich vocabulary.\n",
    "OPN2    N   I have difficulty understanding abstract ideas.\n",
    "OPN3    P   I have a vivid imagination.\n",
    "OPN4    N   I am not interested in abstract ideas.\n",
    "OPN5    P   I have excellent ideas.\n",
    "OPN6    N   I do not have a good imagination.\n",
    "OPN7    P   I am quick to understand things.\n",
    "OPN8    P   I use difficult words.\n",
    "OPN9    P   I spend time reflecting on things.\n",
    "OPN10   P   I am full of ideas."
   ]
  },
  {
   "cell_type": "code",
   "execution_count": null,
   "metadata": {
    "Collapsed": "false"
   },
   "outputs": [],
   "source": [
    "#Import libraries\n",
    "import pandas as pd\n",
    "import numpy as np\n",
    "from scipy.stats import ttest_rel\n",
    "from scipy.stats import ttest_1samp\n",
    "from scipy.stats import ttest_ind\n",
    "import os\n",
    "import seaborn as sns; sns.set()\n",
    "import matplotlib.pyplot as plt\n",
    "import geopandas as gpd\n",
    "import pycountry"
   ]
  },
  {
   "cell_type": "code",
   "execution_count": null,
   "metadata": {
    "Collapsed": "false"
   },
   "outputs": [],
   "source": [
    "#General population Big 5 results \n",
    "general = pd.read_csv('../data/datageneral.csv', sep='\\t')"
   ]
  },
  {
   "cell_type": "code",
   "execution_count": null,
   "metadata": {
    "Collapsed": "false"
   },
   "outputs": [],
   "source": [
    "#Exploring data - general \n",
    "general.head()"
   ]
  },
  {
   "cell_type": "code",
   "execution_count": null,
   "metadata": {
    "Collapsed": "false"
   },
   "outputs": [],
   "source": [
    "#Exploring data - general; NAAN\n",
    "general.info()"
   ]
  },
  {
   "cell_type": "code",
   "execution_count": null,
   "metadata": {
    "Collapsed": "false"
   },
   "outputs": [],
   "source": [
    "#Cleaning - general \n",
    "#5 categories : op; co; ex; ag; ne\n",
    "#1 = disagree; 3 = neutral; 5 = agree\n",
    "start_rows = len(general)\n",
    "general = general.replace(0, np.nan).dropna(axis=0).reset_index(drop=True)\n",
    "remove_rows = start_rows - len(general)\n",
    "print('Removed', remove_rows ,'rows that had incomplete pieces of data.')\n",
    "print('This was', (remove_rows/start_rows * 100),'of the total data.')\n",
    "print('Number of countries:', len(set(general.country.values)))"
   ]
  },
  {
   "cell_type": "code",
   "execution_count": null,
   "metadata": {
    "Collapsed": "false"
   },
   "outputs": [],
   "source": [
    "country_dict = {i.alpha_2: i.alpha_3 for i in pycountry.countries}\n",
    "countries = pd.DataFrame(general.country.value_counts()).T\\\n",
    "              .drop('NONE', axis=1)\\\n",
    "              .rename(columns=country_dict, index={'country': 'count'})\n",
    "countries_rank = countries.T.rename_axis('iso_a3').reset_index()\n",
    "countries_rank['rank'] = countries_rank['count'].rank()\n",
    "countries_rank.T"
   ]
  },
  {
   "cell_type": "code",
   "execution_count": null,
   "metadata": {
    "Collapsed": "false"
   },
   "outputs": [],
   "source": [
    "sns.set_style(\"white\")\n",
    "\n",
    "file = gpd.datasets.get_path('naturalearth_lowres')\n",
    "world = gpd.read_file(file)\n",
    "world = pd.merge(world, right=countries_rank, how='left', on='iso_a3').fillna(0)\n",
    "fig, ax = plt.subplots(figsize=(20,10))\n",
    "ax.set_xticks([])\n",
    "ax.set_yticks([])\n",
    "ax.set_title('Countries who completed the assessment (by rank)', size=16)\n",
    "world.drop(159).plot(column='rank', cmap='Blues', linewidth=0.8, ax=ax, edgecolor='0.2'); sns.set()\n",
    "plt.box(on=None)\n",
    "\n",
    "#twilight', \n",
    "#'viridis', 'viridis_r', 'vlag', 'vlag_r', 'winter', 'winter_r'\n",
    "# 'cividis', 'cividis_r', 'cool', 'cool_r', 'coolwarm', 'coolwarm_r', 'copper', 'copper_r', 'cubehelix',"
   ]
  },
  {
   "cell_type": "code",
   "execution_count": null,
   "metadata": {
    "Collapsed": "false"
   },
   "outputs": [],
   "source": []
  },
  {
   "cell_type": "code",
   "execution_count": null,
   "metadata": {
    "Collapsed": "false"
   },
   "outputs": [],
   "source": [
    "#Former research \n",
    "pos_questions = [ # positive questions adding to the trait.\n",
    "    'EXT1','EXT3','EXT5','EXT7','EXT9',                       # 5 Extroversion\n",
    "    'EST1','EST3','EST5','EST6','EST7','EST8','EST9','EST10', # 8 Neuroticism\n",
    "    'AGR2','AGR4','AGR6','AGR8','AGR9','AGR10',               # 6 Agreeableness\n",
    "    'CSN1','CSN3','CSN5','CSN7','CSN9','CSN10',               # 6 Conscientiousness\n",
    "    'OPN1','OPN3','OPN5','OPN7','OPN8','OPN9','OPN10',        # 7 Openness\n",
    "]\n",
    "neg_questions = [ # negative (negating) questions subtracting from the trait.\n",
    "    'EXT2','EXT4','EXT6','EXT8','EXT10', # 5 Extroversion\n",
    "    'EST2','EST4',                       # 2 Neuroticism\n",
    "    'AGR1','AGR3','AGR5','AGR7',         # 4 Agreeableness\n",
    "    'CSN2','CSN4','CSN6','CSN8',         # 4 Conscientiousness\n",
    "    'OPN2','OPN4','OPN6',                # 3 Openness\n",
    "]\n",
    "\n",
    "general[pos_questions] = general[pos_questions].replace({1:-2, 2:-1, 3:0, 4:1, 5:2})\n",
    "general[neg_questions] = general[neg_questions].replace({1:2, 2:1, 3:0, 4:-1, 5:-2})\n",
    "cols = pos_questions + neg_questions\n",
    "general = general[sorted(cols)]\n",
    "general.head()"
   ]
  },
  {
   "cell_type": "code",
   "execution_count": null,
   "metadata": {
    "Collapsed": "false"
   },
   "outputs": [],
   "source": [
    "traits = ['EXT', 'EST', 'AGR', 'CSN', 'OPN']\n",
    "#trait_labels = ['Extroversion', 'Neuroticism', 'Agreeableness', 'Conscientiousness', 'Openness']\n",
    "for trait in traits:\n",
    "    trait_cols = sorted([col for col in general.columns if trait in col and '_E' not in col])\n",
    "    general[trait] = general[trait_cols].sum(axis=1)\n",
    "general[traits].head(10)\n",
    "\n",
    "#add neuroticism --> if added shows 0 overall; issues here --> add manually  "
   ]
  },
  {
   "cell_type": "code",
   "execution_count": null,
   "metadata": {
    "Collapsed": "false"
   },
   "outputs": [],
   "source": [
    "bycountry= general[general['Country']][['AGR1']]\n",
    "bycountry.pivot_table(index='Country', columns='Description', aggfunc='sum').iplot(kind='bar',\n",
    "              title='Revenue per Country per Products')"
   ]
  },
  {
   "cell_type": "code",
   "execution_count": null,
   "metadata": {
    "Collapsed": "false"
   },
   "outputs": [],
   "source": [
    "#Celebrities Big 5 results \n",
    "celebrities = pd.read_csv('../data/datatwitter.csv')"
   ]
  },
  {
   "cell_type": "code",
   "execution_count": null,
   "metadata": {
    "Collapsed": "false"
   },
   "outputs": [],
   "source": [
    "#Explore\n",
    "celebrities.info()"
   ]
  },
  {
   "cell_type": "code",
   "execution_count": null,
   "metadata": {
    "Collapsed": "false"
   },
   "outputs": [],
   "source": [
    "#Cleaning - celebrities\n",
    "start_rows2 = len(general)\n",
    "celebrities = celebrities.replace(0, np.nan).dropna(axis=0).reset_index(drop=True)\n",
    "remove_rows2 = start_rows2 - len(general)\n",
    "print('Removed', remove_rows2 ,'rows that had incomplete pieces of data.')\n",
    "print('This was', (remove_rows2/start_rows2 * 100),'% of the total data.')"
   ]
  },
  {
   "cell_type": "code",
   "execution_count": null,
   "metadata": {
    "Collapsed": "false"
   },
   "outputs": [],
   "source": [
    "#Renaming columns to match - general \n",
    "#trait_labels = ['Extroversion', 'Neuroticism', 'Agreeableness', 'Conscientiousness', 'Openness']\n",
    "generaltrait = pd.DataFrame(general[traits])\n",
    "generaltrait.rename({'EXT': 'EXT_GEN', 'EST': 'NEU_GEN', 'AGR': 'AGR_GEN', 'CSN': 'CSN_GEN', 'OPN':'OPN_GEN'}, axis=1, inplace=True)\n",
    "generaltrait.head()"
   ]
  },
  {
   "cell_type": "code",
   "execution_count": null,
   "metadata": {
    "Collapsed": "false"
   },
   "outputs": [],
   "source": [
    "generaltrait1 =generaltrait\n",
    "generaltrait1['index_col'] = generaltrait.index\n",
    "generaltrait.pivot_table(index=['index_col'],values=['EXT_GEN'], aggfunc={np.mean,np.std})"
   ]
  },
  {
   "cell_type": "code",
   "execution_count": null,
   "metadata": {
    "Collapsed": "false"
   },
   "outputs": [],
   "source": [
    "#Renaming columns to match - celebrities \n",
    "celebrities.rename({'op': 'OPN_CEL', 'ex': 'EXT_CEL', 'ne':'NEU_CEL', 'ag':'AGR_CEL', 'co': 'CSN_CEL'}, axis=1, inplace=True)\n",
    "celebrities.head()"
   ]
  },
  {
   "cell_type": "code",
   "execution_count": null,
   "metadata": {
    "Collapsed": "false"
   },
   "outputs": [],
   "source": [
    "#Overall trait visualization: general vs celebrities: 'Extroversion'\n",
    "#fig, ax =plt.subplots(1,2)\n",
    "#sns.distplot(generaltrait['EXT_GEN'], ax=ax[0])\n",
    "#sns.distplot(celebrities['EXT_CEL']), ax=ax[1])\n",
    "#fig.show()\n",
    "sns.distplot(generaltrait['EXT_GEN'])"
   ]
  },
  {
   "cell_type": "code",
   "execution_count": null,
   "metadata": {
    "Collapsed": "false"
   },
   "outputs": [],
   "source": [
    "#Overall trait visualization: general vs celebrities: 'Extroversion'\n",
    "sns.distplot(celebrities['EXT_CEL'])"
   ]
  },
  {
   "cell_type": "code",
   "execution_count": null,
   "metadata": {
    "Collapsed": "false"
   },
   "outputs": [],
   "source": [
    "#Overall trait visualization: general vs celebrities:  'Neuroticism'\n",
    "sns.distplot(generaltrait['NEU_GEN'])"
   ]
  },
  {
   "cell_type": "code",
   "execution_count": null,
   "metadata": {
    "Collapsed": "false"
   },
   "outputs": [],
   "source": [
    "sns.distplot(celebrities['NEU_CEL'])"
   ]
  },
  {
   "cell_type": "code",
   "execution_count": null,
   "metadata": {
    "Collapsed": "false"
   },
   "outputs": [],
   "source": [
    "#Overall trait visualization: general vs celebrities: 'Agreeableness'\n",
    "sns.distplot(generaltrait['AGR_GEN'])"
   ]
  },
  {
   "cell_type": "code",
   "execution_count": null,
   "metadata": {
    "Collapsed": "false"
   },
   "outputs": [],
   "source": [
    "sns.distplot(celebrities['AGR_CEL'])"
   ]
  },
  {
   "cell_type": "code",
   "execution_count": null,
   "metadata": {
    "Collapsed": "false"
   },
   "outputs": [],
   "source": [
    "#Overall trait visualization: general vs celebrities: 'Conscientiousness'\n",
    "sns.distplot(generaltrait['CSN_GEN'])\n",
    "#sns.distplot(celebrities['CSN_CEL'])"
   ]
  },
  {
   "cell_type": "code",
   "execution_count": null,
   "metadata": {
    "Collapsed": "false"
   },
   "outputs": [],
   "source": [
    "sns.distplot(celebrities['CSN_CEL'])"
   ]
  },
  {
   "cell_type": "code",
   "execution_count": null,
   "metadata": {
    "Collapsed": "false"
   },
   "outputs": [],
   "source": [
    "#Overall trait visualization: general vs celebrities: 'Openness'\n",
    "sns.distplot(generaltrait['OPN_GEN'])"
   ]
  },
  {
   "cell_type": "code",
   "execution_count": null,
   "metadata": {
    "Collapsed": "false"
   },
   "outputs": [],
   "source": [
    "sns.distplot(celebrities['OPN_CEL'])"
   ]
  },
  {
   "cell_type": "code",
   "execution_count": null,
   "metadata": {
    "Collapsed": "false"
   },
   "outputs": [],
   "source": [
    "#Correlation Vizualization - general - Matrix\n",
    "# your code here\n",
    "sns.set(style=\"white\")\n",
    "# Compute the correlation matrix\n",
    "corr = generaltrait.corr()\n",
    "\n",
    "# Generate a mask for the upper triangle\n",
    "mask = np.triu(np.ones_like(corr, dtype=np.bool))\n",
    "\n",
    "# Set up the matplotlib figure\n",
    "f, ax = plt.subplots(figsize=(11, 9))\n",
    "\n",
    "# Generate a custom diverging colormap\n",
    "cmap = sns.diverging_palette(220, 10, as_cmap=True)\n",
    "\n",
    "# Draw the heatmap with the mask and correct aspect ratio\n",
    "sns.heatmap(corr, mask=mask, cmap=cmap, vmax=.3, center=0,\n",
    "            square=True, linewidths=.5, cbar_kws={\"shrink\": .5}, annot = True)"
   ]
  },
  {
   "cell_type": "code",
   "execution_count": null,
   "metadata": {
    "Collapsed": "false"
   },
   "outputs": [],
   "source": [
    "#Correlation Vizualization - celebrities - Matrix \n",
    "# your code here\n",
    "sns.set(style=\"white\")\n",
    "# Compute the correlation matrix\n",
    "corr = celebrities.corr()\n",
    "\n",
    "# Generate a mask for the upper triangle\n",
    "mask = np.triu(np.ones_like(corr, dtype=np.bool))\n",
    "\n",
    "# Set up the matplotlib figure\n",
    "f, ax = plt.subplots(figsize=(11, 9))\n",
    "\n",
    "# Generate a custom diverging colormap\n",
    "cmap = sns.diverging_palette(220, 10, as_cmap=True)\n",
    "\n",
    "# Draw the heatmap with the mask and correct aspect ratio\n",
    "sns.heatmap(corr, mask=mask, cmap=cmap, vmax=.3, center=0,\n",
    "            square=True, linewidths=.5, cbar_kws={\"shrink\": .5}, annot = True)\n",
    "#should drop the unnecc cols "
   ]
  },
  {
   "cell_type": "code",
   "execution_count": null,
   "metadata": {
    "Collapsed": "false"
   },
   "outputs": [],
   "source": [
    "#Joining dataframes \n",
    "#total = generaltrait.append(celebrities, sort=False)\n",
    "#total.head()\n",
    "#generaltrait.corrwith(celebrities, axis = 1) \n",
    "#different lenghts; won't work "
   ]
  },
  {
   "cell_type": "code",
   "execution_count": null,
   "metadata": {
    "Collapsed": "false"
   },
   "outputs": [],
   "source": [
    "#Joining dataframes \n",
    "#Creating mean values columns - generaltraits\n",
    "generalmeans = pd.DataFrame(generaltrait.mean().to_dict(),index=[generaltrait.index.values[-1]])\n",
    "#generalmeans.head()\n",
    "#new_df.rename(columns=lambda c: \"mean_\"+str(c))\n",
    "#Creating mean values columns - celebrities\n",
    "celebritiesmeans = pd.DataFrame(celebrities.mean().to_dict(),index=[celebrities.index.values[-1]])\n",
    "#celebritiesmeans.head()\n",
    "#Joining into one df \n",
    "#total = generalmeans.append(celebritiesmeans, sort=False)\n",
    "#total = pd.concat([generalmeans, celebritiesmeans], ignore_index=True)\n",
    "#total.head()"
   ]
  },
  {
   "cell_type": "code",
   "execution_count": null,
   "metadata": {
    "Collapsed": "false"
   },
   "outputs": [],
   "source": []
  },
  {
   "cell_type": "code",
   "execution_count": null,
   "metadata": {
    "Collapsed": "false"
   },
   "outputs": [],
   "source": [
    "#generalmeans = pd.DataFrame(generaltrait.mean().to_dict(),index=[generaltrait.index.values[-1]])\n",
    "#generalmeans.rename({'OPN_CEL', 'ex': 'EXT_CEL', 'ne':'NEU_CEL', 'ag':'AGR_CEL', 'co': 'CSN_CEL'}, axis=1, inplace=True)\n",
    "generaltrait.mean(axis = 0)\n",
    "#generalmeans.columns = ['EXT', 'NEU', 'AGR', 'CSN', 'OPN', 'NE']\n",
    "#generalmeans.head()\n"
   ]
  },
  {
   "cell_type": "code",
   "execution_count": null,
   "metadata": {
    "Collapsed": "false"
   },
   "outputs": [],
   "source": [
    "#check\n",
    "#generaltrait.mean(axis = 0)\n",
    "generalmeans2 = pd.DataFrame(generaltrait.mean(axis = 0).to_dict(), index = generaltrait.index.values)\n",
    "generalmeans2.head()"
   ]
  },
  {
   "cell_type": "code",
   "execution_count": null,
   "metadata": {
    "Collapsed": "false"
   },
   "outputs": [],
   "source": [
    "generaltrait.std(axis = 0)"
   ]
  },
  {
   "cell_type": "code",
   "execution_count": null,
   "metadata": {
    "Collapsed": "false"
   },
   "outputs": [],
   "source": [
    "celebritiesmeans = pd.DataFrame(celebrities.mean(axis = 0).to_dict(),index= celebrities.index.values)\n",
    "#celebritiesmeans.columns = ['OPN','CSN', 'EXT', 'AGR','NEU', 'x', 'y']\n",
    "celebritiesmeans.head()\n",
    "#generalmeans.corrwith(celebritiesmeans, axis = 1) \n",
    "#need to recount the scores"
   ]
  },
  {
   "cell_type": "code",
   "execution_count": null,
   "metadata": {
    "Collapsed": "false"
   },
   "outputs": [],
   "source": [
    "celebrities.mean(axis = 0)"
   ]
  },
  {
   "cell_type": "code",
   "execution_count": null,
   "metadata": {
    "Collapsed": "false"
   },
   "outputs": [],
   "source": [
    "celebrities.std(axis = 0)"
   ]
  },
  {
   "cell_type": "code",
   "execution_count": null,
   "metadata": {
    "Collapsed": "false"
   },
   "outputs": [],
   "source": [
    "#Correlation testing - correlation matrix \n",
    "#generalmeans.corrwith(celebritiesmeans, axis = 0) "
   ]
  },
  {
   "cell_type": "code",
   "execution_count": null,
   "metadata": {
    "Collapsed": "false"
   },
   "outputs": [],
   "source": [
    "#Extroversion \n",
    "EXT1= generaltrait[\"EXT_GEN\"]\n",
    "EXT2= celebrities[\"EXT_CEL\"]\n",
    "EXTcorrelation = EXT1.corr(EXT2)\n",
    "print('EXT Correlation:', EXTcorrelation)"
   ]
  },
  {
   "cell_type": "code",
   "execution_count": null,
   "metadata": {
    "Collapsed": "false"
   },
   "outputs": [],
   "source": [
    "#Openess \n",
    "OPN1= generaltrait[\"OPN_GEN\"]\n",
    "OPN2= celebrities[\"OPN_CEL\"]\n",
    "OPNcorrelation = OPN1.corr(OPN2)\n",
    "print('OPN Correlation:', OPNcorrelation)"
   ]
  },
  {
   "cell_type": "code",
   "execution_count": null,
   "metadata": {
    "Collapsed": "false"
   },
   "outputs": [],
   "source": [
    "#Agreeableness \n",
    "AGR1= generaltrait[\"AGR_GEN\"]\n",
    "AGR2= celebrities[\"AGR_CEL\"]\n",
    "AGRcorrelation = AGR1.corr(AGR2)\n",
    "print('AGR Correlation:', AGRcorrelation)"
   ]
  },
  {
   "cell_type": "code",
   "execution_count": null,
   "metadata": {
    "Collapsed": "false"
   },
   "outputs": [],
   "source": [
    "#Conscientiousness \n",
    "CSN1= generaltrait[\"CSN_GEN\"]\n",
    "CSN2= celebrities[\"CSN_CEL\"]\n",
    "CSNcorrelation = CSN1.corr(CSN2)\n",
    "print('CSN Correlation:', CSNcorrelation)"
   ]
  },
  {
   "cell_type": "code",
   "execution_count": null,
   "metadata": {
    "Collapsed": "false"
   },
   "outputs": [],
   "source": [
    "#Neuroticism \n",
    "NEU1= generaltrait[\"NEU_GEN\"]\n",
    "NEU2= celebrities[\"NEU_CEL\"]\n",
    "NEUcorrelation = NEU1.corr(NEU2)\n",
    "print('NEU Correlation:', NEUcorrelation)"
   ]
  },
  {
   "cell_type": "code",
   "execution_count": null,
   "metadata": {
    "Collapsed": "false"
   },
   "outputs": [],
   "source": [
    "# Correlation testing - test choice \n",
    "#Type of values: Ordinal [testing scale 1 - 3- 5]\n",
    "#Purpose: Examining differences between populations\n",
    "#Measuring: Independent values \n",
    "#Using: Mann-Whitney U test\n",
    "#Difference between MW & t-test: T-test is parametric; WMW is for non-parametric. \n",
    "from scipy.stats import mannwhitneyu\n",
    "\n",
    "EXTMWT = mannwhitneyu(generaltrait[\"EXT_GEN\"], celebrities[\"EXT_CEL\"])\n",
    "print ('Extroversion MW:', EXTMWT)\n",
    "OPNMWT = mannwhitneyu(generaltrait[\"OPN_GEN\"], celebrities[\"OPN_CEL\"])\n",
    "print ('Openess MW:', OPNMWT)\n",
    "AGRMWT = mannwhitneyu(generaltrait[\"AGR_GEN\"], celebrities[\"AGR_CEL\"])\n",
    "print ('Agreeableness MW:', AGRMWT)\n",
    "CSNMWT = mannwhitneyu(generaltrait[\"CSN_GEN\"], celebrities[\"CSN_CEL\"])\n",
    "print ('Conscentiousness MW:', CSNMWT)\n",
    "NEUMWT = mannwhitneyu(generaltrait[\"NEU_GEN\"], celebrities[\"NEU_CEL\"])\n",
    "print ('Neuroticism MW:', NEUMWT )"
   ]
  },
  {
   "cell_type": "code",
   "execution_count": null,
   "metadata": {
    "Collapsed": "false"
   },
   "outputs": [],
   "source": [
    "from ipywidgets import interact"
   ]
  },
  {
   "cell_type": "code",
   "execution_count": null,
   "metadata": {
    "Collapsed": "false"
   },
   "outputs": [],
   "source": [
    "@interact(EXTGEN1=generaltrait['EXT_GEN'].unique(), \n",
    "          EXTCEB1= celebrities['EXT_CEL'].unique())\n",
    "\n",
    "def linechart(EXTGEN1, EXTCEB1):\n",
    "    df = generaltrait[(generaltrait['EXT_GEN']) & (celebrities['EXT_CEL'])\n",
    "    grouped= generaltrait.groupby('OPN_GEN').agg('sum')['OPN_GEN']\n",
    "    grouped.iplot(kind='line', title='xyz')"
   ]
  },
  {
   "cell_type": "code",
   "execution_count": null,
   "metadata": {
    "Collapsed": "false"
   },
   "outputs": [],
   "source": []
  }
 ],
 "metadata": {
  "kernelspec": {
   "display_name": "Python 3",
   "language": "python",
   "name": "python3"
  },
  "language_info": {
   "codemirror_mode": {
    "name": "ipython",
    "version": 3
   },
   "file_extension": ".py",
   "mimetype": "text/x-python",
   "name": "python",
   "nbconvert_exporter": "python",
   "pygments_lexer": "ipython3",
   "version": "3.7.7"
  }
 },
 "nbformat": 4,
 "nbformat_minor": 4
}
