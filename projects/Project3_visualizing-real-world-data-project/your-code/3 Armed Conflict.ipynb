{
 "cells": [
  {
   "cell_type": "code",
   "execution_count": null,
   "metadata": {},
   "outputs": [],
   "source": [
    "#importing libraries\n",
    "import pandas as pd\n",
    "import numpy as np\n",
    "import matplotlib.pyplot as plt\n",
    "import seaborn as sns"
   ]
  },
  {
   "cell_type": "code",
   "execution_count": null,
   "metadata": {},
   "outputs": [],
   "source": [
    "# reading previously created files\n",
    "df = pd.read_csv(\"../data/df.csv\") \n",
    "percountry_df = pd.read_csv(\"../data/percountry_df.csv\") "
   ]
  },
  {
   "cell_type": "code",
   "execution_count": null,
   "metadata": {},
   "outputs": [],
   "source": [
    "# 3 - all Armed conflict lines are negatively correlated with labor force participation female pop %\n",
    "labvscon = df[['continent','total conflicts 2019 per capita', \n",
    "    'total fatalities 2019 per capita',\n",
    "    'total Protests 2019 per capita',\n",
    "    'total Explosions/Remote violence 2019 per capita',\n",
    "    'total Battles 2019 per capita',\n",
    "    'Labour force participation (female pop. %)']]\n",
    "\n",
    "sns.distplot(labvscon['Labour force participation (female pop. %)'])"
   ]
  },
  {
   "cell_type": "code",
   "execution_count": null,
   "metadata": {},
   "outputs": [],
   "source": [
    "# checking per continent the labour force participation\n",
    "labvscon.pivot_table(index='continent',values='Labour force participation (female pop. %)', aggfunc=(np.mean,np.std))\n",
    "\n",
    "sns.boxplot(x=\"continent\", y='Labour force participation (female pop. %)', data=labvscon)\n",
    "plt.title(\"Labour force participation (female pop. %) per continent\")\n",
    "plt.xlabel('continents')   \n",
    "plt.ylabel('Labour force participation (female pop. %)')\n",
    "plt.show()"
   ]
  },
  {
   "cell_type": "code",
   "execution_count": null,
   "metadata": {},
   "outputs": [],
   "source": [
    "# the relationship between female labor force and total conflicts shows that in areas where more women can work\n",
    "# there is a tendency to less conflicts\n",
    "labvscon.corr()\n",
    "sns.scatterplot(x=\"total conflicts 2019 per capita\", y=\"Labour force participation (female pop. %)\", data=labvscon, hue='continent')\n",
    "plt.show()"
   ]
  },
  {
   "cell_type": "code",
   "execution_count": null,
   "metadata": {},
   "outputs": [],
   "source": []
  }
 ],
 "metadata": {
  "kernelspec": {
   "display_name": "Python 3",
   "language": "python",
   "name": "python3"
  },
  "language_info": {
   "codemirror_mode": {
    "name": "ipython",
    "version": 3
   },
   "file_extension": ".py",
   "mimetype": "text/x-python",
   "name": "python",
   "nbconvert_exporter": "python",
   "pygments_lexer": "ipython3",
   "version": "3.8.1"
  }
 },
 "nbformat": 4,
 "nbformat_minor": 4
}
