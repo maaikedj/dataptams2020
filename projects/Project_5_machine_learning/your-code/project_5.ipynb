{
 "cells": [
  {
   "cell_type": "code",
   "execution_count": 1,
   "metadata": {
    "Collapsed": "false"
   },
   "outputs": [],
   "source": [
    "# Libraries\n",
    "import pandas as pd\n",
    "import numpy as np\n",
    "from time import strptime\n",
    "import datetime\n",
    "import re\n",
    "\n",
    "import matplotlib.pyplot as plt\n",
    "import seaborn as sns\n",
    "%matplotlib inline\n",
    "import warnings\n",
    "warnings.filterwarnings('ignore')\n",
    "\n",
    "import ipywidgets as widgets\n",
    "\n",
    "import statsmodels.api as sm\n",
    "from statsmodels.tsa.stattools import adfuller\n",
    "from statsmodels.graphics.tsaplots import plot_acf, plot_pacf\n",
    "from statsmodels.tsa.arima_model import ARIMA\n",
    "import itertools\n",
    "\n",
    "sns.set(palette = 'Set1',style='darkgrid')"
   ]
  },
  {
   "cell_type": "code",
   "execution_count": 2,
   "metadata": {
    "Collapsed": "false"
   },
   "outputs": [],
   "source": [
    "time = pd.read_csv('../data/covid_19_data.csv')\n",
    "time = time.groupby(['Country/Region', 'ObservationDate']).agg('sum')\n",
    "time = time.reset_index()\n",
    "time.drop('SNo', axis=1, inplace=True)\n",
    "time.rename(columns={'ObservationDate': 'Date'}, inplace=True)\n",
    "time = time.sort_values(by=['Date'])\n",
    "time['Date'] =  pd.to_datetime(time['Date'], format='%m/%d/%Y')"
   ]
  },
  {
   "cell_type": "code",
   "execution_count": 3,
   "metadata": {
    "Collapsed": "false"
   },
   "outputs": [],
   "source": [
    "#Returns a time series on rolling mean and rolling standard deviation\n",
    "def roll(country = 'all',case='Confirmed'):\n",
    "    if country == 'all':\n",
    "        ts=time.groupby('Date').agg({'Confirmed':'sum', 'Deaths':'sum', 'Recovered':'sum'}).reset_index()\n",
    "    if country in time['Country/Region'].unique():\n",
    "        ts=time.loc[(time['Country/Region']==country)]     \n",
    "    ts=ts[['Date',case]]\n",
    "    ts=ts.set_index('Date')\n",
    "    ts.astype('int64')\n",
    "    return (ts.rolling(window=4,center=False).mean().dropna())\n",
    "\n",
    "\n",
    "def rollStatsPlot(country = 'all', case='Confirmed'):\n",
    "    if country == 'all':\n",
    "        ts=time.groupby('Date').agg({'Confirmed':'sum', 'Deaths':'sum', 'Recovered':'sum'}).reset_index()\n",
    "    if country in time['Country/Region'].unique():\n",
    "        ts=time.loc[(time['Country/Region']==country)]  \n",
    "    ts=ts[['Date',case]]\n",
    "    ts=ts.set_index('Date')\n",
    "    ts.astype('int64')\n",
    "    plt.figure(figsize=(16,6))\n",
    "    plt.plot(ts.rolling(window=7,center=False).mean().dropna(),label='Rolling Mean')\n",
    "    plt.plot(ts[case])\n",
    "    plt.plot(ts.rolling(window=7,center=False).std(),label='Rolling std')\n",
    "    plt.legend()\n",
    "    plt.title(f'{case} Report Distribution With Rolling Mean and Stdev (Country: {country})')\n",
    "    plt.xticks([])\n",
    "    plt.show()\n",
    "    \n",
    "def dickeyFull(time_series):\n",
    "    print('Dickey-Fuller Test:')\n",
    "    test = adfuller(time_series, autolag='AIC')\n",
    "    results = pd.Series(test[0:4], index=['Test Statistic','p-value','#Lags Used','Number of Observations Used'])\n",
    "    for i,val in test[4].items():\n",
    "        results['Critical Value (%s)'%i] = val\n",
    "    print(results)\n",
    "    \n",
    "def autoCorr(time_series):\n",
    "    plot_acf(time_series,lags=12,title=\"ACF\")\n",
    "    plot_pacf(time_series,lags=12,title=\"PACF\")\n",
    "    \n",
    "def split(time_series):\n",
    "    size = int(len(time_series) * 0.85)\n",
    "    train= time_series[:size]\n",
    "    test = time_series[size:]\n",
    "    \n",
    "    return(train,test)\n",
    "\n",
    "def arima(time_series,test):\n",
    "    p=d=q=range(0,6)\n",
    "    a=99999\n",
    "    pdq=list(itertools.product(p,d,q))\n",
    "    \n",
    "    #Determining the best parameters\n",
    "    for var in pdq:\n",
    "        try:\n",
    "            model = ARIMA(time_series, order=var)\n",
    "            result = model.fit()\n",
    "\n",
    "            if result.aic <= a:\n",
    "                a=result.aic\n",
    "                param=var\n",
    "        except:\n",
    "            continue\n",
    "            \n",
    "    #Modeling\n",
    "    model = ARIMA(time_series, order=param)\n",
    "    result = model.fit()\n",
    "    result.plot_predict(start=int(len(time_series) * 0.7), end=int(len(time_series) * 1.2))\n",
    "    pred=result.forecast(steps=len(test))[0]\n",
    "    #Plotting results\n",
    "    f,ax=plt.subplots()\n",
    "    plt.plot(pred,c='green', label= 'predictions')\n",
    "    plt.plot(test.values, c='red',label='real values')\n",
    "    plt.legend()\n",
    "    plt.title('True vs predicted values')\n",
    "    \n",
    "    #Printing the results\n",
    "    print(result.summary())        \n",
    "    print(f'\\nParameters used: AutoRegression {param[0]}, Difference order {param[1]}, Moving Average {param[2]}')\n",
    "    return (pred)\n",
    "\n",
    "def analyze(country = 'all', case = 'Confirmed'):\n",
    "    rollStatsPlot(country, case)\n",
    "    \n",
    "    rolled = roll(country, case)\n",
    "    fig=sm.tsa.seasonal_decompose(rolled.values,period=7).plot()\n",
    "    plt.show()\n",
    "    \n",
    "    dickeyFull(rolled[case].values)\n",
    "    autoCorr(rolled)\n",
    "    plt.show()\n",
    "    \n",
    "    train,test=split(rolled)\n",
    "    arima(train,test)"
   ]
  },
  {
   "cell_type": "markdown",
   "metadata": {
    "Collapsed": "false"
   },
   "source": []
  },
  {
   "cell_type": "code",
   "execution_count": 4,
   "metadata": {
    "Collapsed": "false"
   },
   "outputs": [
    {
     "data": {
      "application/vnd.jupyter.widget-view+json": {
       "model_id": "e63f9b478a5b41398c60c8c62b3c40b1",
       "version_major": 2,
       "version_minor": 0
      },
      "text/plain": [
       "interactive(children=(Dropdown(description='Data:', index=215, options=(' Azerbaijan', \"('St. Martin',)\", 'Afg…"
      ]
     },
     "metadata": {},
     "output_type": "display_data"
    }
   ],
   "source": [
    "countries_list = list(time['Country/Region'].unique())\n",
    "countries_list.append('all')\n",
    "countries_list.sort()\n",
    "\n",
    "@widgets.interact(\n",
    "    case = widgets.Dropdown(\n",
    "        options=['Confirmed', 'Deaths', 'Recovered'],\n",
    "        value='Confirmed',\n",
    "        description='Data:',\n",
    "        disabled=False,\n",
    "    ),\n",
    "    country = widgets.Dropdown(\n",
    "        options=countries_list,\n",
    "        value='all',\n",
    "        description='Data:',\n",
    "        disabled=False,\n",
    "    )\n",
    ")\n",
    "\n",
    "def chart(country, case):\n",
    "    analyze(country=country,case=case)"
   ]
  },
  {
   "cell_type": "markdown",
   "metadata": {
    "Collapsed": "false"
   },
   "source": [
    "## Comments Paolo"
   ]
  },
  {
   "cell_type": "markdown",
   "metadata": {},
   "source": [
    "Great visualizations Victor, I love the drop down menu where you can choose different options. Also you were not scared to experiment with advanced concepts in time series analysis. Also I liked the fact that you defined all your functions at the beginning. Some comments:\n",
    "- It would help and improve your projects if you had a least an introduction and conclusions in the notebook\n",
    "- It would help clarity if you added docstrings to the functions\n",
    "- I understand the need to performing the rolling mean to smoothen the data but I suggest to always visualize the raw data also, to show and comments your reasoning\n",
    "- When you I look at the results of the Dickey-Fuller Test for the cases I have tested (for example 'all') I have noticed that the p-value is always quite big, suggesting that the results are not significant.\n",
    "- As another idea you could try to fit the the data to an exponential $y=A(\\exp{\\beta{x}})$ with fitting parameters $A$ and $\\beta$ "
   ]
  }
 ],
 "metadata": {
  "hide_input": false,
  "kernelspec": {
   "display_name": "Python 3",
   "language": "python",
   "name": "python3"
  },
  "language_info": {
   "codemirror_mode": {
    "name": "ipython",
    "version": 3
   },
   "file_extension": ".py",
   "mimetype": "text/x-python",
   "name": "python",
   "nbconvert_exporter": "python",
   "pygments_lexer": "ipython3",
   "version": "3.7.6"
  },
  "latex_envs": {
   "LaTeX_envs_menu_present": true,
   "autoclose": false,
   "autocomplete": true,
   "bibliofile": "biblio.bib",
   "cite_by": "apalike",
   "current_citInitial": 1,
   "eqLabelWithNumbers": true,
   "eqNumInitial": 1,
   "hotkeys": {
    "equation": "Ctrl-E",
    "itemize": "Ctrl-I"
   },
   "labels_anchors": false,
   "latex_user_defs": false,
   "report_style_numbering": false,
   "user_envs_cfg": false
  },
  "toc": {
   "base_numbering": 1,
   "nav_menu": {},
   "number_sections": true,
   "sideBar": true,
   "skip_h1_title": false,
   "title_cell": "Table of Contents",
   "title_sidebar": "Contents",
   "toc_cell": false,
   "toc_position": {},
   "toc_section_display": true,
   "toc_window_display": false
  }
 },
 "nbformat": 4,
 "nbformat_minor": 4
}
