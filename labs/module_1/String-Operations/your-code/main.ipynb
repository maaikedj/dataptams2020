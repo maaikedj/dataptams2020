{
 "cells": [
  {
   "cell_type": "markdown",
   "metadata": {},
   "source": [
    "# Before your start:\n",
    "- Read the README.md file\n",
    "- Comment as much as you can and use the resources in the README.md file\n",
    "- Happy learning!"
   ]
  },
  {
   "cell_type": "code",
   "execution_count": null,
   "metadata": {},
   "outputs": [],
   "source": [
    "import re"
   ]
  },
  {
   "cell_type": "markdown",
   "metadata": {},
   "source": [
    "# Challenge 1 - Combining Strings\n",
    "\n",
    "Combining strings is an important skill to acquire. There are multiple ways of combining strings in Python, as well as combining strings with variables. We will explore this in the first challenge. In the cell below, combine the strings in the list and add spaces between the strings (do not add a space after the last string). Insert a period after the last string."
   ]
  },
  {
   "cell_type": "code",
   "execution_count": 16,
   "metadata": {},
   "outputs": [
    {
     "name": "stdout",
     "output_type": "stream",
     "text": [
      "Durante un tiempo no estuvo segura de si su marido era su marido \n",
      "Durante un tiempo no estuvo segura de si su marido era su marido\n",
      "Durante un tiempo no estuvo segura de si su marido era su marido\n"
     ]
    }
   ],
   "source": [
    "str_list = ['Durante', 'un', 'tiempo', 'no', 'estuvo', 'segura', 'de', 'si', 'su', 'marido', 'era', 'su', 'marido']\n",
    "# Your code here:\n",
    "\n",
    "# Using for loop  \n",
    "new_string = \"\"\n",
    "space = \" \"\n",
    "for elem in str_list:\n",
    "    new_string += elem\n",
    "    new_string += space\n",
    "\n",
    "print(new_string)\n",
    " \n",
    "# Using join   \n",
    "def listToString(str_list):  \n",
    "    \n",
    "    # initialize an empty string \n",
    "    str1 = \" \" \n",
    "    \n",
    "    # return string   \n",
    "    return (str1.join(str_list))     \n",
    "    \n",
    "print(listToString(str_list))\n",
    "\n",
    "# Using join and list comprehension\n",
    "listToStr = ' '.join([str(elem) for elem in str_list]) \n",
    "print(listToStr)\n",
    "\n",
    "\n",
    "\n"
   ]
  },
  {
   "cell_type": "markdown",
   "metadata": {},
   "source": [
    "In the cell below, use the list of strings to create a grocery list. Start the list with the string `Grocery list: ` and include a comma and a space between each item except for the last one. Include a period at the end. Only include foods in the list that start with the letter 'b' and ensure all foods are lower case."
   ]
  },
  {
   "cell_type": "code",
   "execution_count": 56,
   "metadata": {},
   "outputs": [
    {
     "name": "stdout",
     "output_type": "stream",
     "text": [
      "broccoli\n",
      "bananas,  chocolate,  bread,  diapers,  ice cream,  brownie mix,  broccoli\n"
     ]
    }
   ],
   "source": [
    "food_list = ['Bananas', 'Chocolate', 'bread', 'diapers', 'Ice Cream', 'Brownie Mix', 'broccoli']\n",
    "# Your code here:\n",
    "\n",
    "#removing products starting with B\n",
    "check =\"B\"\n",
    "Grocery_list = [sku for sku in food_list if sku[0].lower() == check.lower()] \n",
    "\n",
    "print(Grocery_list[-1])\n",
    "\n",
    "#creating a string\n",
    "comma =\", \"\n",
    "Grocery_str = \"\"\n",
    "space = \" \"\n",
    "\n",
    "for elem in food_list[:-1]:  \n",
    "    Grocery_str += elem\n",
    "    Grocery_str += comma    \n",
    "    Grocery_str += space\n",
    "\n",
    "Grocery_str += Grocery_list[-1] \n",
    "    \n",
    "print(Grocery_str.lower())\n",
    "\n"
   ]
  },
  {
   "cell_type": "markdown",
   "metadata": {},
   "source": [
    "In the cell below, write a function that computes the area of a circle using its radius. Compute the area of the circle and insert the radius and the area between the two strings. Make sure to include spaces between the variable and the strings. \n",
    "\n",
    "Note: You can use the techniques we have learned so far or use f-strings. F-strings allow us to embed code inside strings. You can read more about f-strings [here](https://www.python.org/dev/peps/pep-0498/)."
   ]
  },
  {
   "cell_type": "code",
   "execution_count": 81,
   "metadata": {},
   "outputs": [
    {
     "name": "stdout",
     "output_type": "stream",
     "text": [
      "3.141\n",
      "The area of the circle with radius: 4.5 is: 3.141\n"
     ]
    }
   ],
   "source": [
    "import math\n",
    "\n",
    "string1 = \"The area of the circle with radius:\"\n",
    "string2  = \"is:\"\n",
    "radius = 4.5\n",
    "\n",
    "def calculateArea(radius):\n",
    "    pi = 3.141\n",
    "    area = (pi * (radius ** 2))\n",
    "    return area\n",
    "\n",
    "area = calculateArea(1)\n",
    "\n",
    "print(area)\n",
    "\n",
    "print(string1, radius, string2, area)\n",
    "\n",
    "\n",
    "#     This function takes a radius and returns the area of a circle. \n",
    "#     We also pass a default value for pi.\n",
    "    \n",
    "#     Input: Float (and default value for pi)\n",
    "#     Output: Float\n",
    "    \n",
    "#     Sample input: 5.0\n",
    "#     Sample Output: 78.53981633\n",
    "#     \"\"\"\n",
    "    \n",
    "    # Your code here:\n",
    "\n",
    "    # x =input('Provide the value of the Radius')\n",
    "\n",
    "\n",
    "\n",
    "# Your output string here:"
   ]
  },
  {
   "cell_type": "markdown",
   "metadata": {},
   "source": [
    "# Challenge 2 - Splitting Strings\n",
    "\n",
    "We have first looked at combining strings into one long string. There are times where we need to do the opposite and split the string into smaller components for further analysis. \n",
    "\n",
    "In the cell below, split the string into a list of strings using the space delimiter. Count the frequency of each word in the string in a dictionary. Strip the periods, line breaks and commas from the text. Make sure to remove empty strings from your dictionary."
   ]
  },
  {
   "cell_type": "code",
   "execution_count": 78,
   "metadata": {},
   "outputs": [
    {
     "name": "stdout",
     "output_type": "stream",
     "text": [
      "[\"['Some\", 'say', 'the', 'world', 'will', 'end', 'in', \"fire'\", \"'Some\", 'say', 'in', \"ice'\", \"'From\", 'what', 'I’ve', 'tasted', 'of', \"desire'\", \"'I\", 'hold', 'with', 'those', 'who', 'favor', \"fire'\", \"'But\", 'if', 'it', 'had', 'to', 'perish', \"twice'\", \"'I\", 'think', 'I', 'know', 'enough', 'of', \"hate'\", \"'To\", 'say', 'that', 'for', 'destruction', \"ice'\", \"'Is\", 'also', \"great'\", \"'And\", 'would', \"suffice']\"]\n",
      "[6, 3, 3, 5, 4, 3, 2, 5, 5, 3, 2, 4, 5, 4, 4, 6, 2, 7, 2, 4, 4, 5, 3, 5, 5, 4, 2, 2, 3, 2, 6, 6, 2, 5, 1, 4, 6, 2, 5, 3, 3, 4, 3, 11, 4, 3, 4, 6, 4, 5, 9]\n",
      "{\"['Some\": 6, 'say': 3, 'the': 3, 'world': 5, 'will': 4, 'end': 3, 'in': 2, \"fire'\": 5, \"'Some\": 5, \"ice'\": 4, \"'From\": 5, 'what': 4, 'I’ve': 4, 'tasted': 6, 'of': 2, \"desire'\": 7, \"'I\": 2, 'hold': 4, 'with': 4, 'those': 5, 'who': 3, 'favor': 5, \"'But\": 4, 'if': 2, 'it': 2, 'had': 3, 'to': 2, 'perish': 6, \"twice'\": 6, 'think': 5, 'I': 1, 'know': 4, 'enough': 6, \"hate'\": 5, \"'To\": 3, 'that': 4, 'for': 3, 'destruction': 11, \"'Is\": 3, 'also': 4, \"great'\": 6, \"'And\": 4, 'would': 5, \"suffice']\": 9}\n"
     ]
    }
   ],
   "source": [
    "poem = \"\"\"Some say the world will end in fire,\n",
    "Some say in ice.\n",
    "From what I’ve tasted of desire\n",
    "I hold with those who favor fire.\n",
    "But if it had to perish twice,\n",
    "I think I know enough of hate\n",
    "To say that for destruction ice\n",
    "Is also great\n",
    "And would suffice.\"\"\"\n",
    "\n",
    "# Your code here:\n",
    "\n",
    "# Clean, strip and split world and include them in a new list\n",
    "poem_clean = re.sub('[,.]','',str(poem.split(\"\\n\")))\n",
    "poem_list = poem_clean.strip(\"\").split(\" \")\n",
    "print(poem_list)\n",
    "    \n",
    "#create a list with the lenght of each word\n",
    "poem_len = [len(l) for l in poem_list]\n",
    "print(poem_len)\n",
    "\n",
    "#combine the two lists in a dictionary\n",
    "poem_dic = {k:v for (k,v) in zip(poem_list,poem_len)}\n",
    "print(poem_dic)\n",
    "\n"
   ]
  },
  {
   "cell_type": "markdown",
   "metadata": {},
   "source": [
    "In the cell below, find all the words that appear in the text and do not appear in the blacklist. You must parse the string but can choose any data structure you wish for the words that do not appear in the blacklist. Remove all non letter characters and convert all words to lower case."
   ]
  },
  {
   "cell_type": "code",
   "execution_count": 121,
   "metadata": {},
   "outputs": [
    {
     "name": "stdout",
     "output_type": "stream",
     "text": [
      "['[i', 'was', 'angry', 'with', 'my', 'friend', 'i', 'told', 'my', 'wrath', 'my', 'wrath', 'did', 'end', 'i', 'was', 'angry', 'with', 'my', 'foe', 'i', 'told', 'it', 'not', 'my', 'wrath', 'did', 'grow', 'and', 'i', 'waterd', 'it', 'in', 'fears', 'night', '&', 'morning', 'with', 'my', 'tears', 'and', 'i', 'sunned', 'it', 'with', 'smiles', 'and', 'with', 'soft', 'deceitful', 'wiles', 'and', 'it', 'grew', 'both', 'day', 'and', 'night', 'till', 'it', 'bore', 'an', 'apple', 'bright', 'and', 'my', 'foe', 'beheld', 'it', 'shine', 'and', 'he', 'knew', 'that', 'it', 'was', 'mine', 'and', 'into', 'my', 'garden', 'stole', 'when', 'the', 'night', 'had', 'veild', 'the', 'pole', 'in', 'the', 'morning', 'glad', 'i', 'see', 'my', 'foe', 'outstretched', 'beneath', 'the', 'tree]']\n",
      "{'waterd', 'day', 'sunned', 'bore', 'outstretched', 'till', 'did', 'shine', 'foe', 'my', 'soft', 'both', 'fears', 'tears', 'into', 'tree]', 'end', 'that', 'see', 'grew', '[i', 'mine', 'was', 'stole', 'wiles', 'told', 'apple', 'beneath', 'bright', 'with', 'friend', 'night', '&', 'beheld', 'had', 'glad', 'wrath', 'not', 'knew', 'angry', 'i', 'deceitful', 'veild', 'pole', 'he', 'smiles', 'morning', 'grow', 'garden', 'when'}\n"
     ]
    }
   ],
   "source": [
    "blacklist = ['and', 'as', 'an', 'a', 'the', 'in', 'it']\n",
    "\n",
    "poem = \"\"\"I was angry with my friend; \n",
    "I told my wrath, my wrath did end.\n",
    "I was angry with my foe: \n",
    "I told it not, my wrath did grow. \n",
    "\n",
    "And I waterd it in fears,\n",
    "Night & morning with my tears: \n",
    "And I sunned it with smiles,\n",
    "And with soft deceitful wiles. \n",
    "\n",
    "And it grew both day and night. \n",
    "Till it bore an apple bright. \n",
    "And my foe beheld it shine,\n",
    "And he knew that it was mine. \n",
    "\n",
    "And into my garden stole, \n",
    "When the night had veild the pole; \n",
    "In the morning glad I see; \n",
    "My foe outstretched beneath the tree.\"\"\"\n",
    "\n",
    "# Your code here:\n",
    "\n",
    "# Clean the poem text and convert into a list\n",
    "poem_lower = poem.lower()\n",
    "poem_clean = re.sub(\"[,|.|;|'|:]\",'',str(poem_lower.split(\"\\n\")))\n",
    "poem_clean_strip = str(poem_clean.strip())\n",
    "poem_list = poem_clean_strip.split(\" \")\n",
    "\n",
    "#remove empty elements from list\n",
    "for elem in poem_list:\n",
    "    if elem == '':\n",
    "        poem_list.remove(elem)\n",
    "\n",
    "for elem in poem_list:\n",
    "    if elem == '':\n",
    "        poem_list.remove(elem)       \n",
    "        \n",
    "print(poem_list)\n",
    "\n",
    "# convert both lists in sets\n",
    "poem_set = set (poem_list)\n",
    "black_set = set(blacklist)\n",
    "\n",
    "# print(poem_set)\n",
    "# print(black_set)\n",
    "\n",
    "text_not_black = poem_set - black_set\n",
    "\n",
    "print(text_not_black)\n"
   ]
  },
  {
   "cell_type": "markdown",
   "metadata": {},
   "source": [
    "# Challenge 3 - Regular Expressions\n",
    "\n",
    "Sometimes, we would like to perform more complex manipulations of our string. This is where regular expressions come in handy. In the cell below, return all characters that are upper case from the string specified below."
   ]
  },
  {
   "cell_type": "code",
   "execution_count": 125,
   "metadata": {},
   "outputs": [
    {
     "name": "stdout",
     "output_type": "stream",
     "text": [
      "['T', 'P']\n"
     ]
    }
   ],
   "source": [
    "poem = \"\"\"The apparition of these faces in the crowd;\n",
    "Petals on a wet, black bough.\"\"\"\n",
    "\n",
    "# Your code here:\n",
    "\n",
    "print(re.findall('[A-Z]', poem))\n",
    "\n"
   ]
  },
  {
   "cell_type": "markdown",
   "metadata": {},
   "source": [
    "In the cell below, filter the list provided and return all elements of the list containing a number. To filter the list, use the `re.search` function. Check if the function does not return `None`. You can read more about the `re.search` function [here](https://docs.python.org/3/library/re.html)."
   ]
  },
  {
   "cell_type": "code",
   "execution_count": 142,
   "metadata": {},
   "outputs": [
    {
     "name": "stdout",
     "output_type": "stream",
     "text": [
      "['123abc', 'abc123', 'JohnSmith1', 'ABBY4']\n"
     ]
    }
   ],
   "source": [
    "data = ['123abc', 'abc123', 'JohnSmith1', 'ABBY4', 'JANE']\n",
    "\n",
    "# Using list comprehension and regular expressions\n",
    "new_data = [entry for entry in data if re.search(\"[0-9]\", entry)]        \n",
    "        \n",
    "print(new_data)\n"
   ]
  },
  {
   "cell_type": "markdown",
   "metadata": {},
   "source": [
    "# Bonus Challenge - Regular Expressions II\n",
    "\n",
    "In the cell below, filter the list provided to keep only strings containing at least one digit and at least one lower case letter. As in the previous question, use the `re.search` function and check that the result is not `None`.\n",
    "\n",
    "To read more about regular expressions, check out [this link](https://developers.google.com/edu/python/regular-expressions)."
   ]
  },
  {
   "cell_type": "code",
   "execution_count": 159,
   "metadata": {},
   "outputs": [
    {
     "name": "stdout",
     "output_type": "stream",
     "text": [
      "['123abc', 'abc123', 'JohnSmith1']\n"
     ]
    }
   ],
   "source": [
    "data = ['123abc', 'abc123', 'JohnSmith1', 'ABBY4', 'JANE']\n",
    "# Your code here:\n",
    "\n",
    "# Using list comprehension and regular expressions - I could not find out how to put two conditions in RE\n",
    "new_data = [entry for entry in data if re.search(\"[0-9]\", entry)] \n",
    "new_data_l = [entry_l for entry_l in new_data if re.search(\"[a-z]\", entry_l)] \n",
    "print(new_data_l)\n"
   ]
  },
  {
   "cell_type": "code",
   "execution_count": null,
   "metadata": {},
   "outputs": [],
   "source": []
  }
 ],
 "metadata": {
  "kernelspec": {
   "display_name": "Python 3",
   "language": "python",
   "name": "python3"
  },
  "language_info": {
   "codemirror_mode": {
    "name": "ipython",
    "version": 3
   },
   "file_extension": ".py",
   "mimetype": "text/x-python",
   "name": "python",
   "nbconvert_exporter": "python",
   "pygments_lexer": "ipython3",
   "version": "3.7.6"
  }
 },
 "nbformat": 4,
 "nbformat_minor": 2
}
