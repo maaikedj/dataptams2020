{
 "cells": [
  {
   "cell_type": "markdown",
   "metadata": {
    "Collapsed": "false"
   },
   "source": [
    "# Before your start:\n",
    "\n",
    "    Read the README.md file\n",
    "    Comment as much as you can and use the resources (README.md file)\n",
    "    Happy learning!\n",
    "\n",
    "*Notes:* \n",
    "\n",
    "- Solve the questions with python.\n",
    "\n",
    "- Round the final answer to three decimal places."
   ]
  },
  {
   "cell_type": "markdown",
   "metadata": {
    "Collapsed": "false"
   },
   "source": [
    "## Bernoulli's Distribution\n",
    "\n",
    "In a basket containing 100 fruits, there are 60 apples and 40 oranges. \n",
    "\n",
    "A fruit is picked randomly from the basket. \n",
    "\n",
    "1. **What is the probability that the fruit is apple?**\n",
    "1. **What is the probability that it is an orange?**"
   ]
  },
  {
   "cell_type": "code",
   "execution_count": null,
   "metadata": {
    "Collapsed": "false"
   },
   "outputs": [],
   "source": [
    "import numpy as np\n",
    "import matplotlib.pyplot as plt\n",
    "\"\"\"\n",
    "Calculate:\n",
    "p = probability that the fruit is an apple \n",
    "q = probability that the fruit is an orange\n",
    "\"\"\"\n",
    "\n",
    "# your code here\n",
    "fruits = 100\n",
    "apples = 60\n",
    "oranges = 40\n",
    "\n",
    "p = apples/fruits\n",
    "p #result: 0.6\n",
    "\n",
    "q = oranges/fruits\n",
    "q #result: 0.4"
   ]
  },
  {
   "cell_type": "markdown",
   "metadata": {
    "Collapsed": "false"
   },
   "source": [
    "Now we take a random sample of 20 fruits from the basket. After each fruit is taken, a new fruit of the same type is replaced in the basket. Therefore, every time we are taking 1 fruit from 100 fruits. \n",
    "\n",
    "1. **What is the probability that the first 5 fruits are all apples?**\n",
    "\n",
    "1. **What is the probability that the first 5 fruits are all apples and the next 15 fruits are all oranges?**\n",
    "\n",
    "You can include the `p` and `q` probabilities you previous calculated in your solution."
   ]
  },
  {
   "cell_type": "code",
   "execution_count": null,
   "metadata": {
    "Collapsed": "false"
   },
   "outputs": [],
   "source": [
    "# your code here\n",
    "\n",
    "# as the fruits are replaced, the probability is calculated by: P(A ∩ B) = P(A) * P(B).... 5 times\n",
    "# so p*p*p*p*p or:\n",
    "quest_one = p ** 5 \n",
    "quest_one #result: 0.077\n",
    "\n",
    "#same thing, we multiply each instances probability to the next:\n",
    "quest_two = (p ** 5) * (q ** 15) \n",
    "#formatting to see full number\n",
    "'{0:.10f}'.format(quest_two) #result: 0.0000000835 \n",
    "#Paolo:yes!"
   ]
  },
  {
   "cell_type": "code",
   "execution_count": null,
   "metadata": {
    "Collapsed": "false"
   },
   "outputs": [],
   "source": [
    "#was trying to do it with bernoulli, but no idea how it works\n",
    "from scipy.stats import bernoulli\n",
    "data_bern = bernoulli.pmf(k=[1,1,1,1,1],p=p)\n",
    "data_bern"
   ]
  },
  {
   "cell_type": "markdown",
   "metadata": {
    "Collapsed": "false"
   },
   "source": [
    "## Binomial Distribution\n",
    "\n",
    "Similar to the above problem, this time again we randomly sample 20 fruits.\n",
    "\n",
    "**What is the probability that this time the sample contains 5 apples and 15 oranges?**\n",
    "\n",
    "Please note that this time the order of the fruits being picked does not matter."
   ]
  },
  {
   "cell_type": "code",
   "execution_count": null,
   "metadata": {
    "Collapsed": "false"
   },
   "outputs": [],
   "source": [
    "# your code here\n",
    "from scipy import stats\n",
    "from scipy.stats import binom\n",
    "\n",
    "#total fruits in sample\n",
    "n = 20\n",
    "#where 60% are apples\n",
    "p = .6\n",
    "\n",
    "#probability of picking 5 apples in a sample of 20\n",
    "binomial = binom(n,p)\n",
    "binomial.pmf(5) #0.0012944935222876511\n",
    "\n",
    "\n",
    "#checking probability of picking 15 oranges in a sample of 20 is the same\n",
    "#where 40% are oranges\n",
    "p = .4\n",
    "binomial = binom(n,q)\n",
    "binomial.pmf(15) #0.0012944935222876511 yes it is\n",
    "#Paolo:yes"
   ]
  },
  {
   "cell_type": "markdown",
   "metadata": {
    "Collapsed": "false"
   },
   "source": [
    "In the lesson we also discussed CDF (cumulative distribution function). In the context of the above problem, **what is the probability that less than 5 fruits picked are apples?**\n",
    "\n",
    "Write the formula and calculate the probability below."
   ]
  },
  {
   "cell_type": "code",
   "execution_count": null,
   "metadata": {
    "Collapsed": "false"
   },
   "outputs": [],
   "source": [
    "# your code here\n",
    "#less than 5 fruits picked are apples:\n",
    "x = 5\n",
    "#Paolo x=4\n",
    "#total picks\n",
    "n = 20\n",
    "# probability of apple\n",
    "p = .6\n",
    "\n",
    "#cumulative distribution function\n",
    "binom.cdf(x, n, p)\n",
    "#Paolo: good approach, although here you should use x=4 not x=5. Here the question is strictly \n",
    "# less than 5 fruits so it means 4 or less. With 5 it would be 5 or less."
   ]
  },
  {
   "cell_type": "code",
   "execution_count": null,
   "metadata": {
    "Collapsed": "false"
   },
   "outputs": [],
   "source": [
    "#Paolo: alternative with pmf summing up to 4.\n",
    "tot=[]\n",
    "for i in range(1,5):\n",
    "    tot.append(binomial.pmf(i))\n",
    "sum(tot)"
   ]
  },
  {
   "cell_type": "markdown",
   "metadata": {
    "Collapsed": "false"
   },
   "source": [
    "**Plot the PDF (probability distributiom function) for the above binomial distribution.**\n",
    "\n",
    "*Hint: The range of x in a binomial distribution is from `0` to `n`.*"
   ]
  },
  {
   "cell_type": "code",
   "execution_count": null,
   "metadata": {
    "Collapsed": "false"
   },
   "outputs": [],
   "source": [
    "# your code here\n",
    "# Please label the axes and give a title to the plot \n",
    "x = np.arange(0,20)\n",
    "fig, ax = plt.subplots(1, 1)\n",
    "ax.plot(x, binom.pmf(x, n, p), 'bo')\n",
    "ax.vlines(x, 0, binom.pmf(x, n, p), colors='b', lw=5, alpha=0.5)\n",
    "ax.set_title('PDF for 5 apples')\n",
    "ax.set_xlabel('total fruits')\n",
    "ax.set_ylabel('probability there are 5 apples')\n",
    "plt.show()\n",
    "\n",
    "# so I think what I can tell from here is that \n",
    "# there is a higher possibility for my sample\n",
    "# to contain 5 apples, if I had only drawn 12 fruits\n",
    "#Paolo: great plot but interpretation is different, check below: "
   ]
  },
  {
   "cell_type": "markdown",
   "metadata": {
    "Collapsed": "false"
   },
   "source": [
    "### Plot interpretation\n",
    "In general this plot shows you the probability of successes (extracting apples here) for a range of draws from 0 to n=20. So it answers the question: What is the probability of extracting x apples in n=20 number of trials?. For example the probability of extracting x=5 apples (given p_apple=0.6 in this case) is 0.001294 as you calculated, but you can also read it off this plot. The probability of extracting 12 apples out of 20 trials is the highest. At the far end the probability of obtaining 20 apples in 20 trials is also infinitesimal. So the plot is not restricted to the case \"there are 5 apples\". The x axis represents the #apples extracted, or number of successes, the y-axis the corresponding probability of the event."
   ]
  },
  {
   "cell_type": "markdown",
   "metadata": {
    "Collapsed": "false"
   },
   "source": [
    "## Poisson Distribution\n",
    "\n",
    "In this challenge you are required to use the Math library in python to solve the problems.\n",
    "\n",
    "In the UEFA champions league tournament, the average number of goals scored in a match is 2.3. \n",
    "\n",
    "**What is the probability that the number of goals scored in a match is 5?**\n",
    "\n",
    "*Hint: Use the exp() in the math library*\n",
    "\n",
    "And to calculate the factorial, you can use the following code:\n",
    "\n",
    "```python\n",
    "import math\n",
    "math.factorial(n) # n is the number you want to find the factorial of\n",
    "```"
   ]
  },
  {
   "cell_type": "code",
   "execution_count": null,
   "metadata": {
    "Collapsed": "false"
   },
   "outputs": [],
   "source": [
    "# your code here \n",
    "from scipy.stats import poisson\n",
    "\n",
    "param = 2.3\n",
    "poisson.pmf(5, param)\n",
    "#result: 0.053775 probability\n",
    "#Paolo: yes, very good! Alternative would have been to define the poisson function yourself, but\n",
    "# your way is shorter"
   ]
  },
  {
   "cell_type": "markdown",
   "metadata": {
    "Collapsed": "false"
   },
   "source": [
    "**Draw a poisson probability distribution plot for the number of goals to be between 0 to 10.**"
   ]
  },
  {
   "cell_type": "code",
   "execution_count": null,
   "metadata": {
    "Collapsed": "false"
   },
   "outputs": [],
   "source": [
    "# your code here\n",
    "# Please label the axes and give a title to the plot \n",
    "\n",
    "x = np.arange(0,10)\n",
    "\n",
    "fig, ax = plt.subplots(1, 1)\n",
    "ax.plot(x, poisson.pmf(x, param), 'bo', ms=1)\n",
    "#Plot axis vertical lines\n",
    "ax.vlines(x, 0, poisson.pmf(x, param), colors='b', lw=5, alpha=0.5)\n",
    "ax.set_title('Prob distribution for goals per match with parameter 2.3')\n",
    "ax.set_xlabel('total goals')\n",
    "ax.set_ylabel('probability')\n",
    "plt.show()\n",
    "#Paolo:yes!"
   ]
  }
 ],
 "metadata": {
  "kernelspec": {
   "display_name": "Python 3",
   "language": "python",
   "name": "python3"
  },
  "language_info": {
   "codemirror_mode": {
    "name": "ipython",
    "version": 3
   },
   "file_extension": ".py",
   "mimetype": "text/x-python",
   "name": "python",
   "nbconvert_exporter": "python",
   "pygments_lexer": "ipython3",
   "version": "3.7.6"
  }
 },
 "nbformat": 4,
 "nbformat_minor": 4
}
