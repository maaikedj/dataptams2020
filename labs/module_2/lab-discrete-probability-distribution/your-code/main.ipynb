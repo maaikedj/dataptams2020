{
 "cells": [
  {
   "cell_type": "markdown",
   "metadata": {
    "Collapsed": "false"
   },
   "source": [
    "# Before your start:\n",
    "\n",
    "    Read the README.md file\n",
    "    Comment as much as you can and use the resources (README.md file)\n",
    "    Happy learning!\n",
    "\n",
    "*Notes:* \n",
    "\n",
    "- Solve the questions with python.\n",
    "\n",
    "- Round the final answer to three decimal places."
   ]
  },
  {
   "cell_type": "code",
   "execution_count": null,
   "metadata": {
    "Collapsed": "false"
   },
   "outputs": [],
   "source": [
    "import numpy as np\n",
    "import matplotlib.pyplot as plt\n",
    "from scipy.stats import bernoulli\n",
    "from scipy.stats import binom\n",
    "%matplotlib inline\n",
    "from scipy import stats"
   ]
  },
  {
   "cell_type": "markdown",
   "metadata": {
    "Collapsed": "false"
   },
   "source": [
    "## Bernoulli's Distribution\n",
    "\n",
    "In a basket containing 100 fruits, there are 60 apples and 40 oranges. \n",
    "\n",
    "A fruit is picked randomly from the basket. \n",
    "\n",
    "1. **What is the probability that the fruit is apple?**\n",
    "1. **What is the probability that it is an orange?**"
   ]
  },
  {
   "cell_type": "code",
   "execution_count": null,
   "metadata": {
    "Collapsed": "false"
   },
   "outputs": [],
   "source": [
    "\"\"\"\n",
    "Calculate:\n",
    "p = probability that the fruit is an apple \n",
    "q = probability that the fruit is an orange\n",
    "\"\"\"\n",
    "# your code here\n",
    "apple=60\n",
    "orange=40\n",
    "total=100\n",
    "\n",
    "#1  p = 0.6\n",
    "p=apple/total\n",
    "p"
   ]
  },
  {
   "cell_type": "code",
   "execution_count": null,
   "metadata": {
    "Collapsed": "false"
   },
   "outputs": [],
   "source": [
    "#2  q = 0.4\n",
    "q=orange/total\n",
    "q"
   ]
  },
  {
   "cell_type": "code",
   "execution_count": null,
   "metadata": {
    "Collapsed": "false"
   },
   "outputs": [],
   "source": [
    "p=0.6\n",
    "X = bernoulli.rvs(p,size=100)\n",
    "plt.hist(X)\n",
    "plt.show()"
   ]
  },
  {
   "cell_type": "markdown",
   "metadata": {
    "Collapsed": "false"
   },
   "source": [
    "Now we take a random sample of 20 fruits from the basket. After each fruit is taken, a new fruit of the same type is replaced in the basket. Therefore, every time we are taking 1 fruit from 100 fruits. \n",
    "\n",
    "1. **What is the probability that the first 5 fruits are all apples?**\n",
    "\n",
    "1. **What is the probability that the first 5 fruits are all apples and the next 15 fruits are all oranges?**\n",
    "\n",
    "You can include the `p` and `q` probabilities you previous calculated in your solution."
   ]
  },
  {
   "cell_type": "code",
   "execution_count": null,
   "metadata": {
    "Collapsed": "false"
   },
   "outputs": [],
   "source": [
    "# your code here\n",
    "#1 The probability that the first 5 fruits are all apples is equal to 5 times p = 0.078 \n",
    "p**5"
   ]
  },
  {
   "cell_type": "code",
   "execution_count": null,
   "metadata": {
    "Collapsed": "false"
   },
   "outputs": [],
   "source": [
    "#2 The probability that the first 5 fruits are all apples an the next 15\n",
    "# fruits are all oranges is equal to 5 times p ties 15 times q = 0.000000008 ~ = 0.000\n",
    "(p**5)*(q**15)\n",
    "#Paolo: yes, great work!"
   ]
  },
  {
   "cell_type": "markdown",
   "metadata": {
    "Collapsed": "false"
   },
   "source": [
    "## Binomial Distribution\n",
    "\n",
    "Similar to the above problem, this time again we randomly sample 20 fruits.\n",
    "\n",
    "**What is the probability that this time the sample contains 5 apples and 15 oranges?**\n",
    "\n",
    "Please note that this time the order of the fruits being picked does not matter."
   ]
  },
  {
   "cell_type": "code",
   "execution_count": null,
   "metadata": {
    "Collapsed": "false"
   },
   "outputs": [],
   "source": [
    "# your code here\n",
    "n=20\n",
    "pA=0.6\n",
    "pO=0.4\n",
    "binomial=binom(n,pA)\n",
    "\n",
    "x = np.arange(0,20)\n",
    "fig,ax = plt.subplots(1,1)\n",
    "ax.plot(x,binom.pmf(x,n,pA),'bo')\n",
    "ax.vlines(x,0,binom.pmf(x,n,pA),colors='b',lw=5,alpha=0.5)\n",
    "print(binomial.pmf(5))\n",
    "#Paolo: yes"
   ]
  },
  {
   "cell_type": "code",
   "execution_count": null,
   "metadata": {
    "Collapsed": "false"
   },
   "outputs": [],
   "source": [
    "binomial=binom(n,pO)\n",
    "x = np.arange(0,20)\n",
    "fig,ax = plt.subplots(1,1)\n",
    "ax.plot(x,binom.pmf(x,n,pO),'bo')\n",
    "ax.vlines(x,0,binom.pmf(x,n,pO),colors='b',lw=5,alpha=0.5)\n",
    "print(binomial.pmf(15))\n",
    "#Paolo: you do it with the oranges too :)"
   ]
  },
  {
   "cell_type": "markdown",
   "metadata": {
    "Collapsed": "false"
   },
   "source": [
    "In the lesson we also discussed CDF (cumulative distribution function). In the context of the above problem, **what is the probability that less than 5 fruits picked are apples?**\n",
    "\n",
    "Write the formula and calculate the probability below."
   ]
  },
  {
   "cell_type": "code",
   "execution_count": null,
   "metadata": {
    "Collapsed": "false"
   },
   "outputs": [],
   "source": [
    "# your code here\n",
    "x = np.arange(0,20)\n",
    "fig,ax = plt.subplots(1,1)\n",
    "ax.plot(x,binom.cdf(x,n,pA),'bo')\n",
    "ax.vlines(x,0,binom.cdf(x,n,pA),colors='b',lw=5,alpha=0.5)\n",
    "print(binomial.cdf(5))\n",
    "#Paolo: good thinking, but  your binomial.cdf(5) refers to the oranges, while you need to calculate for apples\n",
    "# check below"
   ]
  },
  {
   "cell_type": "code",
   "execution_count": null,
   "metadata": {
    "Collapsed": "false"
   },
   "outputs": [],
   "source": [
    "#Paolo: have a look here\n",
    "binomial_app=binom(n,pA)\n",
    "print(binomial_app.cdf(4))#Paolo: it is 4 because you are asked less than 5, if you do cdf(5)\n",
    "# means up to 5. "
   ]
  },
  {
   "cell_type": "markdown",
   "metadata": {
    "Collapsed": "false"
   },
   "source": [
    "**Plot the PDF (probability distributiom function) for the above binomial distribution.**\n",
    "\n",
    "*Hint: The range of x in a binomial distribution is from `0` to `n`.*"
   ]
  },
  {
   "cell_type": "code",
   "execution_count": null,
   "metadata": {
    "Collapsed": "false"
   },
   "outputs": [],
   "source": [
    "# your code here\n",
    "# Please label the axes and give a title to the plot \n",
    "x = np.arange(0,20)\n",
    "fig,ax = plt.subplots(1,1)\n",
    "ax.plot(x,binom.pmf(x,n,pA),'bo')\n",
    "ax.vlines(x,0,binom.pmf(x,n,pA),colors='b',lw=5,alpha=0.5)\n",
    "ax.set_title('Probability that less than 5 fruits picked are apples out of 20 fruits')\n",
    "ax.set_xlabel('Nº of Apples')\n",
    "ax.set_ylabel('Probability')\n",
    "print(binomial.cdf(5))\n",
    "\n",
    "#Paolo: yes, be careful about plot interpretation, it is not\n",
    "#\"Probability than less than 5 fruits picked are apples out of 20 fruits\""
   ]
  },
  {
   "cell_type": "markdown",
   "metadata": {
    "Collapsed": "false"
   },
   "source": [
    "### Plot interpretation\n",
    "In general this plot shows you the probability of successes (extracting apples here) for a range of draws from 0 to n=20. So it answers the question: What is the probability of extracting x apples in n=20 number of trials?. For example the probability of extracting x=5 apples (given p_apple=0.6 in this case) is 0.001294 as you calculated, but you can also read it off this plot. The probability of extracting 12 apples out of 20 trials is the highest. At the far end the probability of obtaining 20 apples in 20 trials is also infinitesimal. So the plot is not about \"less than 5 fruits are apples\". The x axis represents the #apples extracted, or number of successes, the y-axis the corresponding probability of the event."
   ]
  },
  {
   "cell_type": "markdown",
   "metadata": {
    "Collapsed": "false"
   },
   "source": [
    "## Poisson Distribution\n",
    "\n",
    "In this challenge you are required to use the Math library in python to solve the problems.\n",
    "\n",
    "In the UEFA champions league tournament, the average number of goals scored in a match is 2.3. \n",
    "\n",
    "**What is the probability that the number of goals scored in a match is 5?**\n",
    "\n",
    "*Hint: Use the exp() in the math library*\n",
    "\n",
    "And to calculate the factorial, you can use the following code:\n",
    "\n",
    "```python\n",
    "import math\n",
    "math.factorial(n) # n is the number you want to find the factorial of\n",
    "```"
   ]
  },
  {
   "cell_type": "code",
   "execution_count": null,
   "metadata": {
    "Collapsed": "false"
   },
   "outputs": [],
   "source": [
    "# your code here\n",
    "#P(X=5)=(e**(-2.3))*((2.3**(5))/(5!))\n",
    "import math\n",
    "PX_5=(math.exp(-2.3))*((2.3**(5))/(5*4*3*2*1))\n",
    "PX_5"
   ]
  },
  {
   "cell_type": "markdown",
   "metadata": {
    "Collapsed": "false"
   },
   "source": [
    "**Draw a poisson probability distribution plot for the number of goals to be between 0 to 10.**"
   ]
  },
  {
   "cell_type": "code",
   "execution_count": null,
   "metadata": {
    "Collapsed": "false"
   },
   "outputs": [],
   "source": [
    "# your code here\n",
    "# Please label the axes and give a title to the plot \n",
    "%matplotlib inline \n",
    "from scipy import stats\n",
    "from scipy.stats import poisson\n",
    "param = 2.3\n",
    "x = np.arange(0,10)\n",
    "fig, ax = plt.subplots(1, 1)\n",
    "ax.plot(x, poisson.pmf(x, param), 'bo', ms=1, label='poisson pmf')\n",
    "ax.vlines(x, 0, poisson.pmf(x, param), colors='b', lw=5, alpha=0.5)\n",
    "ax.set_title('Probability of making a goal in a match')\n",
    "ax.set_xlabel('Nº of Goals')\n",
    "ax.set_ylabel('Probability')"
   ]
  }
 ],
 "metadata": {
  "kernelspec": {
   "display_name": "Python 3",
   "language": "python",
   "name": "python3"
  },
  "language_info": {
   "codemirror_mode": {
    "name": "ipython",
    "version": 3
   },
   "file_extension": ".py",
   "mimetype": "text/x-python",
   "name": "python",
   "nbconvert_exporter": "python",
   "pygments_lexer": "ipython3",
   "version": "3.7.4"
  }
 },
 "nbformat": 4,
 "nbformat_minor": 4
}
