{
 "cells": [
  {
   "cell_type": "markdown",
   "metadata": {
    "Collapsed": "false"
   },
   "source": [
    "# Interactive Visualization Lab\n",
    "\n",
    "Complete the following set of exercises to solidify your knowledge of interactive visualization using Plotly, Cufflinks, and IPyWidgets."
   ]
  },
  {
   "cell_type": "code",
   "execution_count": null,
   "metadata": {
    "Collapsed": "false"
   },
   "outputs": [],
   "source": [
    "import chart_studio.plotly as py\n",
    "import cufflinks as cf\n",
    "import pandas as pd\n",
    "%matplotlib inline\n",
    "from ipywidgets import interact\n",
    "from ipywidgets import interact, interactive, fixed, interact_manual\n",
    "import ipywidgets as widgets\n",
    "from plotly import tools\n",
    "import plotly.graph_objs as go\n",
    "import warnings\n",
    "\n",
    "cf.go_offline()"
   ]
  },
  {
   "cell_type": "markdown",
   "metadata": {
    "Collapsed": "false"
   },
   "source": [
    "Please download the Online_retail dataset dataset from [here](https://drive.google.com/file/d/1jD7eQYnfcvbm1ksDbD12U22JtbKItU7E/view?usp=sharing), place it in the data folder.<br>\n",
    "Load the data:"
   ]
  },
  {
   "cell_type": "code",
   "execution_count": null,
   "metadata": {
    "Collapsed": "false"
   },
   "outputs": [],
   "source": [
    "data = pd.read_excel('../data/Online_Retail.xlsx')"
   ]
  },
  {
   "cell_type": "code",
   "execution_count": null,
   "metadata": {
    "Collapsed": "false"
   },
   "outputs": [],
   "source": [
    "data.head()"
   ]
  },
  {
   "cell_type": "markdown",
   "metadata": {
    "Collapsed": "false"
   },
   "source": [
    "## 1. Create an interactive bar chart showing total quantity and revenue by country (excluding United Kingdom) for the month of April 2011."
   ]
  },
  {
   "cell_type": "code",
   "execution_count": null,
   "metadata": {
    "Collapsed": "false"
   },
   "outputs": [],
   "source": [
    "by_country = data[data['Country'] != 'United Kingdom'].pivot_table(index='Country', values=['Revenue', 'Quantity'],aggfunc='sum')\n",
    "by_country.iplot(kind='bar')\n",
    "by_country\n",
    "#Good work! Notice though that it is only for the month of April so you should subset that part only"
   ]
  },
  {
   "cell_type": "markdown",
   "metadata": {
    "Collapsed": "false"
   },
   "source": [
    "## 2. Create an interactive line chart showing quantity and revenue sold to France between January 1st and May 31st 2011."
   ]
  },
  {
   "cell_type": "code",
   "execution_count": null,
   "metadata": {
    "Collapsed": "false"
   },
   "outputs": [],
   "source": [
    "france = data[(data['Country'] == 'France')&(data['InvoiceDate'] >= '2011-01-01 00:00:00')&(data['InvoiceDate'] <= '2011-05-31 23:59:59')]\n",
    "france[['InvoiceDate', 'Quantity', 'Revenue']].pivot_table(index='InvoiceDate', aggfunc='sum').iplot(kind='line')\n",
    "#Paolo: very good rememeber to sum adding aggfunc='sum' to have the total per date, I added it in your code"
   ]
  },
  {
   "cell_type": "markdown",
   "metadata": {
    "Collapsed": "false"
   },
   "source": [
    "## 3. Create an interactive scatter plot showing the relationship between average quantity (x-axis) and average unit price (y-axis) for the product PARTY BUNTING with the plot points color-coded by country (categories)."
   ]
  },
  {
   "cell_type": "code",
   "execution_count": null,
   "metadata": {
    "Collapsed": "false"
   },
   "outputs": [],
   "source": [
    "party_bunting = data[data['Description'] == 'PARTY BUNTING']\n",
    "party_bunting.iplot( x='Quantity', y='UnitPrice', categories='Country')\n",
    "#Paolo: good approach, good plot here you are the average quantity so you should compute the mean \n",
    "# see alternative below"
   ]
  },
  {
   "cell_type": "code",
   "execution_count": null,
   "metadata": {},
   "outputs": [],
   "source": [
    "bunting = data[data['Description']=='PARTY BUNTING'][['Country', 'Quantity', 'UnitPrice']]\n",
    "grouped = bunting.groupby('Country').agg('mean').reset_index()\n",
    "\n",
    "grouped.iplot(kind='scatter', x='Quantity', y='UnitPrice', categories='Country',\n",
    "              xTitle='Avg. Quantity', yTitle='Avg. Unit Price', \n",
    "              title='Avg. Quantity vs. Unit Price by Country')"
   ]
  },
  {
   "cell_type": "markdown",
   "metadata": {
    "Collapsed": "false"
   },
   "source": [
    "## 4. Create a set of interactive histograms showing the distributions of quantity per invoice for the following countries: EIRE, Germany, France, and Netherlands."
   ]
  },
  {
   "cell_type": "code",
   "execution_count": null,
   "metadata": {
    "Collapsed": "false"
   },
   "outputs": [],
   "source": [
    "qty_inv = (data[data['Country'].isin(['EIRE', 'Germany', 'France', 'Netherlands'])]\n",
    "           [['Country', 'InvoiceNo', 'Quantity']]\n",
    "          .pivot_table(index='InvoiceNo', columns='Country', values='Quantity', aggfunc='sum')\n",
    "          )\n",
    "qty_inv.iplot(kind='hist', subplots=True)"
   ]
  },
  {
   "cell_type": "markdown",
   "metadata": {
    "Collapsed": "false"
   },
   "source": [
    "## 5. Create an interactive side-by-side bar chart showing the revenue by country listed below (bars) for each of the products listed below."
   ]
  },
  {
   "cell_type": "code",
   "execution_count": null,
   "metadata": {
    "Collapsed": "false"
   },
   "outputs": [],
   "source": [
    "product_list = ['JUMBO BAG RED RETROSPOT', \n",
    "                'CREAM HANGING HEART T-LIGHT HOLDER',\n",
    "                'REGENCY CAKESTAND 3 TIER']\n",
    "\n",
    "country_list = ['EIRE', 'Germany', 'France', 'Netherlands']"
   ]
  },
  {
   "cell_type": "code",
   "execution_count": null,
   "metadata": {
    "Collapsed": "false"
   },
   "outputs": [],
   "source": [
    "countries = data[data['Country'].isin(country_list) & data['Description'].isin(product_list)][['Country', 'Revenue', 'Description']]\n",
    "countries.pivot_table(index='Country', columns='Description').iplot(kind='bar')\n",
    "#Paolo good plot, remember to sum the revenues, adding aggfunc='sum'"
   ]
  },
  {
   "cell_type": "markdown",
   "metadata": {
    "Collapsed": "false"
   },
   "source": [
    "## 6. Create an interactive line chart showing quantity sold by day for the United Kingdom. Add drop-down boxes for Year and Month that allow you to filter the date range that appears in the chart."
   ]
  },
  {
   "cell_type": "code",
   "execution_count": null,
   "metadata": {
    "Collapsed": "false"
   },
   "outputs": [],
   "source": [
    "data['Year'] = pd.DatetimeIndex(data['InvoiceDate']).year\n",
    "data['Month'] = pd.DatetimeIndex(data['InvoiceDate']).month\n",
    "data['Day'] = pd.DatetimeIndex(data['InvoiceDate']).day\n",
    "uk = data[data['Country']=='United Kingdom']"
   ]
  },
  {
   "cell_type": "code",
   "execution_count": null,
   "metadata": {
    "Collapsed": "false"
   },
   "outputs": [],
   "source": [
    "uk_dates =uk[['Year', 'Month', 'Day', 'Quantity']]\n",
    "@interact(Year=list(uk_dates['Year'].unique()),\n",
    "          Month=list(uk_dates['Month'].unique())\n",
    "         )\n",
    "def dyn_linec(Year, Month):\n",
    "    data = uk_dates[(uk_dates['Year'] == Year) &\n",
    "              (uk_dates['Month'] == Month)\n",
    "        \n",
    "    ]\n",
    "    data.pivot_table(index=['Day'], columns=['Month', 'Year']).iplot(kind='line')\n",
    "#Paolo: very good, I would add the aggfunc='sum' in the pivot table to have the total sum"
   ]
  },
  {
   "cell_type": "markdown",
   "metadata": {
    "Collapsed": "false"
   },
   "source": [
    "# Bonus challenges"
   ]
  },
  {
   "cell_type": "markdown",
   "metadata": {
    "Collapsed": "false"
   },
   "source": [
    "## 7. Create an interactive scatter plot that plots number of invoices (x-axis) vs. number of customers (y-axis) and the plot points represent individual products. Add two sliders that control the x and y axis ranges."
   ]
  },
  {
   "cell_type": "code",
   "execution_count": null,
   "metadata": {
    "Collapsed": "false"
   },
   "outputs": [],
   "source": [
    "#Paolo: good work!\n",
    "agg_func = {'InvoiceNo':'nunique',\n",
    "            'Quantity':'sum',\n",
    "            'UnitPrice':'mean',\n",
    "            'Revenue':'sum',\n",
    "            'CustomerID':'nunique'}\n",
    "\n",
    "products = uk.groupby('Description').agg(agg_func)"
   ]
  },
  {
   "cell_type": "code",
   "execution_count": null,
   "metadata": {
    "Collapsed": "false"
   },
   "outputs": [],
   "source": [
    "@interact(x_range = (100, 1000),\n",
    "          y_range = (100,1000))\n",
    "\n",
    "def chart(x_range, y_range):\n",
    "    layout = go.Layout(\n",
    "        xaxis=dict(\n",
    "            range=[0, x_range]\n",
    "        ),\n",
    "        yaxis=dict(\n",
    "            range=[0, y_range]\n",
    "        )\n",
    "    )\n",
    "    products.iplot( kind='scatter', x='InvoiceNo', y='CustomerID', mode='markers', layout= layout)"
   ]
  },
  {
   "cell_type": "markdown",
   "metadata": {
    "Collapsed": "false"
   },
   "source": [
    "## 8. Creat an interactive bar chart that shows revenue by product description. Add a text field widget that filters the results to show the product that contain the text entered in their description."
   ]
  },
  {
   "cell_type": "code",
   "execution_count": null,
   "metadata": {
    "Collapsed": "false"
   },
   "outputs": [],
   "source": [
    "#Paolo: good progress: have a look at cell below for complete example\n",
    "@interact(Product='')\n",
    "\n",
    "def chart(Product):\n",
    "    Product = [Product]\n",
    "    values = list(data['Description'].unique())\n",
    "    if len(data[data['Description'] == Product[0]]) == 0:\n",
    "        print('ha')\n",
    "        Product = values\n",
    "    print(Product)\n",
    "    data[data['Description'].isin(Product)][['Description', 'Revenue']].pivot_table(index= 'Description', values='Revenue', aggfunc='sum').iplot(kind='bar')\n",
    "\n"
   ]
  },
  {
   "cell_type": "code",
   "execution_count": null,
   "metadata": {},
   "outputs": [],
<<<<<<< HEAD
   "source": []
=======
   "source": [
    "#Paolo: possbile visualization\n",
    "@interact(Product='')\n",
    "\n",
    "def chart(Product):\n",
    "    df = data[data['Description'].str.contains(Product.upper())]\n",
    "    grouped = df.groupby('Description').agg({'Revenue':'sum'})\n",
    "    grouped.iplot(kind='bar')"
   ]
  },
  {
   "cell_type": "code",
   "execution_count": null,
   "metadata": {
    "Collapsed": "false"
   },
   "outputs": [],
   "source": [
    "\n",
    "# CREAM HANGING HEART T-LIGHT HOLDER\n",
    "# PINK CRYSTAL SKULL PHONE CHARM\n",
    "data['Description'].sort_values()\n",
    "# data[data['Description'] == '4 PURPLE FLOCK DINNER CANDLES']\n",
    "# 4 PURPLE FLOCK DINNER CANDLES\n",
    "# data\n",
    "bla = 'CREAM HANGING HEART T-LIGHT HOLDER'\n",
    "data[data['Description'] == bla][['Description', 'Revenue']]"
   ]
>>>>>>> f5aeaf8c41d2323724635bb501aba27004c9579b
  },
  {
   "cell_type": "code",
   "execution_count": null,
   "metadata": {
    "Collapsed": "false"
   },
   "outputs": [],
   "source": []
  },
  {
   "cell_type": "code",
   "execution_count": null,
   "metadata": {
    "Collapsed": "false"
   },
   "outputs": [],
   "source": []
  },
  {
   "cell_type": "code",
   "execution_count": null,
   "metadata": {
    "Collapsed": "false"
   },
   "outputs": [],
   "source": []
  }
 ],
 "metadata": {
  "hide_input": false,
  "kernelspec": {
   "display_name": "Python 3",
   "language": "python",
   "name": "python3"
  },
  "language_info": {
   "codemirror_mode": {
    "name": "ipython",
    "version": 3
   },
   "file_extension": ".py",
   "mimetype": "text/x-python",
   "name": "python",
   "nbconvert_exporter": "python",
   "pygments_lexer": "ipython3",
   "version": "3.7.6"
  },
  "latex_envs": {
   "LaTeX_envs_menu_present": true,
   "autoclose": false,
   "autocomplete": true,
   "bibliofile": "biblio.bib",
   "cite_by": "apalike",
   "current_citInitial": 1,
   "eqLabelWithNumbers": true,
   "eqNumInitial": 1,
   "hotkeys": {
    "equation": "Ctrl-E",
    "itemize": "Ctrl-I"
   },
   "labels_anchors": false,
   "latex_user_defs": false,
   "report_style_numbering": false,
   "user_envs_cfg": false
  },
  "toc": {
   "base_numbering": 1,
   "nav_menu": {},
   "number_sections": true,
   "sideBar": true,
   "skip_h1_title": false,
   "title_cell": "Table of Contents",
   "title_sidebar": "Contents",
   "toc_cell": false,
   "toc_position": {},
   "toc_section_display": true,
   "toc_window_display": false
  }
 },
 "nbformat": 4,
 "nbformat_minor": 4
}
