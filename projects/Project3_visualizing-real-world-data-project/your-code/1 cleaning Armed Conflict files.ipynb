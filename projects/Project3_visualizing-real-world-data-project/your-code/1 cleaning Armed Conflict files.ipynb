{
 "cells": [
  {
   "cell_type": "code",
   "execution_count": null,
   "metadata": {},
   "outputs": [],
   "source": [
    "#importing libraries\n",
    "import pandas as pd\n",
    "import numpy as np\n",
    "import matplotlib.pyplot as plt\n",
    "import seaborn as sns\n",
    "import chart_studio.plotly as py\n",
    "import cufflinks as cf\n",
    "from ipywidgets import interact\n",
    "\n",
    "cf.go_offline()"
   ]
  },
  {
   "cell_type": "code",
   "execution_count": null,
   "metadata": {},
   "outputs": [],
   "source": [
    "#reading my data files:\n",
    "africa = pd.read_excel('../data/Africa_1997-2020_Mar21.xlsx')\n",
    "latinamerica = pd.read_excel('../data/LatinAmerica_2018-2020_Mar21.xlsx')\n",
    "middleeast = pd.read_excel('../data/MiddleEast_2015-2020_Mar21-1.xlsx')\n",
    "demographics = pd.read_excel('../data/country_profile_variables.xlsx')\n",
    "\n",
    "#testing they are all working\n",
    "# africa.head()\n",
    "# latinamerica.head()\n",
    "# middleeast.head()\n",
    "# demographics.head()\n",
    "\n",
    "# demographics.dtypes\n",
    "\n",
    "#checking for nan values\n",
    "#null_cols = demographics.isna().sum()\n",
    "#null_cols[null_cols > 0]\n",
    "\n",
    "#there is a lot, but as I don't know which countries I'll be using, I'll leave it for now"
   ]
  },
  {
   "cell_type": "code",
   "execution_count": null,
   "metadata": {},
   "outputs": [],
   "source": [
    "# select events only from 2019 \n",
    "year_africa = africa.loc[africa.YEAR == 2019]\n",
    "year_latinamerica = latinamerica.loc[latinamerica.YEAR == 2019]\n",
    "year_middleeast = middleeast.loc[middleeast.YEAR == 2019]\n",
    "\n",
    "# adding column to signify continent\n",
    "year_africa['continent'] = 'Africa'\n",
    "year_latinamerica['continent'] = 'LatinAmerica'\n",
    "year_middleeast['continent'] = 'MiddleEast'\n",
    "\n",
    "#concatenating all countries + demographics in one file\n",
    "percountry_df = pd.concat((year_africa,year_latinamerica,year_middleeast))\n",
    "\n",
    "percountry_df.columns"
   ]
  },
  {
   "cell_type": "code",
   "execution_count": null,
   "metadata": {},
   "outputs": [],
   "source": [
    "#want to know event types per country\n",
    "eventpercountry_df = percountry_df.pivot_table(index=('continent','COUNTRY'),columns='EVENT_TYPE',values='FATALITIES', aggfunc=(len))\n",
    "\n",
    "# replace nan by zeros\n",
    "eventpercountry_df = eventpercountry_df.fillna(0)\n",
    "\n",
    "# and total events and fatalities per country\n",
    "fatalitiespercountry_df = percountry_df.pivot_table(index='COUNTRY',values='FATALITIES', aggfunc=(len,sum))\n",
    "fatalitiespercountry_df = fatalitiespercountry_df.rename(columns={'len': 'total conflicts 2019', 'sum': 'total fatalities 2019'})\n",
    "\n",
    "# merge everything to have one file\n",
    "df = pd.merge(eventpercountry_df, demographics, left_on =\"COUNTRY\" , right_on = \"country\")\n",
    "df = pd.merge(df, fatalitiespercountry_df, left_on =\"country\" , right_on = \"COUNTRY\")\n",
    "df = pd.merge(df, percountry_df[['continent','COUNTRY']], left_on =\"country\" , right_on = \"COUNTRY\")\n",
    "\n",
    "#checking for nan values\n",
    "null_cols = df.isna().sum()\n",
    "null_cols[null_cols > 0]\n",
    "# still a lot of nan values on health and education\n",
    "\n",
    "df.columns"
   ]
  },
  {
   "cell_type": "code",
   "execution_count": null,
   "metadata": {},
   "outputs": [],
   "source": [
    "# adding a few new colums per capita %\n",
    "df['total conflicts 2019 per capita'] = df['total conflicts 2019'] / df['Population in thousands (2017)']\n",
    "df['total fatalities 2019 per capita'] = df['total fatalities 2019'] / df['Population in thousands (2017)']\n",
    "df['total Protests 2019 per capita'] = df['Protests'] / df['Population in thousands (2017)']\n",
    "df['total Explosions/Remote violence 2019 per capita'] = df['Explosions/Remote violence'] / df['Population in thousands (2017)']\n",
    "df['total Battles 2019 per capita'] = df['Battles'] / df['Population in thousands (2017)']\n"
   ]
  },
  {
   "cell_type": "code",
   "execution_count": null,
   "metadata": {},
   "outputs": [],
   "source": [
    "#create new files:\n",
    "df.to_csv(\"../data/df.csv\") \n",
    "percountry_df.to_csv(\"../data/percountry_df.csv\") \n"
   ]
  }
 ],
 "metadata": {
  "kernelspec": {
   "display_name": "Python 3",
   "language": "python",
   "name": "python3"
  },
  "language_info": {
   "codemirror_mode": {
    "name": "ipython",
    "version": 3
   },
   "file_extension": ".py",
   "mimetype": "text/x-python",
   "name": "python",
   "nbconvert_exporter": "python",
   "pygments_lexer": "ipython3",
   "version": "3.8.1"
  }
 },
 "nbformat": 4,
 "nbformat_minor": 4
}
