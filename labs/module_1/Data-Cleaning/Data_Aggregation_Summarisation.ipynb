{
 "cells": [
  {
   "cell_type": "markdown",
   "metadata": {
    "colab_type": "text",
    "id": "IZBSVvuey3ul"
   },
   "source": [
    "# Data Aggregation & Summarization"
   ]
  },
  {
   "cell_type": "markdown",
   "metadata": {
    "colab_type": "text",
    "id": "nFPg-QRCy81V"
   },
   "source": [
    "## Introduction\n",
    "\n",
    "Aggregating and summarizing are essential tools in data analysis. They allow us to perform computations on our data or look at descriptive statistics for subsets of the data. These calculations can help us make meaningful inference regarding our data.\n",
    "\n",
    "We will use the vehicles.csv data set you used in Module 1. In case you don't have the data set handy, download it again from here. Extract the content of the downloaded file to your machine. vehicles.csv is contained in the extracted folder."
   ]
  },
  {
   "cell_type": "markdown",
   "metadata": {
    "colab_type": "text",
    "id": "_4Gce3JxzA2N"
   },
   "source": [
    "## Grouping\n",
    "\n",
    "We have looked at the group by clause in SQL in previous lessons. Pandas has a similar function that enables us to perform aggregations - the groupby function.\n",
    "\n",
    "Applying the groupby function to a DataFrame will return a DataFrameGroupBy object. We then specify the columns that we intend to group on.\n",
    "\n",
    "Recall the vehicles dataset from previous lessons:"
   ]
  },
  {
   "cell_type": "code",
   "execution_count": null,
   "metadata": {
    "colab": {},
    "colab_type": "code",
    "id": "NcDvWtjnyfd5"
   },
   "outputs": [],
   "source": [
    "import numpy as np\n",
    "import pandas as pd"
   ]
  },
  {
   "cell_type": "code",
   "execution_count": null,
   "metadata": {
    "colab": {},
    "colab_type": "code",
    "id": "IzzqY4hzzHF4"
   },
   "outputs": [],
   "source": [
    "vehicles = pd.read_csv('vehicles.csv')"
   ]
  },
  {
   "cell_type": "code",
   "execution_count": null,
   "metadata": {},
   "outputs": [],
   "source": [
    "vehicles.head()"
   ]
  },
  {
   "cell_type": "code",
   "execution_count": null,
   "metadata": {},
   "outputs": [],
   "source": [
    "vehicles.groupby(['Transmission'])"
   ]
  },
  {
   "cell_type": "markdown",
   "metadata": {
    "colab_type": "text",
    "id": "wfe4VaaEzNiC"
   },
   "source": [
    "This object contains information that can be \"unleashed\" when an aggregation is applied to this object."
   ]
  },
  {
   "cell_type": "markdown",
   "metadata": {
    "colab_type": "text",
    "id": "LA6OVBSQzRCm"
   },
   "source": [
    "## Aggregations\n",
    "\n",
    "We can apply different aggregation functions to our grouped data. We can use some standard functions or define our own functions and then apply them to the aggregated data using the agg function.\n",
    "\n",
    "Some standard aggregation functions are: mean, sum, count, median, min, max, std.\n",
    "\n",
    "We can also use the agg function to apply multiple aggregations at once to all columns specified.\n",
    "\n",
    "After aggregating, we can subset the data to only apply the aggregation to the columns that we choose.\n",
    "\n",
    "Here are some examples of standard aggregation functions:"
   ]
  },
  {
   "cell_type": "code",
   "execution_count": null,
   "metadata": {
    "colab": {},
    "colab_type": "code",
    "id": "moDhgIR5zQZJ"
   },
   "outputs": [],
   "source": [
    "# groupby transmission and obtain the means of 'Highway MPG', 'City MPG', 'Combined MPG'\n",
    "\n",
    "vehicles.groupby(['Make'])['Highway MPG', 'City MPG', 'Combined MPG'].mean()"
   ]
  },
  {
   "cell_type": "code",
   "execution_count": null,
   "metadata": {
    "colab": {},
    "colab_type": "code",
    "id": "XvJNb4RezJh_"
   },
   "outputs": [],
   "source": [
    "# .groupby on 'Fuel Type', 'Cylinders' and obtain the median 'CO2 Emission Grams/Mile'\n",
    "\n",
    "vehicles.groupby(['Fuel Type', 'Cylinders'])['CO2 Emission Grams/Mile'].mean()"
   ]
  },
  {
   "cell_type": "code",
   "execution_count": null,
   "metadata": {
    "colab": {},
    "colab_type": "code",
    "id": "2XytC3-rzckB"
   },
   "outputs": [],
   "source": [
    "# groupby 'Fuel Type' and display for the 'Combined MPG' the 'mean', 'median' and 'std' using .agg\n",
    "\n",
    "x = vehicles.groupby(['Fuel Type'])['Combined MPG'].agg(['mean', 'median', 'std'])\n",
    "x['mean']"
   ]
  },
  {
   "cell_type": "markdown",
   "metadata": {
    "colab_type": "text",
    "id": "alDW1d3lzfd5"
   },
   "source": [
    "## Custom Aggregation Function\n",
    "\n",
    "We do not have to be limited by the range of standard aggregation functions. If the need arises, we can write our own aggregation function.\n",
    "\n",
    "For example, in our vehicle dataset, we might want to find out for each level of transmission, what is the most common vehicle class. In other words, we would like to find the mode.\n",
    "\n",
    "We can write our own implementation of the mode function, but it would be more efficient to use the scipy implementation of this function. Scipy is a Python package for scientific computing.\n",
    "\n",
    "Let us first define our custom function using the scipy mode function. We create a custom function since the mode function returns a tuple with the mode and the frequency of the mode. We are only interested in the first part of the tuple."
   ]
  },
  {
   "cell_type": "code",
   "execution_count": null,
   "metadata": {
    "colab": {},
    "colab_type": "code",
    "id": "5JgTaNB4zhl4"
   },
   "outputs": [],
   "source": [
    "from scipy import stats\n"
   ]
  },
  {
   "cell_type": "markdown",
   "metadata": {
    "colab_type": "text",
    "id": "AMw82sSVzopy"
   },
   "source": [
    "Now we can use our custom aggregation function using the agg function:\n",
    "\n"
   ]
  },
  {
   "cell_type": "code",
   "execution_count": null,
   "metadata": {
    "colab": {},
    "colab_type": "code",
    "id": "qiuYeByJzrKI"
   },
   "outputs": [],
   "source": [
    "vehicles.groupby(\"Transmission\")[\"Vehicle Class\"].agg(agg_mode)"
   ]
  },
  {
   "cell_type": "code",
   "execution_count": null,
   "metadata": {},
   "outputs": [],
   "source": [
    "def old_or_not(x):\n",
    "    car = x.mean() # x['Year']\n",
    "    return #'Modern' if car >= 1992 else 'Old' if car < 1992 else np.nan\n",
    "\n",
    "vehicles.groupby(\"Model\")[\"Year\", \"Cylinders\"].agg([old_or_not, 'mean'])"
   ]
  },
  {
   "cell_type": "code",
   "execution_count": null,
   "metadata": {},
   "outputs": [],
   "source": [
    "vehicles.head()"
   ]
  },
  {
   "cell_type": "markdown",
   "metadata": {
    "colab_type": "text",
    "id": "ZpmobLlqzsIR"
   },
   "source": [
    "## Summary\n",
    "\n",
    "In this lesson we learned how to summarization and aggregation with DataFrames. We learned to use the standard aggregation functions and how to make custom aggregation functions."
   ]
  },
  {
   "cell_type": "code",
   "execution_count": null,
   "metadata": {
    "colab": {},
    "colab_type": "code",
    "id": "Y7Obbz1wzuYW"
   },
   "outputs": [],
   "source": []
  }
 ],
 "metadata": {
  "colab": {
   "collapsed_sections": [],
   "name": "Data_Aggregation_Summarisation.ipynb",
   "provenance": []
  },
  "kernelspec": {
   "display_name": "Python 3",
   "language": "python",
   "name": "python3"
  },
  "language_info": {
   "codemirror_mode": {
    "name": "ipython",
    "version": 3
   },
   "file_extension": ".py",
   "mimetype": "text/x-python",
   "name": "python",
   "nbconvert_exporter": "python",
   "pygments_lexer": "ipython3",
   "version": "3.7.4"
  }
 },
 "nbformat": 4,
 "nbformat_minor": 4
}
