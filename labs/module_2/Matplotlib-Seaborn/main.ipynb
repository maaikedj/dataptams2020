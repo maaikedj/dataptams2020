{
 "cells": [
  {
   "cell_type": "markdown",
   "metadata": {
    "Collapsed": "false"
   },
   "source": [
    "# Lab | Matplotlib & Seaborn"
   ]
  },
  {
   "cell_type": "markdown",
   "metadata": {
    "Collapsed": "false"
   },
   "source": [
    "#### Import all the libraries that are necessary."
   ]
  },
  {
   "cell_type": "code",
   "execution_count": null,
   "metadata": {
    "Collapsed": "false"
   },
   "outputs": [],
   "source": [
    "import matplotlib.pyplot as plt\n",
    "import numpy as np\n",
    "import pandas as pd\n",
    "%matplotlib inline\n",
    "import seaborn as sns"
   ]
  },
  {
   "cell_type": "markdown",
   "metadata": {
    "Collapsed": "false"
   },
   "source": [
    "# Challenge 1"
   ]
  },
  {
   "cell_type": "markdown",
   "metadata": {
    "Collapsed": "false"
   },
   "source": [
    "#### Data"
   ]
  },
  {
   "cell_type": "code",
   "execution_count": null,
   "metadata": {
    "Collapsed": "false"
   },
   "outputs": [],
   "source": [
    "x = np.arange(0,100)\n",
    "y = x*2\n",
    "z = x**2\n",
    "# data = pd.DataFrame()\n",
    "# data['X'] = np.arange(0,10,1)\n",
    "# data['Y'] = data['X']**2"
   ]
  },
  {
   "cell_type": "markdown",
   "metadata": {
    "Collapsed": "false"
   },
   "source": [
    "#### Plot (x,y) and (x,z) on the axes.\n",
    "There are 2 ways of doing this. Do in both ways.\n",
    "Hint: Check out the nrows, ncols, and index arguments of subplots.\n",
    "\n",
    "Also, play around with the linewidth and style. Use the ones you're most happy with."
   ]
  },
  {
   "cell_type": "code",
   "execution_count": null,
   "metadata": {
    "Collapsed": "false"
   },
   "outputs": [],
   "source": [
    "# OPTION 1\n",
    "# Create a figure of a fixed size\n",
    "\n",
    "plt.subplots(figsize=(5,5))\n",
    "\n",
    "# First plot\n",
    "\n",
    "plt.plot(x, y, label='x vs y')\n",
    "plt.plot(x, z, label='x vs z')\n",
    "\n",
    "plt.xlabel('x label')\n",
    "plt.ylabel('y label')\n",
    "\n",
    "plt.title(\"x/y vs x/z\")\n",
    "\n",
    "\n",
    "# Show the plot\n",
    "plt.legend()\n",
    "plt.show()"
   ]
  },
  {
   "cell_type": "markdown",
   "metadata": {
    "Collapsed": "false"
   },
   "source": [
    "#### Use plt.subplots(nrows=1, ncols=2) to create the plot below"
   ]
  },
  {
   "cell_type": "code",
   "execution_count": null,
   "metadata": {
    "Collapsed": "false"
   },
   "outputs": [],
   "source": [
    "# OPTION 2\n",
    "\n",
    "# Create a figure of a fixed size and axes\n",
    "fig, [ax1, ax2] = plt.subplots(1,2, figsize = (10,5))\n",
    "\n",
    "# Plots\n",
    "\n",
    "ax1.plot(x,y)\n",
    "ax1.set_title('x vs y')   \n",
    "ax1.set_xlabel('x label')     \n",
    "ax1.set_ylabel('y label')   \n",
    "\n",
    "ax2.plot(x,z)\n",
    "ax2.set_title('x vs z')\n",
    "ax2.set_xlabel('x label')\n",
    "ax2.set_ylabel('y label')\n",
    "\n",
    "# Show the plot\n",
    "plt.show()"
   ]
  },
  {
   "cell_type": "markdown",
   "metadata": {
    "Collapsed": "false"
   },
   "source": [
    "#### Augmenting your previous code, resize your previous plot.\n",
    "Hint: Add the figsize argument in plt.subplots()"
   ]
  },
  {
   "cell_type": "code",
   "execution_count": null,
   "metadata": {
    "Collapsed": "false"
   },
   "outputs": [],
   "source": [
    "# ENHANCED VERSION to see more matplotlib features\n",
    "\n",
    "# Variables\n",
    "fs = 16 # fontsize\n",
    "fw = 700 # fontweight\n",
    "lw = 3 # lineweight \n",
    "#i didn't find a matlab argument for lineweight, but found one for linewidth - i used that one\n",
    "y_rot = 0 # ylabel rotation\n",
    "\n",
    "# Create a figure of a fixed size and axes\n",
    "\n",
    "fig, [ax1, ax2] = plt.subplots(1,2, figsize = (10,5))\n",
    "\n",
    "# First plot adding a title and x and y labels\n",
    "ax1.plot(x,y, linewidth =3, label='y vs x*2')\n",
    "ax1.set_xlabel('x label', fontweight=700, fontsize = 16)\n",
    "ax1.set_ylabel('y label', fontweight=700, fontsize = 16, rotation = 0)\n",
    "ax1.set_title(label='x vs y', fontweight=700, fontsize = 16)\n",
    "\n",
    "# Second plot adding a title and x and y labels\n",
    "ax2.plot(x,z, linewidth =3, label='z vs x**2')\n",
    "ax2.set_xlabel('x label', fontweight=700, fontsize = 16)\n",
    "ax2.set_ylabel('y label', fontweight=700, fontsize = 16, rotation = 0)\n",
    "ax2.set_title(label='x vs z', fontweight=700, fontsize = 16)\n",
    "\n",
    "# Show the plot\n",
    "\n",
    "plt.show()"
   ]
  },
  {
   "cell_type": "markdown",
   "metadata": {
    "Collapsed": "false"
   },
   "source": [
    "#### Plot both y=x^2 and y=exp(x) in the same plot using normal and logarithmic scale.\n",
    "Hint: Use set_xscale and set_yscale"
   ]
  },
  {
   "cell_type": "code",
   "execution_count": null,
   "metadata": {
    "Collapsed": "false"
   },
   "outputs": [],
   "source": [
    "# Create a figure of a fixed size and axes\n",
    "fig, ax1 = plt.subplots(figsize=(5,5))\n",
    "# Normal plot\n",
    "ax1.plot(x, y, label='y=x^2', linewidth=3)\n",
    "ax1.plot(y, z, label='y=exp(x)', linewidth=3)\n",
    "ax1.set_xscale('linear')\n",
    "ax1.set_yscale('linear')\n",
    "ax1.set_xlabel('x label', fontsize=16, fontweight=700)\n",
    "ax1.set_ylabel('y label', fontsize=16, fontweight=700)\n",
    "ax1.set_title('linear x/y vs y/z', fontsize=20, fontweight=700)\n",
    "plt.show()\n",
    "\n",
    "# Logarithmic scale\n",
    "fig, ax2 = plt.subplots(figsize=(5,5))\n",
    "ax2.plot(x, y, label='y=x^2', linewidth=3)\n",
    "ax2.plot(y, z, label='y=exp(x)', linewidth=3)\n",
    "ax2.set_xscale('log')\n",
    "ax2.set_yscale('log')\n",
    "ax2.set_xlabel('x label', fontsize=16, fontweight=700)\n",
    "ax2.set_ylabel('y label', fontsize=16, fontweight=700)\n",
    "ax2.set_title('log x/y vs y/z', fontsize=20, fontweight=700)\n",
    "plt.show()\n",
    "# Show plot\n"
   ]
  },
  {
   "cell_type": "code",
   "execution_count": null,
   "metadata": {
    "Collapsed": "false"
   },
   "outputs": [],
   "source": [
    "\n",
    "# ALTERNATIVE WITH LEGEND\n",
    "\n",
    "# Create a figure of a fixed size and axes\n",
    "fig, ax1 = plt.subplots(figsize=(5,5))\n",
    "# Normal plot\n",
    "ax1.plot(x, y, label='y=x^2', linewidth=3)\n",
    "ax1.plot(y, z, label='y=exp(x)', linewidth=3)\n",
    "ax1.set_xscale('linear')\n",
    "ax1.set_yscale('linear')\n",
    "ax1.set_xlabel('x label', fontsize=16, fontweight=700)\n",
    "ax1.set_ylabel('y label', fontsize=16, fontweight=700)\n",
    "ax1.set_title('linear x/y vs y/z', fontsize=20, fontweight=700)\n",
    "plt.legend()\n",
    "plt.show()\n",
    "\n",
    "# Logarithmic scale\n",
    "fig, ax2 = plt.subplots(figsize=(5,5))\n",
    "ax2.plot(x, y, label='y=x^2', linewidth=3)\n",
    "ax2.plot(y, z, label='y=exp(x)', linewidth=3)\n",
    "ax2.set_xscale('log')\n",
    "ax2.set_yscale('log')\n",
    "ax2.set_xlabel('x label', fontsize=16, fontweight=700)\n",
    "ax2.set_ylabel('y label', fontsize=16, fontweight=700)\n",
    "ax2.set_title('log x/y vs y/z', fontsize=20, fontweight=700)\n",
    "plt.legend()\n",
    "plt.show()\n",
    "# Show plot"
   ]
  },
  {
   "cell_type": "markdown",
   "metadata": {
    "Collapsed": "false"
   },
   "source": [
    "# Challenge 2"
   ]
  },
  {
   "cell_type": "markdown",
   "metadata": {
    "Collapsed": "false"
   },
   "source": [
    "Import the Fitbit2.csv file and name your dataset fitbit. Download the data from [here](https://drive.google.com/file/d/17TW-w-izKuR7bLoa0Mnyp9YN9zEQNXq-/view?usp=sharing) and place it in the data folder."
   ]
  },
  {
   "cell_type": "code",
   "execution_count": null,
   "metadata": {
    "Collapsed": "false"
   },
   "outputs": [],
   "source": [
    "# Read the data\n",
    "fitbit = pd.read_csv('data/Fitbit2.csv')\n",
    "fitbit.head()\n",
    "# fitbit.info()"
   ]
  },
  {
   "cell_type": "code",
   "execution_count": null,
   "metadata": {},
   "outputs": [],
   "source": [
    "#Fixing KeyErrors\n",
    "collist = list(fitbit.columns.values)\n",
    "collist = [x.strip(' ') for x in collist] \n",
    "fitbit.columns = collist\n",
    "fitbit.head()"
   ]
  },
  {
   "cell_type": "markdown",
   "metadata": {
    "Collapsed": "false"
   },
   "source": [
    "#### From the Fitbit data, we want to visually understand:\n",
    "\n",
    "How the average number of steps change by month. Use the appropriate visualization to show the median steps by month.\n",
    "Is Fitbitter more active on weekend or workdays?\n",
    "All plots must be in the same jupyter notebook cell.\n",
    "\n",
    "Hints:\n",
    "\n",
    "- Use Months_encoded and Week_or Weekend columns.\n",
    "- Use matplolib.pyplot object oriented API.\n",
    "- Set your size figure to 12,4\n",
    "- Explore plt.sca\n",
    "- Explore plt.xticks\n",
    "- Save your figures"
   ]
  },
  {
   "cell_type": "code",
   "execution_count": null,
   "metadata": {
    "Collapsed": "false"
   },
   "outputs": [],
   "source": [
    "#df cell \n",
    "# MEDIAN STEPS BY MONTH_ENCODED\n",
    "# Find the median steps for each month\n",
    "#steps_months = fitbit.groupby('Months_encoded')[['Steps']].median()\n",
    "#steps_months.reset_index()\n",
    "#steps_months.head()\n",
    "stepsmedian =fitbit.groupby(['Steps']).median()\n",
    "stepsmonth = stepsmedian.groupby(['Months_encoded']).median()\n",
    "stepsmedian1 = stepsmedian.reset_index()\n",
    "#check collumn lenghts \n",
    "stepsmedian1.head()\n",
    "stepsmedian1.info\n",
    "\n",
    "\n",
    "\n",
    "\n",
    "\n"
   ]
  },
  {
   "cell_type": "code",
   "execution_count": null,
   "metadata": {},
   "outputs": [],
   "source": [
    "\n",
    "# Create a figure of a fixed size and axes\n",
    "fig, axs = plt.subplots(1,2, figsize=(10,10))\n",
    "\n",
    "# Set the current axes instance to ax[0] - Now plt methods will affect ax[0]\n",
    "# Plot the weekday steps in the current axes\n",
    "#axs[0].bar(stepsmedian1[['Months_encoded','Steps']], left, height = 10, width = 10)\n",
    "#getting 'only size-1 arrays can be converted to Python scalars' Error \n",
    "x = stepsmedian1['Months_encoded']\n",
    "y = stepsmedian1['Steps']\n",
    "\n",
    "axs[0].plot(x, y)\n",
    "\n",
    "\n",
    "# Add labels, title, etc\n",
    "axs[0].set_title(\"Med steps by month\")\n",
    "axs[0].set_xlabel('month')\n",
    "axs[0].set_ylabel('steps')\n",
    "plt.show()\n",
    "# Save the figure\n",
    "\n",
    "plt.savefig('StepsMonth.png')\n",
    "\n",
    "# MEDIAN STEPS BY WORK_OR_WEEKEND\n",
    "\n",
    "# Find the median steps for workdays and weekdays\n",
    "stepsworkweekend= fitbit.groupby(['Work_or_Weekend']).median()\n",
    "stepsworkweekend = stepsworkweekend.reset_index()\n",
    "\n",
    "# Plot the workday and weekend steps in the current axes\n",
    "# Set the current axes instance to ax[1] - Now plt methods will affect ax[1]\n",
    "#ax1[1].bar(stepsmedian['Steps'], stepsworkweekend['Work_or_Weekend'])\n",
    "#KeyError 'Steps'\n",
    "axs[1].bar(x, y, width = 1.0)\n",
    "x = stepsworkweekend['Work_or_Weekend']\n",
    "y = stepsworkweekend['Steps']\n",
    "\n",
    "axs[1].plot(x, y)\n",
    "\n",
    "# Add labels, title, etc\n",
    "axs[1].set_title('Median steps weekend or work day')\n",
    "axs[1].set_xlabel('weekend or work day')\n",
    "axs[1].set_ylabel('steps')\n",
    "plt.show()\n",
    "\n",
    "# Save the figure\n",
    "plt.savefig('StepsWorkWeekend.png')\n",
    "plt.show()\n"
   ]
  },
  {
   "cell_type": "markdown",
   "metadata": {
    "Collapsed": "false"
   },
   "source": [
    "#### Write a loop to plot 3 scatter plots of the following features:\n",
    "\n",
    "Minutes Lightly Active vs Steps\n",
    "Minutes Very Active vs Steps\n",
    "Minutes Sedentary vs Steps"
   ]
  },
  {
   "cell_type": "code",
   "execution_count": null,
   "metadata": {
    "Collapsed": "false"
   },
   "outputs": [],
   "source": [
    "# ALTERNATIVE 1\n",
    "# Create a df with the columns we are interested in \n",
    "alternative1 = fitbit[['Minutes Lightly Active', 'Minutes Very Active', 'Minutes Sedentary']]\n",
    "steps = fitbit['Steps']\n",
    "alternative1.head()\n",
    "# Create a figure of a fixed size and axes\n",
    "fig, axs = plt.subplots(1,3, figsize=(10,10))\n",
    "#axs[0].scatter(steps['Steps'],steps.iloc[:,0])\n",
    "#axs[0].set_title(aalternative1.columns[0])   \n",
    "#axs[0].set_xlabel('Steps')   \n",
    "#axs[0].set_ylabel('Minutes')   \n",
    "\n",
    "#axs[1].scatter(steps['Steps'],steps.iloc[:,1])\n",
    "#axs[1].set_title(alternative1.columns[1])   \n",
    "#axs[1].set_xlabel('Steps')   \n",
    "#axs[1].set_ylabel('Minutes')   \n",
    "\n",
    "#axs[2].scatter(steps['Steps'],steps.iloc[:,2])\n",
    "#axs[2].set_title(alternative1.columns[2])   \n",
    "#axs[2].set_xlabel('Steps')   \n",
    "#axs[2].set_ylabel('Minutes')  \n",
    "#KeyError 'Steps'\n",
    "\n",
    "# Iterate to draw each scatter plot\n",
    "for i in range(len(alternative1.columns)):\n",
    "    axs[i].scatter(steps, alternative1.iloc[:,i])\n",
    "    axs[i].set_title(alternative1.columns[i])\n",
    "    axs[i].set_xlabel('Steps')\n",
    "    axs[i].set_ylabel('Minutes')\n"
   ]
  },
  {
   "cell_type": "code",
   "execution_count": null,
   "metadata": {
    "Collapsed": "false"
   },
   "outputs": [],
   "source": [
    "# ALTERNATIVE 2\n",
    "\n",
    "# Iterate to draw each scatter plot\n",
    "or i in range(3):\n",
    "    plt.sca(axs[i])\n",
    "    plt.scatter(alternative1[alternative1.columns[0]],alternative1[alternative1.columns[i+1]])\n",
    "    plt.xlabel(alternative1.columns[0])\n",
    "    plt.ylabel(alternative1.columns[i+1])\n",
    "#getting error index 3 is out of bounds for axis 0 with size 3"
   ]
  },
  {
   "cell_type": "markdown",
   "metadata": {
    "Collapsed": "false"
   },
   "source": [
    "# Challenge 3"
   ]
  },
  {
   "cell_type": "markdown",
   "metadata": {
    "Collapsed": "false"
   },
   "source": [
    "#### Open the titanic file. Name your dataset titanic."
   ]
  },
  {
   "cell_type": "markdown",
   "metadata": {
    "Collapsed": "false"
   },
   "source": [
    "Download the dataset from [here](https://drive.google.com/file/d/1jkkOcWm9aEF8gb0r2SsarF5Qdoaaw1do/view?usp=sharing) and place it in the data folder"
   ]
  },
  {
   "cell_type": "code",
   "execution_count": null,
   "metadata": {
    "Collapsed": "false"
   },
   "outputs": [],
   "source": [
    "# Read the data\n",
    "titanic = pd.read_csv('./data/titanic.csv')\n",
    "titanic.head()"
   ]
  },
  {
   "cell_type": "markdown",
   "metadata": {
    "Collapsed": "false"
   },
   "source": [
    "#### Explore the titanic dataset using Pandas dtypes."
   ]
  },
  {
   "cell_type": "code",
   "execution_count": null,
   "metadata": {
    "Collapsed": "false"
   },
   "outputs": [],
   "source": [
    "titanic.dtypes"
   ]
  },
  {
   "cell_type": "markdown",
   "metadata": {
    "Collapsed": "false"
   },
   "source": [
    "#### What are your numerical variables? What are your categorical variables?\n",
    "Hint: Use Pandas select_dtypes"
   ]
  },
  {
   "cell_type": "code",
   "execution_count": null,
   "metadata": {
    "Collapsed": "false"
   },
   "outputs": [],
   "source": [
    "# Numerical variables\n",
    "titanic.select_dtypes(include=['int64'])\n",
    "#Variables: Passengerld; Pclass; SibSp; Parch\n",
    "\n",
    "titanic.select_dtypes(include=['float64'])\n",
    "#Variables: Survied; Age; Fare"
   ]
  },
  {
   "cell_type": "code",
   "execution_count": null,
   "metadata": {
    "Collapsed": "false"
   },
   "outputs": [],
   "source": [
    "# Categorical variables\n",
    "titanic.select_dtypes(include=['object'])\n",
    "#Variables: Name; Gender; Ticket; Cabin; Embarked "
   ]
  },
  {
   "cell_type": "markdown",
   "metadata": {
    "Collapsed": "false"
   },
   "source": [
    "#### Set the plot style to classic and the figure size to (12,6).\n",
    "Hint: To set the style you can use matplotlib.pyplot functions or seaborn "
   ]
  },
  {
   "cell_type": "code",
   "execution_count": null,
   "metadata": {
    "Collapsed": "false"
   },
   "outputs": [],
   "source": [
    "# Plot style change\n",
    "plt.style.use('classic')\n",
    "\n",
    "# Figure size change\n",
    "plt.rcParams[\"figure.figsize\"] = [12,6]\n"
   ]
  },
  {
   "cell_type": "markdown",
   "metadata": {
    "Collapsed": "false"
   },
   "source": [
    "#### Use the right visulalization to show the distribution of the column Age."
   ]
  },
  {
   "cell_type": "code",
   "execution_count": null,
   "metadata": {
    "Collapsed": "false"
   },
   "outputs": [],
   "source": [
    "# Pandas plots are based on matplotlib\n",
    "# Plot the histogram of column Age\n",
    "plt.hist(titanic['Age'])\n",
    "\n",
    "# Set titles, labels, etc\n",
    "plt.title(\"Age distribution\")\n",
    "plt.xlabel('age')\n",
    "\n",
    "# Show the plot\n",
    "plt.show"
   ]
  },
  {
   "cell_type": "markdown",
   "metadata": {
    "Collapsed": "false"
   },
   "source": [
    "#### Use subplots and plot the distribution of the Age variable with bins equal to 10, 20 and 50."
   ]
  },
  {
   "cell_type": "code",
   "execution_count": null,
   "metadata": {
    "Collapsed": "false"
   },
   "outputs": [],
   "source": [
    "# Create a figure of a fixed size and axes\n",
    "fig, axs = plt.subplots(1,3, figsize=(12,4))\n",
    "\n",
    "# Plot the histogram using a different number of bins\n",
    "axs[0].hist(titanic['Age'], bins = 10)\n",
    "axs[1].hist(titanic['Age'], bins = 20)\n",
    "axs[2].hist(titanic['Age'], bins = 50)\n",
    "\n",
    "plt.show"
   ]
  },
  {
   "cell_type": "markdown",
   "metadata": {
    "Collapsed": "false"
   },
   "source": [
    "#### How does the bin size affect your plot? Comment."
   ]
  },
  {
   "cell_type": "markdown",
   "metadata": {
    "Collapsed": "false"
   },
   "source": [
    "~~~~\n",
    "Using a low number of bins (wider bins) reduces noise on the distribution estimation while using a \n",
    "high number of bins (narrower bins) gives greater precision to the distribution estimation (and more noise). \n",
    "~~~~"
   ]
  },
  {
   "cell_type": "markdown",
   "metadata": {
    "Collapsed": "false"
   },
   "source": [
    "#### Use seaborn to show the distribution of the column Age."
   ]
  },
  {
   "cell_type": "code",
   "execution_count": null,
   "metadata": {
    "Collapsed": "false"
   },
   "outputs": [],
   "source": [
    "# Seaborn is a Python library based on matplotlib\n",
    "\n",
    "sns.distplot(titanic['Age'])\n",
    "\n",
    "# Show the plot\n",
    "plt.show"
   ]
  },
  {
   "cell_type": "markdown",
   "metadata": {
    "Collapsed": "false"
   },
   "source": [
    "#### Use the right plot to visualize the column Gender. There are 2 ways of doing it. Do it both ways.\n",
    "Hint: Use matplotlib and seaborn"
   ]
  },
  {
   "cell_type": "code",
   "execution_count": null,
   "metadata": {
    "Collapsed": "false"
   },
   "outputs": [],
   "source": [
    "# OPTION 1 - Matplotlib\n",
    "\n",
    "# Bar plot of the gender\n",
    "titanic['Gender'].value_counts().plot(kind='bar')\n",
    "# Add labels to the plot and change xticks rotation\n",
    "plt.title('Titanic: Gender')\n",
    "plt.xlabel('Gender')\n",
    "plt.ylabel('No. of passengers')\n",
    "# Show the plot\n",
    "plt.show"
   ]
  },
  {
   "cell_type": "code",
   "execution_count": null,
   "metadata": {
    "Collapsed": "false"
   },
   "outputs": [],
   "source": [
    "# OPTION 2 - Seaborn\n",
    "# Seaborn Countplot\n",
    "sns.countplot(titanic['Gender'])\n",
    "\n",
    "# Show the plot\n",
    "plt.show"
   ]
  },
  {
   "cell_type": "markdown",
   "metadata": {
    "Collapsed": "false"
   },
   "source": [
    "#### Use the right plot to visualize the column Pclass."
   ]
  },
  {
   "cell_type": "code",
   "execution_count": null,
   "metadata": {
    "Collapsed": "false"
   },
   "outputs": [],
   "source": [
    "# Bar plot of Pclass\n",
    "titanic['Pclass'].value_counts().plot(kind='bar')\n",
    "\n",
    "# Add labels to the plot and change xticks rotation\n",
    "plt.title('Passengers vs Class')\n",
    "plt.xlabel('Passenger class')\n",
    "plt.ylabel('Number of passengers')\n",
    "plt.xticks(rotation=20)\n",
    "\n",
    "# Show the plot\n",
    "plt.show"
   ]
  },
  {
   "cell_type": "markdown",
   "metadata": {
    "Collapsed": "false"
   },
   "source": [
    "#### We would like to have in one single plot the summary statistics of the feature Age. What kind of plot would you use?"
   ]
  },
  {
   "cell_type": "code",
   "execution_count": null,
   "metadata": {
    "Collapsed": "false"
   },
   "outputs": [],
   "source": [
    "\n",
    "# Box plot\n",
    "sns.boxplot(y= titanic['Age'])\n",
    "\n",
    "# Show the plot\n",
    "plt.show\n"
   ]
  },
  {
   "cell_type": "markdown",
   "metadata": {
    "Collapsed": "false"
   },
   "source": [
    "#### What does the last plot tells you about the feature Age? Comment."
   ]
  },
  {
   "cell_type": "markdown",
   "metadata": {
    "Collapsed": "false"
   },
   "source": [
    "~~~~\n",
    "The statistics that you can get from the boxplot are the minimum, first quartile, median, \n",
    "third quartile, and maximum.\n",
    "\n",
    "The red line shows us the median of Age. \n",
    "The blue box shows us the interquartile range (from Q1 to Q3).\n",
    "It also shows us the outliers, which are out of the maximum and minimum range (Q1 - 1.5*IQR, Q3 + 1.5*IQR).\n",
    "~~~~"
   ]
  },
  {
   "cell_type": "markdown",
   "metadata": {
    "Collapsed": "false"
   },
   "source": [
    "#### Now in addition to the summary statistics, we want to have in the SAME plot the distribution of Age. What kind of plot would you use?"
   ]
  },
  {
   "cell_type": "code",
   "execution_count": null,
   "metadata": {
    "Collapsed": "false"
   },
   "outputs": [],
   "source": [
    "# Set figure size\n",
    "plt.rcParams[\"figure.figsize\"] = [6,6]\n",
    "\n",
    "# Violin plot\n",
    "\n",
    "sns.violinplot( y= titanic['Age'])\n",
    "\n",
    "# Show the plot\n",
    "plt.show"
   ]
  },
  {
   "cell_type": "markdown",
   "metadata": {
    "Collapsed": "false"
   },
   "source": [
    "#### What additional information the last plot provides you about the feature Age? Comment."
   ]
  },
  {
   "cell_type": "markdown",
   "metadata": {
    "Collapsed": "false"
   },
   "source": [
    "~~~~\n",
    "This plot is a combination of a boxplot and a density plot. The violin plot features a kernel density estimation \n",
    "of the underlying distribution of the data.\n",
    "\n",
    "The black central part of the plot is the same as a boxplot and the white dot is the median.\n",
    "The blue part is the distribution of the data.\n",
    "~~~~"
   ]
  },
  {
   "cell_type": "markdown",
   "metadata": {
    "Collapsed": "false"
   },
   "source": [
    "#### We suspect that there is a linear relationship between Fare and Age. Use the right plot to show the relationship between these 2 features. There are 2 ways, please do it both ways.\n",
    "Hint: One of the ways involves using Seaborn."
   ]
  },
  {
   "cell_type": "code",
   "execution_count": null,
   "metadata": {
    "Collapsed": "false"
   },
   "outputs": [],
   "source": [
    "# OPTION 1\n",
    "# Scatter plot\n",
    "plt.rcParams[\"figure.figsize\"] = [10,10]\n",
    "sns.regplot(x= titanic['Fare'], y= titanic['Age'])\n",
    "# Add labels\n",
    "plt.title('Age vs fare')\n",
    "plt.xlabel('Age')\n",
    "plt.ylabel('Fare')\n",
    "# Show the plot\n",
    "plt.show"
   ]
  },
  {
   "cell_type": "code",
   "execution_count": null,
   "metadata": {
    "Collapsed": "false"
   },
   "outputs": [],
   "source": [
    "# OPTION 2\n",
    "# Joinplot\n",
    "sns.jointplot(x= titanic['Fare'], y= titanic['Age']) \n",
    "# Show the plot\n",
    "plt.show"
   ]
  },
  {
   "cell_type": "markdown",
   "metadata": {
    "Collapsed": "false"
   },
   "source": [
    "#### Using Seaborn plot the correlation matrix."
   ]
  },
  {
   "cell_type": "code",
   "execution_count": null,
   "metadata": {
    "Collapsed": "false"
   },
   "outputs": [],
   "source": [
    "\n",
    "# Set figure size\n",
    "plt.rcParams[\"figure.figsize\"] = [10,10]\n",
    "# Correlation matrix\n",
    "sns.heatmap(titanic.corr(), annot=True)\n",
    "\n",
    "# Add title\n",
    "plt.title('Correlation matrix')\n",
    "\n",
    "# Show plot\n",
    "plt.show"
   ]
  },
  {
   "cell_type": "markdown",
   "metadata": {
    "Collapsed": "false"
   },
   "source": [
    "#### What are the most correlated features? Comment."
   ]
  },
  {
   "cell_type": "markdown",
   "metadata": {
    "Collapsed": "false"
   },
   "source": [
    "~~~~~\n",
    "The most correlated features are Parch and SibSp.\n",
    "~~~~~"
   ]
  },
  {
   "cell_type": "markdown",
   "metadata": {
    "Collapsed": "false"
   },
   "source": [
    "#### Use the right plot to display the summary statistics of the Age in function of the Pclass."
   ]
  },
  {
   "cell_type": "code",
   "execution_count": null,
   "metadata": {
    "Collapsed": "false"
   },
   "outputs": [],
   "source": [
    "# Boxplot\n",
    "sns.boxplot(x=titanic['Pclass'], y=titanic['Age'])\n",
    "\n",
    "# Show the plot\n",
    "plt.show"
   ]
  },
  {
   "cell_type": "markdown",
   "metadata": {
    "Collapsed": "false"
   },
   "source": [
    "#### Use the seaborn to plot the distribution of the Age based on the Gender.\n",
    "Hint: Use Facetgrid"
   ]
  },
  {
   "cell_type": "code",
   "execution_count": null,
   "metadata": {
    "Collapsed": "false"
   },
   "outputs": [],
   "source": [
    "# Create a grid with FacetGrid\n",
    "\n",
    "grid = sns.FacetGrid(titanic, col = 'Gender')\n",
    "\n",
    "# Draw a plot on each facet\n",
    "grid.map(plt.hist, 'Age')\n",
    "\n",
    "# Show the plot\n",
    "plt.show\n"
   ]
  },
  {
   "cell_type": "code",
   "execution_count": null,
   "metadata": {},
   "outputs": [],
   "source": []
  }
 ],
 "metadata": {
  "anaconda-cloud": {},
  "kernelspec": {
   "display_name": "Python 3",
   "language": "python",
   "name": "python3"
  },
  "language_info": {
   "codemirror_mode": {
    "name": "ipython",
    "version": 3
   },
   "file_extension": ".py",
   "mimetype": "text/x-python",
   "name": "python",
   "nbconvert_exporter": "python",
   "pygments_lexer": "ipython3",
   "version": "3.7.6"
  }
 },
 "nbformat": 4,
 "nbformat_minor": 4
}
