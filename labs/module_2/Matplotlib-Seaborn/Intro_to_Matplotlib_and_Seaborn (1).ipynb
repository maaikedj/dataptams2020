{
 "cells": [
  {
   "cell_type": "markdown",
   "metadata": {
    "colab_type": "text",
    "id": "NQefcc1dZgZe"
   },
   "source": [
    "# Introduction to Matplotlib and Seaborn\n",
    "\n"
   ]
  },
  {
   "cell_type": "markdown",
   "metadata": {
    "colab_type": "text",
    "id": "AFVA_jRoZpd-"
   },
   "source": [
    "## Introduction to Matplotlib\n",
    "\n",
    "Matplotlib is a data visualization package built on numpy arrays for making 2D plots. It makes extensive use of numpy arrays and other extension code to provide good performance even for large arrays.\n",
    "\n",
    "The package is fairly old, with version 0.1 released in 2003. The main advantage of this package is that it allows for flexible visualization in Python across versions and operating systems.\n",
    "\n",
    "It is important to note the hierarchy: Name of library is Matplotlib whereas the name of the module is matplotlib.pyplot\n",
    "\n",
    "Anatomy of a figure:\n",
    "\n",
    "![alt text](https://pbs.twimg.com/media/Cr5jxB-UkAAmvBn?format=jpg&name=medium)\n"
   ]
  },
  {
   "cell_type": "markdown",
   "metadata": {
    "colab_type": "text",
    "id": "auo3rFhEacMZ"
   },
   "source": [
    "### Basic plots in Matplotlib:\n",
    "\n",
    "- Line Plot\n",
    "- Scatter plot\n",
    "- Pie charts\n",
    "- Histograms\n",
    "- Bar charts\n",
    "- Paths\n",
    "- Three dimensional plotting\n",
    "- Images"
   ]
  },
  {
   "cell_type": "markdown",
   "metadata": {
    "colab_type": "text",
    "id": "TVV1WShjakwZ"
   },
   "source": [
    "### Getting Started\n",
    "\n",
    "Since we are using Jupyter notebook, we start our notebook with this line:"
   ]
  },
  {
   "cell_type": "code",
   "execution_count": null,
   "metadata": {
    "colab": {},
    "colab_type": "code",
    "id": "MGaXypdfZdPC"
   },
   "outputs": [],
   "source": [
    "%matplotlib inline"
   ]
  },
  {
   "cell_type": "markdown",
   "metadata": {
    "colab_type": "text",
    "id": "5id8GVpxatVg"
   },
   "source": [
    "This ensures that our visualizations will render in the notebook itself.\n",
    "\n",
    "We now load the matplotlib library:"
   ]
  },
  {
   "cell_type": "code",
   "execution_count": null,
   "metadata": {
    "colab": {},
    "colab_type": "code",
    "id": "RrqtuSEMavoh"
   },
   "outputs": [],
   "source": [
    "import matplotlib.pyplot as plt"
   ]
  },
  {
   "cell_type": "markdown",
   "metadata": {
    "colab_type": "text",
    "id": "hFgRSd_PaxzZ"
   },
   "source": [
    "### Basic Plots\n"
   ]
  },
  {
   "cell_type": "markdown",
   "metadata": {
    "colab_type": "text",
    "id": "YcW1h3SSa3js"
   },
   "source": [
    "\n",
    "#### Line Plot\n",
    "Line plots can be linear or non-linear depending on the kind of data we have. A simple representation has been shown below:\n",
    "\n",
    "![alt text](https://docs.oracle.com/cd/E57185_01/CBREG/images/graphics/linearvsnonlinear.gif)\n",
    "\n",
    "We can generate two numpy arrays and then plot them as a line plot.\n"
   ]
  },
  {
   "cell_type": "code",
   "execution_count": null,
   "metadata": {},
   "outputs": [],
   "source": [
    "import numpy as np"
   ]
  },
  {
   "cell_type": "code",
   "execution_count": null,
   "metadata": {
    "colab": {
     "base_uri": "https://localhost:8080/",
     "height": 232
    },
    "colab_type": "code",
    "executionInfo": {
     "elapsed": 581,
     "status": "error",
     "timestamp": 1583239470408,
     "user": {
      "displayName": "Louk Smalbil",
      "photoUrl": "https://lh3.googleusercontent.com/a-/AOh14GiByqcfGW98Bn42uapsD4oj4auyrLV9xURPKHUj=s64",
      "userId": "10422991521784029462"
     },
     "user_tz": -60
    },
    "id": "ZFI0s9Gna5VO",
    "outputId": "83c1ea0b-2a87-48e6-aac0-65196de7a05a"
   },
   "outputs": [],
   "source": [
    "x1 = np.arange(0,10,1)\n",
    "x2 = np.linspace(0,5,10)"
   ]
  },
  {
   "cell_type": "code",
   "execution_count": null,
   "metadata": {},
   "outputs": [],
   "source": [
    "np.linspace(0,5,11)"
   ]
  },
  {
   "cell_type": "code",
   "execution_count": null,
   "metadata": {},
   "outputs": [],
   "source": [
    "plt.plot(x1, x1, label='linear')\n",
    "plt.plot(x1, x2**2, label='quadratic')\n",
    "\n",
    "plt.title(\"Linear vs Non Linear Plots\")\n",
    "plt.legend()\n",
    "plt.show()"
   ]
  },
  {
   "cell_type": "markdown",
   "metadata": {},
   "source": [
    "##$ Making Plots bigger or Smaller"
   ]
  },
  {
   "cell_type": "code",
   "execution_count": null,
   "metadata": {},
   "outputs": [],
   "source": [
    "plt.subplots(figsize=(3,10))\n",
    "\n",
    "plt.plot(x1, x1, label='linear')\n",
    "plt.plot(x1, x2**2, label='quadratic')\n",
    "\n",
    "plt.title(\"Linear vs Non Linear Plots\")\n",
    "plt.legend()\n",
    "plt.show()"
   ]
  },
  {
   "cell_type": "markdown",
   "metadata": {
    "colab_type": "text",
    "id": "XYg1OJJnbTaC"
   },
   "source": [
    "#### Making Subplots\n",
    "\n"
   ]
  },
  {
   "cell_type": "code",
   "execution_count": null,
   "metadata": {
    "colab": {},
    "colab_type": "code",
    "id": "fY8TcLE1bQfO"
   },
   "outputs": [],
   "source": [
    "fig, [ax1, ax2] = plt.subplots(1,2)\n",
    "ax1.plot(x1,x2)\n",
    "ax1.set_title('LINEAR PLOT')   \n",
    "ax1.set_xlabel('x label')     \n",
    "ax1.set_ylabel('y label')   \n",
    "\n",
    "ax2.plot(np.cos(x2))\n",
    "ax2.set_title('CURVE PLOT')\n",
    "ax2.set_xlabel('x label')\n",
    "ax2.set_ylabel('y label')\n",
    "\n",
    "plt.show()\n"
   ]
  },
  {
   "cell_type": "code",
   "execution_count": null,
   "metadata": {},
   "outputs": [],
   "source": [
    "fig, [ax1, ax2, ax3] = plt.subplots(1,3)\n",
    "ax1.plot(x1,x2)\n",
    "ax1.set_title('LINEAR PLOT')   \n",
    "ax1.set_xlabel('x label')     \n",
    "ax1.set_ylabel('y label')   \n",
    "\n",
    "ax2.plot(np.cos(x2))\n",
    "ax2.set_title('CURVE PLOT')\n",
    "ax2.set_xlabel('x label')\n",
    "ax2.set_ylabel('y label')\n",
    "\n",
    "ax3.plot(x1**3)\n",
    "ax3.set_title('CURVE PLOT')\n",
    "ax3.set_xlabel('x label')\n",
    "ax3.set_ylabel('y label')\n",
    "\n",
    "plt.show()\n"
   ]
  },
  {
   "cell_type": "code",
   "execution_count": null,
   "metadata": {},
   "outputs": [],
   "source": [
    "fig, [ax1, ax2, ax3, ax4] = plt.subplots(1,4)\n",
    "ax1.plot(x1,x2)\n",
    "ax1.set_title('LINEAR PLOT')   \n",
    "ax1.set_xlabel('x label')     \n",
    "ax1.set_ylabel('y label')   \n",
    "\n",
    "ax2.plot(np.cos(x2))\n",
    "ax2.set_title('CURVE PLOT')\n",
    "ax2.set_xlabel('x label')\n",
    "ax2.set_ylabel('y label')\n",
    "\n",
    "ax3.plot(x1**3)\n",
    "ax3.set_title('CURVE PLOT')\n",
    "ax3.set_xlabel('x label')\n",
    "ax3.set_ylabel('y label')\n",
    "\n",
    "ax4.plot(np.arange(0,10,1)/3)\n",
    "ax4.set_title('CURVE PLOT')\n",
    "ax4.set_xlabel('x label')\n",
    "ax4.set_ylabel('y label')\n",
    "\n",
    "plt.show()\n"
   ]
  },
  {
   "cell_type": "markdown",
   "metadata": {},
   "source": [
    "### Making Subplots bigger or Smaller"
   ]
  },
  {
   "cell_type": "code",
   "execution_count": null,
   "metadata": {},
   "outputs": [],
   "source": [
    "fig, [ax1, ax2] = plt.subplots(1,2, figsize = (10,4))\n",
    "ax1.plot(x1,x2)\n",
    "ax1.set_title('LINEAR PLOT')   \n",
    "ax1.set_xlabel('x label')     \n",
    "ax1.set_ylabel('y label')   \n",
    "\n",
    "ax2.plot(np.cos(x2))\n",
    "ax2.set_title('CURVE PLOT')\n",
    "ax2.set_xlabel('x label')\n",
    "ax2.set_ylabel('y label')\n",
    "\n",
    "plt.show()\n"
   ]
  },
  {
   "cell_type": "markdown",
   "metadata": {
    "colab_type": "text",
    "id": "n7t5bE7fbcUc"
   },
   "source": [
    "#### Scatter Plots\n",
    "\n",
    "Scatter plots are very useful to see the relationship between two variables (also known as correlation).\n",
    "\n",
    "Let’s consider an example where we are given a data-set with price of houses in a neighborhood. Some of the variables on which the price could depend include area and number of years since it was built.\n",
    "\n",
    "Positive correlation: When one variable increases with the increase in the other variable, and vice-versa\n",
    "\n",
    "Negative correlation: When one variable decreases with the increase in the other variable, and vice-versa"
   ]
  },
  {
   "cell_type": "code",
   "execution_count": null,
   "metadata": {
    "colab": {},
    "colab_type": "code",
    "id": "WI7lCfQ3bhPr"
   },
   "outputs": [],
   "source": [
    "x = np.random.randn(10)\n",
    "y = np.random.randn(10)"
   ]
  },
  {
   "cell_type": "code",
   "execution_count": null,
   "metadata": {},
   "outputs": [],
   "source": [
    "plt.scatter(x,y)\n",
    "plt.xlabel('X axis')\n",
    "plt.ylabel('Y axis')\n",
    "\n",
    "plt.show()"
   ]
  },
  {
   "cell_type": "markdown",
   "metadata": {
    "colab_type": "text",
    "id": "msCU6teTbktZ"
   },
   "source": [
    "#### Pie Charts\n",
    "\n",
    "It is a circular statistical graphic, which is divided into slices to illustrate numerical proportion of each slice. It is an important business tool to visually see the percentage shares of different components under investigation."
   ]
  },
  {
   "cell_type": "code",
   "execution_count": null,
   "metadata": {
    "colab": {},
    "colab_type": "code",
    "id": "stcFBJ2rbuBv"
   },
   "outputs": [],
   "source": [
    "labels = ['Vegetarians', 'Non-Vegetarians', 'Vegans']\n",
    "sizes = [40, 10, 15]\n",
    "explode = (0, 0.4, 0)"
   ]
  },
  {
   "cell_type": "code",
   "execution_count": null,
   "metadata": {},
   "outputs": [],
   "source": [
    "fig1, ax1 = plt.subplots()\n",
    "ax1.pie(sizes, explode=explode, labels=labels, autopct='%1.1f%%', shadow=True, startangle=90)\n",
    "ax1.axis('equal')\n",
    "plt.show()"
   ]
  },
  {
   "cell_type": "markdown",
   "metadata": {
    "colab_type": "text",
    "id": "lT5a4_nlbqfK"
   },
   "source": [
    "## Introduction to Seaborn\n",
    "\n",
    "Seaborn is a data visualization library that was created to complement matplotlib and it is closely integrated with pandas data structures. Some of the advantages of this library are:\n",
    "\n",
    "- Streamlines the amount of code needed to write to create matplotlib visualizations\n",
    "- Enables us to work with pandas dataframes which is a big advantage over matplotlib\n",
    "- Provides specialized support for using categorical variables\n",
    "- Has functions to examine relationships between multiple variables\n",
    "- Provides convenient views onto the overall structure of complex datasets"
   ]
  },
  {
   "cell_type": "markdown",
   "metadata": {
    "colab_type": "text",
    "id": "ngYAHwWLb3ig"
   },
   "source": [
    "### Getting Started\n",
    "\n",
    "Let's proceed with importing our libraries"
   ]
  },
  {
   "cell_type": "code",
   "execution_count": null,
   "metadata": {
    "colab": {},
    "colab_type": "code",
    "id": "t7Wb3oHRb7Ih"
   },
   "outputs": [],
   "source": [
    "%matplotlib inline\n",
    "import matplotlib.pyplot as plt\n",
    "import seaborn as sns\n",
    "import pandas as pd\n",
    "#sns.set()"
   ]
  },
  {
   "cell_type": "markdown",
   "metadata": {
    "colab_type": "text",
    "id": "YKHyvDJDcD3c"
   },
   "source": [
    "### Basic Plots"
   ]
  },
  {
   "cell_type": "markdown",
   "metadata": {
    "colab_type": "text",
    "id": "OH1gd-ETcFTF"
   },
   "source": [
    "#### Line Plots\n",
    "\n",
    "We can create a Pandas DataFrame using the two variables we created earlier."
   ]
  },
  {
   "cell_type": "code",
   "execution_count": null,
   "metadata": {
    "colab": {},
    "colab_type": "code",
    "id": "bb7NwJkWb-An"
   },
   "outputs": [],
   "source": [
    "data = pd.DataFrame()\n",
    "data['X'] = np.arange(0,10,1)\n",
    "data['Y'] = data['X']**2\n",
    "data['Z'] = data['Y']**2"
   ]
  },
  {
   "cell_type": "code",
   "execution_count": null,
   "metadata": {},
   "outputs": [],
   "source": [
    "data"
   ]
  },
  {
   "cell_type": "markdown",
   "metadata": {
    "colab_type": "text",
    "id": "uNBQLxOLcMyh"
   },
   "source": [
    "Now that we have our DataFrame, we can plot the data using seaborn."
   ]
  },
  {
   "cell_type": "code",
   "execution_count": null,
   "metadata": {
    "colab": {},
    "colab_type": "code",
    "id": "1_Fn-lXQcO85"
   },
   "outputs": [],
   "source": [
    "sns.lineplot(data.X, data.Y)"
   ]
  },
  {
   "cell_type": "markdown",
   "metadata": {
    "colab_type": "text",
    "id": "tQbUp_aLcVXi"
   },
   "source": [
    "#### Scatter Plots\n",
    "Here we use the seaborn lmplot function and set the option to fit the regression line to false."
   ]
  },
  {
   "cell_type": "code",
   "execution_count": null,
   "metadata": {
    "colab": {},
    "colab_type": "code",
    "id": "WQNQqeaWcQuS"
   },
   "outputs": [],
   "source": [
    "sns.lmplot(\"X\", \"Y\", data=data, fit_reg=False)"
   ]
  },
  {
   "cell_type": "code",
   "execution_count": null,
   "metadata": {},
   "outputs": [],
   "source": [
    "#sns.lmplot(data.X, data.Y, data= data, fit_reg=False)"
   ]
  },
  {
   "cell_type": "markdown",
   "metadata": {
    "colab_type": "text",
    "id": "Gizs0YLvcXvK"
   },
   "source": [
    "As we can see, here it is also possible to enhance a scatter-plot to include a linear regression model"
   ]
  },
  {
   "cell_type": "markdown",
   "metadata": {
    "colab_type": "text",
    "id": "6U8O0U5GcaIK"
   },
   "source": [
    "### Using Pandas\n",
    "\n",
    "Matplotlib has been integrated into Pandas and now we are able to plot matplotlib visualizations directly from Pandas without having to use the matplotlib or seaborn syntax. However, we still need to import matplotlib and set %matplotlib inline"
   ]
  },
  {
   "cell_type": "markdown",
   "metadata": {
    "colab_type": "text",
    "id": "kVwSRqlVcfMi"
   },
   "source": [
    "#### Working on Dataframes Using Seaborn\n",
    "Let's start by reading the 'vehicles.csv' file that we had already downloaded before. (vehicles data)"
   ]
  },
  {
   "cell_type": "code",
   "execution_count": null,
   "metadata": {
    "colab": {},
    "colab_type": "code",
    "id": "Y-Sjmmucch4c"
   },
   "outputs": [],
   "source": [
    "data = pd.read_csv('vehicles.csv') \n",
    "data.head()"
   ]
  },
  {
   "cell_type": "code",
   "execution_count": null,
   "metadata": {},
   "outputs": [],
   "source": [
    "sns.scatterplot(x=\"CO2 Emission Grams/Mile\", y=\"Highway MPG\", data=data)"
   ]
  },
  {
   "cell_type": "code",
   "execution_count": null,
   "metadata": {},
   "outputs": [],
   "source": [
    "sns.scatterplot(x=\"CO2 Emission Grams/Mile\", y=\"Highway MPG\", hue=\"Drivetrain\", data=data)"
   ]
  },
  {
   "cell_type": "code",
   "execution_count": null,
   "metadata": {},
   "outputs": [],
   "source": [
    "sns.scatterplot(x=\"CO2 Emission Grams/Mile\", y=\"Highway MPG\", hue=\"Drivetrain\", size = \"Year\", data=data)"
   ]
  },
  {
   "cell_type": "code",
   "execution_count": null,
   "metadata": {},
   "outputs": [],
   "source": [
    "plt.subplots(figsize=(300,100))\n",
    "sns.scatterplot(x=\"CO2 Emission Grams/Mile\", y=\"Highway MPG\", hue=\"Drivetrain\", size = \"Year\", data=data)"
   ]
  },
  {
   "cell_type": "markdown",
   "metadata": {
    "colab_type": "text",
    "id": "MstwPZyrcjr4"
   },
   "source": [
    "Seaborn provides a host of functions that lets you present that data in a more meaningful and visually appealing way  (link)"
   ]
  },
  {
   "cell_type": "markdown",
   "metadata": {
    "colab_type": "text",
    "id": "iLkEJhZdcsxo"
   },
   "source": [
    "##### relplot: Facetgrid\n",
    "The new version of seaborn uses this function that combines the lineplot() and scatterplot() using a Facetgrid.\n",
    "\n",
    "FacetGrid class helps in visualizing the relationship between multiple variables on the same plot by introducing multiple dimensions using parameters such as col (for column), hue, style, and size. For example, a plot using relplot() is shown below:"
   ]
  },
  {
   "cell_type": "code",
   "execution_count": null,
   "metadata": {
    "colab": {},
    "colab_type": "code",
    "id": "GCzOLIkrco_b"
   },
   "outputs": [],
   "source": [
    "sns.relplot(x='CO2 Emission Grams/Mile', y='Highway MPG', data=data)"
   ]
  },
  {
   "cell_type": "code",
   "execution_count": null,
   "metadata": {},
   "outputs": [],
   "source": [
    "sns.relplot(x='CO2 Emission Grams/Mile', y='Highway MPG', hue=\"Fuel Type\", data=data)"
   ]
  },
  {
   "cell_type": "code",
   "execution_count": null,
   "metadata": {},
   "outputs": [],
   "source": [
    "sns.relplot(x='CO2 Emission Grams/Mile', y='Highway MPG', hue=\"Fuel Type\", size=\"Fuel Type\", data=data)"
   ]
  },
  {
   "cell_type": "markdown",
   "metadata": {
    "colab_type": "text",
    "id": "Lvb9DbKFc95S"
   },
   "source": [
    "##### Catplot\n",
    "\n",
    "These are specialized categorical plots. It is used to show the relationship between a numerical and one or more categorical variables"
   ]
  },
  {
   "cell_type": "code",
   "execution_count": null,
   "metadata": {
    "colab": {},
    "colab_type": "code",
    "id": "J8khHA2cclj6"
   },
   "outputs": [],
   "source": [
    "sns.catplot(x=\"Highway MPG\", y=\"Drivetrain\", data=data)"
   ]
  },
  {
   "cell_type": "code",
   "execution_count": null,
   "metadata": {},
   "outputs": [],
   "source": [
    "sns.catplot(x=\"Highway MPG\", y=\"Drivetrain\", hue=\"Fuel Type\", data=data)"
   ]
  },
  {
   "cell_type": "code",
   "execution_count": null,
   "metadata": {},
   "outputs": [],
   "source": [
    "sns.catplot(x=\"Highway MPG\", y=\"Drivetrain\", hue=\"Fuel Type\", data=data, height=20)"
   ]
  },
  {
   "cell_type": "markdown",
   "metadata": {
    "colab_type": "text",
    "id": "9jnNgGx-dEGS"
   },
   "source": [
    "## Summary\n",
    "\n",
    "In this lesson we learned how to plot visualizations using three different tools. All three use matplotlib under the hood. However, Seaborn and Pandas have improved on the original Python library and enabled us to visualize DataFrames as well."
   ]
  }
 ],
 "metadata": {
  "colab": {
   "authorship_tag": "ABX9TyMjfrEKhLdSgP444kmeh6qm",
   "collapsed_sections": [],
   "name": "Intro_to_Matplotlib_and_Seaborn.ipynb",
   "provenance": []
  },
  "kernelspec": {
   "display_name": "Python 3",
   "language": "python",
   "name": "python3"
  },
  "language_info": {
   "codemirror_mode": {
    "name": "ipython",
    "version": 3
   },
   "file_extension": ".py",
   "mimetype": "text/x-python",
   "name": "python",
   "nbconvert_exporter": "python",
   "pygments_lexer": "ipython3",
   "version": "3.7.4"
  }
 },
 "nbformat": 4,
 "nbformat_minor": 4
}
