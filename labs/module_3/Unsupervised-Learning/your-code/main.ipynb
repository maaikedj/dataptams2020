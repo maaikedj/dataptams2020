{
 "cells": [
  {
   "cell_type": "markdown",
   "metadata": {
    "Collapsed": "false"
   },
   "source": [
    "# Before your start:\n",
    "- Read the README.md file\n",
    "- Comment as much as you can and use the resources in the README.md file\n",
    "- Happy learning!"
   ]
  },
  {
   "cell_type": "code",
   "execution_count": 36,
   "metadata": {
    "Collapsed": "false"
   },
   "outputs": [],
   "source": [
    "# Import your libraries:\n",
    "\n",
    "%matplotlib inline\n",
    "\n",
    "import seaborn as sns\n",
    "import matplotlib.pyplot as plt\n",
    "\n",
    "import matplotlib.pyplot as plt\n",
    "import sys\n",
    "# print(sys.path)\n",
    "# Adding a path so that it finds the package for numpy\n",
    "sys.path.append('/usr/local/lib/python3.7/site-packages')\n",
    "import numpy as np\n",
    "import pandas as pd\n",
    "from scipy import stats"
   ]
  },
  {
   "cell_type": "markdown",
   "metadata": {
    "Collapsed": "false"
   },
   "source": [
    "# Challenge 1 - Import and Describe the Dataset\n",
    "\n",
    "In this lab, we will use a dataset containing information about customer preferences. We will look at how much each customer spends in a year on each subcategory in the grocery store and try to find similarities using clustering.\n",
    "\n",
    "The dataset is located [here](https://drive.google.com/file/d/1z1gYSD32ktbHuKSzB5JVS_u4YsLibh5F/view?usp=sharing), please download it and place it in the data folder."
   ]
  },
  {
   "cell_type": "code",
   "execution_count": 37,
   "metadata": {
    "Collapsed": "false"
   },
   "outputs": [],
   "source": [
    "# loading the data:\n",
    "\n",
    "customers = pd.read_csv('../data/Wholesale_customer_data.csv')"
   ]
  },
  {
   "cell_type": "markdown",
   "metadata": {
    "Collapsed": "false"
   },
   "source": [
    "#### Explore the dataset with mathematical and visualization techniques. What do you find?\n",
    "\n",
    "Checklist:\n",
    "\n",
    "* What does each column mean?\n",
    "* Any categorical data to convert?\n",
    "* Any missing data to remove?\n",
    "* Column collinearity - any high correlations?\n",
    "* Descriptive statistics - any outliers to remove?\n",
    "* Column-wise data distribution - is the distribution skewed?\n",
    "* Etc.\n",
    "\n",
    "Additional info: Over a century ago, an Italian economist named Vilfredo Pareto discovered that roughly 20% of the customers account for 80% of the typical retail sales. This is called the [Pareto principle](https://en.wikipedia.org/wiki/Pareto_principle). Check if this dataset displays this characteristic."
   ]
  },
  {
   "cell_type": "code",
   "execution_count": 38,
   "metadata": {
    "Collapsed": "false"
   },
   "outputs": [
    {
     "data": {
      "text/html": [
       "<div>\n",
       "<style scoped>\n",
       "    .dataframe tbody tr th:only-of-type {\n",
       "        vertical-align: middle;\n",
       "    }\n",
       "\n",
       "    .dataframe tbody tr th {\n",
       "        vertical-align: top;\n",
       "    }\n",
       "\n",
       "    .dataframe thead th {\n",
       "        text-align: right;\n",
       "    }\n",
       "</style>\n",
       "<table border=\"1\" class=\"dataframe\">\n",
       "  <thead>\n",
       "    <tr style=\"text-align: right;\">\n",
       "      <th></th>\n",
       "      <th>Channel</th>\n",
       "      <th>Region</th>\n",
       "      <th>Fresh</th>\n",
       "      <th>Milk</th>\n",
       "      <th>Grocery</th>\n",
       "      <th>Frozen</th>\n",
       "      <th>Detergents_Paper</th>\n",
       "      <th>Delicassen</th>\n",
       "    </tr>\n",
       "  </thead>\n",
       "  <tbody>\n",
       "    <tr>\n",
       "      <th>0</th>\n",
       "      <td>2</td>\n",
       "      <td>3</td>\n",
       "      <td>12669</td>\n",
       "      <td>9656</td>\n",
       "      <td>7561</td>\n",
       "      <td>214</td>\n",
       "      <td>2674</td>\n",
       "      <td>1338</td>\n",
       "    </tr>\n",
       "    <tr>\n",
       "      <th>1</th>\n",
       "      <td>2</td>\n",
       "      <td>3</td>\n",
       "      <td>7057</td>\n",
       "      <td>9810</td>\n",
       "      <td>9568</td>\n",
       "      <td>1762</td>\n",
       "      <td>3293</td>\n",
       "      <td>1776</td>\n",
       "    </tr>\n",
       "    <tr>\n",
       "      <th>2</th>\n",
       "      <td>2</td>\n",
       "      <td>3</td>\n",
       "      <td>6353</td>\n",
       "      <td>8808</td>\n",
       "      <td>7684</td>\n",
       "      <td>2405</td>\n",
       "      <td>3516</td>\n",
       "      <td>7844</td>\n",
       "    </tr>\n",
       "    <tr>\n",
       "      <th>3</th>\n",
       "      <td>1</td>\n",
       "      <td>3</td>\n",
       "      <td>13265</td>\n",
       "      <td>1196</td>\n",
       "      <td>4221</td>\n",
       "      <td>6404</td>\n",
       "      <td>507</td>\n",
       "      <td>1788</td>\n",
       "    </tr>\n",
       "    <tr>\n",
       "      <th>4</th>\n",
       "      <td>2</td>\n",
       "      <td>3</td>\n",
       "      <td>22615</td>\n",
       "      <td>5410</td>\n",
       "      <td>7198</td>\n",
       "      <td>3915</td>\n",
       "      <td>1777</td>\n",
       "      <td>5185</td>\n",
       "    </tr>\n",
       "  </tbody>\n",
       "</table>\n",
       "</div>"
      ],
      "text/plain": [
       "   Channel  Region  Fresh  Milk  Grocery  Frozen  Detergents_Paper  Delicassen\n",
       "0        2       3  12669  9656     7561     214              2674        1338\n",
       "1        2       3   7057  9810     9568    1762              3293        1776\n",
       "2        2       3   6353  8808     7684    2405              3516        7844\n",
       "3        1       3  13265  1196     4221    6404               507        1788\n",
       "4        2       3  22615  5410     7198    3915              1777        5185"
      ]
     },
     "execution_count": 38,
     "metadata": {},
     "output_type": "execute_result"
    }
   ],
   "source": [
    "# Your code here:\n",
    "\n",
    "customers.head()\n"
   ]
  },
  {
   "cell_type": "code",
   "execution_count": 5,
   "metadata": {
    "Collapsed": "false"
   },
   "outputs": [
    {
     "name": "stdout",
     "output_type": "stream",
     "text": [
      "<class 'pandas.core.frame.DataFrame'>\n",
      "RangeIndex: 440 entries, 0 to 439\n",
      "Data columns (total 8 columns):\n",
      " #   Column            Non-Null Count  Dtype\n",
      "---  ------            --------------  -----\n",
      " 0   Channel           440 non-null    int64\n",
      " 1   Region            440 non-null    int64\n",
      " 2   Fresh             440 non-null    int64\n",
      " 3   Milk              440 non-null    int64\n",
      " 4   Grocery           440 non-null    int64\n",
      " 5   Frozen            440 non-null    int64\n",
      " 6   Detergents_Paper  440 non-null    int64\n",
      " 7   Delicassen        440 non-null    int64\n",
      "dtypes: int64(8)\n",
      "memory usage: 27.6 KB\n"
     ]
    }
   ],
   "source": [
    "customers.info()"
   ]
  },
  {
   "cell_type": "code",
   "execution_count": 6,
   "metadata": {
    "Collapsed": "false"
   },
   "outputs": [
    {
     "data": {
      "text/plain": [
       "{'Channel': 0,\n",
       " 'Region': 0,\n",
       " 'Fresh': 0,\n",
       " 'Milk': 0,\n",
       " 'Grocery': 0,\n",
       " 'Frozen': 0,\n",
       " 'Detergents_Paper': 0,\n",
       " 'Delicassen': 0}"
      ]
     },
     "execution_count": 6,
     "metadata": {},
     "output_type": "execute_result"
    }
   ],
   "source": [
    "def spot_nan(df):\n",
    "    \n",
    "    dict_count = {}\n",
    "    \n",
    "    for col in df.columns:\n",
    "        count_nan = df[col].isna().sum()\n",
    "        dict_count[col] = count_nan\n",
    "        \n",
    "    return dict_count\n",
    "\n",
    "spot_nan(customers)\n",
    "#Paolo: this works but you could compact the code, see below\n"
   ]
  },
  {
   "cell_type": "code",
   "execution_count": 47,
   "metadata": {
    "Collapsed": "false"
   },
   "outputs": [
    {
     "data": {
      "text/plain": [
       "Channel             0\n",
       "Region              0\n",
       "Fresh               0\n",
       "Milk                0\n",
       "Grocery             0\n",
       "Frozen              0\n",
       "Detergents_Paper    0\n",
       "Delicassen          0\n",
       "dtype: int64"
      ]
     },
     "execution_count": 47,
     "metadata": {},
     "output_type": "execute_result"
    }
   ],
   "source": [
    "#Paolo: spotting NaN\n",
    "customers.isnull().sum()"
   ]
  },
  {
   "cell_type": "code",
   "execution_count": 48,
   "metadata": {
    "Collapsed": "false"
   },
   "outputs": [
    {
     "data": {
      "image/png": "[encoded data removed]",
      "text/plain": [
       "<Figure size 720x720 with 2 Axes>"
      ]
     },
     "metadata": {
      "needs_background": "light"
     },
     "output_type": "display_data"
    }
   ],
   "source": [
    "plt.subplots(figsize=(10,10))\n",
    "\n",
    "corr = customers.corr()\n",
    "mask = np.triu(np.ones_like(corr, dtype=np.bool))\n",
    "sns.heatmap(corr, mask=mask, annot = True, fmt='.1g')\n",
    "plt.title('Correlation Matrix')\n",
    "plt.show()"
   ]
  },
  {
   "cell_type": "code",
   "execution_count": 8,
   "metadata": {
    "Collapsed": "false"
   },
   "outputs": [
    {
     "data": {
      "text/plain": [
       "<matplotlib.axes._subplots.AxesSubplot at 0x20cc42e9688>"
      ]
     },
     "execution_count": 8,
     "metadata": {},
     "output_type": "execute_result"
    },
    {
     "data": {
      "image/png": "[encoded data removed]",
      "text/plain": [
       "<Figure size 1440x360 with 1 Axes>"
      ]
     },
     "metadata": {
      "needs_background": "light"
     },
     "output_type": "display_data"
    }
   ],
   "source": [
    "plt.subplots(figsize=(20,5))\n",
    "sns.boxplot(x=\"variable\", y=\"value\", data=pd.melt(customers))\n",
    "#Paolo: good idea the box plot"
   ]
  },
  {
   "cell_type": "code",
   "execution_count": 49,
   "metadata": {
    "Collapsed": "false"
   },
   "outputs": [
    {
     "data": {
      "text/html": [
       "<div>\n",
       "<style scoped>\n",
       "    .dataframe tbody tr th:only-of-type {\n",
       "        vertical-align: middle;\n",
       "    }\n",
       "\n",
       "    .dataframe tbody tr th {\n",
       "        vertical-align: top;\n",
       "    }\n",
       "\n",
       "    .dataframe thead th {\n",
       "        text-align: right;\n",
       "    }\n",
       "</style>\n",
       "<table border=\"1\" class=\"dataframe\">\n",
       "  <thead>\n",
       "    <tr style=\"text-align: right;\">\n",
       "      <th></th>\n",
       "      <th>count</th>\n",
       "      <th>mean</th>\n",
       "      <th>std</th>\n",
       "      <th>min</th>\n",
       "      <th>25%</th>\n",
       "      <th>50%</th>\n",
       "      <th>75%</th>\n",
       "      <th>max</th>\n",
       "    </tr>\n",
       "  </thead>\n",
       "  <tbody>\n",
       "    <tr>\n",
       "      <th>Channel</th>\n",
       "      <td>440.0</td>\n",
       "      <td>1.0</td>\n",
       "      <td>0.0</td>\n",
       "      <td>1.0</td>\n",
       "      <td>1.0</td>\n",
       "      <td>1.0</td>\n",
       "      <td>2.0</td>\n",
       "      <td>2.0</td>\n",
       "    </tr>\n",
       "    <tr>\n",
       "      <th>Region</th>\n",
       "      <td>440.0</td>\n",
       "      <td>3.0</td>\n",
       "      <td>1.0</td>\n",
       "      <td>1.0</td>\n",
       "      <td>2.0</td>\n",
       "      <td>3.0</td>\n",
       "      <td>3.0</td>\n",
       "      <td>3.0</td>\n",
       "    </tr>\n",
       "    <tr>\n",
       "      <th>Fresh</th>\n",
       "      <td>440.0</td>\n",
       "      <td>12000.0</td>\n",
       "      <td>12647.0</td>\n",
       "      <td>3.0</td>\n",
       "      <td>3128.0</td>\n",
       "      <td>8504.0</td>\n",
       "      <td>16934.0</td>\n",
       "      <td>112151.0</td>\n",
       "    </tr>\n",
       "    <tr>\n",
       "      <th>Milk</th>\n",
       "      <td>440.0</td>\n",
       "      <td>5796.0</td>\n",
       "      <td>7380.0</td>\n",
       "      <td>55.0</td>\n",
       "      <td>1533.0</td>\n",
       "      <td>3627.0</td>\n",
       "      <td>7190.0</td>\n",
       "      <td>73498.0</td>\n",
       "    </tr>\n",
       "    <tr>\n",
       "      <th>Grocery</th>\n",
       "      <td>440.0</td>\n",
       "      <td>7951.0</td>\n",
       "      <td>9503.0</td>\n",
       "      <td>3.0</td>\n",
       "      <td>2153.0</td>\n",
       "      <td>4756.0</td>\n",
       "      <td>10656.0</td>\n",
       "      <td>92780.0</td>\n",
       "    </tr>\n",
       "    <tr>\n",
       "      <th>Frozen</th>\n",
       "      <td>440.0</td>\n",
       "      <td>3072.0</td>\n",
       "      <td>4855.0</td>\n",
       "      <td>25.0</td>\n",
       "      <td>742.0</td>\n",
       "      <td>1526.0</td>\n",
       "      <td>3554.0</td>\n",
       "      <td>60869.0</td>\n",
       "    </tr>\n",
       "    <tr>\n",
       "      <th>Detergents_Paper</th>\n",
       "      <td>440.0</td>\n",
       "      <td>2881.0</td>\n",
       "      <td>4768.0</td>\n",
       "      <td>3.0</td>\n",
       "      <td>257.0</td>\n",
       "      <td>816.0</td>\n",
       "      <td>3922.0</td>\n",
       "      <td>40827.0</td>\n",
       "    </tr>\n",
       "    <tr>\n",
       "      <th>Delicassen</th>\n",
       "      <td>440.0</td>\n",
       "      <td>1525.0</td>\n",
       "      <td>2820.0</td>\n",
       "      <td>3.0</td>\n",
       "      <td>408.0</td>\n",
       "      <td>966.0</td>\n",
       "      <td>1820.0</td>\n",
       "      <td>47943.0</td>\n",
       "    </tr>\n",
       "  </tbody>\n",
       "</table>\n",
       "</div>"
      ],
      "text/plain": [
       "                  count     mean      std   min     25%     50%      75%  \\\n",
       "Channel           440.0      1.0      0.0   1.0     1.0     1.0      2.0   \n",
       "Region            440.0      3.0      1.0   1.0     2.0     3.0      3.0   \n",
       "Fresh             440.0  12000.0  12647.0   3.0  3128.0  8504.0  16934.0   \n",
       "Milk              440.0   5796.0   7380.0  55.0  1533.0  3627.0   7190.0   \n",
       "Grocery           440.0   7951.0   9503.0   3.0  2153.0  4756.0  10656.0   \n",
       "Frozen            440.0   3072.0   4855.0  25.0   742.0  1526.0   3554.0   \n",
       "Detergents_Paper  440.0   2881.0   4768.0   3.0   257.0   816.0   3922.0   \n",
       "Delicassen        440.0   1525.0   2820.0   3.0   408.0   966.0   1820.0   \n",
       "\n",
       "                       max  \n",
       "Channel                2.0  \n",
       "Region                 3.0  \n",
       "Fresh             112151.0  \n",
       "Milk               73498.0  \n",
       "Grocery            92780.0  \n",
       "Frozen             60869.0  \n",
       "Detergents_Paper   40827.0  \n",
       "Delicassen         47943.0  "
      ]
     },
     "execution_count": 49,
     "metadata": {},
     "output_type": "execute_result"
    }
   ],
   "source": [
    "summary = customers.describe()\n",
    "summary = summary.round()\n",
    "summary.transpose()"
   ]
  },
  {
   "cell_type": "code",
   "execution_count": 50,
   "metadata": {
    "Collapsed": "false"
   },
   "outputs": [],
   "source": [
    "customers.drop(['Channel'], axis=1, inplace=True)\n",
    "customers.drop(['Region'], axis=1, inplace=True)"
   ]
  },
  {
   "cell_type": "code",
   "execution_count": 51,
   "metadata": {
    "Collapsed": "false"
   },
   "outputs": [
    {
     "data": {
      "text/html": [
       "<div>\n",
       "<style scoped>\n",
       "    .dataframe tbody tr th:only-of-type {\n",
       "        vertical-align: middle;\n",
       "    }\n",
       "\n",
       "    .dataframe tbody tr th {\n",
       "        vertical-align: top;\n",
       "    }\n",
       "\n",
       "    .dataframe thead th {\n",
       "        text-align: right;\n",
       "    }\n",
       "</style>\n",
       "<table border=\"1\" class=\"dataframe\">\n",
       "  <thead>\n",
       "    <tr style=\"text-align: right;\">\n",
       "      <th></th>\n",
       "      <th>Fresh</th>\n",
       "      <th>Milk</th>\n",
       "      <th>Grocery</th>\n",
       "      <th>Frozen</th>\n",
       "      <th>Detergents_Paper</th>\n",
       "      <th>Delicassen</th>\n",
       "    </tr>\n",
       "  </thead>\n",
       "  <tbody>\n",
       "    <tr>\n",
       "      <th>23</th>\n",
       "      <td>26373</td>\n",
       "      <td>36423</td>\n",
       "      <td>22019</td>\n",
       "      <td>5154</td>\n",
       "      <td>4337</td>\n",
       "      <td>16523</td>\n",
       "    </tr>\n",
       "    <tr>\n",
       "      <th>39</th>\n",
       "      <td>56159</td>\n",
       "      <td>555</td>\n",
       "      <td>902</td>\n",
       "      <td>10002</td>\n",
       "      <td>212</td>\n",
       "      <td>2916</td>\n",
       "    </tr>\n",
       "    <tr>\n",
       "      <th>47</th>\n",
       "      <td>44466</td>\n",
       "      <td>54259</td>\n",
       "      <td>55571</td>\n",
       "      <td>7782</td>\n",
       "      <td>24171</td>\n",
       "      <td>6465</td>\n",
       "    </tr>\n",
       "    <tr>\n",
       "      <th>56</th>\n",
       "      <td>4098</td>\n",
       "      <td>29892</td>\n",
       "      <td>26866</td>\n",
       "      <td>2616</td>\n",
       "      <td>17740</td>\n",
       "      <td>1340</td>\n",
       "    </tr>\n",
       "    <tr>\n",
       "      <th>61</th>\n",
       "      <td>35942</td>\n",
       "      <td>38369</td>\n",
       "      <td>59598</td>\n",
       "      <td>3254</td>\n",
       "      <td>26701</td>\n",
       "      <td>2017</td>\n",
       "    </tr>\n",
       "    <tr>\n",
       "      <th>65</th>\n",
       "      <td>85</td>\n",
       "      <td>20959</td>\n",
       "      <td>45828</td>\n",
       "      <td>36</td>\n",
       "      <td>24231</td>\n",
       "      <td>1423</td>\n",
       "    </tr>\n",
       "    <tr>\n",
       "      <th>71</th>\n",
       "      <td>18291</td>\n",
       "      <td>1266</td>\n",
       "      <td>21042</td>\n",
       "      <td>5373</td>\n",
       "      <td>4173</td>\n",
       "      <td>14472</td>\n",
       "    </tr>\n",
       "    <tr>\n",
       "      <th>85</th>\n",
       "      <td>16117</td>\n",
       "      <td>46197</td>\n",
       "      <td>92780</td>\n",
       "      <td>1026</td>\n",
       "      <td>40827</td>\n",
       "      <td>2944</td>\n",
       "    </tr>\n",
       "    <tr>\n",
       "      <th>86</th>\n",
       "      <td>22925</td>\n",
       "      <td>73498</td>\n",
       "      <td>32114</td>\n",
       "      <td>987</td>\n",
       "      <td>20070</td>\n",
       "      <td>903</td>\n",
       "    </tr>\n",
       "    <tr>\n",
       "      <th>87</th>\n",
       "      <td>43265</td>\n",
       "      <td>5025</td>\n",
       "      <td>8117</td>\n",
       "      <td>6312</td>\n",
       "      <td>1579</td>\n",
       "      <td>14351</td>\n",
       "    </tr>\n",
       "    <tr>\n",
       "      <th>92</th>\n",
       "      <td>9198</td>\n",
       "      <td>27472</td>\n",
       "      <td>32034</td>\n",
       "      <td>3232</td>\n",
       "      <td>18906</td>\n",
       "      <td>5130</td>\n",
       "    </tr>\n",
       "    <tr>\n",
       "      <th>93</th>\n",
       "      <td>11314</td>\n",
       "      <td>3090</td>\n",
       "      <td>2062</td>\n",
       "      <td>35009</td>\n",
       "      <td>71</td>\n",
       "      <td>2698</td>\n",
       "    </tr>\n",
       "    <tr>\n",
       "      <th>103</th>\n",
       "      <td>56082</td>\n",
       "      <td>3504</td>\n",
       "      <td>8906</td>\n",
       "      <td>18028</td>\n",
       "      <td>1480</td>\n",
       "      <td>2498</td>\n",
       "    </tr>\n",
       "    <tr>\n",
       "      <th>125</th>\n",
       "      <td>76237</td>\n",
       "      <td>3473</td>\n",
       "      <td>7102</td>\n",
       "      <td>16538</td>\n",
       "      <td>778</td>\n",
       "      <td>918</td>\n",
       "    </tr>\n",
       "    <tr>\n",
       "      <th>181</th>\n",
       "      <td>112151</td>\n",
       "      <td>29627</td>\n",
       "      <td>18148</td>\n",
       "      <td>16745</td>\n",
       "      <td>4948</td>\n",
       "      <td>8550</td>\n",
       "    </tr>\n",
       "    <tr>\n",
       "      <th>183</th>\n",
       "      <td>36847</td>\n",
       "      <td>43950</td>\n",
       "      <td>20170</td>\n",
       "      <td>36534</td>\n",
       "      <td>239</td>\n",
       "      <td>47943</td>\n",
       "    </tr>\n",
       "    <tr>\n",
       "      <th>196</th>\n",
       "      <td>30624</td>\n",
       "      <td>7209</td>\n",
       "      <td>4897</td>\n",
       "      <td>18711</td>\n",
       "      <td>763</td>\n",
       "      <td>2876</td>\n",
       "    </tr>\n",
       "    <tr>\n",
       "      <th>211</th>\n",
       "      <td>12119</td>\n",
       "      <td>28326</td>\n",
       "      <td>39694</td>\n",
       "      <td>4736</td>\n",
       "      <td>19410</td>\n",
       "      <td>2870</td>\n",
       "    </tr>\n",
       "    <tr>\n",
       "      <th>216</th>\n",
       "      <td>2532</td>\n",
       "      <td>16599</td>\n",
       "      <td>36486</td>\n",
       "      <td>179</td>\n",
       "      <td>13308</td>\n",
       "      <td>674</td>\n",
       "    </tr>\n",
       "    <tr>\n",
       "      <th>251</th>\n",
       "      <td>6134</td>\n",
       "      <td>23133</td>\n",
       "      <td>33586</td>\n",
       "      <td>6746</td>\n",
       "      <td>18594</td>\n",
       "      <td>5121</td>\n",
       "    </tr>\n",
       "    <tr>\n",
       "      <th>258</th>\n",
       "      <td>56083</td>\n",
       "      <td>4563</td>\n",
       "      <td>2124</td>\n",
       "      <td>6422</td>\n",
       "      <td>730</td>\n",
       "      <td>3321</td>\n",
       "    </tr>\n",
       "    <tr>\n",
       "      <th>259</th>\n",
       "      <td>53205</td>\n",
       "      <td>4959</td>\n",
       "      <td>7336</td>\n",
       "      <td>3012</td>\n",
       "      <td>967</td>\n",
       "      <td>818</td>\n",
       "    </tr>\n",
       "    <tr>\n",
       "      <th>284</th>\n",
       "      <td>68951</td>\n",
       "      <td>4411</td>\n",
       "      <td>12609</td>\n",
       "      <td>8692</td>\n",
       "      <td>751</td>\n",
       "      <td>2406</td>\n",
       "    </tr>\n",
       "    <tr>\n",
       "      <th>325</th>\n",
       "      <td>32717</td>\n",
       "      <td>16784</td>\n",
       "      <td>13626</td>\n",
       "      <td>60869</td>\n",
       "      <td>1272</td>\n",
       "      <td>5609</td>\n",
       "    </tr>\n",
       "    <tr>\n",
       "      <th>333</th>\n",
       "      <td>8565</td>\n",
       "      <td>4980</td>\n",
       "      <td>67298</td>\n",
       "      <td>131</td>\n",
       "      <td>38102</td>\n",
       "      <td>1215</td>\n",
       "    </tr>\n",
       "    <tr>\n",
       "      <th>413</th>\n",
       "      <td>4983</td>\n",
       "      <td>4859</td>\n",
       "      <td>6633</td>\n",
       "      <td>17866</td>\n",
       "      <td>912</td>\n",
       "      <td>2435</td>\n",
       "    </tr>\n",
       "  </tbody>\n",
       "</table>\n",
       "</div>"
      ],
      "text/plain": [
       "      Fresh   Milk  Grocery  Frozen  Detergents_Paper  Delicassen\n",
       "23    26373  36423    22019    5154              4337       16523\n",
       "39    56159    555      902   10002               212        2916\n",
       "47    44466  54259    55571    7782             24171        6465\n",
       "56     4098  29892    26866    2616             17740        1340\n",
       "61    35942  38369    59598    3254             26701        2017\n",
       "65       85  20959    45828      36             24231        1423\n",
       "71    18291   1266    21042    5373              4173       14472\n",
       "85    16117  46197    92780    1026             40827        2944\n",
       "86    22925  73498    32114     987             20070         903\n",
       "87    43265   5025     8117    6312              1579       14351\n",
       "92     9198  27472    32034    3232             18906        5130\n",
       "93    11314   3090     2062   35009                71        2698\n",
       "103   56082   3504     8906   18028              1480        2498\n",
       "125   76237   3473     7102   16538               778         918\n",
       "181  112151  29627    18148   16745              4948        8550\n",
       "183   36847  43950    20170   36534               239       47943\n",
       "196   30624   7209     4897   18711               763        2876\n",
       "211   12119  28326    39694    4736             19410        2870\n",
       "216    2532  16599    36486     179             13308         674\n",
       "251    6134  23133    33586    6746             18594        5121\n",
       "258   56083   4563     2124    6422               730        3321\n",
       "259   53205   4959     7336    3012               967         818\n",
       "284   68951   4411    12609    8692               751        2406\n",
       "325   32717  16784    13626   60869              1272        5609\n",
       "333    8565   4980    67298     131             38102        1215\n",
       "413    4983   4859     6633   17866               912        2435"
      ]
     },
     "execution_count": 51,
     "metadata": {},
     "output_type": "execute_result"
    }
   ],
   "source": [
    "outliers = customers[stats.zscore(customers) > 3]\n",
    "#Paolo: Be careful when you remove datapoints you do not much about\n",
    "outliers.drop_duplicates()"
   ]
  },
  {
   "cell_type": "code",
   "execution_count": 12,
   "metadata": {
    "Collapsed": "false"
   },
   "outputs": [
    {
     "data": {
      "text/plain": [
       "26"
      ]
     },
     "execution_count": 12,
     "metadata": {},
     "output_type": "execute_result"
    }
   ],
   "source": [
    "len(outliers.drop_duplicates())"
   ]
  },
  {
   "cell_type": "code",
   "execution_count": 52,
   "metadata": {
    "Collapsed": "false"
   },
   "outputs": [
    {
     "name": "stdout",
     "output_type": "stream",
     "text": [
      "Fresh\n",
      "0.5267331435526884\n",
      "Milk\n",
      "0.5605415241866138\n",
      "Grocery\n",
      "0.5568736526607218\n",
      "Frozen\n",
      "0.6238138571375726\n",
      "Detergents_Paper\n",
      "0.697065994035605\n",
      "Delicassen\n",
      "0.5738937584861903\n"
     ]
    }
   ],
   "source": [
    "for col in customers.columns:\n",
    "    print(col)\n",
    "    pareto = customers[customers[col] > customers[col].quantile(.80)]\n",
    "    print(pareto[col].sum() / customers[col].sum())\n",
    "#Paolo:ok"
   ]
  },
  {
   "cell_type": "code",
   "execution_count": null,
   "metadata": {
    "Collapsed": "false"
   },
   "outputs": [],
   "source": [
    "# Your observations here\n",
    "\n",
    "\n",
    "# The database includes the sales by customer of a series of categories, plus two catgorical: Channel And Region\n",
    "# No missing values\n",
    "# The data has low collinearity, only Grocery and Detergent Paper sales are highly correlated\n",
    "# Visually, there are some outliers, especially on the high end, likely some extreme spenders\n",
    "# Indeed, there are 26 outliers based on Zscore value > 3 = extreme right of the distribution\n",
    "# Top 20% of customer generate between 50 to 70% of category sales"
   ]
  },
  {
   "cell_type": "markdown",
   "metadata": {
    "Collapsed": "false"
   },
   "source": [
    "# Challenge 2 - Data Cleaning and Transformation\n",
    "\n",
    "If your conclusion from the previous challenge is the data need cleaning/transformation, do it in the cells below. However, if your conclusion is the data need not be cleaned or transformed, feel free to skip this challenge. But if you do choose the latter, please provide rationale."
   ]
  },
  {
   "cell_type": "code",
   "execution_count": 53,
   "metadata": {
    "Collapsed": "false"
   },
   "outputs": [
    {
     "name": "stdout",
     "output_type": "stream",
     "text": [
      "<class 'pandas.core.frame.DataFrame'>\n",
      "Int64Index: 414 entries, 0 to 439\n",
      "Data columns (total 8 columns):\n",
      " #   Column            Non-Null Count  Dtype\n",
      "---  ------            --------------  -----\n",
      " 0   Channel           414 non-null    int64\n",
      " 1   Region            414 non-null    int64\n",
      " 2   Fresh             414 non-null    int64\n",
      " 3   Milk              414 non-null    int64\n",
      " 4   Grocery           414 non-null    int64\n",
      " 5   Frozen            414 non-null    int64\n",
      " 6   Detergents_Paper  414 non-null    int64\n",
      " 7   Delicassen        414 non-null    int64\n",
      "dtypes: int64(8)\n",
      "memory usage: 29.1 KB\n"
     ]
    }
   ],
   "source": [
    "# Your code here\n",
    "\n",
    "customers = pd.read_csv('../data/Wholesale_customer_data.csv')\n",
    "customers = customers[(np.abs(stats.zscore(customers)) < 3).all(axis=1)]\n",
    "customers.info()"
   ]
  },
  {
   "cell_type": "code",
   "execution_count": 15,
   "metadata": {
    "Collapsed": "false"
   },
   "outputs": [],
   "source": [
    "# Your comment here\n",
    "\n",
    "# I removed the outliers because these are few selected high spenders which should be treated individually and not pollute the cluster analysis\n",
    "# I have not removed any column because despite the collinearity, keeping both grocery and detergent paper sales is more face valid\n"
   ]
  },
  {
   "cell_type": "markdown",
   "metadata": {
    "Collapsed": "false"
   },
   "source": [
    "# Challenge 3 - Data Preprocessing\n",
    "\n",
    "One problem with the dataset is the value ranges are remarkably different across various categories (e.g. `Fresh` and `Grocery` compared to `Detergents_Paper` and `Delicassen`). If you made this observation in the first challenge, you've done a great job! This means you not only completed the bonus questions in the previous Supervised Learning lab but also researched deep into [*feature scaling*](https://en.wikipedia.org/wiki/Feature_scaling). Keep on the good work!\n",
    "\n",
    "Diverse value ranges in different features could cause issues in our clustering. The way to reduce the problem is through feature scaling. We'll use this technique again with this dataset.\n",
    "\n",
    "#### We will use the `StandardScaler` from `sklearn.preprocessing` and scale our data. Read more about `StandardScaler` [here](https://scikit-learn.org/stable/modules/generated/sklearn.preprocessing.StandardScaler.html#sklearn.preprocessing.StandardScaler).\n",
    "\n",
    "*After scaling your data, assign the transformed data to a new variable `customers_scale`.*"
   ]
  },
  {
   "cell_type": "code",
   "execution_count": 54,
   "metadata": {
    "Collapsed": "false"
   },
   "outputs": [
    {
     "data": {
      "text/html": [
       "<div>\n",
       "<style scoped>\n",
       "    .dataframe tbody tr th:only-of-type {\n",
       "        vertical-align: middle;\n",
       "    }\n",
       "\n",
       "    .dataframe tbody tr th {\n",
       "        vertical-align: top;\n",
       "    }\n",
       "\n",
       "    .dataframe thead th {\n",
       "        text-align: right;\n",
       "    }\n",
       "</style>\n",
       "<table border=\"1\" class=\"dataframe\">\n",
       "  <thead>\n",
       "    <tr style=\"text-align: right;\">\n",
       "      <th></th>\n",
       "      <th>Channel</th>\n",
       "      <th>Region</th>\n",
       "      <th>Fresh</th>\n",
       "      <th>Milk</th>\n",
       "      <th>Grocery</th>\n",
       "      <th>Frozen</th>\n",
       "      <th>Detergents_Paper</th>\n",
       "      <th>Delicassen</th>\n",
       "    </tr>\n",
       "  </thead>\n",
       "  <tbody>\n",
       "    <tr>\n",
       "      <th>0</th>\n",
       "      <td>1.478044</td>\n",
       "      <td>0.587722</td>\n",
       "      <td>0.199569</td>\n",
       "      <td>1.051409</td>\n",
       "      <td>0.115837</td>\n",
       "      <td>-0.801844</td>\n",
       "      <td>0.093798</td>\n",
       "      <td>0.082291</td>\n",
       "    </tr>\n",
       "    <tr>\n",
       "      <th>1</th>\n",
       "      <td>1.478044</td>\n",
       "      <td>0.587722</td>\n",
       "      <td>-0.372655</td>\n",
       "      <td>1.085254</td>\n",
       "      <td>0.427079</td>\n",
       "      <td>-0.270462</td>\n",
       "      <td>0.286944</td>\n",
       "      <td>0.442510</td>\n",
       "    </tr>\n",
       "    <tr>\n",
       "      <th>2</th>\n",
       "      <td>1.478044</td>\n",
       "      <td>0.587722</td>\n",
       "      <td>-0.444438</td>\n",
       "      <td>0.865042</td>\n",
       "      <td>0.134911</td>\n",
       "      <td>-0.049739</td>\n",
       "      <td>0.356526</td>\n",
       "      <td>5.432937</td>\n",
       "    </tr>\n",
       "    <tr>\n",
       "      <th>3</th>\n",
       "      <td>-0.676570</td>\n",
       "      <td>0.587722</td>\n",
       "      <td>0.260340</td>\n",
       "      <td>-0.807866</td>\n",
       "      <td>-0.402125</td>\n",
       "      <td>1.322997</td>\n",
       "      <td>-0.582369</td>\n",
       "      <td>0.452379</td>\n",
       "    </tr>\n",
       "    <tr>\n",
       "      <th>4</th>\n",
       "      <td>1.478044</td>\n",
       "      <td>0.587722</td>\n",
       "      <td>1.213706</td>\n",
       "      <td>0.118255</td>\n",
       "      <td>0.059543</td>\n",
       "      <td>0.468598</td>\n",
       "      <td>-0.186092</td>\n",
       "      <td>3.246130</td>\n",
       "    </tr>\n",
       "    <tr>\n",
       "      <th>...</th>\n",
       "      <td>...</td>\n",
       "      <td>...</td>\n",
       "      <td>...</td>\n",
       "      <td>...</td>\n",
       "      <td>...</td>\n",
       "      <td>...</td>\n",
       "      <td>...</td>\n",
       "      <td>...</td>\n",
       "    </tr>\n",
       "    <tr>\n",
       "      <th>409</th>\n",
       "      <td>-0.676570</td>\n",
       "      <td>0.587722</td>\n",
       "      <td>1.936429</td>\n",
       "      <td>1.577764</td>\n",
       "      <td>1.428729</td>\n",
       "      <td>3.633548</td>\n",
       "      <td>-0.683778</td>\n",
       "      <td>0.794505</td>\n",
       "    </tr>\n",
       "    <tr>\n",
       "      <th>410</th>\n",
       "      <td>-0.676570</td>\n",
       "      <td>0.587722</td>\n",
       "      <td>2.907639</td>\n",
       "      <td>-0.756220</td>\n",
       "      <td>-0.938230</td>\n",
       "      <td>0.672844</td>\n",
       "      <td>-0.711549</td>\n",
       "      <td>0.911288</td>\n",
       "    </tr>\n",
       "    <tr>\n",
       "      <th>411</th>\n",
       "      <td>1.478044</td>\n",
       "      <td>0.587722</td>\n",
       "      <td>0.389426</td>\n",
       "      <td>2.333122</td>\n",
       "      <td>3.633321</td>\n",
       "      <td>-0.725295</td>\n",
       "      <td>3.890255</td>\n",
       "      <td>0.517350</td>\n",
       "    </tr>\n",
       "    <tr>\n",
       "      <th>412</th>\n",
       "      <td>-0.676570</td>\n",
       "      <td>0.587722</td>\n",
       "      <td>-0.043004</td>\n",
       "      <td>-0.635345</td>\n",
       "      <td>-0.710575</td>\n",
       "      <td>-0.518989</td>\n",
       "      <td>-0.688147</td>\n",
       "      <td>0.729534</td>\n",
       "    </tr>\n",
       "    <tr>\n",
       "      <th>413</th>\n",
       "      <td>-0.676570</td>\n",
       "      <td>0.587722</td>\n",
       "      <td>-0.808043</td>\n",
       "      <td>-0.697540</td>\n",
       "      <td>-0.667463</td>\n",
       "      <td>-0.852991</td>\n",
       "      <td>-0.591730</td>\n",
       "      <td>-0.975337</td>\n",
       "    </tr>\n",
       "  </tbody>\n",
       "</table>\n",
       "<p>414 rows × 8 columns</p>\n",
       "</div>"
      ],
      "text/plain": [
       "      Channel    Region     Fresh      Milk   Grocery    Frozen  \\\n",
       "0    1.478044  0.587722  0.199569  1.051409  0.115837 -0.801844   \n",
       "1    1.478044  0.587722 -0.372655  1.085254  0.427079 -0.270462   \n",
       "2    1.478044  0.587722 -0.444438  0.865042  0.134911 -0.049739   \n",
       "3   -0.676570  0.587722  0.260340 -0.807866 -0.402125  1.322997   \n",
       "4    1.478044  0.587722  1.213706  0.118255  0.059543  0.468598   \n",
       "..        ...       ...       ...       ...       ...       ...   \n",
       "409 -0.676570  0.587722  1.936429  1.577764  1.428729  3.633548   \n",
       "410 -0.676570  0.587722  2.907639 -0.756220 -0.938230  0.672844   \n",
       "411  1.478044  0.587722  0.389426  2.333122  3.633321 -0.725295   \n",
       "412 -0.676570  0.587722 -0.043004 -0.635345 -0.710575 -0.518989   \n",
       "413 -0.676570  0.587722 -0.808043 -0.697540 -0.667463 -0.852991   \n",
       "\n",
       "     Detergents_Paper  Delicassen  \n",
       "0            0.093798    0.082291  \n",
       "1            0.286944    0.442510  \n",
       "2            0.356526    5.432937  \n",
       "3           -0.582369    0.452379  \n",
       "4           -0.186092    3.246130  \n",
       "..                ...         ...  \n",
       "409         -0.683778    0.794505  \n",
       "410         -0.711549    0.911288  \n",
       "411          3.890255    0.517350  \n",
       "412         -0.688147    0.729534  \n",
       "413         -0.591730   -0.975337  \n",
       "\n",
       "[414 rows x 8 columns]"
      ]
     },
     "execution_count": 54,
     "metadata": {},
     "output_type": "execute_result"
    }
   ],
   "source": [
    "# Your import here:\n",
    "\n",
    "from sklearn import preprocessing\n",
    "\n",
    "# Your code here:\n",
    "\n",
    "colnames = [col for col in customers.columns]\n",
    "scaler = preprocessing.StandardScaler()\n",
    "customer_scale = scaler.fit_transform(customers)\n",
    "customer_scale = pd.DataFrame(customer_scale)\n",
    "customer_scale.columns = colnames\n",
    "customer_scale"
   ]
  },
  {
   "cell_type": "markdown",
   "metadata": {
    "Collapsed": "false"
   },
   "source": [
    "# Challenge 3 - Data Clustering with K-Means\n",
    "\n",
    "Now let's cluster the data with K-Means first. Initiate the K-Means model, then fit your scaled data. In the data returned from the `.fit` method, there is an attribute called `labels_` which is the cluster number assigned to each data record. What you can do is to assign these labels back to `customers` in a new column called `customers['labels']`. Then you'll see the cluster results of the original data."
   ]
  },
  {
   "cell_type": "code",
   "execution_count": 55,
   "metadata": {
    "Collapsed": "false"
   },
   "outputs": [
    {
     "data": {
      "text/plain": [
       "KMeans(algorithm='auto', copy_x=True, init='k-means++', max_iter=300,\n",
       "       n_clusters=8, n_init=10, n_jobs=None, precompute_distances='auto',\n",
       "       random_state=None, tol=0.0001, verbose=0)"
      ]
     },
     "execution_count": 55,
     "metadata": {},
     "output_type": "execute_result"
    }
   ],
   "source": [
    "# Your code here:\n",
    "from sklearn.cluster import KMeans\n",
    "cluster_model = KMeans()\n",
    "cluster_model.fit(customer_scale)"
   ]
  },
  {
   "cell_type": "code",
   "execution_count": 56,
   "metadata": {
    "Collapsed": "false"
   },
   "outputs": [
    {
     "data": {
      "text/html": [
       "<div>\n",
       "<style scoped>\n",
       "    .dataframe tbody tr th:only-of-type {\n",
       "        vertical-align: middle;\n",
       "    }\n",
       "\n",
       "    .dataframe tbody tr th {\n",
       "        vertical-align: top;\n",
       "    }\n",
       "\n",
       "    .dataframe thead th {\n",
       "        text-align: right;\n",
       "    }\n",
       "</style>\n",
       "<table border=\"1\" class=\"dataframe\">\n",
       "  <thead>\n",
       "    <tr style=\"text-align: right;\">\n",
       "      <th></th>\n",
       "      <th>Channel</th>\n",
       "      <th>Region</th>\n",
       "      <th>Fresh</th>\n",
       "      <th>Milk</th>\n",
       "      <th>Grocery</th>\n",
       "      <th>Frozen</th>\n",
       "      <th>Detergents_Paper</th>\n",
       "      <th>Delicassen</th>\n",
       "      <th>labels</th>\n",
       "    </tr>\n",
       "  </thead>\n",
       "  <tbody>\n",
       "    <tr>\n",
       "      <th>0</th>\n",
       "      <td>2</td>\n",
       "      <td>3</td>\n",
       "      <td>12669</td>\n",
       "      <td>9656</td>\n",
       "      <td>7561</td>\n",
       "      <td>214</td>\n",
       "      <td>2674</td>\n",
       "      <td>1338</td>\n",
       "      <td>0</td>\n",
       "    </tr>\n",
       "    <tr>\n",
       "      <th>1</th>\n",
       "      <td>2</td>\n",
       "      <td>3</td>\n",
       "      <td>7057</td>\n",
       "      <td>9810</td>\n",
       "      <td>9568</td>\n",
       "      <td>1762</td>\n",
       "      <td>3293</td>\n",
       "      <td>1776</td>\n",
       "      <td>0</td>\n",
       "    </tr>\n",
       "    <tr>\n",
       "      <th>2</th>\n",
       "      <td>2</td>\n",
       "      <td>3</td>\n",
       "      <td>6353</td>\n",
       "      <td>8808</td>\n",
       "      <td>7684</td>\n",
       "      <td>2405</td>\n",
       "      <td>3516</td>\n",
       "      <td>7844</td>\n",
       "      <td>2</td>\n",
       "    </tr>\n",
       "    <tr>\n",
       "      <th>3</th>\n",
       "      <td>1</td>\n",
       "      <td>3</td>\n",
       "      <td>13265</td>\n",
       "      <td>1196</td>\n",
       "      <td>4221</td>\n",
       "      <td>6404</td>\n",
       "      <td>507</td>\n",
       "      <td>1788</td>\n",
       "      <td>6</td>\n",
       "    </tr>\n",
       "    <tr>\n",
       "      <th>4</th>\n",
       "      <td>2</td>\n",
       "      <td>3</td>\n",
       "      <td>22615</td>\n",
       "      <td>5410</td>\n",
       "      <td>7198</td>\n",
       "      <td>3915</td>\n",
       "      <td>1777</td>\n",
       "      <td>5185</td>\n",
       "      <td>5</td>\n",
       "    </tr>\n",
       "  </tbody>\n",
       "</table>\n",
       "</div>"
      ],
      "text/plain": [
       "   Channel  Region  Fresh  Milk  Grocery  Frozen  Detergents_Paper  \\\n",
       "0        2       3  12669  9656     7561     214              2674   \n",
       "1        2       3   7057  9810     9568    1762              3293   \n",
       "2        2       3   6353  8808     7684    2405              3516   \n",
       "3        1       3  13265  1196     4221    6404               507   \n",
       "4        2       3  22615  5410     7198    3915              1777   \n",
       "\n",
       "   Delicassen  labels  \n",
       "0        1338       0  \n",
       "1        1776       0  \n",
       "2        7844       2  \n",
       "3        1788       6  \n",
       "4        5185       5  "
      ]
     },
     "execution_count": 56,
     "metadata": {},
     "output_type": "execute_result"
    }
   ],
   "source": [
    "customers['labels'] = cluster_model.predict(customer_scale)\n",
    "customers.head()"
   ]
  },
  {
   "cell_type": "markdown",
   "metadata": {
    "Collapsed": "false"
   },
   "source": [
    "Count the values in `labels`."
   ]
  },
  {
   "cell_type": "code",
   "execution_count": 19,
   "metadata": {
    "Collapsed": "false"
   },
   "outputs": [
    {
     "data": {
      "text/html": [
       "<div>\n",
       "<style scoped>\n",
       "    .dataframe tbody tr th:only-of-type {\n",
       "        vertical-align: middle;\n",
       "    }\n",
       "\n",
       "    .dataframe tbody tr th {\n",
       "        vertical-align: top;\n",
       "    }\n",
       "\n",
       "    .dataframe thead th {\n",
       "        text-align: right;\n",
       "    }\n",
       "</style>\n",
       "<table border=\"1\" class=\"dataframe\">\n",
       "  <thead>\n",
       "    <tr style=\"text-align: right;\">\n",
       "      <th></th>\n",
       "      <th>Channel</th>\n",
       "      <th>Region</th>\n",
       "      <th>Fresh</th>\n",
       "      <th>Milk</th>\n",
       "      <th>Grocery</th>\n",
       "      <th>Frozen</th>\n",
       "      <th>Detergents_Paper</th>\n",
       "      <th>Delicassen</th>\n",
       "    </tr>\n",
       "    <tr>\n",
       "      <th>labels</th>\n",
       "      <th></th>\n",
       "      <th></th>\n",
       "      <th></th>\n",
       "      <th></th>\n",
       "      <th></th>\n",
       "      <th></th>\n",
       "      <th></th>\n",
       "      <th></th>\n",
       "    </tr>\n",
       "  </thead>\n",
       "  <tbody>\n",
       "    <tr>\n",
       "      <th>0</th>\n",
       "      <td>17</td>\n",
       "      <td>17</td>\n",
       "      <td>17</td>\n",
       "      <td>17</td>\n",
       "      <td>17</td>\n",
       "      <td>17</td>\n",
       "      <td>17</td>\n",
       "      <td>17</td>\n",
       "    </tr>\n",
       "    <tr>\n",
       "      <th>1</th>\n",
       "      <td>130</td>\n",
       "      <td>130</td>\n",
       "      <td>130</td>\n",
       "      <td>130</td>\n",
       "      <td>130</td>\n",
       "      <td>130</td>\n",
       "      <td>130</td>\n",
       "      <td>130</td>\n",
       "    </tr>\n",
       "    <tr>\n",
       "      <th>2</th>\n",
       "      <td>67</td>\n",
       "      <td>67</td>\n",
       "      <td>67</td>\n",
       "      <td>67</td>\n",
       "      <td>67</td>\n",
       "      <td>67</td>\n",
       "      <td>67</td>\n",
       "      <td>67</td>\n",
       "    </tr>\n",
       "    <tr>\n",
       "      <th>3</th>\n",
       "      <td>36</td>\n",
       "      <td>36</td>\n",
       "      <td>36</td>\n",
       "      <td>36</td>\n",
       "      <td>36</td>\n",
       "      <td>36</td>\n",
       "      <td>36</td>\n",
       "      <td>36</td>\n",
       "    </tr>\n",
       "    <tr>\n",
       "      <th>4</th>\n",
       "      <td>12</td>\n",
       "      <td>12</td>\n",
       "      <td>12</td>\n",
       "      <td>12</td>\n",
       "      <td>12</td>\n",
       "      <td>12</td>\n",
       "      <td>12</td>\n",
       "      <td>12</td>\n",
       "    </tr>\n",
       "    <tr>\n",
       "      <th>5</th>\n",
       "      <td>70</td>\n",
       "      <td>70</td>\n",
       "      <td>70</td>\n",
       "      <td>70</td>\n",
       "      <td>70</td>\n",
       "      <td>70</td>\n",
       "      <td>70</td>\n",
       "      <td>70</td>\n",
       "    </tr>\n",
       "    <tr>\n",
       "      <th>6</th>\n",
       "      <td>43</td>\n",
       "      <td>43</td>\n",
       "      <td>43</td>\n",
       "      <td>43</td>\n",
       "      <td>43</td>\n",
       "      <td>43</td>\n",
       "      <td>43</td>\n",
       "      <td>43</td>\n",
       "    </tr>\n",
       "    <tr>\n",
       "      <th>7</th>\n",
       "      <td>39</td>\n",
       "      <td>39</td>\n",
       "      <td>39</td>\n",
       "      <td>39</td>\n",
       "      <td>39</td>\n",
       "      <td>39</td>\n",
       "      <td>39</td>\n",
       "      <td>39</td>\n",
       "    </tr>\n",
       "  </tbody>\n",
       "</table>\n",
       "</div>"
      ],
      "text/plain": [
       "        Channel  Region  Fresh  Milk  Grocery  Frozen  Detergents_Paper  \\\n",
       "labels                                                                    \n",
       "0            17      17     17    17       17      17                17   \n",
       "1           130     130    130   130      130     130               130   \n",
       "2            67      67     67    67       67      67                67   \n",
       "3            36      36     36    36       36      36                36   \n",
       "4            12      12     12    12       12      12                12   \n",
       "5            70      70     70    70       70      70                70   \n",
       "6            43      43     43    43       43      43                43   \n",
       "7            39      39     39    39       39      39                39   \n",
       "\n",
       "        Delicassen  \n",
       "labels              \n",
       "0               17  \n",
       "1              130  \n",
       "2               67  \n",
       "3               36  \n",
       "4               12  \n",
       "5               70  \n",
       "6               43  \n",
       "7               39  "
      ]
     },
     "execution_count": 19,
     "metadata": {},
     "output_type": "execute_result"
    }
   ],
   "source": [
    "# Your code here:\n",
    "\n",
    "customers.groupby(['labels']).count()"
   ]
  },
  {
   "cell_type": "markdown",
   "metadata": {
    "Collapsed": "false"
   },
   "source": [
    "# Challenge 4 - Data Clustering with DBSCAN\n",
    "\n",
    "Now let's cluster the data using DBSCAN. Use `DBSCAN(eps=0.5)` to initiate the model, then fit your scaled data. In the data returned from the `.fit` method, assign the `labels_` back to `customers['labels_DBSCAN']`. Now your original data have two labels, one from K-Means and the other from DBSCAN."
   ]
  },
  {
   "cell_type": "code",
   "execution_count": 57,
   "metadata": {
    "Collapsed": "false"
   },
   "outputs": [
    {
     "data": {
      "text/html": [
       "<div>\n",
       "<style scoped>\n",
       "    .dataframe tbody tr th:only-of-type {\n",
       "        vertical-align: middle;\n",
       "    }\n",
       "\n",
       "    .dataframe tbody tr th {\n",
       "        vertical-align: top;\n",
       "    }\n",
       "\n",
       "    .dataframe thead th {\n",
       "        text-align: right;\n",
       "    }\n",
       "</style>\n",
       "<table border=\"1\" class=\"dataframe\">\n",
       "  <thead>\n",
       "    <tr style=\"text-align: right;\">\n",
       "      <th></th>\n",
       "      <th>Channel</th>\n",
       "      <th>Region</th>\n",
       "      <th>Fresh</th>\n",
       "      <th>Milk</th>\n",
       "      <th>Grocery</th>\n",
       "      <th>Frozen</th>\n",
       "      <th>Detergents_Paper</th>\n",
       "      <th>Delicassen</th>\n",
       "      <th>labels</th>\n",
       "      <th>labels_DBSCAN</th>\n",
       "    </tr>\n",
       "  </thead>\n",
       "  <tbody>\n",
       "    <tr>\n",
       "      <th>0</th>\n",
       "      <td>2</td>\n",
       "      <td>3</td>\n",
       "      <td>12669</td>\n",
       "      <td>9656</td>\n",
       "      <td>7561</td>\n",
       "      <td>214</td>\n",
       "      <td>2674</td>\n",
       "      <td>1338</td>\n",
       "      <td>0</td>\n",
       "      <td>-1</td>\n",
       "    </tr>\n",
       "    <tr>\n",
       "      <th>1</th>\n",
       "      <td>2</td>\n",
       "      <td>3</td>\n",
       "      <td>7057</td>\n",
       "      <td>9810</td>\n",
       "      <td>9568</td>\n",
       "      <td>1762</td>\n",
       "      <td>3293</td>\n",
       "      <td>1776</td>\n",
       "      <td>0</td>\n",
       "      <td>-1</td>\n",
       "    </tr>\n",
       "    <tr>\n",
       "      <th>2</th>\n",
       "      <td>2</td>\n",
       "      <td>3</td>\n",
       "      <td>6353</td>\n",
       "      <td>8808</td>\n",
       "      <td>7684</td>\n",
       "      <td>2405</td>\n",
       "      <td>3516</td>\n",
       "      <td>7844</td>\n",
       "      <td>2</td>\n",
       "      <td>-1</td>\n",
       "    </tr>\n",
       "    <tr>\n",
       "      <th>3</th>\n",
       "      <td>1</td>\n",
       "      <td>3</td>\n",
       "      <td>13265</td>\n",
       "      <td>1196</td>\n",
       "      <td>4221</td>\n",
       "      <td>6404</td>\n",
       "      <td>507</td>\n",
       "      <td>1788</td>\n",
       "      <td>6</td>\n",
       "      <td>-1</td>\n",
       "    </tr>\n",
       "    <tr>\n",
       "      <th>4</th>\n",
       "      <td>2</td>\n",
       "      <td>3</td>\n",
       "      <td>22615</td>\n",
       "      <td>5410</td>\n",
       "      <td>7198</td>\n",
       "      <td>3915</td>\n",
       "      <td>1777</td>\n",
       "      <td>5185</td>\n",
       "      <td>5</td>\n",
       "      <td>-1</td>\n",
       "    </tr>\n",
       "  </tbody>\n",
       "</table>\n",
       "</div>"
      ],
      "text/plain": [
       "   Channel  Region  Fresh  Milk  Grocery  Frozen  Detergents_Paper  \\\n",
       "0        2       3  12669  9656     7561     214              2674   \n",
       "1        2       3   7057  9810     9568    1762              3293   \n",
       "2        2       3   6353  8808     7684    2405              3516   \n",
       "3        1       3  13265  1196     4221    6404               507   \n",
       "4        2       3  22615  5410     7198    3915              1777   \n",
       "\n",
       "   Delicassen  labels  labels_DBSCAN  \n",
       "0        1338       0             -1  \n",
       "1        1776       0             -1  \n",
       "2        7844       2             -1  \n",
       "3        1788       6             -1  \n",
       "4        5185       5             -1  "
      ]
     },
     "execution_count": 57,
     "metadata": {},
     "output_type": "execute_result"
    }
   ],
   "source": [
    "# Your code here\n",
    "\n",
    "from sklearn.cluster import DBSCAN\n",
    "clustering = DBSCAN(eps=0.5).fit(customer_scale)\n",
    "clustering\n",
    "customers['labels_DBSCAN'] = clustering.fit_predict(customer_scale)\n",
    "customers.head()"
   ]
  },
  {
   "cell_type": "markdown",
   "metadata": {
    "Collapsed": "false"
   },
   "source": [
    "Count the values in `labels_DBSCAN`."
   ]
  },
  {
   "cell_type": "code",
   "execution_count": 58,
   "metadata": {
    "Collapsed": "false"
   },
   "outputs": [
    {
     "data": {
      "text/html": [
       "<div>\n",
       "<style scoped>\n",
       "    .dataframe tbody tr th:only-of-type {\n",
       "        vertical-align: middle;\n",
       "    }\n",
       "\n",
       "    .dataframe tbody tr th {\n",
       "        vertical-align: top;\n",
       "    }\n",
       "\n",
       "    .dataframe thead th {\n",
       "        text-align: right;\n",
       "    }\n",
       "</style>\n",
       "<table border=\"1\" class=\"dataframe\">\n",
       "  <thead>\n",
       "    <tr style=\"text-align: right;\">\n",
       "      <th></th>\n",
       "      <th>Channel</th>\n",
       "      <th>Region</th>\n",
       "      <th>Fresh</th>\n",
       "      <th>Milk</th>\n",
       "      <th>Grocery</th>\n",
       "      <th>Frozen</th>\n",
       "      <th>Detergents_Paper</th>\n",
       "      <th>Delicassen</th>\n",
       "      <th>labels</th>\n",
       "    </tr>\n",
       "    <tr>\n",
       "      <th>labels_DBSCAN</th>\n",
       "      <th></th>\n",
       "      <th></th>\n",
       "      <th></th>\n",
       "      <th></th>\n",
       "      <th></th>\n",
       "      <th></th>\n",
       "      <th></th>\n",
       "      <th></th>\n",
       "      <th></th>\n",
       "    </tr>\n",
       "  </thead>\n",
       "  <tbody>\n",
       "    <tr>\n",
       "      <th>-1</th>\n",
       "      <td>343</td>\n",
       "      <td>343</td>\n",
       "      <td>343</td>\n",
       "      <td>343</td>\n",
       "      <td>343</td>\n",
       "      <td>343</td>\n",
       "      <td>343</td>\n",
       "      <td>343</td>\n",
       "      <td>343</td>\n",
       "    </tr>\n",
       "    <tr>\n",
       "      <th>0</th>\n",
       "      <td>71</td>\n",
       "      <td>71</td>\n",
       "      <td>71</td>\n",
       "      <td>71</td>\n",
       "      <td>71</td>\n",
       "      <td>71</td>\n",
       "      <td>71</td>\n",
       "      <td>71</td>\n",
       "      <td>71</td>\n",
       "    </tr>\n",
       "  </tbody>\n",
       "</table>\n",
       "</div>"
      ],
      "text/plain": [
       "               Channel  Region  Fresh  Milk  Grocery  Frozen  \\\n",
       "labels_DBSCAN                                                  \n",
       "-1                 343     343    343   343      343     343   \n",
       " 0                  71      71     71    71       71      71   \n",
       "\n",
       "               Detergents_Paper  Delicassen  labels  \n",
       "labels_DBSCAN                                        \n",
       "-1                          343         343     343  \n",
       " 0                           71          71      71  "
      ]
     },
     "execution_count": 58,
     "metadata": {},
     "output_type": "execute_result"
    }
   ],
   "source": [
    "# Your code here\n",
    "\n",
    "customers.groupby(['labels_DBSCAN']).count()\n",
    "#Paolo: -1 means it identifies those istances as noise, does not cluster them properly\n",
    "# check here https://scikit-learn.org/stable/modules/clustering.html#dbscan"
   ]
  },
  {
   "cell_type": "markdown",
   "metadata": {
    "Collapsed": "false"
   },
   "source": [
    "# Challenge 5 - Compare K-Means with DBSCAN\n",
    "\n",
    "Now we want to visually compare how K-Means and DBSCAN have clustered our data. We will create scatter plots for several columns. For each of the following column pairs, plot a scatter plot using `labels` and another using `labels_DBSCAN`. Put them side by side to compare. Which clustering algorithm makes better sense?\n",
    "\n",
    "Columns to visualize:\n",
    "\n",
    "* `Detergents_Paper` as X and `Milk` as y\n",
    "* `Grocery` as X and `Fresh` as y\n",
    "* `Frozen` as X and `Delicassen` as y"
   ]
  },
  {
   "cell_type": "markdown",
   "metadata": {
    "Collapsed": "false"
   },
   "source": [
    "Visualize `Detergents_Paper` as X and `Milk` as y by `labels` and `labels_DBSCAN` respectively"
   ]
  },
  {
   "cell_type": "code",
   "execution_count": 59,
   "metadata": {
    "Collapsed": "false"
   },
   "outputs": [],
   "source": [
    "def scatter_make(df, x, y):\n",
    "    fig, [ax1, ax2] = plt.subplots(1,2, figsize = (15,4))\n",
    "    ax1.scatter(df[x], df['labels'], color='blue')\n",
    "    ax1.set_title('K-Means')   \n",
    "    ax1.set_xlabel(x)     \n",
    "    ax1.set_ylabel('K-Means Clusters')   \n",
    "\n",
    "    ax2.scatter(df['labels_DBSCAN'], customers[y], color='red')\n",
    "    ax2.set_title('DBSCAN')\n",
    "    ax2.set_xlabel('DBSCAN Clusters')\n",
    "    ax2.set_ylabel(y)\n",
    "\n",
    "    return plt.show()\n",
    "#Paolo: this is not the best way to visualize it, check below"
   ]
  },
  {
   "cell_type": "code",
   "execution_count": null,
   "metadata": {
    "Collapsed": "false"
   },
   "outputs": [],
   "source": [
    "fig, [ax1, ax2] = plt.subplots(1,2, figsize = (16,6))\n",
    "\n",
    "ax1.scatter(x=customers['Frozen'], y=customers['Delicassen'], c=customers['labels'])\n",
    "ax1.set_title('K-Means')\n",
    "ax1.set_xlabel('Frozen')\n",
    "ax1.set_ylabel('Delicassen')\n",
    "\n",
    "ax2.scatter(x=customers['Frozen'], y=customers['Delicassen'], c=customers['labels_DBSCAN'])\n",
    "ax2.set_title('DBSCAN')\n",
    "ax2.set_xlabel('Frozen')\n",
    "ax2.set_ylabel('Delicassen')"
   ]
  },
  {
   "cell_type": "code",
   "execution_count": 23,
   "metadata": {
    "Collapsed": "false"
   },
   "outputs": [
    {
     "data": {
      "image/png": "[encoded data removed]",
      "text/plain": [
       "<Figure size 1080x288 with 2 Axes>"
      ]
     },
     "metadata": {
      "needs_background": "light"
     },
     "output_type": "display_data"
    }
   ],
   "source": [
    "scatter_make(customers, 'Detergents_Paper','Milk')"
   ]
  },
  {
   "cell_type": "code",
   "execution_count": 82,
   "metadata": {
    "Collapsed": "false"
   },
   "outputs": [],
   "source": [
    "#Paolo: this is an alternative way to visualize it, the standard way is as suggested\n",
    "# in the text, check here"
   ]
  },
  {
   "cell_type": "code",
   "execution_count": 83,
   "metadata": {
    "Collapsed": "false"
   },
   "outputs": [
    {
     "data": {
      "image/png": "[encoded data removed]",
      "text/plain": [
       "<Figure size 1152x432 with 2 Axes>"
      ]
     },
     "metadata": {
      "needs_background": "light"
     },
     "output_type": "display_data"
    }
   ],
   "source": [
    "fig, [ax1, ax2] = plt.subplots(1,2, figsize = (16,6))\n",
    "\n",
    "ax1.scatter(x=customers['Detergents_Paper'],\\\n",
    "            y=customers['Milk'], c=customers['labels'],cmap='viridis')\n",
    "ax1\n",
    "ax1.set_title('K-Means')\n",
    "ax1.set_xlabel('Frozen')\n",
    "ax1.set_ylabel('Delicassen')\n",
    "\n",
    "ax2.scatter(x=customers['Detergents_Paper'], y=customers['Milk'], c=customers['labels_DBSCAN'])\n",
    "ax2.set_title('DBSCAN')\n",
    "ax2.set_xlabel('Frozen')\n",
    "ax2.set_ylabel('Delicassen');"
   ]
  },
  {
   "cell_type": "code",
   "execution_count": 24,
   "metadata": {
    "Collapsed": "false"
   },
   "outputs": [
    {
     "data": {
      "image/png": "[encoded data removed]",
      "text/plain": [
       "<Figure size 1080x288 with 2 Axes>"
      ]
     },
     "metadata": {
      "needs_background": "light"
     },
     "output_type": "display_data"
    }
   ],
   "source": [
    "scatter_make(customers, 'Grocery','Fresh')"
   ]
  },
  {
   "cell_type": "code",
   "execution_count": 25,
   "metadata": {
    "Collapsed": "false"
   },
   "outputs": [
    {
     "data": {
      "image/png": "[encoded data removed]",
      "text/plain": [
       "<Figure size 1080x288 with 2 Axes>"
      ]
     },
     "metadata": {
      "needs_background": "light"
     },
     "output_type": "display_data"
    }
   ],
   "source": [
    "scatter_make(customers, 'Frozen','Delicassen')"
   ]
  },
  {
   "cell_type": "markdown",
   "metadata": {
    "Collapsed": "false"
   },
   "source": [
    "Visualize `Grocery` as X and `Fresh` as y by `labels` and `labels_DBSCAN` respectively"
   ]
  },
  {
   "cell_type": "code",
   "execution_count": 26,
   "metadata": {
    "Collapsed": "false"
   },
   "outputs": [],
   "source": [
    "# Your code here:\n"
   ]
  },
  {
   "cell_type": "markdown",
   "metadata": {
    "Collapsed": "false"
   },
   "source": [
    "Visualize `Frozen` as X and `Delicassen` as y by `labels` and `labels_DBSCAN` respectively"
   ]
  },
  {
   "cell_type": "code",
   "execution_count": 27,
   "metadata": {
    "Collapsed": "false"
   },
   "outputs": [],
   "source": [
    "# Your code here:"
   ]
  },
  {
   "cell_type": "markdown",
   "metadata": {
    "Collapsed": "false"
   },
   "source": [
    "Let's use a groupby to see how the mean differs between the groups. Group `customers` by `labels` and `labels_DBSCAN` respectively and compute the means for all columns."
   ]
  },
  {
   "cell_type": "code",
   "execution_count": 76,
   "metadata": {
    "Collapsed": "false"
   },
   "outputs": [],
   "source": [
    "# Your code here:\n",
    "\n",
    "kmean = customers.groupby(['labels']).mean()\n",
    "DBSCAN = customers.groupby(['labels_DBSCAN']).mean()\n"
   ]
  },
  {
   "cell_type": "code",
   "execution_count": 77,
   "metadata": {
    "Collapsed": "false"
   },
   "outputs": [
    {
     "data": {
      "text/html": [
       "<div>\n",
       "<style scoped>\n",
       "    .dataframe tbody tr th:only-of-type {\n",
       "        vertical-align: middle;\n",
       "    }\n",
       "\n",
       "    .dataframe tbody tr th {\n",
       "        vertical-align: top;\n",
       "    }\n",
       "\n",
       "    .dataframe thead th {\n",
       "        text-align: right;\n",
       "    }\n",
       "</style>\n",
       "<table border=\"1\" class=\"dataframe\">\n",
       "  <thead>\n",
       "    <tr style=\"text-align: right;\">\n",
       "      <th></th>\n",
       "      <th>Channel</th>\n",
       "      <th>Region</th>\n",
       "      <th>Fresh</th>\n",
       "      <th>Milk</th>\n",
       "      <th>Grocery</th>\n",
       "      <th>Frozen</th>\n",
       "      <th>Detergents_Paper</th>\n",
       "      <th>Delicassen</th>\n",
       "      <th>labels_DBSCAN</th>\n",
       "    </tr>\n",
       "    <tr>\n",
       "      <th>labels</th>\n",
       "      <th></th>\n",
       "      <th></th>\n",
       "      <th></th>\n",
       "      <th></th>\n",
       "      <th></th>\n",
       "      <th></th>\n",
       "      <th></th>\n",
       "      <th></th>\n",
       "      <th></th>\n",
       "    </tr>\n",
       "  </thead>\n",
       "  <tbody>\n",
       "    <tr>\n",
       "      <th>0</th>\n",
       "      <td>2.0</td>\n",
       "      <td>3.0</td>\n",
       "      <td>7518.0</td>\n",
       "      <td>6681.0</td>\n",
       "      <td>10476.0</td>\n",
       "      <td>1166.0</td>\n",
       "      <td>4700.0</td>\n",
       "      <td>1125.0</td>\n",
       "      <td>-1.0</td>\n",
       "    </tr>\n",
       "    <tr>\n",
       "      <th>1</th>\n",
       "      <td>1.0</td>\n",
       "      <td>3.0</td>\n",
       "      <td>6437.0</td>\n",
       "      <td>2380.0</td>\n",
       "      <td>3086.0</td>\n",
       "      <td>1606.0</td>\n",
       "      <td>687.0</td>\n",
       "      <td>736.0</td>\n",
       "      <td>-0.0</td>\n",
       "    </tr>\n",
       "    <tr>\n",
       "      <th>2</th>\n",
       "      <td>2.0</td>\n",
       "      <td>2.0</td>\n",
       "      <td>7744.0</td>\n",
       "      <td>16914.0</td>\n",
       "      <td>13409.0</td>\n",
       "      <td>3373.0</td>\n",
       "      <td>3741.0</td>\n",
       "      <td>5243.0</td>\n",
       "      <td>-1.0</td>\n",
       "    </tr>\n",
       "    <tr>\n",
       "      <th>3</th>\n",
       "      <td>1.0</td>\n",
       "      <td>1.0</td>\n",
       "      <td>10333.0</td>\n",
       "      <td>2796.0</td>\n",
       "      <td>3871.0</td>\n",
       "      <td>2546.0</td>\n",
       "      <td>919.0</td>\n",
       "      <td>894.0</td>\n",
       "      <td>-1.0</td>\n",
       "    </tr>\n",
       "    <tr>\n",
       "      <th>4</th>\n",
       "      <td>1.0</td>\n",
       "      <td>3.0</td>\n",
       "      <td>30905.0</td>\n",
       "      <td>3181.0</td>\n",
       "      <td>3617.0</td>\n",
       "      <td>2656.0</td>\n",
       "      <td>555.0</td>\n",
       "      <td>1115.0</td>\n",
       "      <td>-1.0</td>\n",
       "    </tr>\n",
       "    <tr>\n",
       "      <th>5</th>\n",
       "      <td>1.0</td>\n",
       "      <td>3.0</td>\n",
       "      <td>15940.0</td>\n",
       "      <td>5608.0</td>\n",
       "      <td>6887.0</td>\n",
       "      <td>2293.0</td>\n",
       "      <td>1575.0</td>\n",
       "      <td>3585.0</td>\n",
       "      <td>-1.0</td>\n",
       "    </tr>\n",
       "    <tr>\n",
       "      <th>6</th>\n",
       "      <td>1.0</td>\n",
       "      <td>3.0</td>\n",
       "      <td>15602.0</td>\n",
       "      <td>3622.0</td>\n",
       "      <td>3861.0</td>\n",
       "      <td>9952.0</td>\n",
       "      <td>512.0</td>\n",
       "      <td>1330.0</td>\n",
       "      <td>-1.0</td>\n",
       "    </tr>\n",
       "    <tr>\n",
       "      <th>7</th>\n",
       "      <td>2.0</td>\n",
       "      <td>2.0</td>\n",
       "      <td>5634.0</td>\n",
       "      <td>12219.0</td>\n",
       "      <td>21516.0</td>\n",
       "      <td>1452.0</td>\n",
       "      <td>9722.0</td>\n",
       "      <td>1314.0</td>\n",
       "      <td>-1.0</td>\n",
       "    </tr>\n",
       "  </tbody>\n",
       "</table>\n",
       "</div>"
      ],
      "text/plain": [
       "        Channel  Region    Fresh     Milk  Grocery  Frozen  Detergents_Paper  \\\n",
       "labels                                                                         \n",
       "0           2.0     3.0   7518.0   6681.0  10476.0  1166.0            4700.0   \n",
       "1           1.0     3.0   6437.0   2380.0   3086.0  1606.0             687.0   \n",
       "2           2.0     2.0   7744.0  16914.0  13409.0  3373.0            3741.0   \n",
       "3           1.0     1.0  10333.0   2796.0   3871.0  2546.0             919.0   \n",
       "4           1.0     3.0  30905.0   3181.0   3617.0  2656.0             555.0   \n",
       "5           1.0     3.0  15940.0   5608.0   6887.0  2293.0            1575.0   \n",
       "6           1.0     3.0  15602.0   3622.0   3861.0  9952.0             512.0   \n",
       "7           2.0     2.0   5634.0  12219.0  21516.0  1452.0            9722.0   \n",
       "\n",
       "        Delicassen  labels_DBSCAN  \n",
       "labels                             \n",
       "0           1125.0           -1.0  \n",
       "1            736.0           -0.0  \n",
       "2           5243.0           -1.0  \n",
       "3            894.0           -1.0  \n",
       "4           1115.0           -1.0  \n",
       "5           3585.0           -1.0  \n",
       "6           1330.0           -1.0  \n",
       "7           1314.0           -1.0  "
      ]
     },
     "execution_count": 77,
     "metadata": {},
     "output_type": "execute_result"
    }
   ],
   "source": [
    "kmean.round()"
   ]
  },
  {
   "cell_type": "code",
   "execution_count": 78,
   "metadata": {
    "Collapsed": "false"
   },
   "outputs": [],
   "source": [
    "# To better assess the clusters, I retrieve the percentile of each mean from the original distribution\n",
    "\n",
    "percentile_fresh = [stats.percentileofscore(customers['Fresh'],mean) for mean in kmean['Fresh']]\n",
    "percentile_milk = [stats.percentileofscore(customers['Milk'],mean) for mean in kmean['Milk']]\n",
    "percentile_grocery = [stats.percentileofscore(customers['Grocery'],mean) for mean in kmean['Grocery']]\n",
    "percentile_frozen = [stats.percentileofscore(customers['Frozen'],mean) for mean in kmean['Frozen']]\n",
    "percentile_Detergent = [stats.percentileofscore(customers['Detergents_Paper'],mean) for mean in kmean['Detergents_Paper']]\n",
    "percentile_delicassen = [stats.percentileofscore(customers['Delicassen'],mean) for mean in kmean['Delicassen']]\n",
    "channel = kmean['Channel']\n",
    "region = kmean['Region']\n"
   ]
  },
  {
   "cell_type": "code",
   "execution_count": 79,
   "metadata": {
    "Collapsed": "false"
   },
   "outputs": [],
   "source": [
    "# I then create a new DF with the above values (+ original Channel and Region for which it makes no sense to calculate the percentile)\n",
    "\n",
    "percentile_KMean = pd.DataFrame(data=percentile_fresh)\n",
    "percentile_KMean.columns = ['Fresh']\n",
    "percentile_KMean['Milk'] = percentile_milk\n",
    "percentile_KMean['Grocery'] = percentile_grocery\n",
    "percentile_KMean['Frozen'] = percentile_frozen\n",
    "percentile_KMean['Detergents_Paper'] = percentile_Detergent\n",
    "percentile_KMean['Delicassen'] = percentile_delicassen\n",
    "percentile_KMean['Channel'] = channel\n",
    "percentile_KMean['Region'] = region\n",
    "                    "
   ]
  },
  {
   "cell_type": "code",
   "execution_count": 80,
   "metadata": {
    "Collapsed": "false"
   },
   "outputs": [],
   "source": [
    "def color_df(value):\n",
    "  \"\"\"\n",
    "  Colors elements in a dateframe\n",
    "  green if positive and red if\n",
    "  negative. Does not color NaN\n",
    "  values.\n",
    "  \"\"\"\n",
    "\n",
    "  if value < 40:\n",
    "    color = 'red'\n",
    "  elif value > 60:\n",
    "    color = 'green'\n",
    "  else:\n",
    "    color = 'black'\n",
    "\n",
    "  return 'color: %s' % color"
   ]
  },
  {
   "cell_type": "code",
   "execution_count": 81,
   "metadata": {
    "Collapsed": "false"
   },
   "outputs": [
    {
     "data": {
      "text/html": [
       "<style  type=\"text/css\" >\n",
       "    #T_153145c8_a1aa_11ea_aa47_74e543f7e6b3row0_col0 {\n",
       "            color:  black;\n",
       "        }    #T_153145c8_a1aa_11ea_aa47_74e543f7e6b3row0_col1 {\n",
       "            color:  green;\n",
       "        }    #T_153145c8_a1aa_11ea_aa47_74e543f7e6b3row0_col2 {\n",
       "            color:  green;\n",
       "        }    #T_153145c8_a1aa_11ea_aa47_74e543f7e6b3row0_col3 {\n",
       "            color:  black;\n",
       "        }    #T_153145c8_a1aa_11ea_aa47_74e543f7e6b3row0_col4 {\n",
       "            color:  green;\n",
       "        }    #T_153145c8_a1aa_11ea_aa47_74e543f7e6b3row0_col5 {\n",
       "            color:  black;\n",
       "        }    #T_153145c8_a1aa_11ea_aa47_74e543f7e6b3row1_col0 {\n",
       "            color:  black;\n",
       "        }    #T_153145c8_a1aa_11ea_aa47_74e543f7e6b3row1_col1 {\n",
       "            color:  black;\n",
       "        }    #T_153145c8_a1aa_11ea_aa47_74e543f7e6b3row1_col2 {\n",
       "            color:  black;\n",
       "        }    #T_153145c8_a1aa_11ea_aa47_74e543f7e6b3row1_col3 {\n",
       "            color:  black;\n",
       "        }    #T_153145c8_a1aa_11ea_aa47_74e543f7e6b3row1_col4 {\n",
       "            color:  black;\n",
       "        }    #T_153145c8_a1aa_11ea_aa47_74e543f7e6b3row1_col5 {\n",
       "            color:  black;\n",
       "        }    #T_153145c8_a1aa_11ea_aa47_74e543f7e6b3row2_col0 {\n",
       "            color:  black;\n",
       "        }    #T_153145c8_a1aa_11ea_aa47_74e543f7e6b3row2_col1 {\n",
       "            color:  green;\n",
       "        }    #T_153145c8_a1aa_11ea_aa47_74e543f7e6b3row2_col2 {\n",
       "            color:  green;\n",
       "        }    #T_153145c8_a1aa_11ea_aa47_74e543f7e6b3row2_col3 {\n",
       "            color:  green;\n",
       "        }    #T_153145c8_a1aa_11ea_aa47_74e543f7e6b3row2_col4 {\n",
       "            color:  green;\n",
       "        }    #T_153145c8_a1aa_11ea_aa47_74e543f7e6b3row2_col5 {\n",
       "            color:  green;\n",
       "        }    #T_153145c8_a1aa_11ea_aa47_74e543f7e6b3row3_col0 {\n",
       "            color:  black;\n",
       "        }    #T_153145c8_a1aa_11ea_aa47_74e543f7e6b3row3_col1 {\n",
       "            color:  black;\n",
       "        }    #T_153145c8_a1aa_11ea_aa47_74e543f7e6b3row3_col2 {\n",
       "            color:  black;\n",
       "        }    #T_153145c8_a1aa_11ea_aa47_74e543f7e6b3row3_col3 {\n",
       "            color:  green;\n",
       "        }    #T_153145c8_a1aa_11ea_aa47_74e543f7e6b3row3_col4 {\n",
       "            color:  black;\n",
       "        }    #T_153145c8_a1aa_11ea_aa47_74e543f7e6b3row3_col5 {\n",
       "            color:  black;\n",
       "        }    #T_153145c8_a1aa_11ea_aa47_74e543f7e6b3row4_col0 {\n",
       "            color:  green;\n",
       "        }    #T_153145c8_a1aa_11ea_aa47_74e543f7e6b3row4_col1 {\n",
       "            color:  black;\n",
       "        }    #T_153145c8_a1aa_11ea_aa47_74e543f7e6b3row4_col2 {\n",
       "            color:  black;\n",
       "        }    #T_153145c8_a1aa_11ea_aa47_74e543f7e6b3row4_col3 {\n",
       "            color:  green;\n",
       "        }    #T_153145c8_a1aa_11ea_aa47_74e543f7e6b3row4_col4 {\n",
       "            color:  black;\n",
       "        }    #T_153145c8_a1aa_11ea_aa47_74e543f7e6b3row4_col5 {\n",
       "            color:  black;\n",
       "        }    #T_153145c8_a1aa_11ea_aa47_74e543f7e6b3row5_col0 {\n",
       "            color:  green;\n",
       "        }    #T_153145c8_a1aa_11ea_aa47_74e543f7e6b3row5_col1 {\n",
       "            color:  green;\n",
       "        }    #T_153145c8_a1aa_11ea_aa47_74e543f7e6b3row5_col2 {\n",
       "            color:  green;\n",
       "        }    #T_153145c8_a1aa_11ea_aa47_74e543f7e6b3row5_col3 {\n",
       "            color:  green;\n",
       "        }    #T_153145c8_a1aa_11ea_aa47_74e543f7e6b3row5_col4 {\n",
       "            color:  green;\n",
       "        }    #T_153145c8_a1aa_11ea_aa47_74e543f7e6b3row5_col5 {\n",
       "            color:  green;\n",
       "        }    #T_153145c8_a1aa_11ea_aa47_74e543f7e6b3row6_col0 {\n",
       "            color:  green;\n",
       "        }    #T_153145c8_a1aa_11ea_aa47_74e543f7e6b3row6_col1 {\n",
       "            color:  black;\n",
       "        }    #T_153145c8_a1aa_11ea_aa47_74e543f7e6b3row6_col2 {\n",
       "            color:  black;\n",
       "        }    #T_153145c8_a1aa_11ea_aa47_74e543f7e6b3row6_col3 {\n",
       "            color:  green;\n",
       "        }    #T_153145c8_a1aa_11ea_aa47_74e543f7e6b3row6_col4 {\n",
       "            color:  black;\n",
       "        }    #T_153145c8_a1aa_11ea_aa47_74e543f7e6b3row6_col5 {\n",
       "            color:  green;\n",
       "        }    #T_153145c8_a1aa_11ea_aa47_74e543f7e6b3row7_col0 {\n",
       "            color:  red;\n",
       "        }    #T_153145c8_a1aa_11ea_aa47_74e543f7e6b3row7_col1 {\n",
       "            color:  green;\n",
       "        }    #T_153145c8_a1aa_11ea_aa47_74e543f7e6b3row7_col2 {\n",
       "            color:  green;\n",
       "        }    #T_153145c8_a1aa_11ea_aa47_74e543f7e6b3row7_col3 {\n",
       "            color:  black;\n",
       "        }    #T_153145c8_a1aa_11ea_aa47_74e543f7e6b3row7_col4 {\n",
       "            color:  green;\n",
       "        }    #T_153145c8_a1aa_11ea_aa47_74e543f7e6b3row7_col5 {\n",
       "            color:  green;\n",
       "        }</style><table id=\"T_153145c8_a1aa_11ea_aa47_74e543f7e6b3\" ><thead>    <tr>        <th class=\"blank level0\" ></th>        <th class=\"col_heading level0 col0\" >Fresh</th>        <th class=\"col_heading level0 col1\" >Milk</th>        <th class=\"col_heading level0 col2\" >Grocery</th>        <th class=\"col_heading level0 col3\" >Frozen</th>        <th class=\"col_heading level0 col4\" >Detergents_Paper</th>        <th class=\"col_heading level0 col5\" >Delicassen</th>        <th class=\"col_heading level0 col6\" >Channel</th>        <th class=\"col_heading level0 col7\" >Region</th>    </tr></thead><tbody>\n",
       "                <tr>\n",
       "                        <th id=\"T_153145c8_a1aa_11ea_aa47_74e543f7e6b3level0_row0\" class=\"row_heading level0 row0\" >0</th>\n",
       "                        <td id=\"T_153145c8_a1aa_11ea_aa47_74e543f7e6b3row0_col0\" class=\"data row0 col0\" >48.000000</td>\n",
       "                        <td id=\"T_153145c8_a1aa_11ea_aa47_74e543f7e6b3row0_col1\" class=\"data row0 col1\" >74.000000</td>\n",
       "                        <td id=\"T_153145c8_a1aa_11ea_aa47_74e543f7e6b3row0_col2\" class=\"data row0 col2\" >77.000000</td>\n",
       "                        <td id=\"T_153145c8_a1aa_11ea_aa47_74e543f7e6b3row0_col3\" class=\"data row0 col3\" >43.000000</td>\n",
       "                        <td id=\"T_153145c8_a1aa_11ea_aa47_74e543f7e6b3row0_col4\" class=\"data row0 col4\" >82.000000</td>\n",
       "                        <td id=\"T_153145c8_a1aa_11ea_aa47_74e543f7e6b3row0_col5\" class=\"data row0 col5\" >60.000000</td>\n",
       "                        <td id=\"T_153145c8_a1aa_11ea_aa47_74e543f7e6b3row0_col6\" class=\"data row0 col6\" >2.000000</td>\n",
       "                        <td id=\"T_153145c8_a1aa_11ea_aa47_74e543f7e6b3row0_col7\" class=\"data row0 col7\" >3.000000</td>\n",
       "            </tr>\n",
       "            <tr>\n",
       "                        <th id=\"T_153145c8_a1aa_11ea_aa47_74e543f7e6b3level0_row1\" class=\"row_heading level0 row1\" >1</th>\n",
       "                        <td id=\"T_153145c8_a1aa_11ea_aa47_74e543f7e6b3row1_col0\" class=\"data row1 col0\" >43.000000</td>\n",
       "                        <td id=\"T_153145c8_a1aa_11ea_aa47_74e543f7e6b3row1_col1\" class=\"data row1 col1\" >40.000000</td>\n",
       "                        <td id=\"T_153145c8_a1aa_11ea_aa47_74e543f7e6b3row1_col2\" class=\"data row1 col2\" >40.000000</td>\n",
       "                        <td id=\"T_153145c8_a1aa_11ea_aa47_74e543f7e6b3row1_col3\" class=\"data row1 col3\" >53.000000</td>\n",
       "                        <td id=\"T_153145c8_a1aa_11ea_aa47_74e543f7e6b3row1_col4\" class=\"data row1 col4\" >48.000000</td>\n",
       "                        <td id=\"T_153145c8_a1aa_11ea_aa47_74e543f7e6b3row1_col5\" class=\"data row1 col5\" >44.000000</td>\n",
       "                        <td id=\"T_153145c8_a1aa_11ea_aa47_74e543f7e6b3row1_col6\" class=\"data row1 col6\" >1.000000</td>\n",
       "                        <td id=\"T_153145c8_a1aa_11ea_aa47_74e543f7e6b3row1_col7\" class=\"data row1 col7\" >3.000000</td>\n",
       "            </tr>\n",
       "            <tr>\n",
       "                        <th id=\"T_153145c8_a1aa_11ea_aa47_74e543f7e6b3level0_row2\" class=\"row_heading level0 row2\" >2</th>\n",
       "                        <td id=\"T_153145c8_a1aa_11ea_aa47_74e543f7e6b3row2_col0\" class=\"data row2 col0\" >48.000000</td>\n",
       "                        <td id=\"T_153145c8_a1aa_11ea_aa47_74e543f7e6b3row2_col1\" class=\"data row2 col1\" >98.000000</td>\n",
       "                        <td id=\"T_153145c8_a1aa_11ea_aa47_74e543f7e6b3row2_col2\" class=\"data row2 col2\" >85.000000</td>\n",
       "                        <td id=\"T_153145c8_a1aa_11ea_aa47_74e543f7e6b3row2_col3\" class=\"data row2 col3\" >76.000000</td>\n",
       "                        <td id=\"T_153145c8_a1aa_11ea_aa47_74e543f7e6b3row2_col4\" class=\"data row2 col4\" >75.000000</td>\n",
       "                        <td id=\"T_153145c8_a1aa_11ea_aa47_74e543f7e6b3row2_col5\" class=\"data row2 col5\" >99.000000</td>\n",
       "                        <td id=\"T_153145c8_a1aa_11ea_aa47_74e543f7e6b3row2_col6\" class=\"data row2 col6\" >2.000000</td>\n",
       "                        <td id=\"T_153145c8_a1aa_11ea_aa47_74e543f7e6b3row2_col7\" class=\"data row2 col7\" >2.000000</td>\n",
       "            </tr>\n",
       "            <tr>\n",
       "                        <th id=\"T_153145c8_a1aa_11ea_aa47_74e543f7e6b3level0_row3\" class=\"row_heading level0 row3\" >3</th>\n",
       "                        <td id=\"T_153145c8_a1aa_11ea_aa47_74e543f7e6b3row3_col0\" class=\"data row3 col0\" >59.000000</td>\n",
       "                        <td id=\"T_153145c8_a1aa_11ea_aa47_74e543f7e6b3row3_col1\" class=\"data row3 col1\" >43.000000</td>\n",
       "                        <td id=\"T_153145c8_a1aa_11ea_aa47_74e543f7e6b3row3_col2\" class=\"data row3 col2\" >47.000000</td>\n",
       "                        <td id=\"T_153145c8_a1aa_11ea_aa47_74e543f7e6b3row3_col3\" class=\"data row3 col3\" >69.000000</td>\n",
       "                        <td id=\"T_153145c8_a1aa_11ea_aa47_74e543f7e6b3row3_col4\" class=\"data row3 col4\" >55.000000</td>\n",
       "                        <td id=\"T_153145c8_a1aa_11ea_aa47_74e543f7e6b3row3_col5\" class=\"data row3 col5\" >50.000000</td>\n",
       "                        <td id=\"T_153145c8_a1aa_11ea_aa47_74e543f7e6b3row3_col6\" class=\"data row3 col6\" >1.000000</td>\n",
       "                        <td id=\"T_153145c8_a1aa_11ea_aa47_74e543f7e6b3row3_col7\" class=\"data row3 col7\" >1.000000</td>\n",
       "            </tr>\n",
       "            <tr>\n",
       "                        <th id=\"T_153145c8_a1aa_11ea_aa47_74e543f7e6b3level0_row4\" class=\"row_heading level0 row4\" >4</th>\n",
       "                        <td id=\"T_153145c8_a1aa_11ea_aa47_74e543f7e6b3row4_col0\" class=\"data row4 col0\" >95.000000</td>\n",
       "                        <td id=\"T_153145c8_a1aa_11ea_aa47_74e543f7e6b3row4_col1\" class=\"data row4 col1\" >46.000000</td>\n",
       "                        <td id=\"T_153145c8_a1aa_11ea_aa47_74e543f7e6b3row4_col2\" class=\"data row4 col2\" >45.000000</td>\n",
       "                        <td id=\"T_153145c8_a1aa_11ea_aa47_74e543f7e6b3row4_col3\" class=\"data row4 col3\" >70.000000</td>\n",
       "                        <td id=\"T_153145c8_a1aa_11ea_aa47_74e543f7e6b3row4_col4\" class=\"data row4 col4\" >44.000000</td>\n",
       "                        <td id=\"T_153145c8_a1aa_11ea_aa47_74e543f7e6b3row4_col5\" class=\"data row4 col5\" >59.000000</td>\n",
       "                        <td id=\"T_153145c8_a1aa_11ea_aa47_74e543f7e6b3row4_col6\" class=\"data row4 col6\" >1.000000</td>\n",
       "                        <td id=\"T_153145c8_a1aa_11ea_aa47_74e543f7e6b3row4_col7\" class=\"data row4 col7\" >3.000000</td>\n",
       "            </tr>\n",
       "            <tr>\n",
       "                        <th id=\"T_153145c8_a1aa_11ea_aa47_74e543f7e6b3level0_row5\" class=\"row_heading level0 row5\" >5</th>\n",
       "                        <td id=\"T_153145c8_a1aa_11ea_aa47_74e543f7e6b3row5_col0\" class=\"data row5 col0\" >75.000000</td>\n",
       "                        <td id=\"T_153145c8_a1aa_11ea_aa47_74e543f7e6b3row5_col1\" class=\"data row5 col1\" >67.000000</td>\n",
       "                        <td id=\"T_153145c8_a1aa_11ea_aa47_74e543f7e6b3row5_col2\" class=\"data row5 col2\" >64.000000</td>\n",
       "                        <td id=\"T_153145c8_a1aa_11ea_aa47_74e543f7e6b3row5_col3\" class=\"data row5 col3\" >64.000000</td>\n",
       "                        <td id=\"T_153145c8_a1aa_11ea_aa47_74e543f7e6b3row5_col4\" class=\"data row5 col4\" >62.000000</td>\n",
       "                        <td id=\"T_153145c8_a1aa_11ea_aa47_74e543f7e6b3row5_col5\" class=\"data row5 col5\" >95.000000</td>\n",
       "                        <td id=\"T_153145c8_a1aa_11ea_aa47_74e543f7e6b3row5_col6\" class=\"data row5 col6\" >1.000000</td>\n",
       "                        <td id=\"T_153145c8_a1aa_11ea_aa47_74e543f7e6b3row5_col7\" class=\"data row5 col7\" >3.000000</td>\n",
       "            </tr>\n",
       "            <tr>\n",
       "                        <th id=\"T_153145c8_a1aa_11ea_aa47_74e543f7e6b3level0_row6\" class=\"row_heading level0 row6\" >6</th>\n",
       "                        <td id=\"T_153145c8_a1aa_11ea_aa47_74e543f7e6b3row6_col0\" class=\"data row6 col0\" >74.000000</td>\n",
       "                        <td id=\"T_153145c8_a1aa_11ea_aa47_74e543f7e6b3row6_col1\" class=\"data row6 col1\" >52.000000</td>\n",
       "                        <td id=\"T_153145c8_a1aa_11ea_aa47_74e543f7e6b3row6_col2\" class=\"data row6 col2\" >47.000000</td>\n",
       "                        <td id=\"T_153145c8_a1aa_11ea_aa47_74e543f7e6b3row6_col3\" class=\"data row6 col3\" >97.000000</td>\n",
       "                        <td id=\"T_153145c8_a1aa_11ea_aa47_74e543f7e6b3row6_col4\" class=\"data row6 col4\" >43.000000</td>\n",
       "                        <td id=\"T_153145c8_a1aa_11ea_aa47_74e543f7e6b3row6_col5\" class=\"data row6 col5\" >65.000000</td>\n",
       "                        <td id=\"T_153145c8_a1aa_11ea_aa47_74e543f7e6b3row6_col6\" class=\"data row6 col6\" >1.000000</td>\n",
       "                        <td id=\"T_153145c8_a1aa_11ea_aa47_74e543f7e6b3row6_col7\" class=\"data row6 col7\" >3.000000</td>\n",
       "            </tr>\n",
       "            <tr>\n",
       "                        <th id=\"T_153145c8_a1aa_11ea_aa47_74e543f7e6b3level0_row7\" class=\"row_heading level0 row7\" >7</th>\n",
       "                        <td id=\"T_153145c8_a1aa_11ea_aa47_74e543f7e6b3row7_col0\" class=\"data row7 col0\" >39.000000</td>\n",
       "                        <td id=\"T_153145c8_a1aa_11ea_aa47_74e543f7e6b3row7_col1\" class=\"data row7 col1\" >93.000000</td>\n",
       "                        <td id=\"T_153145c8_a1aa_11ea_aa47_74e543f7e6b3row7_col2\" class=\"data row7 col2\" >95.000000</td>\n",
       "                        <td id=\"T_153145c8_a1aa_11ea_aa47_74e543f7e6b3row7_col3\" class=\"data row7 col3\" >50.000000</td>\n",
       "                        <td id=\"T_153145c8_a1aa_11ea_aa47_74e543f7e6b3row7_col4\" class=\"data row7 col4\" >96.000000</td>\n",
       "                        <td id=\"T_153145c8_a1aa_11ea_aa47_74e543f7e6b3row7_col5\" class=\"data row7 col5\" >65.000000</td>\n",
       "                        <td id=\"T_153145c8_a1aa_11ea_aa47_74e543f7e6b3row7_col6\" class=\"data row7 col6\" >2.000000</td>\n",
       "                        <td id=\"T_153145c8_a1aa_11ea_aa47_74e543f7e6b3row7_col7\" class=\"data row7 col7\" >2.000000</td>\n",
       "            </tr>\n",
       "    </tbody></table>"
      ],
      "text/plain": [
       "<pandas.io.formats.style.Styler at 0x20cc8407a88>"
      ]
     },
     "execution_count": 81,
     "metadata": {},
     "output_type": "execute_result"
    }
   ],
   "source": [
    "percentile_KMean = percentile_KMean.round()\n",
    "percentile_KMean.style.applymap(color_df, subset=['Fresh','Milk','Grocery','Frozen','Detergents_Paper','Delicassen'])"
   ]
  },
  {
   "cell_type": "code",
   "execution_count": 34,
   "metadata": {
    "Collapsed": "false"
   },
   "outputs": [],
   "source": [
    "# From the above table, w/o going into the details, you can tell that the clusters have a good logic in differentiating consumers.\n",
    "# E.g. cl. 0 is very high in Deli sales like # 7 but belongs to different region and channel\n",
    "# E.g. 5 and 7 are similar but one has very low Fresh sales, the other higher Frozen sales."
   ]
  },
  {
   "cell_type": "code",
   "execution_count": 35,
   "metadata": {
    "Collapsed": "false"
   },
   "outputs": [
    {
     "data": {
      "text/html": [
       "<div>\n",
       "<style scoped>\n",
       "    .dataframe tbody tr th:only-of-type {\n",
       "        vertical-align: middle;\n",
       "    }\n",
       "\n",
       "    .dataframe tbody tr th {\n",
       "        vertical-align: top;\n",
       "    }\n",
       "\n",
       "    .dataframe thead th {\n",
       "        text-align: right;\n",
       "    }\n",
       "</style>\n",
       "<table border=\"1\" class=\"dataframe\">\n",
       "  <thead>\n",
       "    <tr style=\"text-align: right;\">\n",
       "      <th></th>\n",
       "      <th>Channel</th>\n",
       "      <th>Region</th>\n",
       "      <th>Fresh</th>\n",
       "      <th>Milk</th>\n",
       "      <th>Grocery</th>\n",
       "      <th>Frozen</th>\n",
       "      <th>Detergents_Paper</th>\n",
       "      <th>Delicassen</th>\n",
       "      <th>labels</th>\n",
       "    </tr>\n",
       "    <tr>\n",
       "      <th>labels_DBSCAN</th>\n",
       "      <th></th>\n",
       "      <th></th>\n",
       "      <th></th>\n",
       "      <th></th>\n",
       "      <th></th>\n",
       "      <th></th>\n",
       "      <th></th>\n",
       "      <th></th>\n",
       "      <th></th>\n",
       "    </tr>\n",
       "  </thead>\n",
       "  <tbody>\n",
       "    <tr>\n",
       "      <th>-1</th>\n",
       "      <td>1.0</td>\n",
       "      <td>2.0</td>\n",
       "      <td>11642.0</td>\n",
       "      <td>5565.0</td>\n",
       "      <td>7823.0</td>\n",
       "      <td>2782.0</td>\n",
       "      <td>2780.0</td>\n",
       "      <td>1377.0</td>\n",
       "      <td>4.0</td>\n",
       "    </tr>\n",
       "    <tr>\n",
       "      <th>0</th>\n",
       "      <td>1.0</td>\n",
       "      <td>3.0</td>\n",
       "      <td>6219.0</td>\n",
       "      <td>1521.0</td>\n",
       "      <td>1940.0</td>\n",
       "      <td>1429.0</td>\n",
       "      <td>411.0</td>\n",
       "      <td>566.0</td>\n",
       "      <td>1.0</td>\n",
       "    </tr>\n",
       "  </tbody>\n",
       "</table>\n",
       "</div>"
      ],
      "text/plain": [
       "               Channel  Region    Fresh    Milk  Grocery  Frozen  \\\n",
       "labels_DBSCAN                                                      \n",
       "-1                 1.0     2.0  11642.0  5565.0   7823.0  2782.0   \n",
       " 0                 1.0     3.0   6219.0  1521.0   1940.0  1429.0   \n",
       "\n",
       "               Detergents_Paper  Delicassen  labels  \n",
       "labels_DBSCAN                                        \n",
       "-1                       2780.0      1377.0     4.0  \n",
       " 0                        411.0       566.0     1.0  "
      ]
     },
     "execution_count": 35,
     "metadata": {},
     "output_type": "execute_result"
    }
   ],
   "source": [
    "DBSCAN.round()"
   ]
  },
  {
   "cell_type": "markdown",
   "metadata": {
    "Collapsed": "false"
   },
   "source": [
    "Which algorithm appears to perform better?"
   ]
  },
  {
   "cell_type": "code",
   "execution_count": null,
   "metadata": {
    "Collapsed": "false"
   },
   "outputs": [],
   "source": [
    "# DBSCAN identifies only two clusters, differentiating very low spenders across all categories from everyone else."
   ]
  },
  {
   "cell_type": "code",
   "execution_count": null,
   "metadata": {
    "Collapsed": "false"
   },
   "outputs": [],
   "source": [
    "#Paolo: it is not easy because it is an unsupervised problem we do not have a test set.\n",
    "# However for example the dbscan has labelled a lot of data as (-1) which means that it   \n",
    "# identifies many samples as noise, cannot cluster them properly. You could play with some\n",
    "# of the parameters (eps, min_samples) to see what changes.\n",
    "# See here https://scikit-learn.org/stable/modules/clustering.html#dbscan\n",
    "\n",
    "# For Kmeans you could play with K and use the 'elbow method' to choose the optimal k. Have a look here \n",
    "# https://www.scikit-yb.org/en/latest/api/cluster/elbow.html"
   ]
  },
  {
   "cell_type": "markdown",
   "metadata": {
    "Collapsed": "false"
   },
   "source": [
    "# Bonus Challenge 2 - Changing K-Means Number of Clusters\n",
    "\n",
    "As we mentioned earlier, we don't need to worry about the number of clusters with DBSCAN because it automatically decides that based on the parameters we send to it. But with K-Means, we have to supply the `n_clusters` param (if you don't supply `n_clusters`, the algorithm will use `8` by default). You need to know that the optimal number of clusters differs case by case based on the dataset. K-Means can perform badly if the wrong number of clusters is used.\n",
    "\n",
    "In advanced machine learning, data scientists try different numbers of clusters and evaluate the results with statistical measures (read [here](https://en.wikipedia.org/wiki/Cluster_analysis#External_evaluation)). We are not using statistical measures today but we'll use our eyes instead. In the cells below, experiment with different number of clusters and visualize with scatter plots. What number of clusters seems to work best for K-Means?"
   ]
  },
  {
   "cell_type": "code",
   "execution_count": null,
   "metadata": {
    "Collapsed": "false"
   },
   "outputs": [],
   "source": [
    "# Your code here"
   ]
  },
  {
   "cell_type": "code",
   "execution_count": null,
   "metadata": {
    "Collapsed": "false"
   },
   "outputs": [],
   "source": [
    "# Your comment here"
   ]
  },
  {
   "cell_type": "markdown",
   "metadata": {
    "Collapsed": "false"
   },
   "source": [
    "# Bonus Challenge 3 - Changing DBSCAN `eps` and `min_samples`\n",
    "\n",
    "Experiment changing the `eps` and `min_samples` params for DBSCAN. See how the results differ with scatter plot visualization."
   ]
  },
  {
   "cell_type": "code",
   "execution_count": null,
   "metadata": {
    "Collapsed": "false"
   },
   "outputs": [],
   "source": [
    "# Your code here"
   ]
  },
  {
   "cell_type": "code",
   "execution_count": null,
   "metadata": {
    "Collapsed": "false"
   },
   "outputs": [],
   "source": [
    "# Your comment here"
   ]
  }
 ],
 "metadata": {
  "kernelspec": {
   "display_name": "Python 3",
   "language": "python",
   "name": "python3"
  },
  "language_info": {
   "codemirror_mode": {
    "name": "ipython",
    "version": 3
   },
   "file_extension": ".py",
   "mimetype": "text/x-python",
   "name": "python",
   "nbconvert_exporter": "python",
   "pygments_lexer": "ipython3",
   "version": "3.7.6"
  }
 },
 "nbformat": 4,
 "nbformat_minor": 4
}
