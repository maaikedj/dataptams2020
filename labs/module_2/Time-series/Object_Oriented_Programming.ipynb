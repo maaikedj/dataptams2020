{
 "cells": [
  {
   "cell_type": "markdown",
   "metadata": {
    "colab_type": "text",
    "id": "AFHdfm0QaEo3"
   },
   "source": [
    "# Object Oriented Programming\n"
   ]
  },
  {
   "cell_type": "markdown",
   "metadata": {
    "colab_type": "text",
    "id": "UAkmy7pDaHiF"
   },
   "source": [
    "## Introduction\n",
    "\n",
    "In this course so far, we have emphasized the importance of functional programming as the programming paradigm of choice in data science. However, we neglect to mention how object oriented programming can be helpful to us as data scientists. Object oriented programming is the practice of writing programs that are centered around objects. These objects contain methods and properties all bundled together.\n",
    "\n",
    "You have been using objects all along without knowing. For example, a dataframe is an object. It contains many methods bundled into the dataframe like the isna() function or the shape() method."
   ]
  },
  {
   "cell_type": "markdown",
   "metadata": {
    "colab_type": "text",
    "id": "vmMSnDSlaMqI"
   },
   "source": [
    "## Example: Simple Mathematical Operations\n",
    "\n",
    "Let us have a look at how we can create a simple object. However, before we build the actual model, let us create a couple of functions. "
   ]
  },
  {
   "cell_type": "code",
   "execution_count": null,
   "metadata": {
    "colab": {},
    "colab_type": "code",
    "id": "gIbIM-UFbWHx"
   },
   "outputs": [],
   "source": [
    "import numpy as np\n",
    "import pandas as pd"
   ]
  },
  {
   "cell_type": "code",
   "execution_count": null,
   "metadata": {
    "colab": {},
    "colab_type": "code",
    "id": "pfVz4p1YZ_wI"
   },
   "outputs": [],
   "source": [
    "def summation(x,y):\n",
    "  summa = x + y\n",
    "  return summa"
   ]
  },
  {
   "cell_type": "code",
   "execution_count": null,
   "metadata": {
    "colab": {
     "base_uri": "https://localhost:8080/",
     "height": 34
    },
    "colab_type": "code",
    "executionInfo": {
     "elapsed": 508,
     "status": "ok",
     "timestamp": 1587213767164,
     "user": {
      "displayName": "Louk Smalbil",
      "photoUrl": "https://lh3.googleusercontent.com/a-/AOh14GiByqcfGW98Bn42uapsD4oj4auyrLV9xURPKHUj=s64",
      "userId": "10422991521784029462"
     },
     "user_tz": -120
    },
    "id": "i_V9hEK7xxR0",
    "outputId": "d6a396c6-eab3-4894-f783-63adeae92a88"
   },
   "outputs": [],
   "source": [
    "summation(4,1)"
   ]
  },
  {
   "cell_type": "code",
   "execution_count": null,
   "metadata": {
    "colab": {},
    "colab_type": "code",
    "id": "ScK8_gc0xxVy"
   },
   "outputs": [],
   "source": [
    "def multiplication(x,y):\n",
    "  multi = x * y\n",
    "  return multi"
   ]
  },
  {
   "cell_type": "code",
   "execution_count": null,
   "metadata": {
    "colab": {
     "base_uri": "https://localhost:8080/",
     "height": 34
    },
    "colab_type": "code",
    "executionInfo": {
     "elapsed": 470,
     "status": "ok",
     "timestamp": 1587213770877,
     "user": {
      "displayName": "Louk Smalbil",
      "photoUrl": "https://lh3.googleusercontent.com/a-/AOh14GiByqcfGW98Bn42uapsD4oj4auyrLV9xURPKHUj=s64",
      "userId": "10422991521784029462"
     },
     "user_tz": -120
    },
    "id": "BUjfS5eHxxYu",
    "outputId": "8a54fa8d-986b-4356-9a32-ffb3450b0e77"
   },
   "outputs": [],
   "source": [
    "multiplication(4,78)"
   ]
  },
  {
   "cell_type": "code",
   "execution_count": null,
   "metadata": {
    "colab": {},
    "colab_type": "code",
    "id": "8Y2_8rCzxxbQ"
   },
   "outputs": [],
   "source": [
    "def division(x,y):\n",
    "  div = x / y\n",
    "  return div"
   ]
  },
  {
   "cell_type": "code",
   "execution_count": null,
   "metadata": {
    "colab": {
     "base_uri": "https://localhost:8080/",
     "height": 34
    },
    "colab_type": "code",
    "executionInfo": {
     "elapsed": 771,
     "status": "ok",
     "timestamp": 1587213785371,
     "user": {
      "displayName": "Louk Smalbil",
      "photoUrl": "https://lh3.googleusercontent.com/a-/AOh14GiByqcfGW98Bn42uapsD4oj4auyrLV9xURPKHUj=s64",
      "userId": "10422991521784029462"
     },
     "user_tz": -120
    },
    "id": "9a8WXsBexxeF",
    "outputId": "5055ef24-f077-4236-b123-f0c3b3a0857c"
   },
   "outputs": [],
   "source": [
    "division(39,32)"
   ]
  },
  {
   "cell_type": "code",
   "execution_count": null,
   "metadata": {
    "colab": {},
    "colab_type": "code",
    "id": "5TbX6SZzzBO2"
   },
   "outputs": [],
   "source": [
    "def squared(x,y):\n",
    "  if (x**2 == y) or (y**2 == x):\n",
    "    return True\n",
    "  else:\n",
    "    return False"
   ]
  },
  {
   "cell_type": "code",
   "execution_count": null,
   "metadata": {
    "colab": {
     "base_uri": "https://localhost:8080/",
     "height": 34
    },
    "colab_type": "code",
    "executionInfo": {
     "elapsed": 953,
     "status": "ok",
     "timestamp": 1587213798328,
     "user": {
      "displayName": "Louk Smalbil",
      "photoUrl": "https://lh3.googleusercontent.com/a-/AOh14GiByqcfGW98Bn42uapsD4oj4auyrLV9xURPKHUj=s64",
      "userId": "10422991521784029462"
     },
     "user_tz": -120
    },
    "id": "21L6fdulzFAE",
    "outputId": "30cd4e83-98fb-47e1-eb58-e5449db29026"
   },
   "outputs": [],
   "source": [
    "squared(16,4)"
   ]
  },
  {
   "cell_type": "markdown",
   "metadata": {
    "colab_type": "text",
    "id": "Gvsb91j8aTo8"
   },
   "source": [
    "As can be seen, these are good old fashioned functions that may be useful. However, suppose that we need many of these functions for a project. In that case, it may be cleaner and more structured to build a class, a Python object. This Python object essentially groups specific functions of the same type together. \n"
   ]
  },
  {
   "cell_type": "markdown",
   "metadata": {
    "colab_type": "text",
    "id": "V0onQXgmaX4f"
   },
   "source": [
    "Thus, to avoid doing these computations and storing them in variables and passing them around in functions, we are better off creating an object."
   ]
  },
  {
   "cell_type": "markdown",
   "metadata": {
    "colab_type": "text",
    "id": "ySY8z4MLaZpY"
   },
   "source": [
    "## Creating an Object\n",
    "\n",
    "We'll start off by creating a mathematics object called a class. A class has two main interesting features."
   ]
  },
  {
   "cell_type": "markdown",
   "metadata": {
    "colab_type": "text",
    "id": "b-HPx1afagiD"
   },
   "source": [
    "#### The self variable\n",
    "self is a variable that is accessible to all other variables and methods inside the class. Using self inside an object helps us pass information around without having to recompute it every time."
   ]
  },
  {
   "cell_type": "markdown",
   "metadata": {
    "colab_type": "text",
    "id": "tgJf_QscajTD"
   },
   "source": [
    "#### The __init__ function\n",
    "The __init__ function is typically the first function in an object. This function defines all the actions that need to be performed when we create a new object. The reason we have two underscores before and after the function name is to indicate that this function is internal to the object and should not be called from outside the object.\n",
    "\n",
    "Now that we have defined a few basics, let's create our object. The naming convention for classes is upper camel case (this means that the first letter of every word in the name is capitalized)."
   ]
  },
  {
   "cell_type": "code",
   "execution_count": null,
   "metadata": {
    "colab": {},
    "colab_type": "code",
    "id": "IpJM5AViamuy"
   },
   "outputs": [],
   "source": [
    "class Operations:\n",
    "    def __init__(self,x,y):\n",
    "        self.x = x\n",
    "        self.y = y"
   ]
  },
  {
   "cell_type": "markdown",
   "metadata": {
    "colab_type": "text",
    "id": "j2MKiyBFapGS"
   },
   "source": [
    "This part of the class sometimes called a constructor and needs to\n",
    "be declared explicitly at the beginning of each class. "
   ]
  },
  {
   "cell_type": "markdown",
   "metadata": {
    "colab_type": "text",
    "id": "v2MNSnz2arrW"
   },
   "source": [
    "## Constructing the Class\n",
    "\n",
    "Let's construct the entire class. We will use our __init__ function as well as add more functions to fill in all values of self."
   ]
  },
  {
   "cell_type": "code",
   "execution_count": null,
   "metadata": {
    "colab": {},
    "colab_type": "code",
    "id": "Sq_fpiV3ad1S"
   },
   "outputs": [],
   "source": [
    "class Operations:\n",
    "    def __init__(self,x,y):\n",
    "        self.x = x\n",
    "        self.y = y\n",
    "        \n",
    "    def summation(self):\n",
    "      summa = self.x + self.y\n",
    "      return summa\n",
    "\n",
    "    def multiplication(self):\n",
    "      multi = self.x * self.y\n",
    "      return multi\n",
    "\n",
    "    def division(self):\n",
    "      div = self.x / self.y\n",
    "      return div\n",
    "\n",
    "    def squared(self):\n",
    "      if (self.x**2 == self.y) or (self.y**2 == self.x):\n",
    "        return True\n",
    "      else:\n",
    "        return False\n"
   ]
  },
  {
   "cell_type": "markdown",
   "metadata": {
    "colab_type": "text",
    "id": "Gk0oepqXa0q1"
   },
   "source": [
    "## Instantiating the Class\n",
    "\n",
    "Using the __init__ function, we can create an instance of our Operations class. We can make as many instances of our class as we like. We create an instance of our class like this:"
   ]
  },
  {
   "cell_type": "code",
   "execution_count": null,
   "metadata": {
    "colab": {},
    "colab_type": "code",
    "id": "qUcCxQrHa2B9"
   },
   "outputs": [],
   "source": [
    "num_pair = Operations(4,2)"
   ]
  },
  {
   "cell_type": "code",
   "execution_count": null,
   "metadata": {
    "colab": {
     "base_uri": "https://localhost:8080/",
     "height": 34
    },
    "colab_type": "code",
    "executionInfo": {
     "elapsed": 546,
     "status": "ok",
     "timestamp": 1587214207054,
     "user": {
      "displayName": "Louk Smalbil",
      "photoUrl": "https://lh3.googleusercontent.com/a-/AOh14GiByqcfGW98Bn42uapsD4oj4auyrLV9xURPKHUj=s64",
      "userId": "10422991521784029462"
     },
     "user_tz": -120
    },
    "id": "c0bp-0koVrkA",
    "outputId": "083fa0a4-d12f-41ae-c77c-8e413ec18d86"
   },
   "outputs": [],
   "source": [
    "num_pair"
   ]
  },
  {
   "cell_type": "markdown",
   "metadata": {
    "colab_type": "text",
    "id": "HgnIdJ2fa57F"
   },
   "source": [
    "\n",
    "We can now use Operations as an access point to the methods in the class. For example, here we use squared:"
   ]
  },
  {
   "cell_type": "code",
   "execution_count": null,
   "metadata": {
    "colab": {
     "base_uri": "https://localhost:8080/",
     "height": 34
    },
    "colab_type": "code",
    "executionInfo": {
     "elapsed": 524,
     "status": "ok",
     "timestamp": 1587214245132,
     "user": {
      "displayName": "Louk Smalbil",
      "photoUrl": "https://lh3.googleusercontent.com/a-/AOh14GiByqcfGW98Bn42uapsD4oj4auyrLV9xURPKHUj=s64",
      "userId": "10422991521784029462"
     },
     "user_tz": -120
    },
    "id": "f5Xdro-Ya8F9",
    "outputId": "239e1957-60ae-4e2b-92c2-41d7683b4f96"
   },
   "outputs": [],
   "source": [
    "num_pair.squared()"
   ]
  },
  {
   "cell_type": "code",
   "execution_count": null,
   "metadata": {
    "colab": {},
    "colab_type": "code",
    "id": "i1qLw7VOV4rO"
   },
   "outputs": [],
   "source": []
  },
  {
   "cell_type": "markdown",
   "metadata": {
    "colab_type": "text",
    "id": "edghlwd3a8iH"
   },
   "source": [
    "Let us now add some additional functionality to our object."
   ]
  },
  {
   "cell_type": "code",
   "execution_count": null,
   "metadata": {
    "cellView": "both",
    "colab": {},
    "colab_type": "code",
    "id": "Gyt6_ETgc3Mr"
   },
   "outputs": [],
   "source": [
    "class OperationsPlus:\n",
    "    def __init__(self,x,y):\n",
    "        self.x = x\n",
    "        self.y = y\n",
    "        \n",
    "    def summation(self):\n",
    "      summa = self.x + self.y\n",
    "      return summa\n",
    "\n",
    "    def multiplication(self):\n",
    "      multi = self.x * self.y\n",
    "      return multi\n",
    "\n",
    "    def division(self):\n",
    "      div = self.x / self.y\n",
    "      return div\n",
    "\n",
    "    def squared(self):\n",
    "      if (self.x**2 == self.y) or (self.y**2 == self.x):\n",
    "        return True\n",
    "      else:\n",
    "        return False\n",
    "\n",
    "    def matrix(self):\n",
    "      return np.zeros((self.x, self.y))\n",
    "  \n",
    "    def a_b_c(self):\n",
    "      c = self.x**2 + self.y**2\n",
    "      return c\n"
   ]
  },
  {
   "cell_type": "code",
   "execution_count": null,
   "metadata": {
    "colab": {},
    "colab_type": "code",
    "id": "GNvX533U2i9C"
   },
   "outputs": [],
   "source": [
    "num_pair_new = OperationsPlus(3,5)"
   ]
  },
  {
   "cell_type": "code",
   "execution_count": null,
   "metadata": {
    "colab": {
     "base_uri": "https://localhost:8080/",
     "height": 68
    },
    "colab_type": "code",
    "executionInfo": {
     "elapsed": 1096,
     "status": "ok",
     "timestamp": 1587214394866,
     "user": {
      "displayName": "Louk Smalbil",
      "photoUrl": "https://lh3.googleusercontent.com/a-/AOh14GiByqcfGW98Bn42uapsD4oj4auyrLV9xURPKHUj=s64",
      "userId": "10422991521784029462"
     },
     "user_tz": -120
    },
    "id": "pSWMezkg2aZp",
    "outputId": "740aa4af-8255-41b0-8919-c6a64b7563d9"
   },
   "outputs": [],
   "source": [
    "num_pair_new.matrix()"
   ]
  },
  {
   "cell_type": "code",
   "execution_count": null,
   "metadata": {
    "colab": {
     "base_uri": "https://localhost:8080/",
     "height": 34
    },
    "colab_type": "code",
    "executionInfo": {
     "elapsed": 960,
     "status": "ok",
     "timestamp": 1587214421107,
     "user": {
      "displayName": "Louk Smalbil",
      "photoUrl": "https://lh3.googleusercontent.com/a-/AOh14GiByqcfGW98Bn42uapsD4oj4auyrLV9xURPKHUj=s64",
      "userId": "10422991521784029462"
     },
     "user_tz": -120
    },
    "id": "gcnJSlo8Gxxm",
    "outputId": "0296ee9b-607f-4d7e-ec42-a1aafd98670d"
   },
   "outputs": [],
   "source": [
    "num_pair_new.a_b_c()"
   ]
  },
  {
   "cell_type": "markdown",
   "metadata": {
    "colab_type": "text",
    "id": "zhESAWL_a_Sl"
   },
   "source": [
    "## Class Inheritance \n",
    "We can use class inheritance when we would like to create a new class that will take on the attributes of another class. The new child class inherits all the methods of the parent class. However, we can override the methods of the parent class in the child class."
   ]
  },
  {
   "cell_type": "code",
   "execution_count": null,
   "metadata": {
    "colab": {},
    "colab_type": "code",
    "id": "8QI89rPU3mtb"
   },
   "outputs": [],
   "source": [
    "class Inheritance(OperationsPlus):\n",
    "    def matrix(self, b=4):\n",
    "      return np.zeros((self.x, b))\n",
    "\n",
    "    def hello(self):\n",
    "      return 'Hello'"
   ]
  },
  {
   "cell_type": "code",
   "execution_count": null,
   "metadata": {
    "colab": {
     "base_uri": "https://localhost:8080/",
     "height": 34
    },
    "colab_type": "code",
    "executionInfo": {
     "elapsed": 438,
     "status": "ok",
     "timestamp": 1587214900852,
     "user": {
      "displayName": "Louk Smalbil",
      "photoUrl": "https://lh3.googleusercontent.com/a-/AOh14GiByqcfGW98Bn42uapsD4oj4auyrLV9xURPKHUj=s64",
      "userId": "10422991521784029462"
     },
     "user_tz": -120
    },
    "id": "nXVM9eZ7W7lH",
    "outputId": "05f44a89-28f8-4c39-9d3f-489cd16993cc"
   },
   "outputs": [],
   "source": [
    "num_pair_new = Inheritance(3,5)\n",
    "num_pair_new.a_b_c()"
   ]
  },
  {
   "cell_type": "code",
   "execution_count": null,
   "metadata": {
    "colab": {
     "base_uri": "https://localhost:8080/",
     "height": 34
    },
    "colab_type": "code",
    "executionInfo": {
     "elapsed": 450,
     "status": "ok",
     "timestamp": 1587214901889,
     "user": {
      "displayName": "Louk Smalbil",
      "photoUrl": "https://lh3.googleusercontent.com/a-/AOh14GiByqcfGW98Bn42uapsD4oj4auyrLV9xURPKHUj=s64",
      "userId": "10422991521784029462"
     },
     "user_tz": -120
    },
    "id": "kyzxSW--YJJo",
    "outputId": "9fcc2a96-32b6-40a6-8cbf-9792e48f37d0"
   },
   "outputs": [],
   "source": [
    "num_pair_new.hello()"
   ]
  },
  {
   "cell_type": "code",
   "execution_count": null,
   "metadata": {
    "colab": {
     "base_uri": "https://localhost:8080/",
     "height": 68
    },
    "colab_type": "code",
    "executionInfo": {
     "elapsed": 495,
     "status": "ok",
     "timestamp": 1587214930008,
     "user": {
      "displayName": "Louk Smalbil",
      "photoUrl": "https://lh3.googleusercontent.com/a-/AOh14GiByqcfGW98Bn42uapsD4oj4auyrLV9xURPKHUj=s64",
      "userId": "10422991521784029462"
     },
     "user_tz": -120
    },
    "id": "cNse7tb93t_6",
    "outputId": "9a5db2d2-28bc-41e1-9b49-c54a7933b011"
   },
   "outputs": [],
   "source": [
    "num_pair_new = Inheritance(3,5)\n",
    "num_pair_new.matrix(b=10)"
   ]
  },
  {
   "cell_type": "markdown",
   "metadata": {
    "colab_type": "text",
    "id": "yWdlmIN3bCuS"
   },
   "source": [
    "## Summary \n",
    "\n",
    "This lesson showed us that while we should prefer functional programming as data science, we have actually been using object oriented-programming all this time. Object oriented programming also very important to our work as data scientists. we have learned how to create classes. We learned about the self variable and the __init__ function in classes. We have also learned how to assign values inside the class. We learned how to instantiate objects and how to use the methods inside them. This will provide us with a greater understanding of pandas and numpy as well as scikit-learn in the future."
   ]
  },
  {
   "cell_type": "code",
   "execution_count": null,
   "metadata": {
    "colab": {},
    "colab_type": "code",
    "id": "TmuhHUfcc1HI"
   },
   "outputs": [],
   "source": []
  }
 ],
 "metadata": {
  "colab": {
   "authorship_tag": "ABX9TyN417L1DkMLJEvKIwbTs0aV",
   "collapsed_sections": [],
   "name": "Object_Oriented_Programming.ipynb",
   "provenance": []
  },
  "kernelspec": {
   "display_name": "Python 3",
   "name": "python3"
  }
 },
 "nbformat": 4,
 "nbformat_minor": 0
}
