{
 "cells": [
  {
   "cell_type": "markdown",
   "metadata": {},
   "source": [
    "# Introduction To Probability\n",
    "## Challenge 1\n",
    "\n",
    "A and B are events of a probability space with $(\\omega, \\sigma, P)$ such that $P(A) = 0.3$, $P(B) = 0.6$ and $P(A \\cap B) = 0.1$\n",
    "\n",
    "Which of the following statements are false?\n",
    "* $P(A \\cup B) = 0.6$\n",
    "* $P(A \\cap B^{C}) = 0.2$\n",
    "* $P(A \\cap (B \\cup B^{C})) = 0.4$\n",
    "* $P(A^{C} \\cap B^{C}) = 0.3$\n",
    "* $P((A \\cap B)^{C}) = 0.9$"
   ]
  },
  {
   "cell_type": "code",
   "execution_count": null,
   "metadata": {},
   "outputs": [],
   "source": [
    "\"\"\"\n",
    "your solution here\n",
    "\"\"\"\n",
    "\n",
    "P_A = 0.3\n",
    "P_B = 0.6\n",
    "P_AnB = 0.1\n",
    "\n",
    "# 𝑃(𝐴∩𝐵) = 0.1 check to see if they are dependent or independent\n",
    "# formula\n",
    "\n",
    "# Independent Events\n",
    "# P(A ∩ B) = P(A) * P(B)\n",
    "indPAnB = P_A * P_B\n",
    "\n",
    "# Dependent Events\n",
    "# P(A ∩ B) = P(A) * P(B|A)\n",
    "# P(A|B) = P(A ∩ B) / P(B)\n",
    "depPAnB = P_A * (0.1/P_A)\n",
    "\n",
    "print(indPAnB,depPAnB)\n",
    "\n",
    "# depPAnB is correct, thus I conclude they are dependent"
   ]
  },
  {
   "cell_type": "code",
   "execution_count": null,
   "metadata": {},
   "outputs": [],
   "source": [
    "#1 𝑃(𝐴∪𝐵)=0.6 check:\n",
    "# formula P(A U B) = P(A) + P(B) - P(A ∩ B)\n",
    "PAuB = P_A + P_B - P_AnB\n",
    "PAuB #is false, answer: 0.8"
   ]
  },
  {
   "cell_type": "code",
   "execution_count": null,
   "metadata": {},
   "outputs": [],
   "source": [
    "#2 𝑃(𝐴∩𝐵c)=0.2 check:\n",
    "# formula  A - AnB\n",
    "PAnBc = P_A - P_AnB\n",
    "PAnBc #correct!"
   ]
  },
  {
   "cell_type": "code",
   "execution_count": null,
   "metadata": {},
   "outputs": [],
   "source": [
    "#3 𝑃(𝐴∩(𝐵∪𝐵c))=0.4 check:\n",
    "#this is equal to just A, as its the intersection of A with B and not B\n",
    "#so answer: 0.3\n",
    "\n",
    "#4 𝑃(𝐴𝐶∩𝐵𝐶)=0.3 check:\n",
    "PAcnBc = 1 - (P_A + P_B - P_AnB)\n",
    "PAcnBc #is false, answer: 0.2"
   ]
  },
  {
   "cell_type": "code",
   "execution_count": null,
   "metadata": {},
   "outputs": [],
   "source": [
    "#5 𝑃((𝐴∩𝐵)𝐶)=0.9 check:\n",
    "PAnB_c = 1 - P_AnB\n",
    "PAnB_c #correct!"
   ]
  },
  {
   "cell_type": "markdown",
   "metadata": {},
   "source": [
    "## Challenge 2\n",
    "There is a box with 10 white balls, 12 red balls and 8 black balls. Calculate the probability of:\n",
    "* Taking a white ball out.\n",
    "* Taking a white ball out after taking a black ball out.\n",
    "* Taking a red ball out after taking a black and a red ball out.\n",
    "* Taking a red ball out after taking a black and a red ball out with reposition.\n",
    "\n",
    "**Hint**: Reposition means putting back the ball into the box after taking it out."
   ]
  },
  {
   "cell_type": "code",
   "execution_count": null,
   "metadata": {},
   "outputs": [],
   "source": [
    "\"\"\"\n",
    "your solution here\n",
    "\"\"\"\n",
    "white = 10\n",
    "red = 12\n",
    "black = 8\n",
    "total = white + red + black\n",
    "\n",
    "#1 Taking a white ball out.\n",
    "Pw = white / total\n",
    "Pw # result: 0.333"
   ]
  },
  {
   "cell_type": "code",
   "execution_count": null,
   "metadata": {},
   "outputs": [],
   "source": [
    "#2 Taking a white ball out after taking a black ball out\n",
    "#so the probability of taking out a white given you have taken a black:\n",
    "#P(A|B) = (P(A) * P(B) )/ P(B)\n",
    "PwAb = (black/total) * (white/(total-1)) \n",
    "PwAb # result: 0.0919"
   ]
  },
  {
   "cell_type": "code",
   "execution_count": null,
   "metadata": {},
   "outputs": [],
   "source": [
    "#3 Taking a red ball out after taking a black and a red ball out\n",
    "PrAbr = (black/total) * (red/(total-1)) * ((red-1)/(total-2)) \n",
    "PrAbr # result: 0.0433"
   ]
  },
  {
   "cell_type": "code",
   "execution_count": null,
   "metadata": {},
   "outputs": [],
   "source": [
    "#4 Taking a red ball out after taking a black and a red ball out with reposition\n",
    "PrAbr_r = (black/total) * (red/total) * (red/total) \n",
    "PrAbr_r # result: 0.0426"
   ]
  },
  {
   "cell_type": "markdown",
   "metadata": {},
   "source": [
    "## Challenge 3\n",
    "\n",
    "You are planning to go on a picnic today but the morning is cloudy. You hate rain so you don't know whether to go out or stay home! To help you make a decision, you gather the following data about rainy days:\n",
    "\n",
    "* 50% of all rainy days start off cloudy!\n",
    "* Cloudy mornings are common. About 40% of days start cloudy. \n",
    "* This month is usually dry so only 3 of 30 days (10%) tend to be rainy. \n",
    "\n",
    "What is the chance of rain during the day?"
   ]
  },
  {
   "cell_type": "code",
   "execution_count": null,
   "metadata": {},
   "outputs": [],
   "source": [
    "\"\"\"\n",
    "your solution here\n",
    "\"\"\"\n",
    "p_cloudy = .40\n",
    "p_rain = .10\n",
    "cloudy_before_rainy = .50\n",
    "# so what is the possibility that it will rain, given that its cloudy\n",
    "#P(A|B) = (P(A) * P(B|A))/ P(B)\n",
    "result = (p_rain * cloudy_before_rainy)/p_cloudy\n",
    "result # result: 0.125"
   ]
  },
  {
   "cell_type": "markdown",
   "metadata": {},
   "source": [
    "## Challenge 4\n",
    "\n",
    "One thousand people were asked through a telephone survey whether they thought more street lighting is needed at night or not.\n",
    "\n",
    "Out of the 480 men that answered the survey, 324 said yes and 156 said no. On the other hand, out of the 520 women that answered, 351 said yes and 169 said no. \n",
    "\n",
    "We wonder if men and women have a different opinions about the street lighting matter. Is gender relevant or irrelevant to the question?\n",
    "\n",
    "Consider the following events:\n",
    "- The answer is yes, so the person that answered thinks that more street lighting is needed.\n",
    "- The person who answered is a man.\n",
    "\n",
    "We want to know if these events are independent, that is, if the fact of wanting more light depends on whether one is male or female. Are these events independent or not?\n",
    "\n",
    "**Hint**: To clearly compare the answers by gender, it is best to place the data in a table."
   ]
  },
  {
   "cell_type": "code",
   "execution_count": null,
   "metadata": {},
   "outputs": [],
   "source": [
    "# your code here\n",
    "total_ppl = 1000\n",
    "men = 480\n",
    "men_no = 156\n",
    "men_yes = 324\n",
    "women = 520\n",
    "women_no = 169\n",
    "women_yes = 351\n",
    "\n",
    "import pandas as pd\n",
    "\n",
    "data = {'answer':['more light','not needed','%'],\n",
    "        'women':[(351/520),(169/520),(520/1000)],\n",
    "        'men':[(324/480),(156/480),(480/1000)],\n",
    "        '%':[(675/1000),(325/1000),1]}\n",
    "\n",
    "df = pd.DataFrame(data, columns = ['answer','women','men','%'])\n",
    "df.set_index(['answer'],inplace=True)\n",
    "df"
   ]
  },
  {
   "cell_type": "code",
   "execution_count": null,
   "metadata": {},
   "outputs": [],
   "source": [
    "# probability that its a woman given answer yes\n",
    "#P(A|B) = (P(A) * P(B|A))/ P(B)\n",
    "wo_result = (.52 * .675)/.675\n",
    "wo_result # result: 0.52\n",
    "\n",
    "# probability that its a man given answer yes\n",
    "#P(A|B) = (P(A) * P(B|A))/ P(B)\n",
    "ma_result = (.48 * .675)/.675\n",
    "ma_result # result: 0.48\n",
    "\n",
    "\"\"\"\n",
    "your solution here\n",
    "the events are exclusive (there is no overlap) as being a woman, excludes one from being a man\n",
    "same with answering yes, excludes you from saying no. \n",
    "In probability terms:\n",
    "Since P(A) is equal to P(A|B), \n",
    "A and B are independent events\n",
    "\"\"\"\n"
   ]
  }
 ],
 "metadata": {
  "kernelspec": {
   "display_name": "Python 3",
   "language": "python",
   "name": "python3"
  },
  "language_info": {
   "codemirror_mode": {
    "name": "ipython",
    "version": 3
   },
   "file_extension": ".py",
   "mimetype": "text/x-python",
   "name": "python",
   "nbconvert_exporter": "python",
   "pygments_lexer": "ipython3",
   "version": "3.8.1"
  }
 },
 "nbformat": 4,
 "nbformat_minor": 4
}
