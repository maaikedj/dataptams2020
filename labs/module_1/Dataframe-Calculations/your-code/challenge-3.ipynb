{
 "cells": [
  {
   "cell_type": "markdown",
   "metadata": {
    "Collapsed": "false"
   },
   "source": [
    "# Challenge 3\n",
    "\n",
    "In this challenge we will work on the `Orders` data set. In your work you will apply the thinking process and workflow we showed you in Challenge 2.\n",
    "\n",
    "You are serving as a Business Intelligence Analyst at the headquarter of an international fashion goods chain store. Your boss today asked you to do two things for her:\n",
    "\n",
    "**First, identify two groups of customers from the data set.** The first group is **VIP Customers** whose **aggregated expenses** at your global chain stores are **above the 95th percentile** (aka. 0.95 quantile). The second group is **Preferred Customers** whose **aggregated expenses** are **between the 75th and 95th percentile**.\n",
    "\n",
    "**Second, identify which country has the most of your VIP customers, and which country has the most of your VIP+Preferred Customers combined.**"
   ]
  },
  {
   "cell_type": "markdown",
   "metadata": {
    "Collapsed": "false"
   },
   "source": [
    "## Q1: How to identify VIP & Preferred Customers?\n",
    "\n",
    "We start by importing all the required libraries:"
   ]
  },
  {
   "cell_type": "code",
   "execution_count": null,
   "metadata": {
    "Collapsed": "false"
   },
   "outputs": [],
   "source": [
    "# import required libraries\n",
    "import numpy as np\n",
    "import pandas as pd"
   ]
  },
  {
   "cell_type": "markdown",
   "metadata": {
    "Collapsed": "false"
   },
   "source": [
    "Next, import `Orders` from [here](https://drive.google.com/file/d/17oJ9NNbwJ8Wv4Jp-mLFiC59k72Brdyha/view?usp=sharing) and place it in the provided data folder. You will access the data folder with a relative path.\n",
    "Load `Orders` into a dataframe variable called `orders`. Print the head of `orders` to overview the data:"
   ]
  },
  {
   "cell_type": "code",
   "execution_count": null,
   "metadata": {
    "Collapsed": "false"
   },
   "outputs": [],
   "source": [
    "# your code here\n",
    "orders = pd.read_csv('./data/Orders.csv', index_col = 0)\n",
    "orders.head()"
   ]
  },
  {
   "cell_type": "markdown",
   "metadata": {
    "Collapsed": "false"
   },
   "source": [
    "---\n",
    "\n",
    "\"Identify VIP and Preferred Customers\" is the non-technical goal of your boss. You need to translate that goal into technical languages that data analysts use:\n",
    "\n",
    "## How to label customers whose aggregated `amount_spent` is in a given quantile range?\n"
   ]
  },
  {
   "cell_type": "markdown",
   "metadata": {
    "Collapsed": "false"
   },
   "source": [
    "We break down the main problem into several sub problems:\n",
    "\n",
    "#### Sub Problem 1: How to aggregate the  `amount_spent` for unique customers?\n",
    "\n",
    "#### Sub Problem 2: How to select customers whose aggregated `amount_spent` is in a given quantile range?\n",
    "\n",
    "#### Sub Problem 3: How to label selected customers as \"VIP\" or \"Preferred\"?\n",
    "\n",
    "*Note: If you want to break down the main problem in a different way, please feel free to revise the sub problems above.*\n",
    "\n",
    "Now in the workspace below, tackle each of the sub problems using the iterative problem solving workflow. Insert cells as necessary to write your codes and explain your steps."
   ]
  },
  {
   "cell_type": "code",
   "execution_count": null,
   "metadata": {
    "Collapsed": "false"
   },
   "outputs": [],
   "source": [
    "# your code here\n",
    "\n",
    "# select 'CustomerID', and 'amount_spent', and sum per customer \n",
    "cust_amount = orders[['CustomerID', 'amount_spent']]\n",
    "\n",
    "# sum amount spent per customer\n",
    "cust_total = cust_amount.groupby('CustomerID').sum()\n",
    "\n",
    "# rename column with summed total per customer to 'amount_total'\n",
    "cust_total = cust_total.rename(columns={'amount_spent':'amount_total'})\n",
    "\n",
    "cust_total.head()"
   ]
  },
  {
   "cell_type": "code",
   "execution_count": null,
   "metadata": {
    "Collapsed": "false"
   },
   "outputs": [],
   "source": [
    "# Calculate 0.75 and 0.95 quantiles\n",
    "\n",
    "Q95 = cust_total['amount_total'].quantile(.95)\n",
    "Q75 = cust_total['amount_total'].quantile(.75)\n",
    "\n",
    "# Add customer labels to new column, based on in which quantile their spending falls\n",
    "cust_total.loc[(cust_total['amount_total'] <= Q75), 'customer_status'] = 'Normal'\n",
    "cust_total.loc[(cust_total['amount_total'] > Q75) & (cust_total['amount_total'] <= Q95), 'customer_status'] = 'Preferred'\n",
    "cust_total.loc[(cust_total['amount_total'] > Q95), 'customer_status'] = 'VIP'\n",
    "\n",
    "# Check dataframe\n",
    "cust_total.head(2)\n"
   ]
  },
  {
   "cell_type": "code",
   "execution_count": null,
   "metadata": {
    "Collapsed": "false"
   },
   "outputs": [],
   "source": [
    "# Add customer labels to original dataset\n",
    "orders_updated = pd.merge(orders, cust_total, on='CustomerID')\n",
    "\n",
    "#Check updated orders dataframe\n",
    "orders_updated.head()"
   ]
  },
  {
   "cell_type": "markdown",
   "metadata": {
    "Collapsed": "false"
   },
   "source": [
    "Now we'll leave it to you to solve Q2 & Q3, which you can leverage from your solution for Q1:\n",
    "\n",
    "## Q2: How to identify which country has the most VIP Customers?"
   ]
  },
  {
   "cell_type": "code",
   "execution_count": null,
   "metadata": {
    "Collapsed": "false"
   },
   "outputs": [],
   "source": [
    "# your code here\n",
    "\n",
    "# select Customer ID, Country and Customer status columns.\n",
    "selection = orders_updated[['CustomerID', 'Country', 'customer_status']]\n",
    "\n",
    "# select only the rows that have VIP status\n",
    "selection_VIP = selection[selection.customer_status == 'VIP']\n",
    "\n",
    "# group by country, count VIP customer IDs for each country \n",
    "VIP_per_country = selection_VIP.groupby('Country')[['CustomerID']].count()\n",
    "\n",
    "# rename column\n",
    "VIP_per_country = VIP_per_country.rename(columns={'CustomerID':'VIP'})\n",
    "\n",
    "# sort values from large to small to find Country with most VIP customers\n",
    "VIP_per_country.sort_values('VIP', ascending = False)\n",
    "\n",
    "# country with the most VIP customers is the United Kingdom\n"
   ]
  },
  {
   "cell_type": "markdown",
   "metadata": {
    "Collapsed": "false"
   },
   "source": [
    "## Q3: How to identify which country has the most VIP+Preferred Customers combined?"
   ]
  },
  {
   "cell_type": "code",
   "execution_count": null,
   "metadata": {
    "Collapsed": "false"
   },
   "outputs": [],
   "source": [
    "# your code here\n",
    "\n",
    "# same as above, select the rows with Preferred status\n",
    "selection_preferred = selection[selection.customer_status == 'Preferred']\n",
    "\n",
    "# group by country, count preferred customer IDs for each country \n",
    "preferred_per_country = selection_preferred.groupby('Country')[['CustomerID']].count()\n",
    "\n",
    "# rename column\n",
    "preferred_per_country = preferred_per_country.rename(columns={'CustomerID':'Preferred'})\n",
    "\n",
    "# merge VIP and preferred counts per country with an outer join \n",
    "pref_VIP_country = pd.merge(preferred_per_country, VIP_per_country, on='Country', how = 'outer')\n",
    "\n",
    "# Create new column to sum the number of preferred and VIP customers per country\n",
    "pref_VIP_country['Total'] = pref_VIP_country['Preferred'] + pref_VIP_country['VIP']\n",
    "\n",
    "# sort values from large to small to find Country with most preferred + VIP customers combined\n",
    "pref_VIP_country.sort_values('Total', ascending = False)\n",
    "\n",
    "# country with the most preferred+VIP customers combined is the United Kingdom"
   ]
  },
  {
   "cell_type": "code",
   "execution_count": null,
   "metadata": {
    "Collapsed": "false"
   },
   "outputs": [],
   "source": []
  }
 ],
 "metadata": {
  "kernelspec": {
   "display_name": "Python 3",
   "language": "python",
   "name": "python3"
  },
  "language_info": {
   "codemirror_mode": {
    "name": "ipython",
    "version": 3
   },
   "file_extension": ".py",
   "mimetype": "text/x-python",
   "name": "python",
   "nbconvert_exporter": "python",
   "pygments_lexer": "ipython3",
   "version": "3.7.6"
  }
 },
 "nbformat": 4,
 "nbformat_minor": 4
}
