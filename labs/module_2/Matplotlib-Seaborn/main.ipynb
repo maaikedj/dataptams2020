{
 "cells": [
  {
   "cell_type": "markdown",
   "metadata": {
    "Collapsed": "false"
   },
   "source": [
    "# Lab | Matplotlib & Seaborn"
   ]
  },
  {
   "cell_type": "markdown",
   "metadata": {
    "Collapsed": "false"
   },
   "source": [
    "#### Import all the libraries that are necessary."
   ]
  },
  {
   "cell_type": "code",
   "execution_count": null,
   "metadata": {
    "Collapsed": "false"
   },
   "outputs": [],
   "source": [
    "import matplotlib.pyplot as plt\n",
    "import seaborn as sns\n",
    "import sys\n",
    "# print(sys.path)\n",
    "# Adding a path so that it finds the package for numpy\n",
    "sys.path.append('/usr/local/lib/python3.7/site-packages')\n",
    "import numpy as np\n",
    "\n",
    "import pandas as pd"
   ]
  },
  {
   "cell_type": "markdown",
   "metadata": {
    "Collapsed": "false"
   },
   "source": [
    "# Challenge 1"
   ]
  },
  {
   "cell_type": "markdown",
   "metadata": {
    "Collapsed": "false"
   },
   "source": [
    "#### Data"
   ]
  },
  {
   "cell_type": "code",
   "execution_count": null,
   "metadata": {
    "Collapsed": "false"
   },
   "outputs": [],
   "source": [
    "x = np.arange(0,100)\n",
    "y = x*2\n",
    "z = x**2"
   ]
  },
  {
   "cell_type": "markdown",
   "metadata": {
    "Collapsed": "false"
   },
   "source": [
    "#### Plot (x,y) and (x,z) on the axes.\n",
    "There are 2 ways of doing this. Do in both ways.\n",
    "Hint: Check out the nrows, ncols, and index arguments of subplots.\n",
    "\n",
    "Also, play around with the linewidth and style. Use the ones you're most happy with."
   ]
  },
  {
   "cell_type": "code",
   "execution_count": null,
   "metadata": {
    "Collapsed": "false"
   },
   "outputs": [],
   "source": [
    "# OPTION 1\n",
    "# Create a figure of a fixed size\n",
    "\n",
    "plt.subplots(figsize=(10,10))\n",
    "\n",
    "plt.plot(x, y, label='linear growth')\n",
    "plt.plot(x, z, label='exponential growth')\n",
    "\n",
    "plt.title(\"Linear vs Exponential Growth Plots\")\n",
    "plt.legend()\n",
    "plt.show()\n"
   ]
  },
  {
   "cell_type": "markdown",
   "metadata": {
    "Collapsed": "false"
   },
   "source": [
    "#### Use plt.subplots(nrows=1, ncols=2) to create the plot below"
   ]
  },
  {
   "cell_type": "code",
   "execution_count": null,
   "metadata": {
    "Collapsed": "false"
   },
   "outputs": [],
   "source": [
    "# OPTION 2\n",
    "\n",
    "fig, [ax1, ax2] = plt.subplots(1,2, figsize = (10,4))\n",
    "ax1.plot(x,y)\n",
    "ax1.set_title('LINEAR PLOT')   \n",
    "ax1.set_xlabel('x label')     \n",
    "ax1.set_ylabel('y label')   \n",
    "\n",
    "ax2.plot(x,z)\n",
    "ax2.set_title('CURVE PLOT')\n",
    "ax2.set_xlabel('x label')\n",
    "ax2.set_ylabel('y label')\n",
    "\n",
    "plt.show()"
   ]
  },
  {
   "cell_type": "markdown",
   "metadata": {
    "Collapsed": "false"
   },
   "source": [
    "#### Augmenting your previous code, resize your previous plot.\n",
    "Hint: Add the figsize argument in plt.subplots()"
   ]
  },
  {
   "cell_type": "code",
   "execution_count": null,
   "metadata": {
    "Collapsed": "false"
   },
   "outputs": [],
   "source": [
    "# ENHANCED VERSION to see more matplotlib features\n",
    "\n",
    "# # Variables\n",
    "fs = 16 # fontsize\n",
    "fw = 700 # fontweight\n",
    "lw = 3 # lineweight\n",
    "y_rot = 0 # ylabel rotation - I took the liberty to change it to 90\n",
    "\n",
    "#Paolo: ok, you could have used two subplots\n",
    "fig, ax1 = plt.subplots(figsize=(10,10))\n",
    "ax1.plot(x,y, color=\"blue\", linewidth=3, label=\"y = x*2\")\n",
    "ax1.plot(x,z, color=\"red\", linewidth=3, label=\"y = x**2\")\n",
    "\n",
    "ax1.set_title('LINEAR vs EXPONENTIAL PLOT', fontsize=20, fontweight=700)   \n",
    "ax1.set_xlabel('x label', fontsize=16, fontweight=700)     \n",
    "ax1.set_ylabel('y label', fontsize=16, fontweight=700, rotation=90)\n",
    "\n",
    "ax1.legend(loc=2)\n",
    "\n",
    "plt.show()\n",
    "\n"
   ]
  },
  {
   "cell_type": "markdown",
   "metadata": {
    "Collapsed": "false"
   },
   "source": [
    "#### Plot both y=x^2 and y=exp(x) in the same plot using normal and logarithmic scale.\n",
    "Hint: Use set_xscale and set_yscale"
   ]
  },
  {
   "cell_type": "code",
   "execution_count": null,
   "metadata": {
    "Collapsed": "false"
   },
   "outputs": [],
   "source": [
    "# Create a figure of a fixed size and axes\n",
    "\n",
    "alfa = x**2\n",
    "beta = np.exp(x)\n",
    "\n",
    "# Normal plot\n",
    "fig, ax1 = plt.subplots(figsize=(10,10))\n",
    "ax1.plot(x,alfa, color=\"blue\", linewidth=3, label=\"y = x**2\")\n",
    "ax1.plot(x,beta, color=\"red\", linewidth=3, label=\"y = exp(x)\")\n",
    "\n",
    "ax1.set_title('LINEAR vs EXPONENTIAL PLOT', fontsize=20, fontweight=700)   \n",
    "ax1.set_xlabel('x label - normal scale', fontsize=16, fontweight=700)     \n",
    "ax1.set_ylabel('y label - normal scale', fontsize=16, fontweight=700, rotation=90)\n",
    "\n",
    "ax1.legend(loc=2)\n",
    "\n",
    "plt.show()\n",
    "\n",
    "\n"
   ]
  },
  {
   "cell_type": "code",
   "execution_count": null,
   "metadata": {
    "Collapsed": "false"
   },
   "outputs": [],
   "source": [
    "# Logarithmic scale\n",
    "\n",
    "fig, ax1 = plt.subplots(figsize=(10,10))\n",
    "ax1.plot(x,alfa, color=\"blue\", linewidth=3, label=\"y = x**2\")\n",
    "ax1.plot(x,beta, color=\"red\", linewidth=3, label=\"y = exp(x)\")\n",
    "\n",
    "ax1.set_title('LINEAR vs EXPONENTIAL PLOT', fontsize=20, fontweight=700)   \n",
    "ax1.set_xlabel('x label - log scale', fontsize=16, fontweight=700)     \n",
    "ax1.set_ylabel('y label - log scale', fontsize=16, fontweight=700, rotation=90)\n",
    "\n",
    "ax1.set_xscale('log')\n",
    "ax1.set_yscale('log')\n",
    "\n",
    "ax1.legend(loc=2)\n",
    "\n",
    "plt.show()\n"
   ]
  },
  {
   "cell_type": "code",
   "execution_count": null,
   "metadata": {
    "Collapsed": "false"
   },
   "outputs": [],
   "source": [
    "# ALTERNATIVE WITH LEGEND\n",
    "\n",
    "# I think I have done this already above\n",
    "\n",
    "# Create a figure of a fixed size and axes\n",
    "\n",
    "\n",
    "# Normal plot\n",
    "\n",
    "\n",
    "# Logarithmic scale\n",
    "\n",
    "\n",
    "# Show plot\n",
    "\n",
    "#Paolo: yes good work, you could have used subplots to plot them \n",
    "# togheter, see cell below"
   ]
  },
  {
   "cell_type": "code",
   "execution_count": null,
   "metadata": {
    "Collapsed": "false"
   },
   "outputs": [],
   "source": [
    "# Paolo subplots \n",
    "# Create a figure of a fixed size and axes\n",
    "f, ax = plt.subplots(1, 2, figsize=(10,4))\n",
    "\n",
    "# Normal plot\n",
    "ax[0].plot(x, x**2, 'r', x, np.exp(x), 'g')\n",
    "ax[0].set_title(\"Normal scale\")\n",
    "\n",
    "# Logarithmic scale\n",
    "ax[1].plot(x, x**2, 'r', x, np.exp(x), 'g')\n",
    "ax[1].set_yscale(\"log\")\n",
    "ax[1].set_title(\"Logarithmic scale (y)\")\n",
    "\n",
    "# Show plot\n",
    "plt.show()"
   ]
  },
  {
   "cell_type": "markdown",
   "metadata": {
    "Collapsed": "false"
   },
   "source": [
    "# Challenge 2"
   ]
  },
  {
   "cell_type": "markdown",
   "metadata": {
    "Collapsed": "false"
   },
   "source": [
    "Import the Fitbit2.csv file and name your dataset fitbit. Download the data from [here](https://drive.google.com/file/d/17TW-w-izKuR7bLoa0Mnyp9YN9zEQNXq-/view?usp=sharing) and place it in the data folder."
   ]
  },
  {
   "cell_type": "code",
   "execution_count": null,
   "metadata": {
    "Collapsed": "false"
   },
   "outputs": [],
   "source": [
    "# Read the data\n",
    "\n",
    "fitbit = pd.read_csv('data/Fitbit2.csv')\n",
    "fitbit.info()\n",
    "\n"
   ]
  },
  {
   "cell_type": "markdown",
   "metadata": {
    "Collapsed": "false"
   },
   "source": [
    "#### From the Fitbit data, we want to visually understand:\n",
    "\n",
    "How the average number of steps change by month. Use the appropriate visualization to show the median steps by month.\n",
    "Is Fitbitter more active on weekend or workdays?\n",
    "All plots must be in the same jupyter notebook cell.\n",
    "\n",
    "Hints:\n",
    "\n",
    "- Use Months_encoded and Week_or Weekend columns.\n",
    "- Use matplolib.pyplot object oriented API.\n",
    "- Set your size figure to 12,4\n",
    "- Explore plt.sca\n",
    "- Explore plt.xticks\n",
    "- Save your figures"
   ]
  },
  {
   "cell_type": "code",
   "execution_count": null,
   "metadata": {
    "Collapsed": "false"
   },
   "outputs": [],
   "source": [
    "# MEDIAN STEPS BY MONTH_ENCODED\n",
    "# Find the median steps for each month\n",
    "\n",
    "steps_month = fitbit.groupby(['Months_encoded'])[['Steps']].median()\n",
    "steps_month.reset_index(inplace=True)\n",
    "# steps_month.head()\n",
    "\n",
    "steps_week = fitbit.groupby(['Days_encoded'])[['Steps']].median()\n",
    "steps_week.reset_index(inplace=True)\n",
    "steps_week.head()\n",
    "\n",
    "steps_week_work = fitbit.groupby(['Work_or_Weekend'])[['Steps']].median()\n",
    "steps_week_work.reset_index(inplace=True)\n",
    "steps_week_work.head()\n",
    "\n",
    "\n",
    "\n",
    "# Create a figure of a fixed size and axes\n",
    "# Set the current axes instance to ax[0] - Now plt methods will affect ax[0]\n",
    "# Plot the weekday steps in the current axes\n",
    "# MEDIAN STEPS BY WORK_OR_WEEKEND\n",
    "# Set the current axes instance to ax[1] - Now plt methods will affect ax[1]\n",
    "# Find the median steps for workdays and weekdays\n",
    "# Plot the workday and weekend steps in the current axes\n",
    "# Add labels, title, etc\n",
    "\n",
    "# I have put the three charts in one place to make the comparison easier\n",
    "\n",
    "fig, ax1 = plt.subplots(1,3,figsize=(20,10))\n",
    "\n",
    "ax1[0].bar(steps_month['Months_encoded'], steps_month['Steps'], align=\"center\", color=\"orange\")\n",
    "ax1[0].set_title(\"Median Steps by Month\", fontsize=16, fontweight=600)\n",
    "ax1[0].set_xlabel('Month', fontsize=12, fontweight=600)\n",
    "ax1[0].set_ylabel('Steps', fontsize=12, fontweight=600, rotation=90)\n",
    "\n",
    "\n",
    "ax1[1].bar(steps_week['Days_encoded'], steps_week['Steps'], align=\"center\", color=\"red\")\n",
    "ax1[1].set_title(\"Median Steps by Week Day\", fontsize=16, fontweight=600)\n",
    "ax1[1].set_xlabel('Week Day', fontsize=12, fontweight=600)\n",
    "ax1[1].set_ylabel('Steps', fontsize=12, fontweight=600, rotation=90)\n",
    "\n",
    "ax1[2].bar(steps_week_work['Work_or_Weekend'], steps_week_work['Steps'], align=\"center\", color=\"blue\")\n",
    "ax1[2].set_title(\"Median Steps by Week or Work Day\", fontsize=16, fontweight=600)\n",
    "ax1[2].set_xlabel('Week or Work Day', fontsize=12, fontweight=600)\n",
    "ax1[2].set_ylabel('Steps', fontsize=12, fontweight=600, rotation=90)\n",
    "\n",
    "plt.ylim([0, 15000])\n",
    "\n",
    "plt.savefig('Steps_Median.png')\n",
    "\n",
    "plt.show()\n",
    "#Paolo:yes, checkout the 3rd plot, the the numerical scale of the x axis is not clear in relation to week/work day. Maybe you could \n",
    "# work on improving it"
   ]
  },
  {
   "cell_type": "markdown",
   "metadata": {
    "Collapsed": "false"
   },
   "source": [
    "#### Write a loop to plot 3 scatter plots of the following features:\n",
    "\n",
    "Minutes Lightly Active vs Steps\n",
    "Minutes Very Active vs Steps\n",
    "Minutes Sedentary vs Steps"
   ]
  },
  {
   "cell_type": "code",
   "execution_count": null,
   "metadata": {
    "Collapsed": "false"
   },
   "outputs": [],
   "source": [
    "# ALTERNATIVE 1\n",
    "# Create a df with the columns we are interested in \n",
    "\n",
    "myfit = fitbit[['Minutes Lightly Active', 'Minutes Very Active', 'Minutes Sedentary', 'Steps']]\n",
    "myfit.head()\n",
    "               \n",
    "# Create a figureof a fixed size and axes\n",
    "\n",
    "def scatter_make(x,y,labelx,labely):\n",
    "    plt.scatter(x,y)\n",
    "    plt.xlabel(labelx)\n",
    "    plt.ylabel(labely)\n",
    "    return plt.show()\n",
    "\n",
    "# scatter_make(myfit['Minutes Lightly Active'], myfit['Steps'], 'Minutes Lightly Active', \"Steps\")\n",
    "# Iterate to draw each scatter plot\n",
    "\n",
    "for col in myfit.columns[0:3]:\n",
    "    scatter_make(myfit[col], myfit['Steps'], col, \"Steps\")\n",
    "    "
   ]
  },
  {
   "cell_type": "code",
   "execution_count": null,
   "metadata": {
    "Collapsed": "false"
   },
   "outputs": [],
   "source": [
    "# ALTERNATIVE 2\n",
    "# Create a df with the columns we are interested in \n",
    "# Create a figure of a fixed size and axes\n",
    "# Iterate to draw each scatter plot\n",
    "\n",
    "def scatter_make_oneplot(df,c,y,color):\n",
    "    fig, ax = plt.subplots(1,len(df.columns[0:c]),figsize=(20,10))\n",
    "    for n in range(len(df.columns[0:c])):\n",
    "        ax[n].scatter(df.iloc[:,n],df[y], color=color[n])\n",
    "        ax[n].set_xlabel(df.columns[n], fontsize=12, fontweight=600)\n",
    "        ax[n].set_ylabel(y, fontsize=12, fontweight=600, rotation=90)\n",
    "\n",
    "    return plt.show()\n",
    "\n"
   ]
  },
  {
   "cell_type": "code",
   "execution_count": null,
   "metadata": {
    "Collapsed": "false"
   },
   "outputs": [],
   "source": [
    "color=['orange', 'blue','red']\n",
    "scatter_make_oneplot(myfit,3,'Steps',color)"
   ]
  },
  {
   "cell_type": "markdown",
   "metadata": {
    "Collapsed": "false"
   },
   "source": [
    "# Challenge 3"
   ]
  },
  {
   "cell_type": "markdown",
   "metadata": {
    "Collapsed": "false"
   },
   "source": [
    "#### Open the titanic file. Name your dataset titanic."
   ]
  },
  {
   "cell_type": "markdown",
   "metadata": {
    "Collapsed": "false"
   },
   "source": [
    "Download the dataset from [here](https://drive.google.com/file/d/1jkkOcWm9aEF8gb0r2SsarF5Qdoaaw1do/view?usp=sharing) and place it in the data folder"
   ]
  },
  {
   "cell_type": "code",
   "execution_count": null,
   "metadata": {
    "Collapsed": "false"
   },
   "outputs": [],
   "source": [
    "# Read the data\n",
    "\n",
    "titanic = pd.read_csv('data/titanic.csv')"
   ]
  },
  {
   "cell_type": "markdown",
   "metadata": {
    "Collapsed": "false"
   },
   "source": [
    "#### Explore the titanic dataset using Pandas dtypes."
   ]
  },
  {
   "cell_type": "code",
   "execution_count": null,
   "metadata": {
    "Collapsed": "false"
   },
   "outputs": [],
   "source": [
    "titanic.dtypes"
   ]
  },
  {
   "cell_type": "markdown",
   "metadata": {
    "Collapsed": "false"
   },
   "source": [
    "#### What are your numerical variables? What are your categorical variables?\n",
    "Hint: Use Pandas select_dtypes"
   ]
  },
  {
   "cell_type": "code",
   "execution_count": null,
   "metadata": {
    "Collapsed": "false"
   },
   "outputs": [],
   "source": [
    "# Numerical variables\n",
    "\n",
    "titanic.select_dtypes(include=['float64'])\n"
   ]
  },
  {
   "cell_type": "code",
   "execution_count": null,
   "metadata": {
    "Collapsed": "false"
   },
   "outputs": [],
   "source": [
    "# Categorical variables\n",
    "titanic.select_dtypes(include=['object'])"
   ]
  },
  {
   "cell_type": "code",
   "execution_count": null,
   "metadata": {
    "Collapsed": "false"
   },
   "outputs": [],
   "source": [
    "#Paolo: and integer types?"
   ]
  },
  {
   "cell_type": "markdown",
   "metadata": {
    "Collapsed": "false"
   },
   "source": [
    "#### Set the plot style to classic and the figure size to (12,6).\n",
    "Hint: To set the style you can use matplotlib.pyplot functions or seaborn "
   ]
  },
  {
   "cell_type": "code",
   "execution_count": null,
   "metadata": {
    "Collapsed": "false"
   },
   "outputs": [],
   "source": [
    "# Plot style change\n",
    "\n",
    "plt.style.use('classic')\n",
    "\n",
    "# Figure size change\n",
    "\n",
    "plt.rcParams['figure.figsize'] = [12.0, 6.0]\n"
   ]
  },
  {
   "cell_type": "markdown",
   "metadata": {
    "Collapsed": "false"
   },
   "source": [
    "#### Use the right visulalization to show the distribution of the column Age."
   ]
  },
  {
   "cell_type": "code",
   "execution_count": null,
   "metadata": {
    "Collapsed": "false"
   },
   "outputs": [],
   "source": [
    "# Pandas plots are based on matplotlib\n",
    "\n",
    "# Plot the histogram of column Age\n",
    "\n",
    "plt.hist(titanic['Age'], color=\"green\", orientation='horizontal')\n",
    "\n",
    "# Set titles, labels, etc\n",
    "\n",
    "plt.title('Age Distribution of the Titanic Passengers', fontsize=20, fontweight=700)   \n",
    "plt.xlabel('Number of Passengers', fontsize=16, fontweight=700)     \n",
    "plt.ylabel('Age Ranges', fontsize=16, fontweight=700, rotation=90)\n",
    "\n",
    "# Show the plot\n",
    "plt.show()"
   ]
  },
  {
   "cell_type": "markdown",
   "metadata": {
    "Collapsed": "false"
   },
   "source": [
    "#### Use subplots and plot the distribution of the Age variable with bins equal to 10, 20 and 50."
   ]
  },
  {
   "cell_type": "code",
   "execution_count": null,
   "metadata": {
    "Collapsed": "false"
   },
   "outputs": [],
   "source": [
    "# Variables\n",
    "\n",
    "\n",
    "titanic['Age'].hist(bins=10)\n",
    "titanic['Age'].hist(bins=20)\n",
    "titanic['Age'].hist(bins=50)\n",
    "plt.show()"
   ]
  },
  {
   "cell_type": "markdown",
   "metadata": {
    "Collapsed": "false"
   },
   "source": [
    "#### How does the bin size affect your plot? Comment."
   ]
  },
  {
   "cell_type": "markdown",
   "metadata": {
    "Collapsed": "false"
   },
   "source": [
    "~~~~\n",
    "Using a low number of bins (wider bins) reduces noise on the distribution estimation while using a \n",
    "high number of bins (narrower bins) gives greater precision to the distribution estimation (and more noise). \n",
    "~~~~"
   ]
  },
  {
   "cell_type": "markdown",
   "metadata": {
    "Collapsed": "false"
   },
   "source": [
    "#### Use seaborn to show the distribution of the column Age."
   ]
  },
  {
   "cell_type": "code",
   "execution_count": null,
   "metadata": {
    "Collapsed": "false"
   },
   "outputs": [],
   "source": [
    "# Seaborn is a Python library based on matplotlib\n",
    "\n",
    "# Plot of the age histogram using seaborn\n",
    "\n",
    "sns.distplot(titanic['Age'])\n",
    "\n",
    "\n",
    "# Show the plot\n",
    "plt.show()"
   ]
  },
  {
   "cell_type": "markdown",
   "metadata": {
    "Collapsed": "false"
   },
   "source": [
    "#### Use the right plot to visualize the column Gender. There are 2 ways of doing it. Do it both ways.\n",
    "Hint: Use matplotlib and seaborn"
   ]
  },
  {
   "cell_type": "code",
   "execution_count": null,
   "metadata": {
    "Collapsed": "false"
   },
   "outputs": [],
   "source": [
    "# OPTION 1 - Matplotlib\n",
    "\n",
    "titanic_gender = titanic.groupby(['Gender']).count()\n",
    "titanic_gender.reset_index(inplace=True)\n",
    "# titanic_gender.head()\n",
    "\n",
    "# Bar plot of the gender\n",
    "\n",
    "plt.bar(titanic_gender['Gender'], titanic_gender['PassengerId'], color=\"black\")\n",
    "\n",
    "plt.title('Gender Distribution of the Titanic Passengers', fontsize=20, fontweight=700)   \n",
    "plt.xlabel('Gender', fontsize=16, fontweight=700)     \n",
    "plt.ylabel('Number of Passengers', fontsize=16, fontweight=700, rotation=90)\n",
    "plt.text(1, titanic_gender.get_value(1,'PassengerId'), str(titanic_gender.get_value(1,'PassengerId')), fontsize=14, color='red')\n",
    "plt.text(0, titanic_gender.get_value(0,'PassengerId'), str(titanic_gender.get_value(0,'PassengerId')), fontsize=14, color='red')\n",
    "\n",
    "# # Show the plot\n",
    "plt.show()\n",
    "#Paolo: it plots but i get an error on 'get_value'"
   ]
  },
  {
   "cell_type": "code",
   "execution_count": null,
   "metadata": {
    "Collapsed": "false"
   },
   "outputs": [],
   "source": [
    "# OPTION 2 - Seaborn\n",
    "\n",
    "# Seaborn Countplot\n",
    "\n",
    "sns.countplot(x='Gender', data= titanic)\n",
    "\n",
    "# Show the plot\n",
    "plt.show()"
   ]
  },
  {
   "cell_type": "markdown",
   "metadata": {
    "Collapsed": "false"
   },
   "source": [
    "#### Use the right plot to visualize the column Pclass."
   ]
  },
  {
   "cell_type": "code",
   "execution_count": null,
   "metadata": {
    "Collapsed": "false"
   },
   "outputs": [],
   "source": [
    "# Bar plot of Pclass\n",
    "\n",
    "sns.countplot(x='Pclass', data= titanic)\n",
    "\n",
    "# Show the plot\n",
    "plt.show()"
   ]
  },
  {
   "cell_type": "markdown",
   "metadata": {
    "Collapsed": "false"
   },
   "source": [
    "#### We would like to have in one single plot the summary statistics of the feature Age. What kind of plot would you use?"
   ]
  },
  {
   "cell_type": "code",
   "execution_count": null,
   "metadata": {
    "Collapsed": "false"
   },
   "outputs": [],
   "source": [
    "# Box plot\n",
    "\n",
    "sns.boxplot(x='Age', data= titanic)\n",
    "\n",
    "# Show the plot\n",
    "plt.show()\n"
   ]
  },
  {
   "cell_type": "markdown",
   "metadata": {
    "Collapsed": "false"
   },
   "source": [
    "#### What does the last plot tells you about the feature Age? Comment."
   ]
  },
  {
   "cell_type": "markdown",
   "metadata": {
    "Collapsed": "false"
   },
   "source": [
    "~~~~\n",
    "The statistics that you can get from the boxplot are the minimum, first quartile, median, \n",
    "third quartile, and maximum.\n",
    "\n",
    "The red line shows us the median of Age. \n",
    "The blue box shows us the interquartile range (from Q1 to Q3).\n",
    "It also shows us the outliers, which are out of the maximum and minimum range (Q1 - 1.5*IQR, Q3 + 1.5*IQR).\n",
    "~~~~"
   ]
  },
  {
   "cell_type": "markdown",
   "metadata": {
    "Collapsed": "false"
   },
   "source": [
    "#### Now in addition to the summary statistics, we want to have in the SAME plot the distribution of Age. What kind of plot would you use?"
   ]
  },
  {
   "cell_type": "code",
   "execution_count": null,
   "metadata": {
    "Collapsed": "false"
   },
   "outputs": [],
   "source": [
    "# Set figure size\n",
    "\n",
    "\n",
    "fig, [ax1, ax2] = plt.subplots(1,2, figsize = (10,4))\n",
    "\n",
    "sns.boxplot(x='Age', data= titanic, ax=ax1)\n",
    "sns.violinplot(x='Age', data= titanic, ax=ax2)\n",
    "\n",
    "\n",
    "plt.show()\n"
   ]
  },
  {
   "cell_type": "markdown",
   "metadata": {
    "Collapsed": "false"
   },
   "source": [
    "#### What additional information the last plot provides you about the feature Age? Comment."
   ]
  },
  {
   "cell_type": "markdown",
   "metadata": {
    "Collapsed": "false"
   },
   "source": [
    "~~~~\n",
    "This plot is a combination of a boxplot and a density plot. The violin plot features a kernel density estimation \n",
    "of the underlying distribution of the data.\n",
    "\n",
    "The black central part of the plot is the same as a boxplot and the white dot is the median.\n",
    "The blue part is the distribution of the data.\n",
    "~~~~"
   ]
  },
  {
   "cell_type": "markdown",
   "metadata": {
    "Collapsed": "false"
   },
   "source": [
    "#### We suspect that there is a linear relationship between Fare and Age. Use the right plot to show the relationship between these 2 features. There are 2 ways, please do it both ways.\n",
    "Hint: One of the ways involves using Seaborn."
   ]
  },
  {
   "cell_type": "code",
   "execution_count": null,
   "metadata": {
    "Collapsed": "false"
   },
   "outputs": [],
   "source": [
    "def corr(x, y, **kwargs):\n",
    "    \n",
    "    # Calculate the value\n",
    "    coef = np.corrcoef(x, y)[0][1]\n",
    "    # Make the label\n",
    "    label = r'$\\rho$ = ' + str(round(coef, 2))\n",
    "    \n",
    "    # Add the label to the plot\n",
    "    ax = plt.gca()\n",
    "    ax.annotate(label, xy = (0.2, 0.95), size = 15, xycoords = ax.transAxes)"
   ]
  },
  {
   "cell_type": "code",
   "execution_count": null,
   "metadata": {
    "Collapsed": "false"
   },
   "outputs": [],
   "source": [
    "# OPTION 1\n",
    "\n",
    "# Scatter plot\n",
    "\n",
    "plt.scatter(titanic['Age'],titanic['Fare'])\n",
    "\n",
    "# Add labels\n",
    "plt.xlabel('Age', fontsize=16, fontweight=700)     \n",
    "plt.ylabel('Fare Price', fontsize=16, fontweight=700, rotation=90)\n",
    "\n",
    "corr(titanic['Age'],titanic['Fare'])\n",
    "\n",
    "\n",
    "# Show the plot\n",
    "plt.show()"
   ]
  },
  {
   "cell_type": "code",
   "execution_count": null,
   "metadata": {
    "Collapsed": "false"
   },
   "outputs": [],
   "source": [
    "# OPTION 2\n",
    "\n",
    "# Joinplot\n",
    "\n",
    "sns.jointplot(x='Age', y='Fare', data= titanic, height=10, ratio=2, space=0.1)\n",
    "corr(titanic['Age'],titanic['Fare'])\n",
    "\n",
    "# Show the plot\n",
    "plt.show()\n",
    "\n"
   ]
  },
  {
   "cell_type": "markdown",
   "metadata": {
    "Collapsed": "false"
   },
   "source": [
    "#### Using Seaborn plot the correlation matrix."
   ]
  },
  {
   "cell_type": "code",
   "execution_count": null,
   "metadata": {
    "Collapsed": "false"
   },
   "outputs": [],
   "source": [
    "# Set figure size\n",
    "plt.subplots(figsize=(10,10))\n",
    "\n",
    "# Correlation matrix\n",
    "\n",
    "corr = titanic.corr()\n",
    "mask = np.triu(np.ones_like(corr, dtype=np.bool))\n",
    "\n",
    "# Heatmap\n",
    "sns.heatmap(corr, mask=mask)\n",
    "\n",
    "# Add title\n",
    "plt.title('Correlation Matrix')\n",
    "\n",
    "# Show plot\n",
    "plt.show()"
   ]
  },
  {
   "cell_type": "markdown",
   "metadata": {
    "Collapsed": "false"
   },
   "source": [
    "#### What are the most correlated features? Comment."
   ]
  },
  {
   "cell_type": "markdown",
   "metadata": {
    "Collapsed": "false"
   },
   "source": [
    "~~~~~\n",
    "The most correlated features are Parch and SibSp.\n",
    "~~~~~"
   ]
  },
  {
   "cell_type": "markdown",
   "metadata": {
    "Collapsed": "false"
   },
   "source": [
    "#### Use the right plot to display the summary statistics of the Age in function of the Pclass."
   ]
  },
  {
   "cell_type": "code",
   "execution_count": null,
   "metadata": {
    "Collapsed": "false"
   },
   "outputs": [],
   "source": [
    "# Boxplot\n",
    "sns.boxplot(x='Pclass', y='Age', data= titanic)\n",
    "\n",
    "# Show the plot\n",
    "plt.show()"
   ]
  },
  {
   "cell_type": "markdown",
   "metadata": {
    "Collapsed": "false"
   },
   "source": [
    "#### Use the seaborn to plot the distribution of the Age based on the Gender.\n",
    "Hint: Use Facetgrid"
   ]
  },
  {
   "cell_type": "code",
   "execution_count": null,
   "metadata": {
    "Collapsed": "false"
   },
   "outputs": [],
   "source": [
    "# Create a grid with FacetGrid\n",
    "\n",
    "f = sns.FacetGrid(data=titanic, col='Gender')\n",
    "\n",
    "# Draw a plot on each facet\n",
    "\n",
    "f.map(plt.hist, \"Age\")\n",
    "\n",
    "# Show the plot\n",
    "plt.show()"
   ]
  },
  {
   "cell_type": "code",
   "execution_count": null,
   "metadata": {
    "Collapsed": "false"
   },
   "outputs": [],
   "source": []
  }
 ],
 "metadata": {
  "anaconda-cloud": {},
  "kernelspec": {
   "display_name": "Python 3",
   "language": "python",
   "name": "python3"
  },
  "language_info": {
   "codemirror_mode": {
    "name": "ipython",
    "version": 3
   },
   "file_extension": ".py",
   "mimetype": "text/x-python",
   "name": "python",
   "nbconvert_exporter": "python",
   "pygments_lexer": "ipython3",
   "version": "3.7.6"
  }
 },
 "nbformat": 4,
 "nbformat_minor": 4
}
