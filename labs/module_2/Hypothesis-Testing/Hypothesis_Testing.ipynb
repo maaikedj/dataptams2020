{
 "cells": [
  {
   "cell_type": "code",
   "execution_count": null,
   "metadata": {
    "colab": {},
    "colab_type": "code",
    "id": "SwPUFkd805vA"
   },
   "outputs": [],
   "source": [
    "import numpy as np\n",
    "name_list = ['Sreelatha', 'Sara', 'Eva', 'Maaike', 'Victor', 'Zuzanna']\n",
    "np.random.choice(name_list)"
   ]
  },
  {
   "cell_type": "code",
   "execution_count": null,
   "metadata": {
    "colab": {},
    "colab_type": "code",
    "id": "HphhGC-Dmb0q"
   },
   "outputs": [],
   "source": [
    "import pandas as pd\n",
    "import numpy as np\n",
    "import seaborn as sns\n",
    "from scipy import stats\n",
    "from scipy.stats import ttest_1samp\n",
    "\n",
    "from scipy.stats import t\n",
    "import matplotlib.pyplot as plt"
   ]
  },
  {
   "cell_type": "markdown",
   "metadata": {
    "colab_type": "text",
    "id": "6kUO_Wl_1gMJ"
   },
   "source": [
    "## Introduction\n",
    "\n",
    "Many times in the real world we would like to resolve a question that requires a comparison of two quantities. For example, does leaving the light on cause people to take longer to fall asleep, or do books with more pages sell more copies. Using a few basic assumptions, we can use statistical inference to come to a conclusion and determine an answer for these questions. **Hypothesis allow us to compare two samples and using certain assumptions we can either reject or not reject our hypothesis (as true statisticians we never say that we accept a hypothesis only reject or do not reject).**\n",
    "\n"
   ]
  },
  {
   "cell_type": "markdown",
   "metadata": {
    "colab_type": "text",
    "id": "UqaL3q3FquCL"
   },
   "source": [
    "We will examine statistical hypothesis testing using our good old fashioned car data set. Let us first retrieve the data."
   ]
  },
  {
   "cell_type": "code",
   "execution_count": null,
   "metadata": {
    "colab": {},
    "colab_type": "code",
    "id": "uFujJuyXpKhJ"
   },
   "outputs": [],
   "source": [
    "data = pd.read_csv('https://raw.githubusercontent.com/loukjsmalbil/datasets_ws/master/vehicles.csv')"
   ]
  },
  {
   "cell_type": "code",
   "execution_count": null,
   "metadata": {
    "colab": {
     "base_uri": "https://localhost:8080/",
     "height": 459
    },
    "colab_type": "code",
    "executionInfo": {
     "elapsed": 796,
     "status": "ok",
     "timestamp": 1586455285856,
     "user": {
      "displayName": "Louk Smalbil",
      "photoUrl": "https://lh3.googleusercontent.com/a-/AOh14GiByqcfGW98Bn42uapsD4oj4auyrLV9xURPKHUj=s64",
      "userId": "10422991521784029462"
     },
     "user_tz": -120
    },
    "id": "enW00QLbpTTH",
    "outputId": "c4d68790-d61f-4183-b5a8-57bf4628356a"
   },
   "outputs": [],
   "source": [
    "data.head()"
   ]
  },
  {
   "cell_type": "markdown",
   "metadata": {
    "colab_type": "text",
    "id": "JWLBbqdYRgYu"
   },
   "source": [
    "## The Main Idea\n",
    "\n",
    "Recall that in the previous lecture on confidence intervals, we computed an interal. This interval was a range for which with some amount of confidence we could say that it contains the the true mean of the actual population. Let us construct such an interval for the cars data set. In this case, we are interested in a 95% confidence interval for the average fuel barrels per year for Audi's 2008 models. "
   ]
  },
  {
   "cell_type": "code",
   "execution_count": null,
   "metadata": {
    "colab": {},
    "colab_type": "code",
    "id": "DZvLg8P7SIM3"
   },
   "outputs": [],
   "source": [
    "from scipy.stats import t, sem"
   ]
  },
  {
   "cell_type": "code",
   "execution_count": null,
   "metadata": {
    "colab": {},
    "colab_type": "code",
    "id": "AzE1E-OrSJM2"
   },
   "outputs": [],
   "source": [
    "sample_data = data[(data.Make == 'Audi') & (data.Year==2008)]['Fuel Barrels/Year']"
   ]
  },
  {
   "cell_type": "code",
   "execution_count": null,
   "metadata": {
    "colab": {
     "base_uri": "https://localhost:8080/",
     "height": 34
    },
    "colab_type": "code",
    "executionInfo": {
     "elapsed": 1120,
     "status": "ok",
     "timestamp": 1586455366044,
     "user": {
      "displayName": "Louk Smalbil",
      "photoUrl": "https://lh3.googleusercontent.com/a-/AOh14GiByqcfGW98Bn42uapsD4oj4auyrLV9xURPKHUj=s64",
      "userId": "10422991521784029462"
     },
     "user_tz": -120
    },
    "id": "KHpgUQTPSOk8",
    "outputId": "a7086946-c061-4e31-f67e-4f4a2ca2ccd3"
   },
   "outputs": [],
   "source": [
    "# Variables\n",
    "alpha = 0.05\n",
    "conf_level = 1 - alpha       # 0.95     \n",
    "deg_freedom = len(sample_data) - 1\n",
    "mean = np.mean(sample_data)\n",
    "sm = sem(sample_data)   #standard error mean   s/np.srt(n)\n",
    "\n",
    "# Confidence interval\n",
    "t.interval(conf_level, df=deg_freedom, loc=mean, scale=sm)"
   ]
  },
  {
   "cell_type": "markdown",
   "metadata": {
    "colab_type": "text",
    "id": "FuhZYEd5TAbt"
   },
   "source": [
    "It seems that with 95% confidence, we can say that the true mean $\\mu$ lies within this interval. There are, however, some other tools to infer certain information about the population from a sample: hypothesis testing. \n",
    "\n",
    "In hypothesis testing, we not longer look at the interval directly, but make an hypothesis about the distribution of the population and test that hypothesis. \n",
    "\n",
    "https://homepage.divms.uiowa.edu/~mbognar/applets/normal.html"
   ]
  },
  {
   "cell_type": "markdown",
   "metadata": {
    "colab_type": "text",
    "id": "qCe44EX12EHo"
   },
   "source": [
    "## Key Concepts in Hypothesis Testing\n",
    "\n",
    "Now that we have the data, let us have a look at some of the most important concepts in hypothesis testing. \n",
    "\n",
    "*   **Statistical Hypothesis** - A statistical hypothesis is an assumption about the population average. For example, we can assume the average income of NYC residents is $850,000. This assumption may or may not be true.\n",
    "*   **Null Hypothesis** - Denoted with H0, a null hypothesis is an assumption that the population average is identical to a specific value.  The typical notation is μ = μ0, where μ refers to the population mean and μ0 refers to the hypothesized value.  \n"
   ]
  },
  {
   "cell_type": "markdown",
   "metadata": {
    "colab_type": "text",
    "id": "3j217Zpj2VCt"
   },
   "source": [
    "### Example of a Null Hypothesis\n",
    "\n",
    "For example, a null hypothesis can be that the average NYC residents' income is $850,000. The null hypothesis is represented by:\n",
    "\n",
    "*  **H0: μ = 850,000**\n"
   ]
  },
  {
   "cell_type": "markdown",
   "metadata": {
    "colab_type": "text",
    "id": "3HqBwC702dZS"
   },
   "source": [
    "## Key Concepts in Hypothesis Testing (Continued)\n",
    "\n",
    "*  **Alternative Hypothesis** - An alternative hypothesis is the *opposite* of the null hypothesis. We compare this hypothesis with the null hypothesis to decide whether or not *we reject the null hypothesis.* We denote the alternative hypothesis with **H1 or Ha**. \n",
    "\n",
    "For the previous example of the null hypothesis, the alternative hypothesis can be any of the following:\n",
    "\n",
    "*   **H1: μ > 850,000**\n",
    "*   **H1: μ < 850,000**\n",
    "*   **H1: μ ≠ 850,000**\n",
    "\n"
   ]
  },
  {
   "cell_type": "markdown",
   "metadata": {
    "colab_type": "text",
    "id": "COt56vet269C"
   },
   "source": [
    "## Example: Fuel Efficiency in 2008 Audi Models\n",
    "\n",
    "Let us now have a look at a Python implentation of the null- and alternative hypotheses. Suppose that we have a car manufacturer (Audi) telling us that their model 2008 cars on average use only 16.6 barrels per year. We can test this claim (i.e. hypothesis) in Python with the scipy.stats module. In order to carry out a proper procedure we follow these steps:\n",
    "\n",
    "\n",
    "\n",
    "1.   Specify the Null Hypothesis;\n",
    "2.   Specify the Alternative Hypothesis;\n",
    "3.   Set the critical value/significance level $\\alpha$; \n",
    "4.   Conduct the hypothesis Test by computing the z or t-score;\n",
    "5.   Calculate the p-value;\n",
    "6.   Compare the p-value with $\\alpha$;\n",
    "7.   Reject the Null hypothesis if the p-value is less than or equal to $\\alpha$.\n",
    "\n"
   ]
  },
  {
   "cell_type": "markdown",
   "metadata": {
    "colab_type": "text",
    "id": "FyCi1WWBt3IU"
   },
   "source": [
    "#### 1. Specify the Null Hypothesis\n",
    "\n",
    "We specify the null hypothesis for our problem as follows: \n",
    "\n",
    "\n",
    "\n",
    "*   H0: the average fuel efficiency for Audi's in 2008 is 16.6. \n",
    "\n"
   ]
  },
  {
   "cell_type": "code",
   "execution_count": null,
   "metadata": {
    "colab": {},
    "colab_type": "code",
    "id": "7GA5RtILj3C0"
   },
   "outputs": [],
   "source": [
    "# Ho: the average year is equal to 16.6"
   ]
  },
  {
   "cell_type": "code",
   "execution_count": null,
   "metadata": {
    "colab": {
     "base_uri": "https://localhost:8080/",
     "height": 34
    },
    "colab_type": "code",
    "executionInfo": {
     "elapsed": 786,
     "status": "ok",
     "timestamp": 1586456102211,
     "user": {
      "displayName": "Louk Smalbil",
      "photoUrl": "https://lh3.googleusercontent.com/a-/AOh14GiByqcfGW98Bn42uapsD4oj4auyrLV9xURPKHUj=s64",
      "userId": "10422991521784029462"
     },
     "user_tz": -120
    },
    "id": "U9EFODdQUoVu",
    "outputId": "e740753b-105d-4ee3-b7dd-e222e472a339"
   },
   "outputs": [],
   "source": [
    "data[(data.Make == 'Audi') & (data.Year==2008)]['Fuel Barrels/Year'].mean()"
   ]
  },
  {
   "cell_type": "markdown",
   "metadata": {
    "colab_type": "text",
    "id": "xPZANB88uVCt"
   },
   "source": [
    "#### 2. Specify the Alternative Hypothesis\n",
    "\n",
    "Our Alternative hypothesis is the following:\n",
    "\n",
    "*  H1: the average fuel barrels/year in 2008 > 16.6"
   ]
  },
  {
   "cell_type": "code",
   "execution_count": null,
   "metadata": {
    "colab": {},
    "colab_type": "code",
    "id": "DHO5XhmgiW-e"
   },
   "outputs": [],
   "source": [
    "# Ha: the average FB/Y is > 16.6."
   ]
  },
  {
   "cell_type": "markdown",
   "metadata": {
    "colab_type": "text",
    "id": "Q5dU-p1Lut3X"
   },
   "source": [
    "#### 3. Set Critical Value\n",
    "\n",
    "We want to set a critial value, called $\\alpha$, to make sure that the difference between the hypothesised population mean and the difference in our sample is most likely not due to chance. In other words, we use the critial value as a **kind of cut-off value.** Here we will set it as follows:\n",
    "\n",
    "*   $\\alpha$ = 0.05.\n",
    "\n",
    "Recall that we used the same value to compute the confidence interval. In that case, however, we used 1-$\\alpha$ to obtain the 0.95 area under the curve probability value -- the centre of the curve. Here, on the other hand, we are interested in the tail(s). \n",
    "\n"
   ]
  },
  {
   "cell_type": "markdown",
   "metadata": {
    "colab_type": "text",
    "id": "7_l2SySBvVmn"
   },
   "source": [
    "#### 4. Conduct the hypothesis Test by Computing the z or t-score\n",
    "\n",
    "In order to determine whether or not we can reject our Null hypothesis, we need a test statistic. As seen in the previous lecture, we can use a $z$-statistic when the population $\\sigma$ is known. However, in most cases, we will need a $t$-distribution that can deal with variability in the sample's standard deviations, the degrees of freedom. We compute the $z$-score as follwos:\n",
    "\n",
    "\n",
    "$$z = \\frac{\\bar{X} - \\mu}{\\frac{\\sigma}{n^{1/2}}},$$\n",
    "\n",
    "where $\\bar{X}$ is the mean of the sample, $\\mu$ the population mean and $n^{1/2}$ denotes $\\sqrt{n},$ the size of the sample. \n",
    "\n",
    "The t test can be computed as follows:\n",
    "\n",
    "$$t = \\frac{\\bar{X} - \\mu}{\\frac{s}{n^{1/2}}},$$\n",
    "\n",
    "where $s$ denotes the standard deviation of the sample. Here we will use the t test."
   ]
  },
  {
   "cell_type": "code",
   "execution_count": null,
   "metadata": {
    "colab": {},
    "colab_type": "code",
    "id": "scpp2qmBx5Uu"
   },
   "outputs": [],
   "source": [
    "# Sample\n",
    "sample_data = data[(data.Make == 'Audi') & (data.Year==2008)]['Fuel Barrels/Year']\n",
    "\n",
    "# Terms\n",
    "mu = 16.6\n",
    "x_bar = sample_data.mean()\n",
    "se = sem(sample_data)       #  standard error "
   ]
  },
  {
   "cell_type": "code",
   "execution_count": null,
   "metadata": {
    "colab": {
     "base_uri": "https://localhost:8080/",
     "height": 34
    },
    "colab_type": "code",
    "executionInfo": {
     "elapsed": 764,
     "status": "ok",
     "timestamp": 1586456419168,
     "user": {
      "displayName": "Louk Smalbil",
      "photoUrl": "https://lh3.googleusercontent.com/a-/AOh14GiByqcfGW98Bn42uapsD4oj4auyrLV9xURPKHUj=s64",
      "userId": "10422991521784029462"
     },
     "user_tz": -120
    },
    "id": "7EXUPsn4Wk1R",
    "outputId": "3621170a-1081-45dc-83f4-e2eda622f4bd"
   },
   "outputs": [],
   "source": [
    "t = (x_bar - mu) / se\n",
    "print('t statistic:', t)"
   ]
  },
  {
   "cell_type": "code",
   "execution_count": null,
   "metadata": {
    "cellView": "form",
    "colab": {},
    "colab_type": "code",
    "id": "k-W9BeBhQf9e"
   },
   "outputs": [],
   "source": [
    "#@title\n",
    "#### Intermezzo: Degrees of Freedom\n",
    "\n",
    "#Recall that the degree of freedom denotes the amount of variability, or rather: the number of values that are free to vary. For instance, suppose we have a sample set $S = [3,1,6,1, $x$]$ and we know that the mean is 3.6. Then we know that $x$ must be 7. $x$ *depends* for its values on the other values and the mean, whereas the other 4 values are *free to vary*. As such, these values are *independent*. \n",
    "\n",
    "#The idea is that if we do not know the standard deviation, we need to take into account the variability in the data. As such, we use Student's t-distribution which helps us to take into account the degrees of freemdom. Less degrees of freedom indicates fatter tails and, therefore, more variability. More degrees of freedom - and hence, more data points - reduces the variability.  "
   ]
  },
  {
   "cell_type": "markdown",
   "metadata": {
    "colab_type": "text",
    "id": "yVn8OGbZYJUS"
   },
   "source": [
    "Let's plug this value in into our Student's t-distribution. Recall that the degrees of freedom is 47.\n",
    "\n",
    "https://homepage.divms.uiowa.edu/~mbognar/applets/t.html"
   ]
  },
  {
   "cell_type": "markdown",
   "metadata": {
    "colab_type": "text",
    "id": "yT3VN4z04mSp"
   },
   "source": [
    "#### 5. Calculate the p-value\n",
    "\n",
    "Computing the t test score is a bit of a tedious operation. Luckily, we can use a method from the scipy.stats module to compute both the t test as well as the p-value for us. "
   ]
  },
  {
   "cell_type": "code",
   "execution_count": null,
   "metadata": {
    "colab": {
     "base_uri": "https://localhost:8080/",
     "height": 51
    },
    "colab_type": "code",
    "executionInfo": {
     "elapsed": 513,
     "status": "ok",
     "timestamp": 1586456612874,
     "user": {
      "displayName": "Louk Smalbil",
      "photoUrl": "https://lh3.googleusercontent.com/a-/AOh14GiByqcfGW98Bn42uapsD4oj4auyrLV9xURPKHUj=s64",
      "userId": "10422991521784029462"
     },
     "user_tz": -120
    },
    "id": "E_SjgmucqbQP",
    "outputId": "e9671b15-a5d4-4c89-cbf2-996c9f5305ba"
   },
   "outputs": [],
   "source": [
    "# Ho: the average year is equal to 16.6\n",
    "# Ha: the average year is > 16.6. \n",
    "\n",
    "sample_data = data[(data.Make == 'Audi') & (data.Year==2008)]['Fuel Barrels/Year']\n",
    "st, p = ttest_1samp(sample_data, 16.6)\n",
    "\n",
    "print('Statistic:', st)\n",
    "print('The p-value is:', p/2)"
   ]
  },
  {
   "cell_type": "markdown",
   "metadata": {
    "colab_type": "text",
    "id": "Y8FG70OO5MiM"
   },
   "source": [
    "#### 6. and 7. Compare the p-value to $\\alpha$ and reject or confirm the Null Hypothesis. \n",
    "\n",
    "We can now compare the p-value to $\\alpha$.\n",
    "\n"
   ]
  },
  {
   "cell_type": "code",
   "execution_count": null,
   "metadata": {
    "colab": {
     "base_uri": "https://localhost:8080/",
     "height": 119
    },
    "colab_type": "code",
    "executionInfo": {
     "elapsed": 859,
     "status": "ok",
     "timestamp": 1586456889306,
     "user": {
      "displayName": "Louk Smalbil",
      "photoUrl": "https://lh3.googleusercontent.com/a-/AOh14GiByqcfGW98Bn42uapsD4oj4auyrLV9xURPKHUj=s64",
      "userId": "10422991521784029462"
     },
     "user_tz": -120
    },
    "id": "x6rWAvBX5K_e",
    "outputId": "cd2fd9d9-e983-4e6a-f175-e9415aa0533a"
   },
   "outputs": [],
   "source": [
    "print('Statistic: ', st)\n",
    "print('p-value: ', p/2)\n",
    "\n",
    "print('\\nOur Null hypothesis is: Ho: mu = 16.6')\n",
    "\n",
    "print('\\nNull hypothesis rejected') if p/2 <= alpha and st > 0 else print('Null hypothesis can\\'t be rejected')"
   ]
  },
  {
   "cell_type": "markdown",
   "metadata": {
    "colab_type": "text",
    "id": "en9TVzHI5zx9"
   },
   "source": [
    "#### Steps 1-7 in overview.\n",
    "\n",
    "We did the following:"
   ]
  },
  {
   "cell_type": "code",
   "execution_count": null,
   "metadata": {
    "colab": {
     "base_uri": "https://localhost:8080/",
     "height": 136
    },
    "colab_type": "code",
    "executionInfo": {
     "elapsed": 790,
     "status": "ok",
     "timestamp": 1586457002637,
     "user": {
      "displayName": "Louk Smalbil",
      "photoUrl": "https://lh3.googleusercontent.com/a-/AOh14GiByqcfGW98Bn42uapsD4oj4auyrLV9xURPKHUj=s64",
      "userId": "10422991521784029462"
     },
     "user_tz": -120
    },
    "id": "zinq0caX57Aj",
    "outputId": "c4424448-2577-4d27-cec7-9bc014c9ce88"
   },
   "outputs": [],
   "source": [
    "# Ho: the average year is equal to 16.6\n",
    "# Ha: the average year is > 16.6.\n",
    "\n",
    "sample_data = data[(data.Make == 'Audi') & (data.Year==2008)]['Fuel Barrels/Year']\n",
    "\n",
    "st, p = ttest_1samp(sample_data, 16.6)\n",
    "\n",
    "print('Statistic: ', st)\n",
    "print('\\np-value: ', p/2)\n",
    "\n",
    "if p <= alpha:\n",
    "    print(\"\\nNull hypothesis rejected\")\n",
    "    if st < 0:\n",
    "        print(\"\\nThe mean barrels per year in 2008 for Audi's was lower than in 16.6\")\n",
    "    else: \n",
    "        print(\"\\nThe mean barrels per year in 2008 for Audi's was higher than 16.6\")\n",
    "else:\n",
    "    print(\"\\nNull hypothesis can't be rejected\")"
   ]
  },
  {
   "cell_type": "markdown",
   "metadata": {
    "colab_type": "text",
    "id": "xCM9iY21HLe-"
   },
   "source": [
    "Now suppose that instead of saying that the mean barrels per year in 2008 for Audi was not 16.6, our car manufacturer told us that the mean fuel barrels per years was 18.3."
   ]
  },
  {
   "cell_type": "code",
   "execution_count": null,
   "metadata": {
    "colab": {
     "base_uri": "https://localhost:8080/",
     "height": 85
    },
    "colab_type": "code",
    "executionInfo": {
     "elapsed": 719,
     "status": "ok",
     "timestamp": 1586457078541,
     "user": {
      "displayName": "Louk Smalbil",
      "photoUrl": "https://lh3.googleusercontent.com/a-/AOh14GiByqcfGW98Bn42uapsD4oj4auyrLV9xURPKHUj=s64",
      "userId": "10422991521784029462"
     },
     "user_tz": -120
    },
    "id": "aMUJzcmLHDaP",
    "outputId": "e12a7dec-edff-4d45-ee18-1097c6f33209"
   },
   "outputs": [],
   "source": [
    "# Ho: the average year is equal to 18.3\n",
    "# Ha: the average year is > 18.3.\n",
    "\n",
    "sample_data = data[(data.Make == 'Audi') & (data.Year==2008)]['Fuel Barrels/Year']\n",
    "\n",
    "st, p = ttest_1samp(sample_data, 18.3)\n",
    "\n",
    "print('Statistic: ', st)\n",
    "print('\\np-value: ', p/2)\n",
    "\n",
    "print('\\nNull hypothesis rejected') if p/2 <= alpha and st > 0 else print('Null hypothesis can\\'t be rejected')"
   ]
  },
  {
   "cell_type": "markdown",
   "metadata": {
    "colab_type": "text",
    "id": "RS4Hp4_p3jxP"
   },
   "source": [
    "## Types of Alternative Hypotheses \n",
    "\n",
    "There are two types of alternative hypotheses: one-sided and two-sided. One-sided alternative hypothesis (a.k.a. directional hypothesis) is used to determine whether the population average differs from the hypothesized value in a specific direction (larger but not smaller than, or vice versa). **In contrast, two-sided alternative hypothesis (a.k.a. nondirectional hypothesis) is used to determine whether the population average is either greater than or less than the hypothesized value.**\n",
    "\n",
    "Why we differentiate these two types? Because sometimes we are not interested in whether the population average is larger or smaller than the hypothesized value. We only care if they are different. In this case, we use two-sided instead of one-sided hypothesis. However, in case we care about which is the case, we use one-sided hypothesis.\n",
    "\n",
    "For instance, let $k$ be some value and our hypothesis that $\\mu = k$. Thus,\n",
    "\n",
    "* H0: μ = k\t\n",
    "\n",
    "Then a one-sided Alternative Hypothesis would look like this:\n",
    "\n",
    "* H1: μ > k *OR*\n",
    "* H1: μ < k\t\n",
    "\n",
    "On the other hand, a two-sides Alternative Hypothesis would look like this:\n",
    "\n",
    "* H1: μ ≠ k"
   ]
  },
  {
   "cell_type": "markdown",
   "metadata": {
    "colab_type": "text",
    "id": "X_zxnx2rxNxQ"
   },
   "source": [
    "https://machinelearningmastery.com/statistical-hypothesis-tests/ "
   ]
  },
  {
   "cell_type": "markdown",
   "metadata": {
    "colab_type": "text",
    "id": "2bAeifXOIO5B"
   },
   "source": [
    "The idea of a two-sides Alternative Hypothesis is that we no longer look at only one region to reject or accept or test, but to both the left region and right region. \n",
    "\n",
    "![alt text](https://camo.githubusercontent.com/1a8495533cd8c50c73ef2b881d1aaab7d6c00fa2/68747470733a2f2f736c696465706c617965722e636f6d2f736c6964652f393332353539392f32382f696d616765732f362f54797065732b6f662b4879706f7468657369732b54657374732e6a7067)\n",
    "\n",
    "We will discuss the two-sides Alternative Hypothesis in more detail in the next lecture. The idea, however, is quite simple. If we want to determine whether we can reject the null hypothesis, we can simply implement this as follows:"
   ]
  },
  {
   "cell_type": "code",
   "execution_count": null,
   "metadata": {
    "colab": {
     "base_uri": "https://localhost:8080/",
     "height": 102
    },
    "colab_type": "code",
    "executionInfo": {
     "elapsed": 800,
     "status": "ok",
     "timestamp": 1586457377631,
     "user": {
      "displayName": "Louk Smalbil",
      "photoUrl": "https://lh3.googleusercontent.com/a-/AOh14GiByqcfGW98Bn42uapsD4oj4auyrLV9xURPKHUj=s64",
      "userId": "10422991521784029462"
     },
     "user_tz": -120
    },
    "id": "9vVJAgvYpuFl",
    "outputId": "489ce836-c338-48d3-c476-1b5e3db18ffa"
   },
   "outputs": [],
   "source": [
    "# Ho: the average year is equal to 18.3\n",
    "# Ha: the average year is not equal to 18.3\n",
    "\n",
    "sample_data = data[(data.Make == 'Audi') & (data.Year==2008)]['Fuel Barrels/Year']\n",
    "\n",
    "st, p = ttest_1samp(sample_data, 18.3)\n",
    "\n",
    "print('Statistic: ', st)\n",
    "print('\\np-value: ', p)\n",
    "\n",
    "print('\\nNull hypothesis rejected') if p <= alpha else print('\\nNull hypothesis can\\'t be rejected')"
   ]
  },
  {
   "cell_type": "markdown",
   "metadata": {
    "colab_type": "text",
    "id": "6vGOdqj6qIDF"
   },
   "source": [
    "By default, the ttest_1samp method carries out a two-sides hypothesis test. "
   ]
  },
  {
   "cell_type": "markdown",
   "metadata": {
    "colab_type": "text",
    "id": "VYmg8Fw04A-p"
   },
   "source": [
    "## Test Assumptions\n",
    "\n",
    "In order to conduct a hypothesis test we need to meet certain assumptions:\n",
    "\n",
    "1. Our observations must be **independent** of each other. For example, if we have people who live in the same household participating in a medical trial, they might be exposed to the same environmental conditions or eat the same food. This can bias our results.\n",
    "2.   Normality of data - We assume that the sample is derived from a normally distributed data.\n",
    "3.   Adequate sample size. In order to perform a test using the normal distribution and not approximate to the t distribution, our sample size must be greater than 30.\n",
    "4.   In order to use the normal distribution for our hypothesis test, we must assume the population standard deviation is known. If the population standard deviation is not known, then we use the t-distribution for the hypothesis test.\n",
    "\n",
    "Please also be careful for sampling bias:\n",
    "\n",
    "*   **Sampling Bias** - Sampling bias occurs when some members of the intended population are less likely to be included than others in the selected sample. Say we collected the data at Wall Street at 10AM on Monday. Significant bias can be introduced due to the flaws of the data collection because people who appear at Wall Street at that specific time are most likely working professionals in the financial industry. The sample data will miss a lot of people from other industries and other NYC neighborhoods. Consequently, the selected sample is not a good representation of NYC residents.\n",
    "\n"
   ]
  },
  {
   "cell_type": "markdown",
   "metadata": {
    "colab_type": "text",
    "id": "4Gx-_4CjONHf"
   },
   "source": [
    "## Summary\n",
    "\n",
    "In this lesson we learned how to perform a hypothesis test. To do this, we had to introduce a large number of terms: population, sample, null hypothesis, alternative hypothesis, test statistic, p-value, and confidence interval. We then showed how we can use our test to come up with a conclusion for a real-life scenario and learned how to do this with Python."
   ]
  }
 ],
 "metadata": {
  "colab": {
   "authorship_tag": "ABX9TyOZWVIl8fnhKs30/8ZdgEuo",
   "collapsed_sections": [],
   "name": "Hypothesis_Testing.ipynb",
   "provenance": []
  },
  "kernelspec": {
   "display_name": "Python 3",
   "language": "python",
   "name": "python3"
  },
  "language_info": {
   "codemirror_mode": {
    "name": "ipython",
    "version": 3
   },
   "file_extension": ".py",
   "mimetype": "text/x-python",
   "name": "python",
   "nbconvert_exporter": "python",
   "pygments_lexer": "ipython3",
   "version": "3.7.4"
  }
 },
 "nbformat": 4,
 "nbformat_minor": 1
}
