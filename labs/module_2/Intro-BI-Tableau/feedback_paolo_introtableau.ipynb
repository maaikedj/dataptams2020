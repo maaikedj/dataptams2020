{
 "cells": [
  {
   "cell_type": "markdown",
   "metadata": {},
   "source": [
    "Sreelatha, I cannot open the file because it asks me to update to \n",
    "**tableau professional** which strangely I cannot find on the Tableau website.  This lab should be done with **Tableau public** but I guess\n",
    "with Tableau professional should be the same.\n",
    "I suggest that you check yourself the solution workbook and tables \n",
    "[here](https://drive.google.com/drive/folders/1KQDuwNOEefrNck-Bqu8CVKWGLGlxfSlr?usp=sharing). Let me know if it works out"
   ]
  }
 ],
 "metadata": {
  "kernelspec": {
   "display_name": "Python 3",
   "language": "python",
   "name": "python3"
  },
  "language_info": {
   "codemirror_mode": {
    "name": "ipython",
    "version": 3
   },
   "file_extension": ".py",
   "mimetype": "text/x-python",
   "name": "python",
   "nbconvert_exporter": "python",
   "pygments_lexer": "ipython3",
   "version": "3.7.6"
  }
 },
 "nbformat": 4,
 "nbformat_minor": 4
}
