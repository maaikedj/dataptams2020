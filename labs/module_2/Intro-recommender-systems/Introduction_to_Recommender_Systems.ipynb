{
 "cells": [
  {
   "cell_type": "markdown",
   "metadata": {
    "colab_type": "text",
    "id": "4VPafu-UVL0S"
   },
   "source": [
    "# Introduction to Recommender Systems\n",
    "\n"
   ]
  },
  {
   "cell_type": "markdown",
   "metadata": {
    "colab_type": "text",
    "id": "JdJdZ5zqVP6A"
   },
   "source": [
    "## Introduction\n",
    "\n",
    "Recommender systems are a foundational part of the digital world today. **They are used to personalize the experience a user has with a website or application, thus making it more useful to the user.** Some of today's most prominent companies have recommender systems at the core of the customer experience.\n",
    "\n",
    "* Amazon recommends you products based on past product purchases, ratings, and the purchases/ratings of other customers similar to you.\n",
    "* Netflix recommends you movies based on the movies you've watched, your rating of movies, and the behavior of other users similar to you.\n",
    "*  Facebook, Twitter, & LinkedIn recommend people you might know based on your connections and the connections of those you are connected to and also use this information to personalize your newsfeed.\n",
    "\n",
    "In this lesson, we will learn the fundamentals of recommender systems, how they work, and how to create a basic user-based filtering system using Python."
   ]
  },
  {
   "cell_type": "markdown",
   "metadata": {
    "colab_type": "text",
    "id": "lqVVBMbsVZL6"
   },
   "source": [
    "## Collaborative Filtering\n",
    "\n",
    "Before recommender systems existed, the primary way to get recommendations about things like movies or products was to ask your friends. As you followed recommendations from them, you would get a sense of which friends had tastes that were most similar to yours and rely on their recommendations more frequently. However, as the number of options available to us has increased drastically over the last few decades, it became increasingly difficult to rely on recommendations from a small group of friends because it also became increasingly likely that they were not aware of all the available options. The solution for this was a method called collaborative filtering.\n",
    "\n",
    "Collaborative filtering provides us with a way of making automatic predictions (filtering) about the interests of a user by collecting preferences from many users (collaborating). **The underlying assumption is that if two people have the same opinion on one issue, they are likely to have a similar opinion on other issues as well.** There are a few different ways to approach collaborative filtering, but generally speaking, they involve finding a group of people similar to a user, analyzing the things they like, and coming up with a ranked list of recommendations for the user."
   ]
  },
  {
   "cell_type": "markdown",
   "metadata": {
    "colab_type": "text",
    "id": "tOX2BUGgVenF"
   },
   "source": [
    "### User Similarity\n",
    "\n",
    "**User similarity** is at the heart of collaborative filtering. In order to make good recommendations, *we need to know how alike two users are*. The way to do this is by comparing how similar their ratings for the same product have been. For example, let's import the movie_ratings.csv file."
   ]
  },
  {
   "cell_type": "code",
   "execution_count": null,
   "metadata": {
    "colab": {},
    "colab_type": "code",
    "id": "WaHWuNtcS4wF"
   },
   "outputs": [],
   "source": [
    "import pandas as pd"
   ]
  },
  {
   "cell_type": "code",
   "execution_count": null,
   "metadata": {
    "colab": {},
    "colab_type": "code",
    "id": "erwkFLbBVyOg"
   },
   "outputs": [],
   "source": [
    "ratings = pd.read_csv('movie_ratings.csv').set_index('Movie')"
   ]
  },
  {
   "cell_type": "code",
   "execution_count": null,
   "metadata": {
    "colab": {},
    "colab_type": "code",
    "id": "-S3jIOb1V0zf",
    "outputId": "ffb49a81-76e1-4f20-990b-c4c5e57f38af"
   },
   "outputs": [],
   "source": [
    "ratings"
   ]
  },
  {
   "cell_type": "code",
   "execution_count": null,
   "metadata": {
    "colab": {
     "base_uri": "https://localhost:8080/",
     "height": 34
    },
    "colab_type": "code",
    "executionInfo": {
     "elapsed": 536,
     "status": "ok",
     "timestamp": 1587818988094,
     "user": {
      "displayName": "Louk Smalbil",
      "photoUrl": "https://lh3.googleusercontent.com/a-/AOh14GiByqcfGW98Bn42uapsD4oj4auyrLV9xURPKHUj=s64",
      "userId": "10422991521784029462"
     },
     "user_tz": -120
    },
    "id": "fQFupyAKMCF4",
    "outputId": "c3e13b06-579f-4ec2-8eef-8d22f7193031"
   },
   "outputs": [],
   "source": [
    "import numpy as np\n",
    "name_list = ['Sreelatha', 'Sara', 'Eva', 'Maaike', 'Victor', 'Zuzanna']\n",
    "np.random.choice(name_list)"
   ]
  },
  {
   "cell_type": "code",
   "execution_count": null,
   "metadata": {
    "colab": {
     "base_uri": "https://localhost:8080/",
     "height": 34
    },
    "colab_type": "code",
    "executionInfo": {
     "elapsed": 539,
     "status": "ok",
     "timestamp": 1587817764731,
     "user": {
      "displayName": "Louk Smalbil",
      "photoUrl": "https://lh3.googleusercontent.com/a-/AOh14GiByqcfGW98Bn42uapsD4oj4auyrLV9xURPKHUj=s64",
      "userId": "10422991521784029462"
     },
     "user_tz": -120
    },
    "id": "n7_lXI73OAog",
    "outputId": "46b164eb-76db-4448-f58b-05ff94e799cc"
   },
   "outputs": [],
   "source": [
    "import numpy as np\n",
    "name_list = ['Sara', 'Eva']\n",
    "np.random.choice(name_list)"
   ]
  },
  {
   "cell_type": "markdown",
   "metadata": {
    "colab_type": "text",
    "id": "q4IcCBI0V7bS"
   },
   "source": [
    "If we wanted to take a look at their user ratings across the preference space of two movies, we could define a function that accepts two movie titles and scatter plots the user ratings as follows."
   ]
  },
  {
   "cell_type": "code",
   "execution_count": null,
   "metadata": {
    "colab": {},
    "colab_type": "code",
    "id": "e_XNPTqoWMF0"
   },
   "outputs": [],
   "source": [
    "import matplotlib.pyplot as plt"
   ]
  },
  {
   "cell_type": "code",
   "execution_count": null,
   "metadata": {
    "cellView": "form",
    "colab": {},
    "colab_type": "code",
    "id": "4-qQeXkXV4f-",
    "jupyter": {
     "source_hidden": true
    }
   },
   "outputs": [],
   "source": [
    "#@title\n",
    "def ratings_scatter(movie1, movie2):\n",
    "    x = ratings.T[movie1]\n",
    "    y = ratings.T[movie2]\n",
    "    n = list(ratings.T.index)\n",
    "\n",
    "    fig, ax = plt.subplots()\n",
    "    ax.scatter(x, y, s=0)\n",
    "    fig.set_figwidth(12)\n",
    "    fig.set_figheight(8)\n",
    "    plt.title(\"Preference Space for \"+ movie1 + \" vs. \" + movie2, fontsize=20)\n",
    "    ax.set_xlabel(movie1, fontsize=16)\n",
    "    ax.set_ylabel(movie2, fontsize=16) \n",
    "\n",
    "    for i, txt in enumerate(n):\n",
    "        ax.annotate(txt, (x[i], y[i]), fontsize=12)"
   ]
  },
  {
   "cell_type": "markdown",
   "metadata": {
    "colab_type": "text",
    "id": "HRxfROPAWG_4"
   },
   "source": [
    "Then, we would just need to choose two titles and generate the plot to visualize the preference space for users across those two movies. For example, below is the preference space across the movies Venom and Incredibles 2.\n"
   ]
  },
  {
   "cell_type": "code",
   "execution_count": null,
   "metadata": {
    "colab": {
     "base_uri": "https://localhost:8080/",
     "height": 523
    },
    "colab_type": "code",
    "id": "qU1BjiYYV_qX",
    "outputId": "aeb8a680-cdd6-4397-9fe4-ff22c91bae1d"
   },
   "outputs": [],
   "source": [
    "ratings_scatter('Venom', 'Incredibles 2')"
   ]
  },
  {
   "cell_type": "code",
   "execution_count": null,
   "metadata": {
    "colab": {},
    "colab_type": "code",
    "id": "EtC8ncXBMD7k",
    "outputId": "a1984bf5-0621-4f4d-ae19-6db0cd6921d3"
   },
   "outputs": [],
   "source": [
    "import numpy as np\n",
    "name_list = ['Sreelatha', 'Sara', 'Eva', 'Maaike', 'Victor', 'Zuzanna']\n",
    "np.random.choice(name_list)"
   ]
  },
  {
   "cell_type": "markdown",
   "metadata": {
    "colab_type": "text",
    "id": "FQ_d7GhgWa5U"
   },
   "source": [
    "We can see that across this preference space, Rusty is more similar to Brandon than he is Emily. However, this can vary across different sets of movies. If we instead scatter plot the ratings for Bohemian Rhapsody and Jurassic World, Rusty is more similar to Emily than to Brandon in this preference space."
   ]
  },
  {
   "cell_type": "code",
   "execution_count": null,
   "metadata": {
    "colab": {
     "base_uri": "https://localhost:8080/",
     "height": 523
    },
    "colab_type": "code",
    "id": "m5QoFRuYWAje",
    "outputId": "7233e549-d0f1-485a-c82a-bc84a2aafea3"
   },
   "outputs": [],
   "source": [
    "ratings_scatter('Bohemian Rhapsody', 'Jurassic World: Fallen Kingdom')"
   ]
  },
  {
   "cell_type": "markdown",
   "metadata": {
    "colab_type": "text",
    "id": "W_sNSer1Wjxr"
   },
   "source": [
    "Here we see that the preferences are differently aligned. To get the aggregate distance across all the preference spaces, we can use squareform and pdist from the Scipy library to create a matrix containing the Euclidean distances between all our users. **This will provide us with a value between all data points in higher dimensional space. Keep in mind though that it is simply a generalisation of the plots above.**"
   ]
  },
  {
   "cell_type": "code",
   "execution_count": null,
   "metadata": {
    "colab": {},
    "colab_type": "code",
    "id": "1VmRR4hTWdxq"
   },
   "outputs": [],
   "source": [
    "from scipy.spatial.distance import pdist, squareform  #Pairwise distances between observations in n-dimensional space. "
   ]
  },
  {
   "cell_type": "code",
   "execution_count": null,
   "metadata": {
    "colab": {
     "base_uri": "https://localhost:8080/",
     "height": 102
    },
    "colab_type": "code",
    "id": "tQO9drZrWmgJ",
    "outputId": "ba8e81c5-3cb3-407d-a373-17d555e1cab1"
   },
   "outputs": [],
   "source": [
    "squareform(pdist(ratings.T, 'euclidean'))"
   ]
  },
  {
   "cell_type": "code",
   "execution_count": null,
   "metadata": {
    "colab": {},
    "colab_type": "code",
    "id": "vfvkF3FLLfNi",
    "outputId": "8d4e5744-705c-44b1-bb2e-243042ff7b37"
   },
   "outputs": [],
   "source": [
    "pdist(ratings.T, 'euclidean')"
   ]
  },
  {
   "cell_type": "markdown",
   "metadata": {
    "colab_type": "text",
    "id": "Y7wnpSrBa6Lq"
   },
   "source": [
    "![alt text](https://bigsnarf.files.wordpress.com/2012/03/distance.jpg?w=584)"
   ]
  },
  {
   "cell_type": "markdown",
   "metadata": {
    "colab_type": "text",
    "id": "VlpGznGcWtdH"
   },
   "source": [
    "These distances are smaller for users that are more similar, *but for our purposes it would be preferable to have a higher score for users that are more similar and a lower score for users that are less similar.* We can easily achieve this by adding 1 to the scores and inverting them. Let's also import them into a data frame so that we can more easily view and analyze them."
   ]
  },
  {
   "cell_type": "code",
   "execution_count": null,
   "metadata": {
    "colab": {
     "base_uri": "https://localhost:8080/",
     "height": 102
    },
    "colab_type": "code",
    "id": "hnQ9VOJyWoEZ",
    "outputId": "3eed8125-7da3-49fe-9746-14ec79b2d781"
   },
   "outputs": [],
   "source": [
    "1/(1 + squareform(pdist(ratings.T, 'euclidean')))"
   ]
  },
  {
   "cell_type": "code",
   "execution_count": null,
   "metadata": {
    "colab": {},
    "colab_type": "code",
    "id": "LnDpmhnEW1wv"
   },
   "outputs": [],
   "source": [
    "distances = pd.DataFrame(1/(1 + squareform(pdist(ratings.T, 'euclidean'))), \n",
    "                         index=ratings.columns, columns=ratings.columns)"
   ]
  },
  {
   "cell_type": "code",
   "execution_count": null,
   "metadata": {
    "colab": {
     "base_uri": "https://localhost:8080/",
     "height": 204
    },
    "colab_type": "code",
    "id": "fQn0vSjlW8E-",
    "outputId": "0749a4cc-36b5-44fa-8ae0-45f8271fc6fb"
   },
   "outputs": [],
   "source": [
    "distances"
   ]
  },
  {
   "cell_type": "markdown",
   "metadata": {
    "colab_type": "text",
    "id": "sRDRT4h1XAMH"
   },
   "source": [
    "### Generating Recommendations for a User\n",
    "\n",
    "Suppose that we had a new user named Tom who came to us with the following ratings for each movie.\n"
   ]
  },
  {
   "cell_type": "code",
   "execution_count": null,
   "metadata": {
    "colab": {},
    "colab_type": "code",
    "id": "psr4oqlRW9c-"
   },
   "outputs": [],
   "source": [
    "tom = {'Aquaman': 2,\n",
    " 'Avengers: Infinity War': 1,\n",
    " 'Black Panther': 5,\n",
    " 'Bohemian Rhapsody': 5,\n",
    " 'Deadpool 2': 2,\n",
    " 'Fantastic Beasts: The Crimes of Grindelwald': 3,\n",
    " 'Incredibles 2': 3,\n",
    " 'Jurassic World: Fallen Kingdom': 4,\n",
    " 'Mission: Impossible Fallout': 3,\n",
    " 'Venom': 3}"
   ]
  },
  {
   "cell_type": "markdown",
   "metadata": {
    "colab_type": "text",
    "id": "SSQSfNZvXJZ_"
   },
   "source": [
    "We could factor Tom into our similarity matrix and then determine which other users are most similar to him."
   ]
  },
  {
   "cell_type": "code",
   "execution_count": null,
   "metadata": {
    "colab": {},
    "colab_type": "code",
    "id": "nTBKMUvzXHDV"
   },
   "outputs": [],
   "source": [
    "ratings['Tom'] = pd.Series(tom)"
   ]
  },
  {
   "cell_type": "code",
   "execution_count": null,
   "metadata": {
    "colab": {
     "base_uri": "https://localhost:8080/",
     "height": 390
    },
    "colab_type": "code",
    "id": "i1dwnB76Xf5D",
    "outputId": "74949229-1fca-416a-f2d3-b4a8abd72860"
   },
   "outputs": [],
   "source": [
    "ratings"
   ]
  },
  {
   "cell_type": "code",
   "execution_count": null,
   "metadata": {
    "colab": {},
    "colab_type": "code",
    "id": "CoM3Jy0_XUSc"
   },
   "outputs": [],
   "source": [
    "distances = pd.DataFrame(1/(1 + squareform(pdist(ratings.T, 'euclidean'))), \n",
    "                         index=ratings.columns, columns=ratings.columns)"
   ]
  },
  {
   "cell_type": "code",
   "execution_count": null,
   "metadata": {
    "colab": {
     "base_uri": "https://localhost:8080/",
     "height": 235
    },
    "colab_type": "code",
    "id": "z6kngfULXW6a",
    "outputId": "cc722820-144c-4eb0-f09f-0b9e5331fa3e"
   },
   "outputs": [],
   "source": [
    "distances"
   ]
  },
  {
   "cell_type": "code",
   "execution_count": null,
   "metadata": {
    "colab": {
     "base_uri": "https://localhost:8080/",
     "height": 119
    },
    "colab_type": "code",
    "id": "35XtuVrEXZt6",
    "outputId": "8c40f309-1c62-497c-80a5-9635d42a0f45"
   },
   "outputs": [],
   "source": [
    "similarities = distances['Tom'].sort_values(ascending=False)[1:]\n",
    "similarities"
   ]
  },
  {
   "cell_type": "markdown",
   "metadata": {
    "colab_type": "text",
    "id": "h7PnoOeXZGjF"
   },
   "source": [
    "It looks like Cleo is the user that is most similar to Tom, followed by Brandon, Emily, Rusty, and then Samantha. **These similarity scores should be taken into consideration when recommending movies to Tom that he has not yet seen.**\n",
    "\n",
    "Let's say that *everyone but Tom* also rated the movies in the movie_ratings2.csv file. Let's import those ratings and then combine them with the similarity scores to generate movie recommendations to Tom."
   ]
  },
  {
   "cell_type": "code",
   "execution_count": null,
   "metadata": {
    "colab": {},
    "colab_type": "code",
    "id": "5K81DC_5ZF3H"
   },
   "outputs": [],
   "source": [
    "new_ratings = pd.read_csv('movie_ratings2.csv').set_index('Movie')"
   ]
  },
  {
   "cell_type": "code",
   "execution_count": null,
   "metadata": {
    "colab": {
     "base_uri": "https://localhost:8080/",
     "height": 390
    },
    "colab_type": "code",
    "id": "YvlGEYXwYP3y",
    "outputId": "d5c01be9-d23c-4399-b399-3a074110c338"
   },
   "outputs": [],
   "source": [
    "new_ratings"
   ]
  },
  {
   "cell_type": "markdown",
   "metadata": {
    "colab_type": "text",
    "id": "Su7oVakzZcuH"
   },
   "source": [
    "Once we have our new_ratings data frame, we are going to copy it to a new recommendations data frame which we will perform our calculations on."
   ]
  },
  {
   "cell_type": "code",
   "execution_count": null,
   "metadata": {
    "colab": {},
    "colab_type": "code",
    "id": "bMGrTHSeZagM"
   },
   "outputs": [],
   "source": [
    "recommendations = new_ratings.copy()"
   ]
  },
  {
   "cell_type": "code",
   "execution_count": null,
   "metadata": {
    "colab": {},
    "colab_type": "code",
    "id": "urIE1s5YLfN-",
    "outputId": "6d830d65-0f7d-4243-be7f-170adea54af3"
   },
   "outputs": [],
   "source": [
    "recommendations"
   ]
  },
  {
   "cell_type": "markdown",
   "metadata": {
    "colab_type": "text",
    "id": "GWIqjVjWZkal"
   },
   "source": [
    "We are going to iterate through each of the other users' similarity scores with Tom and weight their recommendations of these new movies by their similarity score. We are then going to create a new Total column that sums up the total scores for each movie and sort on that so that the movies are in the order that they should be recommended to Tom."
   ]
  },
  {
   "cell_type": "code",
   "execution_count": null,
   "metadata": {
    "colab": {
     "base_uri": "https://localhost:8080/",
     "height": 221
    },
    "colab_type": "code",
    "id": "N06TiuBweNbH",
    "outputId": "5f62ca63-5118-433f-c9ee-6e3ea87a745c"
   },
   "outputs": [],
   "source": [
    "recommendations['Brandon'] * similarities['Brandon']"
   ]
  },
  {
   "cell_type": "code",
   "execution_count": null,
   "metadata": {
    "colab": {},
    "colab_type": "code",
    "id": "rD7HFQqZZgPL"
   },
   "outputs": [],
   "source": [
    "for name, score in dict(similarities).items():\n",
    "    recommendations[name] = recommendations[name] * score"
   ]
  },
  {
   "cell_type": "code",
   "execution_count": null,
   "metadata": {
    "colab": {
     "base_uri": "https://localhost:8080/",
     "height": 390
    },
    "colab_type": "code",
    "id": "B8S2l73_Zo5q",
    "outputId": "cb0ca0e0-5778-419d-a98a-c54f243b0b02"
   },
   "outputs": [],
   "source": [
    "recommendations['Total'] = recommendations.sum(axis=1)\n",
    "recommendations.sort_values('Total', ascending=False)"
   ]
  },
  {
   "cell_type": "markdown",
   "metadata": {
    "colab_type": "text",
    "id": "AYLdUqD5Z3iJ"
   },
   "source": [
    "From these results, it looks like Tom should like Despicable Me 3, Wonder Woman, and Thor but perhaps not Star Wars or The Fate of the Furious."
   ]
  },
  {
   "cell_type": "markdown",
   "metadata": {
    "colab_type": "text",
    "id": "PGP7NxnIZ64T"
   },
   "source": [
    "## Using different Similarity Matrix\n",
    "\n",
    "Now that we have generated an initial set of recommendations, there is an important topic we would like to circle back and discuss. When we computed our user similarity metrics, we used Euclidean distance as our distance metric. It is important to note that there are a number of other distance metrics in Scipy that we could potentially use to get different results. A full list of all the ones available can be found here.\n",
    "\n",
    "To see what the recommendations look like using a different distance metric, all we need to do is swap out the name if the metric in the first line of code below. For example, if we wanted to use cosine distance instead, the results would look like this."
   ]
  },
  {
   "cell_type": "code",
   "execution_count": null,
   "metadata": {
    "colab": {},
    "colab_type": "code",
    "id": "fS9_c7fUZqeq"
   },
   "outputs": [],
   "source": [
    "distances = pd.DataFrame(1/(1 + squareform(pdist(ratings.T, 'cosine'))), \n",
    "                         index=ratings.columns, columns=ratings.columns)"
   ]
  },
  {
   "cell_type": "markdown",
   "metadata": {
    "colab_type": "text",
    "id": "keStROLWaloI"
   },
   "source": [
    "![alt text](https://www.researchgate.net/publication/320914786/figure/fig2/AS:558221849841664@1510101868614/The-difference-between-Euclidean-distance-and-cosine-similarity.png)"
   ]
  },
  {
   "cell_type": "code",
   "execution_count": null,
   "metadata": {
    "colab": {},
    "colab_type": "code",
    "id": "gghOrYlkaCnk"
   },
   "outputs": [],
   "source": [
    "similarities = distances['Tom'].sort_values(ascending=False)[1:]"
   ]
  },
  {
   "cell_type": "code",
   "execution_count": null,
   "metadata": {
    "colab": {
     "base_uri": "https://localhost:8080/",
     "height": 119
    },
    "colab_type": "code",
    "id": "rmNEFl03exut",
    "outputId": "71195aab-73b5-4e54-8f5e-9de2249f99a4"
   },
   "outputs": [],
   "source": [
    "similarities"
   ]
  },
  {
   "cell_type": "code",
   "execution_count": null,
   "metadata": {
    "colab": {},
    "colab_type": "code",
    "id": "jWnx6cOiaEQt"
   },
   "outputs": [],
   "source": [
    "recommendations = new_ratings.copy()"
   ]
  },
  {
   "cell_type": "code",
   "execution_count": null,
   "metadata": {
    "colab": {},
    "colab_type": "code",
    "id": "MBmmc2qoaGVt"
   },
   "outputs": [],
   "source": [
    "for name, score in dict(similarities).items():\n",
    "    recommendations[name] = recommendations[name] * score"
   ]
  },
  {
   "cell_type": "code",
   "execution_count": null,
   "metadata": {
    "colab": {
     "base_uri": "https://localhost:8080/",
     "height": 390
    },
    "colab_type": "code",
    "id": "bIsIXvxkaIMV",
    "outputId": "d5eed120-5174-4e3a-af25-721c91a35853"
   },
   "outputs": [],
   "source": [
    "recommendations['Total'] = recommendations.sum(axis=1)\n",
    "recommendations.sort_values('Total', ascending=False)"
   ]
  },
  {
   "cell_type": "markdown",
   "metadata": {
    "colab_type": "text",
    "id": "anUtWQC_aQLZ"
   },
   "source": [
    "We can see that Wonder Woman is now at the top of the list, Guardians of the Galaxy dropped a few places, and Wolf Warrior crept up to the number 4 spot.\n",
    "\n",
    "If we tried cityblock distance instead, Guardians of the Galaxy shoots up to the number 3 spot and Spider-Man creeps up into the top 5."
   ]
  },
  {
   "cell_type": "markdown",
   "metadata": {
    "colab_type": "text",
    "id": "PuGkjdVnaUdd"
   },
   "source": [
    "## Summary \n",
    "\n",
    "In this lesson, we provided an introduction to recommender systems and took a look at how we could create a user-based filtering recommender. Along the way, we visualized user preference spaces for pairs of movies, calculated similarity scores between groups of users, and combined those similarity scores with ratings to rank movies so that we could recommend them to a particular user. This is just the tip of the iceberg when it comes to recommender systems, but hopefully this lesson gave you a sense of how these types of systems work and how you might put one together of your very own."
   ]
  },
  {
   "cell_type": "code",
   "execution_count": null,
   "metadata": {
    "colab": {},
    "colab_type": "code",
    "id": "39fn5eKMaKDG"
   },
   "outputs": [],
   "source": []
  }
 ],
 "metadata": {
  "colab": {
   "collapsed_sections": [],
   "name": "Introduction_to_Recommender_Systems.ipynb",
   "provenance": []
  },
  "kernelspec": {
   "display_name": "Python 3",
   "language": "python",
   "name": "python3"
  },
  "language_info": {
   "codemirror_mode": {
    "name": "ipython",
    "version": 3
   },
   "file_extension": ".py",
   "mimetype": "text/x-python",
   "name": "python",
   "nbconvert_exporter": "python",
   "pygments_lexer": "ipython3",
   "version": "3.7.5"
  }
 },
 "nbformat": 4,
 "nbformat_minor": 0
}
