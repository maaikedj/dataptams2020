{
 "cells": [
  {
   "cell_type": "markdown",
   "metadata": {},
   "source": [
    "# Before your start:\n",
    "- Read the README.md file\n",
    "- Comment as much as you can and use the resources in the README.md file\n",
    "- Happy learning!"
   ]
  },
  {
   "cell_type": "code",
   "execution_count": null,
   "metadata": {},
   "outputs": [],
   "source": []
  },
  {
   "cell_type": "code",
   "execution_count": 49,
   "metadata": {},
   "outputs": [],
   "source": [
    "import sys\n",
    "# print(sys.path)\n",
    "# Adding a path so that it finds the package for numpy\n",
    "sys.path.append('/usr/local/lib/python3.7/site-packages')\n",
    "import numpy as np\n",
    "import pandas as pd"
   ]
  },
  {
   "cell_type": "code",
   "execution_count": null,
   "metadata": {},
   "outputs": [],
   "source": []
  },
  {
   "cell_type": "markdown",
   "metadata": {},
   "source": [
    "# Challenge 1 - Create a function"
   ]
  },
  {
   "cell_type": "markdown",
   "metadata": {},
   "source": [
    "Given a dictionary name-phone number and a country code create a function that adds the country code to the number. <br>\n",
    "For example if <code>phone_numbers</code> is given  by <br>\n",
    "<code>phone_numbers = {'Tom': '0313911913', 'John' : '0313911913', 'Annie': '0313911913', 'Judy':'3818891310'}</code>\n",
    "the output of the function should be \n",
    "<code>phone_numbers_countrycode = {'Tom': '+0310313911913', 'John' :'+0310313911913', 'Annie': '+0310313911913', 'Judy':'+0313818891310'}</code>. In this example the country code is +031.<br>\n",
    "The function should accept two arguments, a dictionary name-phonenumber and a countrycode.\n",
    "Once you have defined the function run it on <br> <code> {'Anna': '0313911913', 'Erica' : '0313911913', 'Alberto': '0313911913', 'Judy':'3818891310'}</code>, use country code +039 and check that it works correctly."
   ]
  },
  {
   "cell_type": "code",
   "execution_count": 50,
   "metadata": {},
   "outputs": [
    {
     "data": {
      "text/plain": [
       "{'Anna': '+340313911913',\n",
       " 'Erica': '+340313911913',\n",
       " 'Alberto': '+340313911913',\n",
       " 'Judy': '+343818891310'}"
      ]
     },
     "execution_count": 50,
     "metadata": {},
     "output_type": "execute_result"
    }
   ],
   "source": [
    "\n",
    "phone_numbers = {'Anna': '0313911913', 'Erica' : '0313911913', 'Alberto': '0313911913', 'Judy':'3818891310'}\n",
    "country_code = ['+039']\n",
    "\n",
    "# Extract keys and values from Dict to be able to manipulate them. \n",
    "# Clean the value of the country code to concatenate it with the values\n",
    "# Recreate the Dict with the new values and the original keys\n",
    "\n",
    "def addcountrycode(phone_numbers, country_code):\n",
    "    list_phone_names = list(phone_numbers.keys())\n",
    "    list_phone_numbers = list(phone_numbers.values())\n",
    "    country_code_str = str(country_code).strip(\"['']\")\n",
    "    list_phone_numbers_code = [country_code_str + n for n in list_phone_numbers]\n",
    "    phone_numbers_countrycode = {k:v for (k,v) in zip(list_phone_names,list_phone_numbers_code)}\n",
    "    return phone_numbers_countrycode\n",
    "    \n",
    "addcountrycode(phone_numbers, country_code)\n",
    "\n",
    "# Experiment: change country_code\n",
    "\n",
    "addcountrycode(phone_numbers, country_code = \"+34\")\n",
    "\n",
    "\n"
   ]
  },
  {
   "cell_type": "markdown",
   "metadata": {},
   "source": [
    "# Challenge 2 - Applying Functions to DataFrames\n",
    "\n",
    "In this challenge, we will look at how to transform cells or entire columns at once.\n",
    "\n",
    "First, let's load a dataset. We will download the famous Iris classification dataset in the cell below."
   ]
  },
  {
   "cell_type": "code",
   "execution_count": 51,
   "metadata": {},
   "outputs": [],
   "source": [
    "columns = ['sepal_length', 'sepal_width', 'petal_length','petal_width','iris_type']\n",
    "iris = pd.read_csv(\"https://archive.ics.uci.edu/ml/machine-learning-databases/iris/iris.data\", names=columns)"
   ]
  },
  {
   "cell_type": "markdown",
   "metadata": {},
   "source": [
    "Let's look at the dataset using the `head` function."
   ]
  },
  {
   "cell_type": "code",
   "execution_count": 52,
   "metadata": {},
   "outputs": [
    {
     "data": {
      "text/html": [
       "<div>\n",
       "<style scoped>\n",
       "    .dataframe tbody tr th:only-of-type {\n",
       "        vertical-align: middle;\n",
       "    }\n",
       "\n",
       "    .dataframe tbody tr th {\n",
       "        vertical-align: top;\n",
       "    }\n",
       "\n",
       "    .dataframe thead th {\n",
       "        text-align: right;\n",
       "    }\n",
       "</style>\n",
       "<table border=\"1\" class=\"dataframe\">\n",
       "  <thead>\n",
       "    <tr style=\"text-align: right;\">\n",
       "      <th></th>\n",
       "      <th>sepal_length</th>\n",
       "      <th>sepal_width</th>\n",
       "      <th>petal_length</th>\n",
       "      <th>petal_width</th>\n",
       "      <th>iris_type</th>\n",
       "    </tr>\n",
       "  </thead>\n",
       "  <tbody>\n",
       "    <tr>\n",
       "      <th>0</th>\n",
       "      <td>5.1</td>\n",
       "      <td>3.5</td>\n",
       "      <td>1.4</td>\n",
       "      <td>0.2</td>\n",
       "      <td>Iris-setosa</td>\n",
       "    </tr>\n",
       "    <tr>\n",
       "      <th>1</th>\n",
       "      <td>4.9</td>\n",
       "      <td>3.0</td>\n",
       "      <td>1.4</td>\n",
       "      <td>0.2</td>\n",
       "      <td>Iris-setosa</td>\n",
       "    </tr>\n",
       "    <tr>\n",
       "      <th>2</th>\n",
       "      <td>4.7</td>\n",
       "      <td>3.2</td>\n",
       "      <td>1.3</td>\n",
       "      <td>0.2</td>\n",
       "      <td>Iris-setosa</td>\n",
       "    </tr>\n",
       "    <tr>\n",
       "      <th>3</th>\n",
       "      <td>4.6</td>\n",
       "      <td>3.1</td>\n",
       "      <td>1.5</td>\n",
       "      <td>0.2</td>\n",
       "      <td>Iris-setosa</td>\n",
       "    </tr>\n",
       "    <tr>\n",
       "      <th>4</th>\n",
       "      <td>5.0</td>\n",
       "      <td>3.6</td>\n",
       "      <td>1.4</td>\n",
       "      <td>0.2</td>\n",
       "      <td>Iris-setosa</td>\n",
       "    </tr>\n",
       "  </tbody>\n",
       "</table>\n",
       "</div>"
      ],
      "text/plain": [
       "   sepal_length  sepal_width  petal_length  petal_width    iris_type\n",
       "0           5.1          3.5           1.4          0.2  Iris-setosa\n",
       "1           4.9          3.0           1.4          0.2  Iris-setosa\n",
       "2           4.7          3.2           1.3          0.2  Iris-setosa\n",
       "3           4.6          3.1           1.5          0.2  Iris-setosa\n",
       "4           5.0          3.6           1.4          0.2  Iris-setosa"
      ]
     },
     "execution_count": 52,
     "metadata": {},
     "output_type": "execute_result"
    }
   ],
   "source": [
    "# Your code here\n",
    "\n",
    "iris.head()\n"
   ]
  },
  {
   "cell_type": "markdown",
   "metadata": {},
   "source": [
    "Let's start off by using built-in functions. Try to apply the numpy mean function and describe what happens in the comments of the code."
   ]
  },
  {
   "cell_type": "code",
   "execution_count": 53,
   "metadata": {},
   "outputs": [
    {
     "data": {
      "text/plain": [
       "sepal_length    5.843333\n",
       "sepal_width     3.054000\n",
       "petal_length    3.758667\n",
       "petal_width     1.198667\n",
       "dtype: float64"
      ]
     },
     "execution_count": 53,
     "metadata": {},
     "output_type": "execute_result"
    }
   ],
   "source": [
    "# Your code here:\n",
    "\n",
    "# Retrieve all the means of the nbumeric columns\n",
    "# On average, sepal lenght is bigger than sepal width, same applies to petal\n",
    "np.mean(iris._get_numeric_data())\n"
   ]
  },
  {
   "cell_type": "markdown",
   "metadata": {},
   "source": [
    "Next, we'll apply the standard deviation function in numpy (`np.std`). Describe what happened in the comments."
   ]
  },
  {
   "cell_type": "code",
   "execution_count": 45,
   "metadata": {},
   "outputs": [
    {
     "data": {
      "text/plain": [
       "sepal_length    0.825301\n",
       "sepal_width     0.432147\n",
       "petal_length    1.758529\n",
       "petal_width     0.760613\n",
       "dtype: float64"
      ]
     },
     "execution_count": 45,
     "metadata": {},
     "output_type": "execute_result"
    }
   ],
   "source": [
    "# Your code here:\n",
    "\n",
    "# Petal lenght is the most volatile variable\n",
    "np.std(iris._get_numeric_data())\n"
   ]
  },
  {
   "cell_type": "markdown",
   "metadata": {},
   "source": [
    "The measurements are in centimeters. Let's convert them all to inches. First, we will create a dataframe that contains only the numeric columns. Assign this new dataframe to `iris_numeric`."
   ]
  },
  {
   "cell_type": "code",
   "execution_count": 54,
   "metadata": {},
   "outputs": [],
   "source": [
    "# Your code here:\n",
    "\n",
    "# Use select datatypes to select only columns with numbers\n",
    "\n",
    "iris_numeric = iris.select_dtypes(include=['float64', 'int64'])\n"
   ]
  },
  {
   "cell_type": "markdown",
   "metadata": {},
   "source": [
    "Next, we will write a function that converts centimeters to inches in the cell below. Recall that 1cm = 0.393701in."
   ]
  },
  {
   "cell_type": "code",
   "execution_count": 94,
   "metadata": {},
   "outputs": [
    {
     "data": {
      "text/plain": [
       "0.393701"
      ]
     },
     "execution_count": 94,
     "metadata": {},
     "output_type": "execute_result"
    }
   ],
   "source": [
    "def cm_to_in(x):\n",
    "    # This function takes in a numeric value in centimeters and converts it to inches\n",
    "    # Input: numeric value\n",
    "    # Output: float\n",
    "    \n",
    "    # Sample Input: 1.0\n",
    "    # Sample Output: 0.393701\n",
    "    \n",
    "    # Your code here:\n",
    "    \n",
    "    inches = x * 0.393701\n",
    "    return inches\n",
    "\n",
    "# test\n",
    "cm_to_in(1)\n",
    "\n"
   ]
  },
  {
   "cell_type": "markdown",
   "metadata": {},
   "source": [
    "Now convert all columns in `iris_numeric` to inches in the cell below. We like to think of functional transformations as immutable. Therefore, save the transformed data in a dataframe called `iris_inch`."
   ]
  },
  {
   "cell_type": "code",
   "execution_count": 93,
   "metadata": {},
   "outputs": [
    {
     "name": "stdout",
     "output_type": "stream",
     "text": [
      "     sepal_length  sepal_width  petal_length  petal_width\n",
      "0        2.007875     1.377954      0.551181     0.078740\n",
      "1        1.929135     1.181103      0.551181     0.078740\n",
      "2        1.850395     1.259843      0.511811     0.078740\n",
      "3        1.811025     1.220473      0.590552     0.078740\n",
      "4        1.968505     1.417324      0.551181     0.078740\n",
      "..            ...          ...           ...          ...\n",
      "145      2.637797     1.181103      2.047245     0.905512\n",
      "146      2.480316     0.984253      1.968505     0.748032\n",
      "147      2.559057     1.181103      2.047245     0.787402\n",
      "148      2.440946     1.338583      2.125985     0.905512\n",
      "149      2.322836     1.181103      2.007875     0.708662\n",
      "\n",
      "[150 rows x 4 columns]\n"
     ]
    }
   ],
   "source": [
    "# Your code here:\n",
    "\n",
    "# apply the function to the iris numeric dataset\n",
    "iris_inch = cm_to_in(iris_numeric)\n",
    "print(iris_inch)\n"
   ]
  },
  {
   "cell_type": "markdown",
   "metadata": {},
   "source": [
    "We have just found that the original measurements were off by a constant. Define the global constant `error` and set it to 2. Write a function that uses the global constant and adds it to each cell in the dataframe. Apply this function to `iris_numeric` and save the result in `iris_constant`."
   ]
  },
  {
   "cell_type": "code",
   "execution_count": 55,
   "metadata": {},
   "outputs": [
    {
     "name": "stdout",
     "output_type": "stream",
     "text": [
      "     sepal_length  sepal_width  petal_length  petal_width\n",
      "0             7.1          5.5           3.4          2.2\n",
      "1             6.9          5.0           3.4          2.2\n",
      "2             6.7          5.2           3.3          2.2\n",
      "3             6.6          5.1           3.5          2.2\n",
      "4             7.0          5.6           3.4          2.2\n",
      "..            ...          ...           ...          ...\n",
      "145           8.7          5.0           7.2          4.3\n",
      "146           8.3          4.5           7.0          3.9\n",
      "147           8.5          5.0           7.2          4.0\n",
      "148           8.2          5.4           7.4          4.3\n",
      "149           7.9          5.0           7.1          3.8\n",
      "\n",
      "[150 rows x 4 columns]\n"
     ]
    }
   ],
   "source": [
    "# Define constant below:\n",
    "\n",
    "\n",
    "def add_constant(x):\n",
    "    # This function adds a global constant to our input.\n",
    "    # Input: numeric value\n",
    "    # Output: numeric value\n",
    "    \n",
    "    # Your code here:\n",
    "    new_input = x + 2\n",
    "    return new_input\n",
    "\n",
    "iris_constant = add_constant(iris_numeric)\n",
    "print(iris_constant)\n"
   ]
  },
  {
   "cell_type": "markdown",
   "metadata": {},
   "source": [
    "# Bonus Challenge - Applying Functions to Columns\n",
    "\n",
    "Read more about applying functions to either rows or columns [here](https://pandas.pydata.org/pandas-docs/stable/generated/pandas.DataFrame.apply.html) and write a function that computes the maximum value for each row of `iris_numeric`"
   ]
  },
  {
   "cell_type": "code",
   "execution_count": 56,
   "metadata": {},
   "outputs": [
    {
     "name": "stdout",
     "output_type": "stream",
     "text": [
      "5.1\n",
      "4.9\n",
      "4.7\n",
      "4.6\n",
      "5.0\n",
      "5.4\n",
      "4.6\n",
      "5.0\n",
      "4.4\n",
      "4.9\n",
      "5.4\n",
      "4.8\n",
      "4.8\n",
      "4.3\n",
      "5.8\n",
      "5.7\n",
      "5.4\n",
      "5.1\n",
      "5.7\n",
      "5.1\n",
      "5.4\n",
      "5.1\n",
      "4.6\n",
      "5.1\n",
      "4.8\n",
      "5.0\n",
      "5.0\n",
      "5.2\n",
      "5.2\n",
      "4.7\n",
      "4.8\n",
      "5.4\n",
      "5.2\n",
      "5.5\n",
      "4.9\n",
      "5.0\n",
      "5.5\n",
      "4.9\n",
      "4.4\n",
      "5.1\n",
      "5.0\n",
      "4.5\n",
      "4.4\n",
      "5.0\n",
      "5.1\n",
      "4.8\n",
      "5.1\n",
      "4.6\n",
      "5.3\n",
      "5.0\n",
      "7.0\n",
      "6.4\n",
      "6.9\n",
      "5.5\n",
      "6.5\n",
      "5.7\n",
      "6.3\n",
      "4.9\n",
      "6.6\n",
      "5.2\n",
      "5.0\n",
      "5.9\n",
      "6.0\n",
      "6.1\n",
      "5.6\n",
      "6.7\n",
      "5.6\n",
      "5.8\n",
      "6.2\n",
      "5.6\n",
      "5.9\n",
      "6.1\n",
      "6.3\n",
      "6.1\n",
      "6.4\n",
      "6.6\n",
      "6.8\n",
      "6.7\n",
      "6.0\n",
      "5.7\n",
      "5.5\n",
      "5.5\n",
      "5.8\n",
      "6.0\n",
      "5.4\n",
      "6.0\n",
      "6.7\n",
      "6.3\n",
      "5.6\n",
      "5.5\n",
      "5.5\n",
      "6.1\n",
      "5.8\n",
      "5.0\n",
      "5.6\n",
      "5.7\n",
      "5.7\n",
      "6.2\n",
      "5.1\n",
      "5.7\n",
      "6.3\n",
      "5.8\n",
      "7.1\n",
      "6.3\n",
      "6.5\n",
      "7.6\n",
      "4.9\n",
      "7.3\n",
      "6.7\n",
      "7.2\n",
      "6.5\n",
      "6.4\n",
      "6.8\n",
      "5.7\n",
      "5.8\n",
      "6.4\n",
      "6.5\n",
      "7.7\n",
      "7.7\n",
      "6.0\n",
      "6.9\n",
      "5.6\n",
      "7.7\n",
      "6.3\n",
      "6.7\n",
      "7.2\n",
      "6.2\n",
      "6.1\n",
      "6.4\n",
      "7.2\n",
      "7.4\n",
      "7.9\n",
      "6.4\n",
      "6.3\n",
      "6.1\n",
      "7.7\n",
      "6.3\n",
      "6.4\n",
      "6.0\n",
      "6.9\n",
      "6.7\n",
      "6.9\n",
      "5.8\n",
      "6.8\n",
      "6.7\n",
      "6.7\n",
      "6.3\n",
      "6.5\n",
      "6.2\n",
      "5.9\n"
     ]
    },
    {
     "data": {
      "text/plain": [
       "0      5.1\n",
       "1      4.9\n",
       "2      4.7\n",
       "3      4.6\n",
       "4      5.0\n",
       "      ... \n",
       "145    6.7\n",
       "146    6.3\n",
       "147    6.5\n",
       "148    6.2\n",
       "149    5.9\n",
       "Length: 150, dtype: float64"
      ]
     },
     "execution_count": 56,
     "metadata": {},
     "output_type": "execute_result"
    }
   ],
   "source": [
    "\n",
    "# Create a function which identifies the max value out of a list\n",
    "def maxlist(mylist):\n",
    "    maxvalue = None\n",
    "    for value in mylist:\n",
    "        if not maxvalue:\n",
    "            print(value)\n",
    "            maxvalue = value\n",
    "        elif value > maxvalue:\n",
    "            maxvalue = value\n",
    "    return maxvalue\n",
    "\n",
    "# Apply the function to the iris_numeric Dataframe\n",
    "iris_numeric.apply(maxlist,1)\n"
   ]
  },
  {
   "cell_type": "markdown",
   "metadata": {},
   "source": [
    "Compute the combined lengths for each row and the combined widths for each row using a function. Assign these values to new columns `total_length` and `total_width`."
   ]
  },
  {
   "cell_type": "code",
   "execution_count": 57,
   "metadata": {},
   "outputs": [
    {
     "name": "stdout",
     "output_type": "stream",
     "text": [
      "     sepal_length  sepal_width  petal_length  petal_width  total_length  \\\n",
      "0             5.1          3.5           1.4          0.2           6.5   \n",
      "1             4.9          3.0           1.4          0.2           6.3   \n",
      "2             4.7          3.2           1.3          0.2           6.0   \n",
      "3             4.6          3.1           1.5          0.2           6.1   \n",
      "4             5.0          3.6           1.4          0.2           6.4   \n",
      "..            ...          ...           ...          ...           ...   \n",
      "145           6.7          3.0           5.2          2.3          11.9   \n",
      "146           6.3          2.5           5.0          1.9          11.3   \n",
      "147           6.5          3.0           5.2          2.0          11.7   \n",
      "148           6.2          3.4           5.4          2.3          11.6   \n",
      "149           5.9          3.0           5.1          1.8          11.0   \n",
      "\n",
      "     total_width  \n",
      "0            3.7  \n",
      "1            3.2  \n",
      "2            3.4  \n",
      "3            3.3  \n",
      "4            3.8  \n",
      "..           ...  \n",
      "145          5.3  \n",
      "146          4.4  \n",
      "147          5.0  \n",
      "148          5.7  \n",
      "149          4.8  \n",
      "\n",
      "[150 rows x 6 columns]\n"
     ]
    }
   ],
   "source": [
    "# Your code here:\n",
    "\n",
    "col_list = list(iris_numeric)\n",
    "# print(col_list)\n",
    "\n",
    "col_list.remove('sepal_width')\n",
    "col_list.remove('petal_width')\n",
    "# print(col_list)\n",
    "\n",
    "iris_numeric['total_length'] = iris_numeric[col_list].sum(1)\n",
    "\n",
    "# print(iris_numeric)\n",
    "col_list = list(iris_numeric)\n",
    "# print(col_list)\n",
    "\n",
    "col_list.remove('sepal_length')\n",
    "col_list.remove('petal_length')\n",
    "col_list.remove('total_length')\n",
    "# print(col_list)\n",
    "\n",
    "iris_numeric['total_width'] = iris_numeric[col_list].sum(1)\n",
    "\n",
    "print(iris_numeric)\n"
   ]
  },
  {
   "cell_type": "code",
   "execution_count": null,
   "metadata": {},
   "outputs": [],
   "source": []
  }
 ],
 "metadata": {
  "kernelspec": {
   "display_name": "Python 3",
   "language": "python",
   "name": "python3"
  },
  "language_info": {
   "codemirror_mode": {
    "name": "ipython",
    "version": 3
   },
   "file_extension": ".py",
   "mimetype": "text/x-python",
   "name": "python",
   "nbconvert_exporter": "python",
   "pygments_lexer": "ipython3",
   "version": "3.7.6"
  }
 },
 "nbformat": 4,
 "nbformat_minor": 4
}
