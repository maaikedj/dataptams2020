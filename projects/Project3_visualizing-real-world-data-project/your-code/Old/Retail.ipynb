{
 "cells": [
  {
   "cell_type": "code",
   "execution_count": null,
   "metadata": {},
   "outputs": [],
   "source": [
    "import pandas as pd\n",
    "import sys\n",
    "# print(sys.path)\n",
    "# Adding a path so that it finds the package for numpy\n",
    "sys.path.append('/usr/local/lib/python3.7/site-packages')\n",
    "import numpy as np\n",
    "import matplotlib.pyplot as plt\n",
    "from random import randint\n",
    "from collections import Counter\n",
    "import seaborn as sns\n",
    "from matplotlib.colors import ListedColormap\n",
    "from matplotlib import cm\n",
    "\n",
    "import chart_studio.plotly as py\n",
    "import cufflinks as cf\n",
    "import pandas as pd\n",
    "%matplotlib inline\n",
    "from ipywidgets import interact\n",
    "from ipywidgets import interact, interactive, fixed, interact_manual\n",
    "import ipywidgets as widgets\n",
    "\n",
    "cf.go_offline()\n",
    "\n",
    "from bokeh.io import output_file, show\n",
    "from bokeh.models import CheckboxGroup"
   ]
  },
  {
   "cell_type": "code",
   "execution_count": null,
   "metadata": {},
   "outputs": [],
   "source": [
    "''' \n",
    "Read the 4 files and assign names to the datasets\n",
    "Retail Sales\n",
    "Horeca Sales\n",
    "Rent House Prices\n",
    "Sales House Prices\n",
    "'''"
   ]
  },
  {
   "cell_type": "code",
   "execution_count": null,
   "metadata": {},
   "outputs": [],
   "source": [
    "'SARS exploded and culminated in H1 2003. '"
   ]
  },
  {
   "cell_type": "code",
   "execution_count": null,
   "metadata": {},
   "outputs": [],
   "source": [
    "retail = pd.read_excel('../data/Retail Clean.xlsx')\n",
    "retail.head()"
   ]
  },
  {
   "cell_type": "code",
   "execution_count": null,
   "metadata": {},
   "outputs": [],
   "source": [
    "'Check that all year rows are clean and included'\n",
    "retail['Year'].unique()"
   ]
  },
  {
   "cell_type": "code",
   "execution_count": null,
   "metadata": {},
   "outputs": [],
   "source": [
    "'Create a date column by concatenating Year and Month'\n",
    "retail['Date'] = pd.to_datetime(retail['Month'].astype(str) + '/' + retail['Year'].astype(str))\n",
    "retail.head()"
   ]
  },
  {
   "cell_type": "code",
   "execution_count": null,
   "metadata": {},
   "outputs": [],
   "source": [
    "' Eliminate 2001 and 2020 as they have partial data only'\n",
    "\n",
    "def clean_year(df):\n",
    "    return df[df['Year'].isin(['2002','2003','2004','2005','2006','2007','2008','2009','2010','2011','2012','2013','2014','2015','2016','2017','2018','2019'])]"
   ]
  },
  {
   "cell_type": "code",
   "execution_count": null,
   "metadata": {},
   "outputs": [],
   "source": [
    "retail = clean_year(retail)"
   ]
  },
  {
   "cell_type": "code",
   "execution_count": null,
   "metadata": {},
   "outputs": [],
   "source": [
    "'Start by looking at the trend by year so to eliminate the impact of seasonality in the month by month'\n",
    "\n",
    "def plot_bar(df, title, col_name):\n",
    "    plt.rcParams['figure.figsize'] = [18.0, 6.0]\n",
    "    sum_year = df[[col_name,'Year']].groupby(['Year']).agg(\"sum\")\n",
    "    sum_year.plot.bar()\n",
    "    plt.title(title)\n",
    "    return plt.show()"
   ]
  },
  {
   "cell_type": "code",
   "execution_count": null,
   "metadata": {},
   "outputs": [],
   "source": [
    "plot_bar(retail,\"HK Retail Sales - HK $\",\"All retail outlets\")"
   ]
  },
  {
   "cell_type": "code",
   "execution_count": null,
   "metadata": {},
   "outputs": [],
   "source": [
    "'Interestingly, sales declined in 2003 vs 2002 and bounced back already in 2004.'"
   ]
  },
  {
   "cell_type": "code",
   "execution_count": null,
   "metadata": {},
   "outputs": [],
   "source": [
    "'Focus on the 2002 to 2005 period for a closer look'\n",
    "\n",
    "retail_02_to_05 = retail[retail['Year'].isin(['2002','2003','2004','2005'])]"
   ]
  },
  {
   "cell_type": "code",
   "execution_count": null,
   "metadata": {},
   "outputs": [],
   "source": [
    "'Look at the trend by month in the 2002 to 2005 range'\n",
    "\n",
    "def plot_line(df, col_name, title):\n",
    "    \n",
    "    chart = sns.lineplot(df.Date, df[col_name])\n",
    "    chart.set(xticks=df.Date.values)\n",
    "\n",
    "    plt.xticks(\n",
    "        rotation=45, \n",
    "        horizontalalignment='right',\n",
    "        fontweight='light',\n",
    "        fontsize='x-large'  \n",
    "    )\n",
    "\n",
    "    plt.title(title)\n",
    "    return plt.show()\n"
   ]
  },
  {
   "cell_type": "code",
   "execution_count": null,
   "metadata": {},
   "outputs": [],
   "source": [
    "plot_line(retail_02_to_05, 'All retail outlets', \"Sales of Retail Outlets in Hong Kong ('000 HK$) - 2002-2005\")"
   ]
  },
  {
   "cell_type": "code",
   "execution_count": null,
   "metadata": {},
   "outputs": [],
   "source": [
    "def plot_indexation(df, col_name, yaxis_label, title):\n",
    "\n",
    "    df_2002 = df[df['Year'].isin(['2002'])]\n",
    "    df_2003 = df[df['Year'].isin(['2003'])]\n",
    "    df_2004 = df[df['Year'].isin(['2004'])]\n",
    "\n",
    "    index_03vs02 = [int(tre/due*100) for tre,due in zip(df_2003[col_name],df_2002[col_name])]\n",
    "    index_04vs02 = [int(quattro/due*100) for quattro,due in zip(df_2004[col_name],df_2002[col_name])]\n",
    "\n",
    "    Month = ['Jan', 'Feb', 'Mar', 'Apr', 'May', 'Jun', 'Jul', 'Aug', 'Sep', 'Oct', 'Nov', 'Dec']\n",
    "    Flat = [100, 100, 100, 100, 100, 100, 100, 100, 100, 100, 100, 100]\n",
    "    data = {'Month': Month, 'Flat': Flat, '03 vs 02': index_03vs02, '04 vs 02': index_04vs02}\n",
    "    df = pd.DataFrame (data)\n",
    "\n",
    "    fig, ax = plt.subplots()\n",
    "\n",
    "    ax.plot(df['Month'],df[\"03 vs 02\"], label='03 vs 02', color=\"red\")\n",
    "    ax.plot(df['Month'],df[\"04 vs 02\"], label='04 vs 02', color=\"green\")\n",
    "    ax.plot(df['Month'],df[\"Flat\"], label='Flat', color=\"black\", linewidth=0.25)\n",
    "\n",
    "\n",
    "    ax.legend(loc=4) # upper left corner\n",
    "    ax.set_xlabel('Month', fontsize=18)\n",
    "    ax.set_ylabel(yaxis_label, fontsize=14)\n",
    "    ax.set_title(title);\n",
    "\n",
    "    return plt.show()\n"
   ]
  },
  {
   "cell_type": "code",
   "execution_count": null,
   "metadata": {},
   "outputs": [],
   "source": [
    "plot_indexation(retail, 'All retail outlets', 'Index Month over Month 2002', 'Retail Sales Index Month over Month 2002')"
   ]
  },
  {
   "cell_type": "code",
   "execution_count": null,
   "metadata": {},
   "outputs": [],
   "source": [
    "'Focus on the 2002 and 2003 years to make a comparison'\n",
    "\n",
    "retail_02_and_03 = retail[retail['Year'].isin(['2002','2003'])]\n",
    "retail_02_and_03_not_all = retail_02_and_03.drop(columns=['All retail outlets'])\n",
    "sum_year__02_and_03_not_all = retail_02_and_03_not_all[['Fish, livestock and poultry, fresh or frozen',\n",
    "                                     'Fruits and vegetables, fresh',\n",
    "                                     'Bread, pastry, confectionery and biscuits',\n",
    "                                     'Other food, not elsewhere classified',\n",
    "                                     'Alcoholic drinks and tobacco',\n",
    "                                     'Supermarkets',\n",
    "                                     'Fuels',\n",
    "                                     'Wearing apparel',\n",
    "                                     'Footwear, allied products and other clothing accessories',\n",
    "                                     'Motor vehicles and parts',\n",
    "                                     'Furniture and fixtures',\n",
    "                                     'Electrical goods and other consumer durable goods, not elsewhere classified',\n",
    "                                     'Department stores',\n",
    "                                     'Jewellery, watches and clocks, and valuable gifts',\n",
    "                                     'Books, newspapers, stationery and gifts',\n",
    "                                     'Chinese drugs and herbs',\n",
    "                                     'Optical shops',\n",
    "                                     'Medicines and cosmetics',\n",
    "                                     'Other consumer goods, not elsewhere classified','Year']].groupby(['Year']).agg(\"sum\")"
   ]
  },
  {
   "cell_type": "code",
   "execution_count": null,
   "metadata": {},
   "outputs": [],
   "source": [
    "fig, ax = plt.subplots(figsize = (24,12))\n",
    "\n",
    "size = 0.3\n",
    "\n",
    "cmap = plt.get_cmap(\"tab20c\")\n",
    "outer_colors = sns.color_palette(\"GnBu\", 20)\n",
    "inner_colors = sns.color_palette(\"GnBu\", 20)\n",
    "\n",
    "ax.pie(sum_year__02_and_03_not_all.iloc[1], \n",
    "       radius=1,\n",
    "       labels=sum_year__02_and_03_not_all.columns, \n",
    "       wedgeprops=dict(width=size, edgecolor='w'),\n",
    "       colors=outer_colors,\n",
    "       autopct='%1.1f%%',\n",
    "       pctdistance=0.9)\n",
    "\n",
    "ax.pie(sum_year__02_and_03_not_all.iloc[0], \n",
    "       radius=1-size, \n",
    "       colors=inner_colors,\n",
    "       wedgeprops=dict(width=size, edgecolor='w'),\n",
    "       autopct='%1.1f%%',\n",
    "       pctdistance=0.9)\n",
    "\n",
    "ax.set(aspect=\"equal\", title='2003 (outer circle) vs 2002 (inner circle) Retail Sales by Category')\n",
    "plt.show()"
   ]
  },
  {
   "cell_type": "code",
   "execution_count": null,
   "metadata": {},
   "outputs": [],
   "source": [
    "'Focus on the 2003 and 2004 years to make a comparison'\n",
    "\n",
    "retail_03_and_04 = retail[retail['Year'].isin(['2003','2004'])]\n",
    "retail_03_and_04_not_all = retail_03_and_04.drop(columns=['All retail outlets'])\n",
    "sum_year__03_and_04_not_all = retail_03_and_04_not_all[['Fish, livestock and poultry, fresh or frozen',\n",
    "                                     'Fruits and vegetables, fresh',\n",
    "                                     'Bread, pastry, confectionery and biscuits',\n",
    "                                     'Other food, not elsewhere classified',\n",
    "                                     'Alcoholic drinks and tobacco',\n",
    "                                     'Supermarkets',\n",
    "                                     'Fuels',\n",
    "                                     'Wearing apparel',\n",
    "                                     'Footwear, allied products and other clothing accessories',\n",
    "                                     'Motor vehicles and parts',\n",
    "                                     'Furniture and fixtures',\n",
    "                                     'Electrical goods and other consumer durable goods, not elsewhere classified',\n",
    "                                     'Department stores',\n",
    "                                     'Jewellery, watches and clocks, and valuable gifts',\n",
    "                                     'Books, newspapers, stationery and gifts',\n",
    "                                     'Chinese drugs and herbs',\n",
    "                                     'Optical shops',\n",
    "                                     'Medicines and cosmetics',\n",
    "                                     'Other consumer goods, not elsewhere classified','Year']].groupby(['Year']).agg(\"sum\")"
   ]
  },
  {
   "cell_type": "code",
   "execution_count": null,
   "metadata": {},
   "outputs": [],
   "source": [
    "fig, ax = plt.subplots(figsize = (24,12))\n",
    "\n",
    "size = 0.3\n",
    "\n",
    "cmap = plt.get_cmap(\"tab20c\")\n",
    "outer_colors = sns.color_palette(\"GnBu\", 20)\n",
    "inner_colors = sns.color_palette(\"GnBu\", 20)\n",
    "\n",
    "ax.pie(sum_year__03_and_04_not_all.iloc[1], \n",
    "       radius=1,\n",
    "       labels=sum_year__03_and_04_not_all.columns, \n",
    "       wedgeprops=dict(width=size, edgecolor='w'),\n",
    "       colors=outer_colors,\n",
    "       autopct='%1.1f%%',\n",
    "       pctdistance=0.9)\n",
    "\n",
    "ax.pie(sum_year__03_and_04_not_all.iloc[0], \n",
    "       radius=1-size, \n",
    "       colors=inner_colors,\n",
    "       wedgeprops=dict(width=size, edgecolor='w'),\n",
    "       autopct='%1.1f%%',\n",
    "       pctdistance=0.9)\n",
    "\n",
    "ax.set(aspect=\"equal\", title='2004 (outer circle) vs 2002 (inner circle) Retail Sales by Category')\n",
    "plt.show()"
   ]
  },
  {
   "cell_type": "code",
   "execution_count": null,
   "metadata": {},
   "outputs": [],
   "source": [
    "horeca = pd.read_excel('../data/Restaurant Clean.xlsx')\n",
    "horeca.head()"
   ]
  },
  {
   "cell_type": "code",
   "execution_count": null,
   "metadata": {},
   "outputs": [],
   "source": [
    "horeca = clean_year(horeca)\n",
    "plot_bar(horeca, \"HK Retail Sales - HK $\",'Total Horeca Receipts')"
   ]
  },
  {
   "cell_type": "code",
   "execution_count": null,
   "metadata": {},
   "outputs": [],
   "source": [
    "'Focus on the 2002 to 2005 period for a closer look'\n",
    "'Create a date column by concatenating Year and Month'\n",
    "\n",
    "horeca['Date'] = horeca['Year'].astype(str) + 'Q' + horeca['Quarter'].astype(str)\n",
    "horeca_02_to_05 = horeca[horeca['Year'].isin(['2002','2003','2004','2005'])]"
   ]
  },
  {
   "cell_type": "code",
   "execution_count": null,
   "metadata": {},
   "outputs": [],
   "source": [
    "plot_line(horeca_02_to_05, 'Total Horeca Receipts', \"Sales of Restaurants in Hong Kong ('000 # Receipts) - 2002-2005\")"
   ]
  },
  {
   "cell_type": "code",
   "execution_count": null,
   "metadata": {},
   "outputs": [],
   "source": [
    "def plot_indexation_quarter(df, col_name, yaxis_label, title):\n",
    "\n",
    "    df_2002 = df[df['Year'].isin(['2002'])]\n",
    "    df_2003 = df[df['Year'].isin(['2003'])]\n",
    "    df_2004 = df[df['Year'].isin(['2004'])]\n",
    "\n",
    "    index_03vs02 = [int(tre/due*100) for tre,due in zip(df_2003[col_name],df_2002[col_name])]\n",
    "    index_04vs02 = [int(quattro/due*100) for quattro,due in zip(df_2004[col_name],df_2002[col_name])]\n",
    "\n",
    "    Quarter = ['Q1', 'Q2', 'Q3', 'Q4']\n",
    "    Flat = [100, 100, 100, 100]\n",
    "    data = {'Quarter': Quarter, 'Flat': Flat, '03 vs 02': index_03vs02, '04 vs 02': index_04vs02}\n",
    "    df = pd.DataFrame (data)\n",
    "\n",
    "    fig, ax = plt.subplots()\n",
    "\n",
    "    ax.plot(df['Quarter'],df[\"03 vs 02\"], label='03 vs 02', color=\"red\")\n",
    "    ax.plot(df['Quarter'],df[\"04 vs 02\"], label='04 vs 02', color=\"green\")\n",
    "    ax.plot(df['Quarter'],df[\"Flat\"], label='Flat', color=\"black\", linewidth=0.25)\n",
    "\n",
    "\n",
    "    ax.legend(loc=4) # upper left corner\n",
    "    ax.set_xlabel('Quarter', fontsize=18)\n",
    "    ax.set_ylabel(yaxis_label, fontsize=14)\n",
    "    ax.set_title(title);\n",
    "\n",
    "    return plt.show()"
   ]
  },
  {
   "cell_type": "code",
   "execution_count": null,
   "metadata": {},
   "outputs": [],
   "source": [
    "plot_indexation_quarter(horeca, 'Total Horeca Receipts', 'Index Month over Month 2002', 'Restaurant Sales Index Month over Month 2002')"
   ]
  },
  {
   "cell_type": "code",
   "execution_count": null,
   "metadata": {},
   "outputs": [],
   "source": [
    "'Focus on the 2002 and 2003 years to make a comparison'\n",
    "\n",
    "horeca_02_and_03 = horeca[horeca['Year'].isin(['2002','2003'])]\n",
    "horeca_02_and_03_not_all = horeca_02_and_03.drop(columns=['Total Horeca Receipts'])\n",
    "sum_year__02_and_03_not_all = horeca_02_and_03_not_all[['Chinese restaurants',\n",
    "                                                 'Non-Chinese restaurants',\n",
    "                                                 'Fast food shops',\n",
    "                                                 'Bars',\n",
    "                                                 'Miscellaneous eating and drinking places','Year']].groupby(['Year']).agg(\"sum\")\n"
   ]
  },
  {
   "cell_type": "code",
   "execution_count": null,
   "metadata": {},
   "outputs": [],
   "source": [
    "fig, ax = plt.subplots(figsize = (24,12))\n",
    "\n",
    "size = 0.3\n",
    "\n",
    "cmap = plt.get_cmap(\"tab20c\")\n",
    "outer_colors = sns.color_palette(\"GnBu\", 5)\n",
    "inner_colors = sns.color_palette(\"GnBu\", 5)\n",
    "\n",
    "ax.pie(sum_year__02_and_03_not_all.iloc[1], \n",
    "       radius=1,\n",
    "       labels=sum_year__02_and_03_not_all.columns, \n",
    "       wedgeprops=dict(width=size, edgecolor='w'),\n",
    "       colors=outer_colors,\n",
    "       autopct='%1.1f%%',\n",
    "       pctdistance=0.9)\n",
    "\n",
    "ax.pie(sum_year__02_and_03_not_all.iloc[0], \n",
    "       radius=1-size, \n",
    "       colors=inner_colors,\n",
    "       wedgeprops=dict(width=size, edgecolor='w'),\n",
    "       autopct='%1.1f%%',\n",
    "       pctdistance=0.9)\n",
    "\n",
    "ax.set(aspect=\"equal\", title='2003 (outer circle) vs 2002 (inner circle) Retail Sales by Category')\n",
    "plt.show()"
   ]
  },
  {
   "cell_type": "code",
   "execution_count": null,
   "metadata": {},
   "outputs": [],
   "source": [
    "'Focus on the 2003 and 2004 years to make a comparison'\n",
    "\n",
    "horeca_03_and_04 = horeca[horeca['Year'].isin(['2003','2004'])]\n",
    "horeca_03_and_04_not_all = horeca_03_and_04.drop(columns=['Total Horeca Receipts'])\n",
    "sum_year__03_and_04_not_all = horeca_03_and_04_not_all[['Chinese restaurants',\n",
    "                                                 'Non-Chinese restaurants',\n",
    "                                                 'Fast food shops',\n",
    "                                                 'Bars',\n",
    "                                                 'Miscellaneous eating and drinking places','Year']].groupby(['Year']).agg(\"sum\")\n"
   ]
  },
  {
   "cell_type": "code",
   "execution_count": null,
   "metadata": {},
   "outputs": [],
   "source": [
    "fig, ax = plt.subplots(figsize = (24,12))\n",
    "\n",
    "size = 0.3\n",
    "\n",
    "cmap = plt.get_cmap(\"tab20c\")\n",
    "outer_colors = sns.color_palette(\"GnBu\", 5)\n",
    "inner_colors = sns.color_palette(\"GnBu\", 5)\n",
    "\n",
    "ax.pie(sum_year__03_and_04_not_all.iloc[1], \n",
    "       radius=1,\n",
    "       labels=sum_year__03_and_04_not_all.columns, \n",
    "       wedgeprops=dict(width=size, edgecolor='w'),\n",
    "       colors=outer_colors,\n",
    "       autopct='%1.1f%%',\n",
    "       pctdistance=0.9)\n",
    "\n",
    "ax.pie(sum_year__03_and_04_not_all.iloc[0], \n",
    "       radius=1-size, \n",
    "       colors=inner_colors,\n",
    "       wedgeprops=dict(width=size, edgecolor='w'),\n",
    "       autopct='%1.1f%%',\n",
    "       pctdistance=0.9)\n",
    "\n",
    "ax.set(aspect=\"equal\", title='2004 (outer circle) vs 2002 (inner circle) Retail Sales by Category')\n",
    "plt.show()"
   ]
  },
  {
   "cell_type": "code",
   "execution_count": null,
   "metadata": {},
   "outputs": [],
   "source": [
    "house_sales = pd.read_excel('../data/HK House Prices Clean.xlsx')\n",
    "house_sales.head()"
   ]
  },
  {
   "cell_type": "code",
   "execution_count": null,
   "metadata": {},
   "outputs": [],
   "source": [
    "house_sales = clean_year(house_sales)\n",
    "plot_bar(house_sales, \"HK House Price for Sales\",'Average All Prices')"
   ]
  },
  {
   "cell_type": "code",
   "execution_count": null,
   "metadata": {},
   "outputs": [],
   "source": [
    "'Focus on the 2002 to 2005 period for a closer look'\n",
    "'Create a date column by concatenating Year and Month'\n",
    "\n",
    "house_sales['Date'] = house_sales['Year'].astype(str) + 'Q' + house_sales['Quarter'].astype(str)\n",
    "house_sales_02_to_05 = house_sales[house_sales['Year'].isin(['2002','2003','2004','2005'])]"
   ]
  },
  {
   "cell_type": "code",
   "execution_count": null,
   "metadata": {},
   "outputs": [],
   "source": [
    "plot_line(house_sales_02_to_05, 'Average All Prices', \"Sales of House in Hong Kong (# Sales) - 2002-2005\")"
   ]
  },
  {
   "cell_type": "code",
   "execution_count": null,
   "metadata": {},
   "outputs": [],
   "source": [
    "house_rent = pd.read_excel('../data/HK Rent Prices Clean.xlsx')\n",
    "house_rent.head()"
   ]
  },
  {
   "cell_type": "code",
   "execution_count": null,
   "metadata": {},
   "outputs": [],
   "source": [
    "house_rent = clean_year(house_rent)\n",
    "plot_bar(house_rent, \"HK House Price for Rent\",'Average Rent Prices')"
   ]
  },
  {
   "cell_type": "code",
   "execution_count": null,
   "metadata": {},
   "outputs": [],
   "source": [
    "'Focus on the 2002 to 2005 period for a closer look'\n",
    "'Create a date column by concatenating Year and Month'\n",
    "\n",
    "house_rent['Date'] = house_rent['Year'].astype(str) + 'Q' + house_rent['Quarter'].astype(str)\n",
    "house_rent_02_to_05 = house_rent[house_rent['Year'].isin(['2002','2003','2004','2005'])]"
   ]
  },
  {
   "cell_type": "code",
   "execution_count": null,
   "metadata": {},
   "outputs": [],
   "source": [
    "plot_line(house_rent_02_to_05, 'Average Rent Prices', \"Rent Price of House in Hong Kong - 2002-2005\")"
   ]
  },
  {
   "cell_type": "code",
   "execution_count": null,
   "metadata": {},
   "outputs": [],
   "source": [
    "retail_quarter = pd.read_excel('../data/Retail Clean Quarter.xlsx')\n",
    "retail_quarter.head()"
   ]
  },
  {
   "cell_type": "code",
   "execution_count": null,
   "metadata": {},
   "outputs": [],
   "source": [
    "retail_quarter['Date'] = retail_quarter['Year'].astype(str) + 'Q' + retail_quarter['Quarter'].astype(str)\n",
    "retail_02_to_19 = retail_quarter[retail_quarter['Year'].isin(['2002','2003','2004','2005','2006','2007','2008','2009','2010','2011','2012','2013','2014','2015','2016','2017','2018','2019'])]"
   ]
  },
  {
   "cell_type": "code",
   "execution_count": null,
   "metadata": {},
   "outputs": [],
   "source": [
    "horeca_02_to_19 = horeca[horeca['Year'].isin(['2002','2003','2004','2005','2006','2007','2008','2009','2010','2011','2012','2013','2014','2015','2016','2017','2018','2019'])]"
   ]
  },
  {
   "cell_type": "code",
   "execution_count": null,
   "metadata": {},
   "outputs": [],
   "source": [
    "house_sales_02_to_19 = house_sales[house_sales['Year'].isin(['2002','2003','2004','2005','2006','2007','2008','2009','2010','2011','2012','2013','2014','2015','2016','2017','2018','2019'])]"
   ]
  },
  {
   "cell_type": "code",
   "execution_count": null,
   "metadata": {},
   "outputs": [],
   "source": [
    "house_rent_02_to_19 = house_rent[house_rent['Year'].isin(['2002','2003','2004','2005','2006','2007','2008','2009','2010','2011','2012','2013','2014','2015','2016','2017','2018','2019'])]"
   ]
  },
  {
   "cell_type": "code",
   "execution_count": null,
   "metadata": {},
   "outputs": [],
   "source": [
    "mainframe = retail_02_to_19.merge(horeca_02_to_19, on='Date',suffixes=('', '_y'))\n",
    "mainframe=mainframe.drop(columns=['Year_y'])\n",
    "mainframe=mainframe.drop(columns=['Quarter_y'])\n"
   ]
  },
  {
   "cell_type": "code",
   "execution_count": null,
   "metadata": {},
   "outputs": [],
   "source": [
    "mainframe = mainframe.merge(house_sales_02_to_19, on='Date',suffixes=('', '_y'))\n",
    "mainframe=mainframe.drop(columns=['Year_y'])\n",
    "mainframe=mainframe.drop(columns=['Quarter_y'])"
   ]
  },
  {
   "cell_type": "code",
   "execution_count": null,
   "metadata": {},
   "outputs": [],
   "source": [
    "mainframe = mainframe.merge(house_rent_02_to_19, on='Date',suffixes=('', '_rent'))\n",
    "mainframe=mainframe.drop(columns=['Year_rent'])\n",
    "mainframe=mainframe.drop(columns=['Quarter_rent'])"
   ]
  },
  {
   "cell_type": "code",
   "execution_count": null,
   "metadata": {},
   "outputs": [],
   "source": [
    "mainframe.info()"
   ]
  },
  {
   "cell_type": "code",
   "execution_count": null,
   "metadata": {},
   "outputs": [],
   "source": [
    "\n",
    "    "
   ]
  },
  {
   "cell_type": "code",
   "execution_count": null,
   "metadata": {},
   "outputs": [],
   "source": [
    "corr_matrix = mainframe.corr()\n",
    "\n",
    "figsize=(11, 15)\n",
    "mask = np.zeros_like(corr_matrix, dtype=np.bool)\n",
    "mask[np.triu_indices_from(mask)]= True\n",
    "\n",
    "f, ax = plt.subplots() \n",
    "heatmap = sns.heatmap(corr_matrix, \n",
    "                      mask = mask,\n",
    "                      square = True,\n",
    "                      linewidths = .5,\n",
    "                      cmap = 'coolwarm',\n",
    "                      cbar_kws = {'shrink': .4, 'ticks': [-1, -.5, 0, 0.5, 1]},\n",
    "                      vmin = -1, \n",
    "                      vmax = 1,\n",
    "                      annot = True,\n",
    "                      annot_kws = {'size': 12})\n",
    "\n",
    "#add the column names as labels\n",
    "ax.set_yticklabels(corr_matrix.columns, rotation = 0)\n",
    "ax.set_xticklabels(corr_matrix.columns)\n",
    "sns.set_style({'xtick.bottom': True}, {'ytick.left': True})"
   ]
  },
  {
   "cell_type": "code",
   "execution_count": null,
   "metadata": {},
   "outputs": [],
   "source": [
    "def indexing(df, quarter_start, quarter_end):\n",
    "    \n",
    "    df['range'] = df['Date'].between(quarter_start, quarter_end, inclusive = True)\n",
    "    lmt_df = df[(df['range']==True)]\n",
    "    data = {'Quarter': lmt_df['Date']}\n",
    "    \n",
    "    index_frame = pd.DataFrame(data)\n",
    "    col_names = [col for col in lmt_df.columns]\n",
    "    col_names.remove('Year')\n",
    "    col_names.remove('Quarter')\n",
    "    col_names.remove('Date')\n",
    "    col_names\n",
    "\n",
    "    for elem in col_names:\n",
    "        index_frame[elem] = [int(num/lmt_df[elem].iloc[0]*100) for num in lmt_df[elem]]\n",
    "\n",
    "    return index_frame"
   ]
  },
  {
   "cell_type": "code",
   "execution_count": null,
   "metadata": {},
   "outputs": [],
   "source": [
    "indexing(mainframe,'2002Q1','2002Q4')"
   ]
  },
  {
   "cell_type": "code",
   "execution_count": null,
   "metadata": {},
   "outputs": [],
   "source": [
    "\n",
    "\n",
    "data = {'Quarter': mainframe['Date'].loc['2002Q1':'2002Q4']}\n",
    "print(data)"
   ]
  },
  {
   "cell_type": "code",
   "execution_count": null,
   "metadata": {},
   "outputs": [],
   "source": [
    "mainframe['data'] = mainframe['Date'].between('2002Q1','2002Q4', inclusive = True)\n",
    "\n",
    "limited_mainframe = mainframe[(mainframe['data']==True)]\n",
    "\n",
    "# Rest_Amsterdam = Rest_Amsterdam[(Rest_Amsterdam['rating'] < 6)]\n",
    "\n",
    "limited_mainframe"
   ]
  },
  {
   "cell_type": "code",
   "execution_count": null,
   "metadata": {},
   "outputs": [],
   "source": [
    "\n",
    "\n",
    "\n",
    "data = {'Quarter': mainframe['Date']}\n",
    "\n",
    "index_frame = pd.DataFrame(data)\n",
    "\n",
    "col_names = [col for col in mainframe.columns]\n",
    "col_names.remove('Year')\n",
    "col_names.remove('Quarter')\n",
    "col_names.remove('Date')\n",
    "col_names\n",
    "\n",
    "\n",
    "for elem in col_names:\n",
    "    index_frame[elem] = [int(sales/mainframe[elem].iloc[0]*100) for sales in mainframe[elem]]\n",
    "\n",
    "index_frame"
   ]
  },
  {
   "cell_type": "code",
   "execution_count": null,
   "metadata": {},
   "outputs": [],
   "source": [
    "sel_cat = [name for name in index_frame.columns]\n",
    "sel_cat.remove('Quarter')"
   ]
  },
  {
   "cell_type": "code",
   "execution_count": null,
   "metadata": {},
   "outputs": [],
   "source": [
    "@interact\n",
    "def Selection(Selection1=sel_cat, Selection2=sel_cat, Selection3=sel_cat, Selection4=sel_cat):\n",
    "    \n",
    "    fig, ax = plt.subplots(figsize=(20, 10))\n",
    "    ax.plot(index_frame['Quarter'],index_frame[Selection1], label=Selection1,color=\"green\")\n",
    "    ax.plot(index_frame['Quarter'],index_frame[Selection2], label=Selection2,color=\"blue\")\n",
    "    ax.plot(index_frame['Quarter'],index_frame[Selection3], label=Selection3,color=\"black\")\n",
    "    ax.plot(index_frame['Quarter'],index_frame[Selection4], label=Selection4,color=\"red\")\n",
    "    \n",
    "    plt.xticks(\n",
    "        rotation=45, \n",
    "        horizontalalignment='right',\n",
    "        fontweight='light',\n",
    "        fontsize='small'  \n",
    "    )\n",
    "    ax.legend(loc=2)\n",
    "    ax.set_xlabel('Quarter', fontsize=18)\n",
    "    ax.set_ylabel(\"Index vs Jan 2002\", fontsize=14)\n",
    "    "
   ]
  },
  {
   "cell_type": "code",
   "execution_count": null,
   "metadata": {},
   "outputs": [],
   "source": [
    "index_frame = indexing(mainframe, '2002Q2', '2010Q4')"
   ]
  },
  {
   "cell_type": "code",
   "execution_count": null,
   "metadata": {},
   "outputs": [],
   "source": [
    "@interact\n",
    "def Selection(Selection1=sel_cat, Selection2=sel_cat, Selection3=sel_cat, Selection4=sel_cat):\n",
    "    \n",
    "    fig, ax = plt.subplots(figsize=(20, 10))\n",
    "    ax.plot(index_frame['Quarter'],index_frame[Selection1], label=Selection1,color=\"green\")\n",
    "    ax.plot(index_frame['Quarter'],index_frame[Selection2], label=Selection2,color=\"blue\")\n",
    "    ax.plot(index_frame['Quarter'],index_frame[Selection3], label=Selection3,color=\"black\")\n",
    "    ax.plot(index_frame['Quarter'],index_frame[Selection4], label=Selection4,color=\"red\")\n",
    "    \n",
    "    plt.xticks(\n",
    "        rotation=45, \n",
    "        horizontalalignment='right',\n",
    "        fontweight='light',\n",
    "        fontsize='small'  \n",
    "    )\n",
    "    ax.legend(loc=2)\n",
    "    ax.set_xlabel('Quarter', fontsize=18)\n",
    "    ax.set_ylabel(\"Index vs Jan 2002\", fontsize=14)\n",
    "    \n",
    "    "
   ]
  },
  {
   "cell_type": "code",
   "execution_count": null,
   "metadata": {},
   "outputs": [],
   "source": []
  },
  {
   "cell_type": "code",
   "execution_count": null,
   "metadata": {},
   "outputs": [],
   "source": [
    "index_sales_retail = [int(sales/retail_02_to_05['All retail outlets'].iloc[0]*100) \n",
    "                      for sales  in retail_02_to_05['All retail outlets']]\n",
    "\n",
    "index_receipts_horeca = [int(sales/horeca_02_to_05['Total Horeca Receipts'].iloc[0]*100) \n",
    "                      for sales  in horeca_02_to_05['Total Horeca Receipts']]\n",
    "\n",
    "index_price_house_sales = [int(price/house_sales_02_to_05['Average All Prices'].iloc[0]*100) \n",
    "                      for price  in house_sales_02_to_05['Average All Prices']]\n",
    "\n",
    "index_price_house_rent = [int(price/house_rent_02_to_05['Average Rent Prices'].iloc[0]*100) \n",
    "                      for price  in house_rent_02_to_05['Average Rent Prices']]\n",
    "\n"
   ]
  },
  {
   "cell_type": "code",
   "execution_count": null,
   "metadata": {},
   "outputs": [],
   "source": [
    "Quarter = ['Q1 2002', 'Q2 2002', 'Q3 2002', 'Q4 2002','Q1 2003', 'Q2 2003', 'Q3 2003', 'Q4 2003',\n",
    "           'Q1 2004', 'Q2 2004', 'Q3 2004', 'Q4 2004', 'Q1 2005', 'Q2 2005', 'Q3 2005', 'Q4 2005']\n",
    "data = {'Quarter': Quarter,'Retail Sales': index_sales_retail , 'Horeca Receipts': index_receipts_horeca,\n",
    "        'House Prices': index_price_house_sales, 'Rent Prices': index_price_house_rent}\n",
    "df = pd.DataFrame (data)\n",
    "df"
   ]
  },
  {
   "cell_type": "code",
   "execution_count": null,
   "metadata": {},
   "outputs": [],
   "source": [
    "fig, ax = plt.subplots()\n",
    "\n",
    "ax.plot(df['Quarter'],df[\"Retail Sales\"], label='Retail Sales', color=\"red\")\n",
    "ax.plot(df['Quarter'],df[\"Horeca Receipts\"], label='Horeca Receipts', color=\"green\")\n",
    "ax.plot(df['Quarter'],df[\"House Prices\"], label='House Prices', color=\"black\")\n",
    "ax.plot(df['Quarter'],df[\"Rent Prices\"], label='Rent Prices', color=\"grey\")\n",
    "\n",
    "\n",
    "\n",
    "ax.legend(loc=4) # upper left corner\n",
    "ax.set_xlabel('Quarter', fontsize=18)\n",
    "ax.set_ylabel(\"Index vs Jan 2002\", fontsize=14)\n",
    "ax.set_title(\"Retail, Horeca Sales & House and Rent Prices - Hong Kong 2002 - 2005 (Index vs Q1 2002)\");\n",
    "\n",
    "plt.show()"
   ]
  },
  {
   "cell_type": "code",
   "execution_count": null,
   "metadata": {},
   "outputs": [],
   "source": [
    "index_sales_super = [int(sales/retail_02_to_05['Supermarkets'].iloc[0]*100) \n",
    "                      for sales  in retail_02_to_05['Supermarkets']]\n",
    "\n",
    "index_sales_medicines = [int(sales/retail_02_to_05['Medicines and cosmetics'].iloc[0]*100) \n",
    "                      for sales  in retail_02_to_05['Medicines and cosmetics']]\n",
    "\n",
    "index_receipts_fast_food = [int(sales/horeca_02_to_05['Fast food shops'].iloc[0]*100) \n",
    "                      for sales  in horeca_02_to_05['Fast food shops']]\n",
    "\n",
    "index_receipts_chinese = [int(sales/horeca_02_to_05['Chinese restaurants'].iloc[0]*100) \n",
    "                      for sales  in horeca_02_to_05['Chinese restaurants']]\n",
    "\n"
   ]
  },
  {
   "cell_type": "code",
   "execution_count": null,
   "metadata": {},
   "outputs": [],
   "source": [
    "Quarter = ['Q1 2002', 'Q2 2002', 'Q3 2002', 'Q4 2002','Q1 2003', 'Q2 2003', 'Q3 2003', 'Q4 2003',\n",
    "           'Q1 2004', 'Q2 2004', 'Q3 2004', 'Q4 2004', 'Q1 2005', 'Q2 2005', 'Q3 2005', 'Q4 2005']\n",
    "data = {'Quarter': Quarter,'Supermarkets Sales': index_sales_super , 'Medicines & Cosmetics': index_sales_medicines,\n",
    "        'Fast Food Sales': index_receipts_fast_food, 'Chinese Restaurant Sales': index_receipts_chinese}\n",
    "df = pd.DataFrame (data)\n",
    "df"
   ]
  },
  {
   "cell_type": "code",
   "execution_count": null,
   "metadata": {},
   "outputs": [],
   "source": [
    "fig, ax = plt.subplots()\n",
    "\n",
    "ax.plot(df['Quarter'],df[\"Supermarkets Sales\"], label='Supermarket Sales', color=\"red\")\n",
    "ax.plot(df['Quarter'],df[\"Medicines & Cosmetics\"], label='Medicines & Cosmetics Sales', color=\"green\")\n",
    "ax.plot(df['Quarter'],df[\"Fast Food Sales\"], label='Fast Food Sales', color=\"black\")\n",
    "ax.plot(df['Quarter'],df[\"Chinese Restaurant Sales\"], label='Chinese Restaurant Sales', color=\"grey\")\n",
    "\n",
    "\n",
    "\n",
    "ax.legend(loc=4) # upper left corner\n",
    "ax.set_xlabel('Quarter', fontsize=18)\n",
    "ax.set_ylabel(\"Index vs Jan 2002\", fontsize=14)\n",
    "ax.set_title(\"Retail, Horeca Sales & House and Rent Prices - Hong Kong 2002 - 2005 (Index vs Q1 2002)\");\n",
    "\n"
   ]
  },
  {
   "cell_type": "code",
   "execution_count": null,
   "metadata": {},
   "outputs": [],
   "source": [
    "@interact\n",
    "def Selection(Selection1=sel_cat, Selection2=sel_cat):\n",
    "    \n",
    "    cmap = sns.cubehelix_palette(dark=.3, light=.8, as_cmap=True)\n",
    "    sizes=[100,200,300,400]\n",
    "    fig, ax = plt.subplots(figsize=(20, 10))\n",
    "    sns.scatterplot(data=mainframe, x=Selection1,y=Selection2, hue = 'Year', size = 'Quarter', palette=\"Set2\", sizes=sizes) \n",
    "    "
   ]
  },
  {
   "cell_type": "code",
   "execution_count": null,
   "metadata": {},
   "outputs": [],
   "source": []
  }
 ],
 "metadata": {
  "kernelspec": {
   "display_name": "Python 3",
   "language": "python",
   "name": "python3"
  },
  "language_info": {
   "codemirror_mode": {
    "name": "ipython",
    "version": 3
   },
   "file_extension": ".py",
   "mimetype": "text/x-python",
   "name": "python",
   "nbconvert_exporter": "python",
   "pygments_lexer": "ipython3",
   "version": "3.7.6"
  }
 },
 "nbformat": 4,
 "nbformat_minor": 4
}
