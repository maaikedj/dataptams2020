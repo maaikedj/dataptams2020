{
 "cells": [
  {
   "cell_type": "markdown",
   "metadata": {
    "Collapsed": "false",
    "colab_type": "text",
    "id": "-nsF8MUeG8bF"
   },
   "source": [
    "# Continuous Probability Distributions"
   ]
  },
  {
   "cell_type": "markdown",
   "metadata": {
    "Collapsed": "false",
    "colab_type": "text",
    "id": "qIEPXS04G_UT"
   },
   "source": [
    "## Introduction\n",
    "\n",
    "In the field of probability, a distribution function is a function that maps numerical values to probabilities. Typically, all outcomes in the sample space will have a probability associated with them. There are two types of probability distribution functions - continuous and discrete. In this lesson we will focus on continuous distributions.\n",
    "\n",
    "Continuous probability is distributed in a range. **To calculate the probability, we compute the total area under the distribution curve of the sample space.** At a given point of the curve, the area is approximately zero. It should be noted that we can convert a continuous distribution to discrete distribution by converting the smooth curve into multiple bins where each bin represents the probability value of a certain range. See image below for example: "
   ]
  },
  {
   "cell_type": "markdown",
   "metadata": {
    "Collapsed": "false",
    "colab_type": "text",
    "id": "sDUYAjBXHFGP"
   },
   "source": [
    "\n",
    "[Link to the Image here](https://commons.wikimedia.org/wiki/File:Compound_Interest_with_Varying_Frequencies.svg#/media/File:Compound_Interest_with_Varying_Frequencies.svg)\n"
   ]
  },
  {
   "cell_type": "markdown",
   "metadata": {
    "Collapsed": "false",
    "colab_type": "text",
    "id": "85HPRAJ23wI5"
   },
   "source": [
    "## Range and Domain\n",
    "\n",
    "Before we move on, let us have a look at two important concepts in mathematics. \n",
    "\n",
    "- **Domain**: The domain of a function is the set of values for which the function is defined.\n",
    "\n",
    "- **Range**: The set of all values a function can take. \n",
    "\n",
    "This is exemplified below:\n",
    "\n",
    "![alt text](https://s3-us-west-2.amazonaws.com/courses-images-archive-read-only/wp-content/uploads/sites/924/2015/11/25200622/CNX_Precalc_Figure_01_02_0062.jpg)"
   ]
  },
  {
   "cell_type": "markdown",
   "metadata": {
    "Collapsed": "false",
    "colab_type": "text",
    "id": "4F-QZkBJJIn1"
   },
   "source": [
    "## Continuous Random Variables\n",
    "\n",
    "Continuous distributions come from continuous random variables. For these random variables, **the set of possible values is uncountable**. They are defined by probability density functions (PDF). We say $X$ is a continuous random variable if there exists a non-negative function $f (x)$ defined for all $x ∈ B$, where $B$ is a set of [real numbers](https://en.wikipedia.org/wiki/Real_number) in  $(−\\infty,\\infty)$.\n",
    "\n",
    "$$P(X \\in B) = \\int_{B} f(x) dx.$$\n",
    "\n",
    "To explain a little deeper, let B be defined as an interval  $[a, b]$:\n",
    "\n",
    "$$P(a \\leq X \\leq b) = \\int_{b}^{a} f(x) dx.$$\n",
    "\n",
    "If we let a = b in the preceding formula, then: \n",
    "\n",
    "$$P(X = a) = \\int_{a}^{a} f(x) dx = 0.$$\n",
    "\n",
    "In words, this equation states that **the probability that a continuous random variable will assume any particular value is zero.**\n"
   ]
  },
  {
   "cell_type": "markdown",
   "metadata": {
    "Collapsed": "false",
    "colab_type": "text",
    "id": "cSZx_TzANghP"
   },
   "source": [
    "![alt text](https://work.thaslwanter.at/Stats/html/_images/PDF.png)"
   ]
  },
  {
   "cell_type": "markdown",
   "metadata": {
    "Collapsed": "false",
    "colab_type": "text",
    "id": "5ZVk3O6Y_NOV"
   },
   "source": [
    "## Cumulative Distribution Function"
   ]
  },
  {
   "cell_type": "markdown",
   "metadata": {
    "Collapsed": "false",
    "colab_type": "text",
    "id": "eTXSgBC1_H0A"
   },
   "source": [
    "\n",
    "\n",
    "Recall the following example from a previous lecture:\n",
    "\n",
    "*   $P(X = 1) = 1/6$\n",
    "*   $P(X = 2) = 1/6$\n",
    "*   $P(X = 3) = 1/6$\n",
    "*   $P(X = 4) = 1/6$\n",
    "*   $P(X = 5) = 1/6$\n",
    "*   $P(X = 6) = 1/6$\n",
    "\n",
    "As discussed before, this table outlines the probability of throwing a particular number using a fair dice. Now suppose we are playing a board game and that we are not interested in the probability of throwing any of the numbers above, but only about the probability that we throw above (or below a certain number). We can define this as:\n",
    "\n",
    "$$F(A) = P(X \\leq x),$$\n",
    "\n",
    "where $x$ is a particular number. Then, the cumulative probability as defined here gives the probability that the random variable is less than or equal to $x$. \n",
    "\n",
    "The cumulative probability distribution can then be defined as follows:\n",
    "\n",
    "*   $P(X \\leq 1) = 1/6$\n",
    "*   $P(X \\leq 2) = 2/6$\n",
    "*   $P(X \\leq 3) = 3/6$\n",
    "*   $P(X \\leq 4) = 4/6$\n",
    "*   $P(X \\leq 5) = 5/6$\n",
    "*   $P(X \\leq 6) = 6/6$\n",
    "\n",
    "\n"
   ]
  },
  {
   "cell_type": "markdown",
   "metadata": {
    "Collapsed": "false",
    "colab_type": "text",
    "id": "o31rFnizKpWR"
   },
   "source": [
    "### Cumulative Distribution Formal Defintion\n",
    "\n",
    "A cumulative distribution is defined as: \n",
    "\n",
    "$$F(A) = P(X \\in (-\\infty, a]) = \\int_{-\\infty}^{a} f(x) dx.$$\n",
    "\n",
    "Some important properties of CDF are as follows:\n",
    "\n",
    "- It is a continuously increasing function (non-decreasing);\n",
    "- Range of values lies between [0,1];\n",
    "- Differentiating CDF gives PDF.\n",
    "\n"
   ]
  },
  {
   "cell_type": "markdown",
   "metadata": {
    "Collapsed": "false",
    "colab_type": "text",
    "id": "tX0CUoHj8xFF"
   },
   "source": [
    "![alt text](http://work.thaslwanter.at/Stats/html/_images/PDF_CDF.png)"
   ]
  },
  {
   "cell_type": "markdown",
   "metadata": {
    "Collapsed": "false",
    "colab_type": "text",
    "id": "hgnutviTLasr"
   },
   "source": [
    "## Common Continuous Distributions\n",
    "\n",
    "Now we will discuss some common types of continuous distributions.\n"
   ]
  },
  {
   "cell_type": "markdown",
   "metadata": {
    "Collapsed": "false",
    "colab_type": "text",
    "id": "EWPAUkD_LhyF"
   },
   "source": [
    "### Uniform Distribution\n",
    "\n",
    "Uniform distribution is defined by the following function:\n",
    "\n",
    "$$f(x)=\n",
    "    \\begin{cases}\n",
    "      1, & \\text{if}\\ 0 < x < 1 \\\\\n",
    "      0, & \\text{otherwise}\n",
    "    \\end{cases}$$\n",
    "\n",
    "A more general definition is given as follows where x is not just restricted between 0 and 1:\n",
    "\n",
    "$$f(x)=\n",
    "    \\begin{cases}\n",
    "      \\frac{1}{\\beta - \\alpha}, & \\text{if}\\ \\alpha < x < \\beta \\\\\n",
    "      0, & \\text{otherwise}\n",
    "    \\end{cases}$$\n",
    "\n",
    "*Note: The range of values on which the function is defined is called the domain whereas the values of the function mapped to the domain is called range.*"
   ]
  },
  {
   "cell_type": "markdown",
   "metadata": {
    "Collapsed": "false",
    "colab_type": "text",
    "id": "KYgvDIl-ObBY"
   },
   "source": [
    "- Domain for x is  (-∞, ∞)\n",
    "- Range is 0, 1\n",
    "- Parameters: a, b\n",
    "\n",
    "**One of the most common applications of uniform numbers is to generate random numbers without any bias.** The probability of obtaining an unbiased random number in the range (a,b) is always constant.\n",
    "\n",
    "*NOTE: The uniform distribution can also be discrete. Consider the example of rolling a die. Probability of each event happening is the same (1/6).*\n",
    "\n",
    "Standard Uniform Distribution in Python code example:"
   ]
  },
  {
   "cell_type": "code",
   "execution_count": null,
   "metadata": {
    "Collapsed": "false",
    "colab": {},
    "colab_type": "code",
    "id": "CQKlnWczLaLT"
   },
   "outputs": [],
   "source": [
    "import numpy as np\n",
    "from scipy.stats import uniform\n",
    "import matplotlib.pyplot as plt"
   ]
  },
  {
   "cell_type": "code",
   "execution_count": null,
   "metadata": {
    "Collapsed": "false",
    "colab": {
     "base_uri": "https://localhost:8080/",
     "height": 282
    },
    "colab_type": "code",
    "executionInfo": {
     "elapsed": 765,
     "status": "ok",
     "timestamp": 1585245625070,
     "user": {
      "displayName": "Louk Smalbil",
      "photoUrl": "https://lh3.googleusercontent.com/a-/AOh14GiByqcfGW98Bn42uapsD4oj4auyrLV9xURPKHUj=s64",
      "userId": "10422991521784029462"
     },
     "user_tz": -60
    },
    "id": "rV41arKfO17j",
    "outputId": "a9fed188-6bdd-4ffa-91af-76376fd72bee"
   },
   "outputs": [],
   "source": [
    "fig, ax = plt.subplots(1, 1)\n",
    "x = np.linspace(0,1, 100)\n",
    "ax.plot(x, uniform.pdf(x))"
   ]
  },
  {
   "cell_type": "markdown",
   "metadata": {
    "Collapsed": "false",
    "colab_type": "text",
    "id": "NWZEny3VJYsy"
   },
   "source": [
    "Uniform Distribution between point (a,b):"
   ]
  },
  {
   "cell_type": "code",
   "execution_count": null,
   "metadata": {
    "Collapsed": "false",
    "colab": {
     "base_uri": "https://localhost:8080/",
     "height": 282
    },
    "colab_type": "code",
    "executionInfo": {
     "elapsed": 753,
     "status": "ok",
     "timestamp": 1585245670733,
     "user": {
      "displayName": "Louk Smalbil",
      "photoUrl": "https://lh3.googleusercontent.com/a-/AOh14GiByqcfGW98Bn42uapsD4oj4auyrLV9xURPKHUj=s64",
      "userId": "10422991521784029462"
     },
     "user_tz": -60
    },
    "id": "C7dKRyv0G5DX",
    "outputId": "0102f612-1f76-4765-8ca4-bde7b67d6953"
   },
   "outputs": [],
   "source": [
    "fig, ax = plt.subplots(1, 1)\n",
    "a=1\n",
    "b=6\n",
    "x = np.linspace(a,b, 100)\n",
    "y = uniform.pdf(x, a, b)\n",
    "ax.plot(x, y)"
   ]
  },
  {
   "cell_type": "markdown",
   "metadata": {
    "Collapsed": "false",
    "colab_type": "text",
    "id": "8Hn6EXX9PKnA"
   },
   "source": [
    "## Normal Distributions (Gaussian)\n",
    "\n",
    "Normal Distribution is also known as the bell shaped curve. The distribution function is defined as:\n",
    "\n",
    "$$f(x) = \\frac{1}{\\sqrt{2 \\pi \\sigma}} e^{-(x-\\mu)^{2}/2 \\sigma^{2}}$$"
   ]
  },
  {
   "cell_type": "markdown",
   "metadata": {
    "Collapsed": "false",
    "colab_type": "text",
    "id": "LFC1XBcu4Wtw"
   },
   "source": [
    "- Domain: Any real number \n",
    "- Range: Any real number\n",
    "- Parameters: mean, sd "
   ]
  },
  {
   "cell_type": "markdown",
   "metadata": {
    "Collapsed": "false",
    "colab_type": "text",
    "id": "sLPsxY974mmI"
   },
   "source": [
    "Some important properties of normal distribution are:\n",
    "\n",
    "- It is symmetrical about the mean\n",
    "- Total area under the curve is 1\n",
    "- The parameters and determine the shape of the curve\n",
    "- Mean and standard deviation can take on any real number\n",
    "- When =0 and =1, it is called a Standard Normal Deviation\n",
    "\n",
    "Python code example:\n",
    "\n"
   ]
  },
  {
   "cell_type": "code",
   "execution_count": null,
   "metadata": {
    "Collapsed": "false",
    "colab": {},
    "colab_type": "code",
    "id": "tKGmhdDs4zEs"
   },
   "outputs": [],
   "source": [
    "import math\n",
    "from scipy.stats import norm"
   ]
  },
  {
   "cell_type": "code",
   "execution_count": null,
   "metadata": {
    "Collapsed": "false",
    "colab": {
     "base_uri": "https://localhost:8080/",
     "height": 265
    },
    "colab_type": "code",
    "executionInfo": {
     "elapsed": 1156,
     "status": "ok",
     "timestamp": 1585245867158,
     "user": {
      "displayName": "Louk Smalbil",
      "photoUrl": "https://lh3.googleusercontent.com/a-/AOh14GiByqcfGW98Bn42uapsD4oj4auyrLV9xURPKHUj=s64",
      "userId": "10422991521784029462"
     },
     "user_tz": -60
    },
    "id": "fOr3I4Lk42q6",
    "outputId": "23ea6773-93d9-4160-a62e-b78034f1c26c"
   },
   "outputs": [],
   "source": [
    "normal = norm(0, math.sqrt(9)) \n",
    "fig, ax = plt.subplots(1, 1)\n",
    "x = np.linspace(-3,3,1000)\n",
    "y = norm.pdf(x)\n",
    "ax.plot(x,y)\n",
    "plt.show()"
   ]
  },
  {
   "cell_type": "code",
   "execution_count": null,
   "metadata": {
    "Collapsed": "false",
    "colab": {
     "base_uri": "https://localhost:8080/",
     "height": 34
    },
    "colab_type": "code",
    "executionInfo": {
     "elapsed": 493,
     "status": "ok",
     "timestamp": 1585245896771,
     "user": {
      "displayName": "Louk Smalbil",
      "photoUrl": "https://lh3.googleusercontent.com/a-/AOh14GiByqcfGW98Bn42uapsD4oj4auyrLV9xURPKHUj=s64",
      "userId": "10422991521784029462"
     },
     "user_tz": -60
    },
    "id": "bx0PVoAq46vH",
    "outputId": "1b9907de-e0d3-438b-dfbd-cd2f7cb1e3b5"
   },
   "outputs": [],
   "source": [
    "# Print the probabiliy of 4\n",
    "print(normal.pdf(3))"
   ]
  },
  {
   "cell_type": "code",
   "execution_count": null,
   "metadata": {
    "Collapsed": "false",
    "colab": {
     "base_uri": "https://localhost:8080/",
     "height": 34
    },
    "colab_type": "code",
    "executionInfo": {
     "elapsed": 623,
     "status": "ok",
     "timestamp": 1585245911626,
     "user": {
      "displayName": "Louk Smalbil",
      "photoUrl": "https://lh3.googleusercontent.com/a-/AOh14GiByqcfGW98Bn42uapsD4oj4auyrLV9xURPKHUj=s64",
      "userId": "10422991521784029462"
     },
     "user_tz": -60
    },
    "id": "iznAoKH_5H9B",
    "outputId": "5270dc61-0152-4bea-c572-2620c0034693"
   },
   "outputs": [],
   "source": [
    "# Print the probability that X \\leq 2\n",
    "print(normal.cdf(2))     "
   ]
  },
  {
   "cell_type": "code",
   "execution_count": null,
   "metadata": {
    "Collapsed": "false",
    "colab": {
     "base_uri": "https://localhost:8080/",
     "height": 34
    },
    "colab_type": "code",
    "executionInfo": {
     "elapsed": 485,
     "status": "ok",
     "timestamp": 1585245941182,
     "user": {
      "displayName": "Louk Smalbil",
      "photoUrl": "https://lh3.googleusercontent.com/a-/AOh14GiByqcfGW98Bn42uapsD4oj4auyrLV9xURPKHUj=s64",
      "userId": "10422991521784029462"
     },
     "user_tz": -60
    },
    "id": "cAEjeLVf5T46",
    "outputId": "90b8d48b-121c-413b-b915-3768cd5be4a7"
   },
   "outputs": [],
   "source": [
    "# Draw a random sample\n",
    "print(normal.rvs()) "
   ]
  },
  {
   "cell_type": "markdown",
   "metadata": {
    "Collapsed": "false",
    "colab_type": "text",
    "id": "KTJOsiJM46Ge"
   },
   "source": [
    "## Exponential Distribution\n",
    "\n",
    "Exponential Distribution function is defined as: \n",
    "\n",
    "\n",
    "$$f(x)=\n",
    "    \\begin{cases}\n",
    "      \\lambda e^{-\\lambda x}, & \\text{if}\\ x \\geq 0 \\\\\n",
    "      0, & \\text{otherwise}\n",
    "    \\end{cases}$$\n",
    "\n",
    "- Domain: Any real number\n",
    "- Range: Non Negative real numbers\n",
    "- Parameter: lambda\n",
    "\n",
    "![alt text](https://upload.wikimedia.org/wikipedia/commons/thumb/0/02/Exponential_probability_density.svg/1200px-Exponential_probability_density.svg.png)\n",
    "\n",
    "CDF is given as: \n",
    "\n",
    "$$F(A) = 1 - e^{-\\lambda a}$$\n",
    "\n",
    "**The exponential distribution is often concerned with the amount of time until some specific event occurs. For instance, the amount of time customers spend in a store, arrival of buses at the station, the amount of time customers spend on a website, etc.** The distributions of these time measures are often exponential. \n",
    "\n",
    "\n"
   ]
  },
  {
   "cell_type": "markdown",
   "metadata": {
    "Collapsed": "false",
    "colab_type": "text",
    "id": "X3ZrxttW6wz_"
   },
   "source": [
    "Python code example:\n"
   ]
  },
  {
   "cell_type": "code",
   "execution_count": null,
   "metadata": {
    "Collapsed": "false",
    "colab": {},
    "colab_type": "code",
    "id": "b3O1w3gq60cF"
   },
   "outputs": [],
   "source": [
    "from scipy.stats import expon"
   ]
  },
  {
   "cell_type": "code",
   "execution_count": null,
   "metadata": {
    "Collapsed": "false",
    "colab": {
     "base_uri": "https://localhost:8080/",
     "height": 282
    },
    "colab_type": "code",
    "executionInfo": {
     "elapsed": 489,
     "status": "ok",
     "timestamp": 1585246062600,
     "user": {
      "displayName": "Louk Smalbil",
      "photoUrl": "https://lh3.googleusercontent.com/a-/AOh14GiByqcfGW98Bn42uapsD4oj4auyrLV9xURPKHUj=s64",
      "userId": "10422991521784029462"
     },
     "user_tz": -60
    },
    "id": "0clLsL_D6ygf",
    "outputId": "5ba750f4-04af-40f8-839e-66f742191a2c"
   },
   "outputs": [],
   "source": [
    "\"\"\"\n",
    "N.B. \"A common parameterization for expon is in terms of the rate parameter \n",
    "lambda, such that pdf = lambda * exp(-lambda * x). This parameterization \n",
    "corresponds to using scale = 1 / lambda.\" (SciPy documentation)\n",
    "\"\"\"\n",
    "exp = expon(1) \n",
    "x = np.linspace(0,10,100)\n",
    "y = expon.pdf(x, 0, 1)\n",
    "fig, ax = plt.subplots(1, 1)\n",
    "ax.plot(x,y)"
   ]
  },
  {
   "cell_type": "code",
   "execution_count": null,
   "metadata": {
    "Collapsed": "false",
    "colab": {
     "base_uri": "https://localhost:8080/",
     "height": 51
    },
    "colab_type": "code",
    "executionInfo": {
     "elapsed": 722,
     "status": "ok",
     "timestamp": 1585246081355,
     "user": {
      "displayName": "Louk Smalbil",
      "photoUrl": "https://lh3.googleusercontent.com/a-/AOh14GiByqcfGW98Bn42uapsD4oj4auyrLV9xURPKHUj=s64",
      "userId": "10422991521784029462"
     },
     "user_tz": -60
    },
    "id": "SaBNopHL67UM",
    "outputId": "9e5ecd66-4356-4340-8d1a-6f72cb8b7214"
   },
   "outputs": [],
   "source": [
    "print(exp.pdf(4))\n",
    "print(exp.cdf(2))       \n",
    "#print(exp.rvs()) "
   ]
  },
  {
   "cell_type": "markdown",
   "metadata": {
    "Collapsed": "false",
    "colab_type": "text",
    "id": "QFC9g3pH7d_v"
   },
   "source": [
    "## Summary\n",
    "\n",
    "In this lesson we learned about continuous random variable and continuous probability distributions including continuous uniform, normal, and exponential distribution. We learn how to characterize distributions by their PDF (probability density function), CDF (cumulative distribution function) and its parameters. We also looked at how to generate this random variables from a distribution and calculate some statistics using SciPy.\n",
    "\n",
    "Additional Resources:\n",
    "\n",
    "\n",
    "\n",
    "*   https://www.statisticshowto.datasciencecentral.com/cumulative-distribution-function/\n",
    "*   https://www.youtube.com/watch?v=OWSOhpS00_s\n",
    "* https://wiki.ubc.ca/1.4_The_Cumulative_Distribution_Function\n",
    "* https://towardsdatascience.com/probability-concepts-explained-probability-distributions-introduction-part-3-4a5db81858dc\n",
    "* https://medium.com/@srowen/common-probability-distributions-347e6b945ce4\n",
    "* https://machinelearningmastery.com/continuous-probability-distributions-for-machine-learning/\n",
    "\n"
   ]
  },
  {
   "cell_type": "code",
   "execution_count": null,
   "metadata": {
    "Collapsed": "false",
    "colab": {},
    "colab_type": "code",
    "id": "jQLYP_oAl-s3"
   },
   "outputs": [],
   "source": []
  }
 ],
 "metadata": {
  "colab": {
   "authorship_tag": "ABX9TyOU6wJFuBXXCDcHBKcSeKyR",
   "collapsed_sections": [],
   "name": "Continuous_Probability_Distributions.ipynb",
   "provenance": []
  },
  "kernelspec": {
   "display_name": "Python 3",
   "language": "python",
   "name": "python3"
  },
  "language_info": {
   "codemirror_mode": {
    "name": "ipython",
    "version": 3
   },
   "file_extension": ".py",
   "mimetype": "text/x-python",
   "name": "python",
   "nbconvert_exporter": "python",
   "pygments_lexer": "ipython3",
   "version": "3.7.4"
  }
 },
 "nbformat": 4,
 "nbformat_minor": 4
}
