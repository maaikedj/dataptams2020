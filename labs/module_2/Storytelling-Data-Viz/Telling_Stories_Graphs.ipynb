{
 "cells": [
  {
   "cell_type": "markdown",
   "metadata": {
    "colab_type": "text",
    "id": "oNIki0gAp3Z1"
   },
   "source": [
    "# Telling Stories using Graphs\n"
   ]
  },
  {
   "cell_type": "markdown",
   "metadata": {
    "colab_type": "text",
    "id": "Opsx6KcWp_qZ"
   },
   "source": [
    "## Introduction\n",
    "\n",
    "There is an old saying that states, a picture is worth a thousand words. People have been using pictures to tell stories and sell ideas for over a century. As data analysts or data scientists today, we are not limited to conducting analysis on data. We also want to use data to help us tell stories. People who can and have the patience to understand complex data are very few. Therefore, we need to use the \"picture\" way to tell our stories to people so that they can \"see\" complex data in the way we expect.\n",
    "\n",
    "In this lesson we will first review two main principles of good storytelling with data visualization. Then we will examine the different types of relationships between data and the most appropriate choice of chart to visually represent each type of relationship."
   ]
  },
  {
   "cell_type": "markdown",
   "metadata": {
    "colab_type": "text",
    "id": "aAlzLMERqEWZ"
   },
   "source": [
    "## Some Real Life and Current Examples\n",
    "\n",
    "Before, we discussed Interactive Data Visualisation and saw how interactive data visualisations can be a powerful tool to convey as message. Let us have a look at the following examples:\n",
    "\n",
    "\n",
    "1.   https://ourworldindata.org/coronavirus\n",
    "2.   https://ourworldindata.org/co2-and-other-greenhouse-gas-emissions\n",
    "3.   https://graphics.reuters.com/ENVIRONMENT-PLASTIC/0100B275155/index.html\n",
    "4.   https://informationisbeautiful.net/beautifulnews/\n",
    "\n",
    "\n",
    "\n",
    "\n"
   ]
  },
  {
   "cell_type": "markdown",
   "metadata": {
    "colab_type": "text",
    "id": "ihrHT-WosVH1"
   },
   "source": [
    "## Principles of Good Story Telling\n",
    "\n",
    "Good storytelling via data visualization has two main principles:\n",
    "\n",
    "1. To make the information we want to convey **salient** and **relevant** to the audience.\n",
    "2. To allow the audience to **accurately interpret the information we want to convey.**\n",
    "\n",
    "Data visualization is good at extracting relevant information from the real world and presenting a sustained **\"snapshot\"** so that the audience can examine in depth over time. However, even in data visualization, the information contained in the charts can still be overwhelming and noisy (i.e. having a lot of irrelevant information to distract the audience from the main point). **Techniques must be employed to highlight the main information we want to convey so that the audience can capture it easily.**\n",
    "\n",
    "One example technique to present salient and relevant information is by using the appropriate visual mode (e.g. color, layout, size, perspective, etc.). Consider the following scenario where the audience is expected to \"see\" how frequent the word data appears in an article. Which of the two presentations allows the audience to capture the information better?"
   ]
  },
  {
   "cell_type": "markdown",
   "metadata": {
    "colab_type": "text",
    "id": "5_S-skt8thcA"
   },
   "source": [
    "![title](image2.png)"
   ]
  },
  {
   "cell_type": "markdown",
   "metadata": {
    "colab_type": "text",
    "id": "lff6V6xetjLm"
   },
   "source": [
    "As seen in the example above, using the color mode can help the audience more easily capture the information you want to convey.\n",
    "\n",
    "Sometimes we expect the audience to more accurately capture the information we present to them such as the relationships between data. In this case, we should choose the appropriate type of graph. Consider the following graphs that shows the big data IT application industry investiment structure in China (according to data from China National Bureau of Statistics):\n",
    "\n"
   ]
  },
  {
   "cell_type": "markdown",
   "metadata": {
    "colab_type": "text",
    "id": "rU5A-FBFtjp6"
   },
   "source": [
    "![title](image1.png)"
   ]
  },
  {
   "cell_type": "markdown",
   "metadata": {
    "colab_type": "text",
    "id": "WfXIpNHft24a"
   },
   "source": [
    "![title](image3.png)"
   ]
  },
  {
   "cell_type": "markdown",
   "metadata": {
    "colab_type": "text",
    "id": "50u0b6qht41y"
   },
   "source": [
    "As seen in the example above, pie graph allows the audience to better perceive the proportion of different data categories. And bar graph allows the audience to rank the data categories by value. Therefore, it is important to understand which graph type is appropriate to tell what kind of stories. In the rest of this lesson, we will have a deeper dive into the purposes of different types of graphs."
   ]
  },
  {
   "cell_type": "markdown",
   "metadata": {
    "colab_type": "text",
    "id": "KLgyWYRTt8iK"
   },
   "source": [
    "## Using the Appropriate Type of Graph\n",
    "\n",
    "Next we will go over the graph types we have learned so far and explain when to use each type to present what kind of data relationships. We will use our vehicles dataset to demonstrate these visualizations."
   ]
  },
  {
   "cell_type": "markdown",
   "metadata": {},
   "source": [
    "## Types of Variables\n",
    "\n",
    "The type of data determines to a large degree the plot that you will use. For instance, if you have a discrete data column, you will will likely not use a scatter plot, but a bar plot. However, when dealing with continuous data, we may use a scatter plot. \n",
    "\n",
    "\n",
    "There are roughly two types of variables (i.e. columns) in the data set:\n",
    "\n",
    "1. **categorical variables** (blood type A, B, AB or O.; colour 'Red', 'Blue', 'Yellow');\n",
    "    - binary variables ('Yes/No', 'Male/Female', 1/0);\n",
    "2. **continuous variables** (numerical ranges, growth, age);\n",
    "\n",
    "Some useful resources:\n",
    "\n",
    "1. https://chartio.com/learn/charts/essential-chart-types-for-data-visualization/\n",
    "2. https://learn.g2.com/discrete-vs-continuous-data"
   ]
  },
  {
   "cell_type": "markdown",
   "metadata": {},
   "source": [
    "![title](image4.png)"
   ]
  },
  {
   "cell_type": "markdown",
   "metadata": {
    "colab_type": "text",
    "id": "qn01ZqzPuE4j"
   },
   "source": [
    "### Scatter Plot\n",
    "\n",
    "A clear and concise visualization that can be used to determine the existence and type of relationship between two variables is a scatter plot. If we would like to plot 3 variables, we can add additional dimensions to our chart using color or size. However, we should be careful not to overload the chart with information. This will make our chart no longer clear and concise. For more than two variables that we would like to compare pairwise, we may opt to use a scatter matrix instead. A scatter plot can help us detect whether there is a linear relationship between two variables or whether there is a different type of relationship (for example, an exponential or logarithmic relationship). In some cases, we may observe a random distribution of points which means there is no relationship between the two variables. Scatter plots are also useful in identifying outliers and certain aspects underlying in the distribution of our data.\n",
    "\n",
    "The following scenarios are presented as examples for you to decide which type of scatter plot should be used in different situations."
   ]
  },
  {
   "cell_type": "markdown",
   "metadata": {
    "colab_type": "text",
    "id": "uFqE6DSauJql"
   },
   "source": [
    "#### Scenario 1: Two Variables\n",
    "We have two variables City MPG and Highway MPG which are linearly correlated. In this scenario, a single-color two-dimensional scatter plot is adequate to represent the linear relationship of the variables:"
   ]
  },
  {
   "cell_type": "code",
   "execution_count": null,
   "metadata": {},
   "outputs": [],
   "source": [
    "import pandas as pd\n",
    "%matplotlib inline"
   ]
  },
  {
   "cell_type": "code",
   "execution_count": null,
   "metadata": {},
   "outputs": [],
   "source": [
    "vehicles = pd.read_csv('vehicles.csv')"
   ]
  },
  {
   "cell_type": "code",
   "execution_count": null,
   "metadata": {},
   "outputs": [],
   "source": [
    "vehicles.head()"
   ]
  },
  {
   "cell_type": "code",
   "execution_count": null,
   "metadata": {
    "colab": {},
    "colab_type": "code",
    "id": "nQ6UkB0fqDJm"
   },
   "outputs": [],
   "source": [
    "vehicles.plot.scatter(x=\"City MPG\", y=\"Highway MPG\", alpha=0.2, grid=True)"
   ]
  },
  {
   "cell_type": "markdown",
   "metadata": {
    "colab_type": "text",
    "id": "GdGgCCgnuOaT"
   },
   "source": [
    "#### Scenario 2: Three Variables\n",
    "In addition to City MPG and Highway MPG, now we have a third variable: CO2 Emission Grams/Mile. How to visualize the third dimension in a 2-dimensional scatter plot? The answer is to use point color or size."
   ]
  },
  {
   "cell_type": "code",
   "execution_count": null,
   "metadata": {
    "colab": {},
    "colab_type": "code",
    "id": "gqlV4UG_puok"
   },
   "outputs": [],
   "source": [
    "import seaborn as sns\n",
    "import matplotlib.pyplot as plt\n",
    "\n",
    "# create colour map\n",
    "cmap = sns.cubehelix_palette(as_cmap=True)\n",
    "\n",
    "# plot\n",
    "vehicles.plot.scatter(x=\"City MPG\", y=\"Highway MPG\", c=\"CO2 Emission Grams/Mile\", cmap=cmap, alpha=0.2, grid=True)"
   ]
  },
  {
   "cell_type": "markdown",
   "metadata": {
    "colab_type": "text",
    "id": "AslD6P45uR4O"
   },
   "source": [
    "#### Scenario 3: More Than Three Variables\n",
    "But the vehicles dataset has 9 numeric variables. How do we visualize 9 variables in a 2-dimensional scatter plot? Well, a single scatter plot obviously does not meet our needs. We can use a scatter plot matrix to visualize the pair-wise relationships of those variables.\n"
   ]
  },
  {
   "cell_type": "code",
   "execution_count": null,
   "metadata": {
    "colab": {},
    "colab_type": "code",
    "id": "2KiHUt7quUok"
   },
   "outputs": [],
   "source": [
    "pd.plotting.scatter_matrix(vehicles, figsize=(20,10))\n",
    "plt.show()"
   ]
  },
  {
   "cell_type": "markdown",
   "metadata": {
    "colab_type": "text",
    "id": "YhFaiBgvua2f"
   },
   "source": [
    "In the matrix above, the sub-plots in the diagonal can be ignored because they are each variable's relationship to itself. In other sub-plots, you can roughly tell some variables have linear relationships (e.g. Fuel Barrels/Year vs CO2 Emission Grams/Mile), curvilinear relationships (e.g. Fuel Barrels/Year vs Combined MPG), and no relationship (e.g. Year vs all others)."
   ]
  },
  {
   "cell_type": "markdown",
   "metadata": {
    "colab_type": "text",
    "id": "TUodJYRWueDW"
   },
   "source": [
    "### Line Charts\n",
    "Line charts are similar to scatter plots. There are different ways to connect the points in a line chart. While we can simply connect the lines without looking for a trend, we can also create a linear trend or or use other methods like spline interpolation.\n",
    "\n",
    "Using a line chart makes it easier to plot more than one variable at once using the same x and y axis. To do this, we must reshape the data first using the melt function.\n",
    "\n",
    "The melt function will create a dataset that has all MPG values in one column and another column will indicate what type of MPG this is. We then use this indicator column for plotting the color."
   ]
  },
  {
   "cell_type": "code",
   "execution_count": null,
   "metadata": {},
   "outputs": [],
   "source": [
    "df = pd.DataFrame({'A': {0: 'a', 1: 'b', 2: 'c'},\n",
    "                   'B': {0: 1, 1: 3, 2: 5},\n",
    "                   'C': {0: 2, 1: 4, 2: 6}})\n",
    "df.head()"
   ]
  },
  {
   "cell_type": "code",
   "execution_count": null,
   "metadata": {},
   "outputs": [],
   "source": [
    "pd.melt(df, id_vars=['A'], value_vars=['B', 'C'])"
   ]
  },
  {
   "cell_type": "code",
   "execution_count": null,
   "metadata": {
    "colab": {},
    "colab_type": "code",
    "id": "FrZ6mZ3QuaGb"
   },
   "outputs": [],
   "source": [
    "line_df = pd.melt(vehicles[['City MPG', 'Highway MPG', 'CO2 Emission Grams/Mile']], id_vars='CO2 Emission Grams/Mile', var_name='MPG')\n",
    "line_df"
   ]
  },
  {
   "cell_type": "code",
   "execution_count": null,
   "metadata": {
    "colab": {},
    "colab_type": "code",
    "id": "xDRTWnTjulTL"
   },
   "outputs": [],
   "source": [
    "sns.lmplot(x='value',y='CO2 Emission Grams/Mile', hue='MPG', data=line_df, fit_reg=True) "
   ]
  },
  {
   "cell_type": "markdown",
   "metadata": {
    "colab_type": "text",
    "id": "XD0Liynmukne"
   },
   "source": [
    "### Histograms\n",
    "Histograms are typically used to illustrate the distribution of the data. Similar to scatter plots, histograms can also help us to identify outliers. Histograms can also show us whether there is a general trend of skewness or symmetry in the data. **Histograms are a good choice for examining the distribution of one variable at a time.** With a careful selection of bins, we can also identify whether the data has a single mode or whether it is bimodal or multimodal.\n",
    "\n",
    "Recall that the default number of bins is 10."
   ]
  },
  {
   "cell_type": "code",
   "execution_count": null,
   "metadata": {
    "colab": {},
    "colab_type": "code",
    "id": "qrkmLPOZusXh"
   },
   "outputs": [],
   "source": [
    "vehicles['City MPG'].hist()"
   ]
  },
  {
   "cell_type": "code",
   "execution_count": null,
   "metadata": {
    "colab": {},
    "colab_type": "code",
    "id": "9r_XYdbBuus8"
   },
   "outputs": [],
   "source": [
    "vehicles['City MPG'].hist(bins=20)"
   ]
  },
  {
   "cell_type": "markdown",
   "metadata": {
    "colab_type": "text",
    "id": "c0rCZ53muxPN"
   },
   "source": [
    "### Bar Charts\n",
    "Bar charts can be used to compare within categorical variables. We can use these charts for comparison between time periods (for example, this year vs. last year) or between two subgroups in the population (like males and females). In this example we are comparing two variables that describe a vehicle's MPG."
   ]
  },
  {
   "cell_type": "code",
   "execution_count": null,
   "metadata": {
    "colab": {},
    "colab_type": "code",
    "id": "qj-kOQzquyDY"
   },
   "outputs": [],
   "source": [
    "vehicles_mean = vehicles[[\"Highway MPG\", \"City MPG\", \"Drivetrain\"]].groupby([\"Drivetrain\"]).agg(\"mean\")"
   ]
  },
  {
   "cell_type": "code",
   "execution_count": null,
   "metadata": {},
   "outputs": [],
   "source": [
    "vehicles_mean"
   ]
  },
  {
   "cell_type": "code",
   "execution_count": null,
   "metadata": {},
   "outputs": [],
   "source": [
    "vehicles_mean.plot.barh()"
   ]
  },
  {
   "cell_type": "markdown",
   "metadata": {},
   "source": [
    "## Heatmaps\n",
    "\n",
    "We've already seen heatmaps. However, these were quite rudimentary. Seaborn helps you to also plot very detailed and clear heatmaps, instantaneously highlighting all important relationship without disregarding important information."
   ]
  },
  {
   "cell_type": "code",
   "execution_count": null,
   "metadata": {},
   "outputs": [],
   "source": [
    "import numpy as np"
   ]
  },
  {
   "cell_type": "code",
   "execution_count": null,
   "metadata": {},
   "outputs": [],
   "source": [
    "corr = vehicles.corr()\n",
    "corr"
   ]
  },
  {
   "cell_type": "code",
   "execution_count": null,
   "metadata": {},
   "outputs": [],
   "source": [
    "zeros = np.zeros((4,4))\n",
    "np.triu(np.ones_like(zeros, dtype=np.bool))"
   ]
  },
  {
   "cell_type": "code",
   "execution_count": null,
   "metadata": {},
   "outputs": [],
   "source": [
    "plt.figure(figsize=(12,12));\n",
    "mask = np.triu(np.ones_like(corr, dtype=np.bool))\n",
    "cmap = sns.diverging_palette(250, 300, as_cmap=True)\n",
    "\n",
    "sns.heatmap(corr, cmap=cmap, center=0, mask=mask)\n",
    "plt.show()"
   ]
  },
  {
   "cell_type": "markdown",
   "metadata": {
    "colab_type": "text",
    "id": "CL8DSnr2u1M1"
   },
   "source": [
    "### Pie Charts\n",
    "**Many experts in the field of data visualization recommend not using pie charts.** Pie charts are intended to demonstrate the proportionate difference between the different groups in a categorical variable. However, looking at the different groups as a fraction of a whole means a loss of information about the original data. There are always better suited visualizations than pie charts. The most obvious alternative is a bar chart."
   ]
  },
  {
   "cell_type": "markdown",
   "metadata": {
    "colab_type": "text",
    "id": "gUanNsBtvAbi"
   },
   "source": [
    "## Summary\n",
    "In this lesson we learned about the main types of visualizations and what they can be used for. We also learned which visualizations not to use in order to communicate our findings effectively."
   ]
  }
 ],
 "metadata": {
  "colab": {
   "name": "Telling_Stories_Graphs.ipynb",
   "provenance": []
  },
  "kernelspec": {
   "display_name": "Python 3",
   "language": "python",
   "name": "python3"
  },
  "language_info": {
   "codemirror_mode": {
    "name": "ipython",
    "version": 3
   },
   "file_extension": ".py",
   "mimetype": "text/x-python",
   "name": "python",
   "nbconvert_exporter": "python",
   "pygments_lexer": "ipython3",
   "version": "3.7.4"
  }
 },
 "nbformat": 4,
 "nbformat_minor": 4
}
