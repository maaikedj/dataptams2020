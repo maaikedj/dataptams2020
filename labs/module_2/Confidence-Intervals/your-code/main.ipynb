{
 "cells": [
  {
   "cell_type": "markdown",
   "metadata": {
    "Collapsed": "false"
   },
   "source": [
    "# Confidence Intervals"
   ]
  },
  {
   "cell_type": "code",
   "execution_count": null,
   "metadata": {
    "Collapsed": "false"
   },
   "outputs": [],
   "source": [
    "# Libraries\n",
    "import numpy as np\n",
    "from collections import Counter\n",
    "import seaborn as sns\n",
    "from scipy import stats\n",
    "import pandas as pd"
   ]
  },
  {
   "cell_type": "markdown",
   "metadata": {
    "Collapsed": "false"
   },
   "source": [
    "## Challenge 1\n",
    "We want to estimate the average size of the men of a country with a confidence level of 80%. Assuming that the standard deviation of the sizes in the population is 4, get the confidence interval with a sample of men selected randomly, whose heights are:\n",
    "\n",
    "````\n",
    "heights = [167, 167, 168, 168, 168, 169, 171, 172, 173, 175, 175, 175, 177, 182, 195]\n",
    "````\n",
    "\n",
    "**Hint**: function `stats.norm.interval` from `scipy` can help you get through this exercise. "
   ]
  },
  {
   "cell_type": "code",
   "execution_count": null,
   "metadata": {
    "Collapsed": "false"
   },
   "outputs": [],
   "source": [
    "# your code here\n",
    "heights = [167, 167, 168, 168, 168, 169, 171, 172, 173, 175, 175, 175, 177, 182, 195]\n",
    "population_stdev = 4\n",
    "z = stats.norm.interval(0.8)[1]\n",
    "n = len(heights)\n",
    "mean = np.mean(heights)\n",
    "marg_of_error = population_stdev / np.sqrt(n)\n",
    "\n",
    "con_int = [mean - (z * marg_of_error) , mean + (z * marg_of_error)]\n",
    "print('With 80% confidence, the true mean lies in the inverval:', con_int)\n",
    "#Paolo:yes!"
   ]
  },
  {
   "cell_type": "markdown",
   "metadata": {
    "Collapsed": "false"
   },
   "source": [
    "## Challenge 2 \n",
    "In a sample of 105 shops selected randomly from an area, we note that 27 of them have had losses in this month. Get an interval for the proportion of businesses in the area with losses to a confidence level of 80% and a confidence level of 90%.\n",
    "\n",
    "**Hint**: function `stats.norm.interval` from `scipy` can help you get through this exercise. "
   ]
  },
  {
   "cell_type": "code",
   "execution_count": null,
   "metadata": {
    "Collapsed": "false"
   },
   "outputs": [],
   "source": [
    "# your code here\n",
    "\n",
    "# Given information\n",
    "sample_size = 105\n",
    "sample_loss = 27\n",
    "sample = [0] * sample_loss\n",
    "a = [1] * (sample_size - sample_loss)\n",
    "sample.extend(a)\n",
    "sample\n",
    "\n",
    "# #population_stdev = ?\n",
    "\n",
    "degree_freedom = len(sample) - 1\n",
    "t = stats.t.interval(0.80, degree_freedom)[1]\n",
    "\n",
    "# Terms\n",
    "mean = 1 - np.mean(sample)\n",
    "std_sample = np.sqrt(abs(np.sum((sample - mean)**2) / (1-len(sample))))\n",
    "marg_of_error = std_sample / np.sqrt(len(sample))"
   ]
  },
  {
   "cell_type": "code",
   "execution_count": null,
   "metadata": {
    "Collapsed": "false"
   },
   "outputs": [],
   "source": [
    "con_int = [mean - (t * marg_of_error) , mean + (t * marg_of_error)]\n",
    "print('With 80% confidence, the proportion of business with losses lies in the inverval:', con_int)"
   ]
  },
  {
   "cell_type": "code",
   "execution_count": null,
   "metadata": {
    "Collapsed": "false"
   },
   "outputs": [],
   "source": [
    "degree_freedom = len(sample) - 1\n",
    "t = stats.t.interval(0.90, degree_freedom)[1]\n",
    "\n",
    "# Terms\n",
    "mean = 1 - np.mean(sample)\n",
    "std_sample = np.sqrt(abs(np.sum((sample - mean)**2) / (1-len(sample))))\n",
    "marg_of_error = std_sample / np.sqrt(len(sample))\n",
    "con_int = [mean - (t * marg_of_error) , mean + (t * marg_of_error)]\n",
    "print('With 90% confidence, the proportion of business with losses lies in the inverval:', con_int)"
   ]
  },
  {
   "cell_type": "code",
   "execution_count": null,
   "metadata": {
    "Collapsed": "false"
   },
   "outputs": [],
   "source": [
    "#Paolo: good effort but here the reasoning is different\n",
    "#Two steps \n",
    "#1- use the fact that the intial distribution is binomial to calculate variance\n",
    "#2- Use Central limit theorem to calculate CI. See below for 80% CI, same for 90%\n",
    "\n",
    "# According to the Central Limit Theorem, we know that the distribution \n",
    "# of the sample proportion means is normally distributed with approximately the following parameters:\n",
    "\n",
    "# Variables \n",
    "total_shops = 105;\n",
    "loss_shops = 27\n",
    "score_80 = stats.norm.interval(0.80)[1];\n",
    "\n",
    "# Parameters\n",
    "import math\n",
    "prop = loss_shops / total_shops;\n",
    "#Paolo: variance of binomial ditribution is n*prop(1-prop) with n=105\n",
    "prop_se = math.sqrt((prop * (1 - prop)) / total_shops); #standaed error\n",
    "conf_int80 = [prop - (score_80 * prop_se), prop + (score_80 * prop_se)]\n",
    "conf_int80 #in percentage\n"
   ]
  },
  {
   "cell_type": "markdown",
   "metadata": {
    "Collapsed": "false"
   },
   "source": [
    "## Challenge 3 - More practice\n",
    "For the same example in challenge 1, calculate a confidence interval for the variance at 90% level.\n",
    "\n",
    "**Hint**: function `stats.chi2.interval` from `scipy` can help you get through this exercise. "
   ]
  },
  {
   "cell_type": "code",
   "execution_count": null,
   "metadata": {
    "Collapsed": "false"
   },
   "outputs": [],
   "source": [
    "# your code here\n",
    "# as a note, there are many many mistakes on the code for \"The Confidence Interval III (CI for the Variance)\"\n",
    "# hopefully below is right?\n",
    "#Paolo: you mean the lesson material?\n",
    "\n",
    "heights = [167, 167, 168, 168, 168, 169, 171, 172, 173, 175, 175, 175, 177, 182, 195]\n",
    "\n",
    "n = len(heights)\n",
    "mean = np.mean(heights)\n",
    "\n",
    "degree_free = n - 1\n",
    "\n",
    "var_sample = abs(np.sum((heights - mean)**2) /n-1 )\n",
    "#Paolo: formula variance is \n",
    "var_sample_ok=np.sum((heights - mean)**2) /(n-1)\n",
    "#Paolo: the issue is that you did not add parenthesis around n-1\n",
    "# so in your version Python performs the division by n first and then subract 1, \n",
    "# instead of dividing by (n-1), so you get the wrong result.This is important to remember.\n",
    "# Paolo: the absolute value does not make a difference as the quantity is positive \n",
    "\n",
    "chi_right = stats.chi2.interval(0.90, degree_free)[0]\n",
    "\n",
    "chi_left = stats.chi2.interval(0.90, degree_free)[1]\n"
   ]
  },
  {
   "cell_type": "code",
   "execution_count": null,
   "metadata": {
    "Collapsed": "false"
   },
   "outputs": [],
   "source": [
    "#Paolo: here you should use var_sample_ok from above istead of var_sample\n",
    "conf_int = [ degree_free * var_sample / chi_left, degree_free * var_sample / chi_right]\n",
    "\n",
    "print('With 90% confidence, the true variance lies in the inverval:', conf_int)\n"
   ]
  },
  {
   "cell_type": "markdown",
   "metadata": {
    "Collapsed": "false"
   },
   "source": [
    "## Challenge 4 - More practice\n",
    "The sulfuric acid content of 7 similar containers is 9.8, 10.2, 10.4, 9.8, 10.0, 10.2 and 9.6 liters. Calculate a 95% confidence interval for the average content of all containers assuming an approximately normal distribution.\n",
    "\n",
    "```\n",
    "acid = [9.8, 10.2, 10.4, 9.8, 10.0, 10.2, 9.6]\n",
    "```\n",
    "\n",
    "**Hint**: function `stats.t.interval` from `scipy` can help you get through this exercise. "
   ]
  },
  {
   "cell_type": "code",
   "execution_count": null,
   "metadata": {
    "Collapsed": "false"
   },
   "outputs": [],
   "source": [
    "# your code here\n",
    "acid = [9.8, 10.2, 10.4, 9.8, 10.0, 10.2, 9.6]\n",
    "degree_freedom = len(acid) - 1\n",
    "t = stats.t.interval(0.95, degree_freedom)[1]\n",
    "\n",
    "# Terms\n",
    "mean = np.mean(acid)\n",
    "std_sample = np.sqrt(abs(np.sum((acid - mean)**2) / (1-len(acid))))\n",
    "marg_of_error = std_sample / np.sqrt(len(acid))\n",
    "\n",
    "con_int = [mean - (t * marg_of_error) , mean + (t * marg_of_error)]\n",
    "print('With 95% confidence, the true mean lies in the inverval:', con_int)\n",
    "#Paolo:yes"
   ]
  },
  {
   "cell_type": "markdown",
   "metadata": {
    "Collapsed": "false"
   },
   "source": [
    "## Bonus Challenge\n",
    "The error level or sampling error for the first challenge is given by the following expression:\n",
    "$$Error = z_{\\frac{\\alpha}{2}}\\frac{\\sigma}{\\sqrt n}$$\n",
    "Where z represents the value for N(0,1)\n",
    "\n",
    "\n",
    "Suppose that with the previous data of challenge 1, and with a confidence level of\n",
    "99% (that is, almost certainly) we want to estimate the average population size, so that the error level committed is not greater than half a centimeter.\n",
    "\n",
    "#### 1.- Determine what size the selected sample of men should be."
   ]
  },
  {
   "cell_type": "code",
   "execution_count": null,
   "metadata": {
    "Collapsed": "false"
   },
   "outputs": [],
   "source": [
    "# your code here"
   ]
  },
  {
   "cell_type": "markdown",
   "metadata": {
    "Collapsed": "false"
   },
   "source": [
    "#### 2.- For the second challenge, we have the following error:\n",
    "$$ Error = z_{\\frac{\\alpha}{2}}\\sqrt{\\frac{p\\times q}{n}} $$\n",
    "#### Determine the sample size required to not exceed an error of 1% with a confidence of 80%."
   ]
  },
  {
   "cell_type": "code",
   "execution_count": null,
   "metadata": {
    "Collapsed": "false"
   },
   "outputs": [],
   "source": [
    "# your code here"
   ]
  },
  {
   "cell_type": "markdown",
   "metadata": {
    "Collapsed": "false"
   },
   "source": [
    "## Bonus Challenge\n",
    "\n",
    "Let's consider the following problem:\n",
    "\n",
    "Build a confidence interval of 94% for the real difference between the durations of two brands of spotlights, if a sample of 40 spotlights taken randomly from the first mark gave an average duration of 418 hours, and a sample of 50 bulbs of another brand gave a duration average of 402 hours. The standard deviations of the two\n",
    "populations are 26 hours and 22 hours, respectively.\n",
    "\n",
    "Sometimes, we will be interested in the difference of two different groups of random variables. We can also build a confidence interval for that! We have some different cases regarding the variance but for this specific case (the variance are different and known), we have that:\n",
    "\n",
    "$$\\overline{X} - \\overline{Y}  \\sim N(\\mu_{X} - \\mu_{Y} , \\sqrt{\\frac{\\sigma_{X}^2}{n_X}+\\frac{\\sigma_{Y}^2}{n_Y}})$$\n",
    "\n",
    "Solve the problem with this information."
   ]
  },
  {
   "cell_type": "code",
   "execution_count": null,
   "metadata": {
    "Collapsed": "false"
   },
   "outputs": [],
   "source": [
    "# your code here"
   ]
  }
 ],
 "metadata": {
  "kernelspec": {
   "display_name": "Python 3",
   "language": "python",
   "name": "python3"
  },
  "language_info": {
   "codemirror_mode": {
    "name": "ipython",
    "version": 3
   },
   "file_extension": ".py",
   "mimetype": "text/x-python",
   "name": "python",
   "nbconvert_exporter": "python",
   "pygments_lexer": "ipython3",
   "version": "3.7.6"
  }
 },
 "nbformat": 4,
 "nbformat_minor": 4
}
