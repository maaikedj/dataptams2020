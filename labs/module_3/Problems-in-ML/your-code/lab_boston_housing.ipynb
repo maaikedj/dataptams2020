{
 "cells": [
  {
   "cell_type": "markdown",
   "metadata": {
    "Collapsed": "false"
   },
   "source": [
    "# Understanding Over & Underfitting\n",
    "## Predicting Boston Housing Prices"
   ]
  },
  {
   "cell_type": "markdown",
   "metadata": {
    "Collapsed": "false"
   },
   "source": [
    "## Getting Started\n",
    "In this project, you will use the Boston Housing Prices dataset to build several models to predict the prices of homes with particular qualities from the suburbs of Boston, MA.\n",
    "We will build models with several different parameters, which will change the goodness of fit for each. "
   ]
  },
  {
   "cell_type": "markdown",
   "metadata": {
    "Collapsed": "false"
   },
   "source": [
    "---\n",
    "## Data Exploration\n",
    "Since we want to predict the value of houses, the **target variable**, `'MEDV'`, will be the variable we seek to predict."
   ]
  },
  {
   "cell_type": "markdown",
   "metadata": {
    "Collapsed": "false"
   },
   "source": [
    "### Import and explore the data. Clean the data for outliers and missing values. \n",
    "Download the data from [here](https://drive.google.com/file/d/1o-vZHHSywBksnPuGRunvpdYN7grYbe8h/view?usp=sharing) and place it in the data folder"
   ]
  },
  {
   "cell_type": "code",
   "execution_count": null,
   "metadata": {
    "Collapsed": "false"
   },
   "outputs": [],
   "source": [
    "# Your code here\n",
    "import pandas as pd\n",
    "import numpy as np\n",
    "\n",
    "from sklearn.linear_model import LinearRegression\n",
    "from sklearn.model_selection import train_test_split\n",
    "from sklearn.ensemble import RandomForestRegressor\n",
    "\n",
    "import plotly.graph_objs as go\n",
    "import plotly.express as px\n",
    "import seaborn as sns"
   ]
  },
  {
   "cell_type": "code",
   "execution_count": null,
   "metadata": {},
   "outputs": [],
   "source": [
    "housing = pd.read_csv('../data/boston_data.csv')"
   ]
  },
  {
   "cell_type": "markdown",
   "metadata": {
    "Collapsed": "false"
   },
   "source": [
    "### Next, we want to explore the data. Pick several varibables you think will be ost correlated with the prices of homes in Boston, and create plots that show the data dispersion as well as the regression line of best fit."
   ]
  },
  {
   "cell_type": "code",
   "execution_count": null,
   "metadata": {
    "Collapsed": "false"
   },
   "outputs": [],
   "source": [
    "# Your plots here\n",
    "# Well it is hard to choose which variables when some variables are not explicit or clear what they represent.\n",
    "housing.head()"
   ]
  },
  {
   "cell_type": "code",
   "execution_count": null,
   "metadata": {},
   "outputs": [],
   "source": [
    "reg = LinearRegression().fit(np.vstack(housing['crim']), housing['medv'])\n",
    "bestfit_crim = reg.predict(np.vstack(housing['crim']))\n",
    "fig = go.Figure()\n",
    "fig.add_trace(go.Scatter(x=housing['crim'], y=housing['medv'], mode='markers'))\n",
    "fig.add_trace(go.Scatter(name='line of best fit', x=housing['crim'], y=bestfit_crim, mode='lines'))\n",
    "fig.show()\n",
    "\n",
    "reg = LinearRegression().fit(np.vstack(housing['tax']), housing['medv'])\n",
    "bestfit_tax = reg.predict(np.vstack(housing['tax']))\n",
    "fig = go.Figure()\n",
    "fig.add_trace(go.Scatter(x=housing['tax'], y=housing['medv'], mode='markers'))\n",
    "fig.add_trace(go.Scatter(name='line of best fit', x=housing['tax'], y=bestfit_tax, mode='lines'))\n",
    "fig.show()\n",
    "\n",
    "\n",
    "reg = LinearRegression().fit(np.vstack(housing['indus']), housing['medv'])\n",
    "bestfit_indus = reg.predict(np.vstack(housing['indus']))\n",
    "fig = go.Figure()\n",
    "fig.add_trace(go.Scatter(x=housing['indus'], y=housing['medv'], mode='markers'))\n",
    "fig.add_trace(go.Scatter(name='line of best fit', x=housing['indus'], y=bestfit_indus, mode='lines'))\n",
    "fig.show()\n",
    "\n",
    "reg = LinearRegression().fit(np.vstack(housing['zn']), housing['medv'])\n",
    "bestfit_zn = reg.predict(np.vstack(housing['zn']))\n",
    "fig = go.Figure()\n",
    "fig.add_trace(go.Scatter(x=housing['zn'], y=housing['medv'], mode='markers'))\n",
    "fig.add_trace(go.Scatter(name='line of best fit', x=housing['zn'], y=bestfit_zn, mode='lines'))\n",
    "fig.show()\n"
   ]
  },
  {
   "cell_type": "markdown",
   "metadata": {
    "Collapsed": "false"
   },
   "source": [
    "### What do these plots tell you about the relationships between these variables and the prices of homes in Boston? Are these the relationships you expected to see in these variables?"
   ]
  },
  {
   "cell_type": "code",
   "execution_count": null,
   "metadata": {
    "Collapsed": "false"
   },
   "outputs": [],
   "source": [
    "# Your response here\n",
    "# Crimes, taxes and industry have a negative correlation with the average price, which was to be expected.\n",
    "# zn on the other had has a positive correlation, I am not sure why. Im not really sure what zn means, I thought it\n",
    "# was ZONE or something, and the closer to 0 then the closer to the city center (which normally is good, at least in\n",
    "# the vast majority of european cities), So I wouldve guess a negative correlation also, but thats not the case."
   ]
  },
  {
   "cell_type": "markdown",
   "metadata": {
    "Collapsed": "false"
   },
   "source": [
    "### Make a heatmap of the remaining variables. Are there any variables that you did not consider that have very high correlations? What are they?"
   ]
  },
  {
   "cell_type": "code",
   "execution_count": null,
   "metadata": {
    "Collapsed": "false"
   },
   "outputs": [],
   "source": [
    "# Your response here\n",
    "sns.heatmap(housing.corr())"
   ]
  },
  {
   "cell_type": "code",
   "execution_count": null,
   "metadata": {},
   "outputs": [],
   "source": [
    "# black and chas have a lightly positive correlation. Rm on the other hand has a strong positive correlation"
   ]
  },
  {
   "cell_type": "markdown",
   "metadata": {
    "Collapsed": "false"
   },
   "source": [
    "### Calculate Statistics\n",
    "Calculate descriptive statistics for housing price. Include the minimum, maximum, mean, median, and standard deviation. "
   ]
  },
  {
   "cell_type": "code",
   "execution_count": null,
   "metadata": {
    "Collapsed": "false"
   },
   "outputs": [],
   "source": [
    "# Your code here\n",
    "housing.describe()"
   ]
  },
  {
   "cell_type": "markdown",
   "metadata": {
    "Collapsed": "false"
   },
   "source": [
    "----\n",
    "\n",
    "## Developing a Model"
   ]
  },
  {
   "cell_type": "markdown",
   "metadata": {
    "Collapsed": "false"
   },
   "source": [
    "### Implementation: Define a Performance Metric\n",
    "What is the performance meteric with which you will determine the performance of your model? Create a function that calculates this performance metric, and then returns the score. "
   ]
  },
  {
   "cell_type": "code",
   "execution_count": null,
   "metadata": {
    "Collapsed": "false"
   },
   "outputs": [],
   "source": [
    "from sklearn.metrics import r2_score\n",
    "\n",
    "def performance_metric(y_true, y_predict):\n",
    "    \"\"\" Calculates and returns the performance score between \n",
    "        true and predicted values based on the metric chosen. \"\"\"\n",
    "    # Your code here:\n",
    "    return r2_score(y_true, y_predict)"
   ]
  },
  {
   "cell_type": "markdown",
   "metadata": {
    "Collapsed": "false"
   },
   "source": [
    "### Implementation: Shuffle and Split Data\n",
    "Split the data into the testing and training datasets. Shuffle the data as well to remove any bias in selecting the traing and test. "
   ]
  },
  {
   "cell_type": "code",
   "execution_count": null,
   "metadata": {
    "Collapsed": "false"
   },
   "outputs": [],
   "source": [
    "# Your code here\n",
    "X_train, X_test, y_train, y_test = train_test_split(housing.drop('medv', axis=1), housing['medv'], test_size=0.2)"
   ]
  },
  {
   "cell_type": "markdown",
   "metadata": {
    "Collapsed": "false"
   },
   "source": [
    "----\n",
    "\n",
    "## Analyzing Model Performance\n",
    "Next, we are going to build a Random Forest Regressor, and test its performance with several different parameter settings."
   ]
  },
  {
   "cell_type": "markdown",
   "metadata": {
    "Collapsed": "false"
   },
   "source": [
    "### Learning Curves\n",
    "Lets build the different models. Set the max_depth parameter to 2, 4, 6, 8, and 10 respectively. "
   ]
  },
  {
   "cell_type": "code",
   "execution_count": null,
   "metadata": {
    "Collapsed": "false"
   },
   "outputs": [],
   "source": [
    "# Five separate RFR here with the given max depths\n",
    "housing_model_2 = RandomForestRegressor(max_depth=2)\n",
    "housing_model_4 = RandomForestRegressor(max_depth=4)\n",
    "housing_model_6 = RandomForestRegressor(max_depth=6)\n",
    "housing_model_8 = RandomForestRegressor(max_depth=8)\n",
    "housing_model_10 = RandomForestRegressor(max_depth=10)"
   ]
  },
  {
   "cell_type": "markdown",
   "metadata": {
    "Collapsed": "false"
   },
   "source": [
    "Now, plot the score for each tree on the training set and on the testing set."
   ]
  },
  {
   "cell_type": "code",
   "execution_count": null,
   "metadata": {
    "Collapsed": "false"
   },
   "outputs": [],
   "source": [
    "# Produce a plot with the score for the testing and training for the different max depths\n",
    "train = []\n",
    "train.append(housing_model_2.fit(X_train, y_train).score(X_train, y_train))\n",
    "train.append(housing_model_4.fit(X_train, y_train).score(X_train, y_train))\n",
    "train.append(housing_model_6.fit(X_train, y_train).score(X_train, y_train))\n",
    "train.append(housing_model_8.fit(X_train, y_train).score(X_train, y_train))\n",
    "train.append(housing_model_10.fit(X_train, y_train).score(X_train, y_train))\n",
    "\n",
    "test = []\n",
    "test.append(housing_model_2.fit(X_train, y_train).score(X_test, y_test))\n",
    "test.append(housing_model_4.fit(X_train, y_train).score(X_test, y_test))\n",
    "test.append(housing_model_6.fit(X_train, y_train).score(X_test, y_test))\n",
    "test.append(housing_model_8.fit(X_train, y_train).score(X_test, y_test))\n",
    "test.append(housing_model_10.fit(X_train, y_train).score(X_test, y_test))\n",
    "\n",
    "max_depth = []\n",
    "max_depth.append('2')\n",
    "max_depth.append('4')\n",
    "max_depth.append('6')\n",
    "max_depth.append('8')\n",
    "max_depth.append('10')\n",
    "\n",
    "df = pd.DataFrame({'train':train, 'test':test, 'max_depth': max_depth})\n",
    "fig = px.scatter(df, \n",
    "                 x=\"train\", \n",
    "                 y=\"test\", \n",
    "                 color=\"max_depth\",\n",
    "                 hover_data=['max_depth', 'train', 'test'])\n",
    "fig.show()"
   ]
  },
  {
   "cell_type": "markdown",
   "metadata": {
    "Collapsed": "false"
   },
   "source": [
    "What do these results tell you about the effect of the depth of the trees on the performance of the model?"
   ]
  },
  {
   "cell_type": "code",
   "execution_count": null,
   "metadata": {
    "Collapsed": "false"
   },
   "outputs": [],
   "source": [
    "# Your response here\n",
    "# The more decisions are allowed, the more accurate the model is"
   ]
  },
  {
   "cell_type": "markdown",
   "metadata": {
    "Collapsed": "false"
   },
   "source": [
    "### Bias-Variance Tradeoff\n",
    "When the model is trained with a maximum depth of 1, does the model suffer from high bias or from high variance? How about when the model is trained with a maximum depth of 10?"
   ]
  },
  {
   "cell_type": "code",
   "execution_count": null,
   "metadata": {
    "Collapsed": "false"
   },
   "outputs": [],
   "source": [
    "# Your response here\n",
    "# I would say the model with a max depth of 1 has a high bias since we are making big \n",
    "# assumptions on how the data behaves, while the model with 10 has a lower bias, since were not making assumptions,\n",
    "# we are just adapting to the training data."
   ]
  },
  {
   "cell_type": "markdown",
   "metadata": {
    "Collapsed": "false"
   },
   "source": [
    "### Best-Guess Optimal Model\n",
    "What is the max_depth parameter that you think would optimize the model? Run your model and explain its performance."
   ]
  },
  {
   "cell_type": "code",
   "execution_count": null,
   "metadata": {
    "Collapsed": "false"
   },
   "outputs": [],
   "source": [
    "# Your response here\n",
    "# I would say the max_depth 6 would be the optimal in between solution, since it gives us a high score without \n",
    "# compromising the bias as much as 8, 10, etc."
   ]
  },
  {
   "cell_type": "markdown",
   "metadata": {
    "Collapsed": "false"
   },
   "source": [
    "### Applicability\n",
    "*In a few sentences, discuss whether the constructed model should or should not be used in a real-world setting.*  \n",
    "**Hint:** Some questions to answering:\n",
    "- *How relevant today is data that was collected from 1978?*\n",
    "- *Are the features present in the data sufficient to describe a home?*\n",
    "- *Is the model robust enough to make consistent predictions?*\n",
    "- *Would data collected in an urban city like Boston be applicable in a rural city?*"
   ]
  },
  {
   "cell_type": "code",
   "execution_count": null,
   "metadata": {
    "Collapsed": "false"
   },
   "outputs": [],
   "source": [
    "# Your response here\n",
    "# The general answer would be: NO\n",
    "# Data from 1978 Real States cannot be used to accurately predict behaviour 40 years later. There are many changing\n",
    "# factors (economics, inflation, politics, etc, etc)\n",
    "# I dont think the ffeatures present in the data are enough (even if I dont know what some features mean), but\n",
    "# I think you need many more.\n",
    "# Since there are not enough features (in my opinion) i dont think the model is consistent enough to make a \n",
    "# good prediction.\n",
    "# I think Real State data is very unique on time and place, so it would be difficult to apply one model on a different\n",
    "# time or location. It could maybe be used to observe and extrapolate tendencies though."
   ]
  },
  {
   "cell_type": "code",
   "execution_count": null,
   "metadata": {},
   "outputs": [],
   "source": []
  }
 ],
 "metadata": {
  "anaconda-cloud": {},
  "kernelspec": {
   "display_name": "Python 3",
   "language": "python",
   "name": "python3"
  },
  "language_info": {
   "codemirror_mode": {
    "name": "ipython",
    "version": 3
   },
   "file_extension": ".py",
   "mimetype": "text/x-python",
   "name": "python",
   "nbconvert_exporter": "python",
   "pygments_lexer": "ipython3",
   "version": "3.7.2"
  }
 },
 "nbformat": 4,
 "nbformat_minor": 4
}
