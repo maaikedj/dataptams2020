{
 "cells": [
  {
   "cell_type": "markdown",
   "metadata": {
    "Collapsed": "false"
   },
   "source": [
    "# Challenge 3\n",
    "\n",
    "In this challenge we will work on the `Orders` data set. In your work you will apply the thinking process and workflow we showed you in Challenge 2.\n",
    "\n",
    "You are serving as a Business Intelligence Analyst at the headquarter of an international fashion goods chain store. Your boss today asked you to do two things for her:\n",
    "\n",
    "**First, identify two groups of customers from the data set.** The first group is **VIP Customers** whose **aggregated expenses** at your global chain stores are **above the 95th percentile** (aka. 0.95 quantile). The second group is **Preferred Customers** whose **aggregated expenses** are **between the 75th and 95th percentile**.\n",
    "\n",
    "**Second, identify which country has the most of your VIP customers, and which country has the most of your VIP+Preferred Customers combined.**"
   ]
  },
  {
   "cell_type": "markdown",
   "metadata": {
    "Collapsed": "false"
   },
   "source": [
    "## Q1: How to identify VIP & Preferred Customers?\n",
    "\n",
    "We start by importing all the required libraries:"
   ]
  },
  {
   "cell_type": "code",
   "execution_count": null,
   "metadata": {
    "Collapsed": "false"
   },
   "outputs": [],
   "source": [
    "# import required libraries\n",
    "import sys\n",
    "# print(sys.path)\n",
    "# Adding a path so that it finds the package for numpy\n",
    "sys.path.append('/usr/local/lib/python3.7/site-packages')\n",
    "import numpy as np\n",
    "import pandas as pd"
   ]
  },
  {
   "cell_type": "markdown",
   "metadata": {
    "Collapsed": "false"
   },
   "source": [
    "Next, import `Orders` from [here](https://drive.google.com/file/d/17oJ9NNbwJ8Wv4Jp-mLFiC59k72Brdyha/view?usp=sharing) and place it in the provided data folder. You will access the data folder with a relative path.\n",
    "Load `Orders` into a dataframe variable called `orders`. Print the head of `orders` to overview the data:"
   ]
  },
  {
   "cell_type": "code",
   "execution_count": null,
   "metadata": {
    "Collapsed": "false"
   },
   "outputs": [],
   "source": [
    "# your code here\n",
    "\n",
    "orders = pd.read_csv('../your-code/data/Orders.csv')\n",
    "orders.head()\n",
    "orders.count()\n"
   ]
  },
  {
   "cell_type": "markdown",
   "metadata": {
    "Collapsed": "false"
   },
   "source": [
    "---\n",
    "\n",
    "\"Identify VIP and Preferred Customers\" is the non-technical goal of your boss. You need to translate that goal into technical languages that data analysts use:\n",
    "\n",
    "## How to label customers whose aggregated `amount_spent` is in a given quantile range?\n"
   ]
  },
  {
   "cell_type": "markdown",
   "metadata": {
    "Collapsed": "false"
   },
   "source": [
    "We break down the main problem into several sub problems:\n",
    "\n",
    "#### Sub Problem 1: How to aggregate the  `amount_spent` for unique customers?\n",
    "\n",
    "#### Sub Problem 2: How to select customers whose aggregated `amount_spent` is in a given quantile range?\n",
    "\n",
    "#### Sub Problem 3: How to label selected customers as \"VIP\" or \"Preferred\"?\n",
    "\n",
    "*Note: If you want to break down the main problem in a different way, please feel free to revise the sub problems above.*\n",
    "\n",
    "Now in the workspace below, tackle each of the sub problems using the iterative problem solving workflow. Insert cells as necessary to write your codes and explain your steps."
   ]
  },
  {
   "cell_type": "code",
   "execution_count": null,
   "metadata": {
    "Collapsed": "false"
   },
   "outputs": [],
   "source": [
    "# your code here\n",
    "\n",
    "#Sub problem 1\n",
    "# Use groupby sum to aggregate by unique customer\n",
    "\n",
    "ord_cust = orders.groupby(['CustomerID']).sum()\n",
    "ord_cust.head()\n",
    "\n",
    "# I could use the following to have the full detail by customer of all orders\n",
    "# orders.groupby(['CustomerID','amount_spent']).sum()\n"
   ]
  },
  {
   "cell_type": "code",
   "execution_count": null,
   "metadata": {},
   "outputs": [],
   "source": [
    "# Subproblem 2\n",
    "\n",
    "\n",
    "# Create a sorted framework on amount spent\n",
    "# Use quantile method to identify the treshold of VIP (95th) and Preferred segments\n",
    "\n",
    "ord_cust_sorted = ord_cust.sort_values(['amount_spent'], ascending = False)\n",
    "ord_cust_sorted.quantile([.75, .95, 1], axis = 0)\n",
    "\n",
    "\n",
    "#Use cut method to create 3 groups: VIPs, Preferred, All Others\n",
    "\n",
    "cust_labels = ['All_Others', 'Preferred', 'VIP']\n",
    "cutoffs = [0,1661.640,5840.182,280206.020]\n",
    "\n",
    "bins = pd.cut(ord_cust_sorted['amount_spent'], cutoffs, labels=cust_labels)\n",
    "bins.value_counts()\n",
    "bins.count()\n",
    "\n",
    "type(bins)\n",
    "\n",
    "# Transfor bins into a Dataframe to prepare for merging\n",
    "segm_cust = bins.to_frame()\n",
    "segm_cust.columns = ['Customer Segment']\n",
    "\n",
    "segm_cust.head()\n"
   ]
  },
  {
   "cell_type": "code",
   "execution_count": null,
   "metadata": {},
   "outputs": [],
   "source": [
    "\n",
    "#Subproblem 3\n",
    "\n",
    "new_ord = pd.merge(orders, segm_cust, on = 'CustomerID')\n",
    "new_ord.head()\n",
    "\n"
   ]
  },
  {
   "cell_type": "markdown",
   "metadata": {
    "Collapsed": "false"
   },
   "source": [
    "Now we'll leave it to you to solve Q2 & Q3, which you can leverage from your solution for Q1:\n",
    "\n",
    "## Q2: How to identify which country has the most VIP Customers?"
   ]
  },
  {
   "cell_type": "code",
   "execution_count": null,
   "metadata": {
    "Collapsed": "false"
   },
   "outputs": [],
   "source": [
    "# your code here\n",
    "\n",
    "# Filter VIP\n",
    "\n",
    "new_ord_vip = new_ord[new_ord['Customer Segment'] == 'VIP']\n",
    "\n",
    "# Group by Country and order to find the top\n",
    "\n",
    "new_ord_vip.groupby(['Country'])[['CustomerID']].count().sort_values(by='CustomerID',ascending=False)\n",
    "\n",
    "# UK\n"
   ]
  },
  {
   "cell_type": "markdown",
   "metadata": {
    "Collapsed": "false"
   },
   "source": [
    "## Q3: How to identify which country has the most VIP+Preferred Customers combined?"
   ]
  },
  {
   "cell_type": "code",
   "execution_count": null,
   "metadata": {
    "Collapsed": "false"
   },
   "outputs": [],
   "source": [
    "# your code here\n",
    "\n",
    "# Filter VIP & Preferred\n",
    "\n",
    "new_ord_vip_prf = new_ord[(new_ord['Customer Segment'] == 'VIP') | (new_ord['Customer Segment'] == 'Preferred')]\n",
    "\n",
    "# Group by Country and order to find the top\n",
    "\n",
    "new_ord_vip_prf.groupby(['Country'])[['CustomerID']].count().sort_values(by='CustomerID',ascending=False)\n",
    "\n",
    "# UK\n",
    "\n"
   ]
  },
  {
   "cell_type": "code",
   "execution_count": null,
   "metadata": {},
   "outputs": [],
   "source": []
  }
 ],
 "metadata": {
  "kernelspec": {
   "display_name": "Python 3",
   "language": "python",
   "name": "python3"
  },
  "language_info": {
   "codemirror_mode": {
    "name": "ipython",
    "version": 3
   },
   "file_extension": ".py",
   "mimetype": "text/x-python",
   "name": "python",
   "nbconvert_exporter": "python",
   "pygments_lexer": "ipython3",
   "version": "3.7.6"
  }
 },
 "nbformat": 4,
 "nbformat_minor": 4
}
