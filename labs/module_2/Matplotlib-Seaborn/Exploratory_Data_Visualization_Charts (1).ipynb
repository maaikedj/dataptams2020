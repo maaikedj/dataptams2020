{
 "cells": [
  {
   "cell_type": "markdown",
   "metadata": {
    "colab_type": "text",
    "id": "m45fdYWOjaNS"
   },
   "source": [
    "# Exploratory Data Visualization Charts \n",
    "\n"
   ]
  },
  {
   "cell_type": "markdown",
   "metadata": {
    "colab_type": "text",
    "id": "RVgufO_yjc0c"
   },
   "source": [
    "## Introduction \n",
    "\n",
    "The goal of exploratory data analysis is to gain initial insight on our dataset. Many times, this can be accomplished with a myriad of summary statistics. However, sometimes we find that \"a picture is worth a thousand words\" and that data visualizations can capture a large amount of data all at once in a clear and concise manner."
   ]
  },
  {
   "cell_type": "markdown",
   "metadata": {
    "colab_type": "text",
    "id": "ClFNoIXbjhFz"
   },
   "source": [
    "## Box Plot (aka Box Whisker Plot)\n",
    "Box plots are an amazing way to show the distribution of quantitative data and make comparisons across levels of a categorical variables. They help to visualize the 5-number summary as well as create a boundary that will help us distinguish which outliers are extreme. Those 5 numbers are minimum, 25th percentile, 50th percentile (Median), 75th percentile, maximum\n",
    "\n",
    "The box is defined as containing the data between the 25th and 75th percentiles. A line is drawn in the box to show where the median (or 50th percentile) lies. Box plots also have two lines extending from each end of the box called whiskers. The whiskers are typically drawn by finding the smallest and largest points still within 1.5 times the interquartile range minus the lower quartile or 1.5 times the interquartile range plus the upper quartile.\n",
    "\n",
    "The interquartile range is the difference between the first and third quartiles. Since this verbal explanation might be confusing, here are some formulas:"
   ]
  },
  {
   "cell_type": "markdown",
   "metadata": {},
   "source": [
    "\n",
    "![alt text](https://miro.medium.com/max/18000/1*2c21SkzJMf3frPXPAR_gZA.png)\n",
    "\n",
    "\n"
   ]
  },
  {
   "cell_type": "code",
   "execution_count": null,
   "metadata": {},
   "outputs": [],
   "source": [
    "import seaborn as sns\n",
    "import matplotlib as plt"
   ]
  },
  {
   "cell_type": "markdown",
   "metadata": {
    "colab": {},
    "colab_type": "code",
    "id": "gPOAZ_LLjWrs"
   },
   "source": [
    "- IQR = Third Quartile - First Quartile\n",
    "- Upper Whisker Limit < Third Quartile + 1.5 * IQR\n",
    "- Lower Whisker Limit > First Quartile - 1.5 * IQR"
   ]
  },
  {
   "cell_type": "markdown",
   "metadata": {
    "colab_type": "text",
    "id": "PAvxA9vujqsB"
   },
   "source": [
    "With all of this in mind, let's plot a box plot of our vehicles data. We first load the vehicles dataset using pandas. And then we will plot a box plot of the combined MPG"
   ]
  },
  {
   "cell_type": "code",
   "execution_count": null,
   "metadata": {},
   "outputs": [],
   "source": [
    "%matplotlib inline"
   ]
  },
  {
   "cell_type": "code",
   "execution_count": null,
   "metadata": {
    "colab": {},
    "colab_type": "code",
    "id": "Ojp1M2-Njuj_"
   },
   "outputs": [],
   "source": [
    "import pandas as pd\n",
    "vehicles = pd.read_csv('vehicles.csv')"
   ]
  },
  {
   "cell_type": "code",
   "execution_count": null,
   "metadata": {},
   "outputs": [],
   "source": [
    "data.boxplot(column=\"Combined MPG\")"
   ]
  },
  {
   "cell_type": "markdown",
   "metadata": {
    "colab_type": "text",
    "id": "e0R2Dhyujsnf"
   },
   "source": [
    "Note that we did not use the .plot function here.We can infer from this box plot that the data is skewed due to a large number of extreme outliers that have very good MPG. We can also see that the median is not exactly in the middle of the box."
   ]
  },
  {
   "cell_type": "markdown",
   "metadata": {
    "colab_type": "text",
    "id": "xumSQBBNjyg4"
   },
   "source": [
    "## Box Plots using Seaborn\n",
    "More detailed plots can be made using the seaborn library. In this example we are finding the relation between a numerical variable (Highway MPG here) and a categorical variable (Fuel Type)."
   ]
  },
  {
   "cell_type": "code",
   "execution_count": null,
   "metadata": {},
   "outputs": [],
   "source": [
    "ax = sns.boxplot(x=\"Fuel Type\", y=\"Highway MPG\", data=vehicles)"
   ]
  },
  {
   "cell_type": "code",
   "execution_count": null,
   "metadata": {
    "colab": {},
    "colab_type": "code",
    "id": "2HPMs33Pj4CX"
   },
   "outputs": [],
   "source": [
    "ax = sns.boxplot(x=\"Fuel Type\", y=\"Highway MPG\", data=vehicles)\n",
    "list(ax.get_xticklabels())"
   ]
  },
  {
   "cell_type": "code",
   "execution_count": null,
   "metadata": {},
   "outputs": [],
   "source": [
    "ax = sns.boxplot(x=\"Fuel Type\", y=\"Highway MPG\", data=data)\n",
    "ax.set_xticklabels(ax.get_xticklabels(),rotation=90)"
   ]
  },
  {
   "cell_type": "code",
   "execution_count": null,
   "metadata": {},
   "outputs": [],
   "source": [
    "ax = sns.boxplot(x=\"Fuel Type\", y=\"Highway MPG\", data=data)\n",
    "ax = ax.set_xticklabels(ax.get_xticklabels(),rotation=90)"
   ]
  },
  {
   "cell_type": "markdown",
   "metadata": {
    "colab_type": "text",
    "id": "DS84Hshoj4je"
   },
   "source": [
    "We can also draw box plot with nested grouping by two categorical variables. Let's say we want to add an additional layer classification in the above box plot based on the cylinder types 4.0 liters and 6.0 liters. Note that we have over 10 different categories of values in the column \"Cylinders\". Therefore the first step is to select/filter the data that we are interested in."
   ]
  },
  {
   "cell_type": "code",
   "execution_count": null,
   "metadata": {
    "colab": {},
    "colab_type": "code",
    "id": "YUnZlzD_j9zw"
   },
   "outputs": [],
   "source": [
    "cyl = [6.0,4.0,3.0]\n",
    "data.Cylinders.isin(cyl)"
   ]
  },
  {
   "cell_type": "code",
   "execution_count": null,
   "metadata": {},
   "outputs": [],
   "source": [
    "data.Cylinders"
   ]
  },
  {
   "cell_type": "code",
   "execution_count": null,
   "metadata": {},
   "outputs": [],
   "source": [
    "data1 = data[data.Cylinders.isin(cyl)]\n",
    "data1.shape"
   ]
  },
  {
   "cell_type": "code",
   "execution_count": null,
   "metadata": {},
   "outputs": [],
   "source": [
    "data1.head()"
   ]
  },
  {
   "cell_type": "markdown",
   "metadata": {
    "colab_type": "text",
    "id": "QRGMlDYRj7Yt"
   },
   "source": [
    "Now we can use the box plot on tis new data-frame as shown below:"
   ]
  },
  {
   "cell_type": "code",
   "execution_count": null,
   "metadata": {
    "colab": {},
    "colab_type": "code",
    "id": "RMEuNYmZkAc9"
   },
   "outputs": [],
   "source": [
    "ax = sns.boxplot(x=\"Fuel Type\", y=\"Highway MPG\", hue=\"Cylinders\",data=data1, palette=\"Set3\")\n",
    "ax = ax.set_xticklabels(ax.get_xticklabels(),rotation=90)"
   ]
  },
  {
   "cell_type": "markdown",
   "metadata": {
    "colab_type": "text",
    "id": "__G_YrGgkDZa"
   },
   "source": [
    "It is important to note that we are using Facetgrid feature of seaborn library as discussed in the previous class.\n",
    "\n",
    "More details on seaborn box plots can be found here"
   ]
  },
  {
   "cell_type": "markdown",
   "metadata": {
    "colab_type": "text",
    "id": "4Uy-IBeXkHwq"
   },
   "source": [
    "## Violin Plot\n",
    "The violin plot is very similar to the box plot. The main difference is that the box plot is of even width while the violin plot varies in thickness throughout the plot. The variation in thickness signifies how common a value is (with the thickest section signifying the mode average). There is an additional layer inside that signifies values that occur 95% of the time. Finally there is a central dot that signifies the median average value.\n",
    "\n",
    "The violin plot can be visualized using seaborn.\n",
    "\n"
   ]
  },
  {
   "cell_type": "code",
   "execution_count": null,
   "metadata": {
    "colab": {},
    "colab_type": "code",
    "id": "FLUDfQvEkKqH"
   },
   "outputs": [],
   "source": [
    "sns.violinplot(\"Combined MPG\", data=data)"
   ]
  },
  {
   "cell_type": "code",
   "execution_count": null,
   "metadata": {},
   "outputs": [],
   "source": [
    "sns.violinplot(\"Year\", data=data)"
   ]
  },
  {
   "cell_type": "code",
   "execution_count": null,
   "metadata": {},
   "outputs": [],
   "source": [
    "years = [2003, 2004, 2005]"
   ]
  },
  {
   "cell_type": "code",
   "execution_count": null,
   "metadata": {},
   "outputs": [],
   "source": [
    "df_years = data[data.Year.isin(years)]\n",
    "df_years.head()"
   ]
  },
  {
   "cell_type": "code",
   "execution_count": null,
   "metadata": {},
   "outputs": [],
   "source": [
    "sns.violinplot(\"Year\", \"Engine Displacement\", data=df_years)"
   ]
  },
  {
   "cell_type": "code",
   "execution_count": null,
   "metadata": {},
   "outputs": [],
   "source": [
    "years = [1985, 1995, 2005]\n",
    "\n",
    "df_years_2 = data[data.Year.isin(years)]\n",
    "df_years_2.head()"
   ]
  },
  {
   "cell_type": "code",
   "execution_count": null,
   "metadata": {},
   "outputs": [],
   "source": [
    "sns.violinplot(\"Year\", \"CO2 Emission Grams/Mile\", data=df_years_2)"
   ]
  },
  {
   "cell_type": "code",
   "execution_count": null,
   "metadata": {},
   "outputs": [],
   "source": [
    "sns.violinplot(\"Year\", \"Fuel Cost/Year\", data=df_years_2)"
   ]
  },
  {
   "cell_type": "markdown",
   "metadata": {
    "colab_type": "text",
    "id": "sgqbaF_UkLKq"
   },
   "source": [
    "## Histogram \n",
    "\n",
    "Histograms are great plots for a simplified look at the distribution of a dataset. We separate the data into bins and then plot the count in each bin. The number of bins can greatly alter how the histogram looks. Therefore, we need to be cautious of our selection of the number of bins. The default number of bins with Pandas is 10.\n",
    "\n",
    "As an example, we will plot the histogram for Fuel Barrels/Year.This is the histogram for the default 10 bins. Notice how it resembles the normal distribution."
   ]
  },
  {
   "cell_type": "code",
   "execution_count": null,
   "metadata": {},
   "outputs": [],
   "source": [
    "vehicles = pd.read_csv('vehicles.csv')"
   ]
  },
  {
   "cell_type": "code",
   "execution_count": null,
   "metadata": {
    "colab": {},
    "colab_type": "code",
    "id": "9ngdyo8skR55"
   },
   "outputs": [],
   "source": [
    "vehicles['Fuel Barrels/Year'].hist()"
   ]
  },
  {
   "cell_type": "markdown",
   "metadata": {
    "colab_type": "text",
    "id": "A5bcBY85kSYu"
   },
   "source": [
    "When we switch to 50 bins, the data almost looks bimodal."
   ]
  },
  {
   "cell_type": "code",
   "execution_count": null,
   "metadata": {
    "colab": {},
    "colab_type": "code",
    "id": "sLqyPOqpkUdd"
   },
   "outputs": [],
   "source": [
    "vehicles['Fuel Barrels/Year'].hist(bins=50)"
   ]
  },
  {
   "cell_type": "code",
   "execution_count": null,
   "metadata": {},
   "outputs": [],
   "source": [
    "vehicles['Fuel Barrels/Year'].mean()"
   ]
  },
  {
   "cell_type": "markdown",
   "metadata": {
    "colab_type": "text",
    "id": "EHWC3fgakWoA"
   },
   "source": [
    "### Using Seaborn for Histograms\n",
    "\n",
    "We can use the distplot() in seaborn to plot the distribution of variables"
   ]
  },
  {
   "cell_type": "code",
   "execution_count": null,
   "metadata": {},
   "outputs": [],
   "source": [
    "import numpy as np"
   ]
  },
  {
   "cell_type": "code",
   "execution_count": null,
   "metadata": {},
   "outputs": [],
   "source": [
    "x = np.random.normal(size=10000)"
   ]
  },
  {
   "cell_type": "code",
   "execution_count": null,
   "metadata": {
    "colab": {},
    "colab_type": "code",
    "id": "0pZW6o3vkb2n"
   },
   "outputs": [],
   "source": [
    "sns.distplot(x);"
   ]
  },
  {
   "cell_type": "code",
   "execution_count": null,
   "metadata": {
    "colab": {},
    "colab_type": "code",
    "id": "iZDfCROzkdsV"
   },
   "outputs": [],
   "source": [
    "sns.distplot(x, bins=20)\n"
   ]
  },
  {
   "cell_type": "code",
   "execution_count": null,
   "metadata": {},
   "outputs": [],
   "source": [
    "np.median(x)"
   ]
  },
  {
   "cell_type": "code",
   "execution_count": null,
   "metadata": {},
   "outputs": [],
   "source": [
    "p = np.random.poisson(size=10000)"
   ]
  },
  {
   "cell_type": "code",
   "execution_count": null,
   "metadata": {},
   "outputs": [],
   "source": [
    "sns.distplot(p)"
   ]
  },
  {
   "cell_type": "code",
   "execution_count": null,
   "metadata": {},
   "outputs": [],
   "source": [
    "sns.distplot(vehicles['Fuel Barrels/Year'])"
   ]
  },
  {
   "cell_type": "code",
   "execution_count": null,
   "metadata": {},
   "outputs": [],
   "source": [
    "sns.distplot(vehicles[\"Engine Displacement\"])"
   ]
  },
  {
   "cell_type": "code",
   "execution_count": null,
   "metadata": {},
   "outputs": [],
   "source": [
    "sns.distplot(vehicles[\"Fuel Cost/Year\"])"
   ]
  },
  {
   "cell_type": "markdown",
   "metadata": {
    "colab_type": "text",
    "id": "_g6FvwyDkgXE"
   },
   "source": [
    "## Bar Plots\n",
    "\n",
    "Bar plots are visually similar to histograms. However, they represent different data. Bar plots display categorical data while histograms display numerical data. Each bar shows the count of each category. This way we are able to clearly visualize the distribution of the data between the different categories.\n",
    "\n",
    "In this example we would like to plot the bar plot for drivetrain. In order to do this, we first find the counts of each category in this variable using the value_counts function."
   ]
  },
  {
   "cell_type": "code",
   "execution_count": null,
   "metadata": {
    "colab": {},
    "colab_type": "code",
    "id": "-cx7Zcr2ki5c"
   },
   "outputs": [],
   "source": [
    "data['Drivetrain'].value_counts().plot.bar()"
   ]
  },
  {
   "cell_type": "markdown",
   "metadata": {
    "colab_type": "text",
    "id": "zArlQl4KklEc"
   },
   "source": [
    "### Using Seaborn for Bar Plots\n",
    "\n",
    "We can use the barplot() as illustrated below:"
   ]
  },
  {
   "cell_type": "code",
   "execution_count": null,
   "metadata": {
    "colab": {},
    "colab_type": "code",
    "id": "EwBxbu_BkrN5"
   },
   "outputs": [],
   "source": [
    "ax = sns.barplot(x=\"Fuel Type\", y=\"Highway MPG\", data=data1)\n",
    "ax = ax.set_xticklabels(ax.get_xticklabels(),rotation=90)\n"
   ]
  },
  {
   "cell_type": "code",
   "execution_count": null,
   "metadata": {},
   "outputs": [],
   "source": [
    "ax = sns.barplot(x=\"Fuel Type\", y=\"Highway MPG\", hue=\"Cylinders\", data=data1)\n",
    "ax = ax.set_xticklabels(ax.get_xticklabels(),rotation=90)\n"
   ]
  },
  {
   "cell_type": "markdown",
   "metadata": {},
   "source": [
    "## Some Extra, Useful Plots"
   ]
  },
  {
   "cell_type": "code",
   "execution_count": null,
   "metadata": {},
   "outputs": [],
   "source": [
    "# Calculate correlations\n",
    "corr = vehicles.corr()\n",
    "\n",
    "# Heatmap\n",
    "sns.heatmap(corr)\n"
   ]
  },
  {
   "cell_type": "code",
   "execution_count": null,
   "metadata": {},
   "outputs": [],
   "source": [
    "sns.pairplot(vehicles)"
   ]
  },
  {
   "cell_type": "markdown",
   "metadata": {
    "colab_type": "text",
    "id": "adL8KXt2kru0"
   },
   "source": [
    "## Summary \n",
    "In this lesson we learned how to plot different visualizations that can help us discover information about our data. We learned about box plots and to visualize the 5-number summary as well as outliers. We learned about violin plots that add an element of frequency to box plots. We learned about histograms that can help us visualize the distribution of our data by bucketing the data and plotting the count in each bucket. Finally we learned about bar plots. These plots help us visualize the distribution in categorical data. Hopefully, all four visualizations will give us the tools we need to be effective at exploratory data analysis."
   ]
  },
  {
   "cell_type": "code",
   "execution_count": null,
   "metadata": {
    "colab": {},
    "colab_type": "code",
    "id": "znNI1ft8kvFl"
   },
   "outputs": [],
   "source": []
  }
 ],
 "metadata": {
  "colab": {
   "collapsed_sections": [],
   "name": "Exploratory_Data_Visualization_Charts.ipynb",
   "provenance": []
  },
  "kernelspec": {
   "display_name": "Python 3",
   "language": "python",
   "name": "python3"
  },
  "language_info": {
   "codemirror_mode": {
    "name": "ipython",
    "version": 3
   },
   "file_extension": ".py",
   "mimetype": "text/x-python",
   "name": "python",
   "nbconvert_exporter": "python",
   "pygments_lexer": "ipython3",
   "version": "3.7.4"
  }
 },
 "nbformat": 4,
 "nbformat_minor": 4
}
