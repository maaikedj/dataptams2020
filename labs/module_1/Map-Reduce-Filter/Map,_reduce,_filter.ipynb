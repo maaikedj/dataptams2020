{
 "cells": [
  {
   "cell_type": "markdown",
   "metadata": {
    "colab_type": "text",
    "id": "WHUY_sqgC4XV"
   },
   "source": [
    "# Map, reduce, filter"
   ]
  },
  {
   "cell_type": "markdown",
   "metadata": {
    "colab_type": "text",
    "id": "tc0TtrBIC1z7"
   },
   "source": [
    "## Introduction\n",
    "\n",
    "Mapping, and filtering are important concepts in functional programming. These concepts come up in other distributed programming frameworks and exist in Python as well. In this lesson we will expand on the functional programming concepts we have learned in previous lessons and apply these concepts using mapping, reducing, and filtering."
   ]
  },
  {
   "cell_type": "markdown",
   "metadata": {
    "colab_type": "text",
    "id": "_rMx7thkDPq3"
   },
   "source": [
    "## Functional Programming: Recap\n",
    "\n",
    "As we have learned in previous lessons, functional programming is a programming paradigm where code is written in such a way that avoids mutability or sharing state. Operations are performed by passing data through functions and storing the result in a new variable."
   ]
  },
  {
   "cell_type": "markdown",
   "metadata": {
    "colab_type": "text",
    "id": "Ib0t9QDXDZo0"
   },
   "source": [
    "### Immutability\n",
    "\n",
    "**An immutable object is an object that cannot be changed after it is created**. By sticking with functional programming, we ensure that no two processes will modify the same data. Instead, when each function modifies the data, it will then store the resulting data in a new variable. This results in cleaner, safer and easier to read code."
   ]
  },
  {
   "cell_type": "markdown",
   "metadata": {
    "colab_type": "text",
    "id": "TI9AJFIdDb-M"
   },
   "source": [
    "### Transforming State\n",
    "\n",
    "When writing functionally, we can think of a function as a mapping from input to output. An example of shared state is a computer game where we have multiple characters moving on the screen. Moving one character might affect another character, even unintentionally. **With functional programming this is not a concern for us**."
   ]
  },
  {
   "cell_type": "markdown",
   "metadata": {
    "colab_type": "text",
    "id": "LNcI1mt5Dpx1"
   },
   "source": [
    "## Mapping\n",
    "\n",
    "The goal of using the map() function is to apply a function to a sequence (like a list or a set). The map() function takes a function as an argument as well as a sequence and returns a sequence with the function applied to every element in the sequence. For example, let's create a function that divides a number by 2 and returns the result."
   ]
  },
  {
   "cell_type": "code",
   "execution_count": null,
   "metadata": {
    "colab": {},
    "colab_type": "code",
    "id": "XTIGhdKZC3wv"
   },
   "outputs": [],
   "source": [
    "# write a function that takes x as an input and returns half\n",
    "def half(x):\n",
    "    return x/2"
   ]
  },
  {
   "cell_type": "code",
   "execution_count": null,
   "metadata": {},
   "outputs": [],
   "source": [
    "# show that map works for an integer and float, but not for a list or tuple\n",
    "half([6.3, 5.2])"
   ]
  },
  {
   "cell_type": "markdown",
   "metadata": {
    "colab_type": "text",
    "id": "ICv9Q5_BDvyY"
   },
   "source": [
    "Now that we have our function, let's apply it to a list of numbers."
   ]
  },
  {
   "cell_type": "code",
   "execution_count": null,
   "metadata": {
    "colab": {
     "base_uri": "https://localhost:8080/",
     "height": 34
    },
    "colab_type": "code",
    "id": "a8EMdC-eDtPD",
    "outputId": "60c57296-f713-458e-cf08-071f7744fc41"
   },
   "outputs": [],
   "source": [
    "# use map to create a map object and apply it to the list of numbers\n",
    "l = [10, 12, 34, 23]\n",
    "var = map(half, l)\n",
    "print(list(var))"
   ]
  },
  {
   "cell_type": "markdown",
   "metadata": {
    "colab_type": "text",
    "id": "aDgOBMJXD1kp"
   },
   "source": [
    "The map() function creates a map object which is an iterable object. To create a new list, one option is to convert the iterable into a list."
   ]
  },
  {
   "cell_type": "code",
   "execution_count": null,
   "metadata": {
    "colab": {
     "base_uri": "https://localhost:8080/",
     "height": 34
    },
    "colab_type": "code",
    "id": "iuw9B7P9DyX0",
    "outputId": "42263b6e-8203-4978-b238-7a431f5ac246"
   },
   "outputs": [],
   "source": [
    "# convert the map object to a list\n",
    "list(map(half, l))"
   ]
  },
  {
   "cell_type": "markdown",
   "metadata": {
    "colab_type": "text",
    "id": "k_GH8HVxD8mL"
   },
   "source": [
    "Similarly, we can cast the iterable into a set."
   ]
  },
  {
   "cell_type": "code",
   "execution_count": null,
   "metadata": {
    "colab": {
     "base_uri": "https://localhost:8080/",
     "height": 34
    },
    "colab_type": "code",
    "id": "OzyC-E06D5GT",
    "outputId": "bf521bcf-cc5c-44b2-b324-eb0e39005575"
   },
   "outputs": [],
   "source": [
    "# convert the map object to a set\n",
    "set(map(half,l))"
   ]
  },
  {
   "cell_type": "markdown",
   "metadata": {
    "colab_type": "text",
    "id": "ujY8-tXkEBOo"
   },
   "source": [
    "## Filtering\n",
    "\n",
    "Like the map() function, the filter function takes a function and a sequence and returns an iterable. The goal of this function is to use the function we pass to it to remove elements from our sequence. **Our function should return true for all the elements we want to keep and false for the ones we want to remove.** For example, we can create a function that returns true if a number is odd and false if it is even. In fact, let's use a lambda expression for this task."
   ]
  },
  {
   "cell_type": "code",
   "execution_count": null,
   "metadata": {
    "colab": {},
    "colab_type": "code",
    "id": "aDg1BZfvD-YG"
   },
   "outputs": [],
   "source": [
    "# create a lambda function that determines whether an int has remainder of 1\n",
    "remainder = lambda x: x % 2 == 1\n",
    "\n",
    "def remainder_func(x):\n",
    "    if x > 10:\n",
    "        return 1\n",
    "    else:\n",
    "        return 0"
   ]
  },
  {
   "cell_type": "code",
   "execution_count": null,
   "metadata": {},
   "outputs": [],
   "source": [
    "# use remainder for int\n",
    "remainder(4)"
   ]
  },
  {
   "cell_type": "markdown",
   "metadata": {
    "colab_type": "text",
    "id": "Kjs_xwqhEGIt"
   },
   "source": [
    "Again, this returns an iterable, so we will cast it to a list."
   ]
  },
  {
   "cell_type": "code",
   "execution_count": null,
   "metadata": {},
   "outputs": [],
   "source": [
    "# create a filter object\n",
    "list(filter(remainder_func, l))"
   ]
  },
  {
   "cell_type": "code",
   "execution_count": null,
   "metadata": {
    "colab": {},
    "colab_type": "code",
    "id": "nloDrlZJEGfC"
   },
   "outputs": [],
   "source": [
    "# convert this object to a list\n",
    "l = [10, 12, 34, 23]\n",
    "\n",
    "list(filter(lambda x: x % 2 == 1, l))"
   ]
  },
  {
   "cell_type": "markdown",
   "metadata": {
    "colab_type": "text",
    "id": "AvCSI9_OEN5C"
   },
   "source": [
    "## Reducing\n",
    "\n",
    "While the map() function applies the function to each element in the sequence, sometimes we might want to apply a function that will **aggregate all elements in the sequence**. There are built-in examples in Python for this like the max() function or the sum() function. The reduce() does exactly this. This function is not standard in Python and needs to be imported from the functools library. The reduce function starts from the beginning of the sequence and operates on two elements at a time. This is why the function passed to **reduce() should always take two elements and return one.**\n",
    "\n",
    "For example, if we would like to create a summation function using reduce(), we will sum two elements at a time.\n",
    "\n",
    "Let's write a lambda expression that will take two elements and sum them."
   ]
  },
  {
   "cell_type": "code",
   "execution_count": null,
   "metadata": {
    "colab": {},
    "colab_type": "code",
    "id": "QhGzj-mPEPA2"
   },
   "outputs": [],
   "source": [
    "# create a lambda summation function\n",
    "summation = lambda a,b: a + b"
   ]
  },
  {
   "cell_type": "code",
   "execution_count": null,
   "metadata": {},
   "outputs": [],
   "source": [
    "# test summantion on two ints\n",
    "summation(3,5,6,7,9)"
   ]
  },
  {
   "cell_type": "markdown",
   "metadata": {
    "colab_type": "text",
    "id": "fn-0DEU-EnFZ"
   },
   "source": [
    "Here is the completed snippet of code to find the sum:"
   ]
  },
  {
   "cell_type": "code",
   "execution_count": null,
   "metadata": {
    "colab": {
     "base_uri": "https://localhost:8080/",
     "height": 34
    },
    "colab_type": "code",
    "id": "y0wCGlw8ESxq",
    "outputId": "b0a17c5a-e132-46b9-abb8-d2165297d658"
   },
   "outputs": [],
   "source": [
    "# import functools here\n",
    "from functools import reduce"
   ]
  },
  {
   "cell_type": "code",
   "execution_count": null,
   "metadata": {},
   "outputs": [],
   "source": [
    "# create a reduce object with lambda and l\n",
    "l = [10, 12, 34, 23]\n",
    "\n",
    "reduce(lambda a,b: a + b, l)"
   ]
  },
  {
   "cell_type": "markdown",
   "metadata": {
    "colab_type": "text",
    "id": "QldIcfGxFNwU"
   },
   "source": [
    "## Functional Programming in Pandas\n",
    "\n",
    "In pandas, we can use the apply() function to apply a function to a dataset. We do not make a distinction between functions that are applied to every row or every column and aggregate functions. We can use the apply function for both types.\n",
    "\n",
    "Here is an example of a dataframe."
   ]
  },
  {
   "cell_type": "code",
   "execution_count": null,
   "metadata": {
    "colab": {
     "base_uri": "https://localhost:8080/",
     "height": 173
    },
    "colab_type": "code",
    "id": "X5E6hfXNEqKz",
    "outputId": "7ca73e1b-ccb8-456e-ee00-bc905cbb0e37"
   },
   "outputs": [],
   "source": [
    "# Import pandas and numpy and generate df \n",
    "import numpy as np\n",
    "import pandas as pd\n",
    "\n",
    "df = pd.DataFrame(np.random.rand(4, 3), columns=['a', 'b', 'c'])\n",
    "df"
   ]
  },
  {
   "cell_type": "markdown",
   "metadata": {
    "colab_type": "text",
    "id": "Rsv2nSLcFW8D"
   },
   "source": [
    "We can use the half() function we defined earlier and apply it to every cell in the dataframe.|"
   ]
  },
  {
   "cell_type": "code",
   "execution_count": null,
   "metadata": {
    "colab": {
     "base_uri": "https://localhost:8080/",
     "height": 173
    },
    "colab_type": "code",
    "id": "GoRGhKnJFTBx",
    "outputId": "d93ee575-78bd-4a4a-a651-60d832175aaf"
   },
   "outputs": [],
   "source": [
    "def half(x):\n",
    "    return x/2\n",
    "# apply half to df \n",
    "\n",
    "df.apply(half)"
   ]
  },
  {
   "cell_type": "code",
   "execution_count": null,
   "metadata": {},
   "outputs": [],
   "source": [
    "# apply half to df.transpose\n",
    "#df.transpose().apply(half)"
   ]
  },
  {
   "cell_type": "markdown",
   "metadata": {
    "colab_type": "text",
    "id": "Y9ZCD6nUFmKy"
   },
   "source": [
    "Furthermore, we can define an aggregate function that will return the range of a column (the difference between the maximum and the minimum values)."
   ]
  },
  {
   "cell_type": "code",
   "execution_count": null,
   "metadata": {
    "colab": {},
    "colab_type": "code",
    "id": "OB8-BaB7FZ_G"
   },
   "outputs": [],
   "source": [
    "def range_func(x):\n",
    "    return max(x) - min(x)"
   ]
  },
  {
   "cell_type": "markdown",
   "metadata": {
    "colab_type": "text",
    "id": "pHNLIGpQFsf_"
   },
   "source": [
    "When we apply the function to our dataframe, it will compute the range for each column by default."
   ]
  },
  {
   "cell_type": "code",
   "execution_count": null,
   "metadata": {
    "colab": {
     "base_uri": "https://localhost:8080/",
     "height": 85
    },
    "colab_type": "code",
    "id": "c1gDsFUgFoqw",
    "outputId": "5195063f-a8d7-45f5-e531-db33804bca74"
   },
   "outputs": [],
   "source": [
    "# apply range to df\n",
    "df.transpose().apply(range_func)"
   ]
  },
  {
   "cell_type": "code",
   "execution_count": null,
   "metadata": {},
   "outputs": [],
   "source": [
    "# show apply with lambda functions\n",
    "df.transpose().apply(lambda x: max(x)- min(x))"
   ]
  },
  {
   "cell_type": "code",
   "execution_count": null,
   "metadata": {},
   "outputs": [],
   "source": [
    "df.apply(lambda x: sum(x)/2)"
   ]
  },
  {
   "cell_type": "markdown",
   "metadata": {
    "colab_type": "text",
    "id": "lYB3IkVJF7IA"
   },
   "source": [
    "## Summary\n",
    "\n",
    "In this lesson, we learned about an aspect of functional programming in Python. The map() function allows us to apply a function to an entire sequence. We use this function to map an input to an output in an immutable fashion. Similarly, the filter() function allows us to use a function to remove elements from a sequence that do not meet the condition specified by the function. The third function discussed in this lesson is the reduce() function. This function allows us to perform an aggregation on a sequence of elements. We perform this aggregation on two elements at a time. We have also learned how to apply functions to dataframes. We can use the same function both for applying a function to every cell and for aggregate functions. In upcoming lessons, we will be able to utilize these concepts to write code functionally.\n"
   ]
  }
 ],
 "metadata": {
  "colab": {
   "collapsed_sections": [],
   "name": "Map, reduce, filter.ipynb",
   "provenance": []
  },
  "kernelspec": {
   "display_name": "Python 3",
   "language": "python",
   "name": "python3"
  },
  "language_info": {
   "codemirror_mode": {
    "name": "ipython",
    "version": 3
   },
   "file_extension": ".py",
   "mimetype": "text/x-python",
   "name": "python",
   "nbconvert_exporter": "python",
   "pygments_lexer": "ipython3",
   "version": "3.7.4"
  }
 },
 "nbformat": 4,
 "nbformat_minor": 4
}
