{
 "cells": [
  {
   "cell_type": "code",
   "execution_count": null,
   "metadata": {},
   "outputs": [],
   "source": [
    "#importing libraries\n",
    "import pandas as pd\n",
    "import numpy as np\n",
    "import matplotlib.pyplot as plt\n",
    "import seaborn as sns\n",
    "import chart_studio.plotly as py\n",
    "import cufflinks as cf\n",
    "from ipywidgets import interact\n",
    "%matplotlib inline\n",
    "cf.go_offline()\n"
   ]
  },
  {
   "cell_type": "code",
   "execution_count": null,
   "metadata": {},
   "outputs": [],
   "source": [
    "# reading previously created files\n",
    "df = pd.read_csv(\"../data/df.csv\") \n",
    "percountry_df = pd.read_csv(\"../data/percountry_df.csv\") "
   ]
  },
  {
   "cell_type": "code",
   "execution_count": null,
   "metadata": {},
   "outputs": [],
   "source": [
    "# initial chart to see data\n",
    "df_cont_event =percountry_df[['continent', 'COUNTRY', 'EVENT_TYPE', 'EVENT_DATE']]\n",
    "df_cont_event\n",
    "\n",
    "@interact(Continent=list(df_cont_event['continent'].unique()))\n",
    "         \n",
    "def dyn_linec(Continent):\n",
    "    data = df_cont_event[(df_cont_event['continent'] == Continent)]\n",
    "    \n",
    "    data.pivot_table(index=['COUNTRY'], columns=['continent', 'EVENT_TYPE'], aggfunc=len).iplot(\n",
    "    kind='bar',xTitle='Country', yTitle='Total Events',title='Events per country')\n"
   ]
  },
  {
   "cell_type": "code",
   "execution_count": null,
   "metadata": {},
   "outputs": [],
   "source": [
    "#trying to find some correlations in all the data\n",
    "corr = df.corr()\n",
    "corr"
   ]
  },
  {
   "cell_type": "code",
   "execution_count": null,
   "metadata": {},
   "outputs": [],
   "source": [
    "# Generate a mask for the upper triangle\n",
    "mask = np.triu(np.ones_like(corr, dtype=np.bool))\n",
    "\n",
    "# Set up the matplotlib figure\n",
    "f, ax = plt.subplots(figsize=(20, 15))\n",
    "\n",
    "# Generate a custom diverging colormap\n",
    "cmap = sns.diverging_palette(220, 10, as_cmap=True)\n",
    "\n",
    "# Draw the heatmap with the mask and correct aspect ratio\n",
    "sns.heatmap(corr, mask=mask, cmap=cmap, vmax=.3, center=0,\n",
    "            square=True, linewidths=.5, cbar_kws={\"shrink\": .5});"
   ]
  },
  {
   "cell_type": "code",
   "execution_count": null,
   "metadata": {},
   "outputs": [],
   "source": [
    "# things I found interesting from above correlation graph:\n",
    "# 1 - negative correlation between GDP growth and total conflicts and fatalities, decreases for protest\n",
    "# 2 - Education has a low to none correlation between fatalities, but increases for protests, thus more education more protests\n",
    "# 3 - all Armed conflict lines are negatively correlated with labor force participation female pop %"
   ]
  },
  {
   "cell_type": "code",
   "execution_count": null,
   "metadata": {},
   "outputs": [],
   "source": [
    "# 1 - negative correlation between GDP growth and total conflicts and fatalities, decreases for protest\n",
    "df[['country',\n",
    "    'total conflicts 2019 per capita', \n",
    "    'total fatalities 2019 per capita',\n",
    "    'total Protests 2019 per capita',\n",
    "    'total Explosions/Remote violence 2019 per capita',\n",
    "    'total Battles 2019 per capita',\n",
    "    'GDP growth rate (annual %, const. 2005 prices)']].corr()"
   ]
  },
  {
   "cell_type": "code",
   "execution_count": null,
   "metadata": {},
   "outputs": [],
   "source": [
    "# 1 - negative correlation between GDP growth and total conflicts and fatalities, decreases for protest\n",
    "explpergdp = df[['country','total Explosions/Remote violence 2019 per capita','GDP growth rate (annual %, const. 2005 prices)']]\n",
    "\n",
    "explpergdp.iplot( x='total Explosions/Remote violence 2019 per capita', y='GDP growth rate (annual %, const. 2005 prices)', \n",
    "                 categories='country',xTitle='total Explosions/Remote violence per capita', yTitle='GDP growth per year', \n",
    "                 title='Impact of war on GDP growth')"
   ]
  },
  {
   "cell_type": "code",
   "execution_count": null,
   "metadata": {},
   "outputs": [],
   "source": [
    "# 2 - Education has an inverse correlation to fatalities, but increases for protests, \n",
    "# thus more education more protests & less fatalities\n",
    "\n",
    "eduvsprotes = df[['country','total Protests 2019 per capita','total fatalities 2019 per capita','Education: Tertiary gross enrol. ratio (f per 100 pop.)']] \n",
    "\n",
    "@interact(Selection=['total Protests 2019 per capita', 'total fatalities 2019 per capita'])\n",
    "def linechart(Selection):\n",
    "     eduvsprotes.iplot(kind='scatter',x=Selection, xTitle=Selection.title(),\n",
    "                       y='Education: Tertiary gross enrol. ratio (f per 100 pop.)',\n",
    "                       yTitle='terciary education (f per 100 pop.)',\n",
    "                       categories='country',\n",
    "                       title='Education vs Protests' + Selection.title())"
   ]
  },
  {
   "cell_type": "code",
   "execution_count": null,
   "metadata": {},
   "outputs": [],
   "source": []
  }
 ],
 "metadata": {
  "kernelspec": {
   "display_name": "Python 3",
   "language": "python",
   "name": "python3"
  },
  "language_info": {
   "codemirror_mode": {
    "name": "ipython",
    "version": 3
   },
   "file_extension": ".py",
   "mimetype": "text/x-python",
   "name": "python",
   "nbconvert_exporter": "python",
   "pygments_lexer": "ipython3",
   "version": "3.8.1"
  }
 },
 "nbformat": 4,
 "nbformat_minor": 4
}
