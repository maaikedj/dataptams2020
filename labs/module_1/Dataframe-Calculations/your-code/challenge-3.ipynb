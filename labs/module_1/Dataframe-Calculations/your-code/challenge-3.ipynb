{
 "cells": [
  {
   "cell_type": "markdown",
   "metadata": {
    "Collapsed": "false"
   },
   "source": [
    "# Challenge 3\n",
    "\n",
    "In this challenge we will work on the `Orders` data set. In your work you will apply the thinking process and workflow we showed you in Challenge 2.\n",
    "\n",
    "You are serving as a Business Intelligence Analyst at the headquarter of an international fashion goods chain store. Your boss today asked you to do two things for her:\n",
    "\n",
    "**First, identify two groups of customers from the data set.** The first group is **VIP Customers** whose **aggregated expenses** at your global chain stores are **above the 95th percentile** (aka. 0.95 quantile). The second group is **Preferred Customers** whose **aggregated expenses** are **between the 75th and 95th percentile**.\n",
    "\n",
    "**Second, identify which country has the most of your VIP customers, and which country has the most of your VIP+Preferred Customers combined.**"
   ]
  },
  {
   "cell_type": "markdown",
   "metadata": {
    "Collapsed": "false"
   },
   "source": [
    "## Q1: How to identify VIP & Preferred Customers?\n",
    "\n",
    "We start by importing all the required libraries:"
   ]
  },
  {
   "cell_type": "code",
   "execution_count": null,
   "metadata": {
    "Collapsed": "false"
   },
   "outputs": [],
   "source": [
    "# import required libraries\n",
    "import numpy as np\n",
    "import pandas as pd"
   ]
  },
  {
   "cell_type": "markdown",
   "metadata": {
    "Collapsed": "false"
   },
   "source": [
    "Next, import `Orders` from [here](https://drive.google.com/file/d/17oJ9NNbwJ8Wv4Jp-mLFiC59k72Brdyha/view?usp=sharing) and place it in the provided data folder. You will access the data folder with a relative path.\n",
    "Load `Orders` into a dataframe variable called `orders`. Print the head of `orders` to overview the data:"
   ]
  },
  {
   "cell_type": "code",
   "execution_count": null,
   "metadata": {
    "Collapsed": "false"
   },
   "outputs": [],
   "source": [
    "# your code here    \n",
    "orders = pd.read_csv('data/Orders.csv',index_col=0)\n",
    "\n",
    "orders.head()"
   ]
  },
  {
   "cell_type": "markdown",
   "metadata": {
    "Collapsed": "false"
   },
   "source": [
    "---\n",
    "\n",
    "\"Identify VIP and Preferred Customers\" is the non-technical goal of your boss. You need to translate that goal into technical languages that data analysts use:\n",
    "\n",
    "## How to label customers whose aggregated `amount_spent` is in a given quantile range?\n"
   ]
  },
  {
   "cell_type": "markdown",
   "metadata": {
    "Collapsed": "false"
   },
   "source": [
    "We break down the main problem into several sub problems:\n",
    "\n",
    "#### Sub Problem 1: How to aggregate the  `amount_spent` for unique customers?\n",
    "\n",
    "#### Sub Problem 2: How to select customers whose aggregated `amount_spent` is in a given quantile range?\n",
    "\n",
    "#### Sub Problem 3: How to label selected customers as \"VIP\" or \"Preferred\"?\n",
    "\n",
    "*Note: If you want to break down the main problem in a different way, please feel free to revise the sub problems above.*\n",
    "\n",
    "Now in the workspace below, tackle each of the sub problems using the iterative problem solving workflow. Insert cells as necessary to write your codes and explain your steps."
   ]
  },
  {
   "cell_type": "code",
   "execution_count": null,
   "metadata": {
    "Collapsed": "false"
   },
   "outputs": [],
   "source": [
    "# your code here\n",
    "#Sub Problem 1\n",
    "Total_spent = orders.groupby(['CustomerID'])[[\"amount_spent\"]].sum()\n",
    "Total_spent.head()"
   ]
  },
  {
   "cell_type": "code",
   "execution_count": null,
   "metadata": {},
   "outputs": [],
   "source": [
    "#Sub Problem 2\n",
    "\n",
    "Preferred_Cust = np.percentile(Total_spent['amount_spent'], 75)\n",
    "VIP_Cust = np.percentile(Total_spent['amount_spent'], 95)\n",
    "\n",
    "print(Preferred_Cust,VIP_Cust)\n",
    "\n",
    "def type_cust(x):\n",
    "    if x > VIP_Cust:\n",
    "        return 'VIP'\n",
    "    elif x > Preferred_Cust:\n",
    "        return 'Preferred'\n",
    "    else:\n",
    "        return 'normal'\n",
    "    \n",
    "    \n",
    "Total_spent['type_cust'] = Total_spent['amount_spent'].apply(type_cust)\n",
    "\n",
    "Total_spent.head()\n"
   ]
  },
  {
   "cell_type": "code",
   "execution_count": null,
   "metadata": {},
   "outputs": [],
   "source": [
    "#Sub Problem 3\n",
    "\n",
    "orders = pd.merge(orders, Total_spent, on='CustomerID')\n",
    "\n",
    "orders.head()\n"
   ]
  },
  {
   "cell_type": "markdown",
   "metadata": {
    "Collapsed": "false"
   },
   "source": [
    "Now we'll leave it to you to solve Q2 & Q3, which you can leverage from your solution for Q1:\n",
    "\n",
    "## Q2: How to identify which country has the most VIP Customers?"
   ]
  },
  {
   "cell_type": "code",
   "execution_count": null,
   "metadata": {
    "Collapsed": "false"
   },
   "outputs": [],
   "source": [
    "# your code here\n",
    "\n",
    "#currently customer ID's are repeated, so we need a new data frame with country, customer id and customer type, no duplicates\n",
    "#adding InvoiceNo because apparently I need a value\n",
    "VIP_Country = orders.groupby(['type_cust','Country','CustomerID'])[['InvoiceNo']].count()\n",
    "\n",
    "#resetting index to remove multiindex columns\n",
    "VIP_Country.reset_index(inplace=True)  \n",
    "\n",
    "VIP_Country\n"
   ]
  },
  {
   "cell_type": "code",
   "execution_count": null,
   "metadata": {},
   "outputs": [],
   "source": [
    "#selecting only VIP customers:\n",
    "VIP_Country = VIP_Country.loc[(VIP_Country['type_cust']=='VIP')]\n",
    "\n",
    "#group by country, count by customerID and sort to see which country has more VIP customers\n",
    "VIP_Country.groupby(['Country'])[['CustomerID']].count().sort_values(by='CustomerID',ascending=False)\n",
    "\n"
   ]
  },
  {
   "cell_type": "code",
   "execution_count": null,
   "metadata": {
    "Collapsed": "false"
   },
   "outputs": [],
   "source": [
    "## Q3: How to identify which country has the most VIP+Preferred Customers combined?\n"
   ]
  },
  {
   "cell_type": "code",
   "execution_count": null,
   "metadata": {
    "Collapsed": "false"
   },
   "outputs": [],
   "source": [
    "# your code here\n",
    "\n",
    "#currently customer ID's are repeated, so we need a new data frame with country, customer id and customer type, no duplicates\n",
    "#adding InvoiceNo because apparently I need a value\n",
    "Pref_VIP_Country = orders.groupby(['type_cust','Country','CustomerID'])[['InvoiceNo']].count()\n",
    "\n",
    "#resetting index to remove multiindex columns\n",
    "Pref_VIP_Country.reset_index(inplace=True)\n",
    "\n",
    "Pref_VIP_Country\n",
    "\n",
    "#selecting only Preferred customers:\n",
    "Pref_VIP_Country = Pref_VIP_Country.loc[(Pref_VIP_Country['type_cust']=='Preferred')]\n",
    "\n",
    "#Adding all VIP customers\n",
    "Pref_VIP_Country = Pref_VIP_Country.append(VIP_Country)\n",
    "\n",
    "#group by country, count by customerID and sort to see which country has more VIP+Preferred customers\n",
    "Pref_VIP_Country.groupby(['Country'])[['CustomerID']].count().sort_values(by='CustomerID',ascending=False)\n",
    "\n"
   ]
  }
 ],
 "metadata": {
  "kernelspec": {
   "display_name": "Python 3",
   "language": "python",
   "name": "python3"
  },
  "language_info": {
   "codemirror_mode": {
    "name": "ipython",
    "version": 3
   },
   "file_extension": ".py",
   "mimetype": "text/x-python",
   "name": "python",
   "nbconvert_exporter": "python",
   "pygments_lexer": "ipython3",
   "version": "3.8.1"
  }
 },
 "nbformat": 4,
 "nbformat_minor": 4
}
