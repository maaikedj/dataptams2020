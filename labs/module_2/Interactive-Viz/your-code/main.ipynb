{
 "cells": [
  {
   "cell_type": "markdown",
   "metadata": {
    "Collapsed": "false"
   },
   "source": [
    "# Interactive Visualization Lab\n",
    "\n",
    "Complete the following set of exercises to solidify your knowledge of interactive visualization using Plotly, Cufflinks, and IPyWidgets."
   ]
  },
  {
   "cell_type": "code",
   "execution_count": null,
   "metadata": {
    "Collapsed": "false"
   },
   "outputs": [],
   "source": [
    "import chart_studio.plotly as py\n",
    "\n",
    "import cufflinks as cf\n",
    "\n",
    "import pandas as pd\n",
    "\n",
    "import numpy as np\n",
    "\n",
    "%matplotlib inline\n",
    "\n",
    "cf.go_offline()\n",
    "\n",
    "import ipywidgets as widgets\n",
    "\n",
    "from ipywidgets import interact\n",
    "\n",
    "from ipywidgets import interact, interactive, fixed, interact_manual"
   ]
  },
  {
   "cell_type": "markdown",
   "metadata": {
    "Collapsed": "false"
   },
   "source": [
    "Please download the Online_retail dataset dataset from [here](https://drive.google.com/file/d/1jD7eQYnfcvbm1ksDbD12U22JtbKItU7E/view?usp=sharing), place it in the data folder.<br>\n",
    "Load the data:"
   ]
  },
  {
   "cell_type": "code",
   "execution_count": null,
   "metadata": {
    "Collapsed": "false"
   },
   "outputs": [],
   "source": [
    "data = pd.read_excel('../data/Online_Retail.xlsx')\n",
    "data.head()"
   ]
  },
  {
   "cell_type": "markdown",
   "metadata": {
    "Collapsed": "false"
   },
   "source": [
    "## 1. Create an interactive bar chart showing total quantity and revenue by country (excluding United Kingdom) for the month of April 2011."
   ]
  },
  {
   "cell_type": "code",
   "execution_count": null,
   "metadata": {
    "Collapsed": "false"
   },
   "outputs": [],
   "source": [
    "# Filter Date and Country:\n",
    "# Filter Date:\n",
    "start_date = \"2011-04-1\"\n",
    "end_date = \"2011-04-30\"\n",
    "\n",
    "after_start_date = data[\"InvoiceDate\"] >= start_date\n",
    "before_end_date = data[\"InvoiceDate\"] <= end_date\n",
    "between_two_dates = after_start_date & before_end_date\n",
    "filtered_dates = data.loc[between_two_dates]\n",
    "\n",
    "# Filter Country:\n",
    "filtered_dates = filtered_dates.loc[filtered_dates[\"Country\"] != \"United Kingdom\"]\n",
    "filtered_dates.head()\n",
    "\n",
    "# Interactive Plot:\n",
    "sales = filtered_dates[[\"Country\", \"Quantity\", \"Revenue\"]].groupby([\"Country\"]).agg(\"sum\")\n",
    "\n",
    "# sales.iplot(kind='bar')\n",
    "sales.iplot(kind='bar')\n"
   ]
  },
  {
   "cell_type": "markdown",
   "metadata": {
    "Collapsed": "false"
   },
   "source": [
    "## 2. Create an interactive line chart showing quantity and revenue sold to France between January 1st and May 31st 2011."
   ]
  },
  {
   "cell_type": "code",
   "execution_count": null,
   "metadata": {
    "Collapsed": "false"
   },
   "outputs": [],
   "source": [
    "# Filter Date and Country:\n",
    "# Filter Date:\n",
    "start_date = \"2011-01-1\"\n",
    "end_date = \"2011-05-31\"\n",
    "\n",
    "after_start_date = data[\"InvoiceDate\"] >= start_date\n",
    "before_end_date = data[\"InvoiceDate\"] <= end_date\n",
    "between_two_dates = after_start_date & before_end_date\n",
    "filtered_dates = data.loc[between_two_dates]\n",
    "\n",
    "# Filter France:\n",
    "filtered_dates = filtered_dates.loc[filtered_dates[\"Country\"] == \"France\"]\n",
    "filtered_dates.head()\n",
    "\n",
    "# Interactive Plot:\n",
    "sales = filtered_dates[[\"Country\", \"Quantity\", \"Revenue\"]].groupby([\"Country\"]).agg(\"sum\")\n",
    "\n",
    "sales.iplot(kind = \"line\")\n",
    "\n",
    "\n",
    "# Not sure why its showing a straight line which cannot be read visually.\n",
    "# Paolo: good effort, plot does not show here. You  should plot as a function of time so group by InvoceDate, this gives you the time\n",
    "# variable you can use to plot. You could group by InvoiceDate instead of Country. See cell below for example"
   ]
  },
  {
   "cell_type": "code",
   "execution_count": null,
   "metadata": {
    "Collapsed": "false"
   },
   "outputs": [],
   "source": [
    "# Filter Date and Country:\n",
    "# Filter Date:\n",
    "start_date = \"2011-01-1\"\n",
    "end_date = \"2011-05-31\"\n",
    "\n",
    "after_start_date = data[\"InvoiceDate\"] >= start_date\n",
    "before_end_date = data[\"InvoiceDate\"] <= end_date\n",
    "between_two_dates = after_start_date & before_end_date\n",
    "filtered_dates = data.loc[between_two_dates]\n",
    "\n",
    "# Filter France:\n",
    "filtered_dates = filtered_dates.loc[filtered_dates[\"Country\"] == \"France\"]\n",
    "filtered_dates.head()\n",
    "\n",
    "# Interactive Plot'\n",
    "sales = filtered_dates.groupby('InvoiceDate').sum()[['Quantity','Revenue']]\n",
    "\n",
    "sales.iplot(kind = \"scatter\")\n",
    "\n",
    "\n"
   ]
  },
  {
   "cell_type": "markdown",
   "metadata": {
    "Collapsed": "false"
   },
   "source": [
    "## 3. Create an interactive scatter plot showing the relationship between average quantity (x-axis) and average unit price (y-axis) for the product PARTY BUNTING with the plot points color-coded by country (categories)."
   ]
  },
  {
   "cell_type": "code",
   "execution_count": null,
   "metadata": {
    "Collapsed": "false"
   },
   "outputs": [],
   "source": [
    "filter_product = data.loc[data[\"Description\"] == \"PARTY BUNTING\"]\n",
    " \n",
    "filter_product.iplot(x='Quantity', y='UnitPrice', categories='Country', xTitle='Quantity', yTitle='UnitPrice')\n",
    "#Paolo: good approach but remember that you are asked about average values so yuo should average quanity and unit price"
   ]
  },
  {
   "cell_type": "markdown",
   "metadata": {
    "Collapsed": "false"
   },
   "source": [
    "## 4. Create a set of interactive histograms showing the distributions of quantity per invoice for the following countries: EIRE, Germany, France, and Netherlands."
   ]
  },
  {
   "cell_type": "code",
   "execution_count": null,
   "metadata": {
    "Collapsed": "false"
   },
   "outputs": [],
   "source": [
    "selected_countries = data[data[\"Country\"].isin(['EIRE', 'Germany', 'France', 'Netherlands'])]\n",
    "\n",
    "x = selected_countries.pivot_table(values='Quantity', columns='Country', index='InvoiceNo', aggfunc='sum')\n",
    "\n",
    "x.iplot(kind = 'hist',subplots=True, xTitle='Number of Invoices', yTitle='Quantity')\n",
    "\n",
    "# Not sure if this is correct as I do not know if the x-axis is number of invoices. Its very confusing.\n",
    "#Paolo:Yes it is correct!\n"
   ]
  },
  {
   "cell_type": "markdown",
   "metadata": {
    "Collapsed": "false"
   },
   "source": [
    "## 5. Create an interactive side-by-side bar chart showing the revenue by country listed below (bars) for each of the products listed below."
   ]
  },
  {
   "cell_type": "code",
   "execution_count": null,
   "metadata": {
    "Collapsed": "false"
   },
   "outputs": [],
   "source": [
    "# product_list = ['JUMBO BAG RED RETROSPOT', \n",
    "#                 'CREAM HANGING HEART T-LIGHT HOLDER',\n",
    "#                 'REGENCY CAKESTAND 3 TIER']\n",
    "\n",
    "country_list = ['EIRE', 'Germany', 'France', 'Netherlands']"
   ]
  },
  {
   "cell_type": "code",
   "execution_count": null,
   "metadata": {
    "Collapsed": "false"
   },
   "outputs": [],
   "source": [
    "product_list = selected_countries[selected_countries[\"Description\"].isin(['JUMBO BAG RED RETROSPOT', 'CREAM HANGING HEART T-LIGHT HOLDER', \n",
    "                               'REGENCY CAKESTAND 3 TIER'])]\n",
    "\n",
    "\n",
    "combined = product_list.pivot_table(values='Revenue', columns='Country', index='Description', aggfunc='sum')\n",
    "\n",
    "combined.iplot(kind='bar', xTitle='Type of Product per Country', yTitle='Revenue', title='Revenue per country per product')\n",
    "\n",
    "\n",
    "#Paolo: yes!"
   ]
  },
  {
   "cell_type": "markdown",
   "metadata": {
    "Collapsed": "false"
   },
   "source": [
    "## 6. Create an interactive line chart showing quantity sold by day for the United Kingdom. Add drop-down boxes for Year and Month that allow you to filter the date range that appears in the chart."
   ]
  },
  {
   "cell_type": "code",
   "execution_count": null,
   "metadata": {
    "Collapsed": "false"
   },
   "outputs": [],
   "source": [
    "data['Year'] = pd.DatetimeIndex(data['InvoiceDate']).year\n",
    "data['Month'] = pd.DatetimeIndex(data['InvoiceDate']).month\n",
    "data['Day'] = pd.DatetimeIndex(data['InvoiceDate']).day\n",
    "uk = data[data['Country']=='United Kingdom']"
   ]
  },
  {
   "cell_type": "code",
   "execution_count": null,
   "metadata": {
    "Collapsed": "false"
   },
   "outputs": [],
   "source": [
    "uk"
   ]
  },
  {
   "cell_type": "code",
   "execution_count": null,
   "metadata": {
    "Collapsed": "false"
   },
   "outputs": [],
   "source": [
    "\n",
    "@interact(Selection=['Year', 'Month'])\n",
    "\n",
    "def linechart(Selection):\n",
    "        data = uk.pivot_table(values='Quantity', columns=Selection,\n",
    "                            index='Day', aggfunc='mean').reset_index()\n",
    "\n",
    "        data.iplot(kind='line', x='Day', xTitle='Day', \n",
    "               yTitle='Quantity sold by day', title='Quantity sold by day in the United Kingdom' + Selection.title())\n",
    "\n",
    "#Paolo: good effort, you could also have tried per year and then per month within the year. See cell below."
   ]
  },
  {
   "cell_type": "code",
   "execution_count": null,
   "metadata": {},
   "outputs": [],
   "source": [
    "@interact(Year=uk['Year'].unique(), \n",
    "          Month=uk['Month'].unique())\n",
    "\n",
    "def linechart(Year, Month):\n",
    "    df = uk[(uk['Year']==Year) & (uk['Month']==Month)]\n",
    "    grouped = df.groupby('Day').agg('sum')['Quantity']\n",
    "    grouped.iplot(kind='line', title='UK Sales Quantity by Day')"
   ]
  },
  {
   "cell_type": "markdown",
   "metadata": {
    "Collapsed": "false"
   },
   "source": [
    "# Bonus challenges"
   ]
  },
  {
   "cell_type": "markdown",
   "metadata": {
    "Collapsed": "false"
   },
   "source": [
    "## 7. Create an interactive scatter plot that plots number of invoices (x-axis) vs. number of customers (y-axis) and the plot points represent individual products. Add two sliders that control the x and y axis ranges."
   ]
  },
  {
   "cell_type": "code",
   "execution_count": null,
   "metadata": {
    "Collapsed": "false"
   },
   "outputs": [],
   "source": [
    "agg_func = {'InvoiceNo':'nunique',\n",
    "            'Quantity':'sum',\n",
    "            'UnitPrice':'mean',\n",
    "            'Revenue':'sum',\n",
    "            'CustomerID':'nunique'}\n",
    "\n",
    "products = uk.groupby('Description').agg(agg_func)"
   ]
  },
  {
   "cell_type": "code",
   "execution_count": null,
   "metadata": {
    "Collapsed": "false"
   },
   "outputs": [],
   "source": []
  },
  {
   "cell_type": "markdown",
   "metadata": {
    "Collapsed": "false"
   },
   "source": [
    "## 8. Creat an interactive bar chart that shows revenue by product description. Add a text field widget that filters the results to show the product that contain the text entered in their description."
   ]
  },
  {
   "cell_type": "code",
   "execution_count": null,
   "metadata": {
    "Collapsed": "false"
   },
   "outputs": [],
   "source": []
  }
 ],
 "metadata": {
  "hide_input": false,
  "kernelspec": {
   "display_name": "Python 3",
   "language": "python",
   "name": "python3"
  },
  "language_info": {
   "codemirror_mode": {
    "name": "ipython",
    "version": 3
   },
   "file_extension": ".py",
   "mimetype": "text/x-python",
   "name": "python",
   "nbconvert_exporter": "python",
   "pygments_lexer": "ipython3",
   "version": "3.7.4"
  },
  "latex_envs": {
   "LaTeX_envs_menu_present": true,
   "autoclose": false,
   "autocomplete": true,
   "bibliofile": "biblio.bib",
   "cite_by": "apalike",
   "current_citInitial": 1,
   "eqLabelWithNumbers": true,
   "eqNumInitial": 1,
   "hotkeys": {
    "equation": "Ctrl-E",
    "itemize": "Ctrl-I"
   },
   "labels_anchors": false,
   "latex_user_defs": false,
   "report_style_numbering": false,
   "user_envs_cfg": false
  },
  "toc": {
   "base_numbering": 1,
   "nav_menu": {},
   "number_sections": true,
   "sideBar": true,
   "skip_h1_title": false,
   "title_cell": "Table of Contents",
   "title_sidebar": "Contents",
   "toc_cell": false,
   "toc_position": {},
   "toc_section_display": true,
   "toc_window_display": false
  }
 },
 "nbformat": 4,
 "nbformat_minor": 4
}
