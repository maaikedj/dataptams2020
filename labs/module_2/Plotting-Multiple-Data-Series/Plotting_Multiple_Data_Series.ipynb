{
 "cells": [
  {
   "cell_type": "markdown",
   "metadata": {
    "colab_type": "text",
    "id": "l2nahUf4rBLv"
   },
   "source": [
    "# Plotting Multiple Data Series "
   ]
  },
  {
   "cell_type": "markdown",
   "metadata": {
    "colab_type": "text",
    "id": "lsf_N26hrCdn"
   },
   "source": [
    "## Introduction \n",
    "\n",
    "There are many cases when a more elaborate visualization can help us understand our data better. Therefore, in this lesson we will focus on generating such visualizations."
   ]
  },
  {
   "cell_type": "markdown",
   "metadata": {
    "colab_type": "text",
    "id": "jDMkOFzurGxk"
   },
   "source": [
    "## MULTIPLE LINE PLOTS\n",
    "Recalling our vehicles dataset, we might want to compare the relationship between city MPG, highway MPG and CO2 emissions.\n",
    "\n",
    "In order to do this, we can use the .plot function in Pandas. With this function, we can specify which variables will be in the x axis and which will be in the y axis. We will put CO2 emissions in the x axis and the MPG variables in the y axis.\n",
    "\n",
    "In order to get a meaningful visualization, we should sort our DataFrame by these variables first. This is because Python does not sort by default. It will just connect a line between any two points in the chart that are sequential. This can lead to a very unclear chart.\n",
    "\n",
    "In the code examples below, we use the vehicles dataset."
   ]
  },
  {
   "cell_type": "code",
   "execution_count": null,
   "metadata": {
    "colab": {},
    "colab_type": "code",
    "id": "nv6pXhniq9oW"
   },
   "outputs": [],
   "source": [
    "%matplotlib inline\n",
    "import numpy as np\n",
    "import pandas as pd\n",
    "import matplotlib.pyplot as plt"
   ]
  },
  {
   "cell_type": "code",
   "execution_count": null,
   "metadata": {},
   "outputs": [],
   "source": [
    "vehicles = pd.read_csv('vehicles.csv')"
   ]
  },
  {
   "cell_type": "code",
   "execution_count": null,
   "metadata": {},
   "outputs": [],
   "source": [
    "vehicles.head()"
   ]
  },
  {
   "cell_type": "code",
   "execution_count": null,
   "metadata": {},
   "outputs": [],
   "source": [
    "vehicles.sort_values(by=[\"CO2 Emission Grams/Mile\", \"City MPG\", \"Highway MPG\"], inplace=True)"
   ]
  },
  {
   "cell_type": "code",
   "execution_count": null,
   "metadata": {},
   "outputs": [],
   "source": [
    "vehicles.plot(x=\"CO2 Emission Grams/Mile\", y=[\"City MPG\"])"
   ]
  },
  {
   "cell_type": "code",
   "execution_count": null,
   "metadata": {},
   "outputs": [],
   "source": [
    "vehicles.plot(x=\"CO2 Emission Grams/Mile\", y=[\"Highway MPG\"])"
   ]
  },
  {
   "cell_type": "code",
   "execution_count": null,
   "metadata": {},
   "outputs": [],
   "source": [
    "vehicles.plot(x=\"CO2 Emission Grams/Mile\", y=[\"City MPG\", \"Highway MPG\"])"
   ]
  },
  {
   "cell_type": "markdown",
   "metadata": {
    "colab_type": "text",
    "id": "WLfrgRmqrMCN"
   },
   "source": [
    "## MULTIPLE BAR PLOTS\n",
    "When plotting categorical data, there is value to plotting two or more groups side by side and being able to compare them. There are a few ways of creating such a plot."
   ]
  },
  {
   "cell_type": "markdown",
   "metadata": {
    "colab_type": "text",
    "id": "EVtfI8_1rOn3"
   },
   "source": [
    "### Side By Side Bar Plots\n",
    "If we include multiple columns in our bar plot, they will show up side by side in different colors.\n",
    "\n",
    "In the example below we aggregate both highway and city MPG by drivetrain. Since a bar plot will plot one value per group, we will aggregate and compute the mean."
   ]
  },
  {
   "cell_type": "code",
   "execution_count": null,
   "metadata": {},
   "outputs": [],
   "source": [
    "vehicles[[\"Highway MPG\", \"City MPG\"]].agg(\"mean\")"
   ]
  },
  {
   "cell_type": "code",
   "execution_count": null,
   "metadata": {},
   "outputs": [],
   "source": [
    "vehicles[[\"Highway MPG\", \"City MPG\", \"Drivetrain\"]].groupby([\"Drivetrain\"]).agg(\"mean\")"
   ]
  },
  {
   "cell_type": "code",
   "execution_count": null,
   "metadata": {
    "colab": {},
    "colab_type": "code",
    "id": "LaBaUn8lrRGT"
   },
   "outputs": [],
   "source": [
    "vehicles_mean = vehicles[[\"Highway MPG\", \"City MPG\", \"Drivetrain\"]].groupby([\"Drivetrain\"]).agg(\"mean\")\n",
    "vehicles_mean.plot.bar()"
   ]
  },
  {
   "cell_type": "code",
   "execution_count": null,
   "metadata": {},
   "outputs": [],
   "source": [
    "vehicles[[\"Highway MPG\", \"City MPG\", \"Drivetrain\"]].groupby([\"Drivetrain\"]).agg(\"mean\").plot.bar() "
   ]
  },
  {
   "cell_type": "markdown",
   "metadata": {
    "colab_type": "text",
    "id": "E2e0d-IwrVHU"
   },
   "source": [
    "### Side By Side Horizontal Bar Plots\n",
    "We can use the .barh function to produce horizontal bars."
   ]
  },
  {
   "cell_type": "code",
   "execution_count": null,
   "metadata": {
    "colab": {},
    "colab_type": "code",
    "id": "qd6LWesfrWIv"
   },
   "outputs": [],
   "source": [
    "vehicles_mean.plot.barh()"
   ]
  },
  {
   "cell_type": "markdown",
   "metadata": {
    "colab_type": "text",
    "id": "_wUczaCsrY-H"
   },
   "source": [
    "## SCATTER MATRICES\n",
    "A scatter matrix is a useful tool particularly in exploratory data analysis. We can look at the pairwise relationships between multiple variables at the same time. Typically what we look for is linear relationships between the pairs of variables. This information can help us in the future when modeling the data. There are also non linear relationships that we can detect like a logarithmic or exponential relationship between two variables. In this case, we can apply a transformation to the variables to produce a linear relationship.\n",
    "\n",
    "We will be using the scatter_matrix function. This function will create a scatter plot for any two numeric variables in our data.\n",
    "\n",
    "By default the scatter matrix displays the histogram of each variable along the diagonal. We can also show the kernel density estimation along the diagonal instead."
   ]
  },
  {
   "cell_type": "code",
   "execution_count": null,
   "metadata": {
    "colab": {},
    "colab_type": "code",
    "id": "EfMpiB2hrYVJ"
   },
   "outputs": [],
   "source": [
    "pd.plotting.scatter_matrix(vehicles) #, figsize=(50,50))\n",
    "plt.show()"
   ]
  },
  {
   "cell_type": "markdown",
   "metadata": {
    "colab_type": "text",
    "id": "RB3wqOlVreml"
   },
   "source": [
    "This visualization may seem a bit cluttered but it tells us quite a bit about our data. The main takeaways are that there is a linear relationship between combined MPG, city MPG and highway MPG. There is a non linear relationship between MPG and CO2 emissions and MPG and fuel cost per year. The relationship between those pairs of variables could benefit from a transformation in order to make those relationships linear.\n",
    "\n"
   ]
  },
  {
   "cell_type": "code",
   "execution_count": null,
   "metadata": {},
   "outputs": [],
   "source": [
    "import seaborn as sns"
   ]
  },
  {
   "cell_type": "code",
   "execution_count": null,
   "metadata": {},
   "outputs": [],
   "source": [
    "sns.pairplot(vehicles)"
   ]
  },
  {
   "cell_type": "code",
   "execution_count": null,
   "metadata": {},
   "outputs": [],
   "source": [
    "sns.pairplot(vehicles, hue = \"Cylinders\") "
   ]
  },
  {
   "cell_type": "markdown",
   "metadata": {
    "colab_type": "text",
    "id": "F7zeDPNbrghJ"
   },
   "source": [
    "## Summary \n",
    "\n",
    "In this lesson we learned how to plot multiple pieces of information in one chart. We plotted two line graphs in one chart as well as two bar graphs. Additionally, we created a scatter chart with all pairwise combinations in a dataset. These charts can be very useful; however, we must perform appropriate data transformations sometimes in order to make them more interpretable. The code snippets presented in this lesson will serve you as a template to create you own dataset visualizations for your projects."
   ]
  },
  {
   "cell_type": "code",
   "execution_count": null,
   "metadata": {
    "colab": {},
    "colab_type": "code",
    "id": "jRjVlfZ0rjAy"
   },
   "outputs": [],
   "source": []
  }
 ],
 "metadata": {
  "colab": {
   "authorship_tag": "ABX9TyPHeLOUGmdJ2zB5Qvf8K2xg",
   "collapsed_sections": [],
   "name": "Plotting_Multiple_Data_Series.ipynb",
   "provenance": []
  },
  "kernelspec": {
   "display_name": "Python 3",
   "language": "python",
   "name": "python3"
  },
  "language_info": {
   "codemirror_mode": {
    "name": "ipython",
    "version": 3
   },
   "file_extension": ".py",
   "mimetype": "text/x-python",
   "name": "python",
   "nbconvert_exporter": "python",
   "pygments_lexer": "ipython3",
   "version": "3.7.6"
  }
 },
 "nbformat": 4,
 "nbformat_minor": 4
}
