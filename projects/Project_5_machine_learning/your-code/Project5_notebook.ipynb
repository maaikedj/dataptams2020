{
 "cells": [
  {
   "cell_type": "markdown",
   "metadata": {},
   "source": [
    "# Project 5: mini machine learning project\n",
    "\n",
    "Maaike de Jong \n",
    "\n",
    "Ironhack Amsterdam Data Analytics 2020\n",
    "\n",
    "### Notebook 1: data wrangling\n"
   ]
  },
  {
   "cell_type": "markdown",
   "metadata": {},
   "source": [
    "This project uses the data from project 2: Sustainability in Amsterdam\n",
    "\n",
    "In this project I will use Machine Learning models to see to what extent green indicator variables can predict income and Amsterdam city district. My questions are:\n",
    "\n",
    "Q1: How well do energy label scores and number of solar panels predict income?  \n",
    "Q2: Can energy scores, solar panels and income predict the city district?\n",
    "\n",
    "I used the following datasets:  \n",
    "From the [maps data portal](https://maps.amsterdam.nl/open_geodata/) of the Amsterdam city council:\n",
    "\n",
    "- Solar panels (Zonnepanelen)\n",
    "- Postcodes (PC6_VLAKKEN_BAG.csv)\n",
    "- Neighbourhoods (GEBIED_BUURTEN.csv)\n",
    "- City districts (GEBIED_STADSDELEN.csv)\n",
    "\n",
    "From [Overheid.nl](overheid.nl):\n",
    "\n",
    "- Energylabels in Amsterdam\n",
    "- Income per Amsterdam area\n",
    "All datasets can be found in this [google folder](https://drive.google.com/drive/folders/19VhvQbT89SLKaLnWsP20jhrTrqCvwMbd) \n",
    "\n",
    "This is the first part of two notebooks, here I combine variables from different datasets into the dataset used for the analysis in notebook 2. "
   ]
  },
  {
   "cell_type": "code",
   "execution_count": null,
   "metadata": {},
   "outputs": [],
   "source": [
    "# Import packages\n",
    "\n",
    "import geopandas\n",
    "import numpy as np\n",
    "import pandas as pd\n",
    "from shapely.geometry import Point\n",
    "from shapely.geometry.polygon import Polygon\n",
    "from shapely import wkt"
   ]
  },
  {
   "cell_type": "code",
   "execution_count": null,
   "metadata": {},
   "outputs": [],
   "source": [
    "# Import energy label data\n",
    "energy_labels = pd.read_csv('Energielabels_selectie gemeentes Amsterdam 4-1-2012.csv', sep = ';')\n",
    "energy_labels.head()"
   ]
  },
  {
   "cell_type": "code",
   "execution_count": null,
   "metadata": {},
   "outputs": [],
   "source": [
    "energy_labels.shape"
   ]
  },
  {
   "cell_type": "code",
   "execution_count": null,
   "metadata": {},
   "outputs": [],
   "source": [
    "energy_labels['woningtype'].value_counts()"
   ]
  },
  {
   "cell_type": "code",
   "execution_count": null,
   "metadata": {},
   "outputs": [],
   "source": [
    "# select postcode and energy class columns into new df\n",
    "energy_labels_df = energy_labels[['Pand_postcode', 'PandVanMeting_energieklasse']]\n",
    "energy_labels_df = energy_labels_df.rename(columns = {'PandVanMeting_energieklasse':'energy_class', 'Pand_postcode': 'postcode'})\n",
    "energy_labels_df.head()"
   ]
  },
  {
   "cell_type": "code",
   "execution_count": null,
   "metadata": {},
   "outputs": [],
   "source": [
    "# check energy_classes\n",
    "labels_list = sorted(list(set(energy_labels_df['energy_class'])))\n",
    "labels_list"
   ]
  },
  {
   "cell_type": "code",
   "execution_count": null,
   "metadata": {},
   "outputs": [],
   "source": [
    "# add extra column with energy classes converted to numerical score\n",
    "energy_labels_df['energy_class_score'] = energy_labels_df['energy_class'].replace({'A++': 9, 'A+': 8, 'A': 7, 'B': 6, 'C': 5, 'D': 4, 'E': 3, 'F': 2, 'G': 1})\n",
    "energy_labels_df.head()"
   ]
  },
  {
   "cell_type": "code",
   "execution_count": null,
   "metadata": {},
   "outputs": [],
   "source": [
    "# add buurtcodes\n",
    "postcodes = pd.read_csv('PC6_VLAKKEN_BAG.csv', sep = ';')\n",
    "postcodes = postcodes.rename(columns = {'Postcode6':'postcode'})\n",
    "postcodes.head()"
   ]
  },
  {
   "cell_type": "code",
   "execution_count": null,
   "metadata": {},
   "outputs": [],
   "source": [
    "pc_select = postcodes[['postcode', 'Buurtcode']]"
   ]
  },
  {
   "cell_type": "code",
   "execution_count": null,
   "metadata": {},
   "outputs": [],
   "source": [
    "# join buurten \n",
    "\n",
    "energy_buurten = pd.merge(energy_labels_df, pc_select, on = 'postcode', how = 'left')\n",
    "energy_buurten.head()"
   ]
  },
  {
   "cell_type": "code",
   "execution_count": null,
   "metadata": {},
   "outputs": [],
   "source": [
    "# create df with average energy class scores by buurt\n",
    "\n",
    "energy_buurt = energy_buurten.groupby('Buurtcode')[['energy_class_score']].mean().reset_index()\n",
    "\n",
    "energy_buurt.head()"
   ]
  },
  {
   "cell_type": "code",
   "execution_count": null,
   "metadata": {},
   "outputs": [],
   "source": [
    "energy_buurt.shape"
   ]
  },
  {
   "cell_type": "code",
   "execution_count": null,
   "metadata": {},
   "outputs": [],
   "source": [
    "#import solar panel csv as pandas dataframe\n",
    "solar_panels = pd.read_csv('ZONNEPANELEN2017.csv', sep = ';')\n",
    "solar_panels.head()\n"
   ]
  },
  {
   "cell_type": "code",
   "execution_count": null,
   "metadata": {},
   "outputs": [],
   "source": [
    "solar_panels.shape"
   ]
  },
  {
   "cell_type": "code",
   "execution_count": null,
   "metadata": {},
   "outputs": [],
   "source": [
    "#Use shapely.wkt sub-module to parse wkt format\n",
    "solar_panels['WKT_LAT_LNG'] = solar_panels['WKT_LAT_LNG'].str.replace(',',' ')\n",
    "\n",
    "solar_panels['WKT_LAT_LNG'] = solar_panels['WKT_LAT_LNG'].apply(wkt.loads)"
   ]
  },
  {
   "cell_type": "code",
   "execution_count": null,
   "metadata": {},
   "outputs": [],
   "source": [
    "#convert to geodataframe\n",
    "solar_gdf = geopandas.GeoDataFrame(solar_panels, geometry='WKT_LAT_LNG')\n",
    "\n",
    "solar_gdf.head()"
   ]
  },
  {
   "cell_type": "code",
   "execution_count": null,
   "metadata": {},
   "outputs": [],
   "source": [
    "#check whether the 'point' columns are the right datatypes\n",
    "type(solar_gdf.WKT_LAT_LNG)"
   ]
  },
  {
   "cell_type": "code",
   "execution_count": null,
   "metadata": {},
   "outputs": [],
   "source": [
    "# then do a spatial join with the buurten geodata\n",
    "# Import file with buurten to area conversion\n",
    "buurten = pd.read_csv('GEBIED_BUURTEN.csv', sep = ';')\n",
    "buurten.head()"
   ]
  },
  {
   "cell_type": "code",
   "execution_count": null,
   "metadata": {},
   "outputs": [],
   "source": [
    "#Use shapely.wkt sub-module to parse wkt format\n",
    "#buurten['WKT_LAT_LNG'] = buurten['WKT_LAT_LNG'].str.replace(',',' ')\n",
    "\n",
    "buurten['WKT_LAT_LNG'] = buurten['WKT_LAT_LNG'].apply(wkt.loads)"
   ]
  },
  {
   "cell_type": "code",
   "execution_count": null,
   "metadata": {},
   "outputs": [],
   "source": [
    "#convert to geodataframe\n",
    "buurten_gdf = geopandas.GeoDataFrame(buurten, geometry='WKT_LAT_LNG')"
   ]
  },
  {
   "cell_type": "code",
   "execution_count": null,
   "metadata": {},
   "outputs": [],
   "source": [
    "#select relevant columns from solar_gdf\n",
    "solar_select = solar_gdf[['Functie', 'Gedetecteerde_panelen', 'WKT_LAT_LNG']]\n",
    "solar_select = solar_select.rename(columns = {'Gedetecteerde_panelen':'solar_panels'})\n",
    "solar_select2 = solar_select[solar_select['Functie'] == 'Wonen']"
   ]
  },
  {
   "cell_type": "code",
   "execution_count": null,
   "metadata": {},
   "outputs": [],
   "source": [
    "solar_select2.head()"
   ]
  },
  {
   "cell_type": "code",
   "execution_count": null,
   "metadata": {},
   "outputs": [],
   "source": [
    "#assign the WGS84 latitude-longitude coordinate system to the geoseries\n",
    "solar_select2.crs = \"EPSG:4326\""
   ]
  },
  {
   "cell_type": "code",
   "execution_count": null,
   "metadata": {},
   "outputs": [],
   "source": [
    "buurten_select = buurten_gdf[['Buurt_code', 'WKT_LAT_LNG']]\n",
    "buurten_select.crs = \"EPSG:4326\""
   ]
  },
  {
   "cell_type": "code",
   "execution_count": null,
   "metadata": {},
   "outputs": [],
   "source": [
    "#perform spatial join in geopandas\n",
    "solar_buurten = geopandas.sjoin(buurten_select, solar_select2, how=\"left\", op=\"contains\")"
   ]
  },
  {
   "cell_type": "code",
   "execution_count": null,
   "metadata": {},
   "outputs": [],
   "source": [
    "solar_buurten.head()"
   ]
  },
  {
   "cell_type": "code",
   "execution_count": null,
   "metadata": {},
   "outputs": [],
   "source": [
    "# new df with number of solar panels per buurt \n",
    "\n",
    "solar_buurt = solar_buurten.groupby('Buurt_code')[['solar_panels']].sum().reset_index()\n",
    "solar_buurt = solar_buurt.rename(columns = {'Buurt_code': 'Buurtcode'})\n",
    "solar_buurt.head()"
   ]
  },
  {
   "cell_type": "code",
   "execution_count": null,
   "metadata": {},
   "outputs": [],
   "source": [
    "# join energy labels and green roof data\n",
    "\n",
    "energy_solar_buurt = pd.merge(energy_buurt, solar_buurt, on = 'Buurtcode', how = 'inner')\n",
    "energy_solar_buurt.head()"
   ]
  },
  {
   "cell_type": "code",
   "execution_count": null,
   "metadata": {},
   "outputs": [],
   "source": [
    "energy_solar_buurt.shape"
   ]
  },
  {
   "cell_type": "code",
   "execution_count": null,
   "metadata": {},
   "outputs": [],
   "source": [
    "# add buurt stadsdeelcode, lat, long to this df\n",
    "\n",
    "buurten_select = buurten[['Buurt_code', 'Stadsdeel_code','LNG', 'LAT']]\n",
    "buurten_select = buurten_select.rename(columns = {'Buurt_code': 'Buurtcode'})\n",
    "buurten_select.head()"
   ]
  },
  {
   "cell_type": "code",
   "execution_count": null,
   "metadata": {},
   "outputs": [],
   "source": [
    "# join this data to df\n",
    "\n",
    "combined_data = pd.merge(energy_solar_buurt, buurten_select, on = 'Buurtcode', how = 'left')\n",
    "combined_data.head()"
   ]
  },
  {
   "cell_type": "code",
   "execution_count": null,
   "metadata": {},
   "outputs": [],
   "source": [
    "# add stadsdeel namen\n",
    "stadsdelen = pd.read_csv('GEBIED_STADSDELEN.csv', sep = ';')\n",
    "stadsdelen.head()"
   ]
  },
  {
   "cell_type": "code",
   "execution_count": null,
   "metadata": {},
   "outputs": [],
   "source": [
    "stadsdelen_select = stadsdelen[['Stadsdeel_code', 'Stadsdeel']]"
   ]
  },
  {
   "cell_type": "code",
   "execution_count": null,
   "metadata": {},
   "outputs": [],
   "source": [
    "# join this data with main df into final df\n",
    "\n",
    "final_data = pd.merge(combined_data, stadsdelen_select, on = 'Stadsdeel_code', how = 'left')\n",
    "final_data.head()"
   ]
  },
  {
   "cell_type": "code",
   "execution_count": null,
   "metadata": {},
   "outputs": [],
   "source": [
    "# save data file for future use:\n",
    "final_data.to_csv('final_data.csv', index=False)"
   ]
  },
  {
   "cell_type": "code",
   "execution_count": null,
   "metadata": {},
   "outputs": [],
   "source": [
    "# now also add income data\n",
    "\n",
    "# Import income data file\n",
    "income = pd.read_excel('2019_stadsdelen_3_15.xlsx', skiprows = [0,1,3,80,112,113])\n",
    "income.head()"
   ]
  },
  {
   "cell_type": "code",
   "execution_count": null,
   "metadata": {},
   "outputs": [],
   "source": [
    "income_df = income[['wijk/std', 'gemiddeld persoonlijk inkomen (x 1.000 euro)']]"
   ]
  },
  {
   "cell_type": "code",
   "execution_count": null,
   "metadata": {},
   "outputs": [],
   "source": [
    "income_df = income_df.rename(columns = {'gemiddeld persoonlijk inkomen (x 1.000 euro)':'mean_income (x 1.000 euro)'})\n",
    "income_df.head()"
   ]
  },
  {
   "cell_type": "code",
   "execution_count": null,
   "metadata": {},
   "outputs": [],
   "source": [
    "income_df['area'] = income_df['wijk/std'].str.extract('([A-Z]\\d\\d)')\n",
    "income_df['area_name'] = income_df['wijk/std'].str.replace('([A-Z]\\d\\d)', '')\n",
    "income_df.head()"
   ]
  },
  {
   "cell_type": "code",
   "execution_count": null,
   "metadata": {},
   "outputs": [],
   "source": [
    "income_df2 = income_df[['area', 'mean_income (x 1.000 euro)']]\n",
    "income_df2.head()"
   ]
  },
  {
   "cell_type": "code",
   "execution_count": null,
   "metadata": {},
   "outputs": [],
   "source": [
    "final_data.head()"
   ]
  },
  {
   "cell_type": "code",
   "execution_count": null,
   "metadata": {},
   "outputs": [],
   "source": [
    "final_data2 = final_data.copy()"
   ]
  },
  {
   "cell_type": "code",
   "execution_count": null,
   "metadata": {},
   "outputs": [],
   "source": [
    "final_data2.head()"
   ]
  },
  {
   "cell_type": "code",
   "execution_count": null,
   "metadata": {},
   "outputs": [],
   "source": [
    "final_data2['area'] = final_data2['Buurtcode'].str.extract('([A-Z]\\d\\d)')\n",
    "final_data2.head()"
   ]
  },
  {
   "cell_type": "code",
   "execution_count": null,
   "metadata": {},
   "outputs": [],
   "source": [
    "final_data_income = pd.merge(final_data2, income_df2, on = 'area', how = 'left')\n",
    "final_data_income.head()"
   ]
  },
  {
   "cell_type": "code",
   "execution_count": null,
   "metadata": {},
   "outputs": [],
   "source": [
    "# Save final data file to use in analysis\n",
    "\n",
    "final_data_income.to_csv('final_data_income.csv', index=False)"
   ]
  }
 ],
 "metadata": {
  "kernelspec": {
   "display_name": "Python 3",
   "language": "python",
   "name": "python3"
  },
  "language_info": {
   "codemirror_mode": {
    "name": "ipython",
    "version": 3
   },
   "file_extension": ".py",
   "mimetype": "text/x-python",
   "name": "python",
   "nbconvert_exporter": "python",
   "pygments_lexer": "ipython3",
   "version": "3.7.1"
  }
 },
 "nbformat": 4,
 "nbformat_minor": 4
}
