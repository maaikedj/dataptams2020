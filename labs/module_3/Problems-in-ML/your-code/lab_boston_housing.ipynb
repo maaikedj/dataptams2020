{
 "cells": [
  {
   "cell_type": "markdown",
   "metadata": {
    "Collapsed": "false"
   },
   "source": [
    "# Understanding Over & Underfitting\n",
    "## Predicting Boston Housing Prices"
   ]
  },
  {
   "cell_type": "markdown",
   "metadata": {
    "Collapsed": "false"
   },
   "source": [
    "## Getting Started\n",
    "In this project, you will use the Boston Housing Prices dataset to build several models to predict the prices of homes with particular qualities from the suburbs of Boston, MA.\n",
    "We will build models with several different parameters, which will change the goodness of fit for each. "
   ]
  },
  {
   "cell_type": "code",
   "execution_count": 27,
   "metadata": {
    "Collapsed": "false"
   },
   "outputs": [],
   "source": [
    "# Import packages\n",
    "\n",
    "import numpy as np\n",
    "import pandas as pd\n",
    "\n",
    "import matplotlib.pyplot as plt\n",
    "import seaborn as sns\n",
    "\n",
    "from scipy import stats\n",
    "from sklearn.model_selection import train_test_split\n",
    "from sklearn.ensemble import RandomForestRegressor"
   ]
  },
  {
   "cell_type": "markdown",
   "metadata": {
    "Collapsed": "false"
   },
   "source": [
    "---\n",
    "## Data Exploration\n",
    "Since we want to predict the value of houses, the **target variable**, `'MEDV'`, will be the variable we seek to predict."
   ]
  },
  {
   "cell_type": "markdown",
   "metadata": {
    "Collapsed": "false"
   },
   "source": [
    "### Import and explore the data. Clean the data for outliers and missing values. \n",
    "Download the data from [here](https://drive.google.com/file/d/1o-vZHHSywBksnPuGRunvpdYN7grYbe8h/view?usp=sharing) and place it in the data folder"
   ]
  },
  {
   "cell_type": "code",
   "execution_count": 28,
   "metadata": {
    "Collapsed": "false"
   },
   "outputs": [],
   "source": [
    "# Your code here\n",
    "\n",
    "boston = pd.read_csv('../data/boston_data.csv')"
   ]
  },
  {
   "cell_type": "code",
   "execution_count": 29,
   "metadata": {
    "Collapsed": "false"
   },
   "outputs": [
    {
     "data": {
      "text/plain": [
       "crim       float64\n",
       "zn         float64\n",
       "indus      float64\n",
       "chas       float64\n",
       "nox        float64\n",
       "rm         float64\n",
       "age        float64\n",
       "dis        float64\n",
       "rad        float64\n",
       "tax        float64\n",
       "ptratio    float64\n",
       "black      float64\n",
       "lstat      float64\n",
       "medv       float64\n",
       "dtype: object"
      ]
     },
     "execution_count": 29,
     "metadata": {},
     "output_type": "execute_result"
    }
   ],
   "source": [
    "boston.dtypes\n",
    "\n",
    "# all data types are numerical"
   ]
  },
  {
   "cell_type": "code",
   "execution_count": 30,
   "metadata": {
    "Collapsed": "false"
   },
   "outputs": [
    {
     "data": {
      "text/plain": [
       "crim       0\n",
       "zn         0\n",
       "indus      0\n",
       "chas       0\n",
       "nox        0\n",
       "rm         0\n",
       "age        0\n",
       "dis        0\n",
       "rad        0\n",
       "tax        0\n",
       "ptratio    0\n",
       "black      0\n",
       "lstat      0\n",
       "medv       0\n",
       "dtype: int64"
      ]
     },
     "execution_count": 30,
     "metadata": {},
     "output_type": "execute_result"
    }
   ],
   "source": [
    "boston.isnull().sum()\n",
    "\n",
    "# no missing values"
   ]
  },
  {
   "cell_type": "code",
   "execution_count": 31,
   "metadata": {
    "Collapsed": "false"
   },
   "outputs": [],
   "source": [
    "#plt.figure(figsize=(16,10))\n",
    "\n",
    "#sns.boxplot(x=\"variable\", y=\"value\", data=pd.melt(boston))"
   ]
  },
  {
   "cell_type": "code",
   "execution_count": 32,
   "metadata": {
    "Collapsed": "false"
   },
   "outputs": [],
   "source": [
    "# Remove outliers\n",
    "# Normally I wouldn't just remove all outliers like this without inspection and good reason\n",
    "# but because this is just practise and I don't know what the variables mean I'm removing all rows with at least one outlier\n",
    "#Paolo:ok. You could try if without removing outliers the model improves\n",
    "\n",
    "boston2 = boston[(np.abs(stats.zscore(boston)) < 3).all(axis=1)]"
   ]
  },
  {
   "cell_type": "code",
   "execution_count": 33,
   "metadata": {
    "Collapsed": "false"
   },
   "outputs": [
    {
     "name": "stdout",
     "output_type": "stream",
     "text": [
      "(404, 14)\n",
      "(321, 14)\n"
     ]
    }
   ],
   "source": [
    "print(boston.shape)\n",
    "print(boston2.shape)\n",
    "\n",
    "# 83 rows were removed because they contained at least one outlier"
   ]
  },
  {
   "cell_type": "markdown",
   "metadata": {
    "Collapsed": "false"
   },
   "source": [
    "### Next, we want to explore the data. Pick several varibables you think will be ost correlated with the prices of homes in Boston, and create plots that show the data dispersion as well as the regression line of best fit."
   ]
  },
  {
   "cell_type": "code",
   "execution_count": 34,
   "metadata": {
    "Collapsed": "false"
   },
   "outputs": [
    {
     "data": {
      "text/html": [
       "<div>\n",
       "<style scoped>\n",
       "    .dataframe tbody tr th:only-of-type {\n",
       "        vertical-align: middle;\n",
       "    }\n",
       "\n",
       "    .dataframe tbody tr th {\n",
       "        vertical-align: top;\n",
       "    }\n",
       "\n",
       "    .dataframe thead th {\n",
       "        text-align: right;\n",
       "    }\n",
       "</style>\n",
       "<table border=\"1\" class=\"dataframe\">\n",
       "  <thead>\n",
       "    <tr style=\"text-align: right;\">\n",
       "      <th></th>\n",
       "      <th>crim</th>\n",
       "      <th>zn</th>\n",
       "      <th>indus</th>\n",
       "      <th>chas</th>\n",
       "      <th>nox</th>\n",
       "      <th>rm</th>\n",
       "      <th>age</th>\n",
       "      <th>dis</th>\n",
       "      <th>rad</th>\n",
       "      <th>tax</th>\n",
       "      <th>ptratio</th>\n",
       "      <th>black</th>\n",
       "      <th>lstat</th>\n",
       "      <th>medv</th>\n",
       "    </tr>\n",
       "  </thead>\n",
       "  <tbody>\n",
       "    <tr>\n",
       "      <th>crim</th>\n",
       "      <td>1.000000</td>\n",
       "      <td>-0.245049</td>\n",
       "      <td>0.523523</td>\n",
       "      <td>NaN</td>\n",
       "      <td>0.562803</td>\n",
       "      <td>-0.199660</td>\n",
       "      <td>0.436390</td>\n",
       "      <td>-0.485358</td>\n",
       "      <td>0.811224</td>\n",
       "      <td>0.749920</td>\n",
       "      <td>0.344787</td>\n",
       "      <td>-0.327797</td>\n",
       "      <td>0.563541</td>\n",
       "      <td>-0.504009</td>\n",
       "    </tr>\n",
       "    <tr>\n",
       "      <th>zn</th>\n",
       "      <td>-0.245049</td>\n",
       "      <td>1.000000</td>\n",
       "      <td>-0.467428</td>\n",
       "      <td>NaN</td>\n",
       "      <td>-0.444377</td>\n",
       "      <td>0.295135</td>\n",
       "      <td>-0.453536</td>\n",
       "      <td>0.559321</td>\n",
       "      <td>-0.245867</td>\n",
       "      <td>-0.265426</td>\n",
       "      <td>-0.350184</td>\n",
       "      <td>0.148885</td>\n",
       "      <td>-0.365562</td>\n",
       "      <td>0.342641</td>\n",
       "    </tr>\n",
       "    <tr>\n",
       "      <th>indus</th>\n",
       "      <td>0.523523</td>\n",
       "      <td>-0.467428</td>\n",
       "      <td>1.000000</td>\n",
       "      <td>NaN</td>\n",
       "      <td>0.721443</td>\n",
       "      <td>-0.362448</td>\n",
       "      <td>0.562405</td>\n",
       "      <td>-0.659449</td>\n",
       "      <td>0.569357</td>\n",
       "      <td>0.705728</td>\n",
       "      <td>0.327299</td>\n",
       "      <td>-0.324725</td>\n",
       "      <td>0.613879</td>\n",
       "      <td>-0.565210</td>\n",
       "    </tr>\n",
       "    <tr>\n",
       "      <th>chas</th>\n",
       "      <td>NaN</td>\n",
       "      <td>NaN</td>\n",
       "      <td>NaN</td>\n",
       "      <td>NaN</td>\n",
       "      <td>NaN</td>\n",
       "      <td>NaN</td>\n",
       "      <td>NaN</td>\n",
       "      <td>NaN</td>\n",
       "      <td>NaN</td>\n",
       "      <td>NaN</td>\n",
       "      <td>NaN</td>\n",
       "      <td>NaN</td>\n",
       "      <td>NaN</td>\n",
       "      <td>NaN</td>\n",
       "    </tr>\n",
       "    <tr>\n",
       "      <th>nox</th>\n",
       "      <td>0.562803</td>\n",
       "      <td>-0.444377</td>\n",
       "      <td>0.721443</td>\n",
       "      <td>NaN</td>\n",
       "      <td>1.000000</td>\n",
       "      <td>-0.274451</td>\n",
       "      <td>0.705628</td>\n",
       "      <td>-0.762902</td>\n",
       "      <td>0.581103</td>\n",
       "      <td>0.642956</td>\n",
       "      <td>0.119749</td>\n",
       "      <td>-0.349625</td>\n",
       "      <td>0.589708</td>\n",
       "      <td>-0.467456</td>\n",
       "    </tr>\n",
       "    <tr>\n",
       "      <th>rm</th>\n",
       "      <td>-0.199660</td>\n",
       "      <td>0.295135</td>\n",
       "      <td>-0.362448</td>\n",
       "      <td>NaN</td>\n",
       "      <td>-0.274451</td>\n",
       "      <td>1.000000</td>\n",
       "      <td>-0.194372</td>\n",
       "      <td>0.190069</td>\n",
       "      <td>-0.111475</td>\n",
       "      <td>-0.206632</td>\n",
       "      <td>-0.232715</td>\n",
       "      <td>0.107586</td>\n",
       "      <td>-0.613583</td>\n",
       "      <td>0.712762</td>\n",
       "    </tr>\n",
       "    <tr>\n",
       "      <th>age</th>\n",
       "      <td>0.436390</td>\n",
       "      <td>-0.453536</td>\n",
       "      <td>0.562405</td>\n",
       "      <td>NaN</td>\n",
       "      <td>0.705628</td>\n",
       "      <td>-0.194372</td>\n",
       "      <td>1.000000</td>\n",
       "      <td>-0.695878</td>\n",
       "      <td>0.402581</td>\n",
       "      <td>0.466754</td>\n",
       "      <td>0.195327</td>\n",
       "      <td>-0.234018</td>\n",
       "      <td>0.605873</td>\n",
       "      <td>-0.454210</td>\n",
       "    </tr>\n",
       "    <tr>\n",
       "      <th>dis</th>\n",
       "      <td>-0.485358</td>\n",
       "      <td>0.559321</td>\n",
       "      <td>-0.659449</td>\n",
       "      <td>NaN</td>\n",
       "      <td>-0.762902</td>\n",
       "      <td>0.190069</td>\n",
       "      <td>-0.695878</td>\n",
       "      <td>1.000000</td>\n",
       "      <td>-0.454150</td>\n",
       "      <td>-0.518759</td>\n",
       "      <td>-0.182534</td>\n",
       "      <td>0.265998</td>\n",
       "      <td>-0.495526</td>\n",
       "      <td>0.314168</td>\n",
       "    </tr>\n",
       "    <tr>\n",
       "      <th>rad</th>\n",
       "      <td>0.811224</td>\n",
       "      <td>-0.245867</td>\n",
       "      <td>0.569357</td>\n",
       "      <td>NaN</td>\n",
       "      <td>0.581103</td>\n",
       "      <td>-0.111475</td>\n",
       "      <td>0.402581</td>\n",
       "      <td>-0.454150</td>\n",
       "      <td>1.000000</td>\n",
       "      <td>0.902493</td>\n",
       "      <td>0.424147</td>\n",
       "      <td>-0.321713</td>\n",
       "      <td>0.456052</td>\n",
       "      <td>-0.425741</td>\n",
       "    </tr>\n",
       "    <tr>\n",
       "      <th>tax</th>\n",
       "      <td>0.749920</td>\n",
       "      <td>-0.265426</td>\n",
       "      <td>0.705728</td>\n",
       "      <td>NaN</td>\n",
       "      <td>0.642956</td>\n",
       "      <td>-0.206632</td>\n",
       "      <td>0.466754</td>\n",
       "      <td>-0.518759</td>\n",
       "      <td>0.902493</td>\n",
       "      <td>1.000000</td>\n",
       "      <td>0.422950</td>\n",
       "      <td>-0.340601</td>\n",
       "      <td>0.529352</td>\n",
       "      <td>-0.535400</td>\n",
       "    </tr>\n",
       "    <tr>\n",
       "      <th>ptratio</th>\n",
       "      <td>0.344787</td>\n",
       "      <td>-0.350184</td>\n",
       "      <td>0.327299</td>\n",
       "      <td>NaN</td>\n",
       "      <td>0.119749</td>\n",
       "      <td>-0.232715</td>\n",
       "      <td>0.195327</td>\n",
       "      <td>-0.182534</td>\n",
       "      <td>0.424147</td>\n",
       "      <td>0.422950</td>\n",
       "      <td>1.000000</td>\n",
       "      <td>-0.080837</td>\n",
       "      <td>0.290615</td>\n",
       "      <td>-0.471788</td>\n",
       "    </tr>\n",
       "    <tr>\n",
       "      <th>black</th>\n",
       "      <td>-0.327797</td>\n",
       "      <td>0.148885</td>\n",
       "      <td>-0.324725</td>\n",
       "      <td>NaN</td>\n",
       "      <td>-0.349625</td>\n",
       "      <td>0.107586</td>\n",
       "      <td>-0.234018</td>\n",
       "      <td>0.265998</td>\n",
       "      <td>-0.321713</td>\n",
       "      <td>-0.340601</td>\n",
       "      <td>-0.080837</td>\n",
       "      <td>1.000000</td>\n",
       "      <td>-0.307701</td>\n",
       "      <td>0.282290</td>\n",
       "    </tr>\n",
       "    <tr>\n",
       "      <th>lstat</th>\n",
       "      <td>0.563541</td>\n",
       "      <td>-0.365562</td>\n",
       "      <td>0.613879</td>\n",
       "      <td>NaN</td>\n",
       "      <td>0.589708</td>\n",
       "      <td>-0.613583</td>\n",
       "      <td>0.605873</td>\n",
       "      <td>-0.495526</td>\n",
       "      <td>0.456052</td>\n",
       "      <td>0.529352</td>\n",
       "      <td>0.290615</td>\n",
       "      <td>-0.307701</td>\n",
       "      <td>1.000000</td>\n",
       "      <td>-0.754075</td>\n",
       "    </tr>\n",
       "    <tr>\n",
       "      <th>medv</th>\n",
       "      <td>-0.504009</td>\n",
       "      <td>0.342641</td>\n",
       "      <td>-0.565210</td>\n",
       "      <td>NaN</td>\n",
       "      <td>-0.467456</td>\n",
       "      <td>0.712762</td>\n",
       "      <td>-0.454210</td>\n",
       "      <td>0.314168</td>\n",
       "      <td>-0.425741</td>\n",
       "      <td>-0.535400</td>\n",
       "      <td>-0.471788</td>\n",
       "      <td>0.282290</td>\n",
       "      <td>-0.754075</td>\n",
       "      <td>1.000000</td>\n",
       "    </tr>\n",
       "  </tbody>\n",
       "</table>\n",
       "</div>"
      ],
      "text/plain": [
       "             crim        zn     indus  chas       nox        rm       age  \\\n",
       "crim     1.000000 -0.245049  0.523523   NaN  0.562803 -0.199660  0.436390   \n",
       "zn      -0.245049  1.000000 -0.467428   NaN -0.444377  0.295135 -0.453536   \n",
       "indus    0.523523 -0.467428  1.000000   NaN  0.721443 -0.362448  0.562405   \n",
       "chas          NaN       NaN       NaN   NaN       NaN       NaN       NaN   \n",
       "nox      0.562803 -0.444377  0.721443   NaN  1.000000 -0.274451  0.705628   \n",
       "rm      -0.199660  0.295135 -0.362448   NaN -0.274451  1.000000 -0.194372   \n",
       "age      0.436390 -0.453536  0.562405   NaN  0.705628 -0.194372  1.000000   \n",
       "dis     -0.485358  0.559321 -0.659449   NaN -0.762902  0.190069 -0.695878   \n",
       "rad      0.811224 -0.245867  0.569357   NaN  0.581103 -0.111475  0.402581   \n",
       "tax      0.749920 -0.265426  0.705728   NaN  0.642956 -0.206632  0.466754   \n",
       "ptratio  0.344787 -0.350184  0.327299   NaN  0.119749 -0.232715  0.195327   \n",
       "black   -0.327797  0.148885 -0.324725   NaN -0.349625  0.107586 -0.234018   \n",
       "lstat    0.563541 -0.365562  0.613879   NaN  0.589708 -0.613583  0.605873   \n",
       "medv    -0.504009  0.342641 -0.565210   NaN -0.467456  0.712762 -0.454210   \n",
       "\n",
       "              dis       rad       tax   ptratio     black     lstat      medv  \n",
       "crim    -0.485358  0.811224  0.749920  0.344787 -0.327797  0.563541 -0.504009  \n",
       "zn       0.559321 -0.245867 -0.265426 -0.350184  0.148885 -0.365562  0.342641  \n",
       "indus   -0.659449  0.569357  0.705728  0.327299 -0.324725  0.613879 -0.565210  \n",
       "chas          NaN       NaN       NaN       NaN       NaN       NaN       NaN  \n",
       "nox     -0.762902  0.581103  0.642956  0.119749 -0.349625  0.589708 -0.467456  \n",
       "rm       0.190069 -0.111475 -0.206632 -0.232715  0.107586 -0.613583  0.712762  \n",
       "age     -0.695878  0.402581  0.466754  0.195327 -0.234018  0.605873 -0.454210  \n",
       "dis      1.000000 -0.454150 -0.518759 -0.182534  0.265998 -0.495526  0.314168  \n",
       "rad     -0.454150  1.000000  0.902493  0.424147 -0.321713  0.456052 -0.425741  \n",
       "tax     -0.518759  0.902493  1.000000  0.422950 -0.340601  0.529352 -0.535400  \n",
       "ptratio -0.182534  0.424147  0.422950  1.000000 -0.080837  0.290615 -0.471788  \n",
       "black    0.265998 -0.321713 -0.340601 -0.080837  1.000000 -0.307701  0.282290  \n",
       "lstat   -0.495526  0.456052  0.529352  0.290615 -0.307701  1.000000 -0.754075  \n",
       "medv     0.314168 -0.425741 -0.535400 -0.471788  0.282290 -0.754075  1.000000  "
      ]
     },
     "execution_count": 34,
     "metadata": {},
     "output_type": "execute_result"
    }
   ],
   "source": [
    "# Your plots here\n",
    "\n",
    "boston2.corr()\n",
    "\n",
    "# from this table it appears that two variables are most correlated with house price (medv): 'rm' (r = 0.71) and 'lstat' (r = -0.75)"
   ]
  },
  {
   "cell_type": "code",
   "execution_count": 35,
   "metadata": {
    "Collapsed": "false"
   },
   "outputs": [
    {
     "data": {
      "text/plain": [
       "<seaborn.axisgrid.FacetGrid at 0x18066ff5448>"
      ]
     },
     "execution_count": 35,
     "metadata": {},
     "output_type": "execute_result"
    },
    {
     "data": {
      "image/png": "[encoded data removed]",
      "text/plain": [
       "<Figure size 360x360 with 1 Axes>"
      ]
     },
     "metadata": {
      "needs_background": "light"
     },
     "output_type": "display_data"
    }
   ],
   "source": [
    "# I'll plot those two variables against medv\n",
    "\n",
    "sns.lmplot(x ='lstat', y ='medv', data = boston2) "
   ]
  },
  {
   "cell_type": "code",
   "execution_count": 36,
   "metadata": {
    "Collapsed": "false"
   },
   "outputs": [
    {
     "data": {
      "text/plain": [
       "<seaborn.axisgrid.FacetGrid at 0x1806704be88>"
      ]
     },
     "execution_count": 36,
     "metadata": {},
     "output_type": "execute_result"
    },
    {
     "data": {
      "image/png": "[encoded data removed]",
      "text/plain": [
       "<Figure size 360x360 with 1 Axes>"
      ]
     },
     "metadata": {
      "needs_background": "light"
     },
     "output_type": "display_data"
    }
   ],
   "source": [
    "sns.lmplot(x ='rm', y ='medv', data = boston2) "
   ]
  },
  {
   "cell_type": "markdown",
   "metadata": {
    "Collapsed": "false"
   },
   "source": [
    "### What do these plots tell you about the relationships between these variables and the prices of homes in Boston? Are these the relationships you expected to see in these variables?"
   ]
  },
  {
   "cell_type": "code",
   "execution_count": 37,
   "metadata": {
    "Collapsed": "false"
   },
   "outputs": [],
   "source": [
    "# Your response here\n",
    "\n",
    "# lstat seems to be negatively correlated with house price\n",
    "# rm seems to be posititively correlated with house price\n",
    "# I don't know what lstat or rm means so I can't say what expected to see"
   ]
  },
  {
   "cell_type": "markdown",
   "metadata": {
    "Collapsed": "false"
   },
   "source": [
    "### Make a heatmap of the remaining variables. Are there any variables that you did not consider that have very high correlations? What are they?"
   ]
  },
  {
   "cell_type": "code",
   "execution_count": 38,
   "metadata": {
    "Collapsed": "false"
   },
   "outputs": [
    {
     "data": {
      "text/plain": [
       "<matplotlib.axes._subplots.AxesSubplot at 0x180670920c8>"
      ]
     },
     "execution_count": 38,
     "metadata": {},
     "output_type": "execute_result"
    },
    {
     "data": {
      "image/png": "[encoded data removed]",
      "text/plain": [
       "<Figure size 432x288 with 2 Axes>"
      ]
     },
     "metadata": {
      "needs_background": "light"
     },
     "output_type": "display_data"
    }
   ],
   "source": [
    "# Your response here\n",
    "corr = boston2.drop(columns = ['lstat', 'rm'], axis = 1).corr()\n",
    "sns.heatmap(corr)\n",
    "\n",
    "# there are no other high correlations\n",
    "# I do see that something strange is going on with variable 'chas'"
   ]
  },
  {
   "cell_type": "code",
   "execution_count": 39,
   "metadata": {
    "Collapsed": "false"
   },
   "outputs": [
    {
     "data": {
      "text/plain": [
       "0.0    321\n",
       "Name: chas, dtype: int64"
      ]
     },
     "execution_count": 39,
     "metadata": {},
     "output_type": "execute_result"
    }
   ],
   "source": [
    "boston2['chas'].value_counts()\n",
    "\n",
    "# boston2 has value 0.0 for all instances so that column should be removed for the rest of the analysis"
   ]
  },
  {
   "cell_type": "markdown",
   "metadata": {
    "Collapsed": "false"
   },
   "source": [
    "### Calculate Statistics\n",
    "Calculate descriptive statistics for housing price. Include the minimum, maximum, mean, median, and standard deviation. "
   ]
  },
  {
   "cell_type": "code",
   "execution_count": 40,
   "metadata": {
    "Collapsed": "false"
   },
   "outputs": [
    {
     "data": {
      "text/plain": [
       "count    404.000000\n",
       "mean      22.312376\n",
       "std        8.837019\n",
       "min        5.000000\n",
       "25%       17.100000\n",
       "50%       21.400000\n",
       "75%       25.000000\n",
       "max       50.000000\n",
       "Name: medv, dtype: float64"
      ]
     },
     "execution_count": 40,
     "metadata": {},
     "output_type": "execute_result"
    }
   ],
   "source": [
    "# Your code here\n",
    "\n",
    "boston['medv'].describe()"
   ]
  },
  {
   "cell_type": "markdown",
   "metadata": {
    "Collapsed": "false"
   },
   "source": [
    "----\n",
    "\n",
    "## Developing a Model"
   ]
  },
  {
   "cell_type": "markdown",
   "metadata": {
    "Collapsed": "false"
   },
   "source": [
    "### Implementation: Define a Performance Metric\n",
    "What is the performance meteric with which you will determine the performance of your model? Create a function that calculates this performance metric, and then returns the score. "
   ]
  },
  {
   "cell_type": "code",
   "execution_count": 41,
   "metadata": {
    "Collapsed": "false"
   },
   "outputs": [],
   "source": [
    "from sklearn.metrics import r2_score\n",
    "\n",
    "def performance_metric(y_true, y_predict):\n",
    "    \"\"\" Calculates and returns the performance score between \n",
    "        true and predicted values based on the metric chosen. \"\"\"\n",
    "    # Your code here:\n",
    "    return r2_score(y_true, y_predict)"
   ]
  },
  {
   "cell_type": "markdown",
   "metadata": {
    "Collapsed": "false"
   },
   "source": [
    "### Implementation: Shuffle and Split Data\n",
    "Split the data into the testing and training datasets. Shuffle the data as well to remove any bias in selecting the traing and test. "
   ]
  },
  {
   "cell_type": "code",
   "execution_count": 42,
   "metadata": {
    "Collapsed": "false"
   },
   "outputs": [],
   "source": [
    "# Your code here\n",
    "\n",
    "y = boston2['medv']\n",
    "X = boston2.drop('medv', axis = 1)\n",
    "\n",
    "X_train, X_test, y_train, y_test = train_test_split(X, y, test_size=0.2)\n",
    "\n",
    "# according to the documentation train_test_split shuffles the data by default \n",
    "#Paolo:yes"
   ]
  },
  {
   "cell_type": "markdown",
   "metadata": {
    "Collapsed": "false"
   },
   "source": [
    "----\n",
    "\n",
    "## Analyzing Model Performance\n",
    "Next, we are going to build a Random Forest Regressor, and test its performance with several different parameter settings."
   ]
  },
  {
   "cell_type": "markdown",
   "metadata": {
    "Collapsed": "false"
   },
   "source": [
    "### Learning Curves\n",
    "Lets build the different models. Set the max_depth parameter to 2, 4, 6, 8, and 10 respectively. "
   ]
  },
  {
   "cell_type": "code",
   "execution_count": 122,
   "metadata": {
    "Collapsed": "false"
   },
   "outputs": [],
   "source": [
    "# Five separate RFR here with the given max depths\n",
    "\n",
    "RFR2 = RandomForestRegressor(max_depth=2)\n",
    "RFR4 = RandomForestRegressor(max_depth=4)\n",
    "RFR6 = RandomForestRegressor(max_depth=6)\n",
    "RFR8 = RandomForestRegressor(max_depth=8)\n",
    "RFR10 = RandomForestRegressor(max_depth=10)\n"
   ]
  },
  {
   "cell_type": "markdown",
   "metadata": {
    "Collapsed": "false"
   },
   "source": [
    "Now, plot the score for each tree on the training set and on the testing set."
   ]
  },
  {
   "cell_type": "code",
   "execution_count": 123,
   "metadata": {
    "Collapsed": "false"
   },
   "outputs": [],
   "source": [
    "# Produce a plot with the score for the testing and training for the different max depths\n",
    "\n",
    "models = [RFR2, RFR4, RFR6, RFR8, RFR10]\n",
    "r2score_train = []\n",
    "r2score_test = []\n",
    "\n",
    "for model in models:\n",
    "    model.fit(X_train, y_train)\n",
    "    y_pred = model.predict(X_train)\n",
    "    r2score_train.append(r2_score(y_train, y_pred))\n",
    "    y_test_pred = model.predict(X_test)\n",
    "    r2score_test.append(r2_score(y_test, y_test_pred))"
   ]
  },
  {
   "cell_type": "code",
   "execution_count": 124,
   "metadata": {
    "Collapsed": "false"
   },
   "outputs": [],
   "source": [
    "df_r2 = pd.DataFrame(list(zip(r2score_train, r2score_test)), index = ['RFR2', 'RFR4', 'RFR6', 'RFR8', 'RFR10'], columns =['r2_train', 'r2_test'])\n"
   ]
  },
  {
   "cell_type": "code",
   "execution_count": 125,
   "metadata": {
    "Collapsed": "false"
   },
   "outputs": [
    {
     "data": {
      "text/html": [
       "<div>\n",
       "<style scoped>\n",
       "    .dataframe tbody tr th:only-of-type {\n",
       "        vertical-align: middle;\n",
       "    }\n",
       "\n",
       "    .dataframe tbody tr th {\n",
       "        vertical-align: top;\n",
       "    }\n",
       "\n",
       "    .dataframe thead th {\n",
       "        text-align: right;\n",
       "    }\n",
       "</style>\n",
       "<table border=\"1\" class=\"dataframe\">\n",
       "  <thead>\n",
       "    <tr style=\"text-align: right;\">\n",
       "      <th></th>\n",
       "      <th>r2_train</th>\n",
       "      <th>r2_test</th>\n",
       "    </tr>\n",
       "  </thead>\n",
       "  <tbody>\n",
       "    <tr>\n",
       "      <th>RFR2</th>\n",
       "      <td>0.795643</td>\n",
       "      <td>0.671221</td>\n",
       "    </tr>\n",
       "    <tr>\n",
       "      <th>RFR4</th>\n",
       "      <td>0.912834</td>\n",
       "      <td>0.749417</td>\n",
       "    </tr>\n",
       "    <tr>\n",
       "      <th>RFR6</th>\n",
       "      <td>0.957890</td>\n",
       "      <td>0.738936</td>\n",
       "    </tr>\n",
       "    <tr>\n",
       "      <th>RFR8</th>\n",
       "      <td>0.970284</td>\n",
       "      <td>0.746269</td>\n",
       "    </tr>\n",
       "    <tr>\n",
       "      <th>RFR10</th>\n",
       "      <td>0.974874</td>\n",
       "      <td>0.752651</td>\n",
       "    </tr>\n",
       "  </tbody>\n",
       "</table>\n",
       "</div>"
      ],
      "text/plain": [
       "       r2_train   r2_test\n",
       "RFR2   0.795643  0.671221\n",
       "RFR4   0.912834  0.749417\n",
       "RFR6   0.957890  0.738936\n",
       "RFR8   0.970284  0.746269\n",
       "RFR10  0.974874  0.752651"
      ]
     },
     "execution_count": 125,
     "metadata": {},
     "output_type": "execute_result"
    }
   ],
   "source": [
    "df_r2"
   ]
  },
  {
   "cell_type": "code",
   "execution_count": 128,
   "metadata": {
    "Collapsed": "false"
   },
   "outputs": [
    {
     "data": {
      "text/plain": [
       "<matplotlib.axes._subplots.AxesSubplot at 0x1807542be08>"
      ]
     },
     "execution_count": 128,
     "metadata": {},
     "output_type": "execute_result"
    },
    {
     "data": {
      "image/png": "[encoded data removed]",
      "text/plain": [
       "<Figure size 432x288 with 1 Axes>"
      ]
     },
     "metadata": {
      "needs_background": "light"
     },
     "output_type": "display_data"
    }
   ],
   "source": [
    "#Paolo: alternative plot\n",
    "df_r2.plot()"
   ]
  },
  {
   "cell_type": "code",
   "execution_count": 129,
   "metadata": {
    "Collapsed": "false"
   },
   "outputs": [
    {
     "data": {
      "text/plain": [
       "<seaborn.axisgrid.FacetGrid at 0x180753f0548>"
      ]
     },
     "execution_count": 129,
     "metadata": {},
     "output_type": "execute_result"
    },
    {
     "data": {
      "image/png": "[encoded data removed]",
      "text/plain": [
       "<Figure size 360x360 with 1 Axes>"
      ]
     },
     "metadata": {
      "needs_background": "light"
     },
     "output_type": "display_data"
    }
   ],
   "source": [
    "sns.lmplot('r2_train', 'r2_test', data = df_r2)"
   ]
  },
  {
   "cell_type": "markdown",
   "metadata": {
    "Collapsed": "false"
   },
   "source": [
    "What do these results tell you about the effect of the depth of the trees on the performance of the model?"
   ]
  },
  {
   "cell_type": "code",
   "execution_count": 92,
   "metadata": {
    "Collapsed": "false"
   },
   "outputs": [],
   "source": [
    "# Your response here\n",
    "\n",
    "# Looking at the figure and the r2 scores in the table df_r2, the higher the max depth, the better the model performs\n",
    "# The model with max depth = 10 has the highest r2 score for the train and the test set\n",
    "# but the r2 scores for the models with max depths of 6,8 and 10 are very similar "
   ]
  },
  {
   "cell_type": "markdown",
   "metadata": {
    "Collapsed": "false"
   },
   "source": [
    "### Bias-Variance Tradeoff\n",
    "When the model is trained with a maximum depth of 1, does the model suffer from high bias or from high variance? How about when the model is trained with a maximum depth of 10?"
   ]
  },
  {
   "cell_type": "code",
   "execution_count": 24,
   "metadata": {
    "Collapsed": "false"
   },
   "outputs": [],
   "source": [
    "# Your response here\n",
    "\n",
    "# When the model is trained with a maximum depth of 1 there is a high bias, \n",
    "# when the depth increases the bias becomes lower but the variance higher\n",
    "# so max depth 10 has low bias but high variance\n",
    "#Paolo:yes"
   ]
  },
  {
   "cell_type": "markdown",
   "metadata": {
    "Collapsed": "false"
   },
   "source": [
    "### Best-Guess Optimal Model\n",
    "What is the max_depth parameter that you think would optimize the model? Run your model and explain its performance."
   ]
  },
  {
   "cell_type": "code",
   "execution_count": 25,
   "metadata": {
    "Collapsed": "false"
   },
   "outputs": [],
   "source": [
    "# Your response here\n",
    "\n",
    "# I think max depth of 6 has a higher max depth doesn't improve the model score much\n",
    "\n",
    "#Paolo: I think for the highest depths you maybe approaching overfit. \n",
    "# You could try to plot more depths and see how train and test perform.\n",
    "\n",
    "#Paolo:If you look at the plots, you could see that the r2_train  keeps increasing till plateau, the  r2_test \n",
    "# also but then starts going down. I would choose the parameters\n",
    "# that corresponds to the minimum of the r_2_test. After that there is a high chance that\n",
    "# you have overfit. Have a look here \n",
    "# (train and test error in his explanation correspond to r_2_train ant r_2_test but \n",
    "# the plots are inverted, if the error goes down r_2 increases)\n",
    "# https://www.youtube.com/watch?v=fDQkUN9yw44&list=PLLssT5z_DsK-h9vYZkQkYNWcItqhlRJLN&index=61"
   ]
  },
  {
   "cell_type": "markdown",
   "metadata": {
    "Collapsed": "false"
   },
   "source": [
    "### Applicability\n",
    "*In a few sentences, discuss whether the constructed model should or should not be used in a real-world setting.*  \n",
    "**Hint:** Some questions to answering:\n",
    "- *How relevant today is data that was collected from 1978?*\n",
    "- *Are the features present in the data sufficient to describe a home?*\n",
    "- *Is the model robust enough to make consistent predictions?*\n",
    "- *Would data collected in an urban city like Boston be applicable in a rural city?*"
   ]
  },
  {
   "cell_type": "code",
   "execution_count": 26,
   "metadata": {
    "Collapsed": "false"
   },
   "outputs": [],
   "source": [
    "# Your response here\n",
    "\n",
    "# I guess the data isn't very relevant today anymore as the housing situation has changed a lot since 1978\n",
    "# I don't know what the columns/ features mean (did I miss something?)\n",
    "# The model does seem to score quite well (or am I wrong?)\n",
    "# the data collected in Boston would probably not be representative for a rural city\n",
    "#Paolo: yes, I agree"
   ]
  }
 ],
 "metadata": {
  "anaconda-cloud": {},
  "kernelspec": {
   "display_name": "Python 3",
   "language": "python",
   "name": "python3"
  },
  "language_info": {
   "codemirror_mode": {
    "name": "ipython",
    "version": 3
   },
   "file_extension": ".py",
   "mimetype": "text/x-python",
   "name": "python",
   "nbconvert_exporter": "python",
   "pygments_lexer": "ipython3",
   "version": "3.7.6"
  }
 },
 "nbformat": 4,
 "nbformat_minor": 4
}
