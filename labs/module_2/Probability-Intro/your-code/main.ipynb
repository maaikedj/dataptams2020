{
 "cells": [
  {
   "cell_type": "markdown",
   "metadata": {
    "Collapsed": "false"
   },
   "source": [
    "# Introduction To Probability\n",
    "## Challenge 1\n",
    "\n",
    "A and B are events of a probability space with $(\\omega, \\sigma, P)$ such that $P(A) = 0.3$, $P(B) = 0.6$ and $P(A \\cap B) = 0.1$\n",
    "\n",
    "Which of the following statements are false?\n",
    "* $P(A \\cup B) = 0.6$\n",
    "* $P(A \\cap B^{C}) = 0.2$\n",
    "* $P(A \\cap (B \\cup B^{C})) = 0.4$\n",
    "* $P(A^{C} \\cap B^{C}) = 0.3$\n",
    "* $P((A \\cap B)^{C}) = 0.9$"
   ]
  },
  {
   "cell_type": "code",
   "execution_count": null,
   "metadata": {
    "Collapsed": "false"
   },
   "outputs": [],
   "source": [
    "\"\"\"\n",
    "your solution here\n",
    "𝑃(𝐴)=0.3,  𝑃(𝐵)=0.6  and  Intersection: 𝑃(𝐴∩𝐵)=0.1\n",
    "* 𝑃(𝐴∪𝐵)=0.6 --> false #Paolo:true, same result as first case above\n",
    "* 𝑃(𝐴∩𝐵𝐶)=0.2 --> true #Paolo:yes\n",
    "* 𝑃(𝐴∩(𝐵∪𝐵𝐶))=0.4 --> true #Paolo:false, result is 0.3\n",
    "* 𝑃(𝐴𝐶∩𝐵𝐶)=0.3 --> false #Paolo: actual result is 0.2 (not 0.3) so result above is false\n",
    "* 𝑃((𝐴∩𝐵)𝐶)=0.9 --> correct# paolo:yes\n",
    "\"\"\""
   ]
  },
  {
   "cell_type": "code",
   "execution_count": null,
   "metadata": {
    "Collapsed": "false"
   },
   "outputs": [],
   "source": [
    "#Dependence/independence check\n",
    "#P(A|B) = P(AnB)/P(B)\n",
    "dependence1 = 0.1/0.6\n",
    "print (dependence1)\n",
    "#P(B|A) = (P(A|B)*P(B))/P(A)\n",
    "dependence2 = (dependence1*0.6)/0.3\n",
    "print (dependence2)\n",
    "# P(A∩B) = P(A) * P(B|A)\n",
    "dependence3 = 0.3 * ((dependence1*0.6)/0.3)\n",
    "print (dependence3)\n",
    "# P(A∩B) = P(A) * P(B)\n",
    "dependence4 = 0.3*0.6\n",
    "print (dependence4)"
   ]
  },
  {
   "cell_type": "code",
   "execution_count": null,
   "metadata": {
    "Collapsed": "false"
   },
   "outputs": [],
   "source": [
    "#P(A ∩ B) is not 0, so they are dependent "
   ]
  },
  {
   "cell_type": "code",
   "execution_count": null,
   "metadata": {
    "Collapsed": "false"
   },
   "outputs": [],
   "source": [
    "x=0.3 #P(A)\n",
    "y=0.6 #P(B)\n",
    "z=0.1 #𝑃(𝐴∩𝐵)"
   ]
  },
  {
   "cell_type": "code",
   "execution_count": null,
   "metadata": {
    "Collapsed": "false"
   },
   "outputs": [],
   "source": [
    "# 𝑃(𝐴∪𝐵)=0.6  check\n",
    "#P(AUB) = P(A) + P(B) - P(A∩B)\n",
    "PAuB = x + y - z\n",
    "print (PAuB)\n",
    "#not correct --> answer 0.8 (to two dec. points)"
   ]
  },
  {
   "cell_type": "code",
   "execution_count": null,
   "metadata": {
    "Collapsed": "false"
   },
   "outputs": [],
   "source": [
    "#𝑃(𝐴∩𝐵𝐶)=0.2 check\n",
    "# P(A) - P(AnB)\n",
    "PAnBc = x - z\n",
    "print(PAnBc) \n",
    "#correct --> answer 0.2 (to two dec. points)"
   ]
  },
  {
   "cell_type": "code",
   "execution_count": null,
   "metadata": {
    "Collapsed": "false"
   },
   "outputs": [],
   "source": [
    "# 𝑃(𝐴∩(𝐵∪𝐵𝐶))=0.4  check\n",
    "x = x #correct\n",
    "print (x)"
   ]
  },
  {
   "cell_type": "code",
   "execution_count": null,
   "metadata": {
    "Collapsed": "false"
   },
   "outputs": [],
   "source": [
    "#𝑃(𝐴𝐶∩𝐵𝐶)=0.3 check \n",
    "PAcnBc = 1 - PAuB\n",
    "print(PAcnBc)\n",
    "#not correct --> answer 0.20 (to two dec. points)"
   ]
  },
  {
   "cell_type": "code",
   "execution_count": null,
   "metadata": {
    "Collapsed": "false"
   },
   "outputs": [],
   "source": [
    "#𝑃((𝐴∩𝐵)𝐶)=0.9 check\n",
    "PAnBc = 1 - z\n",
    "print(PAnBc)\n",
    "#correct"
   ]
  },
  {
   "cell_type": "markdown",
   "metadata": {
    "Collapsed": "false"
   },
   "source": [
    "## Challenge 2\n",
    "There is a box with 10 white balls, 12 red balls and 8 black balls. Calculate the probability of:\n",
    "* Taking a white ball out.\n",
    "* Taking a white ball out after taking a black ball out.\n",
    "* Taking a red ball out after taking a black and a red ball out.\n",
    "* Taking a red ball out after taking a black and a red ball out with reposition.\n",
    "\n",
    "**Hint**: Reposition means putting back the ball into the box after taking it out."
   ]
  },
  {
   "cell_type": "code",
   "execution_count": null,
   "metadata": {
    "Collapsed": "false"
   },
   "outputs": [],
   "source": [
    "\"\"\"\n",
    "Rounded to two dec points \n",
    "1: 0.33\n",
    "2: 0.09\n",
    "3: 0.04\n",
    "4: 0.04\n",
    "\"\"\"\n",
    "#Paolo:yes!"
   ]
  },
  {
   "cell_type": "code",
   "execution_count": null,
   "metadata": {
    "Collapsed": "false"
   },
   "outputs": [],
   "source": [
    "w = 10\n",
    "r = 12\n",
    "b = 8\n",
    "box = w + r +b "
   ]
  },
  {
   "cell_type": "code",
   "execution_count": null,
   "metadata": {
    "Collapsed": "false"
   },
   "outputs": [],
   "source": [
    "#Taking a white ball out.\n",
    "PW = w/box\n",
    "print(PW)"
   ]
  },
  {
   "cell_type": "code",
   "execution_count": null,
   "metadata": {
    "Collapsed": "false"
   },
   "outputs": [],
   "source": [
    "#Taking a white ball out after taking a black ball out.\n",
    "PWB = (w/(box-1))*(b/box)\n",
    "print(PWB)"
   ]
  },
  {
   "cell_type": "code",
   "execution_count": null,
   "metadata": {
    "Collapsed": "false"
   },
   "outputs": [],
   "source": [
    "#Taking a red ball out after taking a black and a red ball out.\n",
    "PRBR = (b/box) * (r/(box-1)) *((r-1)/(box-2))\n",
    "print(PRBR)"
   ]
  },
  {
   "cell_type": "code",
   "execution_count": null,
   "metadata": {
    "Collapsed": "false"
   },
   "outputs": [],
   "source": [
    "#Taking a red ball out after taking a black and a red ball out with reposition.\n",
    "PRBR= (r/box)*(b/box)*(r/box)\n",
    "print (PRBR)\n",
    "#Paolo:yes"
   ]
  },
  {
   "cell_type": "markdown",
   "metadata": {
    "Collapsed": "false"
   },
   "source": [
    "## Challenge 3\n",
    "\n",
    "You are planning to go on a picnic today but the morning is cloudy. You hate rain so you don't know whether to go out or stay home! To help you make a decision, you gather the following data about rainy days:\n",
    "\n",
    "* 50% of all rainy days start off cloudy!\n",
    "* Cloudy mornings are common. About 40% of days start cloudy. \n",
    "* This month is usually dry so only 3 of 30 days (10%) tend to be rainy. \n",
    "\n",
    "What is the chance of rain during the day?"
   ]
  },
  {
   "cell_type": "code",
   "execution_count": null,
   "metadata": {
    "Collapsed": "false"
   },
   "outputs": [],
   "source": [
    "\"\"\"\n",
    "Probability is 0.125\n",
    "\"\"\""
   ]
  },
  {
   "cell_type": "code",
   "execution_count": null,
   "metadata": {
    "Collapsed": "false"
   },
   "outputs": [],
   "source": [
    "#solution \n",
    "probCBR = 0.5\n",
    "probC = 0.4\n",
    "probmonth = 0.1\n",
    "#formula is P(A|B) = (P(A) * P(B|A))/ P(B)"
   ]
  },
  {
   "cell_type": "code",
   "execution_count": null,
   "metadata": {
    "Collapsed": "false"
   },
   "outputs": [],
   "source": [
    "probability = (probmonth * probCBR)/probC\n",
    "print (probability)\n",
    "#Paolo:yes"
   ]
  },
  {
   "cell_type": "markdown",
   "metadata": {
    "Collapsed": "false"
   },
   "source": [
    "## Challenge 4\n",
    "\n",
    "One thousand people were asked through a telephone survey whether they thought more street lighting is needed at night or not.\n",
    "\n",
    "Out of the 480 men that answered the survey, 324 said yes and 156 said no. On the other hand, out of the 520 women that answered, 351 said yes and 169 said no. \n",
    "\n",
    "We wonder if men and women have a different opinions about the street lighting matter. Is gender relevant or irrelevant to the question?\n",
    "\n",
    "Consider the following events:\n",
    "- The answer is yes, so the person that answered thinks that more street lighting is needed.\n",
    "- The person who answered is a man.\n",
    "\n",
    "We want to know if these events are independent, that is, if the fact of wanting more light depends on whether one is male or female. Are these events independent or not?\n",
    "\n",
    "**Hint**: To clearly compare the answers by gender, it is best to place the data in a table."
   ]
  },
  {
   "cell_type": "code",
   "execution_count": null,
   "metadata": {
    "Collapsed": "false"
   },
   "outputs": [],
   "source": [
    "# your code here"
   ]
  },
  {
   "cell_type": "code",
   "execution_count": null,
   "metadata": {
    "Collapsed": "false"
   },
   "outputs": [],
   "source": [
    "totalmen = 480 \n",
    "yesmen = 324\n",
    "nomen = 156\n",
    "totalwomen = 520 \n",
    "yeswomen = 351\n",
    "nowomen = 169\n",
    "total = totalmen + totalwomen"
   ]
  },
  {
   "cell_type": "code",
   "execution_count": null,
   "metadata": {
    "Collapsed": "false"
   },
   "outputs": [],
   "source": [
    "#making a table\n",
    "import pandas as pd\n",
    "\n",
    "data = {'yes/no':['yes','no','%'],\n",
    "        'Women':[(351/520),(169/520),(520/1000)],\n",
    "        'Men':[(324/480),(156/480),(480/1000)],\n",
    "        '%':[(675/1000),(325/1000),1]}\n",
    "\n",
    "df = pd.DataFrame(data, columns = ['yes/no','Women','Men','%'])\n",
    "df.set_index(['yes/no'],inplace=True)\n",
    "df"
   ]
  },
  {
   "cell_type": "code",
   "execution_count": null,
   "metadata": {
    "Collapsed": "false"
   },
   "outputs": [],
   "source": [
    "#Checking independence \n",
    "#formula: P(A|B) = (P(A) * P(B|A))/ P(B)\n",
    "# Probability a woman said yes\n",
    "PW = (0.520 * 0.675)/0.675\n",
    "print (PW)\n",
    "# Probability a man said yes\n",
    "PM = (0.480 *  0.675)/ 0.675\n",
    "print (PM)"
   ]
  },
  {
   "cell_type": "code",
   "execution_count": null,
   "metadata": {
    "Collapsed": "false"
   },
   "outputs": [],
   "source": [
    "\"\"\"\n",
    "Probability a woman said yes: 0.52\n",
    "Probability a man said yes: 0.48\n",
    "P(A) = P(A|B); so A and B are independent\n",
    "\"\"\""
   ]
  }
 ],
 "metadata": {
  "kernelspec": {
   "display_name": "Python 3",
   "language": "python",
   "name": "python3"
  },
  "language_info": {
   "codemirror_mode": {
    "name": "ipython",
    "version": 3
   },
   "file_extension": ".py",
   "mimetype": "text/x-python",
   "name": "python",
   "nbconvert_exporter": "python",
   "pygments_lexer": "ipython3",
   "version": "3.7.6"
  }
 },
 "nbformat": 4,
 "nbformat_minor": 4
}
