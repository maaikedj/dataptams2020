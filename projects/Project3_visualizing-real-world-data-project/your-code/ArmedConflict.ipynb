{
 "cells": [
  {
   "cell_type": "code",
   "execution_count": null,
   "metadata": {},
   "outputs": [],
   "source": [
    "#importing libraries\n",
    "import pandas as pd\n",
    "import numpy as np\n",
    "import matplotlib.pyplot as plt\n",
    "import seaborn as sns"
   ]
  },
  {
   "cell_type": "code",
   "execution_count": null,
   "metadata": {},
   "outputs": [],
   "source": [
    "#reading my data files:\n",
    "africa = pd.read_excel('../data/Africa_1997-2020_Mar21.xlsx')\n",
    "latinamerica = pd.read_excel('../data/LatinAmerica_2018-2020_Mar21.xlsx')\n",
    "middleeast = pd.read_excel('../data/MiddleEast_2015-2020_Mar21-1.xlsx')\n",
    "\n",
    "#testing they are all working\n",
    "africa.head()\n",
    "latinamerica.head()\n",
    "middleeast.head()"
   ]
  },
  {
   "cell_type": "code",
   "execution_count": null,
   "metadata": {},
   "outputs": [],
   "source": [
    "#concatenating in one file\n",
    "df = pd.concat((africa,latinamerica,middleeast))\n",
    "df.head()"
   ]
  },
  {
   "cell_type": "code",
   "execution_count": null,
   "metadata": {},
   "outputs": [],
   "source": [
    "#checking countries from all 3 regions are there\n",
    "df['COUNTRY'].unique()\n",
    "\n",
    "#looking at column names\n",
    "df.columns"
   ]
  },
  {
   "cell_type": "code",
   "execution_count": null,
   "metadata": {},
   "outputs": [],
   "source": [
    "per_region = df.pivot_table(index='EVENT_TYPE',columns=\"REGION\",values='YEAR', aggfunc=len)\n",
    "\n",
    "per_region\n",
    "\n",
    "sns.distplot(per_region)\n"
   ]
  },
  {
   "cell_type": "code",
   "execution_count": null,
   "metadata": {},
   "outputs": [],
   "source": [
    "sns.barplot(per_region)"
   ]
  },
  {
   "cell_type": "code",
   "execution_count": null,
   "metadata": {},
   "outputs": [],
   "source": []
  }
 ],
 "metadata": {
  "kernelspec": {
   "display_name": "Python 3",
   "language": "python",
   "name": "python3"
  },
  "language_info": {
   "codemirror_mode": {
    "name": "ipython",
    "version": 3
   },
   "file_extension": ".py",
   "mimetype": "text/x-python",
   "name": "python",
   "nbconvert_exporter": "python",
   "pygments_lexer": "ipython3",
   "version": "3.8.1"
  }
 },
 "nbformat": 4,
 "nbformat_minor": 4
}
