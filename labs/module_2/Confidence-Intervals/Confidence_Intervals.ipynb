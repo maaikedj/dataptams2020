{
 "cells": [
  {
   "cell_type": "code",
   "execution_count": null,
   "metadata": {
    "colab": {},
    "colab_type": "code",
    "id": "9H658epVh5Sf"
   },
   "outputs": [],
   "source": [
    "import numpy as np\n",
    "from collections import Counter\n",
    "import seaborn as sns\n",
    "from scipy import stats\n",
    "import pandas as pd"
   ]
  },
  {
   "cell_type": "code",
   "execution_count": null,
   "metadata": {
    "colab": {
     "base_uri": "https://localhost:8080/",
     "height": 34
    },
    "colab_type": "code",
    "executionInfo": {
     "elapsed": 1235,
     "status": "ok",
     "timestamp": 1586285752135,
     "user": {
      "displayName": "Louk Smalbil",
      "photoUrl": "https://lh3.googleusercontent.com/a-/AOh14GiByqcfGW98Bn42uapsD4oj4auyrLV9xURPKHUj=s64",
      "userId": "10422991521784029462"
     },
     "user_tz": -120
    },
    "id": "8DfEKj_Id2Nx",
    "outputId": "2d4aee91-9dd4-494c-9dce-7a9ff1ac2f1a"
   },
   "outputs": [],
   "source": [
    "import numpy as np\n",
    "name_list = ['Sreelatha', 'Sara', 'Eva', 'Maaike', 'Victor', 'Zuzanna']\n",
    "np.random.choice(name_list)"
   ]
  },
  {
   "cell_type": "markdown",
   "metadata": {
    "colab_type": "text",
    "id": "GarDq1Z3PhwX"
   },
   "source": [
    "## The Central Limit Theorem: A Recap\n"
   ]
  },
  {
   "cell_type": "markdown",
   "metadata": {
    "colab_type": "text",
    "id": "gT82Dd2zQylX"
   },
   "source": [
    "### Sampling \n",
    "\n",
    "Suppose that in an archive containing information from the year 1993, there are some number of floppy disks and some number CDs. However, because access to the archive is restricted, the exact ratio CD-floppy is not known. In order to compute this ratio, we can use sampling. \n",
    "\n",
    "Let us draw a sample of 20 items from the archive. \n",
    "\n"
   ]
  },
  {
   "cell_type": "code",
   "execution_count": null,
   "metadata": {
    "cellView": "both",
    "colab": {},
    "colab_type": "code",
    "id": "h8YahsB1lDn8"
   },
   "outputs": [],
   "source": [
    "#@title\n",
    "cd_or_floppy_disk = ['\\U0001F4C0', '\\U0001F4C0', '\\U0001F4C0', '\\U0001F4C0', '\\U0001F4C0', '\\U0001F4C0', '\\U0001F4C0', '\\U0001F4C0', '\\U0001F4C0', '\\U0001F4C0', '\\U0001F4C0', '\\U0001F4C0', '\\U0001F4C0', '\\U0001F4C0', '\\U0001F4C0', '\\U0001F4C0', '\\U0001F4C0', '\\U0001F4C0', '\\U0001F4C0', '\\U0001F4C0', '\\U0001F4C0', '\\U0001F4C0', '\\U0001F4C0', '\\U0001F4C0', '\\U0001F4C0', '\\U0001F4C0',\n",
    "                     '\\U0001F4C0', '\\U0001F4C0', '\\U0001F4C0', '\\U0001F4C0', '\\U0001F4C0', '\\U0001F4C0', '\\U0001F4C0', '\\U0001F4C0', '\\U0001F4C0', '\\U0001F4C0', '\\U0001F4C0', '\\U0001F4C0', '\\U0001F4C0', '\\U0001F4C0', '\\U0001F4C0', '\\U0001F4C0', '\\U0001F4C0', '\\U0001F4C0', '\\U0001F4C0', '\\U0001F4C0', '\\U0001F4C0', '\\U0001F4C0', '\\U0001F4C0', '\\U0001F4C0',\n",
    "                     '\\U0001F4C0', '\\U0001F4C0', '\\U0001F4C0', '\\U0001F4C0', '\\U0001F4C0', '\\U0001F4C0', '\\U0001F4C0', '\\U0001F4C0', '\\U0001F4C0', '\\U0001F4C0', '\\U0001F4C0', '\\U0001F4C0', '\\U0001F4C0', '\\U0001F4C0', '\\U0001F4C0', '\\U0001F4C0', '\\U0001F4C0', '\\U0001F4C0', '\\U0001F4C0', '\\U0001F4C0', '\\U0001F4C0', '\\U0001F4C0', '\\U0001F4C0', '\\U0001F4C0', '\\U0001F4C0', '\\U0001F4C0',\n",
    "                     '\\U0001F4C0', '\\U0001F4C0', '\\U0001F4C0', '\\U0001F4C0', '\\U0001F4C0', '\\U0001F4C0', '\\U0001F4C0', '\\U0001F4C0', '\\U0001F4C0', '\\U0001F4C0', '\\U0001F4C0', '\\U0001F4C0', '\\U0001F4C0', '\\U0001F4C0', '\\U0001F4C0', '\\U0001F4C0', '\\U0001F4C0', '\\U0001F4C0', '\\U0001F4C0', '\\U0001F4C0', '\\U0001F4C0', '\\U0001F4C0', '\\U0001F4C0', '\\U0001F4C0',\n",
    "                     '\\U0001F4C0', '\\U0001F4C0', '\\U0001F4C0', '\\U0001F4C0', '\\U0001F4C0', '\\U0001F4C0', '\\U0001F4C0', '\\U0001F4C0', '\\U0001F4C0', '\\U0001F4C0', '\\U0001F4C0', '\\U0001F4C0', '\\U0001F4C0', '\\U0001F4C0', '\\U0001F4C0', '\\U0001F4C0', '\\U0001F4C0', '\\U0001F4C0', '\\U0001F4C0', '\\U0001F4C0', '\\U0001F4C0', '\\U0001F4C0', '\\U0001F4C0', '\\U0001F4C0', '\\U0001F4C0', '\\U0001F4C0',\n",
    "                     '\\U0001F4C0', '\\U0001F4C0', '\\U0001F4C0', '\\U0001F4C0', '\\U0001F4C0', '\\U0001F4C0', '\\U0001F4C0', '\\U0001F4C0', '\\U0001F4C0', '\\U0001F4C0', '\\U0001F4C0', '\\U0001F4C0', '\\U0001F4C0', '\\U0001F4C0', '\\U0001F4C0', '\\U0001F4C0', '\\U0001F4C0', '\\U0001F4C0', '\\U0001F4C0', '\\U0001F4C0', '\\U0001F4C0', '\\U0001F4C0', '\\U0001F4C0', '\\U0001F4C0',\n",
    "                     '\\U0001F4C0', '\\U0001F4C0', '\\U0001F4C0', '\\U0001F4C0', '\\U0001F4C0', '\\U0001F4C0', '\\U0001F4C0', '\\U0001F4C0', '\\U0001F4C0', '\\U0001F4C0', '\\U0001F4C0', '\\U0001F4C0', '\\U0001F4C0', '\\U0001F4C0', '\\U0001F4C0', '\\U0001F4C0', '\\U0001F4C0', '\\U0001F4C0', '\\U0001F4C0', '\\U0001F4C0', '\\U0001F4C0', '\\U0001F4C0', '\\U0001F4C0', '\\U0001F4C0', '\\U0001F4C0', '\\U0001F4C0',\n",
    "                     '\\U0001F4C0', '\\U0001F4C0', '\\U0001F4C0', '\\U0001F4C0', '\\U0001F4C0', '\\U0001F4C0', '\\U0001F4C0', '\\U0001F4C0', '\\U0001F4C0', '\\U0001F4C0', '\\U0001F4C0', '\\U0001F4C0', '\\U0001F4C0', '\\U0001F4C0', '\\U0001F4C0', '\\U0001F4C0', '\\U0001F4C0', '\\U0001F4C0', '\\U0001F4C0', '\\U0001F4C0', '\\U0001F4C0', '\\U0001F4C0', '\\U0001F4C0', '\\U0001F4C0',\n",
    "                     '\\U0001F4C0', '\\U0001F4C0', '\\U0001F4C0', '\\U0001F4C0', '\\U0001F4C0', '\\U0001F4C0', '\\U0001F4C0', '\\U0001F4C0', '\\U0001F4C0', '\\U0001F4C0', '\\U0001F4C0', '\\U0001F4C0', '\\U0001F4C0', '\\U0001F4C0', '\\U0001F4C0', '\\U0001F4C0', '\\U0001F4C0', '\\U0001F4C0', '\\U0001F4C0', '\\U0001F4C0', '\\U0001F4C0', '\\U0001F4C0', '\\U0001F4C0', '\\U0001F4C0', '\\U0001F4C0', '\\U0001F4C0',\n",
    "                     '\\U0001F4C0', '\\U0001F4C0', '\\U0001F4C0', '\\U0001F4C0', '\\U0001F4C0', '\\U0001F4C0', '\\U0001F4C0', '\\U0001F4C0', '\\U0001F4C0', '\\U0001F4C0', '\\U0001F4C0', '\\U0001F4C0', '\\U0001F4C0', '\\U0001F4C0', '\\U0001F4C0', '\\U0001F4C0', '\\U0001F4C0', '\\U0001F4C0', '\\U0001F4C0', '\\U0001F4C0', '\\U0001F4C0', '\\U0001F4C0', '\\U0001F4C0', '\\U0001F4C0',\n",
    "                     '\\U0001F4C0', '\\U0001F4C0', '\\U0001F4C0', '\\U0001F4C0', '\\U0001F4C0', '\\U0001F4C0', '\\U0001F4C0', '\\U0001F4C0', '\\U0001F4C0', '\\U0001F4C0', '\\U0001F4C0', '\\U0001F4C0', '\\U0001F4C0', '\\U0001F4C0', '\\U0001F4C0', '\\U0001F4C0', '\\U0001F4C0', '\\U0001F4C0', '\\U0001F4C0', '\\U0001F4C0', '\\U0001F4C0', '\\U0001F4C0', '\\U0001F4C0', '\\U0001F4C0', '\\U0001F4C0', '\\U0001F4C0',\n",
    "                     '\\U0001F4C0', '\\U0001F4C0', '\\U0001F4C0', '\\U0001F4C0', '\\U0001F4C0', '\\U0001F4C0', '\\U0001F4C0', '\\U0001F4C0', '\\U0001F4C0', '\\U0001F4C0', '\\U0001F4C0', '\\U0001F4C0', '\\U0001F4C0', '\\U0001F4C0', '\\U0001F4C0', '\\U0001F4C0', '\\U0001F4C0', '\\U0001F4C0', '\\U0001F4C0', '\\U0001F4C0', '\\U0001F4C0', '\\U0001F4C0', '\\U0001F4C0', '\\U0001F4C0',\n",
    "                     '\\U0001F4C0', '\\U0001F4C0', '\\U0001F4C0', '\\U0001F4C0', '\\U0001F4C0', '\\U0001F4C0', '\\U0001F4C0', '\\U0001F4C0', '\\U0001F4C0', '\\U0001F4C0', '\\U0001F4C0', '\\U0001F4C0', '\\U0001F4C0', '\\U0001F4C0', '\\U0001F4C0', '\\U0001F4C0', '\\U0001F4C0', '\\U0001F4C0', '\\U0001F4C0', '\\U0001F4C0', '\\U0001F4C0', '\\U0001F4C0', '\\U0001F4C0', '\\U0001F4C0', '\\U0001F4C0', '\\U0001F4C0',\n",
    "                     '\\U0001F4C0', '\\U0001F4C0', '\\U0001F4C0', '\\U0001F4C0', '\\U0001F4C0', '\\U0001F4C0', '\\U0001F4C0', '\\U0001F4C0', '\\U0001F4C0', '\\U0001F4C0', '\\U0001F4C0', '\\U0001F4C0', '\\U0001F4C0', '\\U0001F4C0', '\\U0001F4C0', '\\U0001F4C0', '\\U0001F4C0', '\\U0001F4C0', '\\U0001F4C0', '\\U0001F4C0', '\\U0001F4C0', '\\U0001F4C0', '\\U0001F4C0', '\\U0001F4C0',\n",
    "                      '\\U0001F4BE', '\\U0001F4BE', '\\U0001F4BE', '\\U0001F4BE', '\\U0001F4BE', '\\U0001F4BE', '\\U0001F4BE', '\\U0001F4BE', '\\U0001F4BE', '\\U0001F4BE', '\\U0001F4BE', '\\U0001F4BE', '\\U0001F4BE', '\\U0001F4BE', '\\U0001F4BE', '\\U0001F4BE', '\\U0001F4BE', '\\U0001F4BE', '\\U0001F4BE', '\\U0001F4BE', '\\U0001F4BE', '\\U0001F4BE', '\\U0001F4BE', '\\U0001F4BE', '\\U0001F4BE', '\\U0001F4BE', '\\U0001F4BE',\n",
    "                     '\\U0001F4BE', '\\U0001F4BE', '\\U0001F4BE', '\\U0001F4BE', '\\U0001F4BE', '\\U0001F4BE', '\\U0001F4BE', '\\U0001F4BE', '\\U0001F4BE', '\\U0001F4BE', '\\U0001F4BE', '\\U0001F4BE', '\\U0001F4BE', '\\U0001F4BE','\\U0001F4BE', '\\U0001F4BE', '\\U0001F4BE', '\\U0001F4BE', '\\U0001F4BE', '\\U0001F4BE', '\\U0001F4BE', '\\U0001F4BE', '\\U0001F4BE', '\\U0001F4BE', '\\U0001F4BE', '\\U0001F4BE', '\\U0001F4BE',\n",
    "                     '\\U0001F4BE', '\\U0001F4BE', '\\U0001F4BE', '\\U0001F4BE', '\\U0001F4BE', '\\U0001F4BE', '\\U0001F4BE', '\\U0001F4BE', '\\U0001F4BE', '\\U0001F4BE', '\\U0001F4BE', '\\U0001F4BE', '\\U0001F4BE', '\\U0001F4BE', '\\U0001F4BE', '\\U0001F4BE', '\\U0001F4BE', '\\U0001F4BE', '\\U0001F4BE', '\\U0001F4BE', '\\U0001F4BE', '\\U0001F4BE', '\\U0001F4BE', '\\U0001F4BE', '\\U0001F4BE', '\\U0001F4BE', '\\U0001F4BE',\n",
    "                     '\\U0001F4BE', '\\U0001F4BE', '\\U0001F4BE', '\\U0001F4BE', '\\U0001F4BE', '\\U0001F4BE', '\\U0001F4BE', '\\U0001F4BE', '\\U0001F4BE', '\\U0001F4BE', '\\U0001F4BE', '\\U0001F4BE', '\\U0001F4BE', '\\U0001F4BE','\\U0001F4BE', '\\U0001F4BE', '\\U0001F4BE', '\\U0001F4BE', '\\U0001F4BE', '\\U0001F4BE', '\\U0001F4BE', '\\U0001F4BE', '\\U0001F4BE', '\\U0001F4BE', '\\U0001F4BE', '\\U0001F4BE', '\\U0001F4BE',\n",
    "                     '\\U0001F4BE', '\\U0001F4BE', '\\U0001F4BE', '\\U0001F4BE', '\\U0001F4BE', '\\U0001F4BE', '\\U0001F4BE', '\\U0001F4BE', '\\U0001F4BE', '\\U0001F4BE', '\\U0001F4BE', '\\U0001F4BE', '\\U0001F4BE', '\\U0001F4BE', '\\U0001F4BE', '\\U0001F4BE', '\\U0001F4BE', '\\U0001F4BE', '\\U0001F4BE', '\\U0001F4BE', '\\U0001F4BE', '\\U0001F4BE', '\\U0001F4BE', '\\U0001F4BE', '\\U0001F4BE', '\\U0001F4BE', '\\U0001F4BE',\n",
    "                     '\\U0001F4BE', '\\U0001F4BE', '\\U0001F4BE', '\\U0001F4BE', '\\U0001F4BE', '\\U0001F4BE', '\\U0001F4BE', '\\U0001F4BE', '\\U0001F4BE', '\\U0001F4BE', '\\U0001F4BE', '\\U0001F4BE', '\\U0001F4BE', '\\U0001F4BE','\\U0001F4BE', '\\U0001F4BE', '\\U0001F4BE', '\\U0001F4BE', '\\U0001F4BE', '\\U0001F4BE', '\\U0001F4BE', '\\U0001F4BE', '\\U0001F4BE', '\\U0001F4BE', '\\U0001F4BE', '\\U0001F4BE', '\\U0001F4BE',\n",
    "                     '\\U0001F4BE', '\\U0001F4BE', '\\U0001F4BE', '\\U0001F4BE', '\\U0001F4BE', '\\U0001F4BE', '\\U0001F4BE', '\\U0001F4BE', '\\U0001F4BE', '\\U0001F4BE', '\\U0001F4BE', '\\U0001F4BE', '\\U0001F4BE', '\\U0001F4BE', '\\U0001F4BE', '\\U0001F4BE', '\\U0001F4BE', '\\U0001F4BE', '\\U0001F4BE', '\\U0001F4BE', '\\U0001F4BE', '\\U0001F4BE', '\\U0001F4BE', '\\U0001F4BE', '\\U0001F4BE', '\\U0001F4BE', '\\U0001F4BE',\n",
    "                     '\\U0001F4BE', '\\U0001F4BE', '\\U0001F4BE', '\\U0001F4BE', '\\U0001F4BE', '\\U0001F4BE', '\\U0001F4BE', '\\U0001F4BE', '\\U0001F4BE', '\\U0001F4BE', '\\U0001F4BE', '\\U0001F4BE', '\\U0001F4BE', '\\U0001F4BE','\\U0001F4BE', '\\U0001F4BE', '\\U0001F4BE', '\\U0001F4BE', '\\U0001F4BE', '\\U0001F4BE', '\\U0001F4BE', '\\U0001F4BE', '\\U0001F4BE', '\\U0001F4BE', '\\U0001F4BE', '\\U0001F4BE', '\\U0001F4BE','\\U0001F4BE', '\\U0001F4BE', '\\U0001F4BE', '\\U0001F4BE', '\\U0001F4BE', '\\U0001F4BE', '\\U0001F4BE', '\\U0001F4BE', '\\U0001F4BE', '\\U0001F4BE', '\\U0001F4BE', '\\U0001F4BE', '\\U0001F4BE', '\\U0001F4BE', '\\U0001F4BE', '\\U0001F4BE', '\\U0001F4BE', '\\U0001F4BE', '\\U0001F4BE', '\\U0001F4BE', '\\U0001F4BE', '\\U0001F4BE', '\\U0001F4BE', '\\U0001F4BE', '\\U0001F4BE', '\\U0001F4BE', '\\U0001F4BE',\n",
    "                     '\\U0001F4BE', '\\U0001F4BE', '\\U0001F4BE', '\\U0001F4BE', '\\U0001F4BE', '\\U0001F4BE', '\\U0001F4BE', '\\U0001F4BE', '\\U0001F4BE', '\\U0001F4BE', '\\U0001F4BE', '\\U0001F4BE', '\\U0001F4BE', '\\U0001F4BE','\\U0001F4BE', '\\U0001F4BE', '\\U0001F4BE', '\\U0001F4BE', '\\U0001F4BE', '\\U0001F4BE', '\\U0001F4BE', '\\U0001F4BE', '\\U0001F4BE', '\\U0001F4BE', '\\U0001F4BE', '\\U0001F4BE', '\\U0001F4BE',\n",
    "                     '\\U0001F4BE', '\\U0001F4BE', '\\U0001F4BE', '\\U0001F4BE', '\\U0001F4BE', '\\U0001F4BE', '\\U0001F4BE', '\\U0001F4BE', '\\U0001F4BE', '\\U0001F4BE', '\\U0001F4BE', '\\U0001F4BE', '\\U0001F4BE', '\\U0001F4BE', '\\U0001F4BE', '\\U0001F4BE', '\\U0001F4BE', '\\U0001F4BE', '\\U0001F4BE', '\\U0001F4BE', '\\U0001F4BE', '\\U0001F4BE', '\\U0001F4BE', '\\U0001F4BE', '\\U0001F4BE', '\\U0001F4BE', '\\U0001F4BE',\n",
    "                     '\\U0001F4BE', '\\U0001F4BE', '\\U0001F4BE', '\\U0001F4BE', '\\U0001F4BE', '\\U0001F4BE', '\\U0001F4BE', '\\U0001F4BE', '\\U0001F4BE', '\\U0001F4BE', '\\U0001F4BE', '\\U0001F4BE', '\\U0001F4BE', '\\U0001F4BE','\\U0001F4BE', '\\U0001F4BE', '\\U0001F4BE', '\\U0001F4BE', '\\U0001F4BE', '\\U0001F4BE', '\\U0001F4BE', '\\U0001F4BE', '\\U0001F4BE', '\\U0001F4BE', '\\U0001F4BE', '\\U0001F4BE', '\\U0001F4BE',\n",
    "                     '\\U0001F4BE', '\\U0001F4BE', '\\U0001F4BE', '\\U0001F4BE', '\\U0001F4BE', '\\U0001F4BE', '\\U0001F4BE', '\\U0001F4BE', '\\U0001F4BE', '\\U0001F4BE', '\\U0001F4BE', '\\U0001F4BE', '\\U0001F4BE', '\\U0001F4BE', '\\U0001F4BE', '\\U0001F4BE', '\\U0001F4BE', '\\U0001F4BE', '\\U0001F4BE', '\\U0001F4BE', '\\U0001F4BE', '\\U0001F4BE', '\\U0001F4BE', '\\U0001F4BE', '\\U0001F4BE', '\\U0001F4BE', '\\U0001F4BE',\n",
    "                     '\\U0001F4BE', '\\U0001F4BE', '\\U0001F4BE', '\\U0001F4BE', '\\U0001F4BE', '\\U0001F4BE', '\\U0001F4BE', '\\U0001F4BE', '\\U0001F4BE', '\\U0001F4BE', '\\U0001F4BE', '\\U0001F4BE', '\\U0001F4BE', '\\U0001F4BE','\\U0001F4BE', '\\U0001F4BE', '\\U0001F4BE', '\\U0001F4BE', '\\U0001F4BE', '\\U0001F4BE', '\\U0001F4BE', '\\U0001F4BE', '\\U0001F4BE', '\\U0001F4BE', '\\U0001F4BE', '\\U0001F4BE', '\\U0001F4BE',\n",
    "                     '\\U0001F4BE', '\\U0001F4BE', '\\U0001F4BE', '\\U0001F4BE', '\\U0001F4BE', '\\U0001F4BE', '\\U0001F4BE', '\\U0001F4BE', '\\U0001F4BE', '\\U0001F4BE', '\\U0001F4BE', '\\U0001F4BE', '\\U0001F4BE', '\\U0001F4BE', '\\U0001F4BE', '\\U0001F4BE', '\\U0001F4BE', '\\U0001F4BE', '\\U0001F4BE', '\\U0001F4BE', '\\U0001F4BE', '\\U0001F4BE', '\\U0001F4BE', '\\U0001F4BE', '\\U0001F4BE', '\\U0001F4BE', '\\U0001F4BE',\n",
    "                     '\\U0001F4BE', '\\U0001F4BE', '\\U0001F4BE', '\\U0001F4BE', '\\U0001F4BE', '\\U0001F4BE', '\\U0001F4BE', '\\U0001F4BE', '\\U0001F4BE', '\\U0001F4BE', '\\U0001F4BE', '\\U0001F4BE', '\\U0001F4BE', '\\U0001F4BE','\\U0001F4BE', '\\U0001F4BE', '\\U0001F4BE', '\\U0001F4BE', '\\U0001F4BE', '\\U0001F4BE', '\\U0001F4BE', '\\U0001F4BE', '\\U0001F4BE', '\\U0001F4BE', '\\U0001F4BE', '\\U0001F4BE', '\\U0001F4BE',\n",
    "                     '\\U0001F4BE', '\\U0001F4BE', '\\U0001F4BE', '\\U0001F4BE', '\\U0001F4BE', '\\U0001F4BE', '\\U0001F4BE', '\\U0001F4BE', '\\U0001F4BE', '\\U0001F4BE', '\\U0001F4BE', '\\U0001F4BE', '\\U0001F4BE', '\\U0001F4BE', '\\U0001F4BE', '\\U0001F4BE', '\\U0001F4BE', '\\U0001F4BE', '\\U0001F4BE', '\\U0001F4BE', '\\U0001F4BE', '\\U0001F4BE', '\\U0001F4BE', '\\U0001F4BE', '\\U0001F4BE', '\\U0001F4BE', '\\U0001F4BE',\n",
    "                     '\\U0001F4BE', '\\U0001F4BE', '\\U0001F4BE', '\\U0001F4BE', '\\U0001F4BE', '\\U0001F4BE', '\\U0001F4BE', '\\U0001F4BE', '\\U0001F4BE', '\\U0001F4BE', '\\U0001F4BE', '\\U0001F4BE', '\\U0001F4BE', '\\U0001F4BE','\\U0001F4BE', '\\U0001F4BE', '\\U0001F4BE', '\\U0001F4BE', '\\U0001F4BE', '\\U0001F4BE', '\\U0001F4BE', '\\U0001F4BE', '\\U0001F4BE', '\\U0001F4BE', '\\U0001F4BE', '\\U0001F4BE', '\\U0001F4BE',\n",
    "                     '\\U0001F4BE', '\\U0001F4BE', '\\U0001F4BE', '\\U0001F4BE', '\\U0001F4BE', '\\U0001F4BE', '\\U0001F4BE', '\\U0001F4BE', '\\U0001F4BE', '\\U0001F4BE', '\\U0001F4BE', '\\U0001F4BE', '\\U0001F4BE', '\\U0001F4BE', '\\U0001F4BE', '\\U0001F4BE', '\\U0001F4BE', '\\U0001F4BE', '\\U0001F4BE', '\\U0001F4BE', '\\U0001F4BE', '\\U0001F4BE', '\\U0001F4BE', '\\U0001F4BE', '\\U0001F4BE', '\\U0001F4BE', '\\U0001F4BE',\n",
    "                     '\\U0001F4BE', '\\U0001F4BE', '\\U0001F4BE', '\\U0001F4BE', '\\U0001F4BE', '\\U0001F4BE', '\\U0001F4BE', '\\U0001F4BE', '\\U0001F4BE', '\\U0001F4BE', '\\U0001F4BE', '\\U0001F4BE', '\\U0001F4BE', '\\U0001F4BE','\\U0001F4BE', '\\U0001F4BE', '\\U0001F4BE', '\\U0001F4BE', '\\U0001F4BE', '\\U0001F4BE', '\\U0001F4BE', '\\U0001F4BE', '\\U0001F4BE', '\\U0001F4BE', '\\U0001F4BE', '\\U0001F4BE', '\\U0001F4BE',\n",
    "                     '\\U0001F4BE', '\\U0001F4BE', '\\U0001F4BE', '\\U0001F4BE', '\\U0001F4BE', '\\U0001F4BE', '\\U0001F4BE', '\\U0001F4BE', '\\U0001F4BE', '\\U0001F4BE', '\\U0001F4BE', '\\U0001F4BE', '\\U0001F4BE', '\\U0001F4BE', '\\U0001F4BE', '\\U0001F4BE', '\\U0001F4BE', '\\U0001F4BE', '\\U0001F4BE', '\\U0001F4BE', '\\U0001F4BE', '\\U0001F4BE', '\\U0001F4BE', '\\U0001F4BE', '\\U0001F4BE', '\\U0001F4BE', '\\U0001F4BE',\n",
    "                     '\\U0001F4BE', '\\U0001F4BE', '\\U0001F4BE', '\\U0001F4BE', '\\U0001F4BE', '\\U0001F4BE', '\\U0001F4BE', '\\U0001F4BE', '\\U0001F4BE', '\\U0001F4BE', '\\U0001F4BE', '\\U0001F4BE', '\\U0001F4BE', '\\U0001F4BE','\\U0001F4BE', '\\U0001F4BE', '\\U0001F4BE', '\\U0001F4BE', '\\U0001F4BE', '\\U0001F4BE', '\\U0001F4BE', '\\U0001F4BE', '\\U0001F4BE', '\\U0001F4BE', '\\U0001F4BE', '\\U0001F4BE', '\\U0001F4BE','\\U0001F4BE', '\\U0001F4BE', '\\U0001F4BE', '\\U0001F4BE', '\\U0001F4BE', '\\U0001F4BE', '\\U0001F4BE', '\\U0001F4BE', '\\U0001F4BE', '\\U0001F4BE', '\\U0001F4BE', '\\U0001F4BE', '\\U0001F4BE', '\\U0001F4BE', '\\U0001F4BE', '\\U0001F4BE', '\\U0001F4BE', '\\U0001F4BE', '\\U0001F4BE', '\\U0001F4BE', '\\U0001F4BE', '\\U0001F4BE', '\\U0001F4BE', '\\U0001F4BE', '\\U0001F4BE', '\\U0001F4BE', '\\U0001F4BE',\n",
    "                     '\\U0001F4BE', '\\U0001F4BE', '\\U0001F4BE', '\\U0001F4BE', '\\U0001F4BE', '\\U0001F4BE', '\\U0001F4BE', '\\U0001F4BE', '\\U0001F4BE', '\\U0001F4BE', '\\U0001F4BE', '\\U0001F4BE', '\\U0001F4BE', '\\U0001F4BE','\\U0001F4BE', '\\U0001F4BE', '\\U0001F4BE', '\\U0001F4BE', '\\U0001F4BE', '\\U0001F4BE', '\\U0001F4BE', '\\U0001F4BE', '\\U0001F4BE', '\\U0001F4BE', '\\U0001F4BE', '\\U0001F4BE', '\\U0001F4BE',\n",
    "                     '\\U0001F4BE', '\\U0001F4BE', '\\U0001F4BE', '\\U0001F4BE', '\\U0001F4BE', '\\U0001F4BE', '\\U0001F4BE', '\\U0001F4BE', '\\U0001F4BE', '\\U0001F4BE', '\\U0001F4BE', '\\U0001F4BE', '\\U0001F4BE', '\\U0001F4BE', '\\U0001F4BE', '\\U0001F4BE', '\\U0001F4BE', '\\U0001F4BE', '\\U0001F4BE', '\\U0001F4BE', '\\U0001F4BE', '\\U0001F4BE', '\\U0001F4BE', '\\U0001F4BE', '\\U0001F4BE', '\\U0001F4BE', '\\U0001F4BE',\n",
    "                     '\\U0001F4BE', '\\U0001F4BE', '\\U0001F4BE', '\\U0001F4BE', '\\U0001F4BE', '\\U0001F4BE', '\\U0001F4BE', '\\U0001F4BE', '\\U0001F4BE', '\\U0001F4BE', '\\U0001F4BE', '\\U0001F4BE', '\\U0001F4BE', '\\U0001F4BE','\\U0001F4BE', '\\U0001F4BE', '\\U0001F4BE', '\\U0001F4BE', '\\U0001F4BE', '\\U0001F4BE', '\\U0001F4BE', '\\U0001F4BE', '\\U0001F4BE', '\\U0001F4BE', '\\U0001F4BE', '\\U0001F4BE', '\\U0001F4BE',\n",
    "                     '\\U0001F4BE', '\\U0001F4BE', '\\U0001F4BE', '\\U0001F4BE', '\\U0001F4BE', '\\U0001F4BE', '\\U0001F4BE', '\\U0001F4BE', '\\U0001F4BE', '\\U0001F4BE', '\\U0001F4BE', '\\U0001F4BE', '\\U0001F4BE', '\\U0001F4BE', '\\U0001F4BE', '\\U0001F4BE', '\\U0001F4BE', '\\U0001F4BE', '\\U0001F4BE', '\\U0001F4BE', '\\U0001F4BE', '\\U0001F4BE', '\\U0001F4BE', '\\U0001F4BE', '\\U0001F4BE', '\\U0001F4BE', '\\U0001F4BE',\n",
    "                     '\\U0001F4BE', '\\U0001F4BE', '\\U0001F4BE', '\\U0001F4BE', '\\U0001F4BE', '\\U0001F4BE', '\\U0001F4BE', '\\U0001F4BE', '\\U0001F4BE', '\\U0001F4BE', '\\U0001F4BE', '\\U0001F4BE', '\\U0001F4BE', '\\U0001F4BE','\\U0001F4BE', '\\U0001F4BE', '\\U0001F4BE', '\\U0001F4BE', '\\U0001F4BE', '\\U0001F4BE', '\\U0001F4BE', '\\U0001F4BE', '\\U0001F4BE', '\\U0001F4BE', '\\U0001F4BE', '\\U0001F4BE', '\\U0001F4BE',\n",
    "                     '\\U0001F4BE', '\\U0001F4BE', '\\U0001F4BE', '\\U0001F4BE', '\\U0001F4BE', '\\U0001F4BE', '\\U0001F4BE', '\\U0001F4BE', '\\U0001F4BE', '\\U0001F4BE', '\\U0001F4BE', '\\U0001F4BE', '\\U0001F4BE', '\\U0001F4BE', '\\U0001F4BE', '\\U0001F4BE', '\\U0001F4BE', '\\U0001F4BE', '\\U0001F4BE', '\\U0001F4BE', '\\U0001F4BE', '\\U0001F4BE', '\\U0001F4BE', '\\U0001F4BE', '\\U0001F4BE', '\\U0001F4BE', '\\U0001F4BE',\n",
    "                     '\\U0001F4BE', '\\U0001F4BE', '\\U0001F4BE', '\\U0001F4BE', '\\U0001F4BE', '\\U0001F4BE', '\\U0001F4BE', '\\U0001F4BE', '\\U0001F4BE', '\\U0001F4BE', '\\U0001F4BE', '\\U0001F4BE', '\\U0001F4BE', '\\U0001F4BE','\\U0001F4BE', '\\U0001F4BE', '\\U0001F4BE', '\\U0001F4BE', '\\U0001F4BE', '\\U0001F4BE', '\\U0001F4BE', '\\U0001F4BE', '\\U0001F4BE', '\\U0001F4BE', '\\U0001F4BE', '\\U0001F4BE', '\\U0001F4BE',\n",
    "                     '\\U0001F4BE', '\\U0001F4BE', '\\U0001F4BE', '\\U0001F4BE', '\\U0001F4BE', '\\U0001F4BE', '\\U0001F4BE', '\\U0001F4BE', '\\U0001F4BE', '\\U0001F4BE', '\\U0001F4BE', '\\U0001F4BE', '\\U0001F4BE', '\\U0001F4BE', '\\U0001F4BE', '\\U0001F4BE', '\\U0001F4BE', '\\U0001F4BE', '\\U0001F4BE', '\\U0001F4BE', '\\U0001F4BE', '\\U0001F4BE', '\\U0001F4BE', '\\U0001F4BE', '\\U0001F4BE', '\\U0001F4BE', '\\U0001F4BE',\n",
    "                     '\\U0001F4BE', '\\U0001F4BE', '\\U0001F4BE', '\\U0001F4BE', '\\U0001F4BE', '\\U0001F4BE', '\\U0001F4BE', '\\U0001F4BE', '\\U0001F4BE', '\\U0001F4BE', '\\U0001F4BE', '\\U0001F4BE', '\\U0001F4BE', '\\U0001F4BE','\\U0001F4BE', '\\U0001F4BE', '\\U0001F4BE', '\\U0001F4BE', '\\U0001F4BE', '\\U0001F4BE', '\\U0001F4BE', '\\U0001F4BE', '\\U0001F4BE', '\\U0001F4BE', '\\U0001F4BE', '\\U0001F4BE', '\\U0001F4BE',\n",
    "                     '\\U0001F4BE', '\\U0001F4BE', '\\U0001F4BE', '\\U0001F4BE', '\\U0001F4BE', '\\U0001F4BE', '\\U0001F4BE', '\\U0001F4BE', '\\U0001F4BE', '\\U0001F4BE', '\\U0001F4BE', '\\U0001F4BE', '\\U0001F4BE', '\\U0001F4BE', '\\U0001F4BE', '\\U0001F4BE', '\\U0001F4BE', '\\U0001F4BE', '\\U0001F4BE', '\\U0001F4BE', '\\U0001F4BE', '\\U0001F4BE', '\\U0001F4BE', '\\U0001F4BE', '\\U0001F4BE', '\\U0001F4BE', '\\U0001F4BE',\n",
    "                     '\\U0001F4BE', '\\U0001F4BE', '\\U0001F4BE', '\\U0001F4BE', '\\U0001F4BE', '\\U0001F4BE', '\\U0001F4BE', '\\U0001F4BE', '\\U0001F4BE', '\\U0001F4BE', '\\U0001F4BE', '\\U0001F4BE', '\\U0001F4BE', '\\U0001F4BE','\\U0001F4BE', '\\U0001F4BE', '\\U0001F4BE', '\\U0001F4BE', '\\U0001F4BE', '\\U0001F4BE', '\\U0001F4BE', '\\U0001F4BE', '\\U0001F4BE', '\\U0001F4BE', '\\U0001F4BE', '\\U0001F4BE', '\\U0001F4BE',\n",
    "                     '\\U0001F4BE', '\\U0001F4BE', '\\U0001F4BE', '\\U0001F4BE', '\\U0001F4BE', '\\U0001F4BE', '\\U0001F4BE', '\\U0001F4BE', '\\U0001F4BE', '\\U0001F4BE', '\\U0001F4BE', '\\U0001F4BE', '\\U0001F4BE', '\\U0001F4BE', '\\U0001F4BE', '\\U0001F4BE', '\\U0001F4BE', '\\U0001F4BE', '\\U0001F4BE', '\\U0001F4BE', '\\U0001F4BE', '\\U0001F4BE', '\\U0001F4BE', '\\U0001F4BE', '\\U0001F4BE', '\\U0001F4BE', '\\U0001F4BE',\n",
    "                     '\\U0001F4BE', '\\U0001F4BE', '\\U0001F4BE', '\\U0001F4BE', '\\U0001F4BE', '\\U0001F4BE', '\\U0001F4BE', '\\U0001F4BE', '\\U0001F4BE', '\\U0001F4BE', '\\U0001F4BE', '\\U0001F4BE', '\\U0001F4BE', '\\U0001F4BE','\\U0001F4BE', '\\U0001F4BE', '\\U0001F4BE', '\\U0001F4BE', '\\U0001F4BE', '\\U0001F4BE', '\\U0001F4BE', '\\U0001F4BE', '\\U0001F4BE', '\\U0001F4BE', '\\U0001F4BE', '\\U0001F4BE', '\\U0001F4BE','\\U0001F4BE', '\\U0001F4BE', '\\U0001F4BE', '\\U0001F4BE', '\\U0001F4BE', '\\U0001F4BE', '\\U0001F4BE', '\\U0001F4BE', '\\U0001F4BE', '\\U0001F4BE', '\\U0001F4BE', '\\U0001F4BE', '\\U0001F4BE', '\\U0001F4BE', '\\U0001F4BE', '\\U0001F4BE', '\\U0001F4BE', '\\U0001F4BE', '\\U0001F4BE', '\\U0001F4BE', '\\U0001F4BE', '\\U0001F4BE', '\\U0001F4BE', '\\U0001F4BE', '\\U0001F4BE', '\\U0001F4BE', '\\U0001F4BE',\n",
    "                     '\\U0001F4BE', '\\U0001F4BE', '\\U0001F4BE', '\\U0001F4BE', '\\U0001F4BE', '\\U0001F4BE', '\\U0001F4BE', '\\U0001F4BE', '\\U0001F4BE', '\\U0001F4BE', '\\U0001F4BE', '\\U0001F4BE', '\\U0001F4BE', '\\U0001F4BE','\\U0001F4BE', '\\U0001F4BE', '\\U0001F4BE', '\\U0001F4BE', '\\U0001F4BE', '\\U0001F4BE', '\\U0001F4BE', '\\U0001F4BE', '\\U0001F4BE', '\\U0001F4BE', '\\U0001F4BE', '\\U0001F4BE', '\\U0001F4BE',\n",
    "                     '\\U0001F4BE', '\\U0001F4BE', '\\U0001F4BE', '\\U0001F4BE', '\\U0001F4BE', '\\U0001F4BE', '\\U0001F4BE', '\\U0001F4BE', '\\U0001F4BE', '\\U0001F4BE', '\\U0001F4BE', '\\U0001F4BE', '\\U0001F4BE', '\\U0001F4BE', '\\U0001F4BE', '\\U0001F4BE', '\\U0001F4BE', '\\U0001F4BE', '\\U0001F4BE', '\\U0001F4BE', '\\U0001F4BE', '\\U0001F4BE', '\\U0001F4BE', '\\U0001F4BE', '\\U0001F4BE', '\\U0001F4BE', '\\U0001F4BE',\n",
    "                     '\\U0001F4BE', '\\U0001F4BE', '\\U0001F4BE', '\\U0001F4BE', '\\U0001F4BE', '\\U0001F4BE', '\\U0001F4BE', '\\U0001F4BE', '\\U0001F4BE', '\\U0001F4BE', '\\U0001F4BE', '\\U0001F4BE', '\\U0001F4BE', '\\U0001F4BE','\\U0001F4BE', '\\U0001F4BE', '\\U0001F4BE', '\\U0001F4BE', '\\U0001F4BE', '\\U0001F4BE', '\\U0001F4BE', '\\U0001F4BE', '\\U0001F4BE', '\\U0001F4BE', '\\U0001F4BE', '\\U0001F4BE', '\\U0001F4BE',\n",
    "                     '\\U0001F4BE', '\\U0001F4BE', '\\U0001F4BE', '\\U0001F4BE', '\\U0001F4BE', '\\U0001F4BE', '\\U0001F4BE', '\\U0001F4BE', '\\U0001F4BE', '\\U0001F4BE', '\\U0001F4BE', '\\U0001F4BE', '\\U0001F4BE', '\\U0001F4BE', '\\U0001F4BE', '\\U0001F4BE', '\\U0001F4BE', '\\U0001F4BE', '\\U0001F4BE', '\\U0001F4BE', '\\U0001F4BE', '\\U0001F4BE', '\\U0001F4BE', '\\U0001F4BE', '\\U0001F4BE', '\\U0001F4BE', '\\U0001F4BE',\n",
    "                     '\\U0001F4BE', '\\U0001F4BE', '\\U0001F4BE', '\\U0001F4BE', '\\U0001F4BE', '\\U0001F4BE', '\\U0001F4BE', '\\U0001F4BE', '\\U0001F4BE', '\\U0001F4BE', '\\U0001F4BE', '\\U0001F4BE', '\\U0001F4BE', '\\U0001F4BE','\\U0001F4BE', '\\U0001F4BE', '\\U0001F4BE', '\\U0001F4BE', '\\U0001F4BE', '\\U0001F4BE', '\\U0001F4BE', '\\U0001F4BE', '\\U0001F4BE', '\\U0001F4BE', '\\U0001F4BE', '\\U0001F4BE', '\\U0001F4BE']\n",
    "          "
   ]
  },
  {
   "cell_type": "code",
   "execution_count": null,
   "metadata": {
    "colab": {
     "base_uri": "https://localhost:8080/",
     "height": 34
    },
    "colab_type": "code",
    "executionInfo": {
     "elapsed": 496,
     "status": "ok",
     "timestamp": 1586283208471,
     "user": {
      "displayName": "Louk Smalbil",
      "photoUrl": "https://lh3.googleusercontent.com/a-/AOh14GiByqcfGW98Bn42uapsD4oj4auyrLV9xURPKHUj=s64",
      "userId": "10422991521784029462"
     },
     "user_tz": -120
    },
    "id": "flsxDvYllzrC",
    "outputId": "ee5f4737-2e60-4006-c9a7-c988d21ce170"
   },
   "outputs": [],
   "source": [
    "sample = np.random.choice(cd_or_floppy_disk, 20, replace=False)\n",
    "\n",
    "draw = Counter(sample)\n",
    "draw"
   ]
  },
  {
   "cell_type": "markdown",
   "metadata": {
    "colab_type": "text",
    "id": "BkbNW94uHeYx"
   },
   "source": [
    "We can compute a wide variety of quantities using this sample. For instance, we may compute the mean of the sample, or the median. Note however that when we do this, we do not use the term **parameter** of the sample. Rather, we talk about a **statistic.** A statistic is a quantity that can be computed from the sample. \n",
    "\n",
    "To explain the difference a bit further, have a look at the following example (from Wikipedia):\n",
    "\n",
    "> \"*In a recent survey of Americans, 52% of Republicans say global warming is happening.*\"\n",
    "\n",
    "Here the 52% denotes the proportion of Republicans that think global warming is happening. It is a statistic, a quantity of the sample (of Republicans participating in the survey). The parameter would be the proportion of *all* Republicans."
   ]
  },
  {
   "cell_type": "markdown",
   "metadata": {
    "colab_type": "text",
    "id": "3oNcH8xKIjno"
   },
   "source": [
    "In our example, we drew a sample from our population. On the basis of the sample, we can compute a statistic of the sample, which would, for instance, be the proportion of floppy disks versus CDs. It is interesting that we can compute a statistic. However, in the case that the sample is not **representable** for the population, we cannot use this statistic to approximate or **infer** our population parameter. \n",
    "\n",
    "We can, however, infer (within some margin of error) an estimate, $\\hat{p}$, for the actual parameter as $p$. "
   ]
  },
  {
   "cell_type": "markdown",
   "metadata": {
    "colab_type": "text",
    "id": "e_8H6SXLJJqd"
   },
   "source": [
    "### Parameter Estimation\n",
    "\n",
    "Now, we can estimate $p$ using the sampling distribution. The Central Limit Theorem tells us that any **sampling distribution** will converge to a normal distribution. We can use this to our advantage: we can predict the sampling distribution of the different proportions of each sample. \n",
    "\n",
    "The CLT tells us that this will:\n",
    "\n",
    "1.   Result in a Normal Distribution;\n",
    "2.   The mean of the sample distribution will converge to the true mean;\n",
    "\n"
   ]
  },
  {
   "cell_type": "code",
   "execution_count": null,
   "metadata": {
    "colab": {
     "base_uri": "https://localhost:8080/",
     "height": 282
    },
    "colab_type": "code",
    "executionInfo": {
     "elapsed": 6892,
     "status": "ok",
     "timestamp": 1586283928140,
     "user": {
      "displayName": "Louk Smalbil",
      "photoUrl": "https://lh3.googleusercontent.com/a-/AOh14GiByqcfGW98Bn42uapsD4oj4auyrLV9xURPKHUj=s64",
      "userId": "10422991521784029462"
     },
     "user_tz": -120
    },
    "id": "uyitjdslBTqv",
    "outputId": "ac1340cb-71f5-409e-eb2b-7de3decb54f1"
   },
   "outputs": [],
   "source": [
    "samples = []\n",
    "n_trials = 10000    #100 #500 #1000 #10000\n",
    "sample_size = 1000\n",
    "\n",
    "for i in range(n_trials):\n",
    "  sample = np.random.choice(cd_or_floppy_disk, sample_size, replace=False)\n",
    "  count = Counter(sample)\n",
    "  floppy = count['\\U0001F4BE']\n",
    "  cd = count['\\U0001F4C0']\n",
    "\n",
    "  sample_prop = cd/floppy\n",
    "  samples.append(sample_prop)\n",
    "\n",
    "sns.distplot(samples)"
   ]
  },
  {
   "cell_type": "code",
   "execution_count": null,
   "metadata": {
    "colab": {},
    "colab_type": "code",
    "id": "i7-Z09fo38gl"
   },
   "outputs": [],
   "source": [
    "#samples"
   ]
  },
  {
   "cell_type": "code",
   "execution_count": null,
   "metadata": {
    "cellView": "both",
    "colab": {
     "base_uri": "https://localhost:8080/",
     "height": 34
    },
    "colab_type": "code",
    "executionInfo": {
     "elapsed": 1146,
     "status": "ok",
     "timestamp": 1586283769773,
     "user": {
      "displayName": "Louk Smalbil",
      "photoUrl": "https://lh3.googleusercontent.com/a-/AOh14GiByqcfGW98Bn42uapsD4oj4auyrLV9xURPKHUj=s64",
      "userId": "10422991521784029462"
     },
     "user_tz": -120
    },
    "id": "9XrpTFjZmx62",
    "outputId": "61f47106-ae8c-4490-eb4a-23fc117e71da"
   },
   "outputs": [],
   "source": [
    "#@title\n",
    "p = Counter(cd_or_floppy_disk).values()\n",
    "p = list(p)[0]/list(p)[1]\n",
    "print(p)"
   ]
  },
  {
   "cell_type": "markdown",
   "metadata": {
    "colab_type": "text",
    "id": "YNmuheuNgXHZ"
   },
   "source": [
    "# Confidence Intervals\n",
    "\n",
    "In the previous section, we informally tried to estimate the population parameter $p$. As seen in the previous section as well, for every sample, the sample statistic we obtained (in our case the sample proportion) was slightly different for every sample. \n",
    "\n",
    "Because we often do not know the actual population parameter, we can set a confidence interval. A confidence interval tells us how likely it is that the parameter (usually the mean) of a population lies within a pre-fixed interval.  \n",
    "\n",
    "It is a range of values for which we can be, say, 95% confident that the true parameter lies within that pre-fixed range. This 95% confidence is what we call the **confidence level**. The range is what we call the **confidence interval**. "
   ]
  },
  {
   "cell_type": "markdown",
   "metadata": {
    "colab_type": "text",
    "id": "7EQn49qVIFg6"
   },
   "source": [
    "We denote the confidence interval as follows:\n",
    "\n",
    "$$\\bar{X} \\pm \\text{Margin of Error},$$\n",
    "\n",
    "where $\\hat{X}$ is the sample mean. "
   ]
  },
  {
   "cell_type": "markdown",
   "metadata": {
    "colab_type": "text",
    "id": "92EPGRlIKLY5"
   },
   "source": [
    "## The Confidence Interval I ($\\sigma$ known)\n",
    "\n",
    "If the standard deviation of the population is known (which rarely is the case), we can use the following formula to compute the confidence interval for $1 - \\alpha$:\n",
    "\n",
    "$$\\hat{X} \\pm z_{\\alpha/2} \\times \\frac{\\sigma}{\\sqrt{n}},$$\n",
    "\n",
    "where $\\hat{X}$ denotes the sample mean, $\\alpha$ the critical value, $\\sigma$ the standard deviation of the population and $n$ the size of the sample. The $\\alpha /2$ indicates that if set our critical value to 0.05 (i.e. 95%), we take as our $z-score$ the value at 0.05/2=0.025. "
   ]
  },
  {
   "cell_type": "markdown",
   "metadata": {
    "colab_type": "text",
    "id": "WLQad2ZYMJAV"
   },
   "source": [
    "Show example: https://homepage.stat.uiowa.edu/~mbognar/applets/normal.html\n",
    "\n",
    "Z-scores table: http://www.z-table.com/"
   ]
  },
  {
   "cell_type": "markdown",
   "metadata": {
    "colab_type": "text",
    "id": "pLoJTBqlMq6P"
   },
   "source": [
    "We now know that $z \\approx$ 1.96. Let's plug this in:\n",
    "\n",
    "$$\\hat{X} \\pm 1.96 \\times \\frac{\\sigma}{\\sqrt{n}}.$$\n",
    "\n"
   ]
  },
  {
   "cell_type": "markdown",
   "metadata": {
    "colab_type": "text",
    "id": "XqUPxEk-Nbi5"
   },
   "source": [
    "### Example 1\n",
    "\n",
    "Now let us have a look at the example of 2D:4D ratio, the ratio when we divide the lenght of the index finger by the lenght of the ring finger. Now, suppose we conduct a research on 135 female test subjects. Assume the following:\n",
    "\n",
    "1.   The sample average for the 2D:4D ratio, $\\hat{X}$, is 0.988;  \n",
    "2.   $\\sigma$ is 0.028.\n",
    "\n",
    "We want to compute a 95% confidence interval for the population. We have that:\n",
    "\n",
    "$$0.988 \\pm 1.96 \\times \\frac{0.028}{\\sqrt{135}}.$$\n",
    "\n",
    "We get\n",
    "\n",
    "$$0.988 \\pm 0.0047.$$\n",
    "\n",
    "This gives us the confidence interval:\n",
    "\n",
    "$$[0.983, 0.993].$$\n",
    "\n",
    "**We can now say with 95% confident that the population mean lies in this interval.**\n",
    "\n",
    "(Example retrieved from https://www.youtube.com/watch?v=KG921rfbTDw)\n",
    "\n",
    "\n"
   ]
  },
  {
   "cell_type": "markdown",
   "metadata": {
    "colab_type": "text",
    "id": "gRfWmkH5Zhfw"
   },
   "source": [
    "### Example 2\n",
    "\n",
    "Now suppose that we want to estimate the following parameter: what is the mean height of all skyscrapers in the world? Let us say that we want to compute a 95% confidence interval for this parameter. "
   ]
  },
  {
   "cell_type": "code",
   "execution_count": null,
   "metadata": {
    "colab": {},
    "colab_type": "code",
    "id": "PHEJTy_0ZgFd"
   },
   "outputs": [],
   "source": [
    "# Given information\n",
    "sample_building = [381, 509, 400, 700, 501, 230, 328, 609, 291, 812, 501, 555]\n",
    "population_stdev = 132\n",
    "z = stats.norm.interval(0.95)[1]\n",
    "n = len(sample_building)\n",
    "\n",
    "# Terms \n",
    "mean = np.mean(sample_building)\n",
    "marg_of_error = population_stdev / np.sqrt(n)"
   ]
  },
  {
   "cell_type": "code",
   "execution_count": null,
   "metadata": {
    "colab": {},
    "colab_type": "code",
    "id": "WGI9tSUc85Ov"
   },
   "outputs": [],
   "source": []
  },
  {
   "cell_type": "code",
   "execution_count": null,
   "metadata": {
    "colab": {
     "base_uri": "https://localhost:8080/",
     "height": 34
    },
    "colab_type": "code",
    "executionInfo": {
     "elapsed": 609,
     "status": "ok",
     "timestamp": 1586285056253,
     "user": {
      "displayName": "Louk Smalbil",
      "photoUrl": "https://lh3.googleusercontent.com/a-/AOh14GiByqcfGW98Bn42uapsD4oj4auyrLV9xURPKHUj=s64",
      "userId": "10422991521784029462"
     },
     "user_tz": -120
    },
    "id": "FzR4ZC2qa5LS",
    "outputId": "568e0a60-1b6c-4334-8492-142a4f5c611d"
   },
   "outputs": [],
   "source": [
    "con_int = [mean - (z * marg_of_error) , mean + (z * marg_of_error)]\n",
    "print('With 95% confidence, the true mean lies in the inverval:', con_int)"
   ]
  },
  {
   "cell_type": "markdown",
   "metadata": {
    "colab_type": "text",
    "id": "9kgujff9nXC6"
   },
   "source": [
    "## The Confidence Interval II ($\\sigma$ not known)\n",
    "\n",
    "Now suppose, however, that the standard deviation of the population is not known. We can then resort to using the standard deviation of the sample, $s$. The difference between $\\sigma$ and $s$ is that $\\sigma$ is a fixed constant. Yet, the standard deviation of a sample is not a constant -- its value will vary between samples. For instance, it may be 0.24 in sample $A$, and 0.28 in sample $B$. \n",
    "\n",
    "**Hence, we need to take into account this variability.**\n",
    "\n",
    "\n",
    "When we want to compute the confidence interval for a parameter without knowing the sample, we use the following formula: \n",
    "\n",
    "$$\\bar{X} \\pm t_{a/2} \\times \\frac{s}{\\sqrt{n}},$$\n",
    "\n",
    "where the term $\\frac{s}{\\sqrt{n}}$ denotes the **standard error** of $\\hat{X}$ which is simply $s$ (the standard deviation of the sample) divided by the square root of $n$, the sample size. \n",
    "\n",
    "Moreover, note that we cannot use the $z$ score anymore, because this score is based on a **standard normal distribution**. In fact, we will need to use the use another score, the $t-score$, derived from the student t-distribution with $n-1$ degrees of freedom. The term degrees of freedom (df) refers to the number of data points used to compute a statistic minus the number of parameters estimated from the sample points.\n",
    "\n",
    "Student's T-Distribution allows us to take into account the variability of the sample variance.\n",
    "\n",
    "Let us have a look at the t-distribution: https://seeing-theory.brown.edu/probability-distributions/index.html#section3 "
   ]
  },
  {
   "cell_type": "markdown",
   "metadata": {
    "colab_type": "text",
    "id": "rdgOGvpOX0fh"
   },
   "source": [
    "As can be observed, the higher the number of degrees of freedom, the better the t-distribution resembles a standard normal Gaussian. In other words, a lower degree of freedom denotes more variability. As such, an increse of the degrees of freedom leads to a distribution that more and more resembles the standard normal Gaussian. "
   ]
  },
  {
   "cell_type": "code",
   "execution_count": null,
   "metadata": {
    "colab": {
     "base_uri": "https://localhost:8080/",
     "height": 51
    },
    "colab_type": "code",
    "executionInfo": {
     "elapsed": 877,
     "status": "ok",
     "timestamp": 1586285535473,
     "user": {
      "displayName": "Louk Smalbil",
      "photoUrl": "https://lh3.googleusercontent.com/a-/AOh14GiByqcfGW98Bn42uapsD4oj4auyrLV9xURPKHUj=s64",
      "userId": "10422991521784029462"
     },
     "user_tz": -120
    },
    "id": "IN-7aJhyv2uw",
    "outputId": "17c20162-a18a-4e97-9186-5304d08ac1ef"
   },
   "outputs": [],
   "source": [
    "print('t', stats.t.interval(0.95, 10000)[1])\n",
    "print('z:',stats.norm.interval(0.95)[1])"
   ]
  },
  {
   "cell_type": "markdown",
   "metadata": {
    "colab_type": "text",
    "id": "8KOEFnuwtimr"
   },
   "source": [
    "### Example 1\n",
    "\n",
    "In order to see how this works in practice, let us have another look at our example from before where our sample consisted of large buildings. Note that before, we knew that the standard deviation of the population was 132. In this example, however, we assume that we do not know this parameter. Hence, we will need to use the t-score. \n",
    "\n",
    "Also note that we can compute the standard deviation of the sample as follows:\n",
    "\n",
    "$$s = \\sqrt{\\frac{\\sum_{i}^{N}   (x_{i} - \\hat{X})^{2}} {1-n}}.$$"
   ]
  },
  {
   "cell_type": "code",
   "execution_count": null,
   "metadata": {
    "colab": {},
    "colab_type": "code",
    "id": "IeZ0tnT6ger9"
   },
   "outputs": [],
   "source": [
    "# Given information\n",
    "sample_building = [381, 509, 400, 700, 501, 230, 328, 609, 291, 812, 501, 555]\n",
    "#population_stdev = ?\n",
    "degree_freedom = len(sample_building) - 1\n",
    "t = stats.t.interval(0.95, degree_freedom)[1]\n",
    "\n",
    "# Terms\n",
    "mean = np.mean(sample_building)\n",
    "std_sample = np.sqrt(abs(np.sum((sample_building - mean)**2) / (1-len(sample_building))))\n",
    "marg_of_error = std_sample / np.sqrt(len(sample_building))"
   ]
  },
  {
   "cell_type": "code",
   "execution_count": null,
   "metadata": {
    "colab": {
     "base_uri": "https://localhost:8080/",
     "height": 34
    },
    "colab_type": "code",
    "executionInfo": {
     "elapsed": 497,
     "status": "ok",
     "timestamp": 1586285714205,
     "user": {
      "displayName": "Louk Smalbil",
      "photoUrl": "https://lh3.googleusercontent.com/a-/AOh14GiByqcfGW98Bn42uapsD4oj4auyrLV9xURPKHUj=s64",
      "userId": "10422991521784029462"
     },
     "user_tz": -120
    },
    "id": "4Y-SJpKKuI60",
    "outputId": "30757f01-f89e-4c30-9852-96acbba4bf1d"
   },
   "outputs": [],
   "source": [
    "con_int = [mean - (t * marg_of_error) , mean + (t * marg_of_error)]\n",
    "print('With 95% confidence, the true mean lies in the inverval:', con_int)"
   ]
  },
  {
   "cell_type": "markdown",
   "metadata": {
    "colab_type": "text",
    "id": "rd-yMBf0wxUP"
   },
   "source": [
    "### Example 2\n",
    "\n",
    "Let us do the same things, but now with a larger sample."
   ]
  },
  {
   "cell_type": "code",
   "execution_count": null,
   "metadata": {
    "colab": {
     "base_uri": "https://localhost:8080/",
     "height": 34
    },
    "colab_type": "code",
    "executionInfo": {
     "elapsed": 1374,
     "status": "ok",
     "timestamp": 1586285861899,
     "user": {
      "displayName": "Louk Smalbil",
      "photoUrl": "https://lh3.googleusercontent.com/a-/AOh14GiByqcfGW98Bn42uapsD4oj4auyrLV9xURPKHUj=s64",
      "userId": "10422991521784029462"
     },
     "user_tz": -120
    },
    "id": "wRoua7B1w36V",
    "outputId": "2af6bbaf-2f23-496c-b5e9-8a3b1654bd37"
   },
   "outputs": [],
   "source": [
    "# Given information\n",
    "sample_building = [381, 509, 400, 700, 501, 230, 328, 609, 291, 812, 501, 555, 421, 321, 329, 462, 388, 734, 406, 324, 653, 271]\n",
    "#population_stdev = ?\n",
    "degree_freedom = len(sample_building) - 1\n",
    "t = stats.t.interval(0.95, degree_freedom)[1]\n",
    "\n",
    "# Terms\n",
    "mean = np.mean(sample_building)\n",
    "std_sample = np.sqrt(abs(np.sum((sample_building - mean)**2) / (1-len(sample_building))))\n",
    "marg_of_error = std_sample / np.sqrt(len(sample_building))\n",
    "\n",
    "con_int = [mean - (t * marg_of_error) , mean + (t * marg_of_error)]\n",
    "print('With 95% confidence, the true mean lies in the inverval:', con_int)"
   ]
  },
  {
   "cell_type": "markdown",
   "metadata": {
    "colab_type": "text",
    "id": "dv_UAxRCzXIM"
   },
   "source": [
    "## The Confidence Interval III (CI for the Variance)\n",
    "\n",
    "Now suppose that instead of estimating the mean, we want to estimate the variance of a population $\\sigma^{2}.$ In order to do so, we need another distribution, called the $\\chi^{2}$ distribution, since the population variance is **not** normally distributed. \n",
    "\n",
    "We then define our confidence interval as follows:\n",
    "\n",
    "$$(\\frac{(n-1) \\times s^{2}}{\\chi^2_{\\alpha/2}}, \\frac{(n-1) \\times s^{2}}{\\chi^2_{1 - \\alpha/2}}),$$\n",
    "\n",
    "where $n-1$ denotes the degrees of freedom, $s^{2}$ the variance of the sample and $\\chi^2_{\\alpha/2}$ and $\\chi^2_{1 - \\alpha/2}$, the bounds of distribution. \n",
    "\n"
   ]
  },
  {
   "cell_type": "markdown",
   "metadata": {
    "colab_type": "text",
    "id": "UZlGkQyF2Gms"
   },
   "source": [
    "### Example 1\n",
    "\n",
    "Here's an example. Suppose we have a sample of the weights of 7 cereal boxes in grams. We want to estimate the variance of the total population within a 95% confidence interval. Recall that we can compute the variance of the sample as follows:\n",
    "\n",
    "$$s^{2} = \\frac{\\sum_{i}^{N}   (x_{i} - \\hat{X})^{2}} {n-1}.$$"
   ]
  },
  {
   "cell_type": "code",
   "execution_count": null,
   "metadata": {
    "colab": {},
    "colab_type": "code",
    "id": "6hZ3rAub2M6M"
   },
   "outputs": [],
   "source": [
    "# Retrieved from: https://www.youtube.com/watch?v=qwqB5a7_W44\n",
    "# Given information \n",
    "weight_sample = [775, 780, 781, 795, 803, 810, 823]\n",
    "n = len(weight_sample)\n",
    "mean = np.mean(weight_sample)"
   ]
  },
  {
   "cell_type": "code",
   "execution_count": null,
   "metadata": {
    "colab": {},
    "colab_type": "code",
    "id": "y36GCjPN5ffQ"
   },
   "outputs": [],
   "source": [
    "# Terms\n",
    "degree_free = n - len(weight_sample)\n",
    "var_sample = abs(np.sum((weight_sample - mean)**2) / (1-len(weight_sample)))\n",
    "chi_right = stats.chi2.interval(0.95, df)[0]\n",
    "chi_left = stats.chi2.interval(0.95, df)[1]"
   ]
  },
  {
   "cell_type": "code",
   "execution_count": null,
   "metadata": {
    "colab": {},
    "colab_type": "code",
    "id": "c1Lg0Fmo5fio"
   },
   "outputs": [],
   "source": [
    "conf_int = [ df * var_sample / chi_left, df * var_sample / chi_right]\n",
    "print('With 95% confidence, the true variance lies in the inverval:', conf_int)"
   ]
  },
  {
   "cell_type": "code",
   "execution_count": null,
   "metadata": {
    "colab": {},
    "colab_type": "code",
    "id": "wPtNvYvVoyC2"
   },
   "outputs": [],
   "source": []
  }
 ],
 "metadata": {
  "colab": {
   "authorship_tag": "ABX9TyMjgGv8bKU3yuzLHd1MfkB3",
   "collapsed_sections": [],
   "name": "Confidence_Intervals.ipynb",
   "provenance": [
    {
     "file_id": "1Q7QlAkTXMeMGjcfCNbindAigt0woUGvk",
     "timestamp": 1586268833308
    }
   ]
  },
  "kernelspec": {
   "display_name": "Python 3",
   "language": "python",
   "name": "python3"
  },
  "language_info": {
   "codemirror_mode": {
    "name": "ipython",
    "version": 3
   },
   "file_extension": ".py",
   "mimetype": "text/x-python",
   "name": "python",
   "nbconvert_exporter": "python",
   "pygments_lexer": "ipython3",
   "version": "3.7.4"
  }
 },
 "nbformat": 4,
 "nbformat_minor": 1
}
