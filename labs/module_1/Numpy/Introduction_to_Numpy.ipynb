{
 "cells": [
  {
   "cell_type": "markdown",
   "metadata": {
    "colab_type": "text",
    "id": "Ob8zlLPdiab6"
   },
   "source": [
    "# Introduction to Numpy"
   ]
  },
  {
   "cell_type": "markdown",
   "metadata": {
    "colab_type": "text",
    "id": "OdUZOny1iucz"
   },
   "source": [
    "## Introduction \n",
    "\n",
    "Many of the libraries you will use to perform data analysis in Python, as well as many of the mathematical functions you'll use, will involve working with Numpy. Numpy (short for Numerical Python) is used for numeric computing and includes support for multi-dimensional arrays and matrices along with a variety of mathematical functions to apply to them. In this lesson, we will learn about Numpy's primary data structures and how to apply some basic math functions to them."
   ]
  },
  {
   "cell_type": "markdown",
   "metadata": {
    "colab_type": "text",
    "id": "LSnV47g5izDe"
   },
   "source": [
    "## Importing Numpy\n",
    "\n",
    "In order to use Numpy, you must first import it. It is common to also alias it to np using the as keyword so that you don't have to spell out \"numpy\" every time you want to call one of its methods."
   ]
  },
  {
   "cell_type": "code",
   "execution_count": null,
   "metadata": {
    "colab": {},
    "colab_type": "code",
    "id": "nR2QmU_SiX6C"
   },
   "outputs": [],
   "source": [
    "#Import numpy here\n",
    "import numpy as np"
   ]
  },
  {
   "cell_type": "markdown",
   "metadata": {
    "colab_type": "text",
    "id": "HYaaAs9ci7tX"
   },
   "source": [
    "Once the library has been imported, it is ready to use."
   ]
  },
  {
   "cell_type": "markdown",
   "metadata": {
    "colab_type": "text",
    "id": "eMltMdBwi-nI"
   },
   "source": [
    "## Numpy Arrays\n",
    "\n",
    "The basic data structures in Numpy are arrays, which can be used to represent tabular data. You can think of arrays as lists of lists, where all the elements of a list are of the same type (typically numeric since the reason you use Numpy is to do numeric computing). A matrix is just a two-dimensional array.\n",
    "\n",
    "The size of an array is the total number of elements in every list. The shape of an array is the size of the array along each dimension (e.g. number of rows and number of columns for a two-dimensional array). Let's create a two dimensional 10 x 4 array containing random numbers and calculate the shape and size of the array using the shape and size methods."
   ]
  },
  {
   "cell_type": "code",
   "execution_count": null,
   "metadata": {
    "colab": {
     "base_uri": "https://localhost:8080/",
     "height": 187
    },
    "colab_type": "code",
    "id": "do1Q0THMjEmQ",
    "outputId": "31072ffd-a68a-41a4-ca62-e6a38534d300"
   },
   "outputs": [],
   "source": [
    "#Random 2d\n",
    "\n",
    "a = np.random.random((10,4))\n",
    "print(a)"
   ]
  },
  {
   "cell_type": "code",
   "execution_count": null,
   "metadata": {
    "colab": {
     "base_uri": "https://localhost:8080/",
     "height": 51
    },
    "colab_type": "code",
    "id": "XHoZoI-_jNPO",
    "outputId": "3850657a-f911-45bd-aaab-2f07342bd056"
   },
   "outputs": [],
   "source": [
    "#print shape and size \n",
    "a.shape"
   ]
  },
  {
   "cell_type": "code",
   "execution_count": null,
   "metadata": {},
   "outputs": [],
   "source": [
    "a.size"
   ]
  },
  {
   "cell_type": "markdown",
   "metadata": {
    "colab_type": "text",
    "id": "PKVHXXECjOYN"
   },
   "source": [
    "As you can see, the array has a shape of 10 x 4 (just as we specified) and the total number of elements in the array is 40.\n",
    "\n",
    "Now that we have seen an example of a basic two-dimensional array (a matrix), let's learn about how creating arrays with more dimensions than two works in Numpy. Let's build a three-dimensional array of random numbers and see what that looks like."
   ]
  },
  {
   "cell_type": "code",
   "execution_count": null,
   "metadata": {
    "colab": {
     "base_uri": "https://localhost:8080/",
     "height": 255
    },
    "colab_type": "code",
    "id": "94vKakuvjKQv",
    "outputId": "fffb42d9-268b-4685-e20a-369e93a6649a"
   },
   "outputs": [],
   "source": [
    "# random 3d\n",
    "b = np.random.random((5,2,3))\n",
    "print(b)"
   ]
  },
  {
   "cell_type": "markdown",
   "metadata": {
    "colab_type": "text",
    "id": "TzE8pRuLjWW6"
   },
   "source": [
    "This created an array with five groups of 2 x 3 matrices. Let's see what happens if we pass four dimensions."
   ]
  },
  {
   "cell_type": "code",
   "execution_count": null,
   "metadata": {
    "colab": {
     "base_uri": "https://localhost:8080/",
     "height": 527
    },
    "colab_type": "code",
    "id": "C105BWoojeIG",
    "outputId": "50bd763a-2cb7-4e6e-cd14-e63c48557fa2"
   },
   "outputs": [],
   "source": [
    "#random 4d\n",
    "c = np.random.random((2,3,4,5))\n",
    "print(c)"
   ]
  },
  {
   "cell_type": "markdown",
   "metadata": {
    "colab_type": "text",
    "id": "gs28DII6jhSS"
   },
   "source": [
    "This time, we got two groups of three 4 x 5 matrices."
   ]
  },
  {
   "cell_type": "markdown",
   "metadata": {
    "colab_type": "text",
    "id": "L8lfe-Vfjk1L"
   },
   "source": [
    "## Extracting Data from Arrays\n",
    "\n",
    "Extracting elements from arrays works just like it does for other Python data structures. We just need to reference the indexes of the values we want to extract. Below are some examples of how to reference specific rows, columns, and values in a two dimensional array."
   ]
  },
  {
   "cell_type": "code",
   "execution_count": null,
   "metadata": {
    "colab": {
     "base_uri": "https://localhost:8080/",
     "height": 34
    },
    "colab_type": "code",
    "id": "5lDqGw26ju0Y",
    "outputId": "6fb6aefd-c470-4416-ee83-7bd4c15ed33b"
   },
   "outputs": [],
   "source": [
    "# First row of matrix a\n",
    "print(a[0])"
   ]
  },
  {
   "cell_type": "code",
   "execution_count": null,
   "metadata": {},
   "outputs": [],
   "source": [
    "print(a)"
   ]
  },
  {
   "cell_type": "code",
   "execution_count": null,
   "metadata": {
    "colab": {
     "base_uri": "https://localhost:8080/",
     "height": 51
    },
    "colab_type": "code",
    "id": "NAIfUGMhjxDj",
    "outputId": "e4e1d44f-8c9b-42e1-ee4b-ecb1d67bf07d"
   },
   "outputs": [],
   "source": [
    "# First column of matrix a\n",
    "print(a[:,0])"
   ]
  },
  {
   "cell_type": "code",
   "execution_count": null,
   "metadata": {
    "colab": {
     "base_uri": "https://localhost:8080/",
     "height": 34
    },
    "colab_type": "code",
    "id": "SGyQy_sWjzR4",
    "outputId": "13f26c0d-0349-4686-9c96-836a1271677f"
   },
   "outputs": [],
   "source": [
    "# element at row 4 (i.e. 5), column 2 (i.e. 3) in a\n",
    "print(a[4,2])"
   ]
  },
  {
   "cell_type": "markdown",
   "metadata": {
    "colab_type": "text",
    "id": "o3QLeaDwj1cn"
   },
   "source": [
    "What about arrays that have more than two dimensions? You just pass a list of indexes for the values you want, and it will return the corresponding dimensions or values."
   ]
  },
  {
   "cell_type": "code",
   "execution_count": null,
   "metadata": {
    "colab": {
     "base_uri": "https://localhost:8080/",
     "height": 255
    },
    "colab_type": "code",
    "id": "MMEjZ1hcj4Cm",
    "outputId": "ceeaa267-d80b-4d9b-e4f2-805071958516"
   },
   "outputs": [],
   "source": [
    "# First group of array c\n",
    "print(c[0])"
   ]
  },
  {
   "cell_type": "code",
   "execution_count": null,
   "metadata": {
    "colab": {
     "base_uri": "https://localhost:8080/",
     "height": 85
    },
    "colab_type": "code",
    "id": "B0QeQbVYj9XB",
    "outputId": "2a687d6e-053d-4cc5-c0c7-48b0fbf6df93"
   },
   "outputs": [],
   "source": [
    "# Second subgroup of the first group\n",
    "print(c[0][1])"
   ]
  },
  {
   "cell_type": "code",
   "execution_count": null,
   "metadata": {
    "colab": {
     "base_uri": "https://localhost:8080/",
     "height": 34
    },
    "colab_type": "code",
    "id": "NyMlyQarkAlA",
    "outputId": "215c7580-f24c-4adb-e68a-766517c736a0"
   },
   "outputs": [],
   "source": [
    "# Third row of the second subgroup\n",
    "print(c[0,1,2])"
   ]
  },
  {
   "cell_type": "code",
   "execution_count": null,
   "metadata": {
    "colab": {
     "base_uri": "https://localhost:8080/",
     "height": 34
    },
    "colab_type": "code",
    "id": "FBWGZsFGkEJ1",
    "outputId": "c9b9245f-b83d-4e6e-e054-4cd3c1ee1f69"
   },
   "outputs": [],
   "source": [
    "# Fourth column of the second subgroup\n",
    "print(c[0,1,:,3])"
   ]
  },
  {
   "cell_type": "code",
   "execution_count": null,
   "metadata": {
    "colab": {
     "base_uri": "https://localhost:8080/",
     "height": 34
    },
    "colab_type": "code",
    "id": "qGeD4cZKkGcM",
    "outputId": "1fedbafd-4049-40ac-b438-06edf9f17ec1"
   },
   "outputs": [],
   "source": [
    "# Value in the third row and fourth column of the second subgroup\n",
    "print(c[0,1,2,3])"
   ]
  },
  {
   "cell_type": "markdown",
   "metadata": {
    "colab_type": "text",
    "id": "pHMQtLfXkK4N"
   },
   "source": [
    "## Converting other Data Structures to Arrays \n",
    "\n",
    "If you have data in another type of data structure and you would like to convert it to an array so that you can take advantage of Numpy's mathematical functions, you can convert them using the array() method as follows."
   ]
  },
  {
   "cell_type": "code",
   "execution_count": null,
   "metadata": {
    "colab": {
     "base_uri": "https://localhost:8080/",
     "height": 68
    },
    "colab_type": "code",
    "id": "l4-vnogqkIgN",
    "outputId": "827ce79a-c5c3-4ea2-bdce-e962f43ba1d6"
   },
   "outputs": [],
   "source": [
    "lst_lst = [(1,2,3),(4,5,6),(7,8,9)]\n"
   ]
  },
  {
   "cell_type": "code",
   "execution_count": null,
   "metadata": {},
   "outputs": [],
   "source": [
    "# To array\n",
    "d = np.array(lst_lst)\n",
    "print(d)"
   ]
  },
  {
   "cell_type": "markdown",
   "metadata": {
    "colab_type": "text",
    "id": "k28xAKghkV1u"
   },
   "source": [
    "This works the same way whether you have a list of lists, a list of tuples, a tuple of lists, or a tuple of tuples."
   ]
  },
  {
   "cell_type": "markdown",
   "metadata": {
    "colab_type": "text",
    "id": "aPVnpKz4kZzx"
   },
   "source": [
    "## Numpy Math Functions\n",
    "\n",
    "Now that we know how to create and navigate arrays, let's take a look at how to perform mathematical calculations on them.\n",
    "\n",
    "One of the most common (and useful) functions is np.sum, which lets you obtain the sum of any elements you select from an array."
   ]
  },
  {
   "cell_type": "code",
   "execution_count": null,
   "metadata": {
    "colab": {
     "base_uri": "https://localhost:8080/",
     "height": 34
    },
    "colab_type": "code",
    "id": "zx_XcZEUkWP1",
    "outputId": "edcdf449-ac0e-4152-cc0f-9ac2b2840d96"
   },
   "outputs": [],
   "source": [
    "# Sum of all elements in matrix a\n",
    "np.sum(a)"
   ]
  },
  {
   "cell_type": "code",
   "execution_count": null,
   "metadata": {
    "colab": {
     "base_uri": "https://localhost:8080/",
     "height": 34
    },
    "colab_type": "code",
    "id": "wbv6ER5Bkhwl",
    "outputId": "11be11ad-fdfe-483f-da82-1bc7c28a000d"
   },
   "outputs": [],
   "source": [
    "# Sum of each column in matrix a\n",
    "#np.sum(a[:,0])\n",
    "\n",
    "\n",
    "np.sum(a, axis = 0)"
   ]
  },
  {
   "cell_type": "code",
   "execution_count": null,
   "metadata": {
    "colab": {
     "base_uri": "https://localhost:8080/",
     "height": 51
    },
    "colab_type": "code",
    "id": "1Rhiz_sYkkZ6",
    "outputId": "f773daaf-7d46-451c-be11-c9fae2a6811a"
   },
   "outputs": [],
   "source": [
    "# Sum of each row in matrix a\n",
    "np.sum(a, axis = 1)"
   ]
  },
  {
   "cell_type": "code",
   "execution_count": null,
   "metadata": {},
   "outputs": [],
   "source": [
    "print(b)"
   ]
  },
  {
   "cell_type": "code",
   "execution_count": null,
   "metadata": {},
   "outputs": [],
   "source": [
    "print(b[:2])"
   ]
  },
  {
   "cell_type": "code",
   "execution_count": null,
   "metadata": {
    "colab": {
     "base_uri": "https://localhost:8080/",
     "height": 34
    },
    "colab_type": "code",
    "id": "k6VxhRCIkma-",
    "outputId": "92644069-5edf-4a91-e997-ef0f323f622a"
   },
   "outputs": [],
   "source": [
    "# Sum of all the elements in the first two groups of array b\n",
    "np.sum(b[:2])"
   ]
  },
  {
   "cell_type": "markdown",
   "metadata": {
    "colab_type": "text",
    "id": "V1TsVq5VkrJi"
   },
   "source": [
    "The np.mean function works the same way and is also very useful."
   ]
  },
  {
   "cell_type": "code",
   "execution_count": null,
   "metadata": {
    "colab": {
     "base_uri": "https://localhost:8080/",
     "height": 34
    },
    "colab_type": "code",
    "id": "FRpun485kocy",
    "outputId": "5361b04e-6f20-466b-f4e4-e37443aefdd6"
   },
   "outputs": [],
   "source": [
    "# Mean of all elements in matrix a\n",
    "np.mean(a)"
   ]
  },
  {
   "cell_type": "code",
   "execution_count": null,
   "metadata": {
    "colab": {
     "base_uri": "https://localhost:8080/",
     "height": 34
    },
    "colab_type": "code",
    "id": "ymOKw1s_kupu",
    "outputId": "c5eb8a7a-27fd-4932-c366-f39cb11ce285"
   },
   "outputs": [],
   "source": [
    "# Mean of each column in matrix a\n",
    "np.mean(a, axis = 0)"
   ]
  },
  {
   "cell_type": "code",
   "execution_count": null,
   "metadata": {
    "colab": {
     "base_uri": "https://localhost:8080/",
     "height": 51
    },
    "colab_type": "code",
    "id": "zF-OPttzkzI9",
    "outputId": "02281467-a9de-4e5b-9028-175963f6a0e8"
   },
   "outputs": [],
   "source": [
    "# Mean of each row in matrix a\n",
    "np.mean(a, axis = 1)"
   ]
  },
  {
   "cell_type": "code",
   "execution_count": null,
   "metadata": {
    "colab": {
     "base_uri": "https://localhost:8080/",
     "height": 34
    },
    "colab_type": "code",
    "id": "1uhdRu9sk1Yr",
    "outputId": "fb75560e-aded-4bc6-b62e-b1c1d13841c1"
   },
   "outputs": [],
   "source": [
    "# Mean of all the elements in the first two groups of array b\n",
    "np.mean(b[:2])"
   ]
  },
  {
   "cell_type": "markdown",
   "metadata": {
    "colab_type": "text",
    "id": "SWrkSbtzk5tm"
   },
   "source": [
    "In addition to letting you perform calculations on individual arrays, Numpy also lets you perform calculations between arrays. For example, let's select two of the subarrays from array c to illustrate how this works."
   ]
  },
  {
   "cell_type": "code",
   "execution_count": null,
   "metadata": {
    "colab": {
     "base_uri": "https://localhost:8080/",
     "height": 85
    },
    "colab_type": "code",
    "id": "ghLPrFbvk6GG",
    "outputId": "b05b9bc9-1f57-451c-ee72-7efbb5ee8a34"
   },
   "outputs": [],
   "source": [
    "# Assign subarray of c to x\n",
    "x = c[0,0]\n",
    "print(x)\n",
    "x.shape"
   ]
  },
  {
   "cell_type": "code",
   "execution_count": null,
   "metadata": {
    "colab": {
     "base_uri": "https://localhost:8080/",
     "height": 85
    },
    "colab_type": "code",
    "id": "sC35Jnwhk8Cd",
    "outputId": "6affbe1e-707f-4437-9961-38f74c81df13"
   },
   "outputs": [],
   "source": [
    "# Assign subarray of c to y\n",
    "y = c[0,1]\n",
    "print(y)\n",
    "y.shape"
   ]
  },
  {
   "cell_type": "code",
   "execution_count": null,
   "metadata": {},
   "outputs": [],
   "source": [
    "# Print shapes\n"
   ]
  },
  {
   "cell_type": "markdown",
   "metadata": {
    "colab_type": "text",
    "id": "GOWWI_G8k_kt"
   },
   "source": [
    "We can now add, subtract, multiply, and divide the two arrays."
   ]
  },
  {
   "cell_type": "code",
   "execution_count": null,
   "metadata": {
    "colab": {
     "base_uri": "https://localhost:8080/",
     "height": 85
    },
    "colab_type": "code",
    "id": "JhQn3o0VlByZ",
    "outputId": "418fffb0-0b5a-4026-8876-4a50759b0cad"
   },
   "outputs": [],
   "source": [
    "# Add elements of x and y together\n",
    "np.add(x,y)\n",
    "\n",
    "print(x + y)"
   ]
  },
  {
   "cell_type": "code",
   "execution_count": null,
   "metadata": {
    "colab": {
     "base_uri": "https://localhost:8080/",
     "height": 85
    },
    "colab_type": "code",
    "id": "sbMZTYHclDxB",
    "outputId": "081e2fb8-93c4-4b26-dce2-e6e02fb17d5d"
   },
   "outputs": [],
   "source": [
    "# Subtract elements of x from elements of y\n",
    "np.subtract(x,y)"
   ]
  },
  {
   "cell_type": "code",
   "execution_count": null,
   "metadata": {
    "colab": {
     "base_uri": "https://localhost:8080/",
     "height": 85
    },
    "colab_type": "code",
    "id": "cMw9VDoQlFmW",
    "outputId": "444c7c1e-95f7-4989-b71d-7837d70dffec"
   },
   "outputs": [],
   "source": [
    "# Multiply elements of x and y together\n",
    "np.multiply(x,y)"
   ]
  },
  {
   "cell_type": "code",
   "execution_count": null,
   "metadata": {
    "colab": {
     "base_uri": "https://localhost:8080/",
     "height": 85
    },
    "colab_type": "code",
    "id": "EwS3WZ6ClHcS",
    "outputId": "6e488e80-55af-4ef4-f516-a375f76e0ad2"
   },
   "outputs": [],
   "source": [
    "# Divide elements of y by elements of x\n",
    "np.divide(x,y)"
   ]
  },
  {
   "cell_type": "markdown",
   "metadata": {
    "colab_type": "text",
    "id": "lFqyCmkNlLzA"
   },
   "source": [
    "This is only the tip of the iceberg. Numpy has many more functions, which you can and should explore. You can read more about them in the Numpy documentation."
   ]
  },
  {
   "cell_type": "markdown",
   "metadata": {
    "colab_type": "text",
    "id": "YatzVFYFlM1Z"
   },
   "source": [
    "## Summary\n",
    "\n",
    "In this lesson, we learned the basics of working with Numpy. First, we learned how to import the library so that we could use it. From there, we learned about Numpy arrays, including how to extract data from them and how to convert to them from other Python data structures. Finally, we covered some of the basic mathematical functions in Numpy and saw how we could apply them both to the elements of an array as well as to whole arrays themselves."
   ]
  },
  {
   "cell_type": "code",
   "execution_count": null,
   "metadata": {
    "colab": {},
    "colab_type": "code",
    "id": "DN-ejAtulWgN"
   },
   "outputs": [],
   "source": []
  }
 ],
 "metadata": {
  "colab": {
   "collapsed_sections": [],
   "name": "Introduction_to_Numpy.ipynb",
   "provenance": []
  },
  "kernelspec": {
   "display_name": "Python 3",
   "language": "python",
   "name": "python3"
  },
  "language_info": {
   "codemirror_mode": {
    "name": "ipython",
    "version": 3
   },
   "file_extension": ".py",
   "mimetype": "text/x-python",
   "name": "python",
   "nbconvert_exporter": "python",
   "pygments_lexer": "ipython3",
   "version": "3.7.6"
  }
 },
 "nbformat": 4,
 "nbformat_minor": 4
}
