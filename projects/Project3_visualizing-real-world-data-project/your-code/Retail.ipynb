{
 "cells": [
  {
   "cell_type": "code",
   "execution_count": null,
   "metadata": {},
   "outputs": [],
   "source": [
    "import pandas as pd\n",
    "import sys\n",
    "# print(sys.path)\n",
    "# Adding a path so that it finds the package for numpy\n",
    "sys.path.append('/usr/local/lib/python3.7/site-packages')\n",
    "import numpy as np\n",
    "import matplotlib.pyplot as plt\n",
    "from random import randint\n",
    "from collections import Counter\n",
    "import seaborn as sns"
   ]
  },
  {
   "cell_type": "code",
   "execution_count": null,
   "metadata": {},
   "outputs": [],
   "source": []
  },
  {
   "cell_type": "code",
   "execution_count": null,
   "metadata": {},
   "outputs": [],
   "source": [
    "''' \n",
    "Read the 4 files and assign names to the datasets\n",
    "Retail Sales\n",
    "Horeca Sales\n",
    "Rent House Prices\n",
    "Sales House Prices\n",
    "'''"
   ]
  },
  {
   "cell_type": "code",
   "execution_count": null,
   "metadata": {},
   "outputs": [],
   "source": [
    "'SARS exploded and culminated in H1 2003. '"
   ]
  },
  {
   "cell_type": "code",
   "execution_count": null,
   "metadata": {},
   "outputs": [],
   "source": [
    "retail = pd.read_excel('../data/Retail Clean.xlsx')\n",
    "retail.head()"
   ]
  },
  {
   "cell_type": "code",
   "execution_count": null,
   "metadata": {},
   "outputs": [],
   "source": [
    "'Check that all year rows are clean and included'\n",
    "retail['Year'].unique()"
   ]
  },
  {
   "cell_type": "code",
   "execution_count": null,
   "metadata": {},
   "outputs": [],
   "source": [
    "'Create a date column by concatenating Year and Month'\n",
    "retail['Date'] = pd.to_datetime(retail['Month'].astype(str) + '/' + retail['Year'].astype(str))\n",
    "retail.head()"
   ]
  },
  {
   "cell_type": "code",
   "execution_count": null,
   "metadata": {},
   "outputs": [],
   "source": [
    "' Eliminate 2001 and 2020 as they have partial data only'\n",
    "\n",
    "retail = retail[retail['Year'].isin(['2002','2003','2004','2005','2006','2007','2008','2009','2010','2011','2012','2013','2014','2015','2016','2017','2018','2019'])]"
   ]
  },
  {
   "cell_type": "code",
   "execution_count": null,
   "metadata": {},
   "outputs": [],
   "source": [
    "'Start by looking at the trend by year so to eliminate the impact of seasonality in the month by month'\n",
    "\n",
    "plt.rcParams['figure.figsize'] = [18.0, 6.0]\n",
    "sum_year = retail[['All retail outlets','Year']].groupby(['Year']).agg(\"sum\")\n",
    "sum_year.plot.bar()\n",
    "plt.title(\"Cumulative Year Retail Sales in Hong Kong ('000 HK$) - 2002-2019\")\n",
    "plt.show()"
   ]
  },
  {
   "cell_type": "code",
   "execution_count": null,
   "metadata": {},
   "outputs": [],
   "source": [
    "'Interestingly, sales declined in 2003 vs 2002 and bounced back already in 2004.'"
   ]
  },
  {
   "cell_type": "code",
   "execution_count": null,
   "metadata": {},
   "outputs": [],
   "source": [
    "'Focus on the 2002 to 2005 period for a closer look'\n",
    "\n",
    "retail_01_to_05 = retail[retail['Year'].isin(['2002','2003','2004','2005'])]"
   ]
  },
  {
   "cell_type": "code",
   "execution_count": null,
   "metadata": {},
   "outputs": [],
   "source": [
    "'Look at the trend by month in the 2002 to 2005 range'\n",
    "\n",
    "chart = sns.lineplot(retail_01_to_05.Date, retail_01_to_05['All retail outlets'])\n",
    "chart.set(xticks=retail_01_to_05.Date.values)\n",
    "\n",
    "plt.xticks(\n",
    "    rotation=45, \n",
    "    horizontalalignment='right',\n",
    "    fontweight='light',\n",
    "    fontsize='x-large'  \n",
    ")\n",
    "\n",
    "plt.title(\"Sales of Retail Outlets in Hong Kong ('000 HK$) - 2002-2005\")\n",
    "plt.show()\n"
   ]
  },
  {
   "cell_type": "code",
   "execution_count": null,
   "metadata": {},
   "outputs": [],
   "source": [
    "retail_2002 = retail[retail['Year'].isin(['2002'])]\n",
    "retail_2003 = retail[retail['Year'].isin(['2003'])]\n",
    "retail_2004 = retail[retail['Year'].isin(['2004'])]\n",
    "retail_2005 = retail[retail['Year'].isin(['2005'])]"
   ]
  },
  {
   "cell_type": "code",
   "execution_count": null,
   "metadata": {},
   "outputs": [],
   "source": [
    "'Create two arrays with the index value of the sales of 2003 and 2004 vs. 2002'\n",
    "\n",
    "index_03vs02 = [int(tre/due*100) for tre,due in zip(retail_2003['All retail outlets'],retail_2002['All retail outlets'])]\n",
    "index_04vs02 = [int(quattro/due*100) for quattro,due in zip(retail_2004['All retail outlets'],retail_2002['All retail outlets'])]\n",
    "index_05vs02 = [int(cinque/due*100) for cinque,due in zip(retail_2005['All retail outlets'],retail_2002['All retail outlets'])]\n",
    "\n"
   ]
  },
  {
   "cell_type": "code",
   "execution_count": null,
   "metadata": {},
   "outputs": [],
   "source": [
    "' Create a dataframe with the indexes'\n",
    "\n",
    "Month = ['Jan', 'Feb', 'Mar', 'Apr', 'May', 'Jun', 'Jul', 'Aug', 'Sep', 'Oct', 'Nov', 'Dec']\n",
    "Flat = [100, 100, 100, 100, 100, 100, 100, 100, 100, 100, 100, 100]\n",
    "data = {'Month': Month, 'Flat': Flat, '03 vs 02': index_03vs02, '04 vs 02': index_04vs02, '05 vs 02': index_05vs02}\n",
    "df = pd.DataFrame (data)\n",
    "df"
   ]
  },
  {
   "cell_type": "code",
   "execution_count": null,
   "metadata": {},
   "outputs": [],
   "source": [
    "'Using indexes vs 2002, show how steep sales fell in 2003 Q1 and the recover starting in Q2 and completed in Q3'\n",
    "\n",
    "fig, ax = plt.subplots()\n",
    "\n",
    "ax.step(df['Month'],df[\"03 vs 02\"], label='03 vs 02', color=\"red\")\n",
    "ax.step(df['Month'],df[\"04 vs 02\"], label='04 vs 02', color=\"green\")\n",
    "ax.step(df['Month'],df[\"Flat\"], label='Flat', color=\"black\", linewidth=0.25)\n",
    "\n",
    "\n",
    "ax.legend(loc=4) # upper left corner\n",
    "ax.set_xlabel('Month', fontsize=18)\n",
    "ax.set_ylabel('Index Month over Month 2002', fontsize=14)\n",
    "ax.set_title('Retail Sales Index Month over Month 2002');\n",
    "\n"
   ]
  },
  {
   "cell_type": "code",
   "execution_count": null,
   "metadata": {},
   "outputs": [],
   "source": [
    "'Next: Matrice con indici 2003 vs 2002 per tutte le categorie per vedere come si sono mossi nel 2003 e chi si e ripreso prima'"
   ]
  },
  {
   "cell_type": "code",
   "execution_count": null,
   "metadata": {},
   "outputs": [],
   "source": []
  },
  {
   "cell_type": "code",
   "execution_count": null,
   "metadata": {},
   "outputs": [],
   "source": []
  },
  {
   "cell_type": "code",
   "execution_count": null,
   "metadata": {},
   "outputs": [],
   "source": []
  },
  {
   "cell_type": "code",
   "execution_count": null,
   "metadata": {},
   "outputs": [],
   "source": [
    "'Select fresh food categories'\n",
    "\n",
    "retail_fresh = retail[['Year','Date','All retail outlets','Fish, livestock and poultry, fresh or frozen', \n",
    "                      'Fruits and vegetables, fresh',\n",
    "                      'Bread, pastry, confectionery and biscuits',\n",
    "                      'Other food, not elsewhere classified']]\n",
    "\n",
    "retail_fresh"
   ]
  },
  {
   "cell_type": "code",
   "execution_count": null,
   "metadata": {},
   "outputs": [],
   "source": [
    "sns.scatterplot(data=retail_fresh, x='All retail outlets',y='Fish, livestock and poultry, fresh or frozen', hue = \"Year\") \n",
    "plt.show()"
   ]
  },
  {
   "cell_type": "code",
   "execution_count": null,
   "metadata": {},
   "outputs": [],
   "source": [
    "'Eliminate the column with the suma of all sales to look at the split by category'\n",
    "\n",
    "retail_not_all = retail.drop(columns=['All retail outlets'])"
   ]
  },
  {
   "cell_type": "code",
   "execution_count": null,
   "metadata": {},
   "outputs": [],
   "source": [
    "'Aggregate fresh food'\n",
    "\n",
    "retail['Fresh Food'] = retail['Fish, livestock and poultry, fresh or frozen']+\n",
    "                        retail['Fruits and vegetables, fresh']+\n",
    "                        retail['Bread, pastry, confectionery and biscuits']+\n",
    "                        retail['Other food, not elsewhere classified']\n"
   ]
  },
  {
   "cell_type": "code",
   "execution_count": null,
   "metadata": {},
   "outputs": [],
   "source": [
    "list_categories = [cat for cat in retail_not_all.columns]\n",
    "list_categories.remove(\"Year\")\n",
    "list_categories.remove(\"Month\")\n",
    "list_categories.remove(\"Date\")\n",
    "list_categories"
   ]
  },
  {
   "cell_type": "code",
   "execution_count": null,
   "metadata": {},
   "outputs": [],
   "source": [
    "' Create a pivot by year'\n",
    "\n",
    "sum_year_not_all = retail_not_all[['Fish, livestock and poultry, fresh or frozen',\n",
    "                                     'Fruits and vegetables, fresh',\n",
    "                                     'Bread, pastry, confectionery and biscuits',\n",
    "                                     'Other food, not elsewhere classified',\n",
    "                                     'Alcoholic drinks and tobacco',\n",
    "                                     'Supermarkets',\n",
    "                                     'Fuels',\n",
    "                                     'Wearing apparel',\n",
    "                                     'Footwear, allied products and other clothing accessories',\n",
    "                                     'Motor vehicles and parts',\n",
    "                                     'Furniture and fixtures',\n",
    "                                     'Electrical goods and other consumer durable goods, not elsewhere classified',\n",
    "                                     'Department stores',\n",
    "                                     'Jewellery, watches and clocks, and valuable gifts',\n",
    "                                     'Books, newspapers, stationery and gifts',\n",
    "                                     'Chinese drugs and herbs',\n",
    "                                     'Optical shops',\n",
    "                                     'Medicines and cosmetics',\n",
    "                                     'Other consumer goods, not elsewhere classified','Year']].groupby(['Year']).agg(\"sum\")\n",
    "\n",
    "\n",
    "sum_year_not_all"
   ]
  },
  {
   "cell_type": "code",
   "execution_count": null,
   "metadata": {},
   "outputs": [],
   "source": [
    "sum_2002 = sum_year_not_all.iloc[0]\n",
    "sum_2002"
   ]
  },
  {
   "cell_type": "code",
   "execution_count": null,
   "metadata": {},
   "outputs": [],
   "source": [
    "'Show the split by category for Year 2002'\n",
    "\n",
    "fig1, ax1 = plt.subplots(figsize=(12,10))\n",
    "ax1.pie(sum_2002, autopct='%1.1f%%',\n",
    "        shadow=True, startangle=90, pctdistance=0.85,)\n",
    "\n",
    "ax1.legend(list_categories, loc='lower left', ncol=2, mode=\"expand\",borderaxespad=0.)\n",
    "\n",
    "# Place a legend above this subplot, expanding itself to\n",
    "# fully use the given bounding box.\n",
    "# plt.legend(bbox_to_anchor=(0., 1.02, 1., .102), loc='lower left',\n",
    "#            ncol=2, mode=\"expand\", borderaxespad=0.)\n",
    "\n",
    "\n",
    "#draw circle\n",
    "centre_circle = plt.Circle((0,0),0.70,fc='white')\n",
    "fig = plt.gcf()\n",
    "fig.gca().add_artist(centre_circle)\n",
    "\n",
    "\n",
    "plt.show()"
   ]
  },
  {
   "cell_type": "code",
   "execution_count": null,
   "metadata": {},
   "outputs": [],
   "source": []
  }
 ],
 "metadata": {
  "kernelspec": {
   "display_name": "Python 3",
   "language": "python",
   "name": "python3"
  },
  "language_info": {
   "codemirror_mode": {
    "name": "ipython",
    "version": 3
   },
   "file_extension": ".py",
   "mimetype": "text/x-python",
   "name": "python",
   "nbconvert_exporter": "python",
   "pygments_lexer": "ipython3",
   "version": "3.7.6"
  }
 },
 "nbformat": 4,
 "nbformat_minor": 4
}
