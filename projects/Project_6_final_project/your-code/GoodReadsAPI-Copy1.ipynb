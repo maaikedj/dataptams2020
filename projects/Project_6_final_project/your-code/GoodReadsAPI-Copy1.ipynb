{
 "cells": [
  {
   "cell_type": "code",
   "execution_count": null,
   "metadata": {},
   "outputs": [],
   "source": [
    "# API to get data from Goodreads\n",
    "from goodreads import client\n",
    "import pandas as pd\n",
    "import numpy as np\n",
    "import requests\n",
    "import json \n",
    "from bs4 import BeautifulSoup\n",
    "from time import sleep\n",
    "from random import randint"
   ]
  },
  {
   "cell_type": "code",
   "execution_count": null,
   "metadata": {},
   "outputs": [],
   "source": [
    "#instructions on API requests for GOODREADS:\n",
    "# https://www.goodreads.com/api/index#shelves.list\n",
    "\n",
    "# key and password to download the info\n",
    "gc = client.GoodreadsClient('wxwrc6aLfRoMX3Ivr784A','rFT6Ytzh5TRBNcWnAYTdWY1wU5U27fQ6tEegWiSM5M')\n",
    "\n",
    "# user = gc.user(42889636)\n",
    "# user.shelves\n",
    "# # wasnt able to figure out how to unpack this bound method"
   ]
  },
  {
   "cell_type": "code",
   "execution_count": null,
   "metadata": {},
   "outputs": [],
   "source": [
    "#creating functions to return userid's and their readbooks + rating\n",
    "\n",
    "def createuserIDs(num_users):\n",
    "    i = 0\n",
    "    mylist = []\n",
    "    while i < num_users:\n",
    "        x = randint(1,99999999)\n",
    "        if x not in mylist:\n",
    "            mylist.append(x)\n",
    "        i+= 1\n",
    "    return mylist\n",
    "\n",
    "# removing this usercheck, as its only creating more GET requests and overloading the system\n",
    "# def createuserlist(list_users,userIDs):\n",
    "#     for i in userIDs:\n",
    "#         try:\n",
    "#             user = gc.user(i)\n",
    "#             list_users.append((i,user.name))\n",
    "#             #sleep 1, as they accept max 1 request per second\n",
    "#             sleep(1)\n",
    "#         # adding except: pass, as some users are no longer active\n",
    "#         except:\n",
    "#             pass\n",
    "#     return list_users\n",
    "\n",
    "def createshelve_read(user):\n",
    "    userID = []\n",
    "    books = []\n",
    "    ratings = []\n",
    "    try:\n",
    "        url = 'https://www.goodreads.com/review/list/' + str(user) +'.xml?key=wxwrc6aLfRoMX3Ivr784A&v=2&per_page=200&shelf=read'\n",
    "        html = requests.get(url).content\n",
    "        soup = BeautifulSoup(html, \"lxml\")\n",
    "        for element in soup.find_all('title_without_series'):\n",
    "            books.append(element.text)\n",
    "        for element in soup.find_all('rating'):\n",
    "            ratings.append(element.text)\n",
    "        #sleep 1, as they accept max 1 request per second\n",
    "        sleep(1)\n",
    "        for i in range(len(books)):\n",
    "            userID.append(user)\n",
    "    # adding except: pass, as some users are private and you cannot download their info\n",
    "    except:\n",
    "        pass\n",
    "    return userID, books, ratings"
   ]
  },
  {
   "cell_type": "code",
   "execution_count": null,
   "metadata": {},
   "outputs": [],
   "source": [
    "# define some random userIDs\n",
    "userIDs = createuserIDs(3000)\n",
    "\n",
    "#adding myself :-)\n",
    "userIDs.append(42889636)\n",
    "\n",
    "print(len(userIDs))"
   ]
  },
  {
   "cell_type": "code",
   "execution_count": null,
   "metadata": {},
   "outputs": [],
   "source": [
    "# # my user: 42889636\n",
    "# # ann: 75206708\n",
    "\n",
    "# # getting the list of books they have read + rating of said book\n",
    "# Storing in different lists to run per batches as many times it freezes / blocks\n",
    "# we may have less users than in user list as some users are either unactive of private\n",
    "\n",
    "# getting all the books + ratings for said users\n",
    "alldata = []\n",
    "\n",
    "for i in userIDs[:500]:\n",
    "    result = createshelve_read(i)\n",
    "    alldata.append(result)\n",
    "len(alldata)\n"
   ]
  },
  {
   "cell_type": "code",
   "execution_count": null,
   "metadata": {},
   "outputs": [],
   "source": [
    "for i in userIDs[500:1000]:\n",
    "    result = createshelve_read(i)\n",
    "    alldata.append(result)\n",
    "len(alldata)\n"
   ]
  },
  {
   "cell_type": "code",
   "execution_count": null,
   "metadata": {},
   "outputs": [],
   "source": [
    "for i in userIDs[1000:1500]:\n",
    "    result = createshelve_read(i)\n",
    "    alldata.append(result)    \n",
    "len(alldata)\n"
   ]
  },
  {
   "cell_type": "code",
   "execution_count": null,
   "metadata": {},
   "outputs": [],
   "source": [
    "for i in userIDs[1500:2000]:\n",
    "    result = createshelve_read(i)\n",
    "    alldata.append(result)\n",
    "len(alldata)\n"
   ]
  },
  {
   "cell_type": "code",
   "execution_count": null,
   "metadata": {},
   "outputs": [],
   "source": [
    "for i in userIDs[2000:2500]:\n",
    "    result = createshelve_read(i)\n",
    "    alldata.append(result)\n",
    "len(alldata)\n"
   ]
  },
  {
   "cell_type": "code",
   "execution_count": null,
   "metadata": {},
   "outputs": [],
   "source": [
    "for i in userIDs[2500:]:\n",
    "    result = createshelve_read(i)\n",
    "    alldata.append(result)\n",
    "len(alldata)\n"
   ]
  },
  {
   "cell_type": "code",
   "execution_count": null,
   "metadata": {},
   "outputs": [],
   "source": [
    "# putting it all in one data frame\n",
    "\n",
    "userID = [i[0] for i in alldata]\n",
    "books = [i[1] for i in alldata]\n",
    "ratings = [i[2] for i in alldata]\n",
    "\n",
    "flat_userID = [item for sublist in userID for item in sublist]\n",
    "flat_books = [item for sublist in books for item in sublist]\n",
    "flat_ratings = [item for sublist in ratings for item in sublist]\n",
    "\n",
    "df = pd.DataFrame({\n",
    "    'userid' : flat_userID,\n",
    "    'book' : flat_books,\n",
    "    'rating' : flat_ratings,\n",
    "})\n",
    "\n",
    "df.head()"
   ]
  },
  {
   "cell_type": "code",
   "execution_count": null,
   "metadata": {},
   "outputs": [],
   "source": [
    "df.to_csv('goodreads.csv',index=False)"
   ]
  },
  {
   "cell_type": "code",
   "execution_count": null,
   "metadata": {},
   "outputs": [],
   "source": []
  }
 ],
 "metadata": {
  "kernelspec": {
   "display_name": "Python 3",
   "language": "python",
   "name": "python3"
  },
  "language_info": {
   "codemirror_mode": {
    "name": "ipython",
    "version": 3
   },
   "file_extension": ".py",
   "mimetype": "text/x-python",
   "name": "python",
   "nbconvert_exporter": "python",
   "pygments_lexer": "ipython3",
   "version": "3.8.1"
  }
 },
 "nbformat": 4,
 "nbformat_minor": 4
}
