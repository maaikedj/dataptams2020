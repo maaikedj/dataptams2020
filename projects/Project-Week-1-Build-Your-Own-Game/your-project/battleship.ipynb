{
 "cells": [
  {
   "cell_type": "code",
   "execution_count": null,
   "metadata": {},
   "outputs": [],
   "source": [
    "from random import randint \n",
    "\n",
    "#create 5 by 5 board\n",
    "board = [[\"O\"]*5 for i in range(5)]\n",
    "\n",
    "#print it pretty\n",
    "for row in board:\n",
    "    print(row)\n",
    "\n",
    "#with randint function get a ship location within the board\n",
    "def ship_placing(board):\n",
    "    x = randint(0,len(board)-1)\n",
    "    y = randint(0,len(board[0])-1)\n",
    "    ship_loc = (x,y)\n",
    "    return ship_loc\n",
    "\n",
    "ship_placing(board)\n",
    "\n",
    "def turn():\n",
    "    \n"
   ]
  },
  {
   "cell_type": "code",
   "execution_count": null,
   "metadata": {},
   "outputs": [],
   "source": []
  }
 ],
 "metadata": {
  "kernelspec": {
   "display_name": "Python 3",
   "language": "python",
   "name": "python3"
  },
  "language_info": {
   "codemirror_mode": {
    "name": "ipython",
    "version": 3
   },
   "file_extension": ".py",
   "mimetype": "text/x-python",
   "name": "python",
   "nbconvert_exporter": "python",
   "pygments_lexer": "ipython3",
   "version": "3.8.1"
  }
 },
 "nbformat": 4,
 "nbformat_minor": 4
}
