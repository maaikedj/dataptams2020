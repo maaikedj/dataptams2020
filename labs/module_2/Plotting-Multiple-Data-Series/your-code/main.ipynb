{
 "cells": [
  {
   "cell_type": "markdown",
   "metadata": {
    "Collapsed": "false"
   },
   "source": [
    "# Plotting Multiple Data Series\n",
    "\n",
    "Complete the following set of exercises to solidify your knowledge of plotting multiple data series with pandas, matplotlib, and seaborn. Part of the challenge that comes with plotting multiple data series is transforming the data into the form needed to visualize it like you want. For some of the exercises in this lab, you will need to transform the data into the form most appropriate for generating the visualization and then create the plot. The data can be found [here](https://drive.google.com/file/d/1tgx8nnEXLcqy1ds_99T_14-2B9TM-Gne/view?usp=sharing), please downloand and place them in your local data folder from which you can read them."
   ]
  },
  {
   "cell_type": "code",
   "execution_count": null,
   "metadata": {
    "Collapsed": "false"
   },
   "outputs": [],
   "source": [
    "import pandas as pd\n",
    "import matplotlib.pyplot as plt\n",
    "import seaborn as sns"
   ]
  },
  {
   "cell_type": "code",
   "execution_count": null,
   "metadata": {
    "Collapsed": "false"
   },
   "outputs": [],
   "source": [
    "# Read the data\n",
    "\n",
    "liq_sales = pd.read_csv('../data/liquor_store_sales.csv')\n",
    "liq_sales.head()"
   ]
  },
  {
   "cell_type": "markdown",
   "metadata": {
    "Collapsed": "false"
   },
   "source": [
    "## 1. Create a bar chart with bars for total Retail Sales, Retail Transfers, and Warehouse Sales by Item Type."
   ]
  },
  {
   "cell_type": "code",
   "execution_count": null,
   "metadata": {
    "Collapsed": "false"
   },
   "outputs": [],
   "source": [
    "liq_sales_item = liq_sales[[\"RetailSales\", \"RetailTransfers\", \"WarehouseSales\", \"ItemType\"]].groupby([\"ItemType\"]).agg(\"sum\")\n",
    "liq_sales_item.plot.bar()"
   ]
  },
  {
   "cell_type": "markdown",
   "metadata": {
    "Collapsed": "false"
   },
   "source": [
    "## 2. Create a horizontal bar chart showing sales mix for the top 10 suppliers with the most total sales. "
   ]
  },
  {
   "cell_type": "code",
   "execution_count": null,
   "metadata": {
    "Collapsed": "false"
   },
   "outputs": [],
   "source": [
    "liq_sales['Total Sales'] = liq_sales['RetailSales'] + liq_sales['RetailTransfers'] + liq_sales['WarehouseSales']\n",
    "liq_sales_supp = liq_sales[[\"RetailSales\", \"RetailTransfers\", \"WarehouseSales\", \"Total Sales\",\"Supplier\"]].groupby([\"Supplier\"]).agg(\"sum\")\n",
    "top10_supp = liq_sales_supp.sort_values(by=['Total Sales'], ascending=False).head(10)\n",
    "top10_supp = top10_supp[[\"RetailSales\", \"RetailTransfers\", \"WarehouseSales\"]]\n",
    "top10_supp.plot.barh()\n"
   ]
  },
  {
   "cell_type": "markdown",
   "metadata": {
    "Collapsed": "false"
   },
   "source": [
    "## 3. Create a bar-chart chart that shows average Retail Sales, Retail Transfers, and Warehouse Sales per month over time."
   ]
  },
  {
   "cell_type": "code",
   "execution_count": null,
   "metadata": {
    "Collapsed": "false"
   },
   "outputs": [],
   "source": [
    "liq_sales_time = liq_sales[[\"RetailSales\", \"RetailTransfers\", \"WarehouseSales\", \"Month\"]].groupby([\"Month\"]).agg(\"sum\")\n",
    "liq_sales_time.plot.bar()"
   ]
  },
  {
   "cell_type": "markdown",
   "metadata": {
    "Collapsed": "false"
   },
   "source": [
    "## 4. Create a multi-line chart that shows Retail Sales summed by Item Type over time (Year & Month).\n",
    "\n",
    "*Hint: There should be a line representing each Item Type.*"
   ]
  },
  {
   "cell_type": "code",
   "execution_count": null,
   "metadata": {
    "Collapsed": "false"
   },
   "outputs": [],
   "source": [
    "# plt.rcParams['figure.figsize'] = [20.0, 10.0]\n",
    "\n",
    "# table = pd.pivot_table(liq_sales, \n",
    "#                        values=[\"RetailSales\"],\n",
    "#                        index=[\"ItemType\"],\n",
    "#                        columns=[\"Year\", 'Month'],\n",
    "#                        aggfunc={'RetailSales': [sum]})\n",
    "\n",
    "# table_transp = table.transpose()\n",
    "# table_transp.reset_index(inplace=True)\n",
    "\n",
    "# year = list(table_transp ['Year'])\n",
    "# month = list(table_transp['Month'])\n",
    "# period = list(map(lambda m,y : str(m) + ' ' + str(y), month,year))\n",
    "\n",
    "# table_transp['Period']=period\n",
    "\n",
    "# table_transp.plot()\n"
   ]
  },
  {
   "cell_type": "code",
   "execution_count": null,
   "metadata": {},
   "outputs": [],
   "source": [
    "plt.rcParams['figure.figsize'] = [20.0, 10.0]\n",
    "\n",
    "table = pd.pivot_table(liq_sales, \n",
    "                       values=[\"RetailSales\"],\n",
    "                       index=[\"Year\", 'Month'],\n",
    "                       columns=[\"ItemType\"],\n",
    "                       aggfunc={'RetailSales': [sum]})\n",
    "\n",
    "table.plot()\n",
    "# table_transp = table.transpose()\n",
    "# table_transp.reset_index(inplace=True)\n",
    "\n",
    "# year = list(table_transp ['Year'])\n",
    "# month = list(table_transp['Month'])\n",
    "# period = list(map(lambda m,y : str(m) + ' ' + str(y), month,year))\n",
    "\n",
    "# table_transp['Period']=period\n",
    "\n"
   ]
  },
  {
   "cell_type": "markdown",
   "metadata": {
    "Collapsed": "false"
   },
   "source": [
    "## 6. Plot the same information as above (i.e. Q5) but as a bar chart."
   ]
  },
  {
   "cell_type": "code",
   "execution_count": null,
   "metadata": {
    "Collapsed": "false"
   },
   "outputs": [],
   "source": [
    "table_transp.plot.bar()"
   ]
  },
  {
   "cell_type": "markdown",
   "metadata": {
    "Collapsed": "false"
   },
   "source": [
    "## 7. Create a scatter plot showing the relationship between Retail Sales (x-axis) and Retail Transfers (y-axis) with the plot points color-coded according to their Item Type.\n",
    "\n",
    "*Hint: Seaborn's lmplot is the easiest way to generate the scatter plot.*"
   ]
  },
  {
   "cell_type": "code",
   "execution_count": null,
   "metadata": {
    "Collapsed": "false"
   },
   "outputs": [],
   "source": [
    "corr = liq_sales['RetailSales'].corr(liq_sales['RetailTransfers'], method='pearson')\n",
    "corr"
   ]
  },
  {
   "cell_type": "code",
   "execution_count": null,
   "metadata": {},
   "outputs": [],
   "source": [
    "\n",
    "sns.scatterplot(data=liq_sales, x='RetailSales',y='RetailTransfers', hue = \"ItemType\") \n",
    "plt.show()\n"
   ]
  },
  {
   "cell_type": "markdown",
   "metadata": {
    "Collapsed": "false"
   },
   "source": [
    "## 8. Create a scatter matrix using all the numeric fields in the data set with the plot points color-coded by Item Type.\n",
    "\n",
    "*Hint: Seaborn's pairplot may be your best option here.*"
   ]
  },
  {
   "cell_type": "code",
   "execution_count": null,
   "metadata": {
    "Collapsed": "false"
   },
   "outputs": [],
   "source": [
    "sns.pairplot(liq_sales, hue = \"ItemType\") \n",
    "plt.show()"
   ]
  },
  {
   "cell_type": "code",
   "execution_count": null,
   "metadata": {},
   "outputs": [],
   "source": []
  }
 ],
 "metadata": {
  "kernelspec": {
   "display_name": "Python 3",
   "language": "python",
   "name": "python3"
  },
  "language_info": {
   "codemirror_mode": {
    "name": "ipython",
    "version": 3
   },
   "file_extension": ".py",
   "mimetype": "text/x-python",
   "name": "python",
   "nbconvert_exporter": "python",
   "pygments_lexer": "ipython3",
   "version": "3.7.6"
  }
 },
 "nbformat": 4,
 "nbformat_minor": 4
}
