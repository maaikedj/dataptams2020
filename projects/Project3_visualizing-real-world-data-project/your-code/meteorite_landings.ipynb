{
 "cells": [
  {
   "cell_type": "markdown",
   "metadata": {},
   "source": [
    "# Meteorite landings on Earth\n",
    "\n",
    "Maaike de Jong\n",
    "Ironhack Data Analytics part-time, Amsterdam\n",
    "04 April 2020\n"
   ]
  },
  {
   "cell_type": "markdown",
   "metadata": {},
   "source": [
    "## 1. Introduction\n",
    "In this notebook I analyse and visualize the NASA Meteorite Landings dataset, which can be found here. \n",
    "A short background and description of the dataset can be found in the readme file. \n",
    "\n",
    "The Meteoritical Society collects data on meteorites that have fallen to Earth from outer space. This dataset includes the location, mass, composition, and fall year for over 45,000 meteorites that have struck our planet.\n",
    "\n",
    "Notes on missing or incorrect data points:\n",
    "* a few entries here contain date information that was incorrectly parsed into the NASA database. As a spot check: any date that is before 860 CE or after 2016 are incorrect; these should actually be BCE years. There may be other errors and we are looking for a way to identify them.\n",
    "\n",
    "* a few entries have latitude and longitude of 0N/0E (off the western coast of Africa, where it would be quite difficult to recover meteorites). Many of these were actually discovered in Antarctica, but exact coordinates were not given. 0N/0E locations should probably be treated as NA."
   ]
  },
  {
   "cell_type": "markdown",
   "metadata": {},
   "source": [
    "## 2. Import Packages and data"
   ]
  },
  {
   "cell_type": "code",
   "execution_count": null,
   "metadata": {},
   "outputs": [],
   "source": [
    "# import packages\n",
    "import numpy as np\n",
    "import pandas as pd\n",
    "%matplotlib inline\n",
    "import matplotlib.pyplot as plt\n",
    "import seaborn as sns\n",
    "import geopandas as gpd"
   ]
  },
  {
   "cell_type": "code",
   "execution_count": null,
   "metadata": {},
   "outputs": [],
   "source": [
    "# import dataset\n",
    "df = pd.read_csv('../data/meteorite-landings.csv')\n",
    "df.head()"
   ]
  },
  {
   "cell_type": "markdown",
   "metadata": {},
   "source": [
    "## 3. Inspecting and cleaning the data"
   ]
  },
  {
   "cell_type": "code",
   "execution_count": null,
   "metadata": {},
   "outputs": [],
   "source": [
    "# inspect data types\n",
    "#df.dtypes\n",
    "df.info()\n",
    "# transform year into date time?"
   ]
  },
  {
   "cell_type": "code",
   "execution_count": null,
   "metadata": {},
   "outputs": [],
   "source": [
    "# Check missing values\n",
    "percent_missing = df.isnull().sum() * 100 / len(df)\n",
    "missing_value_df = pd.DataFrame({'column_name': df.columns,\n",
    "                                 'percent_missing': percent_missing})\n",
    "missing_value_df"
   ]
  },
  {
   "cell_type": "code",
   "execution_count": null,
   "metadata": {},
   "outputs": [],
   "source": [
    "# convert year from float to integer\n",
    "df['year'] = df['year'].fillna(0).astype(int)\n",
    "df.info() "
   ]
  },
  {
   "cell_type": "code",
   "execution_count": null,
   "metadata": {},
   "outputs": [],
   "source": [
    "# inspect data with describe\n",
    "df.describe()"
   ]
  },
  {
   "cell_type": "code",
   "execution_count": null,
   "metadata": {},
   "outputs": [],
   "source": [
    "# clean data\n",
    "# filter out data with year < 860 and > 2016 \n",
    "df2 = df.loc[(df['year'] >= 860) & (df['year'] <= 2016)]"
   ]
  },
  {
   "cell_type": "code",
   "execution_count": null,
   "metadata": {},
   "outputs": [],
   "source": [
    "# clean data\n",
    "# filter out data with 0,0 coordinates\n",
    "df3 = df2.loc[(df2['reclat'] != 0) & (df2['reclong'] != 0)]"
   ]
  },
  {
   "cell_type": "code",
   "execution_count": null,
   "metadata": {},
   "outputs": [],
   "source": [
    "df3.info()"
   ]
  },
  {
   "cell_type": "code",
   "execution_count": null,
   "metadata": {},
   "outputs": [],
   "source": [
    "# inspecting properties and distribution of variables\n",
    "\n",
    "# types of recclass\n",
    "meteor_types = pd.DataFrame(df3['recclass'].value_counts())\n",
    "meteor_types.info()\n",
    "\n",
    "# There are 441 distinct meteorite types in the data. If I want to plot different types I'll have to make a selection"
   ]
  },
  {
   "cell_type": "code",
   "execution_count": null,
   "metadata": {},
   "outputs": [],
   "source": [
    "# inspecting properties and distribution of variables\n",
    "\n",
    "# distribution of mass\n",
    "\n",
    "#df3.plot.hist(y = 'mass')\n",
    "sns.boxplot(x = 'mass', data = df3)\n",
    "\n",
    "# the distribution is difficult to visualize because of outliers with a lot of mass\n",
    "# if I want to do anything with mass I have to make groupings or convert the data"
   ]
  },
  {
   "cell_type": "code",
   "execution_count": null,
   "metadata": {},
   "outputs": [],
   "source": [
    "sns.violinplot(x = 'mass', data = df3)"
   ]
  },
  {
   "cell_type": "code",
   "execution_count": null,
   "metadata": {},
   "outputs": [],
   "source": [
    "# inspecting properties and distribution of variables\n",
    "\n",
    "# column 'fall'\n",
    "\n",
    "df3['fall'].value_counts()\n",
    "\n",
    "# There are many more 'found' meteorites than 'fell' meteorites"
   ]
  },
  {
   "cell_type": "code",
   "execution_count": null,
   "metadata": {},
   "outputs": [],
   "source": [
    "# inspecting properties and distribution of variables\n",
    "\n",
    "# column 'year'\n",
    "\n",
    "sns.boxplot(x = 'year', data = df3)"
   ]
  },
  {
   "cell_type": "code",
   "execution_count": null,
   "metadata": {},
   "outputs": [],
   "source": [
    "sns.violinplot(x = 'year', data = df3)\n",
    "\n",
    "# the vast majority of observations are between 1900 and 2016, which is to be expected"
   ]
  },
  {
   "cell_type": "markdown",
   "metadata": {},
   "source": [
    "## 4. Plotting the meteorites on a world map"
   ]
  },
  {
   "cell_type": "code",
   "execution_count": null,
   "metadata": {},
   "outputs": [],
   "source": [
    "# Next steps:\n",
    "# 1. plot the points on a world map\n",
    "# 2. plot the points on a world map with different colours for differnt types (make a selection of types)\n",
    "# 3. Visualise the number of found meteorites per country. Need to find country for each coordinate. Figure out how to do this. \n",
    "# 4. Create maps for several different countries/ hotspots, e.g. : Netherlands, Morocco, Namibia\n",
    "\n",
    "# Other ideas:\n",
    "# 5. Visualise by type\n",
    "# 6. Interactive map\n"
   ]
  },
  {
   "cell_type": "code",
   "execution_count": null,
   "metadata": {},
   "outputs": [],
   "source": [
    "# create geodataframe, with geometry column from long, lat columns\n",
    "\n",
    "gdf = gpd.GeoDataFrame(df3, geometry = gpd.points_from_xy(df3['reclong'], df3['reclat']))\n",
    "gdf.head()"
   ]
  },
  {
   "cell_type": "code",
   "execution_count": null,
   "metadata": {},
   "outputs": [],
   "source": [
    "#check whether the geometry column is the right datatype\n",
    "\n",
    "type(gdf.geometry)"
   ]
  },
  {
   "cell_type": "code",
   "execution_count": null,
   "metadata": {},
   "outputs": [],
   "source": [
    "# import world map geodataframe\n",
    "\n",
    "world = gpd.read_file(gpd.datasets.get_path('naturalearth_lowres'))\n",
    "world.rename(columns = {'name': 'country'}, inplace = True)\n",
    "world.head()"
   ]
  },
  {
   "cell_type": "code",
   "execution_count": null,
   "metadata": {},
   "outputs": [],
   "source": [
    "# plot world map with country borders\n",
    "\n",
    "plt.rcParams['figure.figsize'] = [16,8]\n",
    "world.plot(facecolor = 'silver', edgecolor = 'grey');"
   ]
  },
  {
   "cell_type": "code",
   "execution_count": null,
   "metadata": {},
   "outputs": [],
   "source": [
    "# Plot layer of meteorites\n",
    "\n",
    "gdf.plot(marker='*', color='green', markersize=5);"
   ]
  },
  {
   "cell_type": "code",
   "execution_count": null,
   "metadata": {},
   "outputs": [],
   "source": [
    "# There's a weird point that must be a mistake. longitude is larger than 300\n",
    "# find entry in df \n",
    "\n",
    "gdf.loc[(df3['reclong'] > 300)]"
   ]
  },
  {
   "cell_type": "code",
   "execution_count": null,
   "metadata": {},
   "outputs": [],
   "source": [
    "# remove entry\n",
    "\n",
    "gdf = gdf.drop([22946], axis=0)"
   ]
  },
  {
   "cell_type": "code",
   "execution_count": null,
   "metadata": {},
   "outputs": [],
   "source": [
    "# check shape\n",
    "\n",
    "gdf.shape"
   ]
  },
  {
   "cell_type": "code",
   "execution_count": null,
   "metadata": {},
   "outputs": [],
   "source": [
    "# Plot meteorites again to check whether the point is gone\n",
    "\n",
    "gdf.plot(marker='*', color='green', markersize=5);"
   ]
  },
  {
   "cell_type": "code",
   "execution_count": null,
   "metadata": {},
   "outputs": [],
   "source": [
    "# Before combining maps, ensure they share a common CRS (so they will align)\n",
    "\n",
    "# first assign a crs to the gdf (a common one is WGS84 latitude-longitude coordinate system)\n",
    "\n",
    "gdf.crs = \"EPSG:4326\"\n",
    "\n",
    "# then, align crs to world crs\n",
    "\n",
    "gdf = gdf.to_crs(world.crs)"
   ]
  },
  {
   "cell_type": "code",
   "execution_count": null,
   "metadata": {},
   "outputs": [],
   "source": [
    "base = world.plot(color='silver', edgecolor='grey')\n",
    "gdf.plot(ax=base, marker='o', color='blue', markersize=2);"
   ]
  },
  {
   "cell_type": "code",
   "execution_count": null,
   "metadata": {},
   "outputs": [],
   "source": [
    "# Create df total meteorites per country\n",
    "# first, spatial join meteorite gdf and world gdf to assign countries to meteorite coordinates\n",
    "\n",
    "gdf_countries = gpd.sjoin(world, gdf, how=\"right\", op=\"contains\")\n",
    "gdf_countries.head(50)"
   ]
  },
  {
   "cell_type": "code",
   "execution_count": null,
   "metadata": {},
   "outputs": [],
   "source": [
    "# rename country column\n",
    "gdf_countries.rename(columns = {'name_x': 'country'}, inplace = True)\n",
    "gdf_countries.head()"
   ]
  },
  {
   "cell_type": "code",
   "execution_count": null,
   "metadata": {},
   "outputs": [],
   "source": [
    "# check shape\n",
    "gdf_countries.shape"
   ]
  },
  {
   "cell_type": "code",
   "execution_count": null,
   "metadata": {},
   "outputs": [],
   "source": [
    "# aggregate meteorites per country\n",
    "by_country = gdf_countries.groupby('country')[['id']].count()\n",
    "by_country = by_country.reset_index()\n",
    "by_country.rename(columns = {'id': 'meteorite_count'}, inplace = True)              \n",
    "by_country"
   ]
  },
  {
   "cell_type": "code",
   "execution_count": null,
   "metadata": {},
   "outputs": [],
   "source": [
    "# make new df with all country data, even if no meteorite data (otherwise there will be gaps in the map)\n",
    "\n",
    "countries_count = pd.merge(world, by_country, on = 'country', how = 'left')\n",
    "countries_count.head()"
   ]
  },
  {
   "cell_type": "code",
   "execution_count": null,
   "metadata": {},
   "outputs": [],
   "source": [
    "# NaN values for meteorite count can be filled with 0\n",
    "countries_count.fillna(value = 0, inplace = True)\n",
    "countries_count.head()"
   ]
  },
  {
   "cell_type": "code",
   "execution_count": null,
   "metadata": {},
   "outputs": [],
   "source": [
    "# make choropleth map with number of meteorites per country indicated with colours\n",
    "# see: https://geopandas.org/mapping.html\n",
    "countries_count.plot(column = 'meteorite_count');"
   ]
  },
  {
   "cell_type": "code",
   "execution_count": null,
   "metadata": {},
   "outputs": [],
   "source": [
    "# include legend\n",
    "\n",
    "plt.rcParams['figure.figsize'] = [24,16]\n",
    "fig, ax = plt.subplots(1, 1)\n",
    "countries_count.plot(column='meteorite_count', ax=ax, legend=True, legend_kwds={'label': \"Found meteorites by country\",'orientation': \"horizontal\"})\n"
   ]
  },
  {
   "cell_type": "code",
   "execution_count": null,
   "metadata": {},
   "outputs": [],
   "source": [
    "plt.rcParams['figure.figsize'] = [24,16]\n",
    "countries_count.plot(column='meteorite_count', legend=True, cmap='YlGnBu', scheme='quantiles')"
   ]
  },
  {
   "cell_type": "code",
   "execution_count": null,
   "metadata": {},
   "outputs": [],
   "source": []
  },
  {
   "cell_type": "code",
   "execution_count": null,
   "metadata": {},
   "outputs": [],
   "source": []
  },
  {
   "cell_type": "code",
   "execution_count": null,
   "metadata": {},
   "outputs": [],
   "source": []
  },
  {
   "cell_type": "code",
   "execution_count": null,
   "metadata": {},
   "outputs": [],
   "source": [
    "# make maps for several countries"
   ]
  }
 ],
 "metadata": {
  "kernelspec": {
   "display_name": "Python 3",
   "language": "python",
   "name": "python3"
  },
  "language_info": {
   "codemirror_mode": {
    "name": "ipython",
    "version": 3
   },
   "file_extension": ".py",
   "mimetype": "text/x-python",
   "name": "python",
   "nbconvert_exporter": "python",
   "pygments_lexer": "ipython3",
   "version": "3.7.1"
  }
 },
 "nbformat": 4,
 "nbformat_minor": 4
}
