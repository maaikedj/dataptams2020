{
 "cells": [
  {
   "cell_type": "markdown",
   "metadata": {
    "Collapsed": "false"
   },
   "source": [
    "# Plotting Multiple Data Series\n",
    "\n",
    "Complete the following set of exercises to solidify your knowledge of plotting multiple data series with pandas, matplotlib, and seaborn. Part of the challenge that comes with plotting multiple data series is transforming the data into the form needed to visualize it like you want. For some of the exercises in this lab, you will need to transform the data into the form most appropriate for generating the visualization and then create the plot. The data can be found [here](https://drive.google.com/file/d/1tgx8nnEXLcqy1ds_99T_14-2B9TM-Gne/view?usp=sharing), please downloand and place them in your local data folder from which you can read them."
   ]
  },
  {
   "cell_type": "code",
   "execution_count": null,
   "metadata": {
    "Collapsed": "false"
   },
   "outputs": [],
   "source": [
    "import pandas as pd\n",
    "import numpy as np\n",
    "import matplotlib.pyplot as plt\n",
    "import seaborn as sns"
   ]
  },
  {
   "cell_type": "code",
   "execution_count": null,
   "metadata": {
    "Collapsed": "false"
   },
   "outputs": [],
   "source": [
    "# Read the data\n",
    "liquor = pd.read_csv('../data/liquor_store_sales.csv')\n",
    "liquor.head()"
   ]
  },
  {
   "cell_type": "markdown",
   "metadata": {
    "Collapsed": "false"
   },
   "source": [
    "## 1. Create a bar chart with bars for total Retail Sales, Retail Transfers, and Warehouse Sales by Item Type."
   ]
  },
  {
   "cell_type": "code",
   "execution_count": null,
   "metadata": {
    "Collapsed": "false"
   },
   "outputs": [],
   "source": [
    "liquor_sales = liquor[[\"ItemType\", \"RetailSales\", \"RetailTransfers\", \"WarehouseSales\"]].groupby([\"ItemType\"]).agg(\"sum\")\n",
    "liquor_sales.plot.bar()\n"
   ]
  },
  {
   "cell_type": "markdown",
   "metadata": {
    "Collapsed": "false"
   },
   "source": [
    "## 2. Create a horizontal bar chart showing sales mix for the top 10 suppliers with the most total sales. "
   ]
  },
  {
   "cell_type": "code",
   "execution_count": null,
   "metadata": {
    "Collapsed": "false"
   },
   "outputs": [],
   "source": [
    "\n",
    "high_sales = liquor[[\"Supplier\", \"RetailSales\",\"RetailTransfers\", \"WarehouseSales\"]].groupby([\"Supplier\"]).agg(\"sum\")\n",
    "high_sales[\"Total\"] = high_sales[\"RetailSales\"] + high_sales[\"RetailTransfers\"] + high_sales[\"WarehouseSales\"]\n",
    "high_sales.sort_values(by=[\"Total\"], inplace=True, ascending=False)\n",
    "new = high_sales.head(10)\n",
    "\n",
    "new.plot.barh()\n",
    "plt.title(\"Sales of top 10 Suppliers\")\n"
   ]
  },
  {
   "cell_type": "markdown",
   "metadata": {
    "Collapsed": "false"
   },
   "source": [
    "## 3. Create a bar-chart chart that shows average Retail Sales, Retail Transfers, and Warehouse Sales per month over time."
   ]
  },
  {
   "cell_type": "code",
   "execution_count": null,
   "metadata": {
    "Collapsed": "false"
   },
   "outputs": [],
   "source": [
    "sales_overtime = liquor[[\"Month\", \"RetailSales\", \"RetailTransfers\", \"WarehouseSales\"]].groupby([\"Month\"]).agg(\"mean\")\n",
    "sales_overtime.plot.bar()"
   ]
  },
  {
   "cell_type": "markdown",
   "metadata": {
    "Collapsed": "false"
   },
   "source": [
    "## 4. Create a multi-line chart that shows Retail Sales summed by Item Type over time (Year & Month).\n",
    "\n",
    "*Hint: There should be a line representing each Item Type.*"
   ]
  },
  {
   "cell_type": "code",
   "execution_count": null,
   "metadata": {
    "Collapsed": "false"
   },
   "outputs": [],
   "source": [
    "itemtype_sales = liquor.pivot_table(index=[\"Year\", \"Month\"], columns=[\"ItemType\"], values=[\"RetailSales\"], aggfunc=np.sum)\n",
    "itemtype_sales.plot()\n",
    "plt.rcParams[\"figure.figsize\"] = [10,12]\n",
    "plt.show()"
   ]
  },
  {
   "cell_type": "markdown",
   "metadata": {
    "Collapsed": "false"
   },
   "source": [
    "## 6. Plot the same information as above (i.e. Q5) but as a bar chart."
   ]
  },
  {
   "cell_type": "code",
   "execution_count": null,
   "metadata": {
    "Collapsed": "false"
   },
   "outputs": [],
   "source": [
    "itemtype_sales.plot.bar()\n",
    "plt.show()"
   ]
  },
  {
   "cell_type": "markdown",
   "metadata": {
    "Collapsed": "false"
   },
   "source": [
    "## 7. Create a scatter plot showing the relationship between Retail Sales (x-axis) and Retail Transfers (y-axis) with the plot points color-coded according to their Item Type.\n",
    "\n",
    "*Hint: Seaborn's lmplot is the easiest way to generate the scatter plot.*"
   ]
  },
  {
   "cell_type": "code",
   "execution_count": null,
   "metadata": {
    "Collapsed": "false"
   },
   "outputs": [],
   "source": [
    "sns.relplot(x = 'RetailSales', y = 'RetailTransfers', data=liquor, hue = \"ItemType\")\n",
    "plt.show()\n",
    "\n",
    "#Seaborn implot was not working. It shows an error. So, I used relplot.\n",
    "#Paolo: lmplot works in my case, see cell below relplot is also fine!"
   ]
  },
  {
   "cell_type": "code",
   "execution_count": null,
   "metadata": {
    "Collapsed": "false"
   },
   "outputs": [],
   "source": [
    "sns.lmplot(x = 'RetailSales', y = 'RetailTransfers', data=liquor, hue = \"ItemType\")"
   ]
  },
  {
   "cell_type": "markdown",
   "metadata": {
    "Collapsed": "false"
   },
   "source": [
    "## 8. Create a scatter matrix using all the numeric fields in the data set with the plot points color-coded by Item Type.\n",
    "\n",
    "*Hint: Seaborn's pairplot may be your best option here.*"
   ]
  },
  {
   "cell_type": "code",
   "execution_count": null,
   "metadata": {
    "Collapsed": "false"
   },
   "outputs": [],
   "source": [
    "sns.pairplot(liquor, hue = \"ItemType\")\n",
    "plt.show()\n",
    "#Paolo: this code gives error in my case but I think I found the problem: the issue is that when using\n",
    "# pairplot, on the diagonal of the plot matrix it tries to fit and plot also a plausible distribution of the univariate variable, but\n",
    "# sometimes it cannot fit the data to a ditribution and gives error. For example if you take the Year column\n",
    "# it only has two years 2017 and 2018 and it has trouble to find a matching distribution. A way around is\n",
    "# to plot the data as raw histogram ]:"
   ]
  },
  {
   "cell_type": "code",
   "execution_count": null,
   "metadata": {
    "Collapsed": "false"
   },
   "outputs": [],
   "source": [
    "sns.pairplot(liquor, hue = 'ItemType', diag_kind= 'hist')"
   ]
  }
 ],
 "metadata": {
  "kernelspec": {
   "display_name": "Python 3",
   "language": "python",
   "name": "python3"
  },
  "language_info": {
   "codemirror_mode": {
    "name": "ipython",
    "version": 3
   },
   "file_extension": ".py",
   "mimetype": "text/x-python",
   "name": "python",
   "nbconvert_exporter": "python",
   "pygments_lexer": "ipython3",
   "version": "3.7.4"
  }
 },
 "nbformat": 4,
 "nbformat_minor": 4
}
