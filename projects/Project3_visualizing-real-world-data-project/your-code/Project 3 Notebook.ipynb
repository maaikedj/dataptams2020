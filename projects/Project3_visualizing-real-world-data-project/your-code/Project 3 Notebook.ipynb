{
 "cells": [
  {
   "cell_type": "code",
   "execution_count": null,
   "metadata": {},
   "outputs": [],
   "source": [
    "#importing necessary databases \n",
    "import pandas as pd\n",
    "import glob\n",
    "import matplotlib.pyplot as plt\n",
    "%matplotlib inline\n",
    "import numpy as np\n",
    "import seaborn as sns\n",
    "import os \n",
    "from functools import reduce"
   ]
  },
  {
   "cell_type": "code",
   "execution_count": null,
   "metadata": {},
   "outputs": [],
   "source": [
    "\n",
    "#os.chdir('./data')\n",
    "#data = pd.DataFrame()\n",
    "#for f in glob.glob((dir+'*.csv')): \n",
    "    #ata = pd.concat([data,pd.read_csv(f)])\n",
    "#data.head()"
   ]
  },
  {
   "cell_type": "code",
   "execution_count": null,
   "metadata": {},
   "outputs": [],
   "source": [
    "#importing data - indiegogo \n",
    "#path = (r'C:\\Users\\Zuzanna\\Documents\\Git\\dataptams2020\\projects\\Project3_visualizing-real-world-data-project\\data\\indiegogo')\n",
    "\n",
    "#from subprocess import check_output\n",
    "#print(check_output([\"ls\", dir]).decode(\"utf8\"))"
   ]
  },
  {
   "cell_type": "code",
   "execution_count": null,
   "metadata": {},
   "outputs": [],
   "source": [
    "#indiegogo = pd.DataFrame()\n",
    "#for f in glob.glob((dir+'Indiegogo_.csv')): \n",
    "    #data = pd.concat([data,pd.read_csv(f)])\n",
    "#indiegogo.head()"
   ]
  },
  {
   "cell_type": "code",
   "execution_count": null,
   "metadata": {},
   "outputs": [],
   "source": [
    "#merging indiegogo files\n",
    "#all_files = glob.glob(os.path.join(path, 'Indiegogo_*.csv'))\n",
    "#df_merged = (pd.read_csv(f, sep=',') for f in all_files)\n",
    "#df_merged   = pd.concat(df_from_each_file, ignore_index=True)\n",
    "#df_merged.to_csv( \"merged.csv\")"
   ]
  },
  {
   "cell_type": "code",
   "execution_count": null,
   "metadata": {},
   "outputs": [],
   "source": [
    "#indiegogo.dtypes"
   ]
  },
  {
   "cell_type": "code",
   "execution_count": null,
   "metadata": {},
   "outputs": [],
   "source": [
    "#all_files = glob.glob(os.path.join(path, \"*.csv\"))\n",
    "#all_df = []\n",
    "#for f in all_files:\n",
    "    #df = pd.read_csv(f, sep=',')\n",
    "    #f['file'] = f.split('/')[-1]\n",
    "    #all_df.append(df)\n",
    "    \n",
    "#merged_df = pd.concat(all_df, ignore_index=True, sort=True)"
   ]
  },
  {
   "cell_type": "code",
   "execution_count": null,
   "metadata": {},
   "outputs": [],
   "source": [
    "#importing data - kickstarter\n",
    "#path = (r'C:\\Users\\Zuzanna\\Documents\\Git\\dataptams2020\\projects\\Project3_visualizing-real-world-data-project\\data\\kickstarter')"
   ]
  },
  {
   "cell_type": "code",
   "execution_count": null,
   "metadata": {},
   "outputs": [],
   "source": [
    "#kickstarter = pd.DataFrame()\n",
    "#for f in glob.glob((dir+'ks-*.csv')): \n",
    "    #data = pd.concat([data,pd.read_csv(f)])\n",
    "#kickstarter.head()"
   ]
  },
  {
   "cell_type": "code",
   "execution_count": null,
   "metadata": {},
   "outputs": [],
   "source": [
    "#kickstarter.dtypes"
   ]
  },
  {
   "cell_type": "code",
   "execution_count": null,
   "metadata": {},
   "outputs": [],
   "source": [
    "#importing indiegogo datasets\n",
    "indiegogo1 = pd.read_csv(r'C:\\Users\\Zuzanna\\Documents\\Git\\dataptams2020\\projects\\Project3_visualizing-real-world-data-project\\data\\indiegogo\\Indiegogo_2016-05-14.csv')\n",
    "indiegogo1.head()"
   ]
  },
  {
   "cell_type": "code",
   "execution_count": null,
   "metadata": {},
   "outputs": [],
   "source": [
    "indiegogo2 = pd.read_csv(r'C:\\Users\\Zuzanna\\Documents\\Git\\dataptams2020\\projects\\Project3_visualizing-real-world-data-project\\data\\indiegogo\\Indiegogo_2016-06-14.csv')\n",
    "indiegogo3 = pd.read_csv(r'C:\\Users\\Zuzanna\\Documents\\Git\\dataptams2020\\projects\\Project3_visualizing-real-world-data-project\\data\\indiegogo\\Indiegogo_2016-07-14.csv')\n",
    "indiegogo4 = pd.read_csv(r'C:\\Users\\Zuzanna\\Documents\\Git\\dataptams2020\\projects\\Project3_visualizing-real-world-data-project\\data\\indiegogo\\Indiegogo_2016-08-14.csv')\n",
    "indiegogo5 = pd.read_csv(r'C:\\Users\\Zuzanna\\Documents\\Git\\dataptams2020\\projects\\Project3_visualizing-real-world-data-project\\data\\indiegogo\\Indiegogo_2016-09-14.csv')\n",
    "indiegogo6 = pd.read_csv(r'C:\\Users\\Zuzanna\\Documents\\Git\\dataptams2020\\projects\\Project3_visualizing-real-world-data-project\\data\\indiegogo\\Indiegogo_2016-10-14.csv')\n",
    "indiegogo7 = pd.read_csv(r'C:\\Users\\Zuzanna\\Documents\\Git\\dataptams2020\\projects\\Project3_visualizing-real-world-data-project\\data\\indiegogo\\Indiegogo_2016-11-12.csv')\n",
    "indiegogo8 = pd.read_csv(r'C:\\Users\\Zuzanna\\Documents\\Git\\dataptams2020\\projects\\Project3_visualizing-real-world-data-project\\data\\indiegogo\\Indiegogo_2016-12-15.csv')\n",
    "indiegogo9 = pd.read_csv(r'C:\\Users\\Zuzanna\\Documents\\Git\\dataptams2020\\projects\\Project3_visualizing-real-world-data-project\\data\\indiegogo\\Indiegogo_2017-01-15.csv')\n",
    "indiegogo10 = pd.read_csv(r'C:\\Users\\Zuzanna\\Documents\\Git\\dataptams2020\\projects\\Project3_visualizing-real-world-data-project\\data\\indiegogo\\Indiegogo_2017-02-16.csv')\n",
    "indiegogo11 = pd.read_csv(r'C:\\Users\\Zuzanna\\Documents\\Git\\dataptams2020\\projects\\Project3_visualizing-real-world-data-project\\data\\indiegogo\\Indiegogo_2017-03-15.csv')\n",
    "indiegogo12 = pd.read_csv(r'C:\\Users\\Zuzanna\\Documents\\Git\\dataptams2020\\projects\\Project3_visualizing-real-world-data-project\\data\\indiegogo\\Indiegogo_2017-04-15.csv')"
   ]
  },
  {
   "cell_type": "code",
   "execution_count": null,
   "metadata": {},
   "outputs": [],
   "source": [
    "#merge df\n",
    "data_frames = [indiegogo1, indiegogo2, indiegogo3, indiegogo4, indiegogo5, indiegogo6, indiegogo7, indiegogo8, indiegogo9, indiegogo10, indiegogo11, indiegogo12]\n",
    "indiegogo_merged = reduce(lambda  left,right: pd.merge(left,right,on=['id'],\n",
    "                                            how='outer'), data_frames).fillna('void')"
   ]
  },
  {
   "cell_type": "code",
   "execution_count": null,
   "metadata": {},
   "outputs": [],
   "source": [
    "indiegogo_merged.dtypes"
   ]
  },
  {
   "cell_type": "code",
   "execution_count": null,
   "metadata": {},
   "outputs": [],
   "source": []
  }
 ],
 "metadata": {
  "kernelspec": {
   "display_name": "Python 3",
   "language": "python",
   "name": "python3"
  }
 },
 "nbformat": 4,
 "nbformat_minor": 4
}
