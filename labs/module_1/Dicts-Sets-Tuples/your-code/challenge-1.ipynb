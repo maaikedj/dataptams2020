{
 "cells": [
  {
   "cell_type": "markdown",
   "metadata": {},
   "source": [
    "## Challenge 1: Tuples\n",
    "\n",
    "#### Do you know you can create tuples with only one element?\n",
    "\n",
    "**In the cell below, define a variable `tup` with a single element `\"I\"`.**\n",
    "\n",
    "*Hint: you need to add a comma (`,`) after the single element.*"
   ]
  },
  {
   "cell_type": "code",
   "execution_count": null,
   "metadata": {},
   "outputs": [],
   "source": [
    "# Your code here\n",
    "# Paolo: be careful here, the comma out of the quotation marks otherwise\n",
    "# you have type(string) not tuple (in second question below)\n",
    "tup = (\"I,\")\n",
    "#Paolo: I changed it for you here, check out the difference\n",
    "tup = (\"I\",)"
   ]
  },
  {
   "cell_type": "markdown",
   "metadata": {},
   "source": [
    "#### Print the type of `tup`. \n",
    "\n",
    "Make sure its type is correct (i.e. *tuple* instead of *str*)."
   ]
  },
  {
   "cell_type": "code",
   "execution_count": null,
   "metadata": {},
   "outputs": [],
   "source": [
    "# Your code here\n",
    "# Feedback Paolo:ok!\n",
    "type(tup)"
   ]
  },
  {
   "cell_type": "markdown",
   "metadata": {},
   "source": [
    "#### Now try to append the following elements to `tup`. \n",
    "\n",
    "Are you able to do it? Explain.\n",
    "\n",
    "```\n",
    "\"r\", \"o\", \"n\", \"h\", \"a\", \"c\", \"k',\n",
    "```"
   ]
  },
  {
   "cell_type": "code",
   "execution_count": null,
   "metadata": {},
   "outputs": [],
   "source": [
    "# Your code here\n",
    "tup = (\"I\",)\n",
    "tup.append(\"r\", \"o\", \"n\", \"h\", \"a\", \"c\", \"k\",)\n",
    "# Your explanation here\n",
    "# Feedback Paolo:ok!\n",
    "Print(\"'tuple' object has no attribute 'append'\")"
   ]
  },
  {
   "cell_type": "markdown",
   "metadata": {},
   "source": [
    "#### How about re-assign a new value to an existing tuple?\n",
    "\n",
    "Re-assign the following elements to `tup`. Are you able to do it? Explain.\n",
    "\n",
    "```\n",
    "\"I\", \"r\", \"o\", \"n\", \"h\", \"a\", \"c\", \"k\"\n",
    "```"
   ]
  },
  {
   "cell_type": "code",
   "execution_count": null,
   "metadata": {},
   "outputs": [],
   "source": [
    "# Your code here\n",
    "tup = (\"I\",)\n",
    "tup[0] = (\"I\", \"r\", \"o\", \"n\", \"h\", \"a\", \"c\", \"k\",)\n",
    "# Your explanation here\n",
    "print(\"'tuple' object does not support item assignment\")\n",
    "# Feedback Paolo:ok! You can only do\n",
    "tup=(\"I\", \"r\", \"o\", \"n\", \"h\", \"a\", \"c\", \"k\",)\n",
    "print(tup)"
   ]
  },
  {
   "cell_type": "markdown",
   "metadata": {},
   "source": [
    "#### Split `tup` into `tup1` and `tup2` with 4 elements in each. \n",
    "\n",
    "`tup1` should be `(\"I\", \"r\", \"o\", \"n\")` and `tup2` should be `(\"h\", \"a\", \"c\", \"k\")`.\n",
    "\n",
    "*Hint: use positive index numbers for `tup1` assignment and use negative index numbers for `tup2` assignment. Positive index numbers count from the beginning whereas negative index numbers count from the end of the sequence.*\n",
    "\n",
    "Also print `tup1` and `tup2`."
   ]
  },
  {
   "cell_type": "code",
   "execution_count": null,
   "metadata": {},
   "outputs": [],
   "source": [
    "# Your code here\n",
    "# Feedback Paolo:ok!\n",
    "tup1 = (\"I\", \"r\", \"o\", \"n\",)\n",
    "tup2 = (\"h\", \"a\", \"c\", \"k\",)\n",
    "print(tup1, tup2)"
   ]
  },
  {
   "cell_type": "markdown",
   "metadata": {},
   "source": [
    "#### Add `tup1` and `tup2` into `tup3` using the `+` operator.\n",
    "\n",
    "Then print `tup3` and check if `tup3` equals to `tup`."
   ]
  },
  {
   "cell_type": "code",
   "execution_count": null,
   "metadata": {},
   "outputs": [],
   "source": [
    "# Your code here\n",
    "(\"I\", \"r\", \"o\", \"n\", \"h\", \"a\", \"c\", \"k\",)\n",
    "# Feedback Paolo:ok!\n",
    "tup3 = tup1 + tup2\n",
    "print(tup3)"
   ]
  },
  {
   "cell_type": "markdown",
   "metadata": {},
   "source": [
    "#### Count the number of elements in `tup1` and `tup2`. Then add the two counts together and check if the sum is the same as the number of elements in `tup3`."
   ]
  },
  {
   "cell_type": "code",
   "execution_count": null,
   "metadata": {},
   "outputs": [],
   "source": [
    "# Your code here\n",
    "# Feedback Paolo:ok!\n",
    "if len(tup1 + tup2) == len(tup3):\n",
    "    print(\"tup1 and tup2 combined have the same number of elements as tup3\")"
   ]
  },
  {
   "cell_type": "markdown",
   "metadata": {},
   "source": [
    "#### What is the index number of `\"h\"` in `tup3`?"
   ]
  },
  {
   "cell_type": "code",
   "execution_count": null,
   "metadata": {},
   "outputs": [],
   "source": [
    "# Your code here\n",
    "index = tup3.index('h')\n",
    "# Feedback Paolo:ok!\n",
    "print(\"The index of h is\", index)"
   ]
  },
  {
   "cell_type": "markdown",
   "metadata": {},
   "source": [
    "#### Now, use a FOR loop to check whether each letter in the following list is present in `tup3`:\n",
    "\n",
    "```\n",
    "letters = [\"a\", \"b\", \"c\", \"d\", \"e\"]\n",
    "```\n",
    "\n",
    "For each letter you check, print `True` if it is present in `tup3` otherwise print `False`.\n",
    "\n",
    "*Hint: you only need to loop `letters`. You don't need to loop `tup3` because there is a Python operator `in` you can use. See [reference](https://stackoverflow.com/questions/17920147/how-to-check-if-a-tuple-contains-an-element-in-python).*"
   ]
  },
  {
   "cell_type": "code",
   "execution_count": null,
   "metadata": {},
   "outputs": [],
   "source": [
    "# Your code here\n",
    "# Feedback Paolo: code does not run.\n",
    "# be careful here: 'elements'in for loop is not defined below and check\n",
    "# the indentatiation of the else statement, it should be flush with if.\n",
    "# In the way you have it now the else statement is out of the for loop\n",
    "letters = [\"a\", \"b\", \"c\", \"d\", \"e\"]\n",
    "for x in letters:\n",
    "    if x in tup3:\n",
    "        print(\"True\")\n",
    "    else:\n",
    "        print(\"False\")\n",
    "        \n",
    "\n",
    "\n",
    "#for elements in letters:\n",
    "\n",
    "#letters = [\"a\", \"b\", \"c\", \"d\", \"e\"]\n",
    "#letters = set([\"a\", \"b\", \"c\", \"d\", \"e\"])\n",
    "#occurence = letters.intersection(tup3)\n",
    "#print(occurence)\n",
    "\n",
    "#present_letters = [i for i in range"
   ]
  },
  {
   "cell_type": "markdown",
   "metadata": {},
   "source": [
    "#### How many times does each letter in `letters` appear in `tup3`?\n",
    "\n",
    "Print out the number of occurrence of each letter."
   ]
  },
  {
   "cell_type": "code",
   "execution_count": null,
   "metadata": {},
   "outputs": [],
   "source": [
    "for x in letters:\n",
    "    if x in tup3:\n",
    "        print(x, len(x))\n",
    "    elif x != tup3:\n",
    "        print(x, '0')"
   ]
  },
  {
   "cell_type": "code",
   "execution_count": null,
   "metadata": {},
   "outputs": [],
   "source": [
    "# Your code here\n",
    "# Feedback Paolo: good effort to use the intersection but be careful because\n",
    "# the intersection tells you only if there are elements in common, does not\n",
    "# count the number occurence, see example below. Maybe you could try with a for loop?\n",
    "letters = set([\"a\", \"b\", \"c\", \"d\", \"e\"])\n",
    "occurence = letters.intersection(tup3)\n",
    "print(occurence)\n",
    "len(occurence)"
   ]
  },
  {
   "cell_type": "code",
   "execution_count": null,
   "metadata": {},
   "outputs": [],
   "source": [
    "#Paolo: you see tup4 has 'a' 3 times  but when you do intersection\n",
    "# with example_set it only tells you that  'a' is present in tup4 \n",
    "# but it does not give you\n",
    "# info on occurrence.\n",
    "example_set= set([\"a\", \"b\", \"c\", \"d\", \"e\"])\n",
    "tup4=('I', 'r', 'o', 'a', 'b', 'a', 'c', 'a')\n",
    "occurence = example_set.intersection(tup4)\n",
    "print(occurence)"
   ]
  },
  {
   "cell_type": "code",
   "execution_count": null,
   "metadata": {},
   "outputs": [],
   "source": []
  }
 ],
 "metadata": {
  "kernelspec": {
   "display_name": "Python 3",
   "language": "python",
   "name": "python3"
  },
  "language_info": {
   "codemirror_mode": {
    "name": "ipython",
    "version": 3
   },
   "file_extension": ".py",
   "mimetype": "text/x-python",
   "name": "python",
   "nbconvert_exporter": "python",
   "pygments_lexer": "ipython3",
   "version": "3.7.6"
  }
 },
 "nbformat": 4,
 "nbformat_minor": 4
}
