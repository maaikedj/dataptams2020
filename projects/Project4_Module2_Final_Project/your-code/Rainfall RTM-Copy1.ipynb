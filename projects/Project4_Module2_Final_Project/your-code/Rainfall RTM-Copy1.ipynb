{
 "cells": [
  {
   "cell_type": "code",
   "execution_count": null,
   "metadata": {},
   "outputs": [],
   "source": [
    "import pandas as pd\n",
    "import numpy as np\n",
    "import math\n",
    "import datetime\n",
    "import matplotlib.pyplot as plt\n",
    "import seaborn as sns\n",
    "\n",
    "%matplotlib inline"
   ]
  },
  {
   "cell_type": "code",
   "execution_count": null,
   "metadata": {},
   "outputs": [],
   "source": [
    "# reading the files\n",
    "# data from http://projects.knmi.nl/klimatologie/daggegevens/selectie.cgi\n",
    "\n",
    "station = pd.read_csv('../data/knmi_stations_2018.csv',sep=';')\n",
    "rain = pd.read_excel('../data/KNMI_20200427.xlsx')\n",
    "\n",
    "station.head()\n",
    "rain.head()"
   ]
  },
  {
   "cell_type": "code",
   "execution_count": null,
   "metadata": {},
   "outputs": [],
   "source": [
    "# cleaning blank spaces in columns and station names:\n",
    "station.columns = station.columns.str.replace(\" \",\"\")\n",
    "station['NAME'] = station['NAME'].str.replace(\" \",\"\")\n",
    "rain.columns = rain.columns.str.replace(\" \",\"\")\n",
    "rain = rain.replace(r'^\\s+$', np.nan, regex=True)\n",
    "\n",
    "# data type check:\n",
    "station.dtypes #all correct\n",
    "rain.dtypes #there are a lot of objects rather than ints\n",
    "\n",
    "# # changing all the data types of objects to int\n",
    "# column_rain = rain.columns[2:]\n",
    "# for x in column_rain:\n",
    "#     rain[x] = rain[x].astype(str).astype(int)\n",
    "# rain.dtypes\n",
    "# # Receiving an error because of all the NaN values, checking first for relevant data:\n",
    "\n",
    "# change data type to DATE\n",
    "rain['YYYYMMDD'] = pd.to_datetime(rain['YYYYMMDD'].astype(int), format='%Y%m%d')\n",
    "rain['YYYYMMDD']\n",
    "\n",
    "# checking for blank values:\n",
    "null_cols = station.isna().sum()\n",
    "null_cols[null_cols > 0] # no blanks\n",
    "\n",
    "#identifying RTM station CODE:\n",
    "rtmstation = station[station['NAME'].isin(['ROTTERDAM'])]['STN']\n",
    "\n",
    "#identifying rain information from RTM station\n",
    "rtmrain = rain[(rain['STN'] == 344)]\n",
    "\n",
    "# checking for blank values in RTM:\n",
    "null_cols = rtmrain.isna().sum()\n",
    "null_cols[null_cols > 0] # has plenty of blanks\n",
    "\n",
    "rtmrain.head()"
   ]
  },
  {
   "cell_type": "code",
   "execution_count": null,
   "metadata": {},
   "outputs": [],
   "source": [
    "# historical analysis on rainfall\n",
    "\n",
    "# selecting relevant columns for precipitation analysis\n",
    "# DR - duration of precipitation (in 0.1 hours)\n",
    "# RH - sum of precipitation for one day (in 0.1 mm) (-1 voor <0.05 mm)\n",
    "# RHX - Hoogste uursom van de neerslag (in 0.1 mm) (-1 voor <0.05 mm)\n",
    "\n",
    "rtmrain = rtmrain[['YYYYMMDD','DR','RH','RHX']]\n",
    "\n",
    "# adding columns for month, year and decade\n",
    "rtmrain['month'] = pd.DatetimeIndex(rtmrain['YYYYMMDD']).month\n",
    "rtmrain['year'] = pd.DatetimeIndex(rtmrain['YYYYMMDD']).year\n",
    "rtmrain['decade'] = (pd.DatetimeIndex(rtmrain['YYYYMMDD']).year)/10\n",
    "rtmrain['decade']= rtmrain['decade'].apply(lambda x: math.floor(x))*10\n",
    "\n",
    "# checking for blank values in rtmrain:\n",
    "null_cols = rtmrain.isna().sum()\n",
    "null_cols[null_cols > 0] # has plenty of blanks\n",
    "\n",
    "# it seems they only started measuring rainfall in 1974, so I will drop everything before that\n",
    "rtmrain.reset_index()[6299:6310]\n",
    "\n",
    "# Get indexes of rows with year before 1974\n",
    "indexYear = rtmrain[rtmrain['year'] < 1974].index\n",
    " \n",
    "# Delete these row indexes from dataFrame\n",
    "rtmrain.drop(indexYear , inplace=True)\n",
    "\n",
    "null_cols = rtmrain.isna().sum()\n",
    "null_cols[null_cols > 0] # only one blank :-)\n",
    "\n",
    "# #blank from 2010-01-29, random date, probably techn failure\n",
    "# # changing to 76, as rainy profile looks similar to 2014-01-23\n",
    "ind_nan = rtmrain[(rtmrain['DR'].isna() == True)].index\n",
    "rtmrain['DR'][ind_nan] = 76\n",
    "\n",
    "null_cols = rtmrain.isna().sum()\n",
    "null_cols[null_cols > 0] #no more blanks\n",
    "\n",
    "# changing all the data types of objects to int\n",
    "column_rain = rtmrain.columns[1:4]\n",
    "for x in column_rain:\n",
    "    rtmrain[x] = rtmrain[x].astype(str).astype(int)\n",
    "rtmrain.dtypes"
   ]
  },
  {
   "cell_type": "code",
   "execution_count": null,
   "metadata": {},
   "outputs": [],
   "source": [
    "# looking at outliers for possible mistakes in data\n",
    "\n",
    "q = rtmrain[\"DR\"].quantile(0.99)\n",
    "rtmrain[rtmrain[\"DR\"] > q].sort_values(by = 'DR')\n",
    "\n",
    "q = rtmrain[\"RH\"].quantile(0.99)\n",
    "rtmrain[rtmrain[\"RH\"] > q].sort_values(by = 'RH')\n",
    "\n",
    "q = rtmrain[\"RHX\"].quantile(0.99)\n",
    "rtmrain[rtmrain[\"RHX\"] > q].sort_values(by = 'RHX')\n",
    "\n",
    "# I think it looks OK, only date 1975-06-23 looks a bit out there, but I wont drop lines"
   ]
  },
  {
   "cell_type": "code",
   "execution_count": null,
   "metadata": {},
   "outputs": [],
   "source": [
    "plt.style.use('fivethirtyeight')\n",
    "def rainpermonth(years):\n",
    "    plt.figure(figsize=(20, 8))\n",
    "    for year in years:\n",
    "        ini = datetime.datetime.strptime('{}-01-01'.format(year), '%Y-%m-%d')\n",
    "        fin = datetime.datetime.strptime('{}-12-31'.format(year), '%Y-%m-%d')\n",
    "\n",
    "        years = rtmrain[(rtmrain.YYYYMMDD >= ini) & (rtmrain.YYYYMMDD <= fin)]\n",
    "\n",
    "        plt.plot(years.month, years.RH, label=year)\n",
    "    plt.title('Comparativa de temperaturas')\n",
    "    plt.xlabel('Fecha')\n",
    "    plt.ylabel('Temp °C')\n",
    "\n",
    "years = [1974, 2018 - ((2018-1974)/2), 2018]\n",
    "rainpermonth(years)\n",
    "plt.show()\n"
   ]
  },
  {
   "cell_type": "code",
   "execution_count": null,
   "metadata": {},
   "outputs": [],
   "source": [
    "# total precipitation per month\n",
    "\n",
    "# decade_rain = rtmrain.pivot_table(index=['decade','year'],values=['RH'], aggfunc=sum).reset_index()\n",
    "# # decade_rain\n",
    "sns.lineplot(x='YYYYMMDD',y='RH',data=rtmrain)"
   ]
  },
  {
   "cell_type": "code",
   "execution_count": null,
   "metadata": {},
   "outputs": [],
   "source": []
  }
 ],
 "metadata": {
  "kernelspec": {
   "display_name": "Python 3",
   "language": "python",
   "name": "python3"
  },
  "language_info": {
   "codemirror_mode": {
    "name": "ipython",
    "version": 3
   },
   "file_extension": ".py",
   "mimetype": "text/x-python",
   "name": "python",
   "nbconvert_exporter": "python",
   "pygments_lexer": "ipython3",
   "version": "3.8.1"
  }
 },
 "nbformat": 4,
 "nbformat_minor": 4
}
