{
 "cells": [
  {
   "cell_type": "markdown",
   "metadata": {
    "Collapsed": "false"
   },
   "source": [
    "Import all necessary libraries:"
   ]
  },
  {
   "cell_type": "code",
   "execution_count": null,
   "metadata": {
    "Collapsed": "false"
   },
   "outputs": [],
   "source": [
    "import numpy as np\n",
    "import pandas as pd\n",
    "import matplotlib.pyplot as plt\n",
    "import matplotlib.cm as cm\n",
    "import matplotlib.patches as mpatches\n",
    "import seaborn as sns\n",
    "from pandas import DataFrame\n",
    "from matplotlib import rcParams\n",
    "from ipywidgets import interact\n",
    "from scipy import stats\n",
    "import statsmodels.api as sm"
   ]
  },
  {
   "cell_type": "markdown",
   "metadata": {
    "Collapsed": "false"
   },
   "source": [
    "Download the `master` dataset from [here](https://drive.google.com/drive/folders/1LuGD09bpxmIhOnQVYuT1NUKnBcvSIdBc) and place it in the data folder.\n",
    "Load and save your dataset in a variable called `data`. "
   ]
  },
  {
   "cell_type": "code",
   "execution_count": null,
   "metadata": {
    "Collapsed": "false"
   },
   "outputs": [],
   "source": [
    "data = pd.read_csv('../data/master.csv')\n",
    "data.drop(columns=['country-year','HDI for year'],inplace=True)\n",
    "data = data.rename(columns=lambda x: x.strip())\n",
    "data['gdp_per_capita ($)'] = data['gdp_per_capita ($)'].astype(np.float64)\n",
    "data['gdp_for_year ($)'] = data['gdp_for_year ($)'].str.replace(',', '')\n",
    "data = data[data.year != 2016]\n",
    "data\n"
   ]
  },
  {
   "cell_type": "markdown",
   "metadata": {
    "Collapsed": "false"
   },
   "source": [
    "Explore the dataset."
   ]
  },
  {
   "cell_type": "code",
   "execution_count": null,
   "metadata": {
    "Collapsed": "false"
   },
   "outputs": [],
   "source": [
    "data.info()"
   ]
  },
  {
   "cell_type": "code",
   "execution_count": null,
   "metadata": {
    "Collapsed": "false"
   },
   "outputs": [],
   "source": [
    "data['suicides_no'].sum()"
   ]
  },
  {
   "cell_type": "code",
   "execution_count": null,
   "metadata": {
    "Collapsed": "false"
   },
   "outputs": [],
   "source": [
    "data['gdp_for_year (¢)'] = pd.to_numeric(data['gdp_for_year ($)'], errors='coerce')"
   ]
  },
  {
   "cell_type": "code",
   "execution_count": null,
   "metadata": {
    "Collapsed": "false"
   },
   "outputs": [],
   "source": [
    "data.describe()"
   ]
  },
  {
   "cell_type": "code",
   "execution_count": null,
   "metadata": {
    "Collapsed": "false"
   },
   "outputs": [],
   "source": [
    "#Check for number of suicides per generation\n",
    "generations=data[['generation', 'suicides_no']]\n",
    "generations=generations.groupby('generation')['suicides_no'].sum().sort_values(ascending=False)\n",
    "plt.figure(figsize=(5,5))\n",
    "generations.plot.bar(color=['pink', 'orange' 'red', 'green', 'blue', 'cyan'])\n",
    "plt.xlabel(\"Generation\", size=15)\n",
    "plt.ylabel(\"Number of Suicides\", size=15)\n",
    "plt.title(\"Number of Suicides per Generation\", size=18)\n",
    "plt.tight_layout()"
   ]
  },
  {
   "cell_type": "code",
   "execution_count": null,
   "metadata": {
    "Collapsed": "false"
   },
   "outputs": [],
   "source": [
    "#Check for number of suicides per age group\n",
    "age=data[['age', 'suicides_no']]\n",
    "age=age.groupby('age')['suicides_no'].sum().sort_values(ascending=False)\n",
    "plt.figure(figsize=(5,5))\n",
    "age.plot.bar(color=['pink', 'orange', 'red', 'green', 'blue', 'cyan'])\n",
    "plt.xlabel(\"Age Group\", size=15)\n",
    "plt.ylabel(\"Number of Suicides\", size=15)\n",
    "plt.title(\"Number of Suicides per Age Group\", size=18)\n",
    "plt.tight_layout()"
   ]
  },
  {
   "cell_type": "code",
   "execution_count": null,
   "metadata": {
    "Collapsed": "false"
   },
   "outputs": [],
   "source": [
    "#Check for number of suicides per age group for Boomers\n",
    "age=data[['age', 'suicides_no', 'generation']]\n",
    "age=age[age['generation']=='Boomers']\n",
    "age=age.groupby('age')['suicides_no'].sum().sort_values(ascending=False)\n",
    "plt.figure(figsize=(5,5))\n",
    "age.plot.bar(color=['pink', 'orange', 'red', 'green', 'blue', 'cyan'])\n",
    "plt.xlabel(\"Age Group\", size=15)\n",
    "plt.ylabel(\"Number of Suicides\", size=15)\n",
    "plt.title(\"Number of Suicides per Age Group for Boomers\", size=18)\n",
    "plt.tight_layout()"
   ]
  },
  {
   "cell_type": "code",
   "execution_count": null,
   "metadata": {
    "Collapsed": "false"
   },
   "outputs": [],
   "source": [
    "#Check for number of suicides per generation for age group 35 - 54 years' old\n",
    "generations=data[['generation', 'suicides_no', 'age']]\n",
    "generations=generations[generations['age']=='35-54 years']\n",
    "generations=generations.groupby('generation')['suicides_no'].sum().sort_values(ascending=False)\n",
    "plt.figure(figsize=(5,5))\n",
    "generations.plot.bar(color=['pink', 'orange' 'red', 'green', 'blue', 'cyan'])\n",
    "plt.xlabel(\"Generation\", size=15)\n",
    "plt.ylabel(\"Number of Suicides\", size=15)\n",
    "plt.title(\"Number of Suicides per Generation for 35-54 years' old\", size=18)\n",
    "plt.tight_layout()"
   ]
  },
  {
   "cell_type": "code",
   "execution_count": null,
   "metadata": {
    "Collapsed": "false"
   },
   "outputs": [],
   "source": [
    "#Check for distribution of suicides between genders\n",
    "gender=data[['sex', 'suicides_no']]\n",
    "gender=gender.pivot_table(index='sex', values='suicides_no', aggfunc={sum})\n",
    "plt.figure(figsize=(20,20))\n",
    "gender.plot.bar(color=['yellow'])\n",
    "plt.xlabel(\"Genders\", size=15)\n",
    "plt.ylabel(\"Number of Suicides\", size=15)\n",
    "plt.title(\"Number of Suicides per Gender\", size=18)\n",
    "plt.tight_layout()"
   ]
  },
  {
   "cell_type": "code",
   "execution_count": null,
   "metadata": {
    "Collapsed": "false"
   },
   "outputs": [],
   "source": [
    "#Check for number suicides commited by males and females within the different age groups.\n",
    "age=data[['age', 'suicides_no','sex']]\n",
    "age=age.pivot_table(index='age', values='suicides_no', columns='sex',aggfunc={sum})\n",
    "plt.figure(figsize=(5,5))\n",
    "age.plot.bar()\n",
    "plt.xlabel(\"Age Group\", size=15)\n",
    "plt.ylabel(\"Number of Suicides\", size=15)\n",
    "plt.title(\"Number of Suicides per Age Group and Gender\", size=18)\n",
    "plt.tight_layout()"
   ]
  },
  {
   "cell_type": "code",
   "execution_count": null,
   "metadata": {
    "Collapsed": "false"
   },
   "outputs": [],
   "source": [
    "#Check for number suicides commited by males and females within the different generations.\n",
    "generation=data[['generation', 'suicides_no','sex']]\n",
    "generation=generation.pivot_table(index='generation', values='suicides_no', columns='sex',aggfunc={sum})\n",
    "plt.figure(figsize=(5,5))\n",
    "generation.plot.bar()\n",
    "plt.xlabel(\"Generation\", size=15)\n",
    "plt.ylabel(\"Number of Suicides\", size=15)\n",
    "plt.title(\"Number of Suicides per Generation and Gender\", size=18)\n",
    "plt.tight_layout()"
   ]
  },
  {
   "cell_type": "code",
   "execution_count": null,
   "metadata": {
    "Collapsed": "false"
   },
   "outputs": [],
   "source": [
    "#Check for number of suicides per year.\n",
    "year=data[['year', 'suicides_no']]\n",
    "year=year.pivot_table(index='year', values='suicides_no', aggfunc={sum})\n",
    "plt.figure(figsize=(40,60))\n",
    "year.plot.bar()\n",
    "plt.xlabel(\"Year\", size=15)\n",
    "plt.ylabel(\"Number of Suicides\", size=15)\n",
    "plt.title(\"Number of Suicides per Year\", size=18)\n",
    "plt.tight_layout()"
   ]
  },
  {
   "cell_type": "code",
   "execution_count": null,
   "metadata": {
    "Collapsed": "false"
   },
   "outputs": [],
   "source": [
    "#Check for number of suicides per year for males and females.\n",
    "year=data[['year', 'suicides_no','sex']]\n",
    "year=year.pivot_table(index='year', values='suicides_no', columns='sex',aggfunc={sum})\n",
    "plt.figure(figsize=(5,5))\n",
    "year.plot()\n",
    "plt.xlabel(\"Year\", size=15)\n",
    "plt.ylabel(\"Number of Suicides\", size=15)\n",
    "plt.title(\"Number of Suicides per Year and Gender\", size=18)\n",
    "plt.tight_layout()"
   ]
  },
  {
   "cell_type": "code",
   "execution_count": null,
   "metadata": {
    "Collapsed": "false"
   },
   "outputs": [],
   "source": [
    "#check for top 30 countries in number of suicides\n",
    "country=data[['country', 'suicides_no']]\n",
    "country=country.groupby('country')['suicides_no'].sum().sort_values(ascending =False)\n",
    "country=country.head(30)\n",
    "plt.figure(figsize=(8,8))\n",
    "country.plot(kind='barh')\n",
    "plt.xlabel(\"Number of Suicides\", size=15)\n",
    "plt.ylabel(\"Top 30 Countries\", size=15)\n",
    "plt.title(\"Number of Suicides per country\", size=18)\n",
    "plt.tight_layout()"
   ]
  },
  {
   "cell_type": "code",
   "execution_count": null,
   "metadata": {
    "Collapsed": "false"
   },
   "outputs": [],
   "source": [
    "#check for top 30 countries in ratio of suicides\n",
    "country=data[['country', 'suicides/100k pop']]\n",
    "country=country.groupby('country')['suicides/100k pop'].mean().sort_values(ascending =False)\n",
    "country=country.head(30)\n",
    "plt.figure(figsize=(8,8))\n",
    "country.plot(kind='barh')\n",
    "plt.xlabel(\"Ratio of Suicides\", size=15)\n",
    "plt.ylabel(\"Top 30 Countries\", size=15)\n",
    "plt.title(\"Ratio of Suicides per country\", size=18)\n",
    "plt.tight_layout()"
   ]
  },
  {
   "cell_type": "code",
   "execution_count": null,
   "metadata": {
    "Collapsed": "false"
   },
   "outputs": [],
   "source": [
    "#Check for number of suicides per generation for the Top 5 countries.\n",
    "top_5 = data\n",
    "top_5 = data[data['country'].isin(['Russian Federation','United States','Japan','France', 'Ukraine'])]\n",
    "top_5=top_5.pivot_table(values='suicides_no',columns='country',index='generation', aggfunc='sum')\n",
    "top_5.plot(kind='barh')\n",
    "\n",
    "plt.xlabel(\"Number of Suicides\", size=15)\n",
    "plt.ylabel(\"Generation\", size=15)\n",
    "plt.title(\"Number of Suicides per Generation for Top 5 Countries\", size=18)\n",
    "plt.tight_layout()\n",
    "plt.legend(bbox_to_anchor=(1.05, 1), loc=2, borderaxespad=0.)"
   ]
  },
  {
   "cell_type": "code",
   "execution_count": null,
   "metadata": {
    "Collapsed": "false"
   },
   "outputs": [],
   "source": [
    "#Check for ratio of suicides per generation for the Top 5 countries.\n",
    "top_5 = data\n",
    "top_5 = data[data['country'].isin(['Lithuania','Sri Lanka','Russian Federation','Hungary','Belarus'])]\n",
    "top_5=top_5.pivot_table(values='suicides/100k pop',columns='country',index='generation', aggfunc='mean').sort_values(by= 'generation', ascending =False)\n",
    "top_5.plot(kind='barh')\n",
    "plt.xlabel(\"Ratio of Suicides\", size=15)\n",
    "plt.ylabel(\"Generation\", size=15)\n",
    "plt.title(\"Ratio of Suicides per Generation for Top 5 Countries\", size=18)\n",
    "plt.tight_layout()\n",
    "plt.legend(bbox_to_anchor=(1.05, 1), loc=2, borderaxespad=0.)"
   ]
  },
  {
   "cell_type": "code",
   "execution_count": null,
   "metadata": {
    "Collapsed": "false"
   },
   "outputs": [],
   "source": [
    "#Check for number of suicides per year for top 5 countries\n",
    "top_5 = data\n",
    "top_5 = data[data['country'].isin(['Russian Federation','United States','Japan','France', 'Ukraine'])]\n",
    "top_5=top_5.pivot_table(values='suicides_no',columns='country',index='year', aggfunc='sum')\n",
    "top_5.plot()\n",
    "plt.xlabel(\"Year\", size=15)\n",
    "plt.ylabel(\"Number of Suicides\", size=15)\n",
    "plt.title(\"Number of Suicides per Year for Top 5 Countries\", size=18)\n",
    "plt.tight_layout()\n",
    "plt.legend(bbox_to_anchor=(1.05, 1), loc=2, borderaxespad=0.)"
   ]
  },
  {
   "cell_type": "code",
   "execution_count": null,
   "metadata": {
    "Collapsed": "false"
   },
   "outputs": [],
   "source": [
    "#Check for ratio of suicides per year for top 5 countries\n",
    "top_5 = data\n",
    "top_5 = data[data['country'].isin(['Lithuania','Sri Lanka','Russian Federation','Hungary','Belarus'])]\n",
    "top_5=top_5.pivot_table(values='suicides/100k pop',columns='country',index='year', aggfunc='mean')\n",
    "top_5.plot()\n",
    "plt.xlabel(\"Year\", size=15)\n",
    "plt.ylabel(\"Ratio of Suicides\", size=15)\n",
    "plt.title(\"Ratio of Suicides per Year for Top 5 Countries\", size=18)\n",
    "plt.tight_layout()\n",
    "plt.legend(bbox_to_anchor=(1.05, 1), loc=2, borderaxespad=0.)"
   ]
  },
  {
   "cell_type": "code",
   "execution_count": null,
   "metadata": {
    "Collapsed": "false"
   },
   "outputs": [],
   "source": [
    "top_5_1 = data\n",
    "top_5_1 = data[data['country'].isin(['Lithuania','Sri Lanka','Russian Federation','Hungary','Belarus'])\n",
    "                         & (data['year'] >=1985) & (data['year'] <=1992)]\n",
    "\n",
    "top_5_1=top_5_1.pivot_table(values='gdp_per_capita ($)',columns='country',index='year', aggfunc='mean')\n",
    "top_5_1"
   ]
  },
  {
   "cell_type": "code",
   "execution_count": null,
   "metadata": {
    "Collapsed": "false"
   },
   "outputs": [],
   "source": [
    "#Check for GDP per Capita and Ratio of Suicides for top 5 between 1985 and 1992\n",
    "top_5_1 = data\n",
    "top_5_1 = data[data['country'].isin(['Lithuania','Sri Lanka','Russian Federation','Hungary','Belarus'])\n",
    "                         & (data['year'] >=1985) & (data['year'] <=1992)]\n",
    "top_5_1=top_5_1.pivot_table(values='suicides/100k pop',columns='country',index='gdp_per_capita ($)', aggfunc='mean')\n",
    "sns.scatterplot(data=top_5_1)\n",
    "plt.legend(bbox_to_anchor=(1.05, 1), loc=2, borderaxespad=0.)\n",
    "plt.xlabel(\"GDP per Capita for 1985-1992\", size=15)\n",
    "plt.ylabel(\"Ratio of Suicides\", size=15)\n",
    "plt.title(\"Comparison for Top 5 countries 1985-1992\", size=18)\n",
    "plt.show()\n"
   ]
  },
  {
   "cell_type": "code",
   "execution_count": null,
   "metadata": {
    "Collapsed": "false"
   },
   "outputs": [],
   "source": [
    "#Check for GDP per Capita and Ratio of Suicides for top 5 between 1993 and 2000\n",
    "top_5_1 = data\n",
    "top_5_1 = data[data['country'].isin(['Lithuania','Sri Lanka','Russian Federation','Hungary','Belarus'])\n",
    "                         & (data['year'] >=1993) & (data['year'] <=2000)]\n",
    "top_5_1=top_5_1.pivot_table(values='suicides/100k pop',columns='country',index='gdp_per_capita ($)', aggfunc='mean')\n",
    "sns.scatterplot(data=top_5_1)\n",
    "plt.legend(bbox_to_anchor=(1.05, 1), loc=2, borderaxespad=0.)\n",
    "plt.xlabel(\"GDP per Capita for 1993-2000\", size=15)\n",
    "plt.ylabel(\"Ratio of Suicides\", size=15)\n",
    "plt.title(\"Comparison for Top 5 countries 1993-2000\", size=18)\n",
    "plt.show()"
   ]
  },
  {
   "cell_type": "code",
   "execution_count": null,
   "metadata": {
    "Collapsed": "false"
   },
   "outputs": [],
   "source": [
    "#Check for GDP per Capita and Ratio of Suicides for top 5 between 2001 and 2009\n",
    "top_5_1 = data\n",
    "top_5_1 = data[data['country'].isin(['Lithuania','Sri Lanka','Russian Federation','Hungary','Belarus'])\n",
    "                         & (data['year'] >=2001) & (data['year'] <=2009)]\n",
    "top_5_1=top_5_1.pivot_table(values='suicides/100k pop',columns='country',index='gdp_per_capita ($)', aggfunc='mean')\n",
    "sns.scatterplot(data=top_5_1)\n",
    "plt.legend(bbox_to_anchor=(1.05, 1), loc=2, borderaxespad=0.)\n",
    "plt.xlabel(\"GDP per Capita for 2001-2009\", size=15)\n",
    "plt.ylabel(\"Ratio of Suicides\", size=15)\n",
    "plt.title(\"Comparison for Top 5 countries 2001-2009\", size=18)\n",
    "plt.show()"
   ]
  },
  {
   "cell_type": "code",
   "execution_count": null,
   "metadata": {
    "Collapsed": "false"
   },
   "outputs": [],
   "source": [
    "#Check for GDP per Capita and Ratio of Suicides for top 5 between 2010 and 2015\n",
    "top_5_1 = data\n",
    "top_5_1 = data[data['country'].isin(['Lithuania','Sri Lanka','Russian Federation','Hungary','Belarus'])\n",
    "                         & (data['year'] >=2010) & (data['year'] <=2015)]\n",
    "top_5_1=top_5_1.pivot_table(values='suicides/100k pop',columns='country',index='gdp_per_capita ($)', aggfunc='mean')\n",
    "sns.scatterplot(data=top_5_1)\n",
    "plt.legend(bbox_to_anchor=(1.05, 1), loc=2, borderaxespad=0.)\n",
    "plt.xlabel(\"GDP per Capita for 2010-2015\", size=15)\n",
    "plt.ylabel(\"Ratio of Suicides\", size=15)\n",
    "plt.title(\"Comparison for Top 5 countries 2010-2015\", size=18)\n",
    "plt.show()"
   ]
  },
  {
   "cell_type": "code",
   "execution_count": null,
   "metadata": {
    "Collapsed": "false"
   },
   "outputs": [],
   "source": [
    "#Check for GDP per Capita and Ratio of Suicides for top 5 \n",
    "top_5_1 = data\n",
    "top_5_1 = data[data['country'].isin(['Lithuania','Sri Lanka','Russian Federation','Hungary','Belarus'])]\n",
    "\n",
    "top_5_1=top_5_1.pivot_table(values='suicides/100k pop',columns='country',index='gdp_per_capita ($)', aggfunc='mean')\n",
    "sns.scatterplot(data=top_5_1)\n",
    "plt.legend(bbox_to_anchor=(1.05, 1), loc=2, borderaxespad=0.)\n",
    "plt.xlabel(\"GDP per Capita\", size=15)\n",
    "plt.ylabel(\"Ratio of Suicides\", size=15)\n",
    "plt.title(\"Comparison of GDP per Capita and Ratio of Suicides for Top 5 countries\", size=18)\n",
    "plt.show()"
   ]
  },
  {
   "cell_type": "code",
   "execution_count": null,
   "metadata": {
    "Collapsed": "false"
   },
   "outputs": [],
   "source": [
    "data_2 = data.pivot_table(values= 'suicides_no', index= 'year', aggfunc='sum')\n",
    "data_2"
   ]
  },
  {
   "cell_type": "code",
   "execution_count": null,
   "metadata": {
    "Collapsed": "false"
   },
   "outputs": [],
   "source": [
    "#Check for correlations\n",
    "corr = data.corr()\n",
    "print(corr)"
   ]
  },
  {
   "cell_type": "code",
   "execution_count": null,
   "metadata": {
    "Collapsed": "false"
   },
   "outputs": [],
   "source": [
    "plt.figure(figsize=(25,20))\n",
    "sns.heatmap(corr, annot=True)"
   ]
  },
  {
   "cell_type": "code",
   "execution_count": null,
   "metadata": {
    "Collapsed": "false"
   },
   "outputs": [],
   "source": [
    "#Run regression\n",
    "X = data[['year', 'population', 'suicides/100k pop', 'gdp_per_capita ($)', 'gdp_for_year (¢)']]\n",
    "Y = data['suicides_no'] \n",
    "model= sm.OLS(Y,X).fit()\n",
    "predictions=model.predict(X)\n",
    "pd.DataFrame({'observed':Y, 'predicted':predictions})"
   ]
  },
  {
   "cell_type": "code",
   "execution_count": null,
   "metadata": {
    "Collapsed": "false"
   },
   "outputs": [],
   "source": [
    "model.summary()"
   ]
  },
  {
   "cell_type": "code",
   "execution_count": null,
   "metadata": {
    "Collapsed": "false"
   },
   "outputs": [],
   "source": [
    "top_5_1 = data\n",
    "top_5_1 = data[data['country'].isin(['Lithuania','Sri Lanka','Russian Federation','Hungary','Belarus'])]\n",
    "corr_2= top_5_1.corr()\n",
    "plt.figure(figsize=(25,20))\n",
    "sns.heatmap(corr_2, annot=True)"
   ]
  },
  {
   "cell_type": "code",
   "execution_count": null,
   "metadata": {
    "Collapsed": "false"
   },
   "outputs": [],
   "source": [
    "X = top_5_1[['year', 'population', 'suicides/100k pop', 'gdp_per_capita ($)', 'gdp_for_year (¢)']]\n",
    "Y = top_5_1['suicides_no']\n",
    "model= sm.OLS(Y,X).fit()\n",
    "predictions=model.predict(X)\n",
    "pd.DataFrame({'observed':Y, 'predicted':predictions})"
   ]
  },
  {
   "cell_type": "code",
   "execution_count": null,
   "metadata": {
    "Collapsed": "false"
   },
   "outputs": [],
   "source": [
    "model.summary()"
   ]
  },
  {
   "cell_type": "markdown",
   "metadata": {
    "Collapsed": "false"
   },
   "source": [
    "### Feedback Paolo"
   ]
  },
  {
   "cell_type": "markdown",
   "metadata": {
    "Collapsed": "false"
   },
   "source": [
    "Eva, clear plots and well structured notebook, with good guiding comments. Also I think you chose a very relevant issue that it is not talked about often. I find insightful  your plots where you show the relashionship suicide/GDP. A few comments/questions for future work if you decide to come back to it\n",
    "- What do you mean by `ratio of suicides`?  \n",
    "- I would have liked to see at least an Introduction and a Conclusion in markdown. These two parts are very important for yourself in the future (without that it will be hard to remember why you did what you did) or for someone else who would want to work with you on this project. I know you changed topic at the last minute so you did not have time for this.\n",
    "- What is your goal with the linear regression, what were you looking for?\n",
    "- How could you get an idea visually of the goodness of your lin. reg. model?\n",
    "- The correlations, do you see anything interesting there?"
   ]
  }
 ],
 "metadata": {
  "kernelspec": {
   "display_name": "Python 3",
   "language": "python",
   "name": "python3"
  },
  "language_info": {
   "codemirror_mode": {
    "name": "ipython",
    "version": 3
   },
   "file_extension": ".py",
   "mimetype": "text/x-python",
   "name": "python",
   "nbconvert_exporter": "python",
   "pygments_lexer": "ipython3",
   "version": "3.7.6"
  }
 },
 "nbformat": 4,
 "nbformat_minor": 4
}
