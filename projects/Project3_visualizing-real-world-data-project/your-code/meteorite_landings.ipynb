{
 "cells": [
  {
   "cell_type": "markdown",
   "metadata": {},
   "source": [
    "# Meteorite landings on Earth\n",
    "\n",
    "Maaike de Jong\n",
    "\n",
    "Ironhack Amsterdam Data Analytics\n",
    "\n",
    "Project 3, April 2020"
   ]
  },
  {
   "cell_type": "markdown",
   "metadata": {},
   "source": [
    "## 1. Introduction\n",
    "\n",
    "In this notebook I analyse and visualize the NASA Meteorite Landings dataset, which can be found [here](https://www.kaggle.com/nasa/meteorite-landings). The [Meteoritical Society](https://www.lpi.usra.edu/meteor/) collects data on meteorites that have fallen to Earth from outer space. \n",
    "\n",
    "#### Aim of this project\n",
    "Meteorites have fascinated me for a long time. When they enter our atmosphere as shooting stars they have often travelled for millions of kilometers. Many of the meteorites that reach our planet are very old, dating from the early days of our solar system, so they are older than the rocks from Earth. My goal is to one day find a meteorite myself. This dataset offers a great opportunity to visually investigate where the chances of finding a meteorite are highest. In this notebook I take several approaches to visualising data on maps to figure out where I should go to find a meteorite.\n",
    "\n",
    "#### About the data\n",
    "This dataset includes the location, mass, composition, and fall year for over 45,000 meteorites that have struck our planet. There are a few notes on Kaggle on missing or incorrect data points in this dataset, which I'll take into account during data cleaning:\n",
    "* a few entries here contain date information that was incorrectly parsed into the NASA database. As a spot check: any date that is before 860 CE or after 2016 are incorrect; these should actually be BCE years. There may be other errors and we are looking for a way to identify them.\n",
    "* a few entries have latitude and longitude of 0N/0E (off the western coast of Africa, where it would be quite difficult to recover meteorites). Many of these were actually discovered in Antarctica, but exact coordinates were not given. 0N/0E locations should probably be treated as NA."
   ]
  },
  {
   "cell_type": "markdown",
   "metadata": {},
   "source": [
    "## 2. Import Packages and data"
   ]
  },
  {
   "cell_type": "code",
   "execution_count": null,
   "metadata": {},
   "outputs": [],
   "source": [
    "# import packages\n",
    "import numpy as np\n",
    "import pandas as pd\n",
    "%matplotlib inline\n",
    "import matplotlib.pyplot as plt\n",
    "import matplotlib.cm as cm\n",
    "import matplotlib.patches as mpatches\n",
    "import seaborn as sns\n",
    "import geopandas as gpd"
   ]
  },
  {
   "cell_type": "code",
   "execution_count": null,
   "metadata": {},
   "outputs": [],
   "source": [
    "# import dataset\n",
    "df = pd.read_csv('../data/meteorite-landings.csv')\n",
    "df.head()"
   ]
  },
  {
   "cell_type": "markdown",
   "metadata": {},
   "source": [
    "## 3. Inspecting and cleaning the data\n",
    "\n",
    "Before I start with visualising the data, I inspect the data to check variable properties and distributions and to find and fix mistakes or unwanted datapoints. "
   ]
  },
  {
   "cell_type": "code",
   "execution_count": null,
   "metadata": {},
   "outputs": [],
   "source": [
    "# inspect data types\n",
    "#df.dtypes\n",
    "df.info()"
   ]
  },
  {
   "cell_type": "code",
   "execution_count": null,
   "metadata": {},
   "outputs": [],
   "source": [
    "# Check missing values\n",
    "percent_missing = df.isnull().sum() * 100 / len(df)\n",
    "missing_value_df = pd.DataFrame({'column_name': df.columns,\n",
    "                                 'percent_missing': percent_missing})\n",
    "missing_value_df\n",
    "# there are some missing values for mass and year (3% and 6% respectively). \n",
    "# There are quite a few missing geolocations(16%)."
   ]
  },
  {
   "cell_type": "code",
   "execution_count": null,
   "metadata": {},
   "outputs": [],
   "source": [
    "# convert year from float to integer\n",
    "df['year'] = df['year'].fillna(0).astype(int)\n",
    "df.info() "
   ]
  },
  {
   "cell_type": "code",
   "execution_count": null,
   "metadata": {},
   "outputs": [],
   "source": [
    "# inspect data with describe\n",
    "df.describe()"
   ]
  },
  {
   "cell_type": "markdown",
   "metadata": {},
   "source": [
    "In the notes that came with the dataset it states that years before 860 and after 2016 are unreliable, and that there are several incorrect coordinates of (0,0), so those need to be filtered out."
   ]
  },
  {
   "cell_type": "code",
   "execution_count": null,
   "metadata": {},
   "outputs": [],
   "source": [
    "# clean data\n",
    "# filter out data with year < 860 and > 2016 \n",
    "df2 = df.loc[(df['year'] >= 860) & (df['year'] <= 2016)]"
   ]
  },
  {
   "cell_type": "code",
   "execution_count": null,
   "metadata": {},
   "outputs": [],
   "source": [
    "# clean data\n",
    "# filter out data with 0,0 coordinates\n",
    "df3 = df2.loc[(df2['reclat'] != 0) & (df2['reclong'] != 0)]"
   ]
  },
  {
   "cell_type": "code",
   "execution_count": null,
   "metadata": {},
   "outputs": [],
   "source": [
    "df3.info()"
   ]
  },
  {
   "cell_type": "code",
   "execution_count": null,
   "metadata": {},
   "outputs": [],
   "source": [
    "# inspecting properties and distribution of variables\n",
    "\n",
    "# types of recclass\n",
    "meteor_types = pd.DataFrame(df3['recclass'].value_counts())\n",
    "meteor_types.head()\n",
    "\n",
    "# There are 441 distinct meteorite types in the data. \n",
    "# If I want to plot different types I'll have to make a selection"
   ]
  },
  {
   "cell_type": "code",
   "execution_count": null,
   "metadata": {},
   "outputs": [],
   "source": [
    "# Plotting the counts of the meteor types we can see that are 8 most common types, \n",
    "# after which there are many types with relatively low numbers\n",
    "\n",
    "plt.rcParams['figure.figsize'] = [16,8]\n",
    "meteor_types.head(50).plot.bar()\n"
   ]
  },
  {
   "cell_type": "markdown",
   "metadata": {},
   "source": [
    "#### Types of meteorite\n",
    "\n",
    "The most common types of meteorites in the data are:\n",
    "L6, H5, L5, H6, H4, LL5, LL6, L4\n",
    "\n",
    "These all fall in the category 'ordinary chondrites'\n",
    "\n",
    "From wikipedia:\n",
    "A chondrite /ˈkɒndraɪt/ is a stony (non-metallic) meteorite that has not been modified, by either melting or differentiation of the parent body. They are formed when various types of dust and small grains in the early Solar System accreted to form primitive asteroids. Some such bodies that are captured in the planet’s gravity well become the most common type of meteorite by (whether quickly, or after many orbits) arriving on a trajectory toward the Earth’s surface. Estimates for their contribution to the total meteorite population vary between 85.7% and 86.2%."
   ]
  },
  {
   "cell_type": "code",
   "execution_count": null,
   "metadata": {},
   "outputs": [],
   "source": [
    "# inspecting properties and distribution of variables\n",
    "\n",
    "# distribution of mass\n",
    "\n",
    "#df3.plot.hist(y = 'mass')\n",
    "sns.boxplot(x = 'mass', data = df3)\n",
    "\n",
    "# the distribution is difficult to visualize because of outliers with a lot of mass\n",
    "# if I want to do anything with mass I have to make groupings or convert the data"
   ]
  },
  {
   "cell_type": "code",
   "execution_count": null,
   "metadata": {},
   "outputs": [],
   "source": [
    "sns.violinplot(x = 'mass', data = df3)"
   ]
  },
  {
   "cell_type": "code",
   "execution_count": null,
   "metadata": {},
   "outputs": [],
   "source": [
    "# inspecting properties and distribution of variables\n",
    "\n",
    "# column 'fall'\n",
    "\n",
    "df3['fall'].value_counts()\n",
    "\n",
    "# There are many more 'found' meteorites than 'fell' meteorites"
   ]
  },
  {
   "cell_type": "code",
   "execution_count": null,
   "metadata": {},
   "outputs": [],
   "source": [
    "# inspecting properties and distribution of variables\n",
    "\n",
    "# column 'year'\n",
    "\n",
    "sns.boxplot(x = 'year', data = df3)"
   ]
  },
  {
   "cell_type": "code",
   "execution_count": null,
   "metadata": {},
   "outputs": [],
   "source": [
    "sns.violinplot(x = 'year', data = df3)\n",
    "\n",
    "# the vast majority of observations are between 1900 and 2016, which is to be expected"
   ]
  },
  {
   "cell_type": "markdown",
   "metadata": {},
   "source": [
    "## 4. Plotting the meteorites on a world map\n",
    "\n",
    "There are many ways to visualise the meteorite data on maps, but as a start I'll plot all the meteorites as points on a world map.\n",
    "\n",
    "To do this, there are two main steps:\n",
    "* convert the data into geospatial data so it can be spatially plotted with a package such as geopandas\n",
    "* get data to plot a world map\n",
    "* plot the world map data and the meteorite data in two layers"
   ]
  },
  {
   "cell_type": "code",
   "execution_count": null,
   "metadata": {},
   "outputs": [],
   "source": [
    "# create geodataframe, with geometry column from long, lat columns\n",
    "\n",
    "gdf = gpd.GeoDataFrame(df3, geometry = gpd.points_from_xy(df3['reclong'], df3['reclat']))\n",
    "gdf.head()"
   ]
  },
  {
   "cell_type": "code",
   "execution_count": null,
   "metadata": {},
   "outputs": [],
   "source": [
    "#check whether the geometry column is the right datatype. It should be a geopandas geoseries\n",
    "\n",
    "type(gdf.geometry)"
   ]
  },
  {
   "cell_type": "code",
   "execution_count": null,
   "metadata": {},
   "outputs": [],
   "source": [
    "# import world map geodataframe. The lowres worldmap dataset from Natural Earth can be imported directly from geopandas\n",
    "\n",
    "world = gpd.read_file(gpd.datasets.get_path('naturalearth_lowres'))\n",
    "world.rename(columns = {'name': 'country'}, inplace = True)\n",
    "world.head()"
   ]
  },
  {
   "cell_type": "code",
   "execution_count": null,
   "metadata": {},
   "outputs": [],
   "source": [
    "# plot world map with country borders\n",
    "\n",
    "plt.rcParams['figure.figsize'] = [16,8]\n",
    "world.plot(facecolor = 'silver', edgecolor = 'grey');"
   ]
  },
  {
   "cell_type": "code",
   "execution_count": null,
   "metadata": {},
   "outputs": [],
   "source": [
    "# Plot layer of meteorites\n",
    "\n",
    "gdf.plot(marker='*', color='blue', markersize=5);"
   ]
  },
  {
   "cell_type": "code",
   "execution_count": null,
   "metadata": {},
   "outputs": [],
   "source": [
    "# There's a weird point that must be a mistake. longitude is larger than 300\n",
    "# find entry in df \n",
    "\n",
    "gdf.loc[(df3['reclong'] > 300)]"
   ]
  },
  {
   "cell_type": "code",
   "execution_count": null,
   "metadata": {},
   "outputs": [],
   "source": [
    "# remove entry\n",
    "\n",
    "gdf = gdf.drop([22946], axis=0)"
   ]
  },
  {
   "cell_type": "code",
   "execution_count": null,
   "metadata": {},
   "outputs": [],
   "source": [
    "# Plot meteorites again to check whether the point is gone\n",
    "\n",
    "gdf.plot(marker='*', color='blue', markersize=5);"
   ]
  },
  {
   "cell_type": "code",
   "execution_count": null,
   "metadata": {},
   "outputs": [],
   "source": [
    "# Before combining maps, ensure they share a common CRS (coordinate system) so that they will spatially align\n",
    "\n",
    "# first assign a CRS to the gdf (a common one is WGS84 latitude-longitude coordinate system)\n",
    "\n",
    "gdf.crs = \"EPSG:4326\"\n",
    "\n",
    "# then, align crs to world crs\n",
    "\n",
    "gdf = gdf.to_crs(world.crs)"
   ]
  },
  {
   "cell_type": "code",
   "execution_count": null,
   "metadata": {},
   "outputs": [],
   "source": [
    "# Plotting the world map data and the meteorite points in two layers:\n",
    "\n",
    "base = world.plot(color='cornsilk', edgecolor='grey')\n",
    "gdf.plot(ax=base, marker='o', color='blue', markersize=2);"
   ]
  },
  {
   "cell_type": "markdown",
   "metadata": {},
   "source": [
    "#### Insights from this map\n",
    "From this map it looks like by far the most meteorites were found in the US. That might be because the Meteoritical Society is based in the US. \n",
    "What also stands out to me is that the densities are lowest in the most forested areas: Amazon basin, Congo basin, and South-East Asia and the boreal forests of Canada and Northern Russia. This makes sense because finding meteorites in forested areas must be more difficult than open areas, and also soil turnover is high in forests. \n",
    "\n",
    "Although this figure gives a nice overview of overall densities, there is also a lot of overlap between data points (because there are so many). As a next step I'll visualise the number of meteorites per country. "
   ]
  },
  {
   "cell_type": "markdown",
   "metadata": {},
   "source": [
    "## 5. Creating a choropleth map of meteorite numbers by country\n",
    "\n",
    "To get a more detailed insight into the spatial distribution of found meteorites, I will create a so-called choropleth map of numbers of meteorites per country. \n",
    "\n",
    "Definition of a choropleth map (from Wikipedia):  \n",
    "*A choropleth map is a type of thematic map in which areas are shaded or patterned in proportion to a statistical variable that represents an aggregate summary of a geographic characteristic within each area, such as population density or per-capita income.*\n",
    "\n",
    "There are several steps involved in creating this map:  \n",
    "\n",
    "**1. Create a dataframe with the total number of meteorites per country.**  \n",
    "For this we first need to assign country names to the meteorite data. The dataset as it comes doesn't have country information. So based on the long, lat coordinates of the meteorites we have to group the data points corresponding to the country polygon shapes in the worldmap dataset. We can do this in geopandas with a spatial join.  \n",
    "\n",
    "**2. Create a new dataframe combining the worldmap data and the meteorite counts per country.**  \n",
    "Doing this we'll end up with a lot of missing data for the counts per country. We can fill these in with zeroes because for these countries zero meteorites were found.  \n",
    "\n",
    "**3. Create the choropleth map in geopandas.**  \n",
    "This will require some tweaking of the colour-representation of the meteorite counts as this data is highly skewed as we will see.  \n"
   ]
  },
  {
   "cell_type": "code",
   "execution_count": null,
   "metadata": {},
   "outputs": [],
   "source": [
    "# Create df total meteorites per country\n",
    "# first, spatial join meteorite gdf and world gdf to assign countries to meteorite coordinates\n",
    "\n",
    "gdf_countries = gpd.sjoin(world, gdf, how=\"right\", op=\"contains\")\n",
    "gdf_countries.head()"
   ]
  },
  {
   "cell_type": "code",
   "execution_count": null,
   "metadata": {},
   "outputs": [],
   "source": [
    "# rename country column\n",
    "gdf_countries.rename(columns = {'name_x': 'country'}, inplace = True)\n",
    "gdf_countries.head()"
   ]
  },
  {
   "cell_type": "code",
   "execution_count": null,
   "metadata": {},
   "outputs": [],
   "source": [
    "# check shape\n",
    "\n",
    "gdf_countries.shape"
   ]
  },
  {
   "cell_type": "code",
   "execution_count": null,
   "metadata": {},
   "outputs": [],
   "source": [
    "# aggregate total number of meteorites per country\n",
    "\n",
    "by_country = gdf_countries.groupby('country')[['id']].count()\n",
    "by_country = by_country.reset_index()\n",
    "by_country.rename(columns = {'id': 'meteorite_count'}, inplace = True)              \n",
    "by_country"
   ]
  },
  {
   "cell_type": "code",
   "execution_count": null,
   "metadata": {},
   "outputs": [],
   "source": [
    "# make new df with all country data, even if no meteorite data is available (otherwise there will be gaps in the worldmap)\n",
    "\n",
    "countries_count = pd.merge(world, by_country, on = 'country', how = 'left')\n",
    "countries_count.head()"
   ]
  },
  {
   "cell_type": "code",
   "execution_count": null,
   "metadata": {},
   "outputs": [],
   "source": [
    "# Fill NaN values for meteorite count with zeroes\n",
    "\n",
    "countries_count.fillna(value = 0, inplace = True)\n",
    "countries_count.head()"
   ]
  },
  {
   "cell_type": "code",
   "execution_count": null,
   "metadata": {},
   "outputs": [],
   "source": [
    "# make choropleth map with number of meteorites per country indicated with colours\n",
    "# see: https://geopandas.org/mapping.html\n",
    "# include legend\n",
    "\n",
    "plt.rcParams['figure.figsize'] = [20,12]\n",
    "fig, ax = plt.subplots(1, 1)\n",
    "countries_count.plot(column='meteorite_count', ax=ax, legend=True, cmap='summer_r') #legend_kwds={'label': \"Found meteorites by country\",'orientation': \"horizontal\"})\n"
   ]
  },
  {
   "cell_type": "markdown",
   "metadata": {},
   "source": [
    "#### Insights from this map\n",
    "\n",
    "This map shows very clearly that by far the most meteorites have been found in Antarctica. In comparison the numbers for the other countries are much lower, which makes the colour contrasts for the rest of the countries very small. \n",
    "\n",
    "According to our data 22099 meteorites were found in Antarctica, more or less half of our dataset. This is because several expeditions specifically dedicated to finding meteorites were organised in recent years. Meteorites are relatively easy to find in Antarctica because they fall on the ice sheet and are very visible.  \n",
    "\n",
    "To create more contrast between the countries, we can tweak the colour scaling with the scheme option.  \n"
   ]
  },
  {
   "cell_type": "code",
   "execution_count": null,
   "metadata": {},
   "outputs": [],
   "source": [
    "# plot choropleth map with scheme option with user defined settings\n",
    "\n",
    "plt.rcParams['figure.figsize'] = [20, 10]\n",
    "fig, ax = plt.subplots(1, 1)\n",
    "\n",
    "countries_count.plot(column='meteorite_count', legend=True, ax = ax, cmap='summer_r', scheme='user_defined', classification_kwds = {'bins':[0, 5, 25, 250, 2500, 25000]})\n",
    "\n",
    "cmap = cm.get_cmap('summer_r')\n",
    "patch1 = mpatches.Patch(color=cmap(0.0), label = '0')\n",
    "patch2 = mpatches.Patch(color=cmap(0.2), label = '1 - 5')\n",
    "patch3 = mpatches.Patch(color=cmap(0.4), label = '5 - 25')\n",
    "patch4 = mpatches.Patch(color=cmap(0.6), label = '25 - 250')\n",
    "patch5 = mpatches.Patch(color=cmap(0.8), label = '250 - 2500')\n",
    "patch6 = mpatches.Patch(color=cmap(1.0), label = '2500 - 25000')\n",
    "\n",
    "plt.legend(handles = [patch1, patch2, patch3, patch4, patch5, patch6], prop = {'size':12})\n",
    "\n",
    "plt.show()\n"
   ]
  },
  {
   "cell_type": "markdown",
   "metadata": {},
   "source": [
    "#### Insights from this map\n",
    "\n",
    "Apart from Antarctica, other countries where a lot of meteorites were found are: the US, Australia, Chile, Morocco, Algeria, Libia and Oman.  \n",
    "\n",
    "These patterns are most likely explained by two main factors: national interest in meteorites (US, where the Meteoritical Society is based), and landscape/ ecotype. Apart from the US and Antartica, the other counties mentioned above all largely consist of desert, where meteorites are easier to find.   \n",
    "\n",
    "Let's now have a look at the map without Antarctica."
   ]
  },
  {
   "cell_type": "code",
   "execution_count": null,
   "metadata": {},
   "outputs": [],
   "source": [
    "# create new dataframe without Antarctica data\n",
    "\n",
    "countries_count2 = countries_count[countries_count['continent'] != 'Antarctica']"
   ]
  },
  {
   "cell_type": "code",
   "execution_count": null,
   "metadata": {},
   "outputs": [],
   "source": [
    "# plot the map\n",
    "\n",
    "plt.rcParams['figure.figsize'] = [20, 10]\n",
    "fig, ax = plt.subplots(1, 1)\n",
    "\n",
    "countries_count2.plot(column='meteorite_count', legend=True, ax = ax, cmap='summer_r', scheme='user_defined', classification_kwds = {'bins':[0, 5, 25, 250, 1000, 5000]})\n",
    "\n",
    "cmap = cm.get_cmap('summer_r')\n",
    "patch1 = mpatches.Patch(color=cmap(0.0), label = '0')\n",
    "patch2 = mpatches.Patch(color=cmap(0.2), label = '1 - 5')\n",
    "patch3 = mpatches.Patch(color=cmap(0.4), label = '5 - 25')\n",
    "patch4 = mpatches.Patch(color=cmap(0.6), label = '25 - 250')\n",
    "patch5 = mpatches.Patch(color=cmap(0.8), label = '250 - 1000')\n",
    "patch6 = mpatches.Patch(color=cmap(1.0), label = '1000 - 5000')\n",
    "\n",
    "plt.legend(handles = [patch1, patch2, patch3, patch4, patch5, patch6], prop = {'size':12})\n",
    "\n",
    "plt.show()\n"
   ]
  },
  {
   "cell_type": "markdown",
   "metadata": {},
   "source": [
    "#### Insights from this map\n",
    "\n",
    "Removing Antarctica gives a more precise view of the differences between countries. According to this map the most meteorites were found in the US, Libya and Oman. Other countries that score high are Australia, Algeria and Chile.  \n",
    "\n",
    "When looking at possible countries to travel to for a meteorite searching expedition, Algeria looks like a suitable option. It's relatively nearby (in contrast to Australia, US and Chile) and it's relatively safe for a solo female traveller (in contrast to Libya). Oman is also supposed to be safe but one of the first google hits I got when searching for meteorites and Oman was [this](https://www.newscientist.com/article/mg21128190-200-meteorite-hunter-my-two-months-in-an-omani-jail/), so perhaps not my first choice of country.  \n",
    "\n",
    "Let's zoom in on Algeria.\n",
    "\n"
   ]
  },
  {
   "cell_type": "markdown",
   "metadata": {},
   "source": [
    "## 6. Zooming in on one country: Algeria\n",
    "\n",
    "To investigate the meteorite situation in Algeria, we can plot the meteorite points on the map of Algeria. To do this, we need to plot the country polygon shape data as a base map and overlay the meteorite points. We'll start by importing a higher resolution worldmap datafile that I obtained from [Natural Earth Data](https://www.naturalearthdata.com/) and selecting the Algerian shape data. After that we can select the data for Algeria from the gdf_countries geodataframe that we created in an earlier step."
   ]
  },
  {
   "cell_type": "code",
   "execution_count": null,
   "metadata": {},
   "outputs": [],
   "source": [
    "# import more high-res worldmap data\n",
    "\n",
    "world2 = gpd.read_file('../data/50m_cultural/ne_50m_admin_0_countries.shp')\n",
    "world2.plot()"
   ]
  },
  {
   "cell_type": "code",
   "execution_count": null,
   "metadata": {},
   "outputs": [],
   "source": [
    "# inspect worlddata gdf\n",
    "\n",
    "world2.head()"
   ]
  },
  {
   "cell_type": "code",
   "execution_count": null,
   "metadata": {},
   "outputs": [],
   "source": [
    "# select map shape Algeria\n",
    "\n",
    "algeria = world2.loc[world2['SOVEREIGNT'] == 'Algeria']\n",
    "algeria"
   ]
  },
  {
   "cell_type": "code",
   "execution_count": null,
   "metadata": {},
   "outputs": [],
   "source": [
    "# select meteorite data for algeria\n",
    "\n",
    "algeria_count = gdf_countries.loc[gdf_countries['country'] == 'Algeria']\n",
    "algeria_count.head()"
   ]
  },
  {
   "cell_type": "code",
   "execution_count": null,
   "metadata": {},
   "outputs": [],
   "source": [
    "# plot two layer map for Algeria\n",
    "\n",
    "base = algeria.plot(color='cornsilk', edgecolor='black')\n",
    "algeria_count.plot(ax=base, marker='o', color='red', markersize=5);"
   ]
  },
  {
   "cell_type": "markdown",
   "metadata": {},
   "source": [
    "#### Insights from this map\n",
    "\n",
    "This map shows that there are several clear clusters of meterorite finds. They could be cause by expeditions, or perhaps by larger meteorite impacts.  \n",
    "\n",
    "Let's look at meteorite types in more detail.  \n"
   ]
  },
  {
   "cell_type": "code",
   "execution_count": null,
   "metadata": {},
   "outputs": [],
   "source": [
    "# counting the top 10 meteorite types in the Algeria data\n",
    "\n",
    "algeria_top10 = pd.DataFrame(algeria_count['recclass'].value_counts().head(10))\n",
    "algeria_top10 = algeria_top10.reset_index()\n",
    "algeria_top10"
   ]
  },
  {
   "cell_type": "markdown",
   "metadata": {},
   "source": [
    "Interestingly, there is a generally rare type of meteorite on the 7th spot: CR2. In the main data this type is ranked 25th in frequency.  \n",
    "\n",
    "This is the Carbonaceous Chondrite Type, a rare and much sought-after type of meteorite.  \n",
    "\n",
    "Let's look at the distribution of the top 10 meteorites in Algeria.  \n"
   ]
  },
  {
   "cell_type": "code",
   "execution_count": null,
   "metadata": {},
   "outputs": [],
   "source": [
    "# Select meteorite data for algeria, top 10 most common meteorites\n",
    "\n",
    "algeria_count10 = algeria_count.loc[algeria_count['recclass'].isin(algeria_top10['index'])]\n",
    "algeria_count10.head()"
   ]
  },
  {
   "cell_type": "code",
   "execution_count": null,
   "metadata": {},
   "outputs": [],
   "source": [
    "# plot them on the map, colourcoded\n",
    "\n",
    "base = algeria.plot(color='cornsilk', edgecolor='black')\n",
    "algeria_count10.plot(ax=base, marker='o', column='recclass', legend = True, markersize=5);"
   ]
  },
  {
   "cell_type": "code",
   "execution_count": null,
   "metadata": {},
   "outputs": [],
   "source": [
    "# there are a lot of points in the same spot, making it difficult to see where the CR2 type is\n",
    "# to visualize the rare meteorite type better, we select and plot only this type\n",
    "\n",
    "algeria_CR2 = algeria_count.loc[algeria_count['recclass'] == 'CR2']\n",
    "algeria_CR2.head()"
   ]
  },
  {
   "cell_type": "code",
   "execution_count": null,
   "metadata": {},
   "outputs": [],
   "source": [
    "# plot CR2 on map\n",
    "\n",
    "base = algeria.plot(color='cornsilk', edgecolor='black')\n",
    "algeria_CR2.plot(ax=base, marker='o', color = 'blue', markersize=5)\n"
   ]
  },
  {
   "cell_type": "markdown",
   "metadata": {},
   "source": [
    "#### Insights from this maps\n",
    "\n",
    "The CR2 meteorites are nearly all in the same spot (except one). Perhaps a bigger meteorite of this type fell and these are all pieces of it.  \n",
    "\n",
    "Looking at the meteorite data, these meteorites are all from location 'Acfer'. After some googling, it turns out that there was a recent discovery in a meteorite from this place, which seems to show that there are extra-terrestrial proteins present in the meteorite. See this scientific [publication](https://arxiv.org/abs/2002.11688) (currently under peer-review).  \n",
    "\n",
    "This is definitely an interesting meteorite hotspot to explore!\n"
   ]
  },
  {
   "cell_type": "markdown",
   "metadata": {},
   "source": [
    "## 7. Conclusions and next steps\n",
    "\n",
    "This visual analysis gave me a clear overview of the numbers of found meteorites per country, and which countries are promising locations for a meteorite-hunting expedition. For Algeria it appears that there is a particularly interesting spot, where a relatively high number of rarer meteorites were found. \n",
    "\n",
    "A few possible next steps for this analysis are:\n",
    "1. Creating maps with geographical features. For instance, this would give me a better idea of the exact area and landscape of the Algeria hotspot. \n",
    "2. Have a closer look into the distribution of meteorite types, like I now did for Algeria but at global level or for other countries.\n",
    "3. Create interactive maps (e.g. with Bokeh) and maps that can be integrated into websites (Plotly).  \n",
    "\n"
   ]
  }
 ],
 "metadata": {
  "kernelspec": {
   "display_name": "Python 3",
   "language": "python",
   "name": "python3"
  },
  "language_info": {
   "codemirror_mode": {
    "name": "ipython",
    "version": 3
   },
   "file_extension": ".py",
   "mimetype": "text/x-python",
   "name": "python",
   "nbconvert_exporter": "python",
   "pygments_lexer": "ipython3",
   "version": "3.7.1"
  }
 },
 "nbformat": 4,
 "nbformat_minor": 4
}
