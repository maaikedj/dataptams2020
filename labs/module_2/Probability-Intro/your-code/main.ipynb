{
 "cells": [
  {
   "cell_type": "markdown",
   "metadata": {},
   "source": [
    "# Introduction To Probability\n",
    "## Challenge 1\n",
    "\n",
    "A and B are events of a probability space with $(\\omega, \\sigma, P)$ such that $P(A) = 0.3$, $P(B) = 0.6$ and $P(A \\cap B) = 0.1$\n",
    "\n",
    "Which of the following statements are false?\n",
    "* $P(A \\cup B) = 0.6$\n",
    "* $P(A \\cap B^{C}) = 0.2$\n",
    "* $P(A \\cap (B \\cup B^{C})) = 0.4$\n",
    "* $P(A^{C} \\cap B^{C}) = 0.3$\n",
    "* $P((A \\cap B)^{C}) = 0.9$"
   ]
  },
  {
   "cell_type": "code",
   "execution_count": null,
   "metadata": {},
   "outputs": [],
   "source": [
    "\"\"\"\n",
    "First statement: P(A ∪ B)=0.6 is FALSE\n",
    "\n",
    "P(A ∪ B) = P(A ∩ B¯) + P(A ∩ B) + P(A¯ ∩ B) = 0.1 + 0.1 + 0.5 = 0.7\n",
    "\n",
    "Second statement: P(A ∩ B¯)=0.2 is FALSE\n",
    "\n",
    "P(A ∩ B¯) = P(A) − P(A ∩ B) = 0.2 − 0.1 = 0.1\n",
    "\n",
    "Third statement: P(A ∩ (B ∪ B¯))=0.4 is FALSE\n",
    "\n",
    "P(A ∩ (B ∪ B¯)) = P(A ∩ B) + P(A ∩ B¯) = 0.1 + 0.1 = 0.2\n",
    "\n",
    "Fourth statement: P(A¯ ∩ B¯)=0.3 is TRUE\n",
    "\n",
    "P(A¯ ∩ B¯) = 1 − P(A ∪ B) = 1 − 0.7 = 0.3\n",
    "\n",
    "Fifth statement: P((A ∩ B)¯) is TRUE\n",
    "\n",
    "P((A ∩ B)¯) = 1 - P(A ∩ B) = 1 - 1.0 = 0.9\n",
    "\n",
    "\"\"\""
   ]
  },
  {
   "cell_type": "markdown",
   "metadata": {},
   "source": [
    "## Challenge 2\n",
    "There is a box with 10 white balls, 12 red balls and 8 black balls. Calculate the probability of:\n",
    "* Taking a white ball out.\n",
    "* Taking a white ball out after taking a black ball out.\n",
    "* Taking a red ball out after taking a black and a red ball out.\n",
    "* Taking a red ball out after taking a black and a red ball out with reposition.\n",
    "\n",
    "**Hint**: Reposition means putting back the ball into the box after taking it out."
   ]
  },
  {
   "cell_type": "code",
   "execution_count": null,
   "metadata": {},
   "outputs": [],
   "source": [
    "\"\"\"\n",
    "There are a total of 30 balls\n",
    "- Taking a white ball out: P = 10/30 = 0.333\n",
    "- Taking a white ball out after taking a black ball out: P = 8/30 * 10/29 = 0.267 * 0.345 = 0.092\n",
    "- Taking a red ball out after taking a black and a red ball out: P = 8/30 * 12/29 * 11/28 = 0.267 * 0.414 * 0.393 = 0.043\n",
    "- Taking a red ball out after taking a black and a red ball out with reposition: P = 8/30 * 12/30 * 12/30 = 0.267 * 0.4 * 0.4 = 0.043\n",
    "\"\"\""
   ]
  },
  {
   "cell_type": "markdown",
   "metadata": {},
   "source": [
    "## Challenge 3\n",
    "\n",
    "You are planning to go on a picnic today but the morning is cloudy. You hate rain so you don't know whether to go out or stay home! To help you make a decision, you gather the following data about rainy days:\n",
    "\n",
    "* 50% of all rainy days start off cloudy!\n",
    "* Cloudy mornings are common. About 40% of days start cloudy. \n",
    "* This month is usually dry so only 3 of 30 days (10%) tend to be rainy. \n",
    "\n",
    "What is the chance of rain during the day?"
   ]
  },
  {
   "cell_type": "code",
   "execution_count": null,
   "metadata": {},
   "outputs": [],
   "source": [
    "\"\"\"\n",
    "Bayes' theorem: P(A|B)= P(B|A)*P(A) / P(B)\n",
    "\n",
    "We want to know P(A|B): probability that it will rain, given that it's cloudy\n",
    "\n",
    "P(B|A): probability that it's cloudy given that it rains = 50%\n",
    "P(A): probability that it will rain = 10%\n",
    "P(B): probability that it's cloudy = 40%\n",
    "\n",
    "P(A|B) = (0,5*0,1)/0,4 = 0,125\n",
    "\n",
    "Probability that it will rain is 12,5%\n",
    "\n",
    "\"\"\""
   ]
  },
  {
   "cell_type": "markdown",
   "metadata": {},
   "source": [
    "## Challenge 4\n",
    "\n",
    "One thousand people were asked through a telephone survey whether they thought more street lighting is needed at night or not.\n",
    "\n",
    "Out of the 480 men that answered the survey, 324 said yes and 156 said no. On the other hand, out of the 520 women that answered, 351 said yes and 169 said no. \n",
    "\n",
    "We wonder if men and women have a different opinions about the street lighting matter. Is gender relevant or irrelevant to the question?\n",
    "\n",
    "Consider the following events:\n",
    "- The answer is yes, so the person that answered thinks that more street lighting is needed.\n",
    "- The person who answered is a man.\n",
    "\n",
    "We want to know if these events are independent, that is, if the fact of wanting more light depends on whether one is male or female. Are these events independent or not?\n",
    "\n",
    "**Hint**: To clearly compare the answers by gender, it is best to place the data in a table."
   ]
  },
  {
   "cell_type": "code",
   "execution_count": null,
   "metadata": {},
   "outputs": [],
   "source": [
    "# your code here\n",
    "\n",
    "import pandas as pd\n",
    "\n",
    "survey = {'Gender': ['Men', 'Women'],\n",
    "     'Yes': [324, 351],\n",
    "     'No': [156, 169],\n",
    "     'Total': [480, 520]}\n",
    "\n",
    "survey_df = pd.DataFrame(survey)\n",
    "\n",
    "survey_df['Yes_ratio'] = survey_df['Yes'] / survey_df['Total']\n",
    "survey_df['No_ratio'] = survey_df['No'] / survey_df['Total']\n",
    "\n",
    "survey_df"
   ]
  },
  {
   "cell_type": "code",
   "execution_count": null,
   "metadata": {},
   "outputs": [],
   "source": [
    "\"\"\"\n",
    "The outcome is independent of gender because the chance that a person answers yes or no is the same for men and women.  \n",
    "\"\"\""
   ]
  }
 ],
 "metadata": {
  "kernelspec": {
   "display_name": "Python 3",
   "language": "python",
   "name": "python3"
  },
  "language_info": {
   "codemirror_mode": {
    "name": "ipython",
    "version": 3
   },
   "file_extension": ".py",
   "mimetype": "text/x-python",
   "name": "python",
   "nbconvert_exporter": "python",
   "pygments_lexer": "ipython3",
   "version": "3.7.1"
  }
 },
 "nbformat": 4,
 "nbformat_minor": 2
}
