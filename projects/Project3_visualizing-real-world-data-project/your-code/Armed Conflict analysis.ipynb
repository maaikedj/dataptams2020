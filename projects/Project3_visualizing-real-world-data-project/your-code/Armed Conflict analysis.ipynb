{
 "cells": [
  {
   "cell_type": "markdown",
   "metadata": {},
   "source": [
    "# Armed conflict events in Latin America, the Middle East and Africa\n",
    "\n",
    "by: Sara Mendoza\n",
    "\n",
    "Data Analytics - Ironhack Amsterdam / cohort Jan - June 2020\n",
    "\n",
    "Project 3 - April 2020"
   ]
  },
  {
   "cell_type": "markdown",
   "metadata": {},
   "source": [
    "## 1 Introduction\n",
    "\n",
    "On this project, I analyze and visualize Armed Conflict from 2019 in 3 regions: Latin America, the Middle East and Africa.\n",
    "\n",
    "The data on Armed Conflict can be found here: https://acleddata.com/curated-data-files/\n",
    "\n",
    "The data on countries demographics can be found here: https://www.kaggle.com/sudalairajkumar/undata-country-profiles/data\n",
    "\n",
    "The files used have been stored in google drive, and can be downloaded from here: https://drive.google.com/drive/folders/1cMNgPfnamJHK7AOCYj6X9xdhZktulOuM\n",
    "\n",
    "\n",
    "### Target\n",
    "\n",
    "I chose to focus on Armed Conflict, as its a subject that interests me and I have read a lot about, but never analyzed. The purpose of this project is to identify the most conflict ridden countries and try to understand from their demographical information if there are other elements that puts them appart from other countries in the same region.\n",
    "\n",
    "I'll be using a great data source: ACLED (Armed Conflict Location & Event Data) this NGO documents all Armed Conflict events, and provides very clear and clean information for each event.\n",
    "\n",
    "I decided to download data on Africa, Latin America and the Middle East as they are the most conflict-ridden regions.\n",
    "\n",
    "To understand more these regions and their profiles, I also downloaded a data set with some demographic information.\n",
    "\n",
    "## 2 Importing libraries and reading the files"
   ]
  },
  {
   "cell_type": "code",
   "execution_count": null,
   "metadata": {},
   "outputs": [],
   "source": [
    "#importing libraries\n",
    "import pandas as pd\n",
    "import numpy as np\n",
    "import matplotlib.pyplot as plt\n",
    "import seaborn as sns\n",
    "import chart_studio.plotly as py\n",
    "import cufflinks as cf\n",
    "from ipywidgets import interact\n",
    "\n",
    "cf.go_offline()"
   ]
  },
  {
   "cell_type": "code",
   "execution_count": null,
   "metadata": {},
   "outputs": [],
   "source": [
    "# reading the data files:\n",
    "\n",
    "africa = pd.read_excel('../data/Africa_1997-2020_Mar21.xlsx')\n",
    "latinamerica = pd.read_excel('../data/LatinAmerica_2018-2020_Mar21.xlsx')\n",
    "middleeast = pd.read_excel('../data/MiddleEast_2015-2020_Mar21-1.xlsx')\n",
    "demographics = pd.read_excel('../data/country_profile_variables.xlsx')\n",
    "\n",
    "#testing they are all working\n",
    "# africa.head()\n",
    "# latinamerica.head()\n",
    "# middleeast.head()\n",
    "# demographics.head()\n",
    "\n",
    "# demographics.dtypes\n",
    "\n",
    "#checking for nan values\n",
    "#null_cols = demographics.isna().sum()\n",
    "#null_cols[null_cols > 0]\n",
    "\n",
    "#there is a lot of missing values, but as I don't know which countries I'll be using, I'll leave it for now"
   ]
  },
  {
   "cell_type": "markdown",
   "metadata": {},
   "source": [
    "## 3 Selecting relevant data and merging files\n",
    "\n",
    "The imported files are very large, and as ACLED only started documenting events in LatinAmerica in mid 2018, I decided to select all events from 2019 for all regions to have a balanced picture of what happened in the space of one year"
   ]
  },
  {
   "cell_type": "code",
   "execution_count": null,
   "metadata": {},
   "outputs": [],
   "source": [
    "# select events only from 2019 \n",
    "year_africa = africa.loc[africa.YEAR == 2019]\n",
    "year_latinamerica = latinamerica.loc[latinamerica.YEAR == 2019]\n",
    "year_middleeast = middleeast.loc[middleeast.YEAR == 2019]\n",
    "\n",
    "# adding column to signify continent\n",
    "year_africa['continent'] = 'Africa'\n",
    "year_latinamerica['continent'] = 'LatinAmerica'\n",
    "year_middleeast['continent'] = 'MiddleEast'\n",
    "\n",
    "#concatenating all countries in one file\n",
    "percountry_df = pd.concat((year_africa,year_latinamerica,year_middleeast))\n",
    "\n",
    "#percountry_df.head()"
   ]
  },
  {
   "cell_type": "code",
   "execution_count": null,
   "metadata": {},
   "outputs": [],
   "source": [
    "#want to know event types per country\n",
    "eventpercountry_df = percountry_df.pivot_table(index=('continent','COUNTRY'),columns='EVENT_TYPE',values='FATALITIES', aggfunc=(len))\n",
    "\n",
    "# replace nan by zeros\n",
    "eventpercountry_df = eventpercountry_df.fillna(0)\n",
    "\n",
    "# and total events and fatalities per country\n",
    "fatalitiespercountry_df = percountry_df.pivot_table(index='COUNTRY',values='FATALITIES', aggfunc=(len,sum))\n",
    "fatalitiespercountry_df = fatalitiespercountry_df.rename(columns={'len': 'total conflicts 2019', 'sum': 'total fatalities 2019'})\n",
    "\n",
    "# merge everything to have one file\n",
    "df = pd.merge(eventpercountry_df, demographics, left_on =\"COUNTRY\" , right_on = \"country\")\n",
    "df = pd.merge(df, fatalitiespercountry_df, left_on =\"country\" , right_on = \"COUNTRY\")\n",
    "\n",
    "# adding continent info\n",
    "cont = percountry_df[['COUNTRY','continent']]\n",
    "cont = cont.drop_duplicates()\n",
    "df = pd.merge(df, cont, left_on =\"country\" , right_on = \"COUNTRY\",how = 'left')\n",
    "\n",
    "#df.head()"
   ]
  },
  {
   "cell_type": "markdown",
   "metadata": {},
   "source": [
    "As countries have different populations, I decided to divide the total events, event types and fatalities by the population of each country to have an event per capita measure"
   ]
  },
  {
   "cell_type": "code",
   "execution_count": null,
   "metadata": {},
   "outputs": [],
   "source": [
    "# adding a few new colums per capita %\n",
    "df['total conflicts 2019 per capita'] = df['total conflicts 2019'] / df['Population in thousands (2017)']\n",
    "df['total fatalities 2019 per capita'] = df['total fatalities 2019'] / df['Population in thousands (2017)']\n",
    "df['total protests 2019 per capita'] = df['Protests'] / df['Population in thousands (2017)']\n",
    "df['total explosions/remote violence 2019 per capita'] = df['Explosions/Remote violence'] / df['Population in thousands (2017)']\n",
    "df['total battles 2019 per capita'] = df['Battles'] / df['Population in thousands (2017)']\n"
   ]
  },
  {
   "cell_type": "markdown",
   "metadata": {},
   "source": [
    "## 4 Initial visualization of the data\n",
    "\n",
    "As the data set is very large, I will visualize first everything in plots to see if I can already pick out patterns or interesting elements."
   ]
  },
  {
   "cell_type": "code",
   "execution_count": null,
   "metadata": {},
   "outputs": [],
   "source": [
    "# initial chart to see data\n",
    "df_cont_event =percountry_df[['continent', 'COUNTRY', 'EVENT_TYPE', 'EVENT_DATE']]\n",
    "df_cont_event\n",
    "\n",
    "@interact(Continent=list(df_cont_event['continent'].unique()))\n",
    "         \n",
    "def dyn_linec(Continent):\n",
    "    data = df_cont_event[(df_cont_event['continent'] == Continent)]\n",
    "    \n",
    "    data.pivot_table(index=['COUNTRY'], columns=['continent', 'EVENT_TYPE'], aggfunc=len).iplot(\n",
    "    kind='bar',xTitle='Country', yTitle='Total Events',title='Events per country')"
   ]
  },
  {
   "cell_type": "code",
   "execution_count": null,
   "metadata": {},
   "outputs": [],
   "source": [
    "#trying to find some correlations in all the data\n",
    "corr = df.corr()\n",
    "corr\n",
    "\n",
    "# Generate a mask for the upper triangle\n",
    "mask = np.triu(np.ones_like(corr, dtype=np.bool))\n",
    "\n",
    "# Set up the matplotlib figure\n",
    "f, ax = plt.subplots(figsize=(20, 15))\n",
    "\n",
    "# Generate a custom diverging colormap\n",
    "cmap = sns.diverging_palette(220, 10, as_cmap=True)\n",
    "\n",
    "# Draw the heatmap with the mask and correct aspect ratio\n",
    "sns.heatmap(corr, mask=mask, cmap=cmap, vmax=.3, center=0,\n",
    "            square=True, linewidths=.5, cbar_kws={\"shrink\": .5});"
   ]
  },
  {
   "cell_type": "markdown",
   "metadata": {},
   "source": [
    "In the correlation graph I'm only focusing on the last 7 rows, as I want to see the correlation of Armed Conflict events with demographics, and I'm ignoring the correlations of the different demographic information against each oter.\n",
    "\n",
    "The following points I found interesting and want to explore further:\n",
    "\n",
    "I - There is a negative correlation between GDP growth and total conflicts and fatalities, but this decreases significantly for protests\n",
    "\n",
    "II - Education has a low to none correlation between fatalities, but increases for protests, thus more education more protests?\n",
    "\n",
    "III - All the Armed conflict rows in the data are negatively correlated with labor force participation female pop %"
   ]
  },
  {
   "cell_type": "markdown",
   "metadata": {},
   "source": [
    "## 5 Visualizing the data\n",
    "\n",
    "To explore each point, I will create separate plots and analysis\n",
    "\n",
    "### I - There is a negative correlation between GDP growth and total conflicts and fatalities, but this decreases significantly for protests:"
   ]
  },
  {
   "cell_type": "code",
   "execution_count": null,
   "metadata": {},
   "outputs": [],
   "source": [
    "#selecting only the relevant data and seeing the correlation with actual number\n",
    "df[['country',\n",
    "    'total conflicts 2019 per capita', \n",
    "    'total fatalities 2019 per capita',\n",
    "    'total Protests 2019 per capita',\n",
    "    'total Explosions/Remote violence 2019 per capita',\n",
    "    'total Battles 2019 per capita',\n",
    "    'GDP growth rate (annual %, const. 2005 prices)']].corr()"
   ]
  },
  {
   "cell_type": "markdown",
   "metadata": {},
   "source": [
    "The negative correlations goes from -.68 for explosions to -0.03 for protests, showing that in a country where explosions ocurr we can expect the GDP to contract"
   ]
  },
  {
   "cell_type": "code",
   "execution_count": null,
   "metadata": {},
   "outputs": [],
   "source": [
    "# Plotting explosions vs GDP growth\n",
    "explpergdp = df[['country','total Explosions/Remote violence 2019 per capita','GDP growth rate (annual %, const. 2005 prices)']]\n",
    "\n",
    "explpergdp.iplot( x='total Explosions/Remote violence 2019 per capita', y='GDP growth rate (annual %, const. 2005 prices)', \n",
    "                 categories='country',xTitle='total Explosions/Remote violence per capita', yTitle='GDP growth per year', \n",
    "                 title='Impact of war on GDP growth')\n"
   ]
  },
  {
   "cell_type": "markdown",
   "metadata": {},
   "source": [
    "the graph points go from upper right to lower left, indicating more explosions equal to more contraction of GDP\n",
    "\n",
    "### II - Education has a low to none correlation between fatalities, but increases for protests, thus more education more protests?\n",
    "\n",
    "In this second point I want to explore the diference in correlation between Eucation and Fatalities/Protests. \n",
    "\n",
    "I'm chosing the column \"terciary education (f per 100 pop.)\" as it has the largest correlation. \n",
    "\n",
    "I also find it interesting that higher education for women that is more correlated with the violence in a country, than other measures of education."
   ]
  },
  {
   "cell_type": "code",
   "execution_count": null,
   "metadata": {},
   "outputs": [],
   "source": [
    "eduvsprotes = df[['country','total Protests 2019 per capita','total fatalities 2019 per capita','Education: Tertiary gross enrol. ratio (f per 100 pop.)']] \n",
    "\n",
    "@interact(Selection=['total Protests 2019 per capita', 'total fatalities 2019 per capita'])\n",
    "def linechart(Selection):\n",
    "     eduvsprotes.iplot(kind='scatter',x=Selection, xTitle=Selection.title(),\n",
    "                       y='Education: Tertiary gross enrol. ratio (f per 100 pop.)',\n",
    "                       yTitle='terciary education (f per 100 pop.)',\n",
    "                       categories='country',\n",
    "                       title='Education vs ' + Selection.title())"
   ]
  },
  {
   "cell_type": "markdown",
   "metadata": {},
   "source": [
    "If we compare The graph for Education vs Fatalities against Education vs Protest, we see an important difference. Countries where women are less educated tend to have more fatalities per capita, while countries where women have received a higher level of education have more protests. The difference between these 2 types of conflict is very important, as one is much less violent than other. It seems then that countries where women are less educated tend more towards violence, and coutries with more education have less.\n",
    "\n",
    "### III - All the Armed conflict rows in the data are negatively correlated with labor force participation female pop %\n",
    "\n",
    "The third and last point on this analysis refers to the negative correlation between labor force participation of female population vs armed conflict.\n",
    "\n",
    "Same as in point 2, we can see that in countries were more of the female population is included in edcutation and labor, the amount of fatalities or violent events (battles / explosions) tends to diminish.\n",
    "\n",
    "More analysis is required to know which one is the cause and which one is the result (less battles more female education or more female education is less battles).\n",
    "\n",
    "I started with a histogram to see the frequency and tedency of this data."
   ]
  },
  {
   "cell_type": "code",
   "execution_count": null,
   "metadata": {},
   "outputs": [],
   "source": [
    "# selecting the relevant columns\n",
    "labvscon = df[['continent','total conflicts 2019 per capita', \n",
    "    'total fatalities 2019 per capita',\n",
    "    'total Protests 2019 per capita',\n",
    "    'total Explosions/Remote violence 2019 per capita',\n",
    "    'total Battles 2019 per capita',\n",
    "    'Labour force participation (female pop. %)']]\n",
    "\n",
    "sns.distplot(labvscon['Labour force participation (female pop. %)'],bins=10)"
   ]
  },
  {
   "cell_type": "markdown",
   "metadata": {},
   "source": [
    "As we can see in the above graph, the data is very disperse without a clear tendency. \n",
    "I chose to plot it below per continent to compare better between regions and see the deviations between them"
   ]
  },
  {
   "cell_type": "code",
   "execution_count": null,
   "metadata": {},
   "outputs": [],
   "source": [
    "# checking per continent the labour force participation\n",
    "labvscon.pivot_table(index='continent',values='Labour force participation (female pop. %)', aggfunc=(np.mean,np.std))"
   ]
  },
  {
   "cell_type": "code",
   "execution_count": null,
   "metadata": {},
   "outputs": [],
   "source": [
    "# plotting to visualize the data\n",
    "sns.boxplot(x=\"continent\", y='Labour force participation (female pop. %)', data=labvscon)\n",
    "plt.title(\"Labour force participation (female pop. %) per continent\")\n",
    "plt.xlabel('continents')   \n",
    "plt.ylabel('Labour force participation (female pop. %)')\n",
    "plt.show()"
   ]
  },
  {
   "cell_type": "markdown",
   "metadata": {},
   "source": [
    "We can see from the above boxplot that Latin America has a very narrow standard deviation, with most of the countries in this region behaving the same way (with 50% participation of female population in labor). There is some outliers, but most of the data is concentrated in the same sliver of 50% to 60%.\n",
    "Africa and the Middle East however have a larger standard deviation, with countries having different profiles. However the Middle East has clearly the lowest score on this graph, with an average of only 33%.\n",
    "\n",
    "Below is a comparison of the total conflicts vs the labor force participation of female population. This plot has a right skew, where we see that as labor increases, the total conflicts decrease. The Middle East countries tending towards the bottom half of the graph, meaning less labor participation of women and more conflicts."
   ]
  },
  {
   "cell_type": "code",
   "execution_count": null,
   "metadata": {},
   "outputs": [],
   "source": [
    "# plotting the data\n",
    "labvscon.corr()\n",
    "sns.scatterplot(x=\"total conflicts 2019 per capita\", y=\"Labour force participation (female pop. %)\", data=labvscon, hue='continent')\n",
    "plt.show()"
   ]
  },
  {
   "cell_type": "markdown",
   "metadata": {},
   "source": [
    "## 6 Conclussion: \n",
    "Does the fact that education and labor participation for women is the lowest in the Middle East, make it a more conflict ridden region? Does a higher level of education reduce fatalities and increases protests for regions with developing countries? \n",
    "\n",
    "Its hard to pull any hard conclussions on the reasosns WHY, since many elements (several of which are not evaluated or present in this data set) affect a country and the reasons for armed conflict. We can however see some clear correlations. I personally was surprised to see such strong correlations on gender and conflict. \n",
    "\n",
    "I would venture to say, that I walk away from this data set with much more confidence that including women in education and economy, is not only beneficial for women themselves, but for the entire population, the decrease of violence and the strive for peace."
   ]
  }
 ],
 "metadata": {
  "kernelspec": {
   "display_name": "Python 3",
   "language": "python",
   "name": "python3"
  },
  "language_info": {
   "codemirror_mode": {
    "name": "ipython",
    "version": 3
   },
   "file_extension": ".py",
   "mimetype": "text/x-python",
   "name": "python",
   "nbconvert_exporter": "python",
   "pygments_lexer": "ipython3",
   "version": "3.8.1"
  }
 },
 "nbformat": 4,
 "nbformat_minor": 4
}
