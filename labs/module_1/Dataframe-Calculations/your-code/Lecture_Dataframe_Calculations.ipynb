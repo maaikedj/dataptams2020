{
 "cells": [
  {
   "cell_type": "markdown",
   "metadata": {
    "Collapsed": "false",
    "colab_type": "text",
    "id": "-Xlh_oDC3yno"
   },
   "source": [
    "# Dataframe Calculations"
   ]
  },
  {
   "cell_type": "markdown",
   "metadata": {
    "Collapsed": "false",
    "colab_type": "text",
    "id": "hXn4pnk434S7"
   },
   "source": [
    "## Introduction\n",
    "There are cases where we might want to augment our Pandas DataFrame with calculated columns. Pandas enables us to perform these calculations and easily store them in a new column."
   ]
  },
  {
   "cell_type": "markdown",
   "metadata": {
    "Collapsed": "false",
    "colab_type": "text",
    "id": "A9MCoKJL38Tg"
   },
   "source": [
    "## Working with Constants \n",
    "\n",
    "We can add new calculated columns using an existing column and a constant value.\n",
    "\n",
    "Recall our animals dataset. We will use this dataset and create a new column that converts the body weight in pounds to kilograms."
   ]
  },
  {
   "cell_type": "code",
   "execution_count": null,
   "metadata": {
    "Collapsed": "false",
    "colab": {},
    "colab_type": "code",
    "id": "kLGslhxI3qTF"
   },
   "outputs": [],
   "source": [
    "import numpy as np\n",
    "import pandas as pd"
   ]
  },
  {
   "cell_type": "code",
   "execution_count": null,
   "metadata": {
    "Collapsed": "false",
    "colab": {},
    "colab_type": "code",
    "id": "K9CIG4eQ4DRO"
   },
   "outputs": [],
   "source": [
    "# Read animals \n",
    "animals = pd.read_csv('https://raw.githubusercontent.com/loukjsmalbil/datasets_ws/master/animals.csv')\n",
    "animals.head()"
   ]
  },
  {
   "cell_type": "code",
   "execution_count": null,
   "metadata": {
    "Collapsed": "false",
    "colab": {
     "base_uri": "https://localhost:8080/",
     "height": 204
    },
    "colab_type": "code",
    "id": "4SL4wM8X5Uft",
    "outputId": "80e94b42-1e7c-427f-b3e0-f60277209b6e"
   },
   "outputs": [],
   "source": [
    "# Multiply animals['bodywt'] by 0.45359237 and store in brainwtkg column\n",
    "animals['brainwtkg'] = animals['bodywt']  * 0.45359237\n",
    "\n",
    "animals.head()"
   ]
  },
  {
   "cell_type": "markdown",
   "metadata": {
    "Collapsed": "false",
    "colab_type": "text",
    "id": "_r9_DIt24GK6"
   },
   "source": [
    "Note that we used the head function to look at the first 5 rows for every column. We do this to confirm that the changes we made to the DataFrame worked as expected."
   ]
  },
  {
   "cell_type": "markdown",
   "metadata": {
    "Collapsed": "false",
    "colab_type": "text",
    "id": "EwG1Z4hp4Khw"
   },
   "source": [
    "## Combining Two (Or More) Columns\n",
    "\n",
    "We can perform calculations using a combination of two or more column. We write an equation that correctly refers to the columns in the DataFrame and assign the calculation to a new column.\n",
    "\n",
    "For example, we can compute the ratio of body weight to brain weight for all animals in our data and assign this value to a new column."
   ]
  },
  {
   "cell_type": "code",
   "execution_count": null,
   "metadata": {
    "Collapsed": "false",
    "colab": {
     "base_uri": "https://localhost:8080/",
     "height": 204
    },
    "colab_type": "code",
    "id": "ZCG3fSoK4IV4",
    "outputId": "ca482499-1e13-4a29-d625-605e9ee12012"
   },
   "outputs": [],
   "source": [
    "# Compute the ratio of animals['bodywt'] /  and animals['brainwt'] and store this as animals['wtratio']\n",
    "\n",
    "animals['wtratio'] = animals['bodywt'] / animals['brainwt']\n",
    "animals.head()"
   ]
  },
  {
   "cell_type": "markdown",
   "metadata": {
    "Collapsed": "false",
    "colab_type": "text",
    "id": "xXMokNUC4Tx7"
   },
   "source": [
    "## Conditional Calculations\n",
    "\n",
    "It is possible to perform more complex calculations. For example, you may have noticed that we used division in the previous example without checking whether the denominator is zero. This can cause quite a bit of problems. Therefore, we can introduce a condition in our assignment. If the brain weight is zero then the ratio will be zero, otherwise, store the ratio in the new column. We can create conditional functions using the where function in numpy. We pass 3 arguments to the function. The first argument is the condition, the second is the value in case the condition is true, and the third is the value in case the condition is false."
   ]
  },
  {
   "cell_type": "code",
   "execution_count": null,
   "metadata": {},
   "outputs": [],
   "source": [
    "# Make a new column with 'high' and 'low' values using np.where, where brainweight > 5\n",
    "\n",
    "animals['Low/High'] = np.where(animals['brainwtkg'] > 5, 'High', 'Low')\n",
    "\n",
    "animals"
   ]
  },
  {
   "cell_type": "code",
   "execution_count": null,
   "metadata": {},
   "outputs": [],
   "source": [
    "np.where(animals['brainwtkg'] > 5)"
   ]
  },
  {
   "cell_type": "markdown",
   "metadata": {
    "Collapsed": "false",
    "colab_type": "text",
    "id": "6hnhDIbQ4fT0"
   },
   "source": [
    "## Calculations Using Functions \n",
    "As we have learned in a previous lesson, Pandas DataFrames have 3 components: rows, columns and data. The rows and columns are also called axes. Axis zero is the row axis and axis one is the column axis. Therefore, we can apply functions to the column axis in order to summarize all columns at once.\n",
    "\n",
    "Let's say we want to take a sum of all numeric columns in the animals DataFrame. We can do this by using the sum function and passing axis=1as an argument to the function."
   ]
  },
  {
   "cell_type": "code",
   "execution_count": null,
   "metadata": {},
   "outputs": [],
   "source": [
    "animals = pd.read_csv('https://raw.githubusercontent.com/loukjsmalbil/datasets_ws/master/animals.csv')\n",
    "\n",
    "animals.head()"
   ]
  },
  {
   "cell_type": "code",
   "execution_count": null,
   "metadata": {
    "Collapsed": "false",
    "colab": {
     "base_uri": "https://localhost:8080/",
     "height": 221
    },
    "colab_type": "code",
    "id": "xW9lFBLe4cLV",
    "outputId": "5550cd2f-3fdf-439f-920d-157be3b638a8"
   },
   "outputs": [],
   "source": [
    "# Sum weight values\n",
    "animals['sum'] = animals[['brainwt', 'bodywt']].sum(axis=1)\n",
    "animals"
   ]
  },
  {
   "cell_type": "code",
   "execution_count": null,
   "metadata": {},
   "outputs": [],
   "source": [
    "# Simply add the two columns and create the column sum\n",
    "animals['Total'] = animals['brainwt'] + animals['bodywt']\n",
    "animals.head()"
   ]
  },
  {
   "cell_type": "markdown",
   "metadata": {
    "colab": {
     "base_uri": "https://localhost:8080/",
     "height": 317
    },
    "colab_type": "code",
    "id": "zHN-eTSikkqR",
    "outputId": "dcc6b0a9-8efa-4078-de0e-f0243f9e9085"
   },
   "source": [
    "## Other Useful Functionalities\n",
    "\n",
    "Apart from the basic operations we can carry out, Pandas also offers use usefull functionalities to improve the efficiency and effectiveness of the calculations. As we saw in the previous lecture, it requires us to "
   ]
  },
  {
   "cell_type": "code",
   "execution_count": null,
   "metadata": {},
   "outputs": [],
   "source": [
    "# Read csv cars\n",
    "cars = pd.read_csv('cars.csv')\n",
    "cars.head()"
   ]
  },
  {
   "cell_type": "code",
   "execution_count": null,
   "metadata": {
    "colab": {},
    "colab_type": "code",
    "id": "mdwqRI3qkn6M"
   },
   "outputs": [],
   "source": [
    "# Grouping the data: Make and Fuel Barrels/Year grouped by 'Make', obtaining the mean of Fuel Barrels/Year\n",
    "cars[['Make', 'Fuel Barrels/Year']].groupby('Make').mean()\n",
    "\n",
    "cars[['Make', 'Cylinders']].groupby('Make').mean()"
   ]
  },
  {
   "cell_type": "markdown",
   "metadata": {
    "colab_type": "text",
    "id": "ifYVEUFeo1V9"
   },
   "source": [
    "## Isin\n",
    "\n",
    "The isin-method is a very easy way to check whether some specific value is present and, subsequently, to make a subset out of that. "
   ]
  },
  {
   "cell_type": "code",
   "execution_count": null,
   "metadata": {},
   "outputs": [],
   "source": [
    "cars_years = cars[cars['Year'].isin(['2004'])]\n",
    "cars_years.head()"
   ]
  },
  {
   "cell_type": "code",
   "execution_count": null,
   "metadata": {},
   "outputs": [],
   "source": [
    "# Cars isin 2014\n",
    "cars[cars['Make'].isin(['Acura'])]"
   ]
  },
  {
   "cell_type": "markdown",
   "metadata": {
    "colab_type": "text",
    "id": "cmlTR5qBpBSR"
   },
   "source": [
    "## Iloc (and Loc)\n",
    "\n",
    "We have already discussed the .loc method where we located columns and rows on the basis of the values present. However, we can also use the .iloc method. Iloc is short for index locations and it is a powerful tool if we want to index based on column and row indices rather than on values and names -- it makes our procedure more generic. "
   ]
  },
  {
   "cell_type": "code",
   "execution_count": null,
   "metadata": {},
   "outputs": [],
   "source": [
    "cars.head()"
   ]
  },
  {
   "cell_type": "code",
   "execution_count": null,
   "metadata": {
    "colab": {},
    "colab_type": "code",
    "id": "2gSGjhDHpCCg"
   },
   "outputs": [],
   "source": [
    "# Use iloc here\n",
    "cars.iloc[18000,:]"
   ]
  },
  {
   "cell_type": "markdown",
   "metadata": {
    "colab_type": "text",
    "id": "CrEb5gukpMC_"
   },
   "source": [
    "# Sort Values\n",
    "\n",
    "The sort values, as the name suggests, lets you sort values. "
   ]
  },
  {
   "cell_type": "code",
   "execution_count": null,
   "metadata": {
    "colab": {},
    "colab_type": "code",
    "id": "ugUSxo4spOAl"
   },
   "outputs": [],
   "source": [
    "# Sort by year using .sort_values by method\n",
    "cars.sort_values(by = 'Drivetrain', ascending = True)"
   ]
  },
  {
   "cell_type": "markdown",
   "metadata": {
    "colab_type": "text",
    "id": "yrKpmF5UpV1h"
   },
   "source": [
    "## Count\n",
    "\n",
    "Another useful method is the .count method which allows us to see how many 'pieces' there are of a certain entity in our dataframe.  "
   ]
  },
  {
   "cell_type": "code",
   "execution_count": null,
   "metadata": {},
   "outputs": [],
   "source": [
    "cars[['Model', 'Year']].groupby('Year').count()"
   ]
  },
  {
   "cell_type": "code",
   "execution_count": null,
   "metadata": {
    "colab": {},
    "colab_type": "code",
    "id": "80nesdBCpXBd"
   },
   "outputs": [],
   "source": [
    "# Use count to determine how many different models were built in a certain year (use groupby('year'))\n",
    "cars[['Model', 'Year']].groupby('Year').count()"
   ]
  },
  {
   "cell_type": "code",
   "execution_count": null,
   "metadata": {},
   "outputs": [],
   "source": [
    "# Use value counts to determine the total amount of cars['Make'] \n",
    "cars['Make'].value_counts()"
   ]
  },
  {
   "cell_type": "markdown",
   "metadata": {
    "colab_type": "text",
    "id": "Wxk_3XZgpj_h"
   },
   "source": [
    "# Info() and isnull()\n",
    "\n",
    "The info method allows us to get useful information about the data base. For instance, how many columns are rows there are and what their types are. "
   ]
  },
  {
   "cell_type": "code",
   "execution_count": null,
   "metadata": {
    "colab": {},
    "colab_type": "code",
    "id": "ozkcbeF9pkrV"
   },
   "outputs": [],
   "source": [
    "# Info \n",
    "cars.info()"
   ]
  },
  {
   "cell_type": "markdown",
   "metadata": {},
   "source": [
    "Another very useful tool is the .isnull() method which locates the missing values (NaN in numeric arrays, None or NaN in object arrays, NaT in datetimelike). "
   ]
  },
  {
   "cell_type": "code",
   "execution_count": null,
   "metadata": {},
   "outputs": [],
   "source": [
    "# Read housing df\n",
    "housing = pd.read_csv('https://raw.githubusercontent.com/loukjsmalbil/datasets_ws/master/housing_prices.csv')\n",
    "housing"
   ]
  },
  {
   "cell_type": "code",
   "execution_count": null,
   "metadata": {},
   "outputs": [],
   "source": [
    "# Check for null values using isnull() and value_counts() for Alley\n",
    "housing['Alley'].isnull().value_counts()"
   ]
  },
  {
   "cell_type": "code",
   "execution_count": null,
   "metadata": {},
   "outputs": [],
   "source": [
    "# Check for null values using isnull() and value_counts() for Alley\n",
    "housing['Alley'].isna().value_counts()"
   ]
  },
  {
   "cell_type": "markdown",
   "metadata": {},
   "source": [
    "## Datetime\n",
    "\n",
    "Sometimes we want to convert the numerical types to datetime objects. "
   ]
  },
  {
   "cell_type": "code",
   "execution_count": null,
   "metadata": {},
   "outputs": [],
   "source": [
    "# Display the column types\n",
    "cars = pd.read_csv('cars.csv')\n",
    "cars.head()"
   ]
  },
  {
   "cell_type": "code",
   "execution_count": null,
   "metadata": {
    "colab": {
     "base_uri": "https://localhost:8080/",
     "height": 164
    },
    "colab_type": "code",
    "id": "pfJPfQmzpq68",
    "outputId": "96031b01-87e8-455f-c6dc-c35f21fcc4d3"
   },
   "outputs": [],
   "source": [
    "# convert year to datetime object using pd.to_datetime\n",
    "cars['Year']= pd.to_datetime(cars['Year'])\n",
    "cars.dtypes"
   ]
  },
  {
   "cell_type": "code",
   "execution_count": null,
   "metadata": {},
   "outputs": [],
   "source": []
  },
  {
   "cell_type": "markdown",
   "metadata": {
    "colab_type": "text",
    "id": "79SY6SwMqAoD"
   },
   "source": [
    "## Correlation\n",
    "\n",
    "We can also compute the correlation coefficient. "
   ]
  },
  {
   "cell_type": "code",
   "execution_count": null,
   "metadata": {
    "colab": {},
    "colab_type": "code",
    "id": "Iffv2_jhpr9P"
   },
   "outputs": [],
   "source": [
    "# Compute the correlation on the animals set using Pearson's method. \n",
    "animals_corr = animals.corr(method='pearson')\n",
    "\n",
    "#'pearson', 'spearman', 'kendall'\n",
    "animals_corr"
   ]
  },
  {
   "cell_type": "code",
   "execution_count": null,
   "metadata": {},
   "outputs": [],
   "source": [
    "housing_corr = housing.corr()\n",
    "housing_corr"
   ]
  },
  {
   "cell_type": "code",
   "execution_count": null,
   "metadata": {
    "colab": {},
    "colab_type": "code",
    "id": "fqgLcN20qCiJ"
   },
   "outputs": [],
   "source": [
    "# Obtain the variables correlated with animals_corr['brainwt'] and sort them\n",
    "housing_corr['SalePrice'].sort_values(ascending = False)"
   ]
  },
  {
   "cell_type": "markdown",
   "metadata": {
    "colab_type": "text",
    "id": "zhXbeLSoqVvm"
   },
   "source": [
    "# Unique method\n",
    "\n",
    "Lastly, we can obtain all unique values in a dataframe column. "
   ]
  },
  {
   "cell_type": "code",
   "execution_count": null,
   "metadata": {
    "colab": {},
    "colab_type": "code",
    "id": "agz-87puqW95"
   },
   "outputs": [],
   "source": [
    "# Select all unique car manufacturers\n",
    "cars['Make'].unique()"
   ]
  },
  {
   "cell_type": "markdown",
   "metadata": {
    "Collapsed": "false",
    "colab_type": "text",
    "id": "QjvXc_UH4naj"
   },
   "source": [
    "## Summary \n",
    "\n",
    "In this lesson we learned different ways to create calculated columns. We computed a new column by combining existing data with a constant. We also computed a calculated column using two existing columns as well as using a conditional function to create a calculated column. Finally, we applied one function to all columns at once by specifying to apply the function to axis=1."
   ]
  },
  {
   "cell_type": "code",
   "execution_count": null,
   "metadata": {},
   "outputs": [],
   "source": []
  },
  {
   "cell_type": "code",
   "execution_count": null,
   "metadata": {},
   "outputs": [],
   "source": []
  }
 ],
 "metadata": {
  "colab": {
   "collapsed_sections": [],
   "name": "Dataframe_Calculations.ipynb",
   "provenance": []
  },
  "kernelspec": {
   "display_name": "Python 3",
   "language": "python",
   "name": "python3"
  },
  "language_info": {
   "codemirror_mode": {
    "name": "ipython",
    "version": 3
   },
   "file_extension": ".py",
   "mimetype": "text/x-python",
   "name": "python",
   "nbconvert_exporter": "python",
   "pygments_lexer": "ipython3",
   "version": "3.7.6"
  }
 },
 "nbformat": 4,
 "nbformat_minor": 4
}
