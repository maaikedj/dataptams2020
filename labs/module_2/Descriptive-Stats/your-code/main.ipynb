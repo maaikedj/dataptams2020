{
 "cells": [
  {
   "cell_type": "markdown",
   "metadata": {
    "Collapsed": "false"
   },
   "source": [
    "# Understanding Descriptive Statistics\n",
    "\n",
    "Import the necessary libraries here:"
   ]
  },
  {
   "cell_type": "code",
   "execution_count": null,
   "metadata": {
    "Collapsed": "false"
   },
   "outputs": [],
   "source": [
    "# Libraries\n",
    "import pandas as pd\n",
    "import numpy as np\n",
    "from random import choices\n",
    "import matplotlib.pyplot as plt\n",
    "import seaborn as sns\n",
    "from itertools import groupby\n",
    "from random import randint"
   ]
  },
  {
   "cell_type": "markdown",
   "metadata": {
    "Collapsed": "false"
   },
   "source": [
    "## Challenge 1\n",
    "#### 1.- Define a function that simulates rolling a dice 10 times. Save the information in a dataframe.\n",
    "**Hint**: you can use the *choices* function from module *random* to help you with the simulation."
   ]
  },
  {
   "cell_type": "code",
   "execution_count": null,
   "metadata": {
    "Collapsed": "false"
   },
   "outputs": [],
   "source": [
    "# your code here\n",
    "#def roll(number):\n",
    "    #return pd.DataFrame({'Dice Roll': randint(1, 6) for x in range(number)}, index=[1])   \n",
    "#results = roll(10)\n",
    "#results\n",
    "#this works, but only gives me one roll\n",
    "#def roll():\n",
    "    #return pd.DataFrame({'Dice Roll': choices([1,2,3,4,5,6], k = 10)}, index =[1]\n",
    "#gives me index issues: ValueError: Shape of passed values is (10, 1), indices imply (1, 1)\n",
    "    #return pd.DataFrame({'Dice Roll': choices([1,2,3,4,5,6], k = 10)})\n",
    "#index starts with 0 \n",
    "def roll():\n",
    "      return pd.DataFrame({'Dice Roll': choices([1,2,3,4,5,6], k = 10)})\n",
    "    #DataFrame.index = np.arange(1, len(DataFrame))\n",
    "#name 'DataFrame' is not defined\n",
    "results = roll()\n",
    "results\n"
   ]
  },
  {
   "cell_type": "markdown",
   "metadata": {
    "Collapsed": "false"
   },
   "source": [
    "#### 2.- Plot the results sorted by value."
   ]
  },
  {
   "cell_type": "code",
   "execution_count": null,
   "metadata": {
    "Collapsed": "false"
   },
   "outputs": [],
   "source": [
    "# your code here\n",
    "sort = results.sort_values('Dice Roll')\n",
    "sort.plot(kind='bar', rot = 0)"
   ]
  },
  {
   "cell_type": "markdown",
   "metadata": {
    "Collapsed": "false"
   },
   "source": [
    "#### 3.- Calculate the frequency distribution and plot it. What is the relation between this plot and the plot above? Describe it with words."
   ]
  },
  {
   "cell_type": "code",
   "execution_count": null,
   "metadata": {
    "Collapsed": "false"
   },
   "outputs": [],
   "source": [
    "# your code here\n",
    "sort.plot.hist()"
   ]
  },
  {
   "cell_type": "code",
   "execution_count": null,
   "metadata": {
    "Collapsed": "false"
   },
   "outputs": [],
   "source": [
    "\"\"\"\n",
    "The first plot shows results/try, the second - the frequency of getting a certain result \n",
    "I am not sure why the graphs are different - the frequency is showing differently in the 2nd graph \n",
    "\"\"\"\n",
    "#Paolo: do these plots make sense to you? They are showing the same information but in a different way. The first one\n",
    "# is not a real freq distribution but tells you which number came out at which throw (for example, number 6 came out at throw number 8)\n",
    "# and it is sorted. The frequency distribution aggregates everything and tells you how many times a certain number came out\n",
    "# over the entire course of the experiment ( roll of dice 10 times). Does it make sense to you?"
   ]
  },
  {
   "cell_type": "markdown",
   "metadata": {
    "Collapsed": "false"
   },
   "source": [
    "## Challenge 2\n",
    "Now, using the dice results obtained in *challenge 1*, your are going to define some functions that will help you calculate the mean of your data in two different ways, the median and the four quartiles. \n",
    "\n",
    "#### 1.- Define a function that computes the mean by summing all the observations and dividing by the total number of observations. You are not allowed to use any methods or functions that directly calculate the mean value. "
   ]
  },
  {
   "cell_type": "code",
   "execution_count": null,
   "metadata": {
    "Collapsed": "false"
   },
   "outputs": [],
   "source": [
    "# your code here\n",
    "def mean(DataFrame, col):\n",
    "    return sum(DataFrame[col])/len(DataFrame.index)\n",
    "mean(sort, 'Dice Roll')"
   ]
  },
  {
   "cell_type": "markdown",
   "metadata": {
    "Collapsed": "false"
   },
   "source": [
    "#### 2.- First, calculate the frequency distribution. Then, calculate the mean using the values of the frequency distribution you've just computed. You are not allowed to use any methods or functions that directly calculate the mean value. "
   ]
  },
  {
   "cell_type": "code",
   "execution_count": null,
   "metadata": {
    "Collapsed": "false"
   },
   "outputs": [],
   "source": [
    "# your code here\n",
    "freqency = results['Dice Roll'].value_counts().reset_index()\n",
    "#calculating the mean\n",
    "(freqency['index'] * freqency['Dice Roll']).sum() / freqency['Dice Roll'].sum()"
   ]
  },
  {
   "cell_type": "markdown",
   "metadata": {
    "Collapsed": "false"
   },
   "source": [
    "#### 3.- Define a function to calculate the median. You are not allowed to use any methods or functions that directly calculate the median value. \n",
    "**Hint**: you might need to define two computation cases depending on the number of observations used to calculate the median."
   ]
  },
  {
   "cell_type": "code",
   "execution_count": null,
   "metadata": {
    "Collapsed": "false"
   },
   "outputs": [],
   "source": [
    "# your code here\n",
    "#attempt 1\n",
    " #def median(df, col):\n",
    "     #df.sort_values(inplace=True)\n",
    "     #if len(df.index)%2 == 0:\n",
    "            #x = df.iloc[int((len(df.index)/2)-1:int((len(df.index)/2)+1].sum() /2\n",
    "     #else:\n",
    "             #x = results['Dice Roll'].iloc[int((df.index)/2)]\n",
    "             #return x\n",
    "\n",
    " #results.apply(median, results['Dice Roll'])\n",
    "#gives me an error 'Series' objects are mutable, thus they cannot be hashed - that is because those are intergers, not a list "
   ]
  },
  {
   "cell_type": "code",
   "execution_count": null,
   "metadata": {
    "Collapsed": "false"
   },
   "outputs": [],
   "source": [
    "#attempt 2 \n",
    "def median(df, col):\n",
    "    if len(df.index) % 2 == 0:\n",
    "        #return df.nsmallest((len(df.index), 'Dice Roll')\n",
    "        #if I run this I get a syntax error - not sure how to solve here \n",
    "        return (df.iloc[int(len(df.index)/2) -1][col] + df.iloc[int(len(df.index)/2)][col])/2\n",
    "    return df.iloc[int(len(df.index)/2)][col]\n",
    "\n",
    "median(sort, 'Dice Roll')"
   ]
  },
  {
   "cell_type": "markdown",
   "metadata": {
    "Collapsed": "false"
   },
   "source": [
    "#### 4.- Define a function to calculate the four quartiles. You can use the function you defined above to compute the median but you are not allowed to use any methods or functions that directly calculate the quartiles. "
   ]
  },
  {
   "cell_type": "code",
   "execution_count": null,
   "metadata": {
    "Collapsed": "false"
   },
   "outputs": [],
   "source": [
    "# your code here\n",
    "def quartile(df,col):   \n",
    "    y = df.iloc[int(len(df.index)/2)]\n",
    "    begin = df.iloc[:y]\n",
    "    end = df.iloc[y:]\n",
    "    quartile1= median(begin)\n",
    "    quartile2 = median(int(len(df.index))\n",
    "    quartile3 = median(end)\n",
    "    return  quartile1,quartile2, quartile3\n",
    "\n",
    "sort.apply(quartile)\n",
    " #yields syntax errors \n",
    "                    #I'm not sure how to proceed here, and would appreciate comments :) I will push the lab as is with hopes for feedback.\n",
    "#Paolo: \n",
    "#1- yes, you get the error because in the definition quartile2 you missed to close a bracket. \n",
    "#2-  You define quartile(df,col) but you do not use col in the body of the fucntion, what is it for?\n",
    "#3 You could add docstrings to the function to explain what it does\n",
    "                "
   ]
  },
  {
   "cell_type": "markdown",
   "metadata": {
    "Collapsed": "false"
   },
   "source": [
    "## Challenge 3\n",
    "Read the csv `roll_the_dice_hundred.csv` from [here](https://drive.google.com/file/d/1mDz-pl6Dpp0fvrXqkFTosuaW3mw6tfWP/view?usp=sharing), place it in the `data` folder and load it\n",
    "#### 1.- Sort the values and plot them. What do you see?"
   ]
  },
  {
   "cell_type": "code",
   "execution_count": null,
   "metadata": {
    "Collapsed": "false"
   },
   "outputs": [],
   "source": [
    "# your code here\n",
    "rolls = pd.read_csv('../data/roll_the_dice_hundred.csv')\n",
    "rolls.sort_values('value')['value'].plot.bar()"
   ]
  },
  {
   "cell_type": "code",
   "execution_count": null,
   "metadata": {
    "Collapsed": "false"
   },
   "outputs": [],
   "source": [
    "\"\"\"\n",
    "The graph shows how many times a given value was rolled \n",
    "\"\"\""
   ]
  },
  {
   "cell_type": "markdown",
   "metadata": {
    "Collapsed": "false"
   },
   "source": [
    "#### 2.- Using the functions you defined in *challenge 2*, calculate the mean value of the hundred dice rolls."
   ]
  },
  {
   "cell_type": "code",
   "execution_count": null,
   "metadata": {
    "Collapsed": "false"
   },
   "outputs": [],
   "source": [
    "# your code here\n",
    "mean(rolls, 'value')"
   ]
  },
  {
   "cell_type": "markdown",
   "metadata": {
    "Collapsed": "false"
   },
   "source": [
    "#### 3.- Now, calculate the frequency distribution.\n"
   ]
  },
  {
   "cell_type": "code",
   "execution_count": null,
   "metadata": {
    "Collapsed": "false"
   },
   "outputs": [],
   "source": [
    "# your code here\n",
    "frequency_rolls = [len(list(group)) for key, group in groupby(rolls.sort_values(by='value')['value'])]\n",
    "frequency_rolls"
   ]
  },
  {
   "cell_type": "markdown",
   "metadata": {
    "Collapsed": "false"
   },
   "source": [
    "#### 4.- Plot the histogram. What do you see (shape, values...) ? How can you connect the mean value to the histogram? "
   ]
  },
  {
   "cell_type": "code",
   "execution_count": null,
   "metadata": {
    "Collapsed": "false"
   },
   "outputs": [],
   "source": [
    "# your code here\n",
    "rolls.pivot_table(index='value', values='roll', aggfunc='count').plot.bar(rot = 0)"
   ]
  },
  {
   "cell_type": "code",
   "execution_count": null,
   "metadata": {
    "Collapsed": "false"
   },
   "outputs": [],
   "source": [
    "\"\"\"\n",
    "The data is divided into two, at the range 1-3 & 4-6. \n",
    "The latter shows higher frequency, but also higher distribution difference on avg. \n",
    "\n",
    "\"\"\""
   ]
  },
  {
   "cell_type": "markdown",
   "metadata": {
    "Collapsed": "false"
   },
   "source": [
    "#### 5 Read the `roll_the_dice_thousand.csv` from <br> \n",
    "[here](https://drive.google.com/file/d/1zYzEcKL1tA69WCACG8WhTEr7m9fojClZ/view?usp=sharing), place it in the `data` folder and load it. \n",
    "Plot the frequency distribution as you did before. Has anything changed? Why do you think it changed?"
   ]
  },
  {
   "cell_type": "code",
   "execution_count": null,
   "metadata": {
    "Collapsed": "false"
   },
   "outputs": [],
   "source": [
    "# your code here\n",
    "rolls = pd.read_csv('../data/roll_the_dice_thousand.csv')\n",
    "rolls.sort_values('value')['value'].plot.bar()\n",
    "#Paolo: this is sorted by value, but it is not the frequency distribution, could you plot the frequency distribution?\n",
    "#The freq. distribution is the histogramme of how many times a certain number was rolled"
   ]
  },
  {
   "cell_type": "code",
   "execution_count": null,
   "metadata": {
    "Collapsed": "false"
   },
   "outputs": [],
   "source": [
    "\"\"\"\n",
    "Over the time separation becomes more apparent, with some outliers defined. The plot is skewed towards the highest values, as it was in the case of the second graph. Here, the linear growth is more pronounced. \n",
    "\"\"\"\n",
    "#Paolo: try to plot the freq. distribution"
   ]
  },
  {
   "cell_type": "markdown",
   "metadata": {
    "Collapsed": "false"
   },
   "source": [
    "## Challenge 4\n",
    "In the `data` folder of this repository you will find three different files with the prefix `ages_population`. These files contain information about a poll answered by a thousand people regarding their age. Each file corresponds to the poll answers in different neighbourhoods of Barcelona.\n",
    "\n",
    "#### 1.- Read the file `ages_population.csv`\n",
    "\n",
    "from [here](https://drive.google.com/file/d/1sHr5-fnvn9oBvxu3tlR4ANCnQHDV-bUc/view?usp=sharing), place it in the data folder and load it. <br>\n",
    "Calculate the frequency distribution and plot it as we did during the lesson. Try to guess the range in which the mean and the standard deviation will be by looking at the plot. "
   ]
  },
  {
   "cell_type": "code",
   "execution_count": null,
   "metadata": {
    "Collapsed": "false"
   },
   "outputs": [],
   "source": [
    "# your code here\n",
    "ages = pd.read_csv('../data/ages_population.csv')\n",
    "ages.plot.hist()\n",
    "#mean seems to be between 35 and 40 \n",
    "#std can be between 10-20\n",
    "#Paolo: yes, this is a frequncy distribution, can you plot a similar plot from variable 'rolls' from above?"
   ]
  },
  {
   "cell_type": "markdown",
   "metadata": {
    "Collapsed": "false"
   },
   "source": [
    "#### 2.- Calculate the exact mean and standard deviation and compare them with your guesses. Do they fall inside the ranges you guessed?"
   ]
  },
  {
   "cell_type": "code",
   "execution_count": null,
   "metadata": {
    "Collapsed": "false"
   },
   "outputs": [],
   "source": [
    "# your code here\n",
    "print(ages['observation'].mean())\n",
    "print(ages['observation'].std())"
   ]
  },
  {
   "cell_type": "code",
   "execution_count": null,
   "metadata": {
    "Collapsed": "false"
   },
   "outputs": [],
   "source": [
    "\"\"\"\n",
    "Mean falls within my guess, but I did think that std would be closer to 20 \n",
    "\"\"\""
   ]
  },
  {
   "cell_type": "markdown",
   "metadata": {
    "Collapsed": "false"
   },
   "source": [
    "#### 3.- Now read the file `ages_population2.csv` \n",
    "from [here](https://drive.google.com/file/d/1RWGflLnwLOgZICUnrc9COzj3qcUeJP0X/view?usp=sharing) place it in the data folder and load it.  Calculate the frequency distribution and plot it."
   ]
  },
  {
   "cell_type": "code",
   "execution_count": null,
   "metadata": {
    "Collapsed": "false"
   },
   "outputs": [],
   "source": [
    "# your code here\n",
    "ages2 = pd.read_csv('../data/ages_population2.csv')\n",
    "ages2.plot.hist()"
   ]
  },
  {
   "cell_type": "markdown",
   "metadata": {
    "Collapsed": "false"
   },
   "source": [
    "####  4.- What do you see? Is there any difference with the frequency distribution in step 1?"
   ]
  },
  {
   "cell_type": "code",
   "execution_count": null,
   "metadata": {
    "Collapsed": "false"
   },
   "outputs": [],
   "source": [
    "\"\"\"\n",
    "Yes, the distribution has a far higher peak at the center of the graph and is less normally distibuted than in step 1. \n",
    "\"\"\""
   ]
  },
  {
   "cell_type": "markdown",
   "metadata": {
    "Collapsed": "false"
   },
   "source": [
    "#### 5.- Calculate the mean and standard deviation. Compare the results with the mean and standard deviation in step 2. What do you think?"
   ]
  },
  {
   "cell_type": "code",
   "execution_count": null,
   "metadata": {
    "Collapsed": "false"
   },
   "outputs": [],
   "source": [
    "# your code here\n",
    "print(ages2['observation'].mean())\n",
    "print(ages2['observation'].std())"
   ]
  },
  {
   "cell_type": "code",
   "execution_count": null,
   "metadata": {
    "Collapsed": "false"
   },
   "outputs": [],
   "source": [
    "\"\"\"\n",
    "The range in step 1 is 0; ~80.00>, while the range in step 2 is ~<20.00; ~35.00>. \n",
    "The mean and std are (respectfully),36.56; 12.82  & 27.16; 2.97 (rounded to 2 dec. places)\n",
    "In the first case, the mean is closer to the middle of the range (40.00) and in the second case, it is higher than the middle (17.5). \n",
    "The std is bigger in the first case than in the latter. \n",
    "This suggests that the frequency distribution of 'ages' is more normally distributed than 'ages2'. \n",
    "\"\"\"\n",
    "#Paolo:what do you mean the range is 0?\n",
    "#Paolo: why is the middle of the range 17.5?"
   ]
  },
  {
   "cell_type": "markdown",
   "metadata": {
    "Collapsed": "false"
   },
   "source": [
    "## Challenge 5\n",
    "Now is the turn of `ages_population3.csv`.\n",
    "\n",
    "#### 1.- Read the file `ages_population3.csv` \n",
    "from [here](https://drive.google.com/file/d/1knUGLeVUADYUXYqq_Ap48oTtLKkjHCNv/view?usp=sharing) and place it in the data folder. Calculate the frequency distribution and plot it."
   ]
  },
  {
   "cell_type": "code",
   "execution_count": null,
   "metadata": {
    "Collapsed": "false"
   },
   "outputs": [],
   "source": [
    "# your code here\n",
    "ages3 = pd.read_csv('../data/ages_population3.csv')\n",
    "ages3.plot.hist()"
   ]
  },
  {
   "cell_type": "markdown",
   "metadata": {
    "Collapsed": "false"
   },
   "source": [
    "#### 2.- Calculate the mean and standard deviation. Compare the results with the plot in step 1. What is happening?"
   ]
  },
  {
   "cell_type": "code",
   "execution_count": null,
   "metadata": {
    "Collapsed": "false"
   },
   "outputs": [],
   "source": [
    "# your code here\n",
    "print(ages3['observation'].mean())\n",
    "print(ages3['observation'].std())"
   ]
  },
  {
   "cell_type": "code",
   "execution_count": null,
   "metadata": {
    "Collapsed": "false"
   },
   "outputs": [],
   "source": [
    "\"\"\"\n",
    "The ranges in both steps are the same. \n",
    "The mean and std are (respectfully),36.56; 12.82  & 41.99; 16.14 (rounded to 2 dec. places)\n",
    "In both cases, the mean is close to the middle of the range (40.00), with the second case having a lesser difference (respectfully 3.44 and 1.99). \n",
    "The std is bigger in the second case than in the first. \n",
    "This suggests that the frequency distribution of 'ages3' is more varied. \n",
    "\"\"\"\n",
    "#Paolo: what do you think about the two peaks in the distribution?"
   ]
  },
  {
   "cell_type": "markdown",
   "metadata": {
    "Collapsed": "false"
   },
   "source": [
    "#### 3.- Calculate the four quartiles. Use the results to explain your reasoning for question in step 2. How much of a difference is there between the median and the mean?"
   ]
  },
  {
   "cell_type": "code",
   "execution_count": null,
   "metadata": {
    "Collapsed": "false"
   },
   "outputs": [],
   "source": [
    "# your code here\n",
    "print(np.percentile(ages3['observation'], 25)) # Q1\n",
    "print(np.percentile(ages3['observation'], 50)) # median\n",
    "print(np.percentile(ages3['observation'], 75)) #Q3"
   ]
  },
  {
   "cell_type": "code",
   "execution_count": null,
   "metadata": {
    "Collapsed": "false"
   },
   "outputs": [],
   "source": [
    "\"\"\"\n",
    "Median: 40.0\n",
    "Mean: 41.99\n",
    "Difference: 1.99\n",
    "\"\"\""
   ]
  },
  {
   "cell_type": "markdown",
   "metadata": {
    "Collapsed": "false"
   },
   "source": [
    "#### 4.- Calculate other percentiles that might be useful to give more arguments to your reasoning."
   ]
  },
  {
   "cell_type": "code",
   "execution_count": null,
   "metadata": {
    "Collapsed": "false"
   },
   "outputs": [],
   "source": [
    "# your code here\n",
    "print (ages3['observation'].quantile(0.1))\n",
    "print(ages3['observation'].quantile(0.2))"
   ]
  },
  {
   "cell_type": "code",
   "execution_count": null,
   "metadata": {
    "Collapsed": "false"
   },
   "outputs": [],
   "source": [
    "\"\"\"\n",
    "#Need to ammend when the 1st quartile calculations work. Now I can't really compare them. \n",
    "\"\"\""
   ]
  },
  {
   "cell_type": "markdown",
   "metadata": {
    "Collapsed": "false"
   },
   "source": [
    "## Bonus challenge\n",
    "Compare the information about the three neighbourhoods. Prepare a report about the three of them. Remember to find out which are their similarities and their differences backing your arguments in basic statistics."
   ]
  },
  {
   "cell_type": "code",
   "execution_count": null,
   "metadata": {
    "Collapsed": "false"
   },
   "outputs": [],
   "source": [
    "# your code here"
   ]
  },
  {
   "cell_type": "code",
   "execution_count": null,
   "metadata": {
    "Collapsed": "false"
   },
   "outputs": [],
   "source": [
    "\"\"\"\n",
    "your comments here\n",
    "\"\"\""
   ]
  }
 ],
 "metadata": {
  "kernelspec": {
   "display_name": "Python 3",
   "language": "python",
   "name": "python3"
  },
  "language_info": {
   "codemirror_mode": {
    "name": "ipython",
    "version": 3
   },
   "file_extension": ".py",
   "mimetype": "text/x-python",
   "name": "python",
   "nbconvert_exporter": "python",
   "pygments_lexer": "ipython3",
   "version": "3.7.7"
  }
 },
 "nbformat": 4,
 "nbformat_minor": 4
}
