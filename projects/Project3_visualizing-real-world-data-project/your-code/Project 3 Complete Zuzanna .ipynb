{
 "cells": [
  {
   "cell_type": "code",
   "execution_count": null,
   "metadata": {},
   "outputs": [],
   "source": [
    "#importing necessary databases \n",
    "import pandas as pd\n",
    "import glob\n",
    "import matplotlib.pyplot as plt\n",
    "%matplotlib inline\n",
    "import numpy as np\n",
    "import seaborn as sns\n",
    "import os \n",
    "from functools import reduce"
   ]
  },
  {
   "cell_type": "code",
   "execution_count": null,
   "metadata": {},
   "outputs": [],
   "source": [
    "#importing indiegogo datasets\n",
    "indiegogo1 = pd.read_csv(r'C:\\Users\\Zuzanna\\Documents\\Git\\dataptams2020\\projects\\Project3_visualizing-real-world-data-project\\data\\indiegogo\\Indiegogo_2016-05-14.csv')\n",
    "indiegogo1.head()"
   ]
  },
  {
   "cell_type": "code",
   "execution_count": null,
   "metadata": {},
   "outputs": [],
   "source": [
    "indiegogo2 = pd.read_csv(r'C:\\Users\\Zuzanna\\Documents\\Git\\dataptams2020\\projects\\Project3_visualizing-real-world-data-project\\data\\indiegogo\\Indiegogo_2016-06-14.csv')\n",
    "indiegogo3 = pd.read_csv(r'C:\\Users\\Zuzanna\\Documents\\Git\\dataptams2020\\projects\\Project3_visualizing-real-world-data-project\\data\\indiegogo\\Indiegogo_2016-07-14.csv')\n",
    "indiegogo4 = pd.read_csv(r'C:\\Users\\Zuzanna\\Documents\\Git\\dataptams2020\\projects\\Project3_visualizing-real-world-data-project\\data\\indiegogo\\Indiegogo_2016-08-14.csv')\n",
    "indiegogo5 = pd.read_csv(r'C:\\Users\\Zuzanna\\Documents\\Git\\dataptams2020\\projects\\Project3_visualizing-real-world-data-project\\data\\indiegogo\\Indiegogo_2016-09-14.csv')\n",
    "indiegogo6 = pd.read_csv(r'C:\\Users\\Zuzanna\\Documents\\Git\\dataptams2020\\projects\\Project3_visualizing-real-world-data-project\\data\\indiegogo\\Indiegogo_2016-10-14.csv')\n",
    "indiegogo7 = pd.read_csv(r'C:\\Users\\Zuzanna\\Documents\\Git\\dataptams2020\\projects\\Project3_visualizing-real-world-data-project\\data\\indiegogo\\Indiegogo_2016-11-12.csv')\n",
    "indiegogo8 = pd.read_csv(r'C:\\Users\\Zuzanna\\Documents\\Git\\dataptams2020\\projects\\Project3_visualizing-real-world-data-project\\data\\indiegogo\\Indiegogo_2016-12-15.csv')\n",
    "indiegogo9 = pd.read_csv(r'C:\\Users\\Zuzanna\\Documents\\Git\\dataptams2020\\projects\\Project3_visualizing-real-world-data-project\\data\\indiegogo\\Indiegogo_2017-01-15.csv')\n",
    "indiegogo10 = pd.read_csv(r'C:\\Users\\Zuzanna\\Documents\\Git\\dataptams2020\\projects\\Project3_visualizing-real-world-data-project\\data\\indiegogo\\Indiegogo_2017-02-16.csv')\n",
    "indiegogo11 = pd.read_csv(r'C:\\Users\\Zuzanna\\Documents\\Git\\dataptams2020\\projects\\Project3_visualizing-real-world-data-project\\data\\indiegogo\\Indiegogo_2017-03-15.csv')\n",
    "indiegogo12 = pd.read_csv(r'C:\\Users\\Zuzanna\\Documents\\Git\\dataptams2020\\projects\\Project3_visualizing-real-world-data-project\\data\\indiegogo\\Indiegogo_2017-04-15.csv')"
   ]
  },
  {
   "cell_type": "code",
   "execution_count": null,
   "metadata": {},
   "outputs": [],
   "source": [
    "#merge df\n",
    "data_frames = [indiegogo1, indiegogo2, indiegogo3, indiegogo4, indiegogo5, indiegogo6, indiegogo7, indiegogo8, indiegogo9, indiegogo10, indiegogo11, indiegogo12]\n",
    "indiegogo_merged = reduce(lambda  left,right: pd.merge(left,right,on=['id'],\n",
    "                                            how='outer'), data_frames).fillna('void')"
   ]
  },
  {
   "cell_type": "code",
   "execution_count": null,
   "metadata": {},
   "outputs": [],
   "source": [
    "indiegogo_merged.dtypes"
   ]
  },
  {
   "cell_type": "code",
   "execution_count": null,
   "metadata": {},
   "outputs": [],
   "source": [
    "indiegogo_merged.head()"
   ]
  },
  {
   "cell_type": "code",
   "execution_count": null,
   "metadata": {},
   "outputs": [],
   "source": [
    "#importing kickstarter datasets \n",
    "kickstarter1 = pd.read_csv(r'C:\\Users\\Zuzanna\\Documents\\Git\\dataptams2020\\projects\\Project3_visualizing-real-world-data-project\\data\\kickstarter\\ks-projects-201612.csv')\n",
    "kickstarter2 = pd.read_csv(r'C:\\Users\\Zuzanna\\Documents\\Git\\dataptams2020\\projects\\Project3_visualizing-real-world-data-project\\data\\kickstarter\\ks-projects-201801.csv')\n",
    "kickstarter2.head()"
   ]
  },
  {
   "cell_type": "code",
   "execution_count": null,
   "metadata": {},
   "outputs": [],
   "source": [
    "#merge df \n",
    "data_frames2 = [kickstarter1, kickstarter2]\n",
    "kickstarter_merged = reduce(lambda  left,right: pd.merge(left,right,on=['ID'],\n",
    "                                            how='outer'), data_frames).fillna('void')"
   ]
  },
  {
   "cell_type": "code",
   "execution_count": null,
   "metadata": {},
   "outputs": [],
   "source": [
    "kickstarter_merged.dtypes "
   ]
  },
  {
   "cell_type": "code",
   "execution_count": null,
   "metadata": {},
   "outputs": [],
   "source": [
    "kickstarter_merged.head()"
   ]
  },
  {
   "cell_type": "code",
   "execution_count": null,
   "metadata": {},
   "outputs": [],
   "source": [
    "#kickstarter - Category visualization: number of projects per category \n",
    "#barplot\n",
    "kickstarter_merged['category'].value_counts().plot(kind='bar')\n",
    "\n",
    "# Add labels to the plot and change xticks rotation\n",
    "plt.title('Kickstarter: Number of Projects per Category')\n",
    "plt.xlabel('Category')\n",
    "plt.ylabel('Number of projects')\n",
    "plt.xticks(rotation=20)\n",
    "\n",
    "# Show the plot\n",
    "plt.show"
   ]
  },
  {
   "cell_type": "code",
   "execution_count": null,
   "metadata": {},
   "outputs": [],
   "source": [
    "#kickstarter - Category visualization: category vs failed/successful \n",
    "# Create a figure of a fixed size and axes\n",
    "fig, axs = plt.subplots(1,2, figsize=(15,10))\n",
    "x = kickstarter_merged['category']\n",
    "y = kickstarter_merged['state']\n",
    "\n",
    "axs[0].plot(x, y)\n",
    "\n",
    "\n",
    "# Add labels, title, etc\n",
    "axs[0].set_title('Kickstarter: Category vs Success')\n",
    "axs[0].set_xlabel('Category')\n",
    "axs[0].set_ylabel('Success or Failure of a Project')\n",
    "plt.show()\n",
    "# Save the figure\n",
    "\n",
    "plt.savefig('CategoryvsSuccess/Failure.png')"
   ]
  },
  {
   "cell_type": "code",
   "execution_count": null,
   "metadata": {},
   "outputs": [],
   "source": [
    "#kickstarter - Category visualization: category vs country \n",
    "fig, axs = plt.subplots(1,2, figsize=(15,10))\n",
    "x = kickstarter_merged['category']\n",
    "y = kickstarter_merged['contry']\n",
    "\n",
    "axs[0].plot(x, y)\n",
    "\n",
    "\n",
    "# Add labels, title, etc\n",
    "axs[0].set_title('Kickstarter: Category vs Country')\n",
    "axs[0].set_xlabel('Category')\n",
    "axs[0].set_ylabel('Category of a Project vs Country')\n",
    "plt.show()"
   ]
  },
  {
   "cell_type": "code",
   "execution_count": null,
   "metadata": {},
   "outputs": [],
   "source": [
    "#kickstarter - Country vs failed/successful \n",
    "fig, axs = plt.subplots(1,2, figsize=(15,10))\n",
    "x = kickstarter_merged['category']\n",
    "y = kickstarter_merged['state']\n",
    "\n",
    "axs[0].plot(x, y)\n",
    "\n",
    "\n",
    "# Add labels, title, etc\n",
    "axs[0].set_title('Kickstarter: Category vs Success')\n",
    "axs[0].set_xlabel('Category')\n",
    "axs[0].set_ylabel('Success or Failure of a Project')\n",
    "plt.show()"
   ]
  },
  {
   "cell_type": "code",
   "execution_count": null,
   "metadata": {},
   "outputs": [],
   "source": [
    "#indiegogo - Category vs Collected percentage\n",
    "fig, axs = plt.subplots(1,2, figsize=(15,10))\n",
    "x = indiegogo_merged['category_name']\n",
    "y = indiegogo_merged['collected_percentage']\n",
    "\n",
    "axs[0].plot(x, y)\n",
    "\n",
    "\n",
    "# Add labels, title, etc\n",
    "axs[0].set_title('Indiegogo: Category vs Success')\n",
    "axs[0].set_xlabel('Category')\n",
    "axs[0].set_ylabel('Collected percentage')\n",
    "plt.show()"
   ]
  },
  {
   "cell_type": "code",
   "execution_count": null,
   "metadata": {},
   "outputs": [],
   "source": [
    "#indiegogo - Category vs Currency code [country]\n",
    "fig, axs = plt.subplots(1,2, figsize=(15,10))\n",
    "x = indiegogo_merged['category_name']\n",
    "y = indiegogo_merged['currency_code']\n",
    "\n",
    "axs[0].plot(x, y)\n",
    "\n",
    "\n",
    "# Add labels, title, etc\n",
    "axs[0].set_title('Indiegogo: Category vs Currency Code ')\n",
    "axs[0].set_xlabel('Category')\n",
    "axs[0].set_ylabel('Currency Code')\n",
    "plt.show()"
   ]
  },
  {
   "cell_type": "code",
   "execution_count": null,
   "metadata": {},
   "outputs": [],
   "source": []
  }
 ],
 "metadata": {
  "kernelspec": {
   "display_name": "Python 3",
   "language": "python",
   "name": "python3"
  },
  "language_info": {
   "codemirror_mode": {
    "name": "ipython",
    "version": 3
   },
   "file_extension": ".py",
   "mimetype": "text/x-python",
   "name": "python",
   "nbconvert_exporter": "python",
   "pygments_lexer": "ipython3",
   "version": "3.7.6"
  }
 },
 "nbformat": 4,
 "nbformat_minor": 4
}
