{
 "cells": [
  {
   "cell_type": "code",
   "execution_count": null,
   "metadata": {},
   "outputs": [],
   "source": [
    "import random\n",
    "import time\n",
    "import pandas as pd"
   ]
  },
  {
   "cell_type": "code",
   "execution_count": null,
   "metadata": {},
   "outputs": [],
   "source": [
    "print('\\n')\n",
    "print('================================')\n",
    "print('Take Your Leave, Live Your Life!')\n",
    "print('================================')\n",
    "time.sleep(2.5)\n",
    "print('\\nLet us find out who wins the 2019 rafle!\\n')\n",
    "time.sleep(1.5)"
   ]
  },
  {
   "cell_type": "code",
   "execution_count": null,
   "metadata": {},
   "outputs": [],
   "source": [
    "qualified = pd.read_excel('data/List_v2.xlsx')\n",
    "count_names = len(qualified['Pers.No.'])\n",
    "list_names = [name for name in qualified['Personnel Number']]\n",
    "print('\\nThere are: ', count_names, 'associates who used all their holidays in 2019\\n')\n",
    "print('\\nHere are the canidates who can win the prize today:\\n', *list_names, sep='\\n')\n",
    "time.sleep(2.5)\n",
    "print('\\nCongratulations! Great that you enjoyed your life!\\n')\n",
    "time.sleep(1.5)"
   ]
  },
  {
   "cell_type": "code",
   "execution_count": null,
   "metadata": {},
   "outputs": [],
   "source": [
    "winner1 = random.choice(list_names)\n",
    "print('\\nThe FIRST winner is: \\n')\n",
    "time.sleep(5.5)\n",
    "print(winner1, '\\nCongratulations!\\n')\n",
    "list_names.remove(winner1)\n",
    "time.sleep(3.5)"
   ]
  },
  {
   "cell_type": "code",
   "execution_count": null,
   "metadata": {},
   "outputs": [],
   "source": [
    "winner2 = random.choice(list_names)\n",
    "print('\\nThe SECOND winner is: \\n')\n",
    "time.sleep(5.5)\n",
    "print(winner2, '\\nCongratulations!\\n')\n",
    "list_names.remove(winner2)\n",
    "time.sleep(3.5)"
   ]
  },
  {
   "cell_type": "code",
   "execution_count": null,
   "metadata": {},
   "outputs": [],
   "source": [
    "winner3 = random.choice(list_names)\n",
    "print('\\nThe THIRD winner is: \\n')\n",
    "time.sleep(5.5)\n",
    "print(winner3, '\\nCongratulations!\\n')\n",
    "list_names.remove(winner3)\n",
    "time.sleep(3.5)"
   ]
  },
  {
   "cell_type": "code",
   "execution_count": null,
   "metadata": {},
   "outputs": [],
   "source": []
  }
 ],
 "metadata": {
  "kernelspec": {
   "display_name": "Python 3",
   "language": "python",
   "name": "python3"
  },
  "language_info": {
   "codemirror_mode": {
    "name": "ipython",
    "version": 3
   },
   "file_extension": ".py",
   "mimetype": "text/x-python",
   "name": "python",
   "nbconvert_exporter": "python",
   "pygments_lexer": "ipython3",
   "version": "3.7.6"
  }
 },
 "nbformat": 4,
 "nbformat_minor": 4
}
