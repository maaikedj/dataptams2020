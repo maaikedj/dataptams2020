{
 "cells": [
  {
   "cell_type": "markdown",
   "metadata": {
    "colab_type": "text",
    "id": "-tSYul59AXfk"
   },
   "source": [
    "# Programming with Functions"
   ]
  },
  {
   "cell_type": "markdown",
   "metadata": {
    "colab_type": "text",
    "id": "anDm76pFAhjH"
   },
   "source": [
    "## Introduction \n",
    "\n",
    "Up until this point, we have been writing Python code in a procedural manner and using functions and methods that are either in Python's standard library or part of some other library such as Numpy or Pandas. This has worked fine for us thus far, but in order to truly graduate from beginner to intermediate Python programmer, you must have a basic understanding of functional programming and be able to write your own functions.\n",
    "\n",
    "In this lesson, we will cover how to write Python code in a functional style and how to construct and call user-defined functions."
   ]
  },
  {
   "cell_type": "markdown",
   "metadata": {
    "colab_type": "text",
    "id": "avrJ34h7Ao84"
   },
   "source": [
    "## Procedural vs. Functional Programming\n",
    "\n",
    "Procedural code is code that is written line by line and executed in the order it is written. It is the style in which most people learn to program due to its straightforward sequence of actions to solve a problem - do this, then do this, then do this.\n",
    "\n",
    "More mature programmers frame problems a little differently. They take more of a functional approach to problem solving, where they create functions consisting of multiple lines of code that accomplish some task and often return a result that can be used by another function.\n",
    "\n",
    "You can think of a function as a tool - something that helps you perform a job. In a sense, functional programming allows you to create your own tools. Some of these tools will be designed specifically for the current set of tasks you need to perform while other functions you write will be more general and able to be used for other projects. Imagine if a chef were able to construct their own set of knives or a carpenter were able to construct their own set of saws that were perfect for the jobs they needed to perform. That is the power that functional programming gives you as a programmer. Over time, you will develop a personal library of functions that allow you to get your work done more efficiently."
   ]
  },
  {
   "cell_type": "markdown",
   "metadata": {
    "colab_type": "text",
    "id": "2OT5qVNMAwrO"
   },
   "source": [
    "## Writing Functions in Python\n",
    "Functions in Python are defined by the def keyword followed by the function name and one or more inputs the function will need enclosed in parentheses. Within the function, you write code that performs the task you want the function to execute followed by a return statement if there is anything you would like the function to return. Below is an example of a list2string function that converts lists to strings."
   ]
  },
  {
   "cell_type": "code",
   "execution_count": null,
   "metadata": {
    "colab": {
     "base_uri": "https://localhost:8080/",
     "height": 34
    },
    "colab_type": "code",
    "executionInfo": {
     "elapsed": 1253,
     "status": "ok",
     "timestamp": 1579010127409,
     "user": {
      "displayName": "Louk Smalbil",
      "photoUrl": "https://lh3.googleusercontent.com/a-/AAuE7mDf0h-7dEMeyjYDwWKtGkQlLXC3IBwfxiDNyi0e=s64",
      "userId": "10422991521784029462"
     },
     "user_tz": -60
    },
    "id": "f19dLEkKA1DF",
    "outputId": "72ec792f-5c11-4ffb-fd4b-acee8dad1cde"
   },
   "outputs": [],
   "source": [
    "def list2string(lst):\n",
    "    string = ' '.join(lst)\n",
    "    return string\n",
    "\n",
    "to_string = ['John', 'was', 'a', 'man', 'of', 'many', 'talents']\n",
    "list2string(to_string)"
   ]
  },
  {
   "cell_type": "markdown",
   "metadata": {
    "colab_type": "text",
    "id": "4Pz2_BuqA4HT"
   },
   "source": [
    "In this example, we defined our list2string function and told it to expect one input. Within the function, we used the join method to convert the list to a string consisting of the list elements joined together by spaces. We then had the function return the string of space-separated elements.\n",
    "\n",
    "You can include all the concepts we have covered in past lessons (loops, conditional logic, list comprehensions, etc.) inside a function."
   ]
  },
  {
   "cell_type": "markdown",
   "metadata": {
    "colab_type": "text",
    "id": "JrYr15k7A6RH"
   },
   "source": [
    "## Global vs. Local Variables\n",
    "\n",
    "When writing functional code, it is important to keep track of which variables are global and which variables are local. Global variables are variables that maintain their value outside of functions. Local variables maintain their value within the function where they are defined and then cease to exist after we exit that function. In the example below, the variables a and c are global variables and variable b is a local variable that does not exist outside of the multiply function.![alt text](https://)"
   ]
  },
  {
   "cell_type": "code",
   "execution_count": null,
   "metadata": {
    "colab": {
     "base_uri": "https://localhost:8080/",
     "height": 34
    },
    "colab_type": "code",
    "executionInfo": {
     "elapsed": 1050,
     "status": "ok",
     "timestamp": 1579010144907,
     "user": {
      "displayName": "Louk Smalbil",
      "photoUrl": "https://lh3.googleusercontent.com/a-/AAuE7mDf0h-7dEMeyjYDwWKtGkQlLXC3IBwfxiDNyi0e=s64",
      "userId": "10422991521784029462"
     },
     "user_tz": -60
    },
    "id": "wZP7EVO2BMUx",
    "outputId": "8a5e3b5a-060e-4aa0-d4d1-8c08113fa1ef"
   },
   "outputs": [],
   "source": [
    "a = 9\n",
    "\n",
    "def multiply(number, multiplier=2):\n",
    "    '''\n",
    "    Inputs: number and multiplier\n",
    "    Outputs: multiplied number\n",
    "    '''\n",
    "    b = number * multiplier\n",
    "    return b\n",
    "\n",
    "c = multiply(a)\n",
    "\n",
    "print(a, c)"
   ]
  },
  {
   "cell_type": "markdown",
   "metadata": {
    "colab_type": "text",
    "id": "JPB--2EkBQMH"
   },
   "source": [
    "The multiply function above accepts a number and a multiplier (that defaults to 2), creates a local variable b that has a value of the number times the multiplier, and the function returns that value. We can see from the results of the example that global variable a (9) did get multiplied, returned, and assigned to another global variable c, so we know that b did exist within the function and was returned. However, now that the function has completed its job, we receive an error when we try to print b because it does not exist in the global variable namespace."
   ]
  },
  {
   "cell_type": "code",
   "execution_count": null,
   "metadata": {
    "colab": {
     "base_uri": "https://localhost:8080/",
     "height": 164
    },
    "colab_type": "code",
    "executionInfo": {
     "elapsed": 1098,
     "status": "error",
     "timestamp": 1579010168047,
     "user": {
      "displayName": "Louk Smalbil",
      "photoUrl": "https://lh3.googleusercontent.com/a-/AAuE7mDf0h-7dEMeyjYDwWKtGkQlLXC3IBwfxiDNyi0e=s64",
      "userId": "10422991521784029462"
     },
     "user_tz": -60
    },
    "id": "HChPjMfQBSvF",
    "outputId": "04b4b11b-fd36-4365-a5e9-1418acb08d71"
   },
   "outputs": [],
   "source": [
    "print(b)"
   ]
  },
  {
   "cell_type": "markdown",
   "metadata": {
    "colab_type": "text",
    "id": "SUTQBfdiBU1B"
   },
   "source": [
    "We can enter any number into the function above and also override the default multiplier and our function will return the product of those two numbers."
   ]
  },
  {
   "cell_type": "code",
   "execution_count": null,
   "metadata": {
    "colab": {
     "base_uri": "https://localhost:8080/",
     "height": 34
    },
    "colab_type": "code",
    "executionInfo": {
     "elapsed": 410,
     "status": "ok",
     "timestamp": 1579010172394,
     "user": {
      "displayName": "Louk Smalbil",
      "photoUrl": "https://lh3.googleusercontent.com/a-/AAuE7mDf0h-7dEMeyjYDwWKtGkQlLXC3IBwfxiDNyi0e=s64",
      "userId": "10422991521784029462"
     },
     "user_tz": -60
    },
    "id": "IvdH40beBavx",
    "outputId": "d8ad62ee-4519-45e6-81a3-0c0b28ee86bd"
   },
   "outputs": [],
   "source": [
    "multiply(100, multiplier=5)"
   ]
  },
  {
   "cell_type": "markdown",
   "metadata": {
    "colab_type": "text",
    "id": "BoFqb6QbWBPJ"
   },
   "source": [
    "## More Examples of Functions\n",
    "\n",
    "In this section, we will cover some more, complicated examples of functions. "
   ]
  },
  {
   "cell_type": "markdown",
   "metadata": {
    "colab_type": "text",
    "id": "YS6rDS1yWQKl"
   },
   "source": [
    "### Example 1\n",
    "\n",
    "In this example, we will convert phone numbers to international numbers."
   ]
  },
  {
   "cell_type": "code",
   "execution_count": null,
   "metadata": {
    "colab": {},
    "colab_type": "code",
    "id": "1o-VxASNWPXy"
   },
   "outputs": [],
   "source": [
    "phone_numbers = {'Tom': '0313911913', 'John' : '0313911913', 'Annie': '0313911913', 'Judy':'3818891310'}\n",
    "phone_numbers['Tom']\n",
    "\n",
    "def to_international(number_dict, code = '+0031'):\n",
    "  '''\n",
    "  Inputs: a dict and string\n",
    "  Outputs: dict with modified values\n",
    "  '''\n",
    "  for key, values in number_dict.items():\n",
    "    number_dict[key] = code + values\n",
    "  return phone_numbers"
   ]
  },
  {
   "cell_type": "code",
   "execution_count": null,
   "metadata": {
    "colab": {
     "base_uri": "https://localhost:8080/",
     "height": 85
    },
    "colab_type": "code",
    "executionInfo": {
     "elapsed": 694,
     "status": "ok",
     "timestamp": 1579011909808,
     "user": {
      "displayName": "Louk Smalbil",
      "photoUrl": "https://lh3.googleusercontent.com/a-/AAuE7mDf0h-7dEMeyjYDwWKtGkQlLXC3IBwfxiDNyi0e=s64",
      "userId": "10422991521784029462"
     },
     "user_tz": -60
    },
    "id": "JZSMDjVLYYMI",
    "outputId": "663fbc59-3451-40ff-ca2b-4d70da9bac20"
   },
   "outputs": [],
   "source": [
    "to_international(phone_numbers)"
   ]
  },
  {
   "cell_type": "markdown",
   "metadata": {
    "colab_type": "text",
    "id": "84XWWhbfYbD5"
   },
   "source": [
    "### Example 2\n",
    "\n",
    "In this example, we will convert pounds to kilograms. "
   ]
  },
  {
   "cell_type": "code",
   "execution_count": null,
   "metadata": {
    "colab": {},
    "colab_type": "code",
    "id": "VkvGGMnDYcdC"
   },
   "outputs": [],
   "source": [
    "def pound_to_kg(pound):\n",
    "  '''\n",
    "  Inputs: weight in pound\n",
    "  Outputs: weitght in kilogram\n",
    "  '''\n",
    "  kilogram = pound * 0.453592\n",
    "  return kilogram"
   ]
  },
  {
   "cell_type": "code",
   "execution_count": null,
   "metadata": {
    "colab": {
     "base_uri": "https://localhost:8080/",
     "height": 34
    },
    "colab_type": "code",
    "executionInfo": {
     "elapsed": 521,
     "status": "ok",
     "timestamp": 1579011043991,
     "user": {
      "displayName": "Louk Smalbil",
      "photoUrl": "https://lh3.googleusercontent.com/a-/AAuE7mDf0h-7dEMeyjYDwWKtGkQlLXC3IBwfxiDNyi0e=s64",
      "userId": "10422991521784029462"
     },
     "user_tz": -60
    },
    "id": "Nv_qMv4fY-1p",
    "outputId": "202eb734-0dff-499b-995f-fb36e8a61d33"
   },
   "outputs": [],
   "source": [
    "pound_to_kg(3)"
   ]
  },
  {
   "cell_type": "markdown",
   "metadata": {
    "colab_type": "text",
    "id": "nlUCmIHmZuOs"
   },
   "source": [
    "### Example 3\n",
    "\n",
    "Suppose we are on ourn way to Amsterdam by car. We know that Amsterdam is still 120 kilometers to go and that we have 30 liters of fuel left. Our car uses 23 liters per kilometer. Let us write a function to see if we can make it to Amsterdam. "
   ]
  },
  {
   "cell_type": "code",
   "execution_count": null,
   "metadata": {
    "colab": {},
    "colab_type": "code",
    "id": "_0TlHXgMZu--"
   },
   "outputs": [],
   "source": [
    "def will_we_make_it(km_to_go, liters_per_km, fuel_left):\n",
    "  '''\n",
    "  Inputs: km_to_go, fuel usages, fuel_left\n",
    "  Outputs: True or False dep. on whether the car will reach its destination.\n",
    "  '''\n",
    "  if (liters_per_km * fuel_left) > km_to_go:\n",
    "    return True\n",
    "  else: \n",
    "    return False"
   ]
  },
  {
   "cell_type": "code",
   "execution_count": null,
   "metadata": {
    "colab": {
     "base_uri": "https://localhost:8080/",
     "height": 34
    },
    "colab_type": "code",
    "executionInfo": {
     "elapsed": 628,
     "status": "ok",
     "timestamp": 1579011998346,
     "user": {
      "displayName": "Louk Smalbil",
      "photoUrl": "https://lh3.googleusercontent.com/a-/AAuE7mDf0h-7dEMeyjYDwWKtGkQlLXC3IBwfxiDNyi0e=s64",
      "userId": "10422991521784029462"
     },
     "user_tz": -60
    },
    "id": "F0PSJyJrcGTa",
    "outputId": "1b03ad13-6198-4520-b81d-f502115612b8"
   },
   "outputs": [],
   "source": [
    "will_we_make_it(120, 23, 30)"
   ]
  },
  {
   "cell_type": "markdown",
   "metadata": {
    "colab_type": "text",
    "id": "mnDq-sMnBeAv"
   },
   "source": [
    "## Applying Functions to Data Frames\n",
    "\n",
    "Now that we have a basic understanding of how functions and variables work, let's look at how we can apply a function that we have created to a Pandas data frame. For this example, we will import Pandas and the vehicles data set we have been working with in this module. We will then write a get_means function that identifies all the numeric columns in the data set and returns a data frame containing each column name and its mean."
   ]
  },
  {
   "cell_type": "code",
   "execution_count": null,
   "metadata": {
    "colab": {
     "base_uri": "https://localhost:8080/",
     "height": 443
    },
    "colab_type": "code",
    "executionInfo": {
     "elapsed": 568,
     "status": "error",
     "timestamp": 1579010203411,
     "user": {
      "displayName": "Louk Smalbil",
      "photoUrl": "https://lh3.googleusercontent.com/a-/AAuE7mDf0h-7dEMeyjYDwWKtGkQlLXC3IBwfxiDNyi0e=s64",
      "userId": "10422991521784029462"
     },
     "user_tz": -60
    },
    "id": "J99n2IIlAg7x",
    "outputId": "b6deea4c-9cab-4d67-d416-baaf983acd7f"
   },
   "outputs": [],
   "source": [
    "import pandas as pd\n",
    "\n",
    "data = pd.read_csv('./data sets/vehicles/vehicles.csv')\n",
    "\n",
    "def get_means(df):\n",
    "    numeric = df._get_numeric_data()\n",
    "    means = pd.DataFrame(numeric.mean()).reset_index()\n",
    "    means.columns = ['Column', 'Mean']\n",
    "    return means\n",
    "\n",
    "mean_df = get_means(data)\n",
    "mean_df"
   ]
  },
  {
   "cell_type": "markdown",
   "metadata": {
    "colab_type": "text",
    "id": "3pffuXyoBo6e"
   },
   "source": [
    "Note that we performed several steps with a single function call:\n",
    "\n",
    "* Getting the numeric columns\n",
    "* Calculating the means\n",
    "* Resetting the indexes\n",
    "* Setting the data frame's column names\n",
    "\n",
    "Also note that the only input necessary for this function was a data frame. The function took care of everything else. That means that it should work for any data frame that you pass it, as long as the data frame has numeric columns. We have just created a tool by writing code once that we can use again and again.\n",
    "\n",
    "**Challenge: **Import another data set that contains numeric variables and run the get_means function on it. It should return the means for the numeric columns in that data set."
   ]
  },
  {
   "cell_type": "markdown",
   "metadata": {
    "colab_type": "text",
    "id": "3hSD-1S8B1Nt"
   },
   "source": [
    "## SUMMARY\n",
    "\n",
    "In this lesson, we learned about functions in Python. We began the lesson by looking at the differences between writing procedural code and functional code. We then covered how to construct functions in Python and the differences between global and local variables. We ended the chapter by learning how functions can be applied to a Pandas data frame, computing and returning the means of all the numeric columns in a data frame. Now that you have learned about functions, you are well on your way to building a customized set of tools that can help you perform analytical work as efficiently as possible!"
   ]
  }
 ],
 "metadata": {
  "colab": {
   "authorship_tag": "ABX9TyPlVRW0SgjqJibiFz19Fzm4",
   "collapsed_sections": [],
   "name": "Programming with Functions.ipynb",
   "provenance": []
  },
  "kernelspec": {
   "display_name": "Python 3",
   "language": "python",
   "name": "python3"
  },
  "language_info": {
   "codemirror_mode": {
    "name": "ipython",
    "version": 3
   },
   "file_extension": ".py",
   "mimetype": "text/x-python",
   "name": "python",
   "nbconvert_exporter": "python",
   "pygments_lexer": "ipython3",
   "version": "3.7.4"
  }
 },
 "nbformat": 4,
 "nbformat_minor": 1
}
