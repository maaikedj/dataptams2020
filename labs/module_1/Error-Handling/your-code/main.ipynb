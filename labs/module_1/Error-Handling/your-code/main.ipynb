{
 "cells": [
  {
   "cell_type": "markdown",
   "metadata": {},
   "source": [
    "# Before your start:\n",
    "- Read the README.md file\n",
    "- Comment as much as you can and use the resources in the README.md file\n",
    "- Happy learning!"
   ]
  },
  {
   "cell_type": "code",
   "execution_count": null,
   "metadata": {},
   "outputs": [],
   "source": [
    "# Libraries\n",
    "import math"
   ]
  },
  {
   "cell_type": "markdown",
   "metadata": {},
   "source": [
    "# Challenge 1 - Handling Errors Using `if` Statements\n",
    "\n",
    "In many cases, we are able to identify issues that may come up in our code and handle those handlful of issues with an `if` statment. Sometimes we would like to handle different types of inputs and are aware that later in the code, we will have to write two different branches of code for the two different cases we allowed in the beginning.\n",
    "\n",
    "In the 3 cells below, add an `if` statment that will handle both types of input allowed in the functions."
   ]
  },
  {
   "cell_type": "code",
   "execution_count": null,
   "metadata": {},
   "outputs": [],
   "source": [
    "# Modify the code below to handle positive and negative numbers by adding \n",
    "# an if statement and performing a transformation:\n",
    "\n",
    "def sqrt_for_all(x):\n",
    "    \"\"\"\n",
    "    This function will take any real number and \n",
    "    return the square root of its magnitude.\n",
    "    \n",
    "    Input: Real number\n",
    "    Output: Real number\n",
    "    \n",
    "    Sample Input: -4\n",
    "    Sample Output: 2.0\n",
    "    \"\"\"\n",
    "    if x < 0:\n",
    "        print(\"Warning: the number\", x, \"is negative! It will be converted to positive to run the function sqrt_for_all\")\n",
    "        x = -x\n",
    "    else:\n",
    "        pass\n",
    "    return math.sqrt(x)\n",
    "\n",
    "sqrt_for_all(-9)\n",
    "# Feedback Paolo:ok!"
   ]
  },
  {
   "cell_type": "code",
   "execution_count": null,
   "metadata": {},
   "outputs": [],
   "source": [
    "# Modify the code below to handle zero as well. In the case of zero, return zero\n",
    "\n",
    "def divide(x, y):\n",
    "    \"\"\"\n",
    "    This function will take any two real numbers \n",
    "    and return their quotient. \n",
    "    If the denominator is zero, we return zero.\n",
    "    \n",
    "    Input: Real number\n",
    "    Output: Real number\n",
    "    \n",
    "    Sample Input: 5, 1\n",
    "    Sample Output: 5.0\n",
    "    \"\"\"\n",
    "    if x == 0:\n",
    "        print(\"Warning: one of the numbers is 0!\")\n",
    "        return 0\n",
    "    elif y == 0:\n",
    "        print(\"Warning: one of the numbers is 0!\")\n",
    "        return 0\n",
    "    else:\n",
    "        pass\n",
    "    return x / y\n",
    "\n",
    "divide(4, 2)\n",
    "# Feedback Paolo:ok!\n",
    "# but remeber the only problem here is if the denominator (y in this case) is 0\n",
    "# If x is 0 there is no problem: 0/5 is 0 5/0 is undefined (infinite)"
   ]
  },
  {
   "cell_type": "code",
   "execution_count": null,
   "metadata": {},
   "outputs": [],
   "source": [
    "# Modify the function below that it will take either a number and a list or two numbers. \n",
    "# If we take two numbers, add them together and return a list of length 1. \n",
    "# Otherwise, add the number to every element of the list and return the resulting list\n",
    "\n",
    "# Added warning error if variable not lists nor integers. \n",
    "# Added warning statement if both variables are lists.\n",
    "\n",
    "def add_elements(a, l):\n",
    "    \"\"\"\n",
    "    This function takes either two numbers or a list and a number \n",
    "    and adds the number to all elements of the list.\n",
    "    If the function only takes two numbers, it returns a list \n",
    "    of length one that is the sum of the numbers.\n",
    "    \n",
    "    Input: number and list or two numbers\n",
    "    Output: list\n",
    "    \n",
    "    Sample Input: 5, 6\n",
    "    Sample Output: [11]\n",
    "    \"\"\"\n",
    "    if type(a) == int:\n",
    "        if type(l) == int:\n",
    "            return a + l\n",
    "        elif type(l) == list:\n",
    "            return [a + element for element in l]\n",
    "        else:\n",
    "            raise ValueError(\"Variable not a number nor a list!\")\n",
    "    elif type(a) == list:\n",
    "        if type(l) == int:\n",
    "            return [l + element for element in a]\n",
    "        elif type(l) == list:\n",
    "            print(\"Two lists are not accepted!\")\n",
    "        else:\n",
    "            raise ValueError(\"Variable not a number nor a list!\")\n",
    "    else:\n",
    "        raise ValueError(\"Variable not a number nor a list!\")\n",
    "        \n",
    "add_elements( 5,[1,2])\n",
    "# Feedback Paolo: you made no assumptions on wheter a or l is a list making yor function more general\n",
    "# Also added comments and raised errors: great!"
   ]
  },
  {
   "cell_type": "markdown",
   "metadata": {},
   "source": [
    "# Challenge 2 - Fixing Errors to Get Code to Run\n",
    "\n",
    "Sometimes the error is not caused by the input but by the code itself. In the 2 following cells below, examine the error and correct the code to avoid the error."
   ]
  },
  {
   "cell_type": "code",
   "execution_count": null,
   "metadata": {},
   "outputs": [],
   "source": [
    "# Modify the code below:\n",
    "\n",
    "# Error \"unexpected EOF while parsing\" indicates that the code could not find the end of the command that was expected\n",
    "# Adding a \")\" fixed the code\n",
    "# Feedback Paolo:ok!\n",
    "\n",
    "l = [1,2,3,4]\n",
    "\n",
    "sum([element + 1 for element in l]"
   ]
  },
  {
   "cell_type": "code",
   "execution_count": null,
   "metadata": {},
   "outputs": [],
   "source": [
    "# Modify the code below:\n",
    "\n",
    "# Error can only concatenate str (not \"int\") to str indicates that command can only use str as objects whereas element is a number\n",
    "# Converting int into str fixed the error\n",
    "# Feedback Paolo:ok!\n",
    "l = [1,2,3,4]\n",
    "\n",
    "for element in l:\n",
    "    print(\"The current element in the loop is \" + str(element))"
   ]
  },
  {
   "cell_type": "markdown",
   "metadata": {},
   "source": [
    "# Bonus Challenge - Raise Errors on Your Own\n",
    "\n",
    "There are cases where you need to alert your users of a problem even if the input will not immediately produce an error. In these cases you may want to throw an error yourself to bring attention to the problem. In the 2 cells below, write the functions as directed and add the appropriate errors using the `raise` clause. Make sure to add a meaningful error message."
   ]
  },
  {
   "cell_type": "code",
   "execution_count": null,
   "metadata": {},
   "outputs": [],
   "source": [
    "def log_square(x):\n",
    "    \"\"\"\n",
    "    This function takes a numeric value and returns the \n",
    "    natural log of the square of the number.\n",
    "    The function raises an error if the number is equal to zero.\n",
    "    Use the math.log function in this funtion.\n",
    "    \n",
    "    Input: Real number\n",
    "    Output: Real number or error\n",
    "    \n",
    "    Sample Input: 5\n",
    "    Sample Output: 3.21887\n",
    "    \"\"\"\n",
    "    \n",
    "    # Your code here:\n",
    "    \n",
    "    sqr_x = x * x\n",
    "    log_sqr_x = math.log(sqr_x)\n",
    "    return log_sqr_x\n",
    "\n",
    "# Not sure this is the intended outcome...\n",
    "\n",
    "try:\n",
    "    log_square(3)\n",
    "except:\n",
    "    raise ValueError(\"Warning, the function requires a number different than 0!\")\n",
    "\n",
    "# Feedback Paolo: good effort almost there, see cell below"
   ]
  },
  {
   "cell_type": "code",
   "execution_count": null,
   "metadata": {},
   "outputs": [],
   "source": [
    "def log_square(x):\n",
    "    \"\"\"\n",
    "    This function takes a numeric value and returns the \n",
    "    natural log of the square of the number.\n",
    "    The function raises an error if the number is equal to zero.\n",
    "    Use the math.log function in this funtion.\n",
    "    \n",
    "    Input: Real number\n",
    "    Output: Real number or error\n",
    "    \n",
    "    Sample Input: 5\n",
    "    Sample Output: 3.21887\n",
    "    \"\"\"\n",
    "    #Paolo: here you introduce the if x==0 condition\n",
    "    # with raise Valueerror for x==0, try it:)\n",
    "    \n",
    "    if x==0:\n",
    "        raise ValueError(\"Warning, the function requires a number different than 0!\")\n",
    "    \n",
    "    sqr_x = x * x # good implementing squared x but you can also use x**2, as 5**2 =25\n",
    "    log_sqr_x = math.log(sqr_x)\n",
    "    return log_sqr_x\n",
    "\n",
    "log_square(5)"
   ]
  },
  {
   "cell_type": "code",
   "execution_count": null,
   "metadata": {},
   "outputs": [],
   "source": [
    "def check_capital(x):\n",
    "    \"\"\"\n",
    "    This function returns true if the string contains \n",
    "    at least one capital letter and throws an error otherwise.\n",
    "    \n",
    "    Input: String\n",
    "    Output: Bool or error message\n",
    "    \n",
    "    Sample Input: 'John'\n",
    "    Sample Output: True\n",
    "    \"\"\"\n",
    "    \n",
    "    # Your code here:\n",
    "    # Feedback Paolo: What about this one, I see no code.\n",
    "    \n",
    "    warning = x.islower() \n",
    "    if warning == False:\n",
    "        return True\n",
    "    else:\n",
    "        return False\n",
    "    \n",
    "check_capital('John')\n",
    "    "
   ]
  },
  {
   "cell_type": "code",
   "execution_count": null,
   "metadata": {},
   "outputs": [],
   "source": []
  }
 ],
 "metadata": {
  "kernelspec": {
   "display_name": "Python 3",
   "language": "python",
   "name": "python3"
  },
  "language_info": {
   "codemirror_mode": {
    "name": "ipython",
    "version": 3
   },
   "file_extension": ".py",
   "mimetype": "text/x-python",
   "name": "python",
   "nbconvert_exporter": "python",
   "pygments_lexer": "ipython3",
   "version": "3.7.6"
  }
 },
 "nbformat": 4,
 "nbformat_minor": 4
}
