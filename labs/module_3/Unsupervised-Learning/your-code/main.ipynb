{
 "cells": [
  {
   "cell_type": "markdown",
   "metadata": {
    "Collapsed": "false"
   },
   "source": [
    "# Before your start:\n",
    "- Read the README.md file\n",
    "- Comment as much as you can and use the resources in the README.md file\n",
    "- Happy learning!"
   ]
  },
  {
   "cell_type": "code",
   "execution_count": null,
   "metadata": {
    "Collapsed": "false"
   },
   "outputs": [],
   "source": [
    "# Import your libraries:\n",
    "\n",
    "%matplotlib inline\n",
    "import seaborn as sns\n",
    "import matplotlib.pyplot as plt\n",
    "import numpy as np\n",
    "import pandas as pd\n",
    "\n",
    "from scipy import stats\n",
    "import statsmodels.api as sm"
   ]
  },
  {
   "cell_type": "markdown",
   "metadata": {
    "Collapsed": "false"
   },
   "source": [
    "# Challenge 1 - Import and Describe the Dataset\n",
    "\n",
    "In this lab, we will use a dataset containing information about customer preferences. We will look at how much each customer spends in a year on each subcategory in the grocery store and try to find similarities using clustering.\n",
    "\n",
    "The dataset is located [here](https://drive.google.com/file/d/1z1gYSD32ktbHuKSzB5JVS_u4YsLibh5F/view?usp=sharing), please download it and place it in the data folder."
   ]
  },
  {
   "cell_type": "code",
   "execution_count": null,
   "metadata": {
    "Collapsed": "false"
   },
   "outputs": [],
   "source": [
    "# loading the data:\n",
    "\n",
    "customer = pd.read_csv('../data/Wholesale_customer_ data.csv')\n",
    " \n",
    "customer.head()"
   ]
  },
  {
   "cell_type": "markdown",
   "metadata": {
    "Collapsed": "false"
   },
   "source": [
    "#### Explore the dataset with mathematical and visualization techniques. What do you find?\n",
    "\n",
    "Checklist:\n",
    "\n",
    "* What does each column mean?\n",
    "* Any categorical data to convert?\n",
    "* Any missing data to remove?\n",
    "* Column collinearity - any high correlations?\n",
    "* Descriptive statistics - any outliers to remove?\n",
    "* Column-wise data distribution - is the distribution skewed?\n",
    "* Etc.\n",
    "\n",
    "Additional info: Over a century ago, an Italian economist named Vilfredo Pareto discovered that roughly 20% of the customers account for 80% of the typical retail sales. This is called the [Pareto principle](https://en.wikipedia.org/wiki/Pareto_principle). Check if this dataset displays this characteristic."
   ]
  },
  {
   "cell_type": "code",
   "execution_count": null,
   "metadata": {},
   "outputs": [],
   "source": [
    "customer.dtypes\n",
    "\n",
    "# All columns have interger values and there are no object values"
   ]
  },
  {
   "cell_type": "code",
   "execution_count": null,
   "metadata": {},
   "outputs": [],
   "source": [
    "customer.isna().sum()\n",
    "# There are no missing values in the columns"
   ]
  },
  {
   "cell_type": "code",
   "execution_count": null,
   "metadata": {},
   "outputs": [],
   "source": [
    "customer.corr()"
   ]
  },
  {
   "cell_type": "code",
   "execution_count": null,
   "metadata": {},
   "outputs": [],
   "source": [
    "customer.describe()"
   ]
  },
  {
   "cell_type": "code",
   "execution_count": null,
   "metadata": {},
   "outputs": [],
   "source": [
    "# Removing outliers from the dataframe\n",
    "# This should remove the entire row of the dataframe wherever there is an outlier\n",
    "# Reference: https://kite.com/python/answers/how-to-remove-outliers-from-a-pandas-dataframe-in-python\n",
    "\n",
    "from scipy.stats import zscore\n",
    "\n",
    "# Calculate z-score of the dataframe\n",
    "z_scores = stats.zscore(customer)\n",
    "\n",
    "# Calculate the absolute value element-wise.\n",
    "# np.abs is a shorthand for this function.\n",
    "# Call numpy.abs(x) with x as the previous result to convert each element in x to its absolute value.\n",
    "\n",
    "abs_z_scores = np.abs(z_scores)\n",
    "filtered_entries = (abs_z_scores < 3).all(axis=1)\n",
    "customer = customer[filtered_entries]\n",
    "\n",
    "customer\n",
    "\n"
   ]
  },
  {
   "cell_type": "code",
   "execution_count": null,
   "metadata": {},
   "outputs": [],
   "source": [
    "# Calculating Skew\n",
    "# Skewness is a measure of the asymmetry of the probability distribution of a real-valued random variable about its mean. \n",
    "\n",
    "customer.skew(axis = 0) \n"
   ]
  },
  {
   "cell_type": "code",
   "execution_count": null,
   "metadata": {},
   "outputs": [],
   "source": [
    "# OBSERVATIONS:\n",
    "\n",
    "# 1.What does each column mean?\n",
    "# A. Each column indicates the type of item the customer is buying\n",
    "\n",
    "\n",
    "# 2.Any categorical data to convert?\n",
    "# A.There is no categorical data to convert\n",
    "\n",
    "# 3.Any missing data to remove?\n",
    "# A.There are no missing values in the df\n",
    "\n",
    "\n",
    "# 4.Column collinearity - any high correlations?\n",
    "# A.There is no high collinearity between the different columns\n",
    "\n",
    "# 5.Descriptive statistics - any outliers to remove?\n",
    "# A.There seemed to be quite a few outliers. I removed all the outliers.\n",
    "\n",
    "\n",
    "# 6.Column-wise data distribution - is the distribution skewed?\n",
    "# A. All columns had a positive skew except Column \"Region\" which had a negative skew."
   ]
  },
  {
   "cell_type": "markdown",
   "metadata": {
    "Collapsed": "false"
   },
   "source": [
    "# Challenge 2 - Data Cleaning and Transformation\n",
    "\n",
    "If your conclusion from the previous challenge is the data need cleaning/transformation, do it in the cells below. However, if your conclusion is the data need not be cleaned or transformed, feel free to skip this challenge. But if you do choose the latter, please provide rationale."
   ]
  },
  {
   "cell_type": "code",
   "execution_count": null,
   "metadata": {
    "Collapsed": "false"
   },
   "outputs": [],
   "source": [
    "# I already cleaned the data by removing all all the outliers.\n",
    "# So, I dont have to perform any additional cleaning/transformation."
   ]
  },
  {
   "cell_type": "markdown",
   "metadata": {
    "Collapsed": "false"
   },
   "source": [
    "# Challenge 3 - Data Preprocessing\n",
    "\n",
    "One problem with the dataset is the value ranges are remarkably different across various categories (e.g. `Fresh` and `Grocery` compared to `Detergents_Paper` and `Delicassen`). If you made this observation in the first challenge, you've done a great job! This means you not only completed the bonus questions in the previous Supervised Learning lab but also researched deep into [*feature scaling*](https://en.wikipedia.org/wiki/Feature_scaling). Keep on the good work!\n",
    "\n",
    "Diverse value ranges in different features could cause issues in our clustering. The way to reduce the problem is through feature scaling. We'll use this technique again with this dataset.\n",
    "\n",
    "#### We will use the `StandardScaler` from `sklearn.preprocessing` and scale our data. Read more about `StandardScaler` [here](https://scikit-learn.org/stable/modules/generated/sklearn.preprocessing.StandardScaler.html#sklearn.preprocessing.StandardScaler).\n",
    "\n",
    "*After scaling your data, assign the transformed data to a new variable `customers_scale`.*"
   ]
  },
  {
   "cell_type": "code",
   "execution_count": null,
   "metadata": {
    "Collapsed": "false"
   },
   "outputs": [],
   "source": [
    "# Your import here:\n",
    "\n",
    "from sklearn.preprocessing import StandardScaler\n",
    "\n",
    "# Your code here:\n",
    "\n",
    "scaler = StandardScaler()\n",
    "scaled_customer = scaler.fit_transform(customer)\n",
    "scaled_customer = pd.DataFrame(scaled_customer)\n",
    "scaled_customer"
   ]
  },
  {
   "cell_type": "markdown",
   "metadata": {
    "Collapsed": "false"
   },
   "source": [
    "# Challenge 3 - Data Clustering with K-Means\n",
    "\n",
    "Now let's cluster the data with K-Means first. Initiate the K-Means model, then fit your scaled data. In the data returned from the `.fit` method, there is an attribute called `labels_` which is the cluster number assigned to each data record. What you can do is to assign these labels back to `customers` in a new column called `customers['labels']`. Then you'll see the cluster results of the original data."
   ]
  },
  {
   "cell_type": "code",
   "execution_count": null,
   "metadata": {
    "Collapsed": "false"
   },
   "outputs": [],
   "source": [
    "# Your code here:\n",
    "# Reference: https://scikit-learn.org/stable/modules/generated/sklearn.cluster.KMeans.html\n",
    "\n",
    "# n_clusters: The number of clusters to form as well as the number of centroids to generate.\n",
    "# By default n_clusters=8\n",
    "\n",
    "from sklearn.cluster import KMeans\n",
    "\n",
    "customer_kmeans = KMeans().fit(scaled_customer)\n",
    "customer_kmeans.labels_\n"
   ]
  },
  {
   "cell_type": "code",
   "execution_count": null,
   "metadata": {},
   "outputs": [],
   "source": [
    "customer['labels'] = customer_kmeans.labels_\n",
    "\n",
    "customer"
   ]
  },
  {
   "cell_type": "markdown",
   "metadata": {
    "Collapsed": "false"
   },
   "source": [
    "Count the values in `labels`."
   ]
  },
  {
   "cell_type": "code",
   "execution_count": null,
   "metadata": {
    "Collapsed": "false"
   },
   "outputs": [],
   "source": [
    "# Your code here:\n",
    "\n",
    "customer['labels'].value_counts() "
   ]
  },
  {
   "cell_type": "markdown",
   "metadata": {
    "Collapsed": "false"
   },
   "source": [
    "# Challenge 4 - Data Clustering with DBSCAN\n",
    "\n",
    "Now let's cluster the data using DBSCAN. Use `DBSCAN(eps=0.5)` to initiate the model, then fit your scaled data. In the data returned from the `.fit` method, assign the `labels_` back to `customers['labels_DBSCAN']`. Now your original data have two labels, one from K-Means and the other from DBSCAN."
   ]
  },
  {
   "cell_type": "code",
   "execution_count": null,
   "metadata": {
    "Collapsed": "false"
   },
   "outputs": [],
   "source": [
    "# Your code here\n",
    "# Reference: https://scikit-learn.org/stable/modules/generated/sklearn.cluster.DBSCAN.html\n",
    "\n",
    "# eps: The maximum distance between two samples for one to be considered as in the neighborhood of the other.\n",
    "# eps default=0.5\n",
    "\n",
    "from sklearn.cluster import DBSCAN\n",
    "\n",
    "customer_clustering = DBSCAN(eps=0.5).fit(scaled_customer)\n",
    "\n",
    "customer_clustering.labels_ \n"
   ]
  },
  {
   "cell_type": "code",
   "execution_count": null,
   "metadata": {},
   "outputs": [],
   "source": [
    "customer['labels_DBSCAN'] = customer_clustering.labels_ \n",
    "\n",
    "customer\n"
   ]
  },
  {
   "cell_type": "markdown",
   "metadata": {
    "Collapsed": "false"
   },
   "source": [
    "Count the values in `labels_DBSCAN`."
   ]
  },
  {
   "cell_type": "code",
   "execution_count": null,
   "metadata": {
    "Collapsed": "false"
   },
   "outputs": [],
   "source": [
    "# Your code here\n",
    "\n",
    "customer['labels_DBSCAN'] .value_counts() "
   ]
  },
  {
   "cell_type": "markdown",
   "metadata": {
    "Collapsed": "false"
   },
   "source": [
    "# Challenge 5 - Compare K-Means with DBSCAN\n",
    "\n",
    "Now we want to visually compare how K-Means and DBSCAN have clustered our data. We will create scatter plots for several columns. For each of the following column pairs, plot a scatter plot using `labels` and another using `labels_DBSCAN`. Put them side by side to compare. Which clustering algorithm makes better sense?\n",
    "\n",
    "Columns to visualize:\n",
    "\n",
    "* `Detergents_Paper` as X and `Milk` as y\n",
    "* `Grocery` as X and `Fresh` as y\n",
    "* `Frozen` as X and `Delicassen` as y"
   ]
  },
  {
   "cell_type": "markdown",
   "metadata": {
    "Collapsed": "false"
   },
   "source": [
    "Visualize `Detergents_Paper` as X and `Milk` as y by `labels` and `labels_DBSCAN` respectively"
   ]
  },
  {
   "cell_type": "code",
   "execution_count": null,
   "metadata": {},
   "outputs": [],
   "source": [
    "\n",
    "# Create a figure of a fixed size and axes\n",
    "fig, [ax1, ax2] = plt.subplots(1,2, figsize = (19,6))\n",
    "\n",
    "\n",
    "# K-Means Labels Scatter Plot\n",
    "ax1.scatter(x=customer[\"Detergents_Paper\"], y=customer[\"Milk\"], c=customer[\"labels\"])\n",
    "ax1.set_title('Distribution of K-Means Labels')\n",
    "ax1.set_xlabel('Detergents_Paper')\n",
    "ax1.set_ylabel('Milk')\n",
    "\n",
    "#DBSCAN Labels Scatter Plot\n",
    "ax2.scatter(x=customer[\"Detergents_Paper\"], y=customer[\"Milk\"], c=customer[\"labels_DBSCAN\"])\n",
    "ax2.set_title('Distribution of DBSCAN Labels')\n",
    "ax2.set_xlabel('Detergents_Paper')\n",
    "ax2.set_ylabel('Milk')\n",
    "\n",
    "\n",
    "plt.show()\n",
    "\n"
   ]
  },
  {
   "cell_type": "markdown",
   "metadata": {
    "Collapsed": "false"
   },
   "source": [
    "Visualize `Grocery` as X and `Fresh` as y by `labels` and `labels_DBSCAN` respectively"
   ]
  },
  {
   "cell_type": "code",
   "execution_count": null,
   "metadata": {
    "Collapsed": "false"
   },
   "outputs": [],
   "source": [
    "# Your code here:\n",
    "\n",
    "# Create a figure of a fixed size and axes\n",
    "fig, [ax1, ax2] = plt.subplots(1,2, figsize = (19,6))\n",
    "\n",
    "\n",
    "# K-Means Labels Scatter Plot\n",
    "ax1.scatter(x=customer[\"Grocery\"], y=customer[\"Fresh\"], c=customer[\"labels\"])\n",
    "ax1.set_title('Distribution of K-Means Labels')\n",
    "ax1.set_xlabel('Detergents_Paper')\n",
    "ax1.set_ylabel('Milk')\n",
    "\n",
    "#DBSCAN Labels Scatter Plot\n",
    "ax2.scatter(x=customer[\"Grocery\"], y=customer[\"Fresh\"], c=customer[\"labels_DBSCAN\"])\n",
    "ax2.set_title('Distribution of DBSCAN Labels')\n",
    "ax2.set_xlabel('Detergents_Paper')\n",
    "ax2.set_ylabel('Milk')\n",
    "\n",
    "\n",
    "plt.show()\n",
    "\n"
   ]
  },
  {
   "cell_type": "markdown",
   "metadata": {
    "Collapsed": "false"
   },
   "source": [
    "Visualize `Frozen` as X and `Delicassen` as y by `labels` and `labels_DBSCAN` respectively"
   ]
  },
  {
   "cell_type": "code",
   "execution_count": null,
   "metadata": {
    "Collapsed": "false"
   },
   "outputs": [],
   "source": [
    "# Your code here:\n",
    "\n",
    "# Create a figure of a fixed size and axes\n",
    "fig, [ax1, ax2] = plt.subplots(1,2, figsize = (19,6))\n",
    "\n",
    "\n",
    "# K-Means Labels Scatter Plot\n",
    "ax1.scatter(x=customer[\"Frozen\"], y=customer[\"Delicassen\"], c=customer[\"labels\"])\n",
    "ax1.set_title('Distribution of K-Means Labels')\n",
    "ax1.set_xlabel('Detergents_Paper')\n",
    "ax1.set_ylabel('Milk')\n",
    "\n",
    "#DBSCAN Labels Scatter Plot\n",
    "ax2.scatter(x=customer[\"Frozen\"], y=customer[\"Delicassen\"], c=customer[\"labels_DBSCAN\"])\n",
    "ax2.set_title('Distribution of DBSCAN Labels')\n",
    "ax2.set_xlabel('Detergents_Paper')\n",
    "ax2.set_ylabel('Milk')\n",
    "\n",
    "\n",
    "plt.show()"
   ]
  },
  {
   "cell_type": "markdown",
   "metadata": {
    "Collapsed": "false"
   },
   "source": [
    "Let's use a groupby to see how the mean differs between the groups. Group `customers` by `labels` and `labels_DBSCAN` respectively and compute the means for all columns."
   ]
  },
  {
   "cell_type": "code",
   "execution_count": null,
   "metadata": {
    "Collapsed": "false"
   },
   "outputs": [],
   "source": [
    "# Your code here:\n",
    "\n",
    "customer.groupby(['labels','labels_DBSCAN']).mean()\n"
   ]
  },
  {
   "cell_type": "code",
   "execution_count": null,
   "metadata": {},
   "outputs": [],
   "source": [
    "customer.groupby('labels').mean()"
   ]
  },
  {
   "cell_type": "code",
   "execution_count": null,
   "metadata": {},
   "outputs": [],
   "source": [
    "customer.groupby('labels_DBSCAN').mean()"
   ]
  },
  {
   "cell_type": "markdown",
   "metadata": {
    "Collapsed": "false"
   },
   "source": [
    "Which algorithm appears to perform better?"
   ]
  },
  {
   "cell_type": "code",
   "execution_count": null,
   "metadata": {
    "Collapsed": "false"
   },
   "outputs": [],
   "source": [
    "# Your observations here\n",
    "\n",
    "# I think for this customer data, K-means looks like a better algorithm. \n",
    "# Since there is a wide variety of data, it may not be that accurate to have DBSCAN as it clustered into 2 lables."
   ]
  },
  {
   "cell_type": "markdown",
   "metadata": {
    "Collapsed": "false"
   },
   "source": [
    "# Bonus Challenge 2 - Changing K-Means Number of Clusters\n",
    "\n",
    "As we mentioned earlier, we don't need to worry about the number of clusters with DBSCAN because it automatically decides that based on the parameters we send to it. But with K-Means, we have to supply the `n_clusters` param (if you don't supply `n_clusters`, the algorithm will use `8` by default). You need to know that the optimal number of clusters differs case by case based on the dataset. K-Means can perform badly if the wrong number of clusters is used.\n",
    "\n",
    "In advanced machine learning, data scientists try different numbers of clusters and evaluate the results with statistical measures (read [here](https://en.wikipedia.org/wiki/Cluster_analysis#External_evaluation)). We are not using statistical measures today but we'll use our eyes instead. In the cells below, experiment with different number of clusters and visualize with scatter plots. What number of clusters seems to work best for K-Means?"
   ]
  },
  {
   "cell_type": "code",
   "execution_count": null,
   "metadata": {
    "Collapsed": "false"
   },
   "outputs": [],
   "source": [
    "# Your code here\n",
    "\n",
    "from sklearn.cluster import KMeans\n",
    "\n",
    "# KMeans for n_clusters=2\n",
    "customer_kmeans = KMeans(n_clusters=2).fit(scaled_customer)\n",
    "customer['labels'] = customer_kmeans.labels_\n",
    "\n",
    "plt.scatter(x=customer[\"Detergents_Paper\"], y=customer[\"Milk\"], c=customer[\"labels\"])\n",
    "plt.show()"
   ]
  },
  {
   "cell_type": "code",
   "execution_count": null,
   "metadata": {},
   "outputs": [],
   "source": [
    "# KMeans for n_clusters=4\n",
    "customer_kmeans = KMeans(n_clusters=4).fit(scaled_customer)\n",
    "customer['labels'] = customer_kmeans.labels_\n",
    "\n",
    "plt.scatter(x=customer[\"Detergents_Paper\"], y=customer[\"Milk\"], c=customer[\"labels\"])\n",
    "plt.show()"
   ]
  },
  {
   "cell_type": "code",
   "execution_count": null,
   "metadata": {},
   "outputs": [],
   "source": [
    "# KMeans for n_clusters=6\n",
    "customer_kmeans = KMeans(n_clusters=6).fit(scaled_customer)\n",
    "customer['labels'] = customer_kmeans.labels_\n",
    "\n",
    "plt.scatter(x=customer[\"Detergents_Paper\"], y=customer[\"Milk\"], c=customer[\"labels\"])\n",
    "plt.show()"
   ]
  },
  {
   "cell_type": "code",
   "execution_count": null,
   "metadata": {
    "Collapsed": "false"
   },
   "outputs": [],
   "source": [
    "# Your comment here\n",
    "\n",
    "# From the above 3 plots with n_clusters values 2, 4 and 6, it looks like the lower the number of clusters the better it looks.\n",
    "# I am not fully sure though."
   ]
  },
  {
   "cell_type": "markdown",
   "metadata": {
    "Collapsed": "false"
   },
   "source": [
    "# Bonus Challenge 3 - Changing DBSCAN `eps` and `min_samples`\n",
    "\n",
    "Experiment changing the `eps` and `min_samples` params for DBSCAN. See how the results differ with scatter plot visualization."
   ]
  },
  {
   "cell_type": "code",
   "execution_count": null,
   "metadata": {
    "Collapsed": "false"
   },
   "outputs": [],
   "source": [
    "# Your code here\n",
    "# eps of 0.5 is the default\n",
    "\n",
    "\n",
    "# DBSCAN for eps = 0.2\n",
    "\n",
    "from sklearn.cluster import DBSCAN\n",
    "\n",
    "customer_clustering = DBSCAN(eps=0.2).fit(scaled_customer)\n",
    "\n",
    "plt.scatter(x=customer[\"Detergents_Paper\"], y=customer[\"Milk\"], c=customer[\"labels\"])\n",
    "plt.show()"
   ]
  },
  {
   "cell_type": "code",
   "execution_count": null,
   "metadata": {},
   "outputs": [],
   "source": [
    "# DBSCAN for eps = 0.6\n",
    "\n",
    "from sklearn.cluster import DBSCAN\n",
    "\n",
    "customer_clustering = DBSCAN(eps=0.6).fit(scaled_customer)\n",
    "\n",
    "plt.scatter(x=customer[\"Detergents_Paper\"], y=customer[\"Milk\"], c=customer[\"labels\"])\n",
    "plt.show()"
   ]
  },
  {
   "cell_type": "code",
   "execution_count": null,
   "metadata": {},
   "outputs": [],
   "source": [
    "# DBSCAN for eps = 0.8\n",
    "\n",
    "from sklearn.cluster import DBSCAN\n",
    "\n",
    "customer_clustering = DBSCAN(eps=0.8).fit(scaled_customer)\n",
    "\n",
    "plt.scatter(x=customer[\"Detergents_Paper\"], y=customer[\"Milk\"], c=customer[\"labels\"])\n",
    "plt.show()"
   ]
  },
  {
   "cell_type": "code",
   "execution_count": null,
   "metadata": {
    "Collapsed": "false"
   },
   "outputs": [],
   "source": [
    "# Your comment here\n",
    "\n",
    "# From the above 3 plots with eps values 0.2, 0.6 and 0.8:\n",
    "# I find it very hard to say which one is better just based on the visualization"
   ]
  }
 ],
 "metadata": {
  "kernelspec": {
   "display_name": "Python 3",
   "language": "python",
   "name": "python3"
  },
  "language_info": {
   "codemirror_mode": {
    "name": "ipython",
    "version": 3
   },
   "file_extension": ".py",
   "mimetype": "text/x-python",
   "name": "python",
   "nbconvert_exporter": "python",
   "pygments_lexer": "ipython3",
   "version": "3.7.4"
  }
 },
 "nbformat": 4,
 "nbformat_minor": 4
}
