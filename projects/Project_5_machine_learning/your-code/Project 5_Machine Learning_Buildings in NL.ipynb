{
 "cells": [
  {
   "cell_type": "markdown",
   "metadata": {
    "Collapsed": "false"
   },
   "source": [
    "# PROJECT 5: Machine Learning\n",
    "\n",
    "# CONSTRUCTION COSTS IN THE NETHERLANDS\n",
    "\n",
    "## Study of the costs of different types of buildings in the Netherlands between years 2015 and 2019. \n",
    "\n",
    "## It includes an analysis of construction stage related costs for different types of buildings, and the regions of the NL that has the higest construction assocaited costs that people spent.\n",
    "\n",
    "Data Source: https://opendata.cbs.nl/"
   ]
  },
  {
   "cell_type": "code",
   "execution_count": 16,
   "metadata": {
    "Collapsed": "false"
   },
   "outputs": [
    {
     "data": {
      "text/html": [
       "        <script type=\"text/javascript\">\n",
       "        window.PlotlyConfig = {MathJaxConfig: 'local'};\n",
       "        if (window.MathJax) {MathJax.Hub.Config({SVG: {font: \"STIX-Web\"}});}\n",
       "        if (typeof require !== 'undefined') {\n",
       "        require.undef(\"plotly\");\n",
       "        requirejs.config({\n",
       "            paths: {\n",
       "                'plotly': ['https://cdn.plot.ly/plotly-latest.min']\n",
       "            }\n",
       "        });\n",
       "        require(['plotly'], function(Plotly) {\n",
       "            window._Plotly = Plotly;\n",
       "        });\n",
       "        }\n",
       "        </script>\n",
       "        "
      ]
     },
     "metadata": {},
     "output_type": "display_data"
    }
   ],
   "source": [
    "# Importing all necessary libraries\n",
    "import pandas as pd\n",
    "import numpy as np\n",
    "import seaborn as sns\n",
    "\n",
    "from scipy import stats\n",
    "from scipy.stats import ttest_1samp\n",
    "\n",
    "import chart_studio.plotly as py\n",
    "import cufflinks as cf\n",
    "\n",
    "%matplotlib inline\n",
    "import seaborn as sns\n",
    "import matplotlib.pyplot as plt\n",
    "\n",
    "\n",
    "from scipy import stats\n",
    "import statsmodels.api as sm\n",
    "\n",
    "cf.go_offline()"
   ]
  },
  {
   "cell_type": "markdown",
   "metadata": {
    "Collapsed": "false"
   },
   "source": [
    "## Total costs of all buildings in NL from 2015 - 2019"
   ]
  },
  {
   "cell_type": "code",
   "execution_count": 17,
   "metadata": {
    "Collapsed": "false"
   },
   "outputs": [
    {
     "data": {
      "application/vnd.plotly.v1+json": {
       "config": {
        "plotlyServerURL": "https://plot.ly"
       },
       "data": [
        {
         "hoverlabel": {
          "namelength": 0
         },
         "hovertemplate": "x=%{x}<br>Total buildings_mln euro=%{y}",
         "legendgroup": "",
         "marker": {
          "color": "#636efa",
          "symbol": "circle"
         },
         "mode": "markers",
         "name": "",
         "showlegend": false,
         "type": "scatter",
         "x": [
          "2015 1st quarter",
          "2015 2nd quarter",
          "2015 3rd quarter",
          "2015 4th quarter",
          "2016 1st quarter",
          "2016 2nd quarter",
          "2016 3rd quarter",
          "2016 4th quarter",
          "2017 1st quarter",
          "2017 2nd quarter",
          "2017 3rd quarter",
          "2017 4th quarter",
          "2018 1st quarter",
          "2018 2nd quarter",
          "2018 3rd quarter",
          "2018 4th quarter",
          "2019 1st quarter",
          "2019 2nd quarter",
          "2019 3rd quarter",
          "2019 4th quarter"
         ],
         "xaxis": "x",
         "y": [
          3095,
          4321,
          2895,
          2786,
          2811,
          3066,
          3479,
          3502,
          3659,
          4329,
          4361,
          4386,
          4155,
          4348,
          4614,
          5173,
          4086,
          4282,
          4198,
          4197
         ],
         "yaxis": "y"
        }
       ],
       "layout": {
        "legend": {
         "tracegroupgap": 0
        },
        "margin": {
         "t": 60
        },
        "template": {
         "data": {
          "bar": [
           {
            "error_x": {
             "color": "#2a3f5f"
            },
            "error_y": {
             "color": "#2a3f5f"
            },
            "marker": {
             "line": {
              "color": "#E5ECF6",
              "width": 0.5
             }
            },
            "type": "bar"
           }
          ],
          "barpolar": [
           {
            "marker": {
             "line": {
              "color": "#E5ECF6",
              "width": 0.5
             }
            },
            "type": "barpolar"
           }
          ],
          "carpet": [
           {
            "aaxis": {
             "endlinecolor": "#2a3f5f",
             "gridcolor": "white",
             "linecolor": "white",
             "minorgridcolor": "white",
             "startlinecolor": "#2a3f5f"
            },
            "baxis": {
             "endlinecolor": "#2a3f5f",
             "gridcolor": "white",
             "linecolor": "white",
             "minorgridcolor": "white",
             "startlinecolor": "#2a3f5f"
            },
            "type": "carpet"
           }
          ],
          "choropleth": [
           {
            "colorbar": {
             "outlinewidth": 0,
             "ticks": ""
            },
            "type": "choropleth"
           }
          ],
          "contour": [
           {
            "colorbar": {
             "outlinewidth": 0,
             "ticks": ""
            },
            "colorscale": [
             [
              0,
              "#0d0887"
             ],
             [
              0.1111111111111111,
              "#46039f"
             ],
             [
              0.2222222222222222,
              "#7201a8"
             ],
             [
              0.3333333333333333,
              "#9c179e"
             ],
             [
              0.4444444444444444,
              "#bd3786"
             ],
             [
              0.5555555555555556,
              "#d8576b"
             ],
             [
              0.6666666666666666,
              "#ed7953"
             ],
             [
              0.7777777777777778,
              "#fb9f3a"
             ],
             [
              0.8888888888888888,
              "#fdca26"
             ],
             [
              1,
              "#f0f921"
             ]
            ],
            "type": "contour"
           }
          ],
          "contourcarpet": [
           {
            "colorbar": {
             "outlinewidth": 0,
             "ticks": ""
            },
            "type": "contourcarpet"
           }
          ],
          "heatmap": [
           {
            "colorbar": {
             "outlinewidth": 0,
             "ticks": ""
            },
            "colorscale": [
             [
              0,
              "#0d0887"
             ],
             [
              0.1111111111111111,
              "#46039f"
             ],
             [
              0.2222222222222222,
              "#7201a8"
             ],
             [
              0.3333333333333333,
              "#9c179e"
             ],
             [
              0.4444444444444444,
              "#bd3786"
             ],
             [
              0.5555555555555556,
              "#d8576b"
             ],
             [
              0.6666666666666666,
              "#ed7953"
             ],
             [
              0.7777777777777778,
              "#fb9f3a"
             ],
             [
              0.8888888888888888,
              "#fdca26"
             ],
             [
              1,
              "#f0f921"
             ]
            ],
            "type": "heatmap"
           }
          ],
          "heatmapgl": [
           {
            "colorbar": {
             "outlinewidth": 0,
             "ticks": ""
            },
            "colorscale": [
             [
              0,
              "#0d0887"
             ],
             [
              0.1111111111111111,
              "#46039f"
             ],
             [
              0.2222222222222222,
              "#7201a8"
             ],
             [
              0.3333333333333333,
              "#9c179e"
             ],
             [
              0.4444444444444444,
              "#bd3786"
             ],
             [
              0.5555555555555556,
              "#d8576b"
             ],
             [
              0.6666666666666666,
              "#ed7953"
             ],
             [
              0.7777777777777778,
              "#fb9f3a"
             ],
             [
              0.8888888888888888,
              "#fdca26"
             ],
             [
              1,
              "#f0f921"
             ]
            ],
            "type": "heatmapgl"
           }
          ],
          "histogram": [
           {
            "marker": {
             "colorbar": {
              "outlinewidth": 0,
              "ticks": ""
             }
            },
            "type": "histogram"
           }
          ],
          "histogram2d": [
           {
            "colorbar": {
             "outlinewidth": 0,
             "ticks": ""
            },
            "colorscale": [
             [
              0,
              "#0d0887"
             ],
             [
              0.1111111111111111,
              "#46039f"
             ],
             [
              0.2222222222222222,
              "#7201a8"
             ],
             [
              0.3333333333333333,
              "#9c179e"
             ],
             [
              0.4444444444444444,
              "#bd3786"
             ],
             [
              0.5555555555555556,
              "#d8576b"
             ],
             [
              0.6666666666666666,
              "#ed7953"
             ],
             [
              0.7777777777777778,
              "#fb9f3a"
             ],
             [
              0.8888888888888888,
              "#fdca26"
             ],
             [
              1,
              "#f0f921"
             ]
            ],
            "type": "histogram2d"
           }
          ],
          "histogram2dcontour": [
           {
            "colorbar": {
             "outlinewidth": 0,
             "ticks": ""
            },
            "colorscale": [
             [
              0,
              "#0d0887"
             ],
             [
              0.1111111111111111,
              "#46039f"
             ],
             [
              0.2222222222222222,
              "#7201a8"
             ],
             [
              0.3333333333333333,
              "#9c179e"
             ],
             [
              0.4444444444444444,
              "#bd3786"
             ],
             [
              0.5555555555555556,
              "#d8576b"
             ],
             [
              0.6666666666666666,
              "#ed7953"
             ],
             [
              0.7777777777777778,
              "#fb9f3a"
             ],
             [
              0.8888888888888888,
              "#fdca26"
             ],
             [
              1,
              "#f0f921"
             ]
            ],
            "type": "histogram2dcontour"
           }
          ],
          "mesh3d": [
           {
            "colorbar": {
             "outlinewidth": 0,
             "ticks": ""
            },
            "type": "mesh3d"
           }
          ],
          "parcoords": [
           {
            "line": {
             "colorbar": {
              "outlinewidth": 0,
              "ticks": ""
             }
            },
            "type": "parcoords"
           }
          ],
          "pie": [
           {
            "automargin": true,
            "type": "pie"
           }
          ],
          "scatter": [
           {
            "marker": {
             "colorbar": {
              "outlinewidth": 0,
              "ticks": ""
             }
            },
            "type": "scatter"
           }
          ],
          "scatter3d": [
           {
            "line": {
             "colorbar": {
              "outlinewidth": 0,
              "ticks": ""
             }
            },
            "marker": {
             "colorbar": {
              "outlinewidth": 0,
              "ticks": ""
             }
            },
            "type": "scatter3d"
           }
          ],
          "scattercarpet": [
           {
            "marker": {
             "colorbar": {
              "outlinewidth": 0,
              "ticks": ""
             }
            },
            "type": "scattercarpet"
           }
          ],
          "scattergeo": [
           {
            "marker": {
             "colorbar": {
              "outlinewidth": 0,
              "ticks": ""
             }
            },
            "type": "scattergeo"
           }
          ],
          "scattergl": [
           {
            "marker": {
             "colorbar": {
              "outlinewidth": 0,
              "ticks": ""
             }
            },
            "type": "scattergl"
           }
          ],
          "scattermapbox": [
           {
            "marker": {
             "colorbar": {
              "outlinewidth": 0,
              "ticks": ""
             }
            },
            "type": "scattermapbox"
           }
          ],
          "scatterpolar": [
           {
            "marker": {
             "colorbar": {
              "outlinewidth": 0,
              "ticks": ""
             }
            },
            "type": "scatterpolar"
           }
          ],
          "scatterpolargl": [
           {
            "marker": {
             "colorbar": {
              "outlinewidth": 0,
              "ticks": ""
             }
            },
            "type": "scatterpolargl"
           }
          ],
          "scatterternary": [
           {
            "marker": {
             "colorbar": {
              "outlinewidth": 0,
              "ticks": ""
             }
            },
            "type": "scatterternary"
           }
          ],
          "surface": [
           {
            "colorbar": {
             "outlinewidth": 0,
             "ticks": ""
            },
            "colorscale": [
             [
              0,
              "#0d0887"
             ],
             [
              0.1111111111111111,
              "#46039f"
             ],
             [
              0.2222222222222222,
              "#7201a8"
             ],
             [
              0.3333333333333333,
              "#9c179e"
             ],
             [
              0.4444444444444444,
              "#bd3786"
             ],
             [
              0.5555555555555556,
              "#d8576b"
             ],
             [
              0.6666666666666666,
              "#ed7953"
             ],
             [
              0.7777777777777778,
              "#fb9f3a"
             ],
             [
              0.8888888888888888,
              "#fdca26"
             ],
             [
              1,
              "#f0f921"
             ]
            ],
            "type": "surface"
           }
          ],
          "table": [
           {
            "cells": {
             "fill": {
              "color": "#EBF0F8"
             },
             "line": {
              "color": "white"
             }
            },
            "header": {
             "fill": {
              "color": "#C8D4E3"
             },
             "line": {
              "color": "white"
             }
            },
            "type": "table"
           }
          ]
         },
         "layout": {
          "annotationdefaults": {
           "arrowcolor": "#2a3f5f",
           "arrowhead": 0,
           "arrowwidth": 1
          },
          "coloraxis": {
           "colorbar": {
            "outlinewidth": 0,
            "ticks": ""
           }
          },
          "colorscale": {
           "diverging": [
            [
             0,
             "#8e0152"
            ],
            [
             0.1,
             "#c51b7d"
            ],
            [
             0.2,
             "#de77ae"
            ],
            [
             0.3,
             "#f1b6da"
            ],
            [
             0.4,
             "#fde0ef"
            ],
            [
             0.5,
             "#f7f7f7"
            ],
            [
             0.6,
             "#e6f5d0"
            ],
            [
             0.7,
             "#b8e186"
            ],
            [
             0.8,
             "#7fbc41"
            ],
            [
             0.9,
             "#4d9221"
            ],
            [
             1,
             "#276419"
            ]
           ],
           "sequential": [
            [
             0,
             "#0d0887"
            ],
            [
             0.1111111111111111,
             "#46039f"
            ],
            [
             0.2222222222222222,
             "#7201a8"
            ],
            [
             0.3333333333333333,
             "#9c179e"
            ],
            [
             0.4444444444444444,
             "#bd3786"
            ],
            [
             0.5555555555555556,
             "#d8576b"
            ],
            [
             0.6666666666666666,
             "#ed7953"
            ],
            [
             0.7777777777777778,
             "#fb9f3a"
            ],
            [
             0.8888888888888888,
             "#fdca26"
            ],
            [
             1,
             "#f0f921"
            ]
           ],
           "sequentialminus": [
            [
             0,
             "#0d0887"
            ],
            [
             0.1111111111111111,
             "#46039f"
            ],
            [
             0.2222222222222222,
             "#7201a8"
            ],
            [
             0.3333333333333333,
             "#9c179e"
            ],
            [
             0.4444444444444444,
             "#bd3786"
            ],
            [
             0.5555555555555556,
             "#d8576b"
            ],
            [
             0.6666666666666666,
             "#ed7953"
            ],
            [
             0.7777777777777778,
             "#fb9f3a"
            ],
            [
             0.8888888888888888,
             "#fdca26"
            ],
            [
             1,
             "#f0f921"
            ]
           ]
          },
          "colorway": [
           "#636efa",
           "#EF553B",
           "#00cc96",
           "#ab63fa",
           "#FFA15A",
           "#19d3f3",
           "#FF6692",
           "#B6E880",
           "#FF97FF",
           "#FECB52"
          ],
          "font": {
           "color": "#2a3f5f"
          },
          "geo": {
           "bgcolor": "white",
           "lakecolor": "white",
           "landcolor": "#E5ECF6",
           "showlakes": true,
           "showland": true,
           "subunitcolor": "white"
          },
          "hoverlabel": {
           "align": "left"
          },
          "hovermode": "closest",
          "mapbox": {
           "style": "light"
          },
          "paper_bgcolor": "white",
          "plot_bgcolor": "#E5ECF6",
          "polar": {
           "angularaxis": {
            "gridcolor": "white",
            "linecolor": "white",
            "ticks": ""
           },
           "bgcolor": "#E5ECF6",
           "radialaxis": {
            "gridcolor": "white",
            "linecolor": "white",
            "ticks": ""
           }
          },
          "scene": {
           "xaxis": {
            "backgroundcolor": "#E5ECF6",
            "gridcolor": "white",
            "gridwidth": 2,
            "linecolor": "white",
            "showbackground": true,
            "ticks": "",
            "zerolinecolor": "white"
           },
           "yaxis": {
            "backgroundcolor": "#E5ECF6",
            "gridcolor": "white",
            "gridwidth": 2,
            "linecolor": "white",
            "showbackground": true,
            "ticks": "",
            "zerolinecolor": "white"
           },
           "zaxis": {
            "backgroundcolor": "#E5ECF6",
            "gridcolor": "white",
            "gridwidth": 2,
            "linecolor": "white",
            "showbackground": true,
            "ticks": "",
            "zerolinecolor": "white"
           }
          },
          "shapedefaults": {
           "line": {
            "color": "#2a3f5f"
           }
          },
          "ternary": {
           "aaxis": {
            "gridcolor": "white",
            "linecolor": "white",
            "ticks": ""
           },
           "baxis": {
            "gridcolor": "white",
            "linecolor": "white",
            "ticks": ""
           },
           "bgcolor": "#E5ECF6",
           "caxis": {
            "gridcolor": "white",
            "linecolor": "white",
            "ticks": ""
           }
          },
          "title": {
           "x": 0.05
          },
          "xaxis": {
           "automargin": true,
           "gridcolor": "white",
           "linecolor": "white",
           "ticks": "",
           "title": {
            "standoff": 15
           },
           "zerolinecolor": "white",
           "zerolinewidth": 2
          },
          "yaxis": {
           "automargin": true,
           "gridcolor": "white",
           "linecolor": "white",
           "ticks": "",
           "title": {
            "standoff": 15
           },
           "zerolinecolor": "white",
           "zerolinewidth": 2
          }
         }
        },
        "xaxis": {
         "anchor": "y",
         "domain": [
          0,
          1
         ],
         "title": {
          "text": "x"
         }
        },
        "yaxis": {
         "anchor": "x",
         "domain": [
          0,
          1
         ],
         "title": {
          "text": "Total buildings_mln euro"
         }
        }
       }
      },
      "text/html": [
       "<div>\n",
       "        \n",
       "        \n",
       "            <div id=\"b681f864-b267-49d0-9f4e-6874375c425e\" class=\"plotly-graph-div\" style=\"height:525px; width:100%;\"></div>\n",
       "            <script type=\"text/javascript\">\n",
       "                require([\"plotly\"], function(Plotly) {\n",
       "                    window.PLOTLYENV=window.PLOTLYENV || {};\n",
       "                    \n",
       "                if (document.getElementById(\"b681f864-b267-49d0-9f4e-6874375c425e\")) {\n",
       "                    Plotly.newPlot(\n",
       "                        'b681f864-b267-49d0-9f4e-6874375c425e',\n",
       "                        [{\"hoverlabel\": {\"namelength\": 0}, \"hovertemplate\": \"x=%{x}<br>Total buildings_mln euro=%{y}\", \"legendgroup\": \"\", \"marker\": {\"color\": \"#636efa\", \"symbol\": \"circle\"}, \"mode\": \"markers\", \"name\": \"\", \"showlegend\": false, \"type\": \"scatter\", \"x\": [\"2015 1st quarter\", \"2015 2nd quarter\", \"2015 3rd quarter\", \"2015 4th quarter\", \"2016 1st quarter\", \"2016 2nd quarter\", \"2016 3rd quarter\", \"2016 4th quarter\", \"2017 1st quarter\", \"2017 2nd quarter\", \"2017 3rd quarter\", \"2017 4th quarter\", \"2018 1st quarter\", \"2018 2nd quarter\", \"2018 3rd quarter\", \"2018 4th quarter\", \"2019 1st quarter\", \"2019 2nd quarter\", \"2019 3rd quarter\", \"2019 4th quarter\"], \"xaxis\": \"x\", \"y\": [3095, 4321, 2895, 2786, 2811, 3066, 3479, 3502, 3659, 4329, 4361, 4386, 4155, 4348, 4614, 5173, 4086, 4282, 4198, 4197], \"yaxis\": \"y\"}],\n",
       "                        {\"legend\": {\"tracegroupgap\": 0}, \"margin\": {\"t\": 60}, \"template\": {\"data\": {\"bar\": [{\"error_x\": {\"color\": \"#2a3f5f\"}, \"error_y\": {\"color\": \"#2a3f5f\"}, \"marker\": {\"line\": {\"color\": \"#E5ECF6\", \"width\": 0.5}}, \"type\": \"bar\"}], \"barpolar\": [{\"marker\": {\"line\": {\"color\": \"#E5ECF6\", \"width\": 0.5}}, \"type\": \"barpolar\"}], \"carpet\": [{\"aaxis\": {\"endlinecolor\": \"#2a3f5f\", \"gridcolor\": \"white\", \"linecolor\": \"white\", \"minorgridcolor\": \"white\", \"startlinecolor\": \"#2a3f5f\"}, \"baxis\": {\"endlinecolor\": \"#2a3f5f\", \"gridcolor\": \"white\", \"linecolor\": \"white\", \"minorgridcolor\": \"white\", \"startlinecolor\": \"#2a3f5f\"}, \"type\": \"carpet\"}], \"choropleth\": [{\"colorbar\": {\"outlinewidth\": 0, \"ticks\": \"\"}, \"type\": \"choropleth\"}], \"contour\": [{\"colorbar\": {\"outlinewidth\": 0, \"ticks\": \"\"}, \"colorscale\": [[0.0, \"#0d0887\"], [0.1111111111111111, \"#46039f\"], [0.2222222222222222, \"#7201a8\"], [0.3333333333333333, \"#9c179e\"], [0.4444444444444444, \"#bd3786\"], [0.5555555555555556, \"#d8576b\"], [0.6666666666666666, \"#ed7953\"], [0.7777777777777778, \"#fb9f3a\"], [0.8888888888888888, \"#fdca26\"], [1.0, \"#f0f921\"]], \"type\": \"contour\"}], \"contourcarpet\": [{\"colorbar\": {\"outlinewidth\": 0, \"ticks\": \"\"}, \"type\": \"contourcarpet\"}], \"heatmap\": [{\"colorbar\": {\"outlinewidth\": 0, \"ticks\": \"\"}, \"colorscale\": [[0.0, \"#0d0887\"], [0.1111111111111111, \"#46039f\"], [0.2222222222222222, \"#7201a8\"], [0.3333333333333333, \"#9c179e\"], [0.4444444444444444, \"#bd3786\"], [0.5555555555555556, \"#d8576b\"], [0.6666666666666666, \"#ed7953\"], [0.7777777777777778, \"#fb9f3a\"], [0.8888888888888888, \"#fdca26\"], [1.0, \"#f0f921\"]], \"type\": \"heatmap\"}], \"heatmapgl\": [{\"colorbar\": {\"outlinewidth\": 0, \"ticks\": \"\"}, \"colorscale\": [[0.0, \"#0d0887\"], [0.1111111111111111, \"#46039f\"], [0.2222222222222222, \"#7201a8\"], [0.3333333333333333, \"#9c179e\"], [0.4444444444444444, \"#bd3786\"], [0.5555555555555556, \"#d8576b\"], [0.6666666666666666, \"#ed7953\"], [0.7777777777777778, \"#fb9f3a\"], [0.8888888888888888, \"#fdca26\"], [1.0, \"#f0f921\"]], \"type\": \"heatmapgl\"}], \"histogram\": [{\"marker\": {\"colorbar\": {\"outlinewidth\": 0, \"ticks\": \"\"}}, \"type\": \"histogram\"}], \"histogram2d\": [{\"colorbar\": {\"outlinewidth\": 0, \"ticks\": \"\"}, \"colorscale\": [[0.0, \"#0d0887\"], [0.1111111111111111, \"#46039f\"], [0.2222222222222222, \"#7201a8\"], [0.3333333333333333, \"#9c179e\"], [0.4444444444444444, \"#bd3786\"], [0.5555555555555556, \"#d8576b\"], [0.6666666666666666, \"#ed7953\"], [0.7777777777777778, \"#fb9f3a\"], [0.8888888888888888, \"#fdca26\"], [1.0, \"#f0f921\"]], \"type\": \"histogram2d\"}], \"histogram2dcontour\": [{\"colorbar\": {\"outlinewidth\": 0, \"ticks\": \"\"}, \"colorscale\": [[0.0, \"#0d0887\"], [0.1111111111111111, \"#46039f\"], [0.2222222222222222, \"#7201a8\"], [0.3333333333333333, \"#9c179e\"], [0.4444444444444444, \"#bd3786\"], [0.5555555555555556, \"#d8576b\"], [0.6666666666666666, \"#ed7953\"], [0.7777777777777778, \"#fb9f3a\"], [0.8888888888888888, \"#fdca26\"], [1.0, \"#f0f921\"]], \"type\": \"histogram2dcontour\"}], \"mesh3d\": [{\"colorbar\": {\"outlinewidth\": 0, \"ticks\": \"\"}, \"type\": \"mesh3d\"}], \"parcoords\": [{\"line\": {\"colorbar\": {\"outlinewidth\": 0, \"ticks\": \"\"}}, \"type\": \"parcoords\"}], \"pie\": [{\"automargin\": true, \"type\": \"pie\"}], \"scatter\": [{\"marker\": {\"colorbar\": {\"outlinewidth\": 0, \"ticks\": \"\"}}, \"type\": \"scatter\"}], \"scatter3d\": [{\"line\": {\"colorbar\": {\"outlinewidth\": 0, \"ticks\": \"\"}}, \"marker\": {\"colorbar\": {\"outlinewidth\": 0, \"ticks\": \"\"}}, \"type\": \"scatter3d\"}], \"scattercarpet\": [{\"marker\": {\"colorbar\": {\"outlinewidth\": 0, \"ticks\": \"\"}}, \"type\": \"scattercarpet\"}], \"scattergeo\": [{\"marker\": {\"colorbar\": {\"outlinewidth\": 0, \"ticks\": \"\"}}, \"type\": \"scattergeo\"}], \"scattergl\": [{\"marker\": {\"colorbar\": {\"outlinewidth\": 0, \"ticks\": \"\"}}, \"type\": \"scattergl\"}], \"scattermapbox\": [{\"marker\": {\"colorbar\": {\"outlinewidth\": 0, \"ticks\": \"\"}}, \"type\": \"scattermapbox\"}], \"scatterpolar\": [{\"marker\": {\"colorbar\": {\"outlinewidth\": 0, \"ticks\": \"\"}}, \"type\": \"scatterpolar\"}], \"scatterpolargl\": [{\"marker\": {\"colorbar\": {\"outlinewidth\": 0, \"ticks\": \"\"}}, \"type\": \"scatterpolargl\"}], \"scatterternary\": [{\"marker\": {\"colorbar\": {\"outlinewidth\": 0, \"ticks\": \"\"}}, \"type\": \"scatterternary\"}], \"surface\": [{\"colorbar\": {\"outlinewidth\": 0, \"ticks\": \"\"}, \"colorscale\": [[0.0, \"#0d0887\"], [0.1111111111111111, \"#46039f\"], [0.2222222222222222, \"#7201a8\"], [0.3333333333333333, \"#9c179e\"], [0.4444444444444444, \"#bd3786\"], [0.5555555555555556, \"#d8576b\"], [0.6666666666666666, \"#ed7953\"], [0.7777777777777778, \"#fb9f3a\"], [0.8888888888888888, \"#fdca26\"], [1.0, \"#f0f921\"]], \"type\": \"surface\"}], \"table\": [{\"cells\": {\"fill\": {\"color\": \"#EBF0F8\"}, \"line\": {\"color\": \"white\"}}, \"header\": {\"fill\": {\"color\": \"#C8D4E3\"}, \"line\": {\"color\": \"white\"}}, \"type\": \"table\"}]}, \"layout\": {\"annotationdefaults\": {\"arrowcolor\": \"#2a3f5f\", \"arrowhead\": 0, \"arrowwidth\": 1}, \"coloraxis\": {\"colorbar\": {\"outlinewidth\": 0, \"ticks\": \"\"}}, \"colorscale\": {\"diverging\": [[0, \"#8e0152\"], [0.1, \"#c51b7d\"], [0.2, \"#de77ae\"], [0.3, \"#f1b6da\"], [0.4, \"#fde0ef\"], [0.5, \"#f7f7f7\"], [0.6, \"#e6f5d0\"], [0.7, \"#b8e186\"], [0.8, \"#7fbc41\"], [0.9, \"#4d9221\"], [1, \"#276419\"]], \"sequential\": [[0.0, \"#0d0887\"], [0.1111111111111111, \"#46039f\"], [0.2222222222222222, \"#7201a8\"], [0.3333333333333333, \"#9c179e\"], [0.4444444444444444, \"#bd3786\"], [0.5555555555555556, \"#d8576b\"], [0.6666666666666666, \"#ed7953\"], [0.7777777777777778, \"#fb9f3a\"], [0.8888888888888888, \"#fdca26\"], [1.0, \"#f0f921\"]], \"sequentialminus\": [[0.0, \"#0d0887\"], [0.1111111111111111, \"#46039f\"], [0.2222222222222222, \"#7201a8\"], [0.3333333333333333, \"#9c179e\"], [0.4444444444444444, \"#bd3786\"], [0.5555555555555556, \"#d8576b\"], [0.6666666666666666, \"#ed7953\"], [0.7777777777777778, \"#fb9f3a\"], [0.8888888888888888, \"#fdca26\"], [1.0, \"#f0f921\"]]}, \"colorway\": [\"#636efa\", \"#EF553B\", \"#00cc96\", \"#ab63fa\", \"#FFA15A\", \"#19d3f3\", \"#FF6692\", \"#B6E880\", \"#FF97FF\", \"#FECB52\"], \"font\": {\"color\": \"#2a3f5f\"}, \"geo\": {\"bgcolor\": \"white\", \"lakecolor\": \"white\", \"landcolor\": \"#E5ECF6\", \"showlakes\": true, \"showland\": true, \"subunitcolor\": \"white\"}, \"hoverlabel\": {\"align\": \"left\"}, \"hovermode\": \"closest\", \"mapbox\": {\"style\": \"light\"}, \"paper_bgcolor\": \"white\", \"plot_bgcolor\": \"#E5ECF6\", \"polar\": {\"angularaxis\": {\"gridcolor\": \"white\", \"linecolor\": \"white\", \"ticks\": \"\"}, \"bgcolor\": \"#E5ECF6\", \"radialaxis\": {\"gridcolor\": \"white\", \"linecolor\": \"white\", \"ticks\": \"\"}}, \"scene\": {\"xaxis\": {\"backgroundcolor\": \"#E5ECF6\", \"gridcolor\": \"white\", \"gridwidth\": 2, \"linecolor\": \"white\", \"showbackground\": true, \"ticks\": \"\", \"zerolinecolor\": \"white\"}, \"yaxis\": {\"backgroundcolor\": \"#E5ECF6\", \"gridcolor\": \"white\", \"gridwidth\": 2, \"linecolor\": \"white\", \"showbackground\": true, \"ticks\": \"\", \"zerolinecolor\": \"white\"}, \"zaxis\": {\"backgroundcolor\": \"#E5ECF6\", \"gridcolor\": \"white\", \"gridwidth\": 2, \"linecolor\": \"white\", \"showbackground\": true, \"ticks\": \"\", \"zerolinecolor\": \"white\"}}, \"shapedefaults\": {\"line\": {\"color\": \"#2a3f5f\"}}, \"ternary\": {\"aaxis\": {\"gridcolor\": \"white\", \"linecolor\": \"white\", \"ticks\": \"\"}, \"baxis\": {\"gridcolor\": \"white\", \"linecolor\": \"white\", \"ticks\": \"\"}, \"bgcolor\": \"#E5ECF6\", \"caxis\": {\"gridcolor\": \"white\", \"linecolor\": \"white\", \"ticks\": \"\"}}, \"title\": {\"x\": 0.05}, \"xaxis\": {\"automargin\": true, \"gridcolor\": \"white\", \"linecolor\": \"white\", \"ticks\": \"\", \"title\": {\"standoff\": 15}, \"zerolinecolor\": \"white\", \"zerolinewidth\": 2}, \"yaxis\": {\"automargin\": true, \"gridcolor\": \"white\", \"linecolor\": \"white\", \"ticks\": \"\", \"title\": {\"standoff\": 15}, \"zerolinecolor\": \"white\", \"zerolinewidth\": 2}}}, \"xaxis\": {\"anchor\": \"y\", \"domain\": [0.0, 1.0], \"title\": {\"text\": \"x\"}}, \"yaxis\": {\"anchor\": \"x\", \"domain\": [0.0, 1.0], \"title\": {\"text\": \"Total buildings_mln euro\"}}},\n",
       "                        {\"responsive\": true}\n",
       "                    ).then(function(){\n",
       "                            \n",
       "var gd = document.getElementById('b681f864-b267-49d0-9f4e-6874375c425e');\n",
       "var x = new MutationObserver(function (mutations, observer) {{\n",
       "        var display = window.getComputedStyle(gd).display;\n",
       "        if (!display || display === 'none') {{\n",
       "            console.log([gd, 'removed!']);\n",
       "            Plotly.purge(gd);\n",
       "            observer.disconnect();\n",
       "        }}\n",
       "}});\n",
       "\n",
       "// Listen for the removal of the full notebook cells\n",
       "var notebookContainer = gd.closest('#notebook-container');\n",
       "if (notebookContainer) {{\n",
       "    x.observe(notebookContainer, {childList: true});\n",
       "}}\n",
       "\n",
       "// Listen for the clearing of the current output cell\n",
       "var outputEl = gd.closest('.output');\n",
       "if (outputEl) {{\n",
       "    x.observe(outputEl, {childList: true});\n",
       "}}\n",
       "\n",
       "                        })\n",
       "                };\n",
       "                });\n",
       "            </script>\n",
       "        </div>"
      ]
     },
     "metadata": {},
     "output_type": "display_data"
    }
   ],
   "source": [
    "bldg_start = pd.read_excel('../data/costs/costs_buildings started.xlsx')\n",
    "bldg_start.set_index(\"Periods\", inplace = True) \n",
    "\n",
    "import plotly.express as px\n",
    "fig = px.scatter(bldg_start, x=bldg_start.index, y=bldg_start['Total buildings_mln euro'])\n",
    "fig.show()"
   ]
  },
  {
   "cell_type": "markdown",
   "metadata": {
    "Collapsed": "false"
   },
   "source": [
    "#### From the past 5 years, 2018 had the highest peak in new buildings construction costs. About 5500 million euros were spent in NL on construction."
   ]
  },
  {
   "cell_type": "markdown",
   "metadata": {
    "Collapsed": "false"
   },
   "source": [
    "# Analysis of Costs in the different regions of the NL (North, South, East and West) for Housing and Education sectors."
   ]
  },
  {
   "cell_type": "markdown",
   "metadata": {
    "Collapsed": "false"
   },
   "source": [
    "### Total \"Dwelling\" Costs for all the regions of Netherlands"
   ]
  },
  {
   "cell_type": "code",
   "execution_count": 18,
   "metadata": {
    "Collapsed": "false"
   },
   "outputs": [
    {
     "data": {
      "text/html": [
       "<div>\n",
       "<style scoped>\n",
       "    .dataframe tbody tr th:only-of-type {\n",
       "        vertical-align: middle;\n",
       "    }\n",
       "\n",
       "    .dataframe tbody tr th {\n",
       "        vertical-align: top;\n",
       "    }\n",
       "\n",
       "    .dataframe thead th {\n",
       "        text-align: right;\n",
       "    }\n",
       "</style>\n",
       "<table border=\"1\" class=\"dataframe\">\n",
       "  <thead>\n",
       "    <tr style=\"text-align: right;\">\n",
       "      <th></th>\n",
       "      <th>Noord</th>\n",
       "      <th>Oost</th>\n",
       "      <th>West</th>\n",
       "      <th>Zuid</th>\n",
       "    </tr>\n",
       "    <tr>\n",
       "      <th>Periods</th>\n",
       "      <th></th>\n",
       "      <th></th>\n",
       "      <th></th>\n",
       "      <th></th>\n",
       "    </tr>\n",
       "  </thead>\n",
       "  <tbody>\n",
       "    <tr>\n",
       "      <th>2015 1st quarter</th>\n",
       "      <td>152</td>\n",
       "      <td>506</td>\n",
       "      <td>1051</td>\n",
       "      <td>437</td>\n",
       "    </tr>\n",
       "    <tr>\n",
       "      <th>2015 2nd quarter</th>\n",
       "      <td>109</td>\n",
       "      <td>341</td>\n",
       "      <td>992</td>\n",
       "      <td>403</td>\n",
       "    </tr>\n",
       "    <tr>\n",
       "      <th>2015 3rd quarter</th>\n",
       "      <td>95</td>\n",
       "      <td>273</td>\n",
       "      <td>716</td>\n",
       "      <td>228</td>\n",
       "    </tr>\n",
       "    <tr>\n",
       "      <th>2015 4th quarter</th>\n",
       "      <td>89</td>\n",
       "      <td>318</td>\n",
       "      <td>659</td>\n",
       "      <td>299</td>\n",
       "    </tr>\n",
       "    <tr>\n",
       "      <th>2016 1st quarter</th>\n",
       "      <td>97</td>\n",
       "      <td>327</td>\n",
       "      <td>663</td>\n",
       "      <td>311</td>\n",
       "    </tr>\n",
       "  </tbody>\n",
       "</table>\n",
       "</div>"
      ],
      "text/plain": [
       "                  Noord  Oost  West  Zuid\n",
       "Periods                                  \n",
       "2015 1st quarter    152   506  1051   437\n",
       "2015 2nd quarter    109   341   992   403\n",
       "2015 3rd quarter     95   273   716   228\n",
       "2015 4th quarter     89   318   659   299\n",
       "2016 1st quarter     97   327   663   311"
      ]
     },
     "execution_count": 18,
     "metadata": {},
     "output_type": "execute_result"
    }
   ],
   "source": [
    "noord_housing = pd.read_excel('../data/regions/noord_nederland_housing_costs.xlsx')\n",
    "noord_housing.rename(columns = {'Orders received by contractors_mln euro':'Noord'}, inplace = True)\n",
    "\n",
    "oost_housing = pd.read_excel('../data/regions/oost_nederland_housing_costs.xlsx')\n",
    "oost_housing.rename(columns = {'Orders received by contractors_mln euro':'Oost'}, inplace = True)\n",
    "\n",
    "west_housing = pd.read_excel('../data/regions/west_nederland_housing_costs.xlsx')\n",
    "west_housing.rename(columns = {'Orders received by contractors_mln euro':'West'}, inplace = True)\n",
    "\n",
    "\n",
    "zuid_housing = pd.read_excel('../data/regions/zuid_nederland_housing_costs.xlsx')\n",
    "zuid_housing.rename(columns = {'Orders received by contractors_mln euro':'Zuid'}, inplace = True)\n",
    "\n",
    "\n",
    "# Orders received by contractors_mln euro for all the regions\n",
    "\n",
    "combined = pd.concat([noord_housing['Noord'],oost_housing['Oost'],west_housing['West'],zuid_housing['Zuid']], axis=1)\n",
    "                                  \n",
    "combined_orders_cost = combined.set_index(noord_housing[\"Periods\"])                                 \n",
    "combined_orders_cost.head()"
   ]
  },
  {
   "cell_type": "markdown",
   "metadata": {
    "Collapsed": "false"
   },
   "source": [
    "### Total \"Education\" Costs for all the regions of Netherlands"
   ]
  },
  {
   "cell_type": "code",
   "execution_count": 19,
   "metadata": {
    "Collapsed": "false"
   },
   "outputs": [
    {
     "data": {
      "text/html": [
       "<div>\n",
       "<style scoped>\n",
       "    .dataframe tbody tr th:only-of-type {\n",
       "        vertical-align: middle;\n",
       "    }\n",
       "\n",
       "    .dataframe tbody tr th {\n",
       "        vertical-align: top;\n",
       "    }\n",
       "\n",
       "    .dataframe thead th {\n",
       "        text-align: right;\n",
       "    }\n",
       "</style>\n",
       "<table border=\"1\" class=\"dataframe\">\n",
       "  <thead>\n",
       "    <tr style=\"text-align: right;\">\n",
       "      <th></th>\n",
       "      <th>Noord</th>\n",
       "      <th>Oost</th>\n",
       "      <th>West</th>\n",
       "      <th>Zuid</th>\n",
       "    </tr>\n",
       "    <tr>\n",
       "      <th>Periods</th>\n",
       "      <th></th>\n",
       "      <th></th>\n",
       "      <th></th>\n",
       "      <th></th>\n",
       "    </tr>\n",
       "  </thead>\n",
       "  <tbody>\n",
       "    <tr>\n",
       "      <th>2015 1st quarter</th>\n",
       "      <td>23</td>\n",
       "      <td>34</td>\n",
       "      <td>51</td>\n",
       "      <td>3</td>\n",
       "    </tr>\n",
       "    <tr>\n",
       "      <th>2015 2nd quarter</th>\n",
       "      <td>12</td>\n",
       "      <td>33</td>\n",
       "      <td>47</td>\n",
       "      <td>15</td>\n",
       "    </tr>\n",
       "    <tr>\n",
       "      <th>2015 3rd quarter</th>\n",
       "      <td>9</td>\n",
       "      <td>9</td>\n",
       "      <td>18</td>\n",
       "      <td>22</td>\n",
       "    </tr>\n",
       "    <tr>\n",
       "      <th>2015 4th quarter</th>\n",
       "      <td>2</td>\n",
       "      <td>16</td>\n",
       "      <td>68</td>\n",
       "      <td>16</td>\n",
       "    </tr>\n",
       "    <tr>\n",
       "      <th>2016 1st quarter</th>\n",
       "      <td>2</td>\n",
       "      <td>4</td>\n",
       "      <td>46</td>\n",
       "      <td>17</td>\n",
       "    </tr>\n",
       "    <tr>\n",
       "      <th>2016 2nd quarter</th>\n",
       "      <td>2</td>\n",
       "      <td>6</td>\n",
       "      <td>13</td>\n",
       "      <td>32</td>\n",
       "    </tr>\n",
       "    <tr>\n",
       "      <th>2016 3rd quarter</th>\n",
       "      <td>0</td>\n",
       "      <td>13</td>\n",
       "      <td>49</td>\n",
       "      <td>24</td>\n",
       "    </tr>\n",
       "    <tr>\n",
       "      <th>2016 4th quarter</th>\n",
       "      <td>0</td>\n",
       "      <td>2</td>\n",
       "      <td>6</td>\n",
       "      <td>16</td>\n",
       "    </tr>\n",
       "    <tr>\n",
       "      <th>2017 1st quarter</th>\n",
       "      <td>13</td>\n",
       "      <td>24</td>\n",
       "      <td>28</td>\n",
       "      <td>7</td>\n",
       "    </tr>\n",
       "    <tr>\n",
       "      <th>2017 2nd quarter</th>\n",
       "      <td>115</td>\n",
       "      <td>6</td>\n",
       "      <td>29</td>\n",
       "      <td>12</td>\n",
       "    </tr>\n",
       "    <tr>\n",
       "      <th>2017 3rd quarter</th>\n",
       "      <td>7</td>\n",
       "      <td>2</td>\n",
       "      <td>19</td>\n",
       "      <td>11</td>\n",
       "    </tr>\n",
       "    <tr>\n",
       "      <th>2017 4th quarter</th>\n",
       "      <td>0</td>\n",
       "      <td>0</td>\n",
       "      <td>0</td>\n",
       "      <td>0</td>\n",
       "    </tr>\n",
       "    <tr>\n",
       "      <th>2018 1st quarter</th>\n",
       "      <td>0</td>\n",
       "      <td>0</td>\n",
       "      <td>0</td>\n",
       "      <td>0</td>\n",
       "    </tr>\n",
       "    <tr>\n",
       "      <th>2018 2nd quarter</th>\n",
       "      <td>0</td>\n",
       "      <td>0</td>\n",
       "      <td>0</td>\n",
       "      <td>0</td>\n",
       "    </tr>\n",
       "    <tr>\n",
       "      <th>2018 3rd quarter</th>\n",
       "      <td>0</td>\n",
       "      <td>0</td>\n",
       "      <td>0</td>\n",
       "      <td>0</td>\n",
       "    </tr>\n",
       "    <tr>\n",
       "      <th>2018 4th quarter</th>\n",
       "      <td>0</td>\n",
       "      <td>0</td>\n",
       "      <td>0</td>\n",
       "      <td>0</td>\n",
       "    </tr>\n",
       "    <tr>\n",
       "      <th>2019 1st quarter</th>\n",
       "      <td>0</td>\n",
       "      <td>0</td>\n",
       "      <td>0</td>\n",
       "      <td>0</td>\n",
       "    </tr>\n",
       "    <tr>\n",
       "      <th>2019 2nd quarter</th>\n",
       "      <td>0</td>\n",
       "      <td>0</td>\n",
       "      <td>0</td>\n",
       "      <td>0</td>\n",
       "    </tr>\n",
       "    <tr>\n",
       "      <th>2019 3rd quarter</th>\n",
       "      <td>0</td>\n",
       "      <td>0</td>\n",
       "      <td>0</td>\n",
       "      <td>0</td>\n",
       "    </tr>\n",
       "    <tr>\n",
       "      <th>2019 4th quarter</th>\n",
       "      <td>0</td>\n",
       "      <td>0</td>\n",
       "      <td>0</td>\n",
       "      <td>0</td>\n",
       "    </tr>\n",
       "  </tbody>\n",
       "</table>\n",
       "</div>"
      ],
      "text/plain": [
       "                  Noord  Oost  West  Zuid\n",
       "Periods                                  \n",
       "2015 1st quarter     23    34    51     3\n",
       "2015 2nd quarter     12    33    47    15\n",
       "2015 3rd quarter      9     9    18    22\n",
       "2015 4th quarter      2    16    68    16\n",
       "2016 1st quarter      2     4    46    17\n",
       "2016 2nd quarter      2     6    13    32\n",
       "2016 3rd quarter      0    13    49    24\n",
       "2016 4th quarter      0     2     6    16\n",
       "2017 1st quarter     13    24    28     7\n",
       "2017 2nd quarter    115     6    29    12\n",
       "2017 3rd quarter      7     2    19    11\n",
       "2017 4th quarter      0     0     0     0\n",
       "2018 1st quarter      0     0     0     0\n",
       "2018 2nd quarter      0     0     0     0\n",
       "2018 3rd quarter      0     0     0     0\n",
       "2018 4th quarter      0     0     0     0\n",
       "2019 1st quarter      0     0     0     0\n",
       "2019 2nd quarter      0     0     0     0\n",
       "2019 3rd quarter      0     0     0     0\n",
       "2019 4th quarter      0     0     0     0"
      ]
     },
     "execution_count": 19,
     "metadata": {},
     "output_type": "execute_result"
    }
   ],
   "source": [
    "noord_education = pd.read_excel('../data/regions/noord_nederland_education_costs.xlsx')\n",
    "noord_education.rename(columns = {'Orders received by contractors_mln euro':'Noord'}, inplace = True)\n",
    "\n",
    "oost_education = pd.read_excel('../data/regions/oost_nederland_education_costs.xlsx')\n",
    "oost_education.rename(columns = {'Orders received by contractors_mln euro':'Oost'}, inplace = True)\n",
    "\n",
    "west_education = pd.read_excel('../data/regions/west_nederland_education_costs.xlsx')\n",
    "west_education.rename(columns = {'Orders received by contractors_mln euro':'West'}, inplace = True)\n",
    "\n",
    "\n",
    "zuid_education = pd.read_excel('../data/regions/zuid_nederland_education_costs.xlsx')\n",
    "zuid_education.rename(columns = {'Orders received by contractors_mln euro':'Zuid'}, inplace = True)\n",
    "\n",
    "\n",
    "# Orders received by contractors_mln euro for all the regions\n",
    "\n",
    "combined = pd.concat([noord_education['Noord'],oost_education['Oost'],west_education['West'],zuid_education['Zuid']], axis=1)\n",
    "                                  \n",
    "combined_education_cost = combined.set_index(noord_education[\"Periods\"])                                 \n",
    "combined_education_cost.head(50)"
   ]
  },
  {
   "cell_type": "markdown",
   "metadata": {
    "Collapsed": "false"
   },
   "source": [
    "# Regression Analysis\n",
    "\n",
    "#### I would like to assume that the \"Dwelling\" orders received by contractors and the number of \"Dwelling\" where the construction started are correlated. I would like to check if there is linear or a non linear regression between the variables."
   ]
  },
  {
   "cell_type": "code",
   "execution_count": 20,
   "metadata": {
    "Collapsed": "false"
   },
   "outputs": [],
   "source": [
    "# \"Dwelling\" costs for all the four regions of NL can be calculated by combining the values of all the 4 regions.\n",
    "\n",
    "noord_housing = pd.read_excel('../data/regions/noord_nederland_housing_costs.xlsx')\n",
    "oost_housing = pd.read_excel('../data/regions/oost_nederland_housing_costs.xlsx')\n",
    "west_housing = pd.read_excel('../data/regions/west_nederland_housing_costs.xlsx')\n",
    "zuid_housing = pd.read_excel('../data/regions/zuid_nederland_housing_costs.xlsx')\n",
    "\n"
   ]
  },
  {
   "cell_type": "markdown",
   "metadata": {},
   "source": [
    "### There are multiple columns in the dataframe that provided the million of euros spent and the number of buildings constructed that are in different stages.\n",
    "\n",
    "So, I would like to see how they are all correlated."
   ]
  },
  {
   "cell_type": "code",
   "execution_count": 21,
   "metadata": {},
   "outputs": [
    {
     "data": {
      "text/plain": [
       "<matplotlib.axes._subplots.AxesSubplot at 0x203b895cf08>"
      ]
     },
     "execution_count": 21,
     "metadata": {},
     "output_type": "execute_result"
    },
    {
     "data": {
      "image/png": "[encoded data removed]",
      "text/plain": [
       "<Figure size 1440x1080 with 2 Axes>"
      ]
     },
     "metadata": {
      "needs_background": "light"
     },
     "output_type": "display_data"
    }
   ],
   "source": [
    "corr = noord_housing.corr()\n",
    "\n",
    "# Heatmap\n",
    "\n",
    "plt.figure(figsize=(20,15))\n",
    "\n",
    "sns.heatmap(corr, annot=True)"
   ]
  },
  {
   "cell_type": "markdown",
   "metadata": {},
   "source": [
    "There is a positive correlation between \"Production of building projects\" and \"Building projects under construction\". This makes complete sense.\n",
    "\n",
    "There is also a positive correlation between \"Building projects started\" and \"Remaining production of buildings\". I think this correlation says that there is a continuous demand for buildings and the construction is a continuing. Since no information is provided on what each column means in the dataset its hard to definitely say what it means.\n",
    "\n",
    "The correlation that I find interesting is that there is a strong positive correaltion between \"Orders received by contractors_mln euro\" and \"Building projects not yet started\". This probably says that there is a backlog in the construction activities."
   ]
  },
  {
   "cell_type": "markdown",
   "metadata": {
    "Collapsed": "false"
   },
   "source": [
    "#### There is a positive correaltion between the two chosen variables.\n"
   ]
  },
  {
   "cell_type": "code",
   "execution_count": 22,
   "metadata": {},
   "outputs": [
    {
     "data": {
      "text/plain": [
       "Periods                                    0\n",
       "Orders received by contractors_mln euro    0\n",
       "Building projects started                  0\n",
       "Building projects not yet started          0\n",
       "Building projects under construction       0\n",
       "Production of building projects            0\n",
       "Remaining production of buildings          0\n",
       "Building projects completed                0\n",
       "dtype: int64"
      ]
     },
     "execution_count": 22,
     "metadata": {},
     "output_type": "execute_result"
    }
   ],
   "source": [
    "noord_housing.isna().sum()"
   ]
  },
  {
   "cell_type": "code",
   "execution_count": 23,
   "metadata": {},
   "outputs": [
    {
     "data": {
      "text/html": [
       "<div>\n",
       "<style scoped>\n",
       "    .dataframe tbody tr th:only-of-type {\n",
       "        vertical-align: middle;\n",
       "    }\n",
       "\n",
       "    .dataframe tbody tr th {\n",
       "        vertical-align: top;\n",
       "    }\n",
       "\n",
       "    .dataframe thead th {\n",
       "        text-align: right;\n",
       "    }\n",
       "</style>\n",
       "<table border=\"1\" class=\"dataframe\">\n",
       "  <thead>\n",
       "    <tr style=\"text-align: right;\">\n",
       "      <th></th>\n",
       "      <th>Orders received by contractors_mln euro</th>\n",
       "      <th>Building projects started</th>\n",
       "    </tr>\n",
       "  </thead>\n",
       "  <tbody>\n",
       "    <tr>\n",
       "      <th>Orders received by contractors_mln euro</th>\n",
       "      <td>1.00000</td>\n",
       "      <td>-0.41343</td>\n",
       "    </tr>\n",
       "    <tr>\n",
       "      <th>Building projects started</th>\n",
       "      <td>-0.41343</td>\n",
       "      <td>1.00000</td>\n",
       "    </tr>\n",
       "  </tbody>\n",
       "</table>\n",
       "</div>"
      ],
      "text/plain": [
       "                                         Orders received by contractors_mln euro  \\\n",
       "Orders received by contractors_mln euro                                  1.00000   \n",
       "Building projects started                                               -0.41343   \n",
       "\n",
       "                                         Building projects started  \n",
       "Orders received by contractors_mln euro                   -0.41343  \n",
       "Building projects started                                  1.00000  "
      ]
     },
     "execution_count": 23,
     "metadata": {},
     "output_type": "execute_result"
    }
   ],
   "source": [
    "# Orders received by contractors_mln euro for all the regions\n",
    "\n",
    "reg_combined = noord_housing + oost_housing + west_housing + zuid_housing       \n",
    "\n",
    "# Checking the correlation between \"Orders received by contractors_mln euros\" and \"Building projects started\"\n",
    "\n",
    "reg_combined[[\"Orders received by contractors_mln euro\", \"Building projects started\"]].corr()"
   ]
  },
  {
   "cell_type": "markdown",
   "metadata": {
    "Collapsed": "false"
   },
   "source": [
    "### Building a regression model for the data from two varaibles \"Orders received by contractors_mln euros\" and \"Building projects started\""
   ]
  },
  {
   "cell_type": "code",
   "execution_count": 24,
   "metadata": {
    "Collapsed": "false"
   },
   "outputs": [
    {
     "data": {
      "text/plain": [
       "<matplotlib.axes._subplots.AxesSubplot at 0x203ba1b7248>"
      ]
     },
     "execution_count": 24,
     "metadata": {},
     "output_type": "execute_result"
    },
    {
     "data": {
      "image/png": "[encoded data removed]",
      "text/plain": [
       "<Figure size 432x288 with 1 Axes>"
      ]
     },
     "metadata": {
      "needs_background": "light"
     },
     "output_type": "display_data"
    }
   ],
   "source": [
    "sns.regplot(x=\"Orders received by contractors_mln euro\", y=\"Building projects started\", data=reg_combined)"
   ]
  },
  {
   "cell_type": "code",
   "execution_count": 25,
   "metadata": {
    "Collapsed": "false"
   },
   "outputs": [
    {
     "data": {
      "text/html": [
       "<table class=\"simpletable\">\n",
       "<caption>OLS Regression Results</caption>\n",
       "<tr>\n",
       "  <th>Dep. Variable:</th>    <td>Building projects started</td> <th>  R-squared:         </th> <td>   0.171</td>\n",
       "</tr>\n",
       "<tr>\n",
       "  <th>Model:</th>                       <td>OLS</td>            <th>  Adj. R-squared:    </th> <td>   0.125</td>\n",
       "</tr>\n",
       "<tr>\n",
       "  <th>Method:</th>                 <td>Least Squares</td>       <th>  F-statistic:       </th> <td>   3.711</td>\n",
       "</tr>\n",
       "<tr>\n",
       "  <th>Date:</th>                 <td>Sat, 13 Jun 2020</td>      <th>  Prob (F-statistic):</th>  <td>0.0700</td> \n",
       "</tr>\n",
       "<tr>\n",
       "  <th>Time:</th>                     <td>14:10:21</td>          <th>  Log-Likelihood:    </th> <td> -150.24</td>\n",
       "</tr>\n",
       "<tr>\n",
       "  <th>No. Observations:</th>          <td>    20</td>           <th>  AIC:               </th> <td>   304.5</td>\n",
       "</tr>\n",
       "<tr>\n",
       "  <th>Df Residuals:</th>              <td>    18</td>           <th>  BIC:               </th> <td>   306.5</td>\n",
       "</tr>\n",
       "<tr>\n",
       "  <th>Df Model:</th>                  <td>     1</td>           <th>                     </th>     <td> </td>   \n",
       "</tr>\n",
       "<tr>\n",
       "  <th>Covariance Type:</th>          <td>nonrobust</td>         <th>                     </th>     <td> </td>   \n",
       "</tr>\n",
       "</table>\n",
       "<table class=\"simpletable\">\n",
       "<tr>\n",
       "                     <td></td>                        <th>coef</th>     <th>std err</th>      <th>t</th>      <th>P>|t|</th>  <th>[0.025</th>    <th>0.975]</th>  \n",
       "</tr>\n",
       "<tr>\n",
       "  <th>const</th>                                   <td> 2295.4756</td> <td>  151.547</td> <td>   15.147</td> <td> 0.000</td> <td> 1977.087</td> <td> 2613.865</td>\n",
       "</tr>\n",
       "<tr>\n",
       "  <th>Orders received by contractors_mln euro</th> <td>   -0.2060</td> <td>    0.107</td> <td>   -1.926</td> <td> 0.070</td> <td>   -0.431</td> <td>    0.019</td>\n",
       "</tr>\n",
       "</table>\n",
       "<table class=\"simpletable\">\n",
       "<tr>\n",
       "  <th>Omnibus:</th>       <td> 0.445</td> <th>  Durbin-Watson:     </th> <td>   1.276</td>\n",
       "</tr>\n",
       "<tr>\n",
       "  <th>Prob(Omnibus):</th> <td> 0.800</td> <th>  Jarque-Bera (JB):  </th> <td>   0.544</td>\n",
       "</tr>\n",
       "<tr>\n",
       "  <th>Skew:</th>          <td> 0.279</td> <th>  Prob(JB):          </th> <td>   0.762</td>\n",
       "</tr>\n",
       "<tr>\n",
       "  <th>Kurtosis:</th>      <td> 2.416</td> <th>  Cond. No.          </th> <td>2.06e+03</td>\n",
       "</tr>\n",
       "</table><br/><br/>Warnings:<br/>[1] Standard Errors assume that the covariance matrix of the errors is correctly specified.<br/>[2] The condition number is large, 2.06e+03. This might indicate that there are<br/>strong multicollinearity or other numerical problems."
      ],
      "text/plain": [
       "<class 'statsmodels.iolib.summary.Summary'>\n",
       "\"\"\"\n",
       "                                OLS Regression Results                               \n",
       "=====================================================================================\n",
       "Dep. Variable:     Building projects started   R-squared:                       0.171\n",
       "Model:                                   OLS   Adj. R-squared:                  0.125\n",
       "Method:                        Least Squares   F-statistic:                     3.711\n",
       "Date:                       Sat, 13 Jun 2020   Prob (F-statistic):             0.0700\n",
       "Time:                               14:10:21   Log-Likelihood:                -150.24\n",
       "No. Observations:                         20   AIC:                             304.5\n",
       "Df Residuals:                             18   BIC:                             306.5\n",
       "Df Model:                                  1                                         \n",
       "Covariance Type:                   nonrobust                                         \n",
       "===========================================================================================================\n",
       "                                              coef    std err          t      P>|t|      [0.025      0.975]\n",
       "-----------------------------------------------------------------------------------------------------------\n",
       "const                                    2295.4756    151.547     15.147      0.000    1977.087    2613.865\n",
       "Orders received by contractors_mln euro    -0.2060      0.107     -1.926      0.070      -0.431       0.019\n",
       "==============================================================================\n",
       "Omnibus:                        0.445   Durbin-Watson:                   1.276\n",
       "Prob(Omnibus):                  0.800   Jarque-Bera (JB):                0.544\n",
       "Skew:                           0.279   Prob(JB):                        0.762\n",
       "Kurtosis:                       2.416   Cond. No.                     2.06e+03\n",
       "==============================================================================\n",
       "\n",
       "Warnings:\n",
       "[1] Standard Errors assume that the covariance matrix of the errors is correctly specified.\n",
       "[2] The condition number is large, 2.06e+03. This might indicate that there are\n",
       "strong multicollinearity or other numerical problems.\n",
       "\"\"\""
      ]
     },
     "execution_count": 25,
     "metadata": {},
     "output_type": "execute_result"
    }
   ],
   "source": [
    "# I am using linear regression as there is a negative correlation between the data we want to analyze\n",
    "# In regression analysis, the dependent variable is denoted \"Y\" and the independent variables are denoted by \"X\".\n",
    "# Linear regression is also known as ordinary least squares (OLS) and linear least squares\n",
    "\n",
    "from scipy import stats\n",
    "import statsmodels.api as sm\n",
    "\n",
    "# Adding a Constant\n",
    "X = reg_combined['Orders received by contractors_mln euro']\n",
    "Y = reg_combined['Building projects started']\n",
    "\n",
    "x = sm.add_constant(X)\n",
    "\n",
    " \n",
    "results = sm.OLS(Y,x).fit()\n",
    " \n",
    "results.summary()\n"
   ]
  },
  {
   "cell_type": "markdown",
   "metadata": {
    "Collapsed": "false"
   },
   "source": [
    "\n",
    "\n",
    "\n",
    "#### From the above summary table, we see that the p-value is 0.007 and we can say that the variables are statistiacally significant.\n",
    "\n",
    "\n",
    "#### R-SQUARED:\n",
    "The R-squared value is a widely-used measure that describes how powerful a regression is. \n",
    "The R-squared measures how much of the total variability is explained by our model.\n",
    "Here the R-squared value is 0.567. R-squared of 1 would mean our model explains the entire variability of the data.\n",
    "What we usually observe are values ranging from 0.2 to 0.9. The value we got here fall under that category and we can conclude that the regression is strong.\n",
    "\n",
    "\n",
    "\n"
   ]
  },
  {
   "cell_type": "markdown",
   "metadata": {
    "Collapsed": "false"
   },
   "source": [
    "### Therefore there is a strong correlation between Housing orders received by contractors, and the number of Housing projects where the construction started \n"
   ]
  },
  {
   "cell_type": "markdown",
   "metadata": {
    "Collapsed": "false"
   },
   "source": [
    "### Plotting the regression model on the scatter plot."
   ]
  },
  {
   "cell_type": "code",
   "execution_count": 26,
   "metadata": {
    "Collapsed": "false"
   },
   "outputs": [
    {
     "data": {
      "image/png": "[encoded data removed]",
      "text/plain": [
       "<Figure size 432x288 with 1 Axes>"
      ]
     },
     "metadata": {
      "needs_background": "light"
     },
     "output_type": "display_data"
    }
   ],
   "source": [
    "import matplotlib.pyplot as plt\n",
    "\n",
    "plt.scatter(X,Y)\n",
    " \n",
    "# From the above summary table, the coefficient = 0.8371 which is \"Orders received by contractors_mln euro\", \n",
    "# and incercept is the constant is 256.4860    \n",
    "\n",
    "yhat = 0.8371*X + 256.4860\n",
    "\n",
    " \n",
    "fig = plt.plot(X,yhat, lw=4, c='pink', label = 'regression line')\n",
    " \n",
    "plt.xlabel('Orders received by contractors_mln euro', fontsize = 20)\n",
    " \n",
    "plt.ylabel('Building projects started', fontsize = 20)\n",
    " \n",
    "plt.show()"
   ]
  },
  {
   "cell_type": "markdown",
   "metadata": {
    "Collapsed": "false"
   },
   "source": [
    "#### From the above scatter plot, it is clear that the \"Orders received by contractors_mln euro\" is a good predictor of \"Building projects started\". \n",
    "\n",
    "#### The pink line in the plot above is the regression line – the predicted variables based on the data."
   ]
  },
  {
   "cell_type": "markdown",
   "metadata": {},
   "source": [
    "# Total Building Costs for all types of buildings"
   ]
  },
  {
   "cell_type": "code",
   "execution_count": 27,
   "metadata": {},
   "outputs": [
    {
     "data": {
      "text/html": [
       "<div>\n",
       "<style scoped>\n",
       "    .dataframe tbody tr th:only-of-type {\n",
       "        vertical-align: middle;\n",
       "    }\n",
       "\n",
       "    .dataframe tbody tr th {\n",
       "        vertical-align: top;\n",
       "    }\n",
       "\n",
       "    .dataframe thead th {\n",
       "        text-align: right;\n",
       "    }\n",
       "</style>\n",
       "<table border=\"1\" class=\"dataframe\">\n",
       "  <thead>\n",
       "    <tr style=\"text-align: right;\">\n",
       "      <th></th>\n",
       "      <th>Orders received by contractors</th>\n",
       "      <th>Building projects started</th>\n",
       "      <th>Production of building projects</th>\n",
       "      <th>Building projects completed</th>\n",
       "    </tr>\n",
       "    <tr>\n",
       "      <th>Periods</th>\n",
       "      <th></th>\n",
       "      <th></th>\n",
       "      <th></th>\n",
       "      <th></th>\n",
       "    </tr>\n",
       "  </thead>\n",
       "  <tbody>\n",
       "    <tr>\n",
       "      <th>2015 January</th>\n",
       "      <td>929</td>\n",
       "      <td>1083</td>\n",
       "      <td>968</td>\n",
       "      <td>673</td>\n",
       "    </tr>\n",
       "    <tr>\n",
       "      <th>2015 February</th>\n",
       "      <td>1415</td>\n",
       "      <td>1070</td>\n",
       "      <td>957</td>\n",
       "      <td>908</td>\n",
       "    </tr>\n",
       "    <tr>\n",
       "      <th>2015 March</th>\n",
       "      <td>1397</td>\n",
       "      <td>942</td>\n",
       "      <td>1076</td>\n",
       "      <td>1086</td>\n",
       "    </tr>\n",
       "    <tr>\n",
       "      <th>2015 April</th>\n",
       "      <td>1380</td>\n",
       "      <td>1356</td>\n",
       "      <td>951</td>\n",
       "      <td>937</td>\n",
       "    </tr>\n",
       "    <tr>\n",
       "      <th>2015 May</th>\n",
       "      <td>1047</td>\n",
       "      <td>1563</td>\n",
       "      <td>893</td>\n",
       "      <td>810</td>\n",
       "    </tr>\n",
       "  </tbody>\n",
       "</table>\n",
       "</div>"
      ],
      "text/plain": [
       "               Orders received by contractors  Building projects started  \\\n",
       "Periods                                                                    \n",
       "2015 January                              929                       1083   \n",
       "2015 February                            1415                       1070   \n",
       "2015 March                               1397                        942   \n",
       "2015 April                               1380                       1356   \n",
       "2015 May                                 1047                       1563   \n",
       "\n",
       "               Production of building projects  Building projects completed  \n",
       "Periods                                                                      \n",
       "2015 January                               968                          673  \n",
       "2015 February                              957                          908  \n",
       "2015 March                                1076                         1086  \n",
       "2015 April                                 951                          937  \n",
       "2015 May                                   893                          810  "
      ]
     },
     "execution_count": 27,
     "metadata": {},
     "output_type": "execute_result"
    }
   ],
   "source": [
    "total_cost = pd.read_excel('../data/Total Building Costs.xlsx')\n",
    "total_cost.set_index(\"Periods\", inplace = True) \n",
    "total_cost.head()"
   ]
  },
  {
   "cell_type": "code",
   "execution_count": 28,
   "metadata": {},
   "outputs": [
    {
     "data": {
      "text/plain": [
       "Orders received by contractors     0\n",
       "Building projects started          0\n",
       "Production of building projects    0\n",
       "Building projects completed        0\n",
       "dtype: int64"
      ]
     },
     "execution_count": 28,
     "metadata": {},
     "output_type": "execute_result"
    }
   ],
   "source": [
    "total_cost.isna().sum()"
   ]
  },
  {
   "cell_type": "code",
   "execution_count": 29,
   "metadata": {},
   "outputs": [
    {
     "data": {
      "text/plain": [
       "Orders received by contractors     int64\n",
       "Building projects started          int64\n",
       "Production of building projects    int64\n",
       "Building projects completed        int64\n",
       "dtype: object"
      ]
     },
     "execution_count": 29,
     "metadata": {},
     "output_type": "execute_result"
    }
   ],
   "source": [
    "total_cost.dtypes"
   ]
  },
  {
   "cell_type": "markdown",
   "metadata": {},
   "source": [
    "# Performing Supervised Learning on the building dataframe\n",
    "\n",
    "# Modeling, Prediction, and Evaluation"
   ]
  },
  {
   "cell_type": "markdown",
   "metadata": {},
   "source": [
    "We'll start off this section by splitting the data to train and test. **Name your 4 variables `X_train`, `X_test`, `y_train`, and `y_test`. Select 80% of the data for training and 20% for testing.**"
   ]
  },
  {
   "cell_type": "code",
   "execution_count": 106,
   "metadata": {},
   "outputs": [
    {
     "data": {
      "text/plain": [
       "Index(['Orders received by contractors', 'Building projects started',\n",
       "       'Production of building projects', 'Building projects completed',\n",
       "       'labels'],\n",
       "      dtype='object')"
      ]
     },
     "execution_count": 106,
     "metadata": {},
     "output_type": "execute_result"
    }
   ],
   "source": [
    "total_cost.columns"
   ]
  },
  {
   "cell_type": "code",
   "execution_count": 30,
   "metadata": {},
   "outputs": [],
   "source": [
    "\n",
    "from sklearn.model_selection import train_test_split\n",
    "\n",
    "y = total_cost['Building projects started']\n",
    "X = total_cost.drop('Building projects started', axis=1)\n",
    "\n",
    "X_train, X_test, y_train, y_test = train_test_split(X, y, test_size=0.20)"
   ]
  },
  {
   "cell_type": "markdown",
   "metadata": {},
   "source": [
    "## Here I will evaluate the model and also try two different models to compare my results\n",
    "\n",
    "## I will use Linear Regression and K-nearest Neighbours\n",
    "\n",
    "### 1. Linear Regression"
   ]
  },
  {
   "cell_type": "markdown",
   "metadata": {},
   "source": [
    "\n",
    "\n",
    "The first model we will use in this lab is **Linear Regression**. "
   ]
  },
  {
   "cell_type": "code",
   "execution_count": 52,
   "metadata": {},
   "outputs": [],
   "source": [
    "\n",
    "# TRAIN THE  MODEL \n",
    "\n",
    "\n",
    "from sklearn.linear_model import LinearRegression \n",
    "model = LinearRegression()"
   ]
  },
  {
   "cell_type": "markdown",
   "metadata": {},
   "source": [
    "Next, fit the model to my training data. "
   ]
  },
  {
   "cell_type": "code",
   "execution_count": 53,
   "metadata": {},
   "outputs": [
    {
     "data": {
      "text/plain": [
       "LinearRegression(copy_X=True, fit_intercept=True, n_jobs=None, normalize=False)"
      ]
     },
     "execution_count": 53,
     "metadata": {},
     "output_type": "execute_result"
    }
   ],
   "source": [
    "model.fit(X_train, y_train)"
   ]
  },
  {
   "cell_type": "markdown",
   "metadata": {},
   "source": [
    "### Evaluate the model\n",
    "\n",
    "Compute the predicted *y* based on `X_train` and call it `y_pred`. Then calcualte the r squared score between `y_pred` and `y_train` which indicates how well the estimated regression model fits the training data."
   ]
  },
  {
   "cell_type": "code",
   "execution_count": 54,
   "metadata": {},
   "outputs": [
    {
     "data": {
      "text/html": [
       "<div>\n",
       "<style scoped>\n",
       "    .dataframe tbody tr th:only-of-type {\n",
       "        vertical-align: middle;\n",
       "    }\n",
       "\n",
       "    .dataframe tbody tr th {\n",
       "        vertical-align: top;\n",
       "    }\n",
       "\n",
       "    .dataframe thead th {\n",
       "        text-align: right;\n",
       "    }\n",
       "</style>\n",
       "<table border=\"1\" class=\"dataframe\">\n",
       "  <thead>\n",
       "    <tr style=\"text-align: right;\">\n",
       "      <th></th>\n",
       "      <th>test</th>\n",
       "      <th>predicted</th>\n",
       "    </tr>\n",
       "    <tr>\n",
       "      <th>Periods</th>\n",
       "      <th></th>\n",
       "      <th></th>\n",
       "    </tr>\n",
       "  </thead>\n",
       "  <tbody>\n",
       "    <tr>\n",
       "      <th>2016 August</th>\n",
       "      <td>1156</td>\n",
       "      <td>1081.402316</td>\n",
       "    </tr>\n",
       "    <tr>\n",
       "      <th>2016 September</th>\n",
       "      <td>1131</td>\n",
       "      <td>1336.152656</td>\n",
       "    </tr>\n",
       "    <tr>\n",
       "      <th>2016 April</th>\n",
       "      <td>955</td>\n",
       "      <td>1259.301260</td>\n",
       "    </tr>\n",
       "    <tr>\n",
       "      <th>2015 December</th>\n",
       "      <td>856</td>\n",
       "      <td>1177.035715</td>\n",
       "    </tr>\n",
       "    <tr>\n",
       "      <th>2019 November*</th>\n",
       "      <td>1429</td>\n",
       "      <td>1464.936383</td>\n",
       "    </tr>\n",
       "    <tr>\n",
       "      <th>2019 January</th>\n",
       "      <td>1634</td>\n",
       "      <td>1333.739817</td>\n",
       "    </tr>\n",
       "    <tr>\n",
       "      <th>2019 May*</th>\n",
       "      <td>1462</td>\n",
       "      <td>1339.772767</td>\n",
       "    </tr>\n",
       "    <tr>\n",
       "      <th>2016 January</th>\n",
       "      <td>988</td>\n",
       "      <td>1177.772112</td>\n",
       "    </tr>\n",
       "    <tr>\n",
       "      <th>2015 March</th>\n",
       "      <td>942</td>\n",
       "      <td>1304.999860</td>\n",
       "    </tr>\n",
       "    <tr>\n",
       "      <th>2016 July</th>\n",
       "      <td>1193</td>\n",
       "      <td>1255.086141</td>\n",
       "    </tr>\n",
       "    <tr>\n",
       "      <th>2020 February*</th>\n",
       "      <td>1341</td>\n",
       "      <td>1353.050260</td>\n",
       "    </tr>\n",
       "    <tr>\n",
       "      <th>2018 April</th>\n",
       "      <td>1351</td>\n",
       "      <td>1377.556285</td>\n",
       "    </tr>\n",
       "    <tr>\n",
       "      <th>2015 June</th>\n",
       "      <td>1401</td>\n",
       "      <td>1216.409589</td>\n",
       "    </tr>\n",
       "    <tr>\n",
       "      <th>2016 February</th>\n",
       "      <td>991</td>\n",
       "      <td>1188.481642</td>\n",
       "    </tr>\n",
       "    <tr>\n",
       "      <th>2020 January*</th>\n",
       "      <td>1647</td>\n",
       "      <td>1375.625078</td>\n",
       "    </tr>\n",
       "    <tr>\n",
       "      <th>2018 November</th>\n",
       "      <td>2082</td>\n",
       "      <td>1454.492127</td>\n",
       "    </tr>\n",
       "    <tr>\n",
       "      <th>2015 September</th>\n",
       "      <td>905</td>\n",
       "      <td>1222.515536</td>\n",
       "    </tr>\n",
       "    <tr>\n",
       "      <th>2017 July</th>\n",
       "      <td>1147</td>\n",
       "      <td>1385.367069</td>\n",
       "    </tr>\n",
       "    <tr>\n",
       "      <th>2018 July</th>\n",
       "      <td>1523</td>\n",
       "      <td>1452.669108</td>\n",
       "    </tr>\n",
       "    <tr>\n",
       "      <th>2019 September*</th>\n",
       "      <td>1495</td>\n",
       "      <td>1417.516420</td>\n",
       "    </tr>\n",
       "    <tr>\n",
       "      <th>2018 January</th>\n",
       "      <td>1530</td>\n",
       "      <td>1347.418133</td>\n",
       "    </tr>\n",
       "    <tr>\n",
       "      <th>2016 November</th>\n",
       "      <td>1296</td>\n",
       "      <td>1303.448509</td>\n",
       "    </tr>\n",
       "    <tr>\n",
       "      <th>2019 March</th>\n",
       "      <td>1075</td>\n",
       "      <td>1409.956382</td>\n",
       "    </tr>\n",
       "    <tr>\n",
       "      <th>2016 October</th>\n",
       "      <td>1052</td>\n",
       "      <td>1246.758021</td>\n",
       "    </tr>\n",
       "    <tr>\n",
       "      <th>2019 July*</th>\n",
       "      <td>1153</td>\n",
       "      <td>1503.718072</td>\n",
       "    </tr>\n",
       "    <tr>\n",
       "      <th>2017 October</th>\n",
       "      <td>1282</td>\n",
       "      <td>1440.535420</td>\n",
       "    </tr>\n",
       "    <tr>\n",
       "      <th>2018 October</th>\n",
       "      <td>1454</td>\n",
       "      <td>1567.125863</td>\n",
       "    </tr>\n",
       "    <tr>\n",
       "      <th>2016 December</th>\n",
       "      <td>1154</td>\n",
       "      <td>1258.691360</td>\n",
       "    </tr>\n",
       "    <tr>\n",
       "      <th>2015 November</th>\n",
       "      <td>890</td>\n",
       "      <td>1210.265728</td>\n",
       "    </tr>\n",
       "    <tr>\n",
       "      <th>2016 May</th>\n",
       "      <td>1069</td>\n",
       "      <td>1210.797661</td>\n",
       "    </tr>\n",
       "    <tr>\n",
       "      <th>2017 March</th>\n",
       "      <td>1130</td>\n",
       "      <td>1385.719321</td>\n",
       "    </tr>\n",
       "    <tr>\n",
       "      <th>2017 February</th>\n",
       "      <td>1177</td>\n",
       "      <td>1281.471620</td>\n",
       "    </tr>\n",
       "    <tr>\n",
       "      <th>2017 September</th>\n",
       "      <td>1470</td>\n",
       "      <td>1381.184417</td>\n",
       "    </tr>\n",
       "    <tr>\n",
       "      <th>2017 August</th>\n",
       "      <td>1744</td>\n",
       "      <td>1145.675038</td>\n",
       "    </tr>\n",
       "    <tr>\n",
       "      <th>2017 December</th>\n",
       "      <td>1571</td>\n",
       "      <td>1265.228968</td>\n",
       "    </tr>\n",
       "    <tr>\n",
       "      <th>2017 January</th>\n",
       "      <td>1352</td>\n",
       "      <td>1136.629923</td>\n",
       "    </tr>\n",
       "    <tr>\n",
       "      <th>2018 May</th>\n",
       "      <td>1571</td>\n",
       "      <td>1386.370312</td>\n",
       "    </tr>\n",
       "    <tr>\n",
       "      <th>2019 June*</th>\n",
       "      <td>1391</td>\n",
       "      <td>1341.966872</td>\n",
       "    </tr>\n",
       "    <tr>\n",
       "      <th>2015 July</th>\n",
       "      <td>995</td>\n",
       "      <td>1199.063887</td>\n",
       "    </tr>\n",
       "    <tr>\n",
       "      <th>2015 October</th>\n",
       "      <td>1040</td>\n",
       "      <td>1195.420594</td>\n",
       "    </tr>\n",
       "    <tr>\n",
       "      <th>2019 December*</th>\n",
       "      <td>1556</td>\n",
       "      <td>1319.712805</td>\n",
       "    </tr>\n",
       "    <tr>\n",
       "      <th>2015 February</th>\n",
       "      <td>1070</td>\n",
       "      <td>1271.775961</td>\n",
       "    </tr>\n",
       "    <tr>\n",
       "      <th>2017 June</th>\n",
       "      <td>1201</td>\n",
       "      <td>1275.417718</td>\n",
       "    </tr>\n",
       "    <tr>\n",
       "      <th>2015 May</th>\n",
       "      <td>1563</td>\n",
       "      <td>1177.003754</td>\n",
       "    </tr>\n",
       "    <tr>\n",
       "      <th>2018 August</th>\n",
       "      <td>1538</td>\n",
       "      <td>1240.021439</td>\n",
       "    </tr>\n",
       "    <tr>\n",
       "      <th>2017 May</th>\n",
       "      <td>1751</td>\n",
       "      <td>1347.944150</td>\n",
       "    </tr>\n",
       "    <tr>\n",
       "      <th>2017 April</th>\n",
       "      <td>1377</td>\n",
       "      <td>1296.532382</td>\n",
       "    </tr>\n",
       "    <tr>\n",
       "      <th>2015 January</th>\n",
       "      <td>1083</td>\n",
       "      <td>1137.977388</td>\n",
       "    </tr>\n",
       "    <tr>\n",
       "      <th>2018 December</th>\n",
       "      <td>1637</td>\n",
       "      <td>1293.821320</td>\n",
       "    </tr>\n",
       "    <tr>\n",
       "      <th>2015 August</th>\n",
       "      <td>995</td>\n",
       "      <td>1044.464841</td>\n",
       "    </tr>\n",
       "  </tbody>\n",
       "</table>\n",
       "</div>"
      ],
      "text/plain": [
       "                 test    predicted\n",
       "Periods                           \n",
       "2016 August      1156  1081.402316\n",
       "2016 September   1131  1336.152656\n",
       "2016 April        955  1259.301260\n",
       "2015 December     856  1177.035715\n",
       "2019 November*   1429  1464.936383\n",
       "2019 January     1634  1333.739817\n",
       "2019 May*        1462  1339.772767\n",
       "2016 January      988  1177.772112\n",
       "2015 March        942  1304.999860\n",
       "2016 July        1193  1255.086141\n",
       "2020 February*   1341  1353.050260\n",
       "2018 April       1351  1377.556285\n",
       "2015 June        1401  1216.409589\n",
       "2016 February     991  1188.481642\n",
       "2020 January*    1647  1375.625078\n",
       "2018 November    2082  1454.492127\n",
       "2015 September    905  1222.515536\n",
       "2017 July        1147  1385.367069\n",
       "2018 July        1523  1452.669108\n",
       "2019 September*  1495  1417.516420\n",
       "2018 January     1530  1347.418133\n",
       "2016 November    1296  1303.448509\n",
       "2019 March       1075  1409.956382\n",
       "2016 October     1052  1246.758021\n",
       "2019 July*       1153  1503.718072\n",
       "2017 October     1282  1440.535420\n",
       "2018 October     1454  1567.125863\n",
       "2016 December    1154  1258.691360\n",
       "2015 November     890  1210.265728\n",
       "2016 May         1069  1210.797661\n",
       "2017 March       1130  1385.719321\n",
       "2017 February    1177  1281.471620\n",
       "2017 September   1470  1381.184417\n",
       "2017 August      1744  1145.675038\n",
       "2017 December    1571  1265.228968\n",
       "2017 January     1352  1136.629923\n",
       "2018 May         1571  1386.370312\n",
       "2019 June*       1391  1341.966872\n",
       "2015 July         995  1199.063887\n",
       "2015 October     1040  1195.420594\n",
       "2019 December*   1556  1319.712805\n",
       "2015 February    1070  1271.775961\n",
       "2017 June        1201  1275.417718\n",
       "2015 May         1563  1177.003754\n",
       "2018 August      1538  1240.021439\n",
       "2017 May         1751  1347.944150\n",
       "2017 April       1377  1296.532382\n",
       "2015 January     1083  1137.977388\n",
       "2018 December    1637  1293.821320\n",
       "2015 August       995  1044.464841"
      ]
     },
     "execution_count": 54,
     "metadata": {},
     "output_type": "execute_result"
    }
   ],
   "source": [
    "# TEST THE  MODEL \n",
    "\n",
    "y_pred = model.predict(X_train)\n",
    "pd.DataFrame({'test':y_train, 'predicted':y_pred})"
   ]
  },
  {
   "cell_type": "code",
   "execution_count": 55,
   "metadata": {},
   "outputs": [
    {
     "data": {
      "text/plain": [
       "0.16512798461455613"
      ]
     },
     "execution_count": 55,
     "metadata": {},
     "output_type": "execute_result"
    }
   ],
   "source": [
    "from sklearn.metrics import r2_score\n",
    "\n",
    "r2_score(y_train, y_pred)"
   ]
  },
  {
   "cell_type": "code",
   "execution_count": null,
   "metadata": {},
   "outputs": [],
   "source": [
    "#Paolo: indeed r2 score is quite low"
   ]
  },
  {
   "cell_type": "markdown",
   "metadata": {},
   "source": [
    "#### Our next step is to evaluate the model using the test data. \n",
    "\n",
    "We would like to ensure that our model is not overfitting the data. This means that our model was made to fit too closely to the training data by being overly complex. If a model is overfitted, it is not generalizable to data outside the training data. In that case, we need to reduce the complexity of the model by removing certain features (variables).\n",
    "\n",
    "In the cell below, use the model to generate the predicted values for the test data and assign them to `y_test_pred`. Compute the r squared score of the predicted `y_test_pred` and the oberserved `y_test` data."
   ]
  },
  {
   "cell_type": "code",
   "execution_count": 57,
   "metadata": {},
   "outputs": [
    {
     "data": {
      "text/html": [
       "<div>\n",
       "<style scoped>\n",
       "    .dataframe tbody tr th:only-of-type {\n",
       "        vertical-align: middle;\n",
       "    }\n",
       "\n",
       "    .dataframe tbody tr th {\n",
       "        vertical-align: top;\n",
       "    }\n",
       "\n",
       "    .dataframe thead th {\n",
       "        text-align: right;\n",
       "    }\n",
       "</style>\n",
       "<table border=\"1\" class=\"dataframe\">\n",
       "  <thead>\n",
       "    <tr style=\"text-align: right;\">\n",
       "      <th></th>\n",
       "      <th>test</th>\n",
       "      <th>predicted</th>\n",
       "    </tr>\n",
       "    <tr>\n",
       "      <th>Periods</th>\n",
       "      <th></th>\n",
       "      <th></th>\n",
       "    </tr>\n",
       "  </thead>\n",
       "  <tbody>\n",
       "    <tr>\n",
       "      <th>2018 February</th>\n",
       "      <td>1294</td>\n",
       "      <td>1313.796243</td>\n",
       "    </tr>\n",
       "    <tr>\n",
       "      <th>2017 November</th>\n",
       "      <td>1533</td>\n",
       "      <td>1411.487232</td>\n",
       "    </tr>\n",
       "    <tr>\n",
       "      <th>2016 June</th>\n",
       "      <td>1042</td>\n",
       "      <td>1288.675071</td>\n",
       "    </tr>\n",
       "    <tr>\n",
       "      <th>2015 April</th>\n",
       "      <td>1356</td>\n",
       "      <td>1268.666392</td>\n",
       "    </tr>\n",
       "    <tr>\n",
       "      <th>2020 March*</th>\n",
       "      <td>1148</td>\n",
       "      <td>1458.393916</td>\n",
       "    </tr>\n",
       "    <tr>\n",
       "      <th>2018 March</th>\n",
       "      <td>1331</td>\n",
       "      <td>1371.724287</td>\n",
       "    </tr>\n",
       "    <tr>\n",
       "      <th>2018 September</th>\n",
       "      <td>1554</td>\n",
       "      <td>1397.411391</td>\n",
       "    </tr>\n",
       "    <tr>\n",
       "      <th>2019 February</th>\n",
       "      <td>1376</td>\n",
       "      <td>1336.704355</td>\n",
       "    </tr>\n",
       "    <tr>\n",
       "      <th>2019 April*</th>\n",
       "      <td>1430</td>\n",
       "      <td>1415.839431</td>\n",
       "    </tr>\n",
       "    <tr>\n",
       "      <th>2018 June</th>\n",
       "      <td>1427</td>\n",
       "      <td>1458.310230</td>\n",
       "    </tr>\n",
       "    <tr>\n",
       "      <th>2019 October*</th>\n",
       "      <td>1210</td>\n",
       "      <td>1506.589309</td>\n",
       "    </tr>\n",
       "    <tr>\n",
       "      <th>2019 August*</th>\n",
       "      <td>1551</td>\n",
       "      <td>1119.254625</td>\n",
       "    </tr>\n",
       "    <tr>\n",
       "      <th>2016 March</th>\n",
       "      <td>832</td>\n",
       "      <td>1231.342950</td>\n",
       "    </tr>\n",
       "  </tbody>\n",
       "</table>\n",
       "</div>"
      ],
      "text/plain": [
       "                test    predicted\n",
       "Periods                          \n",
       "2018 February   1294  1313.796243\n",
       "2017 November   1533  1411.487232\n",
       "2016 June       1042  1288.675071\n",
       "2015 April      1356  1268.666392\n",
       "2020 March*     1148  1458.393916\n",
       "2018 March      1331  1371.724287\n",
       "2018 September  1554  1397.411391\n",
       "2019 February   1376  1336.704355\n",
       "2019 April*     1430  1415.839431\n",
       "2018 June       1427  1458.310230\n",
       "2019 October*   1210  1506.589309\n",
       "2019 August*    1551  1119.254625\n",
       "2016 March       832  1231.342950"
      ]
     },
     "execution_count": 57,
     "metadata": {},
     "output_type": "execute_result"
    }
   ],
   "source": [
    "y_test_pred = model.predict(X_test)\n",
    "pd.DataFrame({'test':y_test, 'predicted':y_test_pred})"
   ]
  },
  {
   "cell_type": "code",
   "execution_count": 69,
   "metadata": {},
   "outputs": [
    {
     "data": {
      "text/plain": [
       "-0.19259068437761773"
      ]
     },
     "execution_count": 69,
     "metadata": {},
     "output_type": "execute_result"
    }
   ],
   "source": [
    "from sklearn.metrics import r2_score\n",
    "\n",
    "r2_score(y_test, y_test_pred)"
   ]
  },
  {
   "cell_type": "code",
   "execution_count": 60,
   "metadata": {},
   "outputs": [],
   "source": [
    "#Paolo: negative r2_score! It means that this model is really not appropriate for this prediction"
   ]
  },
  {
   "cell_type": "markdown",
   "metadata": {},
   "source": [
    "**The r squared score for the training data is 0.2578 and the test data is -1.01402.**\n",
    "\n",
    "**The r2 score for the test data is a negative value which shows that model can be arbitrarily worse.**"
   ]
  },
  {
   "cell_type": "markdown",
   "metadata": {},
   "source": [
    "### 2. K-Nearest Neighbors"
   ]
  },
  {
   "cell_type": "markdown",
   "metadata": {},
   "source": [
    "### Our second algorithm is K-Nearest Neighbors. \n",
    "\n",
    "We will fit a model using the training data and then test the performance of the model using the testing data. We will start by loading `KNeighborsClassifier` from scikit-learn and then initialize and fit the model. We'll start off with a model where k=3."
   ]
  },
  {
   "cell_type": "code",
   "execution_count": 84,
   "metadata": {},
   "outputs": [
    {
     "data": {
      "text/plain": [
       "KNeighborsClassifier(algorithm='auto', leaf_size=30, metric='minkowski',\n",
       "                     metric_params=None, n_jobs=None, n_neighbors=7, p=2,\n",
       "                     weights='uniform')"
      ]
     },
     "execution_count": 84,
     "metadata": {},
     "output_type": "execute_result"
    }
   ],
   "source": [
    "# TRAIN THE MODEL \n",
    "\n",
    "from sklearn.neighbors import KNeighborsClassifier\n",
    "\n",
    "model = KNeighborsClassifier(n_neighbors=7)\n",
    "model.fit(X_train, y_train)"
   ]
  },
  {
   "cell_type": "markdown",
   "metadata": {},
   "source": [
    "To test your model, compute the predicted values for the testing sample and print the confusion matrix as well as the accuracy score."
   ]
  },
  {
   "cell_type": "markdown",
   "metadata": {},
   "source": [
    "**Accuracy Score**\n",
    "\n",
    "The accuracy_score function computes the accuracy, either the fraction (default) or the count (normalize=False) of correct predictions.\n",
    "\n",
    "In multilabel classification, the function returns the subset accuracy. If the entire set of predicted labels for a sample strictly match with the true set of labels, then the subset accuracy is 1.0; otherwise it is 0.0.\n",
    "\n",
    "Reference: https://scikit-learn.org/stable/modules/model_evaluation.html"
   ]
  },
  {
   "cell_type": "code",
   "execution_count": 85,
   "metadata": {},
   "outputs": [
    {
     "data": {
      "text/html": [
       "<div>\n",
       "<style scoped>\n",
       "    .dataframe tbody tr th:only-of-type {\n",
       "        vertical-align: middle;\n",
       "    }\n",
       "\n",
       "    .dataframe tbody tr th {\n",
       "        vertical-align: top;\n",
       "    }\n",
       "\n",
       "    .dataframe thead th {\n",
       "        text-align: right;\n",
       "    }\n",
       "</style>\n",
       "<table border=\"1\" class=\"dataframe\">\n",
       "  <thead>\n",
       "    <tr style=\"text-align: right;\">\n",
       "      <th></th>\n",
       "      <th>test</th>\n",
       "      <th>predicted</th>\n",
       "    </tr>\n",
       "    <tr>\n",
       "      <th>Periods</th>\n",
       "      <th></th>\n",
       "      <th></th>\n",
       "    </tr>\n",
       "  </thead>\n",
       "  <tbody>\n",
       "    <tr>\n",
       "      <th>2018 February</th>\n",
       "      <td>1294</td>\n",
       "      <td>1313.796243</td>\n",
       "    </tr>\n",
       "    <tr>\n",
       "      <th>2017 November</th>\n",
       "      <td>1533</td>\n",
       "      <td>1411.487232</td>\n",
       "    </tr>\n",
       "    <tr>\n",
       "      <th>2016 June</th>\n",
       "      <td>1042</td>\n",
       "      <td>1288.675071</td>\n",
       "    </tr>\n",
       "    <tr>\n",
       "      <th>2015 April</th>\n",
       "      <td>1356</td>\n",
       "      <td>1268.666392</td>\n",
       "    </tr>\n",
       "    <tr>\n",
       "      <th>2020 March*</th>\n",
       "      <td>1148</td>\n",
       "      <td>1458.393916</td>\n",
       "    </tr>\n",
       "    <tr>\n",
       "      <th>2018 March</th>\n",
       "      <td>1331</td>\n",
       "      <td>1371.724287</td>\n",
       "    </tr>\n",
       "    <tr>\n",
       "      <th>2018 September</th>\n",
       "      <td>1554</td>\n",
       "      <td>1397.411391</td>\n",
       "    </tr>\n",
       "    <tr>\n",
       "      <th>2019 February</th>\n",
       "      <td>1376</td>\n",
       "      <td>1336.704355</td>\n",
       "    </tr>\n",
       "    <tr>\n",
       "      <th>2019 April*</th>\n",
       "      <td>1430</td>\n",
       "      <td>1415.839431</td>\n",
       "    </tr>\n",
       "    <tr>\n",
       "      <th>2018 June</th>\n",
       "      <td>1427</td>\n",
       "      <td>1458.310230</td>\n",
       "    </tr>\n",
       "    <tr>\n",
       "      <th>2019 October*</th>\n",
       "      <td>1210</td>\n",
       "      <td>1506.589309</td>\n",
       "    </tr>\n",
       "    <tr>\n",
       "      <th>2019 August*</th>\n",
       "      <td>1551</td>\n",
       "      <td>1119.254625</td>\n",
       "    </tr>\n",
       "    <tr>\n",
       "      <th>2016 March</th>\n",
       "      <td>832</td>\n",
       "      <td>1231.342950</td>\n",
       "    </tr>\n",
       "  </tbody>\n",
       "</table>\n",
       "</div>"
      ],
      "text/plain": [
       "                test    predicted\n",
       "Periods                          \n",
       "2018 February   1294  1313.796243\n",
       "2017 November   1533  1411.487232\n",
       "2016 June       1042  1288.675071\n",
       "2015 April      1356  1268.666392\n",
       "2020 March*     1148  1458.393916\n",
       "2018 March      1331  1371.724287\n",
       "2018 September  1554  1397.411391\n",
       "2019 February   1376  1336.704355\n",
       "2019 April*     1430  1415.839431\n",
       "2018 June       1427  1458.310230\n",
       "2019 October*   1210  1506.589309\n",
       "2019 August*    1551  1119.254625\n",
       "2016 March       832  1231.342950"
      ]
     },
     "execution_count": 85,
     "metadata": {},
     "output_type": "execute_result"
    }
   ],
   "source": [
    "# TEST THE MODEL\n",
    "\n",
    "y_pred = model.predict(X_test)\n",
    "pd.DataFrame({'test':y_test, 'predicted':y_test_pred})"
   ]
  },
  {
   "cell_type": "code",
   "execution_count": 109,
   "metadata": {},
   "outputs": [
    {
     "data": {
      "text/plain": [
       "0.0"
      ]
     },
     "execution_count": 109,
     "metadata": {},
     "output_type": "execute_result"
    }
   ],
   "source": [
    "accuracy_score(y_test, y_pred)"
   ]
  },
  {
   "cell_type": "code",
   "execution_count": null,
   "metadata": {},
   "outputs": [],
   "source": [
    "#Paolo: watch out, accuracy score is for classification, here you have a regression problem. So it is normal\n",
    "# that accuracy score is 0"
   ]
  },
  {
   "cell_type": "markdown",
   "metadata": {},
   "source": [
    "**Confusion matrix**"
   ]
  },
  {
   "cell_type": "code",
   "execution_count": null,
   "metadata": {},
   "outputs": [],
   "source": [
    "confusion_matrix(y_test, y_pred)"
   ]
  },
  {
   "cell_type": "markdown",
   "metadata": {},
   "source": [
    "# Unsupervised Learning\n"
   ]
  },
  {
   "cell_type": "markdown",
   "metadata": {},
   "source": [
    "# Data Clustering with K-Means\n",
    "\n",
    "Now let's cluster the data with K-Means first. Initiate the K-Means model, then fit your scaled data. In the data returned from the `.fit` method, there is an attribute called `labels_` which is the cluster number assigned to each data record. What you can do is to assign these labels back to `total_cost` in a new column called `total_cost['labels']`. Then you'll see the cluster results of the original data."
   ]
  },
  {
   "cell_type": "code",
   "execution_count": 90,
   "metadata": {},
   "outputs": [
    {
     "data": {
      "text/plain": [
       "array([2, 1, 5, 1, 4, 5, 2, 6, 2, 2, 2, 2, 2, 2, 2, 5, 2, 5, 5, 6, 5, 5,\n",
       "       5, 1, 4, 1, 3, 1, 3, 5, 1, 4, 3, 0, 3, 1, 7, 1, 3, 3, 3, 0, 0, 4,\n",
       "       3, 0, 7, 1, 3, 3, 0, 3, 3, 3, 0, 4, 7, 0, 0, 1, 7, 3, 0])"
      ]
     },
     "execution_count": 90,
     "metadata": {},
     "output_type": "execute_result"
    }
   ],
   "source": [
    "# Your code here:\n",
    "# Reference: https://scikit-learn.org/stable/modules/generated/sklearn.cluster.KMeans.html\n",
    "\n",
    "# n_clusters: The number of clusters to form as well as the number of centroids to generate.\n",
    "# By default n_clusters=8\n",
    "\n",
    "from sklearn.cluster import KMeans\n",
    "\n",
    "total_cost_kmeans = KMeans().fit(total_cost)\n",
    "total_cost_kmeans.labels_"
   ]
  },
  {
   "cell_type": "code",
   "execution_count": 91,
   "metadata": {},
   "outputs": [
    {
     "data": {
      "text/html": [
       "<div>\n",
       "<style scoped>\n",
       "    .dataframe tbody tr th:only-of-type {\n",
       "        vertical-align: middle;\n",
       "    }\n",
       "\n",
       "    .dataframe tbody tr th {\n",
       "        vertical-align: top;\n",
       "    }\n",
       "\n",
       "    .dataframe thead th {\n",
       "        text-align: right;\n",
       "    }\n",
       "</style>\n",
       "<table border=\"1\" class=\"dataframe\">\n",
       "  <thead>\n",
       "    <tr style=\"text-align: right;\">\n",
       "      <th></th>\n",
       "      <th>Orders received by contractors</th>\n",
       "      <th>Building projects started</th>\n",
       "      <th>Production of building projects</th>\n",
       "      <th>Building projects completed</th>\n",
       "      <th>labels</th>\n",
       "    </tr>\n",
       "    <tr>\n",
       "      <th>Periods</th>\n",
       "      <th></th>\n",
       "      <th></th>\n",
       "      <th></th>\n",
       "      <th></th>\n",
       "      <th></th>\n",
       "    </tr>\n",
       "  </thead>\n",
       "  <tbody>\n",
       "    <tr>\n",
       "      <th>2015 January</th>\n",
       "      <td>929</td>\n",
       "      <td>1083</td>\n",
       "      <td>968</td>\n",
       "      <td>673</td>\n",
       "      <td>2</td>\n",
       "    </tr>\n",
       "    <tr>\n",
       "      <th>2015 February</th>\n",
       "      <td>1415</td>\n",
       "      <td>1070</td>\n",
       "      <td>957</td>\n",
       "      <td>908</td>\n",
       "      <td>1</td>\n",
       "    </tr>\n",
       "    <tr>\n",
       "      <th>2015 March</th>\n",
       "      <td>1397</td>\n",
       "      <td>942</td>\n",
       "      <td>1076</td>\n",
       "      <td>1086</td>\n",
       "      <td>5</td>\n",
       "    </tr>\n",
       "    <tr>\n",
       "      <th>2015 April</th>\n",
       "      <td>1380</td>\n",
       "      <td>1356</td>\n",
       "      <td>951</td>\n",
       "      <td>937</td>\n",
       "      <td>1</td>\n",
       "    </tr>\n",
       "    <tr>\n",
       "      <th>2015 May</th>\n",
       "      <td>1047</td>\n",
       "      <td>1563</td>\n",
       "      <td>893</td>\n",
       "      <td>810</td>\n",
       "      <td>4</td>\n",
       "    </tr>\n",
       "    <tr>\n",
       "      <th>...</th>\n",
       "      <td>...</td>\n",
       "      <td>...</td>\n",
       "      <td>...</td>\n",
       "      <td>...</td>\n",
       "      <td>...</td>\n",
       "    </tr>\n",
       "    <tr>\n",
       "      <th>2019 November*</th>\n",
       "      <td>1661</td>\n",
       "      <td>1429</td>\n",
       "      <td>1504</td>\n",
       "      <td>1556</td>\n",
       "      <td>0</td>\n",
       "    </tr>\n",
       "    <tr>\n",
       "      <th>2019 December*</th>\n",
       "      <td>1551</td>\n",
       "      <td>1556</td>\n",
       "      <td>1091</td>\n",
       "      <td>971</td>\n",
       "      <td>1</td>\n",
       "    </tr>\n",
       "    <tr>\n",
       "      <th>2020 January*</th>\n",
       "      <td>1124</td>\n",
       "      <td>1647</td>\n",
       "      <td>1558</td>\n",
       "      <td>1655</td>\n",
       "      <td>7</td>\n",
       "    </tr>\n",
       "    <tr>\n",
       "      <th>2020 February*</th>\n",
       "      <td>1332</td>\n",
       "      <td>1341</td>\n",
       "      <td>1379</td>\n",
       "      <td>1327</td>\n",
       "      <td>3</td>\n",
       "    </tr>\n",
       "    <tr>\n",
       "      <th>2020 March*</th>\n",
       "      <td>1563</td>\n",
       "      <td>1148</td>\n",
       "      <td>1621</td>\n",
       "      <td>1582</td>\n",
       "      <td>0</td>\n",
       "    </tr>\n",
       "  </tbody>\n",
       "</table>\n",
       "<p>63 rows × 5 columns</p>\n",
       "</div>"
      ],
      "text/plain": [
       "                Orders received by contractors  Building projects started  \\\n",
       "Periods                                                                     \n",
       "2015 January                               929                       1083   \n",
       "2015 February                             1415                       1070   \n",
       "2015 March                                1397                        942   \n",
       "2015 April                                1380                       1356   \n",
       "2015 May                                  1047                       1563   \n",
       "...                                        ...                        ...   \n",
       "2019 November*                            1661                       1429   \n",
       "2019 December*                            1551                       1556   \n",
       "2020 January*                             1124                       1647   \n",
       "2020 February*                            1332                       1341   \n",
       "2020 March*                               1563                       1148   \n",
       "\n",
       "                Production of building projects  Building projects completed  \\\n",
       "Periods                                                                        \n",
       "2015 January                                968                          673   \n",
       "2015 February                               957                          908   \n",
       "2015 March                                 1076                         1086   \n",
       "2015 April                                  951                          937   \n",
       "2015 May                                    893                          810   \n",
       "...                                         ...                          ...   \n",
       "2019 November*                             1504                         1556   \n",
       "2019 December*                             1091                          971   \n",
       "2020 January*                              1558                         1655   \n",
       "2020 February*                             1379                         1327   \n",
       "2020 March*                                1621                         1582   \n",
       "\n",
       "                labels  \n",
       "Periods                 \n",
       "2015 January         2  \n",
       "2015 February        1  \n",
       "2015 March           5  \n",
       "2015 April           1  \n",
       "2015 May             4  \n",
       "...                ...  \n",
       "2019 November*       0  \n",
       "2019 December*       1  \n",
       "2020 January*        7  \n",
       "2020 February*       3  \n",
       "2020 March*          0  \n",
       "\n",
       "[63 rows x 5 columns]"
      ]
     },
     "execution_count": 91,
     "metadata": {},
     "output_type": "execute_result"
    }
   ],
   "source": [
    "total_cost['labels'] = total_cost_kmeans.labels_\n",
    "\n",
    "total_cost"
   ]
  },
  {
   "cell_type": "markdown",
   "metadata": {},
   "source": [
    "Count the values in `labels`."
   ]
  },
  {
   "cell_type": "code",
   "execution_count": 92,
   "metadata": {},
   "outputs": [
    {
     "data": {
      "text/plain": [
       "3    14\n",
       "2    10\n",
       "1    10\n",
       "5     9\n",
       "0     9\n",
       "4     5\n",
       "7     4\n",
       "6     2\n",
       "Name: labels, dtype: int64"
      ]
     },
     "execution_count": 92,
     "metadata": {},
     "output_type": "execute_result"
    }
   ],
   "source": [
    "# Your code here:\n",
    "\n",
    "total_cost['labels'].value_counts() "
   ]
  },
  {
   "cell_type": "code",
   "execution_count": 94,
   "metadata": {},
   "outputs": [
    {
     "data": {
      "image/png": "[encoded data removed]",
      "text/plain": [
       "<Figure size 432x288 with 1 Axes>"
      ]
     },
     "metadata": {
      "needs_background": "light"
     },
     "output_type": "display_data"
    }
   ],
   "source": [
    "# K-Means Labels Scatter Plot\n",
    "plt.scatter(x=total_cost['Orders received by contractors'], y=total_cost['Building projects started'], c=total_cost[\"labels\"])\n",
    "plt.title('Distribution of K-Means Labels with 8 clusters')\n",
    "plt.xlabel('Orders received by contractors')\n",
    "plt.ylabel('Building projects started')\n",
    "plt.show()\n"
   ]
  },
  {
   "cell_type": "markdown",
   "metadata": {},
   "source": [
    "### I would like to reduce the number of clusters to 2 to see the change from the default 8 clusters in the above"
   ]
  },
  {
   "cell_type": "code",
   "execution_count": 99,
   "metadata": {},
   "outputs": [
    {
     "data": {
      "image/png": "[encoded data removed]",
      "text/plain": [
       "<Figure size 432x288 with 1 Axes>"
      ]
     },
     "metadata": {
      "needs_background": "light"
     },
     "output_type": "display_data"
    }
   ],
   "source": [
    "# Your code here\n",
    "\n",
    "from sklearn.cluster import KMeans\n",
    "\n",
    "# KMeans for n_clusters=2\n",
    "total_cost_kmeans = KMeans(n_clusters=2).fit(total_cost)\n",
    "total_cost['labels'] = total_cost_kmeans.labels_\n",
    "\n",
    "plt.scatter(x=total_cost['Orders received by contractors'], y=total_cost['Building projects started'], c=total_cost[\"labels\"])\n",
    "plt.title('Distribution of K-Means Labels with 2 clusters')\n",
    "plt.xlabel('Orders received by contractors')\n",
    "plt.ylabel('Building projects started')\n",
    "plt.show()"
   ]
  },
  {
   "cell_type": "code",
   "execution_count": 45,
   "metadata": {},
   "outputs": [],
   "source": [
    "# By reducing the number of clusters I can clearly see the difference."
   ]
  },
  {
   "cell_type": "markdown",
   "metadata": {
    "Collapsed": "false"
   },
   "source": [
    "# CONCLUSIONS"
   ]
  },
  {
   "cell_type": "markdown",
   "metadata": {
    "Collapsed": "false"
   },
   "source": [
    "## Research Questions:\n",
    "\n",
    "Q1: Are the “Housing\" orders received by contractors and the number of “Housing\" projects where the construction started correlated?\n",
    "\n",
    "\n",
    "\n",
    "## Overall Analysis:\n",
    "\n",
    "Yes, the \"Orders received by contractors_mln euro\" is  a good predictor of \"Building projects started\". \n"
   ]
  },
  {
   "cell_type": "markdown",
   "metadata": {},
   "source": [
    "## Comments Paolo\n",
    "\n",
    "Sreelatha, I think it was a useful exercise to extend your previous project with the machine learning part. \n",
    "You showed that you could use Supervised and Unsupervised technique and also that you understand the difference between train and test performance. A couple of suggestions\n",
    "- The accuracy score is used for classification problems, while here you have a regression problem, so it is normal that it is zero. For regression problem you could use the r2 score or different type of errors like mean absolute error (MAE) or mean squared error (MSE) \n",
    "- In the conclusions you wrote that \"Orders received by contractors_mln euro\" is a good predictor of \"Building projects started\"\". But all the scores show low performance, so on the basis of what you conclude that?\n",
    "- Along with the scores (r_2, MSE, MAE etc) it helps to plot for example y_pred - y_true to have a direct visual on what is going on. The plot usually is richer in information than the single number  you get out of the score\n"
   ]
  }
 ],
 "metadata": {
  "hide_input": false,
  "kernelspec": {
   "display_name": "Python 3",
   "language": "python",
   "name": "python3"
  },
  "language_info": {
   "codemirror_mode": {
    "name": "ipython",
    "version": 3
   },
   "file_extension": ".py",
   "mimetype": "text/x-python",
   "name": "python",
   "nbconvert_exporter": "python",
   "pygments_lexer": "ipython3",
   "version": "3.7.6"
  },
  "latex_envs": {
   "LaTeX_envs_menu_present": true,
   "autoclose": false,
   "autocomplete": true,
   "bibliofile": "biblio.bib",
   "cite_by": "apalike",
   "current_citInitial": 1,
   "eqLabelWithNumbers": true,
   "eqNumInitial": 1,
   "hotkeys": {
    "equation": "Ctrl-E",
    "itemize": "Ctrl-I"
   },
   "labels_anchors": false,
   "latex_user_defs": false,
   "report_style_numbering": false,
   "user_envs_cfg": false
  },
  "toc": {
   "base_numbering": 1,
   "nav_menu": {},
   "number_sections": true,
   "sideBar": true,
   "skip_h1_title": false,
   "title_cell": "Table of Contents",
   "title_sidebar": "Contents",
   "toc_cell": false,
   "toc_position": {},
   "toc_section_display": true,
   "toc_window_display": false
  }
 },
 "nbformat": 4,
 "nbformat_minor": 4
}
