{
 "cells": [
  {
   "cell_type": "markdown",
   "metadata": {},
   "source": [
    "# Meteorite landings on Earth\n",
    "\n",
    "Maaike de Jong\n",
    "\n",
    "Ironhack Amsterdam Data Analytics\n",
    "\n",
    "04 April 2020"
   ]
  },
  {
   "cell_type": "markdown",
   "metadata": {},
   "source": [
    "## 1. Introduction\n",
    "In this notebook I analyse and visualize the NASA Meteorite Landings dataset, which can be found here. \n",
    "A short background and description of the dataset can be found in the readme file. \n",
    "\n",
    "The Meteoritical Society collects data on meteorites that have fallen to Earth from outer space. This dataset includes the location, mass, composition, and fall year for over 45,000 meteorites that have struck our planet.\n",
    "\n",
    "Notes on missing or incorrect data points:\n",
    "* a few entries here contain date information that was incorrectly parsed into the NASA database. As a spot check: any date that is before 860 CE or after 2016 are incorrect; these should actually be BCE years. There may be other errors and we are looking for a way to identify them.\n",
    "\n",
    "* a few entries have latitude and longitude of 0N/0E (off the western coast of Africa, where it would be quite difficult to recover meteorites). Many of these were actually discovered in Antarctica, but exact coordinates were not given. 0N/0E locations should probably be treated as NA."
   ]
  },
  {
   "cell_type": "markdown",
   "metadata": {},
   "source": [
    "## 2. Import Packages and data"
   ]
  },
  {
   "cell_type": "code",
   "execution_count": null,
   "metadata": {},
   "outputs": [],
   "source": [
    "# import packages\n",
    "import numpy as np\n",
    "import pandas as pd\n",
    "%matplotlib inline\n",
    "import matplotlib.pyplot as plt\n",
    "import seaborn as sns\n",
    "import geopandas as gpd"
   ]
  },
  {
   "cell_type": "code",
   "execution_count": null,
   "metadata": {},
   "outputs": [],
   "source": [
    "# import dataset\n",
    "df = pd.read_csv('../data/meteorite-landings.csv')\n",
    "df.head()"
   ]
  },
  {
   "cell_type": "markdown",
   "metadata": {},
   "source": [
    "## 3. Inspecting and cleaning the data"
   ]
  },
  {
   "cell_type": "code",
   "execution_count": null,
   "metadata": {},
   "outputs": [],
   "source": [
    "# inspect data types\n",
    "#df.dtypes\n",
    "df.info()\n",
    "# transform year into date time?"
   ]
  },
  {
   "cell_type": "code",
   "execution_count": null,
   "metadata": {},
   "outputs": [],
   "source": [
    "# Check missing values\n",
    "percent_missing = df.isnull().sum() * 100 / len(df)\n",
    "missing_value_df = pd.DataFrame({'column_name': df.columns,\n",
    "                                 'percent_missing': percent_missing})\n",
    "missing_value_df"
   ]
  },
  {
   "cell_type": "code",
   "execution_count": null,
   "metadata": {},
   "outputs": [],
   "source": [
    "# convert year from float to integer\n",
    "df['year'] = df['year'].fillna(0).astype(int)\n",
    "df.info() "
   ]
  },
  {
   "cell_type": "code",
   "execution_count": null,
   "metadata": {},
   "outputs": [],
   "source": [
    "# inspect data with describe\n",
    "df.describe()"
   ]
  },
  {
   "cell_type": "code",
   "execution_count": null,
   "metadata": {},
   "outputs": [],
   "source": [
    "# clean data\n",
    "# filter out data with year < 860 and > 2016 \n",
    "df2 = df.loc[(df['year'] >= 860) & (df['year'] <= 2016)]"
   ]
  },
  {
   "cell_type": "code",
   "execution_count": null,
   "metadata": {},
   "outputs": [],
   "source": [
    "# clean data\n",
    "# filter out data with 0,0 coordinates\n",
    "df3 = df2.loc[(df2['reclat'] != 0) & (df2['reclong'] != 0)]"
   ]
  },
  {
   "cell_type": "code",
   "execution_count": null,
   "metadata": {},
   "outputs": [],
   "source": [
    "df3.info()"
   ]
  },
  {
   "cell_type": "code",
   "execution_count": null,
   "metadata": {},
   "outputs": [],
   "source": [
    "# inspecting properties and distribution of variables\n",
    "\n",
    "# types of recclass\n",
    "meteor_types = pd.DataFrame(df3['recclass'].value_counts())\n",
    "meteor_types.head()\n",
    "\n",
    "# There are 441 distinct meteorite types in the data. \n",
    "#If I want to plot different types I'll have to make a selection"
   ]
  },
  {
   "cell_type": "code",
   "execution_count": null,
   "metadata": {},
   "outputs": [],
   "source": [
    "# Plotting the counts of the meteor types we can see that are 8 most common types, \n",
    "# after which there are many types with relatively low numbers\n",
    "meteor_types.head(20).plot.bar()\n"
   ]
  },
  {
   "cell_type": "markdown",
   "metadata": {},
   "source": [
    "The most common types of meteorites in the data are:\n",
    "L6, H5, L5, H6, H4, LL5, LL6, L4\n",
    "\n",
    "These all fall in the category 'ordinary chondrites'\n",
    "\n",
    "From wikipedia:\n",
    "A chondrite /ˈkɒndraɪt/ is a stony (non-metallic) meteorite that has not been modified, by either melting or differentiation of the parent body. They are formed when various types of dust and small grains in the early Solar System accreted to form primitive asteroids. Some such bodies that are captured in the planet’s gravity well become the most common type of meteorite by (whether quickly, or after many orbits) arriving on a trajectory toward the Earth’s surface. Estimates for their contribution to the total meteorite population vary between 85.7% and 86.2%."
   ]
  },
  {
   "cell_type": "code",
   "execution_count": null,
   "metadata": {},
   "outputs": [],
   "source": [
    "# inspecting properties and distribution of variables\n",
    "\n",
    "# distribution of mass\n",
    "\n",
    "#df3.plot.hist(y = 'mass')\n",
    "sns.boxplot(x = 'mass', data = df3)\n",
    "\n",
    "# the distribution is difficult to visualize because of outliers with a lot of mass\n",
    "# if I want to do anything with mass I have to make groupings or convert the data"
   ]
  },
  {
   "cell_type": "code",
   "execution_count": null,
   "metadata": {},
   "outputs": [],
   "source": [
    "sns.violinplot(x = 'mass', data = df3)"
   ]
  },
  {
   "cell_type": "code",
   "execution_count": null,
   "metadata": {},
   "outputs": [],
   "source": [
    "# inspecting properties and distribution of variables\n",
    "\n",
    "# column 'fall'\n",
    "\n",
    "df3['fall'].value_counts()\n",
    "\n",
    "# There are many more 'found' meteorites than 'fell' meteorites"
   ]
  },
  {
   "cell_type": "code",
   "execution_count": null,
   "metadata": {},
   "outputs": [],
   "source": [
    "# inspecting properties and distribution of variables\n",
    "\n",
    "# column 'year'\n",
    "\n",
    "sns.boxplot(x = 'year', data = df3)"
   ]
  },
  {
   "cell_type": "code",
   "execution_count": null,
   "metadata": {},
   "outputs": [],
   "source": [
    "sns.violinplot(x = 'year', data = df3)\n",
    "\n",
    "# the vast majority of observations are between 1900 and 2016, which is to be expected"
   ]
  },
  {
   "cell_type": "markdown",
   "metadata": {},
   "source": [
    "## 4. Plotting the meteorites on a world map"
   ]
  },
  {
   "cell_type": "code",
   "execution_count": null,
   "metadata": {},
   "outputs": [],
   "source": [
    "# create geodataframe, with geometry column from long, lat columns\n",
    "\n",
    "gdf = gpd.GeoDataFrame(df3, geometry = gpd.points_from_xy(df3['reclong'], df3['reclat']))\n",
    "gdf.head()"
   ]
  },
  {
   "cell_type": "code",
   "execution_count": null,
   "metadata": {},
   "outputs": [],
   "source": [
    "#check whether the geometry column is the right datatype\n",
    "\n",
    "type(gdf.geometry)"
   ]
  },
  {
   "cell_type": "code",
   "execution_count": null,
   "metadata": {},
   "outputs": [],
   "source": [
    "# import world map geodataframe\n",
    "\n",
    "world = gpd.read_file(gpd.datasets.get_path('naturalearth_lowres'))\n",
    "world.rename(columns = {'name': 'country'}, inplace = True)\n",
    "world.head()"
   ]
  },
  {
   "cell_type": "code",
   "execution_count": null,
   "metadata": {},
   "outputs": [],
   "source": [
    "# plot world map with country borders\n",
    "\n",
    "plt.rcParams['figure.figsize'] = [16,8]\n",
    "world.plot(facecolor = 'silver', edgecolor = 'grey');"
   ]
  },
  {
   "cell_type": "code",
   "execution_count": null,
   "metadata": {},
   "outputs": [],
   "source": [
    "# Plot layer of meteorites\n",
    "\n",
    "gdf.plot(marker='*', color='green', markersize=5);"
   ]
  },
  {
   "cell_type": "code",
   "execution_count": null,
   "metadata": {},
   "outputs": [],
   "source": [
    "# There's a weird point that must be a mistake. longitude is larger than 300\n",
    "# find entry in df \n",
    "\n",
    "gdf.loc[(df3['reclong'] > 300)]"
   ]
  },
  {
   "cell_type": "code",
   "execution_count": null,
   "metadata": {},
   "outputs": [],
   "source": [
    "# remove entry\n",
    "\n",
    "gdf = gdf.drop([22946], axis=0)"
   ]
  },
  {
   "cell_type": "code",
   "execution_count": null,
   "metadata": {},
   "outputs": [],
   "source": [
    "# check shape\n",
    "\n",
    "gdf.shape"
   ]
  },
  {
   "cell_type": "code",
   "execution_count": null,
   "metadata": {},
   "outputs": [],
   "source": [
    "# Plot meteorites again to check whether the point is gone\n",
    "\n",
    "gdf.plot(marker='*', color='blue', markersize=5);"
   ]
  },
  {
   "cell_type": "code",
   "execution_count": null,
   "metadata": {},
   "outputs": [],
   "source": [
    "# Before combining maps, ensure they share a common CRS (so they will align)\n",
    "\n",
    "# first assign a crs to the gdf (a common one is WGS84 latitude-longitude coordinate system)\n",
    "\n",
    "gdf.crs = \"EPSG:4326\"\n",
    "\n",
    "# then, align crs to world crs\n",
    "\n",
    "gdf = gdf.to_crs(world.crs)"
   ]
  },
  {
   "cell_type": "code",
   "execution_count": null,
   "metadata": {},
   "outputs": [],
   "source": [
    "base = world.plot(color='cornsilk', edgecolor='grey')\n",
    "gdf.plot(ax=base, marker='o', color='red', markersize=2);"
   ]
  },
  {
   "cell_type": "markdown",
   "metadata": {},
   "source": [
    "## 5. Creating a choropleth map of meteorite numbers by country"
   ]
  },
  {
   "cell_type": "code",
   "execution_count": null,
   "metadata": {},
   "outputs": [],
   "source": [
    "# Create df total meteorites per country\n",
    "# first, spatial join meteorite gdf and world gdf to assign countries to meteorite coordinates\n",
    "\n",
    "gdf_countries = gpd.sjoin(world, gdf, how=\"right\", op=\"contains\")\n",
    "gdf_countries.head(50)"
   ]
  },
  {
   "cell_type": "code",
   "execution_count": null,
   "metadata": {},
   "outputs": [],
   "source": [
    "# rename country column\n",
    "gdf_countries.rename(columns = {'name_x': 'country'}, inplace = True)\n",
    "gdf_countries.head()"
   ]
  },
  {
   "cell_type": "code",
   "execution_count": null,
   "metadata": {},
   "outputs": [],
   "source": [
    "# check shape\n",
    "gdf_countries.shape"
   ]
  },
  {
   "cell_type": "code",
   "execution_count": null,
   "metadata": {},
   "outputs": [],
   "source": [
    "# aggregate meteorites per country\n",
    "by_country = gdf_countries.groupby('country')[['id']].count()\n",
    "by_country = by_country.reset_index()\n",
    "by_country.rename(columns = {'id': 'meteorite_count'}, inplace = True)              \n",
    "by_country"
   ]
  },
  {
   "cell_type": "code",
   "execution_count": null,
   "metadata": {},
   "outputs": [],
   "source": [
    "# make new df with all country data, even if no meteorite data (otherwise there will be gaps in the map)\n",
    "\n",
    "countries_count = pd.merge(world, by_country, on = 'country', how = 'left')\n",
    "countries_count.head()"
   ]
  },
  {
   "cell_type": "code",
   "execution_count": null,
   "metadata": {},
   "outputs": [],
   "source": [
    "# NaN values for meteorite count can be filled with 0\n",
    "countries_count.fillna(value = 0, inplace = True)\n",
    "countries_count.head()"
   ]
  },
  {
   "cell_type": "code",
   "execution_count": null,
   "metadata": {},
   "outputs": [],
   "source": [
    "# make choropleth map with number of meteorites per country indicated with colours\n",
    "# see: https://geopandas.org/mapping.html\n",
    "# include legend\n",
    "\n",
    "plt.rcParams['figure.figsize'] = [20,12]\n",
    "fig, ax = plt.subplots(1, 1)\n",
    "countries_count.plot(column='meteorite_count', ax=ax, legend=True, cmap='summer_r') #legend_kwds={'label': \"Found meteorites by country\",'orientation': \"horizontal\"})\n"
   ]
  },
  {
   "cell_type": "code",
   "execution_count": null,
   "metadata": {},
   "outputs": [],
   "source": [
    "countries_count.plot(column='meteorite_count', legend=True, cmap='summer_r', scheme='fisher_jenks_sampled')\n",
    "# tried out a few schemes and 'fisher_jenks_sampled' and 'jenks_caspall_sampled' looks best so far\n",
    "# figure out how to do 'user_defined'\n",
    "# also figure out how to increase legend size"
   ]
  },
  {
   "cell_type": "markdown",
   "metadata": {},
   "source": [
    "These maps highligt several interesting things:\n",
    "* By far the most meteorites were found in Antarctica. This is because several expeditions dedicated to finding meteorites were organised in recent years (check). Meteorites are relatively easy to find in Antarctica because they fall on the ice sheet and are very visible. \n",
    "* Other countries where a lot of meteorites were found are: the US, Australia, Chile, Morocco, Algeria, Libia and Oman. \n",
    "* These patterns are most likely explained by two main factors: national interest in meteorites (US, where the Meteoritical Society is based), and landscape/ ecotype. Apart from the US and Antartica, the other counties mentioned above all largely consist of desert, where meteorites are easier to find. \n",
    "\n",
    "Let's now have a look at the map but without Antarctica"
   ]
  },
  {
   "cell_type": "code",
   "execution_count": null,
   "metadata": {},
   "outputs": [],
   "source": [
    "countries_count2 = countries_count[countries_count['continent'] != 'Antarctica']"
   ]
  },
  {
   "cell_type": "code",
   "execution_count": null,
   "metadata": {},
   "outputs": [],
   "source": [
    "countries_count2.plot(column='meteorite_count', legend=True, cmap='summer_r', scheme='jenks_caspall')"
   ]
  },
  {
   "cell_type": "markdown",
   "metadata": {},
   "source": [
    "## 6. Zooming in on one country: Algeria"
   ]
  },
  {
   "cell_type": "code",
   "execution_count": null,
   "metadata": {},
   "outputs": [],
   "source": [
    "# plotting separate countries/ areas\n",
    "# what happens when we plot a subset of the data?\n",
    "\n",
    "world.head()"
   ]
  },
  {
   "cell_type": "code",
   "execution_count": null,
   "metadata": {},
   "outputs": [],
   "source": [
    "# make map for morocco\n",
    "# import more high-res country data\n",
    "world2 = gpd.read_file('../data/50m_cultural/ne_50m_admin_0_countries.shp')\n",
    "world2.plot()"
   ]
  },
  {
   "cell_type": "code",
   "execution_count": null,
   "metadata": {},
   "outputs": [],
   "source": [
    "world2.head()"
   ]
  },
  {
   "cell_type": "code",
   "execution_count": null,
   "metadata": {},
   "outputs": [],
   "source": [
    "# select data morocco\n",
    "morocco = world2.loc[world2['SOVEREIGNT'] == 'Morocco']\n",
    "morocco"
   ]
  },
  {
   "cell_type": "code",
   "execution_count": null,
   "metadata": {},
   "outputs": [],
   "source": [
    "plt.rcParams['figure.figsize'] = [12,8]\n",
    "morocco.plot(facecolor=\"none\", edgecolor=\"black\")"
   ]
  },
  {
   "cell_type": "code",
   "execution_count": null,
   "metadata": {},
   "outputs": [],
   "source": [
    "# select meteorite data for morocco\n",
    "morocco_count = gdf_countries.loc[gdf_countries['country'] == 'Morocco']\n",
    "morocco_count.head()\n",
    "morocco_count.shape"
   ]
  },
  {
   "cell_type": "code",
   "execution_count": null,
   "metadata": {},
   "outputs": [],
   "source": [
    "base = morocco.plot(color='cornsilk', edgecolor='black')\n",
    "morocco_count.plot(ax=base, marker='o', color='red', markersize=5);"
   ]
  },
  {
   "cell_type": "code",
   "execution_count": null,
   "metadata": {},
   "outputs": [],
   "source": [
    "# select map shape Algeria\n",
    "algeria = world2.loc[world2['SOVEREIGNT'] == 'Algeria']\n",
    "algeria"
   ]
  },
  {
   "cell_type": "code",
   "execution_count": null,
   "metadata": {},
   "outputs": [],
   "source": [
    "# select meteorite data for algeria\n",
    "\n",
    "algeria_count = gdf_countries.loc[gdf_countries['country'] == 'Algeria']\n",
    "algeria_count.head()"
   ]
  },
  {
   "cell_type": "code",
   "execution_count": null,
   "metadata": {},
   "outputs": [],
   "source": [
    "base = algeria.plot(color='cornsilk', edgecolor='black')\n",
    "algeria_count.plot(ax=base, marker='o', color='red', markersize=5);"
   ]
  },
  {
   "cell_type": "code",
   "execution_count": null,
   "metadata": {},
   "outputs": [],
   "source": [
    "# it's interesting to see that there are several clusters of meteorites. \n",
    "# Let's look at meteorite types in more detail"
   ]
  },
  {
   "cell_type": "code",
   "execution_count": null,
   "metadata": {},
   "outputs": [],
   "source": [
    "# Let's look at the meteorite types in the data\n",
    "algeria_top10 = pd.DataFrame(algeria_count['recclass'].value_counts().head(10))\n",
    "algeria_top10 = algeria_top10.reset_index()\n",
    "algeria_top10"
   ]
  },
  {
   "cell_type": "code",
   "execution_count": null,
   "metadata": {},
   "outputs": [],
   "source": [
    "# interestingly, there is a rare type of meteorite on the 6th spot: CR2\n",
    "# which is the Carbonaceous Chondrite Type\n",
    "# Select meteorite data for algeria, top 10 most common meteorites\n",
    "\n",
    "algeria_count10 = algeria_count.loc[algeria_count['recclass'].isin(algeria_top10['index'])]\n",
    "algeria_count10.head()"
   ]
  },
  {
   "cell_type": "code",
   "execution_count": null,
   "metadata": {},
   "outputs": [],
   "source": [
    "# plot them on the map, colourcoded\n",
    "base = algeria.plot(color='cornsilk', edgecolor='black')\n",
    "algeria_count10.plot(ax=base, marker='o', column='recclass', legend = True, markersize=5);"
   ]
  },
  {
   "cell_type": "code",
   "execution_count": null,
   "metadata": {},
   "outputs": [],
   "source": [
    "# to visualize our rare meteorite type better, we select and plot only this type\n",
    "algeria_CR2 = algeria_count.loc[algeria_count['recclass'] == 'CR2']\n",
    "algeria_CR2.head()"
   ]
  },
  {
   "cell_type": "code",
   "execution_count": null,
   "metadata": {},
   "outputs": [],
   "source": [
    "# plot CR2 on map\n",
    "\n",
    "base = algeria.plot(color='cornsilk', edgecolor='black')\n",
    "algeria_CR2.plot(ax=base, marker='o', color = 'blue', markersize=5)\n",
    "\n",
    "# There are nearly all in the same spot. Perhaps a bigger meteorite of this type fell and these are pieces of it"
   ]
  },
  {
   "cell_type": "code",
   "execution_count": null,
   "metadata": {},
   "outputs": [],
   "source": []
  },
  {
   "cell_type": "code",
   "execution_count": null,
   "metadata": {},
   "outputs": [],
   "source": [
    "# looking at the data, these meteorites are all from location 'Acfer'.\n",
    "# after some googling, it turns out that there was a recent discovery in a meteorite from this place, \n",
    "# which seems to show that there are extra-terrestrial proteins present in the meteorite\n",
    "# https://arxiv.org/abs/2002.11688 (paper still under peer-review)\n",
    "# This is definitely an interesting meteorite hotspot to explore!"
   ]
  },
  {
   "cell_type": "markdown",
   "metadata": {},
   "source": [
    "## 7. Conclusion\n",
    "\n",
    "XX"
   ]
  },
  {
   "cell_type": "code",
   "execution_count": null,
   "metadata": {},
   "outputs": [],
   "source": []
  }
 ],
 "metadata": {
  "kernelspec": {
   "display_name": "Python 3",
   "language": "python",
   "name": "python3"
  },
  "language_info": {
   "codemirror_mode": {
    "name": "ipython",
    "version": 3
   },
   "file_extension": ".py",
   "mimetype": "text/x-python",
   "name": "python",
   "nbconvert_exporter": "python",
   "pygments_lexer": "ipython3",
   "version": "3.7.1"
  }
 },
 "nbformat": 4,
 "nbformat_minor": 4
}
