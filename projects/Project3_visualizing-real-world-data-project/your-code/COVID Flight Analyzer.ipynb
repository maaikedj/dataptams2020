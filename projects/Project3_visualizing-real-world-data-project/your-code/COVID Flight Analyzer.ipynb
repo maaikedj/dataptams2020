{
 "cells": [
  {
   "cell_type": "markdown",
   "metadata": {},
   "source": [
    "# Import all libraries required for interactive visualization"
   ]
  },
  {
   "cell_type": "code",
   "execution_count": null,
   "metadata": {},
   "outputs": [],
   "source": [
    "import chart_studio.plotly as py\n",
    "import cufflinks as cf\n",
    "import pandas as pd\n",
    "import numpy as np\n",
    "%matplotlib inline\n",
    "cf.go_offline()\n",
    "import ipywidgets as widgets\n",
    "from ipywidgets import interact\n",
    "from ipywidgets import interact, interactive, fixed, interact_manual\n",
    "import matplotlib.pyplot as plt\n",
    "import seaborn as sns"
   ]
  },
  {
   "cell_type": "markdown",
   "metadata": {},
   "source": [
    "# Global Constants"
   ]
  },
  {
   "cell_type": "code",
   "execution_count": null,
   "metadata": {},
   "outputs": [],
   "source": [
    "AIRPORT ='AMS'\n",
    "AIRLINE = 'KLM'\n",
    "ARRIVAL_FOLDER_LOCATION = 'C:\\\\Users\\\\Sreelatha\\\\Desktop\\\\ironHack\\\\Project 3\\\\flight_data\\\\2020\\\\arr'\n",
    "DEPARTURE_FOLDER_LOCATION = 'C:\\\\Users\\\\Sreelatha\\\\Desktop\\\\ironHack\\\\Project 3\\\\flight_data\\\\2020\\\\dep'"
   ]
  },
  {
   "cell_type": "markdown",
   "metadata": {},
   "source": [
    "## Import all the libraries required to get the information from the multiple json files"
   ]
  },
  {
   "cell_type": "code",
   "execution_count": null,
   "metadata": {},
   "outputs": [],
   "source": [
    "import os \n",
    "import glob \n",
    "import requests\n",
    "import json\n",
    "import datetime \n",
    "import pandas as pd\n",
    "from dateutil.relativedelta import relativedelta\n",
    "from pandas.io.json import json_normalize\n"
   ]
  },
  {
   "cell_type": "code",
   "execution_count": null,
   "metadata": {},
   "outputs": [],
   "source": [
    "def get_flight_json_files(path, current_month):\n",
    "\n",
    "# detect the current working directory\n",
    "    path= path +'\\\\' + current_month \n",
    "    files = [f for f in glob.glob(path + \"**/*.json\", recursive=True)]\n",
    "    return files\n",
    "\n",
    "def load_flight_data(file_list):\n",
    "    new_flight_df = pd.DataFrame()\n",
    "    \n",
    "    for file in file_list:\n",
    "        with open(file) as data_file: \n",
    "                current_flight_df = pd.DataFrame()\n",
    "                flight_dict = json.loads(data_file.read()) \n",
    "                flight_dict = dict(flight_dict['pagination'])\n",
    "               \n",
    "                data_file.seek(0)\n",
    "                data = json.load(data_file)\n",
    "                current_flight_df = json_normalize(data,record_path=['data'])\n",
    "                current_flight_df['flight_total'] =  flight_dict['total']\n",
    "                #print(current_flight_df)\n",
    "                new_flight_df=  new_flight_df.append(current_flight_df)\n",
    "               \n",
    "                \n",
    "    return new_flight_df\n",
    "\n",
    "\n",
    "# start date and end date\n",
    "start_date = datetime.datetime(2020, 1, 1)\n",
    "end_date = datetime.datetime(2020,3,27)      \n",
    "flight_pd = pd.DataFrame()\n",
    "temp_flight_pd = pd.DataFrame()\n",
    "\n",
    "\n",
    "from datetime import date, timedelta\n",
    "while start_date <= end_date: \n",
    "    current_month = start_date.strftime(\"%m\")\n",
    "    print(current_month)\n",
    "    file_list = get_flight_json_files(ARRIVAL_FOLDER_LOCATION, current_month) \n",
    "    temp_flight_pd = temp_flight_pd.append(load_flight_data(file_list))\n",
    "\n",
    "    \n",
    "    start_date += relativedelta(months=+1) \n",
    "    \n",
    "temp_flight_pd['flight.type']='Arr'\n",
    "flight_pd = flight_pd.append(temp_flight_pd)\n",
    "\n",
    "start_date = datetime.datetime(2020, 1, 1)\n",
    "temp_flight_pd = pd.DataFrame()\n",
    "   \n",
    "while start_date <= end_date: \n",
    "    current_month = start_date.strftime(\"%m\")\n",
    "    print(current_month)\n",
    "    file_list = get_flight_json_files(DEPARTURE_FOLDER_LOCATION, current_month)\n",
    "    temp_flight_pd = temp_flight_pd.append(load_flight_data(file_list))\n",
    " \n",
    "    start_date += relativedelta(months=+1)  \n",
    "    \n",
    "temp_flight_pd['flight.type']='Dep'\n",
    "flight_pd = flight_pd.append(temp_flight_pd)\n",
    "flight_pd['flight_month'] = pd.DatetimeIndex(flight_pd['flight_date']).month\n",
    "\n",
    "# Check if Dataframe is empty using empty attribute\n",
    "if  flight_pd.empty == True:\n",
    "     print('DataFrame is empty')\n",
    "else:\n",
    "    print('DataFrame is not empty')\n",
    "#     print(flight_pd.count())\n",
    "#     print(flight_pd.columns)\n"
   ]
  },
  {
   "cell_type": "code",
   "execution_count": null,
   "metadata": {},
   "outputs": [],
   "source": [
    "flight_pd.columns"
   ]
  },
  {
   "cell_type": "markdown",
   "metadata": {},
   "source": [
    "### \"flight_pd\" has a lot of data with many unwanted data. So, I am only pcalling the columns I need in \"flight_pd\" and putting it in a dataframe named \"flight_pd\""
   ]
  },
  {
   "cell_type": "code",
   "execution_count": null,
   "metadata": {},
   "outputs": [],
   "source": [
    "filtered_flight_pd = flight_pd[['flight_date', 'flight_total','flight_month','airline.name','flight_status', 'departure.airport', 'arrival.airport','departure.iata', 'arrival.iata', 'flight.iata','flight.type']]\n",
    "filtered_flight_pd.head"
   ]
  },
  {
   "cell_type": "markdown",
   "metadata": {},
   "source": [
    "### Since the flight route dataframe, named flight_pd, does not have the name of the airports and the country they are located in; another dataframe was created based on another database. This dataframe named airports was downloaded from \"https://openflights.org/data.html#airport\" website."
   ]
  },
  {
   "cell_type": "code",
   "execution_count": null,
   "metadata": {},
   "outputs": [],
   "source": [
    "airports = pd.read_csv('../airport_data/airports.csv')\n",
    "airports.head()"
   ]
  },
  {
   "cell_type": "markdown",
   "metadata": {},
   "source": [
    "### Now I would like to concat both the dataframes as I would like to include the airport name and country name."
   ]
  },
  {
   "cell_type": "code",
   "execution_count": null,
   "metadata": {},
   "outputs": [],
   "source": [
    "# Merging the dataframes                       \n",
    "nl_flights = pd.merge(filtered_flight_pd, airports, how ='inner', left_on ='arrival.iata',right_on='iata') \n",
    "\n",
    "\n",
    "# Sorting the date in European format:\n",
    "nl_flights[\"flight_date\"] = pd.to_datetime(nl_flights[\"flight_date\"])\n",
    "\n",
    "nl_flights\n"
   ]
  },
  {
   "cell_type": "markdown",
   "metadata": {},
   "source": [
    "### I would like to save all the data in an excel format"
   ]
  },
  {
   "cell_type": "code",
   "execution_count": null,
   "metadata": {},
   "outputs": [],
   "source": [
    "# Saving the dataframe to an excel file format:\n",
    "nl_flight = nl_flights.to_excel('nl_flights.xlsx')\n",
    "\n",
    "nl_flight = nl_flights.to_csv('nl_flights.csv')\n"
   ]
  },
  {
   "cell_type": "markdown",
   "metadata": {},
   "source": [
    "### Loading the COVID-19 Cases from Jan 2020 through March 2020 in the Netherlands. \n",
    "The data comes from \" https://data.humdata.org/dataset/covid-19-global-travel-restrictions-and-airline-information. \n",
    "The data had all the countries in the world. I extracted only the cases from NL and put it in a dataframe."
   ]
  },
  {
   "cell_type": "code",
   "execution_count": null,
   "metadata": {},
   "outputs": [],
   "source": [
    "covid = pd.read_csv('../covid_data/covid.csv')\n",
    "covid = covid[['Country/Region', 'Date', 'Value']]\n",
    "covid = covid.loc[covid['Country/Region'] == \"Netherlands\"]\n",
    "\n",
    "\n",
    "# Sorting the date in European format:\n",
    "covid[\"Date\"] = pd.to_datetime(covid[\"Date\"])\n",
    "covid = covid.sort_values(by=\"Date\")\n",
    "\n",
    "\n"
   ]
  },
  {
   "cell_type": "code",
   "execution_count": null,
   "metadata": {},
   "outputs": [],
   "source": [
    "covid_one = covid.groupby(['Date']).sum().reset_index()\n",
    "covid_one\n",
    "# Interactive Plot:\n",
    "\n",
    "import plotly.express as px\n",
    "fig = px.line(covid_one, x=\"Date\", y=\"Value\", title=\"Number of infections in Jan, Feb, March\")\n",
    "fig.show()\n"
   ]
  },
  {
   "cell_type": "code",
   "execution_count": null,
   "metadata": {},
   "outputs": [],
   "source": [
    "# Grouping by Date as there are multiple rows for the same date in NL.\n",
    "covid = covid.groupby(['Date']).sum()\n",
    "\n",
    "# Interactive Plot:\n",
    "covid_cases = covid['Value']\n",
    "\n",
    "covid_cases.iplot(kind='bar')"
   ]
  },
  {
   "cell_type": "markdown",
   "metadata": {},
   "source": [
    "### Merging the flight and country database with COVID Database"
   ]
  },
  {
   "cell_type": "code",
   "execution_count": null,
   "metadata": {},
   "outputs": [],
   "source": [
    "# Merging the dataframes\n",
    "covid_flights = nl_flights[['flight_date','flight_total']]\n",
    "covid_flights = covid_flights.drop_duplicates()\n",
    "covid_flights = covid_flights.groupby('flight_date').agg('sum')\n",
    "\n",
    "#covid_flights = pd.merge(covid_flights, covid, how ='inner', left_on ='flight_date',right_on='Date') \n",
    "#covid_flights = covid_flights.rename(columns={'Value': 'covid_infections', 'Date': 'covid_date', 'Country/Region': 'covid_country'})\n",
    "\n",
    "\n",
    "covid_flights.head()\n",
    "\n"
   ]
  },
  {
   "cell_type": "markdown",
   "metadata": {},
   "source": [
    "### Total number of flights for Jan, Feb, March 2020"
   ]
  },
  {
   "cell_type": "code",
   "execution_count": null,
   "metadata": {},
   "outputs": [],
   "source": [
    "# Interactive Plot:\n",
    "total_flights = covid_flights['flight_total']\n",
    "\n",
    "total_flights.iplot(kind='bar')"
   ]
  },
  {
   "cell_type": "markdown",
   "metadata": {},
   "source": [
    "### I would like to visualize the number of flights based on the flight status."
   ]
  },
  {
   "cell_type": "code",
   "execution_count": null,
   "metadata": {},
   "outputs": [],
   "source": [
    "# Interactive Plot:\n",
    "status = nl_flights['flight_status'].value_counts()\n",
    "\n",
    "status.iplot(kind='bar')"
   ]
  },
  {
   "cell_type": "code",
   "execution_count": null,
   "metadata": {},
   "outputs": [],
   "source": [
    "cancelled_flight_filter = nl_flights['flight_status'] == 'cancelled'\n",
    "new = nl_flights[cancelled_flight_filter].groupby('flight_date')['flight_status'].value_counts().reset_index(name = 'flights_cancelled').drop(['flight_status'], axis = 1) \n",
    "new\n"
   ]
  },
  {
   "cell_type": "code",
   "execution_count": null,
   "metadata": {},
   "outputs": [],
   "source": [
    "\n",
    "# Interactive Plot:\n",
    "\n",
    "import plotly.express as px\n",
    "fig = px.line(new, x=\"flight_date\", y=\"flights_cancelled\")\n",
    "fig.show()\n",
    "\n"
   ]
  },
  {
   "cell_type": "code",
   "execution_count": null,
   "metadata": {},
   "outputs": [],
   "source": [
    "\n",
    "# covid data\n",
    "x = covid_one.rename(columns={'Value': 'covid_infections'})\n",
    "\n",
    "# cancelled flights data\n",
    "new\n",
    "\n",
    "# merge covid data and cancelled flights data\n",
    "\n",
    "test = pd.merge(new, x, how ='inner', left_on ='flight_date',right_on='Date')\n",
    "test = test.drop(['Date'], axis = 1)\n",
    "# test.transpose()\n",
    "test\n",
    "\n",
    "\n",
    "import plotly.graph_objs as go\n",
    "\n",
    "test = test.set_index('flight_date')\n",
    "test.head()\n",
    "trace0 = go.Scatter(x = test.index, y = test.flights_cancelled, mode = 'lines', name = \"Flights Cancelled\")\n",
    "trace1 = go.Scatter(x = test.index, y = test.covid_infections, mode = 'lines', name = \"Covid Infections\")\n",
    "\n",
    "data = [trace0, trace1]\n",
    "layout = go.Layout(title = 'Covid Infections vs Flight Cancellations')\n",
    "\n",
    "figure = go.Figure(data=data, layout=layout)\n",
    "figure.show()"
   ]
  },
  {
   "cell_type": "code",
   "execution_count": null,
   "metadata": {},
   "outputs": [],
   "source": [
    "# Pair plot:\n",
    "sns.pairplot(test)\n",
    "plt.show()"
   ]
  },
  {
   "cell_type": "markdown",
   "metadata": {},
   "source": [
    "### Number of flight landed and cancelled in Jan 2020"
   ]
  },
  {
   "cell_type": "code",
   "execution_count": null,
   "metadata": {},
   "outputs": [],
   "source": [
    "import plotly.express as px\n",
    "\n",
    "\n",
    "month1 = nl_flights.loc[nl_flights['flight_month']== 1]\n",
    "fig = px.histogram(month1, x=\"flight.type\", color=\"flight_status\")\n",
    "fig.show()\n",
    "\n"
   ]
  },
  {
   "cell_type": "markdown",
   "metadata": {},
   "source": [
    "### Number of flight landed and cancelled in March 2020"
   ]
  },
  {
   "cell_type": "code",
   "execution_count": null,
   "metadata": {},
   "outputs": [],
   "source": [
    "import plotly.express as px\n",
    "month3 = nl_flights.loc[nl_flights['flight_month']== 3]\n",
    "\n",
    "fig = px.histogram(month3, x=\"flight.type\", color=\"flight_status\")\n",
    "fig.show()\n",
    "\n",
    "# Comparing the abobe and below graphs, there are a high number of flight cancelled in March 2020 compared to Jan 2020"
   ]
  },
  {
   "cell_type": "code",
   "execution_count": null,
   "metadata": {},
   "outputs": [],
   "source": [
    "test.reset_index(inplace = True) \n",
    "test.head()"
   ]
  },
  {
   "cell_type": "code",
   "execution_count": null,
   "metadata": {},
   "outputs": [],
   "source": [
    "@interact(Covid_Data = test['covid_infections'].unique(), \n",
    "          Flight_Date = test['flight_date'].unique())\n",
    "\n",
    "def linechart(Covid_Data, Flight_Date):\n",
    "    df = test[(test['covid_infections']==Covid_Data) & (test['flight_date']==Flight_Date)]\n",
    "    grouped = test.groupby('flight_date').agg('sum')\n",
    "    grouped.iplot(kind='bar', title='Covid Infections per Day')"
   ]
  },
  {
   "cell_type": "code",
   "execution_count": null,
   "metadata": {},
   "outputs": [],
   "source": []
  }
 ],
 "metadata": {
  "kernelspec": {
   "display_name": "Python 3",
   "language": "python",
   "name": "python3"
  },
  "language_info": {
   "codemirror_mode": {
    "name": "ipython",
    "version": 3
   },
   "file_extension": ".py",
   "mimetype": "text/x-python",
   "name": "python",
   "nbconvert_exporter": "python",
   "pygments_lexer": "ipython3",
   "version": "3.7.4"
  }
 },
 "nbformat": 4,
 "nbformat_minor": 2
}
