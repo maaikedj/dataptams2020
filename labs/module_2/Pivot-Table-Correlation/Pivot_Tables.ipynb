{
 "cells": [
  {
   "cell_type": "markdown",
   "metadata": {
    "colab_type": "text",
    "id": "c-SJQBSkf1gp"
   },
   "source": [
    "# Pivot Tables"
   ]
  },
  {
   "cell_type": "markdown",
   "metadata": {
    "colab_type": "text",
    "id": "AzdBJSsDf8wk"
   },
   "source": [
    "## Introduction \n",
    "\n",
    "Most of us have heard of pivot tables from Excel. Pivot tables are a useful tool for reshaping and aggregating our data to gain meaningful insight about the data."
   ]
  },
  {
   "cell_type": "markdown",
   "metadata": {
    "colab_type": "text",
    "id": "7pC46uArhJxF"
   },
   "source": [
    "![alt text](https://i2.wp.com/cmdlinetips.com/wp-content/uploads/2018/12/pivot_example_Pandas.jpg)"
   ]
  },
  {
   "cell_type": "markdown",
   "metadata": {
    "colab_type": "text",
    "id": "G1Omm8W_gAar"
   },
   "source": [
    "## The pivot_table function\n",
    "\n",
    "In Pandas we create a pivot table using the pivot_table function. However, before using the function, let's spend some time looking at the different components of the function. "
   ]
  },
  {
   "cell_type": "markdown",
   "metadata": {
    "colab_type": "text",
    "id": "3XdSdJeygKBW"
   },
   "source": [
    "### Index\n",
    "\n",
    "The index columns are the columns we are going to group by.\n",
    "\n",
    "For example, recall our vehicles dataset. We can look at a pivot table where the index is vehicle class:"
   ]
  },
  {
   "cell_type": "code",
   "execution_count": null,
   "metadata": {},
   "outputs": [],
   "source": [
    "import pandas as pd"
   ]
  },
  {
   "cell_type": "code",
   "execution_count": null,
   "metadata": {},
   "outputs": [],
   "source": [
    "vehicles = pd.read_csv('vehicles.csv')"
   ]
  },
  {
   "cell_type": "code",
   "execution_count": null,
   "metadata": {},
   "outputs": [],
   "source": [
    "vehicles.head()"
   ]
  },
  {
   "cell_type": "code",
   "execution_count": null,
   "metadata": {},
   "outputs": [],
   "source": [
    "vehicles.Cylinders.unique()"
   ]
  },
  {
   "cell_type": "code",
   "execution_count": null,
   "metadata": {
    "colab": {},
    "colab_type": "code",
    "id": "OalIWBhHfzI0"
   },
   "outputs": [],
   "source": [
    "vehicles.pivot_table(index=[\"Vehicle Class\"]).head()"
   ]
  },
  {
   "cell_type": "code",
   "execution_count": null,
   "metadata": {},
   "outputs": [],
   "source": [
    "# Explain the values in the df \n",
    "vehicles[\"Vehicle Class\"].isin(['Large Cars'])"
   ]
  },
  {
   "cell_type": "code",
   "execution_count": null,
   "metadata": {},
   "outputs": [],
   "source": [
    "# Create subset\n",
    "large_cars = vehicles[vehicles[\"Vehicle Class\"].isin(['Large Cars'])]"
   ]
  },
  {
   "cell_type": "code",
   "execution_count": null,
   "metadata": {},
   "outputs": [],
   "source": [
    "# Compute the mean \n",
    "large_cars[\"City MPG\"].sum() / len(large_cars[\"City MPG\"])"
   ]
  },
  {
   "cell_type": "code",
   "execution_count": null,
   "metadata": {},
   "outputs": [],
   "source": [
    "large_cars[\"City MPG\"].mean()"
   ]
  },
  {
   "cell_type": "markdown",
   "metadata": {
    "colab_type": "text",
    "id": "zNEmAM-0gN12"
   },
   "source": [
    "### Columns\n",
    "The columns argument is used to determine the columns for which we would like to compute a summary statistic for every value.\n",
    "\n",
    "In the example above, we aggregated all columns. We can also use the values to select a subset of columns.\n",
    "\n",
    "For example:"
   ]
  },
  {
   "cell_type": "code",
   "execution_count": null,
   "metadata": {},
   "outputs": [],
   "source": [
    "vehicles = pd.read_csv('vehicles.csv')"
   ]
  },
  {
   "cell_type": "code",
   "execution_count": null,
   "metadata": {
    "colab": {},
    "colab_type": "code",
    "id": "IOX77z5egS0J"
   },
   "outputs": [],
   "source": [
    "vehicles.pivot_table(index=[\"Vehicle Class\"], columns=[\"Cylinders\"]).head()"
   ]
  },
  {
   "cell_type": "code",
   "execution_count": null,
   "metadata": {},
   "outputs": [],
   "source": [
    "compact_cars = vehicles[vehicles[\"Vehicle Class\"].isin(['Compact Cars'])]"
   ]
  },
  {
   "cell_type": "code",
   "execution_count": null,
   "metadata": {},
   "outputs": [],
   "source": [
    "compact_cars.Cylinders.unique()"
   ]
  },
  {
   "cell_type": "markdown",
   "metadata": {
    "colab_type": "text",
    "id": "cZREsek-gVXe"
   },
   "source": [
    "Notice that we have quite a few fields with NaN. These cells represent the fact that there are no rows in the data with this combination of values. For example, there are no 2-cylinder cargo vans. Therefore, we cannot find a mean CO2 emissions value for this cell in the pivot table."
   ]
  },
  {
   "cell_type": "markdown",
   "metadata": {
    "colab_type": "text",
    "id": "fvmkCRxjgXXz"
   },
   "source": [
    "### Aggregation Function\n",
    "The default aggregation function is the mean. However, we might want to aggregate using a different aggregation function. Therefore, we can set the aggfunc argument in the pivot_table function to something different. We can either use an existing function or create our own custom aggregation function.\n",
    "\n",
    "In this example, we will use the numpy sum function."
   ]
  },
  {
   "cell_type": "code",
   "execution_count": null,
   "metadata": {},
   "outputs": [],
   "source": [
    "import numpy as np"
   ]
  },
  {
   "cell_type": "code",
   "execution_count": null,
   "metadata": {
    "colab": {},
    "colab_type": "code",
    "id": "pPm9YKJhgdL1"
   },
   "outputs": [],
   "source": [
    "vehicles.pivot_table(index=[\"Vehicle Class\"], values=[\"Combined MPG\"], aggfunc=np.sum)"
   ]
  },
  {
   "cell_type": "code",
   "execution_count": null,
   "metadata": {},
   "outputs": [],
   "source": [
    "vehicles.pivot_table(index=[\"Vehicle Class\"], values=[\"Combined MPG\", \"CO2 Emission Grams/Mile\"], aggfunc=np.sum)"
   ]
  },
  {
   "cell_type": "code",
   "execution_count": null,
   "metadata": {},
   "outputs": [],
   "source": [
    "vehicles.pivot_table(index=[\"Vehicle Class\", \"City MPG\"], values=[\"Combined MPG\", \"CO2 Emission Grams/Mile\"], aggfunc=np.sum)"
   ]
  },
  {
   "cell_type": "markdown",
   "metadata": {
    "colab_type": "text",
    "id": "R6T9_UbVgdxB"
   },
   "source": [
    "### Values\n",
    "Values allow us to specify the columns that are aggregated.\n",
    "\n",
    "Here is an example with combined MPG and CO2 emission grams per mile passed to the values argument."
   ]
  },
  {
   "cell_type": "code",
   "execution_count": null,
   "metadata": {
    "colab": {},
    "colab_type": "code",
    "id": "mXMR-SJ6ghlq"
   },
   "outputs": [],
   "source": [
    "vehicles.pivot_table(index=[\"Vehicle Class\"], values=[\"Combined MPG\", \"CO2 Emission Grams/Mile\"])"
   ]
  },
  {
   "cell_type": "markdown",
   "metadata": {
    "colab_type": "text",
    "id": "unX4TjZhgmF5"
   },
   "source": [
    "### Fill Value\n",
    "In the case where no such combination of values exists in the dataset, we will have a missing value. We can opt to fill this value with some default.\n",
    "\n",
    "In this example, we will fill the missing values with zero."
   ]
  },
  {
   "cell_type": "code",
   "execution_count": null,
   "metadata": {},
   "outputs": [],
   "source": [
    "# Get pivot table\n",
    "vehicles.pivot_table(index=[\"Vehicle Class\"], columns=[\"Cylinders\"], values=[\"Combined MPG\"])"
   ]
  },
  {
   "cell_type": "code",
   "execution_count": null,
   "metadata": {
    "colab": {},
    "colab_type": "code",
    "id": "KyL0E4SXgoiY"
   },
   "outputs": [],
   "source": [
    "# Fill values\n",
    "vehicles.pivot_table(index=[\"Vehicle Class\"], columns=[\"Cylinders\"], values=[\"Combined MPG\"], fill_value=0)"
   ]
  },
  {
   "cell_type": "markdown",
   "metadata": {
    "colab_type": "text",
    "id": "mw4eP1hcgq0a"
   },
   "source": [
    "## Summary \n",
    "In this lesson we learned how to create pivot tables in Pandas. We learned how to aggregate based on the values of different columns, use other aggregation functions, and aggregate a list of columns.\n",
    "\n",
    "Pivot tables are extremely useful for deriving insight on a dataset; therefore, they are a great tool to master."
   ]
  },
  {
   "cell_type": "code",
   "execution_count": null,
   "metadata": {
    "colab": {},
    "colab_type": "code",
    "id": "LT2Vh2Kugufu"
   },
   "outputs": [],
   "source": []
  }
 ],
 "metadata": {
  "colab": {
   "authorship_tag": "ABX9TyOB2eAXWBFtbZ8QHBfVW2aT",
   "collapsed_sections": [
    "mw4eP1hcgq0a"
   ],
   "name": "Pivot_Tables.ipynb",
   "provenance": []
  },
  "kernelspec": {
   "display_name": "Python 3",
   "language": "python",
   "name": "python3"
  },
  "language_info": {
   "codemirror_mode": {
    "name": "ipython",
    "version": 3
   },
   "file_extension": ".py",
   "mimetype": "text/x-python",
   "name": "python",
   "nbconvert_exporter": "python",
   "pygments_lexer": "ipython3",
   "version": "3.7.4"
  }
 },
 "nbformat": 4,
 "nbformat_minor": 4
}
