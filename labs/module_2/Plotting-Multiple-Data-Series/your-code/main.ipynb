{
 "cells": [
  {
   "cell_type": "markdown",
   "metadata": {
    "Collapsed": "false"
   },
   "source": [
    "# Plotting Multiple Data Series\n",
    "\n",
    "Complete the following set of exercises to solidify your knowledge of plotting multiple data series with pandas, matplotlib, and seaborn. Part of the challenge that comes with plotting multiple data series is transforming the data into the form needed to visualize it like you want. For some of the exercises in this lab, you will need to transform the data into the form most appropriate for generating the visualization and then create the plot. The data can be found [here](https://drive.google.com/file/d/1tgx8nnEXLcqy1ds_99T_14-2B9TM-Gne/view?usp=sharing), please downloand and place them in your local data folder from which you can read them."
   ]
  },
  {
   "cell_type": "code",
   "execution_count": null,
   "metadata": {
    "Collapsed": "false"
   },
   "outputs": [],
   "source": [
    "import pandas as pd\n",
    "import numpy as np\n",
    "import matplotlib.pyplot as plt\n",
    "import seaborn as sns"
   ]
  },
  {
   "cell_type": "code",
   "execution_count": null,
   "metadata": {
    "Collapsed": "false"
   },
   "outputs": [],
   "source": [
    "# Read the data\n",
    "data = pd.read_csv('../data/liquor_store_sales.csv')\n",
    "data.head()"
   ]
  },
  {
   "cell_type": "markdown",
   "metadata": {
    "Collapsed": "false"
   },
   "source": [
    "## 1. Create a bar chart with bars for total Retail Sales, Retail Transfers, and Warehouse Sales by Item Type."
   ]
  },
  {
   "cell_type": "code",
   "execution_count": null,
   "metadata": {
    "Collapsed": "false"
   },
   "outputs": [],
   "source": [
    "Sales_per_Item = data.pivot_table(index=['ItemType'], values=['RetailSales','RetailTransfers','WarehouseSales'], aggfunc=sum)\n",
    "\n",
    "Sales_per_Item.plot.barh()\n",
    "plt.show()"
   ]
  },
  {
   "cell_type": "markdown",
   "metadata": {
    "Collapsed": "false"
   },
   "source": [
    "## 2. Create a horizontal bar chart showing sales mix for the top 10 suppliers with the most total sales. "
   ]
  },
  {
   "cell_type": "code",
   "execution_count": null,
   "metadata": {
    "Collapsed": "false"
   },
   "outputs": [],
   "source": [
    "Top_10 = data\n",
    "\n",
    "#create column for total sale\n",
    "Top_10['Total_Sale'] =  Top_10['RetailSales'] + Top_10['RetailTransfers'] + Top_10['WarehouseSales']\n",
    "#group per supplier\n",
    "Top_10 = Top_10.pivot_table(index=['Supplier'], values=['RetailSales','RetailTransfers','WarehouseSales','Total_Sale'], aggfunc=sum)\n",
    "#sort by total sales to find biggest supplier\n",
    "Top_10 = Top_10.sort_values(by='Total_Sale',ascending=False).iloc[0:10,:]\n",
    "#drop total as its no longer needed\n",
    "Top_10 = Top_10.drop('Total_Sale',1)\n",
    "#plot:\n",
    "Top_10.plot.barh()\n",
    "plt.show()"
   ]
  },
  {
   "cell_type": "markdown",
   "metadata": {
    "Collapsed": "false"
   },
   "source": [
    "## 3. Create a bar-chart chart that shows average Retail Sales, Retail Transfers, and Warehouse Sales per month over time."
   ]
  },
  {
   "cell_type": "code",
   "execution_count": null,
   "metadata": {
    "Collapsed": "false"
   },
   "outputs": [],
   "source": [
    "per_month = data\n",
    "\n",
    "per_month = per_month.pivot_table(index=['Year','Month'], values=['RetailSales','RetailTransfers','WarehouseSales'], aggfunc=np.mean)\n",
    "\n",
    "per_month.plot.bar()\n",
    "plt.title(\"Average sales per month\")\n",
    "plt.show()"
   ]
  },
  {
   "cell_type": "markdown",
   "metadata": {
    "Collapsed": "false"
   },
   "source": [
    "## 4. Create a multi-line chart that shows Retail Sales summed by Item Type over time (Year & Month).\n",
    "\n",
    "*Hint: There should be a line representing each Item Type.*"
   ]
  },
  {
   "cell_type": "code",
   "execution_count": null,
   "metadata": {
    "Collapsed": "false"
   },
   "outputs": [],
   "source": [
    "item_per_month = data\n",
    "\n",
    "item_per_month = item_per_month.pivot_table(index=['Year','Month'],columns=[\"ItemType\"], values=['RetailSales'], aggfunc=sum)\n",
    "item_per_month.plot()\n",
    "figsize = (16,4)\n",
    "plt.rcParams[\"figure.figsize\"] = figsize\n",
    "plt.show()\n",
    "#peak during Xmas season for alcohol"
   ]
  },
  {
   "cell_type": "markdown",
   "metadata": {
    "Collapsed": "false"
   },
   "source": [
    "## 6. Plot the same information as above (i.e. Q5) but as a bar chart."
   ]
  },
  {
   "cell_type": "code",
   "execution_count": null,
   "metadata": {
    "Collapsed": "false"
   },
   "outputs": [],
   "source": [
    "item_per_month.plot.bar()\n",
    "plt.show()\n"
   ]
  },
  {
   "cell_type": "markdown",
   "metadata": {
    "Collapsed": "false"
   },
   "source": [
    "## 7. Create a scatter plot showing the relationship between Retail Sales (x-axis) and Retail Transfers (y-axis) with the plot points color-coded according to their Item Type.\n",
    "\n",
    "*Hint: Seaborn's lmplot is the easiest way to generate the scatter plot.*"
   ]
  },
  {
   "cell_type": "code",
   "execution_count": null,
   "metadata": {
    "Collapsed": "false"
   },
   "outputs": [],
   "source": [
    "sns.scatterplot(x=\"RetailSales\", y=\"RetailTransfers\", data=data, hue='ItemType')\n",
    "plt.show()\n",
    "\n"
   ]
  },
  {
   "cell_type": "markdown",
   "metadata": {
    "Collapsed": "false"
   },
   "source": [
    "## 8. Create a scatter matrix using all the numeric fields in the data set with the plot points color-coded by Item Type.\n",
    "\n",
    "*Hint: Seaborn's pairplot may be your best option here.*"
   ]
  },
  {
   "cell_type": "code",
   "execution_count": null,
   "metadata": {
    "Collapsed": "false"
   },
   "outputs": [],
   "source": [
    "#numeric_data = \n",
    "sns.pairplot(data, hue = 'ItemType')\n",
    "plt.show()\n",
    "#This cell gives error , but I think I found the problem: the issue is that when using\n",
    "# pairplot, on the diagonal of the plot matrix it tries to fit and plot also a plausible distribution of the univariate variable, but\n",
    "# sometimes it cannot fit the data to a ditribution and gives error. For example if you take the Year column\n",
    "# it only has two years 2017 and 2018 and it has trouble to find a matching distribution. A way around is\n",
    "# to plot the data as raw histogram, see cell below\n"
   ]
  },
  {
   "cell_type": "code",
   "execution_count": null,
   "metadata": {
    "Collapsed": "false"
   },
   "outputs": [],
   "source": [
    "sns.pairplot(data, hue = 'ItemType', diag_kind= 'hist')"
   ]
  }
 ],
 "metadata": {
  "kernelspec": {
   "display_name": "Python 3",
   "language": "python",
   "name": "python3"
  },
  "language_info": {
   "codemirror_mode": {
    "name": "ipython",
    "version": 3
   },
   "file_extension": ".py",
   "mimetype": "text/x-python",
   "name": "python",
   "nbconvert_exporter": "python",
   "pygments_lexer": "ipython3",
   "version": "3.7.6"
  }
 },
 "nbformat": 4,
 "nbformat_minor": 4
}
