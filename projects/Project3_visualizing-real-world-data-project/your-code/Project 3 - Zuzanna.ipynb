{
 "cells": [
  {
   "cell_type": "markdown",
   "metadata": {},
   "source": [
    "# Kickstarter vs Indiegogo Projects"
   ]
  },
  {
   "cell_type": "markdown",
   "metadata": {},
   "source": [
    "I wanted to investigate funding and success between Kickstarter and Indiegogo Projects. With data visualization, I wanted to check which countries are most likely to participate in crowd-funding projects, and what types of projects could be most successful. "
   ]
  },
  {
   "cell_type": "code",
   "execution_count": null,
   "metadata": {},
   "outputs": [],
   "source": [
    "#importing necessary databases \n",
    "import pandas as pd\n",
    "import glob\n",
    "import matplotlib.pyplot as plt\n",
    "%matplotlib inline\n",
    "import numpy as np\n",
    "import seaborn as sns\n",
    "import os \n",
    "from functools import reduce"
   ]
  },
  {
   "cell_type": "code",
   "execution_count": null,
   "metadata": {},
   "outputs": [],
   "source": [
    "#importing indiegogo datasets\n",
    "indiegogo = pd.read_csv(r'C:\\Users\\Zuzanna\\Documents\\Git\\dataptams2020\\projects\\Project3_visualizing-real-world-data-project\\data\\indiegogo\\indiegogo.csv')\n",
    "indiegogo.head()"
   ]
  },
  {
   "cell_type": "code",
   "execution_count": null,
   "metadata": {},
   "outputs": [],
   "source": [
    "#explore data\n",
    "indiegogo.dtypes\n",
    "indiegogo['category_name'] = indiegogo['category_name'].astype(str)\n",
    "indiegogo = indiegogo.dropna()"
   ]
  },
  {
   "cell_type": "code",
   "execution_count": null,
   "metadata": {},
   "outputs": [],
   "source": [
    "#import seaborn as sns\n",
    "sns.set(style=\"whitegrid\")\n",
    "ax = sns.swarmplot(x=\"collected_percentage\", y= \"currency_code\", data=indiegogo)"
   ]
  },
  {
   "cell_type": "code",
   "execution_count": null,
   "metadata": {},
   "outputs": [],
   "source": [
    "sns.set(style=\"whitegrid\")\n",
    "ax = sns.swarmplot(x=\"backers\", y= \"country\", data=kickstarter)"
   ]
  },
  {
   "cell_type": "code",
   "execution_count": null,
   "metadata": {},
   "outputs": [],
   "source": [
    "ax = sns.swarmplot(x=\"goal\", y= \"country\", data=kickstarter)"
   ]
  },
  {
   "cell_type": "code",
   "execution_count": null,
   "metadata": {},
   "outputs": [],
   "source": [
    "sns.catplot(x=\"currency_code\", y=\"balance\", kind=\"box\", data=indiegogo);"
   ]
  },
  {
   "cell_type": "code",
   "execution_count": null,
   "metadata": {},
   "outputs": [],
   "source": [
    "sns.catplot(x=\"goal\", y= \"country\", data=kickstarter)"
   ]
  },
  {
   "cell_type": "code",
   "execution_count": null,
   "metadata": {},
   "outputs": [],
   "source": [
    "sns.catplot(x=\"balance\", y=\"nearest_five_percent\", hue=\"category_name\", kind=\"swarm\", data=indiegogo)"
   ]
  },
  {
   "cell_type": "code",
   "execution_count": null,
   "metadata": {},
   "outputs": [],
   "source": [
    "sns.catplot(x=\"balance\", y=\"nearest_five_percent\", hue=\"currency_code\", kind=\"swarm\", data=indiegogo)"
   ]
  },
  {
   "cell_type": "code",
   "execution_count": null,
   "metadata": {},
   "outputs": [],
   "source": [
    "kickstarter = pd.read_excel(r'C:\\Users\\Zuzanna\\Documents\\Git\\dataptams2020\\projects\\Project3_visualizing-real-world-data-project\\data\\kickstarter\\kickstarter2.xlsx')\n",
    "kickstarter = kickstarter.dropna()\n",
    "kickstarter.head()"
   ]
  },
  {
   "cell_type": "code",
   "execution_count": null,
   "metadata": {},
   "outputs": [],
   "source": [
    "for col in kickstarter.columns: \n",
    "    print(col) "
   ]
  },
  {
   "cell_type": "code",
   "execution_count": null,
   "metadata": {},
   "outputs": [],
   "source": [
    "kickstarter.columns = ['ID', 'name', 'category', 'main_category', 'currency', 'goal', 'pledged', 'state', 'backers', 'country']"
   ]
  },
  {
   "cell_type": "code",
   "execution_count": null,
   "metadata": {},
   "outputs": [],
   "source": [
    "fig_dims = (150, 100)\n",
    "fig, ax = plt.subplots(figsize=fig_dims)\n",
    "sns.barplot(x=\"category\", y=\"goal\", hue=\"state\", data=kickstarter)"
   ]
  },
  {
   "cell_type": "code",
   "execution_count": null,
   "metadata": {},
   "outputs": [],
   "source": [
    "#pivot plot \n",
    "kickstarter.pivot_table(index=['state'], columns=['category'], values=['goal'])"
   ]
  },
  {
   "cell_type": "code",
   "execution_count": null,
   "metadata": {},
   "outputs": [],
   "source": [
    "fig_dims = (50, 100)\n",
    "sns.set(style=\"whitegrid\")\n",
    "sns.swarmplot(x='category', y = 'goal', hue= 'state', data = kickstarter)"
   ]
  },
  {
   "cell_type": "code",
   "execution_count": null,
   "metadata": {},
   "outputs": [],
   "source": [
    "#fig_dims = (200, 100)\n",
    "sns.barplot(y='main_category', x = 'goal', data=kickstarter)"
   ]
  },
  {
   "cell_type": "code",
   "execution_count": null,
   "metadata": {},
   "outputs": [],
   "source": [
    "#import matplotlib.pyplot as plt\n",
    "#g = sns.FacetGrid(kickstarter, col='category',  row='goal')\n",
    "#g = g.map(plt.hist, 'state')"
   ]
  },
  {
   "cell_type": "code",
   "execution_count": null,
   "metadata": {},
   "outputs": [],
   "source": [
    "#barplot\n",
    "kickstarter['main_category'].value_counts().plot(kind='bar')\n",
    "kickstarter.reset_index()\n",
    "# Add labels to the plot and change xticks rotation\n",
    "plt.title('Kickstarter: Number of Projects per Category')\n",
    "plt.xlabel('Category')\n",
    "plt.ylabel('Number of projects')\n",
    "plt.xticks(rotation=20)\n",
    "# Show the plot\n",
    "plt.show"
   ]
  },
  {
   "cell_type": "code",
   "execution_count": null,
   "metadata": {},
   "outputs": [],
   "source": [
    "#scatterplot per category & funding\n",
    "g = sns.FacetGrid(kickstarter, col=\"main_category\", col_order=[\"Film & Video\", \"Publishing\", \"Video\", \"Music\", \"Food\",\"Crafts\", \"Games\", \"Design\", \"Comics\", \"Art\", \"Theater\", \"Technology\", \"Crafts\"])\n",
    "g = g.map(plt.hist, \"goal\", bins=bins, color=\"m\")"
   ]
  },
  {
   "cell_type": "code",
   "execution_count": null,
   "metadata": {},
   "outputs": [],
   "source": [
    "#scatterplot per funding & success \n",
    "g = sns.FacetGrid(kickstarter, col=\"state\", col_order=[\"failed\", \"successful\", \"canceled\"])\n",
    "g = g.map(plt.hist, \"goal\", bins=bins, color=\"m\")"
   ]
  },
  {
   "cell_type": "markdown",
   "metadata": {},
   "source": [
    "# Conclusions"
   ]
  },
  {
   "cell_type": "markdown",
   "metadata": {},
   "source": [
    "The most popular categories on Kickstarter seem to be connected with Artistic purposes - especially Video & Film, as well as Video Games."
   ]
  },
  {
   "cell_type": "markdown",
   "metadata": {},
   "source": [
    "Indiegogo data was showing more focus on personal goals connected to medical treatment. "
   ]
  },
  {
   "cell_type": "markdown",
   "metadata": {},
   "source": [
    "The most supporters seem to be from US & UK "
   ]
  },
  {
   "cell_type": "markdown",
   "metadata": {},
   "source": [
    "# What can be improved?"
   ]
  },
  {
   "cell_type": "code",
   "execution_count": null,
   "metadata": {},
   "outputs": [],
   "source": []
  }
 ],
 "metadata": {
  "kernelspec": {
   "display_name": "Python 3",
   "language": "python",
   "name": "python3"
  },
  "language_info": {
   "codemirror_mode": {
    "name": "ipython",
    "version": 3
   },
   "file_extension": ".py",
   "mimetype": "text/x-python",
   "name": "python",
   "nbconvert_exporter": "python",
   "pygments_lexer": "ipython3",
   "version": "3.7.6"
  }
 },
 "nbformat": 4,
 "nbformat_minor": 4
}
