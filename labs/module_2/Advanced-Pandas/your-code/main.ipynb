{
 "cells": [
  {
   "cell_type": "markdown",
   "metadata": {
    "Collapsed": "false"
   },
   "source": [
    "# Before your start:\n",
    "- Read the README.md file\n",
    "- Comment as much as you can and use the resources (README.md file)\n",
    "- Happy learning!"
   ]
  },
  {
   "cell_type": "code",
   "execution_count": null,
   "metadata": {
    "Collapsed": "false"
   },
   "outputs": [],
   "source": [
    "# Libraries\n",
    "\n",
    "import sys\n",
    "# print(sys.path)\n",
    "# Adding a path so that it finds the package for numpy\n",
    "sys.path.append('/usr/local/lib/python3.7/site-packages')\n",
    "import numpy as np\n",
    "\n",
    "import pandas as pd\n",
    "import re"
   ]
  },
  {
   "cell_type": "markdown",
   "metadata": {
    "Collapsed": "false"
   },
   "source": [
    "# Challenge 1 - Index Functions\n",
    "\n",
    "In this challenge, we will practice the advanced functions introduced in the lesson. However, before we start, we will load and evaluate our dataset. \n",
    "\n",
    "Load the dataset admission predict from [here](https://drive.google.com/file/d/1y-8TOlbiSWUoMZ_Sg-WfOL2NySXP6i4e/view?usp=sharing]), place it in the data folder and load it"
   ]
  },
  {
   "cell_type": "code",
   "execution_count": null,
   "metadata": {
    "Collapsed": "false"
   },
   "outputs": [],
   "source": [
    "# your code here\n",
    "\n",
    "# Adm_df = pd.read_csv('../data/Admission_Predict.csv', sep=';' ,encoding='latin')\n",
    "admissions = pd.read_csv('../data/Admission_Predict.csv')\n"
   ]
  },
  {
   "cell_type": "markdown",
   "metadata": {
    "Collapsed": "false"
   },
   "source": [
    "Remove trailing spaces at the end of the column names if there are any.\n"
   ]
  },
  {
   "cell_type": "code",
   "execution_count": null,
   "metadata": {
    "Collapsed": "false"
   },
   "outputs": [],
   "source": [
    "# your code here\n",
    "\n",
    "admissions.columns\n",
    "admissions = admissions.rename(columns={'Chance of Admit ':'Chance of Admit', 'LOR ': 'LOR'})\n"
   ]
  },
  {
   "cell_type": "markdown",
   "metadata": {
    "Collapsed": "false"
   },
   "source": [
    "Let's evaluate the dataset by looking at the `head` function."
   ]
  },
  {
   "cell_type": "code",
   "execution_count": null,
   "metadata": {
    "Collapsed": "false"
   },
   "outputs": [],
   "source": [
    "# your code here\n",
    "\n",
    "admissions.head()"
   ]
  },
  {
   "cell_type": "markdown",
   "metadata": {
    "Collapsed": "false"
   },
   "source": [
    "Before beginning to work with this dataset and evaluating graduate admissions data, we will verify that there is no missing data in the dataset. Do this in the cell below."
   ]
  },
  {
   "cell_type": "code",
   "execution_count": null,
   "metadata": {
    "Collapsed": "false"
   },
   "outputs": [],
   "source": [
    "# your code here\n",
    "\n",
    "null_cols = admissions.isnull().sum()\n",
    "null_cols"
   ]
  },
  {
   "cell_type": "markdown",
   "metadata": {
    "Collapsed": "false"
   },
   "source": [
    "Interestingly, there is a column that uniquely identifies the applicants. This column is the serial number column. Instead of having our own index, we should make this column our index. Do this in the cell below. Keep the column in the dataframe in addition to making it an index."
   ]
  },
  {
   "cell_type": "code",
   "execution_count": null,
   "metadata": {
    "Collapsed": "false"
   },
   "outputs": [],
   "source": [
    "# your code here\n",
    "\n",
    "admissions.set_index([\"Serial No.\"], inplace = True, \n",
    "                    append = False, drop = False) \n",
    "   \n",
    "admissions.head()"
   ]
  },
  {
   "cell_type": "markdown",
   "metadata": {
    "Collapsed": "false"
   },
   "source": [
    "Turns out that `GRE Score` and `CGPA` also uniquely identify the data. Show this in the cell below."
   ]
  },
  {
   "cell_type": "code",
   "execution_count": null,
   "metadata": {
    "Collapsed": "false"
   },
   "outputs": [],
   "source": [
    "# your code here\n",
    "print(admissions.set_index(['GRE Score','CGPA']).index.is_unique)"
   ]
  },
  {
   "cell_type": "markdown",
   "metadata": {
    "Collapsed": "false"
   },
   "source": [
    "Replace the index with an index comprised of two columns - `GRE Score` and `CGPA`. Remove the columns from the dataset as well. Make sure to use `inplace=True`."
   ]
  },
  {
   "cell_type": "markdown",
   "metadata": {
    "Collapsed": "false"
   },
   "source": [
    "Now change the index back to a sequence starting at zero using the `reset_index` function. Make sure to use `inplace=True`."
   ]
  },
  {
   "cell_type": "code",
   "execution_count": null,
   "metadata": {
    "Collapsed": "false"
   },
   "outputs": [],
   "source": [
    "# your code here\n",
    "\n",
    "admissions.set_index(['GRE Score','CGPA'], inplace = True, \n",
    "                    append = False, drop = True) \n",
    "   \n",
    "admissions.head()"
   ]
  },
  {
   "cell_type": "code",
   "execution_count": null,
   "metadata": {
    "Collapsed": "false"
   },
   "outputs": [],
   "source": [
    "admissions.reset_index(inplace = True) \n",
    "\n",
    "admissions.head()"
   ]
  },
  {
   "cell_type": "markdown",
   "metadata": {
    "Collapsed": "false"
   },
   "source": [
    "# Challenge 2 - Advanced Functions\n",
    "\n",
    "In this part of the lab, we would like to test complex conditions on the entire dataset at once. Let's start by finding the number of rows where the CGPA is higher than 9 and the student has conducted research."
   ]
  },
  {
   "cell_type": "code",
   "execution_count": null,
   "metadata": {
    "Collapsed": "false"
   },
   "outputs": [],
   "source": [
    "# your code here\n",
    "\n",
    "My_adm = admissions.loc[(admissions['CGPA'] > 9) & (admissions['Research'] == 1)]\n",
    "len(My_adm)\n"
   ]
  },
  {
   "cell_type": "markdown",
   "metadata": {
    "Collapsed": "false"
   },
   "source": [
    "Now return all the rows where the CGPA is greater than 9 and the SOP score is less than 3.5. Find the mean chance of admit for these applicants."
   ]
  },
  {
   "cell_type": "code",
   "execution_count": null,
   "metadata": {
    "Collapsed": "false"
   },
   "outputs": [],
   "source": [
    "# your code here\n",
    "\n",
    "My_adm = admissions.loc[(admissions['CGPA'] > 9) & (admissions['SOP'] < 3.5)]\n",
    "len(My_adm)\n",
    "#Paolo: and the mean chance?\n"
   ]
  },
  {
   "cell_type": "markdown",
   "metadata": {
    "Collapsed": "false"
   },
   "source": [
    "We would like to create a deciding factor column for each student. We standardize several columns and then pick the most important factor from a lookup table. If the standardized value is above 0.8, the student will be accepted.\n",
    "\n",
    "We will start by creating a standardized column for `CGPA`, `GRE Score` and `LOR`. We will name these columns `CGPA_std`, `GRE_std`, and `LOR_std` respecively.\n",
    "\n",
    "Recall that standardizing a column is done by subtracting the mean of the column from all observations in the column and then dividing each observation in the column by the column's standard deviation.\n",
    "\n",
    "In the cell below, write a standardization function (a function that takes a column as input and returns a standardized column as output). Make sure to use the `numpy` versions of mean and standard deviation."
   ]
  },
  {
   "cell_type": "code",
   "execution_count": null,
   "metadata": {
    "Collapsed": "false"
   },
   "outputs": [],
   "source": [
    "def standardize(col):\n",
    "    \"\"\"\n",
    "    This function takes a column from a dataframe \n",
    "    and returns a standardized column by subtracting the column's mean\n",
    "    and dividing by the column's standard deviation.\n",
    "    \"\"\"\n",
    "    \n",
    "    # your code here\n",
    "    \n",
    "    return [(elem - np.mean(col))/np.std(col) for elem in col]\n",
    "        "
   ]
  },
  {
   "cell_type": "markdown",
   "metadata": {
    "Collapsed": "false"
   },
   "source": [
    "Now create the standardized columns `CGPA_std`, `GRE_std`, and `LOR_std` and add them to the `admissions` dataframe."
   ]
  },
  {
   "cell_type": "code",
   "execution_count": null,
   "metadata": {
    "Collapsed": "false"
   },
   "outputs": [],
   "source": [
    "# your code here\n",
    "\n",
    "CGPA = list(admissions['CGPA'])\n",
    "CGPA_std = standardize(CGPA)\n",
    "\n",
    "GRE = list(admissions['GRE Score'])\n",
    "GRE_std = standardize(GRE)\n",
    "\n",
    "LOR = list(admissions['LOR'])\n",
    "LOR_std = standardize(LOR)\n",
    "\n"
   ]
  },
  {
   "cell_type": "code",
   "execution_count": null,
   "metadata": {
    "Collapsed": "false"
   },
   "outputs": [],
   "source": [
    "#Paolo: yes, but be careful you assigned column GCPA_std to LOR_std. I am changing it here\n",
    "admissions['CGPA_std'] = CGPA_std\n",
    "admissions['GRE_std'] = GRE_std\n",
    "#admissions['LOR_std'] = CGPA_std\n",
    "admissions['LOR_std'] = LOR_std #Paolo: I added this"
   ]
  },
  {
   "cell_type": "code",
   "execution_count": null,
   "metadata": {
    "Collapsed": "false"
   },
   "outputs": [],
   "source": [
    "admissions.head()"
   ]
  },
  {
   "cell_type": "markdown",
   "metadata": {
    "Collapsed": "false"
   },
   "source": [
    "We will generate the decision choice at random using the code below. Please run the cell."
   ]
  },
  {
   "cell_type": "code",
   "execution_count": null,
   "metadata": {
    "Collapsed": "false"
   },
   "outputs": [],
   "source": [
    "# Libraries\n",
    "from random import choices"
   ]
  },
  {
   "cell_type": "code",
   "execution_count": null,
   "metadata": {
    "Collapsed": "false"
   },
   "outputs": [],
   "source": [
    "std_columns = ['CGPA_std', 'GRE_std', 'LOR_std']\n",
    "\n",
    "decision_choice = choices(std_columns, k=admissions.shape[0])"
   ]
  },
  {
   "cell_type": "markdown",
   "metadata": {
    "Collapsed": "false"
   },
   "source": [
    "Now create the deciding column using the `lookup` function. The lookup column is `decision_choice` found above. Call the column resulting from the lookup function `deciding_column` and add it to the `admissions` dataframe."
   ]
  },
  {
   "cell_type": "code",
   "execution_count": null,
   "metadata": {
    "Collapsed": "false"
   },
   "outputs": [],
   "source": [
    "# your code here\n",
    "\n",
    "\n",
    "admissions['decision_choice'] = decision_choice\n",
    "admissions['deciding_column'] = admissions.lookup(admissions.index, admissions['decision_choice'])\n",
    "\n",
    "admissions\n"
   ]
  },
  {
   "cell_type": "markdown",
   "metadata": {
    "Collapsed": "false"
   },
   "source": [
    "Create a column called `decision` in the `admissions` dataframe. Assign 1 to this column if the value of `deciding_column` is greater than 0.8 and 0 otherwise."
   ]
  },
  {
   "cell_type": "code",
   "execution_count": null,
   "metadata": {
    "Collapsed": "false"
   },
   "outputs": [],
   "source": [
    "# your code here\n",
    "\n",
    "admissions['decision'] = [1 if elem > 0.8 else 0 for elem in admissions['deciding_column']]\n",
    "admissions.head()\n"
   ]
  },
  {
   "cell_type": "markdown",
   "metadata": {
    "Collapsed": "false"
   },
   "source": [
    "How many applicants will be accepted to the program using the decision column? Compute the result below."
   ]
  },
  {
   "cell_type": "code",
   "execution_count": null,
   "metadata": {
    "Collapsed": "false"
   },
   "outputs": [],
   "source": [
    "# your code here\n",
    "\n",
    "Yes_adm = admissions.loc[(admissions['decision'] == 1)]\n",
    "len(Yes_adm)"
   ]
  },
  {
   "cell_type": "markdown",
   "metadata": {
    "Collapsed": "false"
   },
   "source": [
    "# Challenge 3 - Method Chaining\n",
    "\n",
    "To increase our coding efficiency, let's make a number of changes to our dataframe in one line of code.\n",
    "\n",
    "In the cell below, remove all non character symbols from the column names, replace all spaces in column names to underscores, and change all upper case characters to lower case. Assign these new column values to `admissions.columns`."
   ]
  },
  {
   "cell_type": "code",
   "execution_count": null,
   "metadata": {
    "Collapsed": "false"
   },
   "outputs": [],
   "source": [
    "# your code here\n",
    "\n",
    "\n",
    "\n",
    "admissions.columns = [x.lower() for x in admissions.columns]\n",
    "admissions.columns = admissions.columns.str.replace(\" \", \"_\")\n",
    "admissions.columns = admissions.columns.str.replace(\".\", \"\")\n",
    "\n",
    "admissions.columns\n"
   ]
  },
  {
   "cell_type": "markdown",
   "metadata": {
    "Collapsed": "false"
   },
   "source": [
    "In the cell below, give all student with a university rating of 4 or higher a 10 point boost on their GRE score and split the column into 4 bins using the `cut` function. Assign this new score to the variable `adjusted_gre`."
   ]
  },
  {
   "cell_type": "code",
   "execution_count": null,
   "metadata": {
    "Collapsed": "false"
   },
   "outputs": [],
   "source": [
    "# your code here\n",
    "\n",
    "admissions['gre_score'] = np.where(admissions.university_rating >= 4, admissions.gre_score + 10, admissions.gre_score)\n",
    "\n",
    "admissions.head()"
   ]
  },
  {
   "cell_type": "code",
   "execution_count": null,
   "metadata": {
    "Collapsed": "false"
   },
   "outputs": [],
   "source": [
    "bins_label = ['Very_Low', 'Medium_Low', 'Medium_High', 'High']\n",
    "\n",
    "admissions['adjusted_gre'] = pd.cut(admissions['gre_score'],4,labels=bins_label)\n",
    "admissions.head()\n",
    "#Paolo: very good! My suggestion  is not to modify the raw data of gre_score. Instead create a column with the adjusted numerical gre_score and then the adjusted_gre\n",
    "# column has you have done. The difference is that you make clear the manipulation that you make on the raw data while leaving the raw data untouched."
   ]
  },
  {
   "cell_type": "code",
   "execution_count": null,
   "metadata": {
    "Collapsed": "false"
   },
   "outputs": [],
   "source": []
  }
 ],
 "metadata": {
  "kernelspec": {
   "display_name": "Python 3",
   "language": "python",
   "name": "python3"
  },
  "language_info": {
   "codemirror_mode": {
    "name": "ipython",
    "version": 3
   },
   "file_extension": ".py",
   "mimetype": "text/x-python",
   "name": "python",
   "nbconvert_exporter": "python",
   "pygments_lexer": "ipython3",
   "version": "3.7.6"
  }
 },
 "nbformat": 4,
 "nbformat_minor": 4
}
