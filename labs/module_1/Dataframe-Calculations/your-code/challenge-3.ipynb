{
 "cells": [
  {
   "cell_type": "markdown",
   "metadata": {
    "Collapsed": "false"
   },
   "source": [
    "# Challenge 3\n",
    "\n",
    "In this challenge we will work on the `Orders` data set. In your work you will apply the thinking process and workflow we showed you in Challenge 2.\n",
    "\n",
    "You are serving as a Business Intelligence Analyst at the headquarter of an international fashion goods chain store. Your boss today asked you to do two things for her:\n",
    "\n",
    "**First, identify two groups of customers from the data set.** The first group is **VIP Customers** whose **aggregated expenses** at your global chain stores are **above the 95th percentile** (aka. 0.95 quantile). The second group is **Preferred Customers** whose **aggregated expenses** are **between the 75th and 95th percentile**.\n",
    "\n",
    "**Second, identify which country has the most of your VIP customers, and which country has the most of your VIP+Preferred Customers combined.**"
   ]
  },
  {
   "cell_type": "markdown",
   "metadata": {
    "Collapsed": "false"
   },
   "source": [
    "## Q1: How to identify VIP & Preferred Customers?\n",
    "\n",
    "We start by importing all the required libraries:"
   ]
  },
  {
   "cell_type": "code",
   "execution_count": null,
   "metadata": {
    "Collapsed": "false"
   },
   "outputs": [],
   "source": [
    "# import required libraries\n",
    "import numpy as np\n",
    "import pandas as pd"
   ]
  },
  {
   "cell_type": "markdown",
   "metadata": {
    "Collapsed": "false"
   },
   "source": [
    "Next, import `Orders` from [here](https://drive.google.com/file/d/17oJ9NNbwJ8Wv4Jp-mLFiC59k72Brdyha/view?usp=sharing) and place it in the provided data folder. You will access the data folder with a relative path.\n",
    "Load `Orders` into a dataframe variable called `orders`. Print the head of `orders` to overview the data:"
   ]
  },
  {
   "cell_type": "code",
   "execution_count": null,
   "metadata": {
    "Collapsed": "false"
   },
   "outputs": [],
   "source": [
    "# your code here\n",
    "orders = pd.read_csv('data/Orders.csv',index_col=0,sep=\",\")\n",
    "orders.head()"
   ]
  },
  {
   "cell_type": "markdown",
   "metadata": {
    "Collapsed": "false"
   },
   "source": [
    "---\n",
    "\n",
    "\"Identify VIP and Preferred Customers\" is the non-technical goal of your boss. You need to translate that goal into technical languages that data analysts use:\n",
    "\n",
    "## How to label customers whose aggregated `amount_spent` is in a given quantile range?\n"
   ]
  },
  {
   "cell_type": "markdown",
   "metadata": {
    "Collapsed": "false"
   },
   "source": [
    "We break down the main problem into several sub problems:\n",
    "\n",
    "#### Sub Problem 1: How to aggregate the  `amount_spent` for unique customers?\n",
    "\n",
    "#### Sub Problem 2: How to select customers whose aggregated `amount_spent` is in a given quantile range?\n",
    "\n",
    "#### Sub Problem 3: How to label selected customers as \"VIP\" or \"Preferred\"?\n",
    "\n",
    "*Note: If you want to break down the main problem in a different way, please feel free to revise the sub problems above.*\n",
    "\n",
    "Now in the workspace below, tackle each of the sub problems using the iterative problem solving workflow. Insert cells as necessary to write your codes and explain your steps."
   ]
  },
  {
   "cell_type": "code",
   "execution_count": null,
   "metadata": {},
   "outputs": [],
   "source": [
    "\n",
    "#Paolo: here you should have a columns that says either VIP or Preferred\n",
    "#Paolo: I think here you should apply the operations to orders_sum not to orders\n",
    "# in third row. This effects also results that follow in next challenges\n",
    "spent_per_customer = orders.groupby(['CustomerID'])[['amount_spent']].sum()\n",
    "spent_per_customer.head()"
   ]
  },
  {
   "cell_type": "code",
   "execution_count": null,
   "metadata": {
    "Collapsed": "false"
   },
   "outputs": [],
   "source": [
    "# your code here\n",
    "#Sub Problem 1: How to aggregate the amount_spent for unique customers?\n",
    "\n",
    "\n",
    "#Total_spent = orders.groupby(['CustomerID'])[[\"amount_spent\"]].sum()\n",
    "#Total_spent.head()"
   ]
  },
  {
   "cell_type": "code",
   "execution_count": null,
   "metadata": {},
   "outputs": [],
   "source": [
    "#customers_agg = orders.groupby('CustomerID').sum()\n",
    "#spent= orders.groupby(customers_agg['amount_spent']).sum()\n",
    "#customers_agg.head()"
   ]
  },
  {
   "cell_type": "code",
   "execution_count": null,
   "metadata": {},
   "outputs": [],
   "source": [
    "#spent.head()"
   ]
  },
  {
   "cell_type": "code",
   "execution_count": null,
   "metadata": {},
   "outputs": [],
   "source": [
    "#Sub Problem 2: How to select customers whose aggregated amount_spent is in a given quantile range?\n",
    "Preferred_Cust = np.percentile(spent_per_customer['amount_spent'], 75)\n",
    "VIP_Cust = np.percentile(spent_per_customer['amount_spent'], 95)\n",
    "\n",
    "print(Preferred_Cust,VIP_Cust)\n",
    "\n",
    "def customer_type(x):\n",
    "    if x > VIP_Cust:\n",
    "        return 'VIP'\n",
    "    elif x > Preferred_Cust:\n",
    "        return 'Preferred'\n",
    "    else:\n",
    "        return 'normal'\n",
    "    \n",
    "    \n",
    "spent_per_customer['type_cust'] = spent_per_customer['amount_spent'].apply(customer_type)\n",
    "\n",
    "spent_per_customer.head()"
   ]
  },
  {
   "cell_type": "code",
   "execution_count": null,
   "metadata": {},
   "outputs": [],
   "source": [
    "#pref = np.percentile(spent_per_customer['amount_spent'], 75)\n",
    "#vip= np.percentile(spent_per_customer['amount_spent'], 95)"
   ]
  },
  {
   "cell_type": "code",
   "execution_count": null,
   "metadata": {},
   "outputs": [],
   "source": [
    "#Sub Problem 3: How to label selected customers as \"VIP\" or \"Preferred\"?"
   ]
  },
  {
   "cell_type": "code",
   "execution_count": null,
   "metadata": {},
   "outputs": [],
   "source": [
    "def customer_type(x):\n",
    "    if x >= VIP_Cust:\n",
    "        return 'vip'\n",
    "    elif x >= Preferred_Cust:\n",
    "        return 'preferred'\n",
    "    else:\n",
    "        pass\n",
    "    \n",
    "spent_per_customer['type_cust'] = spent_per_customer['amount_spent'].apply(customer_type)\n",
    "\n",
    "spent_per_customer.head()"
   ]
  },
  {
   "cell_type": "markdown",
   "metadata": {
    "Collapsed": "false"
   },
   "source": [
    "Now we'll leave it to you to solve Q2 & Q3, which you can leverage from your solution for Q1:\n",
    "\n",
    "## Q2: How to identify which country has the most VIP Customers?"
   ]
  },
  {
   "cell_type": "code",
   "execution_count": null,
   "metadata": {},
   "outputs": [],
   "source": [
    "quantile_95 = spent_per_customer['amount_spent'].quantile(0.95)\n",
    "quantile_75 = spent_per_customer['amount_spent'].quantile(0.75)\n",
    "spent_per_customer['VIP'] = spent_per_customer['amount_spent'].map(lambda x: 2 if x >= quantile_95 else (1 if x >= quantile_75 else 0))\n",
    "spent_per_customer['Preferred']= spent_per_customer['amount_spent'].map(lambda x: 2 if x >= quantile_75  else (1 if x <= quantile_95 else 0))\n",
    "spent_per_customer.head()"
   ]
  },
  {
   "cell_type": "markdown",
   "metadata": {
    "Collapsed": "false"
   },
   "source": [
    "## Q3: How to identify which country has the most VIP+Preferred Customers combined?"
   ]
  },
  {
   "cell_type": "code",
   "execution_count": null,
   "metadata": {
    "Collapsed": "false"
   },
   "outputs": [],
   "source": [
    "# your code here\n",
    "#spent_per_customer = spent_per_customer.reset_index()\n",
    "spent_per_customer['Country'] = orders['Country'] \n",
    "spent_per_customer['Sum Vip Preferred'] = spent_per_customer['VIP'] + spent_per_customer['Preferred'] \n",
    "spent_per_customer.groupby(['Country'])[['Sum Vip Preferred']].sum()\n",
    "spent_per_customer.head()\n",
    "#'DataFrameGroupBy' object has no attribute 'value_counts'"
   ]
  },
  {
   "cell_type": "code",
   "execution_count": null,
   "metadata": {},
   "outputs": [],
   "source": []
  }
 ],
 "metadata": {
  "kernelspec": {
   "display_name": "Python 3",
   "language": "python",
   "name": "python3"
  },
  "language_info": {
   "codemirror_mode": {
    "name": "ipython",
    "version": 3
   },
   "file_extension": ".py",
   "mimetype": "text/x-python",
   "name": "python",
   "nbconvert_exporter": "python",
   "pygments_lexer": "ipython3",
   "version": "3.7.6"
  }
 },
 "nbformat": 4,
 "nbformat_minor": 4
}
