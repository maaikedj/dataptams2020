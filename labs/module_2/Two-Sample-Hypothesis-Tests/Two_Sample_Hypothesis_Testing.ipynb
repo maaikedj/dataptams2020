{
 "cells": [
  {
   "cell_type": "code",
   "execution_count": null,
   "metadata": {
    "colab": {
     "base_uri": "https://localhost:8080/",
     "height": 34
    },
    "colab_type": "code",
    "executionInfo": {
     "elapsed": 510,
     "status": "ok",
     "timestamp": 1586883987487,
     "user": {
      "displayName": "Louk Smalbil",
      "photoUrl": "https://lh3.googleusercontent.com/a-/AOh14GiByqcfGW98Bn42uapsD4oj4auyrLV9xURPKHUj=s64",
      "userId": "10422991521784029462"
     },
     "user_tz": -120
    },
    "id": "3sHC_2Z7ZW7y",
    "outputId": "89c0658f-ffde-4396-a70c-7e1b607d7176"
   },
   "outputs": [],
   "source": [
    "import numpy as np\n",
    "name_list = ['Sreelatha', 'Sara', 'Eva', 'Maaike', 'Victor', 'Zuzanna']\n",
    "np.random.choice(name_list)"
   ]
  },
  {
   "cell_type": "markdown",
   "metadata": {
    "colab_type": "text",
    "id": "QO6BaQmeVeP2"
   },
   "source": [
    "# Two-Sample Hypothesis Testing"
   ]
  },
  {
   "cell_type": "markdown",
   "metadata": {
    "colab_type": "text",
    "id": "Xx5X6QZyVhvb"
   },
   "source": [
    "## Introduction\n",
    "\n",
    "It is common for researchers to perform studies to compare two groups and check if they behave differently. One example is applying a treatment to one group while another is left untreated. The results are then compared to see if the two groups differ. Hypothesis tests shine the most in such problems where we need to use statistics to inform decision making. In this lesson we will learn about the different ways we can compare two samples to see if they differ significantly."
   ]
  },
  {
   "cell_type": "markdown",
   "metadata": {
    "colab_type": "text",
    "id": "2Jrby6TDVl_X"
   },
   "source": [
    "## Matched Pairs \n",
    "\n",
    "When we approach a two sample hypothesis test, we must first determine what type data we have. **The first type of 2 sample hypothesis test is performed on *matched pairs*. This means that the data in the two samples is *dependent*.** For example, in a clinical drug trial, we may give a blood pressure medication to a group of people and look at their blood pressure before and after the treatment. We will then treat the before and after as two samples and compare them. However, since the two groups both contain the same people, we are able to match each entry in the before data with its corresponding entry of the after data. In other words, **for *each person* we compare a before and after.**"
   ]
  },
  {
   "cell_type": "markdown",
   "metadata": {
    "colab_type": "text",
    "id": "jNYplrN2VqRa"
   },
   "source": [
    "### A Bit of Theory\n",
    "\n",
    "Since the we can match the data between the samples, **we take the difference between the two samples in each row and then revert to using a one sample hypothesis test.** Our hypothesis test will check whether *the mean of the differences* is significantly different from zero (we could also test that the mean is greater than or less than zero using a one-sided hypothesis test). For a two sided hypothesis test, this is our hypothesis:\n",
    "\n",
    "\n",
    "\n",
    "*   H0: $\\mu_{d} = 0$\n",
    "*   H1: $\\mu_{d} \\neq 0$\n",
    "\n"
   ]
  },
  {
   "cell_type": "markdown",
   "metadata": {
    "colab_type": "text",
    "id": "EsjOSM_oV601"
   },
   "source": [
    "### Example 1: Matched Pairs in Python\n",
    "\n",
    "In our example we will look at a blood pressure study with 100 participants. Our participants all had their blood pressure measured before the beginning of the study and a month into the study. We will compare the systolic blood pressure for the participants before and after."
   ]
  },
  {
   "cell_type": "code",
   "execution_count": null,
   "metadata": {
    "colab": {},
    "colab_type": "code",
    "id": "2rkWiHN9VGLr"
   },
   "outputs": [],
   "source": [
    "import pandas as pd"
   ]
  },
  {
   "cell_type": "code",
   "execution_count": null,
   "metadata": {
    "colab": {},
    "colab_type": "code",
    "id": "hdP-R6NVWXy5"
   },
   "outputs": [],
   "source": [
    "blood_pressure_A = pd.read_csv('https://raw.githubusercontent.com/loukjsmalbil/datasets_ws/master/blood_pressure.csv')"
   ]
  },
  {
   "cell_type": "code",
   "execution_count": null,
   "metadata": {
    "colab": {
     "base_uri": "https://localhost:8080/",
     "height": 204
    },
    "colab_type": "code",
    "executionInfo": {
     "elapsed": 687,
     "status": "ok",
     "timestamp": 1586882831072,
     "user": {
      "displayName": "Louk Smalbil",
      "photoUrl": "https://lh3.googleusercontent.com/a-/AOh14GiByqcfGW98Bn42uapsD4oj4auyrLV9xURPKHUj=s64",
      "userId": "10422991521784029462"
     },
     "user_tz": -120
    },
    "id": "3TIJszX2Wa87",
    "outputId": "76a28af6-bbd1-4b48-e7b0-71dc8745929e"
   },
   "outputs": [],
   "source": [
    "blood_pressure_A.head()"
   ]
  },
  {
   "cell_type": "markdown",
   "metadata": {
    "colab_type": "text",
    "id": "3nu1yLEDWofH"
   },
   "source": [
    "We will be using the scipy function ttest_rel. This function is used for hypothesis testing of dependent data."
   ]
  },
  {
   "cell_type": "code",
   "execution_count": null,
   "metadata": {
    "colab": {},
    "colab_type": "code",
    "id": "zlhjCeLVbXXk"
   },
   "outputs": [],
   "source": [
    "from scipy.stats import ttest_rel"
   ]
  },
  {
   "cell_type": "code",
   "execution_count": null,
   "metadata": {
    "colab": {
     "base_uri": "https://localhost:8080/",
     "height": 34
    },
    "colab_type": "code",
    "executionInfo": {
     "elapsed": 549,
     "status": "ok",
     "timestamp": 1586882894665,
     "user": {
      "displayName": "Louk Smalbil",
      "photoUrl": "https://lh3.googleusercontent.com/a-/AOh14GiByqcfGW98Bn42uapsD4oj4auyrLV9xURPKHUj=s64",
      "userId": "10422991521784029462"
     },
     "user_tz": -120
    },
    "id": "AlEnf07NWl3N",
    "outputId": "936250a1-65e5-49d7-94cf-ebe2baded844"
   },
   "outputs": [],
   "source": [
    "ttest_rel(blood_pressure_A.after, blood_pressure_A.before)"
   ]
  },
  {
   "cell_type": "markdown",
   "metadata": {
    "colab_type": "text",
    "id": "5-uIoUkSWsWl"
   },
   "source": [
    "Our result is a very small p-value. This means that we will reject the null hypothesis.\n",
    "\n",
    "Since a matched pairs test is equivalent to a one sample test of the difference, we can also perform a one sample test and get the exact same result."
   ]
  },
  {
   "cell_type": "code",
   "execution_count": null,
   "metadata": {
    "colab": {
     "base_uri": "https://localhost:8080/",
     "height": 34
    },
    "colab_type": "code",
    "executionInfo": {
     "elapsed": 603,
     "status": "ok",
     "timestamp": 1586883166677,
     "user": {
      "displayName": "Louk Smalbil",
      "photoUrl": "https://lh3.googleusercontent.com/a-/AOh14GiByqcfGW98Bn42uapsD4oj4auyrLV9xURPKHUj=s64",
      "userId": "10422991521784029462"
     },
     "user_tz": -120
    },
    "id": "14Pg0pJeWuKF",
    "outputId": "e14c48c6-08f1-450d-fccf-4d1d31f8a9b1"
   },
   "outputs": [],
   "source": [
    "from scipy.stats import ttest_1samp\n",
    "ttest_1samp(blood_pressure.after-blood_pressure.before, popmean = 0)"
   ]
  },
  {
   "cell_type": "markdown",
   "metadata": {
    "colab_type": "text",
    "id": "gOyewiADWzni"
   },
   "source": [
    "We can see that the p-value is identical since the tests are equivalent."
   ]
  },
  {
   "cell_type": "markdown",
   "metadata": {
    "colab_type": "text",
    "id": "0PZWIc2_bk6Z"
   },
   "source": [
    "#### Example 2: Matched Pairs in Python\n",
    "\n",
    "When there is little difference between the two samples, the p-value will be larger. Suppose here that we give the participants medicine B and track their systolic blood pressure before and after they took the medicine. "
   ]
  },
  {
   "cell_type": "code",
   "execution_count": null,
   "metadata": {
    "cellView": "form",
    "colab": {},
    "colab_type": "code",
    "id": "-AJoKLQ7ah3E"
   },
   "outputs": [],
   "source": [
    "#@title\n",
    "generated = np.array(blood_pressure_A['before'])\n",
    "generated_mu = np.mean(generated)\n",
    "generated_sigma = np.std(generated)\n",
    "simulated =  np.random.normal(generated_mu, generated_sigma, 100)\n",
    "\n",
    "blood_pressure_B = pd.DataFrame(np.array(blood_pressure_A['before']),simulated)\n",
    "blood_pressure_B = blood_pressure_B.reset_index()\n",
    "blood_pressure_B = blood_pressure_B.rename(columns={\"index\": \"Before\", 0: \"After\"})"
   ]
  },
  {
   "cell_type": "code",
   "execution_count": null,
   "metadata": {
    "colab": {
     "base_uri": "https://localhost:8080/",
     "height": 204
    },
    "colab_type": "code",
    "executionInfo": {
     "elapsed": 532,
     "status": "ok",
     "timestamp": 1586883239419,
     "user": {
      "displayName": "Louk Smalbil",
      "photoUrl": "https://lh3.googleusercontent.com/a-/AOh14GiByqcfGW98Bn42uapsD4oj4auyrLV9xURPKHUj=s64",
      "userId": "10422991521784029462"
     },
     "user_tz": -120
    },
    "id": "P4wrXwdpcvUn",
    "outputId": "656866bf-c7b8-464b-8478-c2cd1c9bfcdc"
   },
   "outputs": [],
   "source": [
    "blood_pressure_B.head()"
   ]
  },
  {
   "cell_type": "code",
   "execution_count": null,
   "metadata": {
    "colab": {
     "base_uri": "https://localhost:8080/",
     "height": 34
    },
    "colab_type": "code",
    "executionInfo": {
     "elapsed": 525,
     "status": "ok",
     "timestamp": 1586883292665,
     "user": {
      "displayName": "Louk Smalbil",
      "photoUrl": "https://lh3.googleusercontent.com/a-/AOh14GiByqcfGW98Bn42uapsD4oj4auyrLV9xURPKHUj=s64",
      "userId": "10422991521784029462"
     },
     "user_tz": -120
    },
    "id": "efNnmdkHbazo",
    "outputId": "ff6fe449-18e1-4f73-fcf4-bf1d4c8976c9"
   },
   "outputs": [],
   "source": [
    "ttest_rel(blood_pressure_B.Before, blood_pressure_B.After)"
   ]
  },
  {
   "cell_type": "markdown",
   "metadata": {
    "colab_type": "text",
    "id": "GvsqCU9VW1-5"
   },
   "source": [
    "## Independent Samples\n",
    "\n",
    "The second type of two sample hypothesis tests are independent samples. In this case, **we have two groups where we cannot match the rows to one another.** For example, we compare the effect of a certain medication on a sample of men and a sample of women. We then perform a hypothesis test to see whether **there is a significant difference in the way the medication affects the groups**. Another example is an A/B test on a website. We can implement a number of changes in the UI of an e-commerce website. We will release version A to a sample of customers and version B to another sample. We will then test if there is a difference in revenue between the different samples.\n"
   ]
  },
  {
   "cell_type": "markdown",
   "metadata": {
    "colab_type": "text",
    "id": "FL634wxkY1a1"
   },
   "source": [
    "![alt text](https://pbs.twimg.com/media/EBTy7SBXYAA0gol.jpg)"
   ]
  },
  {
   "cell_type": "markdown",
   "metadata": {
    "colab_type": "text",
    "id": "ZusA_aulXAwo"
   },
   "source": [
    "### A Bit of Theory\n",
    "\n",
    "When looking at two independent samples, we need to check that a few assumptions hold. **The first assumption is obviously independence**. An example *of what could cause a dependence between two groups* is if we had a study on the impact of nutrition on health and we had a husband in one group and a wife in the other. While they are not the same person, they most likely live in the same household. Therefore, there are some things that they do that might be similar like sleep habits or commuting habits. As researchers, when this happens, we cannot be sure whether the intervention in our study was the main cause of the difference (or similarity) between the subjects.\n",
    "\n",
    "With a 2 sample test, our hypothesis test (for a 2 sided test) is a comparison of the two means:\n",
    "\n",
    "\n",
    "*   H0: $\\mu_{1} = \\mu_{2}$\n",
    "*   H1: $\\mu_{1} \\neq \\mu_{2}$\n",
    "\n",
    "**We must also assume that the samples were drawn at random from a normally distributed population.**\n",
    "\n"
   ]
  },
  {
   "cell_type": "markdown",
   "metadata": {
    "colab_type": "text",
    "id": "VcMhEpDaXg2c"
   },
   "source": [
    "### Equal Variances\n",
    "If we make an additional assumption that the variances of the two populations are equal, **we may use a pooled standard deviation in our hypothesis test.** This is simply the weigthed average of the standard standard deviations of both groups. For more information, follow this [link](https://support.minitab.com/en-us/minitab/19/help-and-how-to/statistics/basic-statistics/supporting-topics/data-concepts/what-is-the-pooled-standard-deviation/). \n",
    "\n",
    "In scipy, this means that we will be setting equal_var=True in our function.\n",
    "\n",
    "The following is an example of a 2 sample hypothesis test with equal variance. We will load a sample dataset of transaction amounts from an e-commerce website. "
   ]
  },
  {
   "cell_type": "code",
   "execution_count": null,
   "metadata": {
    "colab": {
     "base_uri": "https://localhost:8080/",
     "height": 204
    },
    "colab_type": "code",
    "executionInfo": {
     "elapsed": 1115,
     "status": "ok",
     "timestamp": 1586883854961,
     "user": {
      "displayName": "Louk Smalbil",
      "photoUrl": "https://lh3.googleusercontent.com/a-/AOh14GiByqcfGW98Bn42uapsD4oj4auyrLV9xURPKHUj=s64",
      "userId": "10422991521784029462"
     },
     "user_tz": -120
    },
    "id": "z7v7YF94XQeV",
    "outputId": "8b134d6c-a379-48c1-91d8-15bb217d5914"
   },
   "outputs": [],
   "source": [
    "ab_test = pd.read_csv('https://raw.githubusercontent.com/loukjsmalbil/datasets_ws/master/ab_test.csv')\n",
    "ab_test.head()"
   ]
  },
  {
   "cell_type": "markdown",
   "metadata": {
    "colab_type": "text",
    "id": "dqpwnm2QXz_y"
   },
   "source": [
    "The rows are not matched and the data is not stored in any order.\n",
    "\n",
    "We make the assumption that the variances of both populations are equal based on prior knowledge of the data. Now we will test that there is a significant difference between the website layouts with a 95% degree of confidence."
   ]
  },
  {
   "cell_type": "code",
   "execution_count": null,
   "metadata": {
    "colab": {},
    "colab_type": "code",
    "id": "6XFyb4fdf8aS"
   },
   "outputs": [],
   "source": [
    "from scipy.stats import ttest_ind"
   ]
  },
  {
   "cell_type": "code",
   "execution_count": null,
   "metadata": {
    "colab": {
     "base_uri": "https://localhost:8080/",
     "height": 34
    },
    "colab_type": "code",
    "executionInfo": {
     "elapsed": 524,
     "status": "ok",
     "timestamp": 1586883948880,
     "user": {
      "displayName": "Louk Smalbil",
      "photoUrl": "https://lh3.googleusercontent.com/a-/AOh14GiByqcfGW98Bn42uapsD4oj4auyrLV9xURPKHUj=s64",
      "userId": "10422991521784029462"
     },
     "user_tz": -120
    },
    "id": "LRirutYnX0mp",
    "outputId": "b40fcf08-5e2e-4ce1-f759-fe1d98930d59"
   },
   "outputs": [],
   "source": [
    "ttest_ind(ab_test.a, ab_test.b, equal_var=True)"
   ]
  },
  {
   "cell_type": "markdown",
   "metadata": {
    "colab_type": "text",
    "id": "RWlAyht0X4S3"
   },
   "source": [
    "Our p-value is very small. This means that there is a significant difference between the two sample means."
   ]
  },
  {
   "cell_type": "markdown",
   "metadata": {
    "colab_type": "text",
    "id": "3QApvTObX6KH"
   },
   "source": [
    "### Unequal Variances\n",
    "\n",
    "When we don't feel comfortable that we can make the equal variance assumption with great certainty, we can use a more robust test instead. **Instead of using a test with pooled variance, we use a test called Welch's t-test. We use Welch's t-test by seeting equal_var to False.** This test is considered robust since it does not need to make as many assumptions about the data.\n",
    "\n",
    "Let's use our A/B test data to perform a t-test that does not require the equal variance assumption:"
   ]
  },
  {
   "cell_type": "code",
   "execution_count": null,
   "metadata": {
    "colab": {
     "base_uri": "https://localhost:8080/",
     "height": 34
    },
    "colab_type": "code",
    "executionInfo": {
     "elapsed": 626,
     "status": "ok",
     "timestamp": 1586884278468,
     "user": {
      "displayName": "Louk Smalbil",
      "photoUrl": "https://lh3.googleusercontent.com/a-/AOh14GiByqcfGW98Bn42uapsD4oj4auyrLV9xURPKHUj=s64",
      "userId": "10422991521784029462"
     },
     "user_tz": -120
    },
    "id": "M6Pmme-GYAL3",
    "outputId": "fc103318-1cd0-4d7e-d18d-a34f8746e407"
   },
   "outputs": [],
   "source": [
    "ttest_ind(ab_test.a, ab_test.b, equal_var=False)"
   ]
  },
  {
   "cell_type": "markdown",
   "metadata": {
    "colab_type": "text",
    "id": "T-G45-1vYByZ"
   },
   "source": [
    "In this case the p-value slightly differs from the one we get with equal variances. However, since it is very small in this case as well, we will still reject the null hypothesis and conclude that there is a significant difference between the two sample means."
   ]
  },
  {
   "cell_type": "markdown",
   "metadata": {
    "colab_type": "text",
    "id": "8RFia4C1YDVJ"
   },
   "source": [
    "## Summary \n",
    "\n",
    "In this lesson, we have looked at how to compare 3 different kinds of two sample tests. We first looked at matched pairs where our data was not independent. We then looked at the two different options for independent data. Hypothesis tests are an important tool in many areas of business and research. Therefore, it is important to master them and know to distinguish between the different types of tests."
   ]
  },
  {
   "cell_type": "code",
   "execution_count": null,
   "metadata": {
    "colab": {},
    "colab_type": "code",
    "id": "1A-alU2BYEXm"
   },
   "outputs": [],
   "source": []
  }
 ],
 "metadata": {
  "colab": {
   "authorship_tag": "ABX9TyPSYHI4Qd4PAWHJZ+gbpEuy",
   "collapsed_sections": [],
   "name": "Two_Sample_Hypothesis_Testing.ipynb",
   "provenance": []
  },
  "kernelspec": {
   "display_name": "Python 3",
   "language": "python",
   "name": "python3"
  },
  "language_info": {
   "codemirror_mode": {
    "name": "ipython",
    "version": 3
   },
   "file_extension": ".py",
   "mimetype": "text/x-python",
   "name": "python",
   "nbconvert_exporter": "python",
   "pygments_lexer": "ipython3",
   "version": "3.7.6"
  }
 },
 "nbformat": 4,
 "nbformat_minor": 1
}
