{
 "cells": [
  {
   "cell_type": "markdown",
   "metadata": {
    "Collapsed": "false"
   },
   "source": [
    "# Interactive Visualization Lab\n",
    "\n",
    "Complete the following set of exercises to solidify your knowledge of interactive visualization using Plotly, Cufflinks, and IPyWidgets."
   ]
  },
  {
   "cell_type": "code",
   "execution_count": null,
   "metadata": {
    "Collapsed": "false"
   },
   "outputs": [],
   "source": [
    "import pandas as pd\n",
    "import chart_studio.plotly as py\n",
    "import cufflinks as cf\n",
    "from ipywidgets import interact\n",
    "\n",
    "cf.go_offline()"
   ]
  },
  {
   "cell_type": "markdown",
   "metadata": {
    "Collapsed": "false"
   },
   "source": [
    "Please download the Online_retail dataset dataset from [here](https://drive.google.com/file/d/1jD7eQYnfcvbm1ksDbD12U22JtbKItU7E/view?usp=sharing), place it in the data folder.<br>\n",
    "Load the data:"
   ]
  },
  {
   "cell_type": "code",
   "execution_count": null,
   "metadata": {
    "Collapsed": "false"
   },
   "outputs": [],
   "source": [
    "online_retail = pd.read_excel('../data/Online_Retail.xlsx')\n",
    "online_retail.head()"
   ]
  },
  {
   "cell_type": "markdown",
   "metadata": {
    "Collapsed": "false"
   },
   "source": [
    "## 1. Create an interactive bar chart showing total quantity and revenue by country (excluding United Kingdom) for the month of April 2011."
   ]
  },
  {
   "cell_type": "code",
   "execution_count": null,
   "metadata": {
    "Collapsed": "false"
   },
   "outputs": [],
   "source": [
    "#selecting the columns I need\n",
    "revenue_per_country = online_retail[['InvoiceDate','Country','Quantity','Revenue']]\n",
    "\n",
    "#checking if invoice date is a date-type\n",
    "revenue_per_country.dtypes\n",
    "\n",
    "#selecting dates needed\n",
    "revenue_per_country = revenue_per_country.set_index(['InvoiceDate'])\n",
    "revenue_per_country = revenue_per_country.loc['2011-4-1':'2011-4-30']\n",
    "revenue_per_country\n",
    "\n",
    "#grouping and removing UK\n",
    "revenue_per_country = revenue_per_country.pivot_table(index=['Country'],values=['Quantity','Revenue'], aggfunc=sum)\n",
    "revenue_per_country = revenue_per_country.drop('United Kingdom')\n",
    "revenue_per_country = revenue_per_country.reset_index()\n",
    "revenue_per_country\n",
    "\n",
    "#plotting\n",
    "revenue_per_country.iplot(kind='bar', x='Country', xTitle='Country', yTitle='Total', title='quantity and revenue by country')\n"
   ]
  },
  {
   "cell_type": "markdown",
   "metadata": {
    "Collapsed": "false"
   },
   "source": [
    "## 2. Create an interactive line chart showing quantity and revenue sold to France between January 1st and May 31st 2011."
   ]
  },
  {
   "cell_type": "code",
   "execution_count": null,
   "metadata": {
    "Collapsed": "false"
   },
   "outputs": [],
   "source": [
    "#selecting the columns, dates and country I need\n",
    "revenue_france = online_retail[['InvoiceDate','Country','Quantity','Revenue']]\n",
    "revenue_france = revenue_france.set_index(['InvoiceDate'])\n",
    "revenue_france = revenue_france.loc['2011-1-1':'2011-5-31']\n",
    "revenue_france = revenue_france.loc[revenue_france.Country =='France']\n",
    "revenue_france = revenue_france.reset_index()\n",
    "\n",
    "#group by day\n",
    "revenue_france['day'] = revenue_france['InvoiceDate'].dt.date\n",
    "revenue_france = revenue_france.pivot_table(index=['day'],values=['Quantity','Revenue'], aggfunc=sum)\n",
    "revenue_france = revenue_france.reset_index()\n",
    "revenue_france\n",
    "\n",
    "#plotting\n",
    "revenue_france.iplot(kind='line', x='day', xTitle='Date', yTitle='Total', title='Quantity and Revenue for France')"
   ]
  },
  {
   "cell_type": "markdown",
   "metadata": {
    "Collapsed": "false"
   },
   "source": [
    "## 3. Create an interactive scatter plot showing the relationship between average quantity (x-axis) and average unit price (y-axis) for the product PARTY BUNTING with the plot points color-coded by country (categories)."
   ]
  },
  {
   "cell_type": "code",
   "execution_count": null,
   "metadata": {},
   "outputs": [],
   "source": [
    "#selecting all rows with the product\n",
    "party_bunting = online_retail.loc[online_retail.Description=='PARTY BUNTING']\n",
    "party_bunting.iplot( x='Quantity', y='UnitPrice', categories='Country',xTitle='Quantity', yTitle='Unit Price', title='avg. Quantity and Price per Country for party buntings')\n"
   ]
  },
  {
   "cell_type": "markdown",
   "metadata": {
    "Collapsed": "false"
   },
   "source": [
    "## 4. Create a set of interactive histograms showing the distributions of quantity per invoice for the following countries: EIRE, Germany, France, and Netherlands."
   ]
  },
  {
   "cell_type": "code",
   "execution_count": null,
   "metadata": {
    "Collapsed": "false"
   },
   "outputs": [],
   "source": [
    "#selecting countries\n",
    "invoice_country = online_retail[online_retail['Country'].isin(['EIRE', 'Germany', 'France', 'Netherlands'])]\n",
    "\n",
    "#pivot\n",
    "invoice_country = invoice_country.pivot_table(index='InvoiceNo',columns='Country',values='Quantity', aggfunc=sum)\n",
    "invoice_country #= invoice_country.reset_index()\n",
    "\n",
    "#plot (not really sure what is on the X axis and what is on Y)\n",
    "invoice_country.iplot(kind='hist',xTitle='Invoice#', yTitle='Quantity',subplots=True)\n",
    "\n",
    "\n",
    "# Hi Paulo, do you happen to know why, when I was pivoting as below (with square brackets) it gives an error?\n",
    "# I've always pivoted like this and it always seemed to work fine? It took me forever to find the error and fix it\n",
    "# Thanks! \n",
    "\n",
    "# Original code that throws error:\n",
    "\n",
    "# #pivot\n",
    "# invoice_country = invoice_country.pivot_table(index=['InvoiceNo'],columns=['Country'],values=['Quantity'], aggfunc=sum)\n",
    "# invoice_country #= invoice_country.reset_index()\n",
    "\n",
    "# #plot\n",
    "# invoice_country.iplot(kind='hist',subplots=True)\n"
   ]
  },
  {
   "cell_type": "markdown",
   "metadata": {
    "Collapsed": "false"
   },
   "source": [
    "## 5. Create an interactive side-by-side bar chart showing the revenue by country listed below (bars) for each of the products listed below."
   ]
  },
  {
   "cell_type": "code",
   "execution_count": null,
   "metadata": {
    "Collapsed": "false"
   },
   "outputs": [],
   "source": [
    "product_list = ['JUMBO BAG RED RETROSPOT', \n",
    "                'CREAM HANGING HEART T-LIGHT HOLDER',\n",
    "                'REGENCY CAKESTAND 3 TIER']\n",
    "\n",
    "country_list = ['EIRE', 'Germany', 'France', 'Netherlands']"
   ]
  },
  {
   "cell_type": "code",
   "execution_count": null,
   "metadata": {
    "Collapsed": "false"
   },
   "outputs": [],
   "source": [
    "# selecting products and countries\n",
    "revenue_country = online_retail[online_retail['Country'].isin(country_list)]\n",
    "revenue_country = online_retail[online_retail['Description'].isin(product_list)][['Country','Description','Revenue']]\n",
    "revenue_country = revenue_country.groupby(by = ['Country','Description'], as_index=False).agg({\"Revenue\":'sum'})\n",
    "\n",
    "\n",
    "revenue_country.iplot(kind='bar', x=['Country','Description'], xTitle='Country', yTitle='Revenue', title='revenue per country')"
   ]
  },
  {
   "cell_type": "code",
   "execution_count": null,
   "metadata": {},
   "outputs": [],
   "source": [
    "# Version 2 with Pivot (much nicer)\n",
    "# selecting products and countries\n",
    "revenue_country = online_retail[online_retail['Country'].isin(country_list)]\n",
    "revenue_country = online_retail[online_retail['Description'].isin(product_list)][['Country','Description','Revenue']]\n",
    "\n",
    "# pivot\n",
    "revenue_country = revenue_country.pivot_table(index='Country',columns='Description',values='Revenue', aggfunc=sum)\n",
    "revenue_country\n",
    "\n",
    "revenue_country.iplot(kind='bar', xTitle='Country', yTitle='Revenue', title='revenue per country')"
   ]
  },
  {
   "cell_type": "markdown",
   "metadata": {
    "Collapsed": "false"
   },
   "source": [
    "## 6. Create an interactive line chart showing quantity sold by day for the United Kingdom. Add drop-down boxes for Year and Month that allow you to filter the date range that appears in the chart."
   ]
  },
  {
   "cell_type": "code",
   "execution_count": null,
   "metadata": {
    "Collapsed": "false"
   },
   "outputs": [],
   "source": [
    "online_retail['Year'] = pd.DatetimeIndex(online_retail['InvoiceDate']).year\n",
    "online_retail['Month'] = pd.DatetimeIndex(online_retail['InvoiceDate']).month\n",
    "online_retail['Day'] = pd.DatetimeIndex(online_retail['InvoiceDate']).day\n",
    "uk = online_retail[online_retail['Country']=='United Kingdom']\n",
    "uk"
   ]
  },
  {
   "cell_type": "code",
   "execution_count": null,
   "metadata": {
    "Collapsed": "false"
   },
   "outputs": [],
   "source": [
    "@interact(Selection=['Year', 'Month'])\n",
    "\n",
    "def linechart(Selection):\n",
    "    data = uk.pivot_table(values='Quantity', columns=Selection,\n",
    "                            index='Day', aggfunc='sum').reset_index()\n",
    "\n",
    "    data.iplot(kind='line', x='Day', xTitle='Day', \n",
    "               yTitle='total Quantity', title='total Quantity by day by ' + Selection.title())"
   ]
  },
  {
   "cell_type": "markdown",
   "metadata": {
    "Collapsed": "false"
   },
   "source": [
    "# Bonus challenges"
   ]
  },
  {
   "cell_type": "markdown",
   "metadata": {
    "Collapsed": "false"
   },
   "source": [
    "## 7. Create an interactive scatter plot that plots number of invoices (x-axis) vs. number of customers (y-axis) and the plot points represent individual products. Add two sliders that control the x and y axis ranges."
   ]
  },
  {
   "cell_type": "code",
   "execution_count": null,
   "metadata": {
    "Collapsed": "false"
   },
   "outputs": [],
   "source": [
    "agg_func = {'InvoiceNo':'nunique',\n",
    "            'Quantity':'sum',\n",
    "            'UnitPrice':'mean',\n",
    "            'Revenue':'sum',\n",
    "            'CustomerID':'nunique'}\n",
    "\n",
    "products = uk.groupby('Description').agg(agg_func)"
   ]
  },
  {
   "cell_type": "code",
   "execution_count": null,
   "metadata": {
    "Collapsed": "false"
   },
   "outputs": [],
   "source": []
  },
  {
   "cell_type": "markdown",
   "metadata": {
    "Collapsed": "false"
   },
   "source": [
    "## 8. Creat an interactive bar chart that shows revenue by product description. Add a text field widget that filters the results to show the product that contain the text entered in their description."
   ]
  },
  {
   "cell_type": "code",
   "execution_count": null,
   "metadata": {
    "Collapsed": "false"
   },
   "outputs": [],
   "source": []
  }
 ],
 "metadata": {
  "kernelspec": {
   "display_name": "Python 3",
   "language": "python",
   "name": "python3"
  },
  "language_info": {
   "codemirror_mode": {
    "name": "ipython",
    "version": 3
   },
   "file_extension": ".py",
   "mimetype": "text/x-python",
   "name": "python",
   "nbconvert_exporter": "python",
   "pygments_lexer": "ipython3",
   "version": "3.8.1"
  }
 },
 "nbformat": 4,
 "nbformat_minor": 4
}
