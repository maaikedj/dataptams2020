{
 "cells": [
  {
   "cell_type": "code",
   "execution_count": null,
   "metadata": {},
   "outputs": [],
   "source": [
    "#importing libraries\n",
    "import pandas as pd\n",
    "import numpy as np\n",
    "import matplotlib.pyplot as plt\n",
    "import seaborn as sns\n",
    "import chart_studio.plotly as py\n",
    "import cufflinks as cf\n",
    "from ipywidgets import interact\n",
    "\n",
    "cf.go_offline()"
   ]
  },
  {
   "cell_type": "code",
   "execution_count": null,
   "metadata": {},
   "outputs": [],
   "source": [
    "#reading my data files:\n",
    "africa = pd.read_excel('../data/Africa_1997-2020_Mar21.xlsx')\n",
    "latinamerica = pd.read_excel('../data/LatinAmerica_2018-2020_Mar21.xlsx')\n",
    "middleeast = pd.read_excel('../data/MiddleEast_2015-2020_Mar21-1.xlsx')\n",
    "demographics = pd.read_excel('../data/country_profile_variables.xlsx')\n",
    "\n",
    "#testing they are all working\n",
    "# africa.head()\n",
    "# latinamerica.head()\n",
    "# middleeast.head()\n",
    "# demographics.head()\n",
    "\n",
    "# demographics.dtypes\n",
    "\n",
    "#checking for nan values\n",
    "null_cols = demographics.isna().sum()\n",
    "#null_cols[null_cols > 0]\n",
    "\n",
    "#there is a lot, but as I don't know which countries I'll be using, I'll leave it for now"
   ]
  },
  {
   "cell_type": "code",
   "execution_count": null,
   "metadata": {},
   "outputs": [],
   "source": [
    "# select events only from 2019 \n",
    "year_africa = africa.loc[africa.YEAR == 2019]\n",
    "year_latinamerica = latinamerica.loc[latinamerica.YEAR == 2019]\n",
    "year_middleeast = middleeast.loc[middleeast.YEAR == 2019]\n",
    "\n",
    "# adding column to signify continent\n",
    "year_africa['continent'] = 'Africa'\n",
    "year_latinamerica['continent'] = 'LatinAmerica'\n",
    "year_middleeast['continent'] = 'MiddleEast'\n",
    "\n",
    "#concatenating all countries + demographics in one file\n",
    "percountry_df = pd.concat((year_africa,year_latinamerica,year_middleeast))\n",
    "\n",
    "percountry_df.columns"
   ]
  },
  {
   "cell_type": "code",
   "execution_count": null,
   "metadata": {},
   "outputs": [],
   "source": [
    "# initial chart to see data\n",
    "df_cont_event =percountry_df[['continent', 'COUNTRY', 'EVENT_TYPE', 'EVENT_DATE']]\n",
    "df_cont_event\n",
    "\n",
    "@interact(Continent=list(df_cont_event['continent'].unique()))\n",
    "         \n",
    "def dyn_linec(Continent):\n",
    "    data = df_cont_event[(df_cont_event['continent'] == Continent)]\n",
    "    \n",
    "    data.pivot_table(index=['COUNTRY'], columns=['continent', 'EVENT_TYPE'], aggfunc=len).iplot(\n",
    "    kind='bar',xTitle='Country', yTitle='Total Events',title='Events per country')\n"
   ]
  },
  {
   "cell_type": "code",
   "execution_count": null,
   "metadata": {},
   "outputs": [],
   "source": [
    "#want to know event types per country\n",
    "eventpercountry_df = percountry_df.pivot_table(index=('continent','COUNTRY'),columns='EVENT_TYPE',values='FATALITIES', aggfunc=(len))\n",
    "\n",
    "# replace nan by zeros\n",
    "eventpercountry_df = eventpercountry_df.fillna(0)\n",
    "\n",
    "# and total events and fatalities per country\n",
    "fatalitiespercountry_df = percountry_df.pivot_table(index='COUNTRY',values='FATALITIES', aggfunc=(len,sum))\n",
    "fatalitiespercountry_df = fatalitiespercountry_df.rename(columns={'len': 'total conflicts 2019', 'sum': 'total fatalities 2019'})\n",
    "\n",
    "# merge everything to have one file\n",
    "df = pd.merge(eventpercountry_df, demographics, left_on =\"COUNTRY\" , right_on = \"country\")\n",
    "df = pd.merge(df, fatalitiespercountry_df, left_on =\"country\" , right_on = \"COUNTRY\")\n",
    "df = pd.merge(df, percountry_df[['continent','COUNTRY']], left_on =\"country\" , right_on = \"COUNTRY\")\n",
    "\n",
    "#checking for nan values\n",
    "null_cols = df.isna().sum()\n",
    "null_cols[null_cols > 0]\n",
    "# still a lot of nan values on health and education\n",
    "\n",
    "df.columns"
   ]
  },
  {
   "cell_type": "code",
   "execution_count": null,
   "metadata": {},
   "outputs": [],
   "source": [
    "# adding a few new colums per capita %\n",
    "df['total conflicts 2019 per capita'] = df['total conflicts 2019'] / df['Population in thousands (2017)']\n",
    "df['total fatalities 2019 per capita'] = df['total fatalities 2019'] / df['Population in thousands (2017)']\n",
    "df['total Protests 2019 per capita'] = df['Protests'] / df['Population in thousands (2017)']\n",
    "df['total Explosions/Remote violence 2019 per capita'] = df['Explosions/Remote violence'] / df['Population in thousands (2017)']\n",
    "df['total Battles 2019 per capita'] = df['Battles'] / df['Population in thousands (2017)']\n",
    "\n",
    "#trying to find some correlations in all the data\n",
    "corr = df.corr()\n",
    "corr"
   ]
  },
  {
   "cell_type": "code",
   "execution_count": null,
   "metadata": {},
   "outputs": [],
   "source": [
    "# Generate a mask for the upper triangle\n",
    "mask = np.triu(np.ones_like(corr, dtype=np.bool))\n",
    "\n",
    "# Set up the matplotlib figure\n",
    "f, ax = plt.subplots(figsize=(20, 15))\n",
    "\n",
    "# Generate a custom diverging colormap\n",
    "cmap = sns.diverging_palette(220, 10, as_cmap=True)\n",
    "\n",
    "# Draw the heatmap with the mask and correct aspect ratio\n",
    "sns.heatmap(corr, mask=mask, cmap=cmap, vmax=.3, center=0,\n",
    "            square=True, linewidths=.5, cbar_kws={\"shrink\": .5});"
   ]
  },
  {
   "cell_type": "code",
   "execution_count": null,
   "metadata": {},
   "outputs": [],
   "source": [
    "# things I found interesting from above correlation graph:\n",
    "# 1 - negative correlation between GDP growth and total conflicts and fatalities, decreases for protest\n",
    "# 2 - Education has a low to none correlation between fatalities, but increases for protests, thus more education more protests\n",
    "# 3 - all Armed conflict lines are negatively correlated with labor force participation female pop %\n"
   ]
  },
  {
   "cell_type": "code",
   "execution_count": null,
   "metadata": {},
   "outputs": [],
   "source": [
    "# 1 - negative correlation between GDP growth and total conflicts and fatalities, decreases for protest\n",
    "df[['country',\n",
    "    'total conflicts 2019 per capita', \n",
    "    'total fatalities 2019 per capita',\n",
    "    'total Protests 2019 per capita',\n",
    "    'total Explosions/Remote violence 2019 per capita',\n",
    "    'total Battles 2019 per capita',\n",
    "    'GDP growth rate (annual %, const. 2005 prices)']].corr()"
   ]
  },
  {
   "cell_type": "code",
   "execution_count": null,
   "metadata": {},
   "outputs": [],
   "source": [
    "# 1 - negative correlation between GDP growth and total conflicts and fatalities, decreases for protest\n",
    "explpergdp = df[['country','total Explosions/Remote violence 2019 per capita','GDP growth rate (annual %, const. 2005 prices)']]\n",
    "\n",
    "explpergdp.iplot( x='total Explosions/Remote violence 2019 per capita', y='GDP growth rate (annual %, const. 2005 prices)', \n",
    "                 categories='country',xTitle='total Explosions/Remote violence per capita', yTitle='GDP growth per year', \n",
    "                 title='Impact of war on GDP growth')\n"
   ]
  },
  {
   "cell_type": "code",
   "execution_count": null,
   "metadata": {},
   "outputs": [],
   "source": [
    "# 2 - Education has an inverse correlation to fatalities, but increases for protests, \n",
    "# thus more education more protests & less fatalities?\n",
    "df[['country',\n",
    "    'total conflicts 2019 per capita', \n",
    "    'total fatalities 2019 per capita',\n",
    "    'total Protests 2019 per capita',\n",
    "    'total Explosions/Remote violence 2019 per capita',\n",
    "    'total Battles 2019 per capita',\n",
    "    'Education: Primary gross enrol. ratio (f per 100 pop.)',\n",
    "    'Education: Primary gross enrol. ratio (m per 100 pop.)',\n",
    "    'Education: Secondary gross enrol. ratio (f per 100 pop.)',\n",
    "    'Education: Secondary gross enrol. ratio (m per 100 pop.)',\n",
    "    'Education: Tertiary gross enrol. ratio (f per 100 pop.)',\n",
    "    'Education: Tertiary gross enrol. ratio (m per 100 pop.)']].corr()\n",
    "\n",
    "eduvsprotes = df[['country','total Protests 2019 per capita','total fatalities 2019 per capita','Education: Tertiary gross enrol. ratio (f per 100 pop.)']] \n",
    "\n",
    "@interact(Selection=['total Protests 2019 per capita', 'total fatalities 2019 per capita'])\n",
    "def linechart(Selection):\n",
    "     eduvsprotes.iplot(kind='scatter',x=Selection, xTitle=Selection.title(),\n",
    "                       y='Education: Tertiary gross enrol. ratio (f per 100 pop.)',\n",
    "                       yTitle='terciary education (f per 100 pop.)',\n",
    "                       categories='country',\n",
    "                       title='Education vs Protests' + Selection.title())"
   ]
  },
  {
   "cell_type": "code",
   "execution_count": null,
   "metadata": {},
   "outputs": [],
   "source": [
    "# 3 - all Armed conflict lines are negatively correlated with labor force participation female pop %\n",
    "labvscon = df[['continent','total conflicts 2019 per capita', \n",
    "    'total fatalities 2019 per capita',\n",
    "    'total Protests 2019 per capita',\n",
    "    'total Explosions/Remote violence 2019 per capita',\n",
    "    'total Battles 2019 per capita',\n",
    "    'Labour force participation (female pop. %)']]\n",
    "\n",
    "#sns.distplot(labvscon['Labour force participation (female pop. %)'])\n",
    "\n",
    "\n",
    "#one histogram, one box plot"
   ]
  },
  {
   "cell_type": "code",
   "execution_count": null,
   "metadata": {},
   "outputs": [],
   "source": []
  }
 ],
 "metadata": {
  "kernelspec": {
   "display_name": "Python 3",
   "language": "python",
   "name": "python3"
  },
  "language_info": {
   "codemirror_mode": {
    "name": "ipython",
    "version": 3
   },
   "file_extension": ".py",
   "mimetype": "text/x-python",
   "name": "python",
   "nbconvert_exporter": "python",
   "pygments_lexer": "ipython3",
   "version": "3.8.1"
  }
 },
 "nbformat": 4,
 "nbformat_minor": 4
}
