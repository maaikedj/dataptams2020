{
 "cells": [
  {
   "cell_type": "markdown",
   "metadata": {
    "colab_type": "text",
    "id": "744joXEvuVBI"
   },
   "source": [
    "# Interactive Data Visualisations\n",
    "\n"
   ]
  },
  {
   "cell_type": "markdown",
   "metadata": {
    "colab_type": "text",
    "id": "I5Yb29TnuaYR"
   },
   "source": [
    "## Introduction\n",
    "\n",
    "So far in the program, we have covered a variety of ways to visualize information. We have seen histograms, bar charts, line charts, scatter plots, and even some more advanced visualizations like box plots, violin plots, and scatter matrices.\n",
    "\n",
    "However, these visualizations have been static and, while perfectly suitable and informative, the world is moving in the direction of interactive visualization. When we add interactivity to our visualizations, one of the benefits we immediately derive is the ability to view values of different data points simply by hovering over them. We also get the ability to zoom in and out as well as remove and add back different series of data points, which allows us to explore our data in ways that we simply could not with static visualizations.\n",
    "\n",
    "In the past, in order to construct interactive visualizations in the browser, you had to learn D3 or JavaScript. These days, there are Python libraries that sit on top of D3 which give us the ability to generate interactive visualizations directly from Python. In this lesson, we will be using a couple of these new libraries (Plotly and cufflinks) to construct our interactive visualizations. Plotly is an open source visualization library, and cufflinks is a wrapper around Plotly that allows you to easily produce interactive visualizations - often with a single line of code!\n",
    "\n",
    "Before we jump into the lesson, let's make sure both of these libraries are installed."
   ]
  },
  {
   "cell_type": "code",
   "execution_count": null,
   "metadata": {
    "colab": {},
    "colab_type": "code",
    "id": "qtr6xpgYugOP"
   },
   "outputs": [],
   "source": [
    "#$ pip install plotly\n",
    "#$ pip install cufflinks\n",
    "#$ pip install chart-studio\n",
    "# conda install -c conda-forge jupyterlab-plotly-extension"
   ]
  },
  {
   "cell_type": "markdown",
   "metadata": {
    "colab_type": "text",
    "id": "we5uqNXdujq4"
   },
   "source": [
    "\n",
    "\n",
    "\n",
    "Let's also import the libraries we are going to need for this lesson and set cufflinks to offline mode so that we can just visualize our interactive charts in the Jupyter Notebook. If we did not specify, it would push each visualization created up to your Plotly account."
   ]
  },
  {
   "cell_type": "markdown",
   "metadata": {},
   "source": [
    "**NB: FOLLOW THESE STEPS: **\n",
    "\n",
    "- pip install chart-studio\n",
    "- conda install -c conda-forge jupyterlab-plotly-extension (to be able to run the plots in your notebook)\n",
    "- pip install ipywidgets\n",
    "- jupyter labextension install @jupyter-widgets/jupyterlab-manager (to be able to run action plots in your notebook)\n",
    "- Import/call ALL of the following:\n",
    "\n",
    "    - import chart_studio.plotly as py\n",
    "    - import cufflinks as cf\n",
    "    \n",
    "    - import pandas as pd\n",
    "    - import numpy as np\n",
    "    \n",
    "    - %matplotlib inline\n",
    "\n",
    "    - cf.go_offline()\n",
    "    \n",
    "    - import chart_studio.plotly as py\n",
    "    - import cufflinks as cf\n",
    "        \n",
    "    - import ipywidgets as widgets    \n",
    "    - from ipywidgets import interact\n",
    "    - from ipywidgets import interact, interactive, fixed, interact_manual\n",
    "\n"
   ]
  },
  {
   "cell_type": "code",
   "execution_count": null,
   "metadata": {
    "colab": {},
    "colab_type": "code",
    "id": "P-toQx1AuItB"
   },
   "outputs": [],
   "source": [
    "import chart_studio.plotly as py\n",
    "import cufflinks as cf\n",
    "import pandas as pd\n",
    "%matplotlib inline\n",
    "\n",
    "cf.go_offline()"
   ]
  },
  {
   "cell_type": "markdown",
   "metadata": {
    "colab_type": "text",
    "id": "WWnGkvcmum35"
   },
   "source": [
    "## THE DATA\n",
    "The data set we will be using for this lesson is the Telco Customer Churn data set from Kaggle. Let's go ahead and import the data set using the Pandas read_csv method and take a look at what columns we have to work with."
   ]
  },
  {
   "cell_type": "code",
   "execution_count": null,
   "metadata": {
    "colab": {},
    "colab_type": "code",
    "id": "t6RFXfW2uqFJ"
   },
   "outputs": [],
   "source": [
    "df = pd.read_csv('../data/churn.csv')\n",
    "df.columns"
   ]
  },
  {
   "cell_type": "code",
   "execution_count": null,
   "metadata": {},
   "outputs": [],
   "source": [
    "df.head()"
   ]
  },
  {
   "cell_type": "code",
   "execution_count": null,
   "metadata": {},
   "outputs": [],
   "source": [
    "df.loc[df.Churn=='No','Churn'] = 0 \n",
    "df.loc[df.Churn=='Yes','Churn'] = 1"
   ]
  },
  {
   "cell_type": "code",
   "execution_count": null,
   "metadata": {},
   "outputs": [],
   "source": [
    "df.head()"
   ]
  },
  {
   "cell_type": "code",
   "execution_count": null,
   "metadata": {},
   "outputs": [],
   "source": [
    "df = df.rename(columns={\"Churn\": \"ChurnBinary\"})"
   ]
  },
  {
   "cell_type": "code",
   "execution_count": null,
   "metadata": {},
   "outputs": [],
   "source": [
    "df.head()"
   ]
  },
  {
   "cell_type": "code",
   "execution_count": null,
   "metadata": {},
   "outputs": [],
   "source": [
    "#df['tenure']"
   ]
  },
  {
   "cell_type": "markdown",
   "metadata": {
    "colab_type": "text",
    "id": "UyF7nnsmus8G"
   },
   "source": [
    "## INTERACTIVE HISTOGRAMS\n",
    "The first type of interactive visualization we will be generating with Plotly and cufflinks is a histogram. As mentioned in prior lessons, histograms help us visualize how the values in a specific field are distributed. For example, let's take the TotalCharges column of our data set and create a basic interactive histogram for it.\n",
    "\n",
    "To do that we would call the iplot method and pass \"hist\" to the kind argument along with what we want the x and y axis to be named (to the xTitle and yTitle arguments respectively) and what title we want displayed on our visualization to the title argument. These last three arguments are present in every interactive chart we will generate."
   ]
  },
  {
   "cell_type": "code",
   "execution_count": null,
   "metadata": {
    "colab": {},
    "colab_type": "code",
    "id": "yj7dQZD3usKK"
   },
   "outputs": [],
   "source": [
    "data = df['TotalCharges']\n",
    "\n",
    "data.iplot(kind='hist', xTitle='Total Charges', yTitle='Count', \n",
    "           title='Total Charges Distribution')"
   ]
  },
  {
   "cell_type": "markdown",
   "metadata": {
    "colab_type": "text",
    "id": "r61ZkMp_uyvl"
   },
   "source": [
    "The resulting plot should look like the image above, only yours should be interactive! When you hover over each bar of the histogram, it should display the number of records that fall into the bin that bar represents.\n",
    "\n",
    "Plotly and cufflinks allow us to do a few other interesting things with histograms. In the example below, we are creating a pivot table from our original data frame that has the different Internet Services represented in separate columns and Monthly Charges by customer as the values in the table.\n",
    "\n",
    "We then create a histogram from this data set and, by default, it creates overlay histograms representing the Monthly Charge ranges for all three Internet Services. Note also that we have added a new histnorm argument and have passed it the value \"percent.\" What this does is converts the y axis to show the percentage instead of the number of records each bin makes up."
   ]
  },
  {
   "cell_type": "code",
   "execution_count": null,
   "metadata": {
    "colab": {},
    "colab_type": "code",
    "id": "WmNepP0du0Yv"
   },
   "outputs": [],
   "source": [
    "data = df.pivot_table(values='MonthlyCharges', columns='InternetService', \n",
    "                      index='customerID', aggfunc='sum')"
   ]
  },
  {
   "cell_type": "code",
   "execution_count": null,
   "metadata": {},
   "outputs": [],
   "source": [
    "data"
   ]
  },
  {
   "cell_type": "code",
   "execution_count": null,
   "metadata": {},
   "outputs": [],
   "source": [
    "data.iplot(kind='hist', histnorm='percent', xTitle='Value', \n",
    "           yTitle='Percent', title='Monthly Charge by Internet Service')"
   ]
  },
  {
   "cell_type": "markdown",
   "metadata": {
    "colab_type": "text",
    "id": "GubFpV5uu2-g"
   },
   "source": [
    "In addition to being able to hover over components in the visualization and see their values, another useful feature of these types of interactive visualizations is that you can filter categories when there are more than one of them and they are included in a legend. For example, to remove the No category, simply click on it. It disappears and the visualization automatically rescales itself according to the remaining data points. If you click it again, it appears in the visualization again.\n",
    "\n",
    "Another useful feature that is great for histograms is the subplot feature. When this value is included and set to True, instead of overlapping histograms, you get back a grid of histograms. In the example below, we create a pivot table where the columns represent different payment methods and the values represent monthly charges by customer. When we call the iplot method to generate histograms from this data and include the subplot argument, it returns four separate histograms - one for each type of payment method."
   ]
  },
  {
   "cell_type": "code",
   "execution_count": null,
   "metadata": {
    "colab": {},
    "colab_type": "code",
    "id": "BYcbRBmpu7wa"
   },
   "outputs": [],
   "source": [
    "data = df.pivot_table(values='MonthlyCharges', columns='PaymentMethod', index='customerID', aggfunc='sum')"
   ]
  },
  {
   "cell_type": "code",
   "execution_count": null,
   "metadata": {},
   "outputs": [],
   "source": [
    "data.head()"
   ]
  },
  {
   "cell_type": "code",
   "execution_count": null,
   "metadata": {},
   "outputs": [],
   "source": [
    "# Make histogram \n",
    "data.iplot(kind='hist', xTitle='Value', yTitle='Percent', title='Monthly Charge by Payment Method')"
   ]
  },
  {
   "cell_type": "code",
   "execution_count": null,
   "metadata": {},
   "outputs": [],
   "source": [
    "# Scale to percentages \n",
    "data.iplot(kind='hist', histnorm='percent', xTitle='Value', yTitle='Percent', title='Monthly Charge by Payment Method')"
   ]
  },
  {
   "cell_type": "code",
   "execution_count": null,
   "metadata": {},
   "outputs": [],
   "source": [
    "# Divide into subplots\n",
    "data.iplot(kind='hist', histnorm='percent', xTitle='Value', subplots=True, yTitle='Percent', title='Monthly Charge by Payment Method')"
   ]
  },
  {
   "cell_type": "markdown",
   "metadata": {
    "colab_type": "text",
    "id": "s5ZJXrh3u7Ru"
   },
   "source": [
    "## INTERACTIVE BAR CHARTS\n",
    "In addition to histograms, another useful type of interactive visualization is the interactive bar chart. Below is a basic example where we calculate the average churn rate for each payment method and then create a bar chart by setting the kind argument to \"bar.\""
   ]
  },
  {
   "cell_type": "code",
   "execution_count": null,
   "metadata": {
    "colab": {},
    "colab_type": "code",
    "id": "CjOEDKstu-ls"
   },
   "outputs": [],
   "source": [
    "data = df.groupby('PaymentMethod', as_index=False).agg({\"ChurnBinary\":'mean'})"
   ]
  },
  {
   "cell_type": "code",
   "execution_count": null,
   "metadata": {},
   "outputs": [],
   "source": [
    "data.head()"
   ]
  },
  {
   "cell_type": "code",
   "execution_count": null,
   "metadata": {},
   "outputs": [],
   "source": [
    "data.iplot(kind='bar', x='PaymentMethod', xTitle='Payment Method', color='purple',\n",
    "           yTitle='Avg. Churn %', title='Avg. Churn Rate by Payment Method')"
   ]
  },
  {
   "cell_type": "markdown",
   "metadata": {
    "colab_type": "text",
    "id": "_ur-KE-ivBnS"
   },
   "source": [
    "Note that we also included a color argument to specify that we would like the bars to be green. Feel free to try changing it to whatever your favorite color is.\n",
    "\n",
    "Basic bar charts are very helpful, but sometimes the need arises to create more complex bar charts, such as when we need to see bars in groups. To set this up with the data set we are currently working with, below we are creating three sets of pivot tables that each calculate average monthly charges by tenure level but for different demographic variables (gender, senior citizen, and partner). We combine all the three pivot tables together (concat columns) and sort according to the intuitive order of customer tenure level - new customers, regular customers, loyal customers, and very loyal customers."
   ]
  },
  {
   "cell_type": "markdown",
   "metadata": {
    "colab_type": "text",
    "id": "VqXIRARmvI5A"
   },
   "source": [
    "## INTERACTIVE LINE CHARTS\n",
    "In addition to histograms and bar charts, another very useful interactive visualization is the line chart. Interactive line charts allow us to not only visualize how a variable changes, but it can also let us hover over and find out the exact values even when there are a lot of points across the x axis.\n",
    "\n",
    "In the example below, we are creating calculating the average churn rate by tenure and then creating a basic single line chart that shows the overall decrease in churn rate as tenure increases. Note that all we had to do was pass \"line\" to the kind argument and then the appropriate fields, titles, and colors to their respective arguments."
   ]
  },
  {
   "cell_type": "code",
   "execution_count": null,
   "metadata": {
    "colab": {},
    "colab_type": "code",
    "id": "WQssc6xUvLIM"
   },
   "outputs": [],
   "source": [
    "data = df.groupby('tenure', as_index=False).agg({'ChurnBinary':'mean'})"
   ]
  },
  {
   "cell_type": "code",
   "execution_count": null,
   "metadata": {},
   "outputs": [],
   "source": [
    "data.head()"
   ]
  },
  {
   "cell_type": "code",
   "execution_count": null,
   "metadata": {},
   "outputs": [],
   "source": [
    "data.iplot(kind='line', x='tenure', xTitle='Tenure', color='blue',\n",
    "           yTitle='Avg. Churn Rate', title='Avg. Churn Rate by Tenure')"
   ]
  },
  {
   "cell_type": "markdown",
   "metadata": {
    "colab_type": "text",
    "id": "c3Rbj81_vNNv"
   },
   "source": [
    "This gives us a sense of what happens with aggregate churn rates, but how does that differ by demographics? To find out, we can take the same approach as we did with our grouped bar chart. Below, we create three pivot tables again and combine them."
   ]
  },
  {
   "cell_type": "code",
   "execution_count": null,
   "metadata": {
    "colab": {},
    "colab_type": "code",
    "id": "dzaAvqsrvQj6"
   },
   "outputs": [],
   "source": [
    "gender = df.pivot_table(values='ChurnBinary', columns='gender', \n",
    "                        index='tenure', aggfunc='mean')\n",
    "\n",
    "senior = df.pivot_table(values='ChurnBinary', columns='SeniorCitizen', \n",
    "                        index='tenure', aggfunc='mean')\n",
    "\n",
    "partner = df.pivot_table(values='ChurnBinary', columns='Partner', \n",
    "                         index='tenure', aggfunc='mean')"
   ]
  },
  {
   "cell_type": "code",
   "execution_count": null,
   "metadata": {},
   "outputs": [],
   "source": [
    "gender"
   ]
  },
  {
   "cell_type": "code",
   "execution_count": null,
   "metadata": {},
   "outputs": [],
   "source": [
    "data = pd.concat([gender, senior, partner], axis=1)\n",
    "data.columns = ['Female', 'Male', 'NonSenior', 'Senior', 'Single', 'Partner']\n",
    "data = data.reset_index()"
   ]
  },
  {
   "cell_type": "code",
   "execution_count": null,
   "metadata": {},
   "outputs": [],
   "source": [
    "data"
   ]
  },
  {
   "cell_type": "markdown",
   "metadata": {
    "colab_type": "text",
    "id": "LxBF63RjvRFM"
   },
   "source": [
    "We now have the data in the format we need to create an interactive multi-line chart. To do that, we call the iplot method again and pass the appropriate values to each argument."
   ]
  },
  {
   "cell_type": "code",
   "execution_count": null,
   "metadata": {
    "colab": {},
    "colab_type": "code",
    "id": "MMyydKLsvTD-"
   },
   "outputs": [],
   "source": [
    "data.iplot(kind='line', x='tenure', xTitle='Tenure', \n",
    "           yTitle='Avg. Churn Rate', title='Avg. Churn Rate by Demographics')"
   ]
  },
  {
   "cell_type": "markdown",
   "metadata": {
    "colab_type": "text",
    "id": "WKAfVs5FvVYB"
   },
   "source": [
    "## INTERACTIVE SCATTER PLOTS\n",
    "Another useful type of interactive visualization is the scatter plot. Like with line charts, one of the valuable features of interactivity with scatter plots is the ability to hover over each of the points and see their value. It is often also useful to apply the filtering by group like we did with the histograms earlier. However, one drawback about creating interactive scatter plots is that scatter plots tend to have a lot of data points, so creating interactive ones can quickly get computationally intensive and the results can look a bit cluttered.\n",
    "\n",
    "In the example below, we capitalize on the advantages mentioned above while avoiding the disadvantages by filtering our data set for a subset that we would like to investigate (customers on one year contracts that pay with credit cards)."
   ]
  },
  {
   "cell_type": "code",
   "execution_count": null,
   "metadata": {
    "colab": {},
    "colab_type": "code",
    "id": "5ap5vbTXvYD7"
   },
   "outputs": [],
   "source": [
    "data = df[(df['Contract']=='One year') & (df['PaymentMethod']=='Credit card (automatic)')]"
   ]
  },
  {
   "cell_type": "code",
   "execution_count": null,
   "metadata": {},
   "outputs": [],
   "source": [
    "data.head()"
   ]
  },
  {
   "cell_type": "markdown",
   "metadata": {
    "colab_type": "text",
    "id": "2gzX3peNvZ2n"
   },
   "source": [
    "We then call the iplot method to generate our interactive visualization. Note that to create a scatter plot, we did not need to pass anything to the kind argument but we did need to specify which fields would be represented on both the x and y axes. We also added a new categories argument that we passed the type of Internet Service to so that we can distinguish between those groups in our visualization."
   ]
  },
  {
   "cell_type": "code",
   "execution_count": null,
   "metadata": {
    "colab": {},
    "colab_type": "code",
    "id": "tk3wlV45vbsO"
   },
   "outputs": [],
   "source": [
    "data.iplot(x='tenure', y='TotalCharges', categories='InternetService',\n",
    "           xTitle='Tenure', yTitle='Total Charges',\n",
    "           title='Charges vs. Tenure: One Year Contract, Credit Card Customers')"
   ]
  },
  {
   "cell_type": "markdown",
   "metadata": {
    "colab_type": "text",
    "id": "fJP2bQQzvfQq"
   },
   "source": [
    "Due to our filtering of the data, the resulting visualization contains a reasonable number of data points and allows us to clearly distinguish between the different groups in our data."
   ]
  },
  {
   "cell_type": "markdown",
   "metadata": {
    "colab_type": "text",
    "id": "8Ssckfo_vhmY"
   },
   "source": [
    "## INTERACTIVE BUBBLE CHARTS\n",
    "Bubble charts are essentially scatter plots with an additional dimension - the size of the bubbles. This can provide us with additional insights but also makes it so that the visualization has the potential to get cluttered even easier than with a scatter plot. Because of this, it is best to use interactive bubble charts when we have filtered our data significantly to a number of data points that will be reasonable for this type of visualization.\n",
    "\n",
    "Below, we are starting with the data subset that we used for our scatter plot above and we are filtering it even further by keeping only the customers that do not have phone service. This makes our data sufficiently small to visualize using a bubble chart.\n",
    "\n",
    "To create the bubble chart, we call iplot, pass \"bubble\" to the kind argument, and then fill in all the rest of the arguments with appropriate values."
   ]
  },
  {
   "cell_type": "code",
   "execution_count": null,
   "metadata": {},
   "outputs": [],
   "source": [
    "# Read and reset the df db\n",
    "df = pd.read_csv('../data/churn.csv')"
   ]
  },
  {
   "cell_type": "code",
   "execution_count": null,
   "metadata": {},
   "outputs": [],
   "source": [
    "df.columns"
   ]
  },
  {
   "cell_type": "code",
   "execution_count": null,
   "metadata": {},
   "outputs": [],
   "source": [
    "# Change churn to binary churn\n",
    "df.loc[df.Churn=='No','Churn'] = 0 \n",
    "df.loc[df.Churn=='Yes','Churn'] = 1"
   ]
  },
  {
   "cell_type": "code",
   "execution_count": null,
   "metadata": {},
   "outputs": [],
   "source": [
    "# Rename churn column\n",
    "df = df.rename(columns={\"Churn\": \"ChurnBinary\"})"
   ]
  },
  {
   "cell_type": "code",
   "execution_count": null,
   "metadata": {},
   "outputs": [],
   "source": [
    "df.dtypes"
   ]
  },
  {
   "cell_type": "code",
   "execution_count": null,
   "metadata": {},
   "outputs": [],
   "source": [
    "# Coercefully convert column to numeric\n",
    "data = pd.to_numeric(df['TotalCharges'],errors='coerce')"
   ]
  },
  {
   "cell_type": "code",
   "execution_count": null,
   "metadata": {},
   "outputs": [],
   "source": [
    "# Rename the column so as to prevent double name \n",
    "data = data.rename(columns={\"TotalCharges\": \"TotalChargesFloat\"})"
   ]
  },
  {
   "cell_type": "code",
   "execution_count": null,
   "metadata": {},
   "outputs": [],
   "source": [
    "data"
   ]
  },
  {
   "cell_type": "code",
   "execution_count": null,
   "metadata": {},
   "outputs": [],
   "source": [
    "df = pd.concat((data, df), axis=1)\n",
    "df.head()"
   ]
  },
  {
   "cell_type": "code",
   "execution_count": null,
   "metadata": {},
   "outputs": [],
   "source": [
    "df = df.rename(columns={0: \"TotalChargesFloat\"})"
   ]
  },
  {
   "cell_type": "code",
   "execution_count": null,
   "metadata": {},
   "outputs": [],
   "source": [
    "df.dtypes"
   ]
  },
  {
   "cell_type": "code",
   "execution_count": null,
   "metadata": {},
   "outputs": [],
   "source": [
    "df = df[df['TotalChargesFloat'].isnull() == False]\n",
    "df.head()"
   ]
  },
  {
   "cell_type": "code",
   "execution_count": null,
   "metadata": {
    "colab": {},
    "colab_type": "code",
    "id": "OhyEeDKFvdNo"
   },
   "outputs": [],
   "source": [
    "df = df[df['PhoneService']=='No']"
   ]
  },
  {
   "cell_type": "code",
   "execution_count": null,
   "metadata": {},
   "outputs": [],
   "source": [
    "df.iplot(kind='bubble', x='tenure', y='MonthlyCharges', size='TotalChargesFloat',\n",
    "           categories='gender', xTitle='Tenure', yTitle='Total Charges',\n",
    "           title='Charges vs. Tenure: One Year Contract, Credit Card Customers')"
   ]
  },
  {
   "cell_type": "markdown",
   "metadata": {
    "colab_type": "text",
    "id": "ggoaYm-Nvk4d"
   },
   "source": [
    "The result is an informative, interactive bubble chart that conveys information about both monthly and total charges, tenure, and gender for this specific segment of customers."
   ]
  },
  {
   "cell_type": "markdown",
   "metadata": {
    "colab_type": "text",
    "id": "tcT8BXKovm13"
   },
   "source": [
    "## INTERACTIVE HEATMAPS\n",
    "The last type of interactive visualization we will cover in this lesson is the heatmap. Heatmaps are useful for seeing how relatively high or low values are across combinations of categories. For example, below we create a pivot table containing average churn rates by amount of online Back-Ups and tenure."
   ]
  },
  {
   "cell_type": "code",
   "execution_count": null,
   "metadata": {},
   "outputs": [],
   "source": [
    "#df.dtypes"
   ]
  },
  {
   "cell_type": "code",
   "execution_count": null,
   "metadata": {
    "colab": {},
    "colab_type": "code",
    "id": "7CxXYqfxvokl"
   },
   "outputs": [],
   "source": [
    "data = df.pivot_table(values='ChurnBinary', columns='OnlineBackup', \n",
    "                      index='tenure', aggfunc='mean')"
   ]
  },
  {
   "cell_type": "code",
   "execution_count": null,
   "metadata": {},
   "outputs": [],
   "source": [
    "data.head()"
   ]
  },
  {
   "cell_type": "markdown",
   "metadata": {
    "colab_type": "text",
    "id": "bTj_Qt5bvqx8"
   },
   "source": [
    "From there, we call iplot, pass \"heatmap\" to the kind argument, specify an appropriate colorscale, and then fill in the rest of the arguments. This generates an informative heatmap that looks like the following."
   ]
  },
  {
   "cell_type": "code",
   "execution_count": null,
   "metadata": {
    "colab": {},
    "colab_type": "code",
    "id": "x3J8l89MvuO9"
   },
   "outputs": [],
   "source": [
    "data.iplot(kind='heatmap', colorscale='YlOrRd', xTitle='Tenure', \n",
    "           yTitle='Online Back-Up', title='Online Back-Up by Tenure')"
   ]
  },
  {
   "cell_type": "markdown",
   "metadata": {
    "colab_type": "text",
    "id": "AyFvIRZ0vsMP"
   },
   "source": [
    "In this heatmap, we can see that the High and Very High categories are where the highest churn rates are occurring, particularly early in the customer tenure."
   ]
  },
  {
   "cell_type": "markdown",
   "metadata": {
    "colab_type": "text",
    "id": "9JtztNtWvy8M"
   },
   "source": [
    "## Summary \n",
    "\n",
    "In this lesson, we have explored a variety of interactive visualizations. We began the lesson by introducing the plotly and cufflinks libraries, which when used together make generating interactive visualizations as easy as writing a single line of Python code. We then looked at examples of how to create interactive histograms, bar charts, line charts, scatter plots, bubble charts, and heatmaps. We hope that the ease with which we were able to create all of these makes you strongly consider incorporating interactive visualizations into your analytical workflow."
   ]
  },
  {
   "cell_type": "markdown",
   "metadata": {},
   "source": [
    "# iPyWidgets"
   ]
  },
  {
   "cell_type": "markdown",
   "metadata": {},
   "source": [
    "In the last lesson, we covered how to make interactive, Javascript-based visualizations using Python and the plotly and cufflinks libraries. This provided us with the ability to hover over the plot points in the chart to see the values, and it also enabled us to include and exclude groups from the visualization by simply clicking on them in the legend.\n",
    "\n",
    "The interactivity doesn't have to stop there. In this lesson, we are going learn how to make our visualizations even more interactive via the use of widgets such as sliders, drop-down boxes, check boxes, and text boxes. These widgets are going to control aspects of the information that get passed to our visualizations. Using these widgets to change values is going to cause the visualizations to change themselves. We will be using these widgets to extend the interactivity of charts generated with plotly and cufflinks.\n",
    "\n",
    "To incorporate widgets into our visualizations, we will need to ensure that we have the iPyWidgets library installed."
   ]
  },
  {
   "cell_type": "code",
   "execution_count": null,
   "metadata": {},
   "outputs": [],
   "source": [
    "# $ pip install ipywidgets\n",
    "# jupyter labextension install @jupyter-widgets/jupyterlab-manager"
   ]
  },
  {
   "cell_type": "markdown",
   "metadata": {},
   "source": [
    "Let's also go ahead and import everything we are going to need for this lesson."
   ]
  },
  {
   "cell_type": "code",
   "execution_count": null,
   "metadata": {},
   "outputs": [],
   "source": [
    "import chart_studio.plotly as py\n",
    "import cufflinks as cf\n",
    "import pandas as pd\n",
    "%matplotlib inline\n",
    "from ipywidgets import interact\n",
    "from ipywidgets import interact, interactive, fixed, interact_manual\n",
    "import ipywidgets as widgets\n",
    "\n",
    "cf.go_offline()"
   ]
  },
  {
   "cell_type": "markdown",
   "metadata": {},
   "source": [
    "Finally, for this lesson we will continue using the same churn data set that we used for the plotly and cufflinks lesson, so make sure that is imported as well."
   ]
  },
  {
   "cell_type": "markdown",
   "metadata": {},
   "source": [
    "### The Interact Decorator"
   ]
  },
  {
   "cell_type": "markdown",
   "metadata": {},
   "source": [
    "IPyWidgets library has a variety of functionality for creating interactive widgets, but the interact decorator is both the easiest way to get started and the most useful, so we will be focusing it for this lesson.\n",
    "\n",
    "The interact decorator accepts a few different types of inputs, and the format of those inputs determines the type of widget that is displayed.\n",
    "\n",
    "- Slider: a numeric value, (min, max), or (min, max, step)\n",
    "- Drop-Down Box: a list or dictionary\n",
    "- Check Box: True or False values\n",
    "- Text Box: a string enclosed in quotes\n",
    "\n",
    "We will see examples of each of these in the sections below, both individually and then all together."
   ]
  },
  {
   "cell_type": "markdown",
   "metadata": {},
   "source": [
    "## Interactive Sliders\n",
    "\n",
    "One of the most useful types of widgets you can use for numeric variables is the slider. Sliders allow you to modify numeric inputs that are fed to your visualizations.\n",
    "\n",
    "We can see a basic example of this with the histogram below. One of the challenges of working with histograms is determining an appropriate number of bins. Widgets can help us with this by allowing us to quickly and easily view different numbers of bins without having to manually input them into our code and regenerate the visualization.\n",
    "\n",
    "We can use the interact decorator to create a slider widget where we specify a range of bins (from as few as 8 to as many as there are unique tenures). Then, we can simply define a hist function (it really doesn't matter what you name it) that accepts the dynamic number of bins and plugs them in to a plotly histogram so that the number of bins in the visualization updates as you modify the values with the slider."
   ]
  },
  {
   "cell_type": "code",
   "execution_count": null,
   "metadata": {},
   "outputs": [],
   "source": [
    "@interact(bins = (8, len(df['tenure'].unique())))\n",
    "def hist(bins):\n",
    "    df['tenure'].iplot(kind='hist', bins=bins, title='Tenure Distribution')"
   ]
  },
  {
   "cell_type": "markdown",
   "metadata": {},
   "source": [
    "### Interactive Drop-Down Boxes\n",
    "Another useful widget when you have the same visualization that you'd like to view for either different fields or for different field values is the drop-down box. To generate one, we can pass a list to our interact decorator consisting of the fields we would like to be able to choose from. We can then define a linechart function that accepts the input we have chosen from the drop-down box, pivots our data set so that the columns represent the categorical values in the field we have chosen, and then generates a plotly line chart with lines showing changes in churn rate for each category."
   ]
  },
  {
   "cell_type": "code",
   "execution_count": null,
   "metadata": {},
   "outputs": [],
   "source": [
    "@interact(Selection=['gender', 'SeniorCitizen', 'Partner', \n",
    "                     'Dependents', 'InternetService', 'PaymentMethod'])\n",
    "\n",
    "def linechart(Selection):\n",
    "    data = df.pivot_table(values='ChurnBinary', columns=Selection,\n",
    "                            index='tenure', aggfunc='mean').reset_index()\n",
    "\n",
    "    data.iplot(kind='line', x='tenure', xTitle='Tenure', \n",
    "               yTitle='Avg. Churn Rate', title='Avg. Churn Rate by ' + Selection.title())"
   ]
  },
  {
   "cell_type": "markdown",
   "metadata": {},
   "source": [
    "As you can see, having the check box where we can choose the field we want to see saves us from having to jump back into the code, create a pivot table for the specific field, and then regenerate the visualization. This has the potential to save us a significant amount of time in our data exploration workflow.\n",
    "\n",
    "Let's look at another example where we use multiple checkboxes to filter our data down to a point where we can investigate it at a granular level.\n",
    "\n",
    "Below, we are creating 4 different drop-down boxes containing the unique categorical values in the gender, Partner, InternetService, and PaymentMethod fields respectively. We then define a scatter function where we filter our data down by the values chosen in each of the drop-down boxes and then generate a scatter plot that plots how much each customer is charged by their tenure and color codes the points by the type of contract they have."
   ]
  },
  {
   "cell_type": "code",
   "execution_count": null,
   "metadata": {},
   "outputs": [],
   "source": [
    "@interact(Gender=list(df['gender'].unique()), \n",
    "          Partner=list(df['Partner'].unique()),\n",
    "          Internet=list(df['InternetService'].unique()), \n",
    "          Payment=list(df['PaymentMethod'].unique())\n",
    "         )\n",
    "\n",
    "def scatter(Gender, Partner, Internet, Payment):\n",
    "    data = df[(df['gender']==Gender) & \n",
    "              (df['Partner']==Partner) & \n",
    "              (df['InternetService']==Internet) & \n",
    "              (df['PaymentMethod']==Payment)]\n",
    "\n",
    "    data.iplot(kind='scatter', x='tenure', y='MonthlyCharges', \n",
    "               categories='Contract', text='customerID', \n",
    "               xTitle='Tenure', yTitle='Monthly Charges',\n",
    "               title='Charges vs. Tenure')"
   ]
  },
  {
   "cell_type": "markdown",
   "metadata": {},
   "source": [
    "Note that we added a text argument to our iplot method that will show us each customer's customerID in addition to the monthly amount they are paying when we hover over the data points."
   ]
  },
  {
   "cell_type": "markdown",
   "metadata": {},
   "source": [
    "### Interactive Check Boxes\n",
    "Interactive check boxes can also help you explore a data set, especially when there are binary fields whose impact you'd like to visualize. The way to do this is to map whether the check box is checked to a corresponding condition for the binary field. Once that is done, you'd just need to filter the data set based on those conditions.\n",
    "\n",
    "Below is an example that does exactly this. The interact decorator has two True/False arguments which it will render as check boxes - one for Senior and one for PhoneService. Inside our barchart function, we write some conditional statements that will translate those True/False options into conditions that we can use to filter our data. We then apply those filters and group the data by PaymentMethod, calculating the average churn rate for each. Finally, we generate a bar chart that displays the average churn rate for each payment method based on the filters applied via the check boxes."
   ]
  },
  {
   "cell_type": "code",
   "execution_count": null,
   "metadata": {},
   "outputs": [],
   "source": [
    "@interact(Senior=True, PhoneService=False)\n",
    "\n",
    "def barchart(Senior, PhoneService):\n",
    "    if Senior==True:\n",
    "        senior = df['SeniorCitizen']==1\n",
    "    else:\n",
    "        senior = df['SeniorCitizen']==0\n",
    "    \n",
    "    if PhoneService==True:\n",
    "        phone = df['PhoneService']=='Yes'\n",
    "    else:\n",
    "        phone = df['PhoneService']=='No'\n",
    "    \n",
    "    data = df[(senior) & (phone)].groupby('PaymentMethod').agg({'ChurnBinary':'mean'}).reset_index()\n",
    "    \n",
    "    data.iplot(kind='bar', x='PaymentMethod', xTitle='Payment Method',\n",
    "               yTitle='Avg. Churn Rate', color='blue', \n",
    "               title='Churn Rate by Payment Method')"
   ]
  },
  {
   "cell_type": "markdown",
   "metadata": {},
   "source": [
    "### Interactive Text Boxes\n",
    "\n",
    "The last type of widget we are going to cover in this lesson is the interactive text box. These are good for filtering when you have categorical variables that are different but have some string in common. For example, the PaymentMethod field in our data set has four unique values.\n"
   ]
  },
  {
   "cell_type": "code",
   "execution_count": null,
   "metadata": {},
   "outputs": [],
   "source": [
    "import numpy as np"
   ]
  },
  {
   "cell_type": "code",
   "execution_count": null,
   "metadata": {},
   "outputs": [],
   "source": [
    "df['PaymentMethod'].unique()\n",
    "\n",
    "np.array(['Electronic check', 'Mailed check', 'Bank transfer (automatic)',\n",
    "       'Credit card (automatic)'], dtype=object)"
   ]
  },
  {
   "cell_type": "code",
   "execution_count": null,
   "metadata": {},
   "outputs": [],
   "source": [
    "@interact(Payment='')\n",
    "\n",
    "def chart(Payment):\n",
    "    data = df[df['PaymentMethod'].str.contains(Payment)]\n",
    "    data = data.groupby('tenure').agg({'MonthlyCharges':'sum'}).reset_index()\n",
    "    custom_dict = {'New': 0, 'Regular': 1, 'Loyal': 2, 'Very Loyal' : 3}  \n",
    "    data = data.iloc[data['tenure'].map(custom_dict).argsort()].set_index('tenure')\n",
    "    \n",
    "    data.iplot(kind='bar', xTitle='Values')"
   ]
  },
  {
   "cell_type": "markdown",
   "metadata": {},
   "source": [
    "Notice that there are similarities between pairs of these unique categories - two of them have the string 'check' in common and the other two have the string 'automatic' in common. We can use a text box to provide a flexible means by which we can visualize any of these options based on the unique strings they contain or groups of them based on their co-occurring strings.\n",
    "\n",
    "To do this, we will once again use the interact decorator, passing a Payment argument with a blank string. This will create a text box into which we can type any string we want. In our chart function, we will then filter our data set to just the payment methods that contain the string typed into the text box. We then aggregate, sort, and visualize as a bar chart."
   ]
  },
  {
   "cell_type": "markdown",
   "metadata": {},
   "source": [
    "## Summary"
   ]
  },
  {
   "cell_type": "markdown",
   "metadata": {},
   "source": [
    "In this lesson, we have introduced iPyWidgets and how we can use them to easily add more interactivity into our visualizations. We learned about the powerful interact decorator and covered examples of each type of widget (sliders, drop-down boxes, check boxes, and text boxes). We covered each of these individually, but there is nothing stopping you from combining several widgets to create very intricately interactive visualizations. In fact, we encourage you to challenge yourself to do so. You already have all the tools you need in your arsenal, and incorporating widgets into your analytical workflow can allow you to more easily explore your data and while saving you a significant amount of time."
   ]
  },
  {
   "cell_type": "code",
   "execution_count": null,
   "metadata": {},
   "outputs": [],
   "source": []
  }
 ],
 "metadata": {
  "colab": {
   "collapsed_sections": [],
   "name": "Interactive_Data_Visualisations.ipynb",
   "provenance": []
  },
  "kernelspec": {
   "display_name": "Python 3",
   "language": "python",
   "name": "python3"
  },
  "language_info": {
   "codemirror_mode": {
    "name": "ipython",
    "version": 3
   },
   "file_extension": ".py",
   "mimetype": "text/x-python",
   "name": "python",
   "nbconvert_exporter": "python",
   "pygments_lexer": "ipython3",
   "version": "3.7.4"
  }
 },
 "nbformat": 4,
 "nbformat_minor": 4
}
