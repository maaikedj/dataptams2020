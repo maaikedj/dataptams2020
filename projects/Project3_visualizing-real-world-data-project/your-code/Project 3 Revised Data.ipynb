{
 "cells": [
  {
   "cell_type": "code",
   "execution_count": null,
   "metadata": {},
   "outputs": [],
   "source": [
    "#importing necessary databases \n",
    "import pandas as pd\n",
    "import glob\n",
    "import matplotlib.pyplot as plt\n",
    "%matplotlib inline\n",
    "import numpy as np\n",
    "import seaborn as sns\n",
    "import os \n",
    "from functools import reduce"
   ]
  },
  {
   "cell_type": "code",
   "execution_count": null,
   "metadata": {},
   "outputs": [],
   "source": [
    "#importing indiegogo datasets\n",
    "indiegogo = pd.read_csv(r'C:\\Users\\Zuzanna\\Documents\\Git\\dataptams2020\\projects\\Project3_visualizing-real-world-data-project\\data\\indiegogo\\indiegogo.csv')\n",
    "indiegogo.head()"
   ]
  },
  {
   "cell_type": "code",
   "execution_count": null,
   "metadata": {},
   "outputs": [],
   "source": [
    "#explore data\n",
    "indiegogo.dtypes"
   ]
  },
  {
   "cell_type": "code",
   "execution_count": null,
   "metadata": {},
   "outputs": [],
   "source": [
    "#getting key error with plots \n",
    "for col in indiegogo.columns: \n",
    "    print(col) "
   ]
  },
  {
   "cell_type": "code",
   "execution_count": null,
   "metadata": {},
   "outputs": [],
   "source": [
    "#indiegogo['collected_percentage'] = indiegogo['collected_percentage'].astype(str)\n",
    "indiegogo['category_name'] = indiegogo['category_name'].astype(str)\n",
    "#indiegogo['currency_code'] = indiegogo['currency_code'].astype(str)"
   ]
  },
  {
   "cell_type": "code",
   "execution_count": null,
   "metadata": {},
   "outputs": [],
   "source": [
    "#importing kickstarter datasets \n",
    "#path = r'C:\\Users\\Zuzanna\\Documents\\Git\\dataptams2020\\projects\\Project3_visualizing-real-world-data-project\\data\\kickstarter\\kickstarter.csv'\n",
    "#kickstarter = pd.read_csv(r'C:\\Users\\Zuzanna\\Documents\\Git\\dataptams2020\\projects\\Project3_visualizing-real-world-data-project\\data\\kickstarter\\kickstarter.csv',  encoding='utf-16')\n",
    "#error: UTF-16 stream does not start with BOM\n",
    "#with open(path, 'rb') as f:\n",
    "  #contents = f.read()\n",
    "#change approach --> save as xls file \n",
    "kickstarter = pd.read_excel(r'C:\\Users\\Zuzanna\\Documents\\Git\\dataptams2020\\projects\\Project3_visualizing-real-world-data-project\\data\\kickstarter\\kickstarter.xlsx')\n",
    "kickstarter.head()"
   ]
  },
  {
   "cell_type": "code",
   "execution_count": null,
   "metadata": {},
   "outputs": [],
   "source": [
    "kickstarter.info"
   ]
  },
  {
   "cell_type": "code",
   "execution_count": null,
   "metadata": {},
   "outputs": [],
   "source": [
    "#getting key error with plots \n",
    "for col in kickstarter.columns: \n",
    "    print(col) "
   ]
  },
  {
   "cell_type": "code",
   "execution_count": null,
   "metadata": {},
   "outputs": [],
   "source": [
    "#kickstarter - Category visualization: number of projects per category \n",
    "#barplot\n",
    "kickstarter['category'].value_counts().plot(kind='bar')\n",
    "kickstarter.reset_index()\n",
    "\n",
    "# Add labels to the plot and change xticks rotation\n",
    "plt.title('Kickstarter: Number of Projects per Category')\n",
    "plt.xlabel('Category')\n",
    "plt.ylabel('Number of projects')\n",
    "plt.xticks(rotation=20)\n",
    "\n",
    "# Show the plot\n",
    "plt.show"
   ]
  },
  {
   "cell_type": "code",
   "execution_count": null,
   "metadata": {},
   "outputs": [],
   "source": [
    "#indiegogo - Category vs Collected percentage\n",
    "fig, axs = plt.subplots(1,2, figsize=(15,10))\n",
    "x = indiegogo['category_name']\n",
    "y = indiegogo['collected_percentage']\n",
    "\n",
    "axs[0].plot(x, y)\n",
    "\n",
    "\n",
    "# Add labels, title, etc\n",
    "axs[0].set_title('Indiegogo: Category vs Success')\n",
    "axs[0].set_xlabel('Category')\n",
    "axs[0].set_ylabel('Collected percentage')\n",
    "plt.show()"
   ]
  },
  {
   "cell_type": "code",
   "execution_count": null,
   "metadata": {},
   "outputs": [],
   "source": [
    "indiegogo['category_name'].value_counts().plot(kind='bar')"
   ]
  },
  {
   "cell_type": "code",
   "execution_count": null,
   "metadata": {},
   "outputs": [],
   "source": [
    "indiegogo['category_slug'].value_counts().plot(kind='bar')"
   ]
  },
  {
   "cell_type": "code",
   "execution_count": null,
   "metadata": {},
   "outputs": [],
   "source": [
    "#indiegogo - Category vs Currency code [country]\n",
    "fig, axs = plt.subplots(1,2, figsize=(15,10))\n",
    "x = indiegogo['category_name']\n",
    "y = indiegogo['currency_code']\n",
    "\n",
    "axs[0].plot(x, y)\n",
    "\n",
    "\n",
    "# Add labels, title, etc\n",
    "axs[0].set_title('Indiegogo: Category vs Currency Code ')\n",
    "axs[0].set_xlabel('Category')\n",
    "axs[0].set_ylabel('Currency Code')\n",
    "plt.show()"
   ]
  },
  {
   "cell_type": "code",
   "execution_count": null,
   "metadata": {},
   "outputs": [],
   "source": [
    "#indiegogo - Category vs Collected percentage\n",
    "#fig, axs = plt.subplots(1,2, figsize=(100,10))\n",
    "#x = indiegogo['collected_percentage']\n",
    "#y = indiegogo['currency_code']\n",
    "\n",
    "#axs[0].plot(x, y)\n",
    "\n",
    "\n",
    "# Add labels, title, etc\n",
    "#axs[0].set_title('Indiegogo: Currency vs Success')\n",
    "#axs[0].set_ylabel('Currency')\n",
    "#axs[0].set_xlabel('Collected percentage')\n",
    "#plt.show()"
   ]
  },
  {
   "cell_type": "code",
   "execution_count": null,
   "metadata": {},
   "outputs": [],
   "source": [
    "#import seaborn as sns\n",
    "sns.set(style=\"whitegrid\")\n",
    "ax = sns.swarmplot(x=\"collected_percentage\", y= \"currency_code\", data=indiegogo)"
   ]
  },
  {
   "cell_type": "code",
   "execution_count": null,
   "metadata": {},
   "outputs": [],
   "source": [
    "sns.catplot(x=\"currency_code\", y=\"balance\", kind=\"box\", data=indiegogo);"
   ]
  },
  {
   "cell_type": "code",
   "execution_count": null,
   "metadata": {},
   "outputs": [],
   "source": [
    "#indiegogo = indiegogo.explode('collected_percentage')\n",
    "#indiegogo['collected_percentage'] = indiegogo['collected_percentage'].astype('float')\n",
    "#sns.violinplot(x=\"collected_percentage\", y= \"currency_code\", data=indiegogo)"
   ]
  },
  {
   "cell_type": "code",
   "execution_count": null,
   "metadata": {},
   "outputs": [],
   "source": [
    "#sns.set(style=\"whitegrid\")\n",
    "#ax = sns.barplot(x=\"category\", y= \"pledged\", data=kickstarter)"
   ]
  },
  {
   "cell_type": "code",
   "execution_count": null,
   "metadata": {},
   "outputs": [],
   "source": [
    "sns.factorplot(x=\"category_name\", y= \"pledged\", data=kickstarter)"
   ]
  },
  {
   "cell_type": "code",
   "execution_count": null,
   "metadata": {},
   "outputs": [],
   "source": [
    "sns.catplot(x=\"balance\", y=\"nearest_five_percent\", hue=\"category_name\", kind=\"swarm\", data=indiegogo)"
   ]
  },
  {
   "cell_type": "code",
   "execution_count": null,
   "metadata": {},
   "outputs": [],
   "source": []
  }
 ],
 "metadata": {
  "kernelspec": {
   "display_name": "Python 3",
   "language": "python",
   "name": "python3"
  },
  "language_info": {
   "codemirror_mode": {
    "name": "ipython",
    "version": 3
   },
   "file_extension": ".py",
   "mimetype": "text/x-python",
   "name": "python",
   "nbconvert_exporter": "python",
   "pygments_lexer": "ipython3",
   "version": "3.7.6"
  }
 },
 "nbformat": 4,
 "nbformat_minor": 4
}
