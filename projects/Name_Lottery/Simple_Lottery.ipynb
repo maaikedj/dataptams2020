{
 "cells": [
  {
   "cell_type": "code",
   "execution_count": null,
   "metadata": {},
   "outputs": [],
   "source": [
    "import random\n",
    "import time\n",
    "import pandas as pd"
   ]
  },
  {
   "cell_type": "code",
   "execution_count": null,
   "metadata": {},
   "outputs": [],
   "source": [
    "qualified = pd.read_excel('data/List_v2.xlsx')\n",
    "count_names = len(qualified['Pers.No.'])\n",
    "list_names = [name for name in qualified['Full_Name']]"
   ]
  },
  {
   "cell_type": "code",
   "execution_count": null,
   "metadata": {},
   "outputs": [],
   "source": [
    "print('\\n', count_names, *list_names, sep='\\n')"
   ]
  },
  {
   "cell_type": "code",
   "execution_count": null,
   "metadata": {},
   "outputs": [],
   "source": [
    "winner1 = random.choice(list_names)\n",
    "print('=========================')\n",
    "print('\\nThe FIRST winner is: \\n')\n",
    "print('=========================')\n",
    "print('=============================')\n",
    "print(winner1, '\\nCongratulations!\\n')\n",
    "print('=============================')\n",
    "list_names.remove(winner1)"
   ]
  },
  {
   "cell_type": "code",
   "execution_count": null,
   "metadata": {},
   "outputs": [],
   "source": [
    "winner2 = random.choice(list_names)\n",
    "print('\\n')\n",
    "print('\\n')\n",
    "print('==========================')\n",
    "print('\\nThe SECOND winner is: \\n')\n",
    "print('==========================')\n",
    "print('\\n')\n",
    "print('=============================')\n",
    "print(winner2, '\\nCongratulations!\\n')\n",
    "print('=============================')\n",
    "print('\\n')\n",
    "list_names.remove(winner2)"
   ]
  },
  {
   "cell_type": "code",
   "execution_count": null,
   "metadata": {},
   "outputs": [],
   "source": []
  },
  {
   "cell_type": "code",
   "execution_count": null,
   "metadata": {},
   "outputs": [],
   "source": [
    "winner3 = random.choice(list_names)\n",
    "print('\\n')\n",
    "print('\\n')\n",
    "print('=========================')\n",
    "print('\\nThe THIRD winner is: \\n')\n",
    "print('=========================')\n",
    "print('\\n')\n",
    "print('\\n')\n",
    "print('\\n')\n",
    "print(winner3)"
   ]
  },
  {
   "cell_type": "code",
   "execution_count": null,
   "metadata": {},
   "outputs": [],
   "source": []
  }
 ],
 "metadata": {
  "kernelspec": {
   "display_name": "Python 3",
   "language": "python",
   "name": "python3"
  },
  "language_info": {
   "codemirror_mode": {
    "name": "ipython",
    "version": 3
   },
   "file_extension": ".py",
   "mimetype": "text/x-python",
   "name": "python",
   "nbconvert_exporter": "python",
   "pygments_lexer": "ipython3",
   "version": "3.7.6"
  }
 },
 "nbformat": 4,
 "nbformat_minor": 4
}
