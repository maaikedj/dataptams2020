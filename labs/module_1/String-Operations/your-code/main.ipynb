{
 "cells": [
  {
   "cell_type": "markdown",
   "metadata": {},
   "source": [
    "# Before your start:\n",
    "- Read the README.md file\n",
    "- Comment as much as you can and use the resources in the README.md file\n",
    "- Happy learning!"
   ]
  },
  {
   "cell_type": "code",
   "execution_count": 79,
   "metadata": {},
   "outputs": [],
   "source": [
    "import re"
   ]
  },
  {
   "cell_type": "markdown",
   "metadata": {},
   "source": [
    "# Challenge 1 - Combining Strings\n",
    "\n",
    "Combining strings is an important skill to acquire. There are multiple ways of combining strings in Python, as well as combining strings with variables. We will explore this in the first challenge. In the cell below, combine the strings in the list and add spaces between the strings (do not add a space after the last string). Insert a period after the last string."
   ]
  },
  {
   "cell_type": "code",
   "execution_count": 1,
   "metadata": {},
   "outputs": [
    {
     "name": "stdout",
     "output_type": "stream",
     "text": [
      "Durante un tiempo no estuvo segura de si su marido era su marido\n"
     ]
    }
   ],
   "source": [
    "#Feedback Paolo: This list is printed out 3 times. Why?\n",
    "# Andrea: I used it to check the code, I have hidden them in notes\n",
    "str_list = ['Durante', 'un', 'tiempo', 'no', 'estuvo', 'segura', 'de', 'si', 'su', 'marido', 'era', 'su', 'marido']\n",
    "# Your code here:\n",
    "\n",
    "# Using for loop  \n",
    "new_string = \"\"\n",
    "space = \" \"\n",
    "for elem in str_list:\n",
    "    new_string += elem\n",
    "    new_string += space\n",
    "\n",
    "# print(new_string)\n",
    " \n",
    "# Using join   \n",
    "def listToString(str_list):  \n",
    "    \n",
    "    # initialize an empty string \n",
    "    str1 = \" \" \n",
    "    \n",
    "    # return string   \n",
    "    return (str1.join(str_list))     \n",
    "    \n",
    "# print(listToString(str_list))\n",
    "\n",
    "# Using join and list comprehension\n",
    "listToStr = ' '.join([str(elem) for elem in str_list]) \n",
    "print(listToStr)\n",
    "\n"
   ]
  },
  {
   "cell_type": "markdown",
   "metadata": {},
   "source": [
    "In the cell below, use the list of strings to create a grocery list. Start the list with the string `Grocery list: ` and include a comma and a space between each item except for the last one. Include a period at the end. Only include foods in the list that start with the letter 'b' and ensure all foods are lower case."
   ]
  },
  {
   "cell_type": "code",
   "execution_count": 15,
   "metadata": {},
   "outputs": [
    {
     "name": "stdout",
     "output_type": "stream",
     "text": [
      "bananas,  bread,  brownie mix,  broccoli,  \n"
     ]
    }
   ],
   "source": [
    "#Feedback Paolo: did you check the output? There are also letters \n",
    "# the start without b in your output\n",
    "food_list = ['Bananas', 'Chocolate', 'bread', 'diapers', 'Ice Cream', 'Brownie Mix', 'broccoli']\n",
    "# Your code here:\n",
    "\n",
    "#removing products starting with B\n",
    "check_B =\"B\"\n",
    "check_b =\"b\"\n",
    "\n",
    "Grocery_list = [sku for sku in food_list if sku[0] == check_B or sku[0] == check_b] \n",
    "\n",
    "# creating a string\n",
    "comma =\", \"\n",
    "Grocery_str = \"\"\n",
    "space = \" \"\n",
    "\n",
    "for elem in Grocery_list:  \n",
    "    Grocery_str += elem\n",
    "    Grocery_str += comma    \n",
    "    Grocery_str += space\n",
    "\n",
    "    \n",
    "print(Grocery_str.lower())\n",
    "\n"
   ]
  },
  {
   "cell_type": "code",
   "execution_count": 42,
   "metadata": {},
   "outputs": [
    {
     "data": {
      "text/plain": [
       "['bananas', 'bread', 'brownie', 'broccoli']"
      ]
     },
     "execution_count": 42,
     "metadata": {},
     "output_type": "execute_result"
    }
   ],
   "source": [
    "#Andrea: same as above but using RE\n",
    "food_list = ['Bananas', 'Chocolate', 'bread', 'diapers', 'Ice Cream', 'Brownie Mix', 'broccoli']\n",
    "\n",
    "comma =\", \"\n",
    "Grocery_str = \"\"\n",
    "space = \" \"\n",
    "\n",
    "for elem in food_list:  \n",
    "    Grocery_str += elem\n",
    "    Grocery_str += comma    \n",
    "    Grocery_str += space\n",
    "     \n",
    "Grocery_str_low = Grocery_str.lower()\n",
    "        \n",
    "# pattern\n",
    "# r' a character following a backslash is included in the string without change, and all backslashes are left in the string\n",
    "# \\b matches at the beginning or at the end of a string\n",
    "# \\w retrieve only the alphabetical and numeric characters and underscores\n",
    "\n",
    "# re.findall(r'\\b[bB]\\w+', Grocery_str)\n",
    "  \n",
    "re.findall(r'\\b[bB]\\w+', Grocery_str_low)\n",
    "\n",
    "\n"
   ]
  },
  {
   "cell_type": "markdown",
   "metadata": {},
   "source": [
    "In the cell below, write a function that computes the area of a circle using its radius. Compute the area of the circle and insert the radius and the area between the two strings. Make sure to include spaces between the variable and the strings. \n",
    "\n",
    "Note: You can use the techniques we have learned so far or use f-strings. F-strings allow us to embed code inside strings. You can read more about f-strings [here](https://www.python.org/dev/peps/pep-0498/)."
   ]
  },
  {
   "cell_type": "code",
   "execution_count": 47,
   "metadata": {},
   "outputs": [
    {
     "name": "stdout",
     "output_type": "stream",
     "text": [
      "The area of the circle with radius 4.5 is 63.60525\n"
     ]
    }
   ],
   "source": [
    "import math\n",
    "\n",
    "string1 = \"The area of the circle with radius\"\n",
    "string2  = \"is\"\n",
    "radius = 4.5\n",
    "\n",
    "def calculateArea(radius):\n",
    "    pi = 3.141\n",
    "    area = (pi * (radius ** 2))\n",
    "    return area\n",
    "\n",
    "# area = calculateArea(1)\n",
    "\n",
    "area = calculateArea(radius)\n",
    "\n",
    "# print(area)\n",
    "\n",
    "print(string1, radius, string2, area)\n",
    "\n",
    "\n",
    "#     This function takes a radius and returns the area of a circle. \n",
    "#     We also pass a default value for pi.\n",
    "    \n",
    "#     Input: Float (and default value for pi)\n",
    "#     Output: Float\n",
    "    \n",
    "#     Sample input: 5.0\n",
    "#     Sample Output: 78.53981633\n",
    "#     \"\"\"\n",
    "    \n",
    "    # Your code here:\n",
    "\n",
    "    # x =input('Provide the value of the Radius')\n",
    "\n",
    "\n",
    "\n",
    "# Your output string here:\n",
    "# Feedback Paolo: Did you check the output? The area of circle with radius 4.5 is \n",
    "# not 3.41."
   ]
  },
  {
   "cell_type": "markdown",
   "metadata": {},
   "source": [
    "# Challenge 2 - Splitting Strings\n",
    "\n",
    "We have first looked at combining strings into one long string. There are times where we need to do the opposite and split the string into smaller components for further analysis. \n",
    "\n",
    "In the cell below, split the string into a list of strings using the space delimiter. Count the frequency of each word in the string in a dictionary. Strip the periods, line breaks and commas from the text. Make sure to remove empty strings from your dictionary."
   ]
  },
  {
   "cell_type": "code",
   "execution_count": 60,
   "metadata": {},
   "outputs": [
    {
     "name": "stdout",
     "output_type": "stream",
     "text": [
      "{'Some': 2, 'say': 3, 'the': 1, 'world': 1, 'will': 1, 'end': 1, 'in': 3, 'fire': 2, 'ice': 4, 'From': 1, 'what': 1, 'I': 5, 've': 1, 'tasted': 1, 'of': 2, 'desire': 1, 'hold': 1, 'with': 1, 'those': 1, 'who': 1, 'favor': 1, 'But': 1, 'if': 1, 'it': 2, 'had': 1, 'to': 1, 'perish': 1, 'twice': 1, 'think': 1, 'know': 1, 'enough': 1, 'hate': 1, 'To': 1, 'that': 1, 'for': 1, 'destruction': 1, 'Is': 1, 'also': 1, 'great': 1, 'And': 1, 'would': 1, 'suffice': 1}\n"
     ]
    }
   ],
   "source": [
    "#Feedback Paolo: Did you check the intermediate steps of the code?\n",
    "# The output is wrong. For example 'Some' has occurence 2, but your output gives\n",
    "# occurence of 6. Did you check the output?\n",
    "poem = \"\"\"Some say the world will end in fire,\n",
    "Some say in ice.\n",
    "From what I’ve tasted of desire\n",
    "I hold with those who favor fire.\n",
    "But if it had to perish twice,\n",
    "I think I know enough of hate\n",
    "To say that for destruction ice\n",
    "Is also great\n",
    "And would suffice.\"\"\"\n",
    "\n",
    "# Your code here:\n",
    "    \n",
    "# create a list of the words using regex\n",
    "\n",
    "poem_list = re.findall('\\w+',poem)\n",
    "# print(poem_list)\n",
    "\n",
    "# create a list with the frequency of each word by 1. using regex to create a list of each word and 2. measuring the lenght of each list\n",
    "\n",
    "word_frequency = [len(re.findall(word,poem)) for word in poem_list]\n",
    "# print(word_frequency)\n",
    "\n",
    "# combine the two lists in a dictionary\n",
    "poem_dic = {k:v for (k,v) in zip(poem_list,word_frequency)}\n",
    "print(poem_dic)\n",
    "\n"
   ]
  },
  {
   "cell_type": "markdown",
   "metadata": {},
   "source": [
    "In the cell below, find all the words that appear in the text and do not appear in the blacklist. You must parse the string but can choose any data structure you wish for the words that do not appear in the blacklist. Remove all non letter characters and convert all words to lower case."
   ]
  },
  {
   "cell_type": "code",
   "execution_count": 65,
   "metadata": {},
   "outputs": [
    {
     "name": "stdout",
     "output_type": "stream",
     "text": [
      "{'had', 'grow', 'night', 'apple', 'glad', 'smiles', 'beneath', 'tree', 'both', 'did', 'friend', 'day', 'beheld', 'when', 'morning', 'outstretched', 'veild', 'was', 'pole', 'he', 'deceitful', 'soft', 'bore', 'told', 'that', 'till', 'bright', 'foe', 'not', 'shine', 'knew', 'sunned', 'waterd', 'tears', 'into', 'angry', 'with', 'end', 'my', 'i', 'stole', 'wrath', 'fears', 'see', 'grew', 'garden', 'mine', 'wiles'}\n"
     ]
    }
   ],
   "source": [
    "blacklist = ['and', 'as', 'an', 'a', 'the', 'in', 'it']\n",
    "\n",
    "poem = \"\"\"I was angry with my friend; \n",
    "I told my wrath, my wrath did end.\n",
    "I was angry with my foe: \n",
    "I told it not, my wrath did grow. \n",
    "\n",
    "And I waterd it in fears,\n",
    "Night & morning with my tears: \n",
    "And I sunned it with smiles,\n",
    "And with soft deceitful wiles. \n",
    "\n",
    "And it grew both day and night. \n",
    "Till it bore an apple bright. \n",
    "And my foe beheld it shine,\n",
    "And he knew that it was mine. \n",
    "\n",
    "And into my garden stole, \n",
    "When the night had veild the pole; \n",
    "In the morning glad I see; \n",
    "My foe outstretched beneath the tree.\"\"\"\n",
    "\n",
    "# Your code here:\n",
    "\n",
    "# Set all strings lower case and use regex to create a list of all words\n",
    "poem_lower = poem.lower()\n",
    "poem_list = re.findall('\\w+',poem_lower)\n",
    "\n",
    "# convert both lists in sets\n",
    "poem_set = set (poem_list) # Paolo use of set, great!\n",
    "black_set = set(blacklist)\n",
    "\n",
    "# print(poem_set)\n",
    "# print(black_set)\n",
    "\n",
    "text_not_black = poem_set - black_set\n",
    "\n",
    "print(text_not_black)\n",
    "#Feedback Paolo: good work but you could improve on quality \n",
    "# in the print out of text_not_blak there\n",
    "# are unwanted characters like 'tree]', the ']' should not be there"
   ]
  },
  {
   "cell_type": "markdown",
   "metadata": {},
   "source": [
    "# Challenge 3 - Regular Expressions\n",
    "\n",
    "Sometimes, we would like to perform more complex manipulations of our string. This is where regular expressions come in handy. In the cell below, return all characters that are upper case from the string specified below."
   ]
  },
  {
   "cell_type": "code",
   "execution_count": null,
   "metadata": {},
   "outputs": [],
   "source": [
    "poem = \"\"\"The apparition of these faces in the crowd;\n",
    "Petals on a wet, black bough.\"\"\"\n",
    "\n",
    "# Your code here:\n",
    "\n",
    "print(re.findall('[A-Z]', poem))\n",
    "\n",
    "#Feedback Paolo: good work!"
   ]
  },
  {
   "cell_type": "markdown",
   "metadata": {},
   "source": [
    "In the cell below, filter the list provided and return all elements of the list containing a number. To filter the list, use the `re.search` function. Check if the function does not return `None`. You can read more about the `re.search` function [here](https://docs.python.org/3/library/re.html)."
   ]
  },
  {
   "cell_type": "code",
   "execution_count": 108,
   "metadata": {},
   "outputs": [
    {
     "name": "stdout",
     "output_type": "stream",
     "text": [
      "['123abc', 'abc123', 'JohnSmith1', 'ABBY4']\n"
     ]
    }
   ],
   "source": [
    "data = ['123abc', 'abc123', 'JohnSmith1', 'ABBY4']\n",
    "# data = ['123abc', 'abc123', 'JohnSmith1', 'ABBY4', 'JANE']\n",
    "\n",
    "# Using re.search to check if the element contain a number, if not and the output is none, signaling it\n",
    "new_data =[]\n",
    "\n",
    "for entry in data:\n",
    "    if re.search(\"[0-9]\", entry):\n",
    "       new_data.append(entry)\n",
    "    else:\n",
    "        print(\"Some of the elements contain no numbers\")\n",
    "\n",
    "print(new_data)\n",
    "\n",
    "# I could not find a way to do it with list comprehension\n",
    "\n",
    "#Feedback Paolo: good work, althogh you do not check for None condition"
   ]
  },
  {
   "cell_type": "markdown",
   "metadata": {},
   "source": [
    "# Bonus Challenge - Regular Expressions II\n",
    "\n",
    "In the cell below, filter the list provided to keep only strings containing at least one digit and at least one lower case letter. As in the previous question, use the `re.search` function and check that the result is not `None`.\n",
    "\n",
    "To read more about regular expressions, check out [this link](https://developers.google.com/edu/python/regular-expressions)."
   ]
  },
  {
   "cell_type": "code",
   "execution_count": 109,
   "metadata": {},
   "outputs": [
    {
     "name": "stdout",
     "output_type": "stream",
     "text": [
      "Some of the elements contain no numbers\n",
      "Some of the elements contain no lower case\n",
      "['123abc', 'abc123', 'JohnSmith1']\n"
     ]
    }
   ],
   "source": [
    "data = ['123abc', 'abc123', 'JohnSmith1', 'ABBY4', 'JANE']\n",
    "# Your code here:\n",
    "\n",
    "# Using list comprehension and regular expressions - I could not find out how to put two conditions in RE\n",
    "# new_data = [entry for entry in data if re.search(\"[0-9]\", entry)] \n",
    "# new_data_l = [entry_l for entry_l in new_data if re.search(\"[a-z]\", entry_l)] \n",
    "\n",
    "new_data =[]\n",
    "\n",
    "for entry in data:\n",
    "    if re.search(\"[0-9]\", entry):\n",
    "       new_data.append(entry)\n",
    "    else:\n",
    "        print(\"Some of the elements contain no numbers\")\n",
    "\n",
    "new_data_l =[]\n",
    "\n",
    "for entry in new_data:\n",
    "    if re.search(\"[a-z]\", entry):\n",
    "       new_data_l.append(entry)\n",
    "    else:\n",
    "        print(\"Some of the elements contain no lower case\")\n",
    "\n",
    "print(new_data_l)\n",
    "\n",
    "\n",
    "# Feedback Paolo: Good work, although you do not check for None condition"
   ]
  },
  {
   "cell_type": "code",
   "execution_count": null,
   "metadata": {},
   "outputs": [],
   "source": []
  }
 ],
 "metadata": {
  "kernelspec": {
   "display_name": "Python 3",
   "language": "python",
   "name": "python3"
  },
  "language_info": {
   "codemirror_mode": {
    "name": "ipython",
    "version": 3
   },
   "file_extension": ".py",
   "mimetype": "text/x-python",
   "name": "python",
   "nbconvert_exporter": "python",
   "pygments_lexer": "ipython3",
   "version": "3.7.6"
  }
 },
 "nbformat": 4,
 "nbformat_minor": 4
}
