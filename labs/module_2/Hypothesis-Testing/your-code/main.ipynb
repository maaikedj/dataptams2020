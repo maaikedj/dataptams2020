{
 "cells": [
  {
   "cell_type": "markdown",
   "metadata": {
    "Collapsed": "false"
   },
   "source": [
    "# Before your start:\n",
    "- Read the README.md file\n",
    "- Comment as much as you can and use the resources (README.md file)\n",
    "- Happy learning!"
   ]
  },
  {
   "cell_type": "code",
   "execution_count": null,
   "metadata": {
    "Collapsed": "false"
   },
   "outputs": [],
   "source": [
    "import pandas as pd\n",
    "import numpy as np\n",
    "import seaborn as sns\n",
    "from scipy import stats\n",
    "from scipy.stats import ttest_1samp\n",
    "\n",
    "from scipy.stats import t\n",
    "import matplotlib.pyplot as plt\n"
   ]
  },
  {
   "cell_type": "markdown",
   "metadata": {
    "Collapsed": "false"
   },
   "source": [
    "# Challenge 1 - Exploring the Data\n",
    "\n",
    "In this challenge, we will examine all salaries of employees of the City of Chicago. We will start by loading the dataset and examining its contents. Load the data from [here](https://drive.google.com/file/d/1AmdvTSj5Fl86i4uHiOnZPFg8S8mAIreA/view?usp=sharing) and place it in the data folder"
   ]
  },
  {
   "cell_type": "code",
   "execution_count": null,
   "metadata": {
    "Collapsed": "false"
   },
   "outputs": [],
   "source": [
    "# Your code here:\n",
    "salaries = pd.read_csv('../data/Current_Employee_Names__Salaries__and_Position_Titles.csv')"
   ]
  },
  {
   "cell_type": "markdown",
   "metadata": {
    "Collapsed": "false"
   },
   "source": [
    "Examine the `salaries` dataset using the `head` function below."
   ]
  },
  {
   "cell_type": "code",
   "execution_count": null,
   "metadata": {
    "Collapsed": "false"
   },
   "outputs": [],
   "source": [
    "# Your code here:\n",
    "salaries.head()"
   ]
  },
  {
   "cell_type": "markdown",
   "metadata": {
    "Collapsed": "false"
   },
   "source": [
    "We see from looking at the `head` function that there is quite a bit of missing data. Let's examine how much missing data is in each column. Produce this output in the cell below"
   ]
  },
  {
   "cell_type": "code",
   "execution_count": null,
   "metadata": {
    "Collapsed": "false"
   },
   "outputs": [],
   "source": [
    "# Your code here:\n",
    "count = salaries[['Job Titles', 'Department', 'Full or Part-Time', 'Salary or Hourly', 'Typical Hours', 'Annual Salary', 'Hourly Rate']].isna().sum()\n",
    "count\n"
   ]
  },
  {
   "cell_type": "markdown",
   "metadata": {
    "Collapsed": "false"
   },
   "source": [
    "Let's also look at the count of hourly vs. salaried employees. Write the code in the cell below"
   ]
  },
  {
   "cell_type": "code",
   "execution_count": null,
   "metadata": {
    "Collapsed": "false"
   },
   "outputs": [],
   "source": [
    "# Your code here:\n",
    "\n",
    "salaries['Salary or Hourly'].value_counts()"
   ]
  },
  {
   "cell_type": "markdown",
   "metadata": {
    "Collapsed": "false"
   },
   "source": [
    "What this information indicates is that the table contains information about two types of employees - salaried and hourly. Some columns apply only to one type of employee while other columns only apply to another kind. This is why there are so many missing values. Therefore, we will not do anything to handle the missing values."
   ]
  },
  {
   "cell_type": "markdown",
   "metadata": {
    "Collapsed": "false"
   },
   "source": [
    "There are different departments in the city. List all departments and the count of employees in each department."
   ]
  },
  {
   "cell_type": "code",
   "execution_count": null,
   "metadata": {
    "Collapsed": "false"
   },
   "outputs": [],
   "source": [
    "# Your code here:\n",
    "\n",
    "salaries['Department'].value_counts()"
   ]
  },
  {
   "cell_type": "markdown",
   "metadata": {
    "Collapsed": "false"
   },
   "source": [
    "# Challenge 2 - Hypothesis Tests\n",
    "\n",
    "In this section of the lab, we will test whether the hourly wage of all hourly workers is significantly different from $30/hr. Import the correct one sample test function from scipy and perform the hypothesis test for a 95% two sided confidence interval."
   ]
  },
  {
   "cell_type": "code",
   "execution_count": null,
   "metadata": {
    "Collapsed": "false"
   },
   "outputs": [],
   "source": [
    "# Filtering all the Hourly Salaries employees from the dataframe\n",
    "\n",
    "hourly_salary = salaries.loc[salaries['Salary or Hourly'] == 'Hourly']\n",
    "sample_data = hourly_salary['Typical Hours']\n",
    "sample_data.mean() # Just to cross check later"
   ]
  },
  {
   "cell_type": "code",
   "execution_count": null,
   "metadata": {},
   "outputs": [],
   "source": [
    "# Null Hypothesis\n",
    "# Ho: the hourly wage of all hourly workers is equal to $30/hr\n",
    "# H0: μ =  30\n",
    "\n",
    "# Alternate Hypothesis\n",
    "# Ho: the hourly wage of all hourly workers is more than $30/hr\n",
    "# H1: μ != 30"
   ]
  },
  {
   "cell_type": "code",
   "execution_count": null,
   "metadata": {},
   "outputs": [],
   "source": [
    "# H0: μ =  30\n",
    "# H1: μ != 30\n",
    "\n",
    "# for 95% confidence interval\n",
    "alpha = 0.05\n",
    "\n",
    "sample_data = hourly_salary['Typical Hours']\n",
    "\n",
    "st, p = ttest_1samp(sample_data, 30)\n",
    "\n",
    "print('Statistic: ', st)\n",
    "# Since we are doing a 2 tailed t-test we are dividing p-value by 2.\n",
    "print('\\np-value: ', p/2)\n",
    "\n",
    "if p/2 <= alpha:\n",
    "    print(\"\\nNull hypothesis rejected\")\n",
    "    if st < 0:\n",
    "        print(\"\\nThe mean hourly wage of all hourly workers is less than $30/hr\")\n",
    "    else: \n",
    "        print(\"\\nThe mean hourly wage of all hourly workers is more than $30/hr\")\n",
    "else:\n",
    "    print(\"\\nNull hypothesis can't be rejected\")"
   ]
  },
  {
   "cell_type": "markdown",
   "metadata": {
    "Collapsed": "false"
   },
   "source": [
    "We are also curious about salaries in the police force. The chief of police in Chicago claimed in a press briefing that salaries this year are higher than last year's mean of $86000/year a year for all salaried employees. Test this one sided hypothesis using a 95% confidence interval.\n",
    "\n",
    "Hint: A one tailed test has a p-value that is half of the two tailed p-value. If our hypothesis is greater than, then to reject, the test statistic must also be positive."
   ]
  },
  {
   "cell_type": "code",
   "execution_count": null,
   "metadata": {
    "Collapsed": "false"
   },
   "outputs": [],
   "source": [
    "# Your code here:\n",
    "\n",
    "# changing  name of one of the columns to avoid errors as there is a word 'or' in the tile of the column name 'Salary or Hourly'\n",
    "salaries_new = salaries.rename(columns={'Salary or Hourly': 'Salary'})\n",
    "# Filtering the Ploice Dapartment Annual Salary for all salaried employees\n",
    "police_data = salaries_new[(salaries_new.Department == 'POLICE') & (salaries_new.Salary == 'Salary')]['Annual Salary']\n",
    "police_data.mean() # Just to cross check later"
   ]
  },
  {
   "cell_type": "code",
   "execution_count": null,
   "metadata": {},
   "outputs": [],
   "source": [
    "# Ho: Salary this year are equal to $86000/year\n",
    "# H0: μ <  86000\n",
    "\n",
    "# Ha: Salary this year are higher than $86000/year\n",
    "# H1: μ >= 86000\n",
    "\n",
    "# for 95% confidence interval\n",
    "alpha = 0.05\n",
    "\n",
    "st, p = ttest_1samp(police_data, 86000)\n",
    "\n",
    "print('Statistic: ', st)\n",
    "print('\\np-value: ', p)\n",
    "\n",
    "if p <= alpha:\n",
    "    print(\"\\nNull hypothesis rejected\")\n",
    "    if st < 0:\n",
    "        print(\"\\nThe mean salary this year is less than $86000/year\")\n",
    "    else: \n",
    "        print(\"\\nThe mean salary this year is more than $86000/year\")\n",
    "else:\n",
    "    print(\"\\nNull hypothesis can't be rejected\")"
   ]
  },
  {
   "cell_type": "markdown",
   "metadata": {
    "Collapsed": "false"
   },
   "source": [
    "Using the `crosstab` function, find the department that has the most hourly workers. "
   ]
  },
  {
   "cell_type": "code",
   "execution_count": null,
   "metadata": {
    "Collapsed": "false"
   },
   "outputs": [],
   "source": [
    "# Your code here:\n",
    "\n",
    "department_hourly = pd.crosstab(salaries_new.Department, salaries_new.Salary)\n",
    "\n",
    "department_hourly.loc[department_hourly['Hourly'].argmax()]\n",
    "\n",
    "# A total of 1862 hourly workers are in STREETS & SAN department and that is the highest among all departments."
   ]
  },
  {
   "cell_type": "markdown",
   "metadata": {
    "Collapsed": "false"
   },
   "source": [
    "The workers from the department with the most hourly workers have complained that their hourly wage is less than $35/hour. Using a one sample t-test, test this one-sided hypothesis at the 95% confidence level."
   ]
  },
  {
   "cell_type": "code",
   "execution_count": null,
   "metadata": {
    "Collapsed": "false"
   },
   "outputs": [],
   "source": [
    "# Your code here:\n",
    "\n",
    "# Filtering STREETS & SAN department Hourly Salaried employees from the dataframe\n",
    "# salaries_new['Hourly Rate'] = salaries_new['Hourly Rate'].fillna(0)\n",
    "\n",
    "streets_san = salaries_new.loc[(salaries_new.Department == 'STREETS & SAN') & (salaries_new.Salary == 'Hourly')]['Hourly Rate']\n",
    "streets_san.dropna(axis=0)\n",
    "streets_san.mean()\n",
    "\n"
   ]
  },
  {
   "cell_type": "code",
   "execution_count": null,
   "metadata": {},
   "outputs": [],
   "source": [
    "# Ho: hourly wage is equal to $35/hour\n",
    "# H0: μ =  35\n",
    "\n",
    "# Ha: hourly wage is less than $35/hour\n",
    "# H1: μ < 35\n",
    "\n",
    "# for 95% confidence interval\n",
    "alpha = 0.05\n",
    "\n",
    "st, p = ttest_1samp(streets_san, 35)\n",
    "\n",
    "print('Statistic: ', st)\n",
    "print('\\np-value: ', p)\n",
    "\n",
    "\n",
    "if p <= alpha:\n",
    "    print(\"\\nNull hypothesis rejected\")\n",
    "    if st < 0:\n",
    "        print(\"\\nThe mean hourly wage is less than $35/hour\")\n",
    "    else: \n",
    "        print(\"\\nThe mean hourly wage is more than $35/hour\")\n",
    "else:\n",
    "    print(\"\\nNull hypothesis can't be rejected\")"
   ]
  },
  {
   "cell_type": "markdown",
   "metadata": {
    "Collapsed": "false"
   },
   "source": [
    "# Challenge 3: To practice - Constructing Confidence Intervals\n",
    "\n",
    "While testing our hypothesis is a great way to gather empirical evidence for accepting or rejecting the hypothesis, another way to gather evidence is by creating a confidence interval. A confidence interval gives us information about the true mean of the population. So for a 95% confidence interval, we are 95% sure that the mean of the population is within the confidence interval. \n",
    ").\n",
    "\n",
    "To read more about confidence intervals, click [here](https://en.wikipedia.org/wiki/Confidence_interval).\n",
    "\n",
    "\n",
    "In the cell below, we will construct a 95% confidence interval for the mean hourly wage of all hourly workers. \n",
    "\n",
    "The confidence interval is computed in SciPy using the `t.interval` function. You can read more about this function [here](https://docs.scipy.org/doc/scipy-0.14.0/reference/generated/scipy.stats.t.html).\n",
    "\n",
    "To compute the confidence interval of the hourly wage, use the 0.95 for the confidence level, number of rows - 1 for degrees of freedom, the mean of the sample for the location parameter and the standard error for the scale. The standard error can be computed using [this](https://docs.scipy.org/doc/scipy/reference/generated/scipy.stats.sem.html) function in SciPy."
   ]
  },
  {
   "cell_type": "code",
   "execution_count": null,
   "metadata": {
    "Collapsed": "false"
   },
   "outputs": [],
   "source": [
    "# Your code here:\n",
    "\n",
    "hourly_wage = salaries.loc[salaries['Salary or Hourly'] == 'Hourly']['Hourly Rate']\n",
    "hourly_wage.dropna(axis=0)\n",
    "hourly_wage.mean() # To cross check\n"
   ]
  },
  {
   "cell_type": "code",
   "execution_count": null,
   "metadata": {},
   "outputs": [],
   "source": [
    "degree_freedom = len(hourly_wage) - 1\n",
    "t = stats.t.interval(0.95, degree_freedom)[1]\n",
    "\n",
    "# Terms\n",
    "mean = np.mean(hourly_wage)\n",
    "std_sample = np.sqrt(abs(np.sum((hourly_wage - mean)**2) / (1-len(hourly_wage))))\n",
    "marg_of_error = std_sample / np.sqrt(len(hourly_wage))"
   ]
  },
  {
   "cell_type": "code",
   "execution_count": null,
   "metadata": {},
   "outputs": [],
   "source": [
    "con_int = [mean - (t * marg_of_error) , mean + (t * marg_of_error)]\n",
    "print('With 95% confidence, the true mean lies in the inverval:', con_int)"
   ]
  },
  {
   "cell_type": "markdown",
   "metadata": {
    "Collapsed": "false"
   },
   "source": [
    "Now construct the 95% confidence interval for all salaried employeed in the police in the cell below."
   ]
  },
  {
   "cell_type": "code",
   "execution_count": null,
   "metadata": {
    "Collapsed": "false"
   },
   "outputs": [],
   "source": [
    "# Your code here:\n",
    "# Filtering the Ploice Dapartment Annual Salary for all salaried employees\n",
    "police_data = salaries_new[(salaries_new.Department == 'POLICE') & (salaries_new.Salary == 'Salary')]['Annual Salary']\n",
    "police_data.mean() # Just to cross check later"
   ]
  },
  {
   "cell_type": "code",
   "execution_count": null,
   "metadata": {},
   "outputs": [],
   "source": [
    "degree_freedom = len(police_data) - 1\n",
    "t = stats.t.interval(0.95, degree_freedom)[1]\n",
    "\n",
    "# Terms\n",
    "mean = np.mean(police_data)\n",
    "std_sample = np.sqrt(abs(np.sum((police_data - mean)**2) / (1-len(police_data))))\n",
    "marg_of_error = std_sample / np.sqrt(len(police_data))"
   ]
  },
  {
   "cell_type": "code",
   "execution_count": null,
   "metadata": {},
   "outputs": [],
   "source": [
    "con_int = [mean - (t * marg_of_error) , mean + (t * marg_of_error)]\n",
    "print('With 95% confidence, the true mean lies in the inverval:', con_int)"
   ]
  },
  {
   "cell_type": "markdown",
   "metadata": {
    "Collapsed": "false"
   },
   "source": [
    "# Bonus Challenge - Hypothesis Tests of Proportions\n",
    "\n",
    "Another type of one sample test is a hypothesis test of proportions. In this test, we examine whether the proportion of a group in our sample is significantly different than a fraction. \n",
    "\n",
    "You can read more about one sample proportion tests [here](http://sphweb.bumc.bu.edu/otlt/MPH-Modules/BS/SAS/SAS6-CategoricalData/SAS6-CategoricalData2.html).\n",
    "\n",
    "In the cell below, use the `proportions_ztest` function from `statsmodels` to perform a hypothesis test that will determine whether the number of hourly workers in the City of Chicago is significantly different from 25% at the 95% confidence level."
   ]
  },
  {
   "cell_type": "code",
   "execution_count": null,
   "metadata": {},
   "outputs": [],
   "source": [
    "print(salaries['Salary or Hourly'].value_counts())\n",
    "print(len(salaries))"
   ]
  },
  {
   "cell_type": "code",
   "execution_count": null,
   "metadata": {},
   "outputs": [],
   "source": [
    "from statsmodels.stats.proportion import proportions_ztest\n",
    "\n",
    "# Ho: the number of hourly workers in the City of Chicago is equal to 25% of the total\n",
    "# H0: μ =  25\n",
    "\n",
    "# Ha: the number of hourly workers in the City of Chicago is more than 25% of the total\n",
    "# H1: μ > 25\n",
    "\n",
    "alpha = 0.05\n",
    "\n",
    "# nobs is the total number of trials, i.e. the number of rows in your list.\n",
    "nobs = len(salaries)\n",
    "\n",
    "# count is the number of successful trials, i.e. the number of Yes events in your list.\n",
    "count = 8022\n",
    "\n",
    "# value is the proportion to test against, i.e. 0.6 based on your question text.\n",
    "value = 0.25\n",
    "\n",
    "stat, pval = proportions_ztest(count, nobs, value)\n",
    "\n",
    "print(stat, pval)\n",
    "\n",
    "if pval <= alpha:\n",
    "    print(\"\\nNull hypothesis rejected\")\n",
    "    if stat < 0:\n",
    "        print(\"\\nthe number of hourly workers in the City of Chicago is less than 25% of the total\")\n",
    "    else: \n",
    "        print(\"\\nThe number of hourly workers in the City of Chicago is more than 25% of the total\")\n",
    "else:\n",
    "    print(\"\\nNull hypothesis can't be rejected\")\n",
    "    \n",
    "\n",
    "# Sreelatha: I dont think this is right. I am not sure if I understood the question correct. Could you please confirm Paolo?\n"
   ]
  }
 ],
 "metadata": {
  "kernelspec": {
   "display_name": "Python 3",
   "language": "python",
   "name": "python3"
  },
  "language_info": {
   "codemirror_mode": {
    "name": "ipython",
    "version": 3
   },
   "file_extension": ".py",
   "mimetype": "text/x-python",
   "name": "python",
   "nbconvert_exporter": "python",
   "pygments_lexer": "ipython3",
   "version": "3.7.4"
  }
 },
 "nbformat": 4,
 "nbformat_minor": 4
}
