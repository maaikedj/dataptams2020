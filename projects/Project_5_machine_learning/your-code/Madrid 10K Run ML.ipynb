{
 "cells": [
  {
   "cell_type": "markdown",
   "metadata": {
    "Collapsed": "false"
   },
   "source": [
    "## Madrid 10K Run"
   ]
  },
  {
   "cell_type": "markdown",
   "metadata": {
    "Collapsed": "false"
   },
   "source": [
    "#### Short presentation"
   ]
  },
  {
   "cell_type": "markdown",
   "metadata": {
    "Collapsed": "false"
   },
   "source": [
    "I am Eva Donaque and I am currently involved in the part-time data analytics course at Ironhack. I really enjoy to see the progress I have made in just a few months. It is even funny to see how things that seemed impossible at first can now even be considered a \"piece of cake\". Please have a look below at my data visualization project on the popular 10K race \"San Silvestre Vallecana\"."
   ]
  },
  {
   "cell_type": "markdown",
   "metadata": {
    "Collapsed": "false"
   },
   "source": [
    "#### Introduction"
   ]
  },
  {
   "cell_type": "markdown",
   "metadata": {
    "Collapsed": "false"
   },
   "source": [
    "Every December 31st the city of Madrid wakes up early to enjoy the last day of the year. What a better way to do so than with a 10K run? It's the perfect way to leave behind the previous year and kick start the new one with a strong foot (literally). The name of this race is \"San Silvestre Vallecana\" and for this project we will be using the data available from 2019. \n",
    "\n",
    "The \"San Silvestre Vallecana\" is ran by people from 16 to 88+ years old. Given the popularity of the run, the profiles of the runners vary. Some runners just do it for fun while others try to compete and beat personal records. \n",
    "\n",
    "The dataset contains information of all 23K participants including: id number, overall position of the runner, position of each runner in his/her category, category by age, gender, seconds passed at 2.5 km, 5 km, 7.5 km and 10 km. \n",
    "\n",
    "Please refer to the bottom of this notebook to find the Machine Learning section."
   ]
  },
  {
   "cell_type": "markdown",
   "metadata": {
    "Collapsed": "false"
   },
   "source": [
    "# Let's run it! (literally)"
   ]
  },
  {
   "cell_type": "markdown",
   "metadata": {
    "Collapsed": "false"
   },
   "source": [
    "Import all necessary libraries:"
   ]
  },
  {
   "cell_type": "code",
   "execution_count": null,
   "metadata": {
    "Collapsed": "false"
   },
   "outputs": [],
   "source": [
    "import pandas as pd\n",
    "import numpy as np\n",
    "import matplotlib.pyplot as plt\n",
    "import seaborn as sns\n",
    "%matplotlib inline\n",
    "import matplotlib.patches as patches"
   ]
  },
  {
   "cell_type": "markdown",
   "metadata": {
    "Collapsed": "false"
   },
   "source": [
    "Download the `madrid_10k` dataset from [here](https://drive.google.com/drive/folders/1GunsUDvEUbkKIfkdSBBDVWYSsOaPVWBM) and place it in the data folder.\n",
    "Load and save your dataset in a variable called `madrid_10k`."
   ]
  },
  {
   "cell_type": "code",
   "execution_count": null,
   "metadata": {
    "Collapsed": "false"
   },
   "outputs": [],
   "source": [
    "madrid_10k = pd.read_csv('../data/madrid_10k.csv')\n",
    "madrid_10k = madrid_10k.rename(columns=lambda x: x.strip()) \n",
    "madrid_10k"
   ]
  },
  {
   "cell_type": "markdown",
   "metadata": {
    "Collapsed": "false"
   },
   "source": [
    "Explore the madrid_10k dataset using Pandas dtypes and describe."
   ]
  },
  {
   "cell_type": "code",
   "execution_count": null,
   "metadata": {
    "Collapsed": "false"
   },
   "outputs": [],
   "source": [
    "madrid_10k.describe()"
   ]
  },
  {
   "cell_type": "code",
   "execution_count": null,
   "metadata": {
    "Collapsed": "false"
   },
   "outputs": [],
   "source": [
    "madrid_10k.dtypes"
   ]
  },
  {
   "cell_type": "markdown",
   "metadata": {
    "Collapsed": "false"
   },
   "source": [
    "Check for any missing values. "
   ]
  },
  {
   "cell_type": "code",
   "execution_count": null,
   "metadata": {
    "Collapsed": "false"
   },
   "outputs": [],
   "source": [
    "madrid_10k.isnull().sum()"
   ]
  },
  {
   "cell_type": "markdown",
   "metadata": {
    "Collapsed": "false"
   },
   "source": [
    "What to do with missing values?"
   ]
  },
  {
   "cell_type": "code",
   "execution_count": null,
   "metadata": {
    "Collapsed": "false"
   },
   "outputs": [],
   "source": [
    "madrid_10k = madrid_10k.dropna()\n",
    "madrid_10k\n",
    "#I decided to drop them since the amount of data that is missing accounts for 9.88%.\n",
    "#This is quite a low percentage that would likely not have a big impact \n",
    "#in the end results. "
   ]
  },
  {
   "cell_type": "markdown",
   "metadata": {
    "Collapsed": "false"
   },
   "source": [
    "What is the mean `total_seconds` of the whole run?"
   ]
  },
  {
   "cell_type": "code",
   "execution_count": null,
   "metadata": {
    "Collapsed": "false"
   },
   "outputs": [],
   "source": [
    "madrid_10k['total_seconds'].mean()"
   ]
  },
  {
   "cell_type": "markdown",
   "metadata": {
    "Collapsed": "false"
   },
   "source": [
    "What is the mean `total_seconds` by `sex`?"
   ]
  },
  {
   "cell_type": "code",
   "execution_count": null,
   "metadata": {
    "Collapsed": "false"
   },
   "outputs": [],
   "source": [
    "mean_sex=madrid_10k.groupby('sex')['total_seconds'].mean().reset_index()\n",
    "plt.subplots(figsize=(5,4))\n",
    "plt.bar(mean_sex['sex'],mean_sex['total_seconds'])\n",
    "plt.title('Average total seconds by sex')\n",
    "plt.xlabel('Sex')\n",
    "plt.ylabel('Average total seconds')\n",
    "plt.show()"
   ]
  },
  {
   "cell_type": "code",
   "execution_count": null,
   "metadata": {},
   "outputs": [],
   "source": [
    "number_sex=madrid_10k.groupby('sex')['id_number'].count().reset_index()\n",
    "plt.subplots(figsize=(5,4))\n",
    "plt.bar(number_sex['sex'],number_sex['id_number'])\n",
    "plt.title('Number of runners by sex')\n",
    "plt.xlabel('Sex')\n",
    "plt.ylabel('Total Runners')\n",
    "plt.show()"
   ]
  },
  {
   "cell_type": "code",
   "execution_count": null,
   "metadata": {},
   "outputs": [],
   "source": [
    "madrid_10k.groupby('sex')['id_number'].count()"
   ]
  },
  {
   "cell_type": "markdown",
   "metadata": {
    "Collapsed": "false"
   },
   "source": [
    "What is the mean `total_seconds` by `age_category`?"
   ]
  },
  {
   "cell_type": "code",
   "execution_count": null,
   "metadata": {
    "Collapsed": "false"
   },
   "outputs": [],
   "source": [
    "mean_age_category=madrid_10k.groupby('age_category')['total_seconds'].mean().reset_index()\n",
    "plt.subplots(figsize=(5,4))\n",
    "plt.bar(mean_age_category['age_category'],mean_age_category['total_seconds'])\n",
    "plt.title('Average total seconds by age category')\n",
    "plt.xlabel('Age Category')\n",
    "plt.ylabel('Average total seconds')\n",
    "plt.show()"
   ]
  },
  {
   "cell_type": "markdown",
   "metadata": {
    "Collapsed": "false"
   },
   "source": [
    "What is the mean `total_seconds` per `sex` and `age_category`? Make a bar chart."
   ]
  },
  {
   "cell_type": "code",
   "execution_count": null,
   "metadata": {
    "Collapsed": "false"
   },
   "outputs": [],
   "source": [
    "madrid_10k['age_category_number']=madrid_10k['age_category']\n",
    "madrid_10k['age_category_number'].replace(['16-19','20-22','23-34','35-44','45-54','55+'],[1,2,3,4,5,6], inplace=True)\n",
    "madrid_10k=madrid_10k.sort_values(['age_category_number']).reset_index(drop=True)\n",
    "sns.barplot(x='age_category', y='total_seconds', hue='sex', data=madrid_10k)\n",
    "plt.title('Total Seconds per Sex and Age Category')\n",
    "plt.xlabel('Age Category')\n",
    "plt.ylabel('Total Seconds')\n",
    "plt.show()"
   ]
  },
  {
   "cell_type": "markdown",
   "metadata": {
    "Collapsed": "false"
   },
   "source": [
    "What is the mean `total_seconds` per `sex` and `age_category`? Make a line chart."
   ]
  },
  {
   "cell_type": "code",
   "execution_count": null,
   "metadata": {
    "Collapsed": "false"
   },
   "outputs": [],
   "source": [
    "madrid_10k_pivot= madrid_10k.pivot_table(index='age_category',columns='sex',values='total_seconds',aggfunc='mean')\n",
    "madrid_10k_pivot.plot()\n",
    "plt.title('Comparison Age Category and Sex')\n",
    "plt.xlabel('Age Category')\n",
    "plt.ylabel('Total seconds')\n",
    "plt.show()"
   ]
  },
  {
   "cell_type": "markdown",
   "metadata": {
    "Collapsed": "false"
   },
   "source": [
    "Summary statistic of the `age_category`."
   ]
  },
  {
   "cell_type": "code",
   "execution_count": null,
   "metadata": {
    "Collapsed": "false"
   },
   "outputs": [],
   "source": [
    "pd.to_numeric(madrid_10k['age_category_number'], errors='coerce')\n",
    "sns.boxplot(x='age_category_number', data=madrid_10k)\n",
    "plt.title('Age Category Distribution')\n",
    "plt.xlabel('Age Category')\n",
    "plt.show()"
   ]
  },
  {
   "cell_type": "markdown",
   "metadata": {
    "Collapsed": "false"
   },
   "source": [
    "~~~~\n",
    "From this boxplot we get that the median Age Category is 4 which accounts for 35-44 years old.  \n",
    "Also we appreciate that most of the runners are within 23 and 54 years old. \n",
    "~~~~"
   ]
  },
  {
   "cell_type": "markdown",
   "metadata": {
    "Collapsed": "false"
   },
   "source": [
    "Distribution of `age_category`."
   ]
  },
  {
   "cell_type": "code",
   "execution_count": null,
   "metadata": {
    "Collapsed": "false"
   },
   "outputs": [],
   "source": [
    "sns.violinplot('age_category_number', data=madrid_10k)\n",
    "plt.title('Age Category Distribution')\n",
    "plt.xlabel('Age Category')\n",
    "plt.show()"
   ]
  },
  {
   "cell_type": "markdown",
   "metadata": {
    "Collapsed": "false"
   },
   "source": [
    "~~~~\n",
    "From this violinplot we see again the median (white dot) in category 4 (35-44). Also, we can appreciate the distribution of the data within the categories 3 to 5 which accounts for runners within 23 and 54 years old. \n",
    "~~~~"
   ]
  },
  {
   "cell_type": "markdown",
   "metadata": {
    "Collapsed": "false"
   },
   "source": [
    "Distribution of `age_category`."
   ]
  },
  {
   "cell_type": "code",
   "execution_count": null,
   "metadata": {
    "Collapsed": "false"
   },
   "outputs": [],
   "source": [
    "madrid_10k.hist('age_category_number')\n",
    "plt.title('Age Category Distribution')\n",
    "plt.xlabel('Age Category')\n",
    "plt.ylabel('Number of Runners')\n",
    "plt.show()"
   ]
  },
  {
   "cell_type": "markdown",
   "metadata": {
    "Collapsed": "false"
   },
   "source": [
    "Make a comparison between the 4 stages of the run. Does the average speed changes throguhtout the different milestones?"
   ]
  },
  {
   "cell_type": "code",
   "execution_count": null,
   "metadata": {
    "Collapsed": "false"
   },
   "outputs": [],
   "source": [
    "madrid_10k['seconds_5km']=madrid_10k['5km_seconds'] - madrid_10k['2.5km_seconds']\n",
    "madrid_10k['seconds_7.5km']=madrid_10k['7.5km_seconds'] - madrid_10k['5km_seconds']\n",
    "madrid_10k['seconds_10km']=madrid_10k['total_seconds'] - madrid_10k['7.5km_seconds']\n",
    "activity = madrid_10k[['2.5km_seconds','seconds_5km', 'seconds_7.5km','seconds_10km', 'place', 'sex']]\n",
    "activity\n",
    "# Create a figure of a fixed size and axes\n",
    "fig, axs = plt.subplots(1,4, figsize = (20,5))\n",
    "\n",
    "# Iterate to draw each scatter plot\n",
    "x=0\n",
    "for ax in axs:\n",
    "    ax = ax.scatter(activity['place'],activity.iloc[:,x])\n",
    "    axs[x].set_title(activity.columns[x])   \n",
    "    axs[x].set_xlabel('Place')   \n",
    "    axs[x].set_ylabel('Seconds')   \n",
    "    x+=1\n",
    "\n",
    "plt.show()"
   ]
  },
  {
   "cell_type": "markdown",
   "metadata": {
    "Collapsed": "false"
   },
   "source": [
    "~~~~\n",
    "From these scatter plots we can see that in the beggining of the run there was a tendency to go fast, however this went lower after passing the 2.5 km. Speed started increasing after passing the 5km and to end well, runners had a tendency to make a final sprint. \n",
    "~~~~"
   ]
  },
  {
   "cell_type": "markdown",
   "metadata": {
    "Collapsed": "false"
   },
   "source": [
    "How was the performance of the top 10 performers for every milestone?"
   ]
  },
  {
   "cell_type": "code",
   "execution_count": null,
   "metadata": {
    "Collapsed": "false"
   },
   "outputs": [],
   "source": [
    "madrid_10k.groupby('place')[['2.5km_seconds', 'seconds_5km', 'seconds_7.5km', 'seconds_10km','total_seconds']].agg('sum').nsmallest(9, 'total_seconds')[['2.5km_seconds', 'seconds_5km', 'seconds_7.5km', 'seconds_10km']].plot.barh()\n",
    "plt.title('Top 10 runners & number of seconds per milestone')\n",
    "plt.xlabel('Seconds per milestone')\n",
    "plt.ylabel('Place in the race')\n",
    "plt.show()"
   ]
  },
  {
   "cell_type": "markdown",
   "metadata": {
    "Collapsed": "false"
   },
   "source": [
    "~~~~\n",
    "From this barchart we can see that most runners kept a similar speed throught the first 3 milestones. However, all of them reduced their speed during the quarter of the run.  \n",
    "~~~~"
   ]
  },
  {
   "cell_type": "markdown",
   "metadata": {
    "Collapsed": "false"
   },
   "source": [
    "Within which `age_category` and `sex` where the top 10 performers of the run?"
   ]
  },
  {
   "cell_type": "code",
   "execution_count": null,
   "metadata": {
    "Collapsed": "false"
   },
   "outputs": [],
   "source": [
    "top_10=madrid_10k.sort_values('place').head(9)\n",
    "top_10"
   ]
  },
  {
   "cell_type": "code",
   "execution_count": null,
   "metadata": {
    "Collapsed": "false"
   },
   "outputs": [],
   "source": [
    "top_10_pivot= top_10.pivot_table(index='place',columns=['sex', 'age_category'],values='total_seconds')\n",
    "top_10_pivot.plot(kind='hist', figsize= (5,5))\n",
    "plt.title('Top 10 runners')\n",
    "plt.show()"
   ]
  },
  {
   "cell_type": "markdown",
   "metadata": {
    "Collapsed": "false"
   },
   "source": [
    "~~~~\n",
    "Top performers were all males and within 4 categories: 23-34, 35-44, 45-54, 20-22.\n",
    "~~~~"
   ]
  },
  {
   "cell_type": "markdown",
   "metadata": {},
   "source": [
    "# Machine Learning"
   ]
  },
  {
   "cell_type": "markdown",
   "metadata": {},
   "source": [
    "- Is it possible to build a model that can accurately predict the final result of a runner given his/her splits until the 7.5 km and his/her demographics? \n",
    "- Is it possible to build a model that can accurately predict whether the runner is a woman or a men?\n"
   ]
  },
  {
   "cell_type": "code",
   "execution_count": null,
   "metadata": {},
   "outputs": [],
   "source": [
    "#Request the right libraries and change categorical values into dummy ones\n",
    "from sklearn.model_selection import train_test_split\n",
    "from sklearn.linear_model import LinearRegression \n",
    "from sklearn.metrics import r2_score\n",
    "\n",
    "madrid_10k_fixed=madrid_10k"
   ]
  },
  {
   "cell_type": "code",
   "execution_count": null,
   "metadata": {},
   "outputs": [],
   "source": [
    "#Create 6 dummy variables for age_category \n",
    "age_category=['16-19','20-22','23-34','35-44','45-54', '55+']\n",
    "for x in age_category:\n",
    "    madrid_10k_fixed[x]=0\n",
    "madrid_10k_fixed"
   ]
  },
  {
   "cell_type": "code",
   "execution_count": null,
   "metadata": {},
   "outputs": [],
   "source": [
    "for x in age_category:\n",
    "    madrid_10k_fixed[x]=madrid_10k_fixed['age_category'].str.contains(x).astype(int)"
   ]
  },
  {
   "cell_type": "code",
   "execution_count": null,
   "metadata": {},
   "outputs": [],
   "source": [
    "#Create 1 dummy variable for sex\n",
    "sex=['M']\n",
    "for x in sex:\n",
    "    madrid_10k_fixed[x]=0\n",
    "for x in sex:\n",
    "    madrid_10k_fixed[x]=madrid_10k_fixed['sex'].str.contains(x).astype(int)\n",
    "madrid_10k_fixed"
   ]
  },
  {
   "cell_type": "code",
   "execution_count": null,
   "metadata": {},
   "outputs": [],
   "source": [
    "#Take total_seconds as dependent variable\n",
    "y=madrid_10k_fixed['total_seconds']\n",
    "X= madrid_10k_fixed[['16-19','20-22','23-34','35-44','45-54','55+','M', '2.5km_seconds', 'seconds_5km', 'seconds_7.5km']]"
   ]
  },
  {
   "cell_type": "code",
   "execution_count": null,
   "metadata": {},
   "outputs": [],
   "source": [
    "#Split the data with test size=0.2\n",
    "X_train, X_test, y_train, y_test = train_test_split(X, y, test_size=0.20)"
   ]
  },
  {
   "cell_type": "code",
   "execution_count": null,
   "metadata": {},
   "outputs": [],
   "source": [
    "#Run Linear Regression\n",
    "model = LinearRegression()"
   ]
  },
  {
   "cell_type": "code",
   "execution_count": null,
   "metadata": {},
   "outputs": [],
   "source": [
    "model.fit(X_train, y_train)\n",
    "model.score(X_test, y_test)"
   ]
  },
  {
   "cell_type": "code",
   "execution_count": null,
   "metadata": {},
   "outputs": [],
   "source": [
    "from math import sqrt\n",
    "from sklearn.metrics import mean_squared_error\n",
    "y_pred = model.predict(X_test)\n",
    "regression_error = y_pred - y_test\n",
    "print('R square of regression...',model.score(X_test,y_test))\n",
    "print('RMSE of regression...',sqrt(mean_squared_error(y_test, y_pred)))"
   ]
  },
  {
   "cell_type": "code",
   "execution_count": null,
   "metadata": {},
   "outputs": [],
   "source": [
    "sns.distplot(regression_error, np.linspace(-40,40,200), kde = False)\n",
    "plt.xlim([-40,40])\n",
    "plt.xlabel('Error in Seconds')\n",
    "plt.ylabel('Number of Runners')"
   ]
  },
  {
   "cell_type": "code",
   "execution_count": null,
   "metadata": {},
   "outputs": [],
   "source": [
    "pd.DataFrame({'test':y_test, 'predicted':y_pred})"
   ]
  },
  {
   "cell_type": "code",
   "execution_count": null,
   "metadata": {},
   "outputs": [],
   "source": [
    "df = pd.DataFrame({'test':y_test, 'predicted':y_pred})\n",
    "df = df.reset_index(drop=True)\n",
    "df = df.reset_index()\n",
    "data = pd.melt(df, id_vars=['index'], value_vars=['test', 'predicted'])"
   ]
  },
  {
   "cell_type": "code",
   "execution_count": null,
   "metadata": {},
   "outputs": [],
   "source": [
    "plt.figure(figsize=(50,10))\n",
    "sns.lineplot(x=\"index\", y=\"value\", hue=\"variable\", data=data)"
   ]
  },
  {
   "cell_type": "code",
   "execution_count": null,
   "metadata": {},
   "outputs": [],
   "source": [
    "#Run Decision Tree Regressor\n",
    "from sklearn.tree import DecisionTreeRegressor\n",
    "model = DecisionTreeRegressor()\n",
    "model.fit(X_train, y_train)\n",
    "model.score(X_test, y_test)"
   ]
  },
  {
   "cell_type": "code",
   "execution_count": null,
   "metadata": {},
   "outputs": [],
   "source": [
    "y_pred = model.predict(X_test)\n",
    "decision_tree_regression_error = y_pred - y_test\n",
    "print('R square of regression...',model.score(X_test,y_test))\n",
    "print('RMSE of regression...',sqrt(mean_squared_error(y_test, decision_tree_regression_error)))"
   ]
  },
  {
   "cell_type": "code",
   "execution_count": null,
   "metadata": {},
   "outputs": [],
   "source": [
    "sns.distplot(decision_tree_regression_error, np.linspace(-40,40,200), kde = False)\n",
    "plt.xlim([-40,40])\n",
    "plt.xlabel('Error in Seconds')\n",
    "plt.ylabel('Number of Runners')"
   ]
  },
  {
   "cell_type": "code",
   "execution_count": null,
   "metadata": {},
   "outputs": [],
   "source": [
    "pd.DataFrame({'test':y_test, 'predicted':y_pred})"
   ]
  },
  {
   "cell_type": "code",
   "execution_count": null,
   "metadata": {},
   "outputs": [],
   "source": [
    "df = pd.DataFrame({'test':y_test, 'predicted':y_pred})\n",
    "df = df.reset_index(drop=True)\n",
    "df = df.reset_index()\n",
    "data = pd.melt(df, id_vars=['index'], value_vars=['test', 'predicted'])"
   ]
  },
  {
   "cell_type": "code",
   "execution_count": null,
   "metadata": {},
   "outputs": [],
   "source": [
    "plt.figure(figsize=(50,10))\n",
    "sns.lineplot(x=\"index\", y=\"value\", hue=\"variable\", data=data)"
   ]
  },
  {
   "cell_type": "code",
   "execution_count": null,
   "metadata": {},
   "outputs": [],
   "source": [
    "#Comparison between Linear Regression and Decision Tree\n",
    "sns.distplot(regression_error, np.linspace(-40,40,200), kde = False)\n",
    "sns.distplot(decision_tree_regression_error,np.linspace(-40,40,200), kde = False)\n",
    "plt.xlabel('Error in seconds')\n",
    "plt.legend(['Linear Regression','Decision Tree'], loc = 2)"
   ]
  },
  {
   "cell_type": "code",
   "execution_count": null,
   "metadata": {},
   "outputs": [],
   "source": [
    "#Sex becomes the dependent variables\n",
    "y=madrid_10k_fixed['M']\n",
    "X= madrid_10k_fixed[['16-19','20-22','23-34','35-44','45-54','55+','2.5km_seconds', 'seconds_5km', 'seconds_7.5km', 'seconds_10km','total_seconds']]"
   ]
  },
  {
   "cell_type": "code",
   "execution_count": null,
   "metadata": {},
   "outputs": [],
   "source": [
    "X_train, X_test, y_train, y_test = train_test_split(X, y, test_size=0.20)\n"
   ]
  },
  {
   "cell_type": "code",
   "execution_count": null,
   "metadata": {},
   "outputs": [],
   "source": [
    "from sklearn.ensemble import RandomForestClassifier, GradientBoostingClassifier\n",
    "from sklearn.metrics import confusion_matrix, classification_report, roc_curve, auc"
   ]
  },
  {
   "cell_type": "code",
   "execution_count": null,
   "metadata": {},
   "outputs": [],
   "source": [
    "#Run Random Forest Classifier\n",
    "rfc = RandomForestClassifier(n_estimators=1000)\n",
    "rfc.fit(X_train,y_train)\n",
    "y_pred_rf = rfc.predict(X_test)\n",
    "y_score_rf = rfc.predict_proba(X_test)[:, 1]\n",
    "fpr_rf, tpr_rf, _ = roc_curve(y_test, y_score_rf)\n",
    "print('Random Forest ROC AUC', auc(fpr_rf, tpr_rf))\n",
    "print(classification_report(y_test, y_pred_rf, target_names=['Female','Male']))"
   ]
  },
  {
   "cell_type": "code",
   "execution_count": null,
   "metadata": {},
   "outputs": [],
   "source": [
    "#Run Gradient Boosting Classifier\n",
    "gbc = GradientBoostingClassifier(n_estimators=1000)\n",
    "gbc.fit(X_train,y_train)\n",
    "y_pred_gb = gbc.predict(X_test)\n",
    "y_score_gb = gbc.predict_proba(X_test)[:,1]\n",
    "fpr_gb, tpr_gb, _ = roc_curve(y_test, y_score_gb)\n",
    "print('Gradient Boosting ROC AUC', auc(fpr_gb, tpr_gb))\n",
    "print(classification_report(y_test, y_pred_gb, target_names=['Female','Male']))"
   ]
  },
  {
   "cell_type": "code",
   "execution_count": null,
   "metadata": {},
   "outputs": [],
   "source": [
    "#Comparison between Random Forest Classifier and Gradient Boosting Classifier\n",
    "fig, ax = plt.subplots()\n",
    "plt.plot([0, 1], [0, 1], 'k--')\n",
    "plt.plot(fpr_rf, tpr_rf, label='RF')\n",
    "plt.plot(fpr_gb, tpr_gb, label='GB')\n",
    "ax.set_aspect('equal')\n",
    "plt.legend()\n",
    "plt.show()"
   ]
  },
  {
   "cell_type": "markdown",
   "metadata": {
    "Collapsed": "false"
   },
   "source": [
    "# Conclusions"
   ]
  },
  {
   "attachments": {},
   "cell_type": "markdown",
   "metadata": {
    "Collapsed": "false"
   },
   "source": [
    "- The Linear Regression model gives the best results to predict Total Seconds.  There is a margin error of up to 40 seconds, which is quite low but could definitely make a difference in a short run. \n",
    "- Both analysis of the performance of runners relative to sex were quite accurate. Sex seems to be a factor that influences the final time of the race as shown in the distribution of total seconds per sex. Is important to bare in mind that the two machine learning models explored produced good results given the lack of features in the data.\n"
   ]
  }
 ],
 "metadata": {
  "hide_input": false,
  "kernelspec": {
   "display_name": "Python 3",
   "language": "python",
   "name": "python3"
  },
  "language_info": {
   "codemirror_mode": {
    "name": "ipython",
    "version": 3
   },
   "file_extension": ".py",
   "mimetype": "text/x-python",
   "name": "python",
   "nbconvert_exporter": "python",
   "pygments_lexer": "ipython3",
   "version": "3.7.6"
  },
  "latex_envs": {
   "LaTeX_envs_menu_present": true,
   "autoclose": false,
   "autocomplete": true,
   "bibliofile": "biblio.bib",
   "cite_by": "apalike",
   "current_citInitial": 1,
   "eqLabelWithNumbers": true,
   "eqNumInitial": 1,
   "hotkeys": {
    "equation": "Ctrl-E",
    "itemize": "Ctrl-I"
   },
   "labels_anchors": false,
   "latex_user_defs": false,
   "report_style_numbering": false,
   "user_envs_cfg": false
  },
  "toc": {
   "base_numbering": 1,
   "nav_menu": {},
   "number_sections": true,
   "sideBar": true,
   "skip_h1_title": false,
   "title_cell": "Table of Contents",
   "title_sidebar": "Contents",
   "toc_cell": false,
   "toc_position": {},
   "toc_section_display": true,
   "toc_window_display": false
  }
 },
 "nbformat": 4,
 "nbformat_minor": 4
}
